{
 "cells": [
  {
   "cell_type": "markdown",
   "metadata": {},
   "source": [
    "### Undersampling datasets"
   ]
  },
  {
   "cell_type": "code",
   "execution_count": 1,
   "metadata": {},
   "outputs": [],
   "source": [
    "import pandas as pd\n",
    "from sklearn.model_selection import train_test_split\n",
    "import os"
   ]
  },
  {
   "cell_type": "code",
   "execution_count": 2,
   "metadata": {},
   "outputs": [],
   "source": [
    "def undersampling_and_split(import_folder, export_path):\n",
    "    '''takes in a csv file containing mixed-sourced news articles related to a particular economic indicator, \n",
    "    performs undersampling on the train_set to make all labels have similar number of examples, \n",
    "    export the undersampled train, dev, and test csvfile. '''\n",
    "    \n",
    "    df = pd.read_csv(import_folder)\n",
    "    df_non_zero = df[df['title_desc_sent_1'] != 0]\n",
    "    numof_min_class_bet_pos_neg = df_non_zero['title_desc_sent_1'].value_counts().min()\n",
    "    \n",
    "    df_zero = df[df['title_desc_sent_1'] == 0].sample(numof_min_class_bet_pos_neg - 1)\n",
    "    concat_df = pd.concat([df_non_zero, df_zero])\n",
    "    print(concat_df['title_desc_sent_1'].value_counts())\n",
    "    \n",
    "    train, test = train_test_split(concat_df, test_size=0.15, random_state=42)\n",
    "    \n",
    "    train.to_csv(export_path + 'train.csv')\n",
    "    test.to_csv(export_path + 'dev.csv')\n",
    "    test.to_csv(export_path + 'test.csv')\n",
    "    \n"
   ]
  },
  {
   "cell_type": "code",
   "execution_count": 3,
   "metadata": {},
   "outputs": [
    {
     "data": {
      "text/plain": [
       "-1    55\n",
       " 0    43\n",
       " 1    32\n",
       "Name: title_desc_sent_1, dtype: int64"
      ]
     },
     "execution_count": 3,
     "metadata": {},
     "output_type": "execute_result"
    }
   ],
   "source": [
    "gdp_df = pd.read_csv('annotated_GDP_bnn&CBC.csv')\n",
    "gdp_df['title_desc_sent_1'].value_counts()"
   ]
  },
  {
   "cell_type": "code",
   "execution_count": 4,
   "metadata": {},
   "outputs": [
    {
     "data": {
      "text/plain": [
       " 0    69\n",
       "-1    37\n",
       " 1    19\n",
       "Name: title_desc_sent_1, dtype: int64"
      ]
     },
     "execution_count": 4,
     "metadata": {},
     "output_type": "execute_result"
    }
   ],
   "source": [
    "mr_df = pd.read_csv('annotated_mortgage_rate_bnn&CBC.csv')\n",
    "mr_df['title_desc_sent_1'].value_counts()"
   ]
  },
  {
   "cell_type": "code",
   "execution_count": 3,
   "metadata": {},
   "outputs": [
    {
     "name": "stdout",
     "output_type": "stream",
     "text": [
      "-1    55\n",
      " 1    32\n",
      " 0    31\n",
      "Name: title_desc_sent_1, dtype: int64\n"
     ]
    }
   ],
   "source": [
    "undersampling_and_split('annotated_GDP_bnn&CBC.csv', 'undersampled/GDP/')"
   ]
  },
  {
   "cell_type": "code",
   "execution_count": 4,
   "metadata": {},
   "outputs": [
    {
     "name": "stdout",
     "output_type": "stream",
     "text": [
      "-1    29\n",
      " 1    28\n",
      " 0    27\n",
      "Name: title_desc_sent_1, dtype: int64\n"
     ]
    }
   ],
   "source": [
    "undersampling_and_split('annotated_housing_bnn&CBC.csv', 'undersampled/housing/')"
   ]
  },
  {
   "cell_type": "code",
   "execution_count": 5,
   "metadata": {},
   "outputs": [
    {
     "name": "stdout",
     "output_type": "stream",
     "text": [
      "-1    38\n",
      " 1    11\n",
      " 0    10\n",
      "Name: title_desc_sent_1, dtype: int64\n"
     ]
    }
   ],
   "source": [
    "undersampling_and_split('annotated_interest_rate_bnn&CBC.csv', 'undersampled/interest_rates/')"
   ]
  },
  {
   "cell_type": "code",
   "execution_count": 6,
   "metadata": {},
   "outputs": [
    {
     "name": "stdout",
     "output_type": "stream",
     "text": [
      "-1    37\n",
      " 1    19\n",
      " 0    18\n",
      "Name: title_desc_sent_1, dtype: int64\n"
     ]
    }
   ],
   "source": [
    "undersampling_and_split('annotated_mortgage_rate_bnn&CBC.csv', 'undersampled/mortgage_rates/')"
   ]
  },
  {
   "cell_type": "code",
   "execution_count": 7,
   "metadata": {},
   "outputs": [
    {
     "name": "stdout",
     "output_type": "stream",
     "text": [
      "-1    30\n",
      " 1    20\n",
      " 0    19\n",
      "Name: title_desc_sent_1, dtype: int64\n"
     ]
    }
   ],
   "source": [
    "undersampling_and_split('annotated_employment_bnn&CBC.csv', 'undersampled/employment/')"
   ]
  }
 ],
 "metadata": {
  "kernelspec": {
   "display_name": "Python 3",
   "language": "python",
   "name": "python3"
  },
  "language_info": {
   "codemirror_mode": {
    "name": "ipython",
    "version": 3
   },
   "file_extension": ".py",
   "mimetype": "text/x-python",
   "name": "python",
   "nbconvert_exporter": "python",
   "pygments_lexer": "ipython3",
   "version": "3.7.4"
  }
 },
 "nbformat": 4,
 "nbformat_minor": 2
}
