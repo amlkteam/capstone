{
 "cells": [
  {
   "cell_type": "code",
   "execution_count": 1,
   "metadata": {},
   "outputs": [
    {
     "name": "stdout",
     "output_type": "stream",
     "text": [
      "The file: /non existentnon_existent_file.json does not exist\n",
      "From convert_json_to_df(): Could not convert the json file to dataframe\n",
      "From preprocess_df(): Check the dataframe object and column names\n"
     ]
    }
   ],
   "source": [
    "import utility_main\n",
    "import pandas as pd\n",
    "import urllib.request\n",
    "import json \n",
    "from bs4 import BeautifulSoup\n",
    "import requests\n",
    "import json\n",
    "from urllib.request import Request, urlopen\n",
    "from urllib.error import URLError, HTTPError\n",
    "from datetime import datetime, timedelta, date\n",
    "import pytz\n",
    "import dateutil.parser\n",
    "from collections import defaultdict\n",
    "import random\n",
    "import json\n",
    "import csv\n",
    "from dateutil.parser import parse\n",
    "import os\n",
    "import datetime"
   ]
  },
  {
   "cell_type": "code",
   "execution_count": 5,
   "metadata": {},
   "outputs": [
    {
     "name": "stdout",
     "output_type": "stream",
     "text": [
      "Reading json file : /Users/nagasiri/Desktop/NagaSiri/MDS-CL/Capstone/better_dwelling_capstone/project/data_extraction/data/unannotated_data/CBC/mortgagerates_CBC_article.json\n",
      "\n",
      "Sample file generated at:  /Users/nagasiri/Desktop/NagaSiri/MDS-CL/Capstone/better_dwelling_capstone/project/data_extraction/data/annotated_data/cbc/mortgagerates_sample.csv \n",
      "\n",
      "Predictions file generated at : /Users/nagasiri/Desktop/NagaSiri/MDS-CL/Capstone/better_dwelling_capstone/project/sentiment_analyzer/data/predictions_data/cbc/predictions_dataset_mortgagerates_cbc.csv\n",
      "Sample and predictions ready \n",
      "\n"
     ]
    }
   ],
   "source": [
    "def cbc_sampling_wrapper(economic_indicator,project_path, column_names_list, sample_size,source_string = \"cbc\", remove_Nans = True):\n",
    "    \"\"\"This function creates a sample from a given file  of json \n",
    "    Input:\n",
    "    ------\n",
    "    economic_indicator: The economic indicator\n",
    "    project_path: The path of the project\n",
    "    json_file_path: The path tto the file which has the article jsons\n",
    "    column_names_list: The list of column names to retain in the final sampled file\n",
    "    sample_size: The number of articles to sample per month in any year\n",
    "    source_string: The source (CBC/Bloomberg)\"\"\"\n",
    "    try:\n",
    "        json_file_path =  \"data_extraction/data/unannotated_data/\" + source_string.upper() + \"/\" +  economic_indicator + \"_\" + source_string.upper() + \"_article.json\"\n",
    "        print(\"Reading json file :\", project_path + json_file_path + \"\\n\")\n",
    "        \n",
    "        df = utility_main.convert_json_to_df(project_path, json_file_path)\n",
    "        preprocessed_df = utility_main.preprocess_df(df,column_names_list)\n",
    "        preprocessed_df[\"source\"] = source_string\n",
    "        preprocessed_df = utility_main.apply_lambda(preprocessed_df,'publishedAt' ,\"lambda x: x[1]\")\n",
    "        \n",
    "        sampled_df = utility_main.sample_dataframe_by_month(preprocessed_df, sample_size)\n",
    "        sampled_df = utility_main.apply_lambda(sampled_df,'publishedAt',\"lambda x: dateutil.parser.isoparse(x).date()\")\n",
    "        \n",
    "        # Write sampled dataframe to data_extraction/data/annotated_data/<source>/<econimc_indicator_sample.csv>\n",
    "        output_file_path = \"data_extraction/data/annotated_data/\"  + source_string + \"/\"\n",
    "        utility_main.write_df_to_csv(sampled_df,project_path,output_file_path,economic_indicator+\"_sample.csv\")\n",
    "        \n",
    "        if utility_main.file_exists(project_path + output_file_path +economic_indicator+\"_sample.csv\"):\n",
    "            print(\"Sample file generated at: \", project_path + output_file_path +economic_indicator+\"_sample.csv \\n\")\n",
    "            x = utility_main.get_unannotated_data(preprocessed_df, sampled_df, economic_indicator, source_string, project_path)\n",
    "            if x == True:\n",
    "                print(\"Sample and predictions ready \\n\")\n",
    "                return True\n",
    "            else:\n",
    "                print(\"Failed to generate predictions file\")\n",
    "                return False\n",
    "        else:\n",
    "            print(\"Something went wrong\")\n",
    "    except:\n",
    "        print(\"Could not successfully sample the data\")\n",
    "        return False\n",
    "    \n",
    "project_path = \"/Users/nagasiri/Desktop/NagaSiri/MDS-CL/Capstone/better_dwelling_capstone/project/\"\n",
    "c = cbc_sampling_wrapper(\"mortgagerates\",project_path,['title', 'description','publishedAt'], 2)"
   ]
  },
  {
   "cell_type": "code",
   "execution_count": 3,
   "metadata": {},
   "outputs": [
    {
     "name": "stdout",
     "output_type": "stream",
     "text": [
      "Total articles retrieved:  112\n",
      "Outputted filtered articles to predict to file : /Users/nagasiri/Desktop/NagaSiri/MDS-CL/Capstone/better_dwelling_capstone/project/sentiment_analyzer/data/predictions_data/cbc/predictions_dataset_mortgagerates_cbc.csv\n"
     ]
    }
   ],
   "source": [
    "project_path = \"/Users/nagasiri/Desktop/NagaSiri/MDS-CL/Capstone/better_dwelling_capstone/project/\"\n",
    "utility_main.get_keyword_df(\"mortgagerates\",project_path, [\"mortgage\", \"rent\", \"housing\", \"interest\"], \"predictions_dataset_mortgagerates_cbc.csv\", \"cbc\")"
   ]
  },
  {
   "cell_type": "code",
   "execution_count": 4,
   "metadata": {},
   "outputs": [
    {
     "name": "stdout",
     "output_type": "stream",
     "text": [
      "Reading json file : /Users/nagasiri/Desktop/NagaSiri/MDS-CL/Capstone/data_extraction/data/unannotated_data/CBC/mortgagerates_CBC_article.json\n",
      "\n",
      "The file: /Users/nagasiri/Desktop/NagaSiri/MDS-CL/Capstone/data_extraction/data/unannotated_data/CBC/mortgagerates_CBC_article.json does not exist\n",
      "From convert_json_to_df(): Could not convert the json file to dataframe\n",
      "From preprocess_df(): Check the dataframe object and column names\n",
      "Could not successfully sample the data\n",
      "Reading json file : /Users/nagasiri/Desktop/NagaSiri/MDS-CL/Capstone/better_dwelling_capstone/project/data_extraction/data/unannotated_data/CBC/mortgagerates_CBC_article.json\n",
      "\n",
      "From preprocess_df(): Check the dataframe object and column names\n",
      "Could not successfully sample the data\n",
      "Reading json file : /Users/nagasiri/Desktop/NagaSiri/MDS-CL/Capstone/better_dwelling_capstone/project/data_extraction/data/unannotated_data/CBC/mortgagerates_CBC_article.json\n",
      "\n",
      "Sample size should be greater than 0\n",
      "Cannot apply lambda function\n",
      "Could not successfully sample the data\n"
     ]
    }
   ],
   "source": [
    "def unit_tests():\n",
    "    # Testing with wrong project path\n",
    "    project_path = \"/Users/nagasiri/Desktop/NagaSiri/MDS-CL/Capstone/\"\n",
    "    rt = cbc_sampling_wrapper(\"mortgagerates\",project_path,['title', 'description','publishedAt'], 2,\"cbc\")\n",
    "    assert rt == False, \"function shouls return False if wrong file path/name is given\"\n",
    "    \n",
    "    # Testing with wrong column names\n",
    "    project_path = \"/Users/nagasiri/Desktop/NagaSiri/MDS-CL/Capstone/better_dwelling_capstone/project/\"\n",
    "    rt = cbc_sampling_wrapper(\"mortgagerates\",project_path,['xts', 'description','publishedAt'], 2,\"cbc\")\n",
    "    \n",
    "    # Give wrong sample size\n",
    "    project_path = \"/Users/nagasiri/Desktop/NagaSiri/MDS-CL/Capstone/better_dwelling_capstone/project/\"\n",
    "    rt = cbc_sampling_wrapper(\"mortgagerates\",project_path,['title', 'description','publishedAt'], 0,\"cbc\")\n",
    "    \n",
    "\n",
    "unit_tests()"
   ]
  }
 ],
 "metadata": {
  "kernelspec": {
   "display_name": "Python 3",
   "language": "python",
   "name": "python3"
  },
  "language_info": {
   "codemirror_mode": {
    "name": "ipython",
    "version": 3
   },
   "file_extension": ".py",
   "mimetype": "text/x-python",
   "name": "python",
   "nbconvert_exporter": "python",
   "pygments_lexer": "ipython3",
   "version": "3.7.3"
  }
 },
 "nbformat": 4,
 "nbformat_minor": 2
}
