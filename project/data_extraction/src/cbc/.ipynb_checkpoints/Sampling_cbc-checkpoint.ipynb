{
 "cells": [
  {
   "cell_type": "code",
   "execution_count": 395,
   "metadata": {},
   "outputs": [],
   "source": [
    "import utility\n",
    "import pandas as pd\n",
    "import urllib.request\n",
    "import json \n",
    "from bs4 import BeautifulSoup\n",
    "import requests\n",
    "import json\n",
    "from urllib.request import Request, urlopen\n",
    "from urllib.error import URLError, HTTPError\n",
    "from datetime import datetime, timedelta, date\n",
    "import pytz\n",
    "import dateutil.parser\n",
    "from collections import defaultdict\n",
    "import random\n",
    "import json\n",
    "import csv\n",
    "from dateutil.parser import parse\n",
    "import os\n",
    "import datetime"
   ]
  },
  {
   "cell_type": "code",
   "execution_count": 396,
   "metadata": {},
   "outputs": [],
   "source": [
    "def get_unannotated_data(combined_df, annotated_df, indicator, source, project_path):\n",
    "    '''get unannotated data (remove annotated data from all the articles that are collected)'''\n",
    "\n",
    "    total = combined_df\n",
    "    drop_list = annotated_df.index.values.tolist()\n",
    "    total = total.drop(drop_list)\n",
    "    total['title_desc'] = total['title'] + '. ' + total['description']\n",
    "    total = total[['source', 'title_desc', 'publishedAt']]\n",
    "    total = total.drop_duplicates(subset='title_desc', keep='first' )\n",
    "    \n",
    "    prediction_file_path =  \"sentiment_analyzer/data/predictions_data/\"\n",
    "    \n",
    "    if utility.check_dir_exists(project_path +prediction_file_path + source):\n",
    "        try:\n",
    "            prediction_file_path_with_source = prediction_file_path + source + \"/\"\n",
    "            prediction_file_name = \"predictions_dataset_\" + indicator + \"_\" + source + '.csv'\n",
    "            write_df_to_csv(total,project_path,prediction_file_path_with_source,prediction_file_name)\n",
    "        except:\n",
    "            print(\"unable to write to file \\n\")\n",
    "            return False\n",
    "        \n",
    "    if utility.file_exists(project_path+prediction_file_path_with_source+prediction_file_name):\n",
    "        return True\n",
    "    else:\n",
    "        print(\"Final directory is not created \\n\")\n",
    "        return False\n"
   ]
  },
  {
   "cell_type": "code",
   "execution_count": 397,
   "metadata": {},
   "outputs": [],
   "source": [
    "\n",
    "def write_df_to_csv(df,project_path,file_path,file_name):\n",
    "    \"\"\"Takes a dataframe and writes to a file\"\"\"\n",
    "    if os.path.isdir(project_path+file_path):\n",
    "        df.to_csv(project_path+file_path+file_name, encoding='utf-8', index=False)\n",
    "        print(project_path+file_path+file_name, \"successfully written \\n\")\n",
    "    else:\n",
    "        print(\"Path does not exist:\", project_path+file_path + \"\\n\")\n",
    "        return None"
   ]
  },
  {
   "cell_type": "code",
   "execution_count": 398,
   "metadata": {},
   "outputs": [
    {
     "name": "stdout",
     "output_type": "stream",
     "text": [
      "Reading json file : /Users/nagasiri/Desktop/NagaSiri/MDS-CL/Capstone/better_dwelling_capstone/project/data_extraction/data/unannotated_data/CBC/mortgagerates_CBC_article.json\n",
      "\n",
      "/Users/nagasiri/Desktop/NagaSiri/MDS-CL/Capstone/better_dwelling_capstone/project/data_extraction/data/annotated_data/cbc/mortgagerates_sample.csv successfully written \n",
      "\n",
      "/Users/nagasiri/Desktop/NagaSiri/MDS-CL/Capstone/better_dwelling_capstone/project/sentiment_analyzer/data/predictions_data/cbc/predictions_dataset_mortgagerates_cbc.csv successfully written \n",
      "\n",
      "Sample and predictions ready \n",
      "\n"
     ]
    }
   ],
   "source": [
    "def cbc_sampling_wrapper(economic_indicator,project_path, column_names_list, sample_size,source_string, remove_Nans = True):\n",
    "    \"\"\"This function creates a sample from a given file  of json \n",
    "    Input:\n",
    "    ------\n",
    "    economic_indicator: The economic indicator\n",
    "    project_path: The path of the project\n",
    "    json_file_path: The path tto the file which has the article jsons\n",
    "    column_names_list: The list of column names to retain in the final sampled file\n",
    "    sample_size: The number of articles to sample per month in any year\n",
    "    source_string: The source (CBC/Bloomberg)\"\"\"\n",
    "    try:\n",
    "        json_file_path =  \"data_extraction/data/unannotated_data/\" + source_string.upper() + \"/\" +  economic_indicator + \"_\" + source_string.upper() + \"_article.json\"\n",
    "        print(\"Reading json file :\", project_path + json_file_path + \"\\n\")\n",
    "        \n",
    "        df = utility.convert_json_to_df(project_path, json_file_path)\n",
    "        \n",
    "        preprocessed_df = utility.preprocess_df(df,column_names_list)\n",
    "        preprocessed_df[\"source\"] = source_string\n",
    "        preprocessed_df = utility.apply_lambda(preprocessed_df,'publishedAt' ,\"lambda x: x[1]\")\n",
    "        \n",
    "        sampled_df = utility.sample_dataframe_by_month(preprocessed_df, sample_size)\n",
    "        sampled_df = utility.apply_lambda(sampled_df,'publishedAt',\"lambda x: dateutil.parser.isoparse(x).date()\")\n",
    "        \n",
    "        # Write sampled dataframe to a different file in a different path\n",
    "        output_file_path = \"data_extraction/data/annotated_data/\"  + source_string + \"/\"\n",
    "        write_df_to_csv(sampled_df,project_path,output_file_path,economic_indicator+\"_sample.csv\")\n",
    "        \n",
    "        if utility.check_dir_exists(project_path + output_file_path +economic_indicator+\"_sample.csv\"):\n",
    "            get_unannotated_data(preprocessed_df, sampled_df, economic_indicator, source_string, project_path)\n",
    "            print(\"Sample and predictions ready \\n\")\n",
    "            return True\n",
    "        else:\n",
    "            print(\"Something went wrong\")\n",
    "    except:\n",
    "        print(\"Could not successfully sample the data\")\n",
    "        return False\n",
    "    \n",
    "project_path = \"/Users/nagasiri/Desktop/NagaSiri/MDS-CL/Capstone/better_dwelling_capstone/project/\"\n",
    "c = cbc_sampling_wrapper(\"mortgagerates\",project_path,['title', 'description','publishedAt'], 2,\"cbc\")"
   ]
  },
  {
   "cell_type": "code",
   "execution_count": null,
   "metadata": {},
   "outputs": [],
   "source": []
  }
 ],
 "metadata": {
  "kernelspec": {
   "display_name": "Python 3",
   "language": "python",
   "name": "python3"
  },
  "language_info": {
   "codemirror_mode": {
    "name": "ipython",
    "version": 3
   },
   "file_extension": ".py",
   "mimetype": "text/x-python",
   "name": "python",
   "nbconvert_exporter": "python",
   "pygments_lexer": "ipython3",
   "version": "3.7.3"
  }
 },
 "nbformat": 4,
 "nbformat_minor": 2
}
