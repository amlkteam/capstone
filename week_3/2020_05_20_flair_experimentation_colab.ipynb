{
  "nbformat": 4,
  "nbformat_minor": 0,
  "metadata": {
    "kernelspec": {
      "display_name": "Python 3",
      "language": "python",
      "name": "python3"
    },
    "language_info": {
      "codemirror_mode": {
        "name": "ipython",
        "version": 3
      },
      "file_extension": ".py",
      "mimetype": "text/x-python",
      "name": "python",
      "nbconvert_exporter": "python",
      "pygments_lexer": "ipython3",
      "version": "3.7.3"
    },
    "colab": {
      "name": "2020-05-20_flair_experimentation_colab.ipynb",
      "provenance": [],
      "collapsed_sections": [],
      "toc_visible": true
    },
    "accelerator": "GPU"
  },
  "cells": [
    {
      "cell_type": "code",
      "metadata": {
        "id": "DFx24Qwyfkbi",
        "colab_type": "code",
        "colab": {}
      },
      "source": [
        "### INITIAL FLAIR TRAINING - MORTGAGE RATES\n",
        "### Authors: JONATHAN CHAN \n",
        "\n",
        "###MOST RECENT UPDATE:  \n",
        "##2020 MAY 20, 9:19PM\n",
        "#got code working Google Colab\n",
        "#initial 2 phase training experiment completed\n",
        "\n",
        "#TO DO:\n",
        "#convert labels of kaggle dataset to 1, -1, 0 instead of 'positive', 'negative', 'neutral'"
      ],
      "execution_count": 0,
      "outputs": []
    },
    {
      "cell_type": "markdown",
      "metadata": {
        "id": "nBnD8lRxgELU",
        "colab_type": "text"
      },
      "source": [
        "\n"
      ]
    },
    {
      "cell_type": "code",
      "metadata": {
        "id": "2dPO2EeQVYIA",
        "colab_type": "code",
        "outputId": "3f364667-3602-457c-9af7-15ee85f9213d",
        "colab": {
          "base_uri": "https://localhost:8080/",
          "height": 1000
        }
      },
      "source": [
        "!pip install flair"
      ],
      "execution_count": 2,
      "outputs": [
        {
          "output_type": "stream",
          "text": [
            "Collecting flair\n",
            "\u001b[?25l  Downloading https://files.pythonhosted.org/packages/03/29/81e3c9a829ec50857c23d82560941625f6b42ce76ee7c56ea9529e959d18/flair-0.4.5-py3-none-any.whl (136kB)\n",
            "\r\u001b[K     |██▍                             | 10kB 27.2MB/s eta 0:00:01\r\u001b[K     |████▉                           | 20kB 34.0MB/s eta 0:00:01\r\u001b[K     |███████▏                        | 30kB 38.5MB/s eta 0:00:01\r\u001b[K     |█████████▋                      | 40kB 41.4MB/s eta 0:00:01\r\u001b[K     |████████████                    | 51kB 41.7MB/s eta 0:00:01\r\u001b[K     |██████████████▍                 | 61kB 43.5MB/s eta 0:00:01\r\u001b[K     |████████████████▉               | 71kB 36.2MB/s eta 0:00:01\r\u001b[K     |███████████████████▏            | 81kB 32.4MB/s eta 0:00:01\r\u001b[K     |█████████████████████▋          | 92kB 33.6MB/s eta 0:00:01\r\u001b[K     |████████████████████████        | 102kB 35.0MB/s eta 0:00:01\r\u001b[K     |██████████████████████████▍     | 112kB 35.0MB/s eta 0:00:01\r\u001b[K     |████████████████████████████▊   | 122kB 35.0MB/s eta 0:00:01\r\u001b[K     |███████████████████████████████▏| 133kB 35.0MB/s eta 0:00:01\r\u001b[K     |████████████████████████████████| 143kB 35.0MB/s \n",
            "\u001b[?25hRequirement already satisfied: torch>=1.1.0 in /usr/local/lib/python3.6/dist-packages (from flair) (1.5.0+cu101)\n",
            "Requirement already satisfied: tabulate in /usr/local/lib/python3.6/dist-packages (from flair) (0.8.7)\n",
            "Requirement already satisfied: python-dateutil>=2.6.1 in /usr/local/lib/python3.6/dist-packages (from flair) (2.8.1)\n",
            "Collecting langdetect\n",
            "\u001b[?25l  Downloading https://files.pythonhosted.org/packages/56/a3/8407c1e62d5980188b4acc45ef3d94b933d14a2ebc9ef3505f22cf772570/langdetect-1.0.8.tar.gz (981kB)\n",
            "\r\u001b[K     |▍                               | 10kB 30.7MB/s eta 0:00:01\r\u001b[K     |▊                               | 20kB 38.5MB/s eta 0:00:01\r\u001b[K     |█                               | 30kB 44.2MB/s eta 0:00:01\r\u001b[K     |█▍                              | 40kB 49.0MB/s eta 0:00:01\r\u001b[K     |█▊                              | 51kB 48.6MB/s eta 0:00:01\r\u001b[K     |██                              | 61kB 47.4MB/s eta 0:00:01\r\u001b[K     |██▍                             | 71kB 45.8MB/s eta 0:00:01\r\u001b[K     |██▊                             | 81kB 45.7MB/s eta 0:00:01\r\u001b[K     |███                             | 92kB 45.9MB/s eta 0:00:01\r\u001b[K     |███▍                            | 102kB 46.7MB/s eta 0:00:01\r\u001b[K     |███▊                            | 112kB 46.7MB/s eta 0:00:01\r\u001b[K     |████                            | 122kB 46.7MB/s eta 0:00:01\r\u001b[K     |████▍                           | 133kB 46.7MB/s eta 0:00:01\r\u001b[K     |████▊                           | 143kB 46.7MB/s eta 0:00:01\r\u001b[K     |█████                           | 153kB 46.7MB/s eta 0:00:01\r\u001b[K     |█████▍                          | 163kB 46.7MB/s eta 0:00:01\r\u001b[K     |█████▊                          | 174kB 46.7MB/s eta 0:00:01\r\u001b[K     |██████                          | 184kB 46.7MB/s eta 0:00:01\r\u001b[K     |██████▍                         | 194kB 46.7MB/s eta 0:00:01\r\u001b[K     |██████▊                         | 204kB 46.7MB/s eta 0:00:01\r\u001b[K     |███████                         | 215kB 46.7MB/s eta 0:00:01\r\u001b[K     |███████▍                        | 225kB 46.7MB/s eta 0:00:01\r\u001b[K     |███████▊                        | 235kB 46.7MB/s eta 0:00:01\r\u001b[K     |████████                        | 245kB 46.7MB/s eta 0:00:01\r\u001b[K     |████████▍                       | 256kB 46.7MB/s eta 0:00:01\r\u001b[K     |████████▊                       | 266kB 46.7MB/s eta 0:00:01\r\u001b[K     |█████████                       | 276kB 46.7MB/s eta 0:00:01\r\u001b[K     |█████████▍                      | 286kB 46.7MB/s eta 0:00:01\r\u001b[K     |█████████▊                      | 296kB 46.7MB/s eta 0:00:01\r\u001b[K     |██████████                      | 307kB 46.7MB/s eta 0:00:01\r\u001b[K     |██████████▍                     | 317kB 46.7MB/s eta 0:00:01\r\u001b[K     |██████████▊                     | 327kB 46.7MB/s eta 0:00:01\r\u001b[K     |███████████                     | 337kB 46.7MB/s eta 0:00:01\r\u001b[K     |███████████▍                    | 348kB 46.7MB/s eta 0:00:01\r\u001b[K     |███████████▊                    | 358kB 46.7MB/s eta 0:00:01\r\u001b[K     |████████████                    | 368kB 46.7MB/s eta 0:00:01\r\u001b[K     |████████████▍                   | 378kB 46.7MB/s eta 0:00:01\r\u001b[K     |████████████▊                   | 389kB 46.7MB/s eta 0:00:01\r\u001b[K     |█████████████                   | 399kB 46.7MB/s eta 0:00:01\r\u001b[K     |█████████████▍                  | 409kB 46.7MB/s eta 0:00:01\r\u001b[K     |█████████████▊                  | 419kB 46.7MB/s eta 0:00:01\r\u001b[K     |██████████████                  | 430kB 46.7MB/s eta 0:00:01\r\u001b[K     |██████████████▍                 | 440kB 46.7MB/s eta 0:00:01\r\u001b[K     |██████████████▊                 | 450kB 46.7MB/s eta 0:00:01\r\u001b[K     |███████████████                 | 460kB 46.7MB/s eta 0:00:01\r\u001b[K     |███████████████▍                | 471kB 46.7MB/s eta 0:00:01\r\u001b[K     |███████████████▊                | 481kB 46.7MB/s eta 0:00:01\r\u001b[K     |████████████████                | 491kB 46.7MB/s eta 0:00:01\r\u001b[K     |████████████████▍               | 501kB 46.7MB/s eta 0:00:01\r\u001b[K     |████████████████▊               | 512kB 46.7MB/s eta 0:00:01\r\u001b[K     |█████████████████               | 522kB 46.7MB/s eta 0:00:01\r\u001b[K     |█████████████████▍              | 532kB 46.7MB/s eta 0:00:01\r\u001b[K     |█████████████████▊              | 542kB 46.7MB/s eta 0:00:01\r\u001b[K     |██████████████████              | 552kB 46.7MB/s eta 0:00:01\r\u001b[K     |██████████████████▍             | 563kB 46.7MB/s eta 0:00:01\r\u001b[K     |██████████████████▊             | 573kB 46.7MB/s eta 0:00:01\r\u001b[K     |███████████████████             | 583kB 46.7MB/s eta 0:00:01\r\u001b[K     |███████████████████▍            | 593kB 46.7MB/s eta 0:00:01\r\u001b[K     |███████████████████▊            | 604kB 46.7MB/s eta 0:00:01\r\u001b[K     |████████████████████            | 614kB 46.7MB/s eta 0:00:01\r\u001b[K     |████████████████████▍           | 624kB 46.7MB/s eta 0:00:01\r\u001b[K     |████████████████████▊           | 634kB 46.7MB/s eta 0:00:01\r\u001b[K     |█████████████████████           | 645kB 46.7MB/s eta 0:00:01\r\u001b[K     |█████████████████████▍          | 655kB 46.7MB/s eta 0:00:01\r\u001b[K     |█████████████████████▊          | 665kB 46.7MB/s eta 0:00:01\r\u001b[K     |██████████████████████          | 675kB 46.7MB/s eta 0:00:01\r\u001b[K     |██████████████████████▍         | 686kB 46.7MB/s eta 0:00:01\r\u001b[K     |██████████████████████▊         | 696kB 46.7MB/s eta 0:00:01\r\u001b[K     |███████████████████████         | 706kB 46.7MB/s eta 0:00:01\r\u001b[K     |███████████████████████▍        | 716kB 46.7MB/s eta 0:00:01\r\u001b[K     |███████████████████████▊        | 727kB 46.7MB/s eta 0:00:01\r\u001b[K     |████████████████████████        | 737kB 46.7MB/s eta 0:00:01\r\u001b[K     |████████████████████████▍       | 747kB 46.7MB/s eta 0:00:01\r\u001b[K     |████████████████████████▊       | 757kB 46.7MB/s eta 0:00:01\r\u001b[K     |█████████████████████████       | 768kB 46.7MB/s eta 0:00:01\r\u001b[K     |█████████████████████████▍      | 778kB 46.7MB/s eta 0:00:01\r\u001b[K     |█████████████████████████▊      | 788kB 46.7MB/s eta 0:00:01\r\u001b[K     |██████████████████████████      | 798kB 46.7MB/s eta 0:00:01\r\u001b[K     |██████████████████████████▍     | 808kB 46.7MB/s eta 0:00:01\r\u001b[K     |██████████████████████████▊     | 819kB 46.7MB/s eta 0:00:01\r\u001b[K     |███████████████████████████     | 829kB 46.7MB/s eta 0:00:01\r\u001b[K     |███████████████████████████▍    | 839kB 46.7MB/s eta 0:00:01\r\u001b[K     |███████████████████████████▊    | 849kB 46.7MB/s eta 0:00:01\r\u001b[K     |████████████████████████████    | 860kB 46.7MB/s eta 0:00:01\r\u001b[K     |████████████████████████████▍   | 870kB 46.7MB/s eta 0:00:01\r\u001b[K     |████████████████████████████▊   | 880kB 46.7MB/s eta 0:00:01\r\u001b[K     |█████████████████████████████   | 890kB 46.7MB/s eta 0:00:01\r\u001b[K     |█████████████████████████████▍  | 901kB 46.7MB/s eta 0:00:01\r\u001b[K     |█████████████████████████████▊  | 911kB 46.7MB/s eta 0:00:01\r\u001b[K     |██████████████████████████████  | 921kB 46.7MB/s eta 0:00:01\r\u001b[K     |██████████████████████████████▍ | 931kB 46.7MB/s eta 0:00:01\r\u001b[K     |██████████████████████████████▊ | 942kB 46.7MB/s eta 0:00:01\r\u001b[K     |███████████████████████████████ | 952kB 46.7MB/s eta 0:00:01\r\u001b[K     |███████████████████████████████▍| 962kB 46.7MB/s eta 0:00:01\r\u001b[K     |███████████████████████████████▊| 972kB 46.7MB/s eta 0:00:01\r\u001b[K     |████████████████████████████████| 983kB 46.7MB/s \n",
            "\u001b[?25hCollecting segtok>=1.5.7\n",
            "  Downloading https://files.pythonhosted.org/packages/41/08/582dab5f4b1d5ca23bc6927b4bb977c8ff7f3a87a3b98844ef833e2f5623/segtok-1.5.10.tar.gz\n",
            "Collecting pytest>=5.3.2\n",
            "\u001b[?25l  Downloading https://files.pythonhosted.org/packages/6c/f9/9f2b6c672c8f8bb87a4c1bd52c1b57213627b035305aad745d015b2a62ae/pytest-5.4.2-py3-none-any.whl (247kB)\n",
            "\u001b[K     |████████████████████████████████| 256kB 50.5MB/s \n",
            "\u001b[?25hCollecting mpld3==0.3\n",
            "\u001b[?25l  Downloading https://files.pythonhosted.org/packages/91/95/a52d3a83d0a29ba0d6898f6727e9858fe7a43f6c2ce81a5fe7e05f0f4912/mpld3-0.3.tar.gz (788kB)\n",
            "\u001b[K     |████████████████████████████████| 798kB 54.2MB/s \n",
            "\u001b[?25hRequirement already satisfied: scikit-learn>=0.21.3 in /usr/local/lib/python3.6/dist-packages (from flair) (0.22.2.post1)\n",
            "Collecting bpemb>=0.2.9\n",
            "  Downloading https://files.pythonhosted.org/packages/bc/70/468a9652095b370f797ed37ff77e742b11565c6fd79eaeca5f2e50b164a7/bpemb-0.3.0-py3-none-any.whl\n",
            "Requirement already satisfied: tqdm>=4.26.0 in /usr/local/lib/python3.6/dist-packages (from flair) (4.41.1)\n",
            "Requirement already satisfied: hyperopt>=0.1.1 in /usr/local/lib/python3.6/dist-packages (from flair) (0.1.2)\n",
            "Collecting transformers>=2.3.0\n",
            "\u001b[?25l  Downloading https://files.pythonhosted.org/packages/22/97/7db72a0beef1825f82188a4b923e62a146271ac2ced7928baa4d47ef2467/transformers-2.9.1-py3-none-any.whl (641kB)\n",
            "\u001b[K     |████████████████████████████████| 645kB 57.1MB/s \n",
            "\u001b[?25hRequirement already satisfied: matplotlib>=2.2.3 in /usr/local/lib/python3.6/dist-packages (from flair) (3.2.1)\n",
            "Requirement already satisfied: urllib3<1.25,>=1.20 in /usr/local/lib/python3.6/dist-packages (from flair) (1.24.3)\n",
            "Requirement already satisfied: gensim>=3.4.0 in /usr/local/lib/python3.6/dist-packages (from flair) (3.6.0)\n",
            "Collecting deprecated>=1.2.4\n",
            "  Downloading https://files.pythonhosted.org/packages/76/a1/05d7f62f956d77b23a640efc650f80ce24483aa2f85a09c03fb64f49e879/Deprecated-1.2.10-py2.py3-none-any.whl\n",
            "Requirement already satisfied: regex in /usr/local/lib/python3.6/dist-packages (from flair) (2019.12.20)\n",
            "Collecting sqlitedict>=1.6.0\n",
            "  Downloading https://files.pythonhosted.org/packages/0f/1c/c757b93147a219cf1e25cef7e1ad9b595b7f802159493c45ce116521caff/sqlitedict-1.6.0.tar.gz\n",
            "Requirement already satisfied: future in /usr/local/lib/python3.6/dist-packages (from torch>=1.1.0->flair) (0.16.0)\n",
            "Requirement already satisfied: numpy in /usr/local/lib/python3.6/dist-packages (from torch>=1.1.0->flair) (1.18.4)\n",
            "Requirement already satisfied: six>=1.5 in /usr/local/lib/python3.6/dist-packages (from python-dateutil>=2.6.1->flair) (1.12.0)\n",
            "Collecting pluggy<1.0,>=0.12\n",
            "  Downloading https://files.pythonhosted.org/packages/a0/28/85c7aa31b80d150b772fbe4a229487bc6644da9ccb7e427dd8cc60cb8a62/pluggy-0.13.1-py2.py3-none-any.whl\n",
            "Requirement already satisfied: more-itertools>=4.0.0 in /usr/local/lib/python3.6/dist-packages (from pytest>=5.3.2->flair) (8.3.0)\n",
            "Requirement already satisfied: py>=1.5.0 in /usr/local/lib/python3.6/dist-packages (from pytest>=5.3.2->flair) (1.8.1)\n",
            "Requirement already satisfied: attrs>=17.4.0 in /usr/local/lib/python3.6/dist-packages (from pytest>=5.3.2->flair) (19.3.0)\n",
            "Requirement already satisfied: importlib-metadata>=0.12; python_version < \"3.8\" in /usr/local/lib/python3.6/dist-packages (from pytest>=5.3.2->flair) (1.6.0)\n",
            "Requirement already satisfied: wcwidth in /usr/local/lib/python3.6/dist-packages (from pytest>=5.3.2->flair) (0.1.9)\n",
            "Requirement already satisfied: packaging in /usr/local/lib/python3.6/dist-packages (from pytest>=5.3.2->flair) (20.4)\n",
            "Requirement already satisfied: joblib>=0.11 in /usr/local/lib/python3.6/dist-packages (from scikit-learn>=0.21.3->flair) (0.15.1)\n",
            "Requirement already satisfied: scipy>=0.17.0 in /usr/local/lib/python3.6/dist-packages (from scikit-learn>=0.21.3->flair) (1.4.1)\n",
            "Collecting sentencepiece\n",
            "\u001b[?25l  Downloading https://files.pythonhosted.org/packages/d4/a4/d0a884c4300004a78cca907a6ff9a5e9fe4f090f5d95ab341c53d28cbc58/sentencepiece-0.1.91-cp36-cp36m-manylinux1_x86_64.whl (1.1MB)\n",
            "\u001b[K     |████████████████████████████████| 1.1MB 57.8MB/s \n",
            "\u001b[?25hRequirement already satisfied: requests in /usr/local/lib/python3.6/dist-packages (from bpemb>=0.2.9->flair) (2.23.0)\n",
            "Requirement already satisfied: pymongo in /usr/local/lib/python3.6/dist-packages (from hyperopt>=0.1.1->flair) (3.10.1)\n",
            "Requirement already satisfied: networkx in /usr/local/lib/python3.6/dist-packages (from hyperopt>=0.1.1->flair) (2.4)\n",
            "Collecting tokenizers==0.7.0\n",
            "\u001b[?25l  Downloading https://files.pythonhosted.org/packages/14/e5/a26eb4716523808bb0a799fcfdceb6ebf77a18169d9591b2f46a9adb87d9/tokenizers-0.7.0-cp36-cp36m-manylinux1_x86_64.whl (3.8MB)\n",
            "\u001b[K     |████████████████████████████████| 3.8MB 61.3MB/s \n",
            "\u001b[?25hCollecting sacremoses\n",
            "\u001b[?25l  Downloading https://files.pythonhosted.org/packages/7d/34/09d19aff26edcc8eb2a01bed8e98f13a1537005d31e95233fd48216eed10/sacremoses-0.0.43.tar.gz (883kB)\n",
            "\u001b[K     |████████████████████████████████| 890kB 57.5MB/s \n",
            "\u001b[?25hRequirement already satisfied: filelock in /usr/local/lib/python3.6/dist-packages (from transformers>=2.3.0->flair) (3.0.12)\n",
            "Requirement already satisfied: dataclasses; python_version < \"3.7\" in /usr/local/lib/python3.6/dist-packages (from transformers>=2.3.0->flair) (0.7)\n",
            "Requirement already satisfied: kiwisolver>=1.0.1 in /usr/local/lib/python3.6/dist-packages (from matplotlib>=2.2.3->flair) (1.2.0)\n",
            "Requirement already satisfied: pyparsing!=2.0.4,!=2.1.2,!=2.1.6,>=2.0.1 in /usr/local/lib/python3.6/dist-packages (from matplotlib>=2.2.3->flair) (2.4.7)\n",
            "Requirement already satisfied: cycler>=0.10 in /usr/local/lib/python3.6/dist-packages (from matplotlib>=2.2.3->flair) (0.10.0)\n",
            "Requirement already satisfied: smart-open>=1.2.1 in /usr/local/lib/python3.6/dist-packages (from gensim>=3.4.0->flair) (2.0.0)\n",
            "Requirement already satisfied: wrapt<2,>=1.10 in /usr/local/lib/python3.6/dist-packages (from deprecated>=1.2.4->flair) (1.12.1)\n",
            "Requirement already satisfied: zipp>=0.5 in /usr/local/lib/python3.6/dist-packages (from importlib-metadata>=0.12; python_version < \"3.8\"->pytest>=5.3.2->flair) (3.1.0)\n",
            "Requirement already satisfied: idna<3,>=2.5 in /usr/local/lib/python3.6/dist-packages (from requests->bpemb>=0.2.9->flair) (2.9)\n",
            "Requirement already satisfied: certifi>=2017.4.17 in /usr/local/lib/python3.6/dist-packages (from requests->bpemb>=0.2.9->flair) (2020.4.5.1)\n",
            "Requirement already satisfied: chardet<4,>=3.0.2 in /usr/local/lib/python3.6/dist-packages (from requests->bpemb>=0.2.9->flair) (3.0.4)\n",
            "Requirement already satisfied: decorator>=4.3.0 in /usr/local/lib/python3.6/dist-packages (from networkx->hyperopt>=0.1.1->flair) (4.4.2)\n",
            "Requirement already satisfied: click in /usr/local/lib/python3.6/dist-packages (from sacremoses->transformers>=2.3.0->flair) (7.1.2)\n",
            "Requirement already satisfied: boto3 in /usr/local/lib/python3.6/dist-packages (from smart-open>=1.2.1->gensim>=3.4.0->flair) (1.13.13)\n",
            "Requirement already satisfied: boto in /usr/local/lib/python3.6/dist-packages (from smart-open>=1.2.1->gensim>=3.4.0->flair) (2.49.0)\n",
            "Requirement already satisfied: botocore<1.17.0,>=1.16.13 in /usr/local/lib/python3.6/dist-packages (from boto3->smart-open>=1.2.1->gensim>=3.4.0->flair) (1.16.13)\n",
            "Requirement already satisfied: s3transfer<0.4.0,>=0.3.0 in /usr/local/lib/python3.6/dist-packages (from boto3->smart-open>=1.2.1->gensim>=3.4.0->flair) (0.3.3)\n",
            "Requirement already satisfied: jmespath<1.0.0,>=0.7.1 in /usr/local/lib/python3.6/dist-packages (from boto3->smart-open>=1.2.1->gensim>=3.4.0->flair) (0.10.0)\n",
            "Requirement already satisfied: docutils<0.16,>=0.10 in /usr/local/lib/python3.6/dist-packages (from botocore<1.17.0,>=1.16.13->boto3->smart-open>=1.2.1->gensim>=3.4.0->flair) (0.15.2)\n",
            "Building wheels for collected packages: langdetect, segtok, mpld3, sqlitedict, sacremoses\n",
            "  Building wheel for langdetect (setup.py) ... \u001b[?25l\u001b[?25hdone\n",
            "  Created wheel for langdetect: filename=langdetect-1.0.8-cp36-none-any.whl size=993193 sha256=2efaba13229ca82e1fc8b6657a109c0e4b42879be92a521ccb0b920a8e50643d\n",
            "  Stored in directory: /root/.cache/pip/wheels/8d/b3/aa/6d99de9f3841d7d3d40a60ea06e6d669e8e5012e6c8b947a57\n",
            "  Building wheel for segtok (setup.py) ... \u001b[?25l\u001b[?25hdone\n",
            "  Created wheel for segtok: filename=segtok-1.5.10-cp36-none-any.whl size=25020 sha256=7748e8125e837e6bc888b999e6c737bd08b57ca5b827d515b7bcd8a30a532c13\n",
            "  Stored in directory: /root/.cache/pip/wheels/b4/39/f6/9ca1c5cabde964d728023b5751c3a206a5c8cc40252321fb6b\n",
            "  Building wheel for mpld3 (setup.py) ... \u001b[?25l\u001b[?25hdone\n",
            "  Created wheel for mpld3: filename=mpld3-0.3-cp36-none-any.whl size=116679 sha256=c5c12c5be41b5241010bd6ead89ca36524e9cba1b9e2a44cba7ff1e309464c0d\n",
            "  Stored in directory: /root/.cache/pip/wheels/c0/47/fb/8a64f89aecfe0059830479308ad42d62e898a3e3cefdf6ba28\n",
            "  Building wheel for sqlitedict (setup.py) ... \u001b[?25l\u001b[?25hdone\n",
            "  Created wheel for sqlitedict: filename=sqlitedict-1.6.0-cp36-none-any.whl size=14689 sha256=f440547a41321a14151eb19a84719e3100a8a1f97e355b5b0e344f8652db3dba\n",
            "  Stored in directory: /root/.cache/pip/wheels/bd/57/d3/907c3ee02d35e66f674ad0106e61f06eeeb98f6ee66a6cc3fe\n",
            "  Building wheel for sacremoses (setup.py) ... \u001b[?25l\u001b[?25hdone\n",
            "  Created wheel for sacremoses: filename=sacremoses-0.0.43-cp36-none-any.whl size=893260 sha256=565797c10d8d3e0d856599b37206ecccac65ebb64aa9f0e7d9b3a5aca23fb257\n",
            "  Stored in directory: /root/.cache/pip/wheels/29/3c/fd/7ce5c3f0666dab31a50123635e6fb5e19ceb42ce38d4e58f45\n",
            "Successfully built langdetect segtok mpld3 sqlitedict sacremoses\n",
            "\u001b[31mERROR: datascience 0.10.6 has requirement folium==0.2.1, but you'll have folium 0.8.3 which is incompatible.\u001b[0m\n",
            "Installing collected packages: langdetect, segtok, pluggy, pytest, mpld3, sentencepiece, bpemb, tokenizers, sacremoses, transformers, deprecated, sqlitedict, flair\n",
            "  Found existing installation: pluggy 0.7.1\n",
            "    Uninstalling pluggy-0.7.1:\n",
            "      Successfully uninstalled pluggy-0.7.1\n",
            "  Found existing installation: pytest 3.6.4\n",
            "    Uninstalling pytest-3.6.4:\n",
            "      Successfully uninstalled pytest-3.6.4\n",
            "Successfully installed bpemb-0.3.0 deprecated-1.2.10 flair-0.4.5 langdetect-1.0.8 mpld3-0.3 pluggy-0.13.1 pytest-5.4.2 sacremoses-0.0.43 segtok-1.5.10 sentencepiece-0.1.91 sqlitedict-1.6.0 tokenizers-0.7.0 transformers-2.9.1\n"
          ],
          "name": "stdout"
        }
      ]
    },
    {
      "cell_type": "code",
      "metadata": {
        "id": "ycRc500jR4xD",
        "colab_type": "code",
        "colab": {}
      },
      "source": [
        "from flair.data import Corpus\n",
        "from flair.datasets import CSVClassificationCorpus\n",
        "from flair.data import Corpus\n",
        "from flair.datasets import TREC_6\n",
        "from flair.embeddings import WordEmbeddings, FlairEmbeddings, DocumentRNNEmbeddings, PooledFlairEmbeddings\n",
        "from flair.models import TextClassifier\n",
        "from flair.trainers import ModelTrainer\n",
        "from flair.data import Sentence\n",
        "from flair.visual.training_curves import Plotter"
      ],
      "execution_count": 0,
      "outputs": []
    },
    {
      "cell_type": "code",
      "metadata": {
        "id": "Omj17DONXGlz",
        "colab_type": "code",
        "outputId": "580172e7-0783-46ed-aed8-9d68ce3d83ab",
        "colab": {
          "base_uri": "https://localhost:8080/",
          "height": 54
        }
      },
      "source": [
        "from google.colab import drive\n",
        "drive.mount(\"/content/drive\")"
      ],
      "execution_count": 2,
      "outputs": [
        {
          "output_type": "stream",
          "text": [
            "Drive already mounted at /content/drive; to attempt to forcibly remount, call drive.mount(\"/content/drive\", force_remount=True).\n"
          ],
          "name": "stdout"
        }
      ]
    },
    {
      "cell_type": "code",
      "metadata": {
        "id": "HpHWa0f5ZDo-",
        "colab_type": "code",
        "colab": {
          "base_uri": "https://localhost:8080/",
          "height": 1000
        },
        "outputId": "b52363dc-fc42-477d-9f1a-61cfa257cb4c"
      },
      "source": [
        "#use this install and restart runtime for this error: \n",
        "#ValueError: invalid literal for int() with base 10: '0+cpu' \n",
        "\n",
        "!pip install --upgrade git+https://github.com/flairNLP/flair.git"
      ],
      "execution_count": 7,
      "outputs": [
        {
          "output_type": "stream",
          "text": [
            "Collecting git+https://github.com/flairNLP/flair.git\n",
            "  Cloning https://github.com/flairNLP/flair.git to /tmp/pip-req-build-0yvfba56\n",
            "  Running command git clone -q https://github.com/flairNLP/flair.git /tmp/pip-req-build-0yvfba56\n",
            "  Installing build dependencies ... \u001b[?25l\u001b[?25hdone\n",
            "  Getting requirements to build wheel ... \u001b[?25l\u001b[?25hdone\n",
            "    Preparing wheel metadata ... \u001b[?25l\u001b[?25hdone\n",
            "Requirement already satisfied, skipping upgrade: matplotlib>=2.2.3 in /usr/local/lib/python3.6/dist-packages (from flair==0.4.5) (3.2.1)\n",
            "Requirement already satisfied, skipping upgrade: mpld3==0.3 in /usr/local/lib/python3.6/dist-packages (from flair==0.4.5) (0.3)\n",
            "Requirement already satisfied, skipping upgrade: python-dateutil>=2.6.1 in /usr/local/lib/python3.6/dist-packages (from flair==0.4.5) (2.8.1)\n",
            "Requirement already satisfied, skipping upgrade: deprecated>=1.2.4 in /usr/local/lib/python3.6/dist-packages (from flair==0.4.5) (1.2.10)\n",
            "Requirement already satisfied, skipping upgrade: sqlitedict>=1.6.0 in /usr/local/lib/python3.6/dist-packages (from flair==0.4.5) (1.6.0)\n",
            "Requirement already satisfied, skipping upgrade: hyperopt>=0.1.1 in /usr/local/lib/python3.6/dist-packages (from flair==0.4.5) (0.1.2)\n",
            "Requirement already satisfied, skipping upgrade: gensim>=3.4.0 in /usr/local/lib/python3.6/dist-packages (from flair==0.4.5) (3.6.0)\n",
            "Requirement already satisfied, skipping upgrade: transformers>=2.6.0 in /usr/local/lib/python3.6/dist-packages (from flair==0.4.5) (2.9.1)\n",
            "Requirement already satisfied, skipping upgrade: segtok>=1.5.7 in /usr/local/lib/python3.6/dist-packages (from flair==0.4.5) (1.5.10)\n",
            "Requirement already satisfied, skipping upgrade: tabulate in /usr/local/lib/python3.6/dist-packages (from flair==0.4.5) (0.8.7)\n",
            "Requirement already satisfied, skipping upgrade: bpemb>=0.2.9 in /usr/local/lib/python3.6/dist-packages (from flair==0.4.5) (0.3.0)\n",
            "Requirement already satisfied, skipping upgrade: langdetect in /usr/local/lib/python3.6/dist-packages (from flair==0.4.5) (1.0.8)\n",
            "Requirement already satisfied, skipping upgrade: scikit-learn>=0.21.3 in /usr/local/lib/python3.6/dist-packages (from flair==0.4.5) (0.22.2.post1)\n",
            "Requirement already satisfied, skipping upgrade: torch>=1.1.0 in /usr/local/lib/python3.6/dist-packages (from flair==0.4.5) (1.5.0+cu101)\n",
            "Requirement already satisfied, skipping upgrade: tqdm>=4.26.0 in /usr/local/lib/python3.6/dist-packages (from flair==0.4.5) (4.41.1)\n",
            "Requirement already satisfied, skipping upgrade: pytest>=5.3.2 in /usr/local/lib/python3.6/dist-packages (from flair==0.4.5) (5.4.2)\n",
            "Requirement already satisfied, skipping upgrade: regex in /usr/local/lib/python3.6/dist-packages (from flair==0.4.5) (2019.12.20)\n",
            "Requirement already satisfied, skipping upgrade: pyparsing!=2.0.4,!=2.1.2,!=2.1.6,>=2.0.1 in /usr/local/lib/python3.6/dist-packages (from matplotlib>=2.2.3->flair==0.4.5) (2.4.7)\n",
            "Requirement already satisfied, skipping upgrade: numpy>=1.11 in /usr/local/lib/python3.6/dist-packages (from matplotlib>=2.2.3->flair==0.4.5) (1.18.4)\n",
            "Requirement already satisfied, skipping upgrade: cycler>=0.10 in /usr/local/lib/python3.6/dist-packages (from matplotlib>=2.2.3->flair==0.4.5) (0.10.0)\n",
            "Requirement already satisfied, skipping upgrade: kiwisolver>=1.0.1 in /usr/local/lib/python3.6/dist-packages (from matplotlib>=2.2.3->flair==0.4.5) (1.2.0)\n",
            "Requirement already satisfied, skipping upgrade: six>=1.5 in /usr/local/lib/python3.6/dist-packages (from python-dateutil>=2.6.1->flair==0.4.5) (1.12.0)\n",
            "Requirement already satisfied, skipping upgrade: wrapt<2,>=1.10 in /usr/local/lib/python3.6/dist-packages (from deprecated>=1.2.4->flair==0.4.5) (1.12.1)\n",
            "Requirement already satisfied, skipping upgrade: networkx in /usr/local/lib/python3.6/dist-packages (from hyperopt>=0.1.1->flair==0.4.5) (2.4)\n",
            "Requirement already satisfied, skipping upgrade: future in /usr/local/lib/python3.6/dist-packages (from hyperopt>=0.1.1->flair==0.4.5) (0.16.0)\n",
            "Requirement already satisfied, skipping upgrade: pymongo in /usr/local/lib/python3.6/dist-packages (from hyperopt>=0.1.1->flair==0.4.5) (3.10.1)\n",
            "Requirement already satisfied, skipping upgrade: scipy in /usr/local/lib/python3.6/dist-packages (from hyperopt>=0.1.1->flair==0.4.5) (1.4.1)\n",
            "Requirement already satisfied, skipping upgrade: smart-open>=1.2.1 in /usr/local/lib/python3.6/dist-packages (from gensim>=3.4.0->flair==0.4.5) (2.0.0)\n",
            "Requirement already satisfied, skipping upgrade: requests in /usr/local/lib/python3.6/dist-packages (from transformers>=2.6.0->flair==0.4.5) (2.23.0)\n",
            "Requirement already satisfied, skipping upgrade: dataclasses; python_version < \"3.7\" in /usr/local/lib/python3.6/dist-packages (from transformers>=2.6.0->flair==0.4.5) (0.7)\n",
            "Requirement already satisfied, skipping upgrade: sentencepiece in /usr/local/lib/python3.6/dist-packages (from transformers>=2.6.0->flair==0.4.5) (0.1.91)\n",
            "Requirement already satisfied, skipping upgrade: sacremoses in /usr/local/lib/python3.6/dist-packages (from transformers>=2.6.0->flair==0.4.5) (0.0.43)\n",
            "Requirement already satisfied, skipping upgrade: filelock in /usr/local/lib/python3.6/dist-packages (from transformers>=2.6.0->flair==0.4.5) (3.0.12)\n",
            "Requirement already satisfied, skipping upgrade: tokenizers==0.7.0 in /usr/local/lib/python3.6/dist-packages (from transformers>=2.6.0->flair==0.4.5) (0.7.0)\n",
            "Requirement already satisfied, skipping upgrade: joblib>=0.11 in /usr/local/lib/python3.6/dist-packages (from scikit-learn>=0.21.3->flair==0.4.5) (0.15.1)\n",
            "Requirement already satisfied, skipping upgrade: wcwidth in /usr/local/lib/python3.6/dist-packages (from pytest>=5.3.2->flair==0.4.5) (0.1.9)\n",
            "Requirement already satisfied, skipping upgrade: attrs>=17.4.0 in /usr/local/lib/python3.6/dist-packages (from pytest>=5.3.2->flair==0.4.5) (19.3.0)\n",
            "Requirement already satisfied, skipping upgrade: py>=1.5.0 in /usr/local/lib/python3.6/dist-packages (from pytest>=5.3.2->flair==0.4.5) (1.8.1)\n",
            "Requirement already satisfied, skipping upgrade: more-itertools>=4.0.0 in /usr/local/lib/python3.6/dist-packages (from pytest>=5.3.2->flair==0.4.5) (8.3.0)\n",
            "Requirement already satisfied, skipping upgrade: packaging in /usr/local/lib/python3.6/dist-packages (from pytest>=5.3.2->flair==0.4.5) (20.4)\n",
            "Requirement already satisfied, skipping upgrade: pluggy<1.0,>=0.12 in /usr/local/lib/python3.6/dist-packages (from pytest>=5.3.2->flair==0.4.5) (0.13.1)\n",
            "Requirement already satisfied, skipping upgrade: importlib-metadata>=0.12; python_version < \"3.8\" in /usr/local/lib/python3.6/dist-packages (from pytest>=5.3.2->flair==0.4.5) (1.6.0)\n",
            "Requirement already satisfied, skipping upgrade: decorator>=4.3.0 in /usr/local/lib/python3.6/dist-packages (from networkx->hyperopt>=0.1.1->flair==0.4.5) (4.4.2)\n",
            "Requirement already satisfied, skipping upgrade: boto3 in /usr/local/lib/python3.6/dist-packages (from smart-open>=1.2.1->gensim>=3.4.0->flair==0.4.5) (1.13.13)\n",
            "Requirement already satisfied, skipping upgrade: boto in /usr/local/lib/python3.6/dist-packages (from smart-open>=1.2.1->gensim>=3.4.0->flair==0.4.5) (2.49.0)\n",
            "Requirement already satisfied, skipping upgrade: urllib3!=1.25.0,!=1.25.1,<1.26,>=1.21.1 in /usr/local/lib/python3.6/dist-packages (from requests->transformers>=2.6.0->flair==0.4.5) (1.24.3)\n",
            "Requirement already satisfied, skipping upgrade: certifi>=2017.4.17 in /usr/local/lib/python3.6/dist-packages (from requests->transformers>=2.6.0->flair==0.4.5) (2020.4.5.1)\n",
            "Requirement already satisfied, skipping upgrade: chardet<4,>=3.0.2 in /usr/local/lib/python3.6/dist-packages (from requests->transformers>=2.6.0->flair==0.4.5) (3.0.4)\n",
            "Requirement already satisfied, skipping upgrade: idna<3,>=2.5 in /usr/local/lib/python3.6/dist-packages (from requests->transformers>=2.6.0->flair==0.4.5) (2.9)\n",
            "Requirement already satisfied, skipping upgrade: click in /usr/local/lib/python3.6/dist-packages (from sacremoses->transformers>=2.6.0->flair==0.4.5) (7.1.2)\n",
            "Requirement already satisfied, skipping upgrade: zipp>=0.5 in /usr/local/lib/python3.6/dist-packages (from importlib-metadata>=0.12; python_version < \"3.8\"->pytest>=5.3.2->flair==0.4.5) (3.1.0)\n",
            "Requirement already satisfied, skipping upgrade: s3transfer<0.4.0,>=0.3.0 in /usr/local/lib/python3.6/dist-packages (from boto3->smart-open>=1.2.1->gensim>=3.4.0->flair==0.4.5) (0.3.3)\n",
            "Requirement already satisfied, skipping upgrade: jmespath<1.0.0,>=0.7.1 in /usr/local/lib/python3.6/dist-packages (from boto3->smart-open>=1.2.1->gensim>=3.4.0->flair==0.4.5) (0.10.0)\n",
            "Requirement already satisfied, skipping upgrade: botocore<1.17.0,>=1.16.13 in /usr/local/lib/python3.6/dist-packages (from boto3->smart-open>=1.2.1->gensim>=3.4.0->flair==0.4.5) (1.16.13)\n",
            "Requirement already satisfied, skipping upgrade: docutils<0.16,>=0.10 in /usr/local/lib/python3.6/dist-packages (from botocore<1.17.0,>=1.16.13->boto3->smart-open>=1.2.1->gensim>=3.4.0->flair==0.4.5) (0.15.2)\n",
            "Building wheels for collected packages: flair\n",
            "  Building wheel for flair (PEP 517) ... \u001b[?25l\u001b[?25hdone\n",
            "  Created wheel for flair: filename=flair-0.4.5-cp36-none-any.whl size=148505 sha256=558f25ebd16d1b03c5ca4a5e297a6ab546d0a49de10d097012406ef40472ee37\n",
            "  Stored in directory: /tmp/pip-ephem-wheel-cache-ktw1rgms/wheels/84/82/73/d2b3b59b7be74ea05f2c6d64132efe27df52daffb47d1dc7bb\n",
            "Successfully built flair\n",
            "Installing collected packages: flair\n",
            "  Found existing installation: flair 0.4.5\n",
            "    Uninstalling flair-0.4.5:\n",
            "      Successfully uninstalled flair-0.4.5\n",
            "Successfully installed flair-0.4.5\n"
          ],
          "name": "stdout"
        },
        {
          "output_type": "display_data",
          "data": {
            "application/vnd.colab-display-data+json": {
              "pip_warning": {
                "packages": [
                  "flair"
                ]
              }
            }
          },
          "metadata": {
            "tags": []
          }
        }
      ]
    },
    {
      "cell_type": "markdown",
      "metadata": {
        "id": "n9233FRPcP-N",
        "colab_type": "text"
      },
      "source": [
        "# Training Phase 1 - Kaggle dataset\n",
        "#### train.csv = 1000 rows\n",
        "#### dev.csv = 300 rows\n",
        "#### test.csv = 164 rows"
      ]
    },
    {
      "cell_type": "code",
      "metadata": {
        "id": "WCBr5hrtR4xL",
        "colab_type": "code",
        "outputId": "d7afdf93-9632-4c87-ca58-2fef7dab3059",
        "colab": {
          "base_uri": "https://localhost:8080/",
          "height": 105
        }
      },
      "source": [
        "# this is the folder in which train, test and dev files reside\n",
        "#FOR CPU: \n",
        "#data_folder = 'experimental_flair_data/kaggle_data/'\n",
        "#FOR COLAB: \n",
        "data_folder = \"./drive/My Drive/Colab Notebooks/capstone/data/kaggle_data_downsampled\"\n",
        "\n",
        "# column format indicating which columns hold the text and label(s)\n",
        "#column 0 = label (positive, negative, neutral)\n",
        "#column 1 = headline\n",
        "column_name_map = {2: \"text\", 1: \"label_topic\"}\n",
        "\n",
        "# 1. load corpus containing training, test and dev data and if CSV has a header, you can skip it\n",
        "corpus: Corpus = CSVClassificationCorpus(data_folder,\n",
        "                                         column_name_map,\n",
        "                                         skip_header=False, #no header in kaggle data\n",
        "                                         delimiter=',',    # comma separated rows\n",
        ") \n",
        "    \n",
        "\n"
      ],
      "execution_count": 3,
      "outputs": [
        {
          "output_type": "stream",
          "text": [
            "2020-05-21 22:36:36,340 Reading data from drive/My Drive/Colab Notebooks/capstone/data/kaggle_data_downsampled\n",
            "2020-05-21 22:36:36,343 Train: drive/My Drive/Colab Notebooks/capstone/data/kaggle_data_downsampled/train.csv\n",
            "2020-05-21 22:36:36,345 Dev: drive/My Drive/Colab Notebooks/capstone/data/kaggle_data_downsampled/dev.csv\n",
            "2020-05-21 22:36:36,349 Test: drive/My Drive/Colab Notebooks/capstone/data/kaggle_data_downsampled/test.csv\n"
          ],
          "name": "stdout"
        }
      ]
    },
    {
      "cell_type": "code",
      "metadata": {
        "id": "uV63M0SFR4xO",
        "colab_type": "code",
        "outputId": "8c5d39a1-cac5-438d-ff49-9647787b77f7",
        "colab": {
          "base_uri": "https://localhost:8080/",
          "height": 122
        }
      },
      "source": [
        "\n",
        "\n",
        "# 2. create the label dictionary\n",
        "label_dict = corpus.make_label_dictionary()\n",
        "\n",
        "# 3. make a list of word embeddings\n",
        "word_embeddings = [WordEmbeddings('en-twitter'),\n",
        "\n",
        "                   # comment in flair embeddings for state-of-the-art results\n",
        "                  FlairEmbeddings('news-forward'),\n",
        "                  FlairEmbeddings('news-backward'),\n",
        "                   ]\n",
        "\n",
        "# 4. initialize document embedding by passing list of word embeddings\n",
        "# Can choose between many RNN types (GRU by default, to change use rnn_type parameter)\n",
        "document_embeddings: DocumentRNNEmbeddings = DocumentRNNEmbeddings(word_embeddings,\n",
        "                                                                     hidden_size=512,\n",
        "                                                                     reproject_words=True,\n",
        "                                                                     reproject_words_dimension=256,\n",
        "                                                                     )\n"
      ],
      "execution_count": 4,
      "outputs": [
        {
          "output_type": "stream",
          "text": [
            "2020-05-21 22:36:40,677 Computing label dictionary. Progress:\n"
          ],
          "name": "stdout"
        },
        {
          "output_type": "stream",
          "text": [
            "100%|██████████| 1164/1164 [00:00<00:00, 1395.23it/s]"
          ],
          "name": "stderr"
        },
        {
          "output_type": "stream",
          "text": [
            "2020-05-21 22:36:41,627 [b'label', b'0', b'-1', b'1']\n"
          ],
          "name": "stdout"
        },
        {
          "output_type": "stream",
          "text": [
            "\n",
            "/usr/local/lib/python3.6/dist-packages/smart_open/smart_open_lib.py:253: UserWarning: This function is deprecated, use smart_open.open instead. See the migration notes for details: https://github.com/RaRe-Technologies/smart_open/blob/master/README.rst#migrating-to-the-new-open-function\n",
            "  'See the migration notes for details: %s' % _MIGRATION_NOTES_URL\n"
          ],
          "name": "stderr"
        }
      ]
    },
    {
      "cell_type": "code",
      "metadata": {
        "id": "_N7fvKW6hiOS",
        "colab_type": "code",
        "outputId": "827e52d4-9784-4248-c6d1-8afaa45557a5",
        "colab": {
          "base_uri": "https://localhost:8080/",
          "height": 1000
        }
      },
      "source": [
        "\n",
        "# 5. create the text classifier\n",
        "classifier = TextClassifier(document_embeddings, label_dictionary=label_dict)\n",
        "\n",
        "# 6. initialize the text classifier trainer\n",
        "trainer = ModelTrainer(classifier, corpus)\n",
        "\n",
        "# 7. start the training\n",
        "trainer.train('resources/taggers/ag_news',\n",
        "              learning_rate=0.01,\n",
        "              mini_batch_size=32,\n",
        "              anneal_factor=0.5,\n",
        "              patience=5,\n",
        "              max_epochs=10)"
      ],
      "execution_count": 5,
      "outputs": [
        {
          "output_type": "stream",
          "text": [
            "2020-05-21 22:37:30,037 ----------------------------------------------------------------------------------------------------\n",
            "2020-05-21 22:37:30,039 Model: \"TextClassifier(\n",
            "  (document_embeddings): DocumentRNNEmbeddings(\n",
            "    (embeddings): StackedEmbeddings(\n",
            "      (list_embedding_0): WordEmbeddings('en-twitter')\n",
            "      (list_embedding_1): FlairEmbeddings(\n",
            "        (lm): LanguageModel(\n",
            "          (drop): Dropout(p=0.05, inplace=False)\n",
            "          (encoder): Embedding(300, 100)\n",
            "          (rnn): LSTM(100, 2048)\n",
            "          (decoder): Linear(in_features=2048, out_features=300, bias=True)\n",
            "        )\n",
            "      )\n",
            "      (list_embedding_2): FlairEmbeddings(\n",
            "        (lm): LanguageModel(\n",
            "          (drop): Dropout(p=0.05, inplace=False)\n",
            "          (encoder): Embedding(300, 100)\n",
            "          (rnn): LSTM(100, 2048)\n",
            "          (decoder): Linear(in_features=2048, out_features=300, bias=True)\n",
            "        )\n",
            "      )\n",
            "    )\n",
            "    (word_reprojection_map): Linear(in_features=4196, out_features=256, bias=True)\n",
            "    (rnn): GRU(256, 512, batch_first=True)\n",
            "    (dropout): Dropout(p=0.5, inplace=False)\n",
            "  )\n",
            "  (decoder): Linear(in_features=512, out_features=4, bias=True)\n",
            "  (loss_function): CrossEntropyLoss()\n",
            "  (beta): 1.0\n",
            "  (weights): None\n",
            "  (weight_tensor) None\n",
            ")\"\n",
            "2020-05-21 22:37:30,040 ----------------------------------------------------------------------------------------------------\n",
            "2020-05-21 22:37:30,042 Corpus: \"Corpus: 1000 train + 300 dev + 164 test sentences\"\n",
            "2020-05-21 22:37:30,043 ----------------------------------------------------------------------------------------------------\n",
            "2020-05-21 22:37:30,045 Parameters:\n",
            "2020-05-21 22:37:30,046  - learning_rate: \"0.01\"\n",
            "2020-05-21 22:37:30,048  - mini_batch_size: \"32\"\n",
            "2020-05-21 22:37:30,049  - patience: \"5\"\n",
            "2020-05-21 22:37:30,050  - anneal_factor: \"0.5\"\n",
            "2020-05-21 22:37:30,052  - max_epochs: \"10\"\n",
            "2020-05-21 22:37:30,053  - shuffle: \"True\"\n",
            "2020-05-21 22:37:30,054  - train_with_dev: \"False\"\n",
            "2020-05-21 22:37:30,055  - batch_growth_annealing: \"False\"\n",
            "2020-05-21 22:37:30,056 ----------------------------------------------------------------------------------------------------\n",
            "2020-05-21 22:37:30,057 Model training base path: \"resources/taggers/ag_news\"\n",
            "2020-05-21 22:37:30,059 ----------------------------------------------------------------------------------------------------\n",
            "2020-05-21 22:37:30,060 Device: cuda:0\n",
            "2020-05-21 22:37:30,061 ----------------------------------------------------------------------------------------------------\n",
            "2020-05-21 22:37:30,063 Embeddings storage mode: cpu\n",
            "2020-05-21 22:37:30,065 ----------------------------------------------------------------------------------------------------\n"
          ],
          "name": "stdout"
        },
        {
          "output_type": "stream",
          "text": [
            "/pytorch/torch/csrc/utils/tensor_numpy.cpp:141: UserWarning: The given NumPy array is not writeable, and PyTorch does not support non-writeable tensors. This means you can write to the underlying (supposedly non-writeable) NumPy array using the tensor. You may want to copy the array to protect its data or make it writeable before converting it to a tensor. This type of warning will be suppressed for the rest of this program.\n"
          ],
          "name": "stderr"
        },
        {
          "output_type": "stream",
          "text": [
            "2020-05-21 22:37:31,918 epoch 1 - iter 3/32 - loss 1.34688612 - samples/sec: 74.56\n",
            "2020-05-21 22:37:33,449 epoch 1 - iter 6/32 - loss 1.31496938 - samples/sec: 63.95\n",
            "2020-05-21 22:37:34,540 epoch 1 - iter 9/32 - loss 1.29985935 - samples/sec: 90.65\n",
            "2020-05-21 22:37:35,756 epoch 1 - iter 12/32 - loss 1.28744711 - samples/sec: 80.22\n",
            "2020-05-21 22:37:36,874 epoch 1 - iter 15/32 - loss 1.27093388 - samples/sec: 89.81\n",
            "2020-05-21 22:37:38,114 epoch 1 - iter 18/32 - loss 1.25381856 - samples/sec: 79.36\n",
            "2020-05-21 22:37:39,279 epoch 1 - iter 21/32 - loss 1.24237306 - samples/sec: 83.61\n",
            "2020-05-21 22:37:40,494 epoch 1 - iter 24/32 - loss 1.23564775 - samples/sec: 82.32\n",
            "2020-05-21 22:37:41,598 epoch 1 - iter 27/32 - loss 1.22839107 - samples/sec: 88.22\n",
            "2020-05-21 22:37:42,768 epoch 1 - iter 30/32 - loss 1.22493540 - samples/sec: 83.62\n",
            "2020-05-21 22:37:43,568 ----------------------------------------------------------------------------------------------------\n",
            "2020-05-21 22:37:43,569 EPOCH 1 done: loss 1.2229 - lr 0.0100000\n",
            "2020-05-21 22:37:49,649 DEV : loss 1.4254571199417114 - score 0.5\n",
            "2020-05-21 22:37:50,037 BAD EPOCHS (no improvement): 0\n",
            "saving best model\n",
            "2020-05-21 22:38:00,202 ----------------------------------------------------------------------------------------------------\n",
            "2020-05-21 22:38:02,020 epoch 2 - iter 3/32 - loss 1.10468471 - samples/sec: 73.00\n",
            "2020-05-21 22:38:03,218 epoch 2 - iter 6/32 - loss 1.09068835 - samples/sec: 81.40\n",
            "2020-05-21 22:38:04,376 epoch 2 - iter 9/32 - loss 1.10176171 - samples/sec: 85.42\n",
            "2020-05-21 22:38:05,575 epoch 2 - iter 12/32 - loss 1.10725331 - samples/sec: 81.49\n",
            "2020-05-21 22:38:06,856 epoch 2 - iter 15/32 - loss 1.11627579 - samples/sec: 79.01\n",
            "2020-05-21 22:38:08,071 epoch 2 - iter 18/32 - loss 1.11288771 - samples/sec: 80.19\n",
            "2020-05-21 22:38:09,466 epoch 2 - iter 21/32 - loss 1.11454204 - samples/sec: 70.14\n",
            "2020-05-21 22:38:11,291 epoch 2 - iter 24/32 - loss 1.11908359 - samples/sec: 53.21\n",
            "2020-05-21 22:38:12,340 epoch 2 - iter 27/32 - loss 1.11488087 - samples/sec: 94.41\n",
            "2020-05-21 22:38:13,379 epoch 2 - iter 30/32 - loss 1.11904485 - samples/sec: 94.07\n",
            "2020-05-21 22:38:14,169 ----------------------------------------------------------------------------------------------------\n",
            "2020-05-21 22:38:14,173 EPOCH 2 done: loss 1.1128 - lr 0.0100000\n",
            "2020-05-21 22:38:19,886 DEV : loss 1.4655389785766602 - score 0.5\n",
            "2020-05-21 22:38:20,286 BAD EPOCHS (no improvement): 1\n",
            "2020-05-21 22:38:20,287 ----------------------------------------------------------------------------------------------------\n",
            "2020-05-21 22:38:21,896 epoch 3 - iter 3/32 - loss 1.15695520 - samples/sec: 87.00\n",
            "2020-05-21 22:38:22,932 epoch 3 - iter 6/32 - loss 1.09367162 - samples/sec: 95.00\n",
            "2020-05-21 22:38:23,998 epoch 3 - iter 9/32 - loss 1.09235715 - samples/sec: 92.45\n",
            "2020-05-21 22:38:25,063 epoch 3 - iter 12/32 - loss 1.09660720 - samples/sec: 93.68\n",
            "2020-05-21 22:38:26,283 epoch 3 - iter 15/32 - loss 1.09179180 - samples/sec: 80.58\n",
            "2020-05-21 22:38:27,424 epoch 3 - iter 18/32 - loss 1.08925695 - samples/sec: 86.93\n",
            "2020-05-21 22:38:28,565 epoch 3 - iter 21/32 - loss 1.08628435 - samples/sec: 85.94\n",
            "2020-05-21 22:38:29,692 epoch 3 - iter 24/32 - loss 1.07793059 - samples/sec: 87.82\n",
            "2020-05-21 22:38:30,782 epoch 3 - iter 27/32 - loss 1.08095185 - samples/sec: 91.20\n",
            "2020-05-21 22:38:31,845 epoch 3 - iter 30/32 - loss 1.08098374 - samples/sec: 91.76\n",
            "2020-05-21 22:38:32,722 ----------------------------------------------------------------------------------------------------\n",
            "2020-05-21 22:38:32,726 EPOCH 3 done: loss 1.0908 - lr 0.0100000\n",
            "2020-05-21 22:38:39,544 DEV : loss 1.3306286334991455 - score 0.5\n",
            "2020-05-21 22:38:39,915 BAD EPOCHS (no improvement): 0\n",
            "saving best model\n",
            "2020-05-21 22:38:49,728 ----------------------------------------------------------------------------------------------------\n",
            "2020-05-21 22:38:51,380 epoch 4 - iter 3/32 - loss 1.06627417 - samples/sec: 82.43\n",
            "2020-05-21 22:38:52,528 epoch 4 - iter 6/32 - loss 1.06499048 - samples/sec: 88.15\n",
            "2020-05-21 22:38:53,690 epoch 4 - iter 9/32 - loss 1.07922626 - samples/sec: 84.08\n",
            "2020-05-21 22:38:54,857 epoch 4 - iter 12/32 - loss 1.08070252 - samples/sec: 84.93\n",
            "2020-05-21 22:38:55,978 epoch 4 - iter 15/32 - loss 1.08440696 - samples/sec: 87.34\n",
            "2020-05-21 22:38:57,060 epoch 4 - iter 18/32 - loss 1.07452013 - samples/sec: 92.73\n",
            "2020-05-21 22:38:58,249 epoch 4 - iter 21/32 - loss 1.06961455 - samples/sec: 83.30\n",
            "2020-05-21 22:38:59,375 epoch 4 - iter 24/32 - loss 1.06459542 - samples/sec: 87.20\n",
            "2020-05-21 22:39:00,456 epoch 4 - iter 27/32 - loss 1.06925051 - samples/sec: 91.39\n",
            "2020-05-21 22:39:01,588 epoch 4 - iter 30/32 - loss 1.06643427 - samples/sec: 86.38\n",
            "2020-05-21 22:39:02,431 ----------------------------------------------------------------------------------------------------\n",
            "2020-05-21 22:39:02,432 EPOCH 4 done: loss 1.0660 - lr 0.0100000\n",
            "2020-05-21 22:39:08,316 DEV : loss 1.3973004817962646 - score 0.5\n",
            "2020-05-21 22:39:08,718 BAD EPOCHS (no improvement): 1\n",
            "2020-05-21 22:39:08,719 ----------------------------------------------------------------------------------------------------\n",
            "2020-05-21 22:39:10,331 epoch 5 - iter 3/32 - loss 1.04234461 - samples/sec: 84.03\n",
            "2020-05-21 22:39:11,466 epoch 5 - iter 6/32 - loss 1.06372951 - samples/sec: 86.23\n",
            "2020-05-21 22:39:12,568 epoch 5 - iter 9/32 - loss 1.05627429 - samples/sec: 88.71\n",
            "2020-05-21 22:39:13,719 epoch 5 - iter 12/32 - loss 1.06456814 - samples/sec: 84.69\n",
            "2020-05-21 22:39:14,847 epoch 5 - iter 15/32 - loss 1.06635145 - samples/sec: 86.97\n",
            "2020-05-21 22:39:16,126 epoch 5 - iter 18/32 - loss 1.06224798 - samples/sec: 77.72\n",
            "2020-05-21 22:39:17,346 epoch 5 - iter 21/32 - loss 1.06208101 - samples/sec: 80.63\n",
            "2020-05-21 22:39:19,204 epoch 5 - iter 24/32 - loss 1.06309566 - samples/sec: 52.13\n",
            "2020-05-21 22:39:20,328 epoch 5 - iter 27/32 - loss 1.05949026 - samples/sec: 88.89\n",
            "2020-05-21 22:39:21,433 epoch 5 - iter 30/32 - loss 1.05740662 - samples/sec: 88.21\n",
            "2020-05-21 22:39:22,248 ----------------------------------------------------------------------------------------------------\n",
            "2020-05-21 22:39:22,249 EPOCH 5 done: loss 1.0536 - lr 0.0100000\n",
            "2020-05-21 22:39:27,873 DEV : loss 1.425378680229187 - score 0.5\n",
            "2020-05-21 22:39:28,275 BAD EPOCHS (no improvement): 2\n",
            "2020-05-21 22:39:28,276 ----------------------------------------------------------------------------------------------------\n",
            "2020-05-21 22:39:29,857 epoch 6 - iter 3/32 - loss 1.07451443 - samples/sec: 82.00\n",
            "2020-05-21 22:39:30,940 epoch 6 - iter 6/32 - loss 1.03375207 - samples/sec: 90.82\n",
            "2020-05-21 22:39:32,008 epoch 6 - iter 9/32 - loss 1.04624272 - samples/sec: 93.28\n",
            "2020-05-21 22:39:33,193 epoch 6 - iter 12/32 - loss 1.05786544 - samples/sec: 84.33\n",
            "2020-05-21 22:39:34,348 epoch 6 - iter 15/32 - loss 1.05652746 - samples/sec: 84.67\n",
            "2020-05-21 22:39:35,343 epoch 6 - iter 18/32 - loss 1.05681978 - samples/sec: 101.94\n",
            "2020-05-21 22:39:36,533 epoch 6 - iter 21/32 - loss 1.05516806 - samples/sec: 82.85\n",
            "2020-05-21 22:39:37,615 epoch 6 - iter 24/32 - loss 1.04469921 - samples/sec: 90.45\n",
            "2020-05-21 22:39:38,753 epoch 6 - iter 27/32 - loss 1.03819288 - samples/sec: 85.87\n",
            "2020-05-21 22:39:39,855 epoch 6 - iter 30/32 - loss 1.04077948 - samples/sec: 88.96\n",
            "2020-05-21 22:39:40,643 ----------------------------------------------------------------------------------------------------\n",
            "2020-05-21 22:39:40,645 EPOCH 6 done: loss 1.0383 - lr 0.0100000\n",
            "2020-05-21 22:39:47,284 DEV : loss 1.4292048215866089 - score 0.5\n",
            "2020-05-21 22:39:47,670 BAD EPOCHS (no improvement): 3\n",
            "2020-05-21 22:39:47,671 ----------------------------------------------------------------------------------------------------\n",
            "2020-05-21 22:39:49,237 epoch 7 - iter 3/32 - loss 1.03267829 - samples/sec: 86.39\n",
            "2020-05-21 22:39:50,376 epoch 7 - iter 6/32 - loss 1.04269268 - samples/sec: 85.52\n",
            "2020-05-21 22:39:51,457 epoch 7 - iter 9/32 - loss 1.03054720 - samples/sec: 91.31\n",
            "2020-05-21 22:39:52,532 epoch 7 - iter 12/32 - loss 1.04078573 - samples/sec: 90.58\n",
            "2020-05-21 22:39:53,834 epoch 7 - iter 15/32 - loss 1.04562475 - samples/sec: 78.03\n",
            "2020-05-21 22:39:54,998 epoch 7 - iter 18/32 - loss 1.04469113 - samples/sec: 84.26\n",
            "2020-05-21 22:39:56,092 epoch 7 - iter 21/32 - loss 1.04735436 - samples/sec: 89.84\n",
            "2020-05-21 22:39:57,143 epoch 7 - iter 24/32 - loss 1.04311136 - samples/sec: 93.77\n",
            "2020-05-21 22:39:58,265 epoch 7 - iter 27/32 - loss 1.03269311 - samples/sec: 86.89\n",
            "2020-05-21 22:39:59,420 epoch 7 - iter 30/32 - loss 1.03005932 - samples/sec: 86.16\n",
            "2020-05-21 22:40:00,279 ----------------------------------------------------------------------------------------------------\n",
            "2020-05-21 22:40:00,281 EPOCH 7 done: loss 1.0247 - lr 0.0100000\n",
            "2020-05-21 22:40:05,934 DEV : loss 1.4459270238876343 - score 0.5017\n",
            "2020-05-21 22:40:06,309 BAD EPOCHS (no improvement): 0\n",
            "saving best model\n",
            "2020-05-21 22:40:16,202 ----------------------------------------------------------------------------------------------------\n",
            "2020-05-21 22:40:17,891 epoch 8 - iter 3/32 - loss 1.05078065 - samples/sec: 82.83\n",
            "2020-05-21 22:40:18,995 epoch 8 - iter 6/32 - loss 0.99641885 - samples/sec: 88.95\n",
            "2020-05-21 22:40:20,148 epoch 8 - iter 9/32 - loss 1.00006373 - samples/sec: 85.92\n",
            "2020-05-21 22:40:21,241 epoch 8 - iter 12/32 - loss 0.99230858 - samples/sec: 89.39\n",
            "2020-05-21 22:40:22,317 epoch 8 - iter 15/32 - loss 1.00085184 - samples/sec: 92.82\n",
            "2020-05-21 22:40:23,384 epoch 8 - iter 18/32 - loss 0.99926859 - samples/sec: 92.75\n",
            "2020-05-21 22:40:25,553 epoch 8 - iter 21/32 - loss 1.00216389 - samples/sec: 91.47\n",
            "2020-05-21 22:40:26,591 epoch 8 - iter 24/32 - loss 1.01358849 - samples/sec: 94.18\n",
            "2020-05-21 22:40:27,728 epoch 8 - iter 27/32 - loss 1.01381972 - samples/sec: 86.55\n",
            "2020-05-21 22:40:28,857 epoch 8 - iter 30/32 - loss 1.01151572 - samples/sec: 86.25\n",
            "2020-05-21 22:40:29,667 ----------------------------------------------------------------------------------------------------\n",
            "2020-05-21 22:40:29,669 EPOCH 8 done: loss 1.0086 - lr 0.0100000\n",
            "2020-05-21 22:40:35,437 DEV : loss 1.4024531841278076 - score 0.5\n",
            "2020-05-21 22:40:35,838 BAD EPOCHS (no improvement): 1\n",
            "2020-05-21 22:40:35,839 ----------------------------------------------------------------------------------------------------\n",
            "2020-05-21 22:40:37,499 epoch 9 - iter 3/32 - loss 0.98498658 - samples/sec: 77.59\n",
            "2020-05-21 22:40:38,674 epoch 9 - iter 6/32 - loss 0.97630464 - samples/sec: 84.56\n",
            "2020-05-21 22:40:39,746 epoch 9 - iter 9/32 - loss 0.98750636 - samples/sec: 91.52\n",
            "2020-05-21 22:40:40,883 epoch 9 - iter 12/32 - loss 0.97998822 - samples/sec: 86.78\n",
            "2020-05-21 22:40:42,079 epoch 9 - iter 15/32 - loss 0.99395250 - samples/sec: 84.76\n",
            "2020-05-21 22:40:43,180 epoch 9 - iter 18/32 - loss 0.99194260 - samples/sec: 88.67\n",
            "2020-05-21 22:40:44,408 epoch 9 - iter 21/32 - loss 0.99878308 - samples/sec: 80.09\n",
            "2020-05-21 22:40:45,550 epoch 9 - iter 24/32 - loss 1.00286153 - samples/sec: 85.88\n",
            "2020-05-21 22:40:46,702 epoch 9 - iter 27/32 - loss 1.00110664 - samples/sec: 85.76\n",
            "2020-05-21 22:40:47,897 epoch 9 - iter 30/32 - loss 1.00397931 - samples/sec: 82.07\n",
            "2020-05-21 22:40:48,761 ----------------------------------------------------------------------------------------------------\n",
            "2020-05-21 22:40:48,765 EPOCH 9 done: loss 1.0067 - lr 0.0100000\n",
            "2020-05-21 22:40:55,285 DEV : loss 1.26520574092865 - score 0.5167\n",
            "2020-05-21 22:40:55,669 BAD EPOCHS (no improvement): 0\n",
            "saving best model\n",
            "2020-05-21 22:41:05,499 ----------------------------------------------------------------------------------------------------\n",
            "2020-05-21 22:41:07,189 epoch 10 - iter 3/32 - loss 1.00126012 - samples/sec: 82.25\n",
            "2020-05-21 22:41:08,276 epoch 10 - iter 6/32 - loss 0.99319618 - samples/sec: 91.90\n",
            "2020-05-21 22:41:09,414 epoch 10 - iter 9/32 - loss 1.01454636 - samples/sec: 88.55\n",
            "2020-05-21 22:41:10,509 epoch 10 - iter 12/32 - loss 1.01792919 - samples/sec: 89.08\n",
            "2020-05-21 22:41:11,589 epoch 10 - iter 15/32 - loss 1.03019811 - samples/sec: 91.26\n",
            "2020-05-21 22:41:12,621 epoch 10 - iter 18/32 - loss 1.02016422 - samples/sec: 94.76\n",
            "2020-05-21 22:41:13,799 epoch 10 - iter 21/32 - loss 1.01479906 - samples/sec: 85.05\n",
            "2020-05-21 22:41:14,863 epoch 10 - iter 24/32 - loss 1.00949284 - samples/sec: 93.20\n",
            "2020-05-21 22:41:15,948 epoch 10 - iter 27/32 - loss 1.00522633 - samples/sec: 90.67\n",
            "2020-05-21 22:41:17,033 epoch 10 - iter 30/32 - loss 1.00331367 - samples/sec: 90.56\n",
            "2020-05-21 22:41:17,859 ----------------------------------------------------------------------------------------------------\n",
            "2020-05-21 22:41:17,860 EPOCH 10 done: loss 1.0020 - lr 0.0100000\n",
            "2020-05-21 22:41:23,473 DEV : loss 1.3610143661499023 - score 0.5033\n",
            "2020-05-21 22:41:23,883 BAD EPOCHS (no improvement): 1\n",
            "2020-05-21 22:41:33,765 ----------------------------------------------------------------------------------------------------\n",
            "2020-05-21 22:41:33,766 Testing using best model ...\n",
            "2020-05-21 22:41:33,768 loading file resources/taggers/ag_news/best-model.pt\n",
            "2020-05-21 22:41:40,658 0.036585365853658534\t0.036585365853658534\t0.036585365853658534\n",
            "2020-05-21 22:41:40,659 \n",
            "MICRO_AVG: acc 0.5182926829268293 - f1-score 0.036585365853658534\n",
            "MACRO_AVG: acc 0.5182926829268293 - f1-score 0.0375\n",
            "-1         tp: 0 - fp: 0 - fn: 93 - tn: 71 - precision: 0.0000 - recall: 0.0000 - accuracy: 0.4329 - f1-score: 0.0000\n",
            "0          tp: 0 - fp: 154 - fn: 0 - tn: 10 - precision: 0.0000 - recall: 0.0000 - accuracy: 0.0610 - f1-score: 0.0000\n",
            "1          tp: 6 - fp: 4 - fn: 64 - tn: 90 - precision: 0.6000 - recall: 0.0857 - accuracy: 0.5854 - f1-score: 0.1500\n",
            "label      tp: 0 - fp: 0 - fn: 1 - tn: 163 - precision: 0.0000 - recall: 0.0000 - accuracy: 0.9939 - f1-score: 0.0000\n",
            "2020-05-21 22:41:40,663 ----------------------------------------------------------------------------------------------------\n"
          ],
          "name": "stdout"
        },
        {
          "output_type": "execute_result",
          "data": {
            "text/plain": [
              "{'dev_loss_history': [1.4254571199417114,\n",
              "  1.4655389785766602,\n",
              "  1.3306286334991455,\n",
              "  1.3973004817962646,\n",
              "  1.425378680229187,\n",
              "  1.4292048215866089,\n",
              "  1.4459270238876343,\n",
              "  1.4024531841278076,\n",
              "  1.26520574092865,\n",
              "  1.3610143661499023],\n",
              " 'dev_score_history': [0.5,\n",
              "  0.5,\n",
              "  0.5,\n",
              "  0.5,\n",
              "  0.5,\n",
              "  0.5,\n",
              "  0.5016666666666667,\n",
              "  0.5,\n",
              "  0.5166666666666667,\n",
              "  0.5033333333333333],\n",
              " 'test_score': 0.5182926829268293,\n",
              " 'train_loss_history': [1.222867265343666,\n",
              "  1.1127750761806965,\n",
              "  1.0908141881227493,\n",
              "  1.0659586917608976,\n",
              "  1.053624739870429,\n",
              "  1.0383091922849417,\n",
              "  1.024657927453518,\n",
              "  1.0086243636906147,\n",
              "  1.0066987425088882,\n",
              "  1.0020265635102987]}"
            ]
          },
          "metadata": {
            "tags": []
          },
          "execution_count": 5
        }
      ]
    },
    {
      "cell_type": "code",
      "metadata": {
        "id": "zxjFeQecR4xQ",
        "colab_type": "code",
        "outputId": "fbc67327-b5d2-4423-b061-e001892c4971",
        "colab": {
          "base_uri": "https://localhost:8080/",
          "height": 857
        }
      },
      "source": [
        "plotter = Plotter()\n",
        "plotter.plot_weights('resources/taggers/ag_news/weights.txt')\n",
        "\n",
        "classifier = TextClassifier.load('resources/taggers/ag_news/final-model.pt')\n"
      ],
      "execution_count": 6,
      "outputs": [
        {
          "output_type": "stream",
          "text": [
            "Weights plots are saved in resources/taggers/ag_news/weights.png\n",
            "2020-05-21 22:41:57,896 loading file resources/taggers/ag_news/final-model.pt\n"
          ],
          "name": "stdout"
        },
        {
          "output_type": "display_data",
          "data": {
            "image/png": "[encoded data removed]",
            "text/plain": [
              "<Figure size 576x792 with 22 Axes>"
            ]
          },
          "metadata": {
            "tags": []
          }
        }
      ]
    },
    {
      "cell_type": "code",
      "metadata": {
        "id": "tYysx9tbcGeq",
        "colab_type": "code",
        "outputId": "5dff8954-b4f6-454f-c44d-de2300eae425",
        "colab": {
          "base_uri": "https://localhost:8080/",
          "height": 34
        }
      },
      "source": [
        "# create example sentence\n",
        "sentence = Sentence(\"Canada's growth weakens as investment drops, consumers fade\")\n",
        "\n",
        "# predict class and print\n",
        "classifier.predict(sentence)\n",
        "\n",
        "print(sentence.labels)"
      ],
      "execution_count": 7,
      "outputs": [
        {
          "output_type": "stream",
          "text": [
            "[-1 (0.3753)]\n"
          ],
          "name": "stdout"
        }
      ]
    },
    {
      "cell_type": "markdown",
      "metadata": {
        "id": "ZD7IaFw-dzrt",
        "colab_type": "text"
      },
      "source": [
        "# TRAINING PHASE II - GDP subset\n",
        "#### train.csv = 132 rows\n",
        "#### dev.csv and test.csv = 33 rows"
      ]
    },
    {
      "cell_type": "code",
      "metadata": {
        "id": "rm8veSMIR4xF",
        "colab_type": "code",
        "outputId": "622c0c71-dfb0-4d68-c636-3fcf3215be5a",
        "colab": {
          "base_uri": "https://localhost:8080/",
          "height": 105
        }
      },
      "source": [
        "# this is the folder in which train, test and dev files reside\n",
        "#FOR CPU: \n",
        "#data_folder = 'experimental_flair_data/annotated_subset/'\n",
        "#FOR COLAB: \n",
        "data_folder = \"./drive/My Drive/Colab Notebooks/capstone/data/annotated_data_GDP\"\n",
        "\n",
        "# column format indicating which columns hold the text and label(s)\n",
        "#column 2 = headline and description concatenation\n",
        "#column 4 = label (-1, 0, 1)\n",
        "\n",
        "column_name_map = {5: \"text\", 4: \"label_topic\"}\n",
        "\n",
        "# load corpus containing training, test and dev data and if CSV has a header, you can skip it\n",
        "# 1. get the corpus\n",
        "corpus: Corpus = CSVClassificationCorpus(data_folder,\n",
        "                                         column_name_map,\n",
        "                                         skip_header=True,\n",
        "                                         delimiter=',',    # tab-separated files\n",
        ") \n",
        "    \n",
        "\n",
        "\n"
      ],
      "execution_count": 8,
      "outputs": [
        {
          "output_type": "stream",
          "text": [
            "2020-05-21 22:42:08,328 Reading data from drive/My Drive/Colab Notebooks/capstone/data/annotated_data_GDP\n",
            "2020-05-21 22:42:08,329 Train: drive/My Drive/Colab Notebooks/capstone/data/annotated_data_GDP/train.csv\n",
            "2020-05-21 22:42:08,330 Dev: drive/My Drive/Colab Notebooks/capstone/data/annotated_data_GDP/dev.csv\n",
            "2020-05-21 22:42:08,334 Test: drive/My Drive/Colab Notebooks/capstone/data/annotated_data_GDP/test.csv\n"
          ],
          "name": "stdout"
        }
      ]
    },
    {
      "cell_type": "code",
      "metadata": {
        "id": "CNlSjTOHYuAM",
        "colab_type": "code",
        "outputId": "9647df3e-28c8-4647-c473-7fc07f333d4c",
        "colab": {
          "base_uri": "https://localhost:8080/",
          "height": 1000
        }
      },
      "source": [
        "\n",
        "#REPEAT TRAINING PROCESS, but use same document_embeddings as in phase 1\n",
        "\n",
        "# 2. create the label dictionary\n",
        "# label_dict = corpus.make_label_dictionary()\n",
        "\n",
        "# # 3. make a list of word embeddings\n",
        "# word_embeddings = [WordEmbeddings('glove'),\n",
        "\n",
        "#                    # comment in flair embeddings for state-of-the-art results\n",
        "#                    # FlairEmbeddings('news-forward'),\n",
        "#                    # FlairEmbeddings('news-backward'),\n",
        "#                    ]\n",
        "\n",
        "# # 4. initialize document embedding by passing list of word embeddings\n",
        "# # Can choose between many RNN types (GRU by default, to change use rnn_type parameter)\n",
        "# document_embeddings: DocumentRNNEmbeddings = DocumentRNNEmbeddings(word_embeddings,\n",
        "#                                                                      hidden_size=512,\n",
        "#                                                                      reproject_words=True,\n",
        "#                                                                      )\n",
        "\n",
        "# # 5. create the text classifier\n",
        "classifier = TextClassifier(document_embeddings, label_dictionary=label_dict)\n",
        "\n",
        "# 6. initialize the text classifier trainer\n",
        "trainer = ModelTrainer(classifier, corpus)\n",
        "\n",
        "# 7. start the training\n",
        "trainer.train('resources/taggers/ag_news',\n",
        "              learning_rate=0.1,\n",
        "              mini_batch_size=32,\n",
        "              anneal_factor=0.5,\n",
        "              patience=5,\n",
        "              max_epochs=10)"
      ],
      "execution_count": 10,
      "outputs": [
        {
          "output_type": "stream",
          "text": [
            "2020-05-21 22:54:26,892 ----------------------------------------------------------------------------------------------------\n",
            "2020-05-21 22:54:26,894 Model: \"TextClassifier(\n",
            "  (document_embeddings): DocumentRNNEmbeddings(\n",
            "    (embeddings): StackedEmbeddings(\n",
            "      (list_embedding_0): WordEmbeddings('en-twitter')\n",
            "      (list_embedding_1): FlairEmbeddings(\n",
            "        (lm): LanguageModel(\n",
            "          (drop): Dropout(p=0.05, inplace=False)\n",
            "          (encoder): Embedding(300, 100)\n",
            "          (rnn): LSTM(100, 2048)\n",
            "          (decoder): Linear(in_features=2048, out_features=300, bias=True)\n",
            "        )\n",
            "      )\n",
            "      (list_embedding_2): FlairEmbeddings(\n",
            "        (lm): LanguageModel(\n",
            "          (drop): Dropout(p=0.05, inplace=False)\n",
            "          (encoder): Embedding(300, 100)\n",
            "          (rnn): LSTM(100, 2048)\n",
            "          (decoder): Linear(in_features=2048, out_features=300, bias=True)\n",
            "        )\n",
            "      )\n",
            "    )\n",
            "    (word_reprojection_map): Linear(in_features=4196, out_features=256, bias=True)\n",
            "    (rnn): GRU(256, 512, batch_first=True)\n",
            "    (dropout): Dropout(p=0.5, inplace=False)\n",
            "  )\n",
            "  (decoder): Linear(in_features=512, out_features=4, bias=True)\n",
            "  (loss_function): CrossEntropyLoss()\n",
            "  (beta): 1.0\n",
            "  (weights): None\n",
            "  (weight_tensor) None\n",
            ")\"\n",
            "2020-05-21 22:54:26,895 ----------------------------------------------------------------------------------------------------\n",
            "2020-05-21 22:54:26,895 Corpus: \"Corpus: 132 train + 165 dev + 33 test sentences\"\n",
            "2020-05-21 22:54:26,896 ----------------------------------------------------------------------------------------------------\n",
            "2020-05-21 22:54:26,898 Parameters:\n",
            "2020-05-21 22:54:26,898  - learning_rate: \"0.1\"\n",
            "2020-05-21 22:54:26,899  - mini_batch_size: \"32\"\n",
            "2020-05-21 22:54:26,907  - patience: \"5\"\n",
            "2020-05-21 22:54:26,909  - anneal_factor: \"0.5\"\n",
            "2020-05-21 22:54:26,910  - max_epochs: \"10\"\n",
            "2020-05-21 22:54:26,910  - shuffle: \"True\"\n",
            "2020-05-21 22:54:26,914  - train_with_dev: \"False\"\n",
            "2020-05-21 22:54:26,915  - batch_growth_annealing: \"False\"\n",
            "2020-05-21 22:54:26,916 ----------------------------------------------------------------------------------------------------\n",
            "2020-05-21 22:54:26,917 Model training base path: \"resources/taggers/ag_news\"\n",
            "2020-05-21 22:54:26,918 ----------------------------------------------------------------------------------------------------\n",
            "2020-05-21 22:54:26,919 Device: cuda:0\n",
            "2020-05-21 22:54:26,920 ----------------------------------------------------------------------------------------------------\n",
            "2020-05-21 22:54:26,921 Embeddings storage mode: cpu\n",
            "2020-05-21 22:54:26,923 ----------------------------------------------------------------------------------------------------\n",
            "2020-05-21 22:54:28,202 epoch 1 - iter 1/5 - loss 1.47681880 - samples/sec: 42.61\n",
            "2020-05-21 22:54:28,713 epoch 1 - iter 2/5 - loss 1.29537153 - samples/sec: 66.35\n",
            "2020-05-21 22:54:29,231 epoch 1 - iter 3/5 - loss 1.20598749 - samples/sec: 65.07\n",
            "2020-05-21 22:54:29,718 epoch 1 - iter 4/5 - loss 1.12884791 - samples/sec: 69.00\n",
            "2020-05-21 22:54:29,935 epoch 1 - iter 5/5 - loss 1.05626283 - samples/sec: 158.82\n",
            "2020-05-21 22:54:30,238 ----------------------------------------------------------------------------------------------------\n",
            "2020-05-21 22:54:30,239 EPOCH 1 done: loss 1.0563 - lr 0.1000000\n",
            "2020-05-21 22:54:33,504 DEV : loss 0.751253604888916 - score 0.8364\n",
            "2020-05-21 22:54:33,689 BAD EPOCHS (no improvement): 0\n",
            "saving best model\n",
            "2020-05-21 22:54:45,172 ----------------------------------------------------------------------------------------------------\n",
            "2020-05-21 22:54:46,922 epoch 2 - iter 1/5 - loss 0.80529249 - samples/sec: 30.81\n",
            "2020-05-21 22:54:47,466 epoch 2 - iter 2/5 - loss 0.77350104 - samples/sec: 61.30\n",
            "2020-05-21 22:54:47,906 epoch 2 - iter 3/5 - loss 0.73233805 - samples/sec: 75.85\n",
            "2020-05-21 22:54:48,392 epoch 2 - iter 4/5 - loss 0.77118184 - samples/sec: 67.82\n",
            "2020-05-21 22:54:48,519 epoch 2 - iter 5/5 - loss 0.67325734 - samples/sec: 283.75\n",
            "2020-05-21 22:54:48,852 ----------------------------------------------------------------------------------------------------\n",
            "2020-05-21 22:54:48,853 EPOCH 2 done: loss 0.6733 - lr 0.1000000\n",
            "2020-05-21 22:54:52,191 DEV : loss 0.911827564239502 - score 0.7364\n",
            "2020-05-21 22:54:52,383 BAD EPOCHS (no improvement): 1\n",
            "2020-05-21 22:54:52,385 ----------------------------------------------------------------------------------------------------\n",
            "2020-05-21 22:54:53,380 epoch 3 - iter 1/5 - loss 0.89873058 - samples/sec: 66.02\n",
            "2020-05-21 22:54:53,863 epoch 3 - iter 2/5 - loss 0.76607195 - samples/sec: 69.80\n",
            "2020-05-21 22:54:54,364 epoch 3 - iter 3/5 - loss 0.72118572 - samples/sec: 67.12\n",
            "2020-05-21 22:54:54,855 epoch 3 - iter 4/5 - loss 0.66336210 - samples/sec: 67.22\n",
            "2020-05-21 22:54:55,069 epoch 3 - iter 5/5 - loss 0.63813013 - samples/sec: 159.80\n",
            "2020-05-21 22:54:55,433 ----------------------------------------------------------------------------------------------------\n",
            "2020-05-21 22:54:55,438 EPOCH 3 done: loss 0.6381 - lr 0.1000000\n",
            "2020-05-21 22:54:58,756 DEV : loss 0.6771423816680908 - score 0.8152\n",
            "2020-05-21 22:54:58,939 BAD EPOCHS (no improvement): 2\n",
            "2020-05-21 22:54:58,940 ----------------------------------------------------------------------------------------------------\n",
            "2020-05-21 22:54:59,966 epoch 4 - iter 1/5 - loss 0.71399844 - samples/sec: 66.57\n",
            "2020-05-21 22:55:00,458 epoch 4 - iter 2/5 - loss 0.67290935 - samples/sec: 69.94\n",
            "2020-05-21 22:55:00,960 epoch 4 - iter 3/5 - loss 0.63443438 - samples/sec: 65.81\n",
            "2020-05-21 22:55:01,448 epoch 4 - iter 4/5 - loss 0.58677571 - samples/sec: 67.59\n",
            "2020-05-21 22:55:01,650 epoch 4 - iter 5/5 - loss 0.58326679 - samples/sec: 173.99\n",
            "2020-05-21 22:55:01,996 ----------------------------------------------------------------------------------------------------\n",
            "2020-05-21 22:55:01,997 EPOCH 4 done: loss 0.5833 - lr 0.1000000\n",
            "2020-05-21 22:55:05,483 DEV : loss 0.6280238628387451 - score 0.8485\n",
            "2020-05-21 22:55:05,695 BAD EPOCHS (no improvement): 0\n",
            "saving best model\n",
            "2020-05-21 22:55:16,485 ----------------------------------------------------------------------------------------------------\n",
            "2020-05-21 22:55:18,241 epoch 5 - iter 1/5 - loss 0.75473750 - samples/sec: 31.35\n",
            "2020-05-21 22:55:18,672 epoch 5 - iter 2/5 - loss 0.69156048 - samples/sec: 80.10\n",
            "2020-05-21 22:55:19,161 epoch 5 - iter 3/5 - loss 0.58789334 - samples/sec: 68.31\n",
            "2020-05-21 22:55:19,644 epoch 5 - iter 4/5 - loss 0.60029190 - samples/sec: 69.38\n",
            "2020-05-21 22:55:19,792 epoch 5 - iter 5/5 - loss 0.51256271 - samples/sec: 242.59\n",
            "2020-05-21 22:55:20,165 ----------------------------------------------------------------------------------------------------\n",
            "2020-05-21 22:55:20,167 EPOCH 5 done: loss 0.5126 - lr 0.1000000\n",
            "2020-05-21 22:55:23,435 DEV : loss 0.4539509415626526 - score 0.9121\n",
            "2020-05-21 22:55:23,628 BAD EPOCHS (no improvement): 0\n",
            "saving best model\n",
            "2020-05-21 22:55:34,388 ----------------------------------------------------------------------------------------------------\n",
            "2020-05-21 22:55:36,165 epoch 6 - iter 1/5 - loss 0.43602365 - samples/sec: 29.86\n",
            "2020-05-21 22:55:36,695 epoch 6 - iter 2/5 - loss 0.46832702 - samples/sec: 64.46\n",
            "2020-05-21 22:55:37,116 epoch 6 - iter 3/5 - loss 0.43794680 - samples/sec: 79.39\n",
            "2020-05-21 22:55:37,571 epoch 6 - iter 4/5 - loss 0.46015990 - samples/sec: 73.48\n",
            "2020-05-21 22:55:37,774 epoch 6 - iter 5/5 - loss 0.40786610 - samples/sec: 169.90\n",
            "2020-05-21 22:55:38,138 ----------------------------------------------------------------------------------------------------\n",
            "2020-05-21 22:55:38,139 EPOCH 6 done: loss 0.4079 - lr 0.1000000\n",
            "2020-05-21 22:55:41,497 DEV : loss 0.4644159972667694 - score 0.8939\n",
            "2020-05-21 22:55:41,685 BAD EPOCHS (no improvement): 1\n",
            "2020-05-21 22:55:41,687 ----------------------------------------------------------------------------------------------------\n",
            "2020-05-21 22:55:42,731 epoch 7 - iter 1/5 - loss 0.46951646 - samples/sec: 66.99\n",
            "2020-05-21 22:55:43,219 epoch 7 - iter 2/5 - loss 0.40481485 - samples/sec: 68.09\n",
            "2020-05-21 22:55:43,714 epoch 7 - iter 3/5 - loss 0.46352956 - samples/sec: 66.52\n",
            "2020-05-21 22:55:44,194 epoch 7 - iter 4/5 - loss 0.46581554 - samples/sec: 69.53\n",
            "2020-05-21 22:55:44,398 epoch 7 - iter 5/5 - loss 0.50615541 - samples/sec: 169.39\n",
            "2020-05-21 22:55:44,741 ----------------------------------------------------------------------------------------------------\n",
            "2020-05-21 22:55:44,743 EPOCH 7 done: loss 0.5062 - lr 0.1000000\n",
            "2020-05-21 22:55:48,123 DEV : loss 1.4450476169586182 - score 0.6909\n",
            "2020-05-21 22:55:48,327 BAD EPOCHS (no improvement): 2\n",
            "2020-05-21 22:55:48,328 ----------------------------------------------------------------------------------------------------\n",
            "2020-05-21 22:55:49,292 epoch 8 - iter 1/5 - loss 1.41274846 - samples/sec: 79.17\n",
            "2020-05-21 22:55:49,785 epoch 8 - iter 2/5 - loss 0.90220229 - samples/sec: 69.05\n",
            "2020-05-21 22:55:50,291 epoch 8 - iter 3/5 - loss 0.79132741 - samples/sec: 65.54\n",
            "2020-05-21 22:55:50,804 epoch 8 - iter 4/5 - loss 0.71873755 - samples/sec: 65.59\n",
            "2020-05-21 22:55:51,046 epoch 8 - iter 5/5 - loss 0.61750137 - samples/sec: 140.73\n",
            "2020-05-21 22:55:51,401 ----------------------------------------------------------------------------------------------------\n",
            "2020-05-21 22:55:51,403 EPOCH 8 done: loss 0.6175 - lr 0.1000000\n",
            "2020-05-21 22:55:54,772 DEV : loss 0.44337794184684753 - score 0.8879\n",
            "2020-05-21 22:55:54,974 BAD EPOCHS (no improvement): 3\n",
            "2020-05-21 22:55:54,975 ----------------------------------------------------------------------------------------------------\n",
            "2020-05-21 22:55:55,994 epoch 9 - iter 1/5 - loss 0.53449571 - samples/sec: 68.34\n",
            "2020-05-21 22:55:56,522 epoch 9 - iter 2/5 - loss 0.51692867 - samples/sec: 63.72\n",
            "2020-05-21 22:55:57,040 epoch 9 - iter 3/5 - loss 0.46555024 - samples/sec: 64.76\n",
            "2020-05-21 22:55:57,545 epoch 9 - iter 4/5 - loss 0.44786610 - samples/sec: 66.73\n",
            "2020-05-21 22:55:57,709 epoch 9 - iter 5/5 - loss 0.51233250 - samples/sec: 214.44\n",
            "2020-05-21 22:55:58,057 ----------------------------------------------------------------------------------------------------\n",
            "2020-05-21 22:55:58,059 EPOCH 9 done: loss 0.5123 - lr 0.1000000\n",
            "2020-05-21 22:56:01,485 DEV : loss 0.6389223337173462 - score 0.8303\n",
            "2020-05-21 22:56:01,668 BAD EPOCHS (no improvement): 4\n",
            "2020-05-21 22:56:01,669 ----------------------------------------------------------------------------------------------------\n",
            "2020-05-21 22:56:02,733 epoch 10 - iter 1/5 - loss 0.87463862 - samples/sec: 68.74\n",
            "2020-05-21 22:56:03,238 epoch 10 - iter 2/5 - loss 0.63168615 - samples/sec: 65.59\n",
            "2020-05-21 22:56:03,762 epoch 10 - iter 3/5 - loss 0.54773054 - samples/sec: 62.90\n",
            "2020-05-21 22:56:04,286 epoch 10 - iter 4/5 - loss 0.54642212 - samples/sec: 62.90\n",
            "2020-05-21 22:56:04,538 epoch 10 - iter 5/5 - loss 0.47644156 - samples/sec: 136.65\n",
            "2020-05-21 22:56:04,896 ----------------------------------------------------------------------------------------------------\n",
            "2020-05-21 22:56:04,897 EPOCH 10 done: loss 0.4764 - lr 0.1000000\n",
            "2020-05-21 22:56:08,400 DEV : loss 0.427329957485199 - score 0.897\n",
            "2020-05-21 22:56:08,585 BAD EPOCHS (no improvement): 5\n",
            "2020-05-21 22:56:19,479 ----------------------------------------------------------------------------------------------------\n",
            "2020-05-21 22:56:19,488 Testing using best model ...\n",
            "2020-05-21 22:56:19,493 loading file resources/taggers/ag_news/best-model.pt\n",
            "2020-05-21 22:56:45,817 0.6060606060606061\t0.6060606060606061\t0.6060606060606061\n",
            "2020-05-21 22:56:45,826 \n",
            "MICRO_AVG: acc 0.803030303030303 - f1-score 0.6060606060606061\n",
            "MACRO_AVG: acc 0.803030303030303 - f1-score 0.4559019832189169\n",
            "-1         tp: 7 - fp: 6 - fn: 4 - tn: 16 - precision: 0.5385 - recall: 0.6364 - accuracy: 0.6970 - f1-score: 0.5833\n",
            "0          tp: 7 - fp: 5 - fn: 4 - tn: 17 - precision: 0.5833 - recall: 0.6364 - accuracy: 0.7273 - f1-score: 0.6087\n",
            "1          tp: 6 - fp: 2 - fn: 5 - tn: 20 - precision: 0.7500 - recall: 0.5455 - accuracy: 0.7879 - f1-score: 0.6316\n",
            "label      tp: 0 - fp: 0 - fn: 0 - tn: 33 - precision: 0.0000 - recall: 0.0000 - accuracy: 1.0000 - f1-score: 0.0000\n",
            "2020-05-21 22:56:45,826 ----------------------------------------------------------------------------------------------------\n"
          ],
          "name": "stdout"
        },
        {
          "output_type": "execute_result",
          "data": {
            "text/plain": [
              "{'dev_loss_history': [0.751253604888916,\n",
              "  0.911827564239502,\n",
              "  0.6771423816680908,\n",
              "  0.6280238628387451,\n",
              "  0.4539509415626526,\n",
              "  0.4644159972667694,\n",
              "  1.4450476169586182,\n",
              "  0.44337794184684753,\n",
              "  0.6389223337173462,\n",
              "  0.427329957485199],\n",
              " 'dev_score_history': [0.8363636363636363,\n",
              "  0.7363636363636363,\n",
              "  0.8151515151515152,\n",
              "  0.8484848484848485,\n",
              "  0.9121212121212121,\n",
              "  0.8939393939393939,\n",
              "  0.6909090909090909,\n",
              "  0.8878787878787879,\n",
              "  0.8303030303030303,\n",
              "  0.896969696969697],\n",
              " 'test_score': 0.803030303030303,\n",
              " 'train_loss_history': [1.0562628269195558,\n",
              "  0.673257339000702,\n",
              "  0.6381301283836365,\n",
              "  0.5832667946815491,\n",
              "  0.5125627100467682,\n",
              "  0.407866096496582,\n",
              "  0.5061554133892059,\n",
              "  0.6175013720989228,\n",
              "  0.5123325049877167,\n",
              "  0.4764415562152863]}"
            ]
          },
          "metadata": {
            "tags": []
          },
          "execution_count": 10
        }
      ]
    },
    {
      "cell_type": "code",
      "metadata": {
        "id": "sve1uFMcR4xH",
        "colab_type": "code",
        "outputId": "394f5741-e488-4796-92c9-bea5cf167e49",
        "colab": {
          "base_uri": "https://localhost:8080/",
          "height": 874
        }
      },
      "source": [
        "# 8. plot weight traces (optional)\n",
        "from flair.visual.training_curves import Plotter\n",
        "plotter = Plotter()\n",
        "plotter.plot_weights('resources/taggers/ag_news/weights.txt')\n",
        "\n",
        "classifier = TextClassifier.load('resources/taggers/ag_news/final-model.pt')\n",
        "\n",
        "# create example sentence\n",
        "sentence = Sentence(\"Canada's growth weakens as investment drops, consumers fade\")\n",
        "\n",
        "# predict class and print\n",
        "classifier.predict(sentence)\n",
        "\n",
        "print(sentence.labels)"
      ],
      "execution_count": 11,
      "outputs": [
        {
          "output_type": "stream",
          "text": [
            "Weights plots are saved in resources/taggers/ag_news/weights.png\n",
            "2020-05-21 23:04:16,930 loading file resources/taggers/ag_news/final-model.pt\n",
            "[-1 (0.5176)]\n"
          ],
          "name": "stdout"
        },
        {
          "output_type": "display_data",
          "data": {
            "image/png": "[encoded data removed]",
            "text/plain": [
              "<Figure size 576x792 with 22 Axes>"
            ]
          },
          "metadata": {
            "tags": []
          }
        }
      ]
    },
    {
      "cell_type": "code",
      "metadata": {
        "id": "N0nty5H3R4xJ",
        "colab_type": "code",
        "outputId": "d2d6241e-a09b-4dd0-f10c-815ed78f9258",
        "colab": {
          "base_uri": "https://localhost:8080/",
          "height": 71
        }
      },
      "source": [
        "classifier = TextClassifier.load('resources/taggers/ag_news/final-model.pt')\n",
        "\n",
        "# create example sentence\n",
        "sentence = Sentence(\"Canada's growth weakens as investment drops, consumers fade\")\n",
        "\n",
        "# predict class and print\n",
        "classifier.predict(sentence)\n",
        "\n",
        "print(sentence.labels)"
      ],
      "execution_count": 12,
      "outputs": [
        {
          "output_type": "stream",
          "text": [
            "2020-05-21 23:04:45,557 loading file resources/taggers/ag_news/final-model.pt\n",
            "[-1 (0.5176)]\n"
          ],
          "name": "stdout"
        }
      ]
    },
    {
      "cell_type": "code",
      "metadata": {
        "id": "kgSWO0LcfTew",
        "colab_type": "code",
        "colab": {}
      },
      "source": [
        ""
      ],
      "execution_count": 0,
      "outputs": []
    }
  ]
}