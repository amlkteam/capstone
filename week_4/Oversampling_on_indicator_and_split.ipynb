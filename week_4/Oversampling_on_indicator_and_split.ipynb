{
  "nbformat": 4,
  "nbformat_minor": 0,
  "metadata": {
    "colab": {
      "name": "Oversampling_on_indicator_and_split.ipynb",
      "provenance": [],
      "collapsed_sections": []
    },
    "kernelspec": {
      "name": "python3",
      "display_name": "Python 3"
    }
  },
  "cells": [
    {
      "cell_type": "code",
      "metadata": {
        "id": "kJssYT6Oe70U",
        "colab_type": "code",
        "colab": {}
      },
      "source": [
        ""
      ],
      "execution_count": 0,
      "outputs": []
    },
    {
      "cell_type": "code",
      "metadata": {
        "id": "3lJlAgG3U_IB",
        "colab_type": "code",
        "colab": {}
      },
      "source": [
        "### make a modular function to oversample and train_test_split on the 6 econ indicators for 2nd-stage finetuning of sentiment analyzer:\n",
        "import pandas as pd\n",
        "from sklearn.model_selection import train_test_split\n",
        "import os\n",
        "\n",
        "import_folder = r'/content/drive/My Drive/Colab Notebooks/capstone_betterdwelling/annotations_bnn_cbc/'\n",
        "export_folder = r'/content/drive/My Drive/Colab Notebooks/capstone_betterdwelling/annotations_bnn_cbc/oversampled/'\n",
        "\n",
        "def oversampling_on_indicator_and_split(indicator_name, import_folder, export_folder):\n",
        "    '''takes in a csv file containing mixed-sourced news articles related to a particular economic indicator, \n",
        "    performs oversampling to make all labels have equal number of examples, export the oversampled csvfile. '''\n",
        "\n",
        "    indicator_file = 'annotated_'+indicator_name+'_bnn&CBC.csv'\n",
        "    \n",
        "    df = pd.read_csv(os.path.join(import_folder,indicator_file), usecols = ['title','description','title_desc_sent_1','publishedAt'])\n",
        "\n",
        "    print(df['title_desc_sent_1'].value_counts())\n",
        "\n",
        "    # add one more column to combine title+description\n",
        "    df['title_desc'] = df['title'] + \". \" + df['description']\n",
        "\n",
        "    negative_rows = df[df['title_desc_sent_1'] == -1]\n",
        "    neutral_rows = df[df['title_desc_sent_1'] == 0]\n",
        "    positive_rows = df[df['title_desc_sent_1'] == 1]\n",
        "\n",
        "    ## find the majority class\n",
        "    majority_label = df['title_desc_sent_1'].value_counts().idxmax()\n",
        "    print(majority_label)\n",
        "    majority_label_len = df['title_desc_sent_1'].value_counts().max()\n",
        "    print(majority_label_len)\n",
        "\n",
        "    resampled_rows = []\n",
        "    for rows in [negative_rows, neutral_rows, positive_rows]:\n",
        "      resampled = rows.sample(frac = majority_label_len/len(rows),random_state=42,replace=True)\n",
        "      resampled_rows.append(resampled)\n",
        "\n",
        "\n",
        "    df_oversampled = pd.concat(resampled_rows)\n",
        "\n",
        "\n",
        "    ## now export\n",
        "    #indicator_name = indicator_file.split(\"_\")[1]\n",
        "    #print(indicator_name)\n",
        "\n",
        "    export_file_path = os.path.join(export_folder,indicator_name+'_df_oversampled.csv')\n",
        "    df_oversampled.to_csv(export_file_path)\n",
        "\n",
        "    #train_test_split\n",
        "\n",
        "    df_train,df_eva = train_test_split(df_oversampled,test_size = 0.2, random_state = 42)\n",
        "\n",
        "    df_train.to_csv(os.path.join(export_folder,indicator_name+'_train_df_oversampled.csv'))\n",
        "    df_eva.to_csv(os.path.join(export_folder,indicator_name+'_eva_df_oversampled.csv'))\n",
        "\n",
        "    print(\"done\",indicator_name)\n",
        "\n"
      ],
      "execution_count": 0,
      "outputs": []
    },
    {
      "cell_type": "code",
      "metadata": {
        "id": "E94K_DlBclA0",
        "colab_type": "code",
        "outputId": "3a5aeb0b-76d0-4fee-9acf-f95b4e126e5f",
        "colab": {
          "base_uri": "https://localhost:8080/",
          "height": 823
        }
      },
      "source": [
        "indicator_names = ['GDP','employment','housing','interest_rate','mortgage_rate','stock']\n",
        "\n",
        "for indicator_name in indicator_names:\n",
        "  print(indicator_name)\n",
        "  oversampling_on_indicator_and_split(indicator_name, import_folder, export_folder)"
      ],
      "execution_count": 0,
      "outputs": [
        {
          "output_type": "stream",
          "text": [
            "GDP\n",
            "-1    55\n",
            " 0    43\n",
            " 1    32\n",
            "Name: title_desc_sent_1, dtype: int64\n",
            "-1\n",
            "55\n",
            "done GDP\n",
            "employment\n",
            " 0    67\n",
            "-1    30\n",
            " 1    20\n",
            "Name: title_desc_sent_1, dtype: int64\n",
            "0\n",
            "67\n",
            "done employment\n",
            "housing\n",
            " 0    59\n",
            "-1    29\n",
            " 1    28\n",
            "Name: title_desc_sent_1, dtype: int64\n",
            "0\n",
            "59\n",
            "done housing\n",
            "interest_rate\n",
            " 0    68\n",
            "-1    38\n",
            " 1    11\n",
            "Name: title_desc_sent_1, dtype: int64\n",
            "0\n",
            "68\n",
            "done interest_rate\n",
            "mortgage_rate\n",
            " 0    69\n",
            "-1    37\n",
            " 1    19\n",
            "Name: title_desc_sent_1, dtype: int64\n",
            "0\n",
            "69\n",
            "done mortgage_rate\n",
            "stock\n",
            " 0    63\n",
            "-1    37\n",
            " 1    21\n",
            "Name: title_desc_sent_1, dtype: int64\n",
            "0\n",
            "63\n",
            "done stock\n"
          ],
          "name": "stdout"
        }
      ]
    }
  ]
}