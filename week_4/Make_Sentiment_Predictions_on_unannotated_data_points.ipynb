{
  "nbformat": 4,
  "nbformat_minor": 0,
  "metadata": {
    "colab": {
      "name": "Make Sentiment Predictions on unannotated data points.ipynb",
      "provenance": []
    },
    "kernelspec": {
      "name": "python3",
      "display_name": "Python 3"
    }
  },
  "cells": [
    {
      "cell_type": "code",
      "metadata": {
        "id": "vYlECP7M49Sz",
        "colab_type": "code",
        "colab": {}
      },
      "source": [
        "import pandas as pd\n",
        "\n",
        "from flair.models import TextClassifier\n",
        "from flair.data import Sentence\n",
        "\n",
        "\n",
        "\n",
        "def finetuned_model_predictions(input_file_path, finetuned_classifier, output_file_path):\n",
        "  '''Makes Sentiment Predictions on unannotated data points contained in the input csvfile by loading the user-defined classifier.\n",
        "     Exports the csvfile by adding two columns 'pred_label' and 'confidence' and filling in results from model predictions.\n",
        "  '''\n",
        "\n",
        "  unannotated_df = pd.read_csv(input_file_path)\n",
        "  ## add two new columns to export predictions\n",
        "  unannotated_df['pred_label'] = None\n",
        "  unannotated_df['confidence'] = None\n",
        "\n",
        "\n",
        "  for i in range(len(unannotated_df)):\n",
        "\n",
        "    print(unannotated_df['title_desc'].iloc[i])\n",
        "    sentence = Sentence(unannotated_df['title_desc'].iloc[i])\n",
        "\n",
        "    finetuned_classifier.predict(sentence)\n",
        "\n",
        "    print(sentence.labels)\n",
        "    print(sentence.labels[0].value)\n",
        "    print(sentence.labels[0].score)\n",
        "\n",
        "    unannotated_df['pred_label'].iloc[i] = sentence.labels[0].value\n",
        "    unannotated_df['confidence'].iloc[i] = sentence.labels[0].score\n",
        "\n",
        "  print(f\"All { len(unannotated_df) } rows done prediction! \")\n",
        "\n",
        "  unannotated_df.to_csv(output_file_path,index=False)\n",
        "\n",
        "  print(\"Done export!\")\n",
        "\n",
        "\n",
        "#use case\n",
        "new_data_folder = '/content/drive/My Drive/Colab Notebooks/capstone_betterdwelling/annotations_bnn_cbc/oversampled/'\n",
        "finetuned_classifier = TextClassifier.load(new_data_folder + 'best-model.pt')\n",
        "input_file_path = '/content/drive/My Drive/Colab Notebooks/capstone_betterdwelling/unannotated_for_predictions/predictions_dataset_GDP_Bloomberg.csv'\n",
        "output_file_path = '/content/drive/My Drive/Colab Notebooks/capstone_betterdwelling/unannotated_for_predictions/unannotated_GDP_Bloomberg_predictions.csv'\n",
        "\n",
        "finetuned_model_predictions(input_file_path, finetuned_classifier, output_file_path)\n"
      ],
      "execution_count": 0,
      "outputs": []
    }
  ]
}