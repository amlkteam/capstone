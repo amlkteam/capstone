{
 "cells": [
  {
   "cell_type": "code",
   "execution_count": null,
   "metadata": {},
   "outputs": [],
   "source": [
    "import plotly\n",
    "from plotly import __version__"
   ]
  },
  {
   "cell_type": "code",
   "execution_count": 11,
   "metadata": {},
   "outputs": [],
   "source": [
    "from plotly.offline import download_plotlyjs, init_notebook_mode, plot,iplot"
   ]
  },
  {
   "cell_type": "code",
   "execution_count": 12,
   "metadata": {},
   "outputs": [
    {
     "data": {
      "text/html": [
       "        <script type=\"text/javascript\">\n",
       "        window.PlotlyConfig = {MathJaxConfig: 'local'};\n",
       "        if (window.MathJax) {MathJax.Hub.Config({SVG: {font: \"STIX-Web\"}});}\n",
       "        if (typeof require !== 'undefined') {\n",
       "        require.undef(\"plotly\");\n",
       "        requirejs.config({\n",
       "            paths: {\n",
       "                'plotly': ['https://cdn.plot.ly/plotly-latest.min']\n",
       "            }\n",
       "        });\n",
       "        require(['plotly'], function(Plotly) {\n",
       "            window._Plotly = Plotly;\n",
       "        });\n",
       "        }\n",
       "        </script>\n",
       "        "
      ]
     },
     "metadata": {},
     "output_type": "display_data"
    }
   ],
   "source": [
    "init_notebook_mode(connected=True)"
   ]
  },
  {
   "cell_type": "code",
   "execution_count": 13,
   "metadata": {},
   "outputs": [
    {
     "data": {
      "application/vnd.plotly.v1+json": {
       "config": {
        "linkText": "Export to plot.ly",
        "plotlyServerURL": "https://plot.ly",
        "showLink": false
       },
       "data": [
        {
         "type": "scatter",
         "x": [
          1,
          2,
          3,
          4
         ],
         "y": [
          1,
          2,
          6,
          4
         ]
        }
       ],
       "layout": {
        "template": {
         "data": {
          "bar": [
           {
            "error_x": {
             "color": "#2a3f5f"
            },
            "error_y": {
             "color": "#2a3f5f"
            },
            "marker": {
             "line": {
              "color": "#E5ECF6",
              "width": 0.5
             }
            },
            "type": "bar"
           }
          ],
          "barpolar": [
           {
            "marker": {
             "line": {
              "color": "#E5ECF6",
              "width": 0.5
             }
            },
            "type": "barpolar"
           }
          ],
          "carpet": [
           {
            "aaxis": {
             "endlinecolor": "#2a3f5f",
             "gridcolor": "white",
             "linecolor": "white",
             "minorgridcolor": "white",
             "startlinecolor": "#2a3f5f"
            },
            "baxis": {
             "endlinecolor": "#2a3f5f",
             "gridcolor": "white",
             "linecolor": "white",
             "minorgridcolor": "white",
             "startlinecolor": "#2a3f5f"
            },
            "type": "carpet"
           }
          ],
          "choropleth": [
           {
            "colorbar": {
             "outlinewidth": 0,
             "ticks": ""
            },
            "type": "choropleth"
           }
          ],
          "contour": [
           {
            "colorbar": {
             "outlinewidth": 0,
             "ticks": ""
            },
            "colorscale": [
             [
              0,
              "#0d0887"
             ],
             [
              0.1111111111111111,
              "#46039f"
             ],
             [
              0.2222222222222222,
              "#7201a8"
             ],
             [
              0.3333333333333333,
              "#9c179e"
             ],
             [
              0.4444444444444444,
              "#bd3786"
             ],
             [
              0.5555555555555556,
              "#d8576b"
             ],
             [
              0.6666666666666666,
              "#ed7953"
             ],
             [
              0.7777777777777778,
              "#fb9f3a"
             ],
             [
              0.8888888888888888,
              "#fdca26"
             ],
             [
              1,
              "#f0f921"
             ]
            ],
            "type": "contour"
           }
          ],
          "contourcarpet": [
           {
            "colorbar": {
             "outlinewidth": 0,
             "ticks": ""
            },
            "type": "contourcarpet"
           }
          ],
          "heatmap": [
           {
            "colorbar": {
             "outlinewidth": 0,
             "ticks": ""
            },
            "colorscale": [
             [
              0,
              "#0d0887"
             ],
             [
              0.1111111111111111,
              "#46039f"
             ],
             [
              0.2222222222222222,
              "#7201a8"
             ],
             [
              0.3333333333333333,
              "#9c179e"
             ],
             [
              0.4444444444444444,
              "#bd3786"
             ],
             [
              0.5555555555555556,
              "#d8576b"
             ],
             [
              0.6666666666666666,
              "#ed7953"
             ],
             [
              0.7777777777777778,
              "#fb9f3a"
             ],
             [
              0.8888888888888888,
              "#fdca26"
             ],
             [
              1,
              "#f0f921"
             ]
            ],
            "type": "heatmap"
           }
          ],
          "heatmapgl": [
           {
            "colorbar": {
             "outlinewidth": 0,
             "ticks": ""
            },
            "colorscale": [
             [
              0,
              "#0d0887"
             ],
             [
              0.1111111111111111,
              "#46039f"
             ],
             [
              0.2222222222222222,
              "#7201a8"
             ],
             [
              0.3333333333333333,
              "#9c179e"
             ],
             [
              0.4444444444444444,
              "#bd3786"
             ],
             [
              0.5555555555555556,
              "#d8576b"
             ],
             [
              0.6666666666666666,
              "#ed7953"
             ],
             [
              0.7777777777777778,
              "#fb9f3a"
             ],
             [
              0.8888888888888888,
              "#fdca26"
             ],
             [
              1,
              "#f0f921"
             ]
            ],
            "type": "heatmapgl"
           }
          ],
          "histogram": [
           {
            "marker": {
             "colorbar": {
              "outlinewidth": 0,
              "ticks": ""
             }
            },
            "type": "histogram"
           }
          ],
          "histogram2d": [
           {
            "colorbar": {
             "outlinewidth": 0,
             "ticks": ""
            },
            "colorscale": [
             [
              0,
              "#0d0887"
             ],
             [
              0.1111111111111111,
              "#46039f"
             ],
             [
              0.2222222222222222,
              "#7201a8"
             ],
             [
              0.3333333333333333,
              "#9c179e"
             ],
             [
              0.4444444444444444,
              "#bd3786"
             ],
             [
              0.5555555555555556,
              "#d8576b"
             ],
             [
              0.6666666666666666,
              "#ed7953"
             ],
             [
              0.7777777777777778,
              "#fb9f3a"
             ],
             [
              0.8888888888888888,
              "#fdca26"
             ],
             [
              1,
              "#f0f921"
             ]
            ],
            "type": "histogram2d"
           }
          ],
          "histogram2dcontour": [
           {
            "colorbar": {
             "outlinewidth": 0,
             "ticks": ""
            },
            "colorscale": [
             [
              0,
              "#0d0887"
             ],
             [
              0.1111111111111111,
              "#46039f"
             ],
             [
              0.2222222222222222,
              "#7201a8"
             ],
             [
              0.3333333333333333,
              "#9c179e"
             ],
             [
              0.4444444444444444,
              "#bd3786"
             ],
             [
              0.5555555555555556,
              "#d8576b"
             ],
             [
              0.6666666666666666,
              "#ed7953"
             ],
             [
              0.7777777777777778,
              "#fb9f3a"
             ],
             [
              0.8888888888888888,
              "#fdca26"
             ],
             [
              1,
              "#f0f921"
             ]
            ],
            "type": "histogram2dcontour"
           }
          ],
          "mesh3d": [
           {
            "colorbar": {
             "outlinewidth": 0,
             "ticks": ""
            },
            "type": "mesh3d"
           }
          ],
          "parcoords": [
           {
            "line": {
             "colorbar": {
              "outlinewidth": 0,
              "ticks": ""
             }
            },
            "type": "parcoords"
           }
          ],
          "pie": [
           {
            "automargin": true,
            "type": "pie"
           }
          ],
          "scatter": [
           {
            "marker": {
             "colorbar": {
              "outlinewidth": 0,
              "ticks": ""
             }
            },
            "type": "scatter"
           }
          ],
          "scatter3d": [
           {
            "line": {
             "colorbar": {
              "outlinewidth": 0,
              "ticks": ""
             }
            },
            "marker": {
             "colorbar": {
              "outlinewidth": 0,
              "ticks": ""
             }
            },
            "type": "scatter3d"
           }
          ],
          "scattercarpet": [
           {
            "marker": {
             "colorbar": {
              "outlinewidth": 0,
              "ticks": ""
             }
            },
            "type": "scattercarpet"
           }
          ],
          "scattergeo": [
           {
            "marker": {
             "colorbar": {
              "outlinewidth": 0,
              "ticks": ""
             }
            },
            "type": "scattergeo"
           }
          ],
          "scattergl": [
           {
            "marker": {
             "colorbar": {
              "outlinewidth": 0,
              "ticks": ""
             }
            },
            "type": "scattergl"
           }
          ],
          "scattermapbox": [
           {
            "marker": {
             "colorbar": {
              "outlinewidth": 0,
              "ticks": ""
             }
            },
            "type": "scattermapbox"
           }
          ],
          "scatterpolar": [
           {
            "marker": {
             "colorbar": {
              "outlinewidth": 0,
              "ticks": ""
             }
            },
            "type": "scatterpolar"
           }
          ],
          "scatterpolargl": [
           {
            "marker": {
             "colorbar": {
              "outlinewidth": 0,
              "ticks": ""
             }
            },
            "type": "scatterpolargl"
           }
          ],
          "scatterternary": [
           {
            "marker": {
             "colorbar": {
              "outlinewidth": 0,
              "ticks": ""
             }
            },
            "type": "scatterternary"
           }
          ],
          "surface": [
           {
            "colorbar": {
             "outlinewidth": 0,
             "ticks": ""
            },
            "colorscale": [
             [
              0,
              "#0d0887"
             ],
             [
              0.1111111111111111,
              "#46039f"
             ],
             [
              0.2222222222222222,
              "#7201a8"
             ],
             [
              0.3333333333333333,
              "#9c179e"
             ],
             [
              0.4444444444444444,
              "#bd3786"
             ],
             [
              0.5555555555555556,
              "#d8576b"
             ],
             [
              0.6666666666666666,
              "#ed7953"
             ],
             [
              0.7777777777777778,
              "#fb9f3a"
             ],
             [
              0.8888888888888888,
              "#fdca26"
             ],
             [
              1,
              "#f0f921"
             ]
            ],
            "type": "surface"
           }
          ],
          "table": [
           {
            "cells": {
             "fill": {
              "color": "#EBF0F8"
             },
             "line": {
              "color": "white"
             }
            },
            "header": {
             "fill": {
              "color": "#C8D4E3"
             },
             "line": {
              "color": "white"
             }
            },
            "type": "table"
           }
          ]
         },
         "layout": {
          "annotationdefaults": {
           "arrowcolor": "#2a3f5f",
           "arrowhead": 0,
           "arrowwidth": 1
          },
          "coloraxis": {
           "colorbar": {
            "outlinewidth": 0,
            "ticks": ""
           }
          },
          "colorscale": {
           "diverging": [
            [
             0,
             "#8e0152"
            ],
            [
             0.1,
             "#c51b7d"
            ],
            [
             0.2,
             "#de77ae"
            ],
            [
             0.3,
             "#f1b6da"
            ],
            [
             0.4,
             "#fde0ef"
            ],
            [
             0.5,
             "#f7f7f7"
            ],
            [
             0.6,
             "#e6f5d0"
            ],
            [
             0.7,
             "#b8e186"
            ],
            [
             0.8,
             "#7fbc41"
            ],
            [
             0.9,
             "#4d9221"
            ],
            [
             1,
             "#276419"
            ]
           ],
           "sequential": [
            [
             0,
             "#0d0887"
            ],
            [
             0.1111111111111111,
             "#46039f"
            ],
            [
             0.2222222222222222,
             "#7201a8"
            ],
            [
             0.3333333333333333,
             "#9c179e"
            ],
            [
             0.4444444444444444,
             "#bd3786"
            ],
            [
             0.5555555555555556,
             "#d8576b"
            ],
            [
             0.6666666666666666,
             "#ed7953"
            ],
            [
             0.7777777777777778,
             "#fb9f3a"
            ],
            [
             0.8888888888888888,
             "#fdca26"
            ],
            [
             1,
             "#f0f921"
            ]
           ],
           "sequentialminus": [
            [
             0,
             "#0d0887"
            ],
            [
             0.1111111111111111,
             "#46039f"
            ],
            [
             0.2222222222222222,
             "#7201a8"
            ],
            [
             0.3333333333333333,
             "#9c179e"
            ],
            [
             0.4444444444444444,
             "#bd3786"
            ],
            [
             0.5555555555555556,
             "#d8576b"
            ],
            [
             0.6666666666666666,
             "#ed7953"
            ],
            [
             0.7777777777777778,
             "#fb9f3a"
            ],
            [
             0.8888888888888888,
             "#fdca26"
            ],
            [
             1,
             "#f0f921"
            ]
           ]
          },
          "colorway": [
           "#636efa",
           "#EF553B",
           "#00cc96",
           "#ab63fa",
           "#FFA15A",
           "#19d3f3",
           "#FF6692",
           "#B6E880",
           "#FF97FF",
           "#FECB52"
          ],
          "font": {
           "color": "#2a3f5f"
          },
          "geo": {
           "bgcolor": "white",
           "lakecolor": "white",
           "landcolor": "#E5ECF6",
           "showlakes": true,
           "showland": true,
           "subunitcolor": "white"
          },
          "hoverlabel": {
           "align": "left"
          },
          "hovermode": "closest",
          "mapbox": {
           "style": "light"
          },
          "paper_bgcolor": "white",
          "plot_bgcolor": "#E5ECF6",
          "polar": {
           "angularaxis": {
            "gridcolor": "white",
            "linecolor": "white",
            "ticks": ""
           },
           "bgcolor": "#E5ECF6",
           "radialaxis": {
            "gridcolor": "white",
            "linecolor": "white",
            "ticks": ""
           }
          },
          "scene": {
           "xaxis": {
            "backgroundcolor": "#E5ECF6",
            "gridcolor": "white",
            "gridwidth": 2,
            "linecolor": "white",
            "showbackground": true,
            "ticks": "",
            "zerolinecolor": "white"
           },
           "yaxis": {
            "backgroundcolor": "#E5ECF6",
            "gridcolor": "white",
            "gridwidth": 2,
            "linecolor": "white",
            "showbackground": true,
            "ticks": "",
            "zerolinecolor": "white"
           },
           "zaxis": {
            "backgroundcolor": "#E5ECF6",
            "gridcolor": "white",
            "gridwidth": 2,
            "linecolor": "white",
            "showbackground": true,
            "ticks": "",
            "zerolinecolor": "white"
           }
          },
          "shapedefaults": {
           "line": {
            "color": "#2a3f5f"
           }
          },
          "ternary": {
           "aaxis": {
            "gridcolor": "white",
            "linecolor": "white",
            "ticks": ""
           },
           "baxis": {
            "gridcolor": "white",
            "linecolor": "white",
            "ticks": ""
           },
           "bgcolor": "#E5ECF6",
           "caxis": {
            "gridcolor": "white",
            "linecolor": "white",
            "ticks": ""
           }
          },
          "title": {
           "x": 0.05
          },
          "xaxis": {
           "automargin": true,
           "gridcolor": "white",
           "linecolor": "white",
           "ticks": "",
           "title": {
            "standoff": 15
           },
           "zerolinecolor": "white",
           "zerolinewidth": 2
          },
          "yaxis": {
           "automargin": true,
           "gridcolor": "white",
           "linecolor": "white",
           "ticks": "",
           "title": {
            "standoff": 15
           },
           "zerolinecolor": "white",
           "zerolinewidth": 2
          }
         }
        }
       }
      },
      "text/html": [
       "<div>\n",
       "        \n",
       "        \n",
       "            <div id=\"9adf0e72-2d72-4de9-aa16-2c68ee2e1f76\" class=\"plotly-graph-div\" style=\"height:525px; width:100%;\"></div>\n",
       "            <script type=\"text/javascript\">\n",
       "                require([\"plotly\"], function(Plotly) {\n",
       "                    window.PLOTLYENV=window.PLOTLYENV || {};\n",
       "                    \n",
       "                if (document.getElementById(\"9adf0e72-2d72-4de9-aa16-2c68ee2e1f76\")) {\n",
       "                    Plotly.newPlot(\n",
       "                        '9adf0e72-2d72-4de9-aa16-2c68ee2e1f76',\n",
       "                        [{\"type\": \"scatter\", \"x\": [1, 2, 3, 4], \"y\": [1, 2, 6, 4]}],\n",
       "                        {\"template\": {\"data\": {\"bar\": [{\"error_x\": {\"color\": \"#2a3f5f\"}, \"error_y\": {\"color\": \"#2a3f5f\"}, \"marker\": {\"line\": {\"color\": \"#E5ECF6\", \"width\": 0.5}}, \"type\": \"bar\"}], \"barpolar\": [{\"marker\": {\"line\": {\"color\": \"#E5ECF6\", \"width\": 0.5}}, \"type\": \"barpolar\"}], \"carpet\": [{\"aaxis\": {\"endlinecolor\": \"#2a3f5f\", \"gridcolor\": \"white\", \"linecolor\": \"white\", \"minorgridcolor\": \"white\", \"startlinecolor\": \"#2a3f5f\"}, \"baxis\": {\"endlinecolor\": \"#2a3f5f\", \"gridcolor\": \"white\", \"linecolor\": \"white\", \"minorgridcolor\": \"white\", \"startlinecolor\": \"#2a3f5f\"}, \"type\": \"carpet\"}], \"choropleth\": [{\"colorbar\": {\"outlinewidth\": 0, \"ticks\": \"\"}, \"type\": \"choropleth\"}], \"contour\": [{\"colorbar\": {\"outlinewidth\": 0, \"ticks\": \"\"}, \"colorscale\": [[0.0, \"#0d0887\"], [0.1111111111111111, \"#46039f\"], [0.2222222222222222, \"#7201a8\"], [0.3333333333333333, \"#9c179e\"], [0.4444444444444444, \"#bd3786\"], [0.5555555555555556, \"#d8576b\"], [0.6666666666666666, \"#ed7953\"], [0.7777777777777778, \"#fb9f3a\"], [0.8888888888888888, \"#fdca26\"], [1.0, \"#f0f921\"]], \"type\": \"contour\"}], \"contourcarpet\": [{\"colorbar\": {\"outlinewidth\": 0, \"ticks\": \"\"}, \"type\": \"contourcarpet\"}], \"heatmap\": [{\"colorbar\": {\"outlinewidth\": 0, \"ticks\": \"\"}, \"colorscale\": [[0.0, \"#0d0887\"], [0.1111111111111111, \"#46039f\"], [0.2222222222222222, \"#7201a8\"], [0.3333333333333333, \"#9c179e\"], [0.4444444444444444, \"#bd3786\"], [0.5555555555555556, \"#d8576b\"], [0.6666666666666666, \"#ed7953\"], [0.7777777777777778, \"#fb9f3a\"], [0.8888888888888888, \"#fdca26\"], [1.0, \"#f0f921\"]], \"type\": \"heatmap\"}], \"heatmapgl\": [{\"colorbar\": {\"outlinewidth\": 0, \"ticks\": \"\"}, \"colorscale\": [[0.0, \"#0d0887\"], [0.1111111111111111, \"#46039f\"], [0.2222222222222222, \"#7201a8\"], [0.3333333333333333, \"#9c179e\"], [0.4444444444444444, \"#bd3786\"], [0.5555555555555556, \"#d8576b\"], [0.6666666666666666, \"#ed7953\"], [0.7777777777777778, \"#fb9f3a\"], [0.8888888888888888, \"#fdca26\"], [1.0, \"#f0f921\"]], \"type\": \"heatmapgl\"}], \"histogram\": [{\"marker\": {\"colorbar\": {\"outlinewidth\": 0, \"ticks\": \"\"}}, \"type\": \"histogram\"}], \"histogram2d\": [{\"colorbar\": {\"outlinewidth\": 0, \"ticks\": \"\"}, \"colorscale\": [[0.0, \"#0d0887\"], [0.1111111111111111, \"#46039f\"], [0.2222222222222222, \"#7201a8\"], [0.3333333333333333, \"#9c179e\"], [0.4444444444444444, \"#bd3786\"], [0.5555555555555556, \"#d8576b\"], [0.6666666666666666, \"#ed7953\"], [0.7777777777777778, \"#fb9f3a\"], [0.8888888888888888, \"#fdca26\"], [1.0, \"#f0f921\"]], \"type\": \"histogram2d\"}], \"histogram2dcontour\": [{\"colorbar\": {\"outlinewidth\": 0, \"ticks\": \"\"}, \"colorscale\": [[0.0, \"#0d0887\"], [0.1111111111111111, \"#46039f\"], [0.2222222222222222, \"#7201a8\"], [0.3333333333333333, \"#9c179e\"], [0.4444444444444444, \"#bd3786\"], [0.5555555555555556, \"#d8576b\"], [0.6666666666666666, \"#ed7953\"], [0.7777777777777778, \"#fb9f3a\"], [0.8888888888888888, \"#fdca26\"], [1.0, \"#f0f921\"]], \"type\": \"histogram2dcontour\"}], \"mesh3d\": [{\"colorbar\": {\"outlinewidth\": 0, \"ticks\": \"\"}, \"type\": \"mesh3d\"}], \"parcoords\": [{\"line\": {\"colorbar\": {\"outlinewidth\": 0, \"ticks\": \"\"}}, \"type\": \"parcoords\"}], \"pie\": [{\"automargin\": true, \"type\": \"pie\"}], \"scatter\": [{\"marker\": {\"colorbar\": {\"outlinewidth\": 0, \"ticks\": \"\"}}, \"type\": \"scatter\"}], \"scatter3d\": [{\"line\": {\"colorbar\": {\"outlinewidth\": 0, \"ticks\": \"\"}}, \"marker\": {\"colorbar\": {\"outlinewidth\": 0, \"ticks\": \"\"}}, \"type\": \"scatter3d\"}], \"scattercarpet\": [{\"marker\": {\"colorbar\": {\"outlinewidth\": 0, \"ticks\": \"\"}}, \"type\": \"scattercarpet\"}], \"scattergeo\": [{\"marker\": {\"colorbar\": {\"outlinewidth\": 0, \"ticks\": \"\"}}, \"type\": \"scattergeo\"}], \"scattergl\": [{\"marker\": {\"colorbar\": {\"outlinewidth\": 0, \"ticks\": \"\"}}, \"type\": \"scattergl\"}], \"scattermapbox\": [{\"marker\": {\"colorbar\": {\"outlinewidth\": 0, \"ticks\": \"\"}}, \"type\": \"scattermapbox\"}], \"scatterpolar\": [{\"marker\": {\"colorbar\": {\"outlinewidth\": 0, \"ticks\": \"\"}}, \"type\": \"scatterpolar\"}], \"scatterpolargl\": [{\"marker\": {\"colorbar\": {\"outlinewidth\": 0, \"ticks\": \"\"}}, \"type\": \"scatterpolargl\"}], \"scatterternary\": [{\"marker\": {\"colorbar\": {\"outlinewidth\": 0, \"ticks\": \"\"}}, \"type\": \"scatterternary\"}], \"surface\": [{\"colorbar\": {\"outlinewidth\": 0, \"ticks\": \"\"}, \"colorscale\": [[0.0, \"#0d0887\"], [0.1111111111111111, \"#46039f\"], [0.2222222222222222, \"#7201a8\"], [0.3333333333333333, \"#9c179e\"], [0.4444444444444444, \"#bd3786\"], [0.5555555555555556, \"#d8576b\"], [0.6666666666666666, \"#ed7953\"], [0.7777777777777778, \"#fb9f3a\"], [0.8888888888888888, \"#fdca26\"], [1.0, \"#f0f921\"]], \"type\": \"surface\"}], \"table\": [{\"cells\": {\"fill\": {\"color\": \"#EBF0F8\"}, \"line\": {\"color\": \"white\"}}, \"header\": {\"fill\": {\"color\": \"#C8D4E3\"}, \"line\": {\"color\": \"white\"}}, \"type\": \"table\"}]}, \"layout\": {\"annotationdefaults\": {\"arrowcolor\": \"#2a3f5f\", \"arrowhead\": 0, \"arrowwidth\": 1}, \"coloraxis\": {\"colorbar\": {\"outlinewidth\": 0, \"ticks\": \"\"}}, \"colorscale\": {\"diverging\": [[0, \"#8e0152\"], [0.1, \"#c51b7d\"], [0.2, \"#de77ae\"], [0.3, \"#f1b6da\"], [0.4, \"#fde0ef\"], [0.5, \"#f7f7f7\"], [0.6, \"#e6f5d0\"], [0.7, \"#b8e186\"], [0.8, \"#7fbc41\"], [0.9, \"#4d9221\"], [1, \"#276419\"]], \"sequential\": [[0.0, \"#0d0887\"], [0.1111111111111111, \"#46039f\"], [0.2222222222222222, \"#7201a8\"], [0.3333333333333333, \"#9c179e\"], [0.4444444444444444, \"#bd3786\"], [0.5555555555555556, \"#d8576b\"], [0.6666666666666666, \"#ed7953\"], [0.7777777777777778, \"#fb9f3a\"], [0.8888888888888888, \"#fdca26\"], [1.0, \"#f0f921\"]], \"sequentialminus\": [[0.0, \"#0d0887\"], [0.1111111111111111, \"#46039f\"], [0.2222222222222222, \"#7201a8\"], [0.3333333333333333, \"#9c179e\"], [0.4444444444444444, \"#bd3786\"], [0.5555555555555556, \"#d8576b\"], [0.6666666666666666, \"#ed7953\"], [0.7777777777777778, \"#fb9f3a\"], [0.8888888888888888, \"#fdca26\"], [1.0, \"#f0f921\"]]}, \"colorway\": [\"#636efa\", \"#EF553B\", \"#00cc96\", \"#ab63fa\", \"#FFA15A\", \"#19d3f3\", \"#FF6692\", \"#B6E880\", \"#FF97FF\", \"#FECB52\"], \"font\": {\"color\": \"#2a3f5f\"}, \"geo\": {\"bgcolor\": \"white\", \"lakecolor\": \"white\", \"landcolor\": \"#E5ECF6\", \"showlakes\": true, \"showland\": true, \"subunitcolor\": \"white\"}, \"hoverlabel\": {\"align\": \"left\"}, \"hovermode\": \"closest\", \"mapbox\": {\"style\": \"light\"}, \"paper_bgcolor\": \"white\", \"plot_bgcolor\": \"#E5ECF6\", \"polar\": {\"angularaxis\": {\"gridcolor\": \"white\", \"linecolor\": \"white\", \"ticks\": \"\"}, \"bgcolor\": \"#E5ECF6\", \"radialaxis\": {\"gridcolor\": \"white\", \"linecolor\": \"white\", \"ticks\": \"\"}}, \"scene\": {\"xaxis\": {\"backgroundcolor\": \"#E5ECF6\", \"gridcolor\": \"white\", \"gridwidth\": 2, \"linecolor\": \"white\", \"showbackground\": true, \"ticks\": \"\", \"zerolinecolor\": \"white\"}, \"yaxis\": {\"backgroundcolor\": \"#E5ECF6\", \"gridcolor\": \"white\", \"gridwidth\": 2, \"linecolor\": \"white\", \"showbackground\": true, \"ticks\": \"\", \"zerolinecolor\": \"white\"}, \"zaxis\": {\"backgroundcolor\": \"#E5ECF6\", \"gridcolor\": \"white\", \"gridwidth\": 2, \"linecolor\": \"white\", \"showbackground\": true, \"ticks\": \"\", \"zerolinecolor\": \"white\"}}, \"shapedefaults\": {\"line\": {\"color\": \"#2a3f5f\"}}, \"ternary\": {\"aaxis\": {\"gridcolor\": \"white\", \"linecolor\": \"white\", \"ticks\": \"\"}, \"baxis\": {\"gridcolor\": \"white\", \"linecolor\": \"white\", \"ticks\": \"\"}, \"bgcolor\": \"#E5ECF6\", \"caxis\": {\"gridcolor\": \"white\", \"linecolor\": \"white\", \"ticks\": \"\"}}, \"title\": {\"x\": 0.05}, \"xaxis\": {\"automargin\": true, \"gridcolor\": \"white\", \"linecolor\": \"white\", \"ticks\": \"\", \"title\": {\"standoff\": 15}, \"zerolinecolor\": \"white\", \"zerolinewidth\": 2}, \"yaxis\": {\"automargin\": true, \"gridcolor\": \"white\", \"linecolor\": \"white\", \"ticks\": \"\", \"title\": {\"standoff\": 15}, \"zerolinecolor\": \"white\", \"zerolinewidth\": 2}}}},\n",
       "                        {\"responsive\": true}\n",
       "                    ).then(function(){\n",
       "                            \n",
       "var gd = document.getElementById('9adf0e72-2d72-4de9-aa16-2c68ee2e1f76');\n",
       "var x = new MutationObserver(function (mutations, observer) {{\n",
       "        var display = window.getComputedStyle(gd).display;\n",
       "        if (!display || display === 'none') {{\n",
       "            console.log([gd, 'removed!']);\n",
       "            Plotly.purge(gd);\n",
       "            observer.disconnect();\n",
       "        }}\n",
       "}});\n",
       "\n",
       "// Listen for the removal of the full notebook cells\n",
       "var notebookContainer = gd.closest('#notebook-container');\n",
       "if (notebookContainer) {{\n",
       "    x.observe(notebookContainer, {childList: true});\n",
       "}}\n",
       "\n",
       "// Listen for the clearing of the current output cell\n",
       "var outputEl = gd.closest('.output');\n",
       "if (outputEl) {{\n",
       "    x.observe(outputEl, {childList: true});\n",
       "}}\n",
       "\n",
       "                        })\n",
       "                };\n",
       "                });\n",
       "            </script>\n",
       "        </div>"
      ]
     },
     "metadata": {},
     "output_type": "display_data"
    }
   ],
   "source": [
    "iplot([{\"x\":[1,2,3,4],\"y\":[1,2,6,4]}])"
   ]
  },
  {
   "cell_type": "code",
   "execution_count": 14,
   "metadata": {},
   "outputs": [
    {
     "data": {
      "application/vnd.plotly.v1+json": {
       "config": {
        "linkText": "Export to plot.ly",
        "plotlyServerURL": "https://plot.ly",
        "showLink": false
       },
       "data": [
        {
         "contours": {
          "coloring": "heatmap"
         },
         "type": "histogram2dcontour",
         "x": [
          0.29128502424129926,
          -0.25080132675350597,
          -2.009759707221412,
          1.1972799265208456,
          -2.82412080629346,
          -2.0258532868939563,
          -0.8152742279968951,
          -0.4558579834651063,
          0.5828094975658598,
          1.460855103831799,
          -0.27627150358789776,
          0.1234948110402589,
          -0.1251333058194446,
          0.382239873213108,
          1.386895295371723,
          0.7001306996927409,
          0.38365402494835293,
          -1.2129955249910978,
          0.10896209054222238,
          2.3682863274011465,
          -0.3066708708425803,
          1.1691840444958455,
          0.19536432238129744,
          -1.0333746412778952,
          1.7605435969189798,
          -2.134172334213891,
          -0.999866494581173,
          1.1946331509899868,
          2.269556309984417,
          0.8007316459439354,
          1.4413350888997787,
          1.0873557517464798,
          0.198067345815789,
          0.225476719692552,
          0.9875367693480904,
          0.5439366165600467,
          0.4469739745139196,
          0.5981980100674829,
          0.4014963894059587,
          0.07566306942337851,
          0.5212013694359815,
          -0.6062215776627664,
          -0.7205104546589483,
          -0.09551973245196416,
          0.7350170109021493,
          -0.40209712061293507,
          1.1046846609256558,
          1.0179350726780507,
          -1.4704446025485605,
          -0.9802988369513306,
          1.711636539346582,
          0.22027581216142386,
          0.410659984641522,
          0.7380055455173088,
          1.4378478247502582,
          -1.5099005788944424,
          0.37660730327068576,
          -0.7914550319773686,
          -0.8216338863404375,
          -0.5106020507153407,
          -0.6954640406481999,
          1.3603021999528897,
          -0.49070148050291185,
          -0.9006991179010649,
          -1.5796673969832777,
          -0.3666587342618726,
          0.300950187889745,
          -0.017030843885920684,
          -0.7363565379359336,
          0.5942650766505803,
          0.6296067117921433,
          0.2578757426813785,
          -0.14339741604311465,
          0.48121004752451146,
          -0.8178730248546705,
          -0.1179949098348546,
          -1.018020457519046,
          -1.585845170809232,
          -0.6195491875114526,
          1.553784914269431,
          -0.4250998702767678,
          0.39271784786169955,
          -0.11175234851990362,
          -0.5965742116001823,
          2.498703395686308,
          -1.1829142065110412,
          -1.2362202861484668,
          1.1581227973166057,
          1.4896148910139795,
          -0.2779049235842812,
          -1.3315420354985403,
          -0.24587316384784208,
          0.6939918641959033,
          1.7041985370654726,
          -1.753973922226603,
          0.42200637561370663,
          0.7271749167693676,
          -0.995613901997483,
          -0.5758472581859887,
          -1.7442883072318809,
          0.24140808557480645,
          -0.3562175089562397,
          0.21624235309074735,
          0.293457228884687,
          -1.3726893504240998,
          -0.26912069683587153,
          1.3028043148656652,
          1.091615542008747,
          0.6386293948089468,
          -0.3991988532813655,
          -0.0030924968643053835,
          1.458279800164927,
          -0.33198936433056214,
          0.18639591308669015,
          0.03903384127797648,
          -0.37342588695595713,
          1.7120791306872947,
          0.28246831306343906,
          1.8453850029774868,
          0.8001672155381531,
          -0.9188263000180057,
          1.7801721209120953,
          -0.15843988704160408,
          0.8035078484987641,
          1.2543999415529294,
          1.6047463961637576,
          0.435576311370457,
          0.5011359051895745,
          0.08661813119806681,
          2.0438317190403135,
          0.2724197765870231,
          -0.9301478384640028,
          0.9117199354333658,
          1.5679571624784685,
          0.3816644170808655,
          0.9020800611119507,
          -0.4990335473552234,
          -0.41042287606611366,
          -0.33799226429616297,
          -0.5953369759729499,
          1.9296518681566723,
          -0.3504741838456891,
          1.108762684498157,
          0.20343284490509694,
          -0.925580377643661,
          -2.117341077990366,
          -2.0157140301491645,
          -0.38198966390610317,
          -1.82348858376927,
          0.6982136144867351,
          -0.8050889563482674,
          0.6526850815233549,
          0.26891148115719626,
          -0.1806068697505988,
          0.10050859273626081,
          0.1389660298285937,
          0.3417846272245568,
          0.448283491629398,
          -0.14679138372316022,
          2.4578356795918572,
          0.8854124476122511,
          -0.04708700099335201,
          -0.6871078917823255,
          -0.8341887599127749,
          0.5119577716942458,
          -0.8782101853071085,
          -0.9062281907214839,
          0.7496096103229208,
          -0.13168696743643804,
          2.0159284621464444,
          -0.3363674998405159,
          1.079935562047717,
          -0.9880735931260184,
          1.0070823742522108,
          0.6710818342794833,
          -1.3099320195865767,
          0.7170574899301578,
          -0.43027238504496446,
          -1.6892987427712185,
          0.09178542083344216,
          1.5048384046571837,
          1.4715794726074072,
          0.19542782342505477,
          -0.7202038795959419,
          1.2473348817394494,
          -1.949084609006127,
          -0.4479539855352418,
          1.6877922743963776,
          -0.27277943129408433,
          1.1004985116895234,
          1.5005090416998494,
          0.22279637245885353,
          0.8224726540268474,
          -0.7080579976039426,
          -0.19531096122547253,
          0.21079870539802012,
          -0.6714846993089529,
          0.16629004891374707,
          0.6685746754313286,
          1.8020569541929992,
          -2.0701465204249225,
          0.3235437457949486,
          -1.177008074097931,
          1.0684385285005336,
          -1.207962948464097,
          0.21063433457809966,
          0.4586825456364671,
          0.30296884046586614,
          -1.437339111744498,
          -0.8836196016342285,
          -0.7132659651630824,
          -0.49450552919413393,
          1.1307999182817345,
          0.25626737115941756,
          -0.4713289434810423,
          0.27695458069114165,
          1.532446427231692,
          -0.15251732979173035,
          -0.5882279847631985,
          0.43469243508514904,
          1.486942180902064,
          -0.543522948039829,
          -0.5544250374921539,
          -1.0534178529653644,
          -1.0861482692387732,
          0.23119247740814597,
          -0.06745346883211935,
          -1.562666073406084,
          0.0424374973554682,
          -0.9145396271895292,
          -0.2713708526529369,
          1.3445303883366286,
          -1.7174896338633654,
          -1.3455311161688115,
          -0.7994200767587252,
          -0.6396735933818649,
          -0.5757773549127659,
          0.5354482179303067,
          -0.9149418312501154,
          -0.12996833614440595,
          1.9779193773666286,
          0.7709538765580207,
          -0.20401491688048287,
          0.5803141835079624,
          0.2938807786983019,
          0.22278317887613328,
          -0.6110786613298966,
          -0.10650809803006808,
          -0.8238177801535453,
          0.16800360840377215,
          0.8492966501415973,
          0.19598923079164385,
          -1.6892765031663026,
          -0.8550326526932213,
          -1.1371508638696362,
          -1.439595660536824,
          -1.1119270337452485,
          -0.398783371154579,
          -1.6359933144457548,
          0.8555032997307337,
          0.06086136813524546,
          0.5516948202599147,
          1.1686213637455796,
          -0.36011361323408697,
          1.5033205683542235,
          -1.4265205354039816,
          0.05344794589902263,
          1.3815727402217086,
          -1.3501115441319735,
          1.8161928632140731,
          0.2633018109331582,
          0.4991027127022005,
          -1.8983061327295936,
          2.5418920079575904,
          -0.15698841405957747,
          0.747301992489229,
          1.1987407628830027,
          1.3287853730741277,
          -0.7633161842441191,
          -1.0736279394160666,
          -0.20950195584981313,
          -0.925960815354629,
          0.555330882661583,
          1.180246318340103,
          0.07117207331416571,
          0.193063056001221,
          -0.7417765868021756,
          -2.150089441846262,
          0.5975672125064256,
          0.8660330649071675,
          -0.314364151252734,
          -0.37198894637043134,
          0.4285147958602096,
          1.6703963783934077,
          0.7841341523901943,
          -0.6219550811354004,
          0.48275661218901034,
          -1.1158819192203389,
          0.341517382606394,
          0.7143737825029879,
          -1.649294556383274,
          1.628102635833886,
          -0.26207544501751484,
          -0.38976840802401813,
          1.5200449083205378,
          -2.6978353655997194,
          0.8484153019564812,
          0.22382157108282055,
          1.1494858002598065,
          0.4669155570370811,
          1.4866128919533859,
          -0.2882957899176211,
          -0.26380559526598,
          -1.1587267308318452,
          0.19756474045005304,
          1.2383716187197735,
          -1.3304915605211602,
          0.6857842282200952,
          -1.2625331458901106,
          -0.7366131279790296,
          -1.687557307727956,
          0.053297268141158746,
          1.0028128787871182,
          -0.3964883006641309,
          -1.1123644406523374,
          0.7388810579619299,
          2.3414648011748853,
          -0.16872248178248783,
          -1.0272577195063048,
          -0.7861702869600493,
          1.8505832531691033,
          1.8458930103470774,
          0.04828279725964385,
          -0.4562136097752252,
          -0.4281944648306031,
          1.0542336969708719,
          -1.083777710619017,
          -0.7075055173323934,
          -1.7620840734320466,
          -0.27503230393213435,
          0.5430192790287858,
          -0.6724433585874151,
          -1.7215324796107925,
          -1.022780201349533,
          0.37075103570505996,
          -0.11003769170838723,
          0.2505100709603096,
          0.06921450629489174,
          -1.0566709886045582,
          0.04461823258649018,
          0.6224385230783813,
          -0.701111731845534,
          -0.006508597285180954,
          -1.494932185144606,
          -0.9806509950580313,
          0.6852711808911818,
          -0.13703884363757057,
          -0.6631819333191203,
          1.7817590047614,
          -1.5565388060466994,
          1.0038158161284916,
          2.1836919679381346,
          -1.7087164408850424,
          -0.6026416548551746,
          -0.5353558182490492,
          1.0726307827337243,
          -0.4542039275414369,
          1.203956086145369,
          0.3125906131529719,
          1.449922401551676,
          -0.9143770714517141,
          1.080399756883278,
          0.20459577207922405,
          1.4800468840723633,
          -0.19084939530657033,
          -0.8786982384121884,
          -0.0012347119886150515,
          0.26202786752030655,
          1.9093905596641823,
          -1.3400165813245901,
          0.21319349461148385,
          -0.17760840036610095,
          -0.8629162304541537,
          0.36127241735299237,
          1.0310389161298341,
          0.01577144206199494,
          -0.8836653087441785,
          -1.9198423591788214,
          0.3088171640788311,
          -0.633460898184076,
          -0.2825578065286837,
          0.28863086888291123,
          0.975938317459121,
          2.5029851037897806,
          1.520836856825907,
          1.5617135845229426,
          2.1439208098652647,
          -0.14509475753668336,
          0.7328423405027623,
          -1.1983854580230766,
          -0.7387684113260452,
          -0.018215934219980717,
          1.656215185038774,
          -0.4197355328703325,
          -1.4324729713997124,
          1.0967503449399079,
          -0.5831387609602205,
          0.37390709821441537,
          -0.19166931424778644,
          1.8000950585425721,
          0.2402044449663169,
          -1.3930446850324558,
          0.3775550863425489,
          -0.08369167094441282,
          -1.4028791531054745,
          0.38242887661624897,
          2.552904872616033,
          1.7131978431943153,
          -2.1157469073938433,
          -0.8752789435739919,
          1.4727001974019562,
          -0.4774844788138774,
          1.2999553235413561,
          0.1864676772139197,
          0.016534770452473313,
          -0.7723509068244082,
          -1.4158142791168313,
          -2.2998835458618037,
          -0.045095155778484636,
          0.3711618668299921,
          -0.3170856813395019,
          -1.2952580569156211,
          -0.8929088283159655,
          0.7572014237839891,
          1.6247053029164675,
          -2.237416451834195,
          -0.016755335903191098,
          -0.3366284819546805,
          1.5627068012764234,
          -0.7442237495590871,
          0.14733323925157277,
          -1.2922464965877498,
          0.9676230584400171,
          -0.8213787831350278,
          -1.0062070805495504,
          0.8183304473910842,
          1.1862129730027255,
          1.1013298696953915,
          1.4452588020581927,
          -0.6249682794974405,
          1.3451954053942736,
          0.36734415574272183,
          0.2948758586963869,
          -1.9801888933112686,
          -0.06938664924449549,
          -0.48717102090109493,
          1.5056264378531048,
          -0.4373495242579977,
          -0.1434810644472768,
          -1.5265530918128654,
          0.21658299645184959,
          0.47674049128899043,
          1.8842851734398722,
          -0.08438363491074719,
          -0.18692959983926138,
          0.3754584037544976,
          0.5949196860474059,
          0.11192194906854243,
          -1.1004466634226977,
          -0.21423744737704245,
          -1.7847734073307697,
          0.6300030522247584,
          0.022258478461359883,
          -0.5720470637846051,
          -0.7327458039516794,
          0.36339159486431727,
          0.659751767376951,
          1.992687927557898,
          0.7255699975315698,
          -0.09732454097820643,
          -1.0500585057977176,
          -0.6315963460967691,
          0.07505591634736222,
          -1.1155031733074503,
          0.28929290965998855,
          0.9557403358874207,
          0.4811064089606703,
          -0.33313280109988747,
          0.1999631736448486,
          0.7134820983034369,
          -0.7118388378969233,
          1.1243879076668741,
          -0.9437125133181334,
          0.1713475843342032,
          -1.755287576220954,
          -0.830085422345586,
          -0.02872905764071702,
          -1.0923616438779948,
          0.08107717893486004,
          -0.26348666419416666,
          0.20508285812690394,
          -0.9910250557343421,
          0.6784370801096652,
          0.625382516895058,
          1.3655200479227796,
          1.3752665884574904,
          0.5502133165983105,
          1.6857252808523817,
          -0.07556080599945263,
          -0.7466364722109404,
          0.706197075172003,
          1.3790599722940888,
          -1.1548464354817833,
          0.3917069597763411,
          -1.1786165998650129,
          1.4241911961886844,
          0.6530102734842076,
          0.6434525305172311,
          0.016815473390954728,
          -0.7995238449199406,
          0.6879404382636538,
          0.07782379131569751,
          -1.6561416031952234,
          0.32334806809042194,
          0.4143623185061672,
          -0.7675493707104601,
          0.36201862315587,
          0.2829026294996569,
          0.37205965229783466,
          -2.0063822235798474,
          -1.0233519380907192,
          -0.38169312328633404,
          2.1791359203959573,
          0.39791501196764706,
          1.5091236461082724,
          -0.004912005333143615,
          -1.0016220036293306,
          -1.62664929100681,
          0.5270894501422579,
          0.5271261413461195,
          0.19052807541134298,
          0.2763205810189537,
          -0.04427480192986647,
          0.5213535860862544,
          -1.4738817860199822,
          1.491174395679897,
          -0.031062647675715475,
          -0.43518969757005305,
          -0.8670832227755342,
          0.07743011630251052,
          1.918077797880388,
          2.0950541283599198,
          0.7634886657840072,
          0.4309271659292157,
          0.0822045301170127,
          0.2695928679334992,
          0.8392231360635072,
          -0.5278834808762158,
          1.0281240583788909,
          0.37828034526523746,
          -0.5576541030025883,
          -0.5474151655668342,
          -1.383050022384505,
          1.0449639342580397,
          0.634720633264886,
          0.3869223407122954,
          -1.0047563741880248,
          -0.9031869623580248,
          0.04949210340601367,
          0.8961848121477279,
          -0.40906966849548176,
          -0.1660877705174124,
          2.2129913189092174,
          -0.8023780909898229,
          0.06457957864800126,
          1.9443695806380505,
          -1.1782465811014027,
          -0.858950781615117,
          -0.6033106082344293,
          0.04400470936275619,
          1.3998011589388017,
          0.5019805193123813,
          -0.18712670740258724,
          0.7070507940127571,
          1.225821427925222,
          0.33514382646712704,
          -1.2376939002384275,
          1.3388474087964648,
          0.2693077314955658,
          1.210228841712316,
          1.1245396926512177,
          -0.11922456293146587,
          0.20929184076497187,
          0.8154693122358653,
          -1.1464185466532593,
          0.8847919046470087,
          -0.3617410888889167,
          1.360261026502166,
          1.1039928754335386,
          0.31519386692131135,
          -1.425707710362733,
          -0.3838439491120995,
          -0.27881414132605553,
          1.7115573399028767,
          -0.8936377284487501,
          -0.919044346697009,
          0.39818248593120165,
          0.03631825942035834,
          0.9127445393843249,
          0.4916952966529612,
          1.270869272077203,
          -1.0240073475735603,
          -0.6011060727138291,
          -0.7035505176105151,
          2.0371353991910515,
          -1.6434863022711954,
          -0.31887827875947444,
          1.2210223194873675,
          0.26160642757520125,
          0.47050244498199645,
          -2.238664436828176,
          -1.2305919283823943,
          -1.3476143784286863,
          1.2830406077283016,
          -0.5583434614534246,
          0.17005200912574653,
          0.4013526486546831,
          -0.6821533764179459,
          0.8561199240573556,
          0.30075881409817196,
          -0.7549483782290154,
          0.036831324306638685,
          -0.8315029117380848,
          0.06351499771682823,
          0.4487053955165985,
          0.17327903779811007,
          -1.7395002587362343,
          0.1224017276080642,
          -0.6200856749845783,
          -0.5183610454150803,
          -0.8247574985521603,
          -0.49695645584380244,
          1.013599112868057,
          -1.313524488281159,
          -1.240813472982541,
          -3.0635501283101645,
          0.5199610775219373,
          0.7755594977187602,
          0.30686612544781666,
          0.6426997201207083,
          1.3289175331463432,
          -0.4637912568492178,
          -1.0139409276998672,
          -0.0005196940990272015,
          -0.3494132567800611,
          -1.3010208867257855,
          0.7623241118958868,
          1.2146477813721352,
          -0.5371098037280323,
          -0.5626872099143436,
          0.20815139337475957,
          0.3589629333013019,
          -0.37854091437465176,
          -1.421734641682921,
          0.10453429174989491,
          -2.244665841212561,
          1.2462787531439654,
          0.16791301719588864,
          0.12003683543022739,
          1.183215002308031,
          0.6519221985787185,
          -0.5344685038006993,
          0.4609240265110553,
          -1.4489475816219932,
          -0.348240346965526,
          1.9469520944981848,
          0.3792540549455692,
          -1.0451212644911239,
          -0.37019143741662563,
          -0.3697400707510478,
          -0.08118461314236905,
          1.1982358953624033,
          0.4671335225580482,
          0.33133588403523656,
          0.9803364074504537,
          1.3096824311975488,
          0.2049983560727199,
          -0.9148898554844901,
          0.45779044523994206,
          -1.0780878200406996,
          0.1992998018059355,
          -1.4540857259702353,
          2.485034727712837,
          1.9941511962949379,
          -0.054178306470394684,
          0.011188291326310825,
          -1.7874887679680511,
          -0.15298394635645188,
          -2.402560060451137,
          -0.8952925324011313,
          0.29232526036021034,
          -0.8430053715622068,
          -1.588341419416791,
          -1.9150690497640692,
          -0.3754549247790395,
          0.7289605084872024,
          0.4298269745622357,
          0.24901204936596605,
          0.4247553541453559,
          0.8960717178284764,
          0.6056254240710603,
          1.2150930293013653,
          -0.32499631564237613,
          -0.3780426598344224,
          1.3204068308909809,
          -0.6778780050080132,
          0.15723109853155112,
          -0.9286613429542396,
          1.3196940401578903,
          -0.19164703202960395,
          -0.07756710293450027,
          -1.284903530917483,
          0.9939325402147741,
          0.7375248349473816,
          0.950563169971308,
          -1.40121388445322,
          -0.5023728385599175,
          1.1137222628695844,
          -0.7694249271351222,
          0.2250417205323085,
          -0.32977568272309493,
          -0.4611178887960187,
          -0.7249678146746549,
          -1.596540918990746,
          1.7265338140160464,
          2.210313670393393,
          -0.7254290429759382,
          0.7502413000688879,
          0.5180787903370592,
          -1.9801107006568004,
          1.5661833567062113,
          -0.5693960836381479,
          0.7598236255129565,
          -0.46051365677118183,
          0.6687391307222029,
          0.5086593791927599,
          0.07597450422428542,
          -0.6912064024183353,
          1.8466354089515706,
          -0.732401556853836,
          0.8843725834932805,
          -0.09677443671071716,
          0.7634864435288511,
          0.08846170986856602,
          0.24930021061013646,
          0.1626989740294246,
          0.3847225303385913,
          0.9985622338455666,
          0.7412666254047251,
          0.04562384926007659,
          0.40254986902016565,
          -1.5898642146126944,
          -0.9811283194673521,
          0.9604812535321525,
          1.3740898757120812,
          -0.38991759536118403,
          -0.9797252741625032,
          1.4531767214700197,
          -1.2394032028631063,
          -0.26500699391888954,
          0.6362829431666178,
          1.0230034459145885,
          -0.08814811929727016,
          -0.17661202603345222,
          -0.04934545382562089,
          -0.2702962362513402,
          -0.03861787613743842,
          -0.8795849283113223,
          -0.2813542242429309,
          0.6947874430731684,
          -0.3996529705877006,
          0.26269678498976695,
          0.9645404420110951,
          0.7111882227998945,
          1.3916973437372844,
          1.8359312602275653,
          1.414824418817434,
          -0.9272819899855903,
          1.5304191677312664,
          0.560735568591204,
          0.6406875119627119,
          -0.6304380502983133,
          1.6403690474551302,
          -0.45871342290980865,
          1.0411787012704998,
          0.5405584208623444,
          -1.666781611023237,
          0.3808756563278921,
          -0.28665657382979265,
          -0.5291819633681158,
          0.10390245904281814,
          -0.8182919027239676,
          0.7852611398034256,
          1.2214154995556805,
          1.2345063818099928,
          -0.8894042828748725,
          1.092644183861708,
          -0.549231850599214,
          0.5161122190518139,
          -0.8397003637603707,
          0.18096936067613828,
          2.1103231497674235,
          -0.48754215339768686,
          -1.0928840647620708,
          0.19216703149426956,
          -1.1169848130504025,
          -0.0681644012769032,
          0.29776848186182714,
          -0.09367745633078683,
          -1.1742252541607148,
          1.5147876834838514,
          -0.13076057441862265,
          2.376801901738662,
          -0.5123614612602763,
          0.4836455146182961,
          2.021291729861442,
          0.26609084361131785,
          0.4001318985963468,
          -1.2715471789131514,
          1.5846848787451007,
          -0.04055967635543952,
          -0.5567019298503931,
          -0.05223306720247382,
          1.8249290353699008,
          0.6542937301643241,
          1.3556167259111995,
          1.6105735845614264,
          -1.3678427216956992,
          -0.14679278733756676,
          0.93325349591294,
          2.39161385202778,
          1.1088468971318788,
          -1.538113972442731,
          -0.16895962073563991,
          -0.5348846457822158,
          -1.153750215579103,
          0.0055490904398428,
          0.875958067723889,
          0.5319082999495488,
          0.08713291621837423,
          -0.061638483752152674,
          -0.5835004437572486,
          0.5305493789262841,
          -0.21716982953945926,
          -0.76321681541348,
          -1.7883078967881225,
          0.953166076589848,
          0.4232944242225948,
          0.335598724105143,
          0.8093373631045716,
          -0.4568248735121239,
          0.7339811519696838,
          -0.14596239138974995,
          0.21487026324128214,
          1.6981018293958912,
          -2.168068488723732,
          -0.6512985071541404,
          -1.6929714700257672,
          -1.0631561534679985,
          -0.5613963479328685,
          0.5406701398199687,
          0.16781886849015737,
          -0.7107769961310046,
          2.4637034311051065,
          -0.028225231101661554,
          -1.3844853383682154,
          -1.984362280585505,
          -2.483116478387071,
          -0.3735882470687267,
          1.0318607996554177,
          0.2830045223755928,
          0.16604542844175352,
          0.5084547872772309,
          0.8776167685795075,
          -0.8483941398932703,
          1.1631534518489741,
          1.1091880485017278,
          -0.6592271077522882,
          1.0959202714301888,
          -0.10221959123958715,
          0.08748564638954577,
          0.5386395627235511,
          -0.6327853066575733,
          -1.4620214034849517,
          1.2296727964611955,
          -0.6746496381801939,
          -0.04977176886507465,
          1.164938941258392,
          0.22958882315445084,
          0.13266602930892782,
          -1.7723013796972475,
          0.9363146800573894,
          -0.2534336709231823,
          0.8426016512677598,
          1.3045367810250892,
          0.4544315375936699,
          0.9535585825207864,
          -0.4833308976356619,
          0.053766974503593315,
          0.5741922423723926,
          0.5021427335972182,
          1.9632215070349432,
          -0.5095229875677385,
          1.0696246011852961,
          -0.8172356628932517,
          -2.5576645635683346,
          -0.995291019069326,
          0.42360163148787405,
          -0.08743999312669821,
          -0.8443728110753781,
          1.0072815870599519,
          -0.08164607117824321,
          0.7454242241117622,
          0.29579102976137894,
          -0.6421886705569584,
          -0.25437095109832125,
          1.0490468673861042,
          -0.028076490002369933,
          1.3795434089329444,
          0.26316179174076015,
          0.39234996575924735,
          -1.2217167338141426,
          -1.3564778793794758,
          -1.2081002035147963,
          -0.6004642384856419,
          -0.26263909089692905,
          1.882739984952666,
          0.8376625707610659,
          -0.28435266131787,
          -0.0013460982237117835,
          -0.08602432797663515,
          0.2520898081058323,
          -0.7387581700788087,
          -0.3296247917546237,
          0.4856516540365141,
          -0.8351584822888986,
          -0.36935937757789483,
          -0.5045449209731089,
          0.8140690349502842,
          0.1273315332549709,
          0.0863049308820091,
          -1.6048934215958348,
          -0.044000462285708954,
          -0.10897759211822051,
          -1.0175630002789404,
          0.9926453990914615,
          1.1745350264630248,
          -0.9041120836147899,
          -2.833778245621284,
          -1.0220178113022045,
          1.821787964881897,
          1.0515679545607999,
          0.4744953566860539,
          -1.7966690616109644,
          0.5203272593455517,
          0.9474084367821153,
          1.1389563755441487,
          -1.1000671224330951,
          0.13985236402936047,
          -0.5863444612659797,
          -0.9940754091770366,
          -0.4745391200794244,
          0.5884671576277417,
          -0.8320945970220941,
          -1.8959773835025535,
          -0.11663510151096042,
          0.8609235365264992,
          -2.0092290120634555,
          -0.5124946887487605,
          -0.5589667741198678,
          0.2939461193522348,
          0.53681749940572,
          1.150246922519459,
          0.08756059177780368,
          -1.5279971982857516,
          0.8462014235043783,
          -1.7345530510868281,
          0.6297123818653942,
          -1.0760432103565476,
          -1.056503173184174,
          -0.3069769164896954,
          -2.699807011372196,
          -0.05325602821085685,
          0.6644342541536254,
          -0.40766578537561626,
          -0.649188806869367,
          -0.30447317587077166,
          0.010265729523275275,
          -1.4118895915710103,
          -0.6148588459110775,
          -1.0982032788460738,
          0.95832246734873,
          3.4820420214871355,
          -0.5994502958432867,
          0.44453920837332367,
          0.9099550286388053,
          0.5507803055952156,
          0.4686260696458004,
          0.8378746875425913,
          -0.012730361923997579,
          -0.5594106691743064,
          0.5773012680872303,
          0.42854816620326147,
          1.3981292366548506,
          -0.9672418882299285,
          0.43505304186306126,
          0.16056545868716435,
          0.06420239170002703,
          -0.040234435739895144,
          0.8627747027774946,
          0.3396384924983646,
          0.22384913517302263,
          0.5849985539220643,
          -0.43850000541279244,
          0.40726170811266005,
          1.0311132354396355,
          -0.8793522927145521,
          2.2082515042539237,
          0.13305938761595318,
          1.6983856315680252,
          -1.0923033769936694,
          1.6392332781466377,
          -0.4551096428642982,
          0.35313829410449793,
          1.559066973165872,
          -0.24601522818033644,
          -0.11509040434347671,
          -0.43017175600771485,
          -0.3852749534634207,
          0.7176068446687601,
          0.17907507011558213,
          0.1624518679440098,
          0.012566587872620773,
          -2.474297908404039,
          0.5295923799203013,
          0.33320246257916264,
          0.6345792217544705,
          -1.0612117778254184,
          1.0524334149751555,
          0.15187805986357447,
          -0.751926535525638,
          0.29159976877878624,
          -0.019296366053589253,
          0.31453613913750095,
          1.720375580987959,
          -0.2095706777900393,
          -0.8756911839512213,
          0.22435935504121235,
          -0.4063389199007487,
          -0.2230150676334476,
          1.974691752296639,
          0.6984670148743154,
          0.2094197290418154,
          0.6645350394584971,
          0.7215727137129314,
          0.12572853281600985,
          -1.238036365038374,
          -0.09125440996159348,
          0.8153948721642587,
          -0.006271307925965989,
          0.06901792863421749,
          -1.444775897315584,
          -1.5872666263444417,
          -2.086787174511285,
          -0.5826051796623026,
          -1.543022933614234,
          -1.0476192505430515,
          0.3651387325279395,
          -0.6901088471425417,
          -0.4244975845000434,
          0.3245768923325461,
          0.20633212332288137,
          -0.3826334045011207,
          -1.537711942415646,
          -0.17877890185376877,
          0.5860031419953898,
          1.319492414651913,
          -0.6891180742838691,
          0.2917825183340746,
          0.7499990035955526,
          1.9420788946093313,
          -2.301428008723641,
          -0.4417820341585328,
          1.0512428143944557,
          1.2154722396162891,
          1.4230018598531158,
          0.11406038657754607,
          0.41136046933262504,
          0.6208946954191887,
          1.1027123547522057,
          1.437157171040389,
          -0.46594607568264823,
          0.1254271656101777,
          -0.6987525360508109,
          -0.650237445926879,
          -0.04150260564058109,
          1.160118577566626,
          -0.5870267119081265,
          0.8873269009883094,
          0.6719696764880748,
          0.492575099422792,
          -0.7308361106295052,
          0.5426514484287425,
          0.6892555150641713,
          -1.6353075412786975,
          -0.8451344924717819,
          -2.1104234965723503,
          1.1437738294948,
          0.299658685984192,
          -2.0655815287677717,
          -0.387810198890247,
          0.6761349180277745,
          1.0207719204406418,
          -0.4344726233610007,
          0.5678515374209961,
          -1.2471221688092502,
          -0.826771682066052,
          1.13206893891295,
          -0.4119926631370421,
          -0.4791025542648007,
          -2.43081325275135,
          0.20318168858896263,
          -0.7312576811330459,
          0.09176916006602662,
          0.9044423029727918,
          1.4386476122923797,
          -0.8684142854553794,
          0.5592530911178718,
          -0.81930524799708,
          0.754484767659686,
          -0.8265111301835675,
          0.6897278201241489,
          -0.455488761370913,
          -0.3216988728495084,
          0.7481513981106716,
          -1.2984604450988302,
          0.5986028750764723,
          -1.2590502737014229,
          0.9393677673067733,
          0.3192770111339814,
          0.19287089131297813,
          -0.07509258816857584,
          0.06705780659009342,
          -0.39847955956156056,
          0.2626734587761434,
          -0.6237003750640912,
          -2.4475989598547003,
          -0.6276646948664856,
          -1.185059615943055,
          -0.20115833256349797,
          -0.2463350593166494,
          -0.253152432241667,
          -0.9213374232649293,
          -0.5837575923892209,
          -0.08712380743765666,
          -0.2532070658889704,
          -0.23540875204900322,
          -0.45557204135497364,
          -0.6735397830629538,
          -1.0316676915740395,
          1.1242217180744127,
          0.5994739468358321,
          0.21428431561264366,
          0.4556705654435354,
          -0.40935032679265365,
          -0.17352410135027735,
          1.422599662131468,
          0.06662795485681622,
          0.5763250480467434,
          0.8585330441008382,
          0.5625117659037072,
          0.2635439186019461,
          -0.3594593047640842,
          0.3694182568571751,
          0.2213646459420464,
          0.14575959502237407,
          1.0674620844102747,
          -0.054532535645212626,
          0.8233813112407038,
          0.4842713906076113,
          -1.244563793198698,
          0.0998417188741337,
          -1.0984047676839592,
          -1.1232516729880522,
          0.19850405697881507,
          0.4095948081788834,
          -1.5450753745890615,
          -0.7450726793267349,
          0.3218343507726032,
          1.025337975125967,
          -0.26079111889457257,
          0.42374819517388423,
          -1.162359864964743,
          1.0376450582722505,
          -1.3279310988991657,
          0.6593430041875791,
          -0.36684773507525625,
          -0.02536311798293537,
          0.2815771650973012,
          0.1733584456869649,
          1.5173422152112426,
          -0.12079805781146158,
          -1.570639853640244,
          0.2611253293480849,
          -0.8476077929208365,
          1.464914797573618,
          -1.0670998437176775,
          -0.75078119822707,
          0.6756799477090439,
          -1.123643225504178,
          -0.5219888175257681,
          -0.11490431987247211,
          0.8640271899549661,
          -0.8603203188017309,
          -0.7910242561056586,
          -1.6702037553072733,
          -1.8078003427269773,
          -0.8093241544834373,
          -0.14739928886905465,
          1.783371650061526,
          -0.5484263037933266,
          -0.041727318786103196,
          -0.8303690623220723,
          -0.24058809954412452,
          -0.01071372421557577,
          -0.01235609931825272,
          0.4043544429090125,
          -0.4213942161965596,
          0.8121114477122892,
          -0.42896000432246034,
          -0.003487710672688532,
          0.4114140288135568,
          0.1755182677872306,
          0.34443181797575023,
          2.1954736613299732,
          -0.23782271694526258,
          -0.6987780464116848,
          -0.17565783441534408,
          -0.5446665373438535,
          1.2673979761202097,
          -1.3117906215032138,
          -0.6328615173674694,
          1.3090960259371967,
          -1.0925817745388564,
          0.2819709487256205,
          -0.8615402472259078,
          -0.38394327519257865,
          0.2173660773132759,
          -1.2442723706089154,
          1.5302984687090446,
          0.2597529372966221,
          0.2466412499430482,
          -0.8795023159985553,
          1.1417502001892457,
          0.35246887716845315,
          0.7385376946256776,
          -0.5498197200353537,
          -0.47772231960231315,
          0.6414968317723645,
          -1.0124746478524813,
          1.8320582160792611,
          0.23566219663767649,
          -1.1256713879630647,
          -1.137464344211813,
          0.043210269000318276,
          0.09827657319210845,
          0.20980920375931372,
          0.6891025311325352,
          0.2592328933272934,
          -1.4211484333607562,
          0.4880086845641392,
          -0.7736767013187886,
          2.128984455812058,
          -0.3727368339212077,
          -1.6119972521010975,
          -0.8663273530564696,
          -0.6996667981403675,
          -0.025850214013246223,
          0.71846776430271,
          0.04130681026465026,
          -2.0456562269742498,
          0.09672560736341192,
          -0.19102606740061115,
          0.05898492966163825,
          0.8988762814025731,
          -0.8924400893817083,
          0.5687233958367526,
          -0.5076663581543323,
          -0.15558467767740125,
          0.6752523259712132,
          1.9343907973604215,
          -0.8144578703807559,
          -2.2166415084000537,
          -0.3054994171989794,
          -0.8300569287585097,
          1.022513725573348,
          0.3745484190652339,
          1.2837055478018788,
          -0.0382305408702754,
          -0.8259830573144545,
          -0.7543687512460471,
          1.458531310300737,
          -1.0750835584595126,
          -0.09185195531384917,
          0.7922128070217828,
          0.9204234735800422,
          -0.26677329237716807,
          0.012016810781371743,
          -1.045433297065074,
          1.0505362340058477,
          -0.8834497314609044,
          -0.753950917834729,
          -0.9881905552593443,
          -1.2774719531753513,
          1.0421640372311372,
          -0.39800873487334093,
          1.1238442448395853,
          -0.6891697603295032,
          -0.6778980074314891,
          -0.09464922558024905,
          2.2725367229566875,
          0.391678439358277,
          -1.0506369688486368,
          -1.2631432820213393,
          0.5378685876486516,
          0.36687182517006744,
          1.394343438416174,
          1.3192330248801816,
          -1.8834579909568339,
          0.7013313855165492,
          -0.6631181088257456,
          0.7362804234158572,
          -0.5754622861830255,
          -2.0337760484299343,
          -2.0815271991672892,
          0.7123768741239173,
          1.0526330947661553,
          0.08827683832123864,
          0.5851493265869345,
          -2.059299840053641,
          0.5618941546969117,
          0.0025179656363188505,
          -1.3570272803201804,
          0.46597752208672805,
          1.4207142363228822,
          2.6355418958516905,
          0.5492278040834357,
          0.02006663267714708,
          -2.584297256155842,
          1.5524959551933701,
          2.1166997167058215,
          -1.7056216714665697,
          0.4204081642388942,
          -1.9798878738003232,
          -0.556641316126728,
          -0.7049152319711821,
          -0.07542719698755802,
          -0.9126324886952993,
          1.1963931826480645,
          0.6130179243321803,
          0.5878781145178226,
          -0.4090097029242555,
          -0.5859459978540483,
          -0.30289600559035523,
          -0.5007822347212886,
          0.6100320215450704,
          1.2005173928842419,
          -0.8849431097701741,
          -2.1464655336723424,
          -0.10219934170322631,
          0.7534073481187875,
          0.792186951152215,
          0.0879779600614762,
          -1.0796619746066107,
          0.08736734067880458,
          0.09472948157450573,
          0.4409798806035772,
          -0.586881648526692,
          0.2613167664794407,
          -0.17672289743606337,
          -0.33886942417901683,
          -0.4460460213311071,
          -0.2156357591393556,
          -0.9647017246710836,
          0.011163641583778491,
          1.2425629856611766,
          -0.5333744722761959,
          1.0002317013697528,
          1.6801854533465197,
          2.4551355368036547,
          -1.9850824923683563,
          -0.5413063396558208,
          -0.36259068776994696,
          -0.6789400590018458,
          -2.0587420925806748,
          0.2973710362280208,
          0.4182581548777197,
          -0.41520137318453093,
          -0.1717470893937908,
          2.1913655123142335,
          -1.188096856875596,
          0.769590086342854,
          1.9991330527872604,
          -0.3023220463182566,
          0.16273945605732923,
          -0.17099561374388364,
          0.5175233666811463,
          -0.6320205891872293,
          -1.0792979178102693,
          0.8073834596159781,
          0.47296645665507,
          -1.4618138890195946,
          0.8536947544273756,
          0.3884982479083336,
          -0.4914640332588758,
          1.5299634731384777,
          1.1106940324516428,
          0.10335708703010192,
          0.3332141165024831,
          -0.008386886526975463,
          1.7786800596609675,
          -0.055825758904407566,
          -0.9000906221446011,
          -0.08373193708806895,
          1.0810654827613897,
          0.31381213611335096,
          -0.23020609926668215,
          -0.09333183214128406,
          -0.8100485508585024,
          0.04161393155573913,
          0.6047860653179974,
          -0.8653463102425991,
          0.15882235463576702,
          -0.11729342763391169,
          -0.23758266235790762,
          1.8487617438243886,
          0.2726775269330434,
          0.04117292291118242,
          -0.3979464136487431,
          -0.28056216864986794,
          0.25468264357751286,
          -0.16972333655110408,
          -0.15345855709716602,
          -0.7125534034304647,
          0.9993940521135221,
          -0.2956761042102723,
          -1.267977600040337,
          -1.6783685813986293,
          1.3121326051128996,
          0.2936705166477493,
          0.7386562249412972,
          -0.9469957461420204,
          0.9771120684966176,
          0.9193044917911888,
          -0.22085287409754836,
          0.5168940850458518,
          -0.32940317838978717,
          0.5670654647083258,
          -0.03096525019387066,
          -0.2204639552048403,
          0.8406028288023697,
          1.7738380021160869,
          -2.3169579241495506,
          -0.9724108785439167,
          -0.8188901156543142,
          1.1379220499715181,
          1.5042780379859242,
          -0.12075108228362604,
          0.5343804025587566,
          -0.5980396949582559,
          -1.7287400772429269,
          0.9546831389089638,
          -0.469230187890885,
          -1.5565773906549683,
          -0.6838455976877922,
          0.02172961814262028,
          -0.531491397564761,
          -0.13556209987002701,
          -0.866620273007956,
          -0.7098823590144515,
          0.8883180756482926,
          0.38863310919055183,
          -1.061195967544763,
          -0.487353969880077,
          -1.5889728511509553,
          -0.8120884810504175,
          -0.5956301832074414,
          0.008115162534703289,
          0.4011332320838651,
          -0.8189087536398758,
          0.324384437030269,
          0.9182865492089272,
          -1.8098372906902516,
          0.37568158111963157,
          -1.0767380886983935,
          -0.20149635465515922,
          2.8054741952188222,
          0.7110785829552578,
          0.8566193856952559,
          -0.8491614482749436,
          -0.5876994335279657,
          0.6589084449357102,
          -0.22723645362362974,
          -0.3932333073497973,
          0.38561599824205683,
          0.16159633788279373,
          1.1651604261438289,
          0.4384045232418699,
          0.1839221361713745,
          -0.07477518886538813,
          0.9532999373451011,
          -1.3885190345211127,
          1.1523670030534336,
          -1.0531705532818416,
          0.5642112600610671,
          1.229517311867505,
          0.45460624061181537,
          2.1911717224263634,
          -0.3760877823479221,
          -0.4802697076178582,
          0.6347046303146171,
          1.1159633569338583,
          -0.5817843641468361,
          0.0058467042164593265,
          -0.6246594798884932,
          -1.127441652186932,
          0.4149711048300041,
          -1.096556092007184,
          -1.414896168136103,
          -1.442403545917947,
          0.9747588587575993,
          -1.198732205618561,
          -1.532786651123954,
          1.4132469311988594,
          0.04283729891747743,
          1.9555826007127695,
          -1.1264924043064017,
          0.10882748967344852,
          0.480530789212095,
          1.0977416723082463,
          -1.3971610673047214,
          -0.6255309330385247,
          -1.4710046053018797,
          0.9343503819881942,
          0.18670481414827872,
          0.6855559775508543,
          -0.27563239511181853,
          -0.3179732397236558,
          0.5857103984327933,
          1.0122201165553208,
          -0.9739734510008308,
          -0.025634620274160195,
          0.525667718365441,
          -1.3911890184858786,
          0.2875409614893606,
          0.6309298999315316,
          -0.0787472166669748,
          0.4523788767354661,
          0.6003517863568429,
          1.0663620475019198,
          -0.3054826483754636,
          -0.3303139962720668,
          -0.07323636132424487,
          0.33646739435349826,
          0.04937972533652983,
          -0.5766127138150686,
          -1.299594100627176,
          0.9301482423054876,
          -0.8393104952061867,
          0.8380505639093151,
          -2.8314706526562303,
          -1.111308589262449,
          0.034086003740635015,
          0.22039995966313003,
          -1.4451137013668485,
          -0.7979738364175967,
          -0.5620068589183619,
          0.509475959707243,
          0.9621986689789636,
          0.03342333873283472,
          -1.2617726117676018,
          -0.5404959318314396,
          -2.5288639379090734,
          1.2193543638238649,
          -0.4465133934838622,
          -0.22875970258060066,
          -0.41230039817751957,
          1.0446585935466213,
          -0.5278413587962059,
          -0.5975644715764987,
          -1.0803293549630844,
          -0.5475024296234575,
          0.280374354457131,
          0.3773850683956785,
          -0.12282510173545874,
          -0.4556642631515911,
          0.1722430206715519,
          -0.9483025577651147,
          -0.876053058156183,
          -1.3411210751108043,
          -0.9540153938625163,
          -0.09953253281469651,
          0.8887620716059805,
          0.502063219656649,
          -2.1893108353676185,
          -0.4862085243733026,
          -0.00040361107840583164,
          0.4005408016810704,
          -0.46700144653523473,
          -0.37578470294384725,
          1.1245132312561352,
          0.03153427462078454,
          0.7039816398526788,
          -1.196690121760039,
          -0.6947182367151074,
          -0.21038537120388556,
          2.669686749738624,
          1.5545277157272857,
          -0.9337292190842892,
          -1.5598637045086106,
          0.38382118570111373,
          0.37646300329046617,
          -0.33713797639448834,
          -1.3704044996183045,
          0.18708821200000353,
          1.1775050448945394,
          0.7527972741916283,
          -0.21001961797532798,
          -0.2859745744727028,
          -0.09311133382306191,
          -0.509603338010962,
          2.1224919039515475,
          1.6973492941951671,
          -1.5962926490972202,
          0.27244534054886954,
          0.1692883247660236,
          -1.5194125183818001,
          -1.4177479296341222,
          0.11224734012210624,
          1.8639427847063121,
          1.4507394432624543,
          -3.383244864634014,
          1.4263234522068533,
          0.5663141963402221,
          -1.1847244323707629,
          0.6803139518532035,
          -2.5140420064531876,
          1.1017025681312318,
          1.0022359472941187,
          1.775271800033939,
          -0.26262922440879166,
          -1.0923604968440412,
          -0.026362391685427363,
          -1.7582507732309887,
          -0.37850326137216656,
          -1.3123346887525817,
          -0.3264063240744892,
          -0.8076284092415839,
          0.29468687946620536,
          -1.7404901166474411,
          -1.439210564167257,
          -0.012999840186010548,
          0.3541983909664851,
          -0.05617832726392626,
          1.574067066468471,
          -1.4033359755461048,
          1.5164774179783922,
          -0.5303200502469124,
          1.8065703223223548,
          -1.188566694289141,
          1.2929244098687154,
          1.4892201910904501,
          1.6568986396049719,
          0.7772884164757026,
          -0.6008767884033664,
          2.0976694337446373,
          0.6016785788395465,
          0.2560260715376178,
          -0.6076204365429684,
          -0.3039785307470983,
          1.0636117303312727,
          1.1445661009679486,
          -0.41174261190886413,
          -0.9965487919539274,
          0.14473873205405086,
          -0.49404132720253174,
          1.1384310904168602,
          -0.9203587650421818,
          0.6687807890328172,
          -0.5978754071561313,
          -0.0379084615863588,
          0.909676304262043,
          -0.5254515562966926,
          1.133911641987734,
          -0.7826698609357359,
          0.9637873974965131,
          -2.179501207935476,
          1.3852058950897395,
          -0.19052292017050554,
          -0.36488926994585297,
          -0.515920788811983,
          1.3704953659876515,
          0.37988069513562617,
          0.6234469230845501,
          0.12554269013528913,
          0.3795084812091465,
          -0.2952217802441127,
          -0.11059700316524951,
          -1.1455816092458095,
          0.3101667137946923,
          -0.10715344761141765,
          1.7444268830323428,
          -0.9589164532698594,
          0.02476184544158057,
          -0.8645410520595721,
          0.25220614236091704,
          -0.4786476052535572,
          0.42408478337656924,
          0.29086926813056196,
          0.7704906370097845,
          -0.22301335275830936,
          1.6130852552125903,
          2.067080469944648,
          0.10769993102554354,
          0.23843339202787206,
          0.8288203460628969,
          -2.111917341137807,
          0.6523128617060878,
          -0.8304739678654792,
          0.22366850821691028,
          0.9753044703628005,
          -1.5859829329954065,
          0.2959887454675787,
          -1.8792430642922022,
          1.0929167624679692,
          0.47294938584749985,
          -0.6086447613000601,
          -0.01582975187038206,
          -0.216170315894062,
          0.7453336388219376,
          0.1019943700134089,
          0.8335576162191755,
          0.28099065714343796,
          0.7846089592014255,
          1.416309690343853,
          -0.2676700819748136,
          0.34270492155073173,
          0.40318140664758245,
          1.5522063335158822,
          0.24485103736707084,
          2.93477410820957,
          0.46396930874332415,
          0.2516757507822113,
          -1.4076968808804673,
          0.8806410473280486,
          -1.6329001180826281,
          0.2742658392704616,
          0.18919672901584866,
          -0.7237993124939625,
          0.8498615602797637,
          -2.011756689063589,
          1.1879892112476813,
          0.598828056242983,
          1.0885169570079227,
          0.8837641629184275,
          0.7173983740178268,
          -0.5521409068233932,
          -1.4159559580063206,
          -1.832322783785515,
          -1.1050761993200382,
          -0.2010132479793544,
          1.135938212700261,
          -0.24803845128308322,
          -0.8589675774404498,
          0.2961092383064623,
          0.19781863161997235,
          -0.37266065920076125,
          0.9516399540301411,
          -0.18256061406723967,
          -2.4298017920769905,
          0.9905240957999072,
          0.08948645819147014,
          0.11827113505128786,
          0.6719941994844788,
          0.890117602807901,
          0.369465680795216,
          -0.09519870968714043,
          -0.712351318296841,
          -1.0882918841124978,
          -0.0004853987001513027,
          0.4287936800775547,
          -1.5889243225266838,
          0.23020380609690355,
          0.8183845209534374,
          0.6126916814288635,
          0.16464912823731165,
          -1.6104541126374712,
          0.46394005873715266,
          0.752834587842805,
          -0.21796196961585393,
          -1.674334736368562,
          -0.15854437315374656,
          1.4961549729098345,
          -0.6053909690064392,
          -0.24268086265287564,
          0.8039864611997046,
          -2.8946615976416523,
          0.1468037213897827,
          0.1778579566798401,
          0.8165809146444406,
          -0.6435615418172985,
          -1.3084282135102434,
          0.20590145899537524,
          -0.862089724162381,
          -1.6202509656325943,
          -0.7848151879394152,
          -0.16416753046899235,
          -0.47541820272742874,
          0.5995472839289785,
          0.022491748912736503,
          -1.1292853204896922,
          -0.0831439993388332,
          -0.25958684675434457,
          -0.6448748556410376,
          -1.48174571756931,
          0.3494263026616763,
          0.27460236689618345,
          0.9499053707427726,
          0.13674970925085211,
          -0.6638103335672431,
          -0.2701842570871561,
          0.5927071810040534,
          -0.293720155798587,
          -1.1275668742434077,
          -1.0958120925276849,
          -0.33567661065282245,
          -1.77129749296946,
          0.14605843373395772,
          -2.1201703607994915,
          0.07487839603767031,
          -0.4628946513476238,
          -0.8555959360877774,
          -0.24957655380402874,
          0.8984152596292537,
          -1.2566596735242068,
          -0.8976821279451632,
          -1.3419915906073052,
          0.6521663599395116,
          -0.26418944042673165,
          -0.19524691762851665,
          0.2770371490657761,
          1.131892692567961,
          0.32349703477294733,
          -0.9182504993501487,
          -0.18920433140027065,
          -0.9116549207433176,
          0.4943889038484579,
          0.8057184999030765,
          0.11798190838836849,
          0.27998387296815974,
          0.2463901561801512,
          0.6262526970368527,
          1.597877684987374,
          1.9332257230346976,
          0.43859290423212816,
          0.6636628121209502,
          -0.5283902376058506,
          0.5681961541564207,
          -1.056276026440826,
          0.7483611846611586,
          0.11728148484364352,
          0.9851426209804807,
          -0.4431437569239198,
          0.2802674796335557,
          -1.0662641180771257,
          2.1351857367563505,
          -0.0798133767610728,
          -0.1269365142760042,
          0.07717010038960666,
          -0.48883818211549435,
          -1.5563537953009774,
          -0.2809899817992507,
          -1.6192306345508922,
          -1.3431471410218172,
          1.1923621497472192,
          0.23240385025200402,
          0.8176332414403568,
          -0.03400894657747339,
          -0.8122238167534408,
          1.3185736136192687,
          0.48075505483612785,
          -0.38627730472907357,
          -0.5523897956008466,
          -1.987468905394565,
          -0.8413692149949927,
          -0.8021149454436619,
          -0.7740053211795851,
          1.132702845762528,
          0.08712256342677771,
          0.9416538295895186,
          -0.06986778475051018,
          -1.5402213957076683,
          1.546054792914098,
          0.29005771472846226,
          -0.3606169327967463,
          -0.35576325808079085,
          0.5420659181147386,
          1.4276330770517842,
          1.3385894890940269,
          -0.4963161125437763,
          -0.6290518267741751,
          1.5721950904823587,
          0.4546822770721979,
          0.2007598977257041,
          1.2028709081307052,
          0.6700842906269747,
          -0.3276496227104107,
          -2.0043472778201004,
          -0.2402276726096398,
          -0.04444794248909757,
          1.3822066898017369,
          0.953060925714867,
          2.1074369839233573,
          0.5431285659428647,
          -0.08708518725745533,
          0.2451760292615842,
          1.045265342958897,
          -0.6113893356980924,
          -0.03566706344776721,
          -1.7301410978068927,
          1.3424780085626138,
          0.6489193066116659,
          1.1082177335014933,
          1.4303696214569108,
          1.6848669478307983,
          -0.3092559710499345,
          0.2959678117198052,
          0.613934978844642,
          1.5729070215618932,
          0.5623621255310861,
          -1.5118171887260587,
          -0.8306349214923491,
          -0.3751021384358645,
          2.947053805674268,
          -0.6190446040743477,
          0.8249831301782707,
          -1.2126915151830848,
          0.2449060909032342,
          0.9007719807221376,
          0.5479748974044132,
          -0.07902793138127814,
          0.4582016609926406,
          -1.6840984653892876,
          -0.7453186411630789,
          -0.7225685629682836,
          1.6575370193694516,
          0.5054718786171378,
          -0.1925072122285309,
          -0.6229566618990307,
          -0.9422051489029205,
          0.23645013871744658,
          -0.09516156268376157,
          -0.38970831324202704,
          0.641160118702259,
          2.469429537661463,
          0.15333289347213833,
          0.41982855188643403,
          1.2753100986341879,
          -1.1890661312610749,
          -1.3181046048712577,
          -2.250559803028583,
          1.1759186465252085,
          -0.27330849003743474,
          0.0754858069224537,
          -0.08629413443385658,
          0.7112607249285506,
          0.8209940611505891,
          0.08936672007335066,
          -0.20382792882654746,
          -1.60910318917718,
          0.4594440879349586,
          -0.7355922982176446,
          0.18291159828496686,
          -0.111520202050404,
          1.078930310249145,
          1.070519258079608,
          -0.7426931874156651,
          -1.6150889560299264,
          -0.895067643555653,
          1.2676406835757212
         ],
         "y": [
          -0.023606223842829007,
          -0.6504545069725444,
          -1.4427834768310497,
          -0.8826988642088189,
          0.8775492086447028,
          0.27844594830493036,
          -0.8881859439569695,
          0.32390997436057734,
          -0.3458673170498108,
          -0.2231035091479488,
          -0.09386836984356337,
          0.7585470887221573,
          0.49668802407504337,
          -0.8906077106521495,
          0.3810860710291979,
          0.7725556474687214,
          -0.355927940735238,
          1.3755448019188858,
          0.5406900035885022,
          1.1048502942830702,
          1.6876568262616511,
          0.04874307677313874,
          0.9164545667265235,
          -0.7988936464223785,
          0.8963332270174228,
          -0.206909041024999,
          1.0702578019800792,
          -1.0627249889002635,
          -0.6076146213326394,
          0.17206761298994494,
          1.827473809750781,
          1.0690123147672046,
          -3.039731321395044,
          -0.8625375779464903,
          0.44188099165067624,
          0.36424121703987333,
          -2.3356066312097346,
          -0.2200036508154387,
          0.2633581860056177,
          0.5614718130921341,
          -0.16000299949372757,
          -1.6058233598741836,
          -1.4830435498336485,
          -1.5971031699580687,
          -0.3882197371720388,
          -0.28052169107307345,
          0.03142987113060339,
          -0.23862002982501326,
          -0.983669147989676,
          0.5466296688793899,
          1.3821385933182735,
          0.48615761278855013,
          1.7388539422021903,
          1.2415983308878287,
          0.7805175512752894,
          0.09086256674067981,
          1.0026533075257984,
          -0.5807224516420298,
          -0.27998506705522613,
          1.0032514180898675,
          -2.3962885141976717,
          0.4558231782577121,
          -0.7244465592184874,
          -0.49949187972397324,
          -1.674158556944442,
          0.37224653862623147,
          -0.9395336447968792,
          -0.21135096872053188,
          0.5611081381494845,
          -0.4742813516354326,
          0.32382062060716404,
          -1.0400673186568903,
          0.7083392314382848,
          -0.5261601553392122,
          0.044230832320693816,
          -0.3449283047995562,
          -0.9266221232715067,
          0.6417900453592342,
          -0.28347797215074677,
          0.4114163194069845,
          0.7777353880368452,
          -1.2393039318580423,
          1.2503310709450575,
          0.652563171794327,
          -0.6010980988713661,
          0.057894147630805276,
          -0.7179897164326814,
          -0.4367113613573236,
          1.7131211119151748,
          0.9828595008536078,
          -0.26528572053803023,
          -2.307196194249299,
          0.2036257171374692,
          -1.184487946010365,
          1.0895288013717743,
          -1.7143346759793252,
          0.78232049432705,
          -0.5972293101897974,
          -0.09599931921787552,
          -0.3319368064752064,
          0.44836838833138964,
          0.9042730602502737,
          0.9872961279609708,
          -0.0010732853056241365,
          1.1582216169011474,
          -0.4217580175905729,
          0.45236255371968276,
          0.8173438965576633,
          0.18389721412715668,
          -0.3413486334976643,
          0.5517461669063801,
          -0.13698048829393342,
          -0.9848490847299854,
          -1.236161608163217,
          0.4532516063532217,
          0.8136580244757828,
          0.8862788409915819,
          0.28195509488467674,
          0.7747680280618083,
          0.39215341588558983,
          0.6184049900493901,
          -0.6621296652028748,
          0.790630619882568,
          -2.3709369981789217,
          0.22087687062891412,
          -0.2070762018404215,
          1.0153872040459258,
          -2.0729983217654335,
          -1.2703637086926356,
          -0.43985799222458866,
          -1.3349283042212166,
          1.1617161878800324,
          -0.7532493378319094,
          -0.1405594344970793,
          -1.3127391869626484,
          -0.8867932121837249,
          1.0938940968672708,
          -2.493802547826389,
          0.3976732478222037,
          1.8560411622069946,
          -0.18445592548625345,
          -0.5883296939664712,
          -1.8346514836829242,
          -0.45138718616262835,
          -2.352171027040608,
          -0.19066910271337717,
          1.186774444711014,
          0.1297430835749808,
          -0.6724090724195838,
          1.629751134966166,
          0.414063334002259,
          -0.9802984630779195,
          -0.8321447546126043,
          -1.4337780536732532,
          2.03146673200092,
          -1.2867071160636088,
          -0.6049667752747773,
          0.8559748146921229,
          -0.4869451176757644,
          -0.3834901641248721,
          1.7633143151213997,
          0.6001074738139761,
          0.9376672122200618,
          0.7652272158213206,
          0.4687983157439744,
          1.5563362510680594,
          -1.0850807809011025,
          0.2962527368232286,
          -0.9901025652195693,
          0.521455320265925,
          -0.34840442128771526,
          -1.2573100610114443,
          -1.4351345206369202,
          -0.07876453534341071,
          -1.3846870300711516,
          0.21841748859809082,
          -1.8504801734127607,
          -0.12652255549031166,
          0.07584900087952325,
          -1.6314376108500726,
          -1.7639910465946695,
          1.5850525291460427,
          0.655064992146779,
          0.5376297225922896,
          -0.04943657709485866,
          -0.23249963192426348,
          -0.5024621617520317,
          0.27092791928509513,
          0.8593086628719252,
          1.2833908968189742,
          1.628251639837232,
          -2.273628428398745,
          -0.46308682164245096,
          1.4175930561522738,
          1.0508814328620666,
          -0.6099291951325221,
          -0.39013841131363436,
          0.7850259211895967,
          -1.0466847057538675,
          -1.326143825801875,
          -1.021039523899517,
          0.5571241315676444,
          -0.4009758245134849,
          -0.4025445470283117,
          -1.3403054796409546,
          -0.07719267327986541,
          -0.29728052013822054,
          -0.7310225960804041,
          -0.19517725858305665,
          -0.4422343214321919,
          0.19259494348977607,
          -0.6571481573908112,
          -0.9131731407126651,
          0.9740385511725084,
          -1.575256249754347,
          -0.5101684654274633,
          -1.2722974292371902,
          0.5811879946079657,
          -0.08705923581564494,
          0.8416218687406233,
          0.15068057402631188,
          1.2024608666851588,
          2.1099829345390653,
          1.1002410377327418,
          2.168867140558942,
          1.020791484455808,
          0.13922212778052626,
          0.8083632881737003,
          -0.2911946882426288,
          -1.365820423288462,
          -0.6227816656454167,
          -0.10832217294918632,
          -0.08352700346229874,
          0.4265250110126308,
          -0.4808993259927328,
          -0.0946058482075424,
          -0.6075053083940404,
          -0.7023761534306312,
          1.716338648796263,
          0.3376093530220065,
          0.8021832186387386,
          -2.004085078194878,
          1.5188034780998114,
          0.3051237572086531,
          -1.4601944322460014,
          0.39676445979780145,
          -0.27458063731308396,
          0.3885461075115569,
          0.026461018515841195,
          -0.5786969472468941,
          1.4144898112886934,
          -0.7753807848731532,
          -1.268023702044964,
          0.6436286667744335,
          0.9756820422768199,
          -0.665073565413234,
          0.8253777468906934,
          -1.261974118630102,
          -0.39925555564046156,
          0.5927599191072549,
          -0.11425243936154615,
          -1.3414834127675406,
          -0.6653778179770752,
          1.63083232508911,
          -1.2188639753195107,
          1.2649705049302447,
          1.2068986225028553,
          -1.149021507282985,
          -0.18786999219149889,
          -0.2355338520473898,
          0.33364506776516867,
          0.6685422183874806,
          -0.2762712160267101,
          0.22206069118325683,
          0.796290508325933,
          -0.9984628070413896,
          1.1450078593541604,
          1.1725272156320505,
          -0.2513149749740895,
          0.3820370467774776,
          1.737061829061982,
          0.6769858477236963,
          1.4622053143430191,
          0.4739439391633013,
          -1.289642562702498,
          0.2764538955007183,
          -1.0350881768948723,
          -0.8859050555098198,
          0.40839060082949846,
          1.4359581515602302,
          -0.5675294900762973,
          0.7467245709873779,
          -2.236101421636325,
          0.4569838414630442,
          0.6166920171506132,
          -1.5226106355353712,
          -0.1355966758956724,
          0.2930428518986438,
          -0.733207246638059,
          -1.0518753899407052,
          2.424781452504631,
          -0.562649294601599,
          -1.1653720500458056,
          -0.7314354419336246,
          0.2579136329975706,
          -0.900883455965371,
          -0.3247979814363534,
          1.1948973177987856,
          1.026112400470356,
          -0.15164629054089143,
          1.2013671665661703,
          0.08384409509288142,
          -2.361694349203205,
          -2.4346104183714097,
          -0.6781325265259259,
          0.1321209749798463,
          -0.3485391731778816,
          0.6060717713548507,
          1.0301981340208404,
          -0.8223777450486056,
          0.06335569447596236,
          -0.7433874044201616,
          0.34139528539952557,
          -0.8855840398819781,
          0.16135073777071596,
          -0.20371160569125257,
          1.0896855849137905,
          -0.9222337315047735,
          -0.6608844002716531,
          0.071246159214241,
          0.7117101704850979,
          0.5600411441706925,
          -1.11722526812756,
          0.27670906136697876,
          0.6119521254749356,
          0.11930577619263014,
          0.02731147259431403,
          1.3737266085754352,
          1.156989393638687,
          0.21127026174676944,
          -1.361101197016146,
          1.7011971052465429,
          -0.7966329945710003,
          -0.3863728911372383,
          -1.414750593309063,
          -0.642541658600106,
          0.18897742542344254,
          -0.238983788070368,
          0.24046475190021324,
          0.02528996616426253,
          -1.0842126064754718,
          0.04881981095177284,
          -0.9985490093931197,
          0.044181924874625744,
          -0.2560125530716864,
          -0.09352782376380842,
          -2.5653686909481985,
          1.4354328230811135,
          0.03236423821144897,
          0.8174153280176382,
          0.0680950323912369,
          0.0021416039134132146,
          0.84592952699094,
          -0.7951188086328843,
          -0.2820490761259176,
          0.538165649423925,
          0.4710232859228532,
          -0.11281132848072137,
          -1.1593575963589717,
          0.9384025984922355,
          -0.15263670378324748,
          0.07621509499033957,
          -0.01688110979167884,
          0.5281834439387848,
          -0.5279309331391296,
          -1.9357807267216856,
          1.590332336613831,
          -1.0406233981227213,
          1.5284655392527047,
          0.5255280249024196,
          0.7285834051946573,
          0.7097206282506143,
          -0.2987273823935053,
          -0.3309202566719937,
          -1.1724155804954706,
          0.15599005594088977,
          0.9823707762588694,
          0.5112126546361553,
          0.34921665145026054,
          -0.24170373003806256,
          -0.07351958866359522,
          -0.3085223758546374,
          -0.7434871926185448,
          -1.115330917898139,
          -0.4035388841310129,
          0.9782203455743081,
          -1.6791243105947298,
          0.2779266521244717,
          0.9206488138356876,
          -0.811416714682195,
          -0.21389049122655077,
          -0.27088088485190176,
          -0.3109097892590845,
          0.13083608835064825,
          -0.47993638536451444,
          1.0558300010252908,
          -0.27533335398346803,
          -0.6957308861840226,
          0.48946865574722015,
          0.17902749936170978,
          0.6225341154440139,
          1.6705157324894748,
          2.2840844365150925,
          0.800231715449329,
          -0.14274005713300195,
          0.11801400838716657,
          -0.9074042806545465,
          0.14477863374932032,
          0.10606075747398364,
          0.5997566323879401,
          -0.7570369375178145,
          0.4474892800973221,
          1.2196042186964422,
          -0.6405379176160567,
          0.1724852302566199,
          0.23975544526372755,
          -0.2835322290590711,
          -0.07461940134822401,
          0.09501451985417594,
          1.33906808481008,
          0.20665158859212768,
          -0.9220586247698612,
          -0.9456629659993439,
          -2.036224728646986,
          -0.1687876663369438,
          -0.5010676078852989,
          0.8372756181739776,
          -2.0010036618869806,
          -0.015961213706478863,
          1.6423188144008387,
          1.4846972840502213,
          0.22505027848048803,
          -1.3698863429208377,
          -2.6105680070196486,
          -1.8396933392667474,
          -0.07023174527884762,
          -0.07675767297176946,
          0.49576856630784755,
          -2.516569074878546,
          -0.7414029208483499,
          -0.4453801805610873,
          -0.49152232147999236,
          0.3878821089822714,
          1.0345159085960716,
          -0.4926530106095735,
          -0.3752803184809736,
          1.2218967251322328,
          0.25665913613697555,
          1.1852846139131403,
          -0.6120697368133807,
          0.46366244170546916,
          0.6534926837624031,
          0.19400127443623666,
          0.09482435255166169,
          1.065732715929268,
          -1.2382132993605388,
          1.0690464622758142,
          -1.0180721648847937,
          -0.9116195260617502,
          -0.7937828197833998,
          -0.7942620991824441,
          0.5466766165014862,
          0.7755709769687898,
          0.14538015315698208,
          0.2815180240829237,
          0.6871561844112901,
          1.0831490547145777,
          -0.22558161568364532,
          0.7629893905865825,
          -0.21194585608350539,
          -1.1152493814797781,
          0.8619945866529526,
          1.0612806810176985,
          0.7013862051092236,
          -0.454020730321055,
          -0.8163859227132668,
          -1.151376177184644,
          1.0215860165293706,
          1.4074905082496467,
          2.2782946976506775,
          -1.466612415752488,
          -0.21753369763259636,
          -0.7624725616189767,
          -0.18126264719930585,
          0.5096454315236715,
          0.09339676805335673,
          0.4078718380979802,
          -0.5614046174278823,
          1.017406091026927,
          -2.9289119386101783,
          -1.2610576254424082,
          0.35146128325111275,
          -0.2625460745589161,
          -1.5812982068971917,
          1.181097056286153,
          0.9356284954644555,
          -2.020395759456132,
          -0.4687761627814527,
          -0.17212074672561434,
          -0.3752623913413515,
          1.3723489586950264,
          -1.2755174145204717,
          0.21482938717379235,
          -1.3839219022346703,
          -1.5249463902369984,
          0.5280055583997453,
          0.3014965900664978,
          1.3317887994949282,
          1.675835310249985,
          2.018042365758264,
          -0.5827685356350045,
          1.1669575133332424,
          -0.20292957271795867,
          -3.0053815560346315,
          -1.0753760320627488,
          0.9077641775654259,
          -0.1921621341517016,
          -1.0077256531300014,
          2.5418033635757586,
          0.7739148824737317,
          0.5697004274028875,
          0.47254618323016306,
          -0.793574276978128,
          -0.6863186866787596,
          -1.242412170747254,
          -2.121282716197679,
          0.18059547151764357,
          0.15034979790569605,
          0.06778010197944485,
          -0.039786914051947335,
          -0.8637795649570147,
          -1.453194146823582,
          -0.5074689441837942,
          0.6480340272110454,
          -0.22066490940791997,
          1.852881430397036,
          -0.48757237675999476,
          -0.8881952852706877,
          1.459267781457764,
          -0.1999641219409883,
          1.4567171472627343,
          -0.6836220983760163,
          0.69293340358765,
          -2.152101156695295,
          -0.5002546459665536,
          0.27126202966382157,
          -0.8166348898163384,
          0.21238379836257193,
          1.2571381131829722,
          1.788114948032377,
          1.3258406806922438,
          0.2625335898397382,
          -0.5510197699365114,
          -1.14725591887514,
          0.6023780774507801,
          -0.7287716853147911,
          -0.11512645740097661,
          -0.004548956732277618,
          -0.27866912626651125,
          0.8718629782359567,
          -1.3777334756357025,
          0.6303909149446824,
          -0.8026576061748135,
          -0.16929301320583096,
          -0.4372333427181416,
          -0.5557435128166412,
          -2.0240233238851038,
          -1.2371397813186875,
          0.04571899516470346,
          1.4012437999224345,
          -1.3630856604493387,
          -0.2847683001560413,
          -0.4478831897368115,
          0.1253029052431946,
          0.3074192707709952,
          -0.0924157948436086,
          -1.1648101542972267,
          -1.2418812222471045,
          -0.6836210797467733,
          1.2913917323770205,
          -0.2847030538936735,
          -0.7732519081838936,
          -0.43051856870312805,
          0.02706047731564099,
          0.327041503087055,
          -1.681201977981963,
          0.6820175581567529,
          -0.23331708114567,
          -0.1297286626735541,
          0.8193512612387448,
          -0.4929332243367347,
          0.17669749578650243,
          -0.39422372948125106,
          -1.3504206730934787,
          -0.7512206062834247,
          0.11946723550945926,
          0.010080834101931715,
          -1.0981935990199212,
          0.11861285838902448,
          0.5151786308251421,
          -1.7142059887848853,
          -1.417194382263666,
          -0.18201916867920953,
          1.9385276736933166,
          -0.17271186065324662,
          1.6912891840089794,
          -0.4317176764543521,
          1.1558164135901559,
          0.43641409436053014,
          -0.6635746912208145,
          -1.4641485012128836,
          0.40502237597412716,
          1.3063506344304052,
          0.3653302087996672,
          0.22838235356715555,
          -0.702815827664354,
          1.0524877812167168,
          2.263748970269456,
          -0.6241189315763733,
          -0.30016538336873533,
          1.4837279213097312,
          -0.7653878646271851,
          -1.4948148556536125,
          -0.5280982366054421,
          -1.811587628165215,
          -0.13268628343360198,
          0.0004374008674543267,
          -0.5073036454304584,
          -0.41968179625442864,
          0.3468724336029168,
          0.16734382197811676,
          0.9832259566496092,
          -0.022233054732105087,
          -0.1274056152807726,
          -0.5458390447566155,
          0.015026077404913775,
          0.6331818014937848,
          -0.211029618527117,
          -0.26832885008065466,
          0.41682081349328576,
          -1.5779372992363976,
          0.4917917581156455,
          1.3460167972333408,
          -1.1769455467999763,
          0.76229740522361,
          -1.2440537795476312,
          0.6563772599943914,
          -1.1150060922777536,
          0.017279346073222127,
          -1.1941025515468666,
          -0.11626900542478204,
          -0.6544968863109548,
          1.5974584646185794,
          0.7634568999434063,
          0.5053953685186408,
          1.9075156778165152,
          -0.847250505775055,
          -1.141360367216459,
          0.06595033135907823,
          0.09235398747498418,
          0.6334733283923292,
          0.6940474241891944,
          -1.3384740803766986,
          -0.11473878161142857,
          -1.0629989810746228,
          0.8972550086083693,
          -0.26113021181391644,
          0.8451878601254597,
          0.3404390116997212,
          -1.1974948912097274,
          2.3486851815269385,
          -1.384041040178714,
          -0.07446613095225295,
          0.5015750331747223,
          -0.35663154602546937,
          1.2208120538722715,
          -0.5713400945513079,
          0.3941166155832595,
          -0.3899778832587426,
          0.2759151894178881,
          -0.5316156665568439,
          0.014991867938697022,
          -0.6254738835715363,
          1.1372018549484109,
          -2.1054545314315716,
          -1.1681403022525407,
          -0.3180921419816499,
          0.4279616287010824,
          -0.21169873417114418,
          0.759827133058283,
          0.8483425357287142,
          0.9889860509492919,
          2.601659484868628,
          0.10898080234130904,
          -0.03491587651811306,
          -0.7687045314919293,
          -0.08005739588688797,
          1.0396317917955749,
          1.792654206326465,
          1.498629649323152,
          0.7211324935393995,
          -1.0939012441722136,
          -0.4776363447110479,
          0.7280446348995001,
          -0.7688980659626784,
          0.9086842073245656,
          1.3252493581839806,
          -0.4442110078890147,
          0.8801087929277365,
          0.20982550798403024,
          -0.5182223856001856,
          0.4597671772835706,
          1.031627401417394,
          -1.1315576075693694,
          0.40864573901093604,
          -0.7734091706567942,
          -0.1683489403410658,
          0.5092402564999507,
          0.5979191570189994,
          -0.45009204423730426,
          1.0995578331616327,
          -2.6318569106735277,
          1.2505263377155997,
          0.5891759879938924,
          0.8796162849653884,
          0.0035619849419253244,
          0.22963088654988,
          -1.3039922444717253,
          -0.014554954021841001,
          0.6430167076059717,
          0.14304969534304296,
          -1.0334271737016734,
          -0.1999017626426463,
          -0.46811798603013133,
          0.7141229616159366,
          -1.6850231418380612,
          1.4224641954308326,
          -1.1149794743771693,
          -0.11986104938183771,
          1.0179393316076915,
          -0.6302916396916777,
          0.365669337492556,
          -0.07897731511204822,
          -0.6152489725310349,
          1.647898073244214,
          0.7134283147347223,
          0.3316287942939899,
          -0.36836460856400577,
          -1.506086032624887,
          -1.6006769800817071,
          -0.17972209988725837,
          -0.5086113009739738,
          1.0716636692661663,
          -0.7061219217837076,
          -0.8050382149610801,
          -0.802146289739755,
          0.4852460849133427,
          -0.14081107231820295,
          0.748945181278192,
          1.5943753967371712,
          -2.39737299137726,
          0.4186477882263257,
          0.055422419892757355,
          0.9503588693005722,
          0.6752133887303489,
          -0.1640740838290507,
          0.7816433160688485,
          -0.8826417734345053,
          1.264658698650201,
          0.7011599846374388,
          0.4807462384536562,
          0.07636047476608954,
          1.884895709940778,
          0.4753261819653048,
          -0.3585205664744977,
          0.2201447226487613,
          0.28251406781395366,
          -1.4277326604324163,
          -1.4644710725912944,
          1.310690938197579,
          -0.6943854189673475,
          0.6715333078336584,
          -0.7887428860440864,
          -2.355728541412598,
          -0.8222981324030858,
          0.25225250864179827,
          -0.7648922535276514,
          -1.8566771149990298,
          -1.530240035976565,
          -0.5919335136991967,
          0.7277087653893395,
          -0.7749113890507368,
          -0.30613073567019405,
          1.3926762709241092,
          1.8444254151064507,
          1.5231728828175048,
          1.1362602542243856,
          -1.0415663005430864,
          0.5255723543361066,
          0.6468574338784443,
          0.29900311941816604,
          -0.912506724689017,
          1.0042768832957871,
          0.8610400818897502,
          0.702990995024287,
          -0.0757674675733813,
          0.11084988907412131,
          1.3891489693699166,
          -0.07558966846289078,
          0.005802279274389201,
          0.8832248699510636,
          1.3342005343717622,
          0.5290066438590167,
          0.5499648564531019,
          -0.26313629220453116,
          0.8149487948554338,
          0.7410179294246492,
          0.593996242214412,
          -0.2002902911055848,
          0.5914631697122432,
          -0.43890067413862466,
          -2.0224497053096795,
          -0.9168660849050193,
          -1.0930021084886952,
          0.8973868130149593,
          -1.4696828122646763,
          1.108285211255418,
          0.70190916216563,
          -0.04980589194282572,
          1.077316364094168,
          -0.8160926997779462,
          0.736478890672304,
          0.2643236108540764,
          0.03161561463580778,
          0.02884781595516132,
          0.045005396406624126,
          0.0023275992874046097,
          1.1548306293251058,
          -0.0936128901273747,
          0.14007125730061312,
          1.0567671159646124,
          0.11041735087428498,
          0.5135218764170295,
          0.27037853594184014,
          -0.32168015415555423,
          0.3545704103210985,
          -0.3341709856093035,
          0.7454738984485326,
          -0.8993637737367607,
          1.8067885910561419,
          1.5986549478261334,
          -0.14370915589504785,
          1.250079109240291,
          -0.4695340494767451,
          -0.4138135097513531,
          1.5810495851018973,
          -0.6675658069301895,
          0.3202184665934559,
          -2.5840328799181833,
          0.42591056935118177,
          0.36455378005739303,
          -0.0726572930351443,
          0.3148316559317866,
          -0.6434317176443289,
          0.28200462718554564,
          -0.9945297325693293,
          -0.07483267305878172,
          -1.6187758485811226,
          -0.21466448419005435,
          1.7233812821887682,
          -0.31153550641071975,
          1.6030382535994983,
          -0.4811068073085054,
          -0.43295152166932876,
          -0.8308933010466558,
          -2.086087639223957,
          0.6412256888704043,
          0.10495124710484577,
          0.8298236657208535,
          0.3701219033029654,
          -1.6262616507575551,
          -0.0936202763245664,
          -1.1653752339926637,
          1.3578570260986333,
          -0.37641531670865314,
          0.531508938327818,
          0.7296046345458082,
          1.1142094538928098,
          0.08779366281979314,
          1.088314212190512,
          -0.7886448545090335,
          0.18464169773343275,
          0.6636140937946929,
          0.6881258960349643,
          1.789377584194049,
          0.30321837291166254,
          0.03815390184981944,
          1.9789974139019784,
          -0.08859393315311981,
          -0.09852148455902245,
          -1.9372309280946907,
          1.3287167906618236,
          0.9524420799154284,
          0.8938738030558754,
          -0.30576015931272743,
          0.7250121387055954,
          -0.5339515019940209,
          -0.006709702073690796,
          -0.18005165027133335,
          0.10571831074076224,
          -1.0200775988129867,
          2.124204266772294,
          -0.923689688864762,
          -1.0728747426312848,
          0.6478261170978021,
          -0.7649323443804126,
          -0.5354296023487012,
          1.2854807003204272,
          1.3570243956739723,
          -0.6030332837950344,
          1.0157304082587195,
          1.322010899935925,
          -0.8237459073221978,
          -1.1801566739270823,
          0.4174775379891744,
          1.997777530370844,
          -0.6394721047419677,
          -0.2907774311173806,
          -0.5202222995755772,
          -1.7427955897839909,
          -1.727736309837407,
          -1.1609519612624566,
          -0.3586672003814728,
          -1.2021491569154468,
          0.552319647976245,
          0.8954595197332841,
          -0.33670993402929666,
          -0.45024612586373114,
          0.7542268828992598,
          -2.679174361371255,
          1.540864348500554,
          -1.6845234950434749,
          0.8540631478997387,
          -0.17070537649965897,
          0.7999293912932154,
          -0.4442640641118666,
          -1.0297038006384696,
          -1.5753365923393454,
          2.473555732217784,
          0.6192025896424013,
          -0.4876376956338729,
          -0.3482198163517204,
          -1.3104065728133323,
          -0.40292043808607725,
          -1.1458439122098245,
          -1.2295744338193395,
          1.469985259368916,
          -0.1870088270301736,
          -0.5532547623774915,
          1.7258011597783716,
          0.9295991299997662,
          -0.20957691089400607,
          -0.35092402306652987,
          -0.06574816230653599,
          0.6727596853046846,
          0.6659069430853987,
          1.208233611955561,
          0.6648768359644188,
          0.14401990909143353,
          -0.7585537332403336,
          -0.715912674912931,
          0.48317347587059395,
          0.4261227739064819,
          0.8578192132309392,
          0.9454031574127928,
          0.8202136556206003,
          0.16462532584518894,
          -0.34836345882629227,
          1.3008352972750734,
          0.21619764677545028,
          -1.2918140322813723,
          0.8561172127517008,
          0.476982045616623,
          0.49630163204990324,
          -0.11358707186158805,
          0.5509205469462582,
          0.6611753302474556,
          1.205710938182591,
          -0.12286863074614494,
          -0.9824030702977847,
          -2.038686942912219,
          -0.30313264056569084,
          -1.0789029408446529,
          0.6888652963531215,
          -1.9008717776629165,
          0.49702871407674,
          1.4592971493511078,
          -0.8577286865524142,
          0.5018503446443805,
          0.8184048085736877,
          0.8207731100378964,
          -0.3450197287805501,
          -1.3718508413787927,
          -0.6817421469648711,
          -1.9496514607450646,
          1.4077345162747177,
          0.9671894939932298,
          2.432916900559482,
          0.5829124560064401,
          0.27202283032013286,
          -0.3253092528573107,
          0.6681338703764567,
          -0.13675755487486568,
          0.7862906502028104,
          -0.3029788023624183,
          -0.19404712467975055,
          -1.15118988053484,
          -0.2619025068541823,
          0.4074784027685535,
          0.3127569015218098,
          -1.974693134559096,
          -1.4639873898648683,
          0.31418748969970034,
          -0.880412906407693,
          -0.7920263976860111,
          0.12765290593645784,
          0.8693242157440587,
          0.2759114654539683,
          0.1902158074295034,
          -2.089192244999981,
          -0.07552282040895977,
          0.8346358410335749,
          1.6228543666525568,
          0.15834484267438131,
          -1.0865664707774907,
          0.7679716166171995,
          0.260069011941712,
          1.4010315885114644,
          -0.17609848429316743,
          0.5899128158833997,
          -2.239352895162702,
          -0.821551735549397,
          -0.18180610367984207,
          -1.2210844562518002,
          -0.50544290757226,
          -0.011465648851418207,
          -0.360668622548343,
          -1.465956621281768,
          0.7125700594552813,
          0.42171061676335314,
          0.4375299946508743,
          0.8833637517861938,
          -0.4443648349929479,
          0.3681278126428303,
          -1.755462860972615,
          0.3497736140801918,
          -0.2605765066975223,
          0.17507613681194112,
          0.3558253319778375,
          1.4367552968942876,
          0.148657688110277,
          -1.1752653294316355,
          0.7568356176317438,
          1.540087830321102,
          -1.361060003352326,
          -0.9396735959755149,
          -0.2095811778815671,
          0.7709640749372552,
          -0.8441929439945349,
          -0.12639946064355512,
          -0.5066186202374706,
          0.6541821068396154,
          -1.6534761289513,
          -0.4834712920821928,
          0.018997374356638126,
          -0.4919753685014734,
          1.8960817290761849,
          -0.34137868399588156,
          -0.48747816242266095,
          0.5618216456096562,
          -0.5856855178250928,
          -1.6396528378057582,
          -0.37106024125526293,
          -0.5493491753410117,
          -0.06842945048507515,
          -0.3434751873987259,
          0.6409571707209754,
          0.8580280848422719,
          0.04782359487069689,
          -0.3057728677108668,
          0.4706375774163109,
          -1.873480430930273,
          -1.08527114140646,
          -0.26166394529413983,
          1.1839699431296284,
          0.6308137754532541,
          0.7615611601876768,
          -1.114463678980024,
          -0.9329859087065178,
          0.6609264615460063,
          -0.37985061924332586,
          1.1814155709014398,
          0.9555594387674603,
          -0.45419782748733356,
          0.07327864843420187,
          -0.5625918980468594,
          1.3873541105386158,
          0.950867254753124,
          0.8395772608968022,
          0.8539226264736514,
          1.696963564269321,
          1.4157892859792047,
          -1.2453482926680193,
          -1.0533714115403021,
          -0.24649421114555414,
          0.27940450980219966,
          -0.33488189349730274,
          -0.5398931137097843,
          -0.5109552339897185,
          0.2731984448623588,
          -0.223029297590766,
          1.8272332262861601,
          1.4699170806166388,
          -0.9160456287664038,
          1.5784531503228587,
          -0.004557687029850247,
          -0.6581559381355729,
          -0.50509118349546,
          -0.9380689946875642,
          -0.3494555799790734,
          -0.12423280926694778,
          0.5866632329474223,
          -0.6884846483623784,
          -1.785604455786296,
          -0.06605357008099612,
          0.6389092081701031,
          1.1876691303675384,
          1.4413572959191876,
          0.1344519534430615,
          0.5074531608391535,
          1.5248413433684194,
          1.607963745455251,
          -1.5850971072600615,
          0.8704294148231339,
          -0.5503461526801593,
          -1.5954016647106426,
          -0.656775286281717,
          -0.761157165807166,
          -0.29115782298758297,
          0.3635116867386332,
          -0.0722447390967012,
          1.0737708234699403,
          0.623584779789762,
          -0.7323733390881624,
          0.9381061486949042,
          -0.8611865739208835,
          -0.825143736205916,
          -0.791201000476652,
          -0.02496810517355183,
          1.0610612378488717,
          -0.663863187704721,
          -2.0063494310219094,
          -0.5380314283598703,
          -0.802453314846523,
          1.150545579085238,
          -1.496247256626949,
          -0.0660177537942985,
          0.2233703149430839,
          -1.623331177788802,
          -0.09309178283683657,
          -0.2766410977839137,
          -0.22459015272606797,
          0.042997108729572846,
          1.436773468090575,
          -0.028348870284224403,
          0.5627133165249417,
          -0.5278960003835791,
          0.31993170023515566,
          0.3926629451693591,
          -0.5198299804641023,
          0.011078112531118777,
          -0.8833852011632337,
          0.39958946855168,
          -1.1337857813558476,
          1.0851732399050373,
          0.771332989070985,
          0.31524476551945646,
          1.9924472611024449,
          0.19179166157471908,
          -0.8749397708173055,
          -0.5584570780452125,
          -0.5559555345558862,
          -0.4408726281739752,
          0.22407105126663657,
          -0.45746113843809927,
          -1.4403883298797635,
          -1.7039601535378766,
          -0.8131303708432556,
          -0.6237640856821185,
          -1.4407012628012084,
          -0.22681482952750812,
          -0.8514518080862252,
          -0.42098365096508455,
          0.7685634265231972,
          0.0825028286536237,
          1.719815757996267,
          -0.9868916831145393,
          -0.5437925359686455,
          -1.211974862500773,
          -0.4834873435123206,
          0.16414059042305468,
          -0.22796864726575936,
          -0.7376071032592288,
          -2.039020693654381,
          0.5221804639757759,
          -0.07751919180611778,
          0.723757203908213,
          -0.689657949484296,
          0.41811922083492364,
          -0.2861390531194389,
          -0.25030356887020144,
          0.0982943456633743,
          -1.100521528585441,
          -1.4006456847312765,
          0.9180131757155122,
          0.18316735686715255,
          1.121022142187792,
          0.7311654521769092,
          0.3446647332154241,
          -0.5389631164095127,
          -1.3279885702335505,
          0.2684752416441452,
          0.7036683524768216,
          -2.0621563085313355,
          -0.6846372130134898,
          -1.1024801426366577,
          1.7296183905369078,
          1.4972852394509752,
          0.1847496606601261,
          -1.5389701713898278,
          -1.2944575754581278,
          -0.23571260599506536,
          0.2368306675382693,
          -1.292266678760141,
          -0.28392195587685215,
          0.3314571839632288,
          -0.7320097492185996,
          0.6238901194448823,
          -0.20172442640407007,
          -0.23170863975993924,
          -1.184990825225148,
          -1.161171331649702,
          0.5079615128724203,
          -0.25509768718798304,
          -1.304229415491582,
          -0.37874143305694846,
          1.7112204791814922,
          -0.17215548462688718,
          -0.45721250352850434,
          0.4581682476493569,
          -0.6537791591251162,
          -1.0339612118154111,
          -0.2755165329883285,
          -0.11245650367075213,
          0.009554259594945724,
          1.0390853182177098,
          -0.11584487006732078,
          0.25982821647174226,
          0.5604282243849877,
          -0.855345916097468,
          -0.27096535413526013,
          -1.1306768502288476,
          -1.0815161844878438,
          -0.3496449789637301,
          0.3576312110082406,
          1.8352397540682281,
          0.13337933217770415,
          0.5018717313909358,
          -1.3655158768681124,
          0.00751046225384562,
          1.1115657266892216,
          1.1965784079551078,
          -2.32287115371625,
          -0.3271723283851951,
          1.5761727130667214,
          -2.4277310288363827,
          0.6743680550504663,
          1.1704157194662805,
          0.15630424538413187,
          -0.9046410684136349,
          -0.0704764081083548,
          -0.8414766830727923,
          0.9959343510348275,
          0.07317198283816298,
          0.46330337354288537,
          -1.305592959475639,
          -0.0856908141601401,
          -0.8499328961774818,
          1.142375221437855,
          1.1334474230546792,
          -0.13931520951469953,
          -0.20099901590311764,
          0.9183659993160945,
          0.21853153193875416,
          0.01580274991079376,
          -0.46776791544363744,
          -0.9651093770264025,
          0.3404897274661157,
          0.8988568214875735,
          0.9702256236358927,
          -0.4943245376040999,
          -0.6676608814167354,
          0.17186345938035386,
          -0.15348024615622324,
          -0.433557861491401,
          1.8988887414284636,
          -0.005811468526906651,
          0.8482233553586184,
          -2.126288440226861,
          0.6722415070052892,
          2.0135524579143884,
          0.46046124187045184,
          1.0763698301024833,
          0.4395934559037537,
          -1.8051471125235445,
          0.7576153778830995,
          -0.023047978242303212,
          0.981704615740366,
          1.0331223200029216,
          -1.0637980309420334,
          -0.232829626652971,
          1.5907102137067137,
          0.13106647965572696,
          -0.8239598840576018,
          0.5170569776137334,
          1.583862692418333,
          0.35288923204277756,
          -2.0768342636839123,
          -0.4517820199413373,
          -0.14380810549680748,
          1.0840698819039916,
          0.029137345575483486,
          1.8058798919377095,
          -0.1555859495504273,
          -0.31115432416845934,
          1.3197425291466338,
          0.256810838082057,
          -0.4133328245225655,
          1.6920808837326928,
          -0.3334771773894486,
          2.058943953014962,
          -0.2049680235083319,
          -1.6518574419508887,
          1.0610954239304378,
          -1.6606627115281918,
          1.1611985562320835,
          -0.37999060465212176,
          -0.8173309355789948,
          -0.38090400512966843,
          0.7982121663878763,
          0.4858727929361574,
          0.522925965658112,
          -0.586880736736774,
          -1.0625744339345566,
          1.560357348898809,
          -0.36783208080979796,
          1.2859620256980504,
          1.6077049312997114,
          0.25036361402843704,
          1.0359617366145877,
          0.08634252381717576,
          -1.004787649770133,
          -0.30680043086681896,
          0.6953696068295748,
          1.0447437215879356,
          1.0217124905885424,
          -0.026050681950922704,
          0.9591459555530223,
          -0.6063754707600612,
          0.21354427560578382,
          -0.24094353631266446,
          -1.7925680428335868,
          0.27242406013199194,
          0.704247409549675,
          0.7495581774058119,
          0.3120393332338831,
          0.9606629935584884,
          1.5016273397637685,
          -2.080201664021356,
          -0.043743170947524765,
          0.8928774800935215,
          0.07031961842195276,
          -0.3068595368328533,
          0.6207832789559777,
          1.9225889531682405,
          -0.16210071256325378,
          0.6713602083623347,
          -0.930612648660304,
          0.16726857456895547,
          -2.865299798272731,
          0.6017657741392627,
          0.6473260245518777,
          -1.6262202226360727,
          -3.0559717841415246,
          -0.2859863112321457,
          -0.23413008379202543,
          -0.29555322678490725,
          2.0779525657220725,
          1.6792546698825823,
          -0.17220646345855584,
          0.49733108693105804,
          1.375968644494671,
          -0.1668051989423249,
          0.08344147569060614,
          -0.11430201588459414,
          0.018134427557255136,
          -0.5393150468495986,
          0.5544094604616393,
          0.6421411826344765,
          1.0991455334989022,
          -1.2405577151772889,
          -2.3656183428412536,
          0.2335348828458382,
          3.115295445145649,
          0.05952071854108347,
          -0.5953164605706123,
          -1.0101407750664844,
          0.49176164803858996,
          -0.5648817380879061,
          1.2120782398813288,
          -2.0256240823903426,
          -1.8532815985749802,
          -0.8291596808337978,
          -1.0228841147880954,
          -0.7141434314443338,
          0.7548858892666545,
          -1.2087320326393232,
          0.38777871021831045,
          -1.3410350155431598,
          -1.1522875604249583,
          2.204566980874134,
          0.5180529269129369,
          0.4282306919527672,
          -0.6852318274487352,
          1.1261989491779067,
          0.5511899139934179,
          1.2451648649325688,
          -0.6392507177490021,
          1.7362609735163324,
          -0.6702101771249338,
          -0.5665059423289521,
          0.3888066127033956,
          1.30284243984683,
          -0.1746222888184801,
          -0.24767017916421027,
          1.5406314183396947,
          2.518215234676379,
          -0.6311974526179381,
          1.2236645571248166,
          0.38131404162576127,
          1.9730647607058684,
          -1.5444612740415156,
          0.17244388550352455,
          1.0646656664867196,
          -1.752035926098656,
          1.0418425047572868,
          -0.14110922829479416,
          0.7857681762551698,
          -0.8833767267094743,
          -0.847831799003001,
          -0.8115322545589178,
          0.8191518233152184,
          -1.0592375136481722,
          -0.310599050302089,
          0.35111980972975504,
          1.1743989444187177,
          -0.7214321283778653,
          0.3121743541519701,
          -0.12188437498088502,
          0.3256146681507014,
          1.528726145201383,
          0.30365154685154194,
          1.2752023996122297,
          0.4753334946767808,
          0.2148610530202031,
          -1.432550625818983,
          -0.23599684794999132,
          1.1426970078218681,
          1.2176062110531298,
          -1.1333303608394267,
          -1.8759894702336792,
          0.04204435510717711,
          0.9990308773715069,
          1.016165522858881,
          -0.7889540747562606,
          1.3966341311369779,
          -0.09515753754380268,
          0.1652695463742778,
          -0.5811983206923177,
          0.3496356897957875,
          -1.1480278140041196,
          -0.09454881761916492,
          -2.2660329288688668,
          -0.49065569863924746,
          0.33912059322858656,
          -0.4631755126402267,
          -0.43958162051089067,
          1.423572640215651,
          0.07148545556074151,
          -0.2336076849999161,
          0.23035756599268795,
          1.5819050382203614,
          -0.4390428086501626,
          0.6008054668881261,
          2.36161793474473,
          0.475457732556832,
          -0.263185319705284,
          -0.39979103189209164,
          -0.26735582876373765,
          0.6829751431609373,
          1.9861709036059203,
          0.7557097028573039,
          0.6905408606808348,
          -0.9794286194993808,
          1.8519188528352462,
          0.9212955536948911,
          -0.7080339673844925,
          -0.18269855967799029,
          1.1595828938450254,
          -0.31563296624798814,
          0.045887785324536086,
          -1.4224174648960912,
          0.15477522275739836,
          -2.3599303058472088,
          -0.25527535221637865,
          6.54744576549767e-05,
          0.8443447109564114,
          1.481895410897095,
          0.6573884242723397,
          0.24006845206740088,
          -0.12140654354089842,
          -0.3858133827962162,
          0.9209093646250827,
          -0.010024136154518538,
          -0.24648948487486846,
          -0.5378474327972573,
          -0.9699259651358286,
          -1.2174949227861542,
          -0.7822965759823202,
          -1.216312537609281,
          -0.16708855706985262,
          -0.05079160817907276,
          -2.1265125087329264,
          -0.7490447696864124,
          -0.23363779870815207,
          1.0545915138477826,
          -0.5591616810647895,
          -0.9382527973110707,
          0.09450768660124925,
          -0.4127541863024338,
          0.9819523327307521,
          0.1694143428438173,
          -0.28005444751344744,
          0.6458404260496624,
          -0.2304547961524299,
          1.8008050383136123,
          -0.036543855714394516,
          0.06285698936535124,
          -0.774496034089913,
          -1.7907508482490306,
          1.112317369954519,
          -1.2276473113780761,
          -1.1205453967627106,
          0.7595626761125636,
          -0.9184562154076168,
          -1.0382225545882302,
          0.5814442170320092,
          0.6394448037831092,
          -0.26707926074797206,
          -0.4033201251378237,
          1.4564107640887076,
          -0.952693800535088,
          -1.1633804109807573,
          1.2989018254294127,
          0.031098074962690885,
          0.6880531496023554,
          -1.3535034852380492,
          -0.5266233910150875,
          0.7068694843071147,
          -0.5146088275060591,
          1.6454472219981777,
          0.12603934425505617,
          -0.09128600768036388,
          1.1481273475405538,
          2.4780059662983707,
          -0.12255738051621419,
          1.6114783954753729,
          -0.6588561405554467,
          -1.1419176485069291,
          -1.364403242133949,
          0.24830692461218468,
          -1.7065270756389739,
          -1.3978373862889222,
          -1.7612507804544484,
          0.46377382662883826,
          -0.4372211123312866,
          1.1817010957869114,
          0.11988585580862358,
          0.17601929166406602,
          -0.7724957009621676,
          0.8423702199098515,
          1.463763282968347,
          0.7019621331611918,
          -1.7462586680130434,
          -0.8543681463385192,
          -0.4005855592640348,
          -1.9908565526777187,
          0.49717099115146973,
          -0.38680867152591647,
          0.12261875031187909,
          0.665508504107665,
          -0.1332901400661292,
          0.548658355429094,
          0.358423158311529,
          -2.6659575197354184,
          1.2480065906037572,
          -1.1624926448947464,
          1.3189991492352315,
          -0.25193898935857206,
          0.6016256552153609,
          1.7558451408098743,
          -0.4082797331986549,
          -0.3156001973914356,
          0.19404453701627994,
          1.5265553328802708,
          1.5704652603140279,
          -1.049247516346228,
          -0.7153181301186478,
          0.13823559348446499,
          2.4263446755308555,
          -0.6031879709794621,
          0.5161542431098799,
          0.07543304427567796,
          -0.5664725464184148,
          0.8406230934353527,
          0.09089387801627959,
          -0.8068434301565872,
          0.4990919191497655,
          0.5562359332875169,
          -0.35692957697218014,
          -0.26101110451194065,
          -0.5554273758003089,
          -0.48453504504081657,
          -0.31962657300268627,
          -2.047450078240423,
          -0.37517941981202557,
          0.4022794955596346,
          -0.9429431775495527,
          3.2775015824971843,
          0.9667547525380848,
          1.4228314491898784,
          1.4548882598358064,
          0.4383120716637575,
          -1.1478891168628385,
          -1.5828950110559523,
          -0.16585192323530756,
          -0.025699780598481006,
          -0.057412422351675964,
          -0.534849426318694,
          0.643565439476995,
          -0.927738483670486,
          1.0123206729397392,
          -0.08061703222099237,
          0.47193990445295003,
          -0.8231523587639145,
          -0.6845043866899543,
          -0.9297035211564028,
          2.50762920395524,
          2.3478732855803712,
          -1.5988440577287037,
          1.1967101344115183,
          0.0061275054026129275,
          0.8335549704517404,
          -1.4759756715628973,
          -1.3568970358043424,
          0.7526278054411648,
          0.41816321033805315,
          2.004074875927544,
          1.122550468436037,
          -1.1450851059341225,
          0.17399422696030695,
          -0.5902724100960094,
          -0.24696680649248232,
          0.9078618214936667,
          -1.5667265084181805,
          -0.2831760173815424,
          -0.03423935745848185,
          0.19128743098447,
          -0.6805573032316239,
          1.3093745754179358,
          1.2507302048690399,
          0.2962977012588875,
          2.8025681116758903,
          0.4437243368060804,
          -1.0032364501495323,
          0.4999653202424306,
          0.1083125343905788,
          -0.1595705882047385,
          -1.2043338161330384,
          0.9462296398384179,
          0.052041216600978886,
          -0.3112737994567501,
          0.8872347893595407,
          0.0038534748827080663,
          -0.0809582374351875,
          0.7770510993439814,
          -0.640301034318468,
          -0.38954089066882014,
          -0.9865782346779576,
          -1.2971512238396934,
          1.1558565089803454,
          -0.18300840402863114,
          -0.7873182217908385,
          -1.124991127210838,
          -0.27066333846128104,
          1.2940464306344674,
          -1.6528114887887277,
          1.4009997134132273,
          0.26761404690890866,
          1.3997791308149807,
          0.12513771697107182,
          -0.7755934759994043,
          0.7677611058466474,
          -1.9284857969428364,
          -0.8932977478451217,
          1.6723618932334343,
          -1.1984214464672778,
          0.5040485638873579,
          -1.6547728102517307,
          -1.6787745274661625,
          0.18419377727310685,
          1.3171252068483532,
          1.0121885329377485,
          -0.5223189789935831,
          -0.04772974031757111,
          -0.43027038517613897,
          -1.900941827627324,
          -0.5995006589791306,
          1.7319604915962523,
          -0.17549018055157048,
          -1.2844405374467442,
          0.5197041387153387,
          0.7333987021418752,
          0.9676785398509363,
          0.1313520476481065,
          -0.10553768468876604,
          -0.39364915743734974,
          -0.3468800493965123,
          -0.30091837288242845,
          1.1971317121271225,
          -1.3859293525562333,
          -0.9491090062916872,
          0.302407072613358,
          -1.8224891666060041,
          -0.40740019017110846,
          0.27946664130739124,
          -1.7674975862342093,
          0.42550026112870365,
          0.1960602050122669,
          -0.09922422690252405,
          -1.4566315014400053,
          0.4528440770661313,
          -0.4857838457356428,
          0.6704584953492054,
          -1.2626248947830494,
          -1.9984699837540933,
          0.5624280648480452,
          -1.0213877071719082,
          0.21871414527221145,
          -0.12787890649380068,
          -0.18990823965123757,
          1.3450142589814098,
          -1.441055960495335,
          1.6794985655140724,
          1.469099432649768,
          -0.902655948615793,
          -1.3685569425158142,
          -1.619413097490648,
          0.16622708559771612,
          -0.09165130756472421,
          -0.395429040445748,
          0.15528130556213068,
          0.7557132876794519,
          1.9043560716162056,
          1.2122096325191287,
          0.7313112451686247,
          -0.719542277944991,
          -0.2130066262788409,
          0.857301677793532,
          -2.3735409262189777,
          1.5164511931314486,
          0.16152837095315828,
          0.6824816824674791,
          -1.1278017807051408,
          0.03361731638642459,
          0.23939005850699552,
          0.997239683693917,
          -1.692738456889502,
          -0.6280012635653573,
          -1.173394907593724,
          1.0247473891328054,
          0.4769744766373865,
          -0.665934661883777,
          0.4003732626436851,
          0.770365634902011,
          -0.14577972608626433,
          0.13283769624312092,
          1.1703154548533954,
          0.7942251872502722,
          1.6607142014039014,
          -1.180424885037241,
          -0.5670554353555203,
          -1.3152154209355649,
          0.6987651216285579,
          -0.3962230233044286,
          1.2626171380122744,
          -0.3951902721504837,
          1.4847687029568382,
          -0.9893663055357624,
          0.26231473939650024,
          -1.6130282140456231,
          -0.7721028593957558,
          -0.8372810238034037,
          0.5803503050063878,
          -0.08333416464825019,
          -0.08433644341037104,
          -1.5165758808729273,
          -0.9840484222923244,
          0.634862097639418,
          2.3747109982298102,
          -0.3411871032458889,
          1.243946452073524,
          -0.5002110425335933,
          0.3842431063000466,
          -1.6857870365874728,
          -1.0614419811820965,
          -0.26147566677390444,
          -0.7259145240101624,
          0.6830446656152165,
          0.9852049657944614,
          -0.44040029963668753,
          0.2879919373227257,
          -0.3143311727696382,
          -1.2347027350005781,
          -0.6050153349236745,
          0.4168591436820236,
          -1.413662638068941,
          -1.715838203074061,
          -0.3635386008728882,
          -0.1773921639033317,
          0.12846573975557213,
          0.8157398803011137,
          0.2351011615806758,
          0.8150336604530601,
          -1.4406976389149129,
          -0.5559401963653968,
          -0.8787878865392051,
          -1.1016102656963025,
          0.42139661565805697,
          1.2879293275300931,
          -3.2733748497816966,
          0.8549896705678866,
          0.6739295665917339,
          0.28753730478436496,
          -1.1209077056072192,
          0.8031869854404206,
          -0.7663298240355866,
          -1.1995593777617122,
          0.030112389536103273,
          1.0482451590549289,
          0.9970855079729746,
          1.079607589798571,
          0.2375424320949501,
          0.765751616284928,
          -1.8497277171497244,
          1.0739744934504694,
          1.7138355817228288,
          -1.1540582992386348,
          0.20359698037209187,
          -1.6578622764312614,
          -1.9637522525493163,
          0.39861522023363144,
          -0.7280024182030376,
          0.592929654214462,
          0.04157688099533452,
          -0.05813613769938016,
          -2.424821856782292,
          0.022981480385457217,
          0.2626219353167249,
          -0.5603470602860295,
          0.8976176355779312,
          -0.14817251688746308,
          -0.1336082895024892,
          -0.7258988407997046,
          1.3440452553196671,
          -0.3212413446768711,
          -1.475787063437082,
          0.17836372273879092,
          -0.739087192524047,
          1.7411732305546794,
          0.4749929196463061,
          -0.5381327619624314,
          0.4464092468017636,
          -0.0436088360310707,
          0.6116200425684934,
          -0.6900435406797868,
          -0.9401290521739617,
          -0.3559173049570025,
          -0.42436919700377834,
          1.414267527252715,
          1.2111092336743678,
          1.5907281751376219,
          -0.2655787966649513,
          -0.6682838107465173,
          -1.0447877757393893,
          -1.397076728956089,
          0.5339941142037815,
          -0.6086866819921404,
          -0.8045459411542498,
          -0.925234062427824,
          1.0328955272065359,
          -0.21555730839707307,
          1.7753385342252521,
          0.10180393391500804,
          -1.7172480518912485,
          0.6876328173116245,
          -1.537918477538546,
          1.2589946884659593,
          -1.1303844763657938,
          0.5462379746420122,
          0.6275504268106934,
          -0.1240741333412513,
          0.4812902276763517,
          -0.6846342394052813,
          -1.3832452483331876,
          0.07920232448819954,
          0.6721207315446818,
          -0.9359847870044112,
          -2.124468511600525,
          1.2099753830694622,
          -1.2483629283690478,
          1.2209633073121977,
          0.0881666542960002,
          -2.0269108521348196,
          -0.00043089365261395063,
          1.6994166463954923,
          -0.26263781752412824,
          0.4692077257028727,
          1.814405096607133,
          -0.892478988303889,
          0.5626719438605589,
          0.6779047547159293,
          -1.8319366356255664,
          -0.6475747955975225,
          -0.25946148357755355,
          -0.06311301468422734,
          -1.1565232005600599,
          0.12259288575034519,
          1.0431741432701,
          -1.6719291755942491,
          0.5677182222709772,
          1.5675818926273766,
          -1.2318028521972317,
          1.3607302639611862,
          -1.8792612008674103,
          0.9453586604162599,
          1.6271044583307483,
          0.07589108446097563,
          0.6450162704757552,
          0.1907320382685452,
          0.8930419402369784,
          0.4227957158798933,
          0.2926204338304539,
          -0.11939287135711409,
          0.5634614290121764,
          -1.750585114848099,
          1.9235815671892982,
          1.160325253210593,
          -0.6769307735805048,
          -1.246308937849135
         ]
        },
        {
         "marker": {
          "color": "white",
          "opacity": 0.3,
          "size": 3
         },
         "mode": "markers",
         "type": "scatter",
         "x": [
          0.29128502424129926,
          -0.25080132675350597,
          -2.009759707221412,
          1.1972799265208456,
          -2.82412080629346,
          -2.0258532868939563,
          -0.8152742279968951,
          -0.4558579834651063,
          0.5828094975658598,
          1.460855103831799,
          -0.27627150358789776,
          0.1234948110402589,
          -0.1251333058194446,
          0.382239873213108,
          1.386895295371723,
          0.7001306996927409,
          0.38365402494835293,
          -1.2129955249910978,
          0.10896209054222238,
          2.3682863274011465,
          -0.3066708708425803,
          1.1691840444958455,
          0.19536432238129744,
          -1.0333746412778952,
          1.7605435969189798,
          -2.134172334213891,
          -0.999866494581173,
          1.1946331509899868,
          2.269556309984417,
          0.8007316459439354,
          1.4413350888997787,
          1.0873557517464798,
          0.198067345815789,
          0.225476719692552,
          0.9875367693480904,
          0.5439366165600467,
          0.4469739745139196,
          0.5981980100674829,
          0.4014963894059587,
          0.07566306942337851,
          0.5212013694359815,
          -0.6062215776627664,
          -0.7205104546589483,
          -0.09551973245196416,
          0.7350170109021493,
          -0.40209712061293507,
          1.1046846609256558,
          1.0179350726780507,
          -1.4704446025485605,
          -0.9802988369513306,
          1.711636539346582,
          0.22027581216142386,
          0.410659984641522,
          0.7380055455173088,
          1.4378478247502582,
          -1.5099005788944424,
          0.37660730327068576,
          -0.7914550319773686,
          -0.8216338863404375,
          -0.5106020507153407,
          -0.6954640406481999,
          1.3603021999528897,
          -0.49070148050291185,
          -0.9006991179010649,
          -1.5796673969832777,
          -0.3666587342618726,
          0.300950187889745,
          -0.017030843885920684,
          -0.7363565379359336,
          0.5942650766505803,
          0.6296067117921433,
          0.2578757426813785,
          -0.14339741604311465,
          0.48121004752451146,
          -0.8178730248546705,
          -0.1179949098348546,
          -1.018020457519046,
          -1.585845170809232,
          -0.6195491875114526,
          1.553784914269431,
          -0.4250998702767678,
          0.39271784786169955,
          -0.11175234851990362,
          -0.5965742116001823,
          2.498703395686308,
          -1.1829142065110412,
          -1.2362202861484668,
          1.1581227973166057,
          1.4896148910139795,
          -0.2779049235842812,
          -1.3315420354985403,
          -0.24587316384784208,
          0.6939918641959033,
          1.7041985370654726,
          -1.753973922226603,
          0.42200637561370663,
          0.7271749167693676,
          -0.995613901997483,
          -0.5758472581859887,
          -1.7442883072318809,
          0.24140808557480645,
          -0.3562175089562397,
          0.21624235309074735,
          0.293457228884687,
          -1.3726893504240998,
          -0.26912069683587153,
          1.3028043148656652,
          1.091615542008747,
          0.6386293948089468,
          -0.3991988532813655,
          -0.0030924968643053835,
          1.458279800164927,
          -0.33198936433056214,
          0.18639591308669015,
          0.03903384127797648,
          -0.37342588695595713,
          1.7120791306872947,
          0.28246831306343906,
          1.8453850029774868,
          0.8001672155381531,
          -0.9188263000180057,
          1.7801721209120953,
          -0.15843988704160408,
          0.8035078484987641,
          1.2543999415529294,
          1.6047463961637576,
          0.435576311370457,
          0.5011359051895745,
          0.08661813119806681,
          2.0438317190403135,
          0.2724197765870231,
          -0.9301478384640028,
          0.9117199354333658,
          1.5679571624784685,
          0.3816644170808655,
          0.9020800611119507,
          -0.4990335473552234,
          -0.41042287606611366,
          -0.33799226429616297,
          -0.5953369759729499,
          1.9296518681566723,
          -0.3504741838456891,
          1.108762684498157,
          0.20343284490509694,
          -0.925580377643661,
          -2.117341077990366,
          -2.0157140301491645,
          -0.38198966390610317,
          -1.82348858376927,
          0.6982136144867351,
          -0.8050889563482674,
          0.6526850815233549,
          0.26891148115719626,
          -0.1806068697505988,
          0.10050859273626081,
          0.1389660298285937,
          0.3417846272245568,
          0.448283491629398,
          -0.14679138372316022,
          2.4578356795918572,
          0.8854124476122511,
          -0.04708700099335201,
          -0.6871078917823255,
          -0.8341887599127749,
          0.5119577716942458,
          -0.8782101853071085,
          -0.9062281907214839,
          0.7496096103229208,
          -0.13168696743643804,
          2.0159284621464444,
          -0.3363674998405159,
          1.079935562047717,
          -0.9880735931260184,
          1.0070823742522108,
          0.6710818342794833,
          -1.3099320195865767,
          0.7170574899301578,
          -0.43027238504496446,
          -1.6892987427712185,
          0.09178542083344216,
          1.5048384046571837,
          1.4715794726074072,
          0.19542782342505477,
          -0.7202038795959419,
          1.2473348817394494,
          -1.949084609006127,
          -0.4479539855352418,
          1.6877922743963776,
          -0.27277943129408433,
          1.1004985116895234,
          1.5005090416998494,
          0.22279637245885353,
          0.8224726540268474,
          -0.7080579976039426,
          -0.19531096122547253,
          0.21079870539802012,
          -0.6714846993089529,
          0.16629004891374707,
          0.6685746754313286,
          1.8020569541929992,
          -2.0701465204249225,
          0.3235437457949486,
          -1.177008074097931,
          1.0684385285005336,
          -1.207962948464097,
          0.21063433457809966,
          0.4586825456364671,
          0.30296884046586614,
          -1.437339111744498,
          -0.8836196016342285,
          -0.7132659651630824,
          -0.49450552919413393,
          1.1307999182817345,
          0.25626737115941756,
          -0.4713289434810423,
          0.27695458069114165,
          1.532446427231692,
          -0.15251732979173035,
          -0.5882279847631985,
          0.43469243508514904,
          1.486942180902064,
          -0.543522948039829,
          -0.5544250374921539,
          -1.0534178529653644,
          -1.0861482692387732,
          0.23119247740814597,
          -0.06745346883211935,
          -1.562666073406084,
          0.0424374973554682,
          -0.9145396271895292,
          -0.2713708526529369,
          1.3445303883366286,
          -1.7174896338633654,
          -1.3455311161688115,
          -0.7994200767587252,
          -0.6396735933818649,
          -0.5757773549127659,
          0.5354482179303067,
          -0.9149418312501154,
          -0.12996833614440595,
          1.9779193773666286,
          0.7709538765580207,
          -0.20401491688048287,
          0.5803141835079624,
          0.2938807786983019,
          0.22278317887613328,
          -0.6110786613298966,
          -0.10650809803006808,
          -0.8238177801535453,
          0.16800360840377215,
          0.8492966501415973,
          0.19598923079164385,
          -1.6892765031663026,
          -0.8550326526932213,
          -1.1371508638696362,
          -1.439595660536824,
          -1.1119270337452485,
          -0.398783371154579,
          -1.6359933144457548,
          0.8555032997307337,
          0.06086136813524546,
          0.5516948202599147,
          1.1686213637455796,
          -0.36011361323408697,
          1.5033205683542235,
          -1.4265205354039816,
          0.05344794589902263,
          1.3815727402217086,
          -1.3501115441319735,
          1.8161928632140731,
          0.2633018109331582,
          0.4991027127022005,
          -1.8983061327295936,
          2.5418920079575904,
          -0.15698841405957747,
          0.747301992489229,
          1.1987407628830027,
          1.3287853730741277,
          -0.7633161842441191,
          -1.0736279394160666,
          -0.20950195584981313,
          -0.925960815354629,
          0.555330882661583,
          1.180246318340103,
          0.07117207331416571,
          0.193063056001221,
          -0.7417765868021756,
          -2.150089441846262,
          0.5975672125064256,
          0.8660330649071675,
          -0.314364151252734,
          -0.37198894637043134,
          0.4285147958602096,
          1.6703963783934077,
          0.7841341523901943,
          -0.6219550811354004,
          0.48275661218901034,
          -1.1158819192203389,
          0.341517382606394,
          0.7143737825029879,
          -1.649294556383274,
          1.628102635833886,
          -0.26207544501751484,
          -0.38976840802401813,
          1.5200449083205378,
          -2.6978353655997194,
          0.8484153019564812,
          0.22382157108282055,
          1.1494858002598065,
          0.4669155570370811,
          1.4866128919533859,
          -0.2882957899176211,
          -0.26380559526598,
          -1.1587267308318452,
          0.19756474045005304,
          1.2383716187197735,
          -1.3304915605211602,
          0.6857842282200952,
          -1.2625331458901106,
          -0.7366131279790296,
          -1.687557307727956,
          0.053297268141158746,
          1.0028128787871182,
          -0.3964883006641309,
          -1.1123644406523374,
          0.7388810579619299,
          2.3414648011748853,
          -0.16872248178248783,
          -1.0272577195063048,
          -0.7861702869600493,
          1.8505832531691033,
          1.8458930103470774,
          0.04828279725964385,
          -0.4562136097752252,
          -0.4281944648306031,
          1.0542336969708719,
          -1.083777710619017,
          -0.7075055173323934,
          -1.7620840734320466,
          -0.27503230393213435,
          0.5430192790287858,
          -0.6724433585874151,
          -1.7215324796107925,
          -1.022780201349533,
          0.37075103570505996,
          -0.11003769170838723,
          0.2505100709603096,
          0.06921450629489174,
          -1.0566709886045582,
          0.04461823258649018,
          0.6224385230783813,
          -0.701111731845534,
          -0.006508597285180954,
          -1.494932185144606,
          -0.9806509950580313,
          0.6852711808911818,
          -0.13703884363757057,
          -0.6631819333191203,
          1.7817590047614,
          -1.5565388060466994,
          1.0038158161284916,
          2.1836919679381346,
          -1.7087164408850424,
          -0.6026416548551746,
          -0.5353558182490492,
          1.0726307827337243,
          -0.4542039275414369,
          1.203956086145369,
          0.3125906131529719,
          1.449922401551676,
          -0.9143770714517141,
          1.080399756883278,
          0.20459577207922405,
          1.4800468840723633,
          -0.19084939530657033,
          -0.8786982384121884,
          -0.0012347119886150515,
          0.26202786752030655,
          1.9093905596641823,
          -1.3400165813245901,
          0.21319349461148385,
          -0.17760840036610095,
          -0.8629162304541537,
          0.36127241735299237,
          1.0310389161298341,
          0.01577144206199494,
          -0.8836653087441785,
          -1.9198423591788214,
          0.3088171640788311,
          -0.633460898184076,
          -0.2825578065286837,
          0.28863086888291123,
          0.975938317459121,
          2.5029851037897806,
          1.520836856825907,
          1.5617135845229426,
          2.1439208098652647,
          -0.14509475753668336,
          0.7328423405027623,
          -1.1983854580230766,
          -0.7387684113260452,
          -0.018215934219980717,
          1.656215185038774,
          -0.4197355328703325,
          -1.4324729713997124,
          1.0967503449399079,
          -0.5831387609602205,
          0.37390709821441537,
          -0.19166931424778644,
          1.8000950585425721,
          0.2402044449663169,
          -1.3930446850324558,
          0.3775550863425489,
          -0.08369167094441282,
          -1.4028791531054745,
          0.38242887661624897,
          2.552904872616033,
          1.7131978431943153,
          -2.1157469073938433,
          -0.8752789435739919,
          1.4727001974019562,
          -0.4774844788138774,
          1.2999553235413561,
          0.1864676772139197,
          0.016534770452473313,
          -0.7723509068244082,
          -1.4158142791168313,
          -2.2998835458618037,
          -0.045095155778484636,
          0.3711618668299921,
          -0.3170856813395019,
          -1.2952580569156211,
          -0.8929088283159655,
          0.7572014237839891,
          1.6247053029164675,
          -2.237416451834195,
          -0.016755335903191098,
          -0.3366284819546805,
          1.5627068012764234,
          -0.7442237495590871,
          0.14733323925157277,
          -1.2922464965877498,
          0.9676230584400171,
          -0.8213787831350278,
          -1.0062070805495504,
          0.8183304473910842,
          1.1862129730027255,
          1.1013298696953915,
          1.4452588020581927,
          -0.6249682794974405,
          1.3451954053942736,
          0.36734415574272183,
          0.2948758586963869,
          -1.9801888933112686,
          -0.06938664924449549,
          -0.48717102090109493,
          1.5056264378531048,
          -0.4373495242579977,
          -0.1434810644472768,
          -1.5265530918128654,
          0.21658299645184959,
          0.47674049128899043,
          1.8842851734398722,
          -0.08438363491074719,
          -0.18692959983926138,
          0.3754584037544976,
          0.5949196860474059,
          0.11192194906854243,
          -1.1004466634226977,
          -0.21423744737704245,
          -1.7847734073307697,
          0.6300030522247584,
          0.022258478461359883,
          -0.5720470637846051,
          -0.7327458039516794,
          0.36339159486431727,
          0.659751767376951,
          1.992687927557898,
          0.7255699975315698,
          -0.09732454097820643,
          -1.0500585057977176,
          -0.6315963460967691,
          0.07505591634736222,
          -1.1155031733074503,
          0.28929290965998855,
          0.9557403358874207,
          0.4811064089606703,
          -0.33313280109988747,
          0.1999631736448486,
          0.7134820983034369,
          -0.7118388378969233,
          1.1243879076668741,
          -0.9437125133181334,
          0.1713475843342032,
          -1.755287576220954,
          -0.830085422345586,
          -0.02872905764071702,
          -1.0923616438779948,
          0.08107717893486004,
          -0.26348666419416666,
          0.20508285812690394,
          -0.9910250557343421,
          0.6784370801096652,
          0.625382516895058,
          1.3655200479227796,
          1.3752665884574904,
          0.5502133165983105,
          1.6857252808523817,
          -0.07556080599945263,
          -0.7466364722109404,
          0.706197075172003,
          1.3790599722940888,
          -1.1548464354817833,
          0.3917069597763411,
          -1.1786165998650129,
          1.4241911961886844,
          0.6530102734842076,
          0.6434525305172311,
          0.016815473390954728,
          -0.7995238449199406,
          0.6879404382636538,
          0.07782379131569751,
          -1.6561416031952234,
          0.32334806809042194,
          0.4143623185061672,
          -0.7675493707104601,
          0.36201862315587,
          0.2829026294996569,
          0.37205965229783466,
          -2.0063822235798474,
          -1.0233519380907192,
          -0.38169312328633404,
          2.1791359203959573,
          0.39791501196764706,
          1.5091236461082724,
          -0.004912005333143615,
          -1.0016220036293306,
          -1.62664929100681,
          0.5270894501422579,
          0.5271261413461195,
          0.19052807541134298,
          0.2763205810189537,
          -0.04427480192986647,
          0.5213535860862544,
          -1.4738817860199822,
          1.491174395679897,
          -0.031062647675715475,
          -0.43518969757005305,
          -0.8670832227755342,
          0.07743011630251052,
          1.918077797880388,
          2.0950541283599198,
          0.7634886657840072,
          0.4309271659292157,
          0.0822045301170127,
          0.2695928679334992,
          0.8392231360635072,
          -0.5278834808762158,
          1.0281240583788909,
          0.37828034526523746,
          -0.5576541030025883,
          -0.5474151655668342,
          -1.383050022384505,
          1.0449639342580397,
          0.634720633264886,
          0.3869223407122954,
          -1.0047563741880248,
          -0.9031869623580248,
          0.04949210340601367,
          0.8961848121477279,
          -0.40906966849548176,
          -0.1660877705174124,
          2.2129913189092174,
          -0.8023780909898229,
          0.06457957864800126,
          1.9443695806380505,
          -1.1782465811014027,
          -0.858950781615117,
          -0.6033106082344293,
          0.04400470936275619,
          1.3998011589388017,
          0.5019805193123813,
          -0.18712670740258724,
          0.7070507940127571,
          1.225821427925222,
          0.33514382646712704,
          -1.2376939002384275,
          1.3388474087964648,
          0.2693077314955658,
          1.210228841712316,
          1.1245396926512177,
          -0.11922456293146587,
          0.20929184076497187,
          0.8154693122358653,
          -1.1464185466532593,
          0.8847919046470087,
          -0.3617410888889167,
          1.360261026502166,
          1.1039928754335386,
          0.31519386692131135,
          -1.425707710362733,
          -0.3838439491120995,
          -0.27881414132605553,
          1.7115573399028767,
          -0.8936377284487501,
          -0.919044346697009,
          0.39818248593120165,
          0.03631825942035834,
          0.9127445393843249,
          0.4916952966529612,
          1.270869272077203,
          -1.0240073475735603,
          -0.6011060727138291,
          -0.7035505176105151,
          2.0371353991910515,
          -1.6434863022711954,
          -0.31887827875947444,
          1.2210223194873675,
          0.26160642757520125,
          0.47050244498199645,
          -2.238664436828176,
          -1.2305919283823943,
          -1.3476143784286863,
          1.2830406077283016,
          -0.5583434614534246,
          0.17005200912574653,
          0.4013526486546831,
          -0.6821533764179459,
          0.8561199240573556,
          0.30075881409817196,
          -0.7549483782290154,
          0.036831324306638685,
          -0.8315029117380848,
          0.06351499771682823,
          0.4487053955165985,
          0.17327903779811007,
          -1.7395002587362343,
          0.1224017276080642,
          -0.6200856749845783,
          -0.5183610454150803,
          -0.8247574985521603,
          -0.49695645584380244,
          1.013599112868057,
          -1.313524488281159,
          -1.240813472982541,
          -3.0635501283101645,
          0.5199610775219373,
          0.7755594977187602,
          0.30686612544781666,
          0.6426997201207083,
          1.3289175331463432,
          -0.4637912568492178,
          -1.0139409276998672,
          -0.0005196940990272015,
          -0.3494132567800611,
          -1.3010208867257855,
          0.7623241118958868,
          1.2146477813721352,
          -0.5371098037280323,
          -0.5626872099143436,
          0.20815139337475957,
          0.3589629333013019,
          -0.37854091437465176,
          -1.421734641682921,
          0.10453429174989491,
          -2.244665841212561,
          1.2462787531439654,
          0.16791301719588864,
          0.12003683543022739,
          1.183215002308031,
          0.6519221985787185,
          -0.5344685038006993,
          0.4609240265110553,
          -1.4489475816219932,
          -0.348240346965526,
          1.9469520944981848,
          0.3792540549455692,
          -1.0451212644911239,
          -0.37019143741662563,
          -0.3697400707510478,
          -0.08118461314236905,
          1.1982358953624033,
          0.4671335225580482,
          0.33133588403523656,
          0.9803364074504537,
          1.3096824311975488,
          0.2049983560727199,
          -0.9148898554844901,
          0.45779044523994206,
          -1.0780878200406996,
          0.1992998018059355,
          -1.4540857259702353,
          2.485034727712837,
          1.9941511962949379,
          -0.054178306470394684,
          0.011188291326310825,
          -1.7874887679680511,
          -0.15298394635645188,
          -2.402560060451137,
          -0.8952925324011313,
          0.29232526036021034,
          -0.8430053715622068,
          -1.588341419416791,
          -1.9150690497640692,
          -0.3754549247790395,
          0.7289605084872024,
          0.4298269745622357,
          0.24901204936596605,
          0.4247553541453559,
          0.8960717178284764,
          0.6056254240710603,
          1.2150930293013653,
          -0.32499631564237613,
          -0.3780426598344224,
          1.3204068308909809,
          -0.6778780050080132,
          0.15723109853155112,
          -0.9286613429542396,
          1.3196940401578903,
          -0.19164703202960395,
          -0.07756710293450027,
          -1.284903530917483,
          0.9939325402147741,
          0.7375248349473816,
          0.950563169971308,
          -1.40121388445322,
          -0.5023728385599175,
          1.1137222628695844,
          -0.7694249271351222,
          0.2250417205323085,
          -0.32977568272309493,
          -0.4611178887960187,
          -0.7249678146746549,
          -1.596540918990746,
          1.7265338140160464,
          2.210313670393393,
          -0.7254290429759382,
          0.7502413000688879,
          0.5180787903370592,
          -1.9801107006568004,
          1.5661833567062113,
          -0.5693960836381479,
          0.7598236255129565,
          -0.46051365677118183,
          0.6687391307222029,
          0.5086593791927599,
          0.07597450422428542,
          -0.6912064024183353,
          1.8466354089515706,
          -0.732401556853836,
          0.8843725834932805,
          -0.09677443671071716,
          0.7634864435288511,
          0.08846170986856602,
          0.24930021061013646,
          0.1626989740294246,
          0.3847225303385913,
          0.9985622338455666,
          0.7412666254047251,
          0.04562384926007659,
          0.40254986902016565,
          -1.5898642146126944,
          -0.9811283194673521,
          0.9604812535321525,
          1.3740898757120812,
          -0.38991759536118403,
          -0.9797252741625032,
          1.4531767214700197,
          -1.2394032028631063,
          -0.26500699391888954,
          0.6362829431666178,
          1.0230034459145885,
          -0.08814811929727016,
          -0.17661202603345222,
          -0.04934545382562089,
          -0.2702962362513402,
          -0.03861787613743842,
          -0.8795849283113223,
          -0.2813542242429309,
          0.6947874430731684,
          -0.3996529705877006,
          0.26269678498976695,
          0.9645404420110951,
          0.7111882227998945,
          1.3916973437372844,
          1.8359312602275653,
          1.414824418817434,
          -0.9272819899855903,
          1.5304191677312664,
          0.560735568591204,
          0.6406875119627119,
          -0.6304380502983133,
          1.6403690474551302,
          -0.45871342290980865,
          1.0411787012704998,
          0.5405584208623444,
          -1.666781611023237,
          0.3808756563278921,
          -0.28665657382979265,
          -0.5291819633681158,
          0.10390245904281814,
          -0.8182919027239676,
          0.7852611398034256,
          1.2214154995556805,
          1.2345063818099928,
          -0.8894042828748725,
          1.092644183861708,
          -0.549231850599214,
          0.5161122190518139,
          -0.8397003637603707,
          0.18096936067613828,
          2.1103231497674235,
          -0.48754215339768686,
          -1.0928840647620708,
          0.19216703149426956,
          -1.1169848130504025,
          -0.0681644012769032,
          0.29776848186182714,
          -0.09367745633078683,
          -1.1742252541607148,
          1.5147876834838514,
          -0.13076057441862265,
          2.376801901738662,
          -0.5123614612602763,
          0.4836455146182961,
          2.021291729861442,
          0.26609084361131785,
          0.4001318985963468,
          -1.2715471789131514,
          1.5846848787451007,
          -0.04055967635543952,
          -0.5567019298503931,
          -0.05223306720247382,
          1.8249290353699008,
          0.6542937301643241,
          1.3556167259111995,
          1.6105735845614264,
          -1.3678427216956992,
          -0.14679278733756676,
          0.93325349591294,
          2.39161385202778,
          1.1088468971318788,
          -1.538113972442731,
          -0.16895962073563991,
          -0.5348846457822158,
          -1.153750215579103,
          0.0055490904398428,
          0.875958067723889,
          0.5319082999495488,
          0.08713291621837423,
          -0.061638483752152674,
          -0.5835004437572486,
          0.5305493789262841,
          -0.21716982953945926,
          -0.76321681541348,
          -1.7883078967881225,
          0.953166076589848,
          0.4232944242225948,
          0.335598724105143,
          0.8093373631045716,
          -0.4568248735121239,
          0.7339811519696838,
          -0.14596239138974995,
          0.21487026324128214,
          1.6981018293958912,
          -2.168068488723732,
          -0.6512985071541404,
          -1.6929714700257672,
          -1.0631561534679985,
          -0.5613963479328685,
          0.5406701398199687,
          0.16781886849015737,
          -0.7107769961310046,
          2.4637034311051065,
          -0.028225231101661554,
          -1.3844853383682154,
          -1.984362280585505,
          -2.483116478387071,
          -0.3735882470687267,
          1.0318607996554177,
          0.2830045223755928,
          0.16604542844175352,
          0.5084547872772309,
          0.8776167685795075,
          -0.8483941398932703,
          1.1631534518489741,
          1.1091880485017278,
          -0.6592271077522882,
          1.0959202714301888,
          -0.10221959123958715,
          0.08748564638954577,
          0.5386395627235511,
          -0.6327853066575733,
          -1.4620214034849517,
          1.2296727964611955,
          -0.6746496381801939,
          -0.04977176886507465,
          1.164938941258392,
          0.22958882315445084,
          0.13266602930892782,
          -1.7723013796972475,
          0.9363146800573894,
          -0.2534336709231823,
          0.8426016512677598,
          1.3045367810250892,
          0.4544315375936699,
          0.9535585825207864,
          -0.4833308976356619,
          0.053766974503593315,
          0.5741922423723926,
          0.5021427335972182,
          1.9632215070349432,
          -0.5095229875677385,
          1.0696246011852961,
          -0.8172356628932517,
          -2.5576645635683346,
          -0.995291019069326,
          0.42360163148787405,
          -0.08743999312669821,
          -0.8443728110753781,
          1.0072815870599519,
          -0.08164607117824321,
          0.7454242241117622,
          0.29579102976137894,
          -0.6421886705569584,
          -0.25437095109832125,
          1.0490468673861042,
          -0.028076490002369933,
          1.3795434089329444,
          0.26316179174076015,
          0.39234996575924735,
          -1.2217167338141426,
          -1.3564778793794758,
          -1.2081002035147963,
          -0.6004642384856419,
          -0.26263909089692905,
          1.882739984952666,
          0.8376625707610659,
          -0.28435266131787,
          -0.0013460982237117835,
          -0.08602432797663515,
          0.2520898081058323,
          -0.7387581700788087,
          -0.3296247917546237,
          0.4856516540365141,
          -0.8351584822888986,
          -0.36935937757789483,
          -0.5045449209731089,
          0.8140690349502842,
          0.1273315332549709,
          0.0863049308820091,
          -1.6048934215958348,
          -0.044000462285708954,
          -0.10897759211822051,
          -1.0175630002789404,
          0.9926453990914615,
          1.1745350264630248,
          -0.9041120836147899,
          -2.833778245621284,
          -1.0220178113022045,
          1.821787964881897,
          1.0515679545607999,
          0.4744953566860539,
          -1.7966690616109644,
          0.5203272593455517,
          0.9474084367821153,
          1.1389563755441487,
          -1.1000671224330951,
          0.13985236402936047,
          -0.5863444612659797,
          -0.9940754091770366,
          -0.4745391200794244,
          0.5884671576277417,
          -0.8320945970220941,
          -1.8959773835025535,
          -0.11663510151096042,
          0.8609235365264992,
          -2.0092290120634555,
          -0.5124946887487605,
          -0.5589667741198678,
          0.2939461193522348,
          0.53681749940572,
          1.150246922519459,
          0.08756059177780368,
          -1.5279971982857516,
          0.8462014235043783,
          -1.7345530510868281,
          0.6297123818653942,
          -1.0760432103565476,
          -1.056503173184174,
          -0.3069769164896954,
          -2.699807011372196,
          -0.05325602821085685,
          0.6644342541536254,
          -0.40766578537561626,
          -0.649188806869367,
          -0.30447317587077166,
          0.010265729523275275,
          -1.4118895915710103,
          -0.6148588459110775,
          -1.0982032788460738,
          0.95832246734873,
          3.4820420214871355,
          -0.5994502958432867,
          0.44453920837332367,
          0.9099550286388053,
          0.5507803055952156,
          0.4686260696458004,
          0.8378746875425913,
          -0.012730361923997579,
          -0.5594106691743064,
          0.5773012680872303,
          0.42854816620326147,
          1.3981292366548506,
          -0.9672418882299285,
          0.43505304186306126,
          0.16056545868716435,
          0.06420239170002703,
          -0.040234435739895144,
          0.8627747027774946,
          0.3396384924983646,
          0.22384913517302263,
          0.5849985539220643,
          -0.43850000541279244,
          0.40726170811266005,
          1.0311132354396355,
          -0.8793522927145521,
          2.2082515042539237,
          0.13305938761595318,
          1.6983856315680252,
          -1.0923033769936694,
          1.6392332781466377,
          -0.4551096428642982,
          0.35313829410449793,
          1.559066973165872,
          -0.24601522818033644,
          -0.11509040434347671,
          -0.43017175600771485,
          -0.3852749534634207,
          0.7176068446687601,
          0.17907507011558213,
          0.1624518679440098,
          0.012566587872620773,
          -2.474297908404039,
          0.5295923799203013,
          0.33320246257916264,
          0.6345792217544705,
          -1.0612117778254184,
          1.0524334149751555,
          0.15187805986357447,
          -0.751926535525638,
          0.29159976877878624,
          -0.019296366053589253,
          0.31453613913750095,
          1.720375580987959,
          -0.2095706777900393,
          -0.8756911839512213,
          0.22435935504121235,
          -0.4063389199007487,
          -0.2230150676334476,
          1.974691752296639,
          0.6984670148743154,
          0.2094197290418154,
          0.6645350394584971,
          0.7215727137129314,
          0.12572853281600985,
          -1.238036365038374,
          -0.09125440996159348,
          0.8153948721642587,
          -0.006271307925965989,
          0.06901792863421749,
          -1.444775897315584,
          -1.5872666263444417,
          -2.086787174511285,
          -0.5826051796623026,
          -1.543022933614234,
          -1.0476192505430515,
          0.3651387325279395,
          -0.6901088471425417,
          -0.4244975845000434,
          0.3245768923325461,
          0.20633212332288137,
          -0.3826334045011207,
          -1.537711942415646,
          -0.17877890185376877,
          0.5860031419953898,
          1.319492414651913,
          -0.6891180742838691,
          0.2917825183340746,
          0.7499990035955526,
          1.9420788946093313,
          -2.301428008723641,
          -0.4417820341585328,
          1.0512428143944557,
          1.2154722396162891,
          1.4230018598531158,
          0.11406038657754607,
          0.41136046933262504,
          0.6208946954191887,
          1.1027123547522057,
          1.437157171040389,
          -0.46594607568264823,
          0.1254271656101777,
          -0.6987525360508109,
          -0.650237445926879,
          -0.04150260564058109,
          1.160118577566626,
          -0.5870267119081265,
          0.8873269009883094,
          0.6719696764880748,
          0.492575099422792,
          -0.7308361106295052,
          0.5426514484287425,
          0.6892555150641713,
          -1.6353075412786975,
          -0.8451344924717819,
          -2.1104234965723503,
          1.1437738294948,
          0.299658685984192,
          -2.0655815287677717,
          -0.387810198890247,
          0.6761349180277745,
          1.0207719204406418,
          -0.4344726233610007,
          0.5678515374209961,
          -1.2471221688092502,
          -0.826771682066052,
          1.13206893891295,
          -0.4119926631370421,
          -0.4791025542648007,
          -2.43081325275135,
          0.20318168858896263,
          -0.7312576811330459,
          0.09176916006602662,
          0.9044423029727918,
          1.4386476122923797,
          -0.8684142854553794,
          0.5592530911178718,
          -0.81930524799708,
          0.754484767659686,
          -0.8265111301835675,
          0.6897278201241489,
          -0.455488761370913,
          -0.3216988728495084,
          0.7481513981106716,
          -1.2984604450988302,
          0.5986028750764723,
          -1.2590502737014229,
          0.9393677673067733,
          0.3192770111339814,
          0.19287089131297813,
          -0.07509258816857584,
          0.06705780659009342,
          -0.39847955956156056,
          0.2626734587761434,
          -0.6237003750640912,
          -2.4475989598547003,
          -0.6276646948664856,
          -1.185059615943055,
          -0.20115833256349797,
          -0.2463350593166494,
          -0.253152432241667,
          -0.9213374232649293,
          -0.5837575923892209,
          -0.08712380743765666,
          -0.2532070658889704,
          -0.23540875204900322,
          -0.45557204135497364,
          -0.6735397830629538,
          -1.0316676915740395,
          1.1242217180744127,
          0.5994739468358321,
          0.21428431561264366,
          0.4556705654435354,
          -0.40935032679265365,
          -0.17352410135027735,
          1.422599662131468,
          0.06662795485681622,
          0.5763250480467434,
          0.8585330441008382,
          0.5625117659037072,
          0.2635439186019461,
          -0.3594593047640842,
          0.3694182568571751,
          0.2213646459420464,
          0.14575959502237407,
          1.0674620844102747,
          -0.054532535645212626,
          0.8233813112407038,
          0.4842713906076113,
          -1.244563793198698,
          0.0998417188741337,
          -1.0984047676839592,
          -1.1232516729880522,
          0.19850405697881507,
          0.4095948081788834,
          -1.5450753745890615,
          -0.7450726793267349,
          0.3218343507726032,
          1.025337975125967,
          -0.26079111889457257,
          0.42374819517388423,
          -1.162359864964743,
          1.0376450582722505,
          -1.3279310988991657,
          0.6593430041875791,
          -0.36684773507525625,
          -0.02536311798293537,
          0.2815771650973012,
          0.1733584456869649,
          1.5173422152112426,
          -0.12079805781146158,
          -1.570639853640244,
          0.2611253293480849,
          -0.8476077929208365,
          1.464914797573618,
          -1.0670998437176775,
          -0.75078119822707,
          0.6756799477090439,
          -1.123643225504178,
          -0.5219888175257681,
          -0.11490431987247211,
          0.8640271899549661,
          -0.8603203188017309,
          -0.7910242561056586,
          -1.6702037553072733,
          -1.8078003427269773,
          -0.8093241544834373,
          -0.14739928886905465,
          1.783371650061526,
          -0.5484263037933266,
          -0.041727318786103196,
          -0.8303690623220723,
          -0.24058809954412452,
          -0.01071372421557577,
          -0.01235609931825272,
          0.4043544429090125,
          -0.4213942161965596,
          0.8121114477122892,
          -0.42896000432246034,
          -0.003487710672688532,
          0.4114140288135568,
          0.1755182677872306,
          0.34443181797575023,
          2.1954736613299732,
          -0.23782271694526258,
          -0.6987780464116848,
          -0.17565783441534408,
          -0.5446665373438535,
          1.2673979761202097,
          -1.3117906215032138,
          -0.6328615173674694,
          1.3090960259371967,
          -1.0925817745388564,
          0.2819709487256205,
          -0.8615402472259078,
          -0.38394327519257865,
          0.2173660773132759,
          -1.2442723706089154,
          1.5302984687090446,
          0.2597529372966221,
          0.2466412499430482,
          -0.8795023159985553,
          1.1417502001892457,
          0.35246887716845315,
          0.7385376946256776,
          -0.5498197200353537,
          -0.47772231960231315,
          0.6414968317723645,
          -1.0124746478524813,
          1.8320582160792611,
          0.23566219663767649,
          -1.1256713879630647,
          -1.137464344211813,
          0.043210269000318276,
          0.09827657319210845,
          0.20980920375931372,
          0.6891025311325352,
          0.2592328933272934,
          -1.4211484333607562,
          0.4880086845641392,
          -0.7736767013187886,
          2.128984455812058,
          -0.3727368339212077,
          -1.6119972521010975,
          -0.8663273530564696,
          -0.6996667981403675,
          -0.025850214013246223,
          0.71846776430271,
          0.04130681026465026,
          -2.0456562269742498,
          0.09672560736341192,
          -0.19102606740061115,
          0.05898492966163825,
          0.8988762814025731,
          -0.8924400893817083,
          0.5687233958367526,
          -0.5076663581543323,
          -0.15558467767740125,
          0.6752523259712132,
          1.9343907973604215,
          -0.8144578703807559,
          -2.2166415084000537,
          -0.3054994171989794,
          -0.8300569287585097,
          1.022513725573348,
          0.3745484190652339,
          1.2837055478018788,
          -0.0382305408702754,
          -0.8259830573144545,
          -0.7543687512460471,
          1.458531310300737,
          -1.0750835584595126,
          -0.09185195531384917,
          0.7922128070217828,
          0.9204234735800422,
          -0.26677329237716807,
          0.012016810781371743,
          -1.045433297065074,
          1.0505362340058477,
          -0.8834497314609044,
          -0.753950917834729,
          -0.9881905552593443,
          -1.2774719531753513,
          1.0421640372311372,
          -0.39800873487334093,
          1.1238442448395853,
          -0.6891697603295032,
          -0.6778980074314891,
          -0.09464922558024905,
          2.2725367229566875,
          0.391678439358277,
          -1.0506369688486368,
          -1.2631432820213393,
          0.5378685876486516,
          0.36687182517006744,
          1.394343438416174,
          1.3192330248801816,
          -1.8834579909568339,
          0.7013313855165492,
          -0.6631181088257456,
          0.7362804234158572,
          -0.5754622861830255,
          -2.0337760484299343,
          -2.0815271991672892,
          0.7123768741239173,
          1.0526330947661553,
          0.08827683832123864,
          0.5851493265869345,
          -2.059299840053641,
          0.5618941546969117,
          0.0025179656363188505,
          -1.3570272803201804,
          0.46597752208672805,
          1.4207142363228822,
          2.6355418958516905,
          0.5492278040834357,
          0.02006663267714708,
          -2.584297256155842,
          1.5524959551933701,
          2.1166997167058215,
          -1.7056216714665697,
          0.4204081642388942,
          -1.9798878738003232,
          -0.556641316126728,
          -0.7049152319711821,
          -0.07542719698755802,
          -0.9126324886952993,
          1.1963931826480645,
          0.6130179243321803,
          0.5878781145178226,
          -0.4090097029242555,
          -0.5859459978540483,
          -0.30289600559035523,
          -0.5007822347212886,
          0.6100320215450704,
          1.2005173928842419,
          -0.8849431097701741,
          -2.1464655336723424,
          -0.10219934170322631,
          0.7534073481187875,
          0.792186951152215,
          0.0879779600614762,
          -1.0796619746066107,
          0.08736734067880458,
          0.09472948157450573,
          0.4409798806035772,
          -0.586881648526692,
          0.2613167664794407,
          -0.17672289743606337,
          -0.33886942417901683,
          -0.4460460213311071,
          -0.2156357591393556,
          -0.9647017246710836,
          0.011163641583778491,
          1.2425629856611766,
          -0.5333744722761959,
          1.0002317013697528,
          1.6801854533465197,
          2.4551355368036547,
          -1.9850824923683563,
          -0.5413063396558208,
          -0.36259068776994696,
          -0.6789400590018458,
          -2.0587420925806748,
          0.2973710362280208,
          0.4182581548777197,
          -0.41520137318453093,
          -0.1717470893937908,
          2.1913655123142335,
          -1.188096856875596,
          0.769590086342854,
          1.9991330527872604,
          -0.3023220463182566,
          0.16273945605732923,
          -0.17099561374388364,
          0.5175233666811463,
          -0.6320205891872293,
          -1.0792979178102693,
          0.8073834596159781,
          0.47296645665507,
          -1.4618138890195946,
          0.8536947544273756,
          0.3884982479083336,
          -0.4914640332588758,
          1.5299634731384777,
          1.1106940324516428,
          0.10335708703010192,
          0.3332141165024831,
          -0.008386886526975463,
          1.7786800596609675,
          -0.055825758904407566,
          -0.9000906221446011,
          -0.08373193708806895,
          1.0810654827613897,
          0.31381213611335096,
          -0.23020609926668215,
          -0.09333183214128406,
          -0.8100485508585024,
          0.04161393155573913,
          0.6047860653179974,
          -0.8653463102425991,
          0.15882235463576702,
          -0.11729342763391169,
          -0.23758266235790762,
          1.8487617438243886,
          0.2726775269330434,
          0.04117292291118242,
          -0.3979464136487431,
          -0.28056216864986794,
          0.25468264357751286,
          -0.16972333655110408,
          -0.15345855709716602,
          -0.7125534034304647,
          0.9993940521135221,
          -0.2956761042102723,
          -1.267977600040337,
          -1.6783685813986293,
          1.3121326051128996,
          0.2936705166477493,
          0.7386562249412972,
          -0.9469957461420204,
          0.9771120684966176,
          0.9193044917911888,
          -0.22085287409754836,
          0.5168940850458518,
          -0.32940317838978717,
          0.5670654647083258,
          -0.03096525019387066,
          -0.2204639552048403,
          0.8406028288023697,
          1.7738380021160869,
          -2.3169579241495506,
          -0.9724108785439167,
          -0.8188901156543142,
          1.1379220499715181,
          1.5042780379859242,
          -0.12075108228362604,
          0.5343804025587566,
          -0.5980396949582559,
          -1.7287400772429269,
          0.9546831389089638,
          -0.469230187890885,
          -1.5565773906549683,
          -0.6838455976877922,
          0.02172961814262028,
          -0.531491397564761,
          -0.13556209987002701,
          -0.866620273007956,
          -0.7098823590144515,
          0.8883180756482926,
          0.38863310919055183,
          -1.061195967544763,
          -0.487353969880077,
          -1.5889728511509553,
          -0.8120884810504175,
          -0.5956301832074414,
          0.008115162534703289,
          0.4011332320838651,
          -0.8189087536398758,
          0.324384437030269,
          0.9182865492089272,
          -1.8098372906902516,
          0.37568158111963157,
          -1.0767380886983935,
          -0.20149635465515922,
          2.8054741952188222,
          0.7110785829552578,
          0.8566193856952559,
          -0.8491614482749436,
          -0.5876994335279657,
          0.6589084449357102,
          -0.22723645362362974,
          -0.3932333073497973,
          0.38561599824205683,
          0.16159633788279373,
          1.1651604261438289,
          0.4384045232418699,
          0.1839221361713745,
          -0.07477518886538813,
          0.9532999373451011,
          -1.3885190345211127,
          1.1523670030534336,
          -1.0531705532818416,
          0.5642112600610671,
          1.229517311867505,
          0.45460624061181537,
          2.1911717224263634,
          -0.3760877823479221,
          -0.4802697076178582,
          0.6347046303146171,
          1.1159633569338583,
          -0.5817843641468361,
          0.0058467042164593265,
          -0.6246594798884932,
          -1.127441652186932,
          0.4149711048300041,
          -1.096556092007184,
          -1.414896168136103,
          -1.442403545917947,
          0.9747588587575993,
          -1.198732205618561,
          -1.532786651123954,
          1.4132469311988594,
          0.04283729891747743,
          1.9555826007127695,
          -1.1264924043064017,
          0.10882748967344852,
          0.480530789212095,
          1.0977416723082463,
          -1.3971610673047214,
          -0.6255309330385247,
          -1.4710046053018797,
          0.9343503819881942,
          0.18670481414827872,
          0.6855559775508543,
          -0.27563239511181853,
          -0.3179732397236558,
          0.5857103984327933,
          1.0122201165553208,
          -0.9739734510008308,
          -0.025634620274160195,
          0.525667718365441,
          -1.3911890184858786,
          0.2875409614893606,
          0.6309298999315316,
          -0.0787472166669748,
          0.4523788767354661,
          0.6003517863568429,
          1.0663620475019198,
          -0.3054826483754636,
          -0.3303139962720668,
          -0.07323636132424487,
          0.33646739435349826,
          0.04937972533652983,
          -0.5766127138150686,
          -1.299594100627176,
          0.9301482423054876,
          -0.8393104952061867,
          0.8380505639093151,
          -2.8314706526562303,
          -1.111308589262449,
          0.034086003740635015,
          0.22039995966313003,
          -1.4451137013668485,
          -0.7979738364175967,
          -0.5620068589183619,
          0.509475959707243,
          0.9621986689789636,
          0.03342333873283472,
          -1.2617726117676018,
          -0.5404959318314396,
          -2.5288639379090734,
          1.2193543638238649,
          -0.4465133934838622,
          -0.22875970258060066,
          -0.41230039817751957,
          1.0446585935466213,
          -0.5278413587962059,
          -0.5975644715764987,
          -1.0803293549630844,
          -0.5475024296234575,
          0.280374354457131,
          0.3773850683956785,
          -0.12282510173545874,
          -0.4556642631515911,
          0.1722430206715519,
          -0.9483025577651147,
          -0.876053058156183,
          -1.3411210751108043,
          -0.9540153938625163,
          -0.09953253281469651,
          0.8887620716059805,
          0.502063219656649,
          -2.1893108353676185,
          -0.4862085243733026,
          -0.00040361107840583164,
          0.4005408016810704,
          -0.46700144653523473,
          -0.37578470294384725,
          1.1245132312561352,
          0.03153427462078454,
          0.7039816398526788,
          -1.196690121760039,
          -0.6947182367151074,
          -0.21038537120388556,
          2.669686749738624,
          1.5545277157272857,
          -0.9337292190842892,
          -1.5598637045086106,
          0.38382118570111373,
          0.37646300329046617,
          -0.33713797639448834,
          -1.3704044996183045,
          0.18708821200000353,
          1.1775050448945394,
          0.7527972741916283,
          -0.21001961797532798,
          -0.2859745744727028,
          -0.09311133382306191,
          -0.509603338010962,
          2.1224919039515475,
          1.6973492941951671,
          -1.5962926490972202,
          0.27244534054886954,
          0.1692883247660236,
          -1.5194125183818001,
          -1.4177479296341222,
          0.11224734012210624,
          1.8639427847063121,
          1.4507394432624543,
          -3.383244864634014,
          1.4263234522068533,
          0.5663141963402221,
          -1.1847244323707629,
          0.6803139518532035,
          -2.5140420064531876,
          1.1017025681312318,
          1.0022359472941187,
          1.775271800033939,
          -0.26262922440879166,
          -1.0923604968440412,
          -0.026362391685427363,
          -1.7582507732309887,
          -0.37850326137216656,
          -1.3123346887525817,
          -0.3264063240744892,
          -0.8076284092415839,
          0.29468687946620536,
          -1.7404901166474411,
          -1.439210564167257,
          -0.012999840186010548,
          0.3541983909664851,
          -0.05617832726392626,
          1.574067066468471,
          -1.4033359755461048,
          1.5164774179783922,
          -0.5303200502469124,
          1.8065703223223548,
          -1.188566694289141,
          1.2929244098687154,
          1.4892201910904501,
          1.6568986396049719,
          0.7772884164757026,
          -0.6008767884033664,
          2.0976694337446373,
          0.6016785788395465,
          0.2560260715376178,
          -0.6076204365429684,
          -0.3039785307470983,
          1.0636117303312727,
          1.1445661009679486,
          -0.41174261190886413,
          -0.9965487919539274,
          0.14473873205405086,
          -0.49404132720253174,
          1.1384310904168602,
          -0.9203587650421818,
          0.6687807890328172,
          -0.5978754071561313,
          -0.0379084615863588,
          0.909676304262043,
          -0.5254515562966926,
          1.133911641987734,
          -0.7826698609357359,
          0.9637873974965131,
          -2.179501207935476,
          1.3852058950897395,
          -0.19052292017050554,
          -0.36488926994585297,
          -0.515920788811983,
          1.3704953659876515,
          0.37988069513562617,
          0.6234469230845501,
          0.12554269013528913,
          0.3795084812091465,
          -0.2952217802441127,
          -0.11059700316524951,
          -1.1455816092458095,
          0.3101667137946923,
          -0.10715344761141765,
          1.7444268830323428,
          -0.9589164532698594,
          0.02476184544158057,
          -0.8645410520595721,
          0.25220614236091704,
          -0.4786476052535572,
          0.42408478337656924,
          0.29086926813056196,
          0.7704906370097845,
          -0.22301335275830936,
          1.6130852552125903,
          2.067080469944648,
          0.10769993102554354,
          0.23843339202787206,
          0.8288203460628969,
          -2.111917341137807,
          0.6523128617060878,
          -0.8304739678654792,
          0.22366850821691028,
          0.9753044703628005,
          -1.5859829329954065,
          0.2959887454675787,
          -1.8792430642922022,
          1.0929167624679692,
          0.47294938584749985,
          -0.6086447613000601,
          -0.01582975187038206,
          -0.216170315894062,
          0.7453336388219376,
          0.1019943700134089,
          0.8335576162191755,
          0.28099065714343796,
          0.7846089592014255,
          1.416309690343853,
          -0.2676700819748136,
          0.34270492155073173,
          0.40318140664758245,
          1.5522063335158822,
          0.24485103736707084,
          2.93477410820957,
          0.46396930874332415,
          0.2516757507822113,
          -1.4076968808804673,
          0.8806410473280486,
          -1.6329001180826281,
          0.2742658392704616,
          0.18919672901584866,
          -0.7237993124939625,
          0.8498615602797637,
          -2.011756689063589,
          1.1879892112476813,
          0.598828056242983,
          1.0885169570079227,
          0.8837641629184275,
          0.7173983740178268,
          -0.5521409068233932,
          -1.4159559580063206,
          -1.832322783785515,
          -1.1050761993200382,
          -0.2010132479793544,
          1.135938212700261,
          -0.24803845128308322,
          -0.8589675774404498,
          0.2961092383064623,
          0.19781863161997235,
          -0.37266065920076125,
          0.9516399540301411,
          -0.18256061406723967,
          -2.4298017920769905,
          0.9905240957999072,
          0.08948645819147014,
          0.11827113505128786,
          0.6719941994844788,
          0.890117602807901,
          0.369465680795216,
          -0.09519870968714043,
          -0.712351318296841,
          -1.0882918841124978,
          -0.0004853987001513027,
          0.4287936800775547,
          -1.5889243225266838,
          0.23020380609690355,
          0.8183845209534374,
          0.6126916814288635,
          0.16464912823731165,
          -1.6104541126374712,
          0.46394005873715266,
          0.752834587842805,
          -0.21796196961585393,
          -1.674334736368562,
          -0.15854437315374656,
          1.4961549729098345,
          -0.6053909690064392,
          -0.24268086265287564,
          0.8039864611997046,
          -2.8946615976416523,
          0.1468037213897827,
          0.1778579566798401,
          0.8165809146444406,
          -0.6435615418172985,
          -1.3084282135102434,
          0.20590145899537524,
          -0.862089724162381,
          -1.6202509656325943,
          -0.7848151879394152,
          -0.16416753046899235,
          -0.47541820272742874,
          0.5995472839289785,
          0.022491748912736503,
          -1.1292853204896922,
          -0.0831439993388332,
          -0.25958684675434457,
          -0.6448748556410376,
          -1.48174571756931,
          0.3494263026616763,
          0.27460236689618345,
          0.9499053707427726,
          0.13674970925085211,
          -0.6638103335672431,
          -0.2701842570871561,
          0.5927071810040534,
          -0.293720155798587,
          -1.1275668742434077,
          -1.0958120925276849,
          -0.33567661065282245,
          -1.77129749296946,
          0.14605843373395772,
          -2.1201703607994915,
          0.07487839603767031,
          -0.4628946513476238,
          -0.8555959360877774,
          -0.24957655380402874,
          0.8984152596292537,
          -1.2566596735242068,
          -0.8976821279451632,
          -1.3419915906073052,
          0.6521663599395116,
          -0.26418944042673165,
          -0.19524691762851665,
          0.2770371490657761,
          1.131892692567961,
          0.32349703477294733,
          -0.9182504993501487,
          -0.18920433140027065,
          -0.9116549207433176,
          0.4943889038484579,
          0.8057184999030765,
          0.11798190838836849,
          0.27998387296815974,
          0.2463901561801512,
          0.6262526970368527,
          1.597877684987374,
          1.9332257230346976,
          0.43859290423212816,
          0.6636628121209502,
          -0.5283902376058506,
          0.5681961541564207,
          -1.056276026440826,
          0.7483611846611586,
          0.11728148484364352,
          0.9851426209804807,
          -0.4431437569239198,
          0.2802674796335557,
          -1.0662641180771257,
          2.1351857367563505,
          -0.0798133767610728,
          -0.1269365142760042,
          0.07717010038960666,
          -0.48883818211549435,
          -1.5563537953009774,
          -0.2809899817992507,
          -1.6192306345508922,
          -1.3431471410218172,
          1.1923621497472192,
          0.23240385025200402,
          0.8176332414403568,
          -0.03400894657747339,
          -0.8122238167534408,
          1.3185736136192687,
          0.48075505483612785,
          -0.38627730472907357,
          -0.5523897956008466,
          -1.987468905394565,
          -0.8413692149949927,
          -0.8021149454436619,
          -0.7740053211795851,
          1.132702845762528,
          0.08712256342677771,
          0.9416538295895186,
          -0.06986778475051018,
          -1.5402213957076683,
          1.546054792914098,
          0.29005771472846226,
          -0.3606169327967463,
          -0.35576325808079085,
          0.5420659181147386,
          1.4276330770517842,
          1.3385894890940269,
          -0.4963161125437763,
          -0.6290518267741751,
          1.5721950904823587,
          0.4546822770721979,
          0.2007598977257041,
          1.2028709081307052,
          0.6700842906269747,
          -0.3276496227104107,
          -2.0043472778201004,
          -0.2402276726096398,
          -0.04444794248909757,
          1.3822066898017369,
          0.953060925714867,
          2.1074369839233573,
          0.5431285659428647,
          -0.08708518725745533,
          0.2451760292615842,
          1.045265342958897,
          -0.6113893356980924,
          -0.03566706344776721,
          -1.7301410978068927,
          1.3424780085626138,
          0.6489193066116659,
          1.1082177335014933,
          1.4303696214569108,
          1.6848669478307983,
          -0.3092559710499345,
          0.2959678117198052,
          0.613934978844642,
          1.5729070215618932,
          0.5623621255310861,
          -1.5118171887260587,
          -0.8306349214923491,
          -0.3751021384358645,
          2.947053805674268,
          -0.6190446040743477,
          0.8249831301782707,
          -1.2126915151830848,
          0.2449060909032342,
          0.9007719807221376,
          0.5479748974044132,
          -0.07902793138127814,
          0.4582016609926406,
          -1.6840984653892876,
          -0.7453186411630789,
          -0.7225685629682836,
          1.6575370193694516,
          0.5054718786171378,
          -0.1925072122285309,
          -0.6229566618990307,
          -0.9422051489029205,
          0.23645013871744658,
          -0.09516156268376157,
          -0.38970831324202704,
          0.641160118702259,
          2.469429537661463,
          0.15333289347213833,
          0.41982855188643403,
          1.2753100986341879,
          -1.1890661312610749,
          -1.3181046048712577,
          -2.250559803028583,
          1.1759186465252085,
          -0.27330849003743474,
          0.0754858069224537,
          -0.08629413443385658,
          0.7112607249285506,
          0.8209940611505891,
          0.08936672007335066,
          -0.20382792882654746,
          -1.60910318917718,
          0.4594440879349586,
          -0.7355922982176446,
          0.18291159828496686,
          -0.111520202050404,
          1.078930310249145,
          1.070519258079608,
          -0.7426931874156651,
          -1.6150889560299264,
          -0.895067643555653,
          1.2676406835757212
         ],
         "y": [
          -0.023606223842829007,
          -0.6504545069725444,
          -1.4427834768310497,
          -0.8826988642088189,
          0.8775492086447028,
          0.27844594830493036,
          -0.8881859439569695,
          0.32390997436057734,
          -0.3458673170498108,
          -0.2231035091479488,
          -0.09386836984356337,
          0.7585470887221573,
          0.49668802407504337,
          -0.8906077106521495,
          0.3810860710291979,
          0.7725556474687214,
          -0.355927940735238,
          1.3755448019188858,
          0.5406900035885022,
          1.1048502942830702,
          1.6876568262616511,
          0.04874307677313874,
          0.9164545667265235,
          -0.7988936464223785,
          0.8963332270174228,
          -0.206909041024999,
          1.0702578019800792,
          -1.0627249889002635,
          -0.6076146213326394,
          0.17206761298994494,
          1.827473809750781,
          1.0690123147672046,
          -3.039731321395044,
          -0.8625375779464903,
          0.44188099165067624,
          0.36424121703987333,
          -2.3356066312097346,
          -0.2200036508154387,
          0.2633581860056177,
          0.5614718130921341,
          -0.16000299949372757,
          -1.6058233598741836,
          -1.4830435498336485,
          -1.5971031699580687,
          -0.3882197371720388,
          -0.28052169107307345,
          0.03142987113060339,
          -0.23862002982501326,
          -0.983669147989676,
          0.5466296688793899,
          1.3821385933182735,
          0.48615761278855013,
          1.7388539422021903,
          1.2415983308878287,
          0.7805175512752894,
          0.09086256674067981,
          1.0026533075257984,
          -0.5807224516420298,
          -0.27998506705522613,
          1.0032514180898675,
          -2.3962885141976717,
          0.4558231782577121,
          -0.7244465592184874,
          -0.49949187972397324,
          -1.674158556944442,
          0.37224653862623147,
          -0.9395336447968792,
          -0.21135096872053188,
          0.5611081381494845,
          -0.4742813516354326,
          0.32382062060716404,
          -1.0400673186568903,
          0.7083392314382848,
          -0.5261601553392122,
          0.044230832320693816,
          -0.3449283047995562,
          -0.9266221232715067,
          0.6417900453592342,
          -0.28347797215074677,
          0.4114163194069845,
          0.7777353880368452,
          -1.2393039318580423,
          1.2503310709450575,
          0.652563171794327,
          -0.6010980988713661,
          0.057894147630805276,
          -0.7179897164326814,
          -0.4367113613573236,
          1.7131211119151748,
          0.9828595008536078,
          -0.26528572053803023,
          -2.307196194249299,
          0.2036257171374692,
          -1.184487946010365,
          1.0895288013717743,
          -1.7143346759793252,
          0.78232049432705,
          -0.5972293101897974,
          -0.09599931921787552,
          -0.3319368064752064,
          0.44836838833138964,
          0.9042730602502737,
          0.9872961279609708,
          -0.0010732853056241365,
          1.1582216169011474,
          -0.4217580175905729,
          0.45236255371968276,
          0.8173438965576633,
          0.18389721412715668,
          -0.3413486334976643,
          0.5517461669063801,
          -0.13698048829393342,
          -0.9848490847299854,
          -1.236161608163217,
          0.4532516063532217,
          0.8136580244757828,
          0.8862788409915819,
          0.28195509488467674,
          0.7747680280618083,
          0.39215341588558983,
          0.6184049900493901,
          -0.6621296652028748,
          0.790630619882568,
          -2.3709369981789217,
          0.22087687062891412,
          -0.2070762018404215,
          1.0153872040459258,
          -2.0729983217654335,
          -1.2703637086926356,
          -0.43985799222458866,
          -1.3349283042212166,
          1.1617161878800324,
          -0.7532493378319094,
          -0.1405594344970793,
          -1.3127391869626484,
          -0.8867932121837249,
          1.0938940968672708,
          -2.493802547826389,
          0.3976732478222037,
          1.8560411622069946,
          -0.18445592548625345,
          -0.5883296939664712,
          -1.8346514836829242,
          -0.45138718616262835,
          -2.352171027040608,
          -0.19066910271337717,
          1.186774444711014,
          0.1297430835749808,
          -0.6724090724195838,
          1.629751134966166,
          0.414063334002259,
          -0.9802984630779195,
          -0.8321447546126043,
          -1.4337780536732532,
          2.03146673200092,
          -1.2867071160636088,
          -0.6049667752747773,
          0.8559748146921229,
          -0.4869451176757644,
          -0.3834901641248721,
          1.7633143151213997,
          0.6001074738139761,
          0.9376672122200618,
          0.7652272158213206,
          0.4687983157439744,
          1.5563362510680594,
          -1.0850807809011025,
          0.2962527368232286,
          -0.9901025652195693,
          0.521455320265925,
          -0.34840442128771526,
          -1.2573100610114443,
          -1.4351345206369202,
          -0.07876453534341071,
          -1.3846870300711516,
          0.21841748859809082,
          -1.8504801734127607,
          -0.12652255549031166,
          0.07584900087952325,
          -1.6314376108500726,
          -1.7639910465946695,
          1.5850525291460427,
          0.655064992146779,
          0.5376297225922896,
          -0.04943657709485866,
          -0.23249963192426348,
          -0.5024621617520317,
          0.27092791928509513,
          0.8593086628719252,
          1.2833908968189742,
          1.628251639837232,
          -2.273628428398745,
          -0.46308682164245096,
          1.4175930561522738,
          1.0508814328620666,
          -0.6099291951325221,
          -0.39013841131363436,
          0.7850259211895967,
          -1.0466847057538675,
          -1.326143825801875,
          -1.021039523899517,
          0.5571241315676444,
          -0.4009758245134849,
          -0.4025445470283117,
          -1.3403054796409546,
          -0.07719267327986541,
          -0.29728052013822054,
          -0.7310225960804041,
          -0.19517725858305665,
          -0.4422343214321919,
          0.19259494348977607,
          -0.6571481573908112,
          -0.9131731407126651,
          0.9740385511725084,
          -1.575256249754347,
          -0.5101684654274633,
          -1.2722974292371902,
          0.5811879946079657,
          -0.08705923581564494,
          0.8416218687406233,
          0.15068057402631188,
          1.2024608666851588,
          2.1099829345390653,
          1.1002410377327418,
          2.168867140558942,
          1.020791484455808,
          0.13922212778052626,
          0.8083632881737003,
          -0.2911946882426288,
          -1.365820423288462,
          -0.6227816656454167,
          -0.10832217294918632,
          -0.08352700346229874,
          0.4265250110126308,
          -0.4808993259927328,
          -0.0946058482075424,
          -0.6075053083940404,
          -0.7023761534306312,
          1.716338648796263,
          0.3376093530220065,
          0.8021832186387386,
          -2.004085078194878,
          1.5188034780998114,
          0.3051237572086531,
          -1.4601944322460014,
          0.39676445979780145,
          -0.27458063731308396,
          0.3885461075115569,
          0.026461018515841195,
          -0.5786969472468941,
          1.4144898112886934,
          -0.7753807848731532,
          -1.268023702044964,
          0.6436286667744335,
          0.9756820422768199,
          -0.665073565413234,
          0.8253777468906934,
          -1.261974118630102,
          -0.39925555564046156,
          0.5927599191072549,
          -0.11425243936154615,
          -1.3414834127675406,
          -0.6653778179770752,
          1.63083232508911,
          -1.2188639753195107,
          1.2649705049302447,
          1.2068986225028553,
          -1.149021507282985,
          -0.18786999219149889,
          -0.2355338520473898,
          0.33364506776516867,
          0.6685422183874806,
          -0.2762712160267101,
          0.22206069118325683,
          0.796290508325933,
          -0.9984628070413896,
          1.1450078593541604,
          1.1725272156320505,
          -0.2513149749740895,
          0.3820370467774776,
          1.737061829061982,
          0.6769858477236963,
          1.4622053143430191,
          0.4739439391633013,
          -1.289642562702498,
          0.2764538955007183,
          -1.0350881768948723,
          -0.8859050555098198,
          0.40839060082949846,
          1.4359581515602302,
          -0.5675294900762973,
          0.7467245709873779,
          -2.236101421636325,
          0.4569838414630442,
          0.6166920171506132,
          -1.5226106355353712,
          -0.1355966758956724,
          0.2930428518986438,
          -0.733207246638059,
          -1.0518753899407052,
          2.424781452504631,
          -0.562649294601599,
          -1.1653720500458056,
          -0.7314354419336246,
          0.2579136329975706,
          -0.900883455965371,
          -0.3247979814363534,
          1.1948973177987856,
          1.026112400470356,
          -0.15164629054089143,
          1.2013671665661703,
          0.08384409509288142,
          -2.361694349203205,
          -2.4346104183714097,
          -0.6781325265259259,
          0.1321209749798463,
          -0.3485391731778816,
          0.6060717713548507,
          1.0301981340208404,
          -0.8223777450486056,
          0.06335569447596236,
          -0.7433874044201616,
          0.34139528539952557,
          -0.8855840398819781,
          0.16135073777071596,
          -0.20371160569125257,
          1.0896855849137905,
          -0.9222337315047735,
          -0.6608844002716531,
          0.071246159214241,
          0.7117101704850979,
          0.5600411441706925,
          -1.11722526812756,
          0.27670906136697876,
          0.6119521254749356,
          0.11930577619263014,
          0.02731147259431403,
          1.3737266085754352,
          1.156989393638687,
          0.21127026174676944,
          -1.361101197016146,
          1.7011971052465429,
          -0.7966329945710003,
          -0.3863728911372383,
          -1.414750593309063,
          -0.642541658600106,
          0.18897742542344254,
          -0.238983788070368,
          0.24046475190021324,
          0.02528996616426253,
          -1.0842126064754718,
          0.04881981095177284,
          -0.9985490093931197,
          0.044181924874625744,
          -0.2560125530716864,
          -0.09352782376380842,
          -2.5653686909481985,
          1.4354328230811135,
          0.03236423821144897,
          0.8174153280176382,
          0.0680950323912369,
          0.0021416039134132146,
          0.84592952699094,
          -0.7951188086328843,
          -0.2820490761259176,
          0.538165649423925,
          0.4710232859228532,
          -0.11281132848072137,
          -1.1593575963589717,
          0.9384025984922355,
          -0.15263670378324748,
          0.07621509499033957,
          -0.01688110979167884,
          0.5281834439387848,
          -0.5279309331391296,
          -1.9357807267216856,
          1.590332336613831,
          -1.0406233981227213,
          1.5284655392527047,
          0.5255280249024196,
          0.7285834051946573,
          0.7097206282506143,
          -0.2987273823935053,
          -0.3309202566719937,
          -1.1724155804954706,
          0.15599005594088977,
          0.9823707762588694,
          0.5112126546361553,
          0.34921665145026054,
          -0.24170373003806256,
          -0.07351958866359522,
          -0.3085223758546374,
          -0.7434871926185448,
          -1.115330917898139,
          -0.4035388841310129,
          0.9782203455743081,
          -1.6791243105947298,
          0.2779266521244717,
          0.9206488138356876,
          -0.811416714682195,
          -0.21389049122655077,
          -0.27088088485190176,
          -0.3109097892590845,
          0.13083608835064825,
          -0.47993638536451444,
          1.0558300010252908,
          -0.27533335398346803,
          -0.6957308861840226,
          0.48946865574722015,
          0.17902749936170978,
          0.6225341154440139,
          1.6705157324894748,
          2.2840844365150925,
          0.800231715449329,
          -0.14274005713300195,
          0.11801400838716657,
          -0.9074042806545465,
          0.14477863374932032,
          0.10606075747398364,
          0.5997566323879401,
          -0.7570369375178145,
          0.4474892800973221,
          1.2196042186964422,
          -0.6405379176160567,
          0.1724852302566199,
          0.23975544526372755,
          -0.2835322290590711,
          -0.07461940134822401,
          0.09501451985417594,
          1.33906808481008,
          0.20665158859212768,
          -0.9220586247698612,
          -0.9456629659993439,
          -2.036224728646986,
          -0.1687876663369438,
          -0.5010676078852989,
          0.8372756181739776,
          -2.0010036618869806,
          -0.015961213706478863,
          1.6423188144008387,
          1.4846972840502213,
          0.22505027848048803,
          -1.3698863429208377,
          -2.6105680070196486,
          -1.8396933392667474,
          -0.07023174527884762,
          -0.07675767297176946,
          0.49576856630784755,
          -2.516569074878546,
          -0.7414029208483499,
          -0.4453801805610873,
          -0.49152232147999236,
          0.3878821089822714,
          1.0345159085960716,
          -0.4926530106095735,
          -0.3752803184809736,
          1.2218967251322328,
          0.25665913613697555,
          1.1852846139131403,
          -0.6120697368133807,
          0.46366244170546916,
          0.6534926837624031,
          0.19400127443623666,
          0.09482435255166169,
          1.065732715929268,
          -1.2382132993605388,
          1.0690464622758142,
          -1.0180721648847937,
          -0.9116195260617502,
          -0.7937828197833998,
          -0.7942620991824441,
          0.5466766165014862,
          0.7755709769687898,
          0.14538015315698208,
          0.2815180240829237,
          0.6871561844112901,
          1.0831490547145777,
          -0.22558161568364532,
          0.7629893905865825,
          -0.21194585608350539,
          -1.1152493814797781,
          0.8619945866529526,
          1.0612806810176985,
          0.7013862051092236,
          -0.454020730321055,
          -0.8163859227132668,
          -1.151376177184644,
          1.0215860165293706,
          1.4074905082496467,
          2.2782946976506775,
          -1.466612415752488,
          -0.21753369763259636,
          -0.7624725616189767,
          -0.18126264719930585,
          0.5096454315236715,
          0.09339676805335673,
          0.4078718380979802,
          -0.5614046174278823,
          1.017406091026927,
          -2.9289119386101783,
          -1.2610576254424082,
          0.35146128325111275,
          -0.2625460745589161,
          -1.5812982068971917,
          1.181097056286153,
          0.9356284954644555,
          -2.020395759456132,
          -0.4687761627814527,
          -0.17212074672561434,
          -0.3752623913413515,
          1.3723489586950264,
          -1.2755174145204717,
          0.21482938717379235,
          -1.3839219022346703,
          -1.5249463902369984,
          0.5280055583997453,
          0.3014965900664978,
          1.3317887994949282,
          1.675835310249985,
          2.018042365758264,
          -0.5827685356350045,
          1.1669575133332424,
          -0.20292957271795867,
          -3.0053815560346315,
          -1.0753760320627488,
          0.9077641775654259,
          -0.1921621341517016,
          -1.0077256531300014,
          2.5418033635757586,
          0.7739148824737317,
          0.5697004274028875,
          0.47254618323016306,
          -0.793574276978128,
          -0.6863186866787596,
          -1.242412170747254,
          -2.121282716197679,
          0.18059547151764357,
          0.15034979790569605,
          0.06778010197944485,
          -0.039786914051947335,
          -0.8637795649570147,
          -1.453194146823582,
          -0.5074689441837942,
          0.6480340272110454,
          -0.22066490940791997,
          1.852881430397036,
          -0.48757237675999476,
          -0.8881952852706877,
          1.459267781457764,
          -0.1999641219409883,
          1.4567171472627343,
          -0.6836220983760163,
          0.69293340358765,
          -2.152101156695295,
          -0.5002546459665536,
          0.27126202966382157,
          -0.8166348898163384,
          0.21238379836257193,
          1.2571381131829722,
          1.788114948032377,
          1.3258406806922438,
          0.2625335898397382,
          -0.5510197699365114,
          -1.14725591887514,
          0.6023780774507801,
          -0.7287716853147911,
          -0.11512645740097661,
          -0.004548956732277618,
          -0.27866912626651125,
          0.8718629782359567,
          -1.3777334756357025,
          0.6303909149446824,
          -0.8026576061748135,
          -0.16929301320583096,
          -0.4372333427181416,
          -0.5557435128166412,
          -2.0240233238851038,
          -1.2371397813186875,
          0.04571899516470346,
          1.4012437999224345,
          -1.3630856604493387,
          -0.2847683001560413,
          -0.4478831897368115,
          0.1253029052431946,
          0.3074192707709952,
          -0.0924157948436086,
          -1.1648101542972267,
          -1.2418812222471045,
          -0.6836210797467733,
          1.2913917323770205,
          -0.2847030538936735,
          -0.7732519081838936,
          -0.43051856870312805,
          0.02706047731564099,
          0.327041503087055,
          -1.681201977981963,
          0.6820175581567529,
          -0.23331708114567,
          -0.1297286626735541,
          0.8193512612387448,
          -0.4929332243367347,
          0.17669749578650243,
          -0.39422372948125106,
          -1.3504206730934787,
          -0.7512206062834247,
          0.11946723550945926,
          0.010080834101931715,
          -1.0981935990199212,
          0.11861285838902448,
          0.5151786308251421,
          -1.7142059887848853,
          -1.417194382263666,
          -0.18201916867920953,
          1.9385276736933166,
          -0.17271186065324662,
          1.6912891840089794,
          -0.4317176764543521,
          1.1558164135901559,
          0.43641409436053014,
          -0.6635746912208145,
          -1.4641485012128836,
          0.40502237597412716,
          1.3063506344304052,
          0.3653302087996672,
          0.22838235356715555,
          -0.702815827664354,
          1.0524877812167168,
          2.263748970269456,
          -0.6241189315763733,
          -0.30016538336873533,
          1.4837279213097312,
          -0.7653878646271851,
          -1.4948148556536125,
          -0.5280982366054421,
          -1.811587628165215,
          -0.13268628343360198,
          0.0004374008674543267,
          -0.5073036454304584,
          -0.41968179625442864,
          0.3468724336029168,
          0.16734382197811676,
          0.9832259566496092,
          -0.022233054732105087,
          -0.1274056152807726,
          -0.5458390447566155,
          0.015026077404913775,
          0.6331818014937848,
          -0.211029618527117,
          -0.26832885008065466,
          0.41682081349328576,
          -1.5779372992363976,
          0.4917917581156455,
          1.3460167972333408,
          -1.1769455467999763,
          0.76229740522361,
          -1.2440537795476312,
          0.6563772599943914,
          -1.1150060922777536,
          0.017279346073222127,
          -1.1941025515468666,
          -0.11626900542478204,
          -0.6544968863109548,
          1.5974584646185794,
          0.7634568999434063,
          0.5053953685186408,
          1.9075156778165152,
          -0.847250505775055,
          -1.141360367216459,
          0.06595033135907823,
          0.09235398747498418,
          0.6334733283923292,
          0.6940474241891944,
          -1.3384740803766986,
          -0.11473878161142857,
          -1.0629989810746228,
          0.8972550086083693,
          -0.26113021181391644,
          0.8451878601254597,
          0.3404390116997212,
          -1.1974948912097274,
          2.3486851815269385,
          -1.384041040178714,
          -0.07446613095225295,
          0.5015750331747223,
          -0.35663154602546937,
          1.2208120538722715,
          -0.5713400945513079,
          0.3941166155832595,
          -0.3899778832587426,
          0.2759151894178881,
          -0.5316156665568439,
          0.014991867938697022,
          -0.6254738835715363,
          1.1372018549484109,
          -2.1054545314315716,
          -1.1681403022525407,
          -0.3180921419816499,
          0.4279616287010824,
          -0.21169873417114418,
          0.759827133058283,
          0.8483425357287142,
          0.9889860509492919,
          2.601659484868628,
          0.10898080234130904,
          -0.03491587651811306,
          -0.7687045314919293,
          -0.08005739588688797,
          1.0396317917955749,
          1.792654206326465,
          1.498629649323152,
          0.7211324935393995,
          -1.0939012441722136,
          -0.4776363447110479,
          0.7280446348995001,
          -0.7688980659626784,
          0.9086842073245656,
          1.3252493581839806,
          -0.4442110078890147,
          0.8801087929277365,
          0.20982550798403024,
          -0.5182223856001856,
          0.4597671772835706,
          1.031627401417394,
          -1.1315576075693694,
          0.40864573901093604,
          -0.7734091706567942,
          -0.1683489403410658,
          0.5092402564999507,
          0.5979191570189994,
          -0.45009204423730426,
          1.0995578331616327,
          -2.6318569106735277,
          1.2505263377155997,
          0.5891759879938924,
          0.8796162849653884,
          0.0035619849419253244,
          0.22963088654988,
          -1.3039922444717253,
          -0.014554954021841001,
          0.6430167076059717,
          0.14304969534304296,
          -1.0334271737016734,
          -0.1999017626426463,
          -0.46811798603013133,
          0.7141229616159366,
          -1.6850231418380612,
          1.4224641954308326,
          -1.1149794743771693,
          -0.11986104938183771,
          1.0179393316076915,
          -0.6302916396916777,
          0.365669337492556,
          -0.07897731511204822,
          -0.6152489725310349,
          1.647898073244214,
          0.7134283147347223,
          0.3316287942939899,
          -0.36836460856400577,
          -1.506086032624887,
          -1.6006769800817071,
          -0.17972209988725837,
          -0.5086113009739738,
          1.0716636692661663,
          -0.7061219217837076,
          -0.8050382149610801,
          -0.802146289739755,
          0.4852460849133427,
          -0.14081107231820295,
          0.748945181278192,
          1.5943753967371712,
          -2.39737299137726,
          0.4186477882263257,
          0.055422419892757355,
          0.9503588693005722,
          0.6752133887303489,
          -0.1640740838290507,
          0.7816433160688485,
          -0.8826417734345053,
          1.264658698650201,
          0.7011599846374388,
          0.4807462384536562,
          0.07636047476608954,
          1.884895709940778,
          0.4753261819653048,
          -0.3585205664744977,
          0.2201447226487613,
          0.28251406781395366,
          -1.4277326604324163,
          -1.4644710725912944,
          1.310690938197579,
          -0.6943854189673475,
          0.6715333078336584,
          -0.7887428860440864,
          -2.355728541412598,
          -0.8222981324030858,
          0.25225250864179827,
          -0.7648922535276514,
          -1.8566771149990298,
          -1.530240035976565,
          -0.5919335136991967,
          0.7277087653893395,
          -0.7749113890507368,
          -0.30613073567019405,
          1.3926762709241092,
          1.8444254151064507,
          1.5231728828175048,
          1.1362602542243856,
          -1.0415663005430864,
          0.5255723543361066,
          0.6468574338784443,
          0.29900311941816604,
          -0.912506724689017,
          1.0042768832957871,
          0.8610400818897502,
          0.702990995024287,
          -0.0757674675733813,
          0.11084988907412131,
          1.3891489693699166,
          -0.07558966846289078,
          0.005802279274389201,
          0.8832248699510636,
          1.3342005343717622,
          0.5290066438590167,
          0.5499648564531019,
          -0.26313629220453116,
          0.8149487948554338,
          0.7410179294246492,
          0.593996242214412,
          -0.2002902911055848,
          0.5914631697122432,
          -0.43890067413862466,
          -2.0224497053096795,
          -0.9168660849050193,
          -1.0930021084886952,
          0.8973868130149593,
          -1.4696828122646763,
          1.108285211255418,
          0.70190916216563,
          -0.04980589194282572,
          1.077316364094168,
          -0.8160926997779462,
          0.736478890672304,
          0.2643236108540764,
          0.03161561463580778,
          0.02884781595516132,
          0.045005396406624126,
          0.0023275992874046097,
          1.1548306293251058,
          -0.0936128901273747,
          0.14007125730061312,
          1.0567671159646124,
          0.11041735087428498,
          0.5135218764170295,
          0.27037853594184014,
          -0.32168015415555423,
          0.3545704103210985,
          -0.3341709856093035,
          0.7454738984485326,
          -0.8993637737367607,
          1.8067885910561419,
          1.5986549478261334,
          -0.14370915589504785,
          1.250079109240291,
          -0.4695340494767451,
          -0.4138135097513531,
          1.5810495851018973,
          -0.6675658069301895,
          0.3202184665934559,
          -2.5840328799181833,
          0.42591056935118177,
          0.36455378005739303,
          -0.0726572930351443,
          0.3148316559317866,
          -0.6434317176443289,
          0.28200462718554564,
          -0.9945297325693293,
          -0.07483267305878172,
          -1.6187758485811226,
          -0.21466448419005435,
          1.7233812821887682,
          -0.31153550641071975,
          1.6030382535994983,
          -0.4811068073085054,
          -0.43295152166932876,
          -0.8308933010466558,
          -2.086087639223957,
          0.6412256888704043,
          0.10495124710484577,
          0.8298236657208535,
          0.3701219033029654,
          -1.6262616507575551,
          -0.0936202763245664,
          -1.1653752339926637,
          1.3578570260986333,
          -0.37641531670865314,
          0.531508938327818,
          0.7296046345458082,
          1.1142094538928098,
          0.08779366281979314,
          1.088314212190512,
          -0.7886448545090335,
          0.18464169773343275,
          0.6636140937946929,
          0.6881258960349643,
          1.789377584194049,
          0.30321837291166254,
          0.03815390184981944,
          1.9789974139019784,
          -0.08859393315311981,
          -0.09852148455902245,
          -1.9372309280946907,
          1.3287167906618236,
          0.9524420799154284,
          0.8938738030558754,
          -0.30576015931272743,
          0.7250121387055954,
          -0.5339515019940209,
          -0.006709702073690796,
          -0.18005165027133335,
          0.10571831074076224,
          -1.0200775988129867,
          2.124204266772294,
          -0.923689688864762,
          -1.0728747426312848,
          0.6478261170978021,
          -0.7649323443804126,
          -0.5354296023487012,
          1.2854807003204272,
          1.3570243956739723,
          -0.6030332837950344,
          1.0157304082587195,
          1.322010899935925,
          -0.8237459073221978,
          -1.1801566739270823,
          0.4174775379891744,
          1.997777530370844,
          -0.6394721047419677,
          -0.2907774311173806,
          -0.5202222995755772,
          -1.7427955897839909,
          -1.727736309837407,
          -1.1609519612624566,
          -0.3586672003814728,
          -1.2021491569154468,
          0.552319647976245,
          0.8954595197332841,
          -0.33670993402929666,
          -0.45024612586373114,
          0.7542268828992598,
          -2.679174361371255,
          1.540864348500554,
          -1.6845234950434749,
          0.8540631478997387,
          -0.17070537649965897,
          0.7999293912932154,
          -0.4442640641118666,
          -1.0297038006384696,
          -1.5753365923393454,
          2.473555732217784,
          0.6192025896424013,
          -0.4876376956338729,
          -0.3482198163517204,
          -1.3104065728133323,
          -0.40292043808607725,
          -1.1458439122098245,
          -1.2295744338193395,
          1.469985259368916,
          -0.1870088270301736,
          -0.5532547623774915,
          1.7258011597783716,
          0.9295991299997662,
          -0.20957691089400607,
          -0.35092402306652987,
          -0.06574816230653599,
          0.6727596853046846,
          0.6659069430853987,
          1.208233611955561,
          0.6648768359644188,
          0.14401990909143353,
          -0.7585537332403336,
          -0.715912674912931,
          0.48317347587059395,
          0.4261227739064819,
          0.8578192132309392,
          0.9454031574127928,
          0.8202136556206003,
          0.16462532584518894,
          -0.34836345882629227,
          1.3008352972750734,
          0.21619764677545028,
          -1.2918140322813723,
          0.8561172127517008,
          0.476982045616623,
          0.49630163204990324,
          -0.11358707186158805,
          0.5509205469462582,
          0.6611753302474556,
          1.205710938182591,
          -0.12286863074614494,
          -0.9824030702977847,
          -2.038686942912219,
          -0.30313264056569084,
          -1.0789029408446529,
          0.6888652963531215,
          -1.9008717776629165,
          0.49702871407674,
          1.4592971493511078,
          -0.8577286865524142,
          0.5018503446443805,
          0.8184048085736877,
          0.8207731100378964,
          -0.3450197287805501,
          -1.3718508413787927,
          -0.6817421469648711,
          -1.9496514607450646,
          1.4077345162747177,
          0.9671894939932298,
          2.432916900559482,
          0.5829124560064401,
          0.27202283032013286,
          -0.3253092528573107,
          0.6681338703764567,
          -0.13675755487486568,
          0.7862906502028104,
          -0.3029788023624183,
          -0.19404712467975055,
          -1.15118988053484,
          -0.2619025068541823,
          0.4074784027685535,
          0.3127569015218098,
          -1.974693134559096,
          -1.4639873898648683,
          0.31418748969970034,
          -0.880412906407693,
          -0.7920263976860111,
          0.12765290593645784,
          0.8693242157440587,
          0.2759114654539683,
          0.1902158074295034,
          -2.089192244999981,
          -0.07552282040895977,
          0.8346358410335749,
          1.6228543666525568,
          0.15834484267438131,
          -1.0865664707774907,
          0.7679716166171995,
          0.260069011941712,
          1.4010315885114644,
          -0.17609848429316743,
          0.5899128158833997,
          -2.239352895162702,
          -0.821551735549397,
          -0.18180610367984207,
          -1.2210844562518002,
          -0.50544290757226,
          -0.011465648851418207,
          -0.360668622548343,
          -1.465956621281768,
          0.7125700594552813,
          0.42171061676335314,
          0.4375299946508743,
          0.8833637517861938,
          -0.4443648349929479,
          0.3681278126428303,
          -1.755462860972615,
          0.3497736140801918,
          -0.2605765066975223,
          0.17507613681194112,
          0.3558253319778375,
          1.4367552968942876,
          0.148657688110277,
          -1.1752653294316355,
          0.7568356176317438,
          1.540087830321102,
          -1.361060003352326,
          -0.9396735959755149,
          -0.2095811778815671,
          0.7709640749372552,
          -0.8441929439945349,
          -0.12639946064355512,
          -0.5066186202374706,
          0.6541821068396154,
          -1.6534761289513,
          -0.4834712920821928,
          0.018997374356638126,
          -0.4919753685014734,
          1.8960817290761849,
          -0.34137868399588156,
          -0.48747816242266095,
          0.5618216456096562,
          -0.5856855178250928,
          -1.6396528378057582,
          -0.37106024125526293,
          -0.5493491753410117,
          -0.06842945048507515,
          -0.3434751873987259,
          0.6409571707209754,
          0.8580280848422719,
          0.04782359487069689,
          -0.3057728677108668,
          0.4706375774163109,
          -1.873480430930273,
          -1.08527114140646,
          -0.26166394529413983,
          1.1839699431296284,
          0.6308137754532541,
          0.7615611601876768,
          -1.114463678980024,
          -0.9329859087065178,
          0.6609264615460063,
          -0.37985061924332586,
          1.1814155709014398,
          0.9555594387674603,
          -0.45419782748733356,
          0.07327864843420187,
          -0.5625918980468594,
          1.3873541105386158,
          0.950867254753124,
          0.8395772608968022,
          0.8539226264736514,
          1.696963564269321,
          1.4157892859792047,
          -1.2453482926680193,
          -1.0533714115403021,
          -0.24649421114555414,
          0.27940450980219966,
          -0.33488189349730274,
          -0.5398931137097843,
          -0.5109552339897185,
          0.2731984448623588,
          -0.223029297590766,
          1.8272332262861601,
          1.4699170806166388,
          -0.9160456287664038,
          1.5784531503228587,
          -0.004557687029850247,
          -0.6581559381355729,
          -0.50509118349546,
          -0.9380689946875642,
          -0.3494555799790734,
          -0.12423280926694778,
          0.5866632329474223,
          -0.6884846483623784,
          -1.785604455786296,
          -0.06605357008099612,
          0.6389092081701031,
          1.1876691303675384,
          1.4413572959191876,
          0.1344519534430615,
          0.5074531608391535,
          1.5248413433684194,
          1.607963745455251,
          -1.5850971072600615,
          0.8704294148231339,
          -0.5503461526801593,
          -1.5954016647106426,
          -0.656775286281717,
          -0.761157165807166,
          -0.29115782298758297,
          0.3635116867386332,
          -0.0722447390967012,
          1.0737708234699403,
          0.623584779789762,
          -0.7323733390881624,
          0.9381061486949042,
          -0.8611865739208835,
          -0.825143736205916,
          -0.791201000476652,
          -0.02496810517355183,
          1.0610612378488717,
          -0.663863187704721,
          -2.0063494310219094,
          -0.5380314283598703,
          -0.802453314846523,
          1.150545579085238,
          -1.496247256626949,
          -0.0660177537942985,
          0.2233703149430839,
          -1.623331177788802,
          -0.09309178283683657,
          -0.2766410977839137,
          -0.22459015272606797,
          0.042997108729572846,
          1.436773468090575,
          -0.028348870284224403,
          0.5627133165249417,
          -0.5278960003835791,
          0.31993170023515566,
          0.3926629451693591,
          -0.5198299804641023,
          0.011078112531118777,
          -0.8833852011632337,
          0.39958946855168,
          -1.1337857813558476,
          1.0851732399050373,
          0.771332989070985,
          0.31524476551945646,
          1.9924472611024449,
          0.19179166157471908,
          -0.8749397708173055,
          -0.5584570780452125,
          -0.5559555345558862,
          -0.4408726281739752,
          0.22407105126663657,
          -0.45746113843809927,
          -1.4403883298797635,
          -1.7039601535378766,
          -0.8131303708432556,
          -0.6237640856821185,
          -1.4407012628012084,
          -0.22681482952750812,
          -0.8514518080862252,
          -0.42098365096508455,
          0.7685634265231972,
          0.0825028286536237,
          1.719815757996267,
          -0.9868916831145393,
          -0.5437925359686455,
          -1.211974862500773,
          -0.4834873435123206,
          0.16414059042305468,
          -0.22796864726575936,
          -0.7376071032592288,
          -2.039020693654381,
          0.5221804639757759,
          -0.07751919180611778,
          0.723757203908213,
          -0.689657949484296,
          0.41811922083492364,
          -0.2861390531194389,
          -0.25030356887020144,
          0.0982943456633743,
          -1.100521528585441,
          -1.4006456847312765,
          0.9180131757155122,
          0.18316735686715255,
          1.121022142187792,
          0.7311654521769092,
          0.3446647332154241,
          -0.5389631164095127,
          -1.3279885702335505,
          0.2684752416441452,
          0.7036683524768216,
          -2.0621563085313355,
          -0.6846372130134898,
          -1.1024801426366577,
          1.7296183905369078,
          1.4972852394509752,
          0.1847496606601261,
          -1.5389701713898278,
          -1.2944575754581278,
          -0.23571260599506536,
          0.2368306675382693,
          -1.292266678760141,
          -0.28392195587685215,
          0.3314571839632288,
          -0.7320097492185996,
          0.6238901194448823,
          -0.20172442640407007,
          -0.23170863975993924,
          -1.184990825225148,
          -1.161171331649702,
          0.5079615128724203,
          -0.25509768718798304,
          -1.304229415491582,
          -0.37874143305694846,
          1.7112204791814922,
          -0.17215548462688718,
          -0.45721250352850434,
          0.4581682476493569,
          -0.6537791591251162,
          -1.0339612118154111,
          -0.2755165329883285,
          -0.11245650367075213,
          0.009554259594945724,
          1.0390853182177098,
          -0.11584487006732078,
          0.25982821647174226,
          0.5604282243849877,
          -0.855345916097468,
          -0.27096535413526013,
          -1.1306768502288476,
          -1.0815161844878438,
          -0.3496449789637301,
          0.3576312110082406,
          1.8352397540682281,
          0.13337933217770415,
          0.5018717313909358,
          -1.3655158768681124,
          0.00751046225384562,
          1.1115657266892216,
          1.1965784079551078,
          -2.32287115371625,
          -0.3271723283851951,
          1.5761727130667214,
          -2.4277310288363827,
          0.6743680550504663,
          1.1704157194662805,
          0.15630424538413187,
          -0.9046410684136349,
          -0.0704764081083548,
          -0.8414766830727923,
          0.9959343510348275,
          0.07317198283816298,
          0.46330337354288537,
          -1.305592959475639,
          -0.0856908141601401,
          -0.8499328961774818,
          1.142375221437855,
          1.1334474230546792,
          -0.13931520951469953,
          -0.20099901590311764,
          0.9183659993160945,
          0.21853153193875416,
          0.01580274991079376,
          -0.46776791544363744,
          -0.9651093770264025,
          0.3404897274661157,
          0.8988568214875735,
          0.9702256236358927,
          -0.4943245376040999,
          -0.6676608814167354,
          0.17186345938035386,
          -0.15348024615622324,
          -0.433557861491401,
          1.8988887414284636,
          -0.005811468526906651,
          0.8482233553586184,
          -2.126288440226861,
          0.6722415070052892,
          2.0135524579143884,
          0.46046124187045184,
          1.0763698301024833,
          0.4395934559037537,
          -1.8051471125235445,
          0.7576153778830995,
          -0.023047978242303212,
          0.981704615740366,
          1.0331223200029216,
          -1.0637980309420334,
          -0.232829626652971,
          1.5907102137067137,
          0.13106647965572696,
          -0.8239598840576018,
          0.5170569776137334,
          1.583862692418333,
          0.35288923204277756,
          -2.0768342636839123,
          -0.4517820199413373,
          -0.14380810549680748,
          1.0840698819039916,
          0.029137345575483486,
          1.8058798919377095,
          -0.1555859495504273,
          -0.31115432416845934,
          1.3197425291466338,
          0.256810838082057,
          -0.4133328245225655,
          1.6920808837326928,
          -0.3334771773894486,
          2.058943953014962,
          -0.2049680235083319,
          -1.6518574419508887,
          1.0610954239304378,
          -1.6606627115281918,
          1.1611985562320835,
          -0.37999060465212176,
          -0.8173309355789948,
          -0.38090400512966843,
          0.7982121663878763,
          0.4858727929361574,
          0.522925965658112,
          -0.586880736736774,
          -1.0625744339345566,
          1.560357348898809,
          -0.36783208080979796,
          1.2859620256980504,
          1.6077049312997114,
          0.25036361402843704,
          1.0359617366145877,
          0.08634252381717576,
          -1.004787649770133,
          -0.30680043086681896,
          0.6953696068295748,
          1.0447437215879356,
          1.0217124905885424,
          -0.026050681950922704,
          0.9591459555530223,
          -0.6063754707600612,
          0.21354427560578382,
          -0.24094353631266446,
          -1.7925680428335868,
          0.27242406013199194,
          0.704247409549675,
          0.7495581774058119,
          0.3120393332338831,
          0.9606629935584884,
          1.5016273397637685,
          -2.080201664021356,
          -0.043743170947524765,
          0.8928774800935215,
          0.07031961842195276,
          -0.3068595368328533,
          0.6207832789559777,
          1.9225889531682405,
          -0.16210071256325378,
          0.6713602083623347,
          -0.930612648660304,
          0.16726857456895547,
          -2.865299798272731,
          0.6017657741392627,
          0.6473260245518777,
          -1.6262202226360727,
          -3.0559717841415246,
          -0.2859863112321457,
          -0.23413008379202543,
          -0.29555322678490725,
          2.0779525657220725,
          1.6792546698825823,
          -0.17220646345855584,
          0.49733108693105804,
          1.375968644494671,
          -0.1668051989423249,
          0.08344147569060614,
          -0.11430201588459414,
          0.018134427557255136,
          -0.5393150468495986,
          0.5544094604616393,
          0.6421411826344765,
          1.0991455334989022,
          -1.2405577151772889,
          -2.3656183428412536,
          0.2335348828458382,
          3.115295445145649,
          0.05952071854108347,
          -0.5953164605706123,
          -1.0101407750664844,
          0.49176164803858996,
          -0.5648817380879061,
          1.2120782398813288,
          -2.0256240823903426,
          -1.8532815985749802,
          -0.8291596808337978,
          -1.0228841147880954,
          -0.7141434314443338,
          0.7548858892666545,
          -1.2087320326393232,
          0.38777871021831045,
          -1.3410350155431598,
          -1.1522875604249583,
          2.204566980874134,
          0.5180529269129369,
          0.4282306919527672,
          -0.6852318274487352,
          1.1261989491779067,
          0.5511899139934179,
          1.2451648649325688,
          -0.6392507177490021,
          1.7362609735163324,
          -0.6702101771249338,
          -0.5665059423289521,
          0.3888066127033956,
          1.30284243984683,
          -0.1746222888184801,
          -0.24767017916421027,
          1.5406314183396947,
          2.518215234676379,
          -0.6311974526179381,
          1.2236645571248166,
          0.38131404162576127,
          1.9730647607058684,
          -1.5444612740415156,
          0.17244388550352455,
          1.0646656664867196,
          -1.752035926098656,
          1.0418425047572868,
          -0.14110922829479416,
          0.7857681762551698,
          -0.8833767267094743,
          -0.847831799003001,
          -0.8115322545589178,
          0.8191518233152184,
          -1.0592375136481722,
          -0.310599050302089,
          0.35111980972975504,
          1.1743989444187177,
          -0.7214321283778653,
          0.3121743541519701,
          -0.12188437498088502,
          0.3256146681507014,
          1.528726145201383,
          0.30365154685154194,
          1.2752023996122297,
          0.4753334946767808,
          0.2148610530202031,
          -1.432550625818983,
          -0.23599684794999132,
          1.1426970078218681,
          1.2176062110531298,
          -1.1333303608394267,
          -1.8759894702336792,
          0.04204435510717711,
          0.9990308773715069,
          1.016165522858881,
          -0.7889540747562606,
          1.3966341311369779,
          -0.09515753754380268,
          0.1652695463742778,
          -0.5811983206923177,
          0.3496356897957875,
          -1.1480278140041196,
          -0.09454881761916492,
          -2.2660329288688668,
          -0.49065569863924746,
          0.33912059322858656,
          -0.4631755126402267,
          -0.43958162051089067,
          1.423572640215651,
          0.07148545556074151,
          -0.2336076849999161,
          0.23035756599268795,
          1.5819050382203614,
          -0.4390428086501626,
          0.6008054668881261,
          2.36161793474473,
          0.475457732556832,
          -0.263185319705284,
          -0.39979103189209164,
          -0.26735582876373765,
          0.6829751431609373,
          1.9861709036059203,
          0.7557097028573039,
          0.6905408606808348,
          -0.9794286194993808,
          1.8519188528352462,
          0.9212955536948911,
          -0.7080339673844925,
          -0.18269855967799029,
          1.1595828938450254,
          -0.31563296624798814,
          0.045887785324536086,
          -1.4224174648960912,
          0.15477522275739836,
          -2.3599303058472088,
          -0.25527535221637865,
          6.54744576549767e-05,
          0.8443447109564114,
          1.481895410897095,
          0.6573884242723397,
          0.24006845206740088,
          -0.12140654354089842,
          -0.3858133827962162,
          0.9209093646250827,
          -0.010024136154518538,
          -0.24648948487486846,
          -0.5378474327972573,
          -0.9699259651358286,
          -1.2174949227861542,
          -0.7822965759823202,
          -1.216312537609281,
          -0.16708855706985262,
          -0.05079160817907276,
          -2.1265125087329264,
          -0.7490447696864124,
          -0.23363779870815207,
          1.0545915138477826,
          -0.5591616810647895,
          -0.9382527973110707,
          0.09450768660124925,
          -0.4127541863024338,
          0.9819523327307521,
          0.1694143428438173,
          -0.28005444751344744,
          0.6458404260496624,
          -0.2304547961524299,
          1.8008050383136123,
          -0.036543855714394516,
          0.06285698936535124,
          -0.774496034089913,
          -1.7907508482490306,
          1.112317369954519,
          -1.2276473113780761,
          -1.1205453967627106,
          0.7595626761125636,
          -0.9184562154076168,
          -1.0382225545882302,
          0.5814442170320092,
          0.6394448037831092,
          -0.26707926074797206,
          -0.4033201251378237,
          1.4564107640887076,
          -0.952693800535088,
          -1.1633804109807573,
          1.2989018254294127,
          0.031098074962690885,
          0.6880531496023554,
          -1.3535034852380492,
          -0.5266233910150875,
          0.7068694843071147,
          -0.5146088275060591,
          1.6454472219981777,
          0.12603934425505617,
          -0.09128600768036388,
          1.1481273475405538,
          2.4780059662983707,
          -0.12255738051621419,
          1.6114783954753729,
          -0.6588561405554467,
          -1.1419176485069291,
          -1.364403242133949,
          0.24830692461218468,
          -1.7065270756389739,
          -1.3978373862889222,
          -1.7612507804544484,
          0.46377382662883826,
          -0.4372211123312866,
          1.1817010957869114,
          0.11988585580862358,
          0.17601929166406602,
          -0.7724957009621676,
          0.8423702199098515,
          1.463763282968347,
          0.7019621331611918,
          -1.7462586680130434,
          -0.8543681463385192,
          -0.4005855592640348,
          -1.9908565526777187,
          0.49717099115146973,
          -0.38680867152591647,
          0.12261875031187909,
          0.665508504107665,
          -0.1332901400661292,
          0.548658355429094,
          0.358423158311529,
          -2.6659575197354184,
          1.2480065906037572,
          -1.1624926448947464,
          1.3189991492352315,
          -0.25193898935857206,
          0.6016256552153609,
          1.7558451408098743,
          -0.4082797331986549,
          -0.3156001973914356,
          0.19404453701627994,
          1.5265553328802708,
          1.5704652603140279,
          -1.049247516346228,
          -0.7153181301186478,
          0.13823559348446499,
          2.4263446755308555,
          -0.6031879709794621,
          0.5161542431098799,
          0.07543304427567796,
          -0.5664725464184148,
          0.8406230934353527,
          0.09089387801627959,
          -0.8068434301565872,
          0.4990919191497655,
          0.5562359332875169,
          -0.35692957697218014,
          -0.26101110451194065,
          -0.5554273758003089,
          -0.48453504504081657,
          -0.31962657300268627,
          -2.047450078240423,
          -0.37517941981202557,
          0.4022794955596346,
          -0.9429431775495527,
          3.2775015824971843,
          0.9667547525380848,
          1.4228314491898784,
          1.4548882598358064,
          0.4383120716637575,
          -1.1478891168628385,
          -1.5828950110559523,
          -0.16585192323530756,
          -0.025699780598481006,
          -0.057412422351675964,
          -0.534849426318694,
          0.643565439476995,
          -0.927738483670486,
          1.0123206729397392,
          -0.08061703222099237,
          0.47193990445295003,
          -0.8231523587639145,
          -0.6845043866899543,
          -0.9297035211564028,
          2.50762920395524,
          2.3478732855803712,
          -1.5988440577287037,
          1.1967101344115183,
          0.0061275054026129275,
          0.8335549704517404,
          -1.4759756715628973,
          -1.3568970358043424,
          0.7526278054411648,
          0.41816321033805315,
          2.004074875927544,
          1.122550468436037,
          -1.1450851059341225,
          0.17399422696030695,
          -0.5902724100960094,
          -0.24696680649248232,
          0.9078618214936667,
          -1.5667265084181805,
          -0.2831760173815424,
          -0.03423935745848185,
          0.19128743098447,
          -0.6805573032316239,
          1.3093745754179358,
          1.2507302048690399,
          0.2962977012588875,
          2.8025681116758903,
          0.4437243368060804,
          -1.0032364501495323,
          0.4999653202424306,
          0.1083125343905788,
          -0.1595705882047385,
          -1.2043338161330384,
          0.9462296398384179,
          0.052041216600978886,
          -0.3112737994567501,
          0.8872347893595407,
          0.0038534748827080663,
          -0.0809582374351875,
          0.7770510993439814,
          -0.640301034318468,
          -0.38954089066882014,
          -0.9865782346779576,
          -1.2971512238396934,
          1.1558565089803454,
          -0.18300840402863114,
          -0.7873182217908385,
          -1.124991127210838,
          -0.27066333846128104,
          1.2940464306344674,
          -1.6528114887887277,
          1.4009997134132273,
          0.26761404690890866,
          1.3997791308149807,
          0.12513771697107182,
          -0.7755934759994043,
          0.7677611058466474,
          -1.9284857969428364,
          -0.8932977478451217,
          1.6723618932334343,
          -1.1984214464672778,
          0.5040485638873579,
          -1.6547728102517307,
          -1.6787745274661625,
          0.18419377727310685,
          1.3171252068483532,
          1.0121885329377485,
          -0.5223189789935831,
          -0.04772974031757111,
          -0.43027038517613897,
          -1.900941827627324,
          -0.5995006589791306,
          1.7319604915962523,
          -0.17549018055157048,
          -1.2844405374467442,
          0.5197041387153387,
          0.7333987021418752,
          0.9676785398509363,
          0.1313520476481065,
          -0.10553768468876604,
          -0.39364915743734974,
          -0.3468800493965123,
          -0.30091837288242845,
          1.1971317121271225,
          -1.3859293525562333,
          -0.9491090062916872,
          0.302407072613358,
          -1.8224891666060041,
          -0.40740019017110846,
          0.27946664130739124,
          -1.7674975862342093,
          0.42550026112870365,
          0.1960602050122669,
          -0.09922422690252405,
          -1.4566315014400053,
          0.4528440770661313,
          -0.4857838457356428,
          0.6704584953492054,
          -1.2626248947830494,
          -1.9984699837540933,
          0.5624280648480452,
          -1.0213877071719082,
          0.21871414527221145,
          -0.12787890649380068,
          -0.18990823965123757,
          1.3450142589814098,
          -1.441055960495335,
          1.6794985655140724,
          1.469099432649768,
          -0.902655948615793,
          -1.3685569425158142,
          -1.619413097490648,
          0.16622708559771612,
          -0.09165130756472421,
          -0.395429040445748,
          0.15528130556213068,
          0.7557132876794519,
          1.9043560716162056,
          1.2122096325191287,
          0.7313112451686247,
          -0.719542277944991,
          -0.2130066262788409,
          0.857301677793532,
          -2.3735409262189777,
          1.5164511931314486,
          0.16152837095315828,
          0.6824816824674791,
          -1.1278017807051408,
          0.03361731638642459,
          0.23939005850699552,
          0.997239683693917,
          -1.692738456889502,
          -0.6280012635653573,
          -1.173394907593724,
          1.0247473891328054,
          0.4769744766373865,
          -0.665934661883777,
          0.4003732626436851,
          0.770365634902011,
          -0.14577972608626433,
          0.13283769624312092,
          1.1703154548533954,
          0.7942251872502722,
          1.6607142014039014,
          -1.180424885037241,
          -0.5670554353555203,
          -1.3152154209355649,
          0.6987651216285579,
          -0.3962230233044286,
          1.2626171380122744,
          -0.3951902721504837,
          1.4847687029568382,
          -0.9893663055357624,
          0.26231473939650024,
          -1.6130282140456231,
          -0.7721028593957558,
          -0.8372810238034037,
          0.5803503050063878,
          -0.08333416464825019,
          -0.08433644341037104,
          -1.5165758808729273,
          -0.9840484222923244,
          0.634862097639418,
          2.3747109982298102,
          -0.3411871032458889,
          1.243946452073524,
          -0.5002110425335933,
          0.3842431063000466,
          -1.6857870365874728,
          -1.0614419811820965,
          -0.26147566677390444,
          -0.7259145240101624,
          0.6830446656152165,
          0.9852049657944614,
          -0.44040029963668753,
          0.2879919373227257,
          -0.3143311727696382,
          -1.2347027350005781,
          -0.6050153349236745,
          0.4168591436820236,
          -1.413662638068941,
          -1.715838203074061,
          -0.3635386008728882,
          -0.1773921639033317,
          0.12846573975557213,
          0.8157398803011137,
          0.2351011615806758,
          0.8150336604530601,
          -1.4406976389149129,
          -0.5559401963653968,
          -0.8787878865392051,
          -1.1016102656963025,
          0.42139661565805697,
          1.2879293275300931,
          -3.2733748497816966,
          0.8549896705678866,
          0.6739295665917339,
          0.28753730478436496,
          -1.1209077056072192,
          0.8031869854404206,
          -0.7663298240355866,
          -1.1995593777617122,
          0.030112389536103273,
          1.0482451590549289,
          0.9970855079729746,
          1.079607589798571,
          0.2375424320949501,
          0.765751616284928,
          -1.8497277171497244,
          1.0739744934504694,
          1.7138355817228288,
          -1.1540582992386348,
          0.20359698037209187,
          -1.6578622764312614,
          -1.9637522525493163,
          0.39861522023363144,
          -0.7280024182030376,
          0.592929654214462,
          0.04157688099533452,
          -0.05813613769938016,
          -2.424821856782292,
          0.022981480385457217,
          0.2626219353167249,
          -0.5603470602860295,
          0.8976176355779312,
          -0.14817251688746308,
          -0.1336082895024892,
          -0.7258988407997046,
          1.3440452553196671,
          -0.3212413446768711,
          -1.475787063437082,
          0.17836372273879092,
          -0.739087192524047,
          1.7411732305546794,
          0.4749929196463061,
          -0.5381327619624314,
          0.4464092468017636,
          -0.0436088360310707,
          0.6116200425684934,
          -0.6900435406797868,
          -0.9401290521739617,
          -0.3559173049570025,
          -0.42436919700377834,
          1.414267527252715,
          1.2111092336743678,
          1.5907281751376219,
          -0.2655787966649513,
          -0.6682838107465173,
          -1.0447877757393893,
          -1.397076728956089,
          0.5339941142037815,
          -0.6086866819921404,
          -0.8045459411542498,
          -0.925234062427824,
          1.0328955272065359,
          -0.21555730839707307,
          1.7753385342252521,
          0.10180393391500804,
          -1.7172480518912485,
          0.6876328173116245,
          -1.537918477538546,
          1.2589946884659593,
          -1.1303844763657938,
          0.5462379746420122,
          0.6275504268106934,
          -0.1240741333412513,
          0.4812902276763517,
          -0.6846342394052813,
          -1.3832452483331876,
          0.07920232448819954,
          0.6721207315446818,
          -0.9359847870044112,
          -2.124468511600525,
          1.2099753830694622,
          -1.2483629283690478,
          1.2209633073121977,
          0.0881666542960002,
          -2.0269108521348196,
          -0.00043089365261395063,
          1.6994166463954923,
          -0.26263781752412824,
          0.4692077257028727,
          1.814405096607133,
          -0.892478988303889,
          0.5626719438605589,
          0.6779047547159293,
          -1.8319366356255664,
          -0.6475747955975225,
          -0.25946148357755355,
          -0.06311301468422734,
          -1.1565232005600599,
          0.12259288575034519,
          1.0431741432701,
          -1.6719291755942491,
          0.5677182222709772,
          1.5675818926273766,
          -1.2318028521972317,
          1.3607302639611862,
          -1.8792612008674103,
          0.9453586604162599,
          1.6271044583307483,
          0.07589108446097563,
          0.6450162704757552,
          0.1907320382685452,
          0.8930419402369784,
          0.4227957158798933,
          0.2926204338304539,
          -0.11939287135711409,
          0.5634614290121764,
          -1.750585114848099,
          1.9235815671892982,
          1.160325253210593,
          -0.6769307735805048,
          -1.246308937849135
         ]
        }
       ],
       "layout": {
        "template": {
         "data": {
          "bar": [
           {
            "error_x": {
             "color": "#2a3f5f"
            },
            "error_y": {
             "color": "#2a3f5f"
            },
            "marker": {
             "line": {
              "color": "#E5ECF6",
              "width": 0.5
             }
            },
            "type": "bar"
           }
          ],
          "barpolar": [
           {
            "marker": {
             "line": {
              "color": "#E5ECF6",
              "width": 0.5
             }
            },
            "type": "barpolar"
           }
          ],
          "carpet": [
           {
            "aaxis": {
             "endlinecolor": "#2a3f5f",
             "gridcolor": "white",
             "linecolor": "white",
             "minorgridcolor": "white",
             "startlinecolor": "#2a3f5f"
            },
            "baxis": {
             "endlinecolor": "#2a3f5f",
             "gridcolor": "white",
             "linecolor": "white",
             "minorgridcolor": "white",
             "startlinecolor": "#2a3f5f"
            },
            "type": "carpet"
           }
          ],
          "choropleth": [
           {
            "colorbar": {
             "outlinewidth": 0,
             "ticks": ""
            },
            "type": "choropleth"
           }
          ],
          "contour": [
           {
            "colorbar": {
             "outlinewidth": 0,
             "ticks": ""
            },
            "colorscale": [
             [
              0,
              "#0d0887"
             ],
             [
              0.1111111111111111,
              "#46039f"
             ],
             [
              0.2222222222222222,
              "#7201a8"
             ],
             [
              0.3333333333333333,
              "#9c179e"
             ],
             [
              0.4444444444444444,
              "#bd3786"
             ],
             [
              0.5555555555555556,
              "#d8576b"
             ],
             [
              0.6666666666666666,
              "#ed7953"
             ],
             [
              0.7777777777777778,
              "#fb9f3a"
             ],
             [
              0.8888888888888888,
              "#fdca26"
             ],
             [
              1,
              "#f0f921"
             ]
            ],
            "type": "contour"
           }
          ],
          "contourcarpet": [
           {
            "colorbar": {
             "outlinewidth": 0,
             "ticks": ""
            },
            "type": "contourcarpet"
           }
          ],
          "heatmap": [
           {
            "colorbar": {
             "outlinewidth": 0,
             "ticks": ""
            },
            "colorscale": [
             [
              0,
              "#0d0887"
             ],
             [
              0.1111111111111111,
              "#46039f"
             ],
             [
              0.2222222222222222,
              "#7201a8"
             ],
             [
              0.3333333333333333,
              "#9c179e"
             ],
             [
              0.4444444444444444,
              "#bd3786"
             ],
             [
              0.5555555555555556,
              "#d8576b"
             ],
             [
              0.6666666666666666,
              "#ed7953"
             ],
             [
              0.7777777777777778,
              "#fb9f3a"
             ],
             [
              0.8888888888888888,
              "#fdca26"
             ],
             [
              1,
              "#f0f921"
             ]
            ],
            "type": "heatmap"
           }
          ],
          "heatmapgl": [
           {
            "colorbar": {
             "outlinewidth": 0,
             "ticks": ""
            },
            "colorscale": [
             [
              0,
              "#0d0887"
             ],
             [
              0.1111111111111111,
              "#46039f"
             ],
             [
              0.2222222222222222,
              "#7201a8"
             ],
             [
              0.3333333333333333,
              "#9c179e"
             ],
             [
              0.4444444444444444,
              "#bd3786"
             ],
             [
              0.5555555555555556,
              "#d8576b"
             ],
             [
              0.6666666666666666,
              "#ed7953"
             ],
             [
              0.7777777777777778,
              "#fb9f3a"
             ],
             [
              0.8888888888888888,
              "#fdca26"
             ],
             [
              1,
              "#f0f921"
             ]
            ],
            "type": "heatmapgl"
           }
          ],
          "histogram": [
           {
            "marker": {
             "colorbar": {
              "outlinewidth": 0,
              "ticks": ""
             }
            },
            "type": "histogram"
           }
          ],
          "histogram2d": [
           {
            "colorbar": {
             "outlinewidth": 0,
             "ticks": ""
            },
            "colorscale": [
             [
              0,
              "#0d0887"
             ],
             [
              0.1111111111111111,
              "#46039f"
             ],
             [
              0.2222222222222222,
              "#7201a8"
             ],
             [
              0.3333333333333333,
              "#9c179e"
             ],
             [
              0.4444444444444444,
              "#bd3786"
             ],
             [
              0.5555555555555556,
              "#d8576b"
             ],
             [
              0.6666666666666666,
              "#ed7953"
             ],
             [
              0.7777777777777778,
              "#fb9f3a"
             ],
             [
              0.8888888888888888,
              "#fdca26"
             ],
             [
              1,
              "#f0f921"
             ]
            ],
            "type": "histogram2d"
           }
          ],
          "histogram2dcontour": [
           {
            "colorbar": {
             "outlinewidth": 0,
             "ticks": ""
            },
            "colorscale": [
             [
              0,
              "#0d0887"
             ],
             [
              0.1111111111111111,
              "#46039f"
             ],
             [
              0.2222222222222222,
              "#7201a8"
             ],
             [
              0.3333333333333333,
              "#9c179e"
             ],
             [
              0.4444444444444444,
              "#bd3786"
             ],
             [
              0.5555555555555556,
              "#d8576b"
             ],
             [
              0.6666666666666666,
              "#ed7953"
             ],
             [
              0.7777777777777778,
              "#fb9f3a"
             ],
             [
              0.8888888888888888,
              "#fdca26"
             ],
             [
              1,
              "#f0f921"
             ]
            ],
            "type": "histogram2dcontour"
           }
          ],
          "mesh3d": [
           {
            "colorbar": {
             "outlinewidth": 0,
             "ticks": ""
            },
            "type": "mesh3d"
           }
          ],
          "parcoords": [
           {
            "line": {
             "colorbar": {
              "outlinewidth": 0,
              "ticks": ""
             }
            },
            "type": "parcoords"
           }
          ],
          "pie": [
           {
            "automargin": true,
            "type": "pie"
           }
          ],
          "scatter": [
           {
            "marker": {
             "colorbar": {
              "outlinewidth": 0,
              "ticks": ""
             }
            },
            "type": "scatter"
           }
          ],
          "scatter3d": [
           {
            "line": {
             "colorbar": {
              "outlinewidth": 0,
              "ticks": ""
             }
            },
            "marker": {
             "colorbar": {
              "outlinewidth": 0,
              "ticks": ""
             }
            },
            "type": "scatter3d"
           }
          ],
          "scattercarpet": [
           {
            "marker": {
             "colorbar": {
              "outlinewidth": 0,
              "ticks": ""
             }
            },
            "type": "scattercarpet"
           }
          ],
          "scattergeo": [
           {
            "marker": {
             "colorbar": {
              "outlinewidth": 0,
              "ticks": ""
             }
            },
            "type": "scattergeo"
           }
          ],
          "scattergl": [
           {
            "marker": {
             "colorbar": {
              "outlinewidth": 0,
              "ticks": ""
             }
            },
            "type": "scattergl"
           }
          ],
          "scattermapbox": [
           {
            "marker": {
             "colorbar": {
              "outlinewidth": 0,
              "ticks": ""
             }
            },
            "type": "scattermapbox"
           }
          ],
          "scatterpolar": [
           {
            "marker": {
             "colorbar": {
              "outlinewidth": 0,
              "ticks": ""
             }
            },
            "type": "scatterpolar"
           }
          ],
          "scatterpolargl": [
           {
            "marker": {
             "colorbar": {
              "outlinewidth": 0,
              "ticks": ""
             }
            },
            "type": "scatterpolargl"
           }
          ],
          "scatterternary": [
           {
            "marker": {
             "colorbar": {
              "outlinewidth": 0,
              "ticks": ""
             }
            },
            "type": "scatterternary"
           }
          ],
          "surface": [
           {
            "colorbar": {
             "outlinewidth": 0,
             "ticks": ""
            },
            "colorscale": [
             [
              0,
              "#0d0887"
             ],
             [
              0.1111111111111111,
              "#46039f"
             ],
             [
              0.2222222222222222,
              "#7201a8"
             ],
             [
              0.3333333333333333,
              "#9c179e"
             ],
             [
              0.4444444444444444,
              "#bd3786"
             ],
             [
              0.5555555555555556,
              "#d8576b"
             ],
             [
              0.6666666666666666,
              "#ed7953"
             ],
             [
              0.7777777777777778,
              "#fb9f3a"
             ],
             [
              0.8888888888888888,
              "#fdca26"
             ],
             [
              1,
              "#f0f921"
             ]
            ],
            "type": "surface"
           }
          ],
          "table": [
           {
            "cells": {
             "fill": {
              "color": "#EBF0F8"
             },
             "line": {
              "color": "white"
             }
            },
            "header": {
             "fill": {
              "color": "#C8D4E3"
             },
             "line": {
              "color": "white"
             }
            },
            "type": "table"
           }
          ]
         },
         "layout": {
          "annotationdefaults": {
           "arrowcolor": "#2a3f5f",
           "arrowhead": 0,
           "arrowwidth": 1
          },
          "coloraxis": {
           "colorbar": {
            "outlinewidth": 0,
            "ticks": ""
           }
          },
          "colorscale": {
           "diverging": [
            [
             0,
             "#8e0152"
            ],
            [
             0.1,
             "#c51b7d"
            ],
            [
             0.2,
             "#de77ae"
            ],
            [
             0.3,
             "#f1b6da"
            ],
            [
             0.4,
             "#fde0ef"
            ],
            [
             0.5,
             "#f7f7f7"
            ],
            [
             0.6,
             "#e6f5d0"
            ],
            [
             0.7,
             "#b8e186"
            ],
            [
             0.8,
             "#7fbc41"
            ],
            [
             0.9,
             "#4d9221"
            ],
            [
             1,
             "#276419"
            ]
           ],
           "sequential": [
            [
             0,
             "#0d0887"
            ],
            [
             0.1111111111111111,
             "#46039f"
            ],
            [
             0.2222222222222222,
             "#7201a8"
            ],
            [
             0.3333333333333333,
             "#9c179e"
            ],
            [
             0.4444444444444444,
             "#bd3786"
            ],
            [
             0.5555555555555556,
             "#d8576b"
            ],
            [
             0.6666666666666666,
             "#ed7953"
            ],
            [
             0.7777777777777778,
             "#fb9f3a"
            ],
            [
             0.8888888888888888,
             "#fdca26"
            ],
            [
             1,
             "#f0f921"
            ]
           ],
           "sequentialminus": [
            [
             0,
             "#0d0887"
            ],
            [
             0.1111111111111111,
             "#46039f"
            ],
            [
             0.2222222222222222,
             "#7201a8"
            ],
            [
             0.3333333333333333,
             "#9c179e"
            ],
            [
             0.4444444444444444,
             "#bd3786"
            ],
            [
             0.5555555555555556,
             "#d8576b"
            ],
            [
             0.6666666666666666,
             "#ed7953"
            ],
            [
             0.7777777777777778,
             "#fb9f3a"
            ],
            [
             0.8888888888888888,
             "#fdca26"
            ],
            [
             1,
             "#f0f921"
            ]
           ]
          },
          "colorway": [
           "#636efa",
           "#EF553B",
           "#00cc96",
           "#ab63fa",
           "#FFA15A",
           "#19d3f3",
           "#FF6692",
           "#B6E880",
           "#FF97FF",
           "#FECB52"
          ],
          "font": {
           "color": "#2a3f5f"
          },
          "geo": {
           "bgcolor": "white",
           "lakecolor": "white",
           "landcolor": "#E5ECF6",
           "showlakes": true,
           "showland": true,
           "subunitcolor": "white"
          },
          "hoverlabel": {
           "align": "left"
          },
          "hovermode": "closest",
          "mapbox": {
           "style": "light"
          },
          "paper_bgcolor": "white",
          "plot_bgcolor": "#E5ECF6",
          "polar": {
           "angularaxis": {
            "gridcolor": "white",
            "linecolor": "white",
            "ticks": ""
           },
           "bgcolor": "#E5ECF6",
           "radialaxis": {
            "gridcolor": "white",
            "linecolor": "white",
            "ticks": ""
           }
          },
          "scene": {
           "xaxis": {
            "backgroundcolor": "#E5ECF6",
            "gridcolor": "white",
            "gridwidth": 2,
            "linecolor": "white",
            "showbackground": true,
            "ticks": "",
            "zerolinecolor": "white"
           },
           "yaxis": {
            "backgroundcolor": "#E5ECF6",
            "gridcolor": "white",
            "gridwidth": 2,
            "linecolor": "white",
            "showbackground": true,
            "ticks": "",
            "zerolinecolor": "white"
           },
           "zaxis": {
            "backgroundcolor": "#E5ECF6",
            "gridcolor": "white",
            "gridwidth": 2,
            "linecolor": "white",
            "showbackground": true,
            "ticks": "",
            "zerolinecolor": "white"
           }
          },
          "shapedefaults": {
           "line": {
            "color": "#2a3f5f"
           }
          },
          "ternary": {
           "aaxis": {
            "gridcolor": "white",
            "linecolor": "white",
            "ticks": ""
           },
           "baxis": {
            "gridcolor": "white",
            "linecolor": "white",
            "ticks": ""
           },
           "bgcolor": "#E5ECF6",
           "caxis": {
            "gridcolor": "white",
            "linecolor": "white",
            "ticks": ""
           }
          },
          "title": {
           "x": 0.05
          },
          "xaxis": {
           "automargin": true,
           "gridcolor": "white",
           "linecolor": "white",
           "ticks": "",
           "title": {
            "standoff": 15
           },
           "zerolinecolor": "white",
           "zerolinewidth": 2
          },
          "yaxis": {
           "automargin": true,
           "gridcolor": "white",
           "linecolor": "white",
           "ticks": "",
           "title": {
            "standoff": 15
           },
           "zerolinecolor": "white",
           "zerolinewidth": 2
          }
         }
        }
       }
      },
      "text/html": [
       "<div>\n",
       "        \n",
       "        \n",
       "            <div id=\"15221649-d890-47e4-858c-1ecb1c98a5a7\" class=\"plotly-graph-div\" style=\"height:525px; width:100%;\"></div>\n",
       "            <script type=\"text/javascript\">\n",
       "                require([\"plotly\"], function(Plotly) {\n",
       "                    window.PLOTLYENV=window.PLOTLYENV || {};\n",
       "                    \n",
       "                if (document.getElementById(\"15221649-d890-47e4-858c-1ecb1c98a5a7\")) {\n",
       "                    Plotly.newPlot(\n",
       "                        '15221649-d890-47e4-858c-1ecb1c98a5a7',\n",
       "                        [{\"contours\": {\"coloring\": \"heatmap\"}, \"type\": \"histogram2dcontour\", \"x\": [0.29128502424129926, -0.25080132675350597, -2.009759707221412, 1.1972799265208456, -2.82412080629346, -2.0258532868939563, -0.8152742279968951, -0.4558579834651063, 0.5828094975658598, 1.460855103831799, -0.27627150358789776, 0.1234948110402589, -0.1251333058194446, 0.382239873213108, 1.386895295371723, 0.7001306996927409, 0.38365402494835293, -1.2129955249910978, 0.10896209054222238, 2.3682863274011465, -0.3066708708425803, 1.1691840444958455, 0.19536432238129744, -1.0333746412778952, 1.7605435969189798, -2.134172334213891, -0.999866494581173, 1.1946331509899868, 2.269556309984417, 0.8007316459439354, 1.4413350888997787, 1.0873557517464798, 0.198067345815789, 0.225476719692552, 0.9875367693480904, 0.5439366165600467, 0.4469739745139196, 0.5981980100674829, 0.4014963894059587, 0.07566306942337851, 0.5212013694359815, -0.6062215776627664, -0.7205104546589483, -0.09551973245196416, 0.7350170109021493, -0.40209712061293507, 1.1046846609256558, 1.0179350726780507, -1.4704446025485605, -0.9802988369513306, 1.711636539346582, 0.22027581216142386, 0.410659984641522, 0.7380055455173088, 1.4378478247502582, -1.5099005788944424, 0.37660730327068576, -0.7914550319773686, -0.8216338863404375, -0.5106020507153407, -0.6954640406481999, 1.3603021999528897, -0.49070148050291185, -0.9006991179010649, -1.5796673969832777, -0.3666587342618726, 0.300950187889745, -0.017030843885920684, -0.7363565379359336, 0.5942650766505803, 0.6296067117921433, 0.2578757426813785, -0.14339741604311465, 0.48121004752451146, -0.8178730248546705, -0.1179949098348546, -1.018020457519046, -1.585845170809232, -0.6195491875114526, 1.553784914269431, -0.4250998702767678, 0.39271784786169955, -0.11175234851990362, -0.5965742116001823, 2.498703395686308, -1.1829142065110412, -1.2362202861484668, 1.1581227973166057, 1.4896148910139795, -0.2779049235842812, -1.3315420354985403, -0.24587316384784208, 0.6939918641959033, 1.7041985370654726, -1.753973922226603, 0.42200637561370663, 0.7271749167693676, -0.995613901997483, -0.5758472581859887, -1.7442883072318809, 0.24140808557480645, -0.3562175089562397, 0.21624235309074735, 0.293457228884687, -1.3726893504240998, -0.26912069683587153, 1.3028043148656652, 1.091615542008747, 0.6386293948089468, -0.3991988532813655, -0.0030924968643053835, 1.458279800164927, -0.33198936433056214, 0.18639591308669015, 0.03903384127797648, -0.37342588695595713, 1.7120791306872947, 0.28246831306343906, 1.8453850029774868, 0.8001672155381531, -0.9188263000180057, 1.7801721209120953, -0.15843988704160408, 0.8035078484987641, 1.2543999415529294, 1.6047463961637576, 0.435576311370457, 0.5011359051895745, 0.08661813119806681, 2.0438317190403135, 0.2724197765870231, -0.9301478384640028, 0.9117199354333658, 1.5679571624784685, 0.3816644170808655, 0.9020800611119507, -0.4990335473552234, -0.41042287606611366, -0.33799226429616297, -0.5953369759729499, 1.9296518681566723, -0.3504741838456891, 1.108762684498157, 0.20343284490509694, -0.925580377643661, -2.117341077990366, -2.0157140301491645, -0.38198966390610317, -1.82348858376927, 0.6982136144867351, -0.8050889563482674, 0.6526850815233549, 0.26891148115719626, -0.1806068697505988, 0.10050859273626081, 0.1389660298285937, 0.3417846272245568, 0.448283491629398, -0.14679138372316022, 2.4578356795918572, 0.8854124476122511, -0.04708700099335201, -0.6871078917823255, -0.8341887599127749, 0.5119577716942458, -0.8782101853071085, -0.9062281907214839, 0.7496096103229208, -0.13168696743643804, 2.0159284621464444, -0.3363674998405159, 1.079935562047717, -0.9880735931260184, 1.0070823742522108, 0.6710818342794833, -1.3099320195865767, 0.7170574899301578, -0.43027238504496446, -1.6892987427712185, 0.09178542083344216, 1.5048384046571837, 1.4715794726074072, 0.19542782342505477, -0.7202038795959419, 1.2473348817394494, -1.949084609006127, -0.4479539855352418, 1.6877922743963776, -0.27277943129408433, 1.1004985116895234, 1.5005090416998494, 0.22279637245885353, 0.8224726540268474, -0.7080579976039426, -0.19531096122547253, 0.21079870539802012, -0.6714846993089529, 0.16629004891374707, 0.6685746754313286, 1.8020569541929992, -2.0701465204249225, 0.3235437457949486, -1.177008074097931, 1.0684385285005336, -1.207962948464097, 0.21063433457809966, 0.4586825456364671, 0.30296884046586614, -1.437339111744498, -0.8836196016342285, -0.7132659651630824, -0.49450552919413393, 1.1307999182817345, 0.25626737115941756, -0.4713289434810423, 0.27695458069114165, 1.532446427231692, -0.15251732979173035, -0.5882279847631985, 0.43469243508514904, 1.486942180902064, -0.543522948039829, -0.5544250374921539, -1.0534178529653644, -1.0861482692387732, 0.23119247740814597, -0.06745346883211935, -1.562666073406084, 0.0424374973554682, -0.9145396271895292, -0.2713708526529369, 1.3445303883366286, -1.7174896338633654, -1.3455311161688115, -0.7994200767587252, -0.6396735933818649, -0.5757773549127659, 0.5354482179303067, -0.9149418312501154, -0.12996833614440595, 1.9779193773666286, 0.7709538765580207, -0.20401491688048287, 0.5803141835079624, 0.2938807786983019, 0.22278317887613328, -0.6110786613298966, -0.10650809803006808, -0.8238177801535453, 0.16800360840377215, 0.8492966501415973, 0.19598923079164385, -1.6892765031663026, -0.8550326526932213, -1.1371508638696362, -1.439595660536824, -1.1119270337452485, -0.398783371154579, -1.6359933144457548, 0.8555032997307337, 0.06086136813524546, 0.5516948202599147, 1.1686213637455796, -0.36011361323408697, 1.5033205683542235, -1.4265205354039816, 0.05344794589902263, 1.3815727402217086, -1.3501115441319735, 1.8161928632140731, 0.2633018109331582, 0.4991027127022005, -1.8983061327295936, 2.5418920079575904, -0.15698841405957747, 0.747301992489229, 1.1987407628830027, 1.3287853730741277, -0.7633161842441191, -1.0736279394160666, -0.20950195584981313, -0.925960815354629, 0.555330882661583, 1.180246318340103, 0.07117207331416571, 0.193063056001221, -0.7417765868021756, -2.150089441846262, 0.5975672125064256, 0.8660330649071675, -0.314364151252734, -0.37198894637043134, 0.4285147958602096, 1.6703963783934077, 0.7841341523901943, -0.6219550811354004, 0.48275661218901034, -1.1158819192203389, 0.341517382606394, 0.7143737825029879, -1.649294556383274, 1.628102635833886, -0.26207544501751484, -0.38976840802401813, 1.5200449083205378, -2.6978353655997194, 0.8484153019564812, 0.22382157108282055, 1.1494858002598065, 0.4669155570370811, 1.4866128919533859, -0.2882957899176211, -0.26380559526598, -1.1587267308318452, 0.19756474045005304, 1.2383716187197735, -1.3304915605211602, 0.6857842282200952, -1.2625331458901106, -0.7366131279790296, -1.687557307727956, 0.053297268141158746, 1.0028128787871182, -0.3964883006641309, -1.1123644406523374, 0.7388810579619299, 2.3414648011748853, -0.16872248178248783, -1.0272577195063048, -0.7861702869600493, 1.8505832531691033, 1.8458930103470774, 0.04828279725964385, -0.4562136097752252, -0.4281944648306031, 1.0542336969708719, -1.083777710619017, -0.7075055173323934, -1.7620840734320466, -0.27503230393213435, 0.5430192790287858, -0.6724433585874151, -1.7215324796107925, -1.022780201349533, 0.37075103570505996, -0.11003769170838723, 0.2505100709603096, 0.06921450629489174, -1.0566709886045582, 0.04461823258649018, 0.6224385230783813, -0.701111731845534, -0.006508597285180954, -1.494932185144606, -0.9806509950580313, 0.6852711808911818, -0.13703884363757057, -0.6631819333191203, 1.7817590047614, -1.5565388060466994, 1.0038158161284916, 2.1836919679381346, -1.7087164408850424, -0.6026416548551746, -0.5353558182490492, 1.0726307827337243, -0.4542039275414369, 1.203956086145369, 0.3125906131529719, 1.449922401551676, -0.9143770714517141, 1.080399756883278, 0.20459577207922405, 1.4800468840723633, -0.19084939530657033, -0.8786982384121884, -0.0012347119886150515, 0.26202786752030655, 1.9093905596641823, -1.3400165813245901, 0.21319349461148385, -0.17760840036610095, -0.8629162304541537, 0.36127241735299237, 1.0310389161298341, 0.01577144206199494, -0.8836653087441785, -1.9198423591788214, 0.3088171640788311, -0.633460898184076, -0.2825578065286837, 0.28863086888291123, 0.975938317459121, 2.5029851037897806, 1.520836856825907, 1.5617135845229426, 2.1439208098652647, -0.14509475753668336, 0.7328423405027623, -1.1983854580230766, -0.7387684113260452, -0.018215934219980717, 1.656215185038774, -0.4197355328703325, -1.4324729713997124, 1.0967503449399079, -0.5831387609602205, 0.37390709821441537, -0.19166931424778644, 1.8000950585425721, 0.2402044449663169, -1.3930446850324558, 0.3775550863425489, -0.08369167094441282, -1.4028791531054745, 0.38242887661624897, 2.552904872616033, 1.7131978431943153, -2.1157469073938433, -0.8752789435739919, 1.4727001974019562, -0.4774844788138774, 1.2999553235413561, 0.1864676772139197, 0.016534770452473313, -0.7723509068244082, -1.4158142791168313, -2.2998835458618037, -0.045095155778484636, 0.3711618668299921, -0.3170856813395019, -1.2952580569156211, -0.8929088283159655, 0.7572014237839891, 1.6247053029164675, -2.237416451834195, -0.016755335903191098, -0.3366284819546805, 1.5627068012764234, -0.7442237495590871, 0.14733323925157277, -1.2922464965877498, 0.9676230584400171, -0.8213787831350278, -1.0062070805495504, 0.8183304473910842, 1.1862129730027255, 1.1013298696953915, 1.4452588020581927, -0.6249682794974405, 1.3451954053942736, 0.36734415574272183, 0.2948758586963869, -1.9801888933112686, -0.06938664924449549, -0.48717102090109493, 1.5056264378531048, -0.4373495242579977, -0.1434810644472768, -1.5265530918128654, 0.21658299645184959, 0.47674049128899043, 1.8842851734398722, -0.08438363491074719, -0.18692959983926138, 0.3754584037544976, 0.5949196860474059, 0.11192194906854243, -1.1004466634226977, -0.21423744737704245, -1.7847734073307697, 0.6300030522247584, 0.022258478461359883, -0.5720470637846051, -0.7327458039516794, 0.36339159486431727, 0.659751767376951, 1.992687927557898, 0.7255699975315698, -0.09732454097820643, -1.0500585057977176, -0.6315963460967691, 0.07505591634736222, -1.1155031733074503, 0.28929290965998855, 0.9557403358874207, 0.4811064089606703, -0.33313280109988747, 0.1999631736448486, 0.7134820983034369, -0.7118388378969233, 1.1243879076668741, -0.9437125133181334, 0.1713475843342032, -1.755287576220954, -0.830085422345586, -0.02872905764071702, -1.0923616438779948, 0.08107717893486004, -0.26348666419416666, 0.20508285812690394, -0.9910250557343421, 0.6784370801096652, 0.625382516895058, 1.3655200479227796, 1.3752665884574904, 0.5502133165983105, 1.6857252808523817, -0.07556080599945263, -0.7466364722109404, 0.706197075172003, 1.3790599722940888, -1.1548464354817833, 0.3917069597763411, -1.1786165998650129, 1.4241911961886844, 0.6530102734842076, 0.6434525305172311, 0.016815473390954728, -0.7995238449199406, 0.6879404382636538, 0.07782379131569751, -1.6561416031952234, 0.32334806809042194, 0.4143623185061672, -0.7675493707104601, 0.36201862315587, 0.2829026294996569, 0.37205965229783466, -2.0063822235798474, -1.0233519380907192, -0.38169312328633404, 2.1791359203959573, 0.39791501196764706, 1.5091236461082724, -0.004912005333143615, -1.0016220036293306, -1.62664929100681, 0.5270894501422579, 0.5271261413461195, 0.19052807541134298, 0.2763205810189537, -0.04427480192986647, 0.5213535860862544, -1.4738817860199822, 1.491174395679897, -0.031062647675715475, -0.43518969757005305, -0.8670832227755342, 0.07743011630251052, 1.918077797880388, 2.0950541283599198, 0.7634886657840072, 0.4309271659292157, 0.0822045301170127, 0.2695928679334992, 0.8392231360635072, -0.5278834808762158, 1.0281240583788909, 0.37828034526523746, -0.5576541030025883, -0.5474151655668342, -1.383050022384505, 1.0449639342580397, 0.634720633264886, 0.3869223407122954, -1.0047563741880248, -0.9031869623580248, 0.04949210340601367, 0.8961848121477279, -0.40906966849548176, -0.1660877705174124, 2.2129913189092174, -0.8023780909898229, 0.06457957864800126, 1.9443695806380505, -1.1782465811014027, -0.858950781615117, -0.6033106082344293, 0.04400470936275619, 1.3998011589388017, 0.5019805193123813, -0.18712670740258724, 0.7070507940127571, 1.225821427925222, 0.33514382646712704, -1.2376939002384275, 1.3388474087964648, 0.2693077314955658, 1.210228841712316, 1.1245396926512177, -0.11922456293146587, 0.20929184076497187, 0.8154693122358653, -1.1464185466532593, 0.8847919046470087, -0.3617410888889167, 1.360261026502166, 1.1039928754335386, 0.31519386692131135, -1.425707710362733, -0.3838439491120995, -0.27881414132605553, 1.7115573399028767, -0.8936377284487501, -0.919044346697009, 0.39818248593120165, 0.03631825942035834, 0.9127445393843249, 0.4916952966529612, 1.270869272077203, -1.0240073475735603, -0.6011060727138291, -0.7035505176105151, 2.0371353991910515, -1.6434863022711954, -0.31887827875947444, 1.2210223194873675, 0.26160642757520125, 0.47050244498199645, -2.238664436828176, -1.2305919283823943, -1.3476143784286863, 1.2830406077283016, -0.5583434614534246, 0.17005200912574653, 0.4013526486546831, -0.6821533764179459, 0.8561199240573556, 0.30075881409817196, -0.7549483782290154, 0.036831324306638685, -0.8315029117380848, 0.06351499771682823, 0.4487053955165985, 0.17327903779811007, -1.7395002587362343, 0.1224017276080642, -0.6200856749845783, -0.5183610454150803, -0.8247574985521603, -0.49695645584380244, 1.013599112868057, -1.313524488281159, -1.240813472982541, -3.0635501283101645, 0.5199610775219373, 0.7755594977187602, 0.30686612544781666, 0.6426997201207083, 1.3289175331463432, -0.4637912568492178, -1.0139409276998672, -0.0005196940990272015, -0.3494132567800611, -1.3010208867257855, 0.7623241118958868, 1.2146477813721352, -0.5371098037280323, -0.5626872099143436, 0.20815139337475957, 0.3589629333013019, -0.37854091437465176, -1.421734641682921, 0.10453429174989491, -2.244665841212561, 1.2462787531439654, 0.16791301719588864, 0.12003683543022739, 1.183215002308031, 0.6519221985787185, -0.5344685038006993, 0.4609240265110553, -1.4489475816219932, -0.348240346965526, 1.9469520944981848, 0.3792540549455692, -1.0451212644911239, -0.37019143741662563, -0.3697400707510478, -0.08118461314236905, 1.1982358953624033, 0.4671335225580482, 0.33133588403523656, 0.9803364074504537, 1.3096824311975488, 0.2049983560727199, -0.9148898554844901, 0.45779044523994206, -1.0780878200406996, 0.1992998018059355, -1.4540857259702353, 2.485034727712837, 1.9941511962949379, -0.054178306470394684, 0.011188291326310825, -1.7874887679680511, -0.15298394635645188, -2.402560060451137, -0.8952925324011313, 0.29232526036021034, -0.8430053715622068, -1.588341419416791, -1.9150690497640692, -0.3754549247790395, 0.7289605084872024, 0.4298269745622357, 0.24901204936596605, 0.4247553541453559, 0.8960717178284764, 0.6056254240710603, 1.2150930293013653, -0.32499631564237613, -0.3780426598344224, 1.3204068308909809, -0.6778780050080132, 0.15723109853155112, -0.9286613429542396, 1.3196940401578903, -0.19164703202960395, -0.07756710293450027, -1.284903530917483, 0.9939325402147741, 0.7375248349473816, 0.950563169971308, -1.40121388445322, -0.5023728385599175, 1.1137222628695844, -0.7694249271351222, 0.2250417205323085, -0.32977568272309493, -0.4611178887960187, -0.7249678146746549, -1.596540918990746, 1.7265338140160464, 2.210313670393393, -0.7254290429759382, 0.7502413000688879, 0.5180787903370592, -1.9801107006568004, 1.5661833567062113, -0.5693960836381479, 0.7598236255129565, -0.46051365677118183, 0.6687391307222029, 0.5086593791927599, 0.07597450422428542, -0.6912064024183353, 1.8466354089515706, -0.732401556853836, 0.8843725834932805, -0.09677443671071716, 0.7634864435288511, 0.08846170986856602, 0.24930021061013646, 0.1626989740294246, 0.3847225303385913, 0.9985622338455666, 0.7412666254047251, 0.04562384926007659, 0.40254986902016565, -1.5898642146126944, -0.9811283194673521, 0.9604812535321525, 1.3740898757120812, -0.38991759536118403, -0.9797252741625032, 1.4531767214700197, -1.2394032028631063, -0.26500699391888954, 0.6362829431666178, 1.0230034459145885, -0.08814811929727016, -0.17661202603345222, -0.04934545382562089, -0.2702962362513402, -0.03861787613743842, -0.8795849283113223, -0.2813542242429309, 0.6947874430731684, -0.3996529705877006, 0.26269678498976695, 0.9645404420110951, 0.7111882227998945, 1.3916973437372844, 1.8359312602275653, 1.414824418817434, -0.9272819899855903, 1.5304191677312664, 0.560735568591204, 0.6406875119627119, -0.6304380502983133, 1.6403690474551302, -0.45871342290980865, 1.0411787012704998, 0.5405584208623444, -1.666781611023237, 0.3808756563278921, -0.28665657382979265, -0.5291819633681158, 0.10390245904281814, -0.8182919027239676, 0.7852611398034256, 1.2214154995556805, 1.2345063818099928, -0.8894042828748725, 1.092644183861708, -0.549231850599214, 0.5161122190518139, -0.8397003637603707, 0.18096936067613828, 2.1103231497674235, -0.48754215339768686, -1.0928840647620708, 0.19216703149426956, -1.1169848130504025, -0.0681644012769032, 0.29776848186182714, -0.09367745633078683, -1.1742252541607148, 1.5147876834838514, -0.13076057441862265, 2.376801901738662, -0.5123614612602763, 0.4836455146182961, 2.021291729861442, 0.26609084361131785, 0.4001318985963468, -1.2715471789131514, 1.5846848787451007, -0.04055967635543952, -0.5567019298503931, -0.05223306720247382, 1.8249290353699008, 0.6542937301643241, 1.3556167259111995, 1.6105735845614264, -1.3678427216956992, -0.14679278733756676, 0.93325349591294, 2.39161385202778, 1.1088468971318788, -1.538113972442731, -0.16895962073563991, -0.5348846457822158, -1.153750215579103, 0.0055490904398428, 0.875958067723889, 0.5319082999495488, 0.08713291621837423, -0.061638483752152674, -0.5835004437572486, 0.5305493789262841, -0.21716982953945926, -0.76321681541348, -1.7883078967881225, 0.953166076589848, 0.4232944242225948, 0.335598724105143, 0.8093373631045716, -0.4568248735121239, 0.7339811519696838, -0.14596239138974995, 0.21487026324128214, 1.6981018293958912, -2.168068488723732, -0.6512985071541404, -1.6929714700257672, -1.0631561534679985, -0.5613963479328685, 0.5406701398199687, 0.16781886849015737, -0.7107769961310046, 2.4637034311051065, -0.028225231101661554, -1.3844853383682154, -1.984362280585505, -2.483116478387071, -0.3735882470687267, 1.0318607996554177, 0.2830045223755928, 0.16604542844175352, 0.5084547872772309, 0.8776167685795075, -0.8483941398932703, 1.1631534518489741, 1.1091880485017278, -0.6592271077522882, 1.0959202714301888, -0.10221959123958715, 0.08748564638954577, 0.5386395627235511, -0.6327853066575733, -1.4620214034849517, 1.2296727964611955, -0.6746496381801939, -0.04977176886507465, 1.164938941258392, 0.22958882315445084, 0.13266602930892782, -1.7723013796972475, 0.9363146800573894, -0.2534336709231823, 0.8426016512677598, 1.3045367810250892, 0.4544315375936699, 0.9535585825207864, -0.4833308976356619, 0.053766974503593315, 0.5741922423723926, 0.5021427335972182, 1.9632215070349432, -0.5095229875677385, 1.0696246011852961, -0.8172356628932517, -2.5576645635683346, -0.995291019069326, 0.42360163148787405, -0.08743999312669821, -0.8443728110753781, 1.0072815870599519, -0.08164607117824321, 0.7454242241117622, 0.29579102976137894, -0.6421886705569584, -0.25437095109832125, 1.0490468673861042, -0.028076490002369933, 1.3795434089329444, 0.26316179174076015, 0.39234996575924735, -1.2217167338141426, -1.3564778793794758, -1.2081002035147963, -0.6004642384856419, -0.26263909089692905, 1.882739984952666, 0.8376625707610659, -0.28435266131787, -0.0013460982237117835, -0.08602432797663515, 0.2520898081058323, -0.7387581700788087, -0.3296247917546237, 0.4856516540365141, -0.8351584822888986, -0.36935937757789483, -0.5045449209731089, 0.8140690349502842, 0.1273315332549709, 0.0863049308820091, -1.6048934215958348, -0.044000462285708954, -0.10897759211822051, -1.0175630002789404, 0.9926453990914615, 1.1745350264630248, -0.9041120836147899, -2.833778245621284, -1.0220178113022045, 1.821787964881897, 1.0515679545607999, 0.4744953566860539, -1.7966690616109644, 0.5203272593455517, 0.9474084367821153, 1.1389563755441487, -1.1000671224330951, 0.13985236402936047, -0.5863444612659797, -0.9940754091770366, -0.4745391200794244, 0.5884671576277417, -0.8320945970220941, -1.8959773835025535, -0.11663510151096042, 0.8609235365264992, -2.0092290120634555, -0.5124946887487605, -0.5589667741198678, 0.2939461193522348, 0.53681749940572, 1.150246922519459, 0.08756059177780368, -1.5279971982857516, 0.8462014235043783, -1.7345530510868281, 0.6297123818653942, -1.0760432103565476, -1.056503173184174, -0.3069769164896954, -2.699807011372196, -0.05325602821085685, 0.6644342541536254, -0.40766578537561626, -0.649188806869367, -0.30447317587077166, 0.010265729523275275, -1.4118895915710103, -0.6148588459110775, -1.0982032788460738, 0.95832246734873, 3.4820420214871355, -0.5994502958432867, 0.44453920837332367, 0.9099550286388053, 0.5507803055952156, 0.4686260696458004, 0.8378746875425913, -0.012730361923997579, -0.5594106691743064, 0.5773012680872303, 0.42854816620326147, 1.3981292366548506, -0.9672418882299285, 0.43505304186306126, 0.16056545868716435, 0.06420239170002703, -0.040234435739895144, 0.8627747027774946, 0.3396384924983646, 0.22384913517302263, 0.5849985539220643, -0.43850000541279244, 0.40726170811266005, 1.0311132354396355, -0.8793522927145521, 2.2082515042539237, 0.13305938761595318, 1.6983856315680252, -1.0923033769936694, 1.6392332781466377, -0.4551096428642982, 0.35313829410449793, 1.559066973165872, -0.24601522818033644, -0.11509040434347671, -0.43017175600771485, -0.3852749534634207, 0.7176068446687601, 0.17907507011558213, 0.1624518679440098, 0.012566587872620773, -2.474297908404039, 0.5295923799203013, 0.33320246257916264, 0.6345792217544705, -1.0612117778254184, 1.0524334149751555, 0.15187805986357447, -0.751926535525638, 0.29159976877878624, -0.019296366053589253, 0.31453613913750095, 1.720375580987959, -0.2095706777900393, -0.8756911839512213, 0.22435935504121235, -0.4063389199007487, -0.2230150676334476, 1.974691752296639, 0.6984670148743154, 0.2094197290418154, 0.6645350394584971, 0.7215727137129314, 0.12572853281600985, -1.238036365038374, -0.09125440996159348, 0.8153948721642587, -0.006271307925965989, 0.06901792863421749, -1.444775897315584, -1.5872666263444417, -2.086787174511285, -0.5826051796623026, -1.543022933614234, -1.0476192505430515, 0.3651387325279395, -0.6901088471425417, -0.4244975845000434, 0.3245768923325461, 0.20633212332288137, -0.3826334045011207, -1.537711942415646, -0.17877890185376877, 0.5860031419953898, 1.319492414651913, -0.6891180742838691, 0.2917825183340746, 0.7499990035955526, 1.9420788946093313, -2.301428008723641, -0.4417820341585328, 1.0512428143944557, 1.2154722396162891, 1.4230018598531158, 0.11406038657754607, 0.41136046933262504, 0.6208946954191887, 1.1027123547522057, 1.437157171040389, -0.46594607568264823, 0.1254271656101777, -0.6987525360508109, -0.650237445926879, -0.04150260564058109, 1.160118577566626, -0.5870267119081265, 0.8873269009883094, 0.6719696764880748, 0.492575099422792, -0.7308361106295052, 0.5426514484287425, 0.6892555150641713, -1.6353075412786975, -0.8451344924717819, -2.1104234965723503, 1.1437738294948, 0.299658685984192, -2.0655815287677717, -0.387810198890247, 0.6761349180277745, 1.0207719204406418, -0.4344726233610007, 0.5678515374209961, -1.2471221688092502, -0.826771682066052, 1.13206893891295, -0.4119926631370421, -0.4791025542648007, -2.43081325275135, 0.20318168858896263, -0.7312576811330459, 0.09176916006602662, 0.9044423029727918, 1.4386476122923797, -0.8684142854553794, 0.5592530911178718, -0.81930524799708, 0.754484767659686, -0.8265111301835675, 0.6897278201241489, -0.455488761370913, -0.3216988728495084, 0.7481513981106716, -1.2984604450988302, 0.5986028750764723, -1.2590502737014229, 0.9393677673067733, 0.3192770111339814, 0.19287089131297813, -0.07509258816857584, 0.06705780659009342, -0.39847955956156056, 0.2626734587761434, -0.6237003750640912, -2.4475989598547003, -0.6276646948664856, -1.185059615943055, -0.20115833256349797, -0.2463350593166494, -0.253152432241667, -0.9213374232649293, -0.5837575923892209, -0.08712380743765666, -0.2532070658889704, -0.23540875204900322, -0.45557204135497364, -0.6735397830629538, -1.0316676915740395, 1.1242217180744127, 0.5994739468358321, 0.21428431561264366, 0.4556705654435354, -0.40935032679265365, -0.17352410135027735, 1.422599662131468, 0.06662795485681622, 0.5763250480467434, 0.8585330441008382, 0.5625117659037072, 0.2635439186019461, -0.3594593047640842, 0.3694182568571751, 0.2213646459420464, 0.14575959502237407, 1.0674620844102747, -0.054532535645212626, 0.8233813112407038, 0.4842713906076113, -1.244563793198698, 0.0998417188741337, -1.0984047676839592, -1.1232516729880522, 0.19850405697881507, 0.4095948081788834, -1.5450753745890615, -0.7450726793267349, 0.3218343507726032, 1.025337975125967, -0.26079111889457257, 0.42374819517388423, -1.162359864964743, 1.0376450582722505, -1.3279310988991657, 0.6593430041875791, -0.36684773507525625, -0.02536311798293537, 0.2815771650973012, 0.1733584456869649, 1.5173422152112426, -0.12079805781146158, -1.570639853640244, 0.2611253293480849, -0.8476077929208365, 1.464914797573618, -1.0670998437176775, -0.75078119822707, 0.6756799477090439, -1.123643225504178, -0.5219888175257681, -0.11490431987247211, 0.8640271899549661, -0.8603203188017309, -0.7910242561056586, -1.6702037553072733, -1.8078003427269773, -0.8093241544834373, -0.14739928886905465, 1.783371650061526, -0.5484263037933266, -0.041727318786103196, -0.8303690623220723, -0.24058809954412452, -0.01071372421557577, -0.01235609931825272, 0.4043544429090125, -0.4213942161965596, 0.8121114477122892, -0.42896000432246034, -0.003487710672688532, 0.4114140288135568, 0.1755182677872306, 0.34443181797575023, 2.1954736613299732, -0.23782271694526258, -0.6987780464116848, -0.17565783441534408, -0.5446665373438535, 1.2673979761202097, -1.3117906215032138, -0.6328615173674694, 1.3090960259371967, -1.0925817745388564, 0.2819709487256205, -0.8615402472259078, -0.38394327519257865, 0.2173660773132759, -1.2442723706089154, 1.5302984687090446, 0.2597529372966221, 0.2466412499430482, -0.8795023159985553, 1.1417502001892457, 0.35246887716845315, 0.7385376946256776, -0.5498197200353537, -0.47772231960231315, 0.6414968317723645, -1.0124746478524813, 1.8320582160792611, 0.23566219663767649, -1.1256713879630647, -1.137464344211813, 0.043210269000318276, 0.09827657319210845, 0.20980920375931372, 0.6891025311325352, 0.2592328933272934, -1.4211484333607562, 0.4880086845641392, -0.7736767013187886, 2.128984455812058, -0.3727368339212077, -1.6119972521010975, -0.8663273530564696, -0.6996667981403675, -0.025850214013246223, 0.71846776430271, 0.04130681026465026, -2.0456562269742498, 0.09672560736341192, -0.19102606740061115, 0.05898492966163825, 0.8988762814025731, -0.8924400893817083, 0.5687233958367526, -0.5076663581543323, -0.15558467767740125, 0.6752523259712132, 1.9343907973604215, -0.8144578703807559, -2.2166415084000537, -0.3054994171989794, -0.8300569287585097, 1.022513725573348, 0.3745484190652339, 1.2837055478018788, -0.0382305408702754, -0.8259830573144545, -0.7543687512460471, 1.458531310300737, -1.0750835584595126, -0.09185195531384917, 0.7922128070217828, 0.9204234735800422, -0.26677329237716807, 0.012016810781371743, -1.045433297065074, 1.0505362340058477, -0.8834497314609044, -0.753950917834729, -0.9881905552593443, -1.2774719531753513, 1.0421640372311372, -0.39800873487334093, 1.1238442448395853, -0.6891697603295032, -0.6778980074314891, -0.09464922558024905, 2.2725367229566875, 0.391678439358277, -1.0506369688486368, -1.2631432820213393, 0.5378685876486516, 0.36687182517006744, 1.394343438416174, 1.3192330248801816, -1.8834579909568339, 0.7013313855165492, -0.6631181088257456, 0.7362804234158572, -0.5754622861830255, -2.0337760484299343, -2.0815271991672892, 0.7123768741239173, 1.0526330947661553, 0.08827683832123864, 0.5851493265869345, -2.059299840053641, 0.5618941546969117, 0.0025179656363188505, -1.3570272803201804, 0.46597752208672805, 1.4207142363228822, 2.6355418958516905, 0.5492278040834357, 0.02006663267714708, -2.584297256155842, 1.5524959551933701, 2.1166997167058215, -1.7056216714665697, 0.4204081642388942, -1.9798878738003232, -0.556641316126728, -0.7049152319711821, -0.07542719698755802, -0.9126324886952993, 1.1963931826480645, 0.6130179243321803, 0.5878781145178226, -0.4090097029242555, -0.5859459978540483, -0.30289600559035523, -0.5007822347212886, 0.6100320215450704, 1.2005173928842419, -0.8849431097701741, -2.1464655336723424, -0.10219934170322631, 0.7534073481187875, 0.792186951152215, 0.0879779600614762, -1.0796619746066107, 0.08736734067880458, 0.09472948157450573, 0.4409798806035772, -0.586881648526692, 0.2613167664794407, -0.17672289743606337, -0.33886942417901683, -0.4460460213311071, -0.2156357591393556, -0.9647017246710836, 0.011163641583778491, 1.2425629856611766, -0.5333744722761959, 1.0002317013697528, 1.6801854533465197, 2.4551355368036547, -1.9850824923683563, -0.5413063396558208, -0.36259068776994696, -0.6789400590018458, -2.0587420925806748, 0.2973710362280208, 0.4182581548777197, -0.41520137318453093, -0.1717470893937908, 2.1913655123142335, -1.188096856875596, 0.769590086342854, 1.9991330527872604, -0.3023220463182566, 0.16273945605732923, -0.17099561374388364, 0.5175233666811463, -0.6320205891872293, -1.0792979178102693, 0.8073834596159781, 0.47296645665507, -1.4618138890195946, 0.8536947544273756, 0.3884982479083336, -0.4914640332588758, 1.5299634731384777, 1.1106940324516428, 0.10335708703010192, 0.3332141165024831, -0.008386886526975463, 1.7786800596609675, -0.055825758904407566, -0.9000906221446011, -0.08373193708806895, 1.0810654827613897, 0.31381213611335096, -0.23020609926668215, -0.09333183214128406, -0.8100485508585024, 0.04161393155573913, 0.6047860653179974, -0.8653463102425991, 0.15882235463576702, -0.11729342763391169, -0.23758266235790762, 1.8487617438243886, 0.2726775269330434, 0.04117292291118242, -0.3979464136487431, -0.28056216864986794, 0.25468264357751286, -0.16972333655110408, -0.15345855709716602, -0.7125534034304647, 0.9993940521135221, -0.2956761042102723, -1.267977600040337, -1.6783685813986293, 1.3121326051128996, 0.2936705166477493, 0.7386562249412972, -0.9469957461420204, 0.9771120684966176, 0.9193044917911888, -0.22085287409754836, 0.5168940850458518, -0.32940317838978717, 0.5670654647083258, -0.03096525019387066, -0.2204639552048403, 0.8406028288023697, 1.7738380021160869, -2.3169579241495506, -0.9724108785439167, -0.8188901156543142, 1.1379220499715181, 1.5042780379859242, -0.12075108228362604, 0.5343804025587566, -0.5980396949582559, -1.7287400772429269, 0.9546831389089638, -0.469230187890885, -1.5565773906549683, -0.6838455976877922, 0.02172961814262028, -0.531491397564761, -0.13556209987002701, -0.866620273007956, -0.7098823590144515, 0.8883180756482926, 0.38863310919055183, -1.061195967544763, -0.487353969880077, -1.5889728511509553, -0.8120884810504175, -0.5956301832074414, 0.008115162534703289, 0.4011332320838651, -0.8189087536398758, 0.324384437030269, 0.9182865492089272, -1.8098372906902516, 0.37568158111963157, -1.0767380886983935, -0.20149635465515922, 2.8054741952188222, 0.7110785829552578, 0.8566193856952559, -0.8491614482749436, -0.5876994335279657, 0.6589084449357102, -0.22723645362362974, -0.3932333073497973, 0.38561599824205683, 0.16159633788279373, 1.1651604261438289, 0.4384045232418699, 0.1839221361713745, -0.07477518886538813, 0.9532999373451011, -1.3885190345211127, 1.1523670030534336, -1.0531705532818416, 0.5642112600610671, 1.229517311867505, 0.45460624061181537, 2.1911717224263634, -0.3760877823479221, -0.4802697076178582, 0.6347046303146171, 1.1159633569338583, -0.5817843641468361, 0.0058467042164593265, -0.6246594798884932, -1.127441652186932, 0.4149711048300041, -1.096556092007184, -1.414896168136103, -1.442403545917947, 0.9747588587575993, -1.198732205618561, -1.532786651123954, 1.4132469311988594, 0.04283729891747743, 1.9555826007127695, -1.1264924043064017, 0.10882748967344852, 0.480530789212095, 1.0977416723082463, -1.3971610673047214, -0.6255309330385247, -1.4710046053018797, 0.9343503819881942, 0.18670481414827872, 0.6855559775508543, -0.27563239511181853, -0.3179732397236558, 0.5857103984327933, 1.0122201165553208, -0.9739734510008308, -0.025634620274160195, 0.525667718365441, -1.3911890184858786, 0.2875409614893606, 0.6309298999315316, -0.0787472166669748, 0.4523788767354661, 0.6003517863568429, 1.0663620475019198, -0.3054826483754636, -0.3303139962720668, -0.07323636132424487, 0.33646739435349826, 0.04937972533652983, -0.5766127138150686, -1.299594100627176, 0.9301482423054876, -0.8393104952061867, 0.8380505639093151, -2.8314706526562303, -1.111308589262449, 0.034086003740635015, 0.22039995966313003, -1.4451137013668485, -0.7979738364175967, -0.5620068589183619, 0.509475959707243, 0.9621986689789636, 0.03342333873283472, -1.2617726117676018, -0.5404959318314396, -2.5288639379090734, 1.2193543638238649, -0.4465133934838622, -0.22875970258060066, -0.41230039817751957, 1.0446585935466213, -0.5278413587962059, -0.5975644715764987, -1.0803293549630844, -0.5475024296234575, 0.280374354457131, 0.3773850683956785, -0.12282510173545874, -0.4556642631515911, 0.1722430206715519, -0.9483025577651147, -0.876053058156183, -1.3411210751108043, -0.9540153938625163, -0.09953253281469651, 0.8887620716059805, 0.502063219656649, -2.1893108353676185, -0.4862085243733026, -0.00040361107840583164, 0.4005408016810704, -0.46700144653523473, -0.37578470294384725, 1.1245132312561352, 0.03153427462078454, 0.7039816398526788, -1.196690121760039, -0.6947182367151074, -0.21038537120388556, 2.669686749738624, 1.5545277157272857, -0.9337292190842892, -1.5598637045086106, 0.38382118570111373, 0.37646300329046617, -0.33713797639448834, -1.3704044996183045, 0.18708821200000353, 1.1775050448945394, 0.7527972741916283, -0.21001961797532798, -0.2859745744727028, -0.09311133382306191, -0.509603338010962, 2.1224919039515475, 1.6973492941951671, -1.5962926490972202, 0.27244534054886954, 0.1692883247660236, -1.5194125183818001, -1.4177479296341222, 0.11224734012210624, 1.8639427847063121, 1.4507394432624543, -3.383244864634014, 1.4263234522068533, 0.5663141963402221, -1.1847244323707629, 0.6803139518532035, -2.5140420064531876, 1.1017025681312318, 1.0022359472941187, 1.775271800033939, -0.26262922440879166, -1.0923604968440412, -0.026362391685427363, -1.7582507732309887, -0.37850326137216656, -1.3123346887525817, -0.3264063240744892, -0.8076284092415839, 0.29468687946620536, -1.7404901166474411, -1.439210564167257, -0.012999840186010548, 0.3541983909664851, -0.05617832726392626, 1.574067066468471, -1.4033359755461048, 1.5164774179783922, -0.5303200502469124, 1.8065703223223548, -1.188566694289141, 1.2929244098687154, 1.4892201910904501, 1.6568986396049719, 0.7772884164757026, -0.6008767884033664, 2.0976694337446373, 0.6016785788395465, 0.2560260715376178, -0.6076204365429684, -0.3039785307470983, 1.0636117303312727, 1.1445661009679486, -0.41174261190886413, -0.9965487919539274, 0.14473873205405086, -0.49404132720253174, 1.1384310904168602, -0.9203587650421818, 0.6687807890328172, -0.5978754071561313, -0.0379084615863588, 0.909676304262043, -0.5254515562966926, 1.133911641987734, -0.7826698609357359, 0.9637873974965131, -2.179501207935476, 1.3852058950897395, -0.19052292017050554, -0.36488926994585297, -0.515920788811983, 1.3704953659876515, 0.37988069513562617, 0.6234469230845501, 0.12554269013528913, 0.3795084812091465, -0.2952217802441127, -0.11059700316524951, -1.1455816092458095, 0.3101667137946923, -0.10715344761141765, 1.7444268830323428, -0.9589164532698594, 0.02476184544158057, -0.8645410520595721, 0.25220614236091704, -0.4786476052535572, 0.42408478337656924, 0.29086926813056196, 0.7704906370097845, -0.22301335275830936, 1.6130852552125903, 2.067080469944648, 0.10769993102554354, 0.23843339202787206, 0.8288203460628969, -2.111917341137807, 0.6523128617060878, -0.8304739678654792, 0.22366850821691028, 0.9753044703628005, -1.5859829329954065, 0.2959887454675787, -1.8792430642922022, 1.0929167624679692, 0.47294938584749985, -0.6086447613000601, -0.01582975187038206, -0.216170315894062, 0.7453336388219376, 0.1019943700134089, 0.8335576162191755, 0.28099065714343796, 0.7846089592014255, 1.416309690343853, -0.2676700819748136, 0.34270492155073173, 0.40318140664758245, 1.5522063335158822, 0.24485103736707084, 2.93477410820957, 0.46396930874332415, 0.2516757507822113, -1.4076968808804673, 0.8806410473280486, -1.6329001180826281, 0.2742658392704616, 0.18919672901584866, -0.7237993124939625, 0.8498615602797637, -2.011756689063589, 1.1879892112476813, 0.598828056242983, 1.0885169570079227, 0.8837641629184275, 0.7173983740178268, -0.5521409068233932, -1.4159559580063206, -1.832322783785515, -1.1050761993200382, -0.2010132479793544, 1.135938212700261, -0.24803845128308322, -0.8589675774404498, 0.2961092383064623, 0.19781863161997235, -0.37266065920076125, 0.9516399540301411, -0.18256061406723967, -2.4298017920769905, 0.9905240957999072, 0.08948645819147014, 0.11827113505128786, 0.6719941994844788, 0.890117602807901, 0.369465680795216, -0.09519870968714043, -0.712351318296841, -1.0882918841124978, -0.0004853987001513027, 0.4287936800775547, -1.5889243225266838, 0.23020380609690355, 0.8183845209534374, 0.6126916814288635, 0.16464912823731165, -1.6104541126374712, 0.46394005873715266, 0.752834587842805, -0.21796196961585393, -1.674334736368562, -0.15854437315374656, 1.4961549729098345, -0.6053909690064392, -0.24268086265287564, 0.8039864611997046, -2.8946615976416523, 0.1468037213897827, 0.1778579566798401, 0.8165809146444406, -0.6435615418172985, -1.3084282135102434, 0.20590145899537524, -0.862089724162381, -1.6202509656325943, -0.7848151879394152, -0.16416753046899235, -0.47541820272742874, 0.5995472839289785, 0.022491748912736503, -1.1292853204896922, -0.0831439993388332, -0.25958684675434457, -0.6448748556410376, -1.48174571756931, 0.3494263026616763, 0.27460236689618345, 0.9499053707427726, 0.13674970925085211, -0.6638103335672431, -0.2701842570871561, 0.5927071810040534, -0.293720155798587, -1.1275668742434077, -1.0958120925276849, -0.33567661065282245, -1.77129749296946, 0.14605843373395772, -2.1201703607994915, 0.07487839603767031, -0.4628946513476238, -0.8555959360877774, -0.24957655380402874, 0.8984152596292537, -1.2566596735242068, -0.8976821279451632, -1.3419915906073052, 0.6521663599395116, -0.26418944042673165, -0.19524691762851665, 0.2770371490657761, 1.131892692567961, 0.32349703477294733, -0.9182504993501487, -0.18920433140027065, -0.9116549207433176, 0.4943889038484579, 0.8057184999030765, 0.11798190838836849, 0.27998387296815974, 0.2463901561801512, 0.6262526970368527, 1.597877684987374, 1.9332257230346976, 0.43859290423212816, 0.6636628121209502, -0.5283902376058506, 0.5681961541564207, -1.056276026440826, 0.7483611846611586, 0.11728148484364352, 0.9851426209804807, -0.4431437569239198, 0.2802674796335557, -1.0662641180771257, 2.1351857367563505, -0.0798133767610728, -0.1269365142760042, 0.07717010038960666, -0.48883818211549435, -1.5563537953009774, -0.2809899817992507, -1.6192306345508922, -1.3431471410218172, 1.1923621497472192, 0.23240385025200402, 0.8176332414403568, -0.03400894657747339, -0.8122238167534408, 1.3185736136192687, 0.48075505483612785, -0.38627730472907357, -0.5523897956008466, -1.987468905394565, -0.8413692149949927, -0.8021149454436619, -0.7740053211795851, 1.132702845762528, 0.08712256342677771, 0.9416538295895186, -0.06986778475051018, -1.5402213957076683, 1.546054792914098, 0.29005771472846226, -0.3606169327967463, -0.35576325808079085, 0.5420659181147386, 1.4276330770517842, 1.3385894890940269, -0.4963161125437763, -0.6290518267741751, 1.5721950904823587, 0.4546822770721979, 0.2007598977257041, 1.2028709081307052, 0.6700842906269747, -0.3276496227104107, -2.0043472778201004, -0.2402276726096398, -0.04444794248909757, 1.3822066898017369, 0.953060925714867, 2.1074369839233573, 0.5431285659428647, -0.08708518725745533, 0.2451760292615842, 1.045265342958897, -0.6113893356980924, -0.03566706344776721, -1.7301410978068927, 1.3424780085626138, 0.6489193066116659, 1.1082177335014933, 1.4303696214569108, 1.6848669478307983, -0.3092559710499345, 0.2959678117198052, 0.613934978844642, 1.5729070215618932, 0.5623621255310861, -1.5118171887260587, -0.8306349214923491, -0.3751021384358645, 2.947053805674268, -0.6190446040743477, 0.8249831301782707, -1.2126915151830848, 0.2449060909032342, 0.9007719807221376, 0.5479748974044132, -0.07902793138127814, 0.4582016609926406, -1.6840984653892876, -0.7453186411630789, -0.7225685629682836, 1.6575370193694516, 0.5054718786171378, -0.1925072122285309, -0.6229566618990307, -0.9422051489029205, 0.23645013871744658, -0.09516156268376157, -0.38970831324202704, 0.641160118702259, 2.469429537661463, 0.15333289347213833, 0.41982855188643403, 1.2753100986341879, -1.1890661312610749, -1.3181046048712577, -2.250559803028583, 1.1759186465252085, -0.27330849003743474, 0.0754858069224537, -0.08629413443385658, 0.7112607249285506, 0.8209940611505891, 0.08936672007335066, -0.20382792882654746, -1.60910318917718, 0.4594440879349586, -0.7355922982176446, 0.18291159828496686, -0.111520202050404, 1.078930310249145, 1.070519258079608, -0.7426931874156651, -1.6150889560299264, -0.895067643555653, 1.2676406835757212], \"y\": [-0.023606223842829007, -0.6504545069725444, -1.4427834768310497, -0.8826988642088189, 0.8775492086447028, 0.27844594830493036, -0.8881859439569695, 0.32390997436057734, -0.3458673170498108, -0.2231035091479488, -0.09386836984356337, 0.7585470887221573, 0.49668802407504337, -0.8906077106521495, 0.3810860710291979, 0.7725556474687214, -0.355927940735238, 1.3755448019188858, 0.5406900035885022, 1.1048502942830702, 1.6876568262616511, 0.04874307677313874, 0.9164545667265235, -0.7988936464223785, 0.8963332270174228, -0.206909041024999, 1.0702578019800792, -1.0627249889002635, -0.6076146213326394, 0.17206761298994494, 1.827473809750781, 1.0690123147672046, -3.039731321395044, -0.8625375779464903, 0.44188099165067624, 0.36424121703987333, -2.3356066312097346, -0.2200036508154387, 0.2633581860056177, 0.5614718130921341, -0.16000299949372757, -1.6058233598741836, -1.4830435498336485, -1.5971031699580687, -0.3882197371720388, -0.28052169107307345, 0.03142987113060339, -0.23862002982501326, -0.983669147989676, 0.5466296688793899, 1.3821385933182735, 0.48615761278855013, 1.7388539422021903, 1.2415983308878287, 0.7805175512752894, 0.09086256674067981, 1.0026533075257984, -0.5807224516420298, -0.27998506705522613, 1.0032514180898675, -2.3962885141976717, 0.4558231782577121, -0.7244465592184874, -0.49949187972397324, -1.674158556944442, 0.37224653862623147, -0.9395336447968792, -0.21135096872053188, 0.5611081381494845, -0.4742813516354326, 0.32382062060716404, -1.0400673186568903, 0.7083392314382848, -0.5261601553392122, 0.044230832320693816, -0.3449283047995562, -0.9266221232715067, 0.6417900453592342, -0.28347797215074677, 0.4114163194069845, 0.7777353880368452, -1.2393039318580423, 1.2503310709450575, 0.652563171794327, -0.6010980988713661, 0.057894147630805276, -0.7179897164326814, -0.4367113613573236, 1.7131211119151748, 0.9828595008536078, -0.26528572053803023, -2.307196194249299, 0.2036257171374692, -1.184487946010365, 1.0895288013717743, -1.7143346759793252, 0.78232049432705, -0.5972293101897974, -0.09599931921787552, -0.3319368064752064, 0.44836838833138964, 0.9042730602502737, 0.9872961279609708, -0.0010732853056241365, 1.1582216169011474, -0.4217580175905729, 0.45236255371968276, 0.8173438965576633, 0.18389721412715668, -0.3413486334976643, 0.5517461669063801, -0.13698048829393342, -0.9848490847299854, -1.236161608163217, 0.4532516063532217, 0.8136580244757828, 0.8862788409915819, 0.28195509488467674, 0.7747680280618083, 0.39215341588558983, 0.6184049900493901, -0.6621296652028748, 0.790630619882568, -2.3709369981789217, 0.22087687062891412, -0.2070762018404215, 1.0153872040459258, -2.0729983217654335, -1.2703637086926356, -0.43985799222458866, -1.3349283042212166, 1.1617161878800324, -0.7532493378319094, -0.1405594344970793, -1.3127391869626484, -0.8867932121837249, 1.0938940968672708, -2.493802547826389, 0.3976732478222037, 1.8560411622069946, -0.18445592548625345, -0.5883296939664712, -1.8346514836829242, -0.45138718616262835, -2.352171027040608, -0.19066910271337717, 1.186774444711014, 0.1297430835749808, -0.6724090724195838, 1.629751134966166, 0.414063334002259, -0.9802984630779195, -0.8321447546126043, -1.4337780536732532, 2.03146673200092, -1.2867071160636088, -0.6049667752747773, 0.8559748146921229, -0.4869451176757644, -0.3834901641248721, 1.7633143151213997, 0.6001074738139761, 0.9376672122200618, 0.7652272158213206, 0.4687983157439744, 1.5563362510680594, -1.0850807809011025, 0.2962527368232286, -0.9901025652195693, 0.521455320265925, -0.34840442128771526, -1.2573100610114443, -1.4351345206369202, -0.07876453534341071, -1.3846870300711516, 0.21841748859809082, -1.8504801734127607, -0.12652255549031166, 0.07584900087952325, -1.6314376108500726, -1.7639910465946695, 1.5850525291460427, 0.655064992146779, 0.5376297225922896, -0.04943657709485866, -0.23249963192426348, -0.5024621617520317, 0.27092791928509513, 0.8593086628719252, 1.2833908968189742, 1.628251639837232, -2.273628428398745, -0.46308682164245096, 1.4175930561522738, 1.0508814328620666, -0.6099291951325221, -0.39013841131363436, 0.7850259211895967, -1.0466847057538675, -1.326143825801875, -1.021039523899517, 0.5571241315676444, -0.4009758245134849, -0.4025445470283117, -1.3403054796409546, -0.07719267327986541, -0.29728052013822054, -0.7310225960804041, -0.19517725858305665, -0.4422343214321919, 0.19259494348977607, -0.6571481573908112, -0.9131731407126651, 0.9740385511725084, -1.575256249754347, -0.5101684654274633, -1.2722974292371902, 0.5811879946079657, -0.08705923581564494, 0.8416218687406233, 0.15068057402631188, 1.2024608666851588, 2.1099829345390653, 1.1002410377327418, 2.168867140558942, 1.020791484455808, 0.13922212778052626, 0.8083632881737003, -0.2911946882426288, -1.365820423288462, -0.6227816656454167, -0.10832217294918632, -0.08352700346229874, 0.4265250110126308, -0.4808993259927328, -0.0946058482075424, -0.6075053083940404, -0.7023761534306312, 1.716338648796263, 0.3376093530220065, 0.8021832186387386, -2.004085078194878, 1.5188034780998114, 0.3051237572086531, -1.4601944322460014, 0.39676445979780145, -0.27458063731308396, 0.3885461075115569, 0.026461018515841195, -0.5786969472468941, 1.4144898112886934, -0.7753807848731532, -1.268023702044964, 0.6436286667744335, 0.9756820422768199, -0.665073565413234, 0.8253777468906934, -1.261974118630102, -0.39925555564046156, 0.5927599191072549, -0.11425243936154615, -1.3414834127675406, -0.6653778179770752, 1.63083232508911, -1.2188639753195107, 1.2649705049302447, 1.2068986225028553, -1.149021507282985, -0.18786999219149889, -0.2355338520473898, 0.33364506776516867, 0.6685422183874806, -0.2762712160267101, 0.22206069118325683, 0.796290508325933, -0.9984628070413896, 1.1450078593541604, 1.1725272156320505, -0.2513149749740895, 0.3820370467774776, 1.737061829061982, 0.6769858477236963, 1.4622053143430191, 0.4739439391633013, -1.289642562702498, 0.2764538955007183, -1.0350881768948723, -0.8859050555098198, 0.40839060082949846, 1.4359581515602302, -0.5675294900762973, 0.7467245709873779, -2.236101421636325, 0.4569838414630442, 0.6166920171506132, -1.5226106355353712, -0.1355966758956724, 0.2930428518986438, -0.733207246638059, -1.0518753899407052, 2.424781452504631, -0.562649294601599, -1.1653720500458056, -0.7314354419336246, 0.2579136329975706, -0.900883455965371, -0.3247979814363534, 1.1948973177987856, 1.026112400470356, -0.15164629054089143, 1.2013671665661703, 0.08384409509288142, -2.361694349203205, -2.4346104183714097, -0.6781325265259259, 0.1321209749798463, -0.3485391731778816, 0.6060717713548507, 1.0301981340208404, -0.8223777450486056, 0.06335569447596236, -0.7433874044201616, 0.34139528539952557, -0.8855840398819781, 0.16135073777071596, -0.20371160569125257, 1.0896855849137905, -0.9222337315047735, -0.6608844002716531, 0.071246159214241, 0.7117101704850979, 0.5600411441706925, -1.11722526812756, 0.27670906136697876, 0.6119521254749356, 0.11930577619263014, 0.02731147259431403, 1.3737266085754352, 1.156989393638687, 0.21127026174676944, -1.361101197016146, 1.7011971052465429, -0.7966329945710003, -0.3863728911372383, -1.414750593309063, -0.642541658600106, 0.18897742542344254, -0.238983788070368, 0.24046475190021324, 0.02528996616426253, -1.0842126064754718, 0.04881981095177284, -0.9985490093931197, 0.044181924874625744, -0.2560125530716864, -0.09352782376380842, -2.5653686909481985, 1.4354328230811135, 0.03236423821144897, 0.8174153280176382, 0.0680950323912369, 0.0021416039134132146, 0.84592952699094, -0.7951188086328843, -0.2820490761259176, 0.538165649423925, 0.4710232859228532, -0.11281132848072137, -1.1593575963589717, 0.9384025984922355, -0.15263670378324748, 0.07621509499033957, -0.01688110979167884, 0.5281834439387848, -0.5279309331391296, -1.9357807267216856, 1.590332336613831, -1.0406233981227213, 1.5284655392527047, 0.5255280249024196, 0.7285834051946573, 0.7097206282506143, -0.2987273823935053, -0.3309202566719937, -1.1724155804954706, 0.15599005594088977, 0.9823707762588694, 0.5112126546361553, 0.34921665145026054, -0.24170373003806256, -0.07351958866359522, -0.3085223758546374, -0.7434871926185448, -1.115330917898139, -0.4035388841310129, 0.9782203455743081, -1.6791243105947298, 0.2779266521244717, 0.9206488138356876, -0.811416714682195, -0.21389049122655077, -0.27088088485190176, -0.3109097892590845, 0.13083608835064825, -0.47993638536451444, 1.0558300010252908, -0.27533335398346803, -0.6957308861840226, 0.48946865574722015, 0.17902749936170978, 0.6225341154440139, 1.6705157324894748, 2.2840844365150925, 0.800231715449329, -0.14274005713300195, 0.11801400838716657, -0.9074042806545465, 0.14477863374932032, 0.10606075747398364, 0.5997566323879401, -0.7570369375178145, 0.4474892800973221, 1.2196042186964422, -0.6405379176160567, 0.1724852302566199, 0.23975544526372755, -0.2835322290590711, -0.07461940134822401, 0.09501451985417594, 1.33906808481008, 0.20665158859212768, -0.9220586247698612, -0.9456629659993439, -2.036224728646986, -0.1687876663369438, -0.5010676078852989, 0.8372756181739776, -2.0010036618869806, -0.015961213706478863, 1.6423188144008387, 1.4846972840502213, 0.22505027848048803, -1.3698863429208377, -2.6105680070196486, -1.8396933392667474, -0.07023174527884762, -0.07675767297176946, 0.49576856630784755, -2.516569074878546, -0.7414029208483499, -0.4453801805610873, -0.49152232147999236, 0.3878821089822714, 1.0345159085960716, -0.4926530106095735, -0.3752803184809736, 1.2218967251322328, 0.25665913613697555, 1.1852846139131403, -0.6120697368133807, 0.46366244170546916, 0.6534926837624031, 0.19400127443623666, 0.09482435255166169, 1.065732715929268, -1.2382132993605388, 1.0690464622758142, -1.0180721648847937, -0.9116195260617502, -0.7937828197833998, -0.7942620991824441, 0.5466766165014862, 0.7755709769687898, 0.14538015315698208, 0.2815180240829237, 0.6871561844112901, 1.0831490547145777, -0.22558161568364532, 0.7629893905865825, -0.21194585608350539, -1.1152493814797781, 0.8619945866529526, 1.0612806810176985, 0.7013862051092236, -0.454020730321055, -0.8163859227132668, -1.151376177184644, 1.0215860165293706, 1.4074905082496467, 2.2782946976506775, -1.466612415752488, -0.21753369763259636, -0.7624725616189767, -0.18126264719930585, 0.5096454315236715, 0.09339676805335673, 0.4078718380979802, -0.5614046174278823, 1.017406091026927, -2.9289119386101783, -1.2610576254424082, 0.35146128325111275, -0.2625460745589161, -1.5812982068971917, 1.181097056286153, 0.9356284954644555, -2.020395759456132, -0.4687761627814527, -0.17212074672561434, -0.3752623913413515, 1.3723489586950264, -1.2755174145204717, 0.21482938717379235, -1.3839219022346703, -1.5249463902369984, 0.5280055583997453, 0.3014965900664978, 1.3317887994949282, 1.675835310249985, 2.018042365758264, -0.5827685356350045, 1.1669575133332424, -0.20292957271795867, -3.0053815560346315, -1.0753760320627488, 0.9077641775654259, -0.1921621341517016, -1.0077256531300014, 2.5418033635757586, 0.7739148824737317, 0.5697004274028875, 0.47254618323016306, -0.793574276978128, -0.6863186866787596, -1.242412170747254, -2.121282716197679, 0.18059547151764357, 0.15034979790569605, 0.06778010197944485, -0.039786914051947335, -0.8637795649570147, -1.453194146823582, -0.5074689441837942, 0.6480340272110454, -0.22066490940791997, 1.852881430397036, -0.48757237675999476, -0.8881952852706877, 1.459267781457764, -0.1999641219409883, 1.4567171472627343, -0.6836220983760163, 0.69293340358765, -2.152101156695295, -0.5002546459665536, 0.27126202966382157, -0.8166348898163384, 0.21238379836257193, 1.2571381131829722, 1.788114948032377, 1.3258406806922438, 0.2625335898397382, -0.5510197699365114, -1.14725591887514, 0.6023780774507801, -0.7287716853147911, -0.11512645740097661, -0.004548956732277618, -0.27866912626651125, 0.8718629782359567, -1.3777334756357025, 0.6303909149446824, -0.8026576061748135, -0.16929301320583096, -0.4372333427181416, -0.5557435128166412, -2.0240233238851038, -1.2371397813186875, 0.04571899516470346, 1.4012437999224345, -1.3630856604493387, -0.2847683001560413, -0.4478831897368115, 0.1253029052431946, 0.3074192707709952, -0.0924157948436086, -1.1648101542972267, -1.2418812222471045, -0.6836210797467733, 1.2913917323770205, -0.2847030538936735, -0.7732519081838936, -0.43051856870312805, 0.02706047731564099, 0.327041503087055, -1.681201977981963, 0.6820175581567529, -0.23331708114567, -0.1297286626735541, 0.8193512612387448, -0.4929332243367347, 0.17669749578650243, -0.39422372948125106, -1.3504206730934787, -0.7512206062834247, 0.11946723550945926, 0.010080834101931715, -1.0981935990199212, 0.11861285838902448, 0.5151786308251421, -1.7142059887848853, -1.417194382263666, -0.18201916867920953, 1.9385276736933166, -0.17271186065324662, 1.6912891840089794, -0.4317176764543521, 1.1558164135901559, 0.43641409436053014, -0.6635746912208145, -1.4641485012128836, 0.40502237597412716, 1.3063506344304052, 0.3653302087996672, 0.22838235356715555, -0.702815827664354, 1.0524877812167168, 2.263748970269456, -0.6241189315763733, -0.30016538336873533, 1.4837279213097312, -0.7653878646271851, -1.4948148556536125, -0.5280982366054421, -1.811587628165215, -0.13268628343360198, 0.0004374008674543267, -0.5073036454304584, -0.41968179625442864, 0.3468724336029168, 0.16734382197811676, 0.9832259566496092, -0.022233054732105087, -0.1274056152807726, -0.5458390447566155, 0.015026077404913775, 0.6331818014937848, -0.211029618527117, -0.26832885008065466, 0.41682081349328576, -1.5779372992363976, 0.4917917581156455, 1.3460167972333408, -1.1769455467999763, 0.76229740522361, -1.2440537795476312, 0.6563772599943914, -1.1150060922777536, 0.017279346073222127, -1.1941025515468666, -0.11626900542478204, -0.6544968863109548, 1.5974584646185794, 0.7634568999434063, 0.5053953685186408, 1.9075156778165152, -0.847250505775055, -1.141360367216459, 0.06595033135907823, 0.09235398747498418, 0.6334733283923292, 0.6940474241891944, -1.3384740803766986, -0.11473878161142857, -1.0629989810746228, 0.8972550086083693, -0.26113021181391644, 0.8451878601254597, 0.3404390116997212, -1.1974948912097274, 2.3486851815269385, -1.384041040178714, -0.07446613095225295, 0.5015750331747223, -0.35663154602546937, 1.2208120538722715, -0.5713400945513079, 0.3941166155832595, -0.3899778832587426, 0.2759151894178881, -0.5316156665568439, 0.014991867938697022, -0.6254738835715363, 1.1372018549484109, -2.1054545314315716, -1.1681403022525407, -0.3180921419816499, 0.4279616287010824, -0.21169873417114418, 0.759827133058283, 0.8483425357287142, 0.9889860509492919, 2.601659484868628, 0.10898080234130904, -0.03491587651811306, -0.7687045314919293, -0.08005739588688797, 1.0396317917955749, 1.792654206326465, 1.498629649323152, 0.7211324935393995, -1.0939012441722136, -0.4776363447110479, 0.7280446348995001, -0.7688980659626784, 0.9086842073245656, 1.3252493581839806, -0.4442110078890147, 0.8801087929277365, 0.20982550798403024, -0.5182223856001856, 0.4597671772835706, 1.031627401417394, -1.1315576075693694, 0.40864573901093604, -0.7734091706567942, -0.1683489403410658, 0.5092402564999507, 0.5979191570189994, -0.45009204423730426, 1.0995578331616327, -2.6318569106735277, 1.2505263377155997, 0.5891759879938924, 0.8796162849653884, 0.0035619849419253244, 0.22963088654988, -1.3039922444717253, -0.014554954021841001, 0.6430167076059717, 0.14304969534304296, -1.0334271737016734, -0.1999017626426463, -0.46811798603013133, 0.7141229616159366, -1.6850231418380612, 1.4224641954308326, -1.1149794743771693, -0.11986104938183771, 1.0179393316076915, -0.6302916396916777, 0.365669337492556, -0.07897731511204822, -0.6152489725310349, 1.647898073244214, 0.7134283147347223, 0.3316287942939899, -0.36836460856400577, -1.506086032624887, -1.6006769800817071, -0.17972209988725837, -0.5086113009739738, 1.0716636692661663, -0.7061219217837076, -0.8050382149610801, -0.802146289739755, 0.4852460849133427, -0.14081107231820295, 0.748945181278192, 1.5943753967371712, -2.39737299137726, 0.4186477882263257, 0.055422419892757355, 0.9503588693005722, 0.6752133887303489, -0.1640740838290507, 0.7816433160688485, -0.8826417734345053, 1.264658698650201, 0.7011599846374388, 0.4807462384536562, 0.07636047476608954, 1.884895709940778, 0.4753261819653048, -0.3585205664744977, 0.2201447226487613, 0.28251406781395366, -1.4277326604324163, -1.4644710725912944, 1.310690938197579, -0.6943854189673475, 0.6715333078336584, -0.7887428860440864, -2.355728541412598, -0.8222981324030858, 0.25225250864179827, -0.7648922535276514, -1.8566771149990298, -1.530240035976565, -0.5919335136991967, 0.7277087653893395, -0.7749113890507368, -0.30613073567019405, 1.3926762709241092, 1.8444254151064507, 1.5231728828175048, 1.1362602542243856, -1.0415663005430864, 0.5255723543361066, 0.6468574338784443, 0.29900311941816604, -0.912506724689017, 1.0042768832957871, 0.8610400818897502, 0.702990995024287, -0.0757674675733813, 0.11084988907412131, 1.3891489693699166, -0.07558966846289078, 0.005802279274389201, 0.8832248699510636, 1.3342005343717622, 0.5290066438590167, 0.5499648564531019, -0.26313629220453116, 0.8149487948554338, 0.7410179294246492, 0.593996242214412, -0.2002902911055848, 0.5914631697122432, -0.43890067413862466, -2.0224497053096795, -0.9168660849050193, -1.0930021084886952, 0.8973868130149593, -1.4696828122646763, 1.108285211255418, 0.70190916216563, -0.04980589194282572, 1.077316364094168, -0.8160926997779462, 0.736478890672304, 0.2643236108540764, 0.03161561463580778, 0.02884781595516132, 0.045005396406624126, 0.0023275992874046097, 1.1548306293251058, -0.0936128901273747, 0.14007125730061312, 1.0567671159646124, 0.11041735087428498, 0.5135218764170295, 0.27037853594184014, -0.32168015415555423, 0.3545704103210985, -0.3341709856093035, 0.7454738984485326, -0.8993637737367607, 1.8067885910561419, 1.5986549478261334, -0.14370915589504785, 1.250079109240291, -0.4695340494767451, -0.4138135097513531, 1.5810495851018973, -0.6675658069301895, 0.3202184665934559, -2.5840328799181833, 0.42591056935118177, 0.36455378005739303, -0.0726572930351443, 0.3148316559317866, -0.6434317176443289, 0.28200462718554564, -0.9945297325693293, -0.07483267305878172, -1.6187758485811226, -0.21466448419005435, 1.7233812821887682, -0.31153550641071975, 1.6030382535994983, -0.4811068073085054, -0.43295152166932876, -0.8308933010466558, -2.086087639223957, 0.6412256888704043, 0.10495124710484577, 0.8298236657208535, 0.3701219033029654, -1.6262616507575551, -0.0936202763245664, -1.1653752339926637, 1.3578570260986333, -0.37641531670865314, 0.531508938327818, 0.7296046345458082, 1.1142094538928098, 0.08779366281979314, 1.088314212190512, -0.7886448545090335, 0.18464169773343275, 0.6636140937946929, 0.6881258960349643, 1.789377584194049, 0.30321837291166254, 0.03815390184981944, 1.9789974139019784, -0.08859393315311981, -0.09852148455902245, -1.9372309280946907, 1.3287167906618236, 0.9524420799154284, 0.8938738030558754, -0.30576015931272743, 0.7250121387055954, -0.5339515019940209, -0.006709702073690796, -0.18005165027133335, 0.10571831074076224, -1.0200775988129867, 2.124204266772294, -0.923689688864762, -1.0728747426312848, 0.6478261170978021, -0.7649323443804126, -0.5354296023487012, 1.2854807003204272, 1.3570243956739723, -0.6030332837950344, 1.0157304082587195, 1.322010899935925, -0.8237459073221978, -1.1801566739270823, 0.4174775379891744, 1.997777530370844, -0.6394721047419677, -0.2907774311173806, -0.5202222995755772, -1.7427955897839909, -1.727736309837407, -1.1609519612624566, -0.3586672003814728, -1.2021491569154468, 0.552319647976245, 0.8954595197332841, -0.33670993402929666, -0.45024612586373114, 0.7542268828992598, -2.679174361371255, 1.540864348500554, -1.6845234950434749, 0.8540631478997387, -0.17070537649965897, 0.7999293912932154, -0.4442640641118666, -1.0297038006384696, -1.5753365923393454, 2.473555732217784, 0.6192025896424013, -0.4876376956338729, -0.3482198163517204, -1.3104065728133323, -0.40292043808607725, -1.1458439122098245, -1.2295744338193395, 1.469985259368916, -0.1870088270301736, -0.5532547623774915, 1.7258011597783716, 0.9295991299997662, -0.20957691089400607, -0.35092402306652987, -0.06574816230653599, 0.6727596853046846, 0.6659069430853987, 1.208233611955561, 0.6648768359644188, 0.14401990909143353, -0.7585537332403336, -0.715912674912931, 0.48317347587059395, 0.4261227739064819, 0.8578192132309392, 0.9454031574127928, 0.8202136556206003, 0.16462532584518894, -0.34836345882629227, 1.3008352972750734, 0.21619764677545028, -1.2918140322813723, 0.8561172127517008, 0.476982045616623, 0.49630163204990324, -0.11358707186158805, 0.5509205469462582, 0.6611753302474556, 1.205710938182591, -0.12286863074614494, -0.9824030702977847, -2.038686942912219, -0.30313264056569084, -1.0789029408446529, 0.6888652963531215, -1.9008717776629165, 0.49702871407674, 1.4592971493511078, -0.8577286865524142, 0.5018503446443805, 0.8184048085736877, 0.8207731100378964, -0.3450197287805501, -1.3718508413787927, -0.6817421469648711, -1.9496514607450646, 1.4077345162747177, 0.9671894939932298, 2.432916900559482, 0.5829124560064401, 0.27202283032013286, -0.3253092528573107, 0.6681338703764567, -0.13675755487486568, 0.7862906502028104, -0.3029788023624183, -0.19404712467975055, -1.15118988053484, -0.2619025068541823, 0.4074784027685535, 0.3127569015218098, -1.974693134559096, -1.4639873898648683, 0.31418748969970034, -0.880412906407693, -0.7920263976860111, 0.12765290593645784, 0.8693242157440587, 0.2759114654539683, 0.1902158074295034, -2.089192244999981, -0.07552282040895977, 0.8346358410335749, 1.6228543666525568, 0.15834484267438131, -1.0865664707774907, 0.7679716166171995, 0.260069011941712, 1.4010315885114644, -0.17609848429316743, 0.5899128158833997, -2.239352895162702, -0.821551735549397, -0.18180610367984207, -1.2210844562518002, -0.50544290757226, -0.011465648851418207, -0.360668622548343, -1.465956621281768, 0.7125700594552813, 0.42171061676335314, 0.4375299946508743, 0.8833637517861938, -0.4443648349929479, 0.3681278126428303, -1.755462860972615, 0.3497736140801918, -0.2605765066975223, 0.17507613681194112, 0.3558253319778375, 1.4367552968942876, 0.148657688110277, -1.1752653294316355, 0.7568356176317438, 1.540087830321102, -1.361060003352326, -0.9396735959755149, -0.2095811778815671, 0.7709640749372552, -0.8441929439945349, -0.12639946064355512, -0.5066186202374706, 0.6541821068396154, -1.6534761289513, -0.4834712920821928, 0.018997374356638126, -0.4919753685014734, 1.8960817290761849, -0.34137868399588156, -0.48747816242266095, 0.5618216456096562, -0.5856855178250928, -1.6396528378057582, -0.37106024125526293, -0.5493491753410117, -0.06842945048507515, -0.3434751873987259, 0.6409571707209754, 0.8580280848422719, 0.04782359487069689, -0.3057728677108668, 0.4706375774163109, -1.873480430930273, -1.08527114140646, -0.26166394529413983, 1.1839699431296284, 0.6308137754532541, 0.7615611601876768, -1.114463678980024, -0.9329859087065178, 0.6609264615460063, -0.37985061924332586, 1.1814155709014398, 0.9555594387674603, -0.45419782748733356, 0.07327864843420187, -0.5625918980468594, 1.3873541105386158, 0.950867254753124, 0.8395772608968022, 0.8539226264736514, 1.696963564269321, 1.4157892859792047, -1.2453482926680193, -1.0533714115403021, -0.24649421114555414, 0.27940450980219966, -0.33488189349730274, -0.5398931137097843, -0.5109552339897185, 0.2731984448623588, -0.223029297590766, 1.8272332262861601, 1.4699170806166388, -0.9160456287664038, 1.5784531503228587, -0.004557687029850247, -0.6581559381355729, -0.50509118349546, -0.9380689946875642, -0.3494555799790734, -0.12423280926694778, 0.5866632329474223, -0.6884846483623784, -1.785604455786296, -0.06605357008099612, 0.6389092081701031, 1.1876691303675384, 1.4413572959191876, 0.1344519534430615, 0.5074531608391535, 1.5248413433684194, 1.607963745455251, -1.5850971072600615, 0.8704294148231339, -0.5503461526801593, -1.5954016647106426, -0.656775286281717, -0.761157165807166, -0.29115782298758297, 0.3635116867386332, -0.0722447390967012, 1.0737708234699403, 0.623584779789762, -0.7323733390881624, 0.9381061486949042, -0.8611865739208835, -0.825143736205916, -0.791201000476652, -0.02496810517355183, 1.0610612378488717, -0.663863187704721, -2.0063494310219094, -0.5380314283598703, -0.802453314846523, 1.150545579085238, -1.496247256626949, -0.0660177537942985, 0.2233703149430839, -1.623331177788802, -0.09309178283683657, -0.2766410977839137, -0.22459015272606797, 0.042997108729572846, 1.436773468090575, -0.028348870284224403, 0.5627133165249417, -0.5278960003835791, 0.31993170023515566, 0.3926629451693591, -0.5198299804641023, 0.011078112531118777, -0.8833852011632337, 0.39958946855168, -1.1337857813558476, 1.0851732399050373, 0.771332989070985, 0.31524476551945646, 1.9924472611024449, 0.19179166157471908, -0.8749397708173055, -0.5584570780452125, -0.5559555345558862, -0.4408726281739752, 0.22407105126663657, -0.45746113843809927, -1.4403883298797635, -1.7039601535378766, -0.8131303708432556, -0.6237640856821185, -1.4407012628012084, -0.22681482952750812, -0.8514518080862252, -0.42098365096508455, 0.7685634265231972, 0.0825028286536237, 1.719815757996267, -0.9868916831145393, -0.5437925359686455, -1.211974862500773, -0.4834873435123206, 0.16414059042305468, -0.22796864726575936, -0.7376071032592288, -2.039020693654381, 0.5221804639757759, -0.07751919180611778, 0.723757203908213, -0.689657949484296, 0.41811922083492364, -0.2861390531194389, -0.25030356887020144, 0.0982943456633743, -1.100521528585441, -1.4006456847312765, 0.9180131757155122, 0.18316735686715255, 1.121022142187792, 0.7311654521769092, 0.3446647332154241, -0.5389631164095127, -1.3279885702335505, 0.2684752416441452, 0.7036683524768216, -2.0621563085313355, -0.6846372130134898, -1.1024801426366577, 1.7296183905369078, 1.4972852394509752, 0.1847496606601261, -1.5389701713898278, -1.2944575754581278, -0.23571260599506536, 0.2368306675382693, -1.292266678760141, -0.28392195587685215, 0.3314571839632288, -0.7320097492185996, 0.6238901194448823, -0.20172442640407007, -0.23170863975993924, -1.184990825225148, -1.161171331649702, 0.5079615128724203, -0.25509768718798304, -1.304229415491582, -0.37874143305694846, 1.7112204791814922, -0.17215548462688718, -0.45721250352850434, 0.4581682476493569, -0.6537791591251162, -1.0339612118154111, -0.2755165329883285, -0.11245650367075213, 0.009554259594945724, 1.0390853182177098, -0.11584487006732078, 0.25982821647174226, 0.5604282243849877, -0.855345916097468, -0.27096535413526013, -1.1306768502288476, -1.0815161844878438, -0.3496449789637301, 0.3576312110082406, 1.8352397540682281, 0.13337933217770415, 0.5018717313909358, -1.3655158768681124, 0.00751046225384562, 1.1115657266892216, 1.1965784079551078, -2.32287115371625, -0.3271723283851951, 1.5761727130667214, -2.4277310288363827, 0.6743680550504663, 1.1704157194662805, 0.15630424538413187, -0.9046410684136349, -0.0704764081083548, -0.8414766830727923, 0.9959343510348275, 0.07317198283816298, 0.46330337354288537, -1.305592959475639, -0.0856908141601401, -0.8499328961774818, 1.142375221437855, 1.1334474230546792, -0.13931520951469953, -0.20099901590311764, 0.9183659993160945, 0.21853153193875416, 0.01580274991079376, -0.46776791544363744, -0.9651093770264025, 0.3404897274661157, 0.8988568214875735, 0.9702256236358927, -0.4943245376040999, -0.6676608814167354, 0.17186345938035386, -0.15348024615622324, -0.433557861491401, 1.8988887414284636, -0.005811468526906651, 0.8482233553586184, -2.126288440226861, 0.6722415070052892, 2.0135524579143884, 0.46046124187045184, 1.0763698301024833, 0.4395934559037537, -1.8051471125235445, 0.7576153778830995, -0.023047978242303212, 0.981704615740366, 1.0331223200029216, -1.0637980309420334, -0.232829626652971, 1.5907102137067137, 0.13106647965572696, -0.8239598840576018, 0.5170569776137334, 1.583862692418333, 0.35288923204277756, -2.0768342636839123, -0.4517820199413373, -0.14380810549680748, 1.0840698819039916, 0.029137345575483486, 1.8058798919377095, -0.1555859495504273, -0.31115432416845934, 1.3197425291466338, 0.256810838082057, -0.4133328245225655, 1.6920808837326928, -0.3334771773894486, 2.058943953014962, -0.2049680235083319, -1.6518574419508887, 1.0610954239304378, -1.6606627115281918, 1.1611985562320835, -0.37999060465212176, -0.8173309355789948, -0.38090400512966843, 0.7982121663878763, 0.4858727929361574, 0.522925965658112, -0.586880736736774, -1.0625744339345566, 1.560357348898809, -0.36783208080979796, 1.2859620256980504, 1.6077049312997114, 0.25036361402843704, 1.0359617366145877, 0.08634252381717576, -1.004787649770133, -0.30680043086681896, 0.6953696068295748, 1.0447437215879356, 1.0217124905885424, -0.026050681950922704, 0.9591459555530223, -0.6063754707600612, 0.21354427560578382, -0.24094353631266446, -1.7925680428335868, 0.27242406013199194, 0.704247409549675, 0.7495581774058119, 0.3120393332338831, 0.9606629935584884, 1.5016273397637685, -2.080201664021356, -0.043743170947524765, 0.8928774800935215, 0.07031961842195276, -0.3068595368328533, 0.6207832789559777, 1.9225889531682405, -0.16210071256325378, 0.6713602083623347, -0.930612648660304, 0.16726857456895547, -2.865299798272731, 0.6017657741392627, 0.6473260245518777, -1.6262202226360727, -3.0559717841415246, -0.2859863112321457, -0.23413008379202543, -0.29555322678490725, 2.0779525657220725, 1.6792546698825823, -0.17220646345855584, 0.49733108693105804, 1.375968644494671, -0.1668051989423249, 0.08344147569060614, -0.11430201588459414, 0.018134427557255136, -0.5393150468495986, 0.5544094604616393, 0.6421411826344765, 1.0991455334989022, -1.2405577151772889, -2.3656183428412536, 0.2335348828458382, 3.115295445145649, 0.05952071854108347, -0.5953164605706123, -1.0101407750664844, 0.49176164803858996, -0.5648817380879061, 1.2120782398813288, -2.0256240823903426, -1.8532815985749802, -0.8291596808337978, -1.0228841147880954, -0.7141434314443338, 0.7548858892666545, -1.2087320326393232, 0.38777871021831045, -1.3410350155431598, -1.1522875604249583, 2.204566980874134, 0.5180529269129369, 0.4282306919527672, -0.6852318274487352, 1.1261989491779067, 0.5511899139934179, 1.2451648649325688, -0.6392507177490021, 1.7362609735163324, -0.6702101771249338, -0.5665059423289521, 0.3888066127033956, 1.30284243984683, -0.1746222888184801, -0.24767017916421027, 1.5406314183396947, 2.518215234676379, -0.6311974526179381, 1.2236645571248166, 0.38131404162576127, 1.9730647607058684, -1.5444612740415156, 0.17244388550352455, 1.0646656664867196, -1.752035926098656, 1.0418425047572868, -0.14110922829479416, 0.7857681762551698, -0.8833767267094743, -0.847831799003001, -0.8115322545589178, 0.8191518233152184, -1.0592375136481722, -0.310599050302089, 0.35111980972975504, 1.1743989444187177, -0.7214321283778653, 0.3121743541519701, -0.12188437498088502, 0.3256146681507014, 1.528726145201383, 0.30365154685154194, 1.2752023996122297, 0.4753334946767808, 0.2148610530202031, -1.432550625818983, -0.23599684794999132, 1.1426970078218681, 1.2176062110531298, -1.1333303608394267, -1.8759894702336792, 0.04204435510717711, 0.9990308773715069, 1.016165522858881, -0.7889540747562606, 1.3966341311369779, -0.09515753754380268, 0.1652695463742778, -0.5811983206923177, 0.3496356897957875, -1.1480278140041196, -0.09454881761916492, -2.2660329288688668, -0.49065569863924746, 0.33912059322858656, -0.4631755126402267, -0.43958162051089067, 1.423572640215651, 0.07148545556074151, -0.2336076849999161, 0.23035756599268795, 1.5819050382203614, -0.4390428086501626, 0.6008054668881261, 2.36161793474473, 0.475457732556832, -0.263185319705284, -0.39979103189209164, -0.26735582876373765, 0.6829751431609373, 1.9861709036059203, 0.7557097028573039, 0.6905408606808348, -0.9794286194993808, 1.8519188528352462, 0.9212955536948911, -0.7080339673844925, -0.18269855967799029, 1.1595828938450254, -0.31563296624798814, 0.045887785324536086, -1.4224174648960912, 0.15477522275739836, -2.3599303058472088, -0.25527535221637865, 6.54744576549767e-05, 0.8443447109564114, 1.481895410897095, 0.6573884242723397, 0.24006845206740088, -0.12140654354089842, -0.3858133827962162, 0.9209093646250827, -0.010024136154518538, -0.24648948487486846, -0.5378474327972573, -0.9699259651358286, -1.2174949227861542, -0.7822965759823202, -1.216312537609281, -0.16708855706985262, -0.05079160817907276, -2.1265125087329264, -0.7490447696864124, -0.23363779870815207, 1.0545915138477826, -0.5591616810647895, -0.9382527973110707, 0.09450768660124925, -0.4127541863024338, 0.9819523327307521, 0.1694143428438173, -0.28005444751344744, 0.6458404260496624, -0.2304547961524299, 1.8008050383136123, -0.036543855714394516, 0.06285698936535124, -0.774496034089913, -1.7907508482490306, 1.112317369954519, -1.2276473113780761, -1.1205453967627106, 0.7595626761125636, -0.9184562154076168, -1.0382225545882302, 0.5814442170320092, 0.6394448037831092, -0.26707926074797206, -0.4033201251378237, 1.4564107640887076, -0.952693800535088, -1.1633804109807573, 1.2989018254294127, 0.031098074962690885, 0.6880531496023554, -1.3535034852380492, -0.5266233910150875, 0.7068694843071147, -0.5146088275060591, 1.6454472219981777, 0.12603934425505617, -0.09128600768036388, 1.1481273475405538, 2.4780059662983707, -0.12255738051621419, 1.6114783954753729, -0.6588561405554467, -1.1419176485069291, -1.364403242133949, 0.24830692461218468, -1.7065270756389739, -1.3978373862889222, -1.7612507804544484, 0.46377382662883826, -0.4372211123312866, 1.1817010957869114, 0.11988585580862358, 0.17601929166406602, -0.7724957009621676, 0.8423702199098515, 1.463763282968347, 0.7019621331611918, -1.7462586680130434, -0.8543681463385192, -0.4005855592640348, -1.9908565526777187, 0.49717099115146973, -0.38680867152591647, 0.12261875031187909, 0.665508504107665, -0.1332901400661292, 0.548658355429094, 0.358423158311529, -2.6659575197354184, 1.2480065906037572, -1.1624926448947464, 1.3189991492352315, -0.25193898935857206, 0.6016256552153609, 1.7558451408098743, -0.4082797331986549, -0.3156001973914356, 0.19404453701627994, 1.5265553328802708, 1.5704652603140279, -1.049247516346228, -0.7153181301186478, 0.13823559348446499, 2.4263446755308555, -0.6031879709794621, 0.5161542431098799, 0.07543304427567796, -0.5664725464184148, 0.8406230934353527, 0.09089387801627959, -0.8068434301565872, 0.4990919191497655, 0.5562359332875169, -0.35692957697218014, -0.26101110451194065, -0.5554273758003089, -0.48453504504081657, -0.31962657300268627, -2.047450078240423, -0.37517941981202557, 0.4022794955596346, -0.9429431775495527, 3.2775015824971843, 0.9667547525380848, 1.4228314491898784, 1.4548882598358064, 0.4383120716637575, -1.1478891168628385, -1.5828950110559523, -0.16585192323530756, -0.025699780598481006, -0.057412422351675964, -0.534849426318694, 0.643565439476995, -0.927738483670486, 1.0123206729397392, -0.08061703222099237, 0.47193990445295003, -0.8231523587639145, -0.6845043866899543, -0.9297035211564028, 2.50762920395524, 2.3478732855803712, -1.5988440577287037, 1.1967101344115183, 0.0061275054026129275, 0.8335549704517404, -1.4759756715628973, -1.3568970358043424, 0.7526278054411648, 0.41816321033805315, 2.004074875927544, 1.122550468436037, -1.1450851059341225, 0.17399422696030695, -0.5902724100960094, -0.24696680649248232, 0.9078618214936667, -1.5667265084181805, -0.2831760173815424, -0.03423935745848185, 0.19128743098447, -0.6805573032316239, 1.3093745754179358, 1.2507302048690399, 0.2962977012588875, 2.8025681116758903, 0.4437243368060804, -1.0032364501495323, 0.4999653202424306, 0.1083125343905788, -0.1595705882047385, -1.2043338161330384, 0.9462296398384179, 0.052041216600978886, -0.3112737994567501, 0.8872347893595407, 0.0038534748827080663, -0.0809582374351875, 0.7770510993439814, -0.640301034318468, -0.38954089066882014, -0.9865782346779576, -1.2971512238396934, 1.1558565089803454, -0.18300840402863114, -0.7873182217908385, -1.124991127210838, -0.27066333846128104, 1.2940464306344674, -1.6528114887887277, 1.4009997134132273, 0.26761404690890866, 1.3997791308149807, 0.12513771697107182, -0.7755934759994043, 0.7677611058466474, -1.9284857969428364, -0.8932977478451217, 1.6723618932334343, -1.1984214464672778, 0.5040485638873579, -1.6547728102517307, -1.6787745274661625, 0.18419377727310685, 1.3171252068483532, 1.0121885329377485, -0.5223189789935831, -0.04772974031757111, -0.43027038517613897, -1.900941827627324, -0.5995006589791306, 1.7319604915962523, -0.17549018055157048, -1.2844405374467442, 0.5197041387153387, 0.7333987021418752, 0.9676785398509363, 0.1313520476481065, -0.10553768468876604, -0.39364915743734974, -0.3468800493965123, -0.30091837288242845, 1.1971317121271225, -1.3859293525562333, -0.9491090062916872, 0.302407072613358, -1.8224891666060041, -0.40740019017110846, 0.27946664130739124, -1.7674975862342093, 0.42550026112870365, 0.1960602050122669, -0.09922422690252405, -1.4566315014400053, 0.4528440770661313, -0.4857838457356428, 0.6704584953492054, -1.2626248947830494, -1.9984699837540933, 0.5624280648480452, -1.0213877071719082, 0.21871414527221145, -0.12787890649380068, -0.18990823965123757, 1.3450142589814098, -1.441055960495335, 1.6794985655140724, 1.469099432649768, -0.902655948615793, -1.3685569425158142, -1.619413097490648, 0.16622708559771612, -0.09165130756472421, -0.395429040445748, 0.15528130556213068, 0.7557132876794519, 1.9043560716162056, 1.2122096325191287, 0.7313112451686247, -0.719542277944991, -0.2130066262788409, 0.857301677793532, -2.3735409262189777, 1.5164511931314486, 0.16152837095315828, 0.6824816824674791, -1.1278017807051408, 0.03361731638642459, 0.23939005850699552, 0.997239683693917, -1.692738456889502, -0.6280012635653573, -1.173394907593724, 1.0247473891328054, 0.4769744766373865, -0.665934661883777, 0.4003732626436851, 0.770365634902011, -0.14577972608626433, 0.13283769624312092, 1.1703154548533954, 0.7942251872502722, 1.6607142014039014, -1.180424885037241, -0.5670554353555203, -1.3152154209355649, 0.6987651216285579, -0.3962230233044286, 1.2626171380122744, -0.3951902721504837, 1.4847687029568382, -0.9893663055357624, 0.26231473939650024, -1.6130282140456231, -0.7721028593957558, -0.8372810238034037, 0.5803503050063878, -0.08333416464825019, -0.08433644341037104, -1.5165758808729273, -0.9840484222923244, 0.634862097639418, 2.3747109982298102, -0.3411871032458889, 1.243946452073524, -0.5002110425335933, 0.3842431063000466, -1.6857870365874728, -1.0614419811820965, -0.26147566677390444, -0.7259145240101624, 0.6830446656152165, 0.9852049657944614, -0.44040029963668753, 0.2879919373227257, -0.3143311727696382, -1.2347027350005781, -0.6050153349236745, 0.4168591436820236, -1.413662638068941, -1.715838203074061, -0.3635386008728882, -0.1773921639033317, 0.12846573975557213, 0.8157398803011137, 0.2351011615806758, 0.8150336604530601, -1.4406976389149129, -0.5559401963653968, -0.8787878865392051, -1.1016102656963025, 0.42139661565805697, 1.2879293275300931, -3.2733748497816966, 0.8549896705678866, 0.6739295665917339, 0.28753730478436496, -1.1209077056072192, 0.8031869854404206, -0.7663298240355866, -1.1995593777617122, 0.030112389536103273, 1.0482451590549289, 0.9970855079729746, 1.079607589798571, 0.2375424320949501, 0.765751616284928, -1.8497277171497244, 1.0739744934504694, 1.7138355817228288, -1.1540582992386348, 0.20359698037209187, -1.6578622764312614, -1.9637522525493163, 0.39861522023363144, -0.7280024182030376, 0.592929654214462, 0.04157688099533452, -0.05813613769938016, -2.424821856782292, 0.022981480385457217, 0.2626219353167249, -0.5603470602860295, 0.8976176355779312, -0.14817251688746308, -0.1336082895024892, -0.7258988407997046, 1.3440452553196671, -0.3212413446768711, -1.475787063437082, 0.17836372273879092, -0.739087192524047, 1.7411732305546794, 0.4749929196463061, -0.5381327619624314, 0.4464092468017636, -0.0436088360310707, 0.6116200425684934, -0.6900435406797868, -0.9401290521739617, -0.3559173049570025, -0.42436919700377834, 1.414267527252715, 1.2111092336743678, 1.5907281751376219, -0.2655787966649513, -0.6682838107465173, -1.0447877757393893, -1.397076728956089, 0.5339941142037815, -0.6086866819921404, -0.8045459411542498, -0.925234062427824, 1.0328955272065359, -0.21555730839707307, 1.7753385342252521, 0.10180393391500804, -1.7172480518912485, 0.6876328173116245, -1.537918477538546, 1.2589946884659593, -1.1303844763657938, 0.5462379746420122, 0.6275504268106934, -0.1240741333412513, 0.4812902276763517, -0.6846342394052813, -1.3832452483331876, 0.07920232448819954, 0.6721207315446818, -0.9359847870044112, -2.124468511600525, 1.2099753830694622, -1.2483629283690478, 1.2209633073121977, 0.0881666542960002, -2.0269108521348196, -0.00043089365261395063, 1.6994166463954923, -0.26263781752412824, 0.4692077257028727, 1.814405096607133, -0.892478988303889, 0.5626719438605589, 0.6779047547159293, -1.8319366356255664, -0.6475747955975225, -0.25946148357755355, -0.06311301468422734, -1.1565232005600599, 0.12259288575034519, 1.0431741432701, -1.6719291755942491, 0.5677182222709772, 1.5675818926273766, -1.2318028521972317, 1.3607302639611862, -1.8792612008674103, 0.9453586604162599, 1.6271044583307483, 0.07589108446097563, 0.6450162704757552, 0.1907320382685452, 0.8930419402369784, 0.4227957158798933, 0.2926204338304539, -0.11939287135711409, 0.5634614290121764, -1.750585114848099, 1.9235815671892982, 1.160325253210593, -0.6769307735805048, -1.246308937849135]}, {\"marker\": {\"color\": \"white\", \"opacity\": 0.3, \"size\": 3}, \"mode\": \"markers\", \"type\": \"scatter\", \"x\": [0.29128502424129926, -0.25080132675350597, -2.009759707221412, 1.1972799265208456, -2.82412080629346, -2.0258532868939563, -0.8152742279968951, -0.4558579834651063, 0.5828094975658598, 1.460855103831799, -0.27627150358789776, 0.1234948110402589, -0.1251333058194446, 0.382239873213108, 1.386895295371723, 0.7001306996927409, 0.38365402494835293, -1.2129955249910978, 0.10896209054222238, 2.3682863274011465, -0.3066708708425803, 1.1691840444958455, 0.19536432238129744, -1.0333746412778952, 1.7605435969189798, -2.134172334213891, -0.999866494581173, 1.1946331509899868, 2.269556309984417, 0.8007316459439354, 1.4413350888997787, 1.0873557517464798, 0.198067345815789, 0.225476719692552, 0.9875367693480904, 0.5439366165600467, 0.4469739745139196, 0.5981980100674829, 0.4014963894059587, 0.07566306942337851, 0.5212013694359815, -0.6062215776627664, -0.7205104546589483, -0.09551973245196416, 0.7350170109021493, -0.40209712061293507, 1.1046846609256558, 1.0179350726780507, -1.4704446025485605, -0.9802988369513306, 1.711636539346582, 0.22027581216142386, 0.410659984641522, 0.7380055455173088, 1.4378478247502582, -1.5099005788944424, 0.37660730327068576, -0.7914550319773686, -0.8216338863404375, -0.5106020507153407, -0.6954640406481999, 1.3603021999528897, -0.49070148050291185, -0.9006991179010649, -1.5796673969832777, -0.3666587342618726, 0.300950187889745, -0.017030843885920684, -0.7363565379359336, 0.5942650766505803, 0.6296067117921433, 0.2578757426813785, -0.14339741604311465, 0.48121004752451146, -0.8178730248546705, -0.1179949098348546, -1.018020457519046, -1.585845170809232, -0.6195491875114526, 1.553784914269431, -0.4250998702767678, 0.39271784786169955, -0.11175234851990362, -0.5965742116001823, 2.498703395686308, -1.1829142065110412, -1.2362202861484668, 1.1581227973166057, 1.4896148910139795, -0.2779049235842812, -1.3315420354985403, -0.24587316384784208, 0.6939918641959033, 1.7041985370654726, -1.753973922226603, 0.42200637561370663, 0.7271749167693676, -0.995613901997483, -0.5758472581859887, -1.7442883072318809, 0.24140808557480645, -0.3562175089562397, 0.21624235309074735, 0.293457228884687, -1.3726893504240998, -0.26912069683587153, 1.3028043148656652, 1.091615542008747, 0.6386293948089468, -0.3991988532813655, -0.0030924968643053835, 1.458279800164927, -0.33198936433056214, 0.18639591308669015, 0.03903384127797648, -0.37342588695595713, 1.7120791306872947, 0.28246831306343906, 1.8453850029774868, 0.8001672155381531, -0.9188263000180057, 1.7801721209120953, -0.15843988704160408, 0.8035078484987641, 1.2543999415529294, 1.6047463961637576, 0.435576311370457, 0.5011359051895745, 0.08661813119806681, 2.0438317190403135, 0.2724197765870231, -0.9301478384640028, 0.9117199354333658, 1.5679571624784685, 0.3816644170808655, 0.9020800611119507, -0.4990335473552234, -0.41042287606611366, -0.33799226429616297, -0.5953369759729499, 1.9296518681566723, -0.3504741838456891, 1.108762684498157, 0.20343284490509694, -0.925580377643661, -2.117341077990366, -2.0157140301491645, -0.38198966390610317, -1.82348858376927, 0.6982136144867351, -0.8050889563482674, 0.6526850815233549, 0.26891148115719626, -0.1806068697505988, 0.10050859273626081, 0.1389660298285937, 0.3417846272245568, 0.448283491629398, -0.14679138372316022, 2.4578356795918572, 0.8854124476122511, -0.04708700099335201, -0.6871078917823255, -0.8341887599127749, 0.5119577716942458, -0.8782101853071085, -0.9062281907214839, 0.7496096103229208, -0.13168696743643804, 2.0159284621464444, -0.3363674998405159, 1.079935562047717, -0.9880735931260184, 1.0070823742522108, 0.6710818342794833, -1.3099320195865767, 0.7170574899301578, -0.43027238504496446, -1.6892987427712185, 0.09178542083344216, 1.5048384046571837, 1.4715794726074072, 0.19542782342505477, -0.7202038795959419, 1.2473348817394494, -1.949084609006127, -0.4479539855352418, 1.6877922743963776, -0.27277943129408433, 1.1004985116895234, 1.5005090416998494, 0.22279637245885353, 0.8224726540268474, -0.7080579976039426, -0.19531096122547253, 0.21079870539802012, -0.6714846993089529, 0.16629004891374707, 0.6685746754313286, 1.8020569541929992, -2.0701465204249225, 0.3235437457949486, -1.177008074097931, 1.0684385285005336, -1.207962948464097, 0.21063433457809966, 0.4586825456364671, 0.30296884046586614, -1.437339111744498, -0.8836196016342285, -0.7132659651630824, -0.49450552919413393, 1.1307999182817345, 0.25626737115941756, -0.4713289434810423, 0.27695458069114165, 1.532446427231692, -0.15251732979173035, -0.5882279847631985, 0.43469243508514904, 1.486942180902064, -0.543522948039829, -0.5544250374921539, -1.0534178529653644, -1.0861482692387732, 0.23119247740814597, -0.06745346883211935, -1.562666073406084, 0.0424374973554682, -0.9145396271895292, -0.2713708526529369, 1.3445303883366286, -1.7174896338633654, -1.3455311161688115, -0.7994200767587252, -0.6396735933818649, -0.5757773549127659, 0.5354482179303067, -0.9149418312501154, -0.12996833614440595, 1.9779193773666286, 0.7709538765580207, -0.20401491688048287, 0.5803141835079624, 0.2938807786983019, 0.22278317887613328, -0.6110786613298966, -0.10650809803006808, -0.8238177801535453, 0.16800360840377215, 0.8492966501415973, 0.19598923079164385, -1.6892765031663026, -0.8550326526932213, -1.1371508638696362, -1.439595660536824, -1.1119270337452485, -0.398783371154579, -1.6359933144457548, 0.8555032997307337, 0.06086136813524546, 0.5516948202599147, 1.1686213637455796, -0.36011361323408697, 1.5033205683542235, -1.4265205354039816, 0.05344794589902263, 1.3815727402217086, -1.3501115441319735, 1.8161928632140731, 0.2633018109331582, 0.4991027127022005, -1.8983061327295936, 2.5418920079575904, -0.15698841405957747, 0.747301992489229, 1.1987407628830027, 1.3287853730741277, -0.7633161842441191, -1.0736279394160666, -0.20950195584981313, -0.925960815354629, 0.555330882661583, 1.180246318340103, 0.07117207331416571, 0.193063056001221, -0.7417765868021756, -2.150089441846262, 0.5975672125064256, 0.8660330649071675, -0.314364151252734, -0.37198894637043134, 0.4285147958602096, 1.6703963783934077, 0.7841341523901943, -0.6219550811354004, 0.48275661218901034, -1.1158819192203389, 0.341517382606394, 0.7143737825029879, -1.649294556383274, 1.628102635833886, -0.26207544501751484, -0.38976840802401813, 1.5200449083205378, -2.6978353655997194, 0.8484153019564812, 0.22382157108282055, 1.1494858002598065, 0.4669155570370811, 1.4866128919533859, -0.2882957899176211, -0.26380559526598, -1.1587267308318452, 0.19756474045005304, 1.2383716187197735, -1.3304915605211602, 0.6857842282200952, -1.2625331458901106, -0.7366131279790296, -1.687557307727956, 0.053297268141158746, 1.0028128787871182, -0.3964883006641309, -1.1123644406523374, 0.7388810579619299, 2.3414648011748853, -0.16872248178248783, -1.0272577195063048, -0.7861702869600493, 1.8505832531691033, 1.8458930103470774, 0.04828279725964385, -0.4562136097752252, -0.4281944648306031, 1.0542336969708719, -1.083777710619017, -0.7075055173323934, -1.7620840734320466, -0.27503230393213435, 0.5430192790287858, -0.6724433585874151, -1.7215324796107925, -1.022780201349533, 0.37075103570505996, -0.11003769170838723, 0.2505100709603096, 0.06921450629489174, -1.0566709886045582, 0.04461823258649018, 0.6224385230783813, -0.701111731845534, -0.006508597285180954, -1.494932185144606, -0.9806509950580313, 0.6852711808911818, -0.13703884363757057, -0.6631819333191203, 1.7817590047614, -1.5565388060466994, 1.0038158161284916, 2.1836919679381346, -1.7087164408850424, -0.6026416548551746, -0.5353558182490492, 1.0726307827337243, -0.4542039275414369, 1.203956086145369, 0.3125906131529719, 1.449922401551676, -0.9143770714517141, 1.080399756883278, 0.20459577207922405, 1.4800468840723633, -0.19084939530657033, -0.8786982384121884, -0.0012347119886150515, 0.26202786752030655, 1.9093905596641823, -1.3400165813245901, 0.21319349461148385, -0.17760840036610095, -0.8629162304541537, 0.36127241735299237, 1.0310389161298341, 0.01577144206199494, -0.8836653087441785, -1.9198423591788214, 0.3088171640788311, -0.633460898184076, -0.2825578065286837, 0.28863086888291123, 0.975938317459121, 2.5029851037897806, 1.520836856825907, 1.5617135845229426, 2.1439208098652647, -0.14509475753668336, 0.7328423405027623, -1.1983854580230766, -0.7387684113260452, -0.018215934219980717, 1.656215185038774, -0.4197355328703325, -1.4324729713997124, 1.0967503449399079, -0.5831387609602205, 0.37390709821441537, -0.19166931424778644, 1.8000950585425721, 0.2402044449663169, -1.3930446850324558, 0.3775550863425489, -0.08369167094441282, -1.4028791531054745, 0.38242887661624897, 2.552904872616033, 1.7131978431943153, -2.1157469073938433, -0.8752789435739919, 1.4727001974019562, -0.4774844788138774, 1.2999553235413561, 0.1864676772139197, 0.016534770452473313, -0.7723509068244082, -1.4158142791168313, -2.2998835458618037, -0.045095155778484636, 0.3711618668299921, -0.3170856813395019, -1.2952580569156211, -0.8929088283159655, 0.7572014237839891, 1.6247053029164675, -2.237416451834195, -0.016755335903191098, -0.3366284819546805, 1.5627068012764234, -0.7442237495590871, 0.14733323925157277, -1.2922464965877498, 0.9676230584400171, -0.8213787831350278, -1.0062070805495504, 0.8183304473910842, 1.1862129730027255, 1.1013298696953915, 1.4452588020581927, -0.6249682794974405, 1.3451954053942736, 0.36734415574272183, 0.2948758586963869, -1.9801888933112686, -0.06938664924449549, -0.48717102090109493, 1.5056264378531048, -0.4373495242579977, -0.1434810644472768, -1.5265530918128654, 0.21658299645184959, 0.47674049128899043, 1.8842851734398722, -0.08438363491074719, -0.18692959983926138, 0.3754584037544976, 0.5949196860474059, 0.11192194906854243, -1.1004466634226977, -0.21423744737704245, -1.7847734073307697, 0.6300030522247584, 0.022258478461359883, -0.5720470637846051, -0.7327458039516794, 0.36339159486431727, 0.659751767376951, 1.992687927557898, 0.7255699975315698, -0.09732454097820643, -1.0500585057977176, -0.6315963460967691, 0.07505591634736222, -1.1155031733074503, 0.28929290965998855, 0.9557403358874207, 0.4811064089606703, -0.33313280109988747, 0.1999631736448486, 0.7134820983034369, -0.7118388378969233, 1.1243879076668741, -0.9437125133181334, 0.1713475843342032, -1.755287576220954, -0.830085422345586, -0.02872905764071702, -1.0923616438779948, 0.08107717893486004, -0.26348666419416666, 0.20508285812690394, -0.9910250557343421, 0.6784370801096652, 0.625382516895058, 1.3655200479227796, 1.3752665884574904, 0.5502133165983105, 1.6857252808523817, -0.07556080599945263, -0.7466364722109404, 0.706197075172003, 1.3790599722940888, -1.1548464354817833, 0.3917069597763411, -1.1786165998650129, 1.4241911961886844, 0.6530102734842076, 0.6434525305172311, 0.016815473390954728, -0.7995238449199406, 0.6879404382636538, 0.07782379131569751, -1.6561416031952234, 0.32334806809042194, 0.4143623185061672, -0.7675493707104601, 0.36201862315587, 0.2829026294996569, 0.37205965229783466, -2.0063822235798474, -1.0233519380907192, -0.38169312328633404, 2.1791359203959573, 0.39791501196764706, 1.5091236461082724, -0.004912005333143615, -1.0016220036293306, -1.62664929100681, 0.5270894501422579, 0.5271261413461195, 0.19052807541134298, 0.2763205810189537, -0.04427480192986647, 0.5213535860862544, -1.4738817860199822, 1.491174395679897, -0.031062647675715475, -0.43518969757005305, -0.8670832227755342, 0.07743011630251052, 1.918077797880388, 2.0950541283599198, 0.7634886657840072, 0.4309271659292157, 0.0822045301170127, 0.2695928679334992, 0.8392231360635072, -0.5278834808762158, 1.0281240583788909, 0.37828034526523746, -0.5576541030025883, -0.5474151655668342, -1.383050022384505, 1.0449639342580397, 0.634720633264886, 0.3869223407122954, -1.0047563741880248, -0.9031869623580248, 0.04949210340601367, 0.8961848121477279, -0.40906966849548176, -0.1660877705174124, 2.2129913189092174, -0.8023780909898229, 0.06457957864800126, 1.9443695806380505, -1.1782465811014027, -0.858950781615117, -0.6033106082344293, 0.04400470936275619, 1.3998011589388017, 0.5019805193123813, -0.18712670740258724, 0.7070507940127571, 1.225821427925222, 0.33514382646712704, -1.2376939002384275, 1.3388474087964648, 0.2693077314955658, 1.210228841712316, 1.1245396926512177, -0.11922456293146587, 0.20929184076497187, 0.8154693122358653, -1.1464185466532593, 0.8847919046470087, -0.3617410888889167, 1.360261026502166, 1.1039928754335386, 0.31519386692131135, -1.425707710362733, -0.3838439491120995, -0.27881414132605553, 1.7115573399028767, -0.8936377284487501, -0.919044346697009, 0.39818248593120165, 0.03631825942035834, 0.9127445393843249, 0.4916952966529612, 1.270869272077203, -1.0240073475735603, -0.6011060727138291, -0.7035505176105151, 2.0371353991910515, -1.6434863022711954, -0.31887827875947444, 1.2210223194873675, 0.26160642757520125, 0.47050244498199645, -2.238664436828176, -1.2305919283823943, -1.3476143784286863, 1.2830406077283016, -0.5583434614534246, 0.17005200912574653, 0.4013526486546831, -0.6821533764179459, 0.8561199240573556, 0.30075881409817196, -0.7549483782290154, 0.036831324306638685, -0.8315029117380848, 0.06351499771682823, 0.4487053955165985, 0.17327903779811007, -1.7395002587362343, 0.1224017276080642, -0.6200856749845783, -0.5183610454150803, -0.8247574985521603, -0.49695645584380244, 1.013599112868057, -1.313524488281159, -1.240813472982541, -3.0635501283101645, 0.5199610775219373, 0.7755594977187602, 0.30686612544781666, 0.6426997201207083, 1.3289175331463432, -0.4637912568492178, -1.0139409276998672, -0.0005196940990272015, -0.3494132567800611, -1.3010208867257855, 0.7623241118958868, 1.2146477813721352, -0.5371098037280323, -0.5626872099143436, 0.20815139337475957, 0.3589629333013019, -0.37854091437465176, -1.421734641682921, 0.10453429174989491, -2.244665841212561, 1.2462787531439654, 0.16791301719588864, 0.12003683543022739, 1.183215002308031, 0.6519221985787185, -0.5344685038006993, 0.4609240265110553, -1.4489475816219932, -0.348240346965526, 1.9469520944981848, 0.3792540549455692, -1.0451212644911239, -0.37019143741662563, -0.3697400707510478, -0.08118461314236905, 1.1982358953624033, 0.4671335225580482, 0.33133588403523656, 0.9803364074504537, 1.3096824311975488, 0.2049983560727199, -0.9148898554844901, 0.45779044523994206, -1.0780878200406996, 0.1992998018059355, -1.4540857259702353, 2.485034727712837, 1.9941511962949379, -0.054178306470394684, 0.011188291326310825, -1.7874887679680511, -0.15298394635645188, -2.402560060451137, -0.8952925324011313, 0.29232526036021034, -0.8430053715622068, -1.588341419416791, -1.9150690497640692, -0.3754549247790395, 0.7289605084872024, 0.4298269745622357, 0.24901204936596605, 0.4247553541453559, 0.8960717178284764, 0.6056254240710603, 1.2150930293013653, -0.32499631564237613, -0.3780426598344224, 1.3204068308909809, -0.6778780050080132, 0.15723109853155112, -0.9286613429542396, 1.3196940401578903, -0.19164703202960395, -0.07756710293450027, -1.284903530917483, 0.9939325402147741, 0.7375248349473816, 0.950563169971308, -1.40121388445322, -0.5023728385599175, 1.1137222628695844, -0.7694249271351222, 0.2250417205323085, -0.32977568272309493, -0.4611178887960187, -0.7249678146746549, -1.596540918990746, 1.7265338140160464, 2.210313670393393, -0.7254290429759382, 0.7502413000688879, 0.5180787903370592, -1.9801107006568004, 1.5661833567062113, -0.5693960836381479, 0.7598236255129565, -0.46051365677118183, 0.6687391307222029, 0.5086593791927599, 0.07597450422428542, -0.6912064024183353, 1.8466354089515706, -0.732401556853836, 0.8843725834932805, -0.09677443671071716, 0.7634864435288511, 0.08846170986856602, 0.24930021061013646, 0.1626989740294246, 0.3847225303385913, 0.9985622338455666, 0.7412666254047251, 0.04562384926007659, 0.40254986902016565, -1.5898642146126944, -0.9811283194673521, 0.9604812535321525, 1.3740898757120812, -0.38991759536118403, -0.9797252741625032, 1.4531767214700197, -1.2394032028631063, -0.26500699391888954, 0.6362829431666178, 1.0230034459145885, -0.08814811929727016, -0.17661202603345222, -0.04934545382562089, -0.2702962362513402, -0.03861787613743842, -0.8795849283113223, -0.2813542242429309, 0.6947874430731684, -0.3996529705877006, 0.26269678498976695, 0.9645404420110951, 0.7111882227998945, 1.3916973437372844, 1.8359312602275653, 1.414824418817434, -0.9272819899855903, 1.5304191677312664, 0.560735568591204, 0.6406875119627119, -0.6304380502983133, 1.6403690474551302, -0.45871342290980865, 1.0411787012704998, 0.5405584208623444, -1.666781611023237, 0.3808756563278921, -0.28665657382979265, -0.5291819633681158, 0.10390245904281814, -0.8182919027239676, 0.7852611398034256, 1.2214154995556805, 1.2345063818099928, -0.8894042828748725, 1.092644183861708, -0.549231850599214, 0.5161122190518139, -0.8397003637603707, 0.18096936067613828, 2.1103231497674235, -0.48754215339768686, -1.0928840647620708, 0.19216703149426956, -1.1169848130504025, -0.0681644012769032, 0.29776848186182714, -0.09367745633078683, -1.1742252541607148, 1.5147876834838514, -0.13076057441862265, 2.376801901738662, -0.5123614612602763, 0.4836455146182961, 2.021291729861442, 0.26609084361131785, 0.4001318985963468, -1.2715471789131514, 1.5846848787451007, -0.04055967635543952, -0.5567019298503931, -0.05223306720247382, 1.8249290353699008, 0.6542937301643241, 1.3556167259111995, 1.6105735845614264, -1.3678427216956992, -0.14679278733756676, 0.93325349591294, 2.39161385202778, 1.1088468971318788, -1.538113972442731, -0.16895962073563991, -0.5348846457822158, -1.153750215579103, 0.0055490904398428, 0.875958067723889, 0.5319082999495488, 0.08713291621837423, -0.061638483752152674, -0.5835004437572486, 0.5305493789262841, -0.21716982953945926, -0.76321681541348, -1.7883078967881225, 0.953166076589848, 0.4232944242225948, 0.335598724105143, 0.8093373631045716, -0.4568248735121239, 0.7339811519696838, -0.14596239138974995, 0.21487026324128214, 1.6981018293958912, -2.168068488723732, -0.6512985071541404, -1.6929714700257672, -1.0631561534679985, -0.5613963479328685, 0.5406701398199687, 0.16781886849015737, -0.7107769961310046, 2.4637034311051065, -0.028225231101661554, -1.3844853383682154, -1.984362280585505, -2.483116478387071, -0.3735882470687267, 1.0318607996554177, 0.2830045223755928, 0.16604542844175352, 0.5084547872772309, 0.8776167685795075, -0.8483941398932703, 1.1631534518489741, 1.1091880485017278, -0.6592271077522882, 1.0959202714301888, -0.10221959123958715, 0.08748564638954577, 0.5386395627235511, -0.6327853066575733, -1.4620214034849517, 1.2296727964611955, -0.6746496381801939, -0.04977176886507465, 1.164938941258392, 0.22958882315445084, 0.13266602930892782, -1.7723013796972475, 0.9363146800573894, -0.2534336709231823, 0.8426016512677598, 1.3045367810250892, 0.4544315375936699, 0.9535585825207864, -0.4833308976356619, 0.053766974503593315, 0.5741922423723926, 0.5021427335972182, 1.9632215070349432, -0.5095229875677385, 1.0696246011852961, -0.8172356628932517, -2.5576645635683346, -0.995291019069326, 0.42360163148787405, -0.08743999312669821, -0.8443728110753781, 1.0072815870599519, -0.08164607117824321, 0.7454242241117622, 0.29579102976137894, -0.6421886705569584, -0.25437095109832125, 1.0490468673861042, -0.028076490002369933, 1.3795434089329444, 0.26316179174076015, 0.39234996575924735, -1.2217167338141426, -1.3564778793794758, -1.2081002035147963, -0.6004642384856419, -0.26263909089692905, 1.882739984952666, 0.8376625707610659, -0.28435266131787, -0.0013460982237117835, -0.08602432797663515, 0.2520898081058323, -0.7387581700788087, -0.3296247917546237, 0.4856516540365141, -0.8351584822888986, -0.36935937757789483, -0.5045449209731089, 0.8140690349502842, 0.1273315332549709, 0.0863049308820091, -1.6048934215958348, -0.044000462285708954, -0.10897759211822051, -1.0175630002789404, 0.9926453990914615, 1.1745350264630248, -0.9041120836147899, -2.833778245621284, -1.0220178113022045, 1.821787964881897, 1.0515679545607999, 0.4744953566860539, -1.7966690616109644, 0.5203272593455517, 0.9474084367821153, 1.1389563755441487, -1.1000671224330951, 0.13985236402936047, -0.5863444612659797, -0.9940754091770366, -0.4745391200794244, 0.5884671576277417, -0.8320945970220941, -1.8959773835025535, -0.11663510151096042, 0.8609235365264992, -2.0092290120634555, -0.5124946887487605, -0.5589667741198678, 0.2939461193522348, 0.53681749940572, 1.150246922519459, 0.08756059177780368, -1.5279971982857516, 0.8462014235043783, -1.7345530510868281, 0.6297123818653942, -1.0760432103565476, -1.056503173184174, -0.3069769164896954, -2.699807011372196, -0.05325602821085685, 0.6644342541536254, -0.40766578537561626, -0.649188806869367, -0.30447317587077166, 0.010265729523275275, -1.4118895915710103, -0.6148588459110775, -1.0982032788460738, 0.95832246734873, 3.4820420214871355, -0.5994502958432867, 0.44453920837332367, 0.9099550286388053, 0.5507803055952156, 0.4686260696458004, 0.8378746875425913, -0.012730361923997579, -0.5594106691743064, 0.5773012680872303, 0.42854816620326147, 1.3981292366548506, -0.9672418882299285, 0.43505304186306126, 0.16056545868716435, 0.06420239170002703, -0.040234435739895144, 0.8627747027774946, 0.3396384924983646, 0.22384913517302263, 0.5849985539220643, -0.43850000541279244, 0.40726170811266005, 1.0311132354396355, -0.8793522927145521, 2.2082515042539237, 0.13305938761595318, 1.6983856315680252, -1.0923033769936694, 1.6392332781466377, -0.4551096428642982, 0.35313829410449793, 1.559066973165872, -0.24601522818033644, -0.11509040434347671, -0.43017175600771485, -0.3852749534634207, 0.7176068446687601, 0.17907507011558213, 0.1624518679440098, 0.012566587872620773, -2.474297908404039, 0.5295923799203013, 0.33320246257916264, 0.6345792217544705, -1.0612117778254184, 1.0524334149751555, 0.15187805986357447, -0.751926535525638, 0.29159976877878624, -0.019296366053589253, 0.31453613913750095, 1.720375580987959, -0.2095706777900393, -0.8756911839512213, 0.22435935504121235, -0.4063389199007487, -0.2230150676334476, 1.974691752296639, 0.6984670148743154, 0.2094197290418154, 0.6645350394584971, 0.7215727137129314, 0.12572853281600985, -1.238036365038374, -0.09125440996159348, 0.8153948721642587, -0.006271307925965989, 0.06901792863421749, -1.444775897315584, -1.5872666263444417, -2.086787174511285, -0.5826051796623026, -1.543022933614234, -1.0476192505430515, 0.3651387325279395, -0.6901088471425417, -0.4244975845000434, 0.3245768923325461, 0.20633212332288137, -0.3826334045011207, -1.537711942415646, -0.17877890185376877, 0.5860031419953898, 1.319492414651913, -0.6891180742838691, 0.2917825183340746, 0.7499990035955526, 1.9420788946093313, -2.301428008723641, -0.4417820341585328, 1.0512428143944557, 1.2154722396162891, 1.4230018598531158, 0.11406038657754607, 0.41136046933262504, 0.6208946954191887, 1.1027123547522057, 1.437157171040389, -0.46594607568264823, 0.1254271656101777, -0.6987525360508109, -0.650237445926879, -0.04150260564058109, 1.160118577566626, -0.5870267119081265, 0.8873269009883094, 0.6719696764880748, 0.492575099422792, -0.7308361106295052, 0.5426514484287425, 0.6892555150641713, -1.6353075412786975, -0.8451344924717819, -2.1104234965723503, 1.1437738294948, 0.299658685984192, -2.0655815287677717, -0.387810198890247, 0.6761349180277745, 1.0207719204406418, -0.4344726233610007, 0.5678515374209961, -1.2471221688092502, -0.826771682066052, 1.13206893891295, -0.4119926631370421, -0.4791025542648007, -2.43081325275135, 0.20318168858896263, -0.7312576811330459, 0.09176916006602662, 0.9044423029727918, 1.4386476122923797, -0.8684142854553794, 0.5592530911178718, -0.81930524799708, 0.754484767659686, -0.8265111301835675, 0.6897278201241489, -0.455488761370913, -0.3216988728495084, 0.7481513981106716, -1.2984604450988302, 0.5986028750764723, -1.2590502737014229, 0.9393677673067733, 0.3192770111339814, 0.19287089131297813, -0.07509258816857584, 0.06705780659009342, -0.39847955956156056, 0.2626734587761434, -0.6237003750640912, -2.4475989598547003, -0.6276646948664856, -1.185059615943055, -0.20115833256349797, -0.2463350593166494, -0.253152432241667, -0.9213374232649293, -0.5837575923892209, -0.08712380743765666, -0.2532070658889704, -0.23540875204900322, -0.45557204135497364, -0.6735397830629538, -1.0316676915740395, 1.1242217180744127, 0.5994739468358321, 0.21428431561264366, 0.4556705654435354, -0.40935032679265365, -0.17352410135027735, 1.422599662131468, 0.06662795485681622, 0.5763250480467434, 0.8585330441008382, 0.5625117659037072, 0.2635439186019461, -0.3594593047640842, 0.3694182568571751, 0.2213646459420464, 0.14575959502237407, 1.0674620844102747, -0.054532535645212626, 0.8233813112407038, 0.4842713906076113, -1.244563793198698, 0.0998417188741337, -1.0984047676839592, -1.1232516729880522, 0.19850405697881507, 0.4095948081788834, -1.5450753745890615, -0.7450726793267349, 0.3218343507726032, 1.025337975125967, -0.26079111889457257, 0.42374819517388423, -1.162359864964743, 1.0376450582722505, -1.3279310988991657, 0.6593430041875791, -0.36684773507525625, -0.02536311798293537, 0.2815771650973012, 0.1733584456869649, 1.5173422152112426, -0.12079805781146158, -1.570639853640244, 0.2611253293480849, -0.8476077929208365, 1.464914797573618, -1.0670998437176775, -0.75078119822707, 0.6756799477090439, -1.123643225504178, -0.5219888175257681, -0.11490431987247211, 0.8640271899549661, -0.8603203188017309, -0.7910242561056586, -1.6702037553072733, -1.8078003427269773, -0.8093241544834373, -0.14739928886905465, 1.783371650061526, -0.5484263037933266, -0.041727318786103196, -0.8303690623220723, -0.24058809954412452, -0.01071372421557577, -0.01235609931825272, 0.4043544429090125, -0.4213942161965596, 0.8121114477122892, -0.42896000432246034, -0.003487710672688532, 0.4114140288135568, 0.1755182677872306, 0.34443181797575023, 2.1954736613299732, -0.23782271694526258, -0.6987780464116848, -0.17565783441534408, -0.5446665373438535, 1.2673979761202097, -1.3117906215032138, -0.6328615173674694, 1.3090960259371967, -1.0925817745388564, 0.2819709487256205, -0.8615402472259078, -0.38394327519257865, 0.2173660773132759, -1.2442723706089154, 1.5302984687090446, 0.2597529372966221, 0.2466412499430482, -0.8795023159985553, 1.1417502001892457, 0.35246887716845315, 0.7385376946256776, -0.5498197200353537, -0.47772231960231315, 0.6414968317723645, -1.0124746478524813, 1.8320582160792611, 0.23566219663767649, -1.1256713879630647, -1.137464344211813, 0.043210269000318276, 0.09827657319210845, 0.20980920375931372, 0.6891025311325352, 0.2592328933272934, -1.4211484333607562, 0.4880086845641392, -0.7736767013187886, 2.128984455812058, -0.3727368339212077, -1.6119972521010975, -0.8663273530564696, -0.6996667981403675, -0.025850214013246223, 0.71846776430271, 0.04130681026465026, -2.0456562269742498, 0.09672560736341192, -0.19102606740061115, 0.05898492966163825, 0.8988762814025731, -0.8924400893817083, 0.5687233958367526, -0.5076663581543323, -0.15558467767740125, 0.6752523259712132, 1.9343907973604215, -0.8144578703807559, -2.2166415084000537, -0.3054994171989794, -0.8300569287585097, 1.022513725573348, 0.3745484190652339, 1.2837055478018788, -0.0382305408702754, -0.8259830573144545, -0.7543687512460471, 1.458531310300737, -1.0750835584595126, -0.09185195531384917, 0.7922128070217828, 0.9204234735800422, -0.26677329237716807, 0.012016810781371743, -1.045433297065074, 1.0505362340058477, -0.8834497314609044, -0.753950917834729, -0.9881905552593443, -1.2774719531753513, 1.0421640372311372, -0.39800873487334093, 1.1238442448395853, -0.6891697603295032, -0.6778980074314891, -0.09464922558024905, 2.2725367229566875, 0.391678439358277, -1.0506369688486368, -1.2631432820213393, 0.5378685876486516, 0.36687182517006744, 1.394343438416174, 1.3192330248801816, -1.8834579909568339, 0.7013313855165492, -0.6631181088257456, 0.7362804234158572, -0.5754622861830255, -2.0337760484299343, -2.0815271991672892, 0.7123768741239173, 1.0526330947661553, 0.08827683832123864, 0.5851493265869345, -2.059299840053641, 0.5618941546969117, 0.0025179656363188505, -1.3570272803201804, 0.46597752208672805, 1.4207142363228822, 2.6355418958516905, 0.5492278040834357, 0.02006663267714708, -2.584297256155842, 1.5524959551933701, 2.1166997167058215, -1.7056216714665697, 0.4204081642388942, -1.9798878738003232, -0.556641316126728, -0.7049152319711821, -0.07542719698755802, -0.9126324886952993, 1.1963931826480645, 0.6130179243321803, 0.5878781145178226, -0.4090097029242555, -0.5859459978540483, -0.30289600559035523, -0.5007822347212886, 0.6100320215450704, 1.2005173928842419, -0.8849431097701741, -2.1464655336723424, -0.10219934170322631, 0.7534073481187875, 0.792186951152215, 0.0879779600614762, -1.0796619746066107, 0.08736734067880458, 0.09472948157450573, 0.4409798806035772, -0.586881648526692, 0.2613167664794407, -0.17672289743606337, -0.33886942417901683, -0.4460460213311071, -0.2156357591393556, -0.9647017246710836, 0.011163641583778491, 1.2425629856611766, -0.5333744722761959, 1.0002317013697528, 1.6801854533465197, 2.4551355368036547, -1.9850824923683563, -0.5413063396558208, -0.36259068776994696, -0.6789400590018458, -2.0587420925806748, 0.2973710362280208, 0.4182581548777197, -0.41520137318453093, -0.1717470893937908, 2.1913655123142335, -1.188096856875596, 0.769590086342854, 1.9991330527872604, -0.3023220463182566, 0.16273945605732923, -0.17099561374388364, 0.5175233666811463, -0.6320205891872293, -1.0792979178102693, 0.8073834596159781, 0.47296645665507, -1.4618138890195946, 0.8536947544273756, 0.3884982479083336, -0.4914640332588758, 1.5299634731384777, 1.1106940324516428, 0.10335708703010192, 0.3332141165024831, -0.008386886526975463, 1.7786800596609675, -0.055825758904407566, -0.9000906221446011, -0.08373193708806895, 1.0810654827613897, 0.31381213611335096, -0.23020609926668215, -0.09333183214128406, -0.8100485508585024, 0.04161393155573913, 0.6047860653179974, -0.8653463102425991, 0.15882235463576702, -0.11729342763391169, -0.23758266235790762, 1.8487617438243886, 0.2726775269330434, 0.04117292291118242, -0.3979464136487431, -0.28056216864986794, 0.25468264357751286, -0.16972333655110408, -0.15345855709716602, -0.7125534034304647, 0.9993940521135221, -0.2956761042102723, -1.267977600040337, -1.6783685813986293, 1.3121326051128996, 0.2936705166477493, 0.7386562249412972, -0.9469957461420204, 0.9771120684966176, 0.9193044917911888, -0.22085287409754836, 0.5168940850458518, -0.32940317838978717, 0.5670654647083258, -0.03096525019387066, -0.2204639552048403, 0.8406028288023697, 1.7738380021160869, -2.3169579241495506, -0.9724108785439167, -0.8188901156543142, 1.1379220499715181, 1.5042780379859242, -0.12075108228362604, 0.5343804025587566, -0.5980396949582559, -1.7287400772429269, 0.9546831389089638, -0.469230187890885, -1.5565773906549683, -0.6838455976877922, 0.02172961814262028, -0.531491397564761, -0.13556209987002701, -0.866620273007956, -0.7098823590144515, 0.8883180756482926, 0.38863310919055183, -1.061195967544763, -0.487353969880077, -1.5889728511509553, -0.8120884810504175, -0.5956301832074414, 0.008115162534703289, 0.4011332320838651, -0.8189087536398758, 0.324384437030269, 0.9182865492089272, -1.8098372906902516, 0.37568158111963157, -1.0767380886983935, -0.20149635465515922, 2.8054741952188222, 0.7110785829552578, 0.8566193856952559, -0.8491614482749436, -0.5876994335279657, 0.6589084449357102, -0.22723645362362974, -0.3932333073497973, 0.38561599824205683, 0.16159633788279373, 1.1651604261438289, 0.4384045232418699, 0.1839221361713745, -0.07477518886538813, 0.9532999373451011, -1.3885190345211127, 1.1523670030534336, -1.0531705532818416, 0.5642112600610671, 1.229517311867505, 0.45460624061181537, 2.1911717224263634, -0.3760877823479221, -0.4802697076178582, 0.6347046303146171, 1.1159633569338583, -0.5817843641468361, 0.0058467042164593265, -0.6246594798884932, -1.127441652186932, 0.4149711048300041, -1.096556092007184, -1.414896168136103, -1.442403545917947, 0.9747588587575993, -1.198732205618561, -1.532786651123954, 1.4132469311988594, 0.04283729891747743, 1.9555826007127695, -1.1264924043064017, 0.10882748967344852, 0.480530789212095, 1.0977416723082463, -1.3971610673047214, -0.6255309330385247, -1.4710046053018797, 0.9343503819881942, 0.18670481414827872, 0.6855559775508543, -0.27563239511181853, -0.3179732397236558, 0.5857103984327933, 1.0122201165553208, -0.9739734510008308, -0.025634620274160195, 0.525667718365441, -1.3911890184858786, 0.2875409614893606, 0.6309298999315316, -0.0787472166669748, 0.4523788767354661, 0.6003517863568429, 1.0663620475019198, -0.3054826483754636, -0.3303139962720668, -0.07323636132424487, 0.33646739435349826, 0.04937972533652983, -0.5766127138150686, -1.299594100627176, 0.9301482423054876, -0.8393104952061867, 0.8380505639093151, -2.8314706526562303, -1.111308589262449, 0.034086003740635015, 0.22039995966313003, -1.4451137013668485, -0.7979738364175967, -0.5620068589183619, 0.509475959707243, 0.9621986689789636, 0.03342333873283472, -1.2617726117676018, -0.5404959318314396, -2.5288639379090734, 1.2193543638238649, -0.4465133934838622, -0.22875970258060066, -0.41230039817751957, 1.0446585935466213, -0.5278413587962059, -0.5975644715764987, -1.0803293549630844, -0.5475024296234575, 0.280374354457131, 0.3773850683956785, -0.12282510173545874, -0.4556642631515911, 0.1722430206715519, -0.9483025577651147, -0.876053058156183, -1.3411210751108043, -0.9540153938625163, -0.09953253281469651, 0.8887620716059805, 0.502063219656649, -2.1893108353676185, -0.4862085243733026, -0.00040361107840583164, 0.4005408016810704, -0.46700144653523473, -0.37578470294384725, 1.1245132312561352, 0.03153427462078454, 0.7039816398526788, -1.196690121760039, -0.6947182367151074, -0.21038537120388556, 2.669686749738624, 1.5545277157272857, -0.9337292190842892, -1.5598637045086106, 0.38382118570111373, 0.37646300329046617, -0.33713797639448834, -1.3704044996183045, 0.18708821200000353, 1.1775050448945394, 0.7527972741916283, -0.21001961797532798, -0.2859745744727028, -0.09311133382306191, -0.509603338010962, 2.1224919039515475, 1.6973492941951671, -1.5962926490972202, 0.27244534054886954, 0.1692883247660236, -1.5194125183818001, -1.4177479296341222, 0.11224734012210624, 1.8639427847063121, 1.4507394432624543, -3.383244864634014, 1.4263234522068533, 0.5663141963402221, -1.1847244323707629, 0.6803139518532035, -2.5140420064531876, 1.1017025681312318, 1.0022359472941187, 1.775271800033939, -0.26262922440879166, -1.0923604968440412, -0.026362391685427363, -1.7582507732309887, -0.37850326137216656, -1.3123346887525817, -0.3264063240744892, -0.8076284092415839, 0.29468687946620536, -1.7404901166474411, -1.439210564167257, -0.012999840186010548, 0.3541983909664851, -0.05617832726392626, 1.574067066468471, -1.4033359755461048, 1.5164774179783922, -0.5303200502469124, 1.8065703223223548, -1.188566694289141, 1.2929244098687154, 1.4892201910904501, 1.6568986396049719, 0.7772884164757026, -0.6008767884033664, 2.0976694337446373, 0.6016785788395465, 0.2560260715376178, -0.6076204365429684, -0.3039785307470983, 1.0636117303312727, 1.1445661009679486, -0.41174261190886413, -0.9965487919539274, 0.14473873205405086, -0.49404132720253174, 1.1384310904168602, -0.9203587650421818, 0.6687807890328172, -0.5978754071561313, -0.0379084615863588, 0.909676304262043, -0.5254515562966926, 1.133911641987734, -0.7826698609357359, 0.9637873974965131, -2.179501207935476, 1.3852058950897395, -0.19052292017050554, -0.36488926994585297, -0.515920788811983, 1.3704953659876515, 0.37988069513562617, 0.6234469230845501, 0.12554269013528913, 0.3795084812091465, -0.2952217802441127, -0.11059700316524951, -1.1455816092458095, 0.3101667137946923, -0.10715344761141765, 1.7444268830323428, -0.9589164532698594, 0.02476184544158057, -0.8645410520595721, 0.25220614236091704, -0.4786476052535572, 0.42408478337656924, 0.29086926813056196, 0.7704906370097845, -0.22301335275830936, 1.6130852552125903, 2.067080469944648, 0.10769993102554354, 0.23843339202787206, 0.8288203460628969, -2.111917341137807, 0.6523128617060878, -0.8304739678654792, 0.22366850821691028, 0.9753044703628005, -1.5859829329954065, 0.2959887454675787, -1.8792430642922022, 1.0929167624679692, 0.47294938584749985, -0.6086447613000601, -0.01582975187038206, -0.216170315894062, 0.7453336388219376, 0.1019943700134089, 0.8335576162191755, 0.28099065714343796, 0.7846089592014255, 1.416309690343853, -0.2676700819748136, 0.34270492155073173, 0.40318140664758245, 1.5522063335158822, 0.24485103736707084, 2.93477410820957, 0.46396930874332415, 0.2516757507822113, -1.4076968808804673, 0.8806410473280486, -1.6329001180826281, 0.2742658392704616, 0.18919672901584866, -0.7237993124939625, 0.8498615602797637, -2.011756689063589, 1.1879892112476813, 0.598828056242983, 1.0885169570079227, 0.8837641629184275, 0.7173983740178268, -0.5521409068233932, -1.4159559580063206, -1.832322783785515, -1.1050761993200382, -0.2010132479793544, 1.135938212700261, -0.24803845128308322, -0.8589675774404498, 0.2961092383064623, 0.19781863161997235, -0.37266065920076125, 0.9516399540301411, -0.18256061406723967, -2.4298017920769905, 0.9905240957999072, 0.08948645819147014, 0.11827113505128786, 0.6719941994844788, 0.890117602807901, 0.369465680795216, -0.09519870968714043, -0.712351318296841, -1.0882918841124978, -0.0004853987001513027, 0.4287936800775547, -1.5889243225266838, 0.23020380609690355, 0.8183845209534374, 0.6126916814288635, 0.16464912823731165, -1.6104541126374712, 0.46394005873715266, 0.752834587842805, -0.21796196961585393, -1.674334736368562, -0.15854437315374656, 1.4961549729098345, -0.6053909690064392, -0.24268086265287564, 0.8039864611997046, -2.8946615976416523, 0.1468037213897827, 0.1778579566798401, 0.8165809146444406, -0.6435615418172985, -1.3084282135102434, 0.20590145899537524, -0.862089724162381, -1.6202509656325943, -0.7848151879394152, -0.16416753046899235, -0.47541820272742874, 0.5995472839289785, 0.022491748912736503, -1.1292853204896922, -0.0831439993388332, -0.25958684675434457, -0.6448748556410376, -1.48174571756931, 0.3494263026616763, 0.27460236689618345, 0.9499053707427726, 0.13674970925085211, -0.6638103335672431, -0.2701842570871561, 0.5927071810040534, -0.293720155798587, -1.1275668742434077, -1.0958120925276849, -0.33567661065282245, -1.77129749296946, 0.14605843373395772, -2.1201703607994915, 0.07487839603767031, -0.4628946513476238, -0.8555959360877774, -0.24957655380402874, 0.8984152596292537, -1.2566596735242068, -0.8976821279451632, -1.3419915906073052, 0.6521663599395116, -0.26418944042673165, -0.19524691762851665, 0.2770371490657761, 1.131892692567961, 0.32349703477294733, -0.9182504993501487, -0.18920433140027065, -0.9116549207433176, 0.4943889038484579, 0.8057184999030765, 0.11798190838836849, 0.27998387296815974, 0.2463901561801512, 0.6262526970368527, 1.597877684987374, 1.9332257230346976, 0.43859290423212816, 0.6636628121209502, -0.5283902376058506, 0.5681961541564207, -1.056276026440826, 0.7483611846611586, 0.11728148484364352, 0.9851426209804807, -0.4431437569239198, 0.2802674796335557, -1.0662641180771257, 2.1351857367563505, -0.0798133767610728, -0.1269365142760042, 0.07717010038960666, -0.48883818211549435, -1.5563537953009774, -0.2809899817992507, -1.6192306345508922, -1.3431471410218172, 1.1923621497472192, 0.23240385025200402, 0.8176332414403568, -0.03400894657747339, -0.8122238167534408, 1.3185736136192687, 0.48075505483612785, -0.38627730472907357, -0.5523897956008466, -1.987468905394565, -0.8413692149949927, -0.8021149454436619, -0.7740053211795851, 1.132702845762528, 0.08712256342677771, 0.9416538295895186, -0.06986778475051018, -1.5402213957076683, 1.546054792914098, 0.29005771472846226, -0.3606169327967463, -0.35576325808079085, 0.5420659181147386, 1.4276330770517842, 1.3385894890940269, -0.4963161125437763, -0.6290518267741751, 1.5721950904823587, 0.4546822770721979, 0.2007598977257041, 1.2028709081307052, 0.6700842906269747, -0.3276496227104107, -2.0043472778201004, -0.2402276726096398, -0.04444794248909757, 1.3822066898017369, 0.953060925714867, 2.1074369839233573, 0.5431285659428647, -0.08708518725745533, 0.2451760292615842, 1.045265342958897, -0.6113893356980924, -0.03566706344776721, -1.7301410978068927, 1.3424780085626138, 0.6489193066116659, 1.1082177335014933, 1.4303696214569108, 1.6848669478307983, -0.3092559710499345, 0.2959678117198052, 0.613934978844642, 1.5729070215618932, 0.5623621255310861, -1.5118171887260587, -0.8306349214923491, -0.3751021384358645, 2.947053805674268, -0.6190446040743477, 0.8249831301782707, -1.2126915151830848, 0.2449060909032342, 0.9007719807221376, 0.5479748974044132, -0.07902793138127814, 0.4582016609926406, -1.6840984653892876, -0.7453186411630789, -0.7225685629682836, 1.6575370193694516, 0.5054718786171378, -0.1925072122285309, -0.6229566618990307, -0.9422051489029205, 0.23645013871744658, -0.09516156268376157, -0.38970831324202704, 0.641160118702259, 2.469429537661463, 0.15333289347213833, 0.41982855188643403, 1.2753100986341879, -1.1890661312610749, -1.3181046048712577, -2.250559803028583, 1.1759186465252085, -0.27330849003743474, 0.0754858069224537, -0.08629413443385658, 0.7112607249285506, 0.8209940611505891, 0.08936672007335066, -0.20382792882654746, -1.60910318917718, 0.4594440879349586, -0.7355922982176446, 0.18291159828496686, -0.111520202050404, 1.078930310249145, 1.070519258079608, -0.7426931874156651, -1.6150889560299264, -0.895067643555653, 1.2676406835757212], \"y\": [-0.023606223842829007, -0.6504545069725444, -1.4427834768310497, -0.8826988642088189, 0.8775492086447028, 0.27844594830493036, -0.8881859439569695, 0.32390997436057734, -0.3458673170498108, -0.2231035091479488, -0.09386836984356337, 0.7585470887221573, 0.49668802407504337, -0.8906077106521495, 0.3810860710291979, 0.7725556474687214, -0.355927940735238, 1.3755448019188858, 0.5406900035885022, 1.1048502942830702, 1.6876568262616511, 0.04874307677313874, 0.9164545667265235, -0.7988936464223785, 0.8963332270174228, -0.206909041024999, 1.0702578019800792, -1.0627249889002635, -0.6076146213326394, 0.17206761298994494, 1.827473809750781, 1.0690123147672046, -3.039731321395044, -0.8625375779464903, 0.44188099165067624, 0.36424121703987333, -2.3356066312097346, -0.2200036508154387, 0.2633581860056177, 0.5614718130921341, -0.16000299949372757, -1.6058233598741836, -1.4830435498336485, -1.5971031699580687, -0.3882197371720388, -0.28052169107307345, 0.03142987113060339, -0.23862002982501326, -0.983669147989676, 0.5466296688793899, 1.3821385933182735, 0.48615761278855013, 1.7388539422021903, 1.2415983308878287, 0.7805175512752894, 0.09086256674067981, 1.0026533075257984, -0.5807224516420298, -0.27998506705522613, 1.0032514180898675, -2.3962885141976717, 0.4558231782577121, -0.7244465592184874, -0.49949187972397324, -1.674158556944442, 0.37224653862623147, -0.9395336447968792, -0.21135096872053188, 0.5611081381494845, -0.4742813516354326, 0.32382062060716404, -1.0400673186568903, 0.7083392314382848, -0.5261601553392122, 0.044230832320693816, -0.3449283047995562, -0.9266221232715067, 0.6417900453592342, -0.28347797215074677, 0.4114163194069845, 0.7777353880368452, -1.2393039318580423, 1.2503310709450575, 0.652563171794327, -0.6010980988713661, 0.057894147630805276, -0.7179897164326814, -0.4367113613573236, 1.7131211119151748, 0.9828595008536078, -0.26528572053803023, -2.307196194249299, 0.2036257171374692, -1.184487946010365, 1.0895288013717743, -1.7143346759793252, 0.78232049432705, -0.5972293101897974, -0.09599931921787552, -0.3319368064752064, 0.44836838833138964, 0.9042730602502737, 0.9872961279609708, -0.0010732853056241365, 1.1582216169011474, -0.4217580175905729, 0.45236255371968276, 0.8173438965576633, 0.18389721412715668, -0.3413486334976643, 0.5517461669063801, -0.13698048829393342, -0.9848490847299854, -1.236161608163217, 0.4532516063532217, 0.8136580244757828, 0.8862788409915819, 0.28195509488467674, 0.7747680280618083, 0.39215341588558983, 0.6184049900493901, -0.6621296652028748, 0.790630619882568, -2.3709369981789217, 0.22087687062891412, -0.2070762018404215, 1.0153872040459258, -2.0729983217654335, -1.2703637086926356, -0.43985799222458866, -1.3349283042212166, 1.1617161878800324, -0.7532493378319094, -0.1405594344970793, -1.3127391869626484, -0.8867932121837249, 1.0938940968672708, -2.493802547826389, 0.3976732478222037, 1.8560411622069946, -0.18445592548625345, -0.5883296939664712, -1.8346514836829242, -0.45138718616262835, -2.352171027040608, -0.19066910271337717, 1.186774444711014, 0.1297430835749808, -0.6724090724195838, 1.629751134966166, 0.414063334002259, -0.9802984630779195, -0.8321447546126043, -1.4337780536732532, 2.03146673200092, -1.2867071160636088, -0.6049667752747773, 0.8559748146921229, -0.4869451176757644, -0.3834901641248721, 1.7633143151213997, 0.6001074738139761, 0.9376672122200618, 0.7652272158213206, 0.4687983157439744, 1.5563362510680594, -1.0850807809011025, 0.2962527368232286, -0.9901025652195693, 0.521455320265925, -0.34840442128771526, -1.2573100610114443, -1.4351345206369202, -0.07876453534341071, -1.3846870300711516, 0.21841748859809082, -1.8504801734127607, -0.12652255549031166, 0.07584900087952325, -1.6314376108500726, -1.7639910465946695, 1.5850525291460427, 0.655064992146779, 0.5376297225922896, -0.04943657709485866, -0.23249963192426348, -0.5024621617520317, 0.27092791928509513, 0.8593086628719252, 1.2833908968189742, 1.628251639837232, -2.273628428398745, -0.46308682164245096, 1.4175930561522738, 1.0508814328620666, -0.6099291951325221, -0.39013841131363436, 0.7850259211895967, -1.0466847057538675, -1.326143825801875, -1.021039523899517, 0.5571241315676444, -0.4009758245134849, -0.4025445470283117, -1.3403054796409546, -0.07719267327986541, -0.29728052013822054, -0.7310225960804041, -0.19517725858305665, -0.4422343214321919, 0.19259494348977607, -0.6571481573908112, -0.9131731407126651, 0.9740385511725084, -1.575256249754347, -0.5101684654274633, -1.2722974292371902, 0.5811879946079657, -0.08705923581564494, 0.8416218687406233, 0.15068057402631188, 1.2024608666851588, 2.1099829345390653, 1.1002410377327418, 2.168867140558942, 1.020791484455808, 0.13922212778052626, 0.8083632881737003, -0.2911946882426288, -1.365820423288462, -0.6227816656454167, -0.10832217294918632, -0.08352700346229874, 0.4265250110126308, -0.4808993259927328, -0.0946058482075424, -0.6075053083940404, -0.7023761534306312, 1.716338648796263, 0.3376093530220065, 0.8021832186387386, -2.004085078194878, 1.5188034780998114, 0.3051237572086531, -1.4601944322460014, 0.39676445979780145, -0.27458063731308396, 0.3885461075115569, 0.026461018515841195, -0.5786969472468941, 1.4144898112886934, -0.7753807848731532, -1.268023702044964, 0.6436286667744335, 0.9756820422768199, -0.665073565413234, 0.8253777468906934, -1.261974118630102, -0.39925555564046156, 0.5927599191072549, -0.11425243936154615, -1.3414834127675406, -0.6653778179770752, 1.63083232508911, -1.2188639753195107, 1.2649705049302447, 1.2068986225028553, -1.149021507282985, -0.18786999219149889, -0.2355338520473898, 0.33364506776516867, 0.6685422183874806, -0.2762712160267101, 0.22206069118325683, 0.796290508325933, -0.9984628070413896, 1.1450078593541604, 1.1725272156320505, -0.2513149749740895, 0.3820370467774776, 1.737061829061982, 0.6769858477236963, 1.4622053143430191, 0.4739439391633013, -1.289642562702498, 0.2764538955007183, -1.0350881768948723, -0.8859050555098198, 0.40839060082949846, 1.4359581515602302, -0.5675294900762973, 0.7467245709873779, -2.236101421636325, 0.4569838414630442, 0.6166920171506132, -1.5226106355353712, -0.1355966758956724, 0.2930428518986438, -0.733207246638059, -1.0518753899407052, 2.424781452504631, -0.562649294601599, -1.1653720500458056, -0.7314354419336246, 0.2579136329975706, -0.900883455965371, -0.3247979814363534, 1.1948973177987856, 1.026112400470356, -0.15164629054089143, 1.2013671665661703, 0.08384409509288142, -2.361694349203205, -2.4346104183714097, -0.6781325265259259, 0.1321209749798463, -0.3485391731778816, 0.6060717713548507, 1.0301981340208404, -0.8223777450486056, 0.06335569447596236, -0.7433874044201616, 0.34139528539952557, -0.8855840398819781, 0.16135073777071596, -0.20371160569125257, 1.0896855849137905, -0.9222337315047735, -0.6608844002716531, 0.071246159214241, 0.7117101704850979, 0.5600411441706925, -1.11722526812756, 0.27670906136697876, 0.6119521254749356, 0.11930577619263014, 0.02731147259431403, 1.3737266085754352, 1.156989393638687, 0.21127026174676944, -1.361101197016146, 1.7011971052465429, -0.7966329945710003, -0.3863728911372383, -1.414750593309063, -0.642541658600106, 0.18897742542344254, -0.238983788070368, 0.24046475190021324, 0.02528996616426253, -1.0842126064754718, 0.04881981095177284, -0.9985490093931197, 0.044181924874625744, -0.2560125530716864, -0.09352782376380842, -2.5653686909481985, 1.4354328230811135, 0.03236423821144897, 0.8174153280176382, 0.0680950323912369, 0.0021416039134132146, 0.84592952699094, -0.7951188086328843, -0.2820490761259176, 0.538165649423925, 0.4710232859228532, -0.11281132848072137, -1.1593575963589717, 0.9384025984922355, -0.15263670378324748, 0.07621509499033957, -0.01688110979167884, 0.5281834439387848, -0.5279309331391296, -1.9357807267216856, 1.590332336613831, -1.0406233981227213, 1.5284655392527047, 0.5255280249024196, 0.7285834051946573, 0.7097206282506143, -0.2987273823935053, -0.3309202566719937, -1.1724155804954706, 0.15599005594088977, 0.9823707762588694, 0.5112126546361553, 0.34921665145026054, -0.24170373003806256, -0.07351958866359522, -0.3085223758546374, -0.7434871926185448, -1.115330917898139, -0.4035388841310129, 0.9782203455743081, -1.6791243105947298, 0.2779266521244717, 0.9206488138356876, -0.811416714682195, -0.21389049122655077, -0.27088088485190176, -0.3109097892590845, 0.13083608835064825, -0.47993638536451444, 1.0558300010252908, -0.27533335398346803, -0.6957308861840226, 0.48946865574722015, 0.17902749936170978, 0.6225341154440139, 1.6705157324894748, 2.2840844365150925, 0.800231715449329, -0.14274005713300195, 0.11801400838716657, -0.9074042806545465, 0.14477863374932032, 0.10606075747398364, 0.5997566323879401, -0.7570369375178145, 0.4474892800973221, 1.2196042186964422, -0.6405379176160567, 0.1724852302566199, 0.23975544526372755, -0.2835322290590711, -0.07461940134822401, 0.09501451985417594, 1.33906808481008, 0.20665158859212768, -0.9220586247698612, -0.9456629659993439, -2.036224728646986, -0.1687876663369438, -0.5010676078852989, 0.8372756181739776, -2.0010036618869806, -0.015961213706478863, 1.6423188144008387, 1.4846972840502213, 0.22505027848048803, -1.3698863429208377, -2.6105680070196486, -1.8396933392667474, -0.07023174527884762, -0.07675767297176946, 0.49576856630784755, -2.516569074878546, -0.7414029208483499, -0.4453801805610873, -0.49152232147999236, 0.3878821089822714, 1.0345159085960716, -0.4926530106095735, -0.3752803184809736, 1.2218967251322328, 0.25665913613697555, 1.1852846139131403, -0.6120697368133807, 0.46366244170546916, 0.6534926837624031, 0.19400127443623666, 0.09482435255166169, 1.065732715929268, -1.2382132993605388, 1.0690464622758142, -1.0180721648847937, -0.9116195260617502, -0.7937828197833998, -0.7942620991824441, 0.5466766165014862, 0.7755709769687898, 0.14538015315698208, 0.2815180240829237, 0.6871561844112901, 1.0831490547145777, -0.22558161568364532, 0.7629893905865825, -0.21194585608350539, -1.1152493814797781, 0.8619945866529526, 1.0612806810176985, 0.7013862051092236, -0.454020730321055, -0.8163859227132668, -1.151376177184644, 1.0215860165293706, 1.4074905082496467, 2.2782946976506775, -1.466612415752488, -0.21753369763259636, -0.7624725616189767, -0.18126264719930585, 0.5096454315236715, 0.09339676805335673, 0.4078718380979802, -0.5614046174278823, 1.017406091026927, -2.9289119386101783, -1.2610576254424082, 0.35146128325111275, -0.2625460745589161, -1.5812982068971917, 1.181097056286153, 0.9356284954644555, -2.020395759456132, -0.4687761627814527, -0.17212074672561434, -0.3752623913413515, 1.3723489586950264, -1.2755174145204717, 0.21482938717379235, -1.3839219022346703, -1.5249463902369984, 0.5280055583997453, 0.3014965900664978, 1.3317887994949282, 1.675835310249985, 2.018042365758264, -0.5827685356350045, 1.1669575133332424, -0.20292957271795867, -3.0053815560346315, -1.0753760320627488, 0.9077641775654259, -0.1921621341517016, -1.0077256531300014, 2.5418033635757586, 0.7739148824737317, 0.5697004274028875, 0.47254618323016306, -0.793574276978128, -0.6863186866787596, -1.242412170747254, -2.121282716197679, 0.18059547151764357, 0.15034979790569605, 0.06778010197944485, -0.039786914051947335, -0.8637795649570147, -1.453194146823582, -0.5074689441837942, 0.6480340272110454, -0.22066490940791997, 1.852881430397036, -0.48757237675999476, -0.8881952852706877, 1.459267781457764, -0.1999641219409883, 1.4567171472627343, -0.6836220983760163, 0.69293340358765, -2.152101156695295, -0.5002546459665536, 0.27126202966382157, -0.8166348898163384, 0.21238379836257193, 1.2571381131829722, 1.788114948032377, 1.3258406806922438, 0.2625335898397382, -0.5510197699365114, -1.14725591887514, 0.6023780774507801, -0.7287716853147911, -0.11512645740097661, -0.004548956732277618, -0.27866912626651125, 0.8718629782359567, -1.3777334756357025, 0.6303909149446824, -0.8026576061748135, -0.16929301320583096, -0.4372333427181416, -0.5557435128166412, -2.0240233238851038, -1.2371397813186875, 0.04571899516470346, 1.4012437999224345, -1.3630856604493387, -0.2847683001560413, -0.4478831897368115, 0.1253029052431946, 0.3074192707709952, -0.0924157948436086, -1.1648101542972267, -1.2418812222471045, -0.6836210797467733, 1.2913917323770205, -0.2847030538936735, -0.7732519081838936, -0.43051856870312805, 0.02706047731564099, 0.327041503087055, -1.681201977981963, 0.6820175581567529, -0.23331708114567, -0.1297286626735541, 0.8193512612387448, -0.4929332243367347, 0.17669749578650243, -0.39422372948125106, -1.3504206730934787, -0.7512206062834247, 0.11946723550945926, 0.010080834101931715, -1.0981935990199212, 0.11861285838902448, 0.5151786308251421, -1.7142059887848853, -1.417194382263666, -0.18201916867920953, 1.9385276736933166, -0.17271186065324662, 1.6912891840089794, -0.4317176764543521, 1.1558164135901559, 0.43641409436053014, -0.6635746912208145, -1.4641485012128836, 0.40502237597412716, 1.3063506344304052, 0.3653302087996672, 0.22838235356715555, -0.702815827664354, 1.0524877812167168, 2.263748970269456, -0.6241189315763733, -0.30016538336873533, 1.4837279213097312, -0.7653878646271851, -1.4948148556536125, -0.5280982366054421, -1.811587628165215, -0.13268628343360198, 0.0004374008674543267, -0.5073036454304584, -0.41968179625442864, 0.3468724336029168, 0.16734382197811676, 0.9832259566496092, -0.022233054732105087, -0.1274056152807726, -0.5458390447566155, 0.015026077404913775, 0.6331818014937848, -0.211029618527117, -0.26832885008065466, 0.41682081349328576, -1.5779372992363976, 0.4917917581156455, 1.3460167972333408, -1.1769455467999763, 0.76229740522361, -1.2440537795476312, 0.6563772599943914, -1.1150060922777536, 0.017279346073222127, -1.1941025515468666, -0.11626900542478204, -0.6544968863109548, 1.5974584646185794, 0.7634568999434063, 0.5053953685186408, 1.9075156778165152, -0.847250505775055, -1.141360367216459, 0.06595033135907823, 0.09235398747498418, 0.6334733283923292, 0.6940474241891944, -1.3384740803766986, -0.11473878161142857, -1.0629989810746228, 0.8972550086083693, -0.26113021181391644, 0.8451878601254597, 0.3404390116997212, -1.1974948912097274, 2.3486851815269385, -1.384041040178714, -0.07446613095225295, 0.5015750331747223, -0.35663154602546937, 1.2208120538722715, -0.5713400945513079, 0.3941166155832595, -0.3899778832587426, 0.2759151894178881, -0.5316156665568439, 0.014991867938697022, -0.6254738835715363, 1.1372018549484109, -2.1054545314315716, -1.1681403022525407, -0.3180921419816499, 0.4279616287010824, -0.21169873417114418, 0.759827133058283, 0.8483425357287142, 0.9889860509492919, 2.601659484868628, 0.10898080234130904, -0.03491587651811306, -0.7687045314919293, -0.08005739588688797, 1.0396317917955749, 1.792654206326465, 1.498629649323152, 0.7211324935393995, -1.0939012441722136, -0.4776363447110479, 0.7280446348995001, -0.7688980659626784, 0.9086842073245656, 1.3252493581839806, -0.4442110078890147, 0.8801087929277365, 0.20982550798403024, -0.5182223856001856, 0.4597671772835706, 1.031627401417394, -1.1315576075693694, 0.40864573901093604, -0.7734091706567942, -0.1683489403410658, 0.5092402564999507, 0.5979191570189994, -0.45009204423730426, 1.0995578331616327, -2.6318569106735277, 1.2505263377155997, 0.5891759879938924, 0.8796162849653884, 0.0035619849419253244, 0.22963088654988, -1.3039922444717253, -0.014554954021841001, 0.6430167076059717, 0.14304969534304296, -1.0334271737016734, -0.1999017626426463, -0.46811798603013133, 0.7141229616159366, -1.6850231418380612, 1.4224641954308326, -1.1149794743771693, -0.11986104938183771, 1.0179393316076915, -0.6302916396916777, 0.365669337492556, -0.07897731511204822, -0.6152489725310349, 1.647898073244214, 0.7134283147347223, 0.3316287942939899, -0.36836460856400577, -1.506086032624887, -1.6006769800817071, -0.17972209988725837, -0.5086113009739738, 1.0716636692661663, -0.7061219217837076, -0.8050382149610801, -0.802146289739755, 0.4852460849133427, -0.14081107231820295, 0.748945181278192, 1.5943753967371712, -2.39737299137726, 0.4186477882263257, 0.055422419892757355, 0.9503588693005722, 0.6752133887303489, -0.1640740838290507, 0.7816433160688485, -0.8826417734345053, 1.264658698650201, 0.7011599846374388, 0.4807462384536562, 0.07636047476608954, 1.884895709940778, 0.4753261819653048, -0.3585205664744977, 0.2201447226487613, 0.28251406781395366, -1.4277326604324163, -1.4644710725912944, 1.310690938197579, -0.6943854189673475, 0.6715333078336584, -0.7887428860440864, -2.355728541412598, -0.8222981324030858, 0.25225250864179827, -0.7648922535276514, -1.8566771149990298, -1.530240035976565, -0.5919335136991967, 0.7277087653893395, -0.7749113890507368, -0.30613073567019405, 1.3926762709241092, 1.8444254151064507, 1.5231728828175048, 1.1362602542243856, -1.0415663005430864, 0.5255723543361066, 0.6468574338784443, 0.29900311941816604, -0.912506724689017, 1.0042768832957871, 0.8610400818897502, 0.702990995024287, -0.0757674675733813, 0.11084988907412131, 1.3891489693699166, -0.07558966846289078, 0.005802279274389201, 0.8832248699510636, 1.3342005343717622, 0.5290066438590167, 0.5499648564531019, -0.26313629220453116, 0.8149487948554338, 0.7410179294246492, 0.593996242214412, -0.2002902911055848, 0.5914631697122432, -0.43890067413862466, -2.0224497053096795, -0.9168660849050193, -1.0930021084886952, 0.8973868130149593, -1.4696828122646763, 1.108285211255418, 0.70190916216563, -0.04980589194282572, 1.077316364094168, -0.8160926997779462, 0.736478890672304, 0.2643236108540764, 0.03161561463580778, 0.02884781595516132, 0.045005396406624126, 0.0023275992874046097, 1.1548306293251058, -0.0936128901273747, 0.14007125730061312, 1.0567671159646124, 0.11041735087428498, 0.5135218764170295, 0.27037853594184014, -0.32168015415555423, 0.3545704103210985, -0.3341709856093035, 0.7454738984485326, -0.8993637737367607, 1.8067885910561419, 1.5986549478261334, -0.14370915589504785, 1.250079109240291, -0.4695340494767451, -0.4138135097513531, 1.5810495851018973, -0.6675658069301895, 0.3202184665934559, -2.5840328799181833, 0.42591056935118177, 0.36455378005739303, -0.0726572930351443, 0.3148316559317866, -0.6434317176443289, 0.28200462718554564, -0.9945297325693293, -0.07483267305878172, -1.6187758485811226, -0.21466448419005435, 1.7233812821887682, -0.31153550641071975, 1.6030382535994983, -0.4811068073085054, -0.43295152166932876, -0.8308933010466558, -2.086087639223957, 0.6412256888704043, 0.10495124710484577, 0.8298236657208535, 0.3701219033029654, -1.6262616507575551, -0.0936202763245664, -1.1653752339926637, 1.3578570260986333, -0.37641531670865314, 0.531508938327818, 0.7296046345458082, 1.1142094538928098, 0.08779366281979314, 1.088314212190512, -0.7886448545090335, 0.18464169773343275, 0.6636140937946929, 0.6881258960349643, 1.789377584194049, 0.30321837291166254, 0.03815390184981944, 1.9789974139019784, -0.08859393315311981, -0.09852148455902245, -1.9372309280946907, 1.3287167906618236, 0.9524420799154284, 0.8938738030558754, -0.30576015931272743, 0.7250121387055954, -0.5339515019940209, -0.006709702073690796, -0.18005165027133335, 0.10571831074076224, -1.0200775988129867, 2.124204266772294, -0.923689688864762, -1.0728747426312848, 0.6478261170978021, -0.7649323443804126, -0.5354296023487012, 1.2854807003204272, 1.3570243956739723, -0.6030332837950344, 1.0157304082587195, 1.322010899935925, -0.8237459073221978, -1.1801566739270823, 0.4174775379891744, 1.997777530370844, -0.6394721047419677, -0.2907774311173806, -0.5202222995755772, -1.7427955897839909, -1.727736309837407, -1.1609519612624566, -0.3586672003814728, -1.2021491569154468, 0.552319647976245, 0.8954595197332841, -0.33670993402929666, -0.45024612586373114, 0.7542268828992598, -2.679174361371255, 1.540864348500554, -1.6845234950434749, 0.8540631478997387, -0.17070537649965897, 0.7999293912932154, -0.4442640641118666, -1.0297038006384696, -1.5753365923393454, 2.473555732217784, 0.6192025896424013, -0.4876376956338729, -0.3482198163517204, -1.3104065728133323, -0.40292043808607725, -1.1458439122098245, -1.2295744338193395, 1.469985259368916, -0.1870088270301736, -0.5532547623774915, 1.7258011597783716, 0.9295991299997662, -0.20957691089400607, -0.35092402306652987, -0.06574816230653599, 0.6727596853046846, 0.6659069430853987, 1.208233611955561, 0.6648768359644188, 0.14401990909143353, -0.7585537332403336, -0.715912674912931, 0.48317347587059395, 0.4261227739064819, 0.8578192132309392, 0.9454031574127928, 0.8202136556206003, 0.16462532584518894, -0.34836345882629227, 1.3008352972750734, 0.21619764677545028, -1.2918140322813723, 0.8561172127517008, 0.476982045616623, 0.49630163204990324, -0.11358707186158805, 0.5509205469462582, 0.6611753302474556, 1.205710938182591, -0.12286863074614494, -0.9824030702977847, -2.038686942912219, -0.30313264056569084, -1.0789029408446529, 0.6888652963531215, -1.9008717776629165, 0.49702871407674, 1.4592971493511078, -0.8577286865524142, 0.5018503446443805, 0.8184048085736877, 0.8207731100378964, -0.3450197287805501, -1.3718508413787927, -0.6817421469648711, -1.9496514607450646, 1.4077345162747177, 0.9671894939932298, 2.432916900559482, 0.5829124560064401, 0.27202283032013286, -0.3253092528573107, 0.6681338703764567, -0.13675755487486568, 0.7862906502028104, -0.3029788023624183, -0.19404712467975055, -1.15118988053484, -0.2619025068541823, 0.4074784027685535, 0.3127569015218098, -1.974693134559096, -1.4639873898648683, 0.31418748969970034, -0.880412906407693, -0.7920263976860111, 0.12765290593645784, 0.8693242157440587, 0.2759114654539683, 0.1902158074295034, -2.089192244999981, -0.07552282040895977, 0.8346358410335749, 1.6228543666525568, 0.15834484267438131, -1.0865664707774907, 0.7679716166171995, 0.260069011941712, 1.4010315885114644, -0.17609848429316743, 0.5899128158833997, -2.239352895162702, -0.821551735549397, -0.18180610367984207, -1.2210844562518002, -0.50544290757226, -0.011465648851418207, -0.360668622548343, -1.465956621281768, 0.7125700594552813, 0.42171061676335314, 0.4375299946508743, 0.8833637517861938, -0.4443648349929479, 0.3681278126428303, -1.755462860972615, 0.3497736140801918, -0.2605765066975223, 0.17507613681194112, 0.3558253319778375, 1.4367552968942876, 0.148657688110277, -1.1752653294316355, 0.7568356176317438, 1.540087830321102, -1.361060003352326, -0.9396735959755149, -0.2095811778815671, 0.7709640749372552, -0.8441929439945349, -0.12639946064355512, -0.5066186202374706, 0.6541821068396154, -1.6534761289513, -0.4834712920821928, 0.018997374356638126, -0.4919753685014734, 1.8960817290761849, -0.34137868399588156, -0.48747816242266095, 0.5618216456096562, -0.5856855178250928, -1.6396528378057582, -0.37106024125526293, -0.5493491753410117, -0.06842945048507515, -0.3434751873987259, 0.6409571707209754, 0.8580280848422719, 0.04782359487069689, -0.3057728677108668, 0.4706375774163109, -1.873480430930273, -1.08527114140646, -0.26166394529413983, 1.1839699431296284, 0.6308137754532541, 0.7615611601876768, -1.114463678980024, -0.9329859087065178, 0.6609264615460063, -0.37985061924332586, 1.1814155709014398, 0.9555594387674603, -0.45419782748733356, 0.07327864843420187, -0.5625918980468594, 1.3873541105386158, 0.950867254753124, 0.8395772608968022, 0.8539226264736514, 1.696963564269321, 1.4157892859792047, -1.2453482926680193, -1.0533714115403021, -0.24649421114555414, 0.27940450980219966, -0.33488189349730274, -0.5398931137097843, -0.5109552339897185, 0.2731984448623588, -0.223029297590766, 1.8272332262861601, 1.4699170806166388, -0.9160456287664038, 1.5784531503228587, -0.004557687029850247, -0.6581559381355729, -0.50509118349546, -0.9380689946875642, -0.3494555799790734, -0.12423280926694778, 0.5866632329474223, -0.6884846483623784, -1.785604455786296, -0.06605357008099612, 0.6389092081701031, 1.1876691303675384, 1.4413572959191876, 0.1344519534430615, 0.5074531608391535, 1.5248413433684194, 1.607963745455251, -1.5850971072600615, 0.8704294148231339, -0.5503461526801593, -1.5954016647106426, -0.656775286281717, -0.761157165807166, -0.29115782298758297, 0.3635116867386332, -0.0722447390967012, 1.0737708234699403, 0.623584779789762, -0.7323733390881624, 0.9381061486949042, -0.8611865739208835, -0.825143736205916, -0.791201000476652, -0.02496810517355183, 1.0610612378488717, -0.663863187704721, -2.0063494310219094, -0.5380314283598703, -0.802453314846523, 1.150545579085238, -1.496247256626949, -0.0660177537942985, 0.2233703149430839, -1.623331177788802, -0.09309178283683657, -0.2766410977839137, -0.22459015272606797, 0.042997108729572846, 1.436773468090575, -0.028348870284224403, 0.5627133165249417, -0.5278960003835791, 0.31993170023515566, 0.3926629451693591, -0.5198299804641023, 0.011078112531118777, -0.8833852011632337, 0.39958946855168, -1.1337857813558476, 1.0851732399050373, 0.771332989070985, 0.31524476551945646, 1.9924472611024449, 0.19179166157471908, -0.8749397708173055, -0.5584570780452125, -0.5559555345558862, -0.4408726281739752, 0.22407105126663657, -0.45746113843809927, -1.4403883298797635, -1.7039601535378766, -0.8131303708432556, -0.6237640856821185, -1.4407012628012084, -0.22681482952750812, -0.8514518080862252, -0.42098365096508455, 0.7685634265231972, 0.0825028286536237, 1.719815757996267, -0.9868916831145393, -0.5437925359686455, -1.211974862500773, -0.4834873435123206, 0.16414059042305468, -0.22796864726575936, -0.7376071032592288, -2.039020693654381, 0.5221804639757759, -0.07751919180611778, 0.723757203908213, -0.689657949484296, 0.41811922083492364, -0.2861390531194389, -0.25030356887020144, 0.0982943456633743, -1.100521528585441, -1.4006456847312765, 0.9180131757155122, 0.18316735686715255, 1.121022142187792, 0.7311654521769092, 0.3446647332154241, -0.5389631164095127, -1.3279885702335505, 0.2684752416441452, 0.7036683524768216, -2.0621563085313355, -0.6846372130134898, -1.1024801426366577, 1.7296183905369078, 1.4972852394509752, 0.1847496606601261, -1.5389701713898278, -1.2944575754581278, -0.23571260599506536, 0.2368306675382693, -1.292266678760141, -0.28392195587685215, 0.3314571839632288, -0.7320097492185996, 0.6238901194448823, -0.20172442640407007, -0.23170863975993924, -1.184990825225148, -1.161171331649702, 0.5079615128724203, -0.25509768718798304, -1.304229415491582, -0.37874143305694846, 1.7112204791814922, -0.17215548462688718, -0.45721250352850434, 0.4581682476493569, -0.6537791591251162, -1.0339612118154111, -0.2755165329883285, -0.11245650367075213, 0.009554259594945724, 1.0390853182177098, -0.11584487006732078, 0.25982821647174226, 0.5604282243849877, -0.855345916097468, -0.27096535413526013, -1.1306768502288476, -1.0815161844878438, -0.3496449789637301, 0.3576312110082406, 1.8352397540682281, 0.13337933217770415, 0.5018717313909358, -1.3655158768681124, 0.00751046225384562, 1.1115657266892216, 1.1965784079551078, -2.32287115371625, -0.3271723283851951, 1.5761727130667214, -2.4277310288363827, 0.6743680550504663, 1.1704157194662805, 0.15630424538413187, -0.9046410684136349, -0.0704764081083548, -0.8414766830727923, 0.9959343510348275, 0.07317198283816298, 0.46330337354288537, -1.305592959475639, -0.0856908141601401, -0.8499328961774818, 1.142375221437855, 1.1334474230546792, -0.13931520951469953, -0.20099901590311764, 0.9183659993160945, 0.21853153193875416, 0.01580274991079376, -0.46776791544363744, -0.9651093770264025, 0.3404897274661157, 0.8988568214875735, 0.9702256236358927, -0.4943245376040999, -0.6676608814167354, 0.17186345938035386, -0.15348024615622324, -0.433557861491401, 1.8988887414284636, -0.005811468526906651, 0.8482233553586184, -2.126288440226861, 0.6722415070052892, 2.0135524579143884, 0.46046124187045184, 1.0763698301024833, 0.4395934559037537, -1.8051471125235445, 0.7576153778830995, -0.023047978242303212, 0.981704615740366, 1.0331223200029216, -1.0637980309420334, -0.232829626652971, 1.5907102137067137, 0.13106647965572696, -0.8239598840576018, 0.5170569776137334, 1.583862692418333, 0.35288923204277756, -2.0768342636839123, -0.4517820199413373, -0.14380810549680748, 1.0840698819039916, 0.029137345575483486, 1.8058798919377095, -0.1555859495504273, -0.31115432416845934, 1.3197425291466338, 0.256810838082057, -0.4133328245225655, 1.6920808837326928, -0.3334771773894486, 2.058943953014962, -0.2049680235083319, -1.6518574419508887, 1.0610954239304378, -1.6606627115281918, 1.1611985562320835, -0.37999060465212176, -0.8173309355789948, -0.38090400512966843, 0.7982121663878763, 0.4858727929361574, 0.522925965658112, -0.586880736736774, -1.0625744339345566, 1.560357348898809, -0.36783208080979796, 1.2859620256980504, 1.6077049312997114, 0.25036361402843704, 1.0359617366145877, 0.08634252381717576, -1.004787649770133, -0.30680043086681896, 0.6953696068295748, 1.0447437215879356, 1.0217124905885424, -0.026050681950922704, 0.9591459555530223, -0.6063754707600612, 0.21354427560578382, -0.24094353631266446, -1.7925680428335868, 0.27242406013199194, 0.704247409549675, 0.7495581774058119, 0.3120393332338831, 0.9606629935584884, 1.5016273397637685, -2.080201664021356, -0.043743170947524765, 0.8928774800935215, 0.07031961842195276, -0.3068595368328533, 0.6207832789559777, 1.9225889531682405, -0.16210071256325378, 0.6713602083623347, -0.930612648660304, 0.16726857456895547, -2.865299798272731, 0.6017657741392627, 0.6473260245518777, -1.6262202226360727, -3.0559717841415246, -0.2859863112321457, -0.23413008379202543, -0.29555322678490725, 2.0779525657220725, 1.6792546698825823, -0.17220646345855584, 0.49733108693105804, 1.375968644494671, -0.1668051989423249, 0.08344147569060614, -0.11430201588459414, 0.018134427557255136, -0.5393150468495986, 0.5544094604616393, 0.6421411826344765, 1.0991455334989022, -1.2405577151772889, -2.3656183428412536, 0.2335348828458382, 3.115295445145649, 0.05952071854108347, -0.5953164605706123, -1.0101407750664844, 0.49176164803858996, -0.5648817380879061, 1.2120782398813288, -2.0256240823903426, -1.8532815985749802, -0.8291596808337978, -1.0228841147880954, -0.7141434314443338, 0.7548858892666545, -1.2087320326393232, 0.38777871021831045, -1.3410350155431598, -1.1522875604249583, 2.204566980874134, 0.5180529269129369, 0.4282306919527672, -0.6852318274487352, 1.1261989491779067, 0.5511899139934179, 1.2451648649325688, -0.6392507177490021, 1.7362609735163324, -0.6702101771249338, -0.5665059423289521, 0.3888066127033956, 1.30284243984683, -0.1746222888184801, -0.24767017916421027, 1.5406314183396947, 2.518215234676379, -0.6311974526179381, 1.2236645571248166, 0.38131404162576127, 1.9730647607058684, -1.5444612740415156, 0.17244388550352455, 1.0646656664867196, -1.752035926098656, 1.0418425047572868, -0.14110922829479416, 0.7857681762551698, -0.8833767267094743, -0.847831799003001, -0.8115322545589178, 0.8191518233152184, -1.0592375136481722, -0.310599050302089, 0.35111980972975504, 1.1743989444187177, -0.7214321283778653, 0.3121743541519701, -0.12188437498088502, 0.3256146681507014, 1.528726145201383, 0.30365154685154194, 1.2752023996122297, 0.4753334946767808, 0.2148610530202031, -1.432550625818983, -0.23599684794999132, 1.1426970078218681, 1.2176062110531298, -1.1333303608394267, -1.8759894702336792, 0.04204435510717711, 0.9990308773715069, 1.016165522858881, -0.7889540747562606, 1.3966341311369779, -0.09515753754380268, 0.1652695463742778, -0.5811983206923177, 0.3496356897957875, -1.1480278140041196, -0.09454881761916492, -2.2660329288688668, -0.49065569863924746, 0.33912059322858656, -0.4631755126402267, -0.43958162051089067, 1.423572640215651, 0.07148545556074151, -0.2336076849999161, 0.23035756599268795, 1.5819050382203614, -0.4390428086501626, 0.6008054668881261, 2.36161793474473, 0.475457732556832, -0.263185319705284, -0.39979103189209164, -0.26735582876373765, 0.6829751431609373, 1.9861709036059203, 0.7557097028573039, 0.6905408606808348, -0.9794286194993808, 1.8519188528352462, 0.9212955536948911, -0.7080339673844925, -0.18269855967799029, 1.1595828938450254, -0.31563296624798814, 0.045887785324536086, -1.4224174648960912, 0.15477522275739836, -2.3599303058472088, -0.25527535221637865, 6.54744576549767e-05, 0.8443447109564114, 1.481895410897095, 0.6573884242723397, 0.24006845206740088, -0.12140654354089842, -0.3858133827962162, 0.9209093646250827, -0.010024136154518538, -0.24648948487486846, -0.5378474327972573, -0.9699259651358286, -1.2174949227861542, -0.7822965759823202, -1.216312537609281, -0.16708855706985262, -0.05079160817907276, -2.1265125087329264, -0.7490447696864124, -0.23363779870815207, 1.0545915138477826, -0.5591616810647895, -0.9382527973110707, 0.09450768660124925, -0.4127541863024338, 0.9819523327307521, 0.1694143428438173, -0.28005444751344744, 0.6458404260496624, -0.2304547961524299, 1.8008050383136123, -0.036543855714394516, 0.06285698936535124, -0.774496034089913, -1.7907508482490306, 1.112317369954519, -1.2276473113780761, -1.1205453967627106, 0.7595626761125636, -0.9184562154076168, -1.0382225545882302, 0.5814442170320092, 0.6394448037831092, -0.26707926074797206, -0.4033201251378237, 1.4564107640887076, -0.952693800535088, -1.1633804109807573, 1.2989018254294127, 0.031098074962690885, 0.6880531496023554, -1.3535034852380492, -0.5266233910150875, 0.7068694843071147, -0.5146088275060591, 1.6454472219981777, 0.12603934425505617, -0.09128600768036388, 1.1481273475405538, 2.4780059662983707, -0.12255738051621419, 1.6114783954753729, -0.6588561405554467, -1.1419176485069291, -1.364403242133949, 0.24830692461218468, -1.7065270756389739, -1.3978373862889222, -1.7612507804544484, 0.46377382662883826, -0.4372211123312866, 1.1817010957869114, 0.11988585580862358, 0.17601929166406602, -0.7724957009621676, 0.8423702199098515, 1.463763282968347, 0.7019621331611918, -1.7462586680130434, -0.8543681463385192, -0.4005855592640348, -1.9908565526777187, 0.49717099115146973, -0.38680867152591647, 0.12261875031187909, 0.665508504107665, -0.1332901400661292, 0.548658355429094, 0.358423158311529, -2.6659575197354184, 1.2480065906037572, -1.1624926448947464, 1.3189991492352315, -0.25193898935857206, 0.6016256552153609, 1.7558451408098743, -0.4082797331986549, -0.3156001973914356, 0.19404453701627994, 1.5265553328802708, 1.5704652603140279, -1.049247516346228, -0.7153181301186478, 0.13823559348446499, 2.4263446755308555, -0.6031879709794621, 0.5161542431098799, 0.07543304427567796, -0.5664725464184148, 0.8406230934353527, 0.09089387801627959, -0.8068434301565872, 0.4990919191497655, 0.5562359332875169, -0.35692957697218014, -0.26101110451194065, -0.5554273758003089, -0.48453504504081657, -0.31962657300268627, -2.047450078240423, -0.37517941981202557, 0.4022794955596346, -0.9429431775495527, 3.2775015824971843, 0.9667547525380848, 1.4228314491898784, 1.4548882598358064, 0.4383120716637575, -1.1478891168628385, -1.5828950110559523, -0.16585192323530756, -0.025699780598481006, -0.057412422351675964, -0.534849426318694, 0.643565439476995, -0.927738483670486, 1.0123206729397392, -0.08061703222099237, 0.47193990445295003, -0.8231523587639145, -0.6845043866899543, -0.9297035211564028, 2.50762920395524, 2.3478732855803712, -1.5988440577287037, 1.1967101344115183, 0.0061275054026129275, 0.8335549704517404, -1.4759756715628973, -1.3568970358043424, 0.7526278054411648, 0.41816321033805315, 2.004074875927544, 1.122550468436037, -1.1450851059341225, 0.17399422696030695, -0.5902724100960094, -0.24696680649248232, 0.9078618214936667, -1.5667265084181805, -0.2831760173815424, -0.03423935745848185, 0.19128743098447, -0.6805573032316239, 1.3093745754179358, 1.2507302048690399, 0.2962977012588875, 2.8025681116758903, 0.4437243368060804, -1.0032364501495323, 0.4999653202424306, 0.1083125343905788, -0.1595705882047385, -1.2043338161330384, 0.9462296398384179, 0.052041216600978886, -0.3112737994567501, 0.8872347893595407, 0.0038534748827080663, -0.0809582374351875, 0.7770510993439814, -0.640301034318468, -0.38954089066882014, -0.9865782346779576, -1.2971512238396934, 1.1558565089803454, -0.18300840402863114, -0.7873182217908385, -1.124991127210838, -0.27066333846128104, 1.2940464306344674, -1.6528114887887277, 1.4009997134132273, 0.26761404690890866, 1.3997791308149807, 0.12513771697107182, -0.7755934759994043, 0.7677611058466474, -1.9284857969428364, -0.8932977478451217, 1.6723618932334343, -1.1984214464672778, 0.5040485638873579, -1.6547728102517307, -1.6787745274661625, 0.18419377727310685, 1.3171252068483532, 1.0121885329377485, -0.5223189789935831, -0.04772974031757111, -0.43027038517613897, -1.900941827627324, -0.5995006589791306, 1.7319604915962523, -0.17549018055157048, -1.2844405374467442, 0.5197041387153387, 0.7333987021418752, 0.9676785398509363, 0.1313520476481065, -0.10553768468876604, -0.39364915743734974, -0.3468800493965123, -0.30091837288242845, 1.1971317121271225, -1.3859293525562333, -0.9491090062916872, 0.302407072613358, -1.8224891666060041, -0.40740019017110846, 0.27946664130739124, -1.7674975862342093, 0.42550026112870365, 0.1960602050122669, -0.09922422690252405, -1.4566315014400053, 0.4528440770661313, -0.4857838457356428, 0.6704584953492054, -1.2626248947830494, -1.9984699837540933, 0.5624280648480452, -1.0213877071719082, 0.21871414527221145, -0.12787890649380068, -0.18990823965123757, 1.3450142589814098, -1.441055960495335, 1.6794985655140724, 1.469099432649768, -0.902655948615793, -1.3685569425158142, -1.619413097490648, 0.16622708559771612, -0.09165130756472421, -0.395429040445748, 0.15528130556213068, 0.7557132876794519, 1.9043560716162056, 1.2122096325191287, 0.7313112451686247, -0.719542277944991, -0.2130066262788409, 0.857301677793532, -2.3735409262189777, 1.5164511931314486, 0.16152837095315828, 0.6824816824674791, -1.1278017807051408, 0.03361731638642459, 0.23939005850699552, 0.997239683693917, -1.692738456889502, -0.6280012635653573, -1.173394907593724, 1.0247473891328054, 0.4769744766373865, -0.665934661883777, 0.4003732626436851, 0.770365634902011, -0.14577972608626433, 0.13283769624312092, 1.1703154548533954, 0.7942251872502722, 1.6607142014039014, -1.180424885037241, -0.5670554353555203, -1.3152154209355649, 0.6987651216285579, -0.3962230233044286, 1.2626171380122744, -0.3951902721504837, 1.4847687029568382, -0.9893663055357624, 0.26231473939650024, -1.6130282140456231, -0.7721028593957558, -0.8372810238034037, 0.5803503050063878, -0.08333416464825019, -0.08433644341037104, -1.5165758808729273, -0.9840484222923244, 0.634862097639418, 2.3747109982298102, -0.3411871032458889, 1.243946452073524, -0.5002110425335933, 0.3842431063000466, -1.6857870365874728, -1.0614419811820965, -0.26147566677390444, -0.7259145240101624, 0.6830446656152165, 0.9852049657944614, -0.44040029963668753, 0.2879919373227257, -0.3143311727696382, -1.2347027350005781, -0.6050153349236745, 0.4168591436820236, -1.413662638068941, -1.715838203074061, -0.3635386008728882, -0.1773921639033317, 0.12846573975557213, 0.8157398803011137, 0.2351011615806758, 0.8150336604530601, -1.4406976389149129, -0.5559401963653968, -0.8787878865392051, -1.1016102656963025, 0.42139661565805697, 1.2879293275300931, -3.2733748497816966, 0.8549896705678866, 0.6739295665917339, 0.28753730478436496, -1.1209077056072192, 0.8031869854404206, -0.7663298240355866, -1.1995593777617122, 0.030112389536103273, 1.0482451590549289, 0.9970855079729746, 1.079607589798571, 0.2375424320949501, 0.765751616284928, -1.8497277171497244, 1.0739744934504694, 1.7138355817228288, -1.1540582992386348, 0.20359698037209187, -1.6578622764312614, -1.9637522525493163, 0.39861522023363144, -0.7280024182030376, 0.592929654214462, 0.04157688099533452, -0.05813613769938016, -2.424821856782292, 0.022981480385457217, 0.2626219353167249, -0.5603470602860295, 0.8976176355779312, -0.14817251688746308, -0.1336082895024892, -0.7258988407997046, 1.3440452553196671, -0.3212413446768711, -1.475787063437082, 0.17836372273879092, -0.739087192524047, 1.7411732305546794, 0.4749929196463061, -0.5381327619624314, 0.4464092468017636, -0.0436088360310707, 0.6116200425684934, -0.6900435406797868, -0.9401290521739617, -0.3559173049570025, -0.42436919700377834, 1.414267527252715, 1.2111092336743678, 1.5907281751376219, -0.2655787966649513, -0.6682838107465173, -1.0447877757393893, -1.397076728956089, 0.5339941142037815, -0.6086866819921404, -0.8045459411542498, -0.925234062427824, 1.0328955272065359, -0.21555730839707307, 1.7753385342252521, 0.10180393391500804, -1.7172480518912485, 0.6876328173116245, -1.537918477538546, 1.2589946884659593, -1.1303844763657938, 0.5462379746420122, 0.6275504268106934, -0.1240741333412513, 0.4812902276763517, -0.6846342394052813, -1.3832452483331876, 0.07920232448819954, 0.6721207315446818, -0.9359847870044112, -2.124468511600525, 1.2099753830694622, -1.2483629283690478, 1.2209633073121977, 0.0881666542960002, -2.0269108521348196, -0.00043089365261395063, 1.6994166463954923, -0.26263781752412824, 0.4692077257028727, 1.814405096607133, -0.892478988303889, 0.5626719438605589, 0.6779047547159293, -1.8319366356255664, -0.6475747955975225, -0.25946148357755355, -0.06311301468422734, -1.1565232005600599, 0.12259288575034519, 1.0431741432701, -1.6719291755942491, 0.5677182222709772, 1.5675818926273766, -1.2318028521972317, 1.3607302639611862, -1.8792612008674103, 0.9453586604162599, 1.6271044583307483, 0.07589108446097563, 0.6450162704757552, 0.1907320382685452, 0.8930419402369784, 0.4227957158798933, 0.2926204338304539, -0.11939287135711409, 0.5634614290121764, -1.750585114848099, 1.9235815671892982, 1.160325253210593, -0.6769307735805048, -1.246308937849135]}],\n",
       "                        {\"template\": {\"data\": {\"bar\": [{\"error_x\": {\"color\": \"#2a3f5f\"}, \"error_y\": {\"color\": \"#2a3f5f\"}, \"marker\": {\"line\": {\"color\": \"#E5ECF6\", \"width\": 0.5}}, \"type\": \"bar\"}], \"barpolar\": [{\"marker\": {\"line\": {\"color\": \"#E5ECF6\", \"width\": 0.5}}, \"type\": \"barpolar\"}], \"carpet\": [{\"aaxis\": {\"endlinecolor\": \"#2a3f5f\", \"gridcolor\": \"white\", \"linecolor\": \"white\", \"minorgridcolor\": \"white\", \"startlinecolor\": \"#2a3f5f\"}, \"baxis\": {\"endlinecolor\": \"#2a3f5f\", \"gridcolor\": \"white\", \"linecolor\": \"white\", \"minorgridcolor\": \"white\", \"startlinecolor\": \"#2a3f5f\"}, \"type\": \"carpet\"}], \"choropleth\": [{\"colorbar\": {\"outlinewidth\": 0, \"ticks\": \"\"}, \"type\": \"choropleth\"}], \"contour\": [{\"colorbar\": {\"outlinewidth\": 0, \"ticks\": \"\"}, \"colorscale\": [[0.0, \"#0d0887\"], [0.1111111111111111, \"#46039f\"], [0.2222222222222222, \"#7201a8\"], [0.3333333333333333, \"#9c179e\"], [0.4444444444444444, \"#bd3786\"], [0.5555555555555556, \"#d8576b\"], [0.6666666666666666, \"#ed7953\"], [0.7777777777777778, \"#fb9f3a\"], [0.8888888888888888, \"#fdca26\"], [1.0, \"#f0f921\"]], \"type\": \"contour\"}], \"contourcarpet\": [{\"colorbar\": {\"outlinewidth\": 0, \"ticks\": \"\"}, \"type\": \"contourcarpet\"}], \"heatmap\": [{\"colorbar\": {\"outlinewidth\": 0, \"ticks\": \"\"}, \"colorscale\": [[0.0, \"#0d0887\"], [0.1111111111111111, \"#46039f\"], [0.2222222222222222, \"#7201a8\"], [0.3333333333333333, \"#9c179e\"], [0.4444444444444444, \"#bd3786\"], [0.5555555555555556, \"#d8576b\"], [0.6666666666666666, \"#ed7953\"], [0.7777777777777778, \"#fb9f3a\"], [0.8888888888888888, \"#fdca26\"], [1.0, \"#f0f921\"]], \"type\": \"heatmap\"}], \"heatmapgl\": [{\"colorbar\": {\"outlinewidth\": 0, \"ticks\": \"\"}, \"colorscale\": [[0.0, \"#0d0887\"], [0.1111111111111111, \"#46039f\"], [0.2222222222222222, \"#7201a8\"], [0.3333333333333333, \"#9c179e\"], [0.4444444444444444, \"#bd3786\"], [0.5555555555555556, \"#d8576b\"], [0.6666666666666666, \"#ed7953\"], [0.7777777777777778, \"#fb9f3a\"], [0.8888888888888888, \"#fdca26\"], [1.0, \"#f0f921\"]], \"type\": \"heatmapgl\"}], \"histogram\": [{\"marker\": {\"colorbar\": {\"outlinewidth\": 0, \"ticks\": \"\"}}, \"type\": \"histogram\"}], \"histogram2d\": [{\"colorbar\": {\"outlinewidth\": 0, \"ticks\": \"\"}, \"colorscale\": [[0.0, \"#0d0887\"], [0.1111111111111111, \"#46039f\"], [0.2222222222222222, \"#7201a8\"], [0.3333333333333333, \"#9c179e\"], [0.4444444444444444, \"#bd3786\"], [0.5555555555555556, \"#d8576b\"], [0.6666666666666666, \"#ed7953\"], [0.7777777777777778, \"#fb9f3a\"], [0.8888888888888888, \"#fdca26\"], [1.0, \"#f0f921\"]], \"type\": \"histogram2d\"}], \"histogram2dcontour\": [{\"colorbar\": {\"outlinewidth\": 0, \"ticks\": \"\"}, \"colorscale\": [[0.0, \"#0d0887\"], [0.1111111111111111, \"#46039f\"], [0.2222222222222222, \"#7201a8\"], [0.3333333333333333, \"#9c179e\"], [0.4444444444444444, \"#bd3786\"], [0.5555555555555556, \"#d8576b\"], [0.6666666666666666, \"#ed7953\"], [0.7777777777777778, \"#fb9f3a\"], [0.8888888888888888, \"#fdca26\"], [1.0, \"#f0f921\"]], \"type\": \"histogram2dcontour\"}], \"mesh3d\": [{\"colorbar\": {\"outlinewidth\": 0, \"ticks\": \"\"}, \"type\": \"mesh3d\"}], \"parcoords\": [{\"line\": {\"colorbar\": {\"outlinewidth\": 0, \"ticks\": \"\"}}, \"type\": \"parcoords\"}], \"pie\": [{\"automargin\": true, \"type\": \"pie\"}], \"scatter\": [{\"marker\": {\"colorbar\": {\"outlinewidth\": 0, \"ticks\": \"\"}}, \"type\": \"scatter\"}], \"scatter3d\": [{\"line\": {\"colorbar\": {\"outlinewidth\": 0, \"ticks\": \"\"}}, \"marker\": {\"colorbar\": {\"outlinewidth\": 0, \"ticks\": \"\"}}, \"type\": \"scatter3d\"}], \"scattercarpet\": [{\"marker\": {\"colorbar\": {\"outlinewidth\": 0, \"ticks\": \"\"}}, \"type\": \"scattercarpet\"}], \"scattergeo\": [{\"marker\": {\"colorbar\": {\"outlinewidth\": 0, \"ticks\": \"\"}}, \"type\": \"scattergeo\"}], \"scattergl\": [{\"marker\": {\"colorbar\": {\"outlinewidth\": 0, \"ticks\": \"\"}}, \"type\": \"scattergl\"}], \"scattermapbox\": [{\"marker\": {\"colorbar\": {\"outlinewidth\": 0, \"ticks\": \"\"}}, \"type\": \"scattermapbox\"}], \"scatterpolar\": [{\"marker\": {\"colorbar\": {\"outlinewidth\": 0, \"ticks\": \"\"}}, \"type\": \"scatterpolar\"}], \"scatterpolargl\": [{\"marker\": {\"colorbar\": {\"outlinewidth\": 0, \"ticks\": \"\"}}, \"type\": \"scatterpolargl\"}], \"scatterternary\": [{\"marker\": {\"colorbar\": {\"outlinewidth\": 0, \"ticks\": \"\"}}, \"type\": \"scatterternary\"}], \"surface\": [{\"colorbar\": {\"outlinewidth\": 0, \"ticks\": \"\"}, \"colorscale\": [[0.0, \"#0d0887\"], [0.1111111111111111, \"#46039f\"], [0.2222222222222222, \"#7201a8\"], [0.3333333333333333, \"#9c179e\"], [0.4444444444444444, \"#bd3786\"], [0.5555555555555556, \"#d8576b\"], [0.6666666666666666, \"#ed7953\"], [0.7777777777777778, \"#fb9f3a\"], [0.8888888888888888, \"#fdca26\"], [1.0, \"#f0f921\"]], \"type\": \"surface\"}], \"table\": [{\"cells\": {\"fill\": {\"color\": \"#EBF0F8\"}, \"line\": {\"color\": \"white\"}}, \"header\": {\"fill\": {\"color\": \"#C8D4E3\"}, \"line\": {\"color\": \"white\"}}, \"type\": \"table\"}]}, \"layout\": {\"annotationdefaults\": {\"arrowcolor\": \"#2a3f5f\", \"arrowhead\": 0, \"arrowwidth\": 1}, \"coloraxis\": {\"colorbar\": {\"outlinewidth\": 0, \"ticks\": \"\"}}, \"colorscale\": {\"diverging\": [[0, \"#8e0152\"], [0.1, \"#c51b7d\"], [0.2, \"#de77ae\"], [0.3, \"#f1b6da\"], [0.4, \"#fde0ef\"], [0.5, \"#f7f7f7\"], [0.6, \"#e6f5d0\"], [0.7, \"#b8e186\"], [0.8, \"#7fbc41\"], [0.9, \"#4d9221\"], [1, \"#276419\"]], \"sequential\": [[0.0, \"#0d0887\"], [0.1111111111111111, \"#46039f\"], [0.2222222222222222, \"#7201a8\"], [0.3333333333333333, \"#9c179e\"], [0.4444444444444444, \"#bd3786\"], [0.5555555555555556, \"#d8576b\"], [0.6666666666666666, \"#ed7953\"], [0.7777777777777778, \"#fb9f3a\"], [0.8888888888888888, \"#fdca26\"], [1.0, \"#f0f921\"]], \"sequentialminus\": [[0.0, \"#0d0887\"], [0.1111111111111111, \"#46039f\"], [0.2222222222222222, \"#7201a8\"], [0.3333333333333333, \"#9c179e\"], [0.4444444444444444, \"#bd3786\"], [0.5555555555555556, \"#d8576b\"], [0.6666666666666666, \"#ed7953\"], [0.7777777777777778, \"#fb9f3a\"], [0.8888888888888888, \"#fdca26\"], [1.0, \"#f0f921\"]]}, \"colorway\": [\"#636efa\", \"#EF553B\", \"#00cc96\", \"#ab63fa\", \"#FFA15A\", \"#19d3f3\", \"#FF6692\", \"#B6E880\", \"#FF97FF\", \"#FECB52\"], \"font\": {\"color\": \"#2a3f5f\"}, \"geo\": {\"bgcolor\": \"white\", \"lakecolor\": \"white\", \"landcolor\": \"#E5ECF6\", \"showlakes\": true, \"showland\": true, \"subunitcolor\": \"white\"}, \"hoverlabel\": {\"align\": \"left\"}, \"hovermode\": \"closest\", \"mapbox\": {\"style\": \"light\"}, \"paper_bgcolor\": \"white\", \"plot_bgcolor\": \"#E5ECF6\", \"polar\": {\"angularaxis\": {\"gridcolor\": \"white\", \"linecolor\": \"white\", \"ticks\": \"\"}, \"bgcolor\": \"#E5ECF6\", \"radialaxis\": {\"gridcolor\": \"white\", \"linecolor\": \"white\", \"ticks\": \"\"}}, \"scene\": {\"xaxis\": {\"backgroundcolor\": \"#E5ECF6\", \"gridcolor\": \"white\", \"gridwidth\": 2, \"linecolor\": \"white\", \"showbackground\": true, \"ticks\": \"\", \"zerolinecolor\": \"white\"}, \"yaxis\": {\"backgroundcolor\": \"#E5ECF6\", \"gridcolor\": \"white\", \"gridwidth\": 2, \"linecolor\": \"white\", \"showbackground\": true, \"ticks\": \"\", \"zerolinecolor\": \"white\"}, \"zaxis\": {\"backgroundcolor\": \"#E5ECF6\", \"gridcolor\": \"white\", \"gridwidth\": 2, \"linecolor\": \"white\", \"showbackground\": true, \"ticks\": \"\", \"zerolinecolor\": \"white\"}}, \"shapedefaults\": {\"line\": {\"color\": \"#2a3f5f\"}}, \"ternary\": {\"aaxis\": {\"gridcolor\": \"white\", \"linecolor\": \"white\", \"ticks\": \"\"}, \"baxis\": {\"gridcolor\": \"white\", \"linecolor\": \"white\", \"ticks\": \"\"}, \"bgcolor\": \"#E5ECF6\", \"caxis\": {\"gridcolor\": \"white\", \"linecolor\": \"white\", \"ticks\": \"\"}}, \"title\": {\"x\": 0.05}, \"xaxis\": {\"automargin\": true, \"gridcolor\": \"white\", \"linecolor\": \"white\", \"ticks\": \"\", \"title\": {\"standoff\": 15}, \"zerolinecolor\": \"white\", \"zerolinewidth\": 2}, \"yaxis\": {\"automargin\": true, \"gridcolor\": \"white\", \"linecolor\": \"white\", \"ticks\": \"\", \"title\": {\"standoff\": 15}, \"zerolinecolor\": \"white\", \"zerolinewidth\": 2}}}},\n",
       "                        {\"responsive\": true}\n",
       "                    ).then(function(){\n",
       "                            \n",
       "var gd = document.getElementById('15221649-d890-47e4-858c-1ecb1c98a5a7');\n",
       "var x = new MutationObserver(function (mutations, observer) {{\n",
       "        var display = window.getComputedStyle(gd).display;\n",
       "        if (!display || display === 'none') {{\n",
       "            console.log([gd, 'removed!']);\n",
       "            Plotly.purge(gd);\n",
       "            observer.disconnect();\n",
       "        }}\n",
       "}});\n",
       "\n",
       "// Listen for the removal of the full notebook cells\n",
       "var notebookContainer = gd.closest('#notebook-container');\n",
       "if (notebookContainer) {{\n",
       "    x.observe(notebookContainer, {childList: true});\n",
       "}}\n",
       "\n",
       "// Listen for the clearing of the current output cell\n",
       "var outputEl = gd.closest('.output');\n",
       "if (outputEl) {{\n",
       "    x.observe(outputEl, {childList: true});\n",
       "}}\n",
       "\n",
       "                        })\n",
       "                };\n",
       "                });\n",
       "            </script>\n",
       "        </div>"
      ]
     },
     "metadata": {},
     "output_type": "display_data"
    }
   ],
   "source": [
    "import plotly.graph_objs as go\n",
    "import numpy as np\n",
    "\n",
    "x = np.random.randn(2000)\n",
    "y = np.random.randn(2000)\n",
    "\n",
    "iplot([go.Histogram2dContour(x=x,y=y,contours=dict(coloring='heatmap')),\n",
    "      go.Scatter(x=x,y=y, mode = 'markers', marker=dict(color='white',size=3, opacity=0.3))],show_link=False)"
   ]
  },
  {
   "cell_type": "code",
   "execution_count": 15,
   "metadata": {},
   "outputs": [],
   "source": [
    "import pandas as pd"
   ]
  },
  {
   "cell_type": "code",
   "execution_count": null,
   "metadata": {},
   "outputs": [],
   "source": [
    "\n",
    "csvfile = r'C:\\Users\\gen80\\OneDrive\\Documents\\MDSlectures\\capstone_sentiment_analysis\\better_dwelling_capstone\\week_2\\GDP_50_fp_annotated.csv'\n",
    "gdp_anno = pd.read_csv(csvfile,skiprows=1,header=1,parse_dates=['publishedAt']) # date_parser=lambda x: pd.to_datetime(x, utc=True)\n",
    "gdp_anno.head()"
   ]
  },
  {
   "cell_type": "code",
   "execution_count": null,
   "metadata": {},
   "outputs": [],
   "source": [
    "gdp_subdf =gdp_anno[['title','publishedAt','title + description']]\n",
    "gdp_subdf.head()"
   ]
  },
  {
   "cell_type": "code",
   "execution_count": 17,
   "metadata": {},
   "outputs": [
    {
     "data": {
      "application/vnd.plotly.v1+json": {
       "config": {
        "linkText": "Export to plot.ly",
        "plotlyServerURL": "https://plot.ly",
        "showLink": false
       },
       "data": [
        {
         "marker": {
          "color": "red",
          "opacity": 0.9,
          "size": 3
         },
         "mode": "lines+markers",
         "type": "scatter",
         "x": [
          0,
          1,
          2,
          3,
          4,
          5
         ],
         "y": [
          0,
          0,
          -1,
          1,
          1,
          0
         ]
        }
       ],
       "layout": {
        "template": {
         "data": {
          "bar": [
           {
            "error_x": {
             "color": "#2a3f5f"
            },
            "error_y": {
             "color": "#2a3f5f"
            },
            "marker": {
             "line": {
              "color": "#E5ECF6",
              "width": 0.5
             }
            },
            "type": "bar"
           }
          ],
          "barpolar": [
           {
            "marker": {
             "line": {
              "color": "#E5ECF6",
              "width": 0.5
             }
            },
            "type": "barpolar"
           }
          ],
          "carpet": [
           {
            "aaxis": {
             "endlinecolor": "#2a3f5f",
             "gridcolor": "white",
             "linecolor": "white",
             "minorgridcolor": "white",
             "startlinecolor": "#2a3f5f"
            },
            "baxis": {
             "endlinecolor": "#2a3f5f",
             "gridcolor": "white",
             "linecolor": "white",
             "minorgridcolor": "white",
             "startlinecolor": "#2a3f5f"
            },
            "type": "carpet"
           }
          ],
          "choropleth": [
           {
            "colorbar": {
             "outlinewidth": 0,
             "ticks": ""
            },
            "type": "choropleth"
           }
          ],
          "contour": [
           {
            "colorbar": {
             "outlinewidth": 0,
             "ticks": ""
            },
            "colorscale": [
             [
              0,
              "#0d0887"
             ],
             [
              0.1111111111111111,
              "#46039f"
             ],
             [
              0.2222222222222222,
              "#7201a8"
             ],
             [
              0.3333333333333333,
              "#9c179e"
             ],
             [
              0.4444444444444444,
              "#bd3786"
             ],
             [
              0.5555555555555556,
              "#d8576b"
             ],
             [
              0.6666666666666666,
              "#ed7953"
             ],
             [
              0.7777777777777778,
              "#fb9f3a"
             ],
             [
              0.8888888888888888,
              "#fdca26"
             ],
             [
              1,
              "#f0f921"
             ]
            ],
            "type": "contour"
           }
          ],
          "contourcarpet": [
           {
            "colorbar": {
             "outlinewidth": 0,
             "ticks": ""
            },
            "type": "contourcarpet"
           }
          ],
          "heatmap": [
           {
            "colorbar": {
             "outlinewidth": 0,
             "ticks": ""
            },
            "colorscale": [
             [
              0,
              "#0d0887"
             ],
             [
              0.1111111111111111,
              "#46039f"
             ],
             [
              0.2222222222222222,
              "#7201a8"
             ],
             [
              0.3333333333333333,
              "#9c179e"
             ],
             [
              0.4444444444444444,
              "#bd3786"
             ],
             [
              0.5555555555555556,
              "#d8576b"
             ],
             [
              0.6666666666666666,
              "#ed7953"
             ],
             [
              0.7777777777777778,
              "#fb9f3a"
             ],
             [
              0.8888888888888888,
              "#fdca26"
             ],
             [
              1,
              "#f0f921"
             ]
            ],
            "type": "heatmap"
           }
          ],
          "heatmapgl": [
           {
            "colorbar": {
             "outlinewidth": 0,
             "ticks": ""
            },
            "colorscale": [
             [
              0,
              "#0d0887"
             ],
             [
              0.1111111111111111,
              "#46039f"
             ],
             [
              0.2222222222222222,
              "#7201a8"
             ],
             [
              0.3333333333333333,
              "#9c179e"
             ],
             [
              0.4444444444444444,
              "#bd3786"
             ],
             [
              0.5555555555555556,
              "#d8576b"
             ],
             [
              0.6666666666666666,
              "#ed7953"
             ],
             [
              0.7777777777777778,
              "#fb9f3a"
             ],
             [
              0.8888888888888888,
              "#fdca26"
             ],
             [
              1,
              "#f0f921"
             ]
            ],
            "type": "heatmapgl"
           }
          ],
          "histogram": [
           {
            "marker": {
             "colorbar": {
              "outlinewidth": 0,
              "ticks": ""
             }
            },
            "type": "histogram"
           }
          ],
          "histogram2d": [
           {
            "colorbar": {
             "outlinewidth": 0,
             "ticks": ""
            },
            "colorscale": [
             [
              0,
              "#0d0887"
             ],
             [
              0.1111111111111111,
              "#46039f"
             ],
             [
              0.2222222222222222,
              "#7201a8"
             ],
             [
              0.3333333333333333,
              "#9c179e"
             ],
             [
              0.4444444444444444,
              "#bd3786"
             ],
             [
              0.5555555555555556,
              "#d8576b"
             ],
             [
              0.6666666666666666,
              "#ed7953"
             ],
             [
              0.7777777777777778,
              "#fb9f3a"
             ],
             [
              0.8888888888888888,
              "#fdca26"
             ],
             [
              1,
              "#f0f921"
             ]
            ],
            "type": "histogram2d"
           }
          ],
          "histogram2dcontour": [
           {
            "colorbar": {
             "outlinewidth": 0,
             "ticks": ""
            },
            "colorscale": [
             [
              0,
              "#0d0887"
             ],
             [
              0.1111111111111111,
              "#46039f"
             ],
             [
              0.2222222222222222,
              "#7201a8"
             ],
             [
              0.3333333333333333,
              "#9c179e"
             ],
             [
              0.4444444444444444,
              "#bd3786"
             ],
             [
              0.5555555555555556,
              "#d8576b"
             ],
             [
              0.6666666666666666,
              "#ed7953"
             ],
             [
              0.7777777777777778,
              "#fb9f3a"
             ],
             [
              0.8888888888888888,
              "#fdca26"
             ],
             [
              1,
              "#f0f921"
             ]
            ],
            "type": "histogram2dcontour"
           }
          ],
          "mesh3d": [
           {
            "colorbar": {
             "outlinewidth": 0,
             "ticks": ""
            },
            "type": "mesh3d"
           }
          ],
          "parcoords": [
           {
            "line": {
             "colorbar": {
              "outlinewidth": 0,
              "ticks": ""
             }
            },
            "type": "parcoords"
           }
          ],
          "pie": [
           {
            "automargin": true,
            "type": "pie"
           }
          ],
          "scatter": [
           {
            "marker": {
             "colorbar": {
              "outlinewidth": 0,
              "ticks": ""
             }
            },
            "type": "scatter"
           }
          ],
          "scatter3d": [
           {
            "line": {
             "colorbar": {
              "outlinewidth": 0,
              "ticks": ""
             }
            },
            "marker": {
             "colorbar": {
              "outlinewidth": 0,
              "ticks": ""
             }
            },
            "type": "scatter3d"
           }
          ],
          "scattercarpet": [
           {
            "marker": {
             "colorbar": {
              "outlinewidth": 0,
              "ticks": ""
             }
            },
            "type": "scattercarpet"
           }
          ],
          "scattergeo": [
           {
            "marker": {
             "colorbar": {
              "outlinewidth": 0,
              "ticks": ""
             }
            },
            "type": "scattergeo"
           }
          ],
          "scattergl": [
           {
            "marker": {
             "colorbar": {
              "outlinewidth": 0,
              "ticks": ""
             }
            },
            "type": "scattergl"
           }
          ],
          "scattermapbox": [
           {
            "marker": {
             "colorbar": {
              "outlinewidth": 0,
              "ticks": ""
             }
            },
            "type": "scattermapbox"
           }
          ],
          "scatterpolar": [
           {
            "marker": {
             "colorbar": {
              "outlinewidth": 0,
              "ticks": ""
             }
            },
            "type": "scatterpolar"
           }
          ],
          "scatterpolargl": [
           {
            "marker": {
             "colorbar": {
              "outlinewidth": 0,
              "ticks": ""
             }
            },
            "type": "scatterpolargl"
           }
          ],
          "scatterternary": [
           {
            "marker": {
             "colorbar": {
              "outlinewidth": 0,
              "ticks": ""
             }
            },
            "type": "scatterternary"
           }
          ],
          "surface": [
           {
            "colorbar": {
             "outlinewidth": 0,
             "ticks": ""
            },
            "colorscale": [
             [
              0,
              "#0d0887"
             ],
             [
              0.1111111111111111,
              "#46039f"
             ],
             [
              0.2222222222222222,
              "#7201a8"
             ],
             [
              0.3333333333333333,
              "#9c179e"
             ],
             [
              0.4444444444444444,
              "#bd3786"
             ],
             [
              0.5555555555555556,
              "#d8576b"
             ],
             [
              0.6666666666666666,
              "#ed7953"
             ],
             [
              0.7777777777777778,
              "#fb9f3a"
             ],
             [
              0.8888888888888888,
              "#fdca26"
             ],
             [
              1,
              "#f0f921"
             ]
            ],
            "type": "surface"
           }
          ],
          "table": [
           {
            "cells": {
             "fill": {
              "color": "#EBF0F8"
             },
             "line": {
              "color": "white"
             }
            },
            "header": {
             "fill": {
              "color": "#C8D4E3"
             },
             "line": {
              "color": "white"
             }
            },
            "type": "table"
           }
          ]
         },
         "layout": {
          "annotationdefaults": {
           "arrowcolor": "#2a3f5f",
           "arrowhead": 0,
           "arrowwidth": 1
          },
          "coloraxis": {
           "colorbar": {
            "outlinewidth": 0,
            "ticks": ""
           }
          },
          "colorscale": {
           "diverging": [
            [
             0,
             "#8e0152"
            ],
            [
             0.1,
             "#c51b7d"
            ],
            [
             0.2,
             "#de77ae"
            ],
            [
             0.3,
             "#f1b6da"
            ],
            [
             0.4,
             "#fde0ef"
            ],
            [
             0.5,
             "#f7f7f7"
            ],
            [
             0.6,
             "#e6f5d0"
            ],
            [
             0.7,
             "#b8e186"
            ],
            [
             0.8,
             "#7fbc41"
            ],
            [
             0.9,
             "#4d9221"
            ],
            [
             1,
             "#276419"
            ]
           ],
           "sequential": [
            [
             0,
             "#0d0887"
            ],
            [
             0.1111111111111111,
             "#46039f"
            ],
            [
             0.2222222222222222,
             "#7201a8"
            ],
            [
             0.3333333333333333,
             "#9c179e"
            ],
            [
             0.4444444444444444,
             "#bd3786"
            ],
            [
             0.5555555555555556,
             "#d8576b"
            ],
            [
             0.6666666666666666,
             "#ed7953"
            ],
            [
             0.7777777777777778,
             "#fb9f3a"
            ],
            [
             0.8888888888888888,
             "#fdca26"
            ],
            [
             1,
             "#f0f921"
            ]
           ],
           "sequentialminus": [
            [
             0,
             "#0d0887"
            ],
            [
             0.1111111111111111,
             "#46039f"
            ],
            [
             0.2222222222222222,
             "#7201a8"
            ],
            [
             0.3333333333333333,
             "#9c179e"
            ],
            [
             0.4444444444444444,
             "#bd3786"
            ],
            [
             0.5555555555555556,
             "#d8576b"
            ],
            [
             0.6666666666666666,
             "#ed7953"
            ],
            [
             0.7777777777777778,
             "#fb9f3a"
            ],
            [
             0.8888888888888888,
             "#fdca26"
            ],
            [
             1,
             "#f0f921"
            ]
           ]
          },
          "colorway": [
           "#636efa",
           "#EF553B",
           "#00cc96",
           "#ab63fa",
           "#FFA15A",
           "#19d3f3",
           "#FF6692",
           "#B6E880",
           "#FF97FF",
           "#FECB52"
          ],
          "font": {
           "color": "#2a3f5f"
          },
          "geo": {
           "bgcolor": "white",
           "lakecolor": "white",
           "landcolor": "#E5ECF6",
           "showlakes": true,
           "showland": true,
           "subunitcolor": "white"
          },
          "hoverlabel": {
           "align": "left"
          },
          "hovermode": "closest",
          "mapbox": {
           "style": "light"
          },
          "paper_bgcolor": "white",
          "plot_bgcolor": "#E5ECF6",
          "polar": {
           "angularaxis": {
            "gridcolor": "white",
            "linecolor": "white",
            "ticks": ""
           },
           "bgcolor": "#E5ECF6",
           "radialaxis": {
            "gridcolor": "white",
            "linecolor": "white",
            "ticks": ""
           }
          },
          "scene": {
           "xaxis": {
            "backgroundcolor": "#E5ECF6",
            "gridcolor": "white",
            "gridwidth": 2,
            "linecolor": "white",
            "showbackground": true,
            "ticks": "",
            "zerolinecolor": "white"
           },
           "yaxis": {
            "backgroundcolor": "#E5ECF6",
            "gridcolor": "white",
            "gridwidth": 2,
            "linecolor": "white",
            "showbackground": true,
            "ticks": "",
            "zerolinecolor": "white"
           },
           "zaxis": {
            "backgroundcolor": "#E5ECF6",
            "gridcolor": "white",
            "gridwidth": 2,
            "linecolor": "white",
            "showbackground": true,
            "ticks": "",
            "zerolinecolor": "white"
           }
          },
          "shapedefaults": {
           "line": {
            "color": "#2a3f5f"
           }
          },
          "ternary": {
           "aaxis": {
            "gridcolor": "white",
            "linecolor": "white",
            "ticks": ""
           },
           "baxis": {
            "gridcolor": "white",
            "linecolor": "white",
            "ticks": ""
           },
           "bgcolor": "#E5ECF6",
           "caxis": {
            "gridcolor": "white",
            "linecolor": "white",
            "ticks": ""
           }
          },
          "title": {
           "x": 0.05
          },
          "xaxis": {
           "automargin": true,
           "gridcolor": "white",
           "linecolor": "white",
           "ticks": "",
           "title": {
            "standoff": 15
           },
           "zerolinecolor": "white",
           "zerolinewidth": 2
          },
          "yaxis": {
           "automargin": true,
           "gridcolor": "white",
           "linecolor": "white",
           "ticks": "",
           "title": {
            "standoff": 15
           },
           "zerolinecolor": "white",
           "zerolinewidth": 2
          }
         }
        }
       }
      },
      "text/html": [
       "<div>\n",
       "        \n",
       "        \n",
       "            <div id=\"0b8c84b8-7811-49b9-9d71-dd6f47d5a3bc\" class=\"plotly-graph-div\" style=\"height:525px; width:100%;\"></div>\n",
       "            <script type=\"text/javascript\">\n",
       "                require([\"plotly\"], function(Plotly) {\n",
       "                    window.PLOTLYENV=window.PLOTLYENV || {};\n",
       "                    \n",
       "                if (document.getElementById(\"0b8c84b8-7811-49b9-9d71-dd6f47d5a3bc\")) {\n",
       "                    Plotly.newPlot(\n",
       "                        '0b8c84b8-7811-49b9-9d71-dd6f47d5a3bc',\n",
       "                        [{\"marker\": {\"color\": \"red\", \"opacity\": 0.9, \"size\": 3}, \"mode\": \"lines+markers\", \"type\": \"scatter\", \"x\": [0, 1, 2, 3, 4, 5], \"y\": [0, 0, -1, 1, 1, 0]}],\n",
       "                        {\"template\": {\"data\": {\"bar\": [{\"error_x\": {\"color\": \"#2a3f5f\"}, \"error_y\": {\"color\": \"#2a3f5f\"}, \"marker\": {\"line\": {\"color\": \"#E5ECF6\", \"width\": 0.5}}, \"type\": \"bar\"}], \"barpolar\": [{\"marker\": {\"line\": {\"color\": \"#E5ECF6\", \"width\": 0.5}}, \"type\": \"barpolar\"}], \"carpet\": [{\"aaxis\": {\"endlinecolor\": \"#2a3f5f\", \"gridcolor\": \"white\", \"linecolor\": \"white\", \"minorgridcolor\": \"white\", \"startlinecolor\": \"#2a3f5f\"}, \"baxis\": {\"endlinecolor\": \"#2a3f5f\", \"gridcolor\": \"white\", \"linecolor\": \"white\", \"minorgridcolor\": \"white\", \"startlinecolor\": \"#2a3f5f\"}, \"type\": \"carpet\"}], \"choropleth\": [{\"colorbar\": {\"outlinewidth\": 0, \"ticks\": \"\"}, \"type\": \"choropleth\"}], \"contour\": [{\"colorbar\": {\"outlinewidth\": 0, \"ticks\": \"\"}, \"colorscale\": [[0.0, \"#0d0887\"], [0.1111111111111111, \"#46039f\"], [0.2222222222222222, \"#7201a8\"], [0.3333333333333333, \"#9c179e\"], [0.4444444444444444, \"#bd3786\"], [0.5555555555555556, \"#d8576b\"], [0.6666666666666666, \"#ed7953\"], [0.7777777777777778, \"#fb9f3a\"], [0.8888888888888888, \"#fdca26\"], [1.0, \"#f0f921\"]], \"type\": \"contour\"}], \"contourcarpet\": [{\"colorbar\": {\"outlinewidth\": 0, \"ticks\": \"\"}, \"type\": \"contourcarpet\"}], \"heatmap\": [{\"colorbar\": {\"outlinewidth\": 0, \"ticks\": \"\"}, \"colorscale\": [[0.0, \"#0d0887\"], [0.1111111111111111, \"#46039f\"], [0.2222222222222222, \"#7201a8\"], [0.3333333333333333, \"#9c179e\"], [0.4444444444444444, \"#bd3786\"], [0.5555555555555556, \"#d8576b\"], [0.6666666666666666, \"#ed7953\"], [0.7777777777777778, \"#fb9f3a\"], [0.8888888888888888, \"#fdca26\"], [1.0, \"#f0f921\"]], \"type\": \"heatmap\"}], \"heatmapgl\": [{\"colorbar\": {\"outlinewidth\": 0, \"ticks\": \"\"}, \"colorscale\": [[0.0, \"#0d0887\"], [0.1111111111111111, \"#46039f\"], [0.2222222222222222, \"#7201a8\"], [0.3333333333333333, \"#9c179e\"], [0.4444444444444444, \"#bd3786\"], [0.5555555555555556, \"#d8576b\"], [0.6666666666666666, \"#ed7953\"], [0.7777777777777778, \"#fb9f3a\"], [0.8888888888888888, \"#fdca26\"], [1.0, \"#f0f921\"]], \"type\": \"heatmapgl\"}], \"histogram\": [{\"marker\": {\"colorbar\": {\"outlinewidth\": 0, \"ticks\": \"\"}}, \"type\": \"histogram\"}], \"histogram2d\": [{\"colorbar\": {\"outlinewidth\": 0, \"ticks\": \"\"}, \"colorscale\": [[0.0, \"#0d0887\"], [0.1111111111111111, \"#46039f\"], [0.2222222222222222, \"#7201a8\"], [0.3333333333333333, \"#9c179e\"], [0.4444444444444444, \"#bd3786\"], [0.5555555555555556, \"#d8576b\"], [0.6666666666666666, \"#ed7953\"], [0.7777777777777778, \"#fb9f3a\"], [0.8888888888888888, \"#fdca26\"], [1.0, \"#f0f921\"]], \"type\": \"histogram2d\"}], \"histogram2dcontour\": [{\"colorbar\": {\"outlinewidth\": 0, \"ticks\": \"\"}, \"colorscale\": [[0.0, \"#0d0887\"], [0.1111111111111111, \"#46039f\"], [0.2222222222222222, \"#7201a8\"], [0.3333333333333333, \"#9c179e\"], [0.4444444444444444, \"#bd3786\"], [0.5555555555555556, \"#d8576b\"], [0.6666666666666666, \"#ed7953\"], [0.7777777777777778, \"#fb9f3a\"], [0.8888888888888888, \"#fdca26\"], [1.0, \"#f0f921\"]], \"type\": \"histogram2dcontour\"}], \"mesh3d\": [{\"colorbar\": {\"outlinewidth\": 0, \"ticks\": \"\"}, \"type\": \"mesh3d\"}], \"parcoords\": [{\"line\": {\"colorbar\": {\"outlinewidth\": 0, \"ticks\": \"\"}}, \"type\": \"parcoords\"}], \"pie\": [{\"automargin\": true, \"type\": \"pie\"}], \"scatter\": [{\"marker\": {\"colorbar\": {\"outlinewidth\": 0, \"ticks\": \"\"}}, \"type\": \"scatter\"}], \"scatter3d\": [{\"line\": {\"colorbar\": {\"outlinewidth\": 0, \"ticks\": \"\"}}, \"marker\": {\"colorbar\": {\"outlinewidth\": 0, \"ticks\": \"\"}}, \"type\": \"scatter3d\"}], \"scattercarpet\": [{\"marker\": {\"colorbar\": {\"outlinewidth\": 0, \"ticks\": \"\"}}, \"type\": \"scattercarpet\"}], \"scattergeo\": [{\"marker\": {\"colorbar\": {\"outlinewidth\": 0, \"ticks\": \"\"}}, \"type\": \"scattergeo\"}], \"scattergl\": [{\"marker\": {\"colorbar\": {\"outlinewidth\": 0, \"ticks\": \"\"}}, \"type\": \"scattergl\"}], \"scattermapbox\": [{\"marker\": {\"colorbar\": {\"outlinewidth\": 0, \"ticks\": \"\"}}, \"type\": \"scattermapbox\"}], \"scatterpolar\": [{\"marker\": {\"colorbar\": {\"outlinewidth\": 0, \"ticks\": \"\"}}, \"type\": \"scatterpolar\"}], \"scatterpolargl\": [{\"marker\": {\"colorbar\": {\"outlinewidth\": 0, \"ticks\": \"\"}}, \"type\": \"scatterpolargl\"}], \"scatterternary\": [{\"marker\": {\"colorbar\": {\"outlinewidth\": 0, \"ticks\": \"\"}}, \"type\": \"scatterternary\"}], \"surface\": [{\"colorbar\": {\"outlinewidth\": 0, \"ticks\": \"\"}, \"colorscale\": [[0.0, \"#0d0887\"], [0.1111111111111111, \"#46039f\"], [0.2222222222222222, \"#7201a8\"], [0.3333333333333333, \"#9c179e\"], [0.4444444444444444, \"#bd3786\"], [0.5555555555555556, \"#d8576b\"], [0.6666666666666666, \"#ed7953\"], [0.7777777777777778, \"#fb9f3a\"], [0.8888888888888888, \"#fdca26\"], [1.0, \"#f0f921\"]], \"type\": \"surface\"}], \"table\": [{\"cells\": {\"fill\": {\"color\": \"#EBF0F8\"}, \"line\": {\"color\": \"white\"}}, \"header\": {\"fill\": {\"color\": \"#C8D4E3\"}, \"line\": {\"color\": \"white\"}}, \"type\": \"table\"}]}, \"layout\": {\"annotationdefaults\": {\"arrowcolor\": \"#2a3f5f\", \"arrowhead\": 0, \"arrowwidth\": 1}, \"coloraxis\": {\"colorbar\": {\"outlinewidth\": 0, \"ticks\": \"\"}}, \"colorscale\": {\"diverging\": [[0, \"#8e0152\"], [0.1, \"#c51b7d\"], [0.2, \"#de77ae\"], [0.3, \"#f1b6da\"], [0.4, \"#fde0ef\"], [0.5, \"#f7f7f7\"], [0.6, \"#e6f5d0\"], [0.7, \"#b8e186\"], [0.8, \"#7fbc41\"], [0.9, \"#4d9221\"], [1, \"#276419\"]], \"sequential\": [[0.0, \"#0d0887\"], [0.1111111111111111, \"#46039f\"], [0.2222222222222222, \"#7201a8\"], [0.3333333333333333, \"#9c179e\"], [0.4444444444444444, \"#bd3786\"], [0.5555555555555556, \"#d8576b\"], [0.6666666666666666, \"#ed7953\"], [0.7777777777777778, \"#fb9f3a\"], [0.8888888888888888, \"#fdca26\"], [1.0, \"#f0f921\"]], \"sequentialminus\": [[0.0, \"#0d0887\"], [0.1111111111111111, \"#46039f\"], [0.2222222222222222, \"#7201a8\"], [0.3333333333333333, \"#9c179e\"], [0.4444444444444444, \"#bd3786\"], [0.5555555555555556, \"#d8576b\"], [0.6666666666666666, \"#ed7953\"], [0.7777777777777778, \"#fb9f3a\"], [0.8888888888888888, \"#fdca26\"], [1.0, \"#f0f921\"]]}, \"colorway\": [\"#636efa\", \"#EF553B\", \"#00cc96\", \"#ab63fa\", \"#FFA15A\", \"#19d3f3\", \"#FF6692\", \"#B6E880\", \"#FF97FF\", \"#FECB52\"], \"font\": {\"color\": \"#2a3f5f\"}, \"geo\": {\"bgcolor\": \"white\", \"lakecolor\": \"white\", \"landcolor\": \"#E5ECF6\", \"showlakes\": true, \"showland\": true, \"subunitcolor\": \"white\"}, \"hoverlabel\": {\"align\": \"left\"}, \"hovermode\": \"closest\", \"mapbox\": {\"style\": \"light\"}, \"paper_bgcolor\": \"white\", \"plot_bgcolor\": \"#E5ECF6\", \"polar\": {\"angularaxis\": {\"gridcolor\": \"white\", \"linecolor\": \"white\", \"ticks\": \"\"}, \"bgcolor\": \"#E5ECF6\", \"radialaxis\": {\"gridcolor\": \"white\", \"linecolor\": \"white\", \"ticks\": \"\"}}, \"scene\": {\"xaxis\": {\"backgroundcolor\": \"#E5ECF6\", \"gridcolor\": \"white\", \"gridwidth\": 2, \"linecolor\": \"white\", \"showbackground\": true, \"ticks\": \"\", \"zerolinecolor\": \"white\"}, \"yaxis\": {\"backgroundcolor\": \"#E5ECF6\", \"gridcolor\": \"white\", \"gridwidth\": 2, \"linecolor\": \"white\", \"showbackground\": true, \"ticks\": \"\", \"zerolinecolor\": \"white\"}, \"zaxis\": {\"backgroundcolor\": \"#E5ECF6\", \"gridcolor\": \"white\", \"gridwidth\": 2, \"linecolor\": \"white\", \"showbackground\": true, \"ticks\": \"\", \"zerolinecolor\": \"white\"}}, \"shapedefaults\": {\"line\": {\"color\": \"#2a3f5f\"}}, \"ternary\": {\"aaxis\": {\"gridcolor\": \"white\", \"linecolor\": \"white\", \"ticks\": \"\"}, \"baxis\": {\"gridcolor\": \"white\", \"linecolor\": \"white\", \"ticks\": \"\"}, \"bgcolor\": \"#E5ECF6\", \"caxis\": {\"gridcolor\": \"white\", \"linecolor\": \"white\", \"ticks\": \"\"}}, \"title\": {\"x\": 0.05}, \"xaxis\": {\"automargin\": true, \"gridcolor\": \"white\", \"linecolor\": \"white\", \"ticks\": \"\", \"title\": {\"standoff\": 15}, \"zerolinecolor\": \"white\", \"zerolinewidth\": 2}, \"yaxis\": {\"automargin\": true, \"gridcolor\": \"white\", \"linecolor\": \"white\", \"ticks\": \"\", \"title\": {\"standoff\": 15}, \"zerolinecolor\": \"white\", \"zerolinewidth\": 2}}}},\n",
       "                        {\"responsive\": true}\n",
       "                    ).then(function(){\n",
       "                            \n",
       "var gd = document.getElementById('0b8c84b8-7811-49b9-9d71-dd6f47d5a3bc');\n",
       "var x = new MutationObserver(function (mutations, observer) {{\n",
       "        var display = window.getComputedStyle(gd).display;\n",
       "        if (!display || display === 'none') {{\n",
       "            console.log([gd, 'removed!']);\n",
       "            Plotly.purge(gd);\n",
       "            observer.disconnect();\n",
       "        }}\n",
       "}});\n",
       "\n",
       "// Listen for the removal of the full notebook cells\n",
       "var notebookContainer = gd.closest('#notebook-container');\n",
       "if (notebookContainer) {{\n",
       "    x.observe(notebookContainer, {childList: true});\n",
       "}}\n",
       "\n",
       "// Listen for the clearing of the current output cell\n",
       "var outputEl = gd.closest('.output');\n",
       "if (outputEl) {{\n",
       "    x.observe(outputEl, {childList: true});\n",
       "}}\n",
       "\n",
       "                        })\n",
       "                };\n",
       "                });\n",
       "            </script>\n",
       "        </div>"
      ]
     },
     "metadata": {},
     "output_type": "display_data"
    },
    {
     "data": {
      "application/vnd.plotly.v1+json": {
       "config": {
        "plotlyServerURL": "https://plot.ly"
       },
       "data": [
        {
         "mode": "lines",
         "name": "lines",
         "type": "scatter",
         "x": [
          0,
          1,
          2,
          3,
          4,
          5
         ],
         "y": [
          0,
          0,
          -1,
          1,
          1,
          0
         ]
        },
        {
         "mode": "lines+markers",
         "name": "lines2",
         "type": "scatter",
         "x": [
          0,
          1,
          2,
          3,
          4,
          5
         ],
         "y": [
          10,
          9,
          8,
          7,
          5,
          6
         ]
        },
        {
         "hoverinfo": "text+name",
         "line": {
          "shape": "spline"
         },
         "name": "spline",
         "text": [
          "tweak line smoothness<br>with 'smoothing' in line object"
         ],
         "type": "scatter",
         "x": [
          1,
          2,
          3,
          4,
          5
         ],
         "y": [
          6,
          8,
          7,
          8,
          6
         ]
        }
       ],
       "layout": {
        "template": {
         "data": {
          "bar": [
           {
            "error_x": {
             "color": "#2a3f5f"
            },
            "error_y": {
             "color": "#2a3f5f"
            },
            "marker": {
             "line": {
              "color": "#E5ECF6",
              "width": 0.5
             }
            },
            "type": "bar"
           }
          ],
          "barpolar": [
           {
            "marker": {
             "line": {
              "color": "#E5ECF6",
              "width": 0.5
             }
            },
            "type": "barpolar"
           }
          ],
          "carpet": [
           {
            "aaxis": {
             "endlinecolor": "#2a3f5f",
             "gridcolor": "white",
             "linecolor": "white",
             "minorgridcolor": "white",
             "startlinecolor": "#2a3f5f"
            },
            "baxis": {
             "endlinecolor": "#2a3f5f",
             "gridcolor": "white",
             "linecolor": "white",
             "minorgridcolor": "white",
             "startlinecolor": "#2a3f5f"
            },
            "type": "carpet"
           }
          ],
          "choropleth": [
           {
            "colorbar": {
             "outlinewidth": 0,
             "ticks": ""
            },
            "type": "choropleth"
           }
          ],
          "contour": [
           {
            "colorbar": {
             "outlinewidth": 0,
             "ticks": ""
            },
            "colorscale": [
             [
              0,
              "#0d0887"
             ],
             [
              0.1111111111111111,
              "#46039f"
             ],
             [
              0.2222222222222222,
              "#7201a8"
             ],
             [
              0.3333333333333333,
              "#9c179e"
             ],
             [
              0.4444444444444444,
              "#bd3786"
             ],
             [
              0.5555555555555556,
              "#d8576b"
             ],
             [
              0.6666666666666666,
              "#ed7953"
             ],
             [
              0.7777777777777778,
              "#fb9f3a"
             ],
             [
              0.8888888888888888,
              "#fdca26"
             ],
             [
              1,
              "#f0f921"
             ]
            ],
            "type": "contour"
           }
          ],
          "contourcarpet": [
           {
            "colorbar": {
             "outlinewidth": 0,
             "ticks": ""
            },
            "type": "contourcarpet"
           }
          ],
          "heatmap": [
           {
            "colorbar": {
             "outlinewidth": 0,
             "ticks": ""
            },
            "colorscale": [
             [
              0,
              "#0d0887"
             ],
             [
              0.1111111111111111,
              "#46039f"
             ],
             [
              0.2222222222222222,
              "#7201a8"
             ],
             [
              0.3333333333333333,
              "#9c179e"
             ],
             [
              0.4444444444444444,
              "#bd3786"
             ],
             [
              0.5555555555555556,
              "#d8576b"
             ],
             [
              0.6666666666666666,
              "#ed7953"
             ],
             [
              0.7777777777777778,
              "#fb9f3a"
             ],
             [
              0.8888888888888888,
              "#fdca26"
             ],
             [
              1,
              "#f0f921"
             ]
            ],
            "type": "heatmap"
           }
          ],
          "heatmapgl": [
           {
            "colorbar": {
             "outlinewidth": 0,
             "ticks": ""
            },
            "colorscale": [
             [
              0,
              "#0d0887"
             ],
             [
              0.1111111111111111,
              "#46039f"
             ],
             [
              0.2222222222222222,
              "#7201a8"
             ],
             [
              0.3333333333333333,
              "#9c179e"
             ],
             [
              0.4444444444444444,
              "#bd3786"
             ],
             [
              0.5555555555555556,
              "#d8576b"
             ],
             [
              0.6666666666666666,
              "#ed7953"
             ],
             [
              0.7777777777777778,
              "#fb9f3a"
             ],
             [
              0.8888888888888888,
              "#fdca26"
             ],
             [
              1,
              "#f0f921"
             ]
            ],
            "type": "heatmapgl"
           }
          ],
          "histogram": [
           {
            "marker": {
             "colorbar": {
              "outlinewidth": 0,
              "ticks": ""
             }
            },
            "type": "histogram"
           }
          ],
          "histogram2d": [
           {
            "colorbar": {
             "outlinewidth": 0,
             "ticks": ""
            },
            "colorscale": [
             [
              0,
              "#0d0887"
             ],
             [
              0.1111111111111111,
              "#46039f"
             ],
             [
              0.2222222222222222,
              "#7201a8"
             ],
             [
              0.3333333333333333,
              "#9c179e"
             ],
             [
              0.4444444444444444,
              "#bd3786"
             ],
             [
              0.5555555555555556,
              "#d8576b"
             ],
             [
              0.6666666666666666,
              "#ed7953"
             ],
             [
              0.7777777777777778,
              "#fb9f3a"
             ],
             [
              0.8888888888888888,
              "#fdca26"
             ],
             [
              1,
              "#f0f921"
             ]
            ],
            "type": "histogram2d"
           }
          ],
          "histogram2dcontour": [
           {
            "colorbar": {
             "outlinewidth": 0,
             "ticks": ""
            },
            "colorscale": [
             [
              0,
              "#0d0887"
             ],
             [
              0.1111111111111111,
              "#46039f"
             ],
             [
              0.2222222222222222,
              "#7201a8"
             ],
             [
              0.3333333333333333,
              "#9c179e"
             ],
             [
              0.4444444444444444,
              "#bd3786"
             ],
             [
              0.5555555555555556,
              "#d8576b"
             ],
             [
              0.6666666666666666,
              "#ed7953"
             ],
             [
              0.7777777777777778,
              "#fb9f3a"
             ],
             [
              0.8888888888888888,
              "#fdca26"
             ],
             [
              1,
              "#f0f921"
             ]
            ],
            "type": "histogram2dcontour"
           }
          ],
          "mesh3d": [
           {
            "colorbar": {
             "outlinewidth": 0,
             "ticks": ""
            },
            "type": "mesh3d"
           }
          ],
          "parcoords": [
           {
            "line": {
             "colorbar": {
              "outlinewidth": 0,
              "ticks": ""
             }
            },
            "type": "parcoords"
           }
          ],
          "pie": [
           {
            "automargin": true,
            "type": "pie"
           }
          ],
          "scatter": [
           {
            "marker": {
             "colorbar": {
              "outlinewidth": 0,
              "ticks": ""
             }
            },
            "type": "scatter"
           }
          ],
          "scatter3d": [
           {
            "line": {
             "colorbar": {
              "outlinewidth": 0,
              "ticks": ""
             }
            },
            "marker": {
             "colorbar": {
              "outlinewidth": 0,
              "ticks": ""
             }
            },
            "type": "scatter3d"
           }
          ],
          "scattercarpet": [
           {
            "marker": {
             "colorbar": {
              "outlinewidth": 0,
              "ticks": ""
             }
            },
            "type": "scattercarpet"
           }
          ],
          "scattergeo": [
           {
            "marker": {
             "colorbar": {
              "outlinewidth": 0,
              "ticks": ""
             }
            },
            "type": "scattergeo"
           }
          ],
          "scattergl": [
           {
            "marker": {
             "colorbar": {
              "outlinewidth": 0,
              "ticks": ""
             }
            },
            "type": "scattergl"
           }
          ],
          "scattermapbox": [
           {
            "marker": {
             "colorbar": {
              "outlinewidth": 0,
              "ticks": ""
             }
            },
            "type": "scattermapbox"
           }
          ],
          "scatterpolar": [
           {
            "marker": {
             "colorbar": {
              "outlinewidth": 0,
              "ticks": ""
             }
            },
            "type": "scatterpolar"
           }
          ],
          "scatterpolargl": [
           {
            "marker": {
             "colorbar": {
              "outlinewidth": 0,
              "ticks": ""
             }
            },
            "type": "scatterpolargl"
           }
          ],
          "scatterternary": [
           {
            "marker": {
             "colorbar": {
              "outlinewidth": 0,
              "ticks": ""
             }
            },
            "type": "scatterternary"
           }
          ],
          "surface": [
           {
            "colorbar": {
             "outlinewidth": 0,
             "ticks": ""
            },
            "colorscale": [
             [
              0,
              "#0d0887"
             ],
             [
              0.1111111111111111,
              "#46039f"
             ],
             [
              0.2222222222222222,
              "#7201a8"
             ],
             [
              0.3333333333333333,
              "#9c179e"
             ],
             [
              0.4444444444444444,
              "#bd3786"
             ],
             [
              0.5555555555555556,
              "#d8576b"
             ],
             [
              0.6666666666666666,
              "#ed7953"
             ],
             [
              0.7777777777777778,
              "#fb9f3a"
             ],
             [
              0.8888888888888888,
              "#fdca26"
             ],
             [
              1,
              "#f0f921"
             ]
            ],
            "type": "surface"
           }
          ],
          "table": [
           {
            "cells": {
             "fill": {
              "color": "#EBF0F8"
             },
             "line": {
              "color": "white"
             }
            },
            "header": {
             "fill": {
              "color": "#C8D4E3"
             },
             "line": {
              "color": "white"
             }
            },
            "type": "table"
           }
          ]
         },
         "layout": {
          "annotationdefaults": {
           "arrowcolor": "#2a3f5f",
           "arrowhead": 0,
           "arrowwidth": 1
          },
          "coloraxis": {
           "colorbar": {
            "outlinewidth": 0,
            "ticks": ""
           }
          },
          "colorscale": {
           "diverging": [
            [
             0,
             "#8e0152"
            ],
            [
             0.1,
             "#c51b7d"
            ],
            [
             0.2,
             "#de77ae"
            ],
            [
             0.3,
             "#f1b6da"
            ],
            [
             0.4,
             "#fde0ef"
            ],
            [
             0.5,
             "#f7f7f7"
            ],
            [
             0.6,
             "#e6f5d0"
            ],
            [
             0.7,
             "#b8e186"
            ],
            [
             0.8,
             "#7fbc41"
            ],
            [
             0.9,
             "#4d9221"
            ],
            [
             1,
             "#276419"
            ]
           ],
           "sequential": [
            [
             0,
             "#0d0887"
            ],
            [
             0.1111111111111111,
             "#46039f"
            ],
            [
             0.2222222222222222,
             "#7201a8"
            ],
            [
             0.3333333333333333,
             "#9c179e"
            ],
            [
             0.4444444444444444,
             "#bd3786"
            ],
            [
             0.5555555555555556,
             "#d8576b"
            ],
            [
             0.6666666666666666,
             "#ed7953"
            ],
            [
             0.7777777777777778,
             "#fb9f3a"
            ],
            [
             0.8888888888888888,
             "#fdca26"
            ],
            [
             1,
             "#f0f921"
            ]
           ],
           "sequentialminus": [
            [
             0,
             "#0d0887"
            ],
            [
             0.1111111111111111,
             "#46039f"
            ],
            [
             0.2222222222222222,
             "#7201a8"
            ],
            [
             0.3333333333333333,
             "#9c179e"
            ],
            [
             0.4444444444444444,
             "#bd3786"
            ],
            [
             0.5555555555555556,
             "#d8576b"
            ],
            [
             0.6666666666666666,
             "#ed7953"
            ],
            [
             0.7777777777777778,
             "#fb9f3a"
            ],
            [
             0.8888888888888888,
             "#fdca26"
            ],
            [
             1,
             "#f0f921"
            ]
           ]
          },
          "colorway": [
           "#636efa",
           "#EF553B",
           "#00cc96",
           "#ab63fa",
           "#FFA15A",
           "#19d3f3",
           "#FF6692",
           "#B6E880",
           "#FF97FF",
           "#FECB52"
          ],
          "font": {
           "color": "#2a3f5f"
          },
          "geo": {
           "bgcolor": "white",
           "lakecolor": "white",
           "landcolor": "#E5ECF6",
           "showlakes": true,
           "showland": true,
           "subunitcolor": "white"
          },
          "hoverlabel": {
           "align": "left"
          },
          "hovermode": "closest",
          "mapbox": {
           "style": "light"
          },
          "paper_bgcolor": "white",
          "plot_bgcolor": "#E5ECF6",
          "polar": {
           "angularaxis": {
            "gridcolor": "white",
            "linecolor": "white",
            "ticks": ""
           },
           "bgcolor": "#E5ECF6",
           "radialaxis": {
            "gridcolor": "white",
            "linecolor": "white",
            "ticks": ""
           }
          },
          "scene": {
           "xaxis": {
            "backgroundcolor": "#E5ECF6",
            "gridcolor": "white",
            "gridwidth": 2,
            "linecolor": "white",
            "showbackground": true,
            "ticks": "",
            "zerolinecolor": "white"
           },
           "yaxis": {
            "backgroundcolor": "#E5ECF6",
            "gridcolor": "white",
            "gridwidth": 2,
            "linecolor": "white",
            "showbackground": true,
            "ticks": "",
            "zerolinecolor": "white"
           },
           "zaxis": {
            "backgroundcolor": "#E5ECF6",
            "gridcolor": "white",
            "gridwidth": 2,
            "linecolor": "white",
            "showbackground": true,
            "ticks": "",
            "zerolinecolor": "white"
           }
          },
          "shapedefaults": {
           "line": {
            "color": "#2a3f5f"
           }
          },
          "ternary": {
           "aaxis": {
            "gridcolor": "white",
            "linecolor": "white",
            "ticks": ""
           },
           "baxis": {
            "gridcolor": "white",
            "linecolor": "white",
            "ticks": ""
           },
           "bgcolor": "#E5ECF6",
           "caxis": {
            "gridcolor": "white",
            "linecolor": "white",
            "ticks": ""
           }
          },
          "title": {
           "x": 0.05
          },
          "xaxis": {
           "automargin": true,
           "gridcolor": "white",
           "linecolor": "white",
           "ticks": "",
           "title": {
            "standoff": 15
           },
           "zerolinecolor": "white",
           "zerolinewidth": 2
          },
          "yaxis": {
           "automargin": true,
           "gridcolor": "white",
           "linecolor": "white",
           "ticks": "",
           "title": {
            "standoff": 15
           },
           "zerolinecolor": "white",
           "zerolinewidth": 2
          }
         }
        }
       }
      },
      "text/html": [
       "<div>\n",
       "        \n",
       "        \n",
       "            <div id=\"18c4aee5-ef03-4530-98d4-b8c29c36f6ec\" class=\"plotly-graph-div\" style=\"height:525px; width:100%;\"></div>\n",
       "            <script type=\"text/javascript\">\n",
       "                require([\"plotly\"], function(Plotly) {\n",
       "                    window.PLOTLYENV=window.PLOTLYENV || {};\n",
       "                    \n",
       "                if (document.getElementById(\"18c4aee5-ef03-4530-98d4-b8c29c36f6ec\")) {\n",
       "                    Plotly.newPlot(\n",
       "                        '18c4aee5-ef03-4530-98d4-b8c29c36f6ec',\n",
       "                        [{\"mode\": \"lines\", \"name\": \"lines\", \"type\": \"scatter\", \"x\": [0, 1, 2, 3, 4, 5], \"y\": [0, 0, -1, 1, 1, 0]}, {\"mode\": \"lines+markers\", \"name\": \"lines2\", \"type\": \"scatter\", \"x\": [0, 1, 2, 3, 4, 5], \"y\": [10, 9, 8, 7, 5, 6]}, {\"hoverinfo\": \"text+name\", \"line\": {\"shape\": \"spline\"}, \"name\": \"spline\", \"text\": [\"tweak line smoothness<br>with 'smoothing' in line object\"], \"type\": \"scatter\", \"x\": [1, 2, 3, 4, 5], \"y\": [6, 8, 7, 8, 6]}],\n",
       "                        {\"template\": {\"data\": {\"bar\": [{\"error_x\": {\"color\": \"#2a3f5f\"}, \"error_y\": {\"color\": \"#2a3f5f\"}, \"marker\": {\"line\": {\"color\": \"#E5ECF6\", \"width\": 0.5}}, \"type\": \"bar\"}], \"barpolar\": [{\"marker\": {\"line\": {\"color\": \"#E5ECF6\", \"width\": 0.5}}, \"type\": \"barpolar\"}], \"carpet\": [{\"aaxis\": {\"endlinecolor\": \"#2a3f5f\", \"gridcolor\": \"white\", \"linecolor\": \"white\", \"minorgridcolor\": \"white\", \"startlinecolor\": \"#2a3f5f\"}, \"baxis\": {\"endlinecolor\": \"#2a3f5f\", \"gridcolor\": \"white\", \"linecolor\": \"white\", \"minorgridcolor\": \"white\", \"startlinecolor\": \"#2a3f5f\"}, \"type\": \"carpet\"}], \"choropleth\": [{\"colorbar\": {\"outlinewidth\": 0, \"ticks\": \"\"}, \"type\": \"choropleth\"}], \"contour\": [{\"colorbar\": {\"outlinewidth\": 0, \"ticks\": \"\"}, \"colorscale\": [[0.0, \"#0d0887\"], [0.1111111111111111, \"#46039f\"], [0.2222222222222222, \"#7201a8\"], [0.3333333333333333, \"#9c179e\"], [0.4444444444444444, \"#bd3786\"], [0.5555555555555556, \"#d8576b\"], [0.6666666666666666, \"#ed7953\"], [0.7777777777777778, \"#fb9f3a\"], [0.8888888888888888, \"#fdca26\"], [1.0, \"#f0f921\"]], \"type\": \"contour\"}], \"contourcarpet\": [{\"colorbar\": {\"outlinewidth\": 0, \"ticks\": \"\"}, \"type\": \"contourcarpet\"}], \"heatmap\": [{\"colorbar\": {\"outlinewidth\": 0, \"ticks\": \"\"}, \"colorscale\": [[0.0, \"#0d0887\"], [0.1111111111111111, \"#46039f\"], [0.2222222222222222, \"#7201a8\"], [0.3333333333333333, \"#9c179e\"], [0.4444444444444444, \"#bd3786\"], [0.5555555555555556, \"#d8576b\"], [0.6666666666666666, \"#ed7953\"], [0.7777777777777778, \"#fb9f3a\"], [0.8888888888888888, \"#fdca26\"], [1.0, \"#f0f921\"]], \"type\": \"heatmap\"}], \"heatmapgl\": [{\"colorbar\": {\"outlinewidth\": 0, \"ticks\": \"\"}, \"colorscale\": [[0.0, \"#0d0887\"], [0.1111111111111111, \"#46039f\"], [0.2222222222222222, \"#7201a8\"], [0.3333333333333333, \"#9c179e\"], [0.4444444444444444, \"#bd3786\"], [0.5555555555555556, \"#d8576b\"], [0.6666666666666666, \"#ed7953\"], [0.7777777777777778, \"#fb9f3a\"], [0.8888888888888888, \"#fdca26\"], [1.0, \"#f0f921\"]], \"type\": \"heatmapgl\"}], \"histogram\": [{\"marker\": {\"colorbar\": {\"outlinewidth\": 0, \"ticks\": \"\"}}, \"type\": \"histogram\"}], \"histogram2d\": [{\"colorbar\": {\"outlinewidth\": 0, \"ticks\": \"\"}, \"colorscale\": [[0.0, \"#0d0887\"], [0.1111111111111111, \"#46039f\"], [0.2222222222222222, \"#7201a8\"], [0.3333333333333333, \"#9c179e\"], [0.4444444444444444, \"#bd3786\"], [0.5555555555555556, \"#d8576b\"], [0.6666666666666666, \"#ed7953\"], [0.7777777777777778, \"#fb9f3a\"], [0.8888888888888888, \"#fdca26\"], [1.0, \"#f0f921\"]], \"type\": \"histogram2d\"}], \"histogram2dcontour\": [{\"colorbar\": {\"outlinewidth\": 0, \"ticks\": \"\"}, \"colorscale\": [[0.0, \"#0d0887\"], [0.1111111111111111, \"#46039f\"], [0.2222222222222222, \"#7201a8\"], [0.3333333333333333, \"#9c179e\"], [0.4444444444444444, \"#bd3786\"], [0.5555555555555556, \"#d8576b\"], [0.6666666666666666, \"#ed7953\"], [0.7777777777777778, \"#fb9f3a\"], [0.8888888888888888, \"#fdca26\"], [1.0, \"#f0f921\"]], \"type\": \"histogram2dcontour\"}], \"mesh3d\": [{\"colorbar\": {\"outlinewidth\": 0, \"ticks\": \"\"}, \"type\": \"mesh3d\"}], \"parcoords\": [{\"line\": {\"colorbar\": {\"outlinewidth\": 0, \"ticks\": \"\"}}, \"type\": \"parcoords\"}], \"pie\": [{\"automargin\": true, \"type\": \"pie\"}], \"scatter\": [{\"marker\": {\"colorbar\": {\"outlinewidth\": 0, \"ticks\": \"\"}}, \"type\": \"scatter\"}], \"scatter3d\": [{\"line\": {\"colorbar\": {\"outlinewidth\": 0, \"ticks\": \"\"}}, \"marker\": {\"colorbar\": {\"outlinewidth\": 0, \"ticks\": \"\"}}, \"type\": \"scatter3d\"}], \"scattercarpet\": [{\"marker\": {\"colorbar\": {\"outlinewidth\": 0, \"ticks\": \"\"}}, \"type\": \"scattercarpet\"}], \"scattergeo\": [{\"marker\": {\"colorbar\": {\"outlinewidth\": 0, \"ticks\": \"\"}}, \"type\": \"scattergeo\"}], \"scattergl\": [{\"marker\": {\"colorbar\": {\"outlinewidth\": 0, \"ticks\": \"\"}}, \"type\": \"scattergl\"}], \"scattermapbox\": [{\"marker\": {\"colorbar\": {\"outlinewidth\": 0, \"ticks\": \"\"}}, \"type\": \"scattermapbox\"}], \"scatterpolar\": [{\"marker\": {\"colorbar\": {\"outlinewidth\": 0, \"ticks\": \"\"}}, \"type\": \"scatterpolar\"}], \"scatterpolargl\": [{\"marker\": {\"colorbar\": {\"outlinewidth\": 0, \"ticks\": \"\"}}, \"type\": \"scatterpolargl\"}], \"scatterternary\": [{\"marker\": {\"colorbar\": {\"outlinewidth\": 0, \"ticks\": \"\"}}, \"type\": \"scatterternary\"}], \"surface\": [{\"colorbar\": {\"outlinewidth\": 0, \"ticks\": \"\"}, \"colorscale\": [[0.0, \"#0d0887\"], [0.1111111111111111, \"#46039f\"], [0.2222222222222222, \"#7201a8\"], [0.3333333333333333, \"#9c179e\"], [0.4444444444444444, \"#bd3786\"], [0.5555555555555556, \"#d8576b\"], [0.6666666666666666, \"#ed7953\"], [0.7777777777777778, \"#fb9f3a\"], [0.8888888888888888, \"#fdca26\"], [1.0, \"#f0f921\"]], \"type\": \"surface\"}], \"table\": [{\"cells\": {\"fill\": {\"color\": \"#EBF0F8\"}, \"line\": {\"color\": \"white\"}}, \"header\": {\"fill\": {\"color\": \"#C8D4E3\"}, \"line\": {\"color\": \"white\"}}, \"type\": \"table\"}]}, \"layout\": {\"annotationdefaults\": {\"arrowcolor\": \"#2a3f5f\", \"arrowhead\": 0, \"arrowwidth\": 1}, \"coloraxis\": {\"colorbar\": {\"outlinewidth\": 0, \"ticks\": \"\"}}, \"colorscale\": {\"diverging\": [[0, \"#8e0152\"], [0.1, \"#c51b7d\"], [0.2, \"#de77ae\"], [0.3, \"#f1b6da\"], [0.4, \"#fde0ef\"], [0.5, \"#f7f7f7\"], [0.6, \"#e6f5d0\"], [0.7, \"#b8e186\"], [0.8, \"#7fbc41\"], [0.9, \"#4d9221\"], [1, \"#276419\"]], \"sequential\": [[0.0, \"#0d0887\"], [0.1111111111111111, \"#46039f\"], [0.2222222222222222, \"#7201a8\"], [0.3333333333333333, \"#9c179e\"], [0.4444444444444444, \"#bd3786\"], [0.5555555555555556, \"#d8576b\"], [0.6666666666666666, \"#ed7953\"], [0.7777777777777778, \"#fb9f3a\"], [0.8888888888888888, \"#fdca26\"], [1.0, \"#f0f921\"]], \"sequentialminus\": [[0.0, \"#0d0887\"], [0.1111111111111111, \"#46039f\"], [0.2222222222222222, \"#7201a8\"], [0.3333333333333333, \"#9c179e\"], [0.4444444444444444, \"#bd3786\"], [0.5555555555555556, \"#d8576b\"], [0.6666666666666666, \"#ed7953\"], [0.7777777777777778, \"#fb9f3a\"], [0.8888888888888888, \"#fdca26\"], [1.0, \"#f0f921\"]]}, \"colorway\": [\"#636efa\", \"#EF553B\", \"#00cc96\", \"#ab63fa\", \"#FFA15A\", \"#19d3f3\", \"#FF6692\", \"#B6E880\", \"#FF97FF\", \"#FECB52\"], \"font\": {\"color\": \"#2a3f5f\"}, \"geo\": {\"bgcolor\": \"white\", \"lakecolor\": \"white\", \"landcolor\": \"#E5ECF6\", \"showlakes\": true, \"showland\": true, \"subunitcolor\": \"white\"}, \"hoverlabel\": {\"align\": \"left\"}, \"hovermode\": \"closest\", \"mapbox\": {\"style\": \"light\"}, \"paper_bgcolor\": \"white\", \"plot_bgcolor\": \"#E5ECF6\", \"polar\": {\"angularaxis\": {\"gridcolor\": \"white\", \"linecolor\": \"white\", \"ticks\": \"\"}, \"bgcolor\": \"#E5ECF6\", \"radialaxis\": {\"gridcolor\": \"white\", \"linecolor\": \"white\", \"ticks\": \"\"}}, \"scene\": {\"xaxis\": {\"backgroundcolor\": \"#E5ECF6\", \"gridcolor\": \"white\", \"gridwidth\": 2, \"linecolor\": \"white\", \"showbackground\": true, \"ticks\": \"\", \"zerolinecolor\": \"white\"}, \"yaxis\": {\"backgroundcolor\": \"#E5ECF6\", \"gridcolor\": \"white\", \"gridwidth\": 2, \"linecolor\": \"white\", \"showbackground\": true, \"ticks\": \"\", \"zerolinecolor\": \"white\"}, \"zaxis\": {\"backgroundcolor\": \"#E5ECF6\", \"gridcolor\": \"white\", \"gridwidth\": 2, \"linecolor\": \"white\", \"showbackground\": true, \"ticks\": \"\", \"zerolinecolor\": \"white\"}}, \"shapedefaults\": {\"line\": {\"color\": \"#2a3f5f\"}}, \"ternary\": {\"aaxis\": {\"gridcolor\": \"white\", \"linecolor\": \"white\", \"ticks\": \"\"}, \"baxis\": {\"gridcolor\": \"white\", \"linecolor\": \"white\", \"ticks\": \"\"}, \"bgcolor\": \"#E5ECF6\", \"caxis\": {\"gridcolor\": \"white\", \"linecolor\": \"white\", \"ticks\": \"\"}}, \"title\": {\"x\": 0.05}, \"xaxis\": {\"automargin\": true, \"gridcolor\": \"white\", \"linecolor\": \"white\", \"ticks\": \"\", \"title\": {\"standoff\": 15}, \"zerolinecolor\": \"white\", \"zerolinewidth\": 2}, \"yaxis\": {\"automargin\": true, \"gridcolor\": \"white\", \"linecolor\": \"white\", \"ticks\": \"\", \"title\": {\"standoff\": 15}, \"zerolinecolor\": \"white\", \"zerolinewidth\": 2}}}},\n",
       "                        {\"responsive\": true}\n",
       "                    ).then(function(){\n",
       "                            \n",
       "var gd = document.getElementById('18c4aee5-ef03-4530-98d4-b8c29c36f6ec');\n",
       "var x = new MutationObserver(function (mutations, observer) {{\n",
       "        var display = window.getComputedStyle(gd).display;\n",
       "        if (!display || display === 'none') {{\n",
       "            console.log([gd, 'removed!']);\n",
       "            Plotly.purge(gd);\n",
       "            observer.disconnect();\n",
       "        }}\n",
       "}});\n",
       "\n",
       "// Listen for the removal of the full notebook cells\n",
       "var notebookContainer = gd.closest('#notebook-container');\n",
       "if (notebookContainer) {{\n",
       "    x.observe(notebookContainer, {childList: true});\n",
       "}}\n",
       "\n",
       "// Listen for the clearing of the current output cell\n",
       "var outputEl = gd.closest('.output');\n",
       "if (outputEl) {{\n",
       "    x.observe(outputEl, {childList: true});\n",
       "}}\n",
       "\n",
       "                        })\n",
       "                };\n",
       "                });\n",
       "            </script>\n",
       "        </div>"
      ]
     },
     "metadata": {},
     "output_type": "display_data"
    }
   ],
   "source": [
    "x = gdp_subdf['title + description'].values\n",
    "\n",
    "#mode = 'markers'\n",
    "\n",
    "#iplot([go.Scatter(y=x[:15],x=y[:15], mode = 'lines', marker=dict(color='red',size=3, opacity=0.9))])\n",
    "\n",
    "iplot([go.Scatter(y=[0,0,-1,1,1,0],x=[0,1,2,3,4,5], mode = 'lines+markers', marker=dict(color='red',size=3, opacity=0.9))])\n",
    "\n",
    "w = np.array([1, 2, 3, 4, 5])\n",
    "y = np.array([1, 3, 2, 3, 1])\n",
    "\n",
    "fig = go.Figure()\n",
    "fig.add_trace(go.Scatter(y=[0,0,-1,1,1,0],x=[0,1,2,3,4,5],\n",
    "                    mode='lines',\n",
    "                    name='lines'))\n",
    "fig.add_trace(go.Scatter(y=[10,9,8,7,5,6],x=[0,1,2,3,4,5],\n",
    "                    mode='lines+markers',\n",
    "                    name='lines2'))\n",
    "\n",
    "fig.add_trace(go.Scatter(x=w, y=y + 5, name=\"spline\",\n",
    "                    text=[\"tweak line smoothness<br>with 'smoothing' in line object\"],\n",
    "                    hoverinfo='text+name',\n",
    "                    line_shape='spline'))\n",
    "\n",
    "fig.show()"
   ]
  },
  {
   "cell_type": "code",
   "execution_count": 54,
   "metadata": {},
   "outputs": [
    {
     "name": "stdout",
     "output_type": "stream",
     "text": [
      "Running on http://127.0.0.1:8050/\n",
      "Running on http://127.0.0.1:8050/\n",
      "Running on http://127.0.0.1:8050/\n",
      "Running on http://127.0.0.1:8050/\n",
      "Running on http://127.0.0.1:8050/\n",
      "Running on http://127.0.0.1:8050/\n",
      "Running on http://127.0.0.1:8050/\n",
      "Debugger PIN: 992-913-249\n",
      "Debugger PIN: 992-913-249\n",
      "Debugger PIN: 992-913-249\n",
      "Debugger PIN: 992-913-249\n",
      "Debugger PIN: 992-913-249\n",
      "Debugger PIN: 992-913-249\n",
      "Debugger PIN: 992-913-249\n",
      " * Serving Flask app \"__main__\" (lazy loading)\n",
      " * Environment: production\n",
      "   WARNING: This is a development server. Do not use it in a production deployment.\n",
      "   Use a production WSGI server instead.\n",
      " * Debug mode: on\n"
     ]
    }
   ],
   "source": [
    "## Dash\n",
    "\n",
    "import plotly.graph_objects as go # or plotly.express as px\n",
    "fig = go.Figure() # or any Plotly Express function e.g. px.bar(...)\n",
    "# # fig.add_trace( ... )\n",
    "# # fig.update_layout( ... )\n",
    "\n",
    "fig.add_trace(go.Scatter(y=x,x=[0,1,2,3,4,5],\n",
    "                    mode='lines',\n",
    "                    name='sentiment'))\n",
    "\n",
    "fig.add_trace(go.Scatter(y=[0,0,-1,1,1,0],x=[0,1,2,3,4,5],\n",
    "                    mode='lines',\n",
    "                    name='lines'))\n",
    "fig.add_trace(go.Scatter(y=[10,9,8,7,5,6],x=[0,1,2,3,4,5],\n",
    "                    mode='lines+markers',\n",
    "                    name='lines2'))\n",
    "\n",
    "# fig.add_trace(go.Scatter(x=w, y=y + 5, name=\"spline\",\n",
    "#                     text=[\"tweak line smoothness<br>with 'smoothing' in line object\"],\n",
    "#                     hoverinfo='text+name',\n",
    "#                     line_shape='spline'))\n",
    "\n",
    "# df = px.data.gapminder().query(\"continent=='Oceania'\") #'Asia'\n",
    "# fig = px.line(df, x=\"year\", y=\"lifeExp\", color='country')\n",
    "\n",
    "\n",
    "import dash\n",
    "import dash_core_components as dcc\n",
    "import dash_html_components as html\n",
    "\n",
    "app = dash.Dash()\n",
    "app.layout = html.Div([\n",
    "    dcc.Graph(figure=fig)\n",
    "])\n",
    "\n",
    "app.run_server(debug=True, use_reloader=False)  # Turn off reloader if inside Jupyter"
   ]
  },
  {
   "cell_type": "code",
   "execution_count": 18,
   "metadata": {},
   "outputs": [
    {
     "name": "stdout",
     "output_type": "stream",
     "text": [
      "Running on http://127.0.0.1:8050/\n",
      "Debugger PIN: 654-429-156\n",
      " * Serving Flask app \"__main__\" (lazy loading)\n",
      " * Environment: production\n",
      "   WARNING: This is a development server. Do not use it in a production deployment.\n",
      "   Use a production WSGI server instead.\n",
      " * Debug mode: on\n"
     ]
    }
   ],
   "source": [
    "## Dash\n",
    "\n",
    "import  plotly.express as px\n",
    "\n",
    "import plotly.graph_objects as go # or plotly.express as px\n",
    "fig = go.Figure() # or any Plotly Express function e.g. px.bar(...)\n",
    "# # fig.add_trace( ... )\n",
    "# # fig.update_layout( ... )\n",
    "\n",
    "\n",
    "# fig.add_trace(go.Scatter(x=w, y=y + 5, name=\"spline\",\n",
    "#                     text=[\"tweak line smoothness<br>with 'smoothing' in line object\"],\n",
    "#                     hoverinfo='text+name',\n",
    "#                     line_shape='spline'))\n",
    "\n",
    "df = px.data.gapminder().query(\"continent=='Oceania'\") #'Asia'\n",
    "fig = px.line(df, x=\"year\", y=\"lifeExp\", color='country')\n",
    "\n",
    "\n",
    "import dash\n",
    "import dash_core_components as dcc\n",
    "import dash_html_components as html\n",
    "\n",
    "app = dash.Dash()\n",
    "app.layout = html.Div([\n",
    "    \n",
    "    html.H1(\"Hello World\"),\n",
    "    \n",
    "    dcc.Markdown('''\n",
    "    Trying out paragraph writing\n",
    "    '''),\n",
    "    \n",
    "    dcc.Graph(figure=fig)\n",
    "])\n",
    "\n",
    "app.run_server(debug=True, use_reloader=False)  # Turn off reloader if inside Jupyter"
   ]
  },
  {
   "cell_type": "code",
   "execution_count": 51,
   "metadata": {},
   "outputs": [
    {
     "data": {
      "application/vnd.plotly.v1+json": {
       "config": {
        "plotlyServerURL": "https://plot.ly"
       },
       "data": [
        {
         "hoverlabel": {
          "namelength": 0
         },
         "hovertemplate": "country=Australia<br>year=%{x}<br>lifeExp=%{y}",
         "legendgroup": "Australia",
         "line": {
          "color": "#636efa",
          "dash": "solid"
         },
         "mode": "lines",
         "name": "Australia",
         "showlegend": true,
         "type": "scatter",
         "x": [
          1952,
          1957,
          1962,
          1967,
          1972,
          1977,
          1982,
          1987,
          1992,
          1997,
          2002,
          2007
         ],
         "xaxis": "x",
         "y": [
          69.12,
          70.33,
          70.93,
          71.1,
          71.93,
          73.49,
          74.74,
          76.32,
          77.56,
          78.83,
          80.37,
          81.235
         ],
         "yaxis": "y"
        },
        {
         "hoverlabel": {
          "namelength": 0
         },
         "hovertemplate": "country=New Zealand<br>year=%{x}<br>lifeExp=%{y}",
         "legendgroup": "New Zealand",
         "line": {
          "color": "#EF553B",
          "dash": "solid"
         },
         "mode": "lines",
         "name": "New Zealand",
         "showlegend": true,
         "type": "scatter",
         "x": [
          1952,
          1957,
          1962,
          1967,
          1972,
          1977,
          1982,
          1987,
          1992,
          1997,
          2002,
          2007
         ],
         "xaxis": "x",
         "y": [
          69.39,
          70.26,
          71.24,
          71.52,
          71.89,
          72.22,
          73.84,
          74.32,
          76.33,
          77.55,
          79.11,
          80.204
         ],
         "yaxis": "y"
        }
       ],
       "layout": {
        "legend": {
         "title": {
          "text": "country"
         },
         "tracegroupgap": 0
        },
        "margin": {
         "t": 60
        },
        "template": {
         "data": {
          "bar": [
           {
            "error_x": {
             "color": "#2a3f5f"
            },
            "error_y": {
             "color": "#2a3f5f"
            },
            "marker": {
             "line": {
              "color": "#E5ECF6",
              "width": 0.5
             }
            },
            "type": "bar"
           }
          ],
          "barpolar": [
           {
            "marker": {
             "line": {
              "color": "#E5ECF6",
              "width": 0.5
             }
            },
            "type": "barpolar"
           }
          ],
          "carpet": [
           {
            "aaxis": {
             "endlinecolor": "#2a3f5f",
             "gridcolor": "white",
             "linecolor": "white",
             "minorgridcolor": "white",
             "startlinecolor": "#2a3f5f"
            },
            "baxis": {
             "endlinecolor": "#2a3f5f",
             "gridcolor": "white",
             "linecolor": "white",
             "minorgridcolor": "white",
             "startlinecolor": "#2a3f5f"
            },
            "type": "carpet"
           }
          ],
          "choropleth": [
           {
            "colorbar": {
             "outlinewidth": 0,
             "ticks": ""
            },
            "type": "choropleth"
           }
          ],
          "contour": [
           {
            "colorbar": {
             "outlinewidth": 0,
             "ticks": ""
            },
            "colorscale": [
             [
              0,
              "#0d0887"
             ],
             [
              0.1111111111111111,
              "#46039f"
             ],
             [
              0.2222222222222222,
              "#7201a8"
             ],
             [
              0.3333333333333333,
              "#9c179e"
             ],
             [
              0.4444444444444444,
              "#bd3786"
             ],
             [
              0.5555555555555556,
              "#d8576b"
             ],
             [
              0.6666666666666666,
              "#ed7953"
             ],
             [
              0.7777777777777778,
              "#fb9f3a"
             ],
             [
              0.8888888888888888,
              "#fdca26"
             ],
             [
              1,
              "#f0f921"
             ]
            ],
            "type": "contour"
           }
          ],
          "contourcarpet": [
           {
            "colorbar": {
             "outlinewidth": 0,
             "ticks": ""
            },
            "type": "contourcarpet"
           }
          ],
          "heatmap": [
           {
            "colorbar": {
             "outlinewidth": 0,
             "ticks": ""
            },
            "colorscale": [
             [
              0,
              "#0d0887"
             ],
             [
              0.1111111111111111,
              "#46039f"
             ],
             [
              0.2222222222222222,
              "#7201a8"
             ],
             [
              0.3333333333333333,
              "#9c179e"
             ],
             [
              0.4444444444444444,
              "#bd3786"
             ],
             [
              0.5555555555555556,
              "#d8576b"
             ],
             [
              0.6666666666666666,
              "#ed7953"
             ],
             [
              0.7777777777777778,
              "#fb9f3a"
             ],
             [
              0.8888888888888888,
              "#fdca26"
             ],
             [
              1,
              "#f0f921"
             ]
            ],
            "type": "heatmap"
           }
          ],
          "heatmapgl": [
           {
            "colorbar": {
             "outlinewidth": 0,
             "ticks": ""
            },
            "colorscale": [
             [
              0,
              "#0d0887"
             ],
             [
              0.1111111111111111,
              "#46039f"
             ],
             [
              0.2222222222222222,
              "#7201a8"
             ],
             [
              0.3333333333333333,
              "#9c179e"
             ],
             [
              0.4444444444444444,
              "#bd3786"
             ],
             [
              0.5555555555555556,
              "#d8576b"
             ],
             [
              0.6666666666666666,
              "#ed7953"
             ],
             [
              0.7777777777777778,
              "#fb9f3a"
             ],
             [
              0.8888888888888888,
              "#fdca26"
             ],
             [
              1,
              "#f0f921"
             ]
            ],
            "type": "heatmapgl"
           }
          ],
          "histogram": [
           {
            "marker": {
             "colorbar": {
              "outlinewidth": 0,
              "ticks": ""
             }
            },
            "type": "histogram"
           }
          ],
          "histogram2d": [
           {
            "colorbar": {
             "outlinewidth": 0,
             "ticks": ""
            },
            "colorscale": [
             [
              0,
              "#0d0887"
             ],
             [
              0.1111111111111111,
              "#46039f"
             ],
             [
              0.2222222222222222,
              "#7201a8"
             ],
             [
              0.3333333333333333,
              "#9c179e"
             ],
             [
              0.4444444444444444,
              "#bd3786"
             ],
             [
              0.5555555555555556,
              "#d8576b"
             ],
             [
              0.6666666666666666,
              "#ed7953"
             ],
             [
              0.7777777777777778,
              "#fb9f3a"
             ],
             [
              0.8888888888888888,
              "#fdca26"
             ],
             [
              1,
              "#f0f921"
             ]
            ],
            "type": "histogram2d"
           }
          ],
          "histogram2dcontour": [
           {
            "colorbar": {
             "outlinewidth": 0,
             "ticks": ""
            },
            "colorscale": [
             [
              0,
              "#0d0887"
             ],
             [
              0.1111111111111111,
              "#46039f"
             ],
             [
              0.2222222222222222,
              "#7201a8"
             ],
             [
              0.3333333333333333,
              "#9c179e"
             ],
             [
              0.4444444444444444,
              "#bd3786"
             ],
             [
              0.5555555555555556,
              "#d8576b"
             ],
             [
              0.6666666666666666,
              "#ed7953"
             ],
             [
              0.7777777777777778,
              "#fb9f3a"
             ],
             [
              0.8888888888888888,
              "#fdca26"
             ],
             [
              1,
              "#f0f921"
             ]
            ],
            "type": "histogram2dcontour"
           }
          ],
          "mesh3d": [
           {
            "colorbar": {
             "outlinewidth": 0,
             "ticks": ""
            },
            "type": "mesh3d"
           }
          ],
          "parcoords": [
           {
            "line": {
             "colorbar": {
              "outlinewidth": 0,
              "ticks": ""
             }
            },
            "type": "parcoords"
           }
          ],
          "pie": [
           {
            "automargin": true,
            "type": "pie"
           }
          ],
          "scatter": [
           {
            "marker": {
             "colorbar": {
              "outlinewidth": 0,
              "ticks": ""
             }
            },
            "type": "scatter"
           }
          ],
          "scatter3d": [
           {
            "line": {
             "colorbar": {
              "outlinewidth": 0,
              "ticks": ""
             }
            },
            "marker": {
             "colorbar": {
              "outlinewidth": 0,
              "ticks": ""
             }
            },
            "type": "scatter3d"
           }
          ],
          "scattercarpet": [
           {
            "marker": {
             "colorbar": {
              "outlinewidth": 0,
              "ticks": ""
             }
            },
            "type": "scattercarpet"
           }
          ],
          "scattergeo": [
           {
            "marker": {
             "colorbar": {
              "outlinewidth": 0,
              "ticks": ""
             }
            },
            "type": "scattergeo"
           }
          ],
          "scattergl": [
           {
            "marker": {
             "colorbar": {
              "outlinewidth": 0,
              "ticks": ""
             }
            },
            "type": "scattergl"
           }
          ],
          "scattermapbox": [
           {
            "marker": {
             "colorbar": {
              "outlinewidth": 0,
              "ticks": ""
             }
            },
            "type": "scattermapbox"
           }
          ],
          "scatterpolar": [
           {
            "marker": {
             "colorbar": {
              "outlinewidth": 0,
              "ticks": ""
             }
            },
            "type": "scatterpolar"
           }
          ],
          "scatterpolargl": [
           {
            "marker": {
             "colorbar": {
              "outlinewidth": 0,
              "ticks": ""
             }
            },
            "type": "scatterpolargl"
           }
          ],
          "scatterternary": [
           {
            "marker": {
             "colorbar": {
              "outlinewidth": 0,
              "ticks": ""
             }
            },
            "type": "scatterternary"
           }
          ],
          "surface": [
           {
            "colorbar": {
             "outlinewidth": 0,
             "ticks": ""
            },
            "colorscale": [
             [
              0,
              "#0d0887"
             ],
             [
              0.1111111111111111,
              "#46039f"
             ],
             [
              0.2222222222222222,
              "#7201a8"
             ],
             [
              0.3333333333333333,
              "#9c179e"
             ],
             [
              0.4444444444444444,
              "#bd3786"
             ],
             [
              0.5555555555555556,
              "#d8576b"
             ],
             [
              0.6666666666666666,
              "#ed7953"
             ],
             [
              0.7777777777777778,
              "#fb9f3a"
             ],
             [
              0.8888888888888888,
              "#fdca26"
             ],
             [
              1,
              "#f0f921"
             ]
            ],
            "type": "surface"
           }
          ],
          "table": [
           {
            "cells": {
             "fill": {
              "color": "#EBF0F8"
             },
             "line": {
              "color": "white"
             }
            },
            "header": {
             "fill": {
              "color": "#C8D4E3"
             },
             "line": {
              "color": "white"
             }
            },
            "type": "table"
           }
          ]
         },
         "layout": {
          "annotationdefaults": {
           "arrowcolor": "#2a3f5f",
           "arrowhead": 0,
           "arrowwidth": 1
          },
          "coloraxis": {
           "colorbar": {
            "outlinewidth": 0,
            "ticks": ""
           }
          },
          "colorscale": {
           "diverging": [
            [
             0,
             "#8e0152"
            ],
            [
             0.1,
             "#c51b7d"
            ],
            [
             0.2,
             "#de77ae"
            ],
            [
             0.3,
             "#f1b6da"
            ],
            [
             0.4,
             "#fde0ef"
            ],
            [
             0.5,
             "#f7f7f7"
            ],
            [
             0.6,
             "#e6f5d0"
            ],
            [
             0.7,
             "#b8e186"
            ],
            [
             0.8,
             "#7fbc41"
            ],
            [
             0.9,
             "#4d9221"
            ],
            [
             1,
             "#276419"
            ]
           ],
           "sequential": [
            [
             0,
             "#0d0887"
            ],
            [
             0.1111111111111111,
             "#46039f"
            ],
            [
             0.2222222222222222,
             "#7201a8"
            ],
            [
             0.3333333333333333,
             "#9c179e"
            ],
            [
             0.4444444444444444,
             "#bd3786"
            ],
            [
             0.5555555555555556,
             "#d8576b"
            ],
            [
             0.6666666666666666,
             "#ed7953"
            ],
            [
             0.7777777777777778,
             "#fb9f3a"
            ],
            [
             0.8888888888888888,
             "#fdca26"
            ],
            [
             1,
             "#f0f921"
            ]
           ],
           "sequentialminus": [
            [
             0,
             "#0d0887"
            ],
            [
             0.1111111111111111,
             "#46039f"
            ],
            [
             0.2222222222222222,
             "#7201a8"
            ],
            [
             0.3333333333333333,
             "#9c179e"
            ],
            [
             0.4444444444444444,
             "#bd3786"
            ],
            [
             0.5555555555555556,
             "#d8576b"
            ],
            [
             0.6666666666666666,
             "#ed7953"
            ],
            [
             0.7777777777777778,
             "#fb9f3a"
            ],
            [
             0.8888888888888888,
             "#fdca26"
            ],
            [
             1,
             "#f0f921"
            ]
           ]
          },
          "colorway": [
           "#636efa",
           "#EF553B",
           "#00cc96",
           "#ab63fa",
           "#FFA15A",
           "#19d3f3",
           "#FF6692",
           "#B6E880",
           "#FF97FF",
           "#FECB52"
          ],
          "font": {
           "color": "#2a3f5f"
          },
          "geo": {
           "bgcolor": "white",
           "lakecolor": "white",
           "landcolor": "#E5ECF6",
           "showlakes": true,
           "showland": true,
           "subunitcolor": "white"
          },
          "hoverlabel": {
           "align": "left"
          },
          "hovermode": "closest",
          "mapbox": {
           "style": "light"
          },
          "paper_bgcolor": "white",
          "plot_bgcolor": "#E5ECF6",
          "polar": {
           "angularaxis": {
            "gridcolor": "white",
            "linecolor": "white",
            "ticks": ""
           },
           "bgcolor": "#E5ECF6",
           "radialaxis": {
            "gridcolor": "white",
            "linecolor": "white",
            "ticks": ""
           }
          },
          "scene": {
           "xaxis": {
            "backgroundcolor": "#E5ECF6",
            "gridcolor": "white",
            "gridwidth": 2,
            "linecolor": "white",
            "showbackground": true,
            "ticks": "",
            "zerolinecolor": "white"
           },
           "yaxis": {
            "backgroundcolor": "#E5ECF6",
            "gridcolor": "white",
            "gridwidth": 2,
            "linecolor": "white",
            "showbackground": true,
            "ticks": "",
            "zerolinecolor": "white"
           },
           "zaxis": {
            "backgroundcolor": "#E5ECF6",
            "gridcolor": "white",
            "gridwidth": 2,
            "linecolor": "white",
            "showbackground": true,
            "ticks": "",
            "zerolinecolor": "white"
           }
          },
          "shapedefaults": {
           "line": {
            "color": "#2a3f5f"
           }
          },
          "ternary": {
           "aaxis": {
            "gridcolor": "white",
            "linecolor": "white",
            "ticks": ""
           },
           "baxis": {
            "gridcolor": "white",
            "linecolor": "white",
            "ticks": ""
           },
           "bgcolor": "#E5ECF6",
           "caxis": {
            "gridcolor": "white",
            "linecolor": "white",
            "ticks": ""
           }
          },
          "title": {
           "x": 0.05
          },
          "xaxis": {
           "automargin": true,
           "gridcolor": "white",
           "linecolor": "white",
           "ticks": "",
           "title": {
            "standoff": 15
           },
           "zerolinecolor": "white",
           "zerolinewidth": 2
          },
          "yaxis": {
           "automargin": true,
           "gridcolor": "white",
           "linecolor": "white",
           "ticks": "",
           "title": {
            "standoff": 15
           },
           "zerolinecolor": "white",
           "zerolinewidth": 2
          }
         }
        },
        "xaxis": {
         "anchor": "y",
         "domain": [
          0,
          1
         ],
         "title": {
          "text": "year"
         }
        },
        "yaxis": {
         "anchor": "x",
         "domain": [
          0,
          1
         ],
         "title": {
          "text": "lifeExp"
         }
        }
       }
      },
      "text/html": [
       "<div>\n",
       "        \n",
       "        \n",
       "            <div id=\"fd00189d-70dd-48df-975b-f0119b27e689\" class=\"plotly-graph-div\" style=\"height:525px; width:100%;\"></div>\n",
       "            <script type=\"text/javascript\">\n",
       "                require([\"plotly\"], function(Plotly) {\n",
       "                    window.PLOTLYENV=window.PLOTLYENV || {};\n",
       "                    \n",
       "                if (document.getElementById(\"fd00189d-70dd-48df-975b-f0119b27e689\")) {\n",
       "                    Plotly.newPlot(\n",
       "                        'fd00189d-70dd-48df-975b-f0119b27e689',\n",
       "                        [{\"hoverlabel\": {\"namelength\": 0}, \"hovertemplate\": \"country=Australia<br>year=%{x}<br>lifeExp=%{y}\", \"legendgroup\": \"Australia\", \"line\": {\"color\": \"#636efa\", \"dash\": \"solid\"}, \"mode\": \"lines\", \"name\": \"Australia\", \"showlegend\": true, \"type\": \"scatter\", \"x\": [1952, 1957, 1962, 1967, 1972, 1977, 1982, 1987, 1992, 1997, 2002, 2007], \"xaxis\": \"x\", \"y\": [69.12, 70.33, 70.93, 71.1, 71.93, 73.49, 74.74, 76.32, 77.56, 78.83, 80.37, 81.235], \"yaxis\": \"y\"}, {\"hoverlabel\": {\"namelength\": 0}, \"hovertemplate\": \"country=New Zealand<br>year=%{x}<br>lifeExp=%{y}\", \"legendgroup\": \"New Zealand\", \"line\": {\"color\": \"#EF553B\", \"dash\": \"solid\"}, \"mode\": \"lines\", \"name\": \"New Zealand\", \"showlegend\": true, \"type\": \"scatter\", \"x\": [1952, 1957, 1962, 1967, 1972, 1977, 1982, 1987, 1992, 1997, 2002, 2007], \"xaxis\": \"x\", \"y\": [69.39, 70.26, 71.24, 71.52, 71.89, 72.22, 73.84, 74.32, 76.33, 77.55, 79.11, 80.204], \"yaxis\": \"y\"}],\n",
       "                        {\"legend\": {\"title\": {\"text\": \"country\"}, \"tracegroupgap\": 0}, \"margin\": {\"t\": 60}, \"template\": {\"data\": {\"bar\": [{\"error_x\": {\"color\": \"#2a3f5f\"}, \"error_y\": {\"color\": \"#2a3f5f\"}, \"marker\": {\"line\": {\"color\": \"#E5ECF6\", \"width\": 0.5}}, \"type\": \"bar\"}], \"barpolar\": [{\"marker\": {\"line\": {\"color\": \"#E5ECF6\", \"width\": 0.5}}, \"type\": \"barpolar\"}], \"carpet\": [{\"aaxis\": {\"endlinecolor\": \"#2a3f5f\", \"gridcolor\": \"white\", \"linecolor\": \"white\", \"minorgridcolor\": \"white\", \"startlinecolor\": \"#2a3f5f\"}, \"baxis\": {\"endlinecolor\": \"#2a3f5f\", \"gridcolor\": \"white\", \"linecolor\": \"white\", \"minorgridcolor\": \"white\", \"startlinecolor\": \"#2a3f5f\"}, \"type\": \"carpet\"}], \"choropleth\": [{\"colorbar\": {\"outlinewidth\": 0, \"ticks\": \"\"}, \"type\": \"choropleth\"}], \"contour\": [{\"colorbar\": {\"outlinewidth\": 0, \"ticks\": \"\"}, \"colorscale\": [[0.0, \"#0d0887\"], [0.1111111111111111, \"#46039f\"], [0.2222222222222222, \"#7201a8\"], [0.3333333333333333, \"#9c179e\"], [0.4444444444444444, \"#bd3786\"], [0.5555555555555556, \"#d8576b\"], [0.6666666666666666, \"#ed7953\"], [0.7777777777777778, \"#fb9f3a\"], [0.8888888888888888, \"#fdca26\"], [1.0, \"#f0f921\"]], \"type\": \"contour\"}], \"contourcarpet\": [{\"colorbar\": {\"outlinewidth\": 0, \"ticks\": \"\"}, \"type\": \"contourcarpet\"}], \"heatmap\": [{\"colorbar\": {\"outlinewidth\": 0, \"ticks\": \"\"}, \"colorscale\": [[0.0, \"#0d0887\"], [0.1111111111111111, \"#46039f\"], [0.2222222222222222, \"#7201a8\"], [0.3333333333333333, \"#9c179e\"], [0.4444444444444444, \"#bd3786\"], [0.5555555555555556, \"#d8576b\"], [0.6666666666666666, \"#ed7953\"], [0.7777777777777778, \"#fb9f3a\"], [0.8888888888888888, \"#fdca26\"], [1.0, \"#f0f921\"]], \"type\": \"heatmap\"}], \"heatmapgl\": [{\"colorbar\": {\"outlinewidth\": 0, \"ticks\": \"\"}, \"colorscale\": [[0.0, \"#0d0887\"], [0.1111111111111111, \"#46039f\"], [0.2222222222222222, \"#7201a8\"], [0.3333333333333333, \"#9c179e\"], [0.4444444444444444, \"#bd3786\"], [0.5555555555555556, \"#d8576b\"], [0.6666666666666666, \"#ed7953\"], [0.7777777777777778, \"#fb9f3a\"], [0.8888888888888888, \"#fdca26\"], [1.0, \"#f0f921\"]], \"type\": \"heatmapgl\"}], \"histogram\": [{\"marker\": {\"colorbar\": {\"outlinewidth\": 0, \"ticks\": \"\"}}, \"type\": \"histogram\"}], \"histogram2d\": [{\"colorbar\": {\"outlinewidth\": 0, \"ticks\": \"\"}, \"colorscale\": [[0.0, \"#0d0887\"], [0.1111111111111111, \"#46039f\"], [0.2222222222222222, \"#7201a8\"], [0.3333333333333333, \"#9c179e\"], [0.4444444444444444, \"#bd3786\"], [0.5555555555555556, \"#d8576b\"], [0.6666666666666666, \"#ed7953\"], [0.7777777777777778, \"#fb9f3a\"], [0.8888888888888888, \"#fdca26\"], [1.0, \"#f0f921\"]], \"type\": \"histogram2d\"}], \"histogram2dcontour\": [{\"colorbar\": {\"outlinewidth\": 0, \"ticks\": \"\"}, \"colorscale\": [[0.0, \"#0d0887\"], [0.1111111111111111, \"#46039f\"], [0.2222222222222222, \"#7201a8\"], [0.3333333333333333, \"#9c179e\"], [0.4444444444444444, \"#bd3786\"], [0.5555555555555556, \"#d8576b\"], [0.6666666666666666, \"#ed7953\"], [0.7777777777777778, \"#fb9f3a\"], [0.8888888888888888, \"#fdca26\"], [1.0, \"#f0f921\"]], \"type\": \"histogram2dcontour\"}], \"mesh3d\": [{\"colorbar\": {\"outlinewidth\": 0, \"ticks\": \"\"}, \"type\": \"mesh3d\"}], \"parcoords\": [{\"line\": {\"colorbar\": {\"outlinewidth\": 0, \"ticks\": \"\"}}, \"type\": \"parcoords\"}], \"pie\": [{\"automargin\": true, \"type\": \"pie\"}], \"scatter\": [{\"marker\": {\"colorbar\": {\"outlinewidth\": 0, \"ticks\": \"\"}}, \"type\": \"scatter\"}], \"scatter3d\": [{\"line\": {\"colorbar\": {\"outlinewidth\": 0, \"ticks\": \"\"}}, \"marker\": {\"colorbar\": {\"outlinewidth\": 0, \"ticks\": \"\"}}, \"type\": \"scatter3d\"}], \"scattercarpet\": [{\"marker\": {\"colorbar\": {\"outlinewidth\": 0, \"ticks\": \"\"}}, \"type\": \"scattercarpet\"}], \"scattergeo\": [{\"marker\": {\"colorbar\": {\"outlinewidth\": 0, \"ticks\": \"\"}}, \"type\": \"scattergeo\"}], \"scattergl\": [{\"marker\": {\"colorbar\": {\"outlinewidth\": 0, \"ticks\": \"\"}}, \"type\": \"scattergl\"}], \"scattermapbox\": [{\"marker\": {\"colorbar\": {\"outlinewidth\": 0, \"ticks\": \"\"}}, \"type\": \"scattermapbox\"}], \"scatterpolar\": [{\"marker\": {\"colorbar\": {\"outlinewidth\": 0, \"ticks\": \"\"}}, \"type\": \"scatterpolar\"}], \"scatterpolargl\": [{\"marker\": {\"colorbar\": {\"outlinewidth\": 0, \"ticks\": \"\"}}, \"type\": \"scatterpolargl\"}], \"scatterternary\": [{\"marker\": {\"colorbar\": {\"outlinewidth\": 0, \"ticks\": \"\"}}, \"type\": \"scatterternary\"}], \"surface\": [{\"colorbar\": {\"outlinewidth\": 0, \"ticks\": \"\"}, \"colorscale\": [[0.0, \"#0d0887\"], [0.1111111111111111, \"#46039f\"], [0.2222222222222222, \"#7201a8\"], [0.3333333333333333, \"#9c179e\"], [0.4444444444444444, \"#bd3786\"], [0.5555555555555556, \"#d8576b\"], [0.6666666666666666, \"#ed7953\"], [0.7777777777777778, \"#fb9f3a\"], [0.8888888888888888, \"#fdca26\"], [1.0, \"#f0f921\"]], \"type\": \"surface\"}], \"table\": [{\"cells\": {\"fill\": {\"color\": \"#EBF0F8\"}, \"line\": {\"color\": \"white\"}}, \"header\": {\"fill\": {\"color\": \"#C8D4E3\"}, \"line\": {\"color\": \"white\"}}, \"type\": \"table\"}]}, \"layout\": {\"annotationdefaults\": {\"arrowcolor\": \"#2a3f5f\", \"arrowhead\": 0, \"arrowwidth\": 1}, \"coloraxis\": {\"colorbar\": {\"outlinewidth\": 0, \"ticks\": \"\"}}, \"colorscale\": {\"diverging\": [[0, \"#8e0152\"], [0.1, \"#c51b7d\"], [0.2, \"#de77ae\"], [0.3, \"#f1b6da\"], [0.4, \"#fde0ef\"], [0.5, \"#f7f7f7\"], [0.6, \"#e6f5d0\"], [0.7, \"#b8e186\"], [0.8, \"#7fbc41\"], [0.9, \"#4d9221\"], [1, \"#276419\"]], \"sequential\": [[0.0, \"#0d0887\"], [0.1111111111111111, \"#46039f\"], [0.2222222222222222, \"#7201a8\"], [0.3333333333333333, \"#9c179e\"], [0.4444444444444444, \"#bd3786\"], [0.5555555555555556, \"#d8576b\"], [0.6666666666666666, \"#ed7953\"], [0.7777777777777778, \"#fb9f3a\"], [0.8888888888888888, \"#fdca26\"], [1.0, \"#f0f921\"]], \"sequentialminus\": [[0.0, \"#0d0887\"], [0.1111111111111111, \"#46039f\"], [0.2222222222222222, \"#7201a8\"], [0.3333333333333333, \"#9c179e\"], [0.4444444444444444, \"#bd3786\"], [0.5555555555555556, \"#d8576b\"], [0.6666666666666666, \"#ed7953\"], [0.7777777777777778, \"#fb9f3a\"], [0.8888888888888888, \"#fdca26\"], [1.0, \"#f0f921\"]]}, \"colorway\": [\"#636efa\", \"#EF553B\", \"#00cc96\", \"#ab63fa\", \"#FFA15A\", \"#19d3f3\", \"#FF6692\", \"#B6E880\", \"#FF97FF\", \"#FECB52\"], \"font\": {\"color\": \"#2a3f5f\"}, \"geo\": {\"bgcolor\": \"white\", \"lakecolor\": \"white\", \"landcolor\": \"#E5ECF6\", \"showlakes\": true, \"showland\": true, \"subunitcolor\": \"white\"}, \"hoverlabel\": {\"align\": \"left\"}, \"hovermode\": \"closest\", \"mapbox\": {\"style\": \"light\"}, \"paper_bgcolor\": \"white\", \"plot_bgcolor\": \"#E5ECF6\", \"polar\": {\"angularaxis\": {\"gridcolor\": \"white\", \"linecolor\": \"white\", \"ticks\": \"\"}, \"bgcolor\": \"#E5ECF6\", \"radialaxis\": {\"gridcolor\": \"white\", \"linecolor\": \"white\", \"ticks\": \"\"}}, \"scene\": {\"xaxis\": {\"backgroundcolor\": \"#E5ECF6\", \"gridcolor\": \"white\", \"gridwidth\": 2, \"linecolor\": \"white\", \"showbackground\": true, \"ticks\": \"\", \"zerolinecolor\": \"white\"}, \"yaxis\": {\"backgroundcolor\": \"#E5ECF6\", \"gridcolor\": \"white\", \"gridwidth\": 2, \"linecolor\": \"white\", \"showbackground\": true, \"ticks\": \"\", \"zerolinecolor\": \"white\"}, \"zaxis\": {\"backgroundcolor\": \"#E5ECF6\", \"gridcolor\": \"white\", \"gridwidth\": 2, \"linecolor\": \"white\", \"showbackground\": true, \"ticks\": \"\", \"zerolinecolor\": \"white\"}}, \"shapedefaults\": {\"line\": {\"color\": \"#2a3f5f\"}}, \"ternary\": {\"aaxis\": {\"gridcolor\": \"white\", \"linecolor\": \"white\", \"ticks\": \"\"}, \"baxis\": {\"gridcolor\": \"white\", \"linecolor\": \"white\", \"ticks\": \"\"}, \"bgcolor\": \"#E5ECF6\", \"caxis\": {\"gridcolor\": \"white\", \"linecolor\": \"white\", \"ticks\": \"\"}}, \"title\": {\"x\": 0.05}, \"xaxis\": {\"automargin\": true, \"gridcolor\": \"white\", \"linecolor\": \"white\", \"ticks\": \"\", \"title\": {\"standoff\": 15}, \"zerolinecolor\": \"white\", \"zerolinewidth\": 2}, \"yaxis\": {\"automargin\": true, \"gridcolor\": \"white\", \"linecolor\": \"white\", \"ticks\": \"\", \"title\": {\"standoff\": 15}, \"zerolinecolor\": \"white\", \"zerolinewidth\": 2}}}, \"xaxis\": {\"anchor\": \"y\", \"domain\": [0.0, 1.0], \"title\": {\"text\": \"year\"}}, \"yaxis\": {\"anchor\": \"x\", \"domain\": [0.0, 1.0], \"title\": {\"text\": \"lifeExp\"}}},\n",
       "                        {\"responsive\": true}\n",
       "                    ).then(function(){\n",
       "                            \n",
       "var gd = document.getElementById('fd00189d-70dd-48df-975b-f0119b27e689');\n",
       "var x = new MutationObserver(function (mutations, observer) {{\n",
       "        var display = window.getComputedStyle(gd).display;\n",
       "        if (!display || display === 'none') {{\n",
       "            console.log([gd, 'removed!']);\n",
       "            Plotly.purge(gd);\n",
       "            observer.disconnect();\n",
       "        }}\n",
       "}});\n",
       "\n",
       "// Listen for the removal of the full notebook cells\n",
       "var notebookContainer = gd.closest('#notebook-container');\n",
       "if (notebookContainer) {{\n",
       "    x.observe(notebookContainer, {childList: true});\n",
       "}}\n",
       "\n",
       "// Listen for the clearing of the current output cell\n",
       "var outputEl = gd.closest('.output');\n",
       "if (outputEl) {{\n",
       "    x.observe(outputEl, {childList: true});\n",
       "}}\n",
       "\n",
       "                        })\n",
       "                };\n",
       "                });\n",
       "            </script>\n",
       "        </div>"
      ]
     },
     "metadata": {},
     "output_type": "display_data"
    }
   ],
   "source": [
    "import plotly.express as px\n",
    "\n",
    "# df = px.data.gapminder().query(\"country=='Canada'\")\n",
    "# df2 = px.data.gapminder().query(\"country=='Japan'\")\n",
    "# fig = px.line(df, x=\"year\", y=\"lifeExp\", title='Life expectancy in Canada')\n",
    "# fig2 = px.line(df2, x=\"year\", y=\"lifeExp\", title='Life expectancy in Japan')\n",
    "# fig.show()\n",
    "# fig2.show()\n",
    "\n",
    "\n",
    "df = px.data.gapminder().query(\"continent=='Oceania'\") #'Asia'\n",
    "fig = px.line(df, x=\"year\", y=\"lifeExp\", color='country')\n",
    "fig.show()\n"
   ]
  },
  {
   "cell_type": "code",
   "execution_count": 38,
   "metadata": {
    "scrolled": true
   },
   "outputs": [
    {
     "name": "stdout",
     "output_type": "stream",
     "text": [
      "Running on http://127.0.0.1:8050/\n",
      "Running on http://127.0.0.1:8050/\n",
      "Running on http://127.0.0.1:8050/\n",
      "Running on http://127.0.0.1:8050/\n",
      "Running on http://127.0.0.1:8050/\n",
      "Running on http://127.0.0.1:8050/\n",
      "Running on http://127.0.0.1:8050/\n",
      "Running on http://127.0.0.1:8050/\n",
      "Running on http://127.0.0.1:8050/\n",
      "Running on http://127.0.0.1:8050/\n",
      "Running on http://127.0.0.1:8050/\n",
      "Running on http://127.0.0.1:8050/\n",
      "Running on http://127.0.0.1:8050/\n",
      "Running on http://127.0.0.1:8050/\n",
      "Debugger PIN: 261-956-358\n",
      "Debugger PIN: 261-956-358\n",
      "Debugger PIN: 261-956-358\n",
      "Debugger PIN: 261-956-358\n",
      "Debugger PIN: 261-956-358\n",
      "Debugger PIN: 261-956-358\n",
      "Debugger PIN: 261-956-358\n",
      "Debugger PIN: 261-956-358\n",
      "Debugger PIN: 261-956-358\n",
      "Debugger PIN: 261-956-358\n",
      "Debugger PIN: 261-956-358\n",
      "Debugger PIN: 261-956-358\n",
      "Debugger PIN: 261-956-358\n",
      "Debugger PIN: 261-956-358\n",
      " * Serving Flask app \"__main__\" (lazy loading)\n",
      " * Environment: production\n",
      "   WARNING: This is a development server. Do not use it in a production deployment.\n",
      "   Use a production WSGI server instead.\n",
      " * Debug mode: on\n"
     ]
    }
   ],
   "source": [
    "\n",
    "import plotly.express as px\n",
    "\n",
    " #'Asia'\n",
    "\n",
    "\n",
    "import dash\n",
    "import dash_core_components as dcc\n",
    "import dash_html_components as html\n",
    "from dash.dependencies import Input, Output\n",
    "\n",
    "df = px.data.gapminder()#.query(\"continent=='Oceania'\")\n",
    "\n",
    "\n",
    "app = dash.Dash()\n",
    "app.layout = html.Div([\n",
    "    \n",
    "    html.H1(\"Hello World\"),\n",
    "    \n",
    "    dcc.Markdown('''\n",
    "    Trying out paragraph writing\n",
    "    '''),\n",
    "    \n",
    "    dcc.Graph(id = 'gapminder-graph'), # figure=fig\n",
    "    \n",
    "    dcc.Dropdown(\n",
    "                id='continent-name',\n",
    "                options=[{'label': i, 'value': i} for i in df.continent.unique()],\n",
    "                value='Asia' # set a default value\n",
    "            )\n",
    "])\n",
    "\n",
    "\n",
    "@app.callback(\n",
    "         Output('gapminder-graph','figure'),\n",
    "          [Input('continent-name','value')])\n",
    "def update_graph(continent):\n",
    "    \n",
    "    dff = df[df['continent']==continent]\n",
    "    fig = px.line(dff, x=\"year\", y=\"lifeExp\", color='country')\n",
    "    \n",
    "    return fig\n",
    "\n",
    "app.run_server(debug=True, use_reloader=False)\n",
    "\n",
    "\n",
    "\n"
   ]
  },
  {
   "cell_type": "code",
   "execution_count": 27,
   "metadata": {},
   "outputs": [
    {
     "data": {
      "text/html": [
       "<div>\n",
       "<style scoped>\n",
       "    .dataframe tbody tr th:only-of-type {\n",
       "        vertical-align: middle;\n",
       "    }\n",
       "\n",
       "    .dataframe tbody tr th {\n",
       "        vertical-align: top;\n",
       "    }\n",
       "\n",
       "    .dataframe thead th {\n",
       "        text-align: right;\n",
       "    }\n",
       "</style>\n",
       "<table border=\"1\" class=\"dataframe\">\n",
       "  <thead>\n",
       "    <tr style=\"text-align: right;\">\n",
       "      <th></th>\n",
       "      <th>country</th>\n",
       "      <th>continent</th>\n",
       "      <th>year</th>\n",
       "      <th>lifeExp</th>\n",
       "      <th>pop</th>\n",
       "      <th>gdpPercap</th>\n",
       "      <th>iso_alpha</th>\n",
       "      <th>iso_num</th>\n",
       "    </tr>\n",
       "  </thead>\n",
       "  <tbody>\n",
       "    <tr>\n",
       "      <th>0</th>\n",
       "      <td>Afghanistan</td>\n",
       "      <td>Asia</td>\n",
       "      <td>1952</td>\n",
       "      <td>28.801</td>\n",
       "      <td>8425333</td>\n",
       "      <td>779.445314</td>\n",
       "      <td>AFG</td>\n",
       "      <td>4</td>\n",
       "    </tr>\n",
       "    <tr>\n",
       "      <th>1</th>\n",
       "      <td>Afghanistan</td>\n",
       "      <td>Asia</td>\n",
       "      <td>1957</td>\n",
       "      <td>30.332</td>\n",
       "      <td>9240934</td>\n",
       "      <td>820.853030</td>\n",
       "      <td>AFG</td>\n",
       "      <td>4</td>\n",
       "    </tr>\n",
       "    <tr>\n",
       "      <th>2</th>\n",
       "      <td>Afghanistan</td>\n",
       "      <td>Asia</td>\n",
       "      <td>1962</td>\n",
       "      <td>31.997</td>\n",
       "      <td>10267083</td>\n",
       "      <td>853.100710</td>\n",
       "      <td>AFG</td>\n",
       "      <td>4</td>\n",
       "    </tr>\n",
       "    <tr>\n",
       "      <th>3</th>\n",
       "      <td>Afghanistan</td>\n",
       "      <td>Asia</td>\n",
       "      <td>1967</td>\n",
       "      <td>34.020</td>\n",
       "      <td>11537966</td>\n",
       "      <td>836.197138</td>\n",
       "      <td>AFG</td>\n",
       "      <td>4</td>\n",
       "    </tr>\n",
       "    <tr>\n",
       "      <th>4</th>\n",
       "      <td>Afghanistan</td>\n",
       "      <td>Asia</td>\n",
       "      <td>1972</td>\n",
       "      <td>36.088</td>\n",
       "      <td>13079460</td>\n",
       "      <td>739.981106</td>\n",
       "      <td>AFG</td>\n",
       "      <td>4</td>\n",
       "    </tr>\n",
       "    <tr>\n",
       "      <th>...</th>\n",
       "      <td>...</td>\n",
       "      <td>...</td>\n",
       "      <td>...</td>\n",
       "      <td>...</td>\n",
       "      <td>...</td>\n",
       "      <td>...</td>\n",
       "      <td>...</td>\n",
       "      <td>...</td>\n",
       "    </tr>\n",
       "    <tr>\n",
       "      <th>1699</th>\n",
       "      <td>Zimbabwe</td>\n",
       "      <td>Africa</td>\n",
       "      <td>1987</td>\n",
       "      <td>62.351</td>\n",
       "      <td>9216418</td>\n",
       "      <td>706.157306</td>\n",
       "      <td>ZWE</td>\n",
       "      <td>716</td>\n",
       "    </tr>\n",
       "    <tr>\n",
       "      <th>1700</th>\n",
       "      <td>Zimbabwe</td>\n",
       "      <td>Africa</td>\n",
       "      <td>1992</td>\n",
       "      <td>60.377</td>\n",
       "      <td>10704340</td>\n",
       "      <td>693.420786</td>\n",
       "      <td>ZWE</td>\n",
       "      <td>716</td>\n",
       "    </tr>\n",
       "    <tr>\n",
       "      <th>1701</th>\n",
       "      <td>Zimbabwe</td>\n",
       "      <td>Africa</td>\n",
       "      <td>1997</td>\n",
       "      <td>46.809</td>\n",
       "      <td>11404948</td>\n",
       "      <td>792.449960</td>\n",
       "      <td>ZWE</td>\n",
       "      <td>716</td>\n",
       "    </tr>\n",
       "    <tr>\n",
       "      <th>1702</th>\n",
       "      <td>Zimbabwe</td>\n",
       "      <td>Africa</td>\n",
       "      <td>2002</td>\n",
       "      <td>39.989</td>\n",
       "      <td>11926563</td>\n",
       "      <td>672.038623</td>\n",
       "      <td>ZWE</td>\n",
       "      <td>716</td>\n",
       "    </tr>\n",
       "    <tr>\n",
       "      <th>1703</th>\n",
       "      <td>Zimbabwe</td>\n",
       "      <td>Africa</td>\n",
       "      <td>2007</td>\n",
       "      <td>43.487</td>\n",
       "      <td>12311143</td>\n",
       "      <td>469.709298</td>\n",
       "      <td>ZWE</td>\n",
       "      <td>716</td>\n",
       "    </tr>\n",
       "  </tbody>\n",
       "</table>\n",
       "<p>1704 rows × 8 columns</p>\n",
       "</div>"
      ],
      "text/plain": [
       "          country continent  year  lifeExp       pop   gdpPercap iso_alpha  \\\n",
       "0     Afghanistan      Asia  1952   28.801   8425333  779.445314       AFG   \n",
       "1     Afghanistan      Asia  1957   30.332   9240934  820.853030       AFG   \n",
       "2     Afghanistan      Asia  1962   31.997  10267083  853.100710       AFG   \n",
       "3     Afghanistan      Asia  1967   34.020  11537966  836.197138       AFG   \n",
       "4     Afghanistan      Asia  1972   36.088  13079460  739.981106       AFG   \n",
       "...           ...       ...   ...      ...       ...         ...       ...   \n",
       "1699     Zimbabwe    Africa  1987   62.351   9216418  706.157306       ZWE   \n",
       "1700     Zimbabwe    Africa  1992   60.377  10704340  693.420786       ZWE   \n",
       "1701     Zimbabwe    Africa  1997   46.809  11404948  792.449960       ZWE   \n",
       "1702     Zimbabwe    Africa  2002   39.989  11926563  672.038623       ZWE   \n",
       "1703     Zimbabwe    Africa  2007   43.487  12311143  469.709298       ZWE   \n",
       "\n",
       "      iso_num  \n",
       "0           4  \n",
       "1           4  \n",
       "2           4  \n",
       "3           4  \n",
       "4           4  \n",
       "...       ...  \n",
       "1699      716  \n",
       "1700      716  \n",
       "1701      716  \n",
       "1702      716  \n",
       "1703      716  \n",
       "\n",
       "[1704 rows x 8 columns]"
      ]
     },
     "execution_count": 27,
     "metadata": {},
     "output_type": "execute_result"
    }
   ],
   "source": [
    "df"
   ]
  },
  {
   "cell_type": "code",
   "execution_count": 34,
   "metadata": {},
   "outputs": [
    {
     "data": {
      "text/html": [
       "<div>\n",
       "<style scoped>\n",
       "    .dataframe tbody tr th:only-of-type {\n",
       "        vertical-align: middle;\n",
       "    }\n",
       "\n",
       "    .dataframe tbody tr th {\n",
       "        vertical-align: top;\n",
       "    }\n",
       "\n",
       "    .dataframe thead th {\n",
       "        text-align: right;\n",
       "    }\n",
       "</style>\n",
       "<table border=\"1\" class=\"dataframe\">\n",
       "  <thead>\n",
       "    <tr style=\"text-align: right;\">\n",
       "      <th></th>\n",
       "      <th>country</th>\n",
       "      <th>continent</th>\n",
       "      <th>year</th>\n",
       "      <th>lifeExp</th>\n",
       "      <th>pop</th>\n",
       "      <th>gdpPercap</th>\n",
       "      <th>iso_alpha</th>\n",
       "      <th>iso_num</th>\n",
       "    </tr>\n",
       "  </thead>\n",
       "  <tbody>\n",
       "    <tr>\n",
       "      <th>792</th>\n",
       "      <td>Japan</td>\n",
       "      <td>Asia</td>\n",
       "      <td>1952</td>\n",
       "      <td>63.030</td>\n",
       "      <td>86459025</td>\n",
       "      <td>3216.956347</td>\n",
       "      <td>JPN</td>\n",
       "      <td>392</td>\n",
       "    </tr>\n",
       "    <tr>\n",
       "      <th>793</th>\n",
       "      <td>Japan</td>\n",
       "      <td>Asia</td>\n",
       "      <td>1957</td>\n",
       "      <td>65.500</td>\n",
       "      <td>91563009</td>\n",
       "      <td>4317.694365</td>\n",
       "      <td>JPN</td>\n",
       "      <td>392</td>\n",
       "    </tr>\n",
       "    <tr>\n",
       "      <th>794</th>\n",
       "      <td>Japan</td>\n",
       "      <td>Asia</td>\n",
       "      <td>1962</td>\n",
       "      <td>68.730</td>\n",
       "      <td>95831757</td>\n",
       "      <td>6576.649461</td>\n",
       "      <td>JPN</td>\n",
       "      <td>392</td>\n",
       "    </tr>\n",
       "    <tr>\n",
       "      <th>795</th>\n",
       "      <td>Japan</td>\n",
       "      <td>Asia</td>\n",
       "      <td>1967</td>\n",
       "      <td>71.430</td>\n",
       "      <td>100825279</td>\n",
       "      <td>9847.788607</td>\n",
       "      <td>JPN</td>\n",
       "      <td>392</td>\n",
       "    </tr>\n",
       "    <tr>\n",
       "      <th>796</th>\n",
       "      <td>Japan</td>\n",
       "      <td>Asia</td>\n",
       "      <td>1972</td>\n",
       "      <td>73.420</td>\n",
       "      <td>107188273</td>\n",
       "      <td>14778.786360</td>\n",
       "      <td>JPN</td>\n",
       "      <td>392</td>\n",
       "    </tr>\n",
       "    <tr>\n",
       "      <th>797</th>\n",
       "      <td>Japan</td>\n",
       "      <td>Asia</td>\n",
       "      <td>1977</td>\n",
       "      <td>75.380</td>\n",
       "      <td>113872473</td>\n",
       "      <td>16610.377010</td>\n",
       "      <td>JPN</td>\n",
       "      <td>392</td>\n",
       "    </tr>\n",
       "    <tr>\n",
       "      <th>798</th>\n",
       "      <td>Japan</td>\n",
       "      <td>Asia</td>\n",
       "      <td>1982</td>\n",
       "      <td>77.110</td>\n",
       "      <td>118454974</td>\n",
       "      <td>19384.105710</td>\n",
       "      <td>JPN</td>\n",
       "      <td>392</td>\n",
       "    </tr>\n",
       "    <tr>\n",
       "      <th>799</th>\n",
       "      <td>Japan</td>\n",
       "      <td>Asia</td>\n",
       "      <td>1987</td>\n",
       "      <td>78.670</td>\n",
       "      <td>122091325</td>\n",
       "      <td>22375.941890</td>\n",
       "      <td>JPN</td>\n",
       "      <td>392</td>\n",
       "    </tr>\n",
       "    <tr>\n",
       "      <th>800</th>\n",
       "      <td>Japan</td>\n",
       "      <td>Asia</td>\n",
       "      <td>1992</td>\n",
       "      <td>79.360</td>\n",
       "      <td>124329269</td>\n",
       "      <td>26824.895110</td>\n",
       "      <td>JPN</td>\n",
       "      <td>392</td>\n",
       "    </tr>\n",
       "    <tr>\n",
       "      <th>801</th>\n",
       "      <td>Japan</td>\n",
       "      <td>Asia</td>\n",
       "      <td>1997</td>\n",
       "      <td>80.690</td>\n",
       "      <td>125956499</td>\n",
       "      <td>28816.584990</td>\n",
       "      <td>JPN</td>\n",
       "      <td>392</td>\n",
       "    </tr>\n",
       "    <tr>\n",
       "      <th>802</th>\n",
       "      <td>Japan</td>\n",
       "      <td>Asia</td>\n",
       "      <td>2002</td>\n",
       "      <td>82.000</td>\n",
       "      <td>127065841</td>\n",
       "      <td>28604.591900</td>\n",
       "      <td>JPN</td>\n",
       "      <td>392</td>\n",
       "    </tr>\n",
       "    <tr>\n",
       "      <th>803</th>\n",
       "      <td>Japan</td>\n",
       "      <td>Asia</td>\n",
       "      <td>2007</td>\n",
       "      <td>82.603</td>\n",
       "      <td>127467972</td>\n",
       "      <td>31656.068060</td>\n",
       "      <td>JPN</td>\n",
       "      <td>392</td>\n",
       "    </tr>\n",
       "  </tbody>\n",
       "</table>\n",
       "</div>"
      ],
      "text/plain": [
       "    country continent  year  lifeExp        pop     gdpPercap iso_alpha  \\\n",
       "792   Japan      Asia  1952   63.030   86459025   3216.956347       JPN   \n",
       "793   Japan      Asia  1957   65.500   91563009   4317.694365       JPN   \n",
       "794   Japan      Asia  1962   68.730   95831757   6576.649461       JPN   \n",
       "795   Japan      Asia  1967   71.430  100825279   9847.788607       JPN   \n",
       "796   Japan      Asia  1972   73.420  107188273  14778.786360       JPN   \n",
       "797   Japan      Asia  1977   75.380  113872473  16610.377010       JPN   \n",
       "798   Japan      Asia  1982   77.110  118454974  19384.105710       JPN   \n",
       "799   Japan      Asia  1987   78.670  122091325  22375.941890       JPN   \n",
       "800   Japan      Asia  1992   79.360  124329269  26824.895110       JPN   \n",
       "801   Japan      Asia  1997   80.690  125956499  28816.584990       JPN   \n",
       "802   Japan      Asia  2002   82.000  127065841  28604.591900       JPN   \n",
       "803   Japan      Asia  2007   82.603  127467972  31656.068060       JPN   \n",
       "\n",
       "     iso_num  \n",
       "792      392  \n",
       "793      392  \n",
       "794      392  \n",
       "795      392  \n",
       "796      392  \n",
       "797      392  \n",
       "798      392  \n",
       "799      392  \n",
       "800      392  \n",
       "801      392  \n",
       "802      392  \n",
       "803      392  "
      ]
     },
     "execution_count": 34,
     "metadata": {},
     "output_type": "execute_result"
    }
   ],
   "source": [
    "continent_name = \"Asia\"\n",
    "country_name = \"Japan\"\n",
    "\n",
    "dff = df.query('continent==@continent_name & country==@country_name ')\n",
    "dff"
   ]
  },
  {
   "cell_type": "code",
   "execution_count": 40,
   "metadata": {},
   "outputs": [
    {
     "data": {
      "text/plain": [
       "[{'label': 'Afghanistan', 'value': 'Afghanistan'},\n",
       " {'label': 'Bahrain', 'value': 'Bahrain'},\n",
       " {'label': 'Bangladesh', 'value': 'Bangladesh'},\n",
       " {'label': 'Cambodia', 'value': 'Cambodia'},\n",
       " {'label': 'China', 'value': 'China'},\n",
       " {'label': 'Hong Kong, China', 'value': 'Hong Kong, China'},\n",
       " {'label': 'India', 'value': 'India'},\n",
       " {'label': 'Indonesia', 'value': 'Indonesia'},\n",
       " {'label': 'Iran', 'value': 'Iran'},\n",
       " {'label': 'Iraq', 'value': 'Iraq'},\n",
       " {'label': 'Israel', 'value': 'Israel'},\n",
       " {'label': 'Japan', 'value': 'Japan'},\n",
       " {'label': 'Jordan', 'value': 'Jordan'},\n",
       " {'label': 'Korea, Dem. Rep.', 'value': 'Korea, Dem. Rep.'},\n",
       " {'label': 'Korea, Rep.', 'value': 'Korea, Rep.'},\n",
       " {'label': 'Kuwait', 'value': 'Kuwait'},\n",
       " {'label': 'Lebanon', 'value': 'Lebanon'},\n",
       " {'label': 'Malaysia', 'value': 'Malaysia'},\n",
       " {'label': 'Mongolia', 'value': 'Mongolia'},\n",
       " {'label': 'Myanmar', 'value': 'Myanmar'},\n",
       " {'label': 'Nepal', 'value': 'Nepal'},\n",
       " {'label': 'Oman', 'value': 'Oman'},\n",
       " {'label': 'Pakistan', 'value': 'Pakistan'},\n",
       " {'label': 'Philippines', 'value': 'Philippines'},\n",
       " {'label': 'Saudi Arabia', 'value': 'Saudi Arabia'},\n",
       " {'label': 'Singapore', 'value': 'Singapore'},\n",
       " {'label': 'Sri Lanka', 'value': 'Sri Lanka'},\n",
       " {'label': 'Syria', 'value': 'Syria'},\n",
       " {'label': 'Taiwan', 'value': 'Taiwan'},\n",
       " {'label': 'Thailand', 'value': 'Thailand'},\n",
       " {'label': 'Vietnam', 'value': 'Vietnam'},\n",
       " {'label': 'West Bank and Gaza', 'value': 'West Bank and Gaza'},\n",
       " {'label': 'Yemen, Rep.', 'value': 'Yemen, Rep.'}]"
      ]
     },
     "execution_count": 40,
     "metadata": {},
     "output_type": "execute_result"
    }
   ],
   "source": [
    "country_names = [{'label':i, 'value':i } for i in df.query('continent==@continent_name').country.unique()]\n",
    "country_names"
   ]
  },
  {
   "cell_type": "code",
   "execution_count": 48,
   "metadata": {},
   "outputs": [
    {
     "name": "stdout",
     "output_type": "stream",
     "text": [
      "Running on http://127.0.0.1:8050/\n",
      "Running on http://127.0.0.1:8050/\n",
      "Running on http://127.0.0.1:8050/\n",
      "Running on http://127.0.0.1:8050/\n",
      "Running on http://127.0.0.1:8050/\n",
      "Running on http://127.0.0.1:8050/\n",
      "Running on http://127.0.0.1:8050/\n",
      "Running on http://127.0.0.1:8050/\n",
      "Running on http://127.0.0.1:8050/\n",
      "Running on http://127.0.0.1:8050/\n",
      "Running on http://127.0.0.1:8050/\n",
      "Running on http://127.0.0.1:8050/\n",
      "Running on http://127.0.0.1:8050/\n",
      "Running on http://127.0.0.1:8050/\n",
      "Running on http://127.0.0.1:8050/\n",
      "Running on http://127.0.0.1:8050/\n",
      "Running on http://127.0.0.1:8050/\n",
      "Running on http://127.0.0.1:8050/\n",
      "Running on http://127.0.0.1:8050/\n",
      "Running on http://127.0.0.1:8050/\n",
      "Running on http://127.0.0.1:8050/\n",
      "Running on http://127.0.0.1:8050/\n",
      "Debugger PIN: 713-436-226\n",
      "Debugger PIN: 713-436-226\n",
      "Debugger PIN: 713-436-226\n",
      "Debugger PIN: 713-436-226\n",
      "Debugger PIN: 713-436-226\n",
      "Debugger PIN: 713-436-226\n",
      "Debugger PIN: 713-436-226\n",
      "Debugger PIN: 713-436-226\n",
      "Debugger PIN: 713-436-226\n",
      "Debugger PIN: 713-436-226\n",
      "Debugger PIN: 713-436-226\n",
      "Debugger PIN: 713-436-226\n",
      "Debugger PIN: 713-436-226\n",
      "Debugger PIN: 713-436-226\n",
      "Debugger PIN: 713-436-226\n",
      "Debugger PIN: 713-436-226\n",
      "Debugger PIN: 713-436-226\n",
      "Debugger PIN: 713-436-226\n",
      "Debugger PIN: 713-436-226\n",
      "Debugger PIN: 713-436-226\n",
      "Debugger PIN: 713-436-226\n",
      "Debugger PIN: 713-436-226\n",
      " * Serving Flask app \"__main__\" (lazy loading)\n",
      " * Environment: production\n",
      "   WARNING: This is a development server. Do not use it in a production deployment.\n",
      "   Use a production WSGI server instead.\n",
      " * Debug mode: on\n"
     ]
    }
   ],
   "source": [
    "\n",
    "import plotly.express as px\n",
    "\n",
    "import dash\n",
    "import dash_core_components as dcc\n",
    "import dash_html_components as html\n",
    "from dash.dependencies import Input, Output\n",
    "\n",
    "df = px.data.gapminder()#.query(\"continent=='Oceania'\")\n",
    "default_continent = 'Asia'\n",
    "default_country = 'Japan'\n",
    "\n",
    "\n",
    "app = dash.Dash()\n",
    "app.layout = html.Div([\n",
    "    \n",
    "    html.H1(\"Hello World\"),\n",
    "    \n",
    "    dcc.Markdown('''\n",
    "    Trying out paragraph writing\n",
    "    '''),\n",
    "    \n",
    "    dcc.Graph(id = 'gapminder-graph'), # figure=fig\n",
    "    \n",
    "    dcc.Dropdown(\n",
    "                id='continent-name',\n",
    "                options=[{'label': i, 'value': i} for i in df.continent.unique()],\n",
    "                value=default_continent # set a default value\n",
    "            ),\n",
    "    dcc.Dropdown(\n",
    "                id='country-name',\n",
    "                options=[{'label': i, 'value': i} for i in df.query(\"continent==@default_continent\").country.unique()],\n",
    "                value=default_country # set a default value\n",
    "            )\n",
    "])\n",
    "\n",
    "\n",
    "@app.callback(\n",
    "    [Output('country-name','options'),\n",
    "    Output('country-name','value')],\n",
    "    [Input('continent-name','value')]\n",
    ")\n",
    "def update_options(continent_name):\n",
    "    country_names = [{'label':i, 'value':i } for i in df.query('continent==@continent_name').country.unique()]\n",
    "    #need default value as well to update graph\n",
    "    default_country = df.query('continent==@continent_name').country.unique()[0]\n",
    "    \n",
    "    return country_names, default_country\n",
    "\n",
    "#order of functions are important\n",
    "@app.callback(\n",
    "         Output('gapminder-graph','figure'),\n",
    "          [Input('continent-name','value'),\n",
    "          Input('country-name','value')])\n",
    "def update_graph(continent_name,country_name):\n",
    "    \n",
    "    dff = df.query('continent==@continent_name & country==@country_name')\n",
    "    fig = px.line(dff, x=\"year\", y=\"lifeExp\", color='country')\n",
    "    \n",
    "    \n",
    "    return fig\n",
    "\n",
    "app.run_server(debug=True, use_reloader=False)\n",
    "\n",
    "\n",
    "\n"
   ]
  },
  {
   "cell_type": "code",
   "execution_count": 27,
   "metadata": {},
   "outputs": [
    {
     "data": {
      "application/vnd.plotly.v1+json": {
       "config": {
        "plotlyServerURL": "https://plot.ly"
       },
       "data": [
        {
         "mode": "lines",
         "name": "lines",
         "type": "scatter",
         "x": [
          0,
          0.010101010101010102,
          0.020202020202020204,
          0.030303030303030304,
          0.04040404040404041,
          0.05050505050505051,
          0.06060606060606061,
          0.07070707070707072,
          0.08080808080808081,
          0.09090909090909091,
          0.10101010101010102,
          0.11111111111111112,
          0.12121212121212122,
          0.13131313131313133,
          0.14141414141414144,
          0.15151515151515152,
          0.16161616161616163,
          0.17171717171717174,
          0.18181818181818182,
          0.19191919191919193,
          0.20202020202020204,
          0.21212121212121213,
          0.22222222222222224,
          0.23232323232323235,
          0.24242424242424243,
          0.25252525252525254,
          0.26262626262626265,
          0.27272727272727276,
          0.2828282828282829,
          0.29292929292929293,
          0.30303030303030304,
          0.31313131313131315,
          0.32323232323232326,
          0.33333333333333337,
          0.3434343434343435,
          0.3535353535353536,
          0.36363636363636365,
          0.37373737373737376,
          0.38383838383838387,
          0.393939393939394,
          0.4040404040404041,
          0.4141414141414142,
          0.42424242424242425,
          0.43434343434343436,
          0.4444444444444445,
          0.4545454545454546,
          0.4646464646464647,
          0.4747474747474748,
          0.48484848484848486,
          0.494949494949495,
          0.5050505050505051,
          0.5151515151515152,
          0.5252525252525253,
          0.5353535353535354,
          0.5454545454545455,
          0.5555555555555556,
          0.5656565656565657,
          0.5757575757575758,
          0.5858585858585859,
          0.595959595959596,
          0.6060606060606061,
          0.6161616161616162,
          0.6262626262626263,
          0.6363636363636365,
          0.6464646464646465,
          0.6565656565656566,
          0.6666666666666667,
          0.6767676767676768,
          0.686868686868687,
          0.696969696969697,
          0.7070707070707072,
          0.7171717171717172,
          0.7272727272727273,
          0.7373737373737375,
          0.7474747474747475,
          0.7575757575757577,
          0.7676767676767677,
          0.7777777777777778,
          0.787878787878788,
          0.797979797979798,
          0.8080808080808082,
          0.8181818181818182,
          0.8282828282828284,
          0.8383838383838385,
          0.8484848484848485,
          0.8585858585858587,
          0.8686868686868687,
          0.8787878787878789,
          0.888888888888889,
          0.8989898989898991,
          0.9090909090909092,
          0.9191919191919192,
          0.9292929292929294,
          0.9393939393939394,
          0.9494949494949496,
          0.9595959595959597,
          0.9696969696969697,
          0.9797979797979799,
          0.98989898989899,
          1
         ],
         "y": [
          6.624345363663242,
          4.388243586349924,
          4.4718282477365445,
          3.9270313778438295,
          5.865407629324679,
          2.6984613031197173,
          6.74481176421648,
          4.238793099104897,
          5.319039096057098,
          4.75062962452259,
          6.4621079370449745,
          2.939859290502346,
          4.677582795986493,
          4.615945645331585,
          6.133769442335438,
          3.900108732685969,
          4.8275717924495645,
          4.122141582078628,
          5.042213746715593,
          5.582815213715822,
          3.8993808227870788,
          6.144723709839614,
          5.901590720592796,
          5.502494338901868,
          5.900855949264412,
          4.316272140825667,
          4.877109774481352,
          4.064230565740932,
          4.732111920373984,
          5.530355466738186,
          4.308339248274691,
          4.603246473144023,
          4.312827299880401,
          4.15479435850128,
          4.328753869163181,
          4.987335401081099,
          3.882689651364722,
          5.234415697817092,
          6.659802177109871,
          5.742044160577335,
          4.808164447638385,
          4.112371035915164,
          4.252841706249162,
          6.692454601027746,
          5.050807754776029,
          4.363004353430647,
          5.190915484667466,
          7.100255136478842,
          5.1201589524816296,
          5.617203109707419,
          5.300170319955828,
          4.647750153506482,
          3.85748180197786,
          4.650657277587123,
          4.791105766625222,
          5.5866231911821975,
          5.838983413874505,
          5.931102081303557,
          5.285587325254259,
          5.885141164270728,
          4.245602059003347,
          6.252868155233288,
          5.512929820418009,
          4.7019071648972846,
          5.488518146537497,
          4.924428286978944,
          6.131629387451427,
          6.519816816422199,
          7.185575406533161,
          3.6035036645118623,
          3.5558861945704106,
          4.495534137053549,
          5.160037069447831,
          5.876168921116225,
          5.315634947241605,
          2.977798784175997,
          4.693795987371628,
          5.827974642607246,
          5.230094735364384,
          5.762011180312025,
          4.777671857389641,
          4.799241931070003,
          5.186561390988285,
          5.410051647208256,
          5.198299720126769,
          5.119008645807459,
          4.329337713710969,
          5.37756378632092,
          5.121821270991437,
          6.129483907911919,
          6.198917879901507,
          5.1851564174839435,
          4.624715049909886,
          4.361269592545778,
          5.423494354064113,
          5.077340068348559,
          4.656146324428924,
          5.043596856834247,
          4.379999156051871,
          5.698032034072219
         ]
        },
        {
         "mode": "lines+markers",
         "name": "lines+markers",
         "type": "scatter",
         "x": [
          0,
          0.010101010101010102,
          0.020202020202020204,
          0.030303030303030304,
          0.04040404040404041,
          0.05050505050505051,
          0.06060606060606061,
          0.07070707070707072,
          0.08080808080808081,
          0.09090909090909091,
          0.10101010101010102,
          0.11111111111111112,
          0.12121212121212122,
          0.13131313131313133,
          0.14141414141414144,
          0.15151515151515152,
          0.16161616161616163,
          0.17171717171717174,
          0.18181818181818182,
          0.19191919191919193,
          0.20202020202020204,
          0.21212121212121213,
          0.22222222222222224,
          0.23232323232323235,
          0.24242424242424243,
          0.25252525252525254,
          0.26262626262626265,
          0.27272727272727276,
          0.2828282828282829,
          0.29292929292929293,
          0.30303030303030304,
          0.31313131313131315,
          0.32323232323232326,
          0.33333333333333337,
          0.3434343434343435,
          0.3535353535353536,
          0.36363636363636365,
          0.37373737373737376,
          0.38383838383838387,
          0.393939393939394,
          0.4040404040404041,
          0.4141414141414142,
          0.42424242424242425,
          0.43434343434343436,
          0.4444444444444445,
          0.4545454545454546,
          0.4646464646464647,
          0.4747474747474748,
          0.48484848484848486,
          0.494949494949495,
          0.5050505050505051,
          0.5151515151515152,
          0.5252525252525253,
          0.5353535353535354,
          0.5454545454545455,
          0.5555555555555556,
          0.5656565656565657,
          0.5757575757575758,
          0.5858585858585859,
          0.595959595959596,
          0.6060606060606061,
          0.6161616161616162,
          0.6262626262626263,
          0.6363636363636365,
          0.6464646464646465,
          0.6565656565656566,
          0.6666666666666667,
          0.6767676767676768,
          0.686868686868687,
          0.696969696969697,
          0.7070707070707072,
          0.7171717171717172,
          0.7272727272727273,
          0.7373737373737375,
          0.7474747474747475,
          0.7575757575757577,
          0.7676767676767677,
          0.7777777777777778,
          0.787878787878788,
          0.797979797979798,
          0.8080808080808082,
          0.8181818181818182,
          0.8282828282828284,
          0.8383838383838385,
          0.8484848484848485,
          0.8585858585858587,
          0.8686868686868687,
          0.8787878787878789,
          0.888888888888889,
          0.8989898989898991,
          0.9090909090909092,
          0.9191919191919192,
          0.9292929292929294,
          0.9393939393939394,
          0.9494949494949496,
          0.9595959595959597,
          0.9696969696969697,
          0.9797979797979799,
          0.98989898989899,
          1
         ],
         "y": [
          -0.4471285647859982,
          1.2245077048054989,
          0.4034916417908,
          0.593578523237067,
          -1.0949118457410418,
          0.1693824330586681,
          0.7405564510962748,
          -0.9537006018079346,
          -0.26621850600362207,
          0.03261454669335856,
          -1.3731173202467557,
          0.31515939204229176,
          0.8461606475850334,
          -0.8595159408319863,
          0.35054597866410736,
          -1.3122834112374318,
          -0.038695509266051115,
          -1.6157723547032947,
          1.121417708235664,
          0.4089005379368278,
          -0.024616955875778355,
          -0.7751616191691596,
          1.2737559301587766,
          1.9671017492547347,
          -1.857981864446752,
          1.2361640304528203,
          1.6276507531489064,
          0.3380116965744758,
          -1.199268032335186,
          0.8633453175440216,
          -0.18092030207815046,
          -0.6039206277932573,
          -1.2300581356669618,
          0.5505374959762154,
          0.7928068659193477,
          -0.6235307296797916,
          0.5205763370733708,
          -1.1443413896231427,
          0.8018610318713447,
          0.04656729842414554,
          -0.18656977190734877,
          -0.10174587252914521,
          0.8688861570058679,
          0.7504116398650081,
          0.5294653243527092,
          0.13770120999738608,
          0.07782112791270591,
          0.6183802619985245,
          0.23249455917873788,
          0.6825514068644851,
          -0.31011677351806,
          -2.434837764107139,
          1.038824601859414,
          2.1869796469742577,
          0.44136444356858207,
          -0.10015523328349978,
          -0.13644474389603303,
          -0.11905418777480989,
          0.0174094083000046,
          -1.1220187287468883,
          -0.5170944579202279,
          -0.997026827650263,
          0.2487991613877705,
          -0.29664115237086275,
          0.4952113239779604,
          -0.17470315974250095,
          0.986335187821242,
          0.21353390133544178,
          2.1906997289697334,
          -1.8963609228910925,
          -0.646916688254908,
          0.901486891648711,
          2.528325706806398,
          -0.24863477771546005,
          0.043668993178389105,
          -0.22631424251360518,
          1.3314571125875918,
          -0.2873078634760189,
          0.6800698398781045,
          -0.3198015988986712,
          -1.2725587552459943,
          0.31354772046343216,
          0.5031848134353261,
          1.2932258825322618,
          -0.11044702641731631,
          -0.6173620637123609,
          0.5627610966190263,
          0.24073709223773224,
          0.28066507712263905,
          -0.07311270374727777,
          1.1603385699937696,
          0.36949271637572373,
          1.9046587083409812,
          1.1110566985605046,
          0.6590497961002102,
          -1.6274383406162574,
          0.602319280295629,
          0.42028220364705954,
          0.8109516728035557,
          1.0444420947072588
         ]
        },
        {
         "mode": "markers",
         "name": "markers",
         "type": "scatter",
         "x": [
          0,
          0.010101010101010102,
          0.020202020202020204,
          0.030303030303030304,
          0.04040404040404041,
          0.05050505050505051,
          0.06060606060606061,
          0.07070707070707072,
          0.08080808080808081,
          0.09090909090909091,
          0.10101010101010102,
          0.11111111111111112,
          0.12121212121212122,
          0.13131313131313133,
          0.14141414141414144,
          0.15151515151515152,
          0.16161616161616163,
          0.17171717171717174,
          0.18181818181818182,
          0.19191919191919193,
          0.20202020202020204,
          0.21212121212121213,
          0.22222222222222224,
          0.23232323232323235,
          0.24242424242424243,
          0.25252525252525254,
          0.26262626262626265,
          0.27272727272727276,
          0.2828282828282829,
          0.29292929292929293,
          0.30303030303030304,
          0.31313131313131315,
          0.32323232323232326,
          0.33333333333333337,
          0.3434343434343435,
          0.3535353535353536,
          0.36363636363636365,
          0.37373737373737376,
          0.38383838383838387,
          0.393939393939394,
          0.4040404040404041,
          0.4141414141414142,
          0.42424242424242425,
          0.43434343434343436,
          0.4444444444444445,
          0.4545454545454546,
          0.4646464646464647,
          0.4747474747474748,
          0.48484848484848486,
          0.494949494949495,
          0.5050505050505051,
          0.5151515151515152,
          0.5252525252525253,
          0.5353535353535354,
          0.5454545454545455,
          0.5555555555555556,
          0.5656565656565657,
          0.5757575757575758,
          0.5858585858585859,
          0.595959595959596,
          0.6060606060606061,
          0.6161616161616162,
          0.6262626262626263,
          0.6363636363636365,
          0.6464646464646465,
          0.6565656565656566,
          0.6666666666666667,
          0.6767676767676768,
          0.686868686868687,
          0.696969696969697,
          0.7070707070707072,
          0.7171717171717172,
          0.7272727272727273,
          0.7373737373737375,
          0.7474747474747475,
          0.7575757575757577,
          0.7676767676767677,
          0.7777777777777778,
          0.787878787878788,
          0.797979797979798,
          0.8080808080808082,
          0.8181818181818182,
          0.8282828282828284,
          0.8383838383838385,
          0.8484848484848485,
          0.8585858585858587,
          0.8686868686868687,
          0.8787878787878789,
          0.888888888888889,
          0.8989898989898991,
          0.9090909090909092,
          0.9191919191919192,
          0.9292929292929294,
          0.9393939393939394,
          0.9494949494949496,
          0.9595959595959597,
          0.9696969696969697,
          0.9797979797979799,
          0.98989898989899,
          1
         ],
         "y": [
          -5.400878191788927,
          -4.175994381549592,
          -5.56230543101909,
          -3.0451219249909656,
          -6.331951666517249,
          -6.760688560398783,
          -6.6507212658241,
          -5.890555584163049,
          -6.119115398559728,
          -3.043921096296358,
          -5.326499498078184,
          -6.342675789377436,
          -3.885617023220208,
          -5.586523938821593,
          -6.236853376541397,
          -4.1241610723507005,
          -4.376637823421968,
          -5.434956682955228,
          -3.5924599997587716,
          -4.870898420289275,
          -3.3830504011427,
          -4.497259118000096,
          -3.4411944593801405,
          -4.890597303574572,
          -6.219744396979033,
          -2.5506313509386027,
          -5.545774167982568,
          -5.1988378628888965,
          -5.700398504921255,
          -5.203394448964558,
          -4.7573305589182056,
          -4.798169821125996,
          -4.338979712401307,
          -3.207841791024433,
          -5.120464571788507,
          -6.233120735446427,
          -6.182318126509633,
          -5.665754518199127,
          -6.674195807618932,
          -4.174970175561014,
          -5.4982135636310785,
          -5.310984978302851,
          -5.001891482838004,
          -6.396620424595432,
          -5.861316360776042,
          -4.3252884743120275,
          -4.381460869213707,
          -5.443171930700638,
          -3.1894650858745437,
          -6.305726922557738,
          -5.344987210154979,
          -5.230839743135469,
          -7.79308500014654,
          -3.0624711863839202,
          -4.633667985459942,
          -6.044589381907792,
          -2.9488265571425556,
          -4.414337999827618,
          -4.570473859978035,
          -5.606998398200046,
          -4.893777275964783,
          -6.525680316229358,
          -4.204973905575155,
          -5.374438318843221,
          -4.865951803445377,
          -3.797945137800294,
          -4.715251889150942,
          -4.737532554536731,
          -4.723500695177816,
          -5.733271603895313,
          -4.163995280565731,
          -3.4566408891955165,
          -4.241194339902069,
          -4.115091185535117,
          -5.877281518918188,
          -5.867787222872925,
          -6.44087602429184,
          -3.767746929171564,
          -5.254179867607368,
          -3.600156057519014,
          -5.7819116826868004,
          -5.4375089828285805,
          -4.904574912808743,
          -4.078549931340489,
          -4.939249804200493,
          -4.788875244992283,
          -4.983472432694384,
          -4.822812279724039,
          -6.116470017884744,
          -4.919072899026721,
          -5.186578993511466,
          -5.056824480885847,
          -4.507663444063351,
          -5.680678141008886,
          -5.08450802740463,
          -5.297361882773504,
          -4.582697995025137,
          -4.21522934898441,
          -5.955425262373689,
          -4.414089568897384
         ]
        }
       ],
       "layout": {
        "template": {
         "data": {
          "bar": [
           {
            "error_x": {
             "color": "#2a3f5f"
            },
            "error_y": {
             "color": "#2a3f5f"
            },
            "marker": {
             "line": {
              "color": "#E5ECF6",
              "width": 0.5
             }
            },
            "type": "bar"
           }
          ],
          "barpolar": [
           {
            "marker": {
             "line": {
              "color": "#E5ECF6",
              "width": 0.5
             }
            },
            "type": "barpolar"
           }
          ],
          "carpet": [
           {
            "aaxis": {
             "endlinecolor": "#2a3f5f",
             "gridcolor": "white",
             "linecolor": "white",
             "minorgridcolor": "white",
             "startlinecolor": "#2a3f5f"
            },
            "baxis": {
             "endlinecolor": "#2a3f5f",
             "gridcolor": "white",
             "linecolor": "white",
             "minorgridcolor": "white",
             "startlinecolor": "#2a3f5f"
            },
            "type": "carpet"
           }
          ],
          "choropleth": [
           {
            "colorbar": {
             "outlinewidth": 0,
             "ticks": ""
            },
            "type": "choropleth"
           }
          ],
          "contour": [
           {
            "colorbar": {
             "outlinewidth": 0,
             "ticks": ""
            },
            "colorscale": [
             [
              0,
              "#0d0887"
             ],
             [
              0.1111111111111111,
              "#46039f"
             ],
             [
              0.2222222222222222,
              "#7201a8"
             ],
             [
              0.3333333333333333,
              "#9c179e"
             ],
             [
              0.4444444444444444,
              "#bd3786"
             ],
             [
              0.5555555555555556,
              "#d8576b"
             ],
             [
              0.6666666666666666,
              "#ed7953"
             ],
             [
              0.7777777777777778,
              "#fb9f3a"
             ],
             [
              0.8888888888888888,
              "#fdca26"
             ],
             [
              1,
              "#f0f921"
             ]
            ],
            "type": "contour"
           }
          ],
          "contourcarpet": [
           {
            "colorbar": {
             "outlinewidth": 0,
             "ticks": ""
            },
            "type": "contourcarpet"
           }
          ],
          "heatmap": [
           {
            "colorbar": {
             "outlinewidth": 0,
             "ticks": ""
            },
            "colorscale": [
             [
              0,
              "#0d0887"
             ],
             [
              0.1111111111111111,
              "#46039f"
             ],
             [
              0.2222222222222222,
              "#7201a8"
             ],
             [
              0.3333333333333333,
              "#9c179e"
             ],
             [
              0.4444444444444444,
              "#bd3786"
             ],
             [
              0.5555555555555556,
              "#d8576b"
             ],
             [
              0.6666666666666666,
              "#ed7953"
             ],
             [
              0.7777777777777778,
              "#fb9f3a"
             ],
             [
              0.8888888888888888,
              "#fdca26"
             ],
             [
              1,
              "#f0f921"
             ]
            ],
            "type": "heatmap"
           }
          ],
          "heatmapgl": [
           {
            "colorbar": {
             "outlinewidth": 0,
             "ticks": ""
            },
            "colorscale": [
             [
              0,
              "#0d0887"
             ],
             [
              0.1111111111111111,
              "#46039f"
             ],
             [
              0.2222222222222222,
              "#7201a8"
             ],
             [
              0.3333333333333333,
              "#9c179e"
             ],
             [
              0.4444444444444444,
              "#bd3786"
             ],
             [
              0.5555555555555556,
              "#d8576b"
             ],
             [
              0.6666666666666666,
              "#ed7953"
             ],
             [
              0.7777777777777778,
              "#fb9f3a"
             ],
             [
              0.8888888888888888,
              "#fdca26"
             ],
             [
              1,
              "#f0f921"
             ]
            ],
            "type": "heatmapgl"
           }
          ],
          "histogram": [
           {
            "marker": {
             "colorbar": {
              "outlinewidth": 0,
              "ticks": ""
             }
            },
            "type": "histogram"
           }
          ],
          "histogram2d": [
           {
            "colorbar": {
             "outlinewidth": 0,
             "ticks": ""
            },
            "colorscale": [
             [
              0,
              "#0d0887"
             ],
             [
              0.1111111111111111,
              "#46039f"
             ],
             [
              0.2222222222222222,
              "#7201a8"
             ],
             [
              0.3333333333333333,
              "#9c179e"
             ],
             [
              0.4444444444444444,
              "#bd3786"
             ],
             [
              0.5555555555555556,
              "#d8576b"
             ],
             [
              0.6666666666666666,
              "#ed7953"
             ],
             [
              0.7777777777777778,
              "#fb9f3a"
             ],
             [
              0.8888888888888888,
              "#fdca26"
             ],
             [
              1,
              "#f0f921"
             ]
            ],
            "type": "histogram2d"
           }
          ],
          "histogram2dcontour": [
           {
            "colorbar": {
             "outlinewidth": 0,
             "ticks": ""
            },
            "colorscale": [
             [
              0,
              "#0d0887"
             ],
             [
              0.1111111111111111,
              "#46039f"
             ],
             [
              0.2222222222222222,
              "#7201a8"
             ],
             [
              0.3333333333333333,
              "#9c179e"
             ],
             [
              0.4444444444444444,
              "#bd3786"
             ],
             [
              0.5555555555555556,
              "#d8576b"
             ],
             [
              0.6666666666666666,
              "#ed7953"
             ],
             [
              0.7777777777777778,
              "#fb9f3a"
             ],
             [
              0.8888888888888888,
              "#fdca26"
             ],
             [
              1,
              "#f0f921"
             ]
            ],
            "type": "histogram2dcontour"
           }
          ],
          "mesh3d": [
           {
            "colorbar": {
             "outlinewidth": 0,
             "ticks": ""
            },
            "type": "mesh3d"
           }
          ],
          "parcoords": [
           {
            "line": {
             "colorbar": {
              "outlinewidth": 0,
              "ticks": ""
             }
            },
            "type": "parcoords"
           }
          ],
          "pie": [
           {
            "automargin": true,
            "type": "pie"
           }
          ],
          "scatter": [
           {
            "marker": {
             "colorbar": {
              "outlinewidth": 0,
              "ticks": ""
             }
            },
            "type": "scatter"
           }
          ],
          "scatter3d": [
           {
            "line": {
             "colorbar": {
              "outlinewidth": 0,
              "ticks": ""
             }
            },
            "marker": {
             "colorbar": {
              "outlinewidth": 0,
              "ticks": ""
             }
            },
            "type": "scatter3d"
           }
          ],
          "scattercarpet": [
           {
            "marker": {
             "colorbar": {
              "outlinewidth": 0,
              "ticks": ""
             }
            },
            "type": "scattercarpet"
           }
          ],
          "scattergeo": [
           {
            "marker": {
             "colorbar": {
              "outlinewidth": 0,
              "ticks": ""
             }
            },
            "type": "scattergeo"
           }
          ],
          "scattergl": [
           {
            "marker": {
             "colorbar": {
              "outlinewidth": 0,
              "ticks": ""
             }
            },
            "type": "scattergl"
           }
          ],
          "scattermapbox": [
           {
            "marker": {
             "colorbar": {
              "outlinewidth": 0,
              "ticks": ""
             }
            },
            "type": "scattermapbox"
           }
          ],
          "scatterpolar": [
           {
            "marker": {
             "colorbar": {
              "outlinewidth": 0,
              "ticks": ""
             }
            },
            "type": "scatterpolar"
           }
          ],
          "scatterpolargl": [
           {
            "marker": {
             "colorbar": {
              "outlinewidth": 0,
              "ticks": ""
             }
            },
            "type": "scatterpolargl"
           }
          ],
          "scatterternary": [
           {
            "marker": {
             "colorbar": {
              "outlinewidth": 0,
              "ticks": ""
             }
            },
            "type": "scatterternary"
           }
          ],
          "surface": [
           {
            "colorbar": {
             "outlinewidth": 0,
             "ticks": ""
            },
            "colorscale": [
             [
              0,
              "#0d0887"
             ],
             [
              0.1111111111111111,
              "#46039f"
             ],
             [
              0.2222222222222222,
              "#7201a8"
             ],
             [
              0.3333333333333333,
              "#9c179e"
             ],
             [
              0.4444444444444444,
              "#bd3786"
             ],
             [
              0.5555555555555556,
              "#d8576b"
             ],
             [
              0.6666666666666666,
              "#ed7953"
             ],
             [
              0.7777777777777778,
              "#fb9f3a"
             ],
             [
              0.8888888888888888,
              "#fdca26"
             ],
             [
              1,
              "#f0f921"
             ]
            ],
            "type": "surface"
           }
          ],
          "table": [
           {
            "cells": {
             "fill": {
              "color": "#EBF0F8"
             },
             "line": {
              "color": "white"
             }
            },
            "header": {
             "fill": {
              "color": "#C8D4E3"
             },
             "line": {
              "color": "white"
             }
            },
            "type": "table"
           }
          ]
         },
         "layout": {
          "annotationdefaults": {
           "arrowcolor": "#2a3f5f",
           "arrowhead": 0,
           "arrowwidth": 1
          },
          "coloraxis": {
           "colorbar": {
            "outlinewidth": 0,
            "ticks": ""
           }
          },
          "colorscale": {
           "diverging": [
            [
             0,
             "#8e0152"
            ],
            [
             0.1,
             "#c51b7d"
            ],
            [
             0.2,
             "#de77ae"
            ],
            [
             0.3,
             "#f1b6da"
            ],
            [
             0.4,
             "#fde0ef"
            ],
            [
             0.5,
             "#f7f7f7"
            ],
            [
             0.6,
             "#e6f5d0"
            ],
            [
             0.7,
             "#b8e186"
            ],
            [
             0.8,
             "#7fbc41"
            ],
            [
             0.9,
             "#4d9221"
            ],
            [
             1,
             "#276419"
            ]
           ],
           "sequential": [
            [
             0,
             "#0d0887"
            ],
            [
             0.1111111111111111,
             "#46039f"
            ],
            [
             0.2222222222222222,
             "#7201a8"
            ],
            [
             0.3333333333333333,
             "#9c179e"
            ],
            [
             0.4444444444444444,
             "#bd3786"
            ],
            [
             0.5555555555555556,
             "#d8576b"
            ],
            [
             0.6666666666666666,
             "#ed7953"
            ],
            [
             0.7777777777777778,
             "#fb9f3a"
            ],
            [
             0.8888888888888888,
             "#fdca26"
            ],
            [
             1,
             "#f0f921"
            ]
           ],
           "sequentialminus": [
            [
             0,
             "#0d0887"
            ],
            [
             0.1111111111111111,
             "#46039f"
            ],
            [
             0.2222222222222222,
             "#7201a8"
            ],
            [
             0.3333333333333333,
             "#9c179e"
            ],
            [
             0.4444444444444444,
             "#bd3786"
            ],
            [
             0.5555555555555556,
             "#d8576b"
            ],
            [
             0.6666666666666666,
             "#ed7953"
            ],
            [
             0.7777777777777778,
             "#fb9f3a"
            ],
            [
             0.8888888888888888,
             "#fdca26"
            ],
            [
             1,
             "#f0f921"
            ]
           ]
          },
          "colorway": [
           "#636efa",
           "#EF553B",
           "#00cc96",
           "#ab63fa",
           "#FFA15A",
           "#19d3f3",
           "#FF6692",
           "#B6E880",
           "#FF97FF",
           "#FECB52"
          ],
          "font": {
           "color": "#2a3f5f"
          },
          "geo": {
           "bgcolor": "white",
           "lakecolor": "white",
           "landcolor": "#E5ECF6",
           "showlakes": true,
           "showland": true,
           "subunitcolor": "white"
          },
          "hoverlabel": {
           "align": "left"
          },
          "hovermode": "closest",
          "mapbox": {
           "style": "light"
          },
          "paper_bgcolor": "white",
          "plot_bgcolor": "#E5ECF6",
          "polar": {
           "angularaxis": {
            "gridcolor": "white",
            "linecolor": "white",
            "ticks": ""
           },
           "bgcolor": "#E5ECF6",
           "radialaxis": {
            "gridcolor": "white",
            "linecolor": "white",
            "ticks": ""
           }
          },
          "scene": {
           "xaxis": {
            "backgroundcolor": "#E5ECF6",
            "gridcolor": "white",
            "gridwidth": 2,
            "linecolor": "white",
            "showbackground": true,
            "ticks": "",
            "zerolinecolor": "white"
           },
           "yaxis": {
            "backgroundcolor": "#E5ECF6",
            "gridcolor": "white",
            "gridwidth": 2,
            "linecolor": "white",
            "showbackground": true,
            "ticks": "",
            "zerolinecolor": "white"
           },
           "zaxis": {
            "backgroundcolor": "#E5ECF6",
            "gridcolor": "white",
            "gridwidth": 2,
            "linecolor": "white",
            "showbackground": true,
            "ticks": "",
            "zerolinecolor": "white"
           }
          },
          "shapedefaults": {
           "line": {
            "color": "#2a3f5f"
           }
          },
          "ternary": {
           "aaxis": {
            "gridcolor": "white",
            "linecolor": "white",
            "ticks": ""
           },
           "baxis": {
            "gridcolor": "white",
            "linecolor": "white",
            "ticks": ""
           },
           "bgcolor": "#E5ECF6",
           "caxis": {
            "gridcolor": "white",
            "linecolor": "white",
            "ticks": ""
           }
          },
          "title": {
           "x": 0.05
          },
          "xaxis": {
           "automargin": true,
           "gridcolor": "white",
           "linecolor": "white",
           "ticks": "",
           "title": {
            "standoff": 15
           },
           "zerolinecolor": "white",
           "zerolinewidth": 2
          },
          "yaxis": {
           "automargin": true,
           "gridcolor": "white",
           "linecolor": "white",
           "ticks": "",
           "title": {
            "standoff": 15
           },
           "zerolinecolor": "white",
           "zerolinewidth": 2
          }
         }
        }
       }
      },
      "text/html": [
       "<div>\n",
       "        \n",
       "        \n",
       "            <div id=\"0dc89eaf-6e17-46c3-a2e7-81e65eda1226\" class=\"plotly-graph-div\" style=\"height:525px; width:100%;\"></div>\n",
       "            <script type=\"text/javascript\">\n",
       "                require([\"plotly\"], function(Plotly) {\n",
       "                    window.PLOTLYENV=window.PLOTLYENV || {};\n",
       "                    \n",
       "                if (document.getElementById(\"0dc89eaf-6e17-46c3-a2e7-81e65eda1226\")) {\n",
       "                    Plotly.newPlot(\n",
       "                        '0dc89eaf-6e17-46c3-a2e7-81e65eda1226',\n",
       "                        [{\"mode\": \"lines\", \"name\": \"lines\", \"type\": \"scatter\", \"x\": [0.0, 0.010101010101010102, 0.020202020202020204, 0.030303030303030304, 0.04040404040404041, 0.05050505050505051, 0.06060606060606061, 0.07070707070707072, 0.08080808080808081, 0.09090909090909091, 0.10101010101010102, 0.11111111111111112, 0.12121212121212122, 0.13131313131313133, 0.14141414141414144, 0.15151515151515152, 0.16161616161616163, 0.17171717171717174, 0.18181818181818182, 0.19191919191919193, 0.20202020202020204, 0.21212121212121213, 0.22222222222222224, 0.23232323232323235, 0.24242424242424243, 0.25252525252525254, 0.26262626262626265, 0.27272727272727276, 0.2828282828282829, 0.29292929292929293, 0.30303030303030304, 0.31313131313131315, 0.32323232323232326, 0.33333333333333337, 0.3434343434343435, 0.3535353535353536, 0.36363636363636365, 0.37373737373737376, 0.38383838383838387, 0.393939393939394, 0.4040404040404041, 0.4141414141414142, 0.42424242424242425, 0.43434343434343436, 0.4444444444444445, 0.4545454545454546, 0.4646464646464647, 0.4747474747474748, 0.48484848484848486, 0.494949494949495, 0.5050505050505051, 0.5151515151515152, 0.5252525252525253, 0.5353535353535354, 0.5454545454545455, 0.5555555555555556, 0.5656565656565657, 0.5757575757575758, 0.5858585858585859, 0.595959595959596, 0.6060606060606061, 0.6161616161616162, 0.6262626262626263, 0.6363636363636365, 0.6464646464646465, 0.6565656565656566, 0.6666666666666667, 0.6767676767676768, 0.686868686868687, 0.696969696969697, 0.7070707070707072, 0.7171717171717172, 0.7272727272727273, 0.7373737373737375, 0.7474747474747475, 0.7575757575757577, 0.7676767676767677, 0.7777777777777778, 0.787878787878788, 0.797979797979798, 0.8080808080808082, 0.8181818181818182, 0.8282828282828284, 0.8383838383838385, 0.8484848484848485, 0.8585858585858587, 0.8686868686868687, 0.8787878787878789, 0.888888888888889, 0.8989898989898991, 0.9090909090909092, 0.9191919191919192, 0.9292929292929294, 0.9393939393939394, 0.9494949494949496, 0.9595959595959597, 0.9696969696969697, 0.9797979797979799, 0.98989898989899, 1.0], \"y\": [6.624345363663242, 4.388243586349924, 4.4718282477365445, 3.9270313778438295, 5.865407629324679, 2.6984613031197173, 6.74481176421648, 4.238793099104897, 5.319039096057098, 4.75062962452259, 6.4621079370449745, 2.939859290502346, 4.677582795986493, 4.615945645331585, 6.133769442335438, 3.900108732685969, 4.8275717924495645, 4.122141582078628, 5.042213746715593, 5.582815213715822, 3.8993808227870788, 6.144723709839614, 5.901590720592796, 5.502494338901868, 5.900855949264412, 4.316272140825667, 4.877109774481352, 4.064230565740932, 4.732111920373984, 5.530355466738186, 4.308339248274691, 4.603246473144023, 4.312827299880401, 4.15479435850128, 4.328753869163181, 4.987335401081099, 3.882689651364722, 5.234415697817092, 6.659802177109871, 5.742044160577335, 4.808164447638385, 4.112371035915164, 4.252841706249162, 6.692454601027746, 5.050807754776029, 4.363004353430647, 5.190915484667466, 7.100255136478842, 5.1201589524816296, 5.617203109707419, 5.300170319955828, 4.647750153506482, 3.85748180197786, 4.650657277587123, 4.791105766625222, 5.5866231911821975, 5.838983413874505, 5.931102081303557, 5.285587325254259, 5.885141164270728, 4.245602059003347, 6.252868155233288, 5.512929820418009, 4.7019071648972846, 5.488518146537497, 4.924428286978944, 6.131629387451427, 6.519816816422199, 7.185575406533161, 3.6035036645118623, 3.5558861945704106, 4.495534137053549, 5.160037069447831, 5.876168921116225, 5.315634947241605, 2.977798784175997, 4.693795987371628, 5.827974642607246, 5.230094735364384, 5.762011180312025, 4.777671857389641, 4.799241931070003, 5.186561390988285, 5.410051647208256, 5.198299720126769, 5.119008645807459, 4.329337713710969, 5.37756378632092, 5.121821270991437, 6.129483907911919, 6.198917879901507, 5.1851564174839435, 4.624715049909886, 4.361269592545778, 5.423494354064113, 5.077340068348559, 4.656146324428924, 5.043596856834247, 4.379999156051871, 5.698032034072219]}, {\"mode\": \"lines+markers\", \"name\": \"lines+markers\", \"type\": \"scatter\", \"x\": [0.0, 0.010101010101010102, 0.020202020202020204, 0.030303030303030304, 0.04040404040404041, 0.05050505050505051, 0.06060606060606061, 0.07070707070707072, 0.08080808080808081, 0.09090909090909091, 0.10101010101010102, 0.11111111111111112, 0.12121212121212122, 0.13131313131313133, 0.14141414141414144, 0.15151515151515152, 0.16161616161616163, 0.17171717171717174, 0.18181818181818182, 0.19191919191919193, 0.20202020202020204, 0.21212121212121213, 0.22222222222222224, 0.23232323232323235, 0.24242424242424243, 0.25252525252525254, 0.26262626262626265, 0.27272727272727276, 0.2828282828282829, 0.29292929292929293, 0.30303030303030304, 0.31313131313131315, 0.32323232323232326, 0.33333333333333337, 0.3434343434343435, 0.3535353535353536, 0.36363636363636365, 0.37373737373737376, 0.38383838383838387, 0.393939393939394, 0.4040404040404041, 0.4141414141414142, 0.42424242424242425, 0.43434343434343436, 0.4444444444444445, 0.4545454545454546, 0.4646464646464647, 0.4747474747474748, 0.48484848484848486, 0.494949494949495, 0.5050505050505051, 0.5151515151515152, 0.5252525252525253, 0.5353535353535354, 0.5454545454545455, 0.5555555555555556, 0.5656565656565657, 0.5757575757575758, 0.5858585858585859, 0.595959595959596, 0.6060606060606061, 0.6161616161616162, 0.6262626262626263, 0.6363636363636365, 0.6464646464646465, 0.6565656565656566, 0.6666666666666667, 0.6767676767676768, 0.686868686868687, 0.696969696969697, 0.7070707070707072, 0.7171717171717172, 0.7272727272727273, 0.7373737373737375, 0.7474747474747475, 0.7575757575757577, 0.7676767676767677, 0.7777777777777778, 0.787878787878788, 0.797979797979798, 0.8080808080808082, 0.8181818181818182, 0.8282828282828284, 0.8383838383838385, 0.8484848484848485, 0.8585858585858587, 0.8686868686868687, 0.8787878787878789, 0.888888888888889, 0.8989898989898991, 0.9090909090909092, 0.9191919191919192, 0.9292929292929294, 0.9393939393939394, 0.9494949494949496, 0.9595959595959597, 0.9696969696969697, 0.9797979797979799, 0.98989898989899, 1.0], \"y\": [-0.4471285647859982, 1.2245077048054989, 0.4034916417908, 0.593578523237067, -1.0949118457410418, 0.1693824330586681, 0.7405564510962748, -0.9537006018079346, -0.26621850600362207, 0.03261454669335856, -1.3731173202467557, 0.31515939204229176, 0.8461606475850334, -0.8595159408319863, 0.35054597866410736, -1.3122834112374318, -0.038695509266051115, -1.6157723547032947, 1.121417708235664, 0.4089005379368278, -0.024616955875778355, -0.7751616191691596, 1.2737559301587766, 1.9671017492547347, -1.857981864446752, 1.2361640304528203, 1.6276507531489064, 0.3380116965744758, -1.199268032335186, 0.8633453175440216, -0.18092030207815046, -0.6039206277932573, -1.2300581356669618, 0.5505374959762154, 0.7928068659193477, -0.6235307296797916, 0.5205763370733708, -1.1443413896231427, 0.8018610318713447, 0.04656729842414554, -0.18656977190734877, -0.10174587252914521, 0.8688861570058679, 0.7504116398650081, 0.5294653243527092, 0.13770120999738608, 0.07782112791270591, 0.6183802619985245, 0.23249455917873788, 0.6825514068644851, -0.31011677351806, -2.434837764107139, 1.038824601859414, 2.1869796469742577, 0.44136444356858207, -0.10015523328349978, -0.13644474389603303, -0.11905418777480989, 0.0174094083000046, -1.1220187287468883, -0.5170944579202279, -0.997026827650263, 0.2487991613877705, -0.29664115237086275, 0.4952113239779604, -0.17470315974250095, 0.986335187821242, 0.21353390133544178, 2.1906997289697334, -1.8963609228910925, -0.646916688254908, 0.901486891648711, 2.528325706806398, -0.24863477771546005, 0.043668993178389105, -0.22631424251360518, 1.3314571125875918, -0.2873078634760189, 0.6800698398781045, -0.3198015988986712, -1.2725587552459943, 0.31354772046343216, 0.5031848134353261, 1.2932258825322618, -0.11044702641731631, -0.6173620637123609, 0.5627610966190263, 0.24073709223773224, 0.28066507712263905, -0.07311270374727777, 1.1603385699937696, 0.36949271637572373, 1.9046587083409812, 1.1110566985605046, 0.6590497961002102, -1.6274383406162574, 0.602319280295629, 0.42028220364705954, 0.8109516728035557, 1.0444420947072588]}, {\"mode\": \"markers\", \"name\": \"markers\", \"type\": \"scatter\", \"x\": [0.0, 0.010101010101010102, 0.020202020202020204, 0.030303030303030304, 0.04040404040404041, 0.05050505050505051, 0.06060606060606061, 0.07070707070707072, 0.08080808080808081, 0.09090909090909091, 0.10101010101010102, 0.11111111111111112, 0.12121212121212122, 0.13131313131313133, 0.14141414141414144, 0.15151515151515152, 0.16161616161616163, 0.17171717171717174, 0.18181818181818182, 0.19191919191919193, 0.20202020202020204, 0.21212121212121213, 0.22222222222222224, 0.23232323232323235, 0.24242424242424243, 0.25252525252525254, 0.26262626262626265, 0.27272727272727276, 0.2828282828282829, 0.29292929292929293, 0.30303030303030304, 0.31313131313131315, 0.32323232323232326, 0.33333333333333337, 0.3434343434343435, 0.3535353535353536, 0.36363636363636365, 0.37373737373737376, 0.38383838383838387, 0.393939393939394, 0.4040404040404041, 0.4141414141414142, 0.42424242424242425, 0.43434343434343436, 0.4444444444444445, 0.4545454545454546, 0.4646464646464647, 0.4747474747474748, 0.48484848484848486, 0.494949494949495, 0.5050505050505051, 0.5151515151515152, 0.5252525252525253, 0.5353535353535354, 0.5454545454545455, 0.5555555555555556, 0.5656565656565657, 0.5757575757575758, 0.5858585858585859, 0.595959595959596, 0.6060606060606061, 0.6161616161616162, 0.6262626262626263, 0.6363636363636365, 0.6464646464646465, 0.6565656565656566, 0.6666666666666667, 0.6767676767676768, 0.686868686868687, 0.696969696969697, 0.7070707070707072, 0.7171717171717172, 0.7272727272727273, 0.7373737373737375, 0.7474747474747475, 0.7575757575757577, 0.7676767676767677, 0.7777777777777778, 0.787878787878788, 0.797979797979798, 0.8080808080808082, 0.8181818181818182, 0.8282828282828284, 0.8383838383838385, 0.8484848484848485, 0.8585858585858587, 0.8686868686868687, 0.8787878787878789, 0.888888888888889, 0.8989898989898991, 0.9090909090909092, 0.9191919191919192, 0.9292929292929294, 0.9393939393939394, 0.9494949494949496, 0.9595959595959597, 0.9696969696969697, 0.9797979797979799, 0.98989898989899, 1.0], \"y\": [-5.400878191788927, -4.175994381549592, -5.56230543101909, -3.0451219249909656, -6.331951666517249, -6.760688560398783, -6.6507212658241, -5.890555584163049, -6.119115398559728, -3.043921096296358, -5.326499498078184, -6.342675789377436, -3.885617023220208, -5.586523938821593, -6.236853376541397, -4.1241610723507005, -4.376637823421968, -5.434956682955228, -3.5924599997587716, -4.870898420289275, -3.3830504011427, -4.497259118000096, -3.4411944593801405, -4.890597303574572, -6.219744396979033, -2.5506313509386027, -5.545774167982568, -5.1988378628888965, -5.700398504921255, -5.203394448964558, -4.7573305589182056, -4.798169821125996, -4.338979712401307, -3.207841791024433, -5.120464571788507, -6.233120735446427, -6.182318126509633, -5.665754518199127, -6.674195807618932, -4.174970175561014, -5.4982135636310785, -5.310984978302851, -5.001891482838004, -6.396620424595432, -5.861316360776042, -4.3252884743120275, -4.381460869213707, -5.443171930700638, -3.1894650858745437, -6.305726922557738, -5.344987210154979, -5.230839743135469, -7.79308500014654, -3.0624711863839202, -4.633667985459942, -6.044589381907792, -2.9488265571425556, -4.414337999827618, -4.570473859978035, -5.606998398200046, -4.893777275964783, -6.525680316229358, -4.204973905575155, -5.374438318843221, -4.865951803445377, -3.797945137800294, -4.715251889150942, -4.737532554536731, -4.723500695177816, -5.733271603895313, -4.163995280565731, -3.4566408891955165, -4.241194339902069, -4.115091185535117, -5.877281518918188, -5.867787222872925, -6.44087602429184, -3.767746929171564, -5.254179867607368, -3.600156057519014, -5.7819116826868004, -5.4375089828285805, -4.904574912808743, -4.078549931340489, -4.939249804200493, -4.788875244992283, -4.983472432694384, -4.822812279724039, -6.116470017884744, -4.919072899026721, -5.186578993511466, -5.056824480885847, -4.507663444063351, -5.680678141008886, -5.08450802740463, -5.297361882773504, -4.582697995025137, -4.21522934898441, -5.955425262373689, -4.414089568897384]}],\n",
       "                        {\"template\": {\"data\": {\"bar\": [{\"error_x\": {\"color\": \"#2a3f5f\"}, \"error_y\": {\"color\": \"#2a3f5f\"}, \"marker\": {\"line\": {\"color\": \"#E5ECF6\", \"width\": 0.5}}, \"type\": \"bar\"}], \"barpolar\": [{\"marker\": {\"line\": {\"color\": \"#E5ECF6\", \"width\": 0.5}}, \"type\": \"barpolar\"}], \"carpet\": [{\"aaxis\": {\"endlinecolor\": \"#2a3f5f\", \"gridcolor\": \"white\", \"linecolor\": \"white\", \"minorgridcolor\": \"white\", \"startlinecolor\": \"#2a3f5f\"}, \"baxis\": {\"endlinecolor\": \"#2a3f5f\", \"gridcolor\": \"white\", \"linecolor\": \"white\", \"minorgridcolor\": \"white\", \"startlinecolor\": \"#2a3f5f\"}, \"type\": \"carpet\"}], \"choropleth\": [{\"colorbar\": {\"outlinewidth\": 0, \"ticks\": \"\"}, \"type\": \"choropleth\"}], \"contour\": [{\"colorbar\": {\"outlinewidth\": 0, \"ticks\": \"\"}, \"colorscale\": [[0.0, \"#0d0887\"], [0.1111111111111111, \"#46039f\"], [0.2222222222222222, \"#7201a8\"], [0.3333333333333333, \"#9c179e\"], [0.4444444444444444, \"#bd3786\"], [0.5555555555555556, \"#d8576b\"], [0.6666666666666666, \"#ed7953\"], [0.7777777777777778, \"#fb9f3a\"], [0.8888888888888888, \"#fdca26\"], [1.0, \"#f0f921\"]], \"type\": \"contour\"}], \"contourcarpet\": [{\"colorbar\": {\"outlinewidth\": 0, \"ticks\": \"\"}, \"type\": \"contourcarpet\"}], \"heatmap\": [{\"colorbar\": {\"outlinewidth\": 0, \"ticks\": \"\"}, \"colorscale\": [[0.0, \"#0d0887\"], [0.1111111111111111, \"#46039f\"], [0.2222222222222222, \"#7201a8\"], [0.3333333333333333, \"#9c179e\"], [0.4444444444444444, \"#bd3786\"], [0.5555555555555556, \"#d8576b\"], [0.6666666666666666, \"#ed7953\"], [0.7777777777777778, \"#fb9f3a\"], [0.8888888888888888, \"#fdca26\"], [1.0, \"#f0f921\"]], \"type\": \"heatmap\"}], \"heatmapgl\": [{\"colorbar\": {\"outlinewidth\": 0, \"ticks\": \"\"}, \"colorscale\": [[0.0, \"#0d0887\"], [0.1111111111111111, \"#46039f\"], [0.2222222222222222, \"#7201a8\"], [0.3333333333333333, \"#9c179e\"], [0.4444444444444444, \"#bd3786\"], [0.5555555555555556, \"#d8576b\"], [0.6666666666666666, \"#ed7953\"], [0.7777777777777778, \"#fb9f3a\"], [0.8888888888888888, \"#fdca26\"], [1.0, \"#f0f921\"]], \"type\": \"heatmapgl\"}], \"histogram\": [{\"marker\": {\"colorbar\": {\"outlinewidth\": 0, \"ticks\": \"\"}}, \"type\": \"histogram\"}], \"histogram2d\": [{\"colorbar\": {\"outlinewidth\": 0, \"ticks\": \"\"}, \"colorscale\": [[0.0, \"#0d0887\"], [0.1111111111111111, \"#46039f\"], [0.2222222222222222, \"#7201a8\"], [0.3333333333333333, \"#9c179e\"], [0.4444444444444444, \"#bd3786\"], [0.5555555555555556, \"#d8576b\"], [0.6666666666666666, \"#ed7953\"], [0.7777777777777778, \"#fb9f3a\"], [0.8888888888888888, \"#fdca26\"], [1.0, \"#f0f921\"]], \"type\": \"histogram2d\"}], \"histogram2dcontour\": [{\"colorbar\": {\"outlinewidth\": 0, \"ticks\": \"\"}, \"colorscale\": [[0.0, \"#0d0887\"], [0.1111111111111111, \"#46039f\"], [0.2222222222222222, \"#7201a8\"], [0.3333333333333333, \"#9c179e\"], [0.4444444444444444, \"#bd3786\"], [0.5555555555555556, \"#d8576b\"], [0.6666666666666666, \"#ed7953\"], [0.7777777777777778, \"#fb9f3a\"], [0.8888888888888888, \"#fdca26\"], [1.0, \"#f0f921\"]], \"type\": \"histogram2dcontour\"}], \"mesh3d\": [{\"colorbar\": {\"outlinewidth\": 0, \"ticks\": \"\"}, \"type\": \"mesh3d\"}], \"parcoords\": [{\"line\": {\"colorbar\": {\"outlinewidth\": 0, \"ticks\": \"\"}}, \"type\": \"parcoords\"}], \"pie\": [{\"automargin\": true, \"type\": \"pie\"}], \"scatter\": [{\"marker\": {\"colorbar\": {\"outlinewidth\": 0, \"ticks\": \"\"}}, \"type\": \"scatter\"}], \"scatter3d\": [{\"line\": {\"colorbar\": {\"outlinewidth\": 0, \"ticks\": \"\"}}, \"marker\": {\"colorbar\": {\"outlinewidth\": 0, \"ticks\": \"\"}}, \"type\": \"scatter3d\"}], \"scattercarpet\": [{\"marker\": {\"colorbar\": {\"outlinewidth\": 0, \"ticks\": \"\"}}, \"type\": \"scattercarpet\"}], \"scattergeo\": [{\"marker\": {\"colorbar\": {\"outlinewidth\": 0, \"ticks\": \"\"}}, \"type\": \"scattergeo\"}], \"scattergl\": [{\"marker\": {\"colorbar\": {\"outlinewidth\": 0, \"ticks\": \"\"}}, \"type\": \"scattergl\"}], \"scattermapbox\": [{\"marker\": {\"colorbar\": {\"outlinewidth\": 0, \"ticks\": \"\"}}, \"type\": \"scattermapbox\"}], \"scatterpolar\": [{\"marker\": {\"colorbar\": {\"outlinewidth\": 0, \"ticks\": \"\"}}, \"type\": \"scatterpolar\"}], \"scatterpolargl\": [{\"marker\": {\"colorbar\": {\"outlinewidth\": 0, \"ticks\": \"\"}}, \"type\": \"scatterpolargl\"}], \"scatterternary\": [{\"marker\": {\"colorbar\": {\"outlinewidth\": 0, \"ticks\": \"\"}}, \"type\": \"scatterternary\"}], \"surface\": [{\"colorbar\": {\"outlinewidth\": 0, \"ticks\": \"\"}, \"colorscale\": [[0.0, \"#0d0887\"], [0.1111111111111111, \"#46039f\"], [0.2222222222222222, \"#7201a8\"], [0.3333333333333333, \"#9c179e\"], [0.4444444444444444, \"#bd3786\"], [0.5555555555555556, \"#d8576b\"], [0.6666666666666666, \"#ed7953\"], [0.7777777777777778, \"#fb9f3a\"], [0.8888888888888888, \"#fdca26\"], [1.0, \"#f0f921\"]], \"type\": \"surface\"}], \"table\": [{\"cells\": {\"fill\": {\"color\": \"#EBF0F8\"}, \"line\": {\"color\": \"white\"}}, \"header\": {\"fill\": {\"color\": \"#C8D4E3\"}, \"line\": {\"color\": \"white\"}}, \"type\": \"table\"}]}, \"layout\": {\"annotationdefaults\": {\"arrowcolor\": \"#2a3f5f\", \"arrowhead\": 0, \"arrowwidth\": 1}, \"coloraxis\": {\"colorbar\": {\"outlinewidth\": 0, \"ticks\": \"\"}}, \"colorscale\": {\"diverging\": [[0, \"#8e0152\"], [0.1, \"#c51b7d\"], [0.2, \"#de77ae\"], [0.3, \"#f1b6da\"], [0.4, \"#fde0ef\"], [0.5, \"#f7f7f7\"], [0.6, \"#e6f5d0\"], [0.7, \"#b8e186\"], [0.8, \"#7fbc41\"], [0.9, \"#4d9221\"], [1, \"#276419\"]], \"sequential\": [[0.0, \"#0d0887\"], [0.1111111111111111, \"#46039f\"], [0.2222222222222222, \"#7201a8\"], [0.3333333333333333, \"#9c179e\"], [0.4444444444444444, \"#bd3786\"], [0.5555555555555556, \"#d8576b\"], [0.6666666666666666, \"#ed7953\"], [0.7777777777777778, \"#fb9f3a\"], [0.8888888888888888, \"#fdca26\"], [1.0, \"#f0f921\"]], \"sequentialminus\": [[0.0, \"#0d0887\"], [0.1111111111111111, \"#46039f\"], [0.2222222222222222, \"#7201a8\"], [0.3333333333333333, \"#9c179e\"], [0.4444444444444444, \"#bd3786\"], [0.5555555555555556, \"#d8576b\"], [0.6666666666666666, \"#ed7953\"], [0.7777777777777778, \"#fb9f3a\"], [0.8888888888888888, \"#fdca26\"], [1.0, \"#f0f921\"]]}, \"colorway\": [\"#636efa\", \"#EF553B\", \"#00cc96\", \"#ab63fa\", \"#FFA15A\", \"#19d3f3\", \"#FF6692\", \"#B6E880\", \"#FF97FF\", \"#FECB52\"], \"font\": {\"color\": \"#2a3f5f\"}, \"geo\": {\"bgcolor\": \"white\", \"lakecolor\": \"white\", \"landcolor\": \"#E5ECF6\", \"showlakes\": true, \"showland\": true, \"subunitcolor\": \"white\"}, \"hoverlabel\": {\"align\": \"left\"}, \"hovermode\": \"closest\", \"mapbox\": {\"style\": \"light\"}, \"paper_bgcolor\": \"white\", \"plot_bgcolor\": \"#E5ECF6\", \"polar\": {\"angularaxis\": {\"gridcolor\": \"white\", \"linecolor\": \"white\", \"ticks\": \"\"}, \"bgcolor\": \"#E5ECF6\", \"radialaxis\": {\"gridcolor\": \"white\", \"linecolor\": \"white\", \"ticks\": \"\"}}, \"scene\": {\"xaxis\": {\"backgroundcolor\": \"#E5ECF6\", \"gridcolor\": \"white\", \"gridwidth\": 2, \"linecolor\": \"white\", \"showbackground\": true, \"ticks\": \"\", \"zerolinecolor\": \"white\"}, \"yaxis\": {\"backgroundcolor\": \"#E5ECF6\", \"gridcolor\": \"white\", \"gridwidth\": 2, \"linecolor\": \"white\", \"showbackground\": true, \"ticks\": \"\", \"zerolinecolor\": \"white\"}, \"zaxis\": {\"backgroundcolor\": \"#E5ECF6\", \"gridcolor\": \"white\", \"gridwidth\": 2, \"linecolor\": \"white\", \"showbackground\": true, \"ticks\": \"\", \"zerolinecolor\": \"white\"}}, \"shapedefaults\": {\"line\": {\"color\": \"#2a3f5f\"}}, \"ternary\": {\"aaxis\": {\"gridcolor\": \"white\", \"linecolor\": \"white\", \"ticks\": \"\"}, \"baxis\": {\"gridcolor\": \"white\", \"linecolor\": \"white\", \"ticks\": \"\"}, \"bgcolor\": \"#E5ECF6\", \"caxis\": {\"gridcolor\": \"white\", \"linecolor\": \"white\", \"ticks\": \"\"}}, \"title\": {\"x\": 0.05}, \"xaxis\": {\"automargin\": true, \"gridcolor\": \"white\", \"linecolor\": \"white\", \"ticks\": \"\", \"title\": {\"standoff\": 15}, \"zerolinecolor\": \"white\", \"zerolinewidth\": 2}, \"yaxis\": {\"automargin\": true, \"gridcolor\": \"white\", \"linecolor\": \"white\", \"ticks\": \"\", \"title\": {\"standoff\": 15}, \"zerolinecolor\": \"white\", \"zerolinewidth\": 2}}}},\n",
       "                        {\"responsive\": true}\n",
       "                    ).then(function(){\n",
       "                            \n",
       "var gd = document.getElementById('0dc89eaf-6e17-46c3-a2e7-81e65eda1226');\n",
       "var x = new MutationObserver(function (mutations, observer) {{\n",
       "        var display = window.getComputedStyle(gd).display;\n",
       "        if (!display || display === 'none') {{\n",
       "            console.log([gd, 'removed!']);\n",
       "            Plotly.purge(gd);\n",
       "            observer.disconnect();\n",
       "        }}\n",
       "}});\n",
       "\n",
       "// Listen for the removal of the full notebook cells\n",
       "var notebookContainer = gd.closest('#notebook-container');\n",
       "if (notebookContainer) {{\n",
       "    x.observe(notebookContainer, {childList: true});\n",
       "}}\n",
       "\n",
       "// Listen for the clearing of the current output cell\n",
       "var outputEl = gd.closest('.output');\n",
       "if (outputEl) {{\n",
       "    x.observe(outputEl, {childList: true});\n",
       "}}\n",
       "\n",
       "                        })\n",
       "                };\n",
       "                });\n",
       "            </script>\n",
       "        </div>"
      ]
     },
     "metadata": {},
     "output_type": "display_data"
    }
   ],
   "source": [
    "## tutorial from: https://plotly.com/python/line-charts/\n",
    "\n",
    "import plotly.graph_objects as go\n",
    "\n",
    "# Create random data with numpy\n",
    "import numpy as np\n",
    "np.random.seed(1)\n",
    "\n",
    "N = 100\n",
    "random_x = np.linspace(0, 1, N)\n",
    "random_y0 = np.random.randn(N) + 5\n",
    "random_y1 = np.random.randn(N)\n",
    "random_y2 = np.random.randn(N) - 5\n",
    "\n",
    "# Create traces\n",
    "fig = go.Figure()\n",
    "fig.add_trace(go.Scatter(x=random_x, y=random_y0,\n",
    "                    mode='lines',\n",
    "                    name='lines'))\n",
    "fig.add_trace(go.Scatter(x=random_x, y=random_y1,\n",
    "                    mode='lines+markers',\n",
    "                    name='lines+markers'))\n",
    "fig.add_trace(go.Scatter(x=random_x, y=random_y2,\n",
    "                    mode='markers', name='markers'))\n",
    "\n",
    "fig.show()"
   ]
  },
  {
   "cell_type": "code",
   "execution_count": 20,
   "metadata": {},
   "outputs": [
    {
     "data": {
      "text/plain": [
       "array([ 1., -1., -1., -1., -1., -1., -1.,  1., -1.,  1.,  0.,  0., -1.,\n",
       "        0.,  1.])"
      ]
     },
     "execution_count": 20,
     "metadata": {},
     "output_type": "execute_result"
    }
   ],
   "source": [
    "x[:15]"
   ]
  },
  {
   "cell_type": "code",
   "execution_count": 19,
   "metadata": {},
   "outputs": [
    {
     "data": {
      "text/plain": [
       "array([ 0.87813115,  0.8311234 ,  1.4318631 ,  0.47211297, -1.03878554,\n",
       "        0.85783058,  1.00685961, -1.64486908, -1.79549707, -2.60054578,\n",
       "        0.30566403, -0.51695811, -0.34893832,  0.25333061, -0.62318326])"
      ]
     },
     "execution_count": 19,
     "metadata": {},
     "output_type": "execute_result"
    }
   ],
   "source": [
    "y[:15]"
   ]
  },
  {
   "cell_type": "code",
   "execution_count": null,
   "metadata": {},
   "outputs": [],
   "source": []
  }
 ],
 "metadata": {
  "kernelspec": {
   "display_name": "Python 3",
   "language": "python",
   "name": "python3"
  },
  "language_info": {
   "codemirror_mode": {
    "name": "ipython",
    "version": 3
   },
   "file_extension": ".py",
   "mimetype": "text/x-python",
   "name": "python",
   "nbconvert_exporter": "python",
   "pygments_lexer": "ipython3",
   "version": "3.7.3"
  }
 },
 "nbformat": 4,
 "nbformat_minor": 4
}
