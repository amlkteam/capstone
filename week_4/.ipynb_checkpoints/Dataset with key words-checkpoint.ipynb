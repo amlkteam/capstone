{
 "cells": [
  {
   "cell_type": "code",
   "execution_count": 34,
   "metadata": {},
   "outputs": [],
   "source": [
    "import pandas as pd"
   ]
  },
  {
   "cell_type": "code",
   "execution_count": 65,
   "metadata": {},
   "outputs": [],
   "source": [
    "# Creator: Pandramishi Naga Sirisha\n",
    "# Created on: 27-05-2020\n",
    "# Last modified: For  removing duplicates\n",
    "# To-Do: Remove duplicates (DONE)"
   ]
  },
  {
   "cell_type": "code",
   "execution_count": 85,
   "metadata": {},
   "outputs": [
    {
     "name": "stdout",
     "output_type": "stream",
     "text": [
      "Total articles retrieved:  91\n",
      "Outputted filtered articles to predict to file : stock_market_CBC_article_keyword_to_predict.csv\n"
     ]
    }
   ],
   "source": [
    "def get_keyword_df(keyword_list, input_file_name, predicted_filename):\n",
    "    index_list = set()\n",
    "    df = pd.read_csv(input_file_name, names = ['index','source','title_desc','publishedAt'],skiprows = 1)\n",
    "    count = 0\n",
    "    for  i in range(df.shape[0]):\n",
    "        text = df.iloc[i]['title_desc']\n",
    "        found = False\n",
    "        for keyword in keyword_list:\n",
    "            if keyword in text:\n",
    "                count += 1\n",
    "                found  = True\n",
    "        if found == False:\n",
    "            index_list.add(i)\n",
    "    \n",
    "    df.drop(df.index[list(index_list)], inplace=True)\n",
    "    df = df.drop(columns= ['index'])\n",
    "    df = df.drop_duplicates('title_desc', keep='last')\n",
    "    df.to_csv(predicted_filename, index = False)\n",
    "    print(\"Total articles retrieved: \", df.shape[0])\n",
    "    print(\"Outputted filtered articles to predict to file :\", predicted_filename)\n",
    "\n"
   ]
  },
  {
   "cell_type": "markdown",
   "metadata": {},
   "source": [
    "## Stock market\n",
    "### Keywords included : \"tsx\",\"stock\", \"dow\",\"nasdaq\""
   ]
  },
  {
   "cell_type": "code",
   "execution_count": 88,
   "metadata": {},
   "outputs": [
    {
     "name": "stdout",
     "output_type": "stream",
     "text": [
      "Total articles retrieved:  91\n",
      "Outputted filtered articles to predict to file : stock_market_CBC_article_keyword_to_predict.csv\n"
     ]
    }
   ],
   "source": [
    "get_keyword_df([\"tsx\",\"stock\", \"dow\",\"nasdaq\"],\"stock_market_CBC_article_to_predict.csv\",\"stock_market_CBC_article_keyword_to_predict.csv\")    "
   ]
  },
  {
   "cell_type": "markdown",
   "metadata": {},
   "source": [
    "## GDP\n",
    "### keywords = [\"gdp\", \"economy\"]"
   ]
  },
  {
   "cell_type": "code",
   "execution_count": 89,
   "metadata": {},
   "outputs": [
    {
     "name": "stdout",
     "output_type": "stream",
     "text": [
      "Total articles retrieved:  43\n",
      "Outputted filtered articles to predict to file : GDP_CBC_article_keyword_to_predict.csv\n"
     ]
    }
   ],
   "source": [
    "get_keyword_df([\"gdp\", \"economy\"],\"GDP_CBC_article_to_predict.csv\",\"GDP_CBC_article_keyword_to_predict.csv\")    "
   ]
  },
  {
   "cell_type": "markdown",
   "metadata": {},
   "source": [
    "## Housing\n",
    "### keywords = [\"housing\", \"housing price\", \"rent\"]"
   ]
  },
  {
   "cell_type": "code",
   "execution_count": 90,
   "metadata": {},
   "outputs": [
    {
     "name": "stdout",
     "output_type": "stream",
     "text": [
      "Total articles retrieved:  141\n",
      "Outputted filtered articles to predict to file : housing_prices_CBC_article_keyword_to_predict.csv\n"
     ]
    }
   ],
   "source": [
    "get_keyword_df([\"housing\", \"housing price\", \"rent\"],\"housing_prices_CBC_article_to_predict.csv\",\"housing_prices_CBC_article_keyword_to_predict.csv\")    "
   ]
  },
  {
   "cell_type": "markdown",
   "metadata": {},
   "source": [
    "\n",
    "## Mortgage rates\n",
    "#### Keywords = [\"mortgage\", \"rent\", \"housing\", \"interest\"]\n",
    "\n",
    "\n"
   ]
  },
  {
   "cell_type": "code",
   "execution_count": 93,
   "metadata": {},
   "outputs": [
    {
     "name": "stdout",
     "output_type": "stream",
     "text": [
      "Total articles retrieved:  94\n",
      "Outputted filtered articles to predict to file : mortgage_rates_CBC_article_keyword_to_predict.csv\n"
     ]
    }
   ],
   "source": [
    "get_keyword_df([\"mortgage\", \"rent\", \"housing\", \"interest\"],\"mortgage_rates_CBC_article_to_predict.csv\",\"mortgage_rates_CBC_article_keyword_to_predict.csv\")    "
   ]
  },
  {
   "cell_type": "markdown",
   "metadata": {},
   "source": [
    "## Employment\n",
    "#### Keywords = [\"employment\", \"jobs\", \"recession\", \"job\"]\n",
    "\n"
   ]
  },
  {
   "cell_type": "code",
   "execution_count": 96,
   "metadata": {},
   "outputs": [
    {
     "name": "stdout",
     "output_type": "stream",
     "text": [
      "Total articles retrieved:  235\n",
      "Outputted filtered articles to predict to file : employment_CBC_article_keyword_to_predict.csv\n"
     ]
    }
   ],
   "source": [
    "get_keyword_df([\"employment\", \"jobs\", \"recession\", \"job\"],\"employment_CBC_article_to_predict.csv\",\"employment_CBC_article_keyword_to_predict.csv\")    "
   ]
  },
  {
   "cell_type": "markdown",
   "metadata": {},
   "source": [
    "## Interest rates\n",
    "#### Keywords = [\"interest\", \"rate\"]"
   ]
  },
  {
   "cell_type": "code",
   "execution_count": 97,
   "metadata": {},
   "outputs": [
    {
     "name": "stdout",
     "output_type": "stream",
     "text": [
      "Total articles retrieved:  115\n",
      "Outputted filtered articles to predict to file : interest_rates_CBC_article_keyword_to_predict.csv\n"
     ]
    }
   ],
   "source": [
    "get_keyword_df([\"interest\", \"rate\"],\"interest_rates_CBC_article_to_predict.csv\",\"interest_rates_CBC_article_keyword_to_predict.csv\")    "
   ]
  },
  {
   "cell_type": "code",
   "execution_count": null,
   "metadata": {},
   "outputs": [],
   "source": []
  }
 ],
 "metadata": {
  "kernelspec": {
   "display_name": "Python 3",
   "language": "python",
   "name": "python3"
  },
  "language_info": {
   "codemirror_mode": {
    "name": "ipython",
    "version": 3
   },
   "file_extension": ".py",
   "mimetype": "text/x-python",
   "name": "python",
   "nbconvert_exporter": "python",
   "pygments_lexer": "ipython3",
   "version": "3.7.3"
  }
 },
 "nbformat": 4,
 "nbformat_minor": 2
}
