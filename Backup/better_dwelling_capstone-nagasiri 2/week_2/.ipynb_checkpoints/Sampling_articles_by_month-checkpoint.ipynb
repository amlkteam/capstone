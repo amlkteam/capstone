{
 "cells": [
  {
   "cell_type": "code",
   "execution_count": 42,
   "metadata": {},
   "outputs": [],
   "source": [
    "import urllib.request\n",
    "import json \n",
    "from bs4 import BeautifulSoup\n",
    "#from datetime import date\n",
    "import requests\n",
    "import json\n",
    "from urllib.request import Request, urlopen\n",
    "from urllib.error import URLError, HTTPError\n",
    "from datetime import datetime, timedelta\n",
    "import datetime\n",
    "import pytz\n",
    "import dateutil.parser\n",
    "from collections import defaultdict\n",
    "import random\n",
    "import json\n",
    "import csv"
   ]
  },
  {
   "cell_type": "code",
   "execution_count": 88,
   "metadata": {},
   "outputs": [],
   "source": [
    "def json_to_csv(filename,list_name):\n",
    "    \"\"\"creates a csv containing title and description of articles in a given JSON\"\"\"\n",
    "    ind = 0\n",
    "    title_list = []\n",
    "    desc_list = []\n",
    "    date_list =[]\n",
    "\n",
    "    for json_dict in list_name:\n",
    "        #check if valid title exists\n",
    "        if json_dict[\"title\"]:\n",
    "            title_list.append(json_dict[\"title\"])\n",
    "            desc_list.append(json_dict[\"description\"])\n",
    "            date_list.append(dateutil.parser.parse(json_dict['publishedAt'][1]).month)\n",
    "            ind += 1\n",
    "            \n",
    "            \n",
    "    prefix = filename.split(\".\")[0]\n",
    "    out_filename = prefix  + \"_\" + str(ind) + \"_to_annotate.csv\"\n",
    "    with open(out_filename, 'w') as myfile:\n",
    "        writer = csv.writer(myfile)\n",
    "        #wr.writerow(mylist)\n",
    "        writer.writerow([\"title\", \"description\"])\n",
    "        for i in range(len(title_list)):\n",
    "            writer.writerow([title_list[i], desc_list[i], date_list[i]])\n",
    "                \n",
    "                \n",
    "# json_to_csv(\"mortgage_rates_CBC_article.json\")"
   ]
  },
  {
   "cell_type": "code",
   "execution_count": 90,
   "metadata": {},
   "outputs": [],
   "source": [
    "\n",
    "def extract_subset_in_csv(filename, sample_size):\n",
    "    article_dictionary_by_month = defaultdict(list)\n",
    "    with open(filename) as f:\n",
    "        data = json.load(f)\n",
    "        full_list = []\n",
    "        for json_dict in data:\n",
    "            if json_dict['publishedAt'] == None or json_dict['title'] == None or json_dict['description'] == None or json_dict['content'] == None :\n",
    "                pass\n",
    "            else:\n",
    "                article_date = (dateutil.parser.parse(json_dict['publishedAt'][1]))\n",
    "                article_month = article_date.month\n",
    "                article_dictionary_by_month[article_month].append(json_dict)\n",
    "                \n",
    "        for month_number, list_of_articles in sorted(article_dictionary_by_month.items()):\n",
    "            random.shuffle(list_of_articles)\n",
    "            subset_list = list_of_articles[:sample_size]\n",
    "            full_list = full_list + subset_list\n",
    "        json_to_csv(filename,full_list)\n",
    "\n",
    "extract_subset_in_csv(\"mortgage_rates_CBC_article_full.json\", 5)"
   ]
  },
  {
   "cell_type": "code",
   "execution_count": 71,
   "metadata": {},
   "outputs": [],
   "source": [
    "# for i in sorted(article_dictionary_by_month.keys()):\n",
    "#     print(\"For month = \",i,\", number of articles are\", len(article_dictionary_by_month[i]))"
   ]
  },
  {
   "cell_type": "code",
   "execution_count": 37,
   "metadata": {},
   "outputs": [],
   "source": [
    "economic_indicators_articles = [\"employment_CBC_article.json\", \"GDP_CBC_article.json\", \"housing_price_CBC_article.json\", \"mortgage_rates_CBC_article.json\",\"stock_market_CBC_article.json\"]"
   ]
  },
  {
   "cell_type": "code",
   "execution_count": 72,
   "metadata": {},
   "outputs": [],
   "source": [
    "for ec in economic_indicators_articles:\n",
    "    extract_subset_in_csv(ec, 5)"
   ]
  },
  {
   "cell_type": "code",
   "execution_count": null,
   "metadata": {},
   "outputs": [],
   "source": [
    "df = pd.read"
   ]
  }
 ],
 "metadata": {
  "kernelspec": {
   "display_name": "Python 3",
   "language": "python",
   "name": "python3"
  },
  "language_info": {
   "codemirror_mode": {
    "name": "ipython",
    "version": 3
   },
   "file_extension": ".py",
   "mimetype": "text/x-python",
   "name": "python",
   "nbconvert_exporter": "python",
   "pygments_lexer": "ipython3",
   "version": "3.7.3"
  }
 },
 "nbformat": 4,
 "nbformat_minor": 2
}
