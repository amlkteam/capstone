{
 "cells": [
  {
   "cell_type": "code",
   "execution_count": 264,
   "metadata": {},
   "outputs": [],
   "source": [
    "### CBC SCRAPING CODE\n",
    "### Authors: JONATHAN CHAN and PANDRAMISHI NAGA SIRISHA\n",
    "\n",
    "###MOST RECENT UPDATE:  \n",
    "##2020 MAY 15, 11:52AM\n",
    "#wrote separate functions for each JSON element to be collected\n",
    "#extract_json_items() will run for all articles, and will return null if not in proper format\n",
    "\n",
    "#TO DO:\n",
    "#write code for collecting JSON items from all articles returned in CBC API (code cell 4)\n",
    "#write code to iterate through multiple pages of API call \n",
    "#done\n",
    "#write code to store JSON in a JSON or text document\n",
    "#Final run: collect 50-100 articles for each of 6 indicators"
   ]
  },
  {
   "cell_type": "code",
   "execution_count": 1,
   "metadata": {},
   "outputs": [],
   "source": [
    "import urllib.request\n",
    "import json \n",
    "from bs4 import BeautifulSoup\n",
    "#from datetime import date\n",
    "import requests\n",
    "import json\n",
    "from urllib.request import Request, urlopen\n",
    "from urllib.error import URLError, HTTPError\n",
    "from datetime import datetime, timedelta\n",
    "import datetime\n",
    "import pytz\n",
    "import dateutil.parser\n"
   ]
  },
  {
   "cell_type": "code",
   "execution_count": 2,
   "metadata": {},
   "outputs": [
    {
     "name": "stdout",
     "output_type": "stream",
     "text": [
      "FIRST URL API CALL:  https://www.cbc.ca/search_api/v1/search?q=interest%20rate%20index&sortOrder=relevance&page=1&fields=feed\n"
     ]
    },
    {
     "data": {
      "text/plain": [
       "'https://www.cbc.ca/search_api/v1/search?q=interest%20rate%20index&sortOrder=relevance&page=1&fields=feed'"
      ]
     },
     "execution_count": 2,
     "metadata": {},
     "output_type": "execute_result"
    }
   ],
   "source": [
    "#https://www.cbc.ca/search_api/v1/search?q=mortgage%20rate&sortOrder=relevance&page=100&fields=feed\n",
    "def get_initial_url(search_term):\n",
    "    \"\"\"returns the URL of the first page API call given a search string\"\"\"\n",
    "    \n",
    "    words = search_term.split()\n",
    "    url_prefix = \"https://www.cbc.ca/search_api/v1/search?\"\n",
    "    query = \"q=\" + \"%20\".join(words)\n",
    "    url_suffix = \"&sortOrder=relevance&page=1&fields=feed\"\n",
    "    first_url = url_prefix + query + url_suffix\n",
    "    print(\"FIRST URL API CALL: \", first_url)\n",
    "    return first_url\n",
    "    \n",
    "get_initial_url(\"interest rate index\")"
   ]
  },
  {
   "cell_type": "code",
   "execution_count": 3,
   "metadata": {},
   "outputs": [],
   "source": [
    "# yourdate = dateutil.parser.parse('2020-05-13T14:48:05.000Z')\n",
    "# print(yourdate)\n",
    "# yourdate > past"
   ]
  },
  {
   "cell_type": "code",
   "execution_count": 4,
   "metadata": {},
   "outputs": [],
   "source": [
    "def scrape_urls(url):\n",
    "    \"\"\"This function takes in the first query url and scrapes all other articles from past 1 year and returns \n",
    "    the urls of such articles\"\"\"\n",
    "    count = 0\n",
    "    url_list = []\n",
    "    current_date = datetime.datetime.now(datetime.timezone.utc)\n",
    "    last_year_date = current_date - timedelta(days=365)\n",
    "    main_url = url\n",
    "    r = requests.get(url)\n",
    "    info = r.json()\n",
    "    last_retrieved_items_count= len(info)\n",
    "    \n",
    "    for i in info:\n",
    "        \n",
    "        if dateutil.parser.parse(i['publishtime']) > last_year_date:\n",
    "            url_list.append(i['url'])\n",
    "            count += 1\n",
    "        \n",
    "    page_number = 2\n",
    "    \n",
    "    while last_retrieved_items_count > 0 :\n",
    "#     while count < 25 :\n",
    "        split_url = main_url.split('page')\n",
    "        new_url = split_url[0] + \"page=\" + str(page_number) + \"&fields=feed\" \n",
    "        r = requests.get(new_url)\n",
    "        info = r.json()\n",
    "        last_retrieved_items_count= len(info)\n",
    "        \n",
    "        for i in info:\n",
    "            \n",
    "            if dateutil.parser.parse(i['publishtime']) > last_year_date:\n",
    "                url_list.append(i['url'])\n",
    "                count += 1\n",
    "                \n",
    "        page_number += 1   \n",
    "        print(page_number)\n",
    "    return url_list\n",
    "\n",
    "# first_url = get_initial_url(\"supernova\")\n",
    "# all_urls = scrape_urls(first_url)"
   ]
  },
  {
   "cell_type": "code",
   "execution_count": 5,
   "metadata": {},
   "outputs": [],
   "source": [
    "def get_author(soup):\n",
    "    \"\"\"returns the author of a BeautifulSoup article if it exists, None if cannot be found\n",
    "    \n",
    "    Assume author info is contained within span tag (class: authorText)\n",
    "    \"\"\"\n",
    "    author_span = soup.find(\"span\", {\"class\": \"authorText\"})\n",
    "    \n",
    "    if author_span:\n",
    "        return author_span.text\n",
    "    else:\n",
    "        #print(\"No author found in article!\")\n",
    "        return None"
   ]
  },
  {
   "cell_type": "code",
   "execution_count": 6,
   "metadata": {},
   "outputs": [],
   "source": [
    "def get_title(soup):\n",
    "    \"\"\"returns the title of a BeautifulSoup article if it exists, None if cannot be found\n",
    "    \n",
    "    Assume title info is contained within h1 tag (class: detailHeadline)\n",
    "    \"\"\"\n",
    "    title_tag = soup.find(\"h1\", {\"class\": \"detailHeadline\"})\n",
    "    \n",
    "    if title_tag:\n",
    "        title_text = title_tag.text\n",
    "        return title_text\n",
    "    else:\n",
    "        #print(\"no title found in article!\")\n",
    "        return None"
   ]
  },
  {
   "cell_type": "code",
   "execution_count": 7,
   "metadata": {},
   "outputs": [],
   "source": [
    "def get_desc(soup):\n",
    "    \"\"\"returns the description of a BeautifulSoup article if it exists, None if not\n",
    "    \n",
    "    Assume description is contained within h2 tag (class: deck)\n",
    "    \"\"\"\n",
    "    desc_tag = soup.find(\"h2\", {\"class\": \"deck\"})\n",
    "    \n",
    "    if desc_tag:\n",
    "        desc_text = desc_tag.text\n",
    "        return desc_text\n",
    "    else:\n",
    "        #print(\"No description found in article!\")\n",
    "        return None\n",
    "    "
   ]
  },
  {
   "cell_type": "code",
   "execution_count": 8,
   "metadata": {},
   "outputs": [],
   "source": [
    "def get_url_to_image(soup):\n",
    "    \"\"\"returns the url to the header image of a CBC article (BeautifulSoup) if it exists, None if not\n",
    "    \n",
    "    Assume image url is contained within src attribute of img tag \n",
    "    \"\"\"\n",
    "    main_image_tag = soup.find(\"figure\", {\"class\": \"imageMedia leadmedia-story full\"})\n",
    "    \n",
    "    if main_image_tag:\n",
    "        main_image_url = main_image_tag.find(\"img\").attrs[\"src\"]\n",
    "        return main_image_url\n",
    "    else:\n",
    "        #print(\"No main header image found in article!\")\n",
    "        return None\n",
    "        "
   ]
  },
  {
   "cell_type": "code",
   "execution_count": 9,
   "metadata": {},
   "outputs": [],
   "source": [
    "def get_publish_time(soup):\n",
    "    \"\"\"returns a tuple of publish time string and datetime string if found in article, None if not\n",
    "    \n",
    "    Assume time is contained within time tag (class: timestamp)\n",
    "    \"\"\"\n",
    "    time_tag = soup.find(\"time\", {\"class\": \"timeStamp\"})\n",
    "    if time_tag:\n",
    "        datetime_str = time_tag.attrs[\"datetime\"]\n",
    "        \n",
    "        #NOTE: if we want to return a datetime object, error when writing to JSON\n",
    "        #datetime_obj = parser.isoparse(datetime_str)\n",
    "        #SOLUTION: return as string for now, convert to datetime object later in pipeline\n",
    "        \n",
    "        #format of time_tag.text: \n",
    "        timetext_str = time_tag.text.split(\"|\")[0].replace(\"Posted: \", \"\").strip()\n",
    "        return (timetext_str, datetime_str)\n",
    "    else:\n",
    "        #print(\"No time information found in article!\")\n",
    "        return None\n"
   ]
  },
  {
   "cell_type": "code",
   "execution_count": 10,
   "metadata": {},
   "outputs": [],
   "source": [
    "def get_source(soup, specify_source_type=True):\n",
    "    \"\"\"Returns the source of the article if it exists\n",
    "    if specify_source_type, subdivision of CBC will be returned\n",
    "    if not, \"CBC\" will be returned as the source\n",
    "    \n",
    "    \n",
    "    Assume that source always starts with \"CBC\" (Ex: \"CBC news\", \"CBC radio\")\n",
    "    Assume that source comes before span tag (class: bullet)\n",
    "    \"\"\"\n",
    "    \n",
    "    #source appears before <span class=\"bullet\"> · </span>\n",
    "    #if author is attached, there are two bullet tags\n",
    "    #if no author attached, there is one bullet tag\n",
    "    source = None\n",
    "    \n",
    "    if specify_source_type:\n",
    "        bullet_spans = soup.find_all(\"span\", {\"class\": \"bullet\"})\n",
    "        for bullet_span in bullet_spans:\n",
    "            previous_str = str(bullet_span.previous_sibling)\n",
    "            if previous_str.startswith(\"CBC\"):\n",
    "                source = previous_str\n",
    "    else:\n",
    "        \n",
    "        source = \"CBC\"\n",
    "    \n",
    "    if source:\n",
    "        return source\n",
    "    else:\n",
    "        #print(\"no source found in article!\")\n",
    "        return None\n",
    "    "
   ]
  },
  {
   "cell_type": "code",
   "execution_count": 11,
   "metadata": {},
   "outputs": [],
   "source": [
    "\n",
    "def get_content(soup, as_string=True):\n",
    "    \"\"\"Returns the text content from a CBC article (as BeautifulSoup object)\n",
    "    if as_string is True, return content as one string,\n",
    "    if as_string is False, return content as list of paragraph strings\n",
    "    \n",
    "    Input: BeautifulSoup object, boolean\n",
    "    \n",
    "    \"\"\"\n",
    "    \n",
    "    story_tag = soup.find(\"div\", {\"class\": \"story\"}) \n",
    "    content_list = []\n",
    "    \n",
    "    if story_tag:\n",
    "        for p_tag in story_tag.find_all(\"p\"):\n",
    "            p_text = p_tag.text + \"\\n\"\n",
    "            content_list.append(p_text)\n",
    "\n",
    "        if as_string:\n",
    "            final_content = \"\".join(content_list)\n",
    "        else:\n",
    "            final_content = content_list #return content as list of paragraph strings\n",
    "\n",
    "        return final_content\n",
    "    else:\n",
    "        #print(\"no content found in article!\")\n",
    "        return None\n",
    "    \n",
    "# get_content(soup)"
   ]
  },
  {
   "cell_type": "code",
   "execution_count": null,
   "metadata": {},
   "outputs": [],
   "source": []
  },
  {
   "cell_type": "code",
   "execution_count": 12,
   "metadata": {},
   "outputs": [],
   "source": [
    "#NEW - USING NEW FUNCTIONS: \n",
    "def extract_json_items(url, specify_source_type=True):\n",
    "    \"\"\"Returns a json containing the following items from a CBC article:\n",
    "        url: the url of the article\n",
    "        urlToImage: the url of the header image\n",
    "        title: the title of the article \n",
    "        description: subheader of the article\n",
    "        author: author (note that some articles do not specify author)\n",
    "        source: CBC if specify_source_type == False, subdivision of CBC if True (ex: \"CBC radio\")\n",
    "        publishedAt: tuple of (date_string, datetime object)\n",
    "        \n",
    "        input: url returned from CBC API in \"url\" field (missing \"http:\" as part of URL)\n",
    "    \"\"\"\n",
    "    json_dict = {}\n",
    "#     output_list = [] \n",
    "    article_url = \"http:\" + url\n",
    "    \n",
    "    #get HTML from article URL into BeautifulSoup\n",
    "    try:\n",
    "        html_bytes = urllib.request.urlopen(article_url)\n",
    "  \n",
    "    except HTTPError as e:\n",
    "        print('Error code: ', e.code)\n",
    "        return None\n",
    "    except URLError as e:\n",
    "        print('Reason: ', e.reason)\n",
    "        return None\n",
    "\n",
    "    else:    \n",
    "        mybytes = html_bytes.read()\n",
    "        html = mybytes.decode(\"utf8\")\n",
    "        html_bytes.close()\n",
    "        soup = BeautifulSoup(html, 'html.parser')\n",
    "        author_name = get_author(soup)\n",
    "        title_text = get_title(soup)\n",
    "        desc_text = get_desc(soup)\n",
    "        image_url = get_url_to_image(soup)\n",
    "        publish_time = get_publish_time(soup)\n",
    "        news_source = get_source(soup)\n",
    "        content = get_content(soup, True)\n",
    "        \n",
    "        json_dict[\"author\"] = author_name\n",
    "        json_dict[\"title\"] = title_text \n",
    "        json_dict[\"description\"] = desc_text\n",
    "        json_dict[\"url\"] = article_url\n",
    "        json_dict[\"urlToImage\"] = image_url\n",
    "        json_dict[\"publishedAt\"] = publish_time\n",
    "        json_dict[\"source\"] = news_source\n",
    "        json_dict[\"content\"] = content\n",
    "#         print(\"JSON KEYS AND VALUES: \")\n",
    "#         for key, item in json_dict.items():\n",
    "#             print(key + \": \" + str(item))\n",
    "#         print(\"-----\")\n",
    "        \n",
    "        final_json = json.dumps(json_dict)\n",
    "        return json_dict\n"
   ]
  },
  {
   "cell_type": "code",
   "execution_count": 13,
   "metadata": {},
   "outputs": [
    {
     "data": {
      "text/plain": [
       "{'author': 'Pete Evans',\n",
       " 'title': 'U.S. Fed chair rules out negative interest rates even as Trump trumpets them',\n",
       " 'description': 'U.S. president goes negative on Jerome Powell for rejection of below-zero interest rates',\n",
       " 'url': 'http://www.cbc.ca/news/business/powel-trump-negative-rates-1.5567512',\n",
       " 'urlToImage': 'https://i.cbc.ca/1.5258204.1566589338!/fileImage/httpImage/image.jpg_gen/derivatives/16x9_780/869482910.jpg',\n",
       " 'publishedAt': ('May 13, 2020 10:48 AM ET', '2020-05-13T15:17:41.088Z'),\n",
       " 'source': 'CBC News',\n",
       " 'content': 'The head of the Federal Reserve said Wednesday the U.S. central bank is not considering using negative interest rates, despite President Donald Trump seemingly pushing for them.\\nIn a tweet Tuesday night, the president said other countries are enjoying the advantages of negative interest rates, and he urged his own central bank to accept the \"gift\" they would bestow on the U.S. economy.\\nTypically central banks tinker with lending rates in an attempt to control inflation, raising rates when they want to cool down an overheated economy, and cutting them when they want to encourage borrowing and investment. But in recent years, central banks in Europe and Asia have gone as far as making their interest rates go below zero in an attempt to counter unprecedented economic situations.\\n\"As long as other countries are receiving the benefits of Negative Rates, the USA should also accept the \\'GIFT\\',\" Trump tweeted.\\nAs long as other countries are receiving the benefits of Negative Rates, the USA should also accept the “GIFT”. Big numbers!\\nThe president has long criticized his central bank chief for keeping interest rates higher than Trump would like them to be. That\\'s largely because cheap lending rates tend to be good news for the stock market, which Trump is understood to view as a proxy for his own popularity and economic aptitude.\\nCurrently, the U.S. Fed\\'s benchmark interest rate is set at 0.25 per cent.\\nSpeaking at a think-tank in Washington, D.C., on Wednesday morning, Powell addressed the economic impact of the coronavirus. He was asked by reporters afterward whether or not the bank was considering negative interest rates.\\n\"I know there are fans of the policy, but for now it\\'s not something that we\\'re considering,\" Powell said. \"The committee\\'s view on negative rates really has not changed …. This is not something that we\\'re looking at.\"\\nPowell\\'s reluctance to go negative may be wise. While other countries have tried it, Karl Schamotta, chief market strategist of Cambridge Global Payments, says there is some\\xa0academic research to suggest that negative rates could harm the U.S. economy\\xa0by raising precautionary savings rates and reducing incentives to lend.\\n\"As the euro area, Japan, Sweden\\xa0and Switzerland have shown, there\\'s no conclusive evidence to suggest that negative rates lift lending, growth\\xa0or inflation,\" Schamotta said.\\nWhile pouring cold water on the idea of negative rates, Powell didn\\'t suggest the Fed planned to stay on the sidelines while the U.S. economy goes through what he described as an experience \"significantly worse\" than any recession seen since the Second World War.\\nPowell cautioned that widespread bankruptcies among small businesses and extended unemployment for many people remain a serious risk.\\n\"We ought to do what we can to avoid these outcomes,\" Powell said.\\nBank of Montreal economist Michael Gregory said there\\'s a lot that the Fed can still do besides negative savings rates.\\n\"The Fed has more policy cards up its sleeve, and is more than willing to play them to promote economic recovery,\" he said. \"And it won\\'t be taking these cards off the table for a while.\"\\n'}"
      ]
     },
     "execution_count": 13,
     "metadata": {},
     "output_type": "execute_result"
    }
   ],
   "source": [
    "extract_json_items('//www.cbc.ca/news/business/powel-trump-negative-rates-1.5567512')"
   ]
  },
  {
   "cell_type": "code",
   "execution_count": 386,
   "metadata": {},
   "outputs": [],
   "source": [
    "def main(query):\n",
    "    first_url = get_initial_url(query)\n",
    "    all_urls = scrape_urls(first_url)\n",
    "    json_list = []\n",
    "    \n",
    "    for each_url in all_urls:\n",
    "        retrieved_json  = extract_json_items(each_url)\n",
    "        if retrieved_json is not None:\n",
    "            print(each_url)\n",
    "            json_list.append(retrieved_json)\n",
    "    \n",
    "    full_query = query.split(\" \")\n",
    "    file_name_prefix = \"_\".join(full_query)\n",
    "    print(file_name_prefix)\n",
    "    \n",
    "    with open( file_name_prefix + '_' +'CBC_article' + '.json', 'w') as json_file:\n",
    "        json.dump(json_list, json_file)\n",
    "    \n",
    "    return json_list\n",
    "\n"
   ]
  },
  {
   "cell_type": "markdown",
   "metadata": {},
   "source": [
    "## Mortgage Rates"
   ]
  },
  {
   "cell_type": "code",
   "execution_count": 387,
   "metadata": {},
   "outputs": [
    {
     "name": "stdout",
     "output_type": "stream",
     "text": [
      "FIRST URL API CALL:  https://www.cbc.ca/search_api/v1/search?q=mortgage%20rates&sortOrder=relevance&page=1&fields=feed\n",
      "3\n",
      "4\n",
      "5\n",
      "6\n",
      "7\n",
      "8\n",
      "9\n",
      "10\n",
      "11\n",
      "12\n",
      "//www.cbc.ca/news/business/bank-of-canada-thursday-1.5569391\n",
      "//www.cbc.ca/news/business/interest-rates-coronavirus-evans-1.5515884\n",
      "//www.cbc.ca/news/business/coronavirus-mortgage-rates-canada-1.5443071\n",
      "//www.cbc.ca/news/business/powel-trump-negative-rates-1.5567512\n",
      "//www.cbc.ca/news/canada/calgary/alberta-mortgages-arrears-august-report-from-february-2019-data-1.5246010\n",
      "//www.cbc.ca/news/business/canadian-mortgage-rates-analysis-1.5164774\n",
      "//www.cbc.ca/news/canada/hamilton/hamilton-economy-coronavirus-1.5566804\n",
      "//www.cbc.ca/news/business/housing-starts-april-1.5561214\n",
      "//www.cbc.ca/news/politics/federal-deficit-higher-than-252-billion-1.5566768\n",
      "//www.cbc.ca/news/canada/british-columbia/covid-19-may-real-estate-1.5562836\n",
      "//www.cbc.ca/news/canada/newfoundland-labrador/vianne-timmons-pov-women-1.5559214\n",
      "//www.cbc.ca/news/business/canada-jobs-april-1.5561001\n",
      "//www.cbc.ca/news/canada/toronto/ontario-covid19-april-jobs-1.5562034\n",
      "//www.cbc.ca/news/canada/calgary/alberta-april-labour-force-survey-covid-19-economic-shutdown-1.5561446\n",
      "//www.cbc.ca/news/business/united-states-coronavirus-jobs-unemployment-april-1.5561026\n",
      "//www.cbc.ca/news/business/fed-renew-pledge-1.5548953\n",
      "//www.cbc.ca/news/business/cmhc-mortgage-program-1.5510802\n",
      "//www.cbc.ca/news/canada/toronto/will-more-listings-fewer-renters-mean-drop-in-rent-for-condos-1.5551464\n",
      "//www.cbc.ca/player/play/1722983491858\n",
      "//www.cbc.ca/news/politics/covid-pandemic-coronavirus-deficit-debt-1.5561513\n",
      "//www.cbc.ca/news/politics/bank-of-canada-tiff-macklem-1.5551828\n",
      "//www.cbc.ca/news/big-six-banks-credit-card-interest-rates-relief-covid-19-1.5522343\n",
      "//www.cbc.ca/news/business/big-six-banks-credit-card-interest-rates-relief-covid-19-1.5522343\n",
      "//www.cbc.ca/news/canada/montreal/programs/daybreak/bank-of-canada-s-interest-rate-cut-1.5488331\n",
      "//www.cbc.ca/archives/why-high-interest-rates-were-a-problem-for-80s-renters-too-1.5501499\n",
      "//www.cbc.ca/news/canada/montreal/quebec-job-numbers-unemployment-covid-19-1.5527589\n",
      "//www.cbc.ca/news/canada/prince-edward-island/pei-mortgage-changes-trainor-1.5472793\n",
      "//www.cbc.ca/player/play/1707557955587\n",
      "//www.cbc.ca/player/play/1706560067565\n",
      "//www.cbc.ca/news/canada/ottawa/programs/allinaday/money-column-interest-rate-cut-1.5486004\n",
      "//www.cbc.ca/news/business/bank-of-canada-rate-decision-1.5532829\n",
      "mortgage_rates\n",
      "31\n",
      "{'author': 'Pete Evans', 'title': 'Mortgage arrears rate could spike to double what it was in 2009, Bank of Canada says', 'description': 'Central bank says number of people falling behind on mortgages could almost quadruple', 'url': 'http://www.cbc.ca/news/business/bank-of-canada-thursday-1.5569391', 'urlToImage': 'https://i.cbc.ca/1.5552028.1588340177!/fileImage/httpImage/image.JPG_gen/derivatives/16x9_780/canada-cenbank-governor.JPG', 'publishedAt': ('May 14, 2020 10:33 AM ET', '2020-05-14T17:04:31.829Z'), 'source': 'CBC News', 'content': 'Emergency measures to deal with the economic impact of the COVID-19 pandemic are showing encouraging signs of working, but Canada\\'s economy is still facing an uncertain future, the Bank of Canada says.\\nLike other policymakers, Canada\\'s\\xa0central bank has spent the last two months making a flurry of policy decisions to ease the flow of credit, including\\xa0slashing its target interest rate and embarking on an unprecedented bond-buying program.\\nThe report suggests these measures have helped ease liquidity strains and provide easy access to short-term credit for companies and households.\\n\"We entered this global health crisis with a strong economy and resilient financial system,\" outgoing governor Stephen Poloz said. \"This will support the recovery. But we know that debt levels are going to rise, so the right combination of economic policies will be important, too.\"\\nOne of the issues on the bank\\'s radar will be the number of people having\\xa0trouble staying on top of their mortgages.\\nThe bank said that if no new policies had been implemented in response to the unprecedented economic impact of COVID-19, the mortgage arrears rate may\\xa0have risen\\xa0to 2.1 per cent of all loans by the end of this year. That means more than one out of every 50 homeowners would be at least three months behind on their payments\\xa0— almost 10 times the number that were before the COVID-19 crisis.\\nAs it stands, because of some of the policies put in place, the bank says that under the current worst case scenario, the\\xa0mortgage arrears rate will spike to about 0.8 per cent and remain on a much flatter curve that doesn\\'t peak until next year, once payment deferral plans offered by the big banks at the outset of this crisis\\xa0are set to expire.\\nCurrently, the mortgage arrears rate is at slightly more than 0.2\\xa0per cent. If the rate peaks to 0.8 per cent, that would be roughly twice as high as its highest point during the financial crisis of 2009.\\xa0\\nThe bank did caution that those forecasts are assuming the worst case scenario for its stress-test modelling, and far more optimistic scenarios could play out.\\n\"The unprecedented nature of the pandemic .. makes the uncertainty around the results exceptionally high,\" the bank said.\\nWe already know about record-setting job losses during the\\xa0pandemic, but the bank gave some new data regarding just how many people are finding it hard to make ends meet.\\nBy its calculations, the bank says about one out of every five home-owning households\\xa0in Canada doesn\\'t currently have enough money to cover two months\\'\\xa0worth of expenses, and almost one third don\\'t have enough to cover four months\\'\\xa0worth.\\nEven despite the financial support programs, such as\\xa0wage subsidies, implemented by the federal government, \"some households are likely to fall behind on their loan payments,\" the bank said.\\xa0\"This typically appears first in missed credit card and auto loan payments and later in mortgage payments.\"\\nWatch | Deputy governor Carolyn Wilkins on the outlook for Canada\\'s housing market:\\nThat\\'s not just a problem for homeowners, either, Toronto-Dominion Bank economist Brian DePratto\\xa0says.\\n\"Renters are not immune, as they are more likely to work in industries most affected by COVID-19,\" he said. \"The longer the income shock, the greater the risk of increased consumer insolvencies.\\n\"Broad-based income support measures can only last so long, making the gradual economic reopening crucial to the health of the Canadian economy\\'s financial underpinnings.\"\\n'}\n"
     ]
    }
   ],
   "source": [
    "cbc_mr_article = main(\"mortgage rates\")\n",
    "print(len(cbc_mr_article))\n",
    "print(cbc_mr_article[0])"
   ]
  },
  {
   "cell_type": "code",
   "execution_count": 388,
   "metadata": {},
   "outputs": [
    {
     "name": "stdout",
     "output_type": "stream",
     "text": [
      "31\n"
     ]
    }
   ],
   "source": [
    "print(len(cbc_mr_article))"
   ]
  },
  {
   "cell_type": "markdown",
   "metadata": {},
   "source": [
    "## Interest rates"
   ]
  },
  {
   "cell_type": "code",
   "execution_count": 375,
   "metadata": {},
   "outputs": [
    {
     "name": "stdout",
     "output_type": "stream",
     "text": [
      "FIRST URL API CALL:  https://www.cbc.ca/search_api/v1/search?q=housing%20price&sortOrder=relevance&page=1&fields=feed\n",
      "3\n",
      "4\n",
      "//www.cbc.ca/player/play/1737914435690\n",
      "//www.cbc.ca/player/play/1634936899915\n",
      "//www.cbc.ca/news/canada/ottawa/programs/intownandout/housing-prices-1.5345612\n",
      "//www.cbc.ca/player/play/656163395811\n",
      "//www.cbc.ca/player/play/1525719619771\n",
      "//www.cbc.ca/news/canada/british-columbia/programs/onthecoast/may-21-2019-housing-prices-1.5144348\n",
      "//www.cbc.ca/news/canada/kitchener-waterloo/kitchener-waterloo-real-estate-housing-prices-2020-1.5417667\n",
      "//www.cbc.ca/news/canada/hamilton/hamilton-housing-sales-november-2019-rahb-1.5382229\n",
      "//www.cbc.ca/news/canada/edmonton/fort-vermilion-flood-housing-covid-19-1.5566780\n",
      "//www.cbc.ca/player/play/1602483779595\n",
      "//www.cbc.ca/news/thenational/will-a-1-tax-on-foreign-buyers-help-control-housing-prices-fact-check-1.5282050\n",
      "//gem.cbc.ca/media/the-weekly/season-2/episode-19/38e815a-01097de96e3\n",
      "//www.cbc.ca/news/canada/federal-election-campaigns-affordable-housing-1.5254614\n",
      "//www.cbc.ca/news/canada/toronto/toronto-home-sales-1.5237143\n",
      "//www.cbc.ca/news/canada/newfoundland-labrador/st-johns-housing-prices-going-up-moodys-1.5149461\n",
      "//www.cbc.ca/news/canada/british-columbia/metro-vancouver-housing-market-to-see-modest-price-growth-in-2020-and-2021-predicts-cmhc-1.5333608\n",
      "//www.cbc.ca/news/politics/pandemic-covid-coronavirus-trudeau-1.5566960\n",
      "housing_price\n",
      "17\n",
      "{'author': None, 'title': None, 'description': None, 'url': 'http://www.cbc.ca/player/play/1737914435690', 'urlToImage': None, 'publishedAt': None, 'source': None, 'content': None}\n"
     ]
    }
   ],
   "source": [
    "cbc_hp_article =  main(\"interest rates\")\n",
    "print(len(cbc_hp_article))\n",
    "print(cbc_hp_article[0])"
   ]
  },
  {
   "cell_type": "markdown",
   "metadata": {},
   "source": [
    "## Housing price"
   ]
  },
  {
   "cell_type": "code",
   "execution_count": 393,
   "metadata": {},
   "outputs": [
    {
     "name": "stdout",
     "output_type": "stream",
     "text": [
      "FIRST URL API CALL:  https://www.cbc.ca/search_api/v1/search?q=housing%20price&sortOrder=relevance&page=1&fields=feed\n",
      "3\n",
      "4\n",
      "5\n",
      "6\n",
      "7\n",
      "8\n",
      "9\n",
      "10\n",
      "11\n",
      "12\n",
      "13\n",
      "//www.cbc.ca/player/play/1737914435690\n",
      "//www.cbc.ca/player/play/1634936899915\n",
      "//www.cbc.ca/news/canada/ottawa/programs/intownandout/housing-prices-1.5345612\n",
      "//www.cbc.ca/player/play/656163395811\n",
      "//www.cbc.ca/player/play/1525719619771\n",
      "//www.cbc.ca/news/canada/british-columbia/programs/onthecoast/may-21-2019-housing-prices-1.5144348\n",
      "//www.cbc.ca/news/canada/kitchener-waterloo/kitchener-waterloo-real-estate-housing-prices-2020-1.5417667\n",
      "//www.cbc.ca/news/canada/hamilton/hamilton-housing-sales-november-2019-rahb-1.5382229\n",
      "//www.cbc.ca/news/canada/edmonton/fort-vermilion-flood-housing-covid-19-1.5566780\n",
      "//www.cbc.ca/player/play/1602483779595\n",
      "//www.cbc.ca/news/thenational/will-a-1-tax-on-foreign-buyers-help-control-housing-prices-fact-check-1.5282050\n",
      "//gem.cbc.ca/media/the-weekly/season-2/episode-19/38e815a-01097de96e3\n",
      "//www.cbc.ca/news/canada/federal-election-campaigns-affordable-housing-1.5254614\n",
      "//www.cbc.ca/news/canada/toronto/toronto-home-sales-1.5237143\n",
      "//www.cbc.ca/news/canada/newfoundland-labrador/st-johns-housing-prices-going-up-moodys-1.5149461\n",
      "//www.cbc.ca/news/canada/british-columbia/metro-vancouver-housing-market-to-see-modest-price-growth-in-2020-and-2021-predicts-cmhc-1.5333608\n",
      "//www.cbc.ca/news/politics/pandemic-covid-coronavirus-trudeau-1.5566960\n",
      "//www.cbc.ca/news/canada/british-columbia/covid-19-may-real-estate-1.5562836\n",
      "//www.cbc.ca/news/canada/ottawa/urban-boundary-public-delegations-two-days-1.5566424\n",
      "//www.cbc.ca/news/canada/manitoba/m%c3%a9tis-portage-main-bank-montreal-heritage-1.5565955\n",
      "//www.cbc.ca/news/canada/edmonton/edmonton-real-estate-coronavirus-april-2020-1.5554918\n",
      "//www.cbc.ca/news/canada/edmonton/flooding-fort-mcmurray-insurance-financial-aid-1.5554403\n",
      "//www.cbc.ca/news/indigenous/ns-rcmp-communications-centre-millbrook-1.5556652\n",
      "//www.cbc.ca/news/canada/ottawa/urban-boundary-density-debate-ottawa-1.5492618\n",
      "//www.cbc.ca/news/canada/ottawa/urban-boundary-untested-committee-format-1.5561471\n",
      "//www.cbc.ca/news/canada/saskatchewan/real-estate-market-regina-covid-19-1.5533914\n",
      "//www.cbc.ca/radio/costofliving/the-economy-with-a-capital-e-1.5542514\n",
      "//www.cbc.ca/news/canada/ottawa/covid-19-real-estate-ottawa-sellers-market-reduced-inventory-1.5539841\n",
      "//www.cbc.ca/news/canada/hamilton/hamilton-housing-market-drops-1.5532953\n",
      "//www.cbc.ca/news/canada/newfoundland-labrador/corner-brook-free-soup-1.5521047\n",
      "//www.cbc.ca/news/canada/saskatchewan/rents-regina-saskatoon-vacancy-rates-2020-1.5434307\n",
      "//www.cbc.ca/news/canada/toronto/will-more-listings-fewer-renters-mean-drop-in-rent-for-condos-1.5551464\n",
      "//www.cbc.ca/news/canada/thunder-bay/red-lake-kenora-homeless-1.5541687\n",
      "//www.cbc.ca/player/play/2664936812\n",
      "housing_price\n",
      "34\n",
      "{'author': None, 'title': None, 'description': None, 'url': 'http://www.cbc.ca/player/play/1737914435690', 'urlToImage': None, 'publishedAt': None, 'source': None, 'content': None}\n"
     ]
    }
   ],
   "source": [
    "cbc_hp_article = main('housing price')\n",
    "print(len(cbc_hp_article))\n",
    "print(cbc_hp_article[0])"
   ]
  },
  {
   "cell_type": "markdown",
   "metadata": {},
   "source": [
    "## Employment"
   ]
  },
  {
   "cell_type": "code",
   "execution_count": 389,
   "metadata": {},
   "outputs": [
    {
     "name": "stdout",
     "output_type": "stream",
     "text": [
      "FIRST URL API CALL:  https://www.cbc.ca/search_api/v1/search?q=employment&sortOrder=relevance&page=1&fields=feed\n",
      "3\n",
      "4\n",
      "//www.cbc.ca/player/play/1737553475798\n",
      "//www.cbc.ca/player/play/1736889411699\n",
      "//www.cbc.ca/news/canada/manitoba/manitoba-jobs-economy-analysis-1.5565090\n",
      "//www.cbc.ca/news/indigenous/first-nations-fishermen-manitoba-relief-1.5570593\n",
      "//www.cbc.ca/player/play/1735580739577\n",
      "//www.cbc.ca/news/canada/toronto/east-end-toronto-groups-launch-food-bank-1.5570514\n",
      "//www.cbc.ca/player/play/1733823555515\n",
      "//www.cbc.ca/player/play/1733910083634\n",
      "//www.cbc.ca/news/canada/thunder-bay/ontario-northland-bus-thunder-bay-winnipeg-1.5570191\n",
      "//www.cbc.ca/player/play/1733924931751\n",
      "//www.cbc.ca/player/play/1724965443646\n",
      "//www.cbc.ca/player/play/1712952899711\n",
      "//www.cbc.ca/news/politics/wayne-easter-emergency-response-benefit-fraud-1.5570545\n",
      "//www.cbc.ca/player/play/1713193027988\n",
      "//www.cbc.ca/player/play/1693717571885\n",
      "//www.cbc.ca/news/world/employment-gains-1.5452316\n",
      "//www.cbc.ca/player/play/1709652035734\n",
      "//www.cbc.ca/news/canada/north/nwt-schools-staying-closed-1.5570328\n",
      "//www.cbc.ca/player/play/1716314691751\n",
      "//www.cbc.ca/player/play/1712505411933\n",
      "//www.cbc.ca/player/play/1712505411933\n",
      "//www.cbc.ca/news/canada/nova-scotia/programs/informationmorningcapebreton/employment-coffee-houses-for-people-with-disabilities-1.5493582\n",
      "//www.cbc.ca/news/canada/nova-scotia/nova-scotia-employment-numbers-drop-covid-19-1.5529444\n",
      "//www.cbc.ca/player/play/1720854083727\n",
      "//www.cbc.ca/player/play/1720807491526\n",
      "//www.cbc.ca/news/canada/north/income-support-details-nwt-covid-19-1.5519037\n",
      "//www.cbc.ca/news/canada/saskatchewan/students-feel-summer-employment-crunch-1.5517858\n",
      "//www.cbc.ca/player/play/711592003765\n",
      "//www.cbc.ca/player/play/2548861945\n",
      "//www.cbc.ca/player/play/1712918083738\n",
      "employment\n",
      "30\n",
      "{'author': None, 'title': None, 'description': None, 'url': 'http://www.cbc.ca/player/play/1737553475798', 'urlToImage': None, 'publishedAt': None, 'source': None, 'content': None}\n"
     ]
    }
   ],
   "source": [
    "cbc_e_article = main('employment')\n",
    "print(len(cbc_e_article))\n",
    "print(cbc_e_article[0])"
   ]
  },
  {
   "cell_type": "markdown",
   "metadata": {},
   "source": [
    "## GDP"
   ]
  },
  {
   "cell_type": "code",
   "execution_count": 390,
   "metadata": {},
   "outputs": [
    {
     "name": "stdout",
     "output_type": "stream",
     "text": [
      "FIRST URL API CALL:  https://www.cbc.ca/search_api/v1/search?q=GDP&sortOrder=relevance&page=1&fields=feed\n",
      "3\n",
      "4\n",
      "5\n",
      "6\n",
      "7\n",
      "8\n",
      "9\n",
      "10\n",
      "11\n",
      "12\n",
      "13\n",
      "//www.cbc.ca/news/business/february-gdp-statscan-1.5550479\n",
      "//www.cbc.ca/news/business/january-gdp-1.5515908\n",
      "//www.cbc.ca/player/play/2676409093\n",
      "//www.cbc.ca/news/business/canada-gdp-november-1.5447173\n",
      "//www.cbc.ca/radio/costofliving/the-cost-of-running-either-for-election-or-a-deficit-1.5323745/canada-s-debt-to-gdp-ratio-isn-t-a-major-election-issue-but-should-it-be-1.5327355\n",
      "//www.cbc.ca/news/business/us-economy-reports-1.5375050\n",
      "//www.cbc.ca/news/canada-s-debt-to-gdp-ratio-isn-t-a-major-election-issue-but-should-it-be-1.5327513\n",
      "//www.cbc.ca/news/world/new-zealand-budget-1.5569118\n",
      "//www.cbc.ca/player/play/1626791491581\n",
      "//www.cbc.ca/news/politics/federal-deficit-higher-than-252-billion-1.5566768\n",
      "//www.cbc.ca/news/world/england-lockdown-1.5567345\n",
      "//www.cbc.ca/news/canada/hamilton/hamilton-economy-coronavirus-1.5566804\n",
      "//www.cbc.ca/news/canada/toronto/covid-19-coronavirus-may-11-emergency-order-extended-1.5564397\n",
      "//www.cbc.ca/news/canada/new-brunswick/covid-provincial-parks-trails-reopen-1.5568329\n",
      "//www.cbc.ca/news/canada/calgary/alberta-jason-kenney-covid-19-coronavirus-trevor-tombe-1.5544476\n",
      "//www.cbc.ca/news/canada/toronto/covid-19-coronavirus-may-11-emergency-order-extended-1.5564237\n",
      "//www.cbc.ca/news/politics/trudeau-budget-one-trillion-1.5568031\n",
      "//www.cbc.ca/player/play/1732957251767\n",
      "//www.cbc.ca/news/business/canada-recession-economy-1.5552135\n",
      "//www.cbc.ca/news/politics/covid-pandemic-coronavirus-deficit-debt-1.5561513\n",
      "//www.cbc.ca/news/politics/pbo-deficit-covid-1.5550498\n",
      "//www.cbc.ca/news/canada/manitoba/manitoba-government-economy-covid-19-1.5539666\n",
      "//www.cbc.ca/news/canada/saskatchewan/diverting-water-from-lake-diefenbaker-could-help-expand-sask-agriculture-ralph-goodale-says-1.5560773\n",
      "//www.cbc.ca/player/play/1732927555961\n",
      "//www.cbc.ca/news/canada/manitoba/opinion-coronavirus-manitoba-economy-history-1.5542552\n",
      "//www.cbc.ca/news/business/covid19-economy-jobs-oil-gdp-1.5533030\n",
      "//www.cbc.ca/news/canada/manitoba/winnipeg-covid-economic-analysis-layoffs-wages-1.5539511\n",
      "//www.cbc.ca/news/canada/manitoba/opinion-cornavirus-manitoba-economy-austerity-1.5534427\n",
      "//www.cbc.ca/news/canada/manitoba/opinion-coronavirus-manitoba-economy-austerity-1.5534427\n",
      "//www.cbc.ca/news/politics/un-security-council-pandemic-canada-trudeau-1.5556149\n",
      "//www.cbc.ca/news/canada/saskatchewan/many-sask-restaurants-might-permanently-close-due-to-covid-19-1.5560661\n",
      "//www.cbc.ca/news/canada/saskatchewan/sask-revenue-projection-1.5536393\n",
      "GDP\n",
      "32\n",
      "{'author': 'Pete Evans', 'title': \"Canada's economy was slowing down even before COVID-19 hit, February GDP numbers suggest\", 'description': 'Rail blockades and Ontario teacher strikes helped wiped out growth', 'url': 'http://www.cbc.ca/news/business/february-gdp-statscan-1.5550479', 'urlToImage': 'https://i.cbc.ca/1.5468906.1582144174!/cumulusImage/httpImage/image.jpg_gen/derivatives/16x9_780/wet-suwet-en-blockade-edmonton.jpg', 'publishedAt': ('Apr 30, 2020 10:14 AM ET', '2020-04-30T16:32:41.640Z'), 'source': 'CBC News', 'content': 'Canada\\'s economy was slowing down even before the COVID-19 pandemic hit, new data from Statistics Canada suggests.\\nThe data agency says Canada\\'s gross domestic product was essentially unchanged for the month, as output slowed in the education, transportation and warehousing sectors.\\nFebruary\\'s slowdown followed three straight months of slight gains in the months preceding it.\\nRotating strikes by teachers in Ontario contributed to a 1.8 per cent contraction in educational services\\xa0while the transportation sector shrank by 1.1. per cent as some\\xa0rail traffic was halted across the country\\xa0on account of protests and rail blockades in support of Wet\\'suwet\\'en hereditary chiefs who opposed a natural gas pipeline slated to pass through their traditional lands in British Columbia.\\nManufacturing also shrank, by 0.2 per cent.\\n\"Factors that limited growth back then ... look like rounding errors next to StatCan\\'s [March forecast]\\xa0showing a record nine\\xa0per cent\\xa0decline in March GDP,\" Royal Bank economist Josh Nye said.\\nOutside of those sectors, most parts of the economy eked out gains. Real estate was a strong point, as activity at brokerages grew by\\xa05.9 per cent, the biggest monthly gain since 2017. Realtors say\\xa0the spring housing market\\xa0was on track to be a hot one before COVID-19 hit, throwing the industry into a deep freeze.\\nThe mining, quarrying and oil and gas sector also had a good month in February, expanding by 0.9 per cent.\\nWholesale trade, finance and insurance and the retail sector all grew.\\nWhile the numbers were basically flat for the month, the economic carnage that has come since then make the numbers largely redundant.\\n\"Real estate has gone from running hot to virtual stasis in less than a month\\'s time, and the necessary hit to sectors like accommodation and food services and arts, entertainment and recreation will be historically unprecedented,\"\\xa0Toronto-Dominion Bank economist Brian DePratto said of the February data,\\n\"Fortunately, with economic re-opening plans starting to take shape across the country, there is a little bit of light beginning to form at the end of the tunnel.\"\\nIn a preliminary estimate for March released earlier this month, the agency said the economy posted a nine per cent decline for the month as business came to a standstill because of\\xa0measures taken to slow the spread of the novel coronavirus.\\nThe official estimates of GDP for March and the first quarter of 2020 will be released on May 29.\\n'}\n"
     ]
    }
   ],
   "source": [
    "cbc_gdp_article = main('GDP')\n",
    "print(len(cbc_gdp_article))\n",
    "print(cbc_gdp_article[0])"
   ]
  },
  {
   "cell_type": "markdown",
   "metadata": {},
   "source": [
    "## Stock Market"
   ]
  },
  {
   "cell_type": "code",
   "execution_count": 392,
   "metadata": {},
   "outputs": [
    {
     "name": "stdout",
     "output_type": "stream",
     "text": [
      "FIRST URL API CALL:  https://www.cbc.ca/search_api/v1/search?q=stock%20market&sortOrder=relevance&page=1&fields=feed\n",
      "3\n",
      "4\n",
      "//www.cbc.ca/news/canada/calgary/aer-alberta-energy-regulator-pieridae-shell-canada-1.5570875\n",
      "//www.cbc.ca/player/play/1725703235509\n",
      "//www.cbc.ca/news/world/u-s-senate-intelligence-committee-richard-burr-1.5569669\n",
      "//www.cbc.ca/news/business/elon-tusk-tesla-stock-too-high-tweet-1.5553109\n",
      "//www.cbc.ca/radio/costofliving/the-economy-with-a-capital-e-1.5542514/how-canadians-can-interpret-covid-19-s-volatile-effect-on-the-stock-market-1.5542515\n",
      "//www.cbc.ca/player/play/1729104451748\n",
      "//www.cbc.ca/news/canada/prince-edward-island/pei-covid-19-thursday-may-14-1.5569155\n",
      "//www.cbc.ca/player/play/1704849475631\n",
      "//www.cbc.ca/player/play/1709167171581\n",
      "//www.cbc.ca/player/play/1709170243575\n",
      "//www.cbc.ca/player/play/1708995139657\n",
      "//www.cbc.ca/news/canada/ottawa/programs/ottawamorning/coronavirus-and-the-stock-market-1.5482115\n",
      "//www.cbc.ca/player/play/1713828931570\n",
      "//www.cbc.ca/player/play/1703688771992\n",
      "//www.cbc.ca/player/play/1668997187803\n",
      "//www.cbc.ca/news/canada/hamilton/stock-market-covid19-1.5527376\n",
      "//www.cbc.ca/news/canada/manitoba/manitoba-securities-commission-investor-alert-covid-19-1.5528585\n",
      "//www.cbc.ca/news/business/markets-stocks-oil-1.5490697\n",
      "//www.cbc.ca/news/business/markets-dollar-oil-friday-1.5529047\n",
      "//www.cbc.ca/player/play/1711059011900\n",
      "//www.cbc.ca/news/business/markets-dollar-oil-loonie-1.5524514\n",
      "//www.cbc.ca/radio/frontburner/covid-19-comes-for-the-stock-market-1.5491912\n",
      "//www.cbc.ca/news/canada/edmonton/programs/edmontonam/rrsps-after-the-stock-market-plummet-1.5492431\n",
      "//www.cbc.ca/news/covid-19-comes-for-the-stock-market-1.5492060\n",
      "//www.cbc.ca/player/play/1709299267778\n",
      "//www.cbc.ca/player/play/1708858435532\n",
      "//www.cbc.ca/news/covid-19-and-large-gatherings-stock-market-volatility-1.5492946\n",
      "//www.cbc.ca/news/thenational/stock-markets-plunge-with-coronavirus-spread-1.5479215\n",
      "//www.cbc.ca/news/canada/british-columbia/programs/onthecoast/january-9-2020-stock-markets-1.5421725\n",
      "//www.cbc.ca/player/play/1703024707694\n",
      "stock_market\n",
      "30\n",
      "{'author': None, 'title': 'Alberta Energy Regulator blocks sale of Shell assets over clean-up concerns', 'description': \"AER said it wasn't happy with how the deal would have split the liability for cleaning up the sites\", 'url': 'http://www.cbc.ca/news/canada/calgary/aer-alberta-energy-regulator-pieridae-shell-canada-1.5570875', 'urlToImage': 'https://i.cbc.ca/1.5176373.1560540061!/fileImage/httpImage/image.jpeg_gen/derivatives/16x9_780/alberta-energy-regulator.jpeg', 'publishedAt': ('May 14, 2020 7:28 PM MT', '2020-05-15T01:28:22.766Z'), 'source': None, 'content': 'Alberta\\'s energy regulator has cited clean-up concerns in blocking the sale of sour gas wells, pipelines and other facilities from an energy giant to a much smaller company.\\nIn a decision released Thursday, the regulator said Calgary-based Pieridae Energy\\'s attempted purchase of the southern Alberta assets from Shell Canada goes against the intent of environmental laws.\\nThe issue was seen as a test case of the regulator\\'s determination to avoid clean-up costs for energy facilities falling to the taxpayer.\\nIn its written decision, the Alberta Energy Regulator said it wasn\\'t happy with how the deal would have split the liability for cleaning up the sites, especially at a pair of gas processing plants. The terms of the sale would have had Shell responsible for existing contamination and Pieridae on the hook for future problems.\\n\"The scope and extent of the contamination at the site is not well known and is not well described in the applications,\" the decision said. \"To date, the contamination at the sites has not been fully understood.\"\\nWithout knowing that, the regulator said, it would be impossible to know which company would have been responsible for what.\\nThe decision also said the company that made the mess should clean it up.\\n\"Shell is the polluter,\" said the decision. \"The ... applications appear to request that the AER, by way of approval, override or at least significantly dilute Shell\\'s obligations.\\n\"The AER is of the view that it cannot, by way of approval, carve up and redistribute fundamental regulatory obligations in a manner that is contrary to or inconsistent with (the law).\"\\nThe two companies agreed to the deal last summer. It involves 284 wells, 66 facilities and 82 pipelines in the southern Alberta foothills.\\nIt came shortly after the regulator had promised a closer eye on such licence transfers to ensure purchasers are able to cover reclamation costs. At the time, Pieridae\\'s market value was less than the price of the Shell assets and its stock value was less than a dollar.\\nThe number of energy facilities left unreclaimed by struggling producers has boomed in recent years. As of May 14, Alberta alone had more than 10,000 unreclaimed wells, pipelines, facilities and sites.\\nIn April, the federal government pledged $1.7 billion for such so-called orphan wells in Saskatchewan, Alberta and British Columbia, although they are supposed to be reclaimed by an industry-funded group.\\nThe energy regulator said the two companies were free to restructure their deal and try again to get the licence transfers approved.\\n'}\n"
     ]
    }
   ],
   "source": [
    "cbc_tsx_article = main('stock market')\n",
    "print(len(cbc_tsx_article))\n",
    "print(cbc_tsx_article[0])"
   ]
  },
  {
   "cell_type": "code",
   "execution_count": 151,
   "metadata": {},
   "outputs": [
    {
     "data": {
      "text/plain": [
       "'{\"author\": \"John Paul Tasker\", \"title\": \"Federal deficit likely to be higher than $252 billion, parliamentary budget\\\\u00a0officer says\", \"description\": \"PBO says it\\'s possible federal debt will hit $1 trillion because of pandemic relief spending\", \"url\": \"http://www.cbc.ca/news/politics/federal-deficit-higher-than-252-billion-1.5566768\", \"urlToImage\": \"https://i.cbc.ca/1.5138746.1558027091!/fileImage/httpImage/image.jpg_gen/derivatives/16x9_780/phoenix-pay-system.jpg\", \"publishedAt\": [\"May 12, 2020 5:34 PM ET\", \"2020-05-13T17:44:54.995Z\"], \"source\": \"CBC News\"}'"
      ]
     },
     "execution_count": 151,
     "metadata": {},
     "output_type": "execute_result"
    }
   ],
   "source": [
    "#TEST ON DIFFERENT CBC LINKS RETURNED BY CBC API\n",
    "\n",
    "standard_url = \"//www.cbc.ca/news/politics/federal-deficit-higher-than-252-billion-1.5566768\"\n",
    "radio_url = \"//www.cbc.ca/radio/costofliving/slashed-interest-rates-getting-a-piece-of-the-electric-car-pie-and-a-happy-jobs-friday-to-all-1.5486253\"\n",
    "media_url = \"//www.cbc.ca/player/play/1707317315674\"\n",
    "noauthor_url = \"//www.cbc.ca/news/canada/coronavirus-covid19-world-canada-may12-1.5564261\"\n",
    "\n",
    "\n",
    "\n",
    "extract_json_items(standard_url)\n",
    "\n",
    "#note: doesn't work for 'player' URLS (\"//www.cbc.ca/player/play/1707317315674\")\n",
    "#will run, but will return null for most values - player articles have different setup\n"
   ]
  }
 ],
 "metadata": {
  "kernelspec": {
   "display_name": "Python 3",
   "language": "python",
   "name": "python3"
  },
  "language_info": {
   "codemirror_mode": {
    "name": "ipython",
    "version": 3
   },
   "file_extension": ".py",
   "mimetype": "text/x-python",
   "name": "python",
   "nbconvert_exporter": "python",
   "pygments_lexer": "ipython3",
   "version": "3.7.3"
  }
 },
 "nbformat": 4,
 "nbformat_minor": 2
}
