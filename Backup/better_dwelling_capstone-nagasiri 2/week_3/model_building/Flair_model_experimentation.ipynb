{
 "cells": [
  {
   "cell_type": "code",
   "execution_count": 1,
   "metadata": {},
   "outputs": [
    {
     "name": "stdout",
     "output_type": "stream",
     "text": [
      "Collecting flair\n",
      "\u001b[?25l  Downloading https://files.pythonhosted.org/packages/03/29/81e3c9a829ec50857c23d82560941625f6b42ce76ee7c56ea9529e959d18/flair-0.4.5-py3-none-any.whl (136kB)\n",
      "\u001b[K     |████████████████████████████████| 143kB 1.8MB/s eta 0:00:01\n",
      "\u001b[?25hCollecting mpld3==0.3 (from flair)\n",
      "\u001b[?25l  Downloading https://files.pythonhosted.org/packages/91/95/a52d3a83d0a29ba0d6898f6727e9858fe7a43f6c2ce81a5fe7e05f0f4912/mpld3-0.3.tar.gz (788kB)\n",
      "\u001b[K     |████████████████████████████████| 798kB 20.1MB/s eta 0:00:01\n",
      "\u001b[?25hCollecting transformers>=2.3.0 (from flair)\n",
      "\u001b[?25l  Downloading https://files.pythonhosted.org/packages/22/97/7db72a0beef1825f82188a4b923e62a146271ac2ced7928baa4d47ef2467/transformers-2.9.1-py3-none-any.whl (641kB)\n",
      "\u001b[K     |████████████████████████████████| 645kB 2.8MB/s eta 0:00:01\n",
      "\u001b[?25hCollecting deprecated>=1.2.4 (from flair)\n",
      "  Downloading https://files.pythonhosted.org/packages/76/a1/05d7f62f956d77b23a640efc650f80ce24483aa2f85a09c03fb64f49e879/Deprecated-1.2.10-py2.py3-none-any.whl\n",
      "Requirement already satisfied: urllib3<1.25,>=1.20 in /Users/nagasiri/anaconda3/lib/python3.7/site-packages (from flair) (1.24.2)\n",
      "Collecting hyperopt>=0.1.1 (from flair)\n",
      "\u001b[?25l  Downloading https://files.pythonhosted.org/packages/90/d5/c7e276f4f7bc65ac26391c435245e5ef8911b4393e3df5a74906c48afeaf/hyperopt-0.2.4-py2.py3-none-any.whl (964kB)\n",
      "\u001b[K     |████████████████████████████████| 972kB 1.9MB/s eta 0:00:01\n",
      "\u001b[?25hRequirement already satisfied: python-dateutil>=2.6.1 in /Users/nagasiri/anaconda3/lib/python3.7/site-packages (from flair) (2.8.0)\n",
      "Requirement already satisfied: tabulate in /Users/nagasiri/anaconda3/lib/python3.7/site-packages (from flair) (0.8.6)\n",
      "Collecting pytest>=5.3.2 (from flair)\n",
      "\u001b[?25l  Downloading https://files.pythonhosted.org/packages/6c/f9/9f2b6c672c8f8bb87a4c1bd52c1b57213627b035305aad745d015b2a62ae/pytest-5.4.2-py3-none-any.whl (247kB)\n",
      "\u001b[K     |████████████████████████████████| 256kB 6.0MB/s eta 0:00:01\n",
      "\u001b[?25hRequirement already satisfied: scikit-learn>=0.21.3 in /Users/nagasiri/anaconda3/lib/python3.7/site-packages (from flair) (0.22.1)\n",
      "Collecting langdetect (from flair)\n",
      "\u001b[?25l  Downloading https://files.pythonhosted.org/packages/56/a3/8407c1e62d5980188b4acc45ef3d94b933d14a2ebc9ef3505f22cf772570/langdetect-1.0.8.tar.gz (981kB)\n",
      "\u001b[K     |████████████████████████████████| 983kB 8.0MB/s eta 0:00:01\n",
      "\u001b[?25hRequirement already satisfied: gensim>=3.4.0 in /Users/nagasiri/anaconda3/lib/python3.7/site-packages (from flair) (3.8.1)\n",
      "Requirement already satisfied: torch>=1.1.0 in /Users/nagasiri/anaconda3/lib/python3.7/site-packages (from flair) (1.3.1)\n",
      "Requirement already satisfied: matplotlib>=2.2.3 in /Users/nagasiri/anaconda3/lib/python3.7/site-packages (from flair) (3.1.0)\n",
      "Collecting regex (from flair)\n",
      "\u001b[?25l  Downloading https://files.pythonhosted.org/packages/14/8d/d44863d358e9dba3bdfb06099bbbeddbac8fb360773ba73250a849af4b01/regex-2020.5.14.tar.gz (696kB)\n",
      "\u001b[K     |████████████████████████████████| 706kB 502kB/s eta 0:00:01\n",
      "\u001b[?25hCollecting segtok>=1.5.7 (from flair)\n",
      "  Downloading https://files.pythonhosted.org/packages/41/08/582dab5f4b1d5ca23bc6927b4bb977c8ff7f3a87a3b98844ef833e2f5623/segtok-1.5.10.tar.gz\n",
      "Collecting sqlitedict>=1.6.0 (from flair)\n",
      "  Downloading https://files.pythonhosted.org/packages/0f/1c/c757b93147a219cf1e25cef7e1ad9b595b7f802159493c45ce116521caff/sqlitedict-1.6.0.tar.gz\n",
      "Requirement already satisfied: tqdm>=4.26.0 in /Users/nagasiri/anaconda3/lib/python3.7/site-packages (from flair) (4.32.1)\n",
      "Collecting bpemb>=0.2.9 (from flair)\n",
      "  Downloading https://files.pythonhosted.org/packages/bc/70/468a9652095b370f797ed37ff77e742b11565c6fd79eaeca5f2e50b164a7/bpemb-0.3.0-py3-none-any.whl\n",
      "Collecting sacremoses (from transformers>=2.3.0->flair)\n",
      "\u001b[?25l  Downloading https://files.pythonhosted.org/packages/7d/34/09d19aff26edcc8eb2a01bed8e98f13a1537005d31e95233fd48216eed10/sacremoses-0.0.43.tar.gz (883kB)\n",
      "\u001b[K     |████████████████████████████████| 890kB 5.7MB/s eta 0:00:01\n",
      "\u001b[?25hCollecting tokenizers==0.7.0 (from transformers>=2.3.0->flair)\n",
      "\u001b[?25l  Downloading https://files.pythonhosted.org/packages/98/a2/11e6465beaecbf92a3f203e44447a43110e3e0ee2cfdc9cfe03c7e2c1051/tokenizers-0.7.0-cp37-cp37m-macosx_10_10_x86_64.whl (1.2MB)\n",
      "\u001b[K     |████████████████████████████████| 1.2MB 2.4MB/s eta 0:00:01\n",
      "\u001b[?25hRequirement already satisfied: sentencepiece in /Users/nagasiri/anaconda3/lib/python3.7/site-packages (from transformers>=2.3.0->flair) (0.1.85)\n",
      "Requirement already satisfied: filelock in /Users/nagasiri/anaconda3/lib/python3.7/site-packages (from transformers>=2.3.0->flair) (3.0.12)\n",
      "Requirement already satisfied: numpy in /Users/nagasiri/anaconda3/lib/python3.7/site-packages (from transformers>=2.3.0->flair) (1.16.4)\n",
      "Requirement already satisfied: requests in /Users/nagasiri/anaconda3/lib/python3.7/site-packages (from transformers>=2.3.0->flair) (2.22.0)\n",
      "Requirement already satisfied: wrapt<2,>=1.10 in /Users/nagasiri/anaconda3/lib/python3.7/site-packages (from deprecated>=1.2.4->flair) (1.11.2)\n",
      "Requirement already satisfied: future in /Users/nagasiri/anaconda3/lib/python3.7/site-packages (from hyperopt>=0.1.1->flair) (0.17.1)\n",
      "Requirement already satisfied: six in /Users/nagasiri/anaconda3/lib/python3.7/site-packages (from hyperopt>=0.1.1->flair) (1.12.0)\n",
      "Requirement already satisfied: scipy in /Users/nagasiri/anaconda3/lib/python3.7/site-packages (from hyperopt>=0.1.1->flair) (1.3.0)\n",
      "Requirement already satisfied: cloudpickle in /Users/nagasiri/anaconda3/lib/python3.7/site-packages (from hyperopt>=0.1.1->flair) (1.2.1)\n",
      "Requirement already satisfied: networkx>=2.2 in /Users/nagasiri/anaconda3/lib/python3.7/site-packages (from hyperopt>=0.1.1->flair) (2.3)\n",
      "Requirement already satisfied: wcwidth in /Users/nagasiri/anaconda3/lib/python3.7/site-packages (from pytest>=5.3.2->flair) (0.1.7)\n",
      "Requirement already satisfied: attrs>=17.4.0 in /Users/nagasiri/anaconda3/lib/python3.7/site-packages (from pytest>=5.3.2->flair) (19.3.0)\n",
      "Requirement already satisfied: importlib-metadata>=0.12; python_version < \"3.8\" in /Users/nagasiri/anaconda3/lib/python3.7/site-packages (from pytest>=5.3.2->flair) (1.4.0)\n",
      "Requirement already satisfied: packaging in /Users/nagasiri/anaconda3/lib/python3.7/site-packages (from pytest>=5.3.2->flair) (19.0)\n",
      "Requirement already satisfied: pluggy<1.0,>=0.12 in /Users/nagasiri/anaconda3/lib/python3.7/site-packages (from pytest>=5.3.2->flair) (0.12.0)\n",
      "Requirement already satisfied: more-itertools>=4.0.0 in /Users/nagasiri/anaconda3/lib/python3.7/site-packages (from pytest>=5.3.2->flair) (7.0.0)\n",
      "Requirement already satisfied: py>=1.5.0 in /Users/nagasiri/anaconda3/lib/python3.7/site-packages (from pytest>=5.3.2->flair) (1.8.0)\n",
      "Requirement already satisfied: joblib>=0.11 in /Users/nagasiri/anaconda3/lib/python3.7/site-packages (from scikit-learn>=0.21.3->flair) (0.13.2)\n",
      "Requirement already satisfied: smart-open>=1.8.1 in /Users/nagasiri/anaconda3/lib/python3.7/site-packages (from gensim>=3.4.0->flair) (1.9.0)\n",
      "Requirement already satisfied: cycler>=0.10 in /Users/nagasiri/anaconda3/lib/python3.7/site-packages (from matplotlib>=2.2.3->flair) (0.10.0)\n",
      "Requirement already satisfied: kiwisolver>=1.0.1 in /Users/nagasiri/anaconda3/lib/python3.7/site-packages (from matplotlib>=2.2.3->flair) (1.1.0)\n",
      "Requirement already satisfied: pyparsing!=2.0.4,!=2.1.2,!=2.1.6,>=2.0.1 in /Users/nagasiri/anaconda3/lib/python3.7/site-packages (from matplotlib>=2.2.3->flair) (2.4.0)\n",
      "Requirement already satisfied: click in /Users/nagasiri/anaconda3/lib/python3.7/site-packages (from sacremoses->transformers>=2.3.0->flair) (7.0)\n",
      "Requirement already satisfied: idna<2.9,>=2.5 in /Users/nagasiri/anaconda3/lib/python3.7/site-packages (from requests->transformers>=2.3.0->flair) (2.8)\n",
      "Requirement already satisfied: chardet<3.1.0,>=3.0.2 in /Users/nagasiri/anaconda3/lib/python3.7/site-packages (from requests->transformers>=2.3.0->flair) (3.0.4)\n",
      "Requirement already satisfied: certifi>=2017.4.17 in /Users/nagasiri/anaconda3/lib/python3.7/site-packages (from requests->transformers>=2.3.0->flair) (2019.11.28)\n",
      "Requirement already satisfied: decorator>=4.3.0 in /Users/nagasiri/anaconda3/lib/python3.7/site-packages (from networkx>=2.2->hyperopt>=0.1.1->flair) (4.4.0)\n",
      "Requirement already satisfied: zipp>=0.5 in /Users/nagasiri/anaconda3/lib/python3.7/site-packages (from importlib-metadata>=0.12; python_version < \"3.8\"->pytest>=5.3.2->flair) (0.5.1)\n",
      "Requirement already satisfied: boto>=2.32 in /Users/nagasiri/anaconda3/lib/python3.7/site-packages (from smart-open>=1.8.1->gensim>=3.4.0->flair) (2.49.0)\n",
      "Requirement already satisfied: boto3 in /Users/nagasiri/anaconda3/lib/python3.7/site-packages (from smart-open>=1.8.1->gensim>=3.4.0->flair) (1.11.9)\n"
     ]
    },
    {
     "name": "stdout",
     "output_type": "stream",
     "text": [
      "Requirement already satisfied: setuptools in /Users/nagasiri/anaconda3/lib/python3.7/site-packages (from kiwisolver>=1.0.1->matplotlib>=2.2.3->flair) (41.0.1)\n",
      "Requirement already satisfied: s3transfer<0.4.0,>=0.3.0 in /Users/nagasiri/anaconda3/lib/python3.7/site-packages (from boto3->smart-open>=1.8.1->gensim>=3.4.0->flair) (0.3.2)\n",
      "Requirement already satisfied: jmespath<1.0.0,>=0.7.1 in /Users/nagasiri/anaconda3/lib/python3.7/site-packages (from boto3->smart-open>=1.8.1->gensim>=3.4.0->flair) (0.9.4)\n",
      "Requirement already satisfied: botocore<1.15.0,>=1.14.9 in /Users/nagasiri/anaconda3/lib/python3.7/site-packages (from boto3->smart-open>=1.8.1->gensim>=3.4.0->flair) (1.14.9)\n",
      "Requirement already satisfied: docutils<0.16,>=0.10 in /Users/nagasiri/anaconda3/lib/python3.7/site-packages (from botocore<1.15.0,>=1.14.9->boto3->smart-open>=1.8.1->gensim>=3.4.0->flair) (0.14)\n",
      "Building wheels for collected packages: mpld3, langdetect, regex, segtok, sqlitedict, sacremoses\n",
      "  Building wheel for mpld3 (setup.py) ... \u001b[?25ldone\n",
      "\u001b[?25h  Stored in directory: /Users/nagasiri/Library/Caches/pip/wheels/c0/47/fb/8a64f89aecfe0059830479308ad42d62e898a3e3cefdf6ba28\n",
      "  Building wheel for langdetect (setup.py) ... \u001b[?25ldone\n",
      "\u001b[?25h  Stored in directory: /Users/nagasiri/Library/Caches/pip/wheels/8d/b3/aa/6d99de9f3841d7d3d40a60ea06e6d669e8e5012e6c8b947a57\n",
      "  Building wheel for regex (setup.py) ... \u001b[?25ldone\n",
      "\u001b[?25h  Stored in directory: /Users/nagasiri/Library/Caches/pip/wheels/ee/3a/5c/1f0ce151d6ddeee56e03e933603e21b5b8dcc727989fde82f5\n",
      "  Building wheel for segtok (setup.py) ... \u001b[?25ldone\n",
      "\u001b[?25h  Stored in directory: /Users/nagasiri/Library/Caches/pip/wheels/b4/39/f6/9ca1c5cabde964d728023b5751c3a206a5c8cc40252321fb6b\n",
      "  Building wheel for sqlitedict (setup.py) ... \u001b[?25ldone\n",
      "\u001b[?25h  Stored in directory: /Users/nagasiri/Library/Caches/pip/wheels/bd/57/d3/907c3ee02d35e66f674ad0106e61f06eeeb98f6ee66a6cc3fe\n",
      "  Building wheel for sacremoses (setup.py) ... \u001b[?25ldone\n",
      "\u001b[?25h  Stored in directory: /Users/nagasiri/Library/Caches/pip/wheels/29/3c/fd/7ce5c3f0666dab31a50123635e6fb5e19ceb42ce38d4e58f45\n",
      "Successfully built mpld3 langdetect regex segtok sqlitedict sacremoses\n",
      "Installing collected packages: mpld3, regex, sacremoses, tokenizers, transformers, deprecated, hyperopt, pytest, langdetect, segtok, sqlitedict, bpemb, flair\n",
      "  Found existing installation: pytest 5.0.1\n",
      "    Uninstalling pytest-5.0.1:\n",
      "      Successfully uninstalled pytest-5.0.1\n",
      "Successfully installed bpemb-0.3.0 deprecated-1.2.10 flair-0.4.5 hyperopt-0.2.4 langdetect-1.0.8 mpld3-0.3 pytest-5.4.2 regex-2020.5.14 sacremoses-0.0.43 segtok-1.5.10 sqlitedict-1.6.0 tokenizers-0.7.0 transformers-2.9.1\n",
      "Note: you may need to restart the kernel to use updated packages.\n"
     ]
    }
   ],
   "source": [
    "pip install flair"
   ]
  },
  {
   "cell_type": "code",
   "execution_count": 2,
   "metadata": {},
   "outputs": [],
   "source": [
    "from flair.data import Corpus\n",
    "from flair.datasets import CSVClassificationCorpus\n",
    "from flair.data import Corpus\n",
    "from flair.datasets import TREC_6\n",
    "from flair.embeddings import WordEmbeddings, FlairEmbeddings, DocumentRNNEmbeddings\n",
    "from flair.models import TextClassifier\n",
    "from flair.trainers import ModelTrainer\n",
    "from flair.data import Sentence\n",
    "from flair.visual.training_curves import Plotter"
   ]
  },
  {
   "cell_type": "code",
   "execution_count": 25,
   "metadata": {},
   "outputs": [],
   "source": [
    "import pandas as pd\n",
    "from sklearn.model_selection import train_test_split\n",
    "\n",
    "import sklearn"
   ]
  },
  {
   "cell_type": "code",
   "execution_count": 57,
   "metadata": {},
   "outputs": [],
   "source": [
    "kaggle_dataset = pd.read_csv('./data/all-data.csv',header= None,encoding='latin-1', names = ['sentiment', 'text'], index_col= None)"
   ]
  },
  {
   "cell_type": "code",
   "execution_count": 58,
   "metadata": {},
   "outputs": [
    {
     "data": {
      "text/html": [
       "<div>\n",
       "<style scoped>\n",
       "    .dataframe tbody tr th:only-of-type {\n",
       "        vertical-align: middle;\n",
       "    }\n",
       "\n",
       "    .dataframe tbody tr th {\n",
       "        vertical-align: top;\n",
       "    }\n",
       "\n",
       "    .dataframe thead th {\n",
       "        text-align: right;\n",
       "    }\n",
       "</style>\n",
       "<table border=\"1\" class=\"dataframe\">\n",
       "  <thead>\n",
       "    <tr style=\"text-align: right;\">\n",
       "      <th></th>\n",
       "      <th>sentiment</th>\n",
       "      <th>text</th>\n",
       "    </tr>\n",
       "  </thead>\n",
       "  <tbody>\n",
       "    <tr>\n",
       "      <th>0</th>\n",
       "      <td>neutral</td>\n",
       "      <td>According to Gran , the company has no plans t...</td>\n",
       "    </tr>\n",
       "    <tr>\n",
       "      <th>1</th>\n",
       "      <td>neutral</td>\n",
       "      <td>Technopolis plans to develop in stages an area...</td>\n",
       "    </tr>\n",
       "    <tr>\n",
       "      <th>2</th>\n",
       "      <td>negative</td>\n",
       "      <td>The international electronic industry company ...</td>\n",
       "    </tr>\n",
       "    <tr>\n",
       "      <th>3</th>\n",
       "      <td>positive</td>\n",
       "      <td>With the new production plant the company woul...</td>\n",
       "    </tr>\n",
       "    <tr>\n",
       "      <th>4</th>\n",
       "      <td>positive</td>\n",
       "      <td>According to the company 's updated strategy f...</td>\n",
       "    </tr>\n",
       "  </tbody>\n",
       "</table>\n",
       "</div>"
      ],
      "text/plain": [
       "  sentiment                                               text\n",
       "0   neutral  According to Gran , the company has no plans t...\n",
       "1   neutral  Technopolis plans to develop in stages an area...\n",
       "2  negative  The international electronic industry company ...\n",
       "3  positive  With the new production plant the company woul...\n",
       "4  positive  According to the company 's updated strategy f..."
      ]
     },
     "execution_count": 58,
     "metadata": {},
     "output_type": "execute_result"
    }
   ],
   "source": [
    "kaggle_dataset.head()"
   ]
  },
  {
   "cell_type": "code",
   "execution_count": 59,
   "metadata": {},
   "outputs": [
    {
     "data": {
      "text/plain": [
       "'neutral'"
      ]
     },
     "execution_count": 59,
     "metadata": {},
     "output_type": "execute_result"
    }
   ],
   "source": [
    "kaggle_dataset['sentiment'][0]"
   ]
  },
  {
   "cell_type": "code",
   "execution_count": 60,
   "metadata": {},
   "outputs": [],
   "source": [
    "def making_label(st):\n",
    "#     print(st)\n",
    "    if (st=='positive'):\n",
    "        return 1\n",
    "    elif (st=='neutral'):\n",
    "        return 0\n",
    "    else:\n",
    "        return -1\n",
    "    \n",
    "kaggle_dataset['sentiment'] = kaggle_dataset['sentiment'].apply(making_label)\n",
    "# eva['label'] = eva['sentiment'].apply(making_label)\n",
    "# print(train.shape)"
   ]
  },
  {
   "cell_type": "code",
   "execution_count": 61,
   "metadata": {},
   "outputs": [
    {
     "data": {
      "text/plain": [
       "0    0\n",
       "1    0\n",
       "2   -1\n",
       "3    1\n",
       "4    1\n",
       "Name: sentiment, dtype: int64"
      ]
     },
     "execution_count": 61,
     "metadata": {},
     "output_type": "execute_result"
    }
   ],
   "source": [
    "kaggle_dataset['sentiment'].head()"
   ]
  },
  {
   "cell_type": "code",
   "execution_count": 62,
   "metadata": {},
   "outputs": [],
   "source": [
    "kaggle_X_train, kaggle_X_te, kaggle_Y_train, kaggle_Y_te = train_test_split(kaggle_dataset['text'],kaggle_dataset['sentiment'], test_size = 0.2, random_state = 0, stratify = kaggle_dataset['sentiment'])"
   ]
  },
  {
   "cell_type": "code",
   "execution_count": 63,
   "metadata": {},
   "outputs": [],
   "source": [
    "kaggle_training = pd.DataFrame(\n",
    "    {'text': kaggle_X_train,\n",
    "     'sentiment': kaggle_Y_train   })"
   ]
  },
  {
   "cell_type": "code",
   "execution_count": 64,
   "metadata": {},
   "outputs": [
    {
     "data": {
      "text/plain": [
       "(970,)"
      ]
     },
     "execution_count": 64,
     "metadata": {},
     "output_type": "execute_result"
    }
   ],
   "source": [
    "kaggle_X_te.shape"
   ]
  },
  {
   "cell_type": "code",
   "execution_count": 66,
   "metadata": {},
   "outputs": [],
   "source": [
    "kaggle_X_dev, kaggle_X_test, kaggle_Y_dev, kaggle_Y_test = train_test_split(kaggle_X_te,kaggle_Y_te, test_size = 0.5, random_state = 0)"
   ]
  },
  {
   "cell_type": "code",
   "execution_count": 68,
   "metadata": {},
   "outputs": [
    {
     "data": {
      "text/plain": [
       "(485,)"
      ]
     },
     "execution_count": 68,
     "metadata": {},
     "output_type": "execute_result"
    }
   ],
   "source": [
    "kaggle_X_test.shape"
   ]
  },
  {
   "cell_type": "code",
   "execution_count": null,
   "metadata": {},
   "outputs": [],
   "source": []
  }
 ],
 "metadata": {
  "kernelspec": {
   "display_name": "Python 3",
   "language": "python",
   "name": "python3"
  },
  "language_info": {
   "codemirror_mode": {
    "name": "ipython",
    "version": 3
   },
   "file_extension": ".py",
   "mimetype": "text/x-python",
   "name": "python",
   "nbconvert_exporter": "python",
   "pygments_lexer": "ipython3",
   "version": "3.7.3"
  }
 },
 "nbformat": 4,
 "nbformat_minor": 2
}
