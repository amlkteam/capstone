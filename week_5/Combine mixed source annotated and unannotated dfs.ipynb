{
 "cells": [
  {
   "cell_type": "code",
   "execution_count": null,
   "metadata": {},
   "outputs": [],
   "source": [
    "import pandas as pd"
   ]
  },
  {
   "cell_type": "code",
   "execution_count": null,
   "metadata": {},
   "outputs": [],
   "source": [
    "url_bbg_gdp_prediction = 'https://raw.github.ubc.ca/ltian05/better_dwelling_capstone/master/week_4/predictions/prediction_output/unannotated_GDP_Bloomberg_predictions.csv?token=AAAAOMVIFM7F56MD6NBHFOS64BUZA'\n",
    "#url_bbg_gdp_prediction = '../week_4/predictions/prediction_output/unannotated_GDP_Bloomberg_predictions.csv'\n",
    "url_cbc_gdp_prediction = 'https://raw.github.ubc.ca/ltian05/better_dwelling_capstone/master/week_4/predictions/prediction_output/unannotated_GDP_CBC_predictions.csv?token=AAAAOMRTCX6IIU5WYLOZN4S64AHNW'\n",
    "#url_cbc_gdp_prediction = '../week_4/predictions/prediction_output/unannotated_GDP_CBC_predictions.csv'\n",
    "url_bbg_employment_prediction = 'https://raw.github.ubc.ca/ltian05/better_dwelling_capstone/master/week_4/predictions/prediction_output/unannotated_employment_Bloomberg_predictions.csv?token=AAAAOMVW3VDF4NHVJDLZM5C64AOEG'\n",
    "url_cbc_employment_prediction = 'https://raw.github.ubc.ca/ltian05/better_dwelling_capstone/master/week_4/predictions/prediction_output/unannotated_employment_CBC_predictions.csv?token=AAAAOMTI2MJB2HTSLPNHZ3K64AOIG'\n",
    "url_bbg_housing_prediction = 'https://raw.github.ubc.ca/ltian05/better_dwelling_capstone/master/week_4/predictions/prediction_output/unannotated_housing_Bloomberg_predictions.csv?token=AAAAOMWNFICAYV5WWRM7YFS64AOL4'\n",
    "url_cbc_housing_prediction = 'https://raw.github.ubc.ca/ltian05/better_dwelling_capstone/master/week_4/predictions/prediction_output/unannotated_housing_cbc_predictions.csv?token=AAAAOMV7OHFAEKVNIUEDFTK64AOPK'"
   ]
  }
 ],
 "metadata": {
  "kernelspec": {
   "display_name": "Python 3",
   "language": "python",
   "name": "python3"
  },
  "language_info": {
   "codemirror_mode": {
    "name": "ipython",
    "version": 3
   },
   "file_extension": ".py",
   "mimetype": "text/x-python",
   "name": "python",
   "nbconvert_exporter": "python",
   "pygments_lexer": "ipython3",
   "version": "3.7.4"
  }
 },
 "nbformat": 4,
 "nbformat_minor": 2
}
