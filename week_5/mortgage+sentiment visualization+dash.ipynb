{
 "cells": [
  {
   "cell_type": "code",
   "execution_count": 1,
   "metadata": {},
   "outputs": [
    {
     "data": {
      "text/html": [
       "<div>\n",
       "<style scoped>\n",
       "    .dataframe tbody tr th:only-of-type {\n",
       "        vertical-align: middle;\n",
       "    }\n",
       "\n",
       "    .dataframe tbody tr th {\n",
       "        vertical-align: top;\n",
       "    }\n",
       "\n",
       "    .dataframe thead th {\n",
       "        text-align: right;\n",
       "    }\n",
       "</style>\n",
       "<table border=\"1\" class=\"dataframe\">\n",
       "  <thead>\n",
       "    <tr style=\"text-align: right;\">\n",
       "      <th></th>\n",
       "      <th>final_sentiment</th>\n",
       "    </tr>\n",
       "  </thead>\n",
       "  <tbody>\n",
       "    <tr>\n",
       "      <th>0</th>\n",
       "      <td>0.103541</td>\n",
       "    </tr>\n",
       "    <tr>\n",
       "      <th>1</th>\n",
       "      <td>0.255537</td>\n",
       "    </tr>\n",
       "    <tr>\n",
       "      <th>2</th>\n",
       "      <td>-0.383935</td>\n",
       "    </tr>\n",
       "    <tr>\n",
       "      <th>3</th>\n",
       "      <td>0.176109</td>\n",
       "    </tr>\n",
       "    <tr>\n",
       "      <th>4</th>\n",
       "      <td>-0.987071</td>\n",
       "    </tr>\n",
       "  </tbody>\n",
       "</table>\n",
       "</div>"
      ],
      "text/plain": [
       "   final_sentiment\n",
       "0         0.103541\n",
       "1         0.255537\n",
       "2        -0.383935\n",
       "3         0.176109\n",
       "4        -0.987071"
      ]
     },
     "execution_count": 1,
     "metadata": {},
     "output_type": "execute_result"
    }
   ],
   "source": [
    "## below test Jon's visualization code\n",
    "\n",
    "import dash\n",
    "import dash_core_components as dcc\n",
    "import dash_html_components as html\n",
    "from datetime import datetime\n",
    "import plotly.express as px\n",
    "import pandas as pd\n",
    "import plotly.graph_objects as go\n",
    "import random\n",
    "from plotly.subplots import make_subplots\n",
    "\n",
    "def parse_govt_data(df, daterow_ind, valuerow_ind, datetime_format_in):\n",
    "    \"\"\"returns a list of datetime strings and financial indicator values from \n",
    "    dataframe of govt data\n",
    "    \n",
    "    assume datetime format for output datetime list = YYYY-MM-DD\n",
    "    \n",
    "    \"\"\"\n",
    "    date_row = df.iloc[daterow_ind]\n",
    "    date_row = date_row[2:]\n",
    "    date_list = date_row.tolist()\n",
    "    datetime_list = []\n",
    "\n",
    "    for item in date_list:\n",
    "        dt = datetime.strptime(item, datetime_format_in)\n",
    "        datetime_list.append(dt.strftime(\"%Y-%m-%d\"))\n",
    "\n",
    "\n",
    "    value_row = df.iloc[valuerow_ind]\n",
    "    value_row = value_row[2:]\n",
    "    value_list = value_row.tolist()\n",
    "    \n",
    "    assert (len(value_list) == len(datetime_list))\n",
    "\n",
    "    return datetime_list, value_list\n",
    "\n",
    "\n",
    "\n",
    "filepath = r\"C:\\Users\\gen80\\OneDrive\\Documents\\MDSlectures\\capstone_sentiment_analysis\\testout\\mortgage_rate_jan-2019_feb-2020.csv\"\n",
    "mortgage_df = pd.read_csv(filepath, skiprows=5)\n",
    "mortgage_df.head()\n",
    "\n",
    "datetime_mortgage, values_mortgage = parse_govt_data(mortgage_df, 0, 2, \"%B %Y\")\n",
    "\n",
    "final_df = pd.DataFrame(values_mortgage, \n",
    "                        index =datetime_mortgage, \n",
    "                        columns =['values']).reset_index()\n",
    "\n",
    "final_df[\"indicator\"] = \"mortgage\"\n",
    "test_mrg_df = final_df.rename(columns={\"index\": \"dates\"})\n",
    "\n",
    "test_mrg_df.head()\n",
    "\n",
    "#make toy sentiment data\n",
    "test_senti = [random.uniform(-1, 1) for i in range(len(values_mortgage))]\n",
    "test_senti_df = pd.DataFrame(test_senti, columns=[\"final_sentiment\"])\n",
    "test_senti_df.head()"
   ]
  },
  {
   "cell_type": "code",
   "execution_count": 50,
   "metadata": {},
   "outputs": [
    {
     "data": {
      "text/html": [
       "<div>\n",
       "<style scoped>\n",
       "    .dataframe tbody tr th:only-of-type {\n",
       "        vertical-align: middle;\n",
       "    }\n",
       "\n",
       "    .dataframe tbody tr th {\n",
       "        vertical-align: top;\n",
       "    }\n",
       "\n",
       "    .dataframe thead th {\n",
       "        text-align: right;\n",
       "    }\n",
       "</style>\n",
       "<table border=\"1\" class=\"dataframe\">\n",
       "  <thead>\n",
       "    <tr style=\"text-align: right;\">\n",
       "      <th></th>\n",
       "      <th>Unnamed: 0</th>\n",
       "      <th>source</th>\n",
       "      <th>title_desc</th>\n",
       "      <th>publishedAt</th>\n",
       "      <th>best_label</th>\n",
       "      <th>best_confidence</th>\n",
       "      <th>second_likely</th>\n",
       "      <th>second_confidence</th>\n",
       "      <th>least_likely</th>\n",
       "      <th>least_confidence</th>\n",
       "      <th>raw_sentiment_score</th>\n",
       "    </tr>\n",
       "  </thead>\n",
       "  <tbody>\n",
       "    <tr>\n",
       "      <th>0</th>\n",
       "      <td>0</td>\n",
       "      <td>Bloomberg News</td>\n",
       "      <td>Economic growth stalled in February ahead of v...</td>\n",
       "      <td>2020-04-30</td>\n",
       "      <td>-1</td>\n",
       "      <td>0.997521</td>\n",
       "      <td>1</td>\n",
       "      <td>0.002091</td>\n",
       "      <td>0</td>\n",
       "      <td>0.000388</td>\n",
       "      <td>-1.497521</td>\n",
       "    </tr>\n",
       "    <tr>\n",
       "      <th>1</th>\n",
       "      <td>67</td>\n",
       "      <td>{'id': 'fp-bloomberg-news', 'name': 'Bloomberg...</td>\n",
       "      <td>America’s longest economic expansion is over —...</td>\n",
       "      <td>2020-04-29</td>\n",
       "      <td>-1</td>\n",
       "      <td>0.998286</td>\n",
       "      <td>1</td>\n",
       "      <td>0.000875</td>\n",
       "      <td>0</td>\n",
       "      <td>0.000839</td>\n",
       "      <td>-1.498286</td>\n",
       "    </tr>\n",
       "    <tr>\n",
       "      <th>2</th>\n",
       "      <td>69</td>\n",
       "      <td>{'id': 'fp-bloomberg-news', 'name': 'Bloomberg...</td>\n",
       "      <td>Once seen as safer than gold, Canadian real es...</td>\n",
       "      <td>2020-04-16</td>\n",
       "      <td>-1</td>\n",
       "      <td>0.990286</td>\n",
       "      <td>1</td>\n",
       "      <td>0.005900</td>\n",
       "      <td>0</td>\n",
       "      <td>0.003815</td>\n",
       "      <td>-1.490286</td>\n",
       "    </tr>\n",
       "    <tr>\n",
       "      <th>3</th>\n",
       "      <td>1</td>\n",
       "      <td>Bloomberg News</td>\n",
       "      <td>China won't be able to bail us out this time. ...</td>\n",
       "      <td>2020-04-16</td>\n",
       "      <td>-1</td>\n",
       "      <td>0.973306</td>\n",
       "      <td>1</td>\n",
       "      <td>0.018563</td>\n",
       "      <td>0</td>\n",
       "      <td>0.008131</td>\n",
       "      <td>-1.473306</td>\n",
       "    </tr>\n",
       "    <tr>\n",
       "      <th>4</th>\n",
       "      <td>71</td>\n",
       "      <td>{'id': 'fp-bloomberg-news', 'name': 'Bloomberg...</td>\n",
       "      <td>Michael Burry of 'The Big Short' slams coronav...</td>\n",
       "      <td>2020-04-07</td>\n",
       "      <td>-1</td>\n",
       "      <td>0.965097</td>\n",
       "      <td>0</td>\n",
       "      <td>0.017516</td>\n",
       "      <td>1</td>\n",
       "      <td>0.017386</td>\n",
       "      <td>-1.465097</td>\n",
       "    </tr>\n",
       "    <tr>\n",
       "      <th>5</th>\n",
       "      <td>2</td>\n",
       "      <td>Bloomberg News</td>\n",
       "      <td>Canada ekes out meager growth in January befor...</td>\n",
       "      <td>2020-03-31</td>\n",
       "      <td>-1</td>\n",
       "      <td>0.998931</td>\n",
       "      <td>1</td>\n",
       "      <td>0.000762</td>\n",
       "      <td>0</td>\n",
       "      <td>0.000307</td>\n",
       "      <td>-1.498931</td>\n",
       "    </tr>\n",
       "    <tr>\n",
       "      <th>6</th>\n",
       "      <td>72</td>\n",
       "      <td>{'id': 'fp-bloomberg-news', 'name': 'Bloomberg...</td>\n",
       "      <td>Canada ekes out meagre growth in January befor...</td>\n",
       "      <td>2020-03-31</td>\n",
       "      <td>-1</td>\n",
       "      <td>0.989178</td>\n",
       "      <td>1</td>\n",
       "      <td>0.010187</td>\n",
       "      <td>0</td>\n",
       "      <td>0.000635</td>\n",
       "      <td>-1.489178</td>\n",
       "    </tr>\n",
       "    <tr>\n",
       "      <th>7</th>\n",
       "      <td>73</td>\n",
       "      <td>{'id': 'fp-bloomberg-news', 'name': 'Bloomberg...</td>\n",
       "      <td>White House, senators strike deal on America's...</td>\n",
       "      <td>2020-03-25</td>\n",
       "      <td>-1</td>\n",
       "      <td>0.990717</td>\n",
       "      <td>1</td>\n",
       "      <td>0.009045</td>\n",
       "      <td>0</td>\n",
       "      <td>0.000238</td>\n",
       "      <td>-1.490717</td>\n",
       "    </tr>\n",
       "    <tr>\n",
       "      <th>8</th>\n",
       "      <td>75</td>\n",
       "      <td>{'id': 'fp-bloomberg-news', 'name': 'Bloomberg...</td>\n",
       "      <td>Stock losses deepen after latest U.S. stimulus...</td>\n",
       "      <td>2020-03-23</td>\n",
       "      <td>-1</td>\n",
       "      <td>0.831419</td>\n",
       "      <td>1</td>\n",
       "      <td>0.163293</td>\n",
       "      <td>0</td>\n",
       "      <td>0.005287</td>\n",
       "      <td>-1.331419</td>\n",
       "    </tr>\n",
       "    <tr>\n",
       "      <th>9</th>\n",
       "      <td>76</td>\n",
       "      <td>{'id': 'fp-bloomberg-news', 'name': 'Bloomberg...</td>\n",
       "      <td>Searching for a bottom, Canada's stock manager...</td>\n",
       "      <td>2020-03-18</td>\n",
       "      <td>-1</td>\n",
       "      <td>0.921441</td>\n",
       "      <td>1</td>\n",
       "      <td>0.040193</td>\n",
       "      <td>0</td>\n",
       "      <td>0.038366</td>\n",
       "      <td>-1.421441</td>\n",
       "    </tr>\n",
       "    <tr>\n",
       "      <th>10</th>\n",
       "      <td>79</td>\n",
       "      <td>{'id': 'fp-bloomberg-news', 'name': 'Bloomberg...</td>\n",
       "      <td>Canadian recession is likely without fiscal st...</td>\n",
       "      <td>2020-03-11</td>\n",
       "      <td>-1</td>\n",
       "      <td>0.833643</td>\n",
       "      <td>0</td>\n",
       "      <td>0.084216</td>\n",
       "      <td>1</td>\n",
       "      <td>0.082141</td>\n",
       "      <td>-1.333643</td>\n",
       "    </tr>\n",
       "    <tr>\n",
       "      <th>11</th>\n",
       "      <td>3</td>\n",
       "      <td>Bloomberg News</td>\n",
       "      <td>Economists start forecasting negative U.S. GDP...</td>\n",
       "      <td>2020-03-11</td>\n",
       "      <td>-1</td>\n",
       "      <td>0.893479</td>\n",
       "      <td>1</td>\n",
       "      <td>0.105699</td>\n",
       "      <td>0</td>\n",
       "      <td>0.000821</td>\n",
       "      <td>-1.393479</td>\n",
       "    </tr>\n",
       "    <tr>\n",
       "      <th>12</th>\n",
       "      <td>80</td>\n",
       "      <td>{'id': 'fp-bloomberg-news', 'name': 'Bloomberg...</td>\n",
       "      <td>Oil price plunge stokes fears of a recession i...</td>\n",
       "      <td>2020-03-09</td>\n",
       "      <td>-1</td>\n",
       "      <td>0.990107</td>\n",
       "      <td>1</td>\n",
       "      <td>0.007518</td>\n",
       "      <td>0</td>\n",
       "      <td>0.002375</td>\n",
       "      <td>-1.490107</td>\n",
       "    </tr>\n",
       "    <tr>\n",
       "      <th>13</th>\n",
       "      <td>6</td>\n",
       "      <td>Bloomberg News</td>\n",
       "      <td>Power-hungry Canada ekes out surprise November...</td>\n",
       "      <td>2020-01-31</td>\n",
       "      <td>-1</td>\n",
       "      <td>0.998827</td>\n",
       "      <td>1</td>\n",
       "      <td>0.001120</td>\n",
       "      <td>0</td>\n",
       "      <td>0.000053</td>\n",
       "      <td>-1.498827</td>\n",
       "    </tr>\n",
       "    <tr>\n",
       "      <th>14</th>\n",
       "      <td>9</td>\n",
       "      <td>Bloomberg News</td>\n",
       "      <td>U.S. seeks biggest change to economic-data rel...</td>\n",
       "      <td>2020-01-14</td>\n",
       "      <td>-1</td>\n",
       "      <td>0.940589</td>\n",
       "      <td>1</td>\n",
       "      <td>0.058896</td>\n",
       "      <td>0</td>\n",
       "      <td>0.000515</td>\n",
       "      <td>-1.440589</td>\n",
       "    </tr>\n",
       "    <tr>\n",
       "      <th>15</th>\n",
       "      <td>84</td>\n",
       "      <td>{'id': 'fp-bloomberg-news', 'name': 'Bloomberg...</td>\n",
       "      <td>U.S.-China pact signals global trade progress,...</td>\n",
       "      <td>2020-01-09</td>\n",
       "      <td>-1</td>\n",
       "      <td>0.829418</td>\n",
       "      <td>1</td>\n",
       "      <td>0.113257</td>\n",
       "      <td>0</td>\n",
       "      <td>0.057325</td>\n",
       "      <td>-1.329418</td>\n",
       "    </tr>\n",
       "    <tr>\n",
       "      <th>16</th>\n",
       "      <td>11</td>\n",
       "      <td>Bloomberg News</td>\n",
       "      <td>Consumer spending bump offset by inventories i...</td>\n",
       "      <td>2019-12-20</td>\n",
       "      <td>-1</td>\n",
       "      <td>0.648869</td>\n",
       "      <td>1</td>\n",
       "      <td>0.337513</td>\n",
       "      <td>0</td>\n",
       "      <td>0.013618</td>\n",
       "      <td>-1.148869</td>\n",
       "    </tr>\n",
       "    <tr>\n",
       "      <th>17</th>\n",
       "      <td>86</td>\n",
       "      <td>{'id': 'fp-bloomberg-news', 'name': 'Bloomberg...</td>\n",
       "      <td>Forget interest rate decisions. Loonie traders...</td>\n",
       "      <td>2019-12-20</td>\n",
       "      <td>1</td>\n",
       "      <td>0.825695</td>\n",
       "      <td>0</td>\n",
       "      <td>0.091613</td>\n",
       "      <td>-1</td>\n",
       "      <td>0.082692</td>\n",
       "      <td>1.325695</td>\n",
       "    </tr>\n",
       "    <tr>\n",
       "      <th>18</th>\n",
       "      <td>87</td>\n",
       "      <td>{'id': 'fp-bloomberg-news', 'name': 'Bloomberg...</td>\n",
       "      <td>Canadian economy faces a prolonged period of s...</td>\n",
       "      <td>2019-11-28</td>\n",
       "      <td>-1</td>\n",
       "      <td>0.993534</td>\n",
       "      <td>1</td>\n",
       "      <td>0.004680</td>\n",
       "      <td>0</td>\n",
       "      <td>0.001786</td>\n",
       "      <td>-1.493534</td>\n",
       "    </tr>\n",
       "    <tr>\n",
       "      <th>19</th>\n",
       "      <td>88</td>\n",
       "      <td>{'id': 'fp-bloomberg-news', 'name': 'Bloomberg...</td>\n",
       "      <td>Baby boomers are thriving on an 'unprecedented...</td>\n",
       "      <td>2019-11-19</td>\n",
       "      <td>0</td>\n",
       "      <td>0.508406</td>\n",
       "      <td>-1</td>\n",
       "      <td>0.316508</td>\n",
       "      <td>1</td>\n",
       "      <td>0.175086</td>\n",
       "      <td>-0.141422</td>\n",
       "    </tr>\n",
       "    <tr>\n",
       "      <th>20</th>\n",
       "      <td>15</td>\n",
       "      <td>Bloomberg News</td>\n",
       "      <td>Canada's economy grew at a slower-than-expecte...</td>\n",
       "      <td>2019-10-31</td>\n",
       "      <td>-1</td>\n",
       "      <td>0.995578</td>\n",
       "      <td>1</td>\n",
       "      <td>0.004284</td>\n",
       "      <td>0</td>\n",
       "      <td>0.000138</td>\n",
       "      <td>-1.495578</td>\n",
       "    </tr>\n",
       "    <tr>\n",
       "      <th>21</th>\n",
       "      <td>18</td>\n",
       "      <td>Bloomberg News</td>\n",
       "      <td>Canadian economy stalls in July amid oil and g...</td>\n",
       "      <td>2019-10-01</td>\n",
       "      <td>-1</td>\n",
       "      <td>0.999433</td>\n",
       "      <td>1</td>\n",
       "      <td>0.000463</td>\n",
       "      <td>0</td>\n",
       "      <td>0.000104</td>\n",
       "      <td>-1.499433</td>\n",
       "    </tr>\n",
       "    <tr>\n",
       "      <th>22</th>\n",
       "      <td>92</td>\n",
       "      <td>{'id': 'fp-bloomberg-news', 'name': 'Bloomberg...</td>\n",
       "      <td>Liberal promises will lead to four more years ...</td>\n",
       "      <td>2019-09-30</td>\n",
       "      <td>1</td>\n",
       "      <td>0.732754</td>\n",
       "      <td>0</td>\n",
       "      <td>0.211887</td>\n",
       "      <td>-1</td>\n",
       "      <td>0.055359</td>\n",
       "      <td>1.232754</td>\n",
       "    </tr>\n",
       "    <tr>\n",
       "      <th>23</th>\n",
       "      <td>90</td>\n",
       "      <td>{'id': 'fp-bloomberg-news', 'name': 'Bloomberg...</td>\n",
       "      <td>Liberal promises would lead to four more years...</td>\n",
       "      <td>2019-09-30</td>\n",
       "      <td>1</td>\n",
       "      <td>0.736613</td>\n",
       "      <td>0</td>\n",
       "      <td>0.216099</td>\n",
       "      <td>-1</td>\n",
       "      <td>0.047288</td>\n",
       "      <td>1.236613</td>\n",
       "    </tr>\n",
       "    <tr>\n",
       "      <th>24</th>\n",
       "      <td>94</td>\n",
       "      <td>{'id': 'fp-bloomberg-news', 'name': 'Bloomberg...</td>\n",
       "      <td>GM strike in U.S. could lead to thousands of a...</td>\n",
       "      <td>2019-09-16</td>\n",
       "      <td>-1</td>\n",
       "      <td>0.839207</td>\n",
       "      <td>1</td>\n",
       "      <td>0.084503</td>\n",
       "      <td>0</td>\n",
       "      <td>0.076290</td>\n",
       "      <td>-1.339207</td>\n",
       "    </tr>\n",
       "    <tr>\n",
       "      <th>25</th>\n",
       "      <td>95</td>\n",
       "      <td>{'id': 'fp-bloomberg-news', 'name': 'Bloomberg...</td>\n",
       "      <td>It's getting harder for the Bank of Canada to ...</td>\n",
       "      <td>2019-09-04</td>\n",
       "      <td>-1</td>\n",
       "      <td>0.987412</td>\n",
       "      <td>1</td>\n",
       "      <td>0.010781</td>\n",
       "      <td>0</td>\n",
       "      <td>0.001807</td>\n",
       "      <td>-1.487412</td>\n",
       "    </tr>\n",
       "    <tr>\n",
       "      <th>26</th>\n",
       "      <td>96</td>\n",
       "      <td>{'id': 'fp-bloomberg-news', 'name': 'Bloomberg...</td>\n",
       "      <td>What sewage screening suggests about cannabis ...</td>\n",
       "      <td>2019-09-03</td>\n",
       "      <td>0</td>\n",
       "      <td>0.962278</td>\n",
       "      <td>-1</td>\n",
       "      <td>0.019281</td>\n",
       "      <td>1</td>\n",
       "      <td>0.018440</td>\n",
       "      <td>-0.000841</td>\n",
       "    </tr>\n",
       "    <tr>\n",
       "      <th>27</th>\n",
       "      <td>97</td>\n",
       "      <td>{'id': 'fp-bloomberg-news', 'name': 'Bloomberg...</td>\n",
       "      <td>If you thought August was bad, get ready for t...</td>\n",
       "      <td>2019-09-03</td>\n",
       "      <td>-1</td>\n",
       "      <td>0.754968</td>\n",
       "      <td>1</td>\n",
       "      <td>0.203169</td>\n",
       "      <td>0</td>\n",
       "      <td>0.041864</td>\n",
       "      <td>-1.254968</td>\n",
       "    </tr>\n",
       "    <tr>\n",
       "      <th>28</th>\n",
       "      <td>99</td>\n",
       "      <td>{'id': 'fp-bloomberg-news', 'name': 'Bloomberg...</td>\n",
       "      <td>Canadian stocks have lost $97 billion in Augus...</td>\n",
       "      <td>2019-08-26</td>\n",
       "      <td>-1</td>\n",
       "      <td>0.882517</td>\n",
       "      <td>1</td>\n",
       "      <td>0.098558</td>\n",
       "      <td>0</td>\n",
       "      <td>0.018925</td>\n",
       "      <td>-1.382517</td>\n",
       "    </tr>\n",
       "    <tr>\n",
       "      <th>29</th>\n",
       "      <td>101</td>\n",
       "      <td>{'id': 'fp-bloomberg-news', 'name': 'Bloomberg...</td>\n",
       "      <td>Wake up Canada: There's still plenty of news t...</td>\n",
       "      <td>2019-08-26</td>\n",
       "      <td>-1</td>\n",
       "      <td>0.444224</td>\n",
       "      <td>0</td>\n",
       "      <td>0.423576</td>\n",
       "      <td>1</td>\n",
       "      <td>0.132199</td>\n",
       "      <td>-0.944224</td>\n",
       "    </tr>\n",
       "    <tr>\n",
       "      <th>30</th>\n",
       "      <td>23</td>\n",
       "      <td>Bloomberg News</td>\n",
       "      <td>U.S. growth slows to 2.1% as trade tensions we...</td>\n",
       "      <td>2019-07-26</td>\n",
       "      <td>-1</td>\n",
       "      <td>0.999006</td>\n",
       "      <td>1</td>\n",
       "      <td>0.000964</td>\n",
       "      <td>0</td>\n",
       "      <td>0.000030</td>\n",
       "      <td>-1.499006</td>\n",
       "    </tr>\n",
       "    <tr>\n",
       "      <th>31</th>\n",
       "      <td>24</td>\n",
       "      <td>Bloomberg News</td>\n",
       "      <td>China's growth slides to weakest pace in almos...</td>\n",
       "      <td>2019-07-14</td>\n",
       "      <td>-1</td>\n",
       "      <td>0.933019</td>\n",
       "      <td>1</td>\n",
       "      <td>0.050737</td>\n",
       "      <td>0</td>\n",
       "      <td>0.016244</td>\n",
       "      <td>-1.433019</td>\n",
       "    </tr>\n",
       "    <tr>\n",
       "      <th>32</th>\n",
       "      <td>25</td>\n",
       "      <td>Bloomberg News</td>\n",
       "      <td>Oil rebound drives Canada's best two-month GDP...</td>\n",
       "      <td>2019-06-28</td>\n",
       "      <td>1</td>\n",
       "      <td>0.884579</td>\n",
       "      <td>-1</td>\n",
       "      <td>0.092115</td>\n",
       "      <td>0</td>\n",
       "      <td>0.023307</td>\n",
       "      <td>1.384579</td>\n",
       "    </tr>\n",
       "    <tr>\n",
       "      <th>33</th>\n",
       "      <td>105</td>\n",
       "      <td>{'id': 'fp-bloomberg-news', 'name': 'Bloomberg...</td>\n",
       "      <td>Three reasons Canadians will feel the pain of ...</td>\n",
       "      <td>2019-06-10</td>\n",
       "      <td>-1</td>\n",
       "      <td>0.669954</td>\n",
       "      <td>1</td>\n",
       "      <td>0.277639</td>\n",
       "      <td>0</td>\n",
       "      <td>0.052407</td>\n",
       "      <td>-1.169954</td>\n",
       "    </tr>\n",
       "    <tr>\n",
       "      <th>34</th>\n",
       "      <td>107</td>\n",
       "      <td>{'id': 'fp-bloomberg-news', 'name': 'Bloomberg...</td>\n",
       "      <td>Canada's yield curve inverts the most in 12 ye...</td>\n",
       "      <td>2019-05-31</td>\n",
       "      <td>-1</td>\n",
       "      <td>0.996742</td>\n",
       "      <td>0</td>\n",
       "      <td>0.001842</td>\n",
       "      <td>1</td>\n",
       "      <td>0.001416</td>\n",
       "      <td>-1.496742</td>\n",
       "    </tr>\n",
       "    <tr>\n",
       "      <th>35</th>\n",
       "      <td>108</td>\n",
       "      <td>{'id': 'fp-bloomberg-news', 'name': 'Bloomberg...</td>\n",
       "      <td>Canadians' insolvency problems might not be as...</td>\n",
       "      <td>2019-05-23</td>\n",
       "      <td>1</td>\n",
       "      <td>0.924225</td>\n",
       "      <td>-1</td>\n",
       "      <td>0.054221</td>\n",
       "      <td>0</td>\n",
       "      <td>0.021554</td>\n",
       "      <td>1.424225</td>\n",
       "    </tr>\n",
       "    <tr>\n",
       "      <th>36</th>\n",
       "      <td>109</td>\n",
       "      <td>{'id': 'fp-bloomberg-news', 'name': 'Bloomberg...</td>\n",
       "      <td>Canadian wholesalers post fastest growth in 17...</td>\n",
       "      <td>2019-05-23</td>\n",
       "      <td>-1</td>\n",
       "      <td>0.615535</td>\n",
       "      <td>1</td>\n",
       "      <td>0.354934</td>\n",
       "      <td>0</td>\n",
       "      <td>0.029531</td>\n",
       "      <td>-1.115535</td>\n",
       "    </tr>\n",
       "    <tr>\n",
       "      <th>37</th>\n",
       "      <td>110</td>\n",
       "      <td>{'id': 'fp-bloomberg-news', 'name': 'Bloomberg...</td>\n",
       "      <td>Fed signals patience on rate moves ‘for some t...</td>\n",
       "      <td>2019-05-22</td>\n",
       "      <td>0</td>\n",
       "      <td>0.479097</td>\n",
       "      <td>1</td>\n",
       "      <td>0.396053</td>\n",
       "      <td>-1</td>\n",
       "      <td>0.124850</td>\n",
       "      <td>0.271204</td>\n",
       "    </tr>\n",
       "    <tr>\n",
       "      <th>38</th>\n",
       "      <td>26</td>\n",
       "      <td>Bloomberg News</td>\n",
       "      <td>Canadian economy shrinks with poor weather add...</td>\n",
       "      <td>2019-04-30</td>\n",
       "      <td>-1</td>\n",
       "      <td>0.998785</td>\n",
       "      <td>1</td>\n",
       "      <td>0.001165</td>\n",
       "      <td>0</td>\n",
       "      <td>0.000050</td>\n",
       "      <td>-1.498785</td>\n",
       "    </tr>\n",
       "    <tr>\n",
       "      <th>39</th>\n",
       "      <td>27</td>\n",
       "      <td>Bloomberg News</td>\n",
       "      <td>Why are economists so bad at forecasting reces...</td>\n",
       "      <td>2019-04-29</td>\n",
       "      <td>0</td>\n",
       "      <td>0.882658</td>\n",
       "      <td>1</td>\n",
       "      <td>0.076461</td>\n",
       "      <td>-1</td>\n",
       "      <td>0.040881</td>\n",
       "      <td>0.035580</td>\n",
       "    </tr>\n",
       "    <tr>\n",
       "      <th>40</th>\n",
       "      <td>113</td>\n",
       "      <td>{'id': 'fp-bloomberg-news', 'name': 'Bloomberg...</td>\n",
       "      <td>Trump is slamming the Fed again, saying stocks...</td>\n",
       "      <td>2019-04-15</td>\n",
       "      <td>1</td>\n",
       "      <td>0.846158</td>\n",
       "      <td>-1</td>\n",
       "      <td>0.136665</td>\n",
       "      <td>0</td>\n",
       "      <td>0.017177</td>\n",
       "      <td>1.346158</td>\n",
       "    </tr>\n",
       "    <tr>\n",
       "      <th>41</th>\n",
       "      <td>114</td>\n",
       "      <td>{'id': 'fp-bloomberg-news', 'name': 'Bloomberg...</td>\n",
       "      <td>Trump is slamming the Fed again, saying stocks...</td>\n",
       "      <td>2019-04-15</td>\n",
       "      <td>1</td>\n",
       "      <td>0.846158</td>\n",
       "      <td>-1</td>\n",
       "      <td>0.136665</td>\n",
       "      <td>0</td>\n",
       "      <td>0.017177</td>\n",
       "      <td>1.346158</td>\n",
       "    </tr>\n",
       "    <tr>\n",
       "      <th>42</th>\n",
       "      <td>115</td>\n",
       "      <td>{'id': 'fp-bloomberg-news', 'name': 'Bloomberg...</td>\n",
       "      <td>WTO says tariff war will hammer global trade g...</td>\n",
       "      <td>2019-04-02</td>\n",
       "      <td>-1</td>\n",
       "      <td>0.863895</td>\n",
       "      <td>1</td>\n",
       "      <td>0.087082</td>\n",
       "      <td>0</td>\n",
       "      <td>0.049023</td>\n",
       "      <td>-1.363895</td>\n",
       "    </tr>\n",
       "    <tr>\n",
       "      <th>43</th>\n",
       "      <td>116</td>\n",
       "      <td>{'id': 'fp-bloomberg-news', 'name': 'Bloomberg...</td>\n",
       "      <td>Stephen Poloz confident slowdown is temporary,...</td>\n",
       "      <td>2019-04-01</td>\n",
       "      <td>-1</td>\n",
       "      <td>0.858499</td>\n",
       "      <td>0</td>\n",
       "      <td>0.111134</td>\n",
       "      <td>1</td>\n",
       "      <td>0.030367</td>\n",
       "      <td>-1.358499</td>\n",
       "    </tr>\n",
       "  </tbody>\n",
       "</table>\n",
       "</div>"
      ],
      "text/plain": [
       "    Unnamed: 0                                             source  \\\n",
       "0            0                                     Bloomberg News   \n",
       "1           67  {'id': 'fp-bloomberg-news', 'name': 'Bloomberg...   \n",
       "2           69  {'id': 'fp-bloomberg-news', 'name': 'Bloomberg...   \n",
       "3            1                                     Bloomberg News   \n",
       "4           71  {'id': 'fp-bloomberg-news', 'name': 'Bloomberg...   \n",
       "5            2                                     Bloomberg News   \n",
       "6           72  {'id': 'fp-bloomberg-news', 'name': 'Bloomberg...   \n",
       "7           73  {'id': 'fp-bloomberg-news', 'name': 'Bloomberg...   \n",
       "8           75  {'id': 'fp-bloomberg-news', 'name': 'Bloomberg...   \n",
       "9           76  {'id': 'fp-bloomberg-news', 'name': 'Bloomberg...   \n",
       "10          79  {'id': 'fp-bloomberg-news', 'name': 'Bloomberg...   \n",
       "11           3                                     Bloomberg News   \n",
       "12          80  {'id': 'fp-bloomberg-news', 'name': 'Bloomberg...   \n",
       "13           6                                     Bloomberg News   \n",
       "14           9                                     Bloomberg News   \n",
       "15          84  {'id': 'fp-bloomberg-news', 'name': 'Bloomberg...   \n",
       "16          11                                     Bloomberg News   \n",
       "17          86  {'id': 'fp-bloomberg-news', 'name': 'Bloomberg...   \n",
       "18          87  {'id': 'fp-bloomberg-news', 'name': 'Bloomberg...   \n",
       "19          88  {'id': 'fp-bloomberg-news', 'name': 'Bloomberg...   \n",
       "20          15                                     Bloomberg News   \n",
       "21          18                                     Bloomberg News   \n",
       "22          92  {'id': 'fp-bloomberg-news', 'name': 'Bloomberg...   \n",
       "23          90  {'id': 'fp-bloomberg-news', 'name': 'Bloomberg...   \n",
       "24          94  {'id': 'fp-bloomberg-news', 'name': 'Bloomberg...   \n",
       "25          95  {'id': 'fp-bloomberg-news', 'name': 'Bloomberg...   \n",
       "26          96  {'id': 'fp-bloomberg-news', 'name': 'Bloomberg...   \n",
       "27          97  {'id': 'fp-bloomberg-news', 'name': 'Bloomberg...   \n",
       "28          99  {'id': 'fp-bloomberg-news', 'name': 'Bloomberg...   \n",
       "29         101  {'id': 'fp-bloomberg-news', 'name': 'Bloomberg...   \n",
       "30          23                                     Bloomberg News   \n",
       "31          24                                     Bloomberg News   \n",
       "32          25                                     Bloomberg News   \n",
       "33         105  {'id': 'fp-bloomberg-news', 'name': 'Bloomberg...   \n",
       "34         107  {'id': 'fp-bloomberg-news', 'name': 'Bloomberg...   \n",
       "35         108  {'id': 'fp-bloomberg-news', 'name': 'Bloomberg...   \n",
       "36         109  {'id': 'fp-bloomberg-news', 'name': 'Bloomberg...   \n",
       "37         110  {'id': 'fp-bloomberg-news', 'name': 'Bloomberg...   \n",
       "38          26                                     Bloomberg News   \n",
       "39          27                                     Bloomberg News   \n",
       "40         113  {'id': 'fp-bloomberg-news', 'name': 'Bloomberg...   \n",
       "41         114  {'id': 'fp-bloomberg-news', 'name': 'Bloomberg...   \n",
       "42         115  {'id': 'fp-bloomberg-news', 'name': 'Bloomberg...   \n",
       "43         116  {'id': 'fp-bloomberg-news', 'name': 'Bloomberg...   \n",
       "\n",
       "                                           title_desc publishedAt  best_label  \\\n",
       "0   Economic growth stalled in February ahead of v...  2020-04-30          -1   \n",
       "1   America’s longest economic expansion is over —...  2020-04-29          -1   \n",
       "2   Once seen as safer than gold, Canadian real es...  2020-04-16          -1   \n",
       "3   China won't be able to bail us out this time. ...  2020-04-16          -1   \n",
       "4   Michael Burry of 'The Big Short' slams coronav...  2020-04-07          -1   \n",
       "5   Canada ekes out meager growth in January befor...  2020-03-31          -1   \n",
       "6   Canada ekes out meagre growth in January befor...  2020-03-31          -1   \n",
       "7   White House, senators strike deal on America's...  2020-03-25          -1   \n",
       "8   Stock losses deepen after latest U.S. stimulus...  2020-03-23          -1   \n",
       "9   Searching for a bottom, Canada's stock manager...  2020-03-18          -1   \n",
       "10  Canadian recession is likely without fiscal st...  2020-03-11          -1   \n",
       "11  Economists start forecasting negative U.S. GDP...  2020-03-11          -1   \n",
       "12  Oil price plunge stokes fears of a recession i...  2020-03-09          -1   \n",
       "13  Power-hungry Canada ekes out surprise November...  2020-01-31          -1   \n",
       "14  U.S. seeks biggest change to economic-data rel...  2020-01-14          -1   \n",
       "15  U.S.-China pact signals global trade progress,...  2020-01-09          -1   \n",
       "16  Consumer spending bump offset by inventories i...  2019-12-20          -1   \n",
       "17  Forget interest rate decisions. Loonie traders...  2019-12-20           1   \n",
       "18  Canadian economy faces a prolonged period of s...  2019-11-28          -1   \n",
       "19  Baby boomers are thriving on an 'unprecedented...  2019-11-19           0   \n",
       "20  Canada's economy grew at a slower-than-expecte...  2019-10-31          -1   \n",
       "21  Canadian economy stalls in July amid oil and g...  2019-10-01          -1   \n",
       "22  Liberal promises will lead to four more years ...  2019-09-30           1   \n",
       "23  Liberal promises would lead to four more years...  2019-09-30           1   \n",
       "24  GM strike in U.S. could lead to thousands of a...  2019-09-16          -1   \n",
       "25  It's getting harder for the Bank of Canada to ...  2019-09-04          -1   \n",
       "26  What sewage screening suggests about cannabis ...  2019-09-03           0   \n",
       "27  If you thought August was bad, get ready for t...  2019-09-03          -1   \n",
       "28  Canadian stocks have lost $97 billion in Augus...  2019-08-26          -1   \n",
       "29  Wake up Canada: There's still plenty of news t...  2019-08-26          -1   \n",
       "30  U.S. growth slows to 2.1% as trade tensions we...  2019-07-26          -1   \n",
       "31  China's growth slides to weakest pace in almos...  2019-07-14          -1   \n",
       "32  Oil rebound drives Canada's best two-month GDP...  2019-06-28           1   \n",
       "33  Three reasons Canadians will feel the pain of ...  2019-06-10          -1   \n",
       "34  Canada's yield curve inverts the most in 12 ye...  2019-05-31          -1   \n",
       "35  Canadians' insolvency problems might not be as...  2019-05-23           1   \n",
       "36  Canadian wholesalers post fastest growth in 17...  2019-05-23          -1   \n",
       "37  Fed signals patience on rate moves ‘for some t...  2019-05-22           0   \n",
       "38  Canadian economy shrinks with poor weather add...  2019-04-30          -1   \n",
       "39  Why are economists so bad at forecasting reces...  2019-04-29           0   \n",
       "40  Trump is slamming the Fed again, saying stocks...  2019-04-15           1   \n",
       "41  Trump is slamming the Fed again, saying stocks...  2019-04-15           1   \n",
       "42  WTO says tariff war will hammer global trade g...  2019-04-02          -1   \n",
       "43  Stephen Poloz confident slowdown is temporary,...  2019-04-01          -1   \n",
       "\n",
       "    best_confidence  second_likely  second_confidence  least_likely  \\\n",
       "0          0.997521              1           0.002091             0   \n",
       "1          0.998286              1           0.000875             0   \n",
       "2          0.990286              1           0.005900             0   \n",
       "3          0.973306              1           0.018563             0   \n",
       "4          0.965097              0           0.017516             1   \n",
       "5          0.998931              1           0.000762             0   \n",
       "6          0.989178              1           0.010187             0   \n",
       "7          0.990717              1           0.009045             0   \n",
       "8          0.831419              1           0.163293             0   \n",
       "9          0.921441              1           0.040193             0   \n",
       "10         0.833643              0           0.084216             1   \n",
       "11         0.893479              1           0.105699             0   \n",
       "12         0.990107              1           0.007518             0   \n",
       "13         0.998827              1           0.001120             0   \n",
       "14         0.940589              1           0.058896             0   \n",
       "15         0.829418              1           0.113257             0   \n",
       "16         0.648869              1           0.337513             0   \n",
       "17         0.825695              0           0.091613            -1   \n",
       "18         0.993534              1           0.004680             0   \n",
       "19         0.508406             -1           0.316508             1   \n",
       "20         0.995578              1           0.004284             0   \n",
       "21         0.999433              1           0.000463             0   \n",
       "22         0.732754              0           0.211887            -1   \n",
       "23         0.736613              0           0.216099            -1   \n",
       "24         0.839207              1           0.084503             0   \n",
       "25         0.987412              1           0.010781             0   \n",
       "26         0.962278             -1           0.019281             1   \n",
       "27         0.754968              1           0.203169             0   \n",
       "28         0.882517              1           0.098558             0   \n",
       "29         0.444224              0           0.423576             1   \n",
       "30         0.999006              1           0.000964             0   \n",
       "31         0.933019              1           0.050737             0   \n",
       "32         0.884579             -1           0.092115             0   \n",
       "33         0.669954              1           0.277639             0   \n",
       "34         0.996742              0           0.001842             1   \n",
       "35         0.924225             -1           0.054221             0   \n",
       "36         0.615535              1           0.354934             0   \n",
       "37         0.479097              1           0.396053            -1   \n",
       "38         0.998785              1           0.001165             0   \n",
       "39         0.882658              1           0.076461            -1   \n",
       "40         0.846158             -1           0.136665             0   \n",
       "41         0.846158             -1           0.136665             0   \n",
       "42         0.863895              1           0.087082             0   \n",
       "43         0.858499              0           0.111134             1   \n",
       "\n",
       "    least_confidence  raw_sentiment_score  \n",
       "0           0.000388            -1.497521  \n",
       "1           0.000839            -1.498286  \n",
       "2           0.003815            -1.490286  \n",
       "3           0.008131            -1.473306  \n",
       "4           0.017386            -1.465097  \n",
       "5           0.000307            -1.498931  \n",
       "6           0.000635            -1.489178  \n",
       "7           0.000238            -1.490717  \n",
       "8           0.005287            -1.331419  \n",
       "9           0.038366            -1.421441  \n",
       "10          0.082141            -1.333643  \n",
       "11          0.000821            -1.393479  \n",
       "12          0.002375            -1.490107  \n",
       "13          0.000053            -1.498827  \n",
       "14          0.000515            -1.440589  \n",
       "15          0.057325            -1.329418  \n",
       "16          0.013618            -1.148869  \n",
       "17          0.082692             1.325695  \n",
       "18          0.001786            -1.493534  \n",
       "19          0.175086            -0.141422  \n",
       "20          0.000138            -1.495578  \n",
       "21          0.000104            -1.499433  \n",
       "22          0.055359             1.232754  \n",
       "23          0.047288             1.236613  \n",
       "24          0.076290            -1.339207  \n",
       "25          0.001807            -1.487412  \n",
       "26          0.018440            -0.000841  \n",
       "27          0.041864            -1.254968  \n",
       "28          0.018925            -1.382517  \n",
       "29          0.132199            -0.944224  \n",
       "30          0.000030            -1.499006  \n",
       "31          0.016244            -1.433019  \n",
       "32          0.023307             1.384579  \n",
       "33          0.052407            -1.169954  \n",
       "34          0.001416            -1.496742  \n",
       "35          0.021554             1.424225  \n",
       "36          0.029531            -1.115535  \n",
       "37          0.124850             0.271204  \n",
       "38          0.000050            -1.498785  \n",
       "39          0.040881             0.035580  \n",
       "40          0.017177             1.346158  \n",
       "41          0.017177             1.346158  \n",
       "42          0.049023            -1.363895  \n",
       "43          0.030367            -1.358499  "
      ]
     },
     "execution_count": 50,
     "metadata": {},
     "output_type": "execute_result"
    }
   ],
   "source": [
    "## use senti_df produced from Aaron's code -- containing continuous sentiment score\n",
    "\n",
    "import pandas as pd\n",
    "from datetime import datetime\n",
    "\n",
    "def generate_raw_sentiment_score(row):\n",
    "    '''calculate sentiment score based on best_label'''\n",
    "    if row['best_label'] == 1:\n",
    "        result = row['best_confidence'] + 0.5\n",
    "    elif row['best_label'] == -1:\n",
    "        result = -row['best_confidence'] - 0.5\n",
    "    else:\n",
    "        # total = row['best_confidence'] + row['second_confidence'] + row['least_confidence'] these add up to 1\n",
    "        if row['second_likely'] == 1:\n",
    "            result = row['second_confidence'] - row['least_confidence']\n",
    "        else:\n",
    "            result = row['least_confidence'] - row['second_confidence']\n",
    "    return result\n",
    "\n",
    "def get_raw_sentiment_score(csvpath):\n",
    "    '''outputs a dataframe that contains the raw sentiment score for all the articles'''\n",
    "    df = pd.read_csv(csvpath)\n",
    "    df['publishedAt'] = df['publishedAt'].apply(lambda x: datetime.strptime(x, '%Y-%m-%d').date())\n",
    "    df['raw_sentiment_score'] = df.apply(lambda row: generate_raw_sentiment_score(row), axis=1)\n",
    "    return df\n",
    "\n",
    "url_gdp_prediction = 'https://raw.github.ubc.ca/ltian05/better_dwelling_capstone/master/week_4/predictions/prediction_output/unannotated_GDP_Bloomberg_predictions.csv?token=AAAAOMT7F4GPS4GRINYCZC2633F5Q'\n",
    "gdp_with_raw = get_raw_sentiment_score(url_gdp_prediction)\n",
    "gdp_with_raw"
   ]
  },
  {
   "cell_type": "code",
   "execution_count": 60,
   "metadata": {},
   "outputs": [],
   "source": [
    "bbg_sentiment_df = gdp_with_raw.set_index('publishedAt')"
   ]
  },
  {
   "cell_type": "code",
   "execution_count": 51,
   "metadata": {},
   "outputs": [
    {
     "data": {
      "text/html": [
       "<div>\n",
       "<style scoped>\n",
       "    .dataframe tbody tr th:only-of-type {\n",
       "        vertical-align: middle;\n",
       "    }\n",
       "\n",
       "    .dataframe tbody tr th {\n",
       "        vertical-align: top;\n",
       "    }\n",
       "\n",
       "    .dataframe thead th {\n",
       "        text-align: right;\n",
       "    }\n",
       "</style>\n",
       "<table border=\"1\" class=\"dataframe\">\n",
       "  <thead>\n",
       "    <tr style=\"text-align: right;\">\n",
       "      <th></th>\n",
       "      <th>source</th>\n",
       "      <th>title_desc</th>\n",
       "      <th>publishedAt</th>\n",
       "      <th>best_label</th>\n",
       "      <th>best_confidence</th>\n",
       "      <th>second_likely</th>\n",
       "      <th>second_confidence</th>\n",
       "      <th>least_likely</th>\n",
       "      <th>least_confidence</th>\n",
       "      <th>raw_sentiment_score</th>\n",
       "    </tr>\n",
       "  </thead>\n",
       "  <tbody>\n",
       "    <tr>\n",
       "      <th>0</th>\n",
       "      <td>CBC</td>\n",
       "      <td>Canada's economy was slowing down even before ...</td>\n",
       "      <td>2020-04-30</td>\n",
       "      <td>-1</td>\n",
       "      <td>0.998120</td>\n",
       "      <td>1</td>\n",
       "      <td>0.001353</td>\n",
       "      <td>0</td>\n",
       "      <td>0.000526</td>\n",
       "      <td>-1.498120</td>\n",
       "    </tr>\n",
       "    <tr>\n",
       "      <th>1</th>\n",
       "      <td>CBC</td>\n",
       "      <td>Canada's economy was slowing even before COVID...</td>\n",
       "      <td>2020-03-31</td>\n",
       "      <td>-1</td>\n",
       "      <td>0.493540</td>\n",
       "      <td>0</td>\n",
       "      <td>0.413250</td>\n",
       "      <td>1</td>\n",
       "      <td>0.093211</td>\n",
       "      <td>-0.993540</td>\n",
       "    </tr>\n",
       "    <tr>\n",
       "      <th>2</th>\n",
       "      <td>CBC</td>\n",
       "      <td>Canada's economy rebounded with 0.1% GDP incre...</td>\n",
       "      <td>2020-01-31</td>\n",
       "      <td>-1</td>\n",
       "      <td>0.969221</td>\n",
       "      <td>1</td>\n",
       "      <td>0.021293</td>\n",
       "      <td>0</td>\n",
       "      <td>0.009485</td>\n",
       "      <td>-1.469221</td>\n",
       "    </tr>\n",
       "    <tr>\n",
       "      <th>3</th>\n",
       "      <td>CBC</td>\n",
       "      <td>U.S. reports on GDP, consumer spending remain ...</td>\n",
       "      <td>2019-11-27</td>\n",
       "      <td>-1</td>\n",
       "      <td>0.942319</td>\n",
       "      <td>1</td>\n",
       "      <td>0.053510</td>\n",
       "      <td>0</td>\n",
       "      <td>0.004171</td>\n",
       "      <td>-1.442319</td>\n",
       "    </tr>\n",
       "    <tr>\n",
       "      <th>4</th>\n",
       "      <td>CBC</td>\n",
       "      <td>A crisis like no other: Canada's finances coul...</td>\n",
       "      <td>2020-05-16</td>\n",
       "      <td>-1</td>\n",
       "      <td>0.910275</td>\n",
       "      <td>0</td>\n",
       "      <td>0.064336</td>\n",
       "      <td>1</td>\n",
       "      <td>0.025390</td>\n",
       "      <td>-1.410275</td>\n",
       "    </tr>\n",
       "    <tr>\n",
       "      <th>...</th>\n",
       "      <td>...</td>\n",
       "      <td>...</td>\n",
       "      <td>...</td>\n",
       "      <td>...</td>\n",
       "      <td>...</td>\n",
       "      <td>...</td>\n",
       "      <td>...</td>\n",
       "      <td>...</td>\n",
       "      <td>...</td>\n",
       "      <td>...</td>\n",
       "    </tr>\n",
       "    <tr>\n",
       "      <th>92</th>\n",
       "      <td>CBC</td>\n",
       "      <td>Budget aimed at health care, education and pov...</td>\n",
       "      <td>2020-02-25</td>\n",
       "      <td>-1</td>\n",
       "      <td>0.970833</td>\n",
       "      <td>1</td>\n",
       "      <td>0.020794</td>\n",
       "      <td>0</td>\n",
       "      <td>0.008373</td>\n",
       "      <td>-1.470833</td>\n",
       "    </tr>\n",
       "    <tr>\n",
       "      <th>93</th>\n",
       "      <td>CBC</td>\n",
       "      <td>What Canada's economy would look like if Alber...</td>\n",
       "      <td>2019-09-30</td>\n",
       "      <td>0</td>\n",
       "      <td>0.609898</td>\n",
       "      <td>-1</td>\n",
       "      <td>0.313420</td>\n",
       "      <td>1</td>\n",
       "      <td>0.076682</td>\n",
       "      <td>-0.236738</td>\n",
       "    </tr>\n",
       "    <tr>\n",
       "      <th>94</th>\n",
       "      <td>CBC</td>\n",
       "      <td>Liberals to boost spending and extend deficits...</td>\n",
       "      <td>2019-09-29</td>\n",
       "      <td>-1</td>\n",
       "      <td>0.616859</td>\n",
       "      <td>0</td>\n",
       "      <td>0.324614</td>\n",
       "      <td>1</td>\n",
       "      <td>0.058527</td>\n",
       "      <td>-1.116859</td>\n",
       "    </tr>\n",
       "    <tr>\n",
       "      <th>95</th>\n",
       "      <td>CBC</td>\n",
       "      <td>Winter is coming, and so is an uncharted econo...</td>\n",
       "      <td>2019-08-13</td>\n",
       "      <td>0</td>\n",
       "      <td>0.876635</td>\n",
       "      <td>-1</td>\n",
       "      <td>0.085343</td>\n",
       "      <td>1</td>\n",
       "      <td>0.038022</td>\n",
       "      <td>-0.047320</td>\n",
       "    </tr>\n",
       "    <tr>\n",
       "      <th>96</th>\n",
       "      <td>CBC</td>\n",
       "      <td>Canada's economy would be less hurt by climate...</td>\n",
       "      <td>2019-07-04</td>\n",
       "      <td>1</td>\n",
       "      <td>0.546619</td>\n",
       "      <td>0</td>\n",
       "      <td>0.411786</td>\n",
       "      <td>-1</td>\n",
       "      <td>0.041595</td>\n",
       "      <td>1.046619</td>\n",
       "    </tr>\n",
       "  </tbody>\n",
       "</table>\n",
       "<p>97 rows × 10 columns</p>\n",
       "</div>"
      ],
      "text/plain": [
       "   source                                         title_desc publishedAt  \\\n",
       "0     CBC  Canada's economy was slowing down even before ...  2020-04-30   \n",
       "1     CBC  Canada's economy was slowing even before COVID...  2020-03-31   \n",
       "2     CBC  Canada's economy rebounded with 0.1% GDP incre...  2020-01-31   \n",
       "3     CBC  U.S. reports on GDP, consumer spending remain ...  2019-11-27   \n",
       "4     CBC  A crisis like no other: Canada's finances coul...  2020-05-16   \n",
       "..    ...                                                ...         ...   \n",
       "92    CBC  Budget aimed at health care, education and pov...  2020-02-25   \n",
       "93    CBC  What Canada's economy would look like if Alber...  2019-09-30   \n",
       "94    CBC  Liberals to boost spending and extend deficits...  2019-09-29   \n",
       "95    CBC  Winter is coming, and so is an uncharted econo...  2019-08-13   \n",
       "96    CBC  Canada's economy would be less hurt by climate...  2019-07-04   \n",
       "\n",
       "    best_label  best_confidence  second_likely  second_confidence  \\\n",
       "0           -1         0.998120              1           0.001353   \n",
       "1           -1         0.493540              0           0.413250   \n",
       "2           -1         0.969221              1           0.021293   \n",
       "3           -1         0.942319              1           0.053510   \n",
       "4           -1         0.910275              0           0.064336   \n",
       "..         ...              ...            ...                ...   \n",
       "92          -1         0.970833              1           0.020794   \n",
       "93           0         0.609898             -1           0.313420   \n",
       "94          -1         0.616859              0           0.324614   \n",
       "95           0         0.876635             -1           0.085343   \n",
       "96           1         0.546619              0           0.411786   \n",
       "\n",
       "    least_likely  least_confidence  raw_sentiment_score  \n",
       "0              0          0.000526            -1.498120  \n",
       "1              1          0.093211            -0.993540  \n",
       "2              0          0.009485            -1.469221  \n",
       "3              0          0.004171            -1.442319  \n",
       "4              1          0.025390            -1.410275  \n",
       "..           ...               ...                  ...  \n",
       "92             0          0.008373            -1.470833  \n",
       "93             1          0.076682            -0.236738  \n",
       "94             1          0.058527            -1.116859  \n",
       "95             1          0.038022            -0.047320  \n",
       "96            -1          0.041595             1.046619  \n",
       "\n",
       "[97 rows x 10 columns]"
      ]
     },
     "execution_count": 51,
     "metadata": {},
     "output_type": "execute_result"
    }
   ],
   "source": [
    "url_gdp_prediction = 'https://raw.github.ubc.ca/ltian05/better_dwelling_capstone/amylam/sentiment_analyzer/data/prediction_output/cbc/unannotated_GDP_CBC_predictions.csv?token=AAAAPK4DI6H43GJIUKXHWJK64AHL6'\n",
    "gdp_with_raw2 = get_raw_sentiment_score(url_gdp_prediction)\n",
    "gdp_with_raw2"
   ]
  },
  {
   "cell_type": "code",
   "execution_count": 172,
   "metadata": {},
   "outputs": [],
   "source": [
    "# function by Aaron\n",
    "def get_monthly_avg_score(df):\n",
    "    \"\"\"\n",
    "    Calculate the monthly average sentiment scores for one indicator of one source.\n",
    "    \n",
    "    input:\n",
    "    df: a dataframe that includes the raw sentiment scores of prediction\n",
    "    \n",
    "    output:\n",
    "    A one column dataframe, the index of which is date (publishedAt) which represents \n",
    "    the month of the average score. The monthly_avg_sent_score column is the \n",
    "    average sentiment score.\n",
    "    \n",
    "    \"\"\"\n",
    "    \n",
    "    #ave_df = df.resample('M', on='publishedAt').mean() #changed on Jun3 5:20pm. publishedAt is now the index column|\n",
    "    ave_df = df.resample('M').mean()\n",
    "    ave_df = ave_df[['raw_sentiment_score']].rename(columns={'raw_sentiment_score': 'monthly_avg_sent_score'})\n",
    "    ave_df = ave_df.fillna(method='ffill')\n",
    "    return ave_df\n"
   ]
  },
  {
   "cell_type": "code",
   "execution_count": 63,
   "metadata": {},
   "outputs": [],
   "source": [
    "#bbg_sentiment_df = gdp_with_raw.set_index('publishedAt')\n",
    "\n",
    "# bbg_gdp_avg = get_monthly_avg_score(gdp_with_raw)\n",
    "# bbg_gdp_avg"
   ]
  },
  {
   "cell_type": "code",
   "execution_count": 4,
   "metadata": {
    "scrolled": true
   },
   "outputs": [
    {
     "name": "stderr",
     "output_type": "stream",
     "text": [
      "C:\\Users\\gen80\\Anaconda3\\lib\\site-packages\\ipykernel_launcher.py:4: SettingWithCopyWarning:\n",
      "\n",
      "\n",
      "A value is trying to be set on a copy of a slice from a DataFrame.\n",
      "Try using .loc[row_indexer,col_indexer] = value instead\n",
      "\n",
      "See the caveats in the documentation: https://pandas.pydata.org/pandas-docs/stable/user_guide/indexing.html#returning-a-view-versus-a-copy\n",
      "\n",
      "C:\\Users\\gen80\\Anaconda3\\lib\\site-packages\\ipykernel_launcher.py:8: SettingWithCopyWarning:\n",
      "\n",
      "\n",
      "A value is trying to be set on a copy of a slice from a DataFrame.\n",
      "Try using .loc[row_indexer,col_indexer] = value instead\n",
      "\n",
      "See the caveats in the documentation: https://pandas.pydata.org/pandas-docs/stable/user_guide/indexing.html#returning-a-view-versus-a-copy\n",
      "\n"
     ]
    },
    {
     "data": {
      "text/html": [
       "<div>\n",
       "<style scoped>\n",
       "    .dataframe tbody tr th:only-of-type {\n",
       "        vertical-align: middle;\n",
       "    }\n",
       "\n",
       "    .dataframe tbody tr th {\n",
       "        vertical-align: top;\n",
       "    }\n",
       "\n",
       "    .dataframe thead th {\n",
       "        text-align: right;\n",
       "    }\n",
       "</style>\n",
       "<table border=\"1\" class=\"dataframe\">\n",
       "  <thead>\n",
       "    <tr style=\"text-align: right;\">\n",
       "      <th></th>\n",
       "      <th>publishedAt</th>\n",
       "      <th>source</th>\n",
       "      <th>title_desc</th>\n",
       "      <th>raw_sentiment_score</th>\n",
       "    </tr>\n",
       "  </thead>\n",
       "  <tbody>\n",
       "    <tr>\n",
       "      <th>0</th>\n",
       "      <td>2020-04-30</td>\n",
       "      <td>Bloomberg</td>\n",
       "      <td>Economic growth stalled in February ahead of v...</td>\n",
       "      <td>-1.497521</td>\n",
       "    </tr>\n",
       "    <tr>\n",
       "      <th>1</th>\n",
       "      <td>2020-04-29</td>\n",
       "      <td>Bloomberg</td>\n",
       "      <td>America’s longest economic expansion is over —...</td>\n",
       "      <td>-1.498286</td>\n",
       "    </tr>\n",
       "    <tr>\n",
       "      <th>2</th>\n",
       "      <td>2020-04-16</td>\n",
       "      <td>Bloomberg</td>\n",
       "      <td>Once seen as safer than gold, Canadian real es...</td>\n",
       "      <td>-1.490286</td>\n",
       "    </tr>\n",
       "    <tr>\n",
       "      <th>3</th>\n",
       "      <td>2020-04-16</td>\n",
       "      <td>Bloomberg</td>\n",
       "      <td>China won't be able to bail us out this time. ...</td>\n",
       "      <td>-1.473306</td>\n",
       "    </tr>\n",
       "    <tr>\n",
       "      <th>4</th>\n",
       "      <td>2020-04-07</td>\n",
       "      <td>Bloomberg</td>\n",
       "      <td>Michael Burry of 'The Big Short' slams coronav...</td>\n",
       "      <td>-1.465097</td>\n",
       "    </tr>\n",
       "  </tbody>\n",
       "</table>\n",
       "</div>"
      ],
      "text/plain": [
       "  publishedAt     source                                         title_desc  \\\n",
       "0  2020-04-30  Bloomberg  Economic growth stalled in February ahead of v...   \n",
       "1  2020-04-29  Bloomberg  America’s longest economic expansion is over —...   \n",
       "2  2020-04-16  Bloomberg  Once seen as safer than gold, Canadian real es...   \n",
       "3  2020-04-16  Bloomberg  China won't be able to bail us out this time. ...   \n",
       "4  2020-04-07  Bloomberg  Michael Burry of 'The Big Short' slams coronav...   \n",
       "\n",
       "   raw_sentiment_score  \n",
       "0            -1.497521  \n",
       "1            -1.498286  \n",
       "2            -1.490286  \n",
       "3            -1.473306  \n",
       "4            -1.465097  "
      ]
     },
     "execution_count": 4,
     "metadata": {},
     "output_type": "execute_result"
    }
   ],
   "source": [
    "# unify the source naming for later filtering\n",
    "\n",
    "test_senti_df = gdp_with_raw[['publishedAt','source','title_desc','raw_sentiment_score']]\n",
    "test_senti_df['source'] = \"Bloomberg\"\n",
    "test_senti_df.head()\n",
    "\n",
    "test_senti_df2= gdp_with_raw2[['publishedAt','source','title_desc','raw_sentiment_score']]\n",
    "test_senti_df2['source'] = \"CBC\"\n",
    "test_senti_df2.head()\n",
    "\n",
    "mixedsource_senti_df = pd.concat([test_senti_df,test_senti_df2])\n",
    "mixedsource_senti_df.head()"
   ]
  },
  {
   "cell_type": "code",
   "execution_count": 5,
   "metadata": {},
   "outputs": [
    {
     "data": {
      "text/html": [
       "<div>\n",
       "<style scoped>\n",
       "    .dataframe tbody tr th:only-of-type {\n",
       "        vertical-align: middle;\n",
       "    }\n",
       "\n",
       "    .dataframe tbody tr th {\n",
       "        vertical-align: top;\n",
       "    }\n",
       "\n",
       "    .dataframe thead th {\n",
       "        text-align: right;\n",
       "    }\n",
       "</style>\n",
       "<table border=\"1\" class=\"dataframe\">\n",
       "  <thead>\n",
       "    <tr style=\"text-align: right;\">\n",
       "      <th></th>\n",
       "      <th>publishedAt</th>\n",
       "      <th>source</th>\n",
       "      <th>title_desc</th>\n",
       "      <th>final_sentiment</th>\n",
       "    </tr>\n",
       "  </thead>\n",
       "  <tbody>\n",
       "    <tr>\n",
       "      <th>43</th>\n",
       "      <td>2019-04-01</td>\n",
       "      <td>Bloomberg</td>\n",
       "      <td>Stephen Poloz confident slowdown is temporary,...</td>\n",
       "      <td>-1.358499</td>\n",
       "    </tr>\n",
       "    <tr>\n",
       "      <th>42</th>\n",
       "      <td>2019-04-02</td>\n",
       "      <td>Bloomberg</td>\n",
       "      <td>WTO says tariff war will hammer global trade g...</td>\n",
       "      <td>-1.363895</td>\n",
       "    </tr>\n",
       "    <tr>\n",
       "      <th>41</th>\n",
       "      <td>2019-04-15</td>\n",
       "      <td>Bloomberg</td>\n",
       "      <td>Trump is slamming the Fed again, saying stocks...</td>\n",
       "      <td>1.346158</td>\n",
       "    </tr>\n",
       "    <tr>\n",
       "      <th>40</th>\n",
       "      <td>2019-04-15</td>\n",
       "      <td>Bloomberg</td>\n",
       "      <td>Trump is slamming the Fed again, saying stocks...</td>\n",
       "      <td>1.346158</td>\n",
       "    </tr>\n",
       "    <tr>\n",
       "      <th>39</th>\n",
       "      <td>2019-04-29</td>\n",
       "      <td>Bloomberg</td>\n",
       "      <td>Why are economists so bad at forecasting reces...</td>\n",
       "      <td>0.035580</td>\n",
       "    </tr>\n",
       "    <tr>\n",
       "      <th>...</th>\n",
       "      <td>...</td>\n",
       "      <td>...</td>\n",
       "      <td>...</td>\n",
       "      <td>...</td>\n",
       "    </tr>\n",
       "    <tr>\n",
       "      <th>11</th>\n",
       "      <td>2020-05-09</td>\n",
       "      <td>CBC</td>\n",
       "      <td>Deficit reduction will have to wait for the ec...</td>\n",
       "      <td>-0.272068</td>\n",
       "    </tr>\n",
       "    <tr>\n",
       "      <th>7</th>\n",
       "      <td>2020-05-13</td>\n",
       "      <td>CBC</td>\n",
       "      <td>England tiptoes out of lockdown as economy div...</td>\n",
       "      <td>-1.440326</td>\n",
       "    </tr>\n",
       "    <tr>\n",
       "      <th>5</th>\n",
       "      <td>2020-05-13</td>\n",
       "      <td>CBC</td>\n",
       "      <td>Federal deficit likely to be higher than $252 ...</td>\n",
       "      <td>-1.494338</td>\n",
       "    </tr>\n",
       "    <tr>\n",
       "      <th>6</th>\n",
       "      <td>2020-05-14</td>\n",
       "      <td>CBC</td>\n",
       "      <td>New Zealand plans spending spree to counter vi...</td>\n",
       "      <td>-1.161278</td>\n",
       "    </tr>\n",
       "    <tr>\n",
       "      <th>4</th>\n",
       "      <td>2020-05-16</td>\n",
       "      <td>CBC</td>\n",
       "      <td>A crisis like no other: Canada's finances coul...</td>\n",
       "      <td>-1.410275</td>\n",
       "    </tr>\n",
       "  </tbody>\n",
       "</table>\n",
       "<p>141 rows × 4 columns</p>\n",
       "</div>"
      ],
      "text/plain": [
       "   publishedAt     source                                         title_desc  \\\n",
       "43  2019-04-01  Bloomberg  Stephen Poloz confident slowdown is temporary,...   \n",
       "42  2019-04-02  Bloomberg  WTO says tariff war will hammer global trade g...   \n",
       "41  2019-04-15  Bloomberg  Trump is slamming the Fed again, saying stocks...   \n",
       "40  2019-04-15  Bloomberg  Trump is slamming the Fed again, saying stocks...   \n",
       "39  2019-04-29  Bloomberg  Why are economists so bad at forecasting reces...   \n",
       "..         ...        ...                                                ...   \n",
       "11  2020-05-09        CBC  Deficit reduction will have to wait for the ec...   \n",
       "7   2020-05-13        CBC  England tiptoes out of lockdown as economy div...   \n",
       "5   2020-05-13        CBC  Federal deficit likely to be higher than $252 ...   \n",
       "6   2020-05-14        CBC  New Zealand plans spending spree to counter vi...   \n",
       "4   2020-05-16        CBC  A crisis like no other: Canada's finances coul...   \n",
       "\n",
       "    final_sentiment  \n",
       "43        -1.358499  \n",
       "42        -1.363895  \n",
       "41         1.346158  \n",
       "40         1.346158  \n",
       "39         0.035580  \n",
       "..              ...  \n",
       "11        -0.272068  \n",
       "7         -1.440326  \n",
       "5         -1.494338  \n",
       "6         -1.161278  \n",
       "4         -1.410275  \n",
       "\n",
       "[141 rows x 4 columns]"
      ]
     },
     "execution_count": 5,
     "metadata": {},
     "output_type": "execute_result"
    }
   ],
   "source": [
    "mixedsource_senti_df = mixedsource_senti_df.sort_values('publishedAt')\n",
    "mixedsource_senti_df = mixedsource_senti_df.rename(columns= {\"raw_sentiment_score\":\"final_sentiment\"})\n",
    "\n",
    "mixedsource_senti_df"
   ]
  },
  {
   "cell_type": "code",
   "execution_count": 169,
   "metadata": {},
   "outputs": [
    {
     "data": {
      "text/html": [
       "<div>\n",
       "<style scoped>\n",
       "    .dataframe tbody tr th:only-of-type {\n",
       "        vertical-align: middle;\n",
       "    }\n",
       "\n",
       "    .dataframe tbody tr th {\n",
       "        vertical-align: top;\n",
       "    }\n",
       "\n",
       "    .dataframe thead th {\n",
       "        text-align: right;\n",
       "    }\n",
       "</style>\n",
       "<table border=\"1\" class=\"dataframe\">\n",
       "  <thead>\n",
       "    <tr style=\"text-align: right;\">\n",
       "      <th></th>\n",
       "      <th>Unnamed: 0</th>\n",
       "      <th>source</th>\n",
       "      <th>title_desc</th>\n",
       "      <th>raw_sentiment_score</th>\n",
       "      <th>indicator</th>\n",
       "      <th>annotation_type</th>\n",
       "    </tr>\n",
       "    <tr>\n",
       "      <th>publishedAt</th>\n",
       "      <th></th>\n",
       "      <th></th>\n",
       "      <th></th>\n",
       "      <th></th>\n",
       "      <th></th>\n",
       "      <th></th>\n",
       "    </tr>\n",
       "  </thead>\n",
       "  <tbody>\n",
       "    <tr>\n",
       "      <th>2020-05-13</th>\n",
       "      <td>0</td>\n",
       "      <td>CBC</td>\n",
       "      <td>Hamilton economy in 'extraordinary pain' but w...</td>\n",
       "      <td>-1.5</td>\n",
       "      <td>gdp</td>\n",
       "      <td>annotated</td>\n",
       "    </tr>\n",
       "    <tr>\n",
       "      <th>2020-05-13</th>\n",
       "      <td>1</td>\n",
       "      <td>CBC</td>\n",
       "      <td>Federal deficit likely to be higher than $252 ...</td>\n",
       "      <td>-1.5</td>\n",
       "      <td>gdp</td>\n",
       "      <td>annotated</td>\n",
       "    </tr>\n",
       "    <tr>\n",
       "      <th>2020-05-07</th>\n",
       "      <td>2</td>\n",
       "      <td>CBC</td>\n",
       "      <td>Post-secondary schools face rough autumn if pa...</td>\n",
       "      <td>0.0</td>\n",
       "      <td>gdp</td>\n",
       "      <td>annotated</td>\n",
       "    </tr>\n",
       "    <tr>\n",
       "      <th>2020-05-06</th>\n",
       "      <td>3</td>\n",
       "      <td>CBC</td>\n",
       "      <td>May and Blanchet declare the oilpatch 'dead,' ...</td>\n",
       "      <td>-1.5</td>\n",
       "      <td>gdp</td>\n",
       "      <td>annotated</td>\n",
       "    </tr>\n",
       "    <tr>\n",
       "      <th>2020-05-04</th>\n",
       "      <td>4</td>\n",
       "      <td>Bloomberg</td>\n",
       "      <td>Setback to Montreal retail reopening shows roc...</td>\n",
       "      <td>-1.5</td>\n",
       "      <td>gdp</td>\n",
       "      <td>annotated</td>\n",
       "    </tr>\n",
       "  </tbody>\n",
       "</table>\n",
       "</div>"
      ],
      "text/plain": [
       "             Unnamed: 0     source  \\\n",
       "publishedAt                          \n",
       "2020-05-13            0        CBC   \n",
       "2020-05-13            1        CBC   \n",
       "2020-05-07            2        CBC   \n",
       "2020-05-06            3        CBC   \n",
       "2020-05-04            4  Bloomberg   \n",
       "\n",
       "                                                    title_desc  \\\n",
       "publishedAt                                                      \n",
       "2020-05-13   Hamilton economy in 'extraordinary pain' but w...   \n",
       "2020-05-13   Federal deficit likely to be higher than $252 ...   \n",
       "2020-05-07   Post-secondary schools face rough autumn if pa...   \n",
       "2020-05-06   May and Blanchet declare the oilpatch 'dead,' ...   \n",
       "2020-05-04   Setback to Montreal retail reopening shows roc...   \n",
       "\n",
       "             raw_sentiment_score indicator annotation_type  \n",
       "publishedAt                                                 \n",
       "2020-05-13                  -1.5       gdp       annotated  \n",
       "2020-05-13                  -1.5       gdp       annotated  \n",
       "2020-05-07                   0.0       gdp       annotated  \n",
       "2020-05-06                  -1.5       gdp       annotated  \n",
       "2020-05-04                  -1.5       gdp       annotated  "
      ]
     },
     "execution_count": 169,
     "metadata": {},
     "output_type": "execute_result"
    }
   ],
   "source": [
    "# a giant senti_df made by Aaron\n",
    "\n",
    "combined_senti_df = pd.read_csv(\"combined_annotation_prediction.csv\",parse_dates=['publishedAt'],index_col='publishedAt')\n",
    "#clean source naming inconsistency\n",
    "combined_senti_df.source = combined_senti_df.source.str.replace(\"{'id': 'fp-bloomberg-news', 'name': 'Bloomberg News From FP'}\",\"Bloomberg\")\n",
    "combined_senti_df.source = combined_senti_df.source.str.replace(\"Bloomberg News\",\"Bloomberg\")\n",
    "combined_senti_df.source = combined_senti_df.source.str.replace(\"BNN Bloomberg\",\"Bloomberg\")\n",
    "\n",
    "\n",
    "combined_senti_df.head()"
   ]
  },
  {
   "cell_type": "code",
   "execution_count": 112,
   "metadata": {
    "scrolled": true
   },
   "outputs": [
    {
     "data": {
      "text/plain": [
       "array(['CBC', 'Bloomberg'], dtype=object)"
      ]
     },
     "execution_count": 112,
     "metadata": {},
     "output_type": "execute_result"
    }
   ],
   "source": [
    "combined_senti_df.source.unique()"
   ]
  },
  {
   "cell_type": "code",
   "execution_count": 82,
   "metadata": {},
   "outputs": [
    {
     "data": {
      "text/plain": [
       "array(['gdp', 'employment', 'housing', 'interest', 'mortgage', 'stock'],\n",
       "      dtype=object)"
      ]
     },
     "execution_count": 82,
     "metadata": {},
     "output_type": "execute_result"
    }
   ],
   "source": [
    "combined_senti_df.indicator.unique()"
   ]
  },
  {
   "cell_type": "code",
   "execution_count": 90,
   "metadata": {},
   "outputs": [],
   "source": [
    "# filtering works for get_monthly_avg_score ! \n",
    "monthly_senti_df_gdp_cbc =get_monthly_avg_score(combined_senti_df.query('indicator==\"gdp\" & source == \"CBC\" '))\n",
    "monthly_senti_df_mortgage =get_monthly_avg_score(combined_senti_df.query('indicator==\"mortgage\" '))"
   ]
  },
  {
   "cell_type": "code",
   "execution_count": 115,
   "metadata": {},
   "outputs": [
    {
     "data": {
      "text/plain": [
       "DatetimeIndex(['2019-05-31', '2019-06-30', '2019-07-31', '2019-08-31',\n",
       "               '2019-09-30', '2019-10-31', '2019-11-30', '2019-12-31',\n",
       "               '2020-01-31', '2020-02-29', '2020-03-31', '2020-04-30',\n",
       "               '2020-05-31'],\n",
       "              dtype='datetime64[ns]', name='publishedAt', freq='M')"
      ]
     },
     "execution_count": 115,
     "metadata": {},
     "output_type": "execute_result"
    }
   ],
   "source": [
    "monthly_senti_df_gdp_cbc.index"
   ]
  },
  {
   "cell_type": "code",
   "execution_count": 186,
   "metadata": {},
   "outputs": [],
   "source": [
    "## UPDATED FUNCTION - WORKING\n",
    "def plot_combined_graph_new(indicator_df, senti_df, indicator_name=\"y-axis label\", title=\"Default Title\", add_rangeslide=True): \n",
    "    \"\"\"\n",
    "    returns a Plotly graph given a dataframes containing financial indicator data and \n",
    "    a dataframe containing sentiment values \n",
    "    INPUT:\n",
    "    indicator_df: dataframe containing a \"date\" column of datetimes and a \"values\" column of float values\n",
    "    senti_df: dataframe containing a \"final_sentiment\" column of float values\n",
    "    indicator_name: string label for y axis (what is tracked in indicator_df[\"values\"])\n",
    "    title: string of title \n",
    "    add_rangeslide: boolean of displaying\n",
    "    \"\"\"\n",
    "    fig = make_subplots(specs=[[{\"secondary_y\": True}]])\n",
    "    indi_y = indicator_df[\"values\"].astype('float64')\n",
    "    indi_dates = indicator_df[\"dates\"].astype('datetime64[ns]') \n",
    "    senti_y = senti_df[\"final_sentiment\"].astype('float64')\n",
    "    #senti_dates = senti_df[\"publishedAt\"].astype('datetime64[ns]')\n",
    "    senti_dates = senti_df.index.astype('datetime64[ns]') #Jun3 4:44 pm changed to get dates from index of senti_df\n",
    "    \n",
    "    \n",
    "    #set x axis limits for visualization\n",
    "    x_axis_limit_l = max([min(indi_dates), min(senti_dates)]) #latest of two start periods\n",
    "    x_axis_limit_r = min([max(indi_dates), max(senti_dates)]) #earliest of two end periods\n",
    "    #Add indicator area visualization - set boundaries, add to fig object, update axis\n",
    "    indi_axis_min = min(indi_y) - 0.1\n",
    "    indi_axis_max = max(indi_y) + 0.1\n",
    "    fig.add_trace(\n",
    "        go.Scatter(x=indi_dates, \n",
    "                   y=indi_y, \n",
    "                    name=indicator_name,\n",
    "                    fill='tonexty', \n",
    "                    mode='lines', \n",
    "                    line_color='blue'),\n",
    "                    secondary_y=False)\n",
    "    fig['layout']['yaxis1'].update(title=indicator_name, \n",
    "                                   range=[indi_axis_min, indi_axis_max], \n",
    "                                   autorange=False)\n",
    "    #Add sentiment line visualization - set boundaries, add to fig object, update axis\n",
    "    senti_axis_min = min(senti_y) - 1\n",
    "    senti_axis_max = max(senti_y) + 1\n",
    "    fig.add_trace(\n",
    "        go.Scatter(x=senti_dates, \n",
    "                   y=senti_y,\n",
    "                   name=\"test sentiment\", ## we should change this? \n",
    "                  line_color='orange'),\n",
    "                    secondary_y=True)\n",
    "    fig['layout']['yaxis2'].update(title='Sentiment Score', \n",
    "                                   range=[senti_axis_min, senti_axis_max])\n",
    "    #update x axis, add title, and show\n",
    "    fig.update_xaxes(rangeslider_visible=add_rangeslide,\n",
    "                     range = [x_axis_limit_l, x_axis_limit_r],\n",
    "                     title_text=\"Date\")\n",
    "    fig.update_layout(title_text=title)\n",
    "    #fig.show()\n",
    "    return fig"
   ]
  },
  {
   "cell_type": "code",
   "execution_count": 127,
   "metadata": {},
   "outputs": [],
   "source": [
    "def plot_combined_graph_old(indicator_df, senti_df, indicator_name=\"y-axis label\", title=\"Default Title\", add_rangeslide=True): \n",
    "    \"\"\"\n",
    "    returns a Plotly graph given a dataframes containing financial indicator data and \n",
    "    a dataframe containing sentiment values \n",
    "    \n",
    "    INPUT:\n",
    "    \n",
    "    indicator_df: dataframe containing a \"date\" column of datetimes and a \"values\" column of float values\n",
    "    senti_df: dataframe containing a \"final_sentiment\" column of float values\n",
    "    \n",
    "    indicator_name: string label for y axis (what is tracked in indicator_df[\"values\"])\n",
    "    title: string of title \n",
    "    add_rangeslide: boolean of displaying\n",
    "    \n",
    "    \n",
    "    \"\"\"\n",
    "    \n",
    "    fig = make_subplots(specs=[[{\"secondary_y\": True}]])\n",
    "\n",
    "    indi_y = indicator_df[\"values\"].astype('float64')\n",
    "    dates = indicator_df[\"dates\"]\n",
    "    senti_y = senti_df[\"final_sentiment\"].astype('float64')\n",
    "    \n",
    "    #check that \n",
    "    #assert(len(dates) == len(senti_y))\n",
    "    \n",
    "    #Add indicator area visualization - set boundaries, add to fig object, update axis\n",
    "    indi_axis_min = min(indi_y) - 0.1\n",
    "    indi_axis_max = max(indi_y) + 0.1\n",
    "\n",
    "    fig.add_trace(\n",
    "        go.Scatter(x=dates, \n",
    "                   y=indi_y, \n",
    "                    name=indicator_name,\n",
    "                    fill='tonexty', \n",
    "                    mode='lines', \n",
    "                    line_color='blue'),\n",
    "                    secondary_y=False)\n",
    "    fig['layout']['yaxis1'].update(title=indicator_name, \n",
    "                                   range=[indi_axis_min, indi_axis_max], \n",
    "                                   autorange=False)\n",
    "    \n",
    "    #Add sentiment line visualization - set boundaries, add to fig object, update axis\n",
    "    senti_axis_min = min(senti_y) - 1\n",
    "    senti_axis_max = max(senti_y) + 1\n",
    "    \n",
    "    fig.add_trace(\n",
    "        go.Scatter(x=dates, \n",
    "                   y=senti_y, \n",
    "                   name=\"test sentiment\", ## we should change this? \n",
    "                  line_color='orange'),\n",
    "                    secondary_y=True)\n",
    "    fig['layout']['yaxis2'].update(title='Sentiment Score', \n",
    "                                   range=[senti_axis_min, senti_axis_max])\n",
    "    \n",
    "    #update x axis, add title, and show\n",
    "    fig.update_xaxes(rangeslider_visible=add_rangeslide, title_text=\"Date\")\n",
    "    fig.update_layout(title_text=title)\n",
    "    #fig.show()\n",
    "    return fig"
   ]
  },
  {
   "cell_type": "code",
   "execution_count": 187,
   "metadata": {},
   "outputs": [],
   "source": [
    "def plot_combined_graph_scatter(indicator_df, senti_df, indicator_name=\"y-axis label\", title=\"Default Title\", add_rangeslide=True): \n",
    "    \"\"\"\n",
    "    returns a Plotly graph given a dataframes containing financial indicator data and \n",
    "    a dataframe containing sentiment values \n",
    "    INPUT:\n",
    "    indicator_df: dataframe containing a \"date\" column of datetimes and a \"values\" column of float values\n",
    "    senti_df: dataframe containing a \"final_sentiment\" column of float values\n",
    "    indicator_name: string label for y axis (what is tracked in indicator_df[\"values\"])\n",
    "    title: string of title \n",
    "    add_rangeslide: boolean of displaying\n",
    "    \"\"\"\n",
    "    fig = make_subplots(specs=[[{\"secondary_y\": True}]])\n",
    "    indi_y = indicator_df[\"values\"].astype('float64')\n",
    "    indi_dates = indicator_df[\"dates\"].astype('datetime64[ns]') \n",
    "    senti_y = senti_df[\"final_sentiment\"].astype('float64')\n",
    "    #senti_dates = senti_df[\"publishedAt\"].astype('datetime64[ns]') ##Jun3 changed to get dates from index of senti_df\n",
    "    senti_dates = senti_df.index.astype('datetime64[ns]')\n",
    "    \n",
    "    \n",
    "    #set x axis limits for visualization\n",
    "    x_axis_limit_l = max([min(indi_dates), min(senti_dates)]) #latest of two start periods\n",
    "    x_axis_limit_r = min([max(indi_dates), max(senti_dates)]) #earliest of two end periods\n",
    "    #Add indicator area visualization - set boundaries, add to fig object, update axis\n",
    "    indi_axis_min = min(indi_y) - 0.1\n",
    "    indi_axis_max = max(indi_y) + 0.1\n",
    "    fig.add_trace(\n",
    "        go.Scatter(x=indi_dates, \n",
    "                   y=indi_y, \n",
    "                    name=indicator_name,\n",
    "                    #fill=\"tozeroy\",\n",
    "                    mode='lines', \n",
    "                    line_color='blue'),\n",
    "                    secondary_y=False)\n",
    "    fig['layout']['yaxis1'].update(title=indicator_name, \n",
    "                                   range=[indi_axis_min, indi_axis_max], \n",
    "                                   autorange=False)\n",
    "    #Add sentiment line visualization - set boundaries, add to fig object, update axis\n",
    "    senti_axis_min = min(senti_y) - 1\n",
    "    senti_axis_max = max(senti_y) + 1\n",
    "    fig.add_trace(\n",
    "        go.Scatter(\n",
    "            x=senti_dates, \n",
    "            y=senti_y,\n",
    "            mode=\"markers\",\n",
    "            opacity=0.5, #0.95\n",
    "            name=\"Sentiment Score\",\n",
    "            marker=dict(\n",
    "                color=\"green\" #orange\n",
    "            )\n",
    "        ),\n",
    "        secondary_y=True\n",
    "    )\n",
    "    fig['layout']['yaxis2'].update(title='Sentiment Score', \n",
    "                                   range=[senti_axis_min, senti_axis_max])\n",
    "    #update x axis, add title, and show\n",
    "    fig.update_xaxes(rangeslider_visible=add_rangeslide,\n",
    "                     range = [x_axis_limit_l, x_axis_limit_r],\n",
    "                     title_text=\"Date\")\n",
    "    fig.update_layout(title_text=title)\n",
    "    #fig.show()\n",
    "    return fig"
   ]
  },
  {
   "cell_type": "code",
   "execution_count": 215,
   "metadata": {},
   "outputs": [],
   "source": [
    "# additional feature: add a new trace for annotated data/ to distinguish it from predicted data\n",
    "\n",
    "\n",
    "def plot_combined_graph_scatter_anno(indicator_df, senti_df, anno_senti_df ,indicator_name=\"y-axis label\", title=\"Default Title\", add_rangeslide=True): \n",
    "    \"\"\"\n",
    "    returns a Plotly graph given a dataframes containing financial indicator data and \n",
    "    a dataframe containing sentiment values \n",
    "    INPUT:\n",
    "    indicator_df: dataframe containing a \"date\" column of datetimes and a \"values\" column of float values\n",
    "    senti_df: dataframe containing a \"final_sentiment\" column of float values\n",
    "    indicator_name: string label for y axis (what is tracked in indicator_df[\"values\"])\n",
    "    title: string of title \n",
    "    add_rangeslide: boolean of displaying\n",
    "    \"\"\"\n",
    "    fig = make_subplots(specs=[[{\"secondary_y\": True}]])\n",
    "    indi_y = indicator_df[\"values\"].astype('float64')\n",
    "    indi_dates = indicator_df[\"dates\"].astype('datetime64[ns]') \n",
    "    senti_y = senti_df[\"final_sentiment\"].astype('float64')\n",
    "    #senti_dates = senti_df[\"publishedAt\"].astype('datetime64[ns]') ##Jun3 changed to get dates from index of senti_df\n",
    "    senti_dates = senti_df.index.astype('datetime64[ns]')\n",
    "    \n",
    "    anno_senti_y = anno_senti_df[\"final_sentiment\"].astype('float64')\n",
    "    \n",
    "    \n",
    "    #set x axis limits for visualization\n",
    "    x_axis_limit_l = max([min(indi_dates), min(senti_dates)]) #latest of two start periods\n",
    "    x_axis_limit_r = min([max(indi_dates), max(senti_dates)]) #earliest of two end periods\n",
    "    #Add indicator area visualization - set boundaries, add to fig object, update axis\n",
    "    indi_axis_min = min(indi_y) - 0.1\n",
    "    indi_axis_max = max(indi_y) + 0.1\n",
    "    fig.add_trace(\n",
    "        go.Scatter(x=indi_dates, \n",
    "                   y=indi_y, \n",
    "                    name=indicator_name,\n",
    "                    #fill=\"tozeroy\",\n",
    "                    mode='lines', \n",
    "                    line_color='blue'),\n",
    "                    secondary_y=False)\n",
    "    fig['layout']['yaxis1'].update(title=indicator_name, \n",
    "                                   range=[indi_axis_min, indi_axis_max], \n",
    "                                   autorange=False)\n",
    "    #Add sentiment line visualization - set boundaries, add to fig object, update axis\n",
    "    senti_axis_min = min(senti_y) - 1\n",
    "    senti_axis_max = max(senti_y) + 1\n",
    "    fig.add_trace(\n",
    "        go.Scatter(\n",
    "            x=senti_dates, \n",
    "            y=senti_y,\n",
    "            mode=\"markers\",\n",
    "            opacity=0.5, #0.95\n",
    "            name=\"Predicted Sentiment\",\n",
    "            marker=dict(\n",
    "                color=\"green\" #orange\n",
    "            )\n",
    "        ),\n",
    "        secondary_y=True\n",
    "    )\n",
    "    fig['layout']['yaxis2'].update(title='Sentiment Score', \n",
    "                                   range=[senti_axis_min, senti_axis_max])\n",
    "    \n",
    "    #add one more line for annotated data points\n",
    "    fig.add_trace(\n",
    "        go.Scatter(\n",
    "            x=senti_dates, \n",
    "            y=anno_senti_y,\n",
    "            mode=\"markers\",\n",
    "            opacity=0.5, #0.95\n",
    "            name=\"Golden Sentiment\",\n",
    "            marker=dict(\n",
    "                color=\"orange\" \n",
    "            )\n",
    "        ),\n",
    "        secondary_y=True\n",
    "    )\n",
    "    \n",
    "    #update x axis, add title, and show\n",
    "    fig.update_xaxes(rangeslider_visible=add_rangeslide,\n",
    "                     range = [x_axis_limit_l, x_axis_limit_r],\n",
    "                     title_text=\"Date\")\n",
    "    fig.update_layout(title_text=title)\n",
    "    #fig.show()\n",
    "    return fig"
   ]
  },
  {
   "cell_type": "code",
   "execution_count": 119,
   "metadata": {},
   "outputs": [
    {
     "data": {
      "text/html": [
       "<div>\n",
       "<style scoped>\n",
       "    .dataframe tbody tr th:only-of-type {\n",
       "        vertical-align: middle;\n",
       "    }\n",
       "\n",
       "    .dataframe tbody tr th {\n",
       "        vertical-align: top;\n",
       "    }\n",
       "\n",
       "    .dataframe thead th {\n",
       "        text-align: right;\n",
       "    }\n",
       "</style>\n",
       "<table border=\"1\" class=\"dataframe\">\n",
       "  <thead>\n",
       "    <tr style=\"text-align: right;\">\n",
       "      <th></th>\n",
       "      <th>dates</th>\n",
       "      <th>values</th>\n",
       "      <th>indicator</th>\n",
       "    </tr>\n",
       "  </thead>\n",
       "  <tbody>\n",
       "    <tr>\n",
       "      <th>0</th>\n",
       "      <td>2019-01-01</td>\n",
       "      <td>3.84</td>\n",
       "      <td>mortgage</td>\n",
       "    </tr>\n",
       "    <tr>\n",
       "      <th>1</th>\n",
       "      <td>2019-02-01</td>\n",
       "      <td>3.82</td>\n",
       "      <td>mortgage</td>\n",
       "    </tr>\n",
       "    <tr>\n",
       "      <th>2</th>\n",
       "      <td>2019-03-01</td>\n",
       "      <td>3.76</td>\n",
       "      <td>mortgage</td>\n",
       "    </tr>\n",
       "    <tr>\n",
       "      <th>3</th>\n",
       "      <td>2019-04-01</td>\n",
       "      <td>3.59</td>\n",
       "      <td>mortgage</td>\n",
       "    </tr>\n",
       "    <tr>\n",
       "      <th>4</th>\n",
       "      <td>2019-05-01</td>\n",
       "      <td>3.45</td>\n",
       "      <td>mortgage</td>\n",
       "    </tr>\n",
       "    <tr>\n",
       "      <th>5</th>\n",
       "      <td>2019-06-01</td>\n",
       "      <td>3.33</td>\n",
       "      <td>mortgage</td>\n",
       "    </tr>\n",
       "    <tr>\n",
       "      <th>6</th>\n",
       "      <td>2019-07-01</td>\n",
       "      <td>3.22</td>\n",
       "      <td>mortgage</td>\n",
       "    </tr>\n",
       "    <tr>\n",
       "      <th>7</th>\n",
       "      <td>2019-08-01</td>\n",
       "      <td>3.16</td>\n",
       "      <td>mortgage</td>\n",
       "    </tr>\n",
       "    <tr>\n",
       "      <th>8</th>\n",
       "      <td>2019-09-01</td>\n",
       "      <td>3.12</td>\n",
       "      <td>mortgage</td>\n",
       "    </tr>\n",
       "    <tr>\n",
       "      <th>9</th>\n",
       "      <td>2019-10-01</td>\n",
       "      <td>3.12</td>\n",
       "      <td>mortgage</td>\n",
       "    </tr>\n",
       "    <tr>\n",
       "      <th>10</th>\n",
       "      <td>2019-11-01</td>\n",
       "      <td>3.13</td>\n",
       "      <td>mortgage</td>\n",
       "    </tr>\n",
       "    <tr>\n",
       "      <th>11</th>\n",
       "      <td>2019-12-01</td>\n",
       "      <td>3.23</td>\n",
       "      <td>mortgage</td>\n",
       "    </tr>\n",
       "    <tr>\n",
       "      <th>12</th>\n",
       "      <td>2020-01-01</td>\n",
       "      <td>3.24</td>\n",
       "      <td>mortgage</td>\n",
       "    </tr>\n",
       "    <tr>\n",
       "      <th>13</th>\n",
       "      <td>2020-02-01</td>\n",
       "      <td>3.19</td>\n",
       "      <td>mortgage</td>\n",
       "    </tr>\n",
       "  </tbody>\n",
       "</table>\n",
       "</div>"
      ],
      "text/plain": [
       "         dates values indicator\n",
       "0   2019-01-01   3.84  mortgage\n",
       "1   2019-02-01   3.82  mortgage\n",
       "2   2019-03-01   3.76  mortgage\n",
       "3   2019-04-01   3.59  mortgage\n",
       "4   2019-05-01   3.45  mortgage\n",
       "5   2019-06-01   3.33  mortgage\n",
       "6   2019-07-01   3.22  mortgage\n",
       "7   2019-08-01   3.16  mortgage\n",
       "8   2019-09-01   3.12  mortgage\n",
       "9   2019-10-01   3.12  mortgage\n",
       "10  2019-11-01   3.13  mortgage\n",
       "11  2019-12-01   3.23  mortgage\n",
       "12  2020-01-01   3.24  mortgage\n",
       "13  2020-02-01   3.19  mortgage"
      ]
     },
     "execution_count": 119,
     "metadata": {},
     "output_type": "execute_result"
    }
   ],
   "source": [
    "test_mrg_df"
   ]
  },
  {
   "cell_type": "code",
   "execution_count": 128,
   "metadata": {},
   "outputs": [
    {
     "data": {
      "application/vnd.plotly.v1+json": {
       "config": {
        "plotlyServerURL": "https://plot.ly"
       },
       "data": [
        {
         "fill": "tonexty",
         "line": {
          "color": "blue"
         },
         "mode": "lines",
         "name": "gdp",
         "type": "scatter",
         "x": [
          "2019-01-01",
          "2019-02-01",
          "2019-03-01",
          "2019-04-01",
          "2019-05-01",
          "2019-06-01",
          "2019-07-01",
          "2019-08-01",
          "2019-09-01",
          "2019-10-01",
          "2019-11-01",
          "2019-12-01",
          "2020-01-01",
          "2020-02-01"
         ],
         "xaxis": "x",
         "y": [
          3.84,
          3.82,
          3.76,
          3.59,
          3.45,
          3.33,
          3.22,
          3.16,
          3.12,
          3.12,
          3.13,
          3.23,
          3.24,
          3.19
         ],
         "yaxis": "y"
        },
        {
         "line": {
          "color": "orange"
         },
         "name": "test sentiment",
         "type": "scatter",
         "x": [
          "2019-01-01",
          "2019-02-01",
          "2019-03-01",
          "2019-04-01",
          "2019-05-01",
          "2019-06-01",
          "2019-07-01",
          "2019-08-01",
          "2019-09-01",
          "2019-10-01",
          "2019-11-01",
          "2019-12-01",
          "2020-01-01",
          "2020-02-01"
         ],
         "xaxis": "x",
         "y": [
          -1.3584988117218018,
          -1.3638954758644104,
          1.3461576700210571,
          1.3461576700210571,
          0.03557952493429184,
          -1.4987849593162537,
          -1.4239038228988647,
          0.27120379358530045,
          1.4242247939109802,
          -0.052255853079259396,
          -1.1155351400375366,
          -1.4947170615196228,
          -1.4967417120933533,
          -1.4861286878585815,
          -1.1699542999267578,
          -1.4887521862983704,
          1.3845785856246948,
          -1.0514061450958252,
          1.0466192364692688,
          -1.4330191016197205,
          -1.4724942445755005,
          -1.4990059733390808,
          -1.3564692735671997,
          -0.04732032865285875,
          -1.4831101894378662,
          -1.382517158985138,
          -0.9442244172096252,
          -1.389236330986023,
          -1.3705164194107056,
          -0.0008412636816501583,
          -1.2549678087234497,
          -1.4874122142791748,
          -0.01021822914481163,
          -1.4502134919166565,
          -1.4902347326278687,
          -1.49246746301651,
          -1.1138149499893188,
          -1.3392068147659302,
          -1.245606780052185,
          -0.042585797607898726,
          -1.1168586015701294,
          1.2366125583648682,
          1.232754111289978,
          -0.23673763126134872,
          1.0025845766067505,
          -0.06451679905876517,
          -1.4994325041770935,
          -1.2277562022209167,
          -1.497061312198639,
          1.368165910243988,
          -1.413516879081726,
          -1.4955782294273376,
          -1.2855457067489624,
          -1.386469542980194,
          -1.435813069343567,
          -0.1414221823215485,
          -0.434554386883974,
          -1.4423192739486694,
          -1.4935338497161865,
          0.05560144782066345,
          -0.07459027692675592,
          0.09628693014383316,
          -1.4937759637832642,
          -1.4635162949562073,
          -1.1488687992095947,
          1.325694501399994,
          -0.018372856080532077,
          -1.3294180631637573,
          -1.4405885338783264,
          -1.4988272786140442,
          -1.4692213535308838,
          -1.1757996678352356,
          -1.2439340949058533,
          -1.4666168093681335,
          0.3088863492012024,
          -1.353023886680603,
          -1.4708333611488342,
          -1.4822140336036682,
          -1.2071483135223389,
          -1.4601668119430542,
          -1.4901069402694702,
          -1.3115956783294678,
          -0.30931245163083076,
          -1.3934794664382935,
          -1.4717780947685242,
          -1.4672401547431946,
          -1.3336432576179504,
          -1.495834231376648,
          -1.4214408993721008,
          -1.4872260689735413,
          -1.1600334644317627,
          -1.2040889859199524,
          -1.331419289112091,
          -0.05605441331863403,
          -1.4907165169715881,
          -1.4856913685798645,
          -0.4026195788756013,
          -1.0094648003578186,
          -1.4897488951683044,
          -1.4891778230667114,
          -1.4989307522773743,
          -0.9935397803783417,
          -0.015702236676588658,
          -1.0469048619270325,
          -1.4650974869728088,
          -1.4844489693641663,
          -1.3058145642280579,
          -1.065637469291687,
          -0.015296204015612602,
          -1.4980791807174683,
          -1.495346486568451,
          -1.4976140260696411,
          -0.9752251207828522,
          -1.490285575389862,
          -1.4733055233955383,
          -1.2837618589401245,
          -1.4795071482658386,
          -0.013365201652050022,
          0.13697616755962375,
          0.9750491678714752,
          0.019620519131422043,
          -0.9953454732894897,
          -0.21442283689975739,
          -1.4804351329803467,
          -1.4496411085128784,
          -1.4800333380699158,
          -1.498285949230194,
          -1.498120367527008,
          -1.4975207448005676,
          -1.4897152781486511,
          -1.268121063709259,
          -1.4863579273223877,
          -1.496625304222107,
          -1.016398012638092,
          0.2374052815139293,
          -1.4988458156585693,
          -0.27206782437860966,
          -1.440325915813446,
          -1.4943377375602722,
          -1.1612778902053833,
          -1.4102745652198792
         ],
         "yaxis": "y2"
        }
       ],
       "layout": {
        "template": {
         "data": {
          "bar": [
           {
            "error_x": {
             "color": "#2a3f5f"
            },
            "error_y": {
             "color": "#2a3f5f"
            },
            "marker": {
             "line": {
              "color": "#E5ECF6",
              "width": 0.5
             }
            },
            "type": "bar"
           }
          ],
          "barpolar": [
           {
            "marker": {
             "line": {
              "color": "#E5ECF6",
              "width": 0.5
             }
            },
            "type": "barpolar"
           }
          ],
          "carpet": [
           {
            "aaxis": {
             "endlinecolor": "#2a3f5f",
             "gridcolor": "white",
             "linecolor": "white",
             "minorgridcolor": "white",
             "startlinecolor": "#2a3f5f"
            },
            "baxis": {
             "endlinecolor": "#2a3f5f",
             "gridcolor": "white",
             "linecolor": "white",
             "minorgridcolor": "white",
             "startlinecolor": "#2a3f5f"
            },
            "type": "carpet"
           }
          ],
          "choropleth": [
           {
            "colorbar": {
             "outlinewidth": 0,
             "ticks": ""
            },
            "type": "choropleth"
           }
          ],
          "contour": [
           {
            "colorbar": {
             "outlinewidth": 0,
             "ticks": ""
            },
            "colorscale": [
             [
              0,
              "#0d0887"
             ],
             [
              0.1111111111111111,
              "#46039f"
             ],
             [
              0.2222222222222222,
              "#7201a8"
             ],
             [
              0.3333333333333333,
              "#9c179e"
             ],
             [
              0.4444444444444444,
              "#bd3786"
             ],
             [
              0.5555555555555556,
              "#d8576b"
             ],
             [
              0.6666666666666666,
              "#ed7953"
             ],
             [
              0.7777777777777778,
              "#fb9f3a"
             ],
             [
              0.8888888888888888,
              "#fdca26"
             ],
             [
              1,
              "#f0f921"
             ]
            ],
            "type": "contour"
           }
          ],
          "contourcarpet": [
           {
            "colorbar": {
             "outlinewidth": 0,
             "ticks": ""
            },
            "type": "contourcarpet"
           }
          ],
          "heatmap": [
           {
            "colorbar": {
             "outlinewidth": 0,
             "ticks": ""
            },
            "colorscale": [
             [
              0,
              "#0d0887"
             ],
             [
              0.1111111111111111,
              "#46039f"
             ],
             [
              0.2222222222222222,
              "#7201a8"
             ],
             [
              0.3333333333333333,
              "#9c179e"
             ],
             [
              0.4444444444444444,
              "#bd3786"
             ],
             [
              0.5555555555555556,
              "#d8576b"
             ],
             [
              0.6666666666666666,
              "#ed7953"
             ],
             [
              0.7777777777777778,
              "#fb9f3a"
             ],
             [
              0.8888888888888888,
              "#fdca26"
             ],
             [
              1,
              "#f0f921"
             ]
            ],
            "type": "heatmap"
           }
          ],
          "heatmapgl": [
           {
            "colorbar": {
             "outlinewidth": 0,
             "ticks": ""
            },
            "colorscale": [
             [
              0,
              "#0d0887"
             ],
             [
              0.1111111111111111,
              "#46039f"
             ],
             [
              0.2222222222222222,
              "#7201a8"
             ],
             [
              0.3333333333333333,
              "#9c179e"
             ],
             [
              0.4444444444444444,
              "#bd3786"
             ],
             [
              0.5555555555555556,
              "#d8576b"
             ],
             [
              0.6666666666666666,
              "#ed7953"
             ],
             [
              0.7777777777777778,
              "#fb9f3a"
             ],
             [
              0.8888888888888888,
              "#fdca26"
             ],
             [
              1,
              "#f0f921"
             ]
            ],
            "type": "heatmapgl"
           }
          ],
          "histogram": [
           {
            "marker": {
             "colorbar": {
              "outlinewidth": 0,
              "ticks": ""
             }
            },
            "type": "histogram"
           }
          ],
          "histogram2d": [
           {
            "colorbar": {
             "outlinewidth": 0,
             "ticks": ""
            },
            "colorscale": [
             [
              0,
              "#0d0887"
             ],
             [
              0.1111111111111111,
              "#46039f"
             ],
             [
              0.2222222222222222,
              "#7201a8"
             ],
             [
              0.3333333333333333,
              "#9c179e"
             ],
             [
              0.4444444444444444,
              "#bd3786"
             ],
             [
              0.5555555555555556,
              "#d8576b"
             ],
             [
              0.6666666666666666,
              "#ed7953"
             ],
             [
              0.7777777777777778,
              "#fb9f3a"
             ],
             [
              0.8888888888888888,
              "#fdca26"
             ],
             [
              1,
              "#f0f921"
             ]
            ],
            "type": "histogram2d"
           }
          ],
          "histogram2dcontour": [
           {
            "colorbar": {
             "outlinewidth": 0,
             "ticks": ""
            },
            "colorscale": [
             [
              0,
              "#0d0887"
             ],
             [
              0.1111111111111111,
              "#46039f"
             ],
             [
              0.2222222222222222,
              "#7201a8"
             ],
             [
              0.3333333333333333,
              "#9c179e"
             ],
             [
              0.4444444444444444,
              "#bd3786"
             ],
             [
              0.5555555555555556,
              "#d8576b"
             ],
             [
              0.6666666666666666,
              "#ed7953"
             ],
             [
              0.7777777777777778,
              "#fb9f3a"
             ],
             [
              0.8888888888888888,
              "#fdca26"
             ],
             [
              1,
              "#f0f921"
             ]
            ],
            "type": "histogram2dcontour"
           }
          ],
          "mesh3d": [
           {
            "colorbar": {
             "outlinewidth": 0,
             "ticks": ""
            },
            "type": "mesh3d"
           }
          ],
          "parcoords": [
           {
            "line": {
             "colorbar": {
              "outlinewidth": 0,
              "ticks": ""
             }
            },
            "type": "parcoords"
           }
          ],
          "pie": [
           {
            "automargin": true,
            "type": "pie"
           }
          ],
          "scatter": [
           {
            "marker": {
             "colorbar": {
              "outlinewidth": 0,
              "ticks": ""
             }
            },
            "type": "scatter"
           }
          ],
          "scatter3d": [
           {
            "line": {
             "colorbar": {
              "outlinewidth": 0,
              "ticks": ""
             }
            },
            "marker": {
             "colorbar": {
              "outlinewidth": 0,
              "ticks": ""
             }
            },
            "type": "scatter3d"
           }
          ],
          "scattercarpet": [
           {
            "marker": {
             "colorbar": {
              "outlinewidth": 0,
              "ticks": ""
             }
            },
            "type": "scattercarpet"
           }
          ],
          "scattergeo": [
           {
            "marker": {
             "colorbar": {
              "outlinewidth": 0,
              "ticks": ""
             }
            },
            "type": "scattergeo"
           }
          ],
          "scattergl": [
           {
            "marker": {
             "colorbar": {
              "outlinewidth": 0,
              "ticks": ""
             }
            },
            "type": "scattergl"
           }
          ],
          "scattermapbox": [
           {
            "marker": {
             "colorbar": {
              "outlinewidth": 0,
              "ticks": ""
             }
            },
            "type": "scattermapbox"
           }
          ],
          "scatterpolar": [
           {
            "marker": {
             "colorbar": {
              "outlinewidth": 0,
              "ticks": ""
             }
            },
            "type": "scatterpolar"
           }
          ],
          "scatterpolargl": [
           {
            "marker": {
             "colorbar": {
              "outlinewidth": 0,
              "ticks": ""
             }
            },
            "type": "scatterpolargl"
           }
          ],
          "scatterternary": [
           {
            "marker": {
             "colorbar": {
              "outlinewidth": 0,
              "ticks": ""
             }
            },
            "type": "scatterternary"
           }
          ],
          "surface": [
           {
            "colorbar": {
             "outlinewidth": 0,
             "ticks": ""
            },
            "colorscale": [
             [
              0,
              "#0d0887"
             ],
             [
              0.1111111111111111,
              "#46039f"
             ],
             [
              0.2222222222222222,
              "#7201a8"
             ],
             [
              0.3333333333333333,
              "#9c179e"
             ],
             [
              0.4444444444444444,
              "#bd3786"
             ],
             [
              0.5555555555555556,
              "#d8576b"
             ],
             [
              0.6666666666666666,
              "#ed7953"
             ],
             [
              0.7777777777777778,
              "#fb9f3a"
             ],
             [
              0.8888888888888888,
              "#fdca26"
             ],
             [
              1,
              "#f0f921"
             ]
            ],
            "type": "surface"
           }
          ],
          "table": [
           {
            "cells": {
             "fill": {
              "color": "#EBF0F8"
             },
             "line": {
              "color": "white"
             }
            },
            "header": {
             "fill": {
              "color": "#C8D4E3"
             },
             "line": {
              "color": "white"
             }
            },
            "type": "table"
           }
          ]
         },
         "layout": {
          "annotationdefaults": {
           "arrowcolor": "#2a3f5f",
           "arrowhead": 0,
           "arrowwidth": 1
          },
          "coloraxis": {
           "colorbar": {
            "outlinewidth": 0,
            "ticks": ""
           }
          },
          "colorscale": {
           "diverging": [
            [
             0,
             "#8e0152"
            ],
            [
             0.1,
             "#c51b7d"
            ],
            [
             0.2,
             "#de77ae"
            ],
            [
             0.3,
             "#f1b6da"
            ],
            [
             0.4,
             "#fde0ef"
            ],
            [
             0.5,
             "#f7f7f7"
            ],
            [
             0.6,
             "#e6f5d0"
            ],
            [
             0.7,
             "#b8e186"
            ],
            [
             0.8,
             "#7fbc41"
            ],
            [
             0.9,
             "#4d9221"
            ],
            [
             1,
             "#276419"
            ]
           ],
           "sequential": [
            [
             0,
             "#0d0887"
            ],
            [
             0.1111111111111111,
             "#46039f"
            ],
            [
             0.2222222222222222,
             "#7201a8"
            ],
            [
             0.3333333333333333,
             "#9c179e"
            ],
            [
             0.4444444444444444,
             "#bd3786"
            ],
            [
             0.5555555555555556,
             "#d8576b"
            ],
            [
             0.6666666666666666,
             "#ed7953"
            ],
            [
             0.7777777777777778,
             "#fb9f3a"
            ],
            [
             0.8888888888888888,
             "#fdca26"
            ],
            [
             1,
             "#f0f921"
            ]
           ],
           "sequentialminus": [
            [
             0,
             "#0d0887"
            ],
            [
             0.1111111111111111,
             "#46039f"
            ],
            [
             0.2222222222222222,
             "#7201a8"
            ],
            [
             0.3333333333333333,
             "#9c179e"
            ],
            [
             0.4444444444444444,
             "#bd3786"
            ],
            [
             0.5555555555555556,
             "#d8576b"
            ],
            [
             0.6666666666666666,
             "#ed7953"
            ],
            [
             0.7777777777777778,
             "#fb9f3a"
            ],
            [
             0.8888888888888888,
             "#fdca26"
            ],
            [
             1,
             "#f0f921"
            ]
           ]
          },
          "colorway": [
           "#636efa",
           "#EF553B",
           "#00cc96",
           "#ab63fa",
           "#FFA15A",
           "#19d3f3",
           "#FF6692",
           "#B6E880",
           "#FF97FF",
           "#FECB52"
          ],
          "font": {
           "color": "#2a3f5f"
          },
          "geo": {
           "bgcolor": "white",
           "lakecolor": "white",
           "landcolor": "#E5ECF6",
           "showlakes": true,
           "showland": true,
           "subunitcolor": "white"
          },
          "hoverlabel": {
           "align": "left"
          },
          "hovermode": "closest",
          "mapbox": {
           "style": "light"
          },
          "paper_bgcolor": "white",
          "plot_bgcolor": "#E5ECF6",
          "polar": {
           "angularaxis": {
            "gridcolor": "white",
            "linecolor": "white",
            "ticks": ""
           },
           "bgcolor": "#E5ECF6",
           "radialaxis": {
            "gridcolor": "white",
            "linecolor": "white",
            "ticks": ""
           }
          },
          "scene": {
           "xaxis": {
            "backgroundcolor": "#E5ECF6",
            "gridcolor": "white",
            "gridwidth": 2,
            "linecolor": "white",
            "showbackground": true,
            "ticks": "",
            "zerolinecolor": "white"
           },
           "yaxis": {
            "backgroundcolor": "#E5ECF6",
            "gridcolor": "white",
            "gridwidth": 2,
            "linecolor": "white",
            "showbackground": true,
            "ticks": "",
            "zerolinecolor": "white"
           },
           "zaxis": {
            "backgroundcolor": "#E5ECF6",
            "gridcolor": "white",
            "gridwidth": 2,
            "linecolor": "white",
            "showbackground": true,
            "ticks": "",
            "zerolinecolor": "white"
           }
          },
          "shapedefaults": {
           "line": {
            "color": "#2a3f5f"
           }
          },
          "ternary": {
           "aaxis": {
            "gridcolor": "white",
            "linecolor": "white",
            "ticks": ""
           },
           "baxis": {
            "gridcolor": "white",
            "linecolor": "white",
            "ticks": ""
           },
           "bgcolor": "#E5ECF6",
           "caxis": {
            "gridcolor": "white",
            "linecolor": "white",
            "ticks": ""
           }
          },
          "title": {
           "x": 0.05
          },
          "xaxis": {
           "automargin": true,
           "gridcolor": "white",
           "linecolor": "white",
           "ticks": "",
           "title": {
            "standoff": 15
           },
           "zerolinecolor": "white",
           "zerolinewidth": 2
          },
          "yaxis": {
           "automargin": true,
           "gridcolor": "white",
           "linecolor": "white",
           "ticks": "",
           "title": {
            "standoff": 15
           },
           "zerolinecolor": "white",
           "zerolinewidth": 2
          }
         }
        },
        "title": {
         "text": "Canadian News Sentiment VS GDP (test)"
        },
        "xaxis": {
         "anchor": "y",
         "domain": [
          0,
          0.94
         ],
         "rangeslider": {
          "visible": true
         },
         "title": {
          "text": "Date"
         }
        },
        "yaxis": {
         "anchor": "x",
         "autorange": false,
         "domain": [
          0,
          1
         ],
         "range": [
          3.02,
          3.94
         ],
         "title": {
          "text": "gdp"
         }
        },
        "yaxis2": {
         "anchor": "x",
         "overlaying": "y",
         "range": [
          -2.4994325041770935,
          2.4242247939109802
         ],
         "side": "right",
         "title": {
          "text": "Sentiment Score"
         }
        }
       }
      },
      "text/html": [
       "<div>\n",
       "        \n",
       "        \n",
       "            <div id=\"e09a5dd0-a2bb-4d1b-8e22-96c4a0fac48a\" class=\"plotly-graph-div\" style=\"height:525px; width:100%;\"></div>\n",
       "            <script type=\"text/javascript\">\n",
       "                require([\"plotly\"], function(Plotly) {\n",
       "                    window.PLOTLYENV=window.PLOTLYENV || {};\n",
       "                    \n",
       "                if (document.getElementById(\"e09a5dd0-a2bb-4d1b-8e22-96c4a0fac48a\")) {\n",
       "                    Plotly.newPlot(\n",
       "                        'e09a5dd0-a2bb-4d1b-8e22-96c4a0fac48a',\n",
       "                        [{\"fill\": \"tonexty\", \"line\": {\"color\": \"blue\"}, \"mode\": \"lines\", \"name\": \"gdp\", \"type\": \"scatter\", \"x\": [\"2019-01-01\", \"2019-02-01\", \"2019-03-01\", \"2019-04-01\", \"2019-05-01\", \"2019-06-01\", \"2019-07-01\", \"2019-08-01\", \"2019-09-01\", \"2019-10-01\", \"2019-11-01\", \"2019-12-01\", \"2020-01-01\", \"2020-02-01\"], \"xaxis\": \"x\", \"y\": [3.84, 3.82, 3.76, 3.59, 3.45, 3.33, 3.22, 3.16, 3.12, 3.12, 3.13, 3.23, 3.24, 3.19], \"yaxis\": \"y\"}, {\"line\": {\"color\": \"orange\"}, \"name\": \"test sentiment\", \"type\": \"scatter\", \"x\": [\"2019-01-01\", \"2019-02-01\", \"2019-03-01\", \"2019-04-01\", \"2019-05-01\", \"2019-06-01\", \"2019-07-01\", \"2019-08-01\", \"2019-09-01\", \"2019-10-01\", \"2019-11-01\", \"2019-12-01\", \"2020-01-01\", \"2020-02-01\"], \"xaxis\": \"x\", \"y\": [-1.3584988117218018, -1.3638954758644104, 1.3461576700210571, 1.3461576700210571, 0.03557952493429184, -1.4987849593162537, -1.4239038228988647, 0.27120379358530045, 1.4242247939109802, -0.052255853079259396, -1.1155351400375366, -1.4947170615196228, -1.4967417120933533, -1.4861286878585815, -1.1699542999267578, -1.4887521862983704, 1.3845785856246948, -1.0514061450958252, 1.0466192364692688, -1.4330191016197205, -1.4724942445755005, -1.4990059733390808, -1.3564692735671997, -0.04732032865285875, -1.4831101894378662, -1.382517158985138, -0.9442244172096252, -1.389236330986023, -1.3705164194107056, -0.0008412636816501583, -1.2549678087234497, -1.4874122142791748, -0.01021822914481163, -1.4502134919166565, -1.4902347326278687, -1.49246746301651, -1.1138149499893188, -1.3392068147659302, -1.245606780052185, -0.042585797607898726, -1.1168586015701294, 1.2366125583648682, 1.232754111289978, -0.23673763126134872, 1.0025845766067505, -0.06451679905876517, -1.4994325041770935, -1.2277562022209167, -1.497061312198639, 1.368165910243988, -1.413516879081726, -1.4955782294273376, -1.2855457067489624, -1.386469542980194, -1.435813069343567, -0.1414221823215485, -0.434554386883974, -1.4423192739486694, -1.4935338497161865, 0.05560144782066345, -0.07459027692675592, 0.09628693014383316, -1.4937759637832642, -1.4635162949562073, -1.1488687992095947, 1.325694501399994, -0.018372856080532077, -1.3294180631637573, -1.4405885338783264, -1.4988272786140442, -1.4692213535308838, -1.1757996678352356, -1.2439340949058533, -1.4666168093681335, 0.3088863492012024, -1.353023886680603, -1.4708333611488342, -1.4822140336036682, -1.2071483135223389, -1.4601668119430542, -1.4901069402694702, -1.3115956783294678, -0.30931245163083076, -1.3934794664382935, -1.4717780947685242, -1.4672401547431946, -1.3336432576179504, -1.495834231376648, -1.4214408993721008, -1.4872260689735413, -1.1600334644317627, -1.2040889859199524, -1.331419289112091, -0.05605441331863403, -1.4907165169715881, -1.4856913685798645, -0.4026195788756013, -1.0094648003578186, -1.4897488951683044, -1.4891778230667114, -1.4989307522773743, -0.9935397803783417, -0.015702236676588658, -1.0469048619270325, -1.4650974869728088, -1.4844489693641663, -1.3058145642280579, -1.065637469291687, -0.015296204015612602, -1.4980791807174683, -1.495346486568451, -1.4976140260696411, -0.9752251207828522, -1.490285575389862, -1.4733055233955383, -1.2837618589401245, -1.4795071482658386, -0.013365201652050022, 0.13697616755962375, 0.9750491678714752, 0.019620519131422043, -0.9953454732894897, -0.21442283689975739, -1.4804351329803467, -1.4496411085128784, -1.4800333380699158, -1.498285949230194, -1.498120367527008, -1.4975207448005676, -1.4897152781486511, -1.268121063709259, -1.4863579273223877, -1.496625304222107, -1.016398012638092, 0.2374052815139293, -1.4988458156585693, -0.27206782437860966, -1.440325915813446, -1.4943377375602722, -1.1612778902053833, -1.4102745652198792], \"yaxis\": \"y2\"}],\n",
       "                        {\"template\": {\"data\": {\"bar\": [{\"error_x\": {\"color\": \"#2a3f5f\"}, \"error_y\": {\"color\": \"#2a3f5f\"}, \"marker\": {\"line\": {\"color\": \"#E5ECF6\", \"width\": 0.5}}, \"type\": \"bar\"}], \"barpolar\": [{\"marker\": {\"line\": {\"color\": \"#E5ECF6\", \"width\": 0.5}}, \"type\": \"barpolar\"}], \"carpet\": [{\"aaxis\": {\"endlinecolor\": \"#2a3f5f\", \"gridcolor\": \"white\", \"linecolor\": \"white\", \"minorgridcolor\": \"white\", \"startlinecolor\": \"#2a3f5f\"}, \"baxis\": {\"endlinecolor\": \"#2a3f5f\", \"gridcolor\": \"white\", \"linecolor\": \"white\", \"minorgridcolor\": \"white\", \"startlinecolor\": \"#2a3f5f\"}, \"type\": \"carpet\"}], \"choropleth\": [{\"colorbar\": {\"outlinewidth\": 0, \"ticks\": \"\"}, \"type\": \"choropleth\"}], \"contour\": [{\"colorbar\": {\"outlinewidth\": 0, \"ticks\": \"\"}, \"colorscale\": [[0.0, \"#0d0887\"], [0.1111111111111111, \"#46039f\"], [0.2222222222222222, \"#7201a8\"], [0.3333333333333333, \"#9c179e\"], [0.4444444444444444, \"#bd3786\"], [0.5555555555555556, \"#d8576b\"], [0.6666666666666666, \"#ed7953\"], [0.7777777777777778, \"#fb9f3a\"], [0.8888888888888888, \"#fdca26\"], [1.0, \"#f0f921\"]], \"type\": \"contour\"}], \"contourcarpet\": [{\"colorbar\": {\"outlinewidth\": 0, \"ticks\": \"\"}, \"type\": \"contourcarpet\"}], \"heatmap\": [{\"colorbar\": {\"outlinewidth\": 0, \"ticks\": \"\"}, \"colorscale\": [[0.0, \"#0d0887\"], [0.1111111111111111, \"#46039f\"], [0.2222222222222222, \"#7201a8\"], [0.3333333333333333, \"#9c179e\"], [0.4444444444444444, \"#bd3786\"], [0.5555555555555556, \"#d8576b\"], [0.6666666666666666, \"#ed7953\"], [0.7777777777777778, \"#fb9f3a\"], [0.8888888888888888, \"#fdca26\"], [1.0, \"#f0f921\"]], \"type\": \"heatmap\"}], \"heatmapgl\": [{\"colorbar\": {\"outlinewidth\": 0, \"ticks\": \"\"}, \"colorscale\": [[0.0, \"#0d0887\"], [0.1111111111111111, \"#46039f\"], [0.2222222222222222, \"#7201a8\"], [0.3333333333333333, \"#9c179e\"], [0.4444444444444444, \"#bd3786\"], [0.5555555555555556, \"#d8576b\"], [0.6666666666666666, \"#ed7953\"], [0.7777777777777778, \"#fb9f3a\"], [0.8888888888888888, \"#fdca26\"], [1.0, \"#f0f921\"]], \"type\": \"heatmapgl\"}], \"histogram\": [{\"marker\": {\"colorbar\": {\"outlinewidth\": 0, \"ticks\": \"\"}}, \"type\": \"histogram\"}], \"histogram2d\": [{\"colorbar\": {\"outlinewidth\": 0, \"ticks\": \"\"}, \"colorscale\": [[0.0, \"#0d0887\"], [0.1111111111111111, \"#46039f\"], [0.2222222222222222, \"#7201a8\"], [0.3333333333333333, \"#9c179e\"], [0.4444444444444444, \"#bd3786\"], [0.5555555555555556, \"#d8576b\"], [0.6666666666666666, \"#ed7953\"], [0.7777777777777778, \"#fb9f3a\"], [0.8888888888888888, \"#fdca26\"], [1.0, \"#f0f921\"]], \"type\": \"histogram2d\"}], \"histogram2dcontour\": [{\"colorbar\": {\"outlinewidth\": 0, \"ticks\": \"\"}, \"colorscale\": [[0.0, \"#0d0887\"], [0.1111111111111111, \"#46039f\"], [0.2222222222222222, \"#7201a8\"], [0.3333333333333333, \"#9c179e\"], [0.4444444444444444, \"#bd3786\"], [0.5555555555555556, \"#d8576b\"], [0.6666666666666666, \"#ed7953\"], [0.7777777777777778, \"#fb9f3a\"], [0.8888888888888888, \"#fdca26\"], [1.0, \"#f0f921\"]], \"type\": \"histogram2dcontour\"}], \"mesh3d\": [{\"colorbar\": {\"outlinewidth\": 0, \"ticks\": \"\"}, \"type\": \"mesh3d\"}], \"parcoords\": [{\"line\": {\"colorbar\": {\"outlinewidth\": 0, \"ticks\": \"\"}}, \"type\": \"parcoords\"}], \"pie\": [{\"automargin\": true, \"type\": \"pie\"}], \"scatter\": [{\"marker\": {\"colorbar\": {\"outlinewidth\": 0, \"ticks\": \"\"}}, \"type\": \"scatter\"}], \"scatter3d\": [{\"line\": {\"colorbar\": {\"outlinewidth\": 0, \"ticks\": \"\"}}, \"marker\": {\"colorbar\": {\"outlinewidth\": 0, \"ticks\": \"\"}}, \"type\": \"scatter3d\"}], \"scattercarpet\": [{\"marker\": {\"colorbar\": {\"outlinewidth\": 0, \"ticks\": \"\"}}, \"type\": \"scattercarpet\"}], \"scattergeo\": [{\"marker\": {\"colorbar\": {\"outlinewidth\": 0, \"ticks\": \"\"}}, \"type\": \"scattergeo\"}], \"scattergl\": [{\"marker\": {\"colorbar\": {\"outlinewidth\": 0, \"ticks\": \"\"}}, \"type\": \"scattergl\"}], \"scattermapbox\": [{\"marker\": {\"colorbar\": {\"outlinewidth\": 0, \"ticks\": \"\"}}, \"type\": \"scattermapbox\"}], \"scatterpolar\": [{\"marker\": {\"colorbar\": {\"outlinewidth\": 0, \"ticks\": \"\"}}, \"type\": \"scatterpolar\"}], \"scatterpolargl\": [{\"marker\": {\"colorbar\": {\"outlinewidth\": 0, \"ticks\": \"\"}}, \"type\": \"scatterpolargl\"}], \"scatterternary\": [{\"marker\": {\"colorbar\": {\"outlinewidth\": 0, \"ticks\": \"\"}}, \"type\": \"scatterternary\"}], \"surface\": [{\"colorbar\": {\"outlinewidth\": 0, \"ticks\": \"\"}, \"colorscale\": [[0.0, \"#0d0887\"], [0.1111111111111111, \"#46039f\"], [0.2222222222222222, \"#7201a8\"], [0.3333333333333333, \"#9c179e\"], [0.4444444444444444, \"#bd3786\"], [0.5555555555555556, \"#d8576b\"], [0.6666666666666666, \"#ed7953\"], [0.7777777777777778, \"#fb9f3a\"], [0.8888888888888888, \"#fdca26\"], [1.0, \"#f0f921\"]], \"type\": \"surface\"}], \"table\": [{\"cells\": {\"fill\": {\"color\": \"#EBF0F8\"}, \"line\": {\"color\": \"white\"}}, \"header\": {\"fill\": {\"color\": \"#C8D4E3\"}, \"line\": {\"color\": \"white\"}}, \"type\": \"table\"}]}, \"layout\": {\"annotationdefaults\": {\"arrowcolor\": \"#2a3f5f\", \"arrowhead\": 0, \"arrowwidth\": 1}, \"coloraxis\": {\"colorbar\": {\"outlinewidth\": 0, \"ticks\": \"\"}}, \"colorscale\": {\"diverging\": [[0, \"#8e0152\"], [0.1, \"#c51b7d\"], [0.2, \"#de77ae\"], [0.3, \"#f1b6da\"], [0.4, \"#fde0ef\"], [0.5, \"#f7f7f7\"], [0.6, \"#e6f5d0\"], [0.7, \"#b8e186\"], [0.8, \"#7fbc41\"], [0.9, \"#4d9221\"], [1, \"#276419\"]], \"sequential\": [[0.0, \"#0d0887\"], [0.1111111111111111, \"#46039f\"], [0.2222222222222222, \"#7201a8\"], [0.3333333333333333, \"#9c179e\"], [0.4444444444444444, \"#bd3786\"], [0.5555555555555556, \"#d8576b\"], [0.6666666666666666, \"#ed7953\"], [0.7777777777777778, \"#fb9f3a\"], [0.8888888888888888, \"#fdca26\"], [1.0, \"#f0f921\"]], \"sequentialminus\": [[0.0, \"#0d0887\"], [0.1111111111111111, \"#46039f\"], [0.2222222222222222, \"#7201a8\"], [0.3333333333333333, \"#9c179e\"], [0.4444444444444444, \"#bd3786\"], [0.5555555555555556, \"#d8576b\"], [0.6666666666666666, \"#ed7953\"], [0.7777777777777778, \"#fb9f3a\"], [0.8888888888888888, \"#fdca26\"], [1.0, \"#f0f921\"]]}, \"colorway\": [\"#636efa\", \"#EF553B\", \"#00cc96\", \"#ab63fa\", \"#FFA15A\", \"#19d3f3\", \"#FF6692\", \"#B6E880\", \"#FF97FF\", \"#FECB52\"], \"font\": {\"color\": \"#2a3f5f\"}, \"geo\": {\"bgcolor\": \"white\", \"lakecolor\": \"white\", \"landcolor\": \"#E5ECF6\", \"showlakes\": true, \"showland\": true, \"subunitcolor\": \"white\"}, \"hoverlabel\": {\"align\": \"left\"}, \"hovermode\": \"closest\", \"mapbox\": {\"style\": \"light\"}, \"paper_bgcolor\": \"white\", \"plot_bgcolor\": \"#E5ECF6\", \"polar\": {\"angularaxis\": {\"gridcolor\": \"white\", \"linecolor\": \"white\", \"ticks\": \"\"}, \"bgcolor\": \"#E5ECF6\", \"radialaxis\": {\"gridcolor\": \"white\", \"linecolor\": \"white\", \"ticks\": \"\"}}, \"scene\": {\"xaxis\": {\"backgroundcolor\": \"#E5ECF6\", \"gridcolor\": \"white\", \"gridwidth\": 2, \"linecolor\": \"white\", \"showbackground\": true, \"ticks\": \"\", \"zerolinecolor\": \"white\"}, \"yaxis\": {\"backgroundcolor\": \"#E5ECF6\", \"gridcolor\": \"white\", \"gridwidth\": 2, \"linecolor\": \"white\", \"showbackground\": true, \"ticks\": \"\", \"zerolinecolor\": \"white\"}, \"zaxis\": {\"backgroundcolor\": \"#E5ECF6\", \"gridcolor\": \"white\", \"gridwidth\": 2, \"linecolor\": \"white\", \"showbackground\": true, \"ticks\": \"\", \"zerolinecolor\": \"white\"}}, \"shapedefaults\": {\"line\": {\"color\": \"#2a3f5f\"}}, \"ternary\": {\"aaxis\": {\"gridcolor\": \"white\", \"linecolor\": \"white\", \"ticks\": \"\"}, \"baxis\": {\"gridcolor\": \"white\", \"linecolor\": \"white\", \"ticks\": \"\"}, \"bgcolor\": \"#E5ECF6\", \"caxis\": {\"gridcolor\": \"white\", \"linecolor\": \"white\", \"ticks\": \"\"}}, \"title\": {\"x\": 0.05}, \"xaxis\": {\"automargin\": true, \"gridcolor\": \"white\", \"linecolor\": \"white\", \"ticks\": \"\", \"title\": {\"standoff\": 15}, \"zerolinecolor\": \"white\", \"zerolinewidth\": 2}, \"yaxis\": {\"automargin\": true, \"gridcolor\": \"white\", \"linecolor\": \"white\", \"ticks\": \"\", \"title\": {\"standoff\": 15}, \"zerolinecolor\": \"white\", \"zerolinewidth\": 2}}}, \"title\": {\"text\": \"Canadian News Sentiment VS GDP (test)\"}, \"xaxis\": {\"anchor\": \"y\", \"domain\": [0.0, 0.94], \"rangeslider\": {\"visible\": true}, \"title\": {\"text\": \"Date\"}}, \"yaxis\": {\"anchor\": \"x\", \"autorange\": false, \"domain\": [0.0, 1.0], \"range\": [3.02, 3.94], \"title\": {\"text\": \"gdp\"}}, \"yaxis2\": {\"anchor\": \"x\", \"overlaying\": \"y\", \"range\": [-2.4994325041770935, 2.4242247939109802], \"side\": \"right\", \"title\": {\"text\": \"Sentiment Score\"}}},\n",
       "                        {\"responsive\": true}\n",
       "                    ).then(function(){\n",
       "                            \n",
       "var gd = document.getElementById('e09a5dd0-a2bb-4d1b-8e22-96c4a0fac48a');\n",
       "var x = new MutationObserver(function (mutations, observer) {{\n",
       "        var display = window.getComputedStyle(gd).display;\n",
       "        if (!display || display === 'none') {{\n",
       "            console.log([gd, 'removed!']);\n",
       "            Plotly.purge(gd);\n",
       "            observer.disconnect();\n",
       "        }}\n",
       "}});\n",
       "\n",
       "// Listen for the removal of the full notebook cells\n",
       "var notebookContainer = gd.closest('#notebook-container');\n",
       "if (notebookContainer) {{\n",
       "    x.observe(notebookContainer, {childList: true});\n",
       "}}\n",
       "\n",
       "// Listen for the clearing of the current output cell\n",
       "var outputEl = gd.closest('.output');\n",
       "if (outputEl) {{\n",
       "    x.observe(outputEl, {childList: true});\n",
       "}}\n",
       "\n",
       "                        })\n",
       "                };\n",
       "                });\n",
       "            </script>\n",
       "        </div>"
      ]
     },
     "metadata": {},
     "output_type": "display_data"
    },
    {
     "data": {
      "application/vnd.plotly.v1+json": {
       "config": {
        "plotlyServerURL": "https://plot.ly"
       },
       "data": [
        {
         "fill": "tonexty",
         "line": {
          "color": "blue"
         },
         "mode": "lines",
         "name": "gdp",
         "type": "scatter",
         "x": [
          "2019-01-01T00:00:00",
          "2019-02-01T00:00:00",
          "2019-03-01T00:00:00",
          "2019-04-01T00:00:00",
          "2019-05-01T00:00:00",
          "2019-06-01T00:00:00",
          "2019-07-01T00:00:00",
          "2019-08-01T00:00:00",
          "2019-09-01T00:00:00",
          "2019-10-01T00:00:00",
          "2019-11-01T00:00:00",
          "2019-12-01T00:00:00",
          "2020-01-01T00:00:00",
          "2020-02-01T00:00:00"
         ],
         "xaxis": "x",
         "y": [
          3.84,
          3.82,
          3.76,
          3.59,
          3.45,
          3.33,
          3.22,
          3.16,
          3.12,
          3.12,
          3.13,
          3.23,
          3.24,
          3.19
         ],
         "yaxis": "y"
        },
        {
         "line": {
          "color": "orange"
         },
         "name": "test sentiment",
         "type": "scatter",
         "x": [
          "2019-05-31T00:00:00",
          "2019-06-30T00:00:00",
          "2019-07-31T00:00:00",
          "2019-08-31T00:00:00",
          "2019-09-30T00:00:00",
          "2019-10-31T00:00:00",
          "2019-11-30T00:00:00",
          "2019-12-31T00:00:00",
          "2020-01-31T00:00:00",
          "2020-02-29T00:00:00",
          "2020-03-31T00:00:00",
          "2020-04-30T00:00:00",
          "2020-05-31T00:00:00"
         ],
         "xaxis": "x",
         "y": [
          -0.7427191843744367,
          -0.4249829820224217,
          0.1903398558497429,
          -0.8646652542054654,
          -0.5856241197990519,
          0.1061726631173356,
          -0.7484701979905367,
          -0.13799941577017308,
          -0.4267991728016308,
          -0.8146679859894973,
          -1.065219738939777,
          -0.9110652438991157,
          -1.109936122250344
         ],
         "yaxis": "y2"
        }
       ],
       "layout": {
        "template": {
         "data": {
          "bar": [
           {
            "error_x": {
             "color": "#2a3f5f"
            },
            "error_y": {
             "color": "#2a3f5f"
            },
            "marker": {
             "line": {
              "color": "#E5ECF6",
              "width": 0.5
             }
            },
            "type": "bar"
           }
          ],
          "barpolar": [
           {
            "marker": {
             "line": {
              "color": "#E5ECF6",
              "width": 0.5
             }
            },
            "type": "barpolar"
           }
          ],
          "carpet": [
           {
            "aaxis": {
             "endlinecolor": "#2a3f5f",
             "gridcolor": "white",
             "linecolor": "white",
             "minorgridcolor": "white",
             "startlinecolor": "#2a3f5f"
            },
            "baxis": {
             "endlinecolor": "#2a3f5f",
             "gridcolor": "white",
             "linecolor": "white",
             "minorgridcolor": "white",
             "startlinecolor": "#2a3f5f"
            },
            "type": "carpet"
           }
          ],
          "choropleth": [
           {
            "colorbar": {
             "outlinewidth": 0,
             "ticks": ""
            },
            "type": "choropleth"
           }
          ],
          "contour": [
           {
            "colorbar": {
             "outlinewidth": 0,
             "ticks": ""
            },
            "colorscale": [
             [
              0,
              "#0d0887"
             ],
             [
              0.1111111111111111,
              "#46039f"
             ],
             [
              0.2222222222222222,
              "#7201a8"
             ],
             [
              0.3333333333333333,
              "#9c179e"
             ],
             [
              0.4444444444444444,
              "#bd3786"
             ],
             [
              0.5555555555555556,
              "#d8576b"
             ],
             [
              0.6666666666666666,
              "#ed7953"
             ],
             [
              0.7777777777777778,
              "#fb9f3a"
             ],
             [
              0.8888888888888888,
              "#fdca26"
             ],
             [
              1,
              "#f0f921"
             ]
            ],
            "type": "contour"
           }
          ],
          "contourcarpet": [
           {
            "colorbar": {
             "outlinewidth": 0,
             "ticks": ""
            },
            "type": "contourcarpet"
           }
          ],
          "heatmap": [
           {
            "colorbar": {
             "outlinewidth": 0,
             "ticks": ""
            },
            "colorscale": [
             [
              0,
              "#0d0887"
             ],
             [
              0.1111111111111111,
              "#46039f"
             ],
             [
              0.2222222222222222,
              "#7201a8"
             ],
             [
              0.3333333333333333,
              "#9c179e"
             ],
             [
              0.4444444444444444,
              "#bd3786"
             ],
             [
              0.5555555555555556,
              "#d8576b"
             ],
             [
              0.6666666666666666,
              "#ed7953"
             ],
             [
              0.7777777777777778,
              "#fb9f3a"
             ],
             [
              0.8888888888888888,
              "#fdca26"
             ],
             [
              1,
              "#f0f921"
             ]
            ],
            "type": "heatmap"
           }
          ],
          "heatmapgl": [
           {
            "colorbar": {
             "outlinewidth": 0,
             "ticks": ""
            },
            "colorscale": [
             [
              0,
              "#0d0887"
             ],
             [
              0.1111111111111111,
              "#46039f"
             ],
             [
              0.2222222222222222,
              "#7201a8"
             ],
             [
              0.3333333333333333,
              "#9c179e"
             ],
             [
              0.4444444444444444,
              "#bd3786"
             ],
             [
              0.5555555555555556,
              "#d8576b"
             ],
             [
              0.6666666666666666,
              "#ed7953"
             ],
             [
              0.7777777777777778,
              "#fb9f3a"
             ],
             [
              0.8888888888888888,
              "#fdca26"
             ],
             [
              1,
              "#f0f921"
             ]
            ],
            "type": "heatmapgl"
           }
          ],
          "histogram": [
           {
            "marker": {
             "colorbar": {
              "outlinewidth": 0,
              "ticks": ""
             }
            },
            "type": "histogram"
           }
          ],
          "histogram2d": [
           {
            "colorbar": {
             "outlinewidth": 0,
             "ticks": ""
            },
            "colorscale": [
             [
              0,
              "#0d0887"
             ],
             [
              0.1111111111111111,
              "#46039f"
             ],
             [
              0.2222222222222222,
              "#7201a8"
             ],
             [
              0.3333333333333333,
              "#9c179e"
             ],
             [
              0.4444444444444444,
              "#bd3786"
             ],
             [
              0.5555555555555556,
              "#d8576b"
             ],
             [
              0.6666666666666666,
              "#ed7953"
             ],
             [
              0.7777777777777778,
              "#fb9f3a"
             ],
             [
              0.8888888888888888,
              "#fdca26"
             ],
             [
              1,
              "#f0f921"
             ]
            ],
            "type": "histogram2d"
           }
          ],
          "histogram2dcontour": [
           {
            "colorbar": {
             "outlinewidth": 0,
             "ticks": ""
            },
            "colorscale": [
             [
              0,
              "#0d0887"
             ],
             [
              0.1111111111111111,
              "#46039f"
             ],
             [
              0.2222222222222222,
              "#7201a8"
             ],
             [
              0.3333333333333333,
              "#9c179e"
             ],
             [
              0.4444444444444444,
              "#bd3786"
             ],
             [
              0.5555555555555556,
              "#d8576b"
             ],
             [
              0.6666666666666666,
              "#ed7953"
             ],
             [
              0.7777777777777778,
              "#fb9f3a"
             ],
             [
              0.8888888888888888,
              "#fdca26"
             ],
             [
              1,
              "#f0f921"
             ]
            ],
            "type": "histogram2dcontour"
           }
          ],
          "mesh3d": [
           {
            "colorbar": {
             "outlinewidth": 0,
             "ticks": ""
            },
            "type": "mesh3d"
           }
          ],
          "parcoords": [
           {
            "line": {
             "colorbar": {
              "outlinewidth": 0,
              "ticks": ""
             }
            },
            "type": "parcoords"
           }
          ],
          "pie": [
           {
            "automargin": true,
            "type": "pie"
           }
          ],
          "scatter": [
           {
            "marker": {
             "colorbar": {
              "outlinewidth": 0,
              "ticks": ""
             }
            },
            "type": "scatter"
           }
          ],
          "scatter3d": [
           {
            "line": {
             "colorbar": {
              "outlinewidth": 0,
              "ticks": ""
             }
            },
            "marker": {
             "colorbar": {
              "outlinewidth": 0,
              "ticks": ""
             }
            },
            "type": "scatter3d"
           }
          ],
          "scattercarpet": [
           {
            "marker": {
             "colorbar": {
              "outlinewidth": 0,
              "ticks": ""
             }
            },
            "type": "scattercarpet"
           }
          ],
          "scattergeo": [
           {
            "marker": {
             "colorbar": {
              "outlinewidth": 0,
              "ticks": ""
             }
            },
            "type": "scattergeo"
           }
          ],
          "scattergl": [
           {
            "marker": {
             "colorbar": {
              "outlinewidth": 0,
              "ticks": ""
             }
            },
            "type": "scattergl"
           }
          ],
          "scattermapbox": [
           {
            "marker": {
             "colorbar": {
              "outlinewidth": 0,
              "ticks": ""
             }
            },
            "type": "scattermapbox"
           }
          ],
          "scatterpolar": [
           {
            "marker": {
             "colorbar": {
              "outlinewidth": 0,
              "ticks": ""
             }
            },
            "type": "scatterpolar"
           }
          ],
          "scatterpolargl": [
           {
            "marker": {
             "colorbar": {
              "outlinewidth": 0,
              "ticks": ""
             }
            },
            "type": "scatterpolargl"
           }
          ],
          "scatterternary": [
           {
            "marker": {
             "colorbar": {
              "outlinewidth": 0,
              "ticks": ""
             }
            },
            "type": "scatterternary"
           }
          ],
          "surface": [
           {
            "colorbar": {
             "outlinewidth": 0,
             "ticks": ""
            },
            "colorscale": [
             [
              0,
              "#0d0887"
             ],
             [
              0.1111111111111111,
              "#46039f"
             ],
             [
              0.2222222222222222,
              "#7201a8"
             ],
             [
              0.3333333333333333,
              "#9c179e"
             ],
             [
              0.4444444444444444,
              "#bd3786"
             ],
             [
              0.5555555555555556,
              "#d8576b"
             ],
             [
              0.6666666666666666,
              "#ed7953"
             ],
             [
              0.7777777777777778,
              "#fb9f3a"
             ],
             [
              0.8888888888888888,
              "#fdca26"
             ],
             [
              1,
              "#f0f921"
             ]
            ],
            "type": "surface"
           }
          ],
          "table": [
           {
            "cells": {
             "fill": {
              "color": "#EBF0F8"
             },
             "line": {
              "color": "white"
             }
            },
            "header": {
             "fill": {
              "color": "#C8D4E3"
             },
             "line": {
              "color": "white"
             }
            },
            "type": "table"
           }
          ]
         },
         "layout": {
          "annotationdefaults": {
           "arrowcolor": "#2a3f5f",
           "arrowhead": 0,
           "arrowwidth": 1
          },
          "coloraxis": {
           "colorbar": {
            "outlinewidth": 0,
            "ticks": ""
           }
          },
          "colorscale": {
           "diverging": [
            [
             0,
             "#8e0152"
            ],
            [
             0.1,
             "#c51b7d"
            ],
            [
             0.2,
             "#de77ae"
            ],
            [
             0.3,
             "#f1b6da"
            ],
            [
             0.4,
             "#fde0ef"
            ],
            [
             0.5,
             "#f7f7f7"
            ],
            [
             0.6,
             "#e6f5d0"
            ],
            [
             0.7,
             "#b8e186"
            ],
            [
             0.8,
             "#7fbc41"
            ],
            [
             0.9,
             "#4d9221"
            ],
            [
             1,
             "#276419"
            ]
           ],
           "sequential": [
            [
             0,
             "#0d0887"
            ],
            [
             0.1111111111111111,
             "#46039f"
            ],
            [
             0.2222222222222222,
             "#7201a8"
            ],
            [
             0.3333333333333333,
             "#9c179e"
            ],
            [
             0.4444444444444444,
             "#bd3786"
            ],
            [
             0.5555555555555556,
             "#d8576b"
            ],
            [
             0.6666666666666666,
             "#ed7953"
            ],
            [
             0.7777777777777778,
             "#fb9f3a"
            ],
            [
             0.8888888888888888,
             "#fdca26"
            ],
            [
             1,
             "#f0f921"
            ]
           ],
           "sequentialminus": [
            [
             0,
             "#0d0887"
            ],
            [
             0.1111111111111111,
             "#46039f"
            ],
            [
             0.2222222222222222,
             "#7201a8"
            ],
            [
             0.3333333333333333,
             "#9c179e"
            ],
            [
             0.4444444444444444,
             "#bd3786"
            ],
            [
             0.5555555555555556,
             "#d8576b"
            ],
            [
             0.6666666666666666,
             "#ed7953"
            ],
            [
             0.7777777777777778,
             "#fb9f3a"
            ],
            [
             0.8888888888888888,
             "#fdca26"
            ],
            [
             1,
             "#f0f921"
            ]
           ]
          },
          "colorway": [
           "#636efa",
           "#EF553B",
           "#00cc96",
           "#ab63fa",
           "#FFA15A",
           "#19d3f3",
           "#FF6692",
           "#B6E880",
           "#FF97FF",
           "#FECB52"
          ],
          "font": {
           "color": "#2a3f5f"
          },
          "geo": {
           "bgcolor": "white",
           "lakecolor": "white",
           "landcolor": "#E5ECF6",
           "showlakes": true,
           "showland": true,
           "subunitcolor": "white"
          },
          "hoverlabel": {
           "align": "left"
          },
          "hovermode": "closest",
          "mapbox": {
           "style": "light"
          },
          "paper_bgcolor": "white",
          "plot_bgcolor": "#E5ECF6",
          "polar": {
           "angularaxis": {
            "gridcolor": "white",
            "linecolor": "white",
            "ticks": ""
           },
           "bgcolor": "#E5ECF6",
           "radialaxis": {
            "gridcolor": "white",
            "linecolor": "white",
            "ticks": ""
           }
          },
          "scene": {
           "xaxis": {
            "backgroundcolor": "#E5ECF6",
            "gridcolor": "white",
            "gridwidth": 2,
            "linecolor": "white",
            "showbackground": true,
            "ticks": "",
            "zerolinecolor": "white"
           },
           "yaxis": {
            "backgroundcolor": "#E5ECF6",
            "gridcolor": "white",
            "gridwidth": 2,
            "linecolor": "white",
            "showbackground": true,
            "ticks": "",
            "zerolinecolor": "white"
           },
           "zaxis": {
            "backgroundcolor": "#E5ECF6",
            "gridcolor": "white",
            "gridwidth": 2,
            "linecolor": "white",
            "showbackground": true,
            "ticks": "",
            "zerolinecolor": "white"
           }
          },
          "shapedefaults": {
           "line": {
            "color": "#2a3f5f"
           }
          },
          "ternary": {
           "aaxis": {
            "gridcolor": "white",
            "linecolor": "white",
            "ticks": ""
           },
           "baxis": {
            "gridcolor": "white",
            "linecolor": "white",
            "ticks": ""
           },
           "bgcolor": "#E5ECF6",
           "caxis": {
            "gridcolor": "white",
            "linecolor": "white",
            "ticks": ""
           }
          },
          "title": {
           "x": 0.05
          },
          "xaxis": {
           "automargin": true,
           "gridcolor": "white",
           "linecolor": "white",
           "ticks": "",
           "title": {
            "standoff": 15
           },
           "zerolinecolor": "white",
           "zerolinewidth": 2
          },
          "yaxis": {
           "automargin": true,
           "gridcolor": "white",
           "linecolor": "white",
           "ticks": "",
           "title": {
            "standoff": 15
           },
           "zerolinecolor": "white",
           "zerolinewidth": 2
          }
         }
        },
        "title": {
         "text": "Canadian News Sentiment VS GDP (test)"
        },
        "xaxis": {
         "anchor": "y",
         "domain": [
          0,
          0.94
         ],
         "range": [
          "2019-05-31T00:00:00",
          "2020-02-01T00:00:00"
         ],
         "rangeslider": {
          "visible": true
         },
         "title": {
          "text": "Date"
         }
        },
        "yaxis": {
         "anchor": "x",
         "autorange": false,
         "domain": [
          0,
          1
         ],
         "range": [
          3.02,
          3.94
         ],
         "title": {
          "text": "gdp"
         }
        },
        "yaxis2": {
         "anchor": "x",
         "overlaying": "y",
         "range": [
          -2.1099361222503443,
          1.190339855849743
         ],
         "side": "right",
         "title": {
          "text": "Sentiment Score"
         }
        }
       }
      },
      "text/html": [
       "<div>\n",
       "        \n",
       "        \n",
       "            <div id=\"9d337596-93b5-4577-beea-b7afe7d750ae\" class=\"plotly-graph-div\" style=\"height:525px; width:100%;\"></div>\n",
       "            <script type=\"text/javascript\">\n",
       "                require([\"plotly\"], function(Plotly) {\n",
       "                    window.PLOTLYENV=window.PLOTLYENV || {};\n",
       "                    \n",
       "                if (document.getElementById(\"9d337596-93b5-4577-beea-b7afe7d750ae\")) {\n",
       "                    Plotly.newPlot(\n",
       "                        '9d337596-93b5-4577-beea-b7afe7d750ae',\n",
       "                        [{\"fill\": \"tonexty\", \"line\": {\"color\": \"blue\"}, \"mode\": \"lines\", \"name\": \"gdp\", \"type\": \"scatter\", \"x\": [\"2019-01-01T00:00:00\", \"2019-02-01T00:00:00\", \"2019-03-01T00:00:00\", \"2019-04-01T00:00:00\", \"2019-05-01T00:00:00\", \"2019-06-01T00:00:00\", \"2019-07-01T00:00:00\", \"2019-08-01T00:00:00\", \"2019-09-01T00:00:00\", \"2019-10-01T00:00:00\", \"2019-11-01T00:00:00\", \"2019-12-01T00:00:00\", \"2020-01-01T00:00:00\", \"2020-02-01T00:00:00\"], \"xaxis\": \"x\", \"y\": [3.84, 3.82, 3.76, 3.59, 3.45, 3.33, 3.22, 3.16, 3.12, 3.12, 3.13, 3.23, 3.24, 3.19], \"yaxis\": \"y\"}, {\"line\": {\"color\": \"orange\"}, \"name\": \"test sentiment\", \"type\": \"scatter\", \"x\": [\"2019-05-31T00:00:00\", \"2019-06-30T00:00:00\", \"2019-07-31T00:00:00\", \"2019-08-31T00:00:00\", \"2019-09-30T00:00:00\", \"2019-10-31T00:00:00\", \"2019-11-30T00:00:00\", \"2019-12-31T00:00:00\", \"2020-01-31T00:00:00\", \"2020-02-29T00:00:00\", \"2020-03-31T00:00:00\", \"2020-04-30T00:00:00\", \"2020-05-31T00:00:00\"], \"xaxis\": \"x\", \"y\": [-0.7427191843744367, -0.4249829820224217, 0.1903398558497429, -0.8646652542054654, -0.5856241197990519, 0.1061726631173356, -0.7484701979905367, -0.13799941577017308, -0.4267991728016308, -0.8146679859894973, -1.065219738939777, -0.9110652438991157, -1.109936122250344], \"yaxis\": \"y2\"}],\n",
       "                        {\"template\": {\"data\": {\"bar\": [{\"error_x\": {\"color\": \"#2a3f5f\"}, \"error_y\": {\"color\": \"#2a3f5f\"}, \"marker\": {\"line\": {\"color\": \"#E5ECF6\", \"width\": 0.5}}, \"type\": \"bar\"}], \"barpolar\": [{\"marker\": {\"line\": {\"color\": \"#E5ECF6\", \"width\": 0.5}}, \"type\": \"barpolar\"}], \"carpet\": [{\"aaxis\": {\"endlinecolor\": \"#2a3f5f\", \"gridcolor\": \"white\", \"linecolor\": \"white\", \"minorgridcolor\": \"white\", \"startlinecolor\": \"#2a3f5f\"}, \"baxis\": {\"endlinecolor\": \"#2a3f5f\", \"gridcolor\": \"white\", \"linecolor\": \"white\", \"minorgridcolor\": \"white\", \"startlinecolor\": \"#2a3f5f\"}, \"type\": \"carpet\"}], \"choropleth\": [{\"colorbar\": {\"outlinewidth\": 0, \"ticks\": \"\"}, \"type\": \"choropleth\"}], \"contour\": [{\"colorbar\": {\"outlinewidth\": 0, \"ticks\": \"\"}, \"colorscale\": [[0.0, \"#0d0887\"], [0.1111111111111111, \"#46039f\"], [0.2222222222222222, \"#7201a8\"], [0.3333333333333333, \"#9c179e\"], [0.4444444444444444, \"#bd3786\"], [0.5555555555555556, \"#d8576b\"], [0.6666666666666666, \"#ed7953\"], [0.7777777777777778, \"#fb9f3a\"], [0.8888888888888888, \"#fdca26\"], [1.0, \"#f0f921\"]], \"type\": \"contour\"}], \"contourcarpet\": [{\"colorbar\": {\"outlinewidth\": 0, \"ticks\": \"\"}, \"type\": \"contourcarpet\"}], \"heatmap\": [{\"colorbar\": {\"outlinewidth\": 0, \"ticks\": \"\"}, \"colorscale\": [[0.0, \"#0d0887\"], [0.1111111111111111, \"#46039f\"], [0.2222222222222222, \"#7201a8\"], [0.3333333333333333, \"#9c179e\"], [0.4444444444444444, \"#bd3786\"], [0.5555555555555556, \"#d8576b\"], [0.6666666666666666, \"#ed7953\"], [0.7777777777777778, \"#fb9f3a\"], [0.8888888888888888, \"#fdca26\"], [1.0, \"#f0f921\"]], \"type\": \"heatmap\"}], \"heatmapgl\": [{\"colorbar\": {\"outlinewidth\": 0, \"ticks\": \"\"}, \"colorscale\": [[0.0, \"#0d0887\"], [0.1111111111111111, \"#46039f\"], [0.2222222222222222, \"#7201a8\"], [0.3333333333333333, \"#9c179e\"], [0.4444444444444444, \"#bd3786\"], [0.5555555555555556, \"#d8576b\"], [0.6666666666666666, \"#ed7953\"], [0.7777777777777778, \"#fb9f3a\"], [0.8888888888888888, \"#fdca26\"], [1.0, \"#f0f921\"]], \"type\": \"heatmapgl\"}], \"histogram\": [{\"marker\": {\"colorbar\": {\"outlinewidth\": 0, \"ticks\": \"\"}}, \"type\": \"histogram\"}], \"histogram2d\": [{\"colorbar\": {\"outlinewidth\": 0, \"ticks\": \"\"}, \"colorscale\": [[0.0, \"#0d0887\"], [0.1111111111111111, \"#46039f\"], [0.2222222222222222, \"#7201a8\"], [0.3333333333333333, \"#9c179e\"], [0.4444444444444444, \"#bd3786\"], [0.5555555555555556, \"#d8576b\"], [0.6666666666666666, \"#ed7953\"], [0.7777777777777778, \"#fb9f3a\"], [0.8888888888888888, \"#fdca26\"], [1.0, \"#f0f921\"]], \"type\": \"histogram2d\"}], \"histogram2dcontour\": [{\"colorbar\": {\"outlinewidth\": 0, \"ticks\": \"\"}, \"colorscale\": [[0.0, \"#0d0887\"], [0.1111111111111111, \"#46039f\"], [0.2222222222222222, \"#7201a8\"], [0.3333333333333333, \"#9c179e\"], [0.4444444444444444, \"#bd3786\"], [0.5555555555555556, \"#d8576b\"], [0.6666666666666666, \"#ed7953\"], [0.7777777777777778, \"#fb9f3a\"], [0.8888888888888888, \"#fdca26\"], [1.0, \"#f0f921\"]], \"type\": \"histogram2dcontour\"}], \"mesh3d\": [{\"colorbar\": {\"outlinewidth\": 0, \"ticks\": \"\"}, \"type\": \"mesh3d\"}], \"parcoords\": [{\"line\": {\"colorbar\": {\"outlinewidth\": 0, \"ticks\": \"\"}}, \"type\": \"parcoords\"}], \"pie\": [{\"automargin\": true, \"type\": \"pie\"}], \"scatter\": [{\"marker\": {\"colorbar\": {\"outlinewidth\": 0, \"ticks\": \"\"}}, \"type\": \"scatter\"}], \"scatter3d\": [{\"line\": {\"colorbar\": {\"outlinewidth\": 0, \"ticks\": \"\"}}, \"marker\": {\"colorbar\": {\"outlinewidth\": 0, \"ticks\": \"\"}}, \"type\": \"scatter3d\"}], \"scattercarpet\": [{\"marker\": {\"colorbar\": {\"outlinewidth\": 0, \"ticks\": \"\"}}, \"type\": \"scattercarpet\"}], \"scattergeo\": [{\"marker\": {\"colorbar\": {\"outlinewidth\": 0, \"ticks\": \"\"}}, \"type\": \"scattergeo\"}], \"scattergl\": [{\"marker\": {\"colorbar\": {\"outlinewidth\": 0, \"ticks\": \"\"}}, \"type\": \"scattergl\"}], \"scattermapbox\": [{\"marker\": {\"colorbar\": {\"outlinewidth\": 0, \"ticks\": \"\"}}, \"type\": \"scattermapbox\"}], \"scatterpolar\": [{\"marker\": {\"colorbar\": {\"outlinewidth\": 0, \"ticks\": \"\"}}, \"type\": \"scatterpolar\"}], \"scatterpolargl\": [{\"marker\": {\"colorbar\": {\"outlinewidth\": 0, \"ticks\": \"\"}}, \"type\": \"scatterpolargl\"}], \"scatterternary\": [{\"marker\": {\"colorbar\": {\"outlinewidth\": 0, \"ticks\": \"\"}}, \"type\": \"scatterternary\"}], \"surface\": [{\"colorbar\": {\"outlinewidth\": 0, \"ticks\": \"\"}, \"colorscale\": [[0.0, \"#0d0887\"], [0.1111111111111111, \"#46039f\"], [0.2222222222222222, \"#7201a8\"], [0.3333333333333333, \"#9c179e\"], [0.4444444444444444, \"#bd3786\"], [0.5555555555555556, \"#d8576b\"], [0.6666666666666666, \"#ed7953\"], [0.7777777777777778, \"#fb9f3a\"], [0.8888888888888888, \"#fdca26\"], [1.0, \"#f0f921\"]], \"type\": \"surface\"}], \"table\": [{\"cells\": {\"fill\": {\"color\": \"#EBF0F8\"}, \"line\": {\"color\": \"white\"}}, \"header\": {\"fill\": {\"color\": \"#C8D4E3\"}, \"line\": {\"color\": \"white\"}}, \"type\": \"table\"}]}, \"layout\": {\"annotationdefaults\": {\"arrowcolor\": \"#2a3f5f\", \"arrowhead\": 0, \"arrowwidth\": 1}, \"coloraxis\": {\"colorbar\": {\"outlinewidth\": 0, \"ticks\": \"\"}}, \"colorscale\": {\"diverging\": [[0, \"#8e0152\"], [0.1, \"#c51b7d\"], [0.2, \"#de77ae\"], [0.3, \"#f1b6da\"], [0.4, \"#fde0ef\"], [0.5, \"#f7f7f7\"], [0.6, \"#e6f5d0\"], [0.7, \"#b8e186\"], [0.8, \"#7fbc41\"], [0.9, \"#4d9221\"], [1, \"#276419\"]], \"sequential\": [[0.0, \"#0d0887\"], [0.1111111111111111, \"#46039f\"], [0.2222222222222222, \"#7201a8\"], [0.3333333333333333, \"#9c179e\"], [0.4444444444444444, \"#bd3786\"], [0.5555555555555556, \"#d8576b\"], [0.6666666666666666, \"#ed7953\"], [0.7777777777777778, \"#fb9f3a\"], [0.8888888888888888, \"#fdca26\"], [1.0, \"#f0f921\"]], \"sequentialminus\": [[0.0, \"#0d0887\"], [0.1111111111111111, \"#46039f\"], [0.2222222222222222, \"#7201a8\"], [0.3333333333333333, \"#9c179e\"], [0.4444444444444444, \"#bd3786\"], [0.5555555555555556, \"#d8576b\"], [0.6666666666666666, \"#ed7953\"], [0.7777777777777778, \"#fb9f3a\"], [0.8888888888888888, \"#fdca26\"], [1.0, \"#f0f921\"]]}, \"colorway\": [\"#636efa\", \"#EF553B\", \"#00cc96\", \"#ab63fa\", \"#FFA15A\", \"#19d3f3\", \"#FF6692\", \"#B6E880\", \"#FF97FF\", \"#FECB52\"], \"font\": {\"color\": \"#2a3f5f\"}, \"geo\": {\"bgcolor\": \"white\", \"lakecolor\": \"white\", \"landcolor\": \"#E5ECF6\", \"showlakes\": true, \"showland\": true, \"subunitcolor\": \"white\"}, \"hoverlabel\": {\"align\": \"left\"}, \"hovermode\": \"closest\", \"mapbox\": {\"style\": \"light\"}, \"paper_bgcolor\": \"white\", \"plot_bgcolor\": \"#E5ECF6\", \"polar\": {\"angularaxis\": {\"gridcolor\": \"white\", \"linecolor\": \"white\", \"ticks\": \"\"}, \"bgcolor\": \"#E5ECF6\", \"radialaxis\": {\"gridcolor\": \"white\", \"linecolor\": \"white\", \"ticks\": \"\"}}, \"scene\": {\"xaxis\": {\"backgroundcolor\": \"#E5ECF6\", \"gridcolor\": \"white\", \"gridwidth\": 2, \"linecolor\": \"white\", \"showbackground\": true, \"ticks\": \"\", \"zerolinecolor\": \"white\"}, \"yaxis\": {\"backgroundcolor\": \"#E5ECF6\", \"gridcolor\": \"white\", \"gridwidth\": 2, \"linecolor\": \"white\", \"showbackground\": true, \"ticks\": \"\", \"zerolinecolor\": \"white\"}, \"zaxis\": {\"backgroundcolor\": \"#E5ECF6\", \"gridcolor\": \"white\", \"gridwidth\": 2, \"linecolor\": \"white\", \"showbackground\": true, \"ticks\": \"\", \"zerolinecolor\": \"white\"}}, \"shapedefaults\": {\"line\": {\"color\": \"#2a3f5f\"}}, \"ternary\": {\"aaxis\": {\"gridcolor\": \"white\", \"linecolor\": \"white\", \"ticks\": \"\"}, \"baxis\": {\"gridcolor\": \"white\", \"linecolor\": \"white\", \"ticks\": \"\"}, \"bgcolor\": \"#E5ECF6\", \"caxis\": {\"gridcolor\": \"white\", \"linecolor\": \"white\", \"ticks\": \"\"}}, \"title\": {\"x\": 0.05}, \"xaxis\": {\"automargin\": true, \"gridcolor\": \"white\", \"linecolor\": \"white\", \"ticks\": \"\", \"title\": {\"standoff\": 15}, \"zerolinecolor\": \"white\", \"zerolinewidth\": 2}, \"yaxis\": {\"automargin\": true, \"gridcolor\": \"white\", \"linecolor\": \"white\", \"ticks\": \"\", \"title\": {\"standoff\": 15}, \"zerolinecolor\": \"white\", \"zerolinewidth\": 2}}}, \"title\": {\"text\": \"Canadian News Sentiment VS GDP (test)\"}, \"xaxis\": {\"anchor\": \"y\", \"domain\": [0.0, 0.94], \"range\": [\"2019-05-31T00:00:00\", \"2020-02-01T00:00:00\"], \"rangeslider\": {\"visible\": true}, \"title\": {\"text\": \"Date\"}}, \"yaxis\": {\"anchor\": \"x\", \"autorange\": false, \"domain\": [0.0, 1.0], \"range\": [3.02, 3.94], \"title\": {\"text\": \"gdp\"}}, \"yaxis2\": {\"anchor\": \"x\", \"overlaying\": \"y\", \"range\": [-2.1099361222503443, 1.190339855849743], \"side\": \"right\", \"title\": {\"text\": \"Sentiment Score\"}}},\n",
       "                        {\"responsive\": true}\n",
       "                    ).then(function(){\n",
       "                            \n",
       "var gd = document.getElementById('9d337596-93b5-4577-beea-b7afe7d750ae');\n",
       "var x = new MutationObserver(function (mutations, observer) {{\n",
       "        var display = window.getComputedStyle(gd).display;\n",
       "        if (!display || display === 'none') {{\n",
       "            console.log([gd, 'removed!']);\n",
       "            Plotly.purge(gd);\n",
       "            observer.disconnect();\n",
       "        }}\n",
       "}});\n",
       "\n",
       "// Listen for the removal of the full notebook cells\n",
       "var notebookContainer = gd.closest('#notebook-container');\n",
       "if (notebookContainer) {{\n",
       "    x.observe(notebookContainer, {childList: true});\n",
       "}}\n",
       "\n",
       "// Listen for the clearing of the current output cell\n",
       "var outputEl = gd.closest('.output');\n",
       "if (outputEl) {{\n",
       "    x.observe(outputEl, {childList: true});\n",
       "}}\n",
       "\n",
       "                        })\n",
       "                };\n",
       "                });\n",
       "            </script>\n",
       "        </div>"
      ]
     },
     "metadata": {},
     "output_type": "display_data"
    }
   ],
   "source": [
    "#test function  \n",
    "test_indicator_name = \"gdp\"\n",
    "test_title = \"Canadian News Sentiment VS GDP (test)\"\n",
    "\n",
    "###  show all mixed-source\n",
    "\n",
    "###note: \n",
    "test_fig = plot_combined_graph(test_mrg_df, mixedsource_senti_df, test_indicator_name, test_title)\n",
    "test_fig.show()\n",
    "\n",
    "\n",
    "## now try visualize monthly avg sentiment\n",
    "monthly_senti_df_gdp_cbc.columns = ['final_sentiment']\n",
    "test_fig = plot_combined_graph_new(test_mrg_df, monthly_senti_df_gdp_cbc, test_indicator_name, test_title)\n",
    "\n",
    "\n",
    "test_fig.show()"
   ]
  },
  {
   "cell_type": "code",
   "execution_count": 129,
   "metadata": {},
   "outputs": [
    {
     "data": {
      "application/vnd.plotly.v1+json": {
       "config": {
        "plotlyServerURL": "https://plot.ly"
       },
       "data": [
        {
         "fill": "tonexty",
         "line": {
          "color": "blue"
         },
         "mode": "lines",
         "name": "mortgage",
         "type": "scatter",
         "x": [
          "2019-01-01T00:00:00",
          "2019-02-01T00:00:00",
          "2019-03-01T00:00:00",
          "2019-04-01T00:00:00",
          "2019-05-01T00:00:00",
          "2019-06-01T00:00:00",
          "2019-07-01T00:00:00",
          "2019-08-01T00:00:00",
          "2019-09-01T00:00:00",
          "2019-10-01T00:00:00",
          "2019-11-01T00:00:00",
          "2019-12-01T00:00:00",
          "2020-01-01T00:00:00",
          "2020-02-01T00:00:00"
         ],
         "xaxis": "x",
         "y": [
          3.84,
          3.82,
          3.76,
          3.59,
          3.45,
          3.33,
          3.22,
          3.16,
          3.12,
          3.12,
          3.13,
          3.23,
          3.24,
          3.19
         ],
         "yaxis": "y"
        },
        {
         "line": {
          "color": "orange"
         },
         "name": "test sentiment",
         "type": "scatter",
         "x": [
          "2017-07-31T00:00:00",
          "2017-08-31T00:00:00",
          "2017-09-30T00:00:00",
          "2017-10-31T00:00:00",
          "2017-11-30T00:00:00",
          "2017-12-31T00:00:00",
          "2018-01-31T00:00:00",
          "2018-02-28T00:00:00",
          "2018-03-31T00:00:00",
          "2018-04-30T00:00:00",
          "2018-05-31T00:00:00",
          "2018-06-30T00:00:00",
          "2018-07-31T00:00:00",
          "2018-08-31T00:00:00",
          "2018-09-30T00:00:00",
          "2018-10-31T00:00:00",
          "2018-11-30T00:00:00",
          "2018-12-31T00:00:00",
          "2019-01-31T00:00:00",
          "2019-02-28T00:00:00",
          "2019-03-31T00:00:00",
          "2019-04-30T00:00:00",
          "2019-05-31T00:00:00",
          "2019-06-30T00:00:00",
          "2019-07-31T00:00:00",
          "2019-08-31T00:00:00",
          "2019-09-30T00:00:00",
          "2019-10-31T00:00:00",
          "2019-11-30T00:00:00",
          "2019-12-31T00:00:00",
          "2020-01-31T00:00:00",
          "2020-02-29T00:00:00",
          "2020-03-31T00:00:00",
          "2020-04-30T00:00:00",
          "2020-05-31T00:00:00"
         ],
         "xaxis": "x",
         "y": [
          1.5,
          1.5,
          1.5,
          0,
          0,
          0,
          0,
          0,
          0,
          -1.5,
          -0.5,
          -0.5,
          -0.5,
          -0.5,
          -0.5,
          -0.5,
          0,
          0,
          0,
          -0.5,
          -1,
          -0.3886894142876069,
          -0.06435253031225369,
          -0.13046358295679583,
          0.11490120702700761,
          -0.10042867445386947,
          -0.19483710710866084,
          -0.022455730722867873,
          -0.19403751323912538,
          0.04635722500229762,
          0.05888234272501186,
          -0.003666876582428813,
          -0.46649066995087196,
          -0.6888815507758409,
          -0.6157866854752813
         ],
         "yaxis": "y2"
        }
       ],
       "layout": {
        "template": {
         "data": {
          "bar": [
           {
            "error_x": {
             "color": "#2a3f5f"
            },
            "error_y": {
             "color": "#2a3f5f"
            },
            "marker": {
             "line": {
              "color": "#E5ECF6",
              "width": 0.5
             }
            },
            "type": "bar"
           }
          ],
          "barpolar": [
           {
            "marker": {
             "line": {
              "color": "#E5ECF6",
              "width": 0.5
             }
            },
            "type": "barpolar"
           }
          ],
          "carpet": [
           {
            "aaxis": {
             "endlinecolor": "#2a3f5f",
             "gridcolor": "white",
             "linecolor": "white",
             "minorgridcolor": "white",
             "startlinecolor": "#2a3f5f"
            },
            "baxis": {
             "endlinecolor": "#2a3f5f",
             "gridcolor": "white",
             "linecolor": "white",
             "minorgridcolor": "white",
             "startlinecolor": "#2a3f5f"
            },
            "type": "carpet"
           }
          ],
          "choropleth": [
           {
            "colorbar": {
             "outlinewidth": 0,
             "ticks": ""
            },
            "type": "choropleth"
           }
          ],
          "contour": [
           {
            "colorbar": {
             "outlinewidth": 0,
             "ticks": ""
            },
            "colorscale": [
             [
              0,
              "#0d0887"
             ],
             [
              0.1111111111111111,
              "#46039f"
             ],
             [
              0.2222222222222222,
              "#7201a8"
             ],
             [
              0.3333333333333333,
              "#9c179e"
             ],
             [
              0.4444444444444444,
              "#bd3786"
             ],
             [
              0.5555555555555556,
              "#d8576b"
             ],
             [
              0.6666666666666666,
              "#ed7953"
             ],
             [
              0.7777777777777778,
              "#fb9f3a"
             ],
             [
              0.8888888888888888,
              "#fdca26"
             ],
             [
              1,
              "#f0f921"
             ]
            ],
            "type": "contour"
           }
          ],
          "contourcarpet": [
           {
            "colorbar": {
             "outlinewidth": 0,
             "ticks": ""
            },
            "type": "contourcarpet"
           }
          ],
          "heatmap": [
           {
            "colorbar": {
             "outlinewidth": 0,
             "ticks": ""
            },
            "colorscale": [
             [
              0,
              "#0d0887"
             ],
             [
              0.1111111111111111,
              "#46039f"
             ],
             [
              0.2222222222222222,
              "#7201a8"
             ],
             [
              0.3333333333333333,
              "#9c179e"
             ],
             [
              0.4444444444444444,
              "#bd3786"
             ],
             [
              0.5555555555555556,
              "#d8576b"
             ],
             [
              0.6666666666666666,
              "#ed7953"
             ],
             [
              0.7777777777777778,
              "#fb9f3a"
             ],
             [
              0.8888888888888888,
              "#fdca26"
             ],
             [
              1,
              "#f0f921"
             ]
            ],
            "type": "heatmap"
           }
          ],
          "heatmapgl": [
           {
            "colorbar": {
             "outlinewidth": 0,
             "ticks": ""
            },
            "colorscale": [
             [
              0,
              "#0d0887"
             ],
             [
              0.1111111111111111,
              "#46039f"
             ],
             [
              0.2222222222222222,
              "#7201a8"
             ],
             [
              0.3333333333333333,
              "#9c179e"
             ],
             [
              0.4444444444444444,
              "#bd3786"
             ],
             [
              0.5555555555555556,
              "#d8576b"
             ],
             [
              0.6666666666666666,
              "#ed7953"
             ],
             [
              0.7777777777777778,
              "#fb9f3a"
             ],
             [
              0.8888888888888888,
              "#fdca26"
             ],
             [
              1,
              "#f0f921"
             ]
            ],
            "type": "heatmapgl"
           }
          ],
          "histogram": [
           {
            "marker": {
             "colorbar": {
              "outlinewidth": 0,
              "ticks": ""
             }
            },
            "type": "histogram"
           }
          ],
          "histogram2d": [
           {
            "colorbar": {
             "outlinewidth": 0,
             "ticks": ""
            },
            "colorscale": [
             [
              0,
              "#0d0887"
             ],
             [
              0.1111111111111111,
              "#46039f"
             ],
             [
              0.2222222222222222,
              "#7201a8"
             ],
             [
              0.3333333333333333,
              "#9c179e"
             ],
             [
              0.4444444444444444,
              "#bd3786"
             ],
             [
              0.5555555555555556,
              "#d8576b"
             ],
             [
              0.6666666666666666,
              "#ed7953"
             ],
             [
              0.7777777777777778,
              "#fb9f3a"
             ],
             [
              0.8888888888888888,
              "#fdca26"
             ],
             [
              1,
              "#f0f921"
             ]
            ],
            "type": "histogram2d"
           }
          ],
          "histogram2dcontour": [
           {
            "colorbar": {
             "outlinewidth": 0,
             "ticks": ""
            },
            "colorscale": [
             [
              0,
              "#0d0887"
             ],
             [
              0.1111111111111111,
              "#46039f"
             ],
             [
              0.2222222222222222,
              "#7201a8"
             ],
             [
              0.3333333333333333,
              "#9c179e"
             ],
             [
              0.4444444444444444,
              "#bd3786"
             ],
             [
              0.5555555555555556,
              "#d8576b"
             ],
             [
              0.6666666666666666,
              "#ed7953"
             ],
             [
              0.7777777777777778,
              "#fb9f3a"
             ],
             [
              0.8888888888888888,
              "#fdca26"
             ],
             [
              1,
              "#f0f921"
             ]
            ],
            "type": "histogram2dcontour"
           }
          ],
          "mesh3d": [
           {
            "colorbar": {
             "outlinewidth": 0,
             "ticks": ""
            },
            "type": "mesh3d"
           }
          ],
          "parcoords": [
           {
            "line": {
             "colorbar": {
              "outlinewidth": 0,
              "ticks": ""
             }
            },
            "type": "parcoords"
           }
          ],
          "pie": [
           {
            "automargin": true,
            "type": "pie"
           }
          ],
          "scatter": [
           {
            "marker": {
             "colorbar": {
              "outlinewidth": 0,
              "ticks": ""
             }
            },
            "type": "scatter"
           }
          ],
          "scatter3d": [
           {
            "line": {
             "colorbar": {
              "outlinewidth": 0,
              "ticks": ""
             }
            },
            "marker": {
             "colorbar": {
              "outlinewidth": 0,
              "ticks": ""
             }
            },
            "type": "scatter3d"
           }
          ],
          "scattercarpet": [
           {
            "marker": {
             "colorbar": {
              "outlinewidth": 0,
              "ticks": ""
             }
            },
            "type": "scattercarpet"
           }
          ],
          "scattergeo": [
           {
            "marker": {
             "colorbar": {
              "outlinewidth": 0,
              "ticks": ""
             }
            },
            "type": "scattergeo"
           }
          ],
          "scattergl": [
           {
            "marker": {
             "colorbar": {
              "outlinewidth": 0,
              "ticks": ""
             }
            },
            "type": "scattergl"
           }
          ],
          "scattermapbox": [
           {
            "marker": {
             "colorbar": {
              "outlinewidth": 0,
              "ticks": ""
             }
            },
            "type": "scattermapbox"
           }
          ],
          "scatterpolar": [
           {
            "marker": {
             "colorbar": {
              "outlinewidth": 0,
              "ticks": ""
             }
            },
            "type": "scatterpolar"
           }
          ],
          "scatterpolargl": [
           {
            "marker": {
             "colorbar": {
              "outlinewidth": 0,
              "ticks": ""
             }
            },
            "type": "scatterpolargl"
           }
          ],
          "scatterternary": [
           {
            "marker": {
             "colorbar": {
              "outlinewidth": 0,
              "ticks": ""
             }
            },
            "type": "scatterternary"
           }
          ],
          "surface": [
           {
            "colorbar": {
             "outlinewidth": 0,
             "ticks": ""
            },
            "colorscale": [
             [
              0,
              "#0d0887"
             ],
             [
              0.1111111111111111,
              "#46039f"
             ],
             [
              0.2222222222222222,
              "#7201a8"
             ],
             [
              0.3333333333333333,
              "#9c179e"
             ],
             [
              0.4444444444444444,
              "#bd3786"
             ],
             [
              0.5555555555555556,
              "#d8576b"
             ],
             [
              0.6666666666666666,
              "#ed7953"
             ],
             [
              0.7777777777777778,
              "#fb9f3a"
             ],
             [
              0.8888888888888888,
              "#fdca26"
             ],
             [
              1,
              "#f0f921"
             ]
            ],
            "type": "surface"
           }
          ],
          "table": [
           {
            "cells": {
             "fill": {
              "color": "#EBF0F8"
             },
             "line": {
              "color": "white"
             }
            },
            "header": {
             "fill": {
              "color": "#C8D4E3"
             },
             "line": {
              "color": "white"
             }
            },
            "type": "table"
           }
          ]
         },
         "layout": {
          "annotationdefaults": {
           "arrowcolor": "#2a3f5f",
           "arrowhead": 0,
           "arrowwidth": 1
          },
          "coloraxis": {
           "colorbar": {
            "outlinewidth": 0,
            "ticks": ""
           }
          },
          "colorscale": {
           "diverging": [
            [
             0,
             "#8e0152"
            ],
            [
             0.1,
             "#c51b7d"
            ],
            [
             0.2,
             "#de77ae"
            ],
            [
             0.3,
             "#f1b6da"
            ],
            [
             0.4,
             "#fde0ef"
            ],
            [
             0.5,
             "#f7f7f7"
            ],
            [
             0.6,
             "#e6f5d0"
            ],
            [
             0.7,
             "#b8e186"
            ],
            [
             0.8,
             "#7fbc41"
            ],
            [
             0.9,
             "#4d9221"
            ],
            [
             1,
             "#276419"
            ]
           ],
           "sequential": [
            [
             0,
             "#0d0887"
            ],
            [
             0.1111111111111111,
             "#46039f"
            ],
            [
             0.2222222222222222,
             "#7201a8"
            ],
            [
             0.3333333333333333,
             "#9c179e"
            ],
            [
             0.4444444444444444,
             "#bd3786"
            ],
            [
             0.5555555555555556,
             "#d8576b"
            ],
            [
             0.6666666666666666,
             "#ed7953"
            ],
            [
             0.7777777777777778,
             "#fb9f3a"
            ],
            [
             0.8888888888888888,
             "#fdca26"
            ],
            [
             1,
             "#f0f921"
            ]
           ],
           "sequentialminus": [
            [
             0,
             "#0d0887"
            ],
            [
             0.1111111111111111,
             "#46039f"
            ],
            [
             0.2222222222222222,
             "#7201a8"
            ],
            [
             0.3333333333333333,
             "#9c179e"
            ],
            [
             0.4444444444444444,
             "#bd3786"
            ],
            [
             0.5555555555555556,
             "#d8576b"
            ],
            [
             0.6666666666666666,
             "#ed7953"
            ],
            [
             0.7777777777777778,
             "#fb9f3a"
            ],
            [
             0.8888888888888888,
             "#fdca26"
            ],
            [
             1,
             "#f0f921"
            ]
           ]
          },
          "colorway": [
           "#636efa",
           "#EF553B",
           "#00cc96",
           "#ab63fa",
           "#FFA15A",
           "#19d3f3",
           "#FF6692",
           "#B6E880",
           "#FF97FF",
           "#FECB52"
          ],
          "font": {
           "color": "#2a3f5f"
          },
          "geo": {
           "bgcolor": "white",
           "lakecolor": "white",
           "landcolor": "#E5ECF6",
           "showlakes": true,
           "showland": true,
           "subunitcolor": "white"
          },
          "hoverlabel": {
           "align": "left"
          },
          "hovermode": "closest",
          "mapbox": {
           "style": "light"
          },
          "paper_bgcolor": "white",
          "plot_bgcolor": "#E5ECF6",
          "polar": {
           "angularaxis": {
            "gridcolor": "white",
            "linecolor": "white",
            "ticks": ""
           },
           "bgcolor": "#E5ECF6",
           "radialaxis": {
            "gridcolor": "white",
            "linecolor": "white",
            "ticks": ""
           }
          },
          "scene": {
           "xaxis": {
            "backgroundcolor": "#E5ECF6",
            "gridcolor": "white",
            "gridwidth": 2,
            "linecolor": "white",
            "showbackground": true,
            "ticks": "",
            "zerolinecolor": "white"
           },
           "yaxis": {
            "backgroundcolor": "#E5ECF6",
            "gridcolor": "white",
            "gridwidth": 2,
            "linecolor": "white",
            "showbackground": true,
            "ticks": "",
            "zerolinecolor": "white"
           },
           "zaxis": {
            "backgroundcolor": "#E5ECF6",
            "gridcolor": "white",
            "gridwidth": 2,
            "linecolor": "white",
            "showbackground": true,
            "ticks": "",
            "zerolinecolor": "white"
           }
          },
          "shapedefaults": {
           "line": {
            "color": "#2a3f5f"
           }
          },
          "ternary": {
           "aaxis": {
            "gridcolor": "white",
            "linecolor": "white",
            "ticks": ""
           },
           "baxis": {
            "gridcolor": "white",
            "linecolor": "white",
            "ticks": ""
           },
           "bgcolor": "#E5ECF6",
           "caxis": {
            "gridcolor": "white",
            "linecolor": "white",
            "ticks": ""
           }
          },
          "title": {
           "x": 0.05
          },
          "xaxis": {
           "automargin": true,
           "gridcolor": "white",
           "linecolor": "white",
           "ticks": "",
           "title": {
            "standoff": 15
           },
           "zerolinecolor": "white",
           "zerolinewidth": 2
          },
          "yaxis": {
           "automargin": true,
           "gridcolor": "white",
           "linecolor": "white",
           "ticks": "",
           "title": {
            "standoff": 15
           },
           "zerolinecolor": "white",
           "zerolinewidth": 2
          }
         }
        },
        "title": {
         "text": "Canadian News Sentiment VS mortgage (test)"
        },
        "xaxis": {
         "anchor": "y",
         "domain": [
          0,
          0.94
         ],
         "range": [
          "2019-01-01T00:00:00",
          "2020-02-01T00:00:00"
         ],
         "rangeslider": {
          "visible": false
         },
         "title": {
          "text": "Date"
         }
        },
        "yaxis": {
         "anchor": "x",
         "autorange": false,
         "domain": [
          0,
          1
         ],
         "range": [
          3.02,
          3.94
         ],
         "title": {
          "text": "mortgage"
         }
        },
        "yaxis2": {
         "anchor": "x",
         "overlaying": "y",
         "range": [
          -2.5,
          2.5
         ],
         "side": "right",
         "title": {
          "text": "Sentiment Score"
         }
        }
       }
      },
      "text/html": [
       "<div>\n",
       "        \n",
       "        \n",
       "            <div id=\"f9f32911-54e8-4e35-acd6-9d6f17d65079\" class=\"plotly-graph-div\" style=\"height:525px; width:100%;\"></div>\n",
       "            <script type=\"text/javascript\">\n",
       "                require([\"plotly\"], function(Plotly) {\n",
       "                    window.PLOTLYENV=window.PLOTLYENV || {};\n",
       "                    \n",
       "                if (document.getElementById(\"f9f32911-54e8-4e35-acd6-9d6f17d65079\")) {\n",
       "                    Plotly.newPlot(\n",
       "                        'f9f32911-54e8-4e35-acd6-9d6f17d65079',\n",
       "                        [{\"fill\": \"tonexty\", \"line\": {\"color\": \"blue\"}, \"mode\": \"lines\", \"name\": \"mortgage\", \"type\": \"scatter\", \"x\": [\"2019-01-01T00:00:00\", \"2019-02-01T00:00:00\", \"2019-03-01T00:00:00\", \"2019-04-01T00:00:00\", \"2019-05-01T00:00:00\", \"2019-06-01T00:00:00\", \"2019-07-01T00:00:00\", \"2019-08-01T00:00:00\", \"2019-09-01T00:00:00\", \"2019-10-01T00:00:00\", \"2019-11-01T00:00:00\", \"2019-12-01T00:00:00\", \"2020-01-01T00:00:00\", \"2020-02-01T00:00:00\"], \"xaxis\": \"x\", \"y\": [3.84, 3.82, 3.76, 3.59, 3.45, 3.33, 3.22, 3.16, 3.12, 3.12, 3.13, 3.23, 3.24, 3.19], \"yaxis\": \"y\"}, {\"line\": {\"color\": \"orange\"}, \"name\": \"test sentiment\", \"type\": \"scatter\", \"x\": [\"2017-07-31T00:00:00\", \"2017-08-31T00:00:00\", \"2017-09-30T00:00:00\", \"2017-10-31T00:00:00\", \"2017-11-30T00:00:00\", \"2017-12-31T00:00:00\", \"2018-01-31T00:00:00\", \"2018-02-28T00:00:00\", \"2018-03-31T00:00:00\", \"2018-04-30T00:00:00\", \"2018-05-31T00:00:00\", \"2018-06-30T00:00:00\", \"2018-07-31T00:00:00\", \"2018-08-31T00:00:00\", \"2018-09-30T00:00:00\", \"2018-10-31T00:00:00\", \"2018-11-30T00:00:00\", \"2018-12-31T00:00:00\", \"2019-01-31T00:00:00\", \"2019-02-28T00:00:00\", \"2019-03-31T00:00:00\", \"2019-04-30T00:00:00\", \"2019-05-31T00:00:00\", \"2019-06-30T00:00:00\", \"2019-07-31T00:00:00\", \"2019-08-31T00:00:00\", \"2019-09-30T00:00:00\", \"2019-10-31T00:00:00\", \"2019-11-30T00:00:00\", \"2019-12-31T00:00:00\", \"2020-01-31T00:00:00\", \"2020-02-29T00:00:00\", \"2020-03-31T00:00:00\", \"2020-04-30T00:00:00\", \"2020-05-31T00:00:00\"], \"xaxis\": \"x\", \"y\": [1.5, 1.5, 1.5, 0.0, 0.0, 0.0, 0.0, 0.0, 0.0, -1.5, -0.5, -0.5, -0.5, -0.5, -0.5, -0.5, 0.0, 0.0, 0.0, -0.5, -1.0, -0.3886894142876069, -0.06435253031225369, -0.13046358295679583, 0.11490120702700761, -0.10042867445386947, -0.19483710710866084, -0.022455730722867873, -0.19403751323912538, 0.04635722500229762, 0.05888234272501186, -0.003666876582428813, -0.46649066995087196, -0.6888815507758409, -0.6157866854752813], \"yaxis\": \"y2\"}],\n",
       "                        {\"template\": {\"data\": {\"bar\": [{\"error_x\": {\"color\": \"#2a3f5f\"}, \"error_y\": {\"color\": \"#2a3f5f\"}, \"marker\": {\"line\": {\"color\": \"#E5ECF6\", \"width\": 0.5}}, \"type\": \"bar\"}], \"barpolar\": [{\"marker\": {\"line\": {\"color\": \"#E5ECF6\", \"width\": 0.5}}, \"type\": \"barpolar\"}], \"carpet\": [{\"aaxis\": {\"endlinecolor\": \"#2a3f5f\", \"gridcolor\": \"white\", \"linecolor\": \"white\", \"minorgridcolor\": \"white\", \"startlinecolor\": \"#2a3f5f\"}, \"baxis\": {\"endlinecolor\": \"#2a3f5f\", \"gridcolor\": \"white\", \"linecolor\": \"white\", \"minorgridcolor\": \"white\", \"startlinecolor\": \"#2a3f5f\"}, \"type\": \"carpet\"}], \"choropleth\": [{\"colorbar\": {\"outlinewidth\": 0, \"ticks\": \"\"}, \"type\": \"choropleth\"}], \"contour\": [{\"colorbar\": {\"outlinewidth\": 0, \"ticks\": \"\"}, \"colorscale\": [[0.0, \"#0d0887\"], [0.1111111111111111, \"#46039f\"], [0.2222222222222222, \"#7201a8\"], [0.3333333333333333, \"#9c179e\"], [0.4444444444444444, \"#bd3786\"], [0.5555555555555556, \"#d8576b\"], [0.6666666666666666, \"#ed7953\"], [0.7777777777777778, \"#fb9f3a\"], [0.8888888888888888, \"#fdca26\"], [1.0, \"#f0f921\"]], \"type\": \"contour\"}], \"contourcarpet\": [{\"colorbar\": {\"outlinewidth\": 0, \"ticks\": \"\"}, \"type\": \"contourcarpet\"}], \"heatmap\": [{\"colorbar\": {\"outlinewidth\": 0, \"ticks\": \"\"}, \"colorscale\": [[0.0, \"#0d0887\"], [0.1111111111111111, \"#46039f\"], [0.2222222222222222, \"#7201a8\"], [0.3333333333333333, \"#9c179e\"], [0.4444444444444444, \"#bd3786\"], [0.5555555555555556, \"#d8576b\"], [0.6666666666666666, \"#ed7953\"], [0.7777777777777778, \"#fb9f3a\"], [0.8888888888888888, \"#fdca26\"], [1.0, \"#f0f921\"]], \"type\": \"heatmap\"}], \"heatmapgl\": [{\"colorbar\": {\"outlinewidth\": 0, \"ticks\": \"\"}, \"colorscale\": [[0.0, \"#0d0887\"], [0.1111111111111111, \"#46039f\"], [0.2222222222222222, \"#7201a8\"], [0.3333333333333333, \"#9c179e\"], [0.4444444444444444, \"#bd3786\"], [0.5555555555555556, \"#d8576b\"], [0.6666666666666666, \"#ed7953\"], [0.7777777777777778, \"#fb9f3a\"], [0.8888888888888888, \"#fdca26\"], [1.0, \"#f0f921\"]], \"type\": \"heatmapgl\"}], \"histogram\": [{\"marker\": {\"colorbar\": {\"outlinewidth\": 0, \"ticks\": \"\"}}, \"type\": \"histogram\"}], \"histogram2d\": [{\"colorbar\": {\"outlinewidth\": 0, \"ticks\": \"\"}, \"colorscale\": [[0.0, \"#0d0887\"], [0.1111111111111111, \"#46039f\"], [0.2222222222222222, \"#7201a8\"], [0.3333333333333333, \"#9c179e\"], [0.4444444444444444, \"#bd3786\"], [0.5555555555555556, \"#d8576b\"], [0.6666666666666666, \"#ed7953\"], [0.7777777777777778, \"#fb9f3a\"], [0.8888888888888888, \"#fdca26\"], [1.0, \"#f0f921\"]], \"type\": \"histogram2d\"}], \"histogram2dcontour\": [{\"colorbar\": {\"outlinewidth\": 0, \"ticks\": \"\"}, \"colorscale\": [[0.0, \"#0d0887\"], [0.1111111111111111, \"#46039f\"], [0.2222222222222222, \"#7201a8\"], [0.3333333333333333, \"#9c179e\"], [0.4444444444444444, \"#bd3786\"], [0.5555555555555556, \"#d8576b\"], [0.6666666666666666, \"#ed7953\"], [0.7777777777777778, \"#fb9f3a\"], [0.8888888888888888, \"#fdca26\"], [1.0, \"#f0f921\"]], \"type\": \"histogram2dcontour\"}], \"mesh3d\": [{\"colorbar\": {\"outlinewidth\": 0, \"ticks\": \"\"}, \"type\": \"mesh3d\"}], \"parcoords\": [{\"line\": {\"colorbar\": {\"outlinewidth\": 0, \"ticks\": \"\"}}, \"type\": \"parcoords\"}], \"pie\": [{\"automargin\": true, \"type\": \"pie\"}], \"scatter\": [{\"marker\": {\"colorbar\": {\"outlinewidth\": 0, \"ticks\": \"\"}}, \"type\": \"scatter\"}], \"scatter3d\": [{\"line\": {\"colorbar\": {\"outlinewidth\": 0, \"ticks\": \"\"}}, \"marker\": {\"colorbar\": {\"outlinewidth\": 0, \"ticks\": \"\"}}, \"type\": \"scatter3d\"}], \"scattercarpet\": [{\"marker\": {\"colorbar\": {\"outlinewidth\": 0, \"ticks\": \"\"}}, \"type\": \"scattercarpet\"}], \"scattergeo\": [{\"marker\": {\"colorbar\": {\"outlinewidth\": 0, \"ticks\": \"\"}}, \"type\": \"scattergeo\"}], \"scattergl\": [{\"marker\": {\"colorbar\": {\"outlinewidth\": 0, \"ticks\": \"\"}}, \"type\": \"scattergl\"}], \"scattermapbox\": [{\"marker\": {\"colorbar\": {\"outlinewidth\": 0, \"ticks\": \"\"}}, \"type\": \"scattermapbox\"}], \"scatterpolar\": [{\"marker\": {\"colorbar\": {\"outlinewidth\": 0, \"ticks\": \"\"}}, \"type\": \"scatterpolar\"}], \"scatterpolargl\": [{\"marker\": {\"colorbar\": {\"outlinewidth\": 0, \"ticks\": \"\"}}, \"type\": \"scatterpolargl\"}], \"scatterternary\": [{\"marker\": {\"colorbar\": {\"outlinewidth\": 0, \"ticks\": \"\"}}, \"type\": \"scatterternary\"}], \"surface\": [{\"colorbar\": {\"outlinewidth\": 0, \"ticks\": \"\"}, \"colorscale\": [[0.0, \"#0d0887\"], [0.1111111111111111, \"#46039f\"], [0.2222222222222222, \"#7201a8\"], [0.3333333333333333, \"#9c179e\"], [0.4444444444444444, \"#bd3786\"], [0.5555555555555556, \"#d8576b\"], [0.6666666666666666, \"#ed7953\"], [0.7777777777777778, \"#fb9f3a\"], [0.8888888888888888, \"#fdca26\"], [1.0, \"#f0f921\"]], \"type\": \"surface\"}], \"table\": [{\"cells\": {\"fill\": {\"color\": \"#EBF0F8\"}, \"line\": {\"color\": \"white\"}}, \"header\": {\"fill\": {\"color\": \"#C8D4E3\"}, \"line\": {\"color\": \"white\"}}, \"type\": \"table\"}]}, \"layout\": {\"annotationdefaults\": {\"arrowcolor\": \"#2a3f5f\", \"arrowhead\": 0, \"arrowwidth\": 1}, \"coloraxis\": {\"colorbar\": {\"outlinewidth\": 0, \"ticks\": \"\"}}, \"colorscale\": {\"diverging\": [[0, \"#8e0152\"], [0.1, \"#c51b7d\"], [0.2, \"#de77ae\"], [0.3, \"#f1b6da\"], [0.4, \"#fde0ef\"], [0.5, \"#f7f7f7\"], [0.6, \"#e6f5d0\"], [0.7, \"#b8e186\"], [0.8, \"#7fbc41\"], [0.9, \"#4d9221\"], [1, \"#276419\"]], \"sequential\": [[0.0, \"#0d0887\"], [0.1111111111111111, \"#46039f\"], [0.2222222222222222, \"#7201a8\"], [0.3333333333333333, \"#9c179e\"], [0.4444444444444444, \"#bd3786\"], [0.5555555555555556, \"#d8576b\"], [0.6666666666666666, \"#ed7953\"], [0.7777777777777778, \"#fb9f3a\"], [0.8888888888888888, \"#fdca26\"], [1.0, \"#f0f921\"]], \"sequentialminus\": [[0.0, \"#0d0887\"], [0.1111111111111111, \"#46039f\"], [0.2222222222222222, \"#7201a8\"], [0.3333333333333333, \"#9c179e\"], [0.4444444444444444, \"#bd3786\"], [0.5555555555555556, \"#d8576b\"], [0.6666666666666666, \"#ed7953\"], [0.7777777777777778, \"#fb9f3a\"], [0.8888888888888888, \"#fdca26\"], [1.0, \"#f0f921\"]]}, \"colorway\": [\"#636efa\", \"#EF553B\", \"#00cc96\", \"#ab63fa\", \"#FFA15A\", \"#19d3f3\", \"#FF6692\", \"#B6E880\", \"#FF97FF\", \"#FECB52\"], \"font\": {\"color\": \"#2a3f5f\"}, \"geo\": {\"bgcolor\": \"white\", \"lakecolor\": \"white\", \"landcolor\": \"#E5ECF6\", \"showlakes\": true, \"showland\": true, \"subunitcolor\": \"white\"}, \"hoverlabel\": {\"align\": \"left\"}, \"hovermode\": \"closest\", \"mapbox\": {\"style\": \"light\"}, \"paper_bgcolor\": \"white\", \"plot_bgcolor\": \"#E5ECF6\", \"polar\": {\"angularaxis\": {\"gridcolor\": \"white\", \"linecolor\": \"white\", \"ticks\": \"\"}, \"bgcolor\": \"#E5ECF6\", \"radialaxis\": {\"gridcolor\": \"white\", \"linecolor\": \"white\", \"ticks\": \"\"}}, \"scene\": {\"xaxis\": {\"backgroundcolor\": \"#E5ECF6\", \"gridcolor\": \"white\", \"gridwidth\": 2, \"linecolor\": \"white\", \"showbackground\": true, \"ticks\": \"\", \"zerolinecolor\": \"white\"}, \"yaxis\": {\"backgroundcolor\": \"#E5ECF6\", \"gridcolor\": \"white\", \"gridwidth\": 2, \"linecolor\": \"white\", \"showbackground\": true, \"ticks\": \"\", \"zerolinecolor\": \"white\"}, \"zaxis\": {\"backgroundcolor\": \"#E5ECF6\", \"gridcolor\": \"white\", \"gridwidth\": 2, \"linecolor\": \"white\", \"showbackground\": true, \"ticks\": \"\", \"zerolinecolor\": \"white\"}}, \"shapedefaults\": {\"line\": {\"color\": \"#2a3f5f\"}}, \"ternary\": {\"aaxis\": {\"gridcolor\": \"white\", \"linecolor\": \"white\", \"ticks\": \"\"}, \"baxis\": {\"gridcolor\": \"white\", \"linecolor\": \"white\", \"ticks\": \"\"}, \"bgcolor\": \"#E5ECF6\", \"caxis\": {\"gridcolor\": \"white\", \"linecolor\": \"white\", \"ticks\": \"\"}}, \"title\": {\"x\": 0.05}, \"xaxis\": {\"automargin\": true, \"gridcolor\": \"white\", \"linecolor\": \"white\", \"ticks\": \"\", \"title\": {\"standoff\": 15}, \"zerolinecolor\": \"white\", \"zerolinewidth\": 2}, \"yaxis\": {\"automargin\": true, \"gridcolor\": \"white\", \"linecolor\": \"white\", \"ticks\": \"\", \"title\": {\"standoff\": 15}, \"zerolinecolor\": \"white\", \"zerolinewidth\": 2}}}, \"title\": {\"text\": \"Canadian News Sentiment VS mortgage (test)\"}, \"xaxis\": {\"anchor\": \"y\", \"domain\": [0.0, 0.94], \"range\": [\"2019-01-01T00:00:00\", \"2020-02-01T00:00:00\"], \"rangeslider\": {\"visible\": false}, \"title\": {\"text\": \"Date\"}}, \"yaxis\": {\"anchor\": \"x\", \"autorange\": false, \"domain\": [0.0, 1.0], \"range\": [3.02, 3.94], \"title\": {\"text\": \"mortgage\"}}, \"yaxis2\": {\"anchor\": \"x\", \"overlaying\": \"y\", \"range\": [-2.5, 2.5], \"side\": \"right\", \"title\": {\"text\": \"Sentiment Score\"}}},\n",
       "                        {\"responsive\": true}\n",
       "                    ).then(function(){\n",
       "                            \n",
       "var gd = document.getElementById('f9f32911-54e8-4e35-acd6-9d6f17d65079');\n",
       "var x = new MutationObserver(function (mutations, observer) {{\n",
       "        var display = window.getComputedStyle(gd).display;\n",
       "        if (!display || display === 'none') {{\n",
       "            console.log([gd, 'removed!']);\n",
       "            Plotly.purge(gd);\n",
       "            observer.disconnect();\n",
       "        }}\n",
       "}});\n",
       "\n",
       "// Listen for the removal of the full notebook cells\n",
       "var notebookContainer = gd.closest('#notebook-container');\n",
       "if (notebookContainer) {{\n",
       "    x.observe(notebookContainer, {childList: true});\n",
       "}}\n",
       "\n",
       "// Listen for the clearing of the current output cell\n",
       "var outputEl = gd.closest('.output');\n",
       "if (outputEl) {{\n",
       "    x.observe(outputEl, {childList: true});\n",
       "}}\n",
       "\n",
       "                        })\n",
       "                };\n",
       "                });\n",
       "            </script>\n",
       "        </div>"
      ]
     },
     "metadata": {},
     "output_type": "display_data"
    }
   ],
   "source": [
    "test_indicator_name = \"mortgage\"\n",
    "test_title = \"Canadian News Sentiment VS mortgage (test)\"\n",
    "\n",
    "monthly_senti_df_mortgage.columns = ['final_sentiment']\n",
    "test_fig = plot_combined_graph_new(test_mrg_df, monthly_senti_df_mortgage, test_indicator_name, test_title, False)\n",
    "test_fig.show()"
   ]
  },
  {
   "cell_type": "code",
   "execution_count": 132,
   "metadata": {},
   "outputs": [
    {
     "data": {
      "application/vnd.plotly.v1+json": {
       "config": {
        "plotlyServerURL": "https://plot.ly"
       },
       "data": [
        {
         "fill": "tonexty",
         "line": {
          "color": "blue"
         },
         "mode": "lines",
         "name": "Interest Rate  <br> (total, funds advanced, <br> residential mortgages, insured)",
         "type": "scatter",
         "x": [
          "2019-01-01T00:00:00",
          "2019-02-01T00:00:00",
          "2019-03-01T00:00:00",
          "2019-04-01T00:00:00",
          "2019-05-01T00:00:00",
          "2019-06-01T00:00:00",
          "2019-07-01T00:00:00",
          "2019-08-01T00:00:00",
          "2019-09-01T00:00:00",
          "2019-10-01T00:00:00",
          "2019-11-01T00:00:00",
          "2019-12-01T00:00:00",
          "2020-01-01T00:00:00",
          "2020-02-01T00:00:00"
         ],
         "xaxis": "x",
         "y": [
          3.84,
          3.82,
          3.76,
          3.59,
          3.45,
          3.33,
          3.22,
          3.16,
          3.12,
          3.12,
          3.13,
          3.23,
          3.24,
          3.19
         ],
         "yaxis": "y"
        },
        {
         "line": {
          "color": "orange"
         },
         "name": "test sentiment",
         "type": "scatter",
         "x": [
          "2017-07-31T00:00:00",
          "2017-08-31T00:00:00",
          "2017-09-30T00:00:00",
          "2017-10-31T00:00:00",
          "2017-11-30T00:00:00",
          "2017-12-31T00:00:00",
          "2018-01-31T00:00:00",
          "2018-02-28T00:00:00",
          "2018-03-31T00:00:00",
          "2018-04-30T00:00:00",
          "2018-05-31T00:00:00",
          "2018-06-30T00:00:00",
          "2018-07-31T00:00:00",
          "2018-08-31T00:00:00",
          "2018-09-30T00:00:00",
          "2018-10-31T00:00:00",
          "2018-11-30T00:00:00",
          "2018-12-31T00:00:00",
          "2019-01-31T00:00:00",
          "2019-02-28T00:00:00",
          "2019-03-31T00:00:00",
          "2019-04-30T00:00:00",
          "2019-05-31T00:00:00",
          "2019-06-30T00:00:00",
          "2019-07-31T00:00:00",
          "2019-08-31T00:00:00",
          "2019-09-30T00:00:00",
          "2019-10-31T00:00:00",
          "2019-11-30T00:00:00",
          "2019-12-31T00:00:00",
          "2020-01-31T00:00:00",
          "2020-02-29T00:00:00",
          "2020-03-31T00:00:00",
          "2020-04-30T00:00:00",
          "2020-05-31T00:00:00"
         ],
         "xaxis": "x",
         "y": [
          1.5,
          1.5,
          1.5,
          0,
          0,
          0,
          0,
          0,
          0,
          -1.5,
          -0.5,
          -0.5,
          -0.5,
          -0.5,
          -0.5,
          -0.5,
          0,
          0,
          0,
          -0.5,
          -1,
          -0.3886894142876069,
          -0.06435253031225369,
          -0.13046358295679583,
          0.11490120702700761,
          -0.10042867445386947,
          -0.19483710710866084,
          -0.022455730722867873,
          -0.19403751323912538,
          0.04635722500229762,
          0.05888234272501186,
          -0.003666876582428813,
          -0.46649066995087196,
          -0.6888815507758409,
          -0.6157866854752813
         ],
         "yaxis": "y2"
        }
       ],
       "layout": {
        "template": {
         "data": {
          "bar": [
           {
            "error_x": {
             "color": "#2a3f5f"
            },
            "error_y": {
             "color": "#2a3f5f"
            },
            "marker": {
             "line": {
              "color": "#E5ECF6",
              "width": 0.5
             }
            },
            "type": "bar"
           }
          ],
          "barpolar": [
           {
            "marker": {
             "line": {
              "color": "#E5ECF6",
              "width": 0.5
             }
            },
            "type": "barpolar"
           }
          ],
          "carpet": [
           {
            "aaxis": {
             "endlinecolor": "#2a3f5f",
             "gridcolor": "white",
             "linecolor": "white",
             "minorgridcolor": "white",
             "startlinecolor": "#2a3f5f"
            },
            "baxis": {
             "endlinecolor": "#2a3f5f",
             "gridcolor": "white",
             "linecolor": "white",
             "minorgridcolor": "white",
             "startlinecolor": "#2a3f5f"
            },
            "type": "carpet"
           }
          ],
          "choropleth": [
           {
            "colorbar": {
             "outlinewidth": 0,
             "ticks": ""
            },
            "type": "choropleth"
           }
          ],
          "contour": [
           {
            "colorbar": {
             "outlinewidth": 0,
             "ticks": ""
            },
            "colorscale": [
             [
              0,
              "#0d0887"
             ],
             [
              0.1111111111111111,
              "#46039f"
             ],
             [
              0.2222222222222222,
              "#7201a8"
             ],
             [
              0.3333333333333333,
              "#9c179e"
             ],
             [
              0.4444444444444444,
              "#bd3786"
             ],
             [
              0.5555555555555556,
              "#d8576b"
             ],
             [
              0.6666666666666666,
              "#ed7953"
             ],
             [
              0.7777777777777778,
              "#fb9f3a"
             ],
             [
              0.8888888888888888,
              "#fdca26"
             ],
             [
              1,
              "#f0f921"
             ]
            ],
            "type": "contour"
           }
          ],
          "contourcarpet": [
           {
            "colorbar": {
             "outlinewidth": 0,
             "ticks": ""
            },
            "type": "contourcarpet"
           }
          ],
          "heatmap": [
           {
            "colorbar": {
             "outlinewidth": 0,
             "ticks": ""
            },
            "colorscale": [
             [
              0,
              "#0d0887"
             ],
             [
              0.1111111111111111,
              "#46039f"
             ],
             [
              0.2222222222222222,
              "#7201a8"
             ],
             [
              0.3333333333333333,
              "#9c179e"
             ],
             [
              0.4444444444444444,
              "#bd3786"
             ],
             [
              0.5555555555555556,
              "#d8576b"
             ],
             [
              0.6666666666666666,
              "#ed7953"
             ],
             [
              0.7777777777777778,
              "#fb9f3a"
             ],
             [
              0.8888888888888888,
              "#fdca26"
             ],
             [
              1,
              "#f0f921"
             ]
            ],
            "type": "heatmap"
           }
          ],
          "heatmapgl": [
           {
            "colorbar": {
             "outlinewidth": 0,
             "ticks": ""
            },
            "colorscale": [
             [
              0,
              "#0d0887"
             ],
             [
              0.1111111111111111,
              "#46039f"
             ],
             [
              0.2222222222222222,
              "#7201a8"
             ],
             [
              0.3333333333333333,
              "#9c179e"
             ],
             [
              0.4444444444444444,
              "#bd3786"
             ],
             [
              0.5555555555555556,
              "#d8576b"
             ],
             [
              0.6666666666666666,
              "#ed7953"
             ],
             [
              0.7777777777777778,
              "#fb9f3a"
             ],
             [
              0.8888888888888888,
              "#fdca26"
             ],
             [
              1,
              "#f0f921"
             ]
            ],
            "type": "heatmapgl"
           }
          ],
          "histogram": [
           {
            "marker": {
             "colorbar": {
              "outlinewidth": 0,
              "ticks": ""
             }
            },
            "type": "histogram"
           }
          ],
          "histogram2d": [
           {
            "colorbar": {
             "outlinewidth": 0,
             "ticks": ""
            },
            "colorscale": [
             [
              0,
              "#0d0887"
             ],
             [
              0.1111111111111111,
              "#46039f"
             ],
             [
              0.2222222222222222,
              "#7201a8"
             ],
             [
              0.3333333333333333,
              "#9c179e"
             ],
             [
              0.4444444444444444,
              "#bd3786"
             ],
             [
              0.5555555555555556,
              "#d8576b"
             ],
             [
              0.6666666666666666,
              "#ed7953"
             ],
             [
              0.7777777777777778,
              "#fb9f3a"
             ],
             [
              0.8888888888888888,
              "#fdca26"
             ],
             [
              1,
              "#f0f921"
             ]
            ],
            "type": "histogram2d"
           }
          ],
          "histogram2dcontour": [
           {
            "colorbar": {
             "outlinewidth": 0,
             "ticks": ""
            },
            "colorscale": [
             [
              0,
              "#0d0887"
             ],
             [
              0.1111111111111111,
              "#46039f"
             ],
             [
              0.2222222222222222,
              "#7201a8"
             ],
             [
              0.3333333333333333,
              "#9c179e"
             ],
             [
              0.4444444444444444,
              "#bd3786"
             ],
             [
              0.5555555555555556,
              "#d8576b"
             ],
             [
              0.6666666666666666,
              "#ed7953"
             ],
             [
              0.7777777777777778,
              "#fb9f3a"
             ],
             [
              0.8888888888888888,
              "#fdca26"
             ],
             [
              1,
              "#f0f921"
             ]
            ],
            "type": "histogram2dcontour"
           }
          ],
          "mesh3d": [
           {
            "colorbar": {
             "outlinewidth": 0,
             "ticks": ""
            },
            "type": "mesh3d"
           }
          ],
          "parcoords": [
           {
            "line": {
             "colorbar": {
              "outlinewidth": 0,
              "ticks": ""
             }
            },
            "type": "parcoords"
           }
          ],
          "pie": [
           {
            "automargin": true,
            "type": "pie"
           }
          ],
          "scatter": [
           {
            "marker": {
             "colorbar": {
              "outlinewidth": 0,
              "ticks": ""
             }
            },
            "type": "scatter"
           }
          ],
          "scatter3d": [
           {
            "line": {
             "colorbar": {
              "outlinewidth": 0,
              "ticks": ""
             }
            },
            "marker": {
             "colorbar": {
              "outlinewidth": 0,
              "ticks": ""
             }
            },
            "type": "scatter3d"
           }
          ],
          "scattercarpet": [
           {
            "marker": {
             "colorbar": {
              "outlinewidth": 0,
              "ticks": ""
             }
            },
            "type": "scattercarpet"
           }
          ],
          "scattergeo": [
           {
            "marker": {
             "colorbar": {
              "outlinewidth": 0,
              "ticks": ""
             }
            },
            "type": "scattergeo"
           }
          ],
          "scattergl": [
           {
            "marker": {
             "colorbar": {
              "outlinewidth": 0,
              "ticks": ""
             }
            },
            "type": "scattergl"
           }
          ],
          "scattermapbox": [
           {
            "marker": {
             "colorbar": {
              "outlinewidth": 0,
              "ticks": ""
             }
            },
            "type": "scattermapbox"
           }
          ],
          "scatterpolar": [
           {
            "marker": {
             "colorbar": {
              "outlinewidth": 0,
              "ticks": ""
             }
            },
            "type": "scatterpolar"
           }
          ],
          "scatterpolargl": [
           {
            "marker": {
             "colorbar": {
              "outlinewidth": 0,
              "ticks": ""
             }
            },
            "type": "scatterpolargl"
           }
          ],
          "scatterternary": [
           {
            "marker": {
             "colorbar": {
              "outlinewidth": 0,
              "ticks": ""
             }
            },
            "type": "scatterternary"
           }
          ],
          "surface": [
           {
            "colorbar": {
             "outlinewidth": 0,
             "ticks": ""
            },
            "colorscale": [
             [
              0,
              "#0d0887"
             ],
             [
              0.1111111111111111,
              "#46039f"
             ],
             [
              0.2222222222222222,
              "#7201a8"
             ],
             [
              0.3333333333333333,
              "#9c179e"
             ],
             [
              0.4444444444444444,
              "#bd3786"
             ],
             [
              0.5555555555555556,
              "#d8576b"
             ],
             [
              0.6666666666666666,
              "#ed7953"
             ],
             [
              0.7777777777777778,
              "#fb9f3a"
             ],
             [
              0.8888888888888888,
              "#fdca26"
             ],
             [
              1,
              "#f0f921"
             ]
            ],
            "type": "surface"
           }
          ],
          "table": [
           {
            "cells": {
             "fill": {
              "color": "#EBF0F8"
             },
             "line": {
              "color": "white"
             }
            },
            "header": {
             "fill": {
              "color": "#C8D4E3"
             },
             "line": {
              "color": "white"
             }
            },
            "type": "table"
           }
          ]
         },
         "layout": {
          "annotationdefaults": {
           "arrowcolor": "#2a3f5f",
           "arrowhead": 0,
           "arrowwidth": 1
          },
          "coloraxis": {
           "colorbar": {
            "outlinewidth": 0,
            "ticks": ""
           }
          },
          "colorscale": {
           "diverging": [
            [
             0,
             "#8e0152"
            ],
            [
             0.1,
             "#c51b7d"
            ],
            [
             0.2,
             "#de77ae"
            ],
            [
             0.3,
             "#f1b6da"
            ],
            [
             0.4,
             "#fde0ef"
            ],
            [
             0.5,
             "#f7f7f7"
            ],
            [
             0.6,
             "#e6f5d0"
            ],
            [
             0.7,
             "#b8e186"
            ],
            [
             0.8,
             "#7fbc41"
            ],
            [
             0.9,
             "#4d9221"
            ],
            [
             1,
             "#276419"
            ]
           ],
           "sequential": [
            [
             0,
             "#0d0887"
            ],
            [
             0.1111111111111111,
             "#46039f"
            ],
            [
             0.2222222222222222,
             "#7201a8"
            ],
            [
             0.3333333333333333,
             "#9c179e"
            ],
            [
             0.4444444444444444,
             "#bd3786"
            ],
            [
             0.5555555555555556,
             "#d8576b"
            ],
            [
             0.6666666666666666,
             "#ed7953"
            ],
            [
             0.7777777777777778,
             "#fb9f3a"
            ],
            [
             0.8888888888888888,
             "#fdca26"
            ],
            [
             1,
             "#f0f921"
            ]
           ],
           "sequentialminus": [
            [
             0,
             "#0d0887"
            ],
            [
             0.1111111111111111,
             "#46039f"
            ],
            [
             0.2222222222222222,
             "#7201a8"
            ],
            [
             0.3333333333333333,
             "#9c179e"
            ],
            [
             0.4444444444444444,
             "#bd3786"
            ],
            [
             0.5555555555555556,
             "#d8576b"
            ],
            [
             0.6666666666666666,
             "#ed7953"
            ],
            [
             0.7777777777777778,
             "#fb9f3a"
            ],
            [
             0.8888888888888888,
             "#fdca26"
            ],
            [
             1,
             "#f0f921"
            ]
           ]
          },
          "colorway": [
           "#636efa",
           "#EF553B",
           "#00cc96",
           "#ab63fa",
           "#FFA15A",
           "#19d3f3",
           "#FF6692",
           "#B6E880",
           "#FF97FF",
           "#FECB52"
          ],
          "font": {
           "color": "#2a3f5f"
          },
          "geo": {
           "bgcolor": "white",
           "lakecolor": "white",
           "landcolor": "#E5ECF6",
           "showlakes": true,
           "showland": true,
           "subunitcolor": "white"
          },
          "hoverlabel": {
           "align": "left"
          },
          "hovermode": "closest",
          "mapbox": {
           "style": "light"
          },
          "paper_bgcolor": "white",
          "plot_bgcolor": "#E5ECF6",
          "polar": {
           "angularaxis": {
            "gridcolor": "white",
            "linecolor": "white",
            "ticks": ""
           },
           "bgcolor": "#E5ECF6",
           "radialaxis": {
            "gridcolor": "white",
            "linecolor": "white",
            "ticks": ""
           }
          },
          "scene": {
           "xaxis": {
            "backgroundcolor": "#E5ECF6",
            "gridcolor": "white",
            "gridwidth": 2,
            "linecolor": "white",
            "showbackground": true,
            "ticks": "",
            "zerolinecolor": "white"
           },
           "yaxis": {
            "backgroundcolor": "#E5ECF6",
            "gridcolor": "white",
            "gridwidth": 2,
            "linecolor": "white",
            "showbackground": true,
            "ticks": "",
            "zerolinecolor": "white"
           },
           "zaxis": {
            "backgroundcolor": "#E5ECF6",
            "gridcolor": "white",
            "gridwidth": 2,
            "linecolor": "white",
            "showbackground": true,
            "ticks": "",
            "zerolinecolor": "white"
           }
          },
          "shapedefaults": {
           "line": {
            "color": "#2a3f5f"
           }
          },
          "ternary": {
           "aaxis": {
            "gridcolor": "white",
            "linecolor": "white",
            "ticks": ""
           },
           "baxis": {
            "gridcolor": "white",
            "linecolor": "white",
            "ticks": ""
           },
           "bgcolor": "#E5ECF6",
           "caxis": {
            "gridcolor": "white",
            "linecolor": "white",
            "ticks": ""
           }
          },
          "title": {
           "x": 0.05
          },
          "xaxis": {
           "automargin": true,
           "gridcolor": "white",
           "linecolor": "white",
           "ticks": "",
           "title": {
            "standoff": 15
           },
           "zerolinecolor": "white",
           "zerolinewidth": 2
          },
          "yaxis": {
           "automargin": true,
           "gridcolor": "white",
           "linecolor": "white",
           "ticks": "",
           "title": {
            "standoff": 15
           },
           "zerolinecolor": "white",
           "zerolinewidth": 2
          }
         }
        },
        "title": {
         "text": "Canadian News Sentiment - Mortgage Rate (test)"
        },
        "xaxis": {
         "anchor": "y",
         "domain": [
          0,
          0.94
         ],
         "range": [
          "2019-01-01T00:00:00",
          "2020-02-01T00:00:00"
         ],
         "rangeslider": {
          "visible": true
         },
         "title": {
          "text": "Date"
         }
        },
        "yaxis": {
         "anchor": "x",
         "autorange": false,
         "domain": [
          0,
          1
         ],
         "range": [
          3.02,
          3.94
         ],
         "title": {
          "text": "Interest Rate  <br> (total, funds advanced, <br> residential mortgages, insured)"
         }
        },
        "yaxis2": {
         "anchor": "x",
         "overlaying": "y",
         "range": [
          -2.5,
          2.5
         ],
         "side": "right",
         "title": {
          "text": "Sentiment Score"
         }
        }
       }
      },
      "text/html": [
       "<div>\n",
       "        \n",
       "        \n",
       "            <div id=\"5408980b-c033-4b15-87d2-e59627c41a72\" class=\"plotly-graph-div\" style=\"height:525px; width:100%;\"></div>\n",
       "            <script type=\"text/javascript\">\n",
       "                require([\"plotly\"], function(Plotly) {\n",
       "                    window.PLOTLYENV=window.PLOTLYENV || {};\n",
       "                    \n",
       "                if (document.getElementById(\"5408980b-c033-4b15-87d2-e59627c41a72\")) {\n",
       "                    Plotly.newPlot(\n",
       "                        '5408980b-c033-4b15-87d2-e59627c41a72',\n",
       "                        [{\"fill\": \"tonexty\", \"line\": {\"color\": \"blue\"}, \"mode\": \"lines\", \"name\": \"Interest Rate  <br> (total, funds advanced, <br> residential mortgages, insured)\", \"type\": \"scatter\", \"x\": [\"2019-01-01T00:00:00\", \"2019-02-01T00:00:00\", \"2019-03-01T00:00:00\", \"2019-04-01T00:00:00\", \"2019-05-01T00:00:00\", \"2019-06-01T00:00:00\", \"2019-07-01T00:00:00\", \"2019-08-01T00:00:00\", \"2019-09-01T00:00:00\", \"2019-10-01T00:00:00\", \"2019-11-01T00:00:00\", \"2019-12-01T00:00:00\", \"2020-01-01T00:00:00\", \"2020-02-01T00:00:00\"], \"xaxis\": \"x\", \"y\": [3.84, 3.82, 3.76, 3.59, 3.45, 3.33, 3.22, 3.16, 3.12, 3.12, 3.13, 3.23, 3.24, 3.19], \"yaxis\": \"y\"}, {\"line\": {\"color\": \"orange\"}, \"name\": \"test sentiment\", \"type\": \"scatter\", \"x\": [\"2017-07-31T00:00:00\", \"2017-08-31T00:00:00\", \"2017-09-30T00:00:00\", \"2017-10-31T00:00:00\", \"2017-11-30T00:00:00\", \"2017-12-31T00:00:00\", \"2018-01-31T00:00:00\", \"2018-02-28T00:00:00\", \"2018-03-31T00:00:00\", \"2018-04-30T00:00:00\", \"2018-05-31T00:00:00\", \"2018-06-30T00:00:00\", \"2018-07-31T00:00:00\", \"2018-08-31T00:00:00\", \"2018-09-30T00:00:00\", \"2018-10-31T00:00:00\", \"2018-11-30T00:00:00\", \"2018-12-31T00:00:00\", \"2019-01-31T00:00:00\", \"2019-02-28T00:00:00\", \"2019-03-31T00:00:00\", \"2019-04-30T00:00:00\", \"2019-05-31T00:00:00\", \"2019-06-30T00:00:00\", \"2019-07-31T00:00:00\", \"2019-08-31T00:00:00\", \"2019-09-30T00:00:00\", \"2019-10-31T00:00:00\", \"2019-11-30T00:00:00\", \"2019-12-31T00:00:00\", \"2020-01-31T00:00:00\", \"2020-02-29T00:00:00\", \"2020-03-31T00:00:00\", \"2020-04-30T00:00:00\", \"2020-05-31T00:00:00\"], \"xaxis\": \"x\", \"y\": [1.5, 1.5, 1.5, 0.0, 0.0, 0.0, 0.0, 0.0, 0.0, -1.5, -0.5, -0.5, -0.5, -0.5, -0.5, -0.5, 0.0, 0.0, 0.0, -0.5, -1.0, -0.3886894142876069, -0.06435253031225369, -0.13046358295679583, 0.11490120702700761, -0.10042867445386947, -0.19483710710866084, -0.022455730722867873, -0.19403751323912538, 0.04635722500229762, 0.05888234272501186, -0.003666876582428813, -0.46649066995087196, -0.6888815507758409, -0.6157866854752813], \"yaxis\": \"y2\"}],\n",
       "                        {\"template\": {\"data\": {\"bar\": [{\"error_x\": {\"color\": \"#2a3f5f\"}, \"error_y\": {\"color\": \"#2a3f5f\"}, \"marker\": {\"line\": {\"color\": \"#E5ECF6\", \"width\": 0.5}}, \"type\": \"bar\"}], \"barpolar\": [{\"marker\": {\"line\": {\"color\": \"#E5ECF6\", \"width\": 0.5}}, \"type\": \"barpolar\"}], \"carpet\": [{\"aaxis\": {\"endlinecolor\": \"#2a3f5f\", \"gridcolor\": \"white\", \"linecolor\": \"white\", \"minorgridcolor\": \"white\", \"startlinecolor\": \"#2a3f5f\"}, \"baxis\": {\"endlinecolor\": \"#2a3f5f\", \"gridcolor\": \"white\", \"linecolor\": \"white\", \"minorgridcolor\": \"white\", \"startlinecolor\": \"#2a3f5f\"}, \"type\": \"carpet\"}], \"choropleth\": [{\"colorbar\": {\"outlinewidth\": 0, \"ticks\": \"\"}, \"type\": \"choropleth\"}], \"contour\": [{\"colorbar\": {\"outlinewidth\": 0, \"ticks\": \"\"}, \"colorscale\": [[0.0, \"#0d0887\"], [0.1111111111111111, \"#46039f\"], [0.2222222222222222, \"#7201a8\"], [0.3333333333333333, \"#9c179e\"], [0.4444444444444444, \"#bd3786\"], [0.5555555555555556, \"#d8576b\"], [0.6666666666666666, \"#ed7953\"], [0.7777777777777778, \"#fb9f3a\"], [0.8888888888888888, \"#fdca26\"], [1.0, \"#f0f921\"]], \"type\": \"contour\"}], \"contourcarpet\": [{\"colorbar\": {\"outlinewidth\": 0, \"ticks\": \"\"}, \"type\": \"contourcarpet\"}], \"heatmap\": [{\"colorbar\": {\"outlinewidth\": 0, \"ticks\": \"\"}, \"colorscale\": [[0.0, \"#0d0887\"], [0.1111111111111111, \"#46039f\"], [0.2222222222222222, \"#7201a8\"], [0.3333333333333333, \"#9c179e\"], [0.4444444444444444, \"#bd3786\"], [0.5555555555555556, \"#d8576b\"], [0.6666666666666666, \"#ed7953\"], [0.7777777777777778, \"#fb9f3a\"], [0.8888888888888888, \"#fdca26\"], [1.0, \"#f0f921\"]], \"type\": \"heatmap\"}], \"heatmapgl\": [{\"colorbar\": {\"outlinewidth\": 0, \"ticks\": \"\"}, \"colorscale\": [[0.0, \"#0d0887\"], [0.1111111111111111, \"#46039f\"], [0.2222222222222222, \"#7201a8\"], [0.3333333333333333, \"#9c179e\"], [0.4444444444444444, \"#bd3786\"], [0.5555555555555556, \"#d8576b\"], [0.6666666666666666, \"#ed7953\"], [0.7777777777777778, \"#fb9f3a\"], [0.8888888888888888, \"#fdca26\"], [1.0, \"#f0f921\"]], \"type\": \"heatmapgl\"}], \"histogram\": [{\"marker\": {\"colorbar\": {\"outlinewidth\": 0, \"ticks\": \"\"}}, \"type\": \"histogram\"}], \"histogram2d\": [{\"colorbar\": {\"outlinewidth\": 0, \"ticks\": \"\"}, \"colorscale\": [[0.0, \"#0d0887\"], [0.1111111111111111, \"#46039f\"], [0.2222222222222222, \"#7201a8\"], [0.3333333333333333, \"#9c179e\"], [0.4444444444444444, \"#bd3786\"], [0.5555555555555556, \"#d8576b\"], [0.6666666666666666, \"#ed7953\"], [0.7777777777777778, \"#fb9f3a\"], [0.8888888888888888, \"#fdca26\"], [1.0, \"#f0f921\"]], \"type\": \"histogram2d\"}], \"histogram2dcontour\": [{\"colorbar\": {\"outlinewidth\": 0, \"ticks\": \"\"}, \"colorscale\": [[0.0, \"#0d0887\"], [0.1111111111111111, \"#46039f\"], [0.2222222222222222, \"#7201a8\"], [0.3333333333333333, \"#9c179e\"], [0.4444444444444444, \"#bd3786\"], [0.5555555555555556, \"#d8576b\"], [0.6666666666666666, \"#ed7953\"], [0.7777777777777778, \"#fb9f3a\"], [0.8888888888888888, \"#fdca26\"], [1.0, \"#f0f921\"]], \"type\": \"histogram2dcontour\"}], \"mesh3d\": [{\"colorbar\": {\"outlinewidth\": 0, \"ticks\": \"\"}, \"type\": \"mesh3d\"}], \"parcoords\": [{\"line\": {\"colorbar\": {\"outlinewidth\": 0, \"ticks\": \"\"}}, \"type\": \"parcoords\"}], \"pie\": [{\"automargin\": true, \"type\": \"pie\"}], \"scatter\": [{\"marker\": {\"colorbar\": {\"outlinewidth\": 0, \"ticks\": \"\"}}, \"type\": \"scatter\"}], \"scatter3d\": [{\"line\": {\"colorbar\": {\"outlinewidth\": 0, \"ticks\": \"\"}}, \"marker\": {\"colorbar\": {\"outlinewidth\": 0, \"ticks\": \"\"}}, \"type\": \"scatter3d\"}], \"scattercarpet\": [{\"marker\": {\"colorbar\": {\"outlinewidth\": 0, \"ticks\": \"\"}}, \"type\": \"scattercarpet\"}], \"scattergeo\": [{\"marker\": {\"colorbar\": {\"outlinewidth\": 0, \"ticks\": \"\"}}, \"type\": \"scattergeo\"}], \"scattergl\": [{\"marker\": {\"colorbar\": {\"outlinewidth\": 0, \"ticks\": \"\"}}, \"type\": \"scattergl\"}], \"scattermapbox\": [{\"marker\": {\"colorbar\": {\"outlinewidth\": 0, \"ticks\": \"\"}}, \"type\": \"scattermapbox\"}], \"scatterpolar\": [{\"marker\": {\"colorbar\": {\"outlinewidth\": 0, \"ticks\": \"\"}}, \"type\": \"scatterpolar\"}], \"scatterpolargl\": [{\"marker\": {\"colorbar\": {\"outlinewidth\": 0, \"ticks\": \"\"}}, \"type\": \"scatterpolargl\"}], \"scatterternary\": [{\"marker\": {\"colorbar\": {\"outlinewidth\": 0, \"ticks\": \"\"}}, \"type\": \"scatterternary\"}], \"surface\": [{\"colorbar\": {\"outlinewidth\": 0, \"ticks\": \"\"}, \"colorscale\": [[0.0, \"#0d0887\"], [0.1111111111111111, \"#46039f\"], [0.2222222222222222, \"#7201a8\"], [0.3333333333333333, \"#9c179e\"], [0.4444444444444444, \"#bd3786\"], [0.5555555555555556, \"#d8576b\"], [0.6666666666666666, \"#ed7953\"], [0.7777777777777778, \"#fb9f3a\"], [0.8888888888888888, \"#fdca26\"], [1.0, \"#f0f921\"]], \"type\": \"surface\"}], \"table\": [{\"cells\": {\"fill\": {\"color\": \"#EBF0F8\"}, \"line\": {\"color\": \"white\"}}, \"header\": {\"fill\": {\"color\": \"#C8D4E3\"}, \"line\": {\"color\": \"white\"}}, \"type\": \"table\"}]}, \"layout\": {\"annotationdefaults\": {\"arrowcolor\": \"#2a3f5f\", \"arrowhead\": 0, \"arrowwidth\": 1}, \"coloraxis\": {\"colorbar\": {\"outlinewidth\": 0, \"ticks\": \"\"}}, \"colorscale\": {\"diverging\": [[0, \"#8e0152\"], [0.1, \"#c51b7d\"], [0.2, \"#de77ae\"], [0.3, \"#f1b6da\"], [0.4, \"#fde0ef\"], [0.5, \"#f7f7f7\"], [0.6, \"#e6f5d0\"], [0.7, \"#b8e186\"], [0.8, \"#7fbc41\"], [0.9, \"#4d9221\"], [1, \"#276419\"]], \"sequential\": [[0.0, \"#0d0887\"], [0.1111111111111111, \"#46039f\"], [0.2222222222222222, \"#7201a8\"], [0.3333333333333333, \"#9c179e\"], [0.4444444444444444, \"#bd3786\"], [0.5555555555555556, \"#d8576b\"], [0.6666666666666666, \"#ed7953\"], [0.7777777777777778, \"#fb9f3a\"], [0.8888888888888888, \"#fdca26\"], [1.0, \"#f0f921\"]], \"sequentialminus\": [[0.0, \"#0d0887\"], [0.1111111111111111, \"#46039f\"], [0.2222222222222222, \"#7201a8\"], [0.3333333333333333, \"#9c179e\"], [0.4444444444444444, \"#bd3786\"], [0.5555555555555556, \"#d8576b\"], [0.6666666666666666, \"#ed7953\"], [0.7777777777777778, \"#fb9f3a\"], [0.8888888888888888, \"#fdca26\"], [1.0, \"#f0f921\"]]}, \"colorway\": [\"#636efa\", \"#EF553B\", \"#00cc96\", \"#ab63fa\", \"#FFA15A\", \"#19d3f3\", \"#FF6692\", \"#B6E880\", \"#FF97FF\", \"#FECB52\"], \"font\": {\"color\": \"#2a3f5f\"}, \"geo\": {\"bgcolor\": \"white\", \"lakecolor\": \"white\", \"landcolor\": \"#E5ECF6\", \"showlakes\": true, \"showland\": true, \"subunitcolor\": \"white\"}, \"hoverlabel\": {\"align\": \"left\"}, \"hovermode\": \"closest\", \"mapbox\": {\"style\": \"light\"}, \"paper_bgcolor\": \"white\", \"plot_bgcolor\": \"#E5ECF6\", \"polar\": {\"angularaxis\": {\"gridcolor\": \"white\", \"linecolor\": \"white\", \"ticks\": \"\"}, \"bgcolor\": \"#E5ECF6\", \"radialaxis\": {\"gridcolor\": \"white\", \"linecolor\": \"white\", \"ticks\": \"\"}}, \"scene\": {\"xaxis\": {\"backgroundcolor\": \"#E5ECF6\", \"gridcolor\": \"white\", \"gridwidth\": 2, \"linecolor\": \"white\", \"showbackground\": true, \"ticks\": \"\", \"zerolinecolor\": \"white\"}, \"yaxis\": {\"backgroundcolor\": \"#E5ECF6\", \"gridcolor\": \"white\", \"gridwidth\": 2, \"linecolor\": \"white\", \"showbackground\": true, \"ticks\": \"\", \"zerolinecolor\": \"white\"}, \"zaxis\": {\"backgroundcolor\": \"#E5ECF6\", \"gridcolor\": \"white\", \"gridwidth\": 2, \"linecolor\": \"white\", \"showbackground\": true, \"ticks\": \"\", \"zerolinecolor\": \"white\"}}, \"shapedefaults\": {\"line\": {\"color\": \"#2a3f5f\"}}, \"ternary\": {\"aaxis\": {\"gridcolor\": \"white\", \"linecolor\": \"white\", \"ticks\": \"\"}, \"baxis\": {\"gridcolor\": \"white\", \"linecolor\": \"white\", \"ticks\": \"\"}, \"bgcolor\": \"#E5ECF6\", \"caxis\": {\"gridcolor\": \"white\", \"linecolor\": \"white\", \"ticks\": \"\"}}, \"title\": {\"x\": 0.05}, \"xaxis\": {\"automargin\": true, \"gridcolor\": \"white\", \"linecolor\": \"white\", \"ticks\": \"\", \"title\": {\"standoff\": 15}, \"zerolinecolor\": \"white\", \"zerolinewidth\": 2}, \"yaxis\": {\"automargin\": true, \"gridcolor\": \"white\", \"linecolor\": \"white\", \"ticks\": \"\", \"title\": {\"standoff\": 15}, \"zerolinecolor\": \"white\", \"zerolinewidth\": 2}}}, \"title\": {\"text\": \"Canadian News Sentiment - Mortgage Rate (test)\"}, \"xaxis\": {\"anchor\": \"y\", \"domain\": [0.0, 0.94], \"range\": [\"2019-01-01T00:00:00\", \"2020-02-01T00:00:00\"], \"rangeslider\": {\"visible\": true}, \"title\": {\"text\": \"Date\"}}, \"yaxis\": {\"anchor\": \"x\", \"autorange\": false, \"domain\": [0.0, 1.0], \"range\": [3.02, 3.94], \"title\": {\"text\": \"Interest Rate  <br> (total, funds advanced, <br> residential mortgages, insured)\"}}, \"yaxis2\": {\"anchor\": \"x\", \"overlaying\": \"y\", \"range\": [-2.5, 2.5], \"side\": \"right\", \"title\": {\"text\": \"Sentiment Score\"}}},\n",
       "                        {\"responsive\": true}\n",
       "                    ).then(function(){\n",
       "                            \n",
       "var gd = document.getElementById('5408980b-c033-4b15-87d2-e59627c41a72');\n",
       "var x = new MutationObserver(function (mutations, observer) {{\n",
       "        var display = window.getComputedStyle(gd).display;\n",
       "        if (!display || display === 'none') {{\n",
       "            console.log([gd, 'removed!']);\n",
       "            Plotly.purge(gd);\n",
       "            observer.disconnect();\n",
       "        }}\n",
       "}});\n",
       "\n",
       "// Listen for the removal of the full notebook cells\n",
       "var notebookContainer = gd.closest('#notebook-container');\n",
       "if (notebookContainer) {{\n",
       "    x.observe(notebookContainer, {childList: true});\n",
       "}}\n",
       "\n",
       "// Listen for the clearing of the current output cell\n",
       "var outputEl = gd.closest('.output');\n",
       "if (outputEl) {{\n",
       "    x.observe(outputEl, {childList: true});\n",
       "}}\n",
       "\n",
       "                        })\n",
       "                };\n",
       "                });\n",
       "            </script>\n",
       "        </div>"
      ]
     },
     "metadata": {},
     "output_type": "display_data"
    }
   ],
   "source": [
    "#test function  \n",
    "test_indicator_name = \"Interest Rate  <br> (total, funds advanced, <br> residential mortgages, insured)\"\n",
    "test_title = \"Canadian News Sentiment - Mortgage Rate (test)\"\n",
    "\n",
    "###  show all mixed-source\n",
    "\n",
    "test_fig = plot_combined_graph_new(test_mrg_df, monthly_senti_df_mortgage, test_indicator_name, test_title)\n",
    "test_fig.show()"
   ]
  },
  {
   "cell_type": "code",
   "execution_count": 133,
   "metadata": {},
   "outputs": [
    {
     "data": {
      "text/html": [
       "<div>\n",
       "<style scoped>\n",
       "    .dataframe tbody tr th:only-of-type {\n",
       "        vertical-align: middle;\n",
       "    }\n",
       "\n",
       "    .dataframe tbody tr th {\n",
       "        vertical-align: top;\n",
       "    }\n",
       "\n",
       "    .dataframe thead th {\n",
       "        text-align: right;\n",
       "    }\n",
       "</style>\n",
       "<table border=\"1\" class=\"dataframe\">\n",
       "  <thead>\n",
       "    <tr style=\"text-align: right;\">\n",
       "      <th></th>\n",
       "      <th>final_sentiment</th>\n",
       "    </tr>\n",
       "    <tr>\n",
       "      <th>publishedAt</th>\n",
       "      <th></th>\n",
       "    </tr>\n",
       "  </thead>\n",
       "  <tbody>\n",
       "    <tr>\n",
       "      <th>2017-07-31</th>\n",
       "      <td>1.500000</td>\n",
       "    </tr>\n",
       "    <tr>\n",
       "      <th>2017-08-31</th>\n",
       "      <td>1.500000</td>\n",
       "    </tr>\n",
       "    <tr>\n",
       "      <th>2017-09-30</th>\n",
       "      <td>1.500000</td>\n",
       "    </tr>\n",
       "    <tr>\n",
       "      <th>2017-10-31</th>\n",
       "      <td>0.000000</td>\n",
       "    </tr>\n",
       "    <tr>\n",
       "      <th>2017-11-30</th>\n",
       "      <td>0.000000</td>\n",
       "    </tr>\n",
       "    <tr>\n",
       "      <th>2017-12-31</th>\n",
       "      <td>0.000000</td>\n",
       "    </tr>\n",
       "    <tr>\n",
       "      <th>2018-01-31</th>\n",
       "      <td>0.000000</td>\n",
       "    </tr>\n",
       "    <tr>\n",
       "      <th>2018-02-28</th>\n",
       "      <td>0.000000</td>\n",
       "    </tr>\n",
       "    <tr>\n",
       "      <th>2018-03-31</th>\n",
       "      <td>0.000000</td>\n",
       "    </tr>\n",
       "    <tr>\n",
       "      <th>2018-04-30</th>\n",
       "      <td>-1.500000</td>\n",
       "    </tr>\n",
       "    <tr>\n",
       "      <th>2018-05-31</th>\n",
       "      <td>-0.500000</td>\n",
       "    </tr>\n",
       "    <tr>\n",
       "      <th>2018-06-30</th>\n",
       "      <td>-0.500000</td>\n",
       "    </tr>\n",
       "    <tr>\n",
       "      <th>2018-07-31</th>\n",
       "      <td>-0.500000</td>\n",
       "    </tr>\n",
       "    <tr>\n",
       "      <th>2018-08-31</th>\n",
       "      <td>-0.500000</td>\n",
       "    </tr>\n",
       "    <tr>\n",
       "      <th>2018-09-30</th>\n",
       "      <td>-0.500000</td>\n",
       "    </tr>\n",
       "    <tr>\n",
       "      <th>2018-10-31</th>\n",
       "      <td>-0.500000</td>\n",
       "    </tr>\n",
       "    <tr>\n",
       "      <th>2018-11-30</th>\n",
       "      <td>0.000000</td>\n",
       "    </tr>\n",
       "    <tr>\n",
       "      <th>2018-12-31</th>\n",
       "      <td>0.000000</td>\n",
       "    </tr>\n",
       "    <tr>\n",
       "      <th>2019-01-31</th>\n",
       "      <td>0.000000</td>\n",
       "    </tr>\n",
       "    <tr>\n",
       "      <th>2019-02-28</th>\n",
       "      <td>-0.500000</td>\n",
       "    </tr>\n",
       "    <tr>\n",
       "      <th>2019-03-31</th>\n",
       "      <td>-1.000000</td>\n",
       "    </tr>\n",
       "    <tr>\n",
       "      <th>2019-04-30</th>\n",
       "      <td>-0.388689</td>\n",
       "    </tr>\n",
       "    <tr>\n",
       "      <th>2019-05-31</th>\n",
       "      <td>-0.064353</td>\n",
       "    </tr>\n",
       "    <tr>\n",
       "      <th>2019-06-30</th>\n",
       "      <td>-0.130464</td>\n",
       "    </tr>\n",
       "    <tr>\n",
       "      <th>2019-07-31</th>\n",
       "      <td>0.114901</td>\n",
       "    </tr>\n",
       "    <tr>\n",
       "      <th>2019-08-31</th>\n",
       "      <td>-0.100429</td>\n",
       "    </tr>\n",
       "    <tr>\n",
       "      <th>2019-09-30</th>\n",
       "      <td>-0.194837</td>\n",
       "    </tr>\n",
       "    <tr>\n",
       "      <th>2019-10-31</th>\n",
       "      <td>-0.022456</td>\n",
       "    </tr>\n",
       "    <tr>\n",
       "      <th>2019-11-30</th>\n",
       "      <td>-0.194038</td>\n",
       "    </tr>\n",
       "    <tr>\n",
       "      <th>2019-12-31</th>\n",
       "      <td>0.046357</td>\n",
       "    </tr>\n",
       "    <tr>\n",
       "      <th>2020-01-31</th>\n",
       "      <td>0.058882</td>\n",
       "    </tr>\n",
       "    <tr>\n",
       "      <th>2020-02-29</th>\n",
       "      <td>-0.003667</td>\n",
       "    </tr>\n",
       "    <tr>\n",
       "      <th>2020-03-31</th>\n",
       "      <td>-0.466491</td>\n",
       "    </tr>\n",
       "    <tr>\n",
       "      <th>2020-04-30</th>\n",
       "      <td>-0.688882</td>\n",
       "    </tr>\n",
       "    <tr>\n",
       "      <th>2020-05-31</th>\n",
       "      <td>-0.615787</td>\n",
       "    </tr>\n",
       "  </tbody>\n",
       "</table>\n",
       "</div>"
      ],
      "text/plain": [
       "             final_sentiment\n",
       "publishedAt                 \n",
       "2017-07-31          1.500000\n",
       "2017-08-31          1.500000\n",
       "2017-09-30          1.500000\n",
       "2017-10-31          0.000000\n",
       "2017-11-30          0.000000\n",
       "2017-12-31          0.000000\n",
       "2018-01-31          0.000000\n",
       "2018-02-28          0.000000\n",
       "2018-03-31          0.000000\n",
       "2018-04-30         -1.500000\n",
       "2018-05-31         -0.500000\n",
       "2018-06-30         -0.500000\n",
       "2018-07-31         -0.500000\n",
       "2018-08-31         -0.500000\n",
       "2018-09-30         -0.500000\n",
       "2018-10-31         -0.500000\n",
       "2018-11-30          0.000000\n",
       "2018-12-31          0.000000\n",
       "2019-01-31          0.000000\n",
       "2019-02-28         -0.500000\n",
       "2019-03-31         -1.000000\n",
       "2019-04-30         -0.388689\n",
       "2019-05-31         -0.064353\n",
       "2019-06-30         -0.130464\n",
       "2019-07-31          0.114901\n",
       "2019-08-31         -0.100429\n",
       "2019-09-30         -0.194837\n",
       "2019-10-31         -0.022456\n",
       "2019-11-30         -0.194038\n",
       "2019-12-31          0.046357\n",
       "2020-01-31          0.058882\n",
       "2020-02-29         -0.003667\n",
       "2020-03-31         -0.466491\n",
       "2020-04-30         -0.688882\n",
       "2020-05-31         -0.615787"
      ]
     },
     "execution_count": 133,
     "metadata": {},
     "output_type": "execute_result"
    }
   ],
   "source": [
    "monthly_senti_df_mortgage"
   ]
  },
  {
   "cell_type": "code",
   "execution_count": 174,
   "metadata": {},
   "outputs": [
    {
     "data": {
      "application/vnd.plotly.v1+json": {
       "config": {
        "plotlyServerURL": "https://plot.ly"
       },
       "data": [
        {
         "line": {
          "color": "blue"
         },
         "mode": "lines",
         "name": "Interest Rate  <br> (total, funds advanced, <br> residential mortgages, insured)",
         "type": "scatter",
         "x": [
          "2019-01-01T00:00:00",
          "2019-02-01T00:00:00",
          "2019-03-01T00:00:00",
          "2019-04-01T00:00:00",
          "2019-05-01T00:00:00",
          "2019-06-01T00:00:00",
          "2019-07-01T00:00:00",
          "2019-08-01T00:00:00",
          "2019-09-01T00:00:00",
          "2019-10-01T00:00:00",
          "2019-11-01T00:00:00",
          "2019-12-01T00:00:00",
          "2020-01-01T00:00:00",
          "2020-02-01T00:00:00"
         ],
         "xaxis": "x",
         "y": [
          3.84,
          3.82,
          3.76,
          3.59,
          3.45,
          3.33,
          3.22,
          3.16,
          3.12,
          3.12,
          3.13,
          3.23,
          3.24,
          3.19
         ],
         "yaxis": "y"
        },
        {
         "marker": {
          "color": "green"
         },
         "mode": "markers",
         "name": "Sentiment Score",
         "opacity": 0.5,
         "type": "scatter",
         "x": [
          "1970-01-01T00:00:00",
          "1970-01-01T00:00:00",
          "1970-01-01T00:00:00",
          "1970-01-01T00:00:00",
          "1970-01-01T00:00:00",
          "1970-01-01T00:00:00",
          "1970-01-01T00:00:00",
          "1970-01-01T00:00:00",
          "1970-01-01T00:00:00",
          "1970-01-01T00:00:00",
          "1970-01-01T00:00:00",
          "1970-01-01T00:00:00",
          "1970-01-01T00:00:00",
          "1970-01-01T00:00:00",
          "1970-01-01T00:00:00",
          "1970-01-01T00:00:00",
          "1970-01-01T00:00:00",
          "1970-01-01T00:00:00",
          "1970-01-01T00:00:00",
          "1970-01-01T00:00:00",
          "1970-01-01T00:00:00",
          "1970-01-01T00:00:00",
          "1970-01-01T00:00:00",
          "1970-01-01T00:00:00",
          "1970-01-01T00:00:00",
          "1970-01-01T00:00:00",
          "1970-01-01T00:00:00",
          "1970-01-01T00:00:00",
          "1970-01-01T00:00:00",
          "1970-01-01T00:00:00",
          "1970-01-01T00:00:00",
          "1970-01-01T00:00:00",
          "1970-01-01T00:00:00",
          "1970-01-01T00:00:00",
          "1970-01-01T00:00:00",
          "1970-01-01T00:00:00",
          "1970-01-01T00:00:00",
          "1970-01-01T00:00:00",
          "1970-01-01T00:00:00",
          "1970-01-01T00:00:00",
          "1970-01-01T00:00:00",
          "1970-01-01T00:00:00",
          "1970-01-01T00:00:00",
          "1970-01-01T00:00:00",
          "1970-01-01T00:00:00",
          "1970-01-01T00:00:00",
          "1970-01-01T00:00:00",
          "1970-01-01T00:00:00",
          "1970-01-01T00:00:00",
          "1970-01-01T00:00:00",
          "1970-01-01T00:00:00",
          "1970-01-01T00:00:00",
          "1970-01-01T00:00:00",
          "1970-01-01T00:00:00",
          "1970-01-01T00:00:00",
          "1970-01-01T00:00:00",
          "1970-01-01T00:00:00",
          "1970-01-01T00:00:00",
          "1970-01-01T00:00:00",
          "1970-01-01T00:00:00",
          "1970-01-01T00:00:00",
          "1970-01-01T00:00:00",
          "1970-01-01T00:00:00",
          "1970-01-01T00:00:00",
          "1970-01-01T00:00:00",
          "1970-01-01T00:00:00",
          "1970-01-01T00:00:00",
          "1970-01-01T00:00:00",
          "1970-01-01T00:00:00",
          "1970-01-01T00:00:00",
          "1970-01-01T00:00:00",
          "1970-01-01T00:00:00",
          "1970-01-01T00:00:00",
          "1970-01-01T00:00:00",
          "1970-01-01T00:00:00",
          "1970-01-01T00:00:00",
          "1970-01-01T00:00:00",
          "1970-01-01T00:00:00",
          "1970-01-01T00:00:00",
          "1970-01-01T00:00:00",
          "1970-01-01T00:00:00",
          "1970-01-01T00:00:00",
          "1970-01-01T00:00:00",
          "1970-01-01T00:00:00",
          "1970-01-01T00:00:00",
          "1970-01-01T00:00:00",
          "1970-01-01T00:00:00",
          "1970-01-01T00:00:00",
          "1970-01-01T00:00:00",
          "1970-01-01T00:00:00",
          "1970-01-01T00:00:00",
          "1970-01-01T00:00:00",
          "1970-01-01T00:00:00",
          "1970-01-01T00:00:00",
          "1970-01-01T00:00:00",
          "1970-01-01T00:00:00",
          "1970-01-01T00:00:00",
          "1970-01-01T00:00:00",
          "1970-01-01T00:00:00",
          "1970-01-01T00:00:00",
          "1970-01-01T00:00:00",
          "1970-01-01T00:00:00",
          "1970-01-01T00:00:00",
          "1970-01-01T00:00:00",
          "1970-01-01T00:00:00",
          "1970-01-01T00:00:00",
          "1970-01-01T00:00:00",
          "1970-01-01T00:00:00",
          "1970-01-01T00:00:00",
          "1970-01-01T00:00:00",
          "1970-01-01T00:00:00",
          "1970-01-01T00:00:00",
          "1970-01-01T00:00:00",
          "1970-01-01T00:00:00",
          "1970-01-01T00:00:00",
          "1970-01-01T00:00:00",
          "1970-01-01T00:00:00",
          "1970-01-01T00:00:00",
          "1970-01-01T00:00:00",
          "1970-01-01T00:00:00",
          "1970-01-01T00:00:00",
          "1970-01-01T00:00:00",
          "1970-01-01T00:00:00",
          "1970-01-01T00:00:00",
          "1970-01-01T00:00:00",
          "1970-01-01T00:00:00",
          "1970-01-01T00:00:00",
          "1970-01-01T00:00:00",
          "1970-01-01T00:00:00",
          "1970-01-01T00:00:00",
          "1970-01-01T00:00:00",
          "1970-01-01T00:00:00",
          "1970-01-01T00:00:00",
          "1970-01-01T00:00:00",
          "1970-01-01T00:00:00",
          "1970-01-01T00:00:00",
          "1970-01-01T00:00:00",
          "1970-01-01T00:00:00",
          "1970-01-01T00:00:00",
          "1970-01-01T00:00:00",
          "1970-01-01T00:00:00"
         ],
         "xaxis": "x",
         "y": [
          -1.3584988117218018,
          -1.3638954758644104,
          1.3461576700210571,
          1.3461576700210571,
          0.03557952493429184,
          -1.4987849593162537,
          -1.4239038228988647,
          0.27120379358530045,
          1.4242247939109802,
          -0.052255853079259396,
          -1.1155351400375366,
          -1.4947170615196228,
          -1.4967417120933533,
          -1.4861286878585815,
          -1.1699542999267578,
          -1.4887521862983704,
          1.3845785856246948,
          -1.0514061450958252,
          1.0466192364692688,
          -1.4330191016197205,
          -1.4724942445755005,
          -1.4990059733390808,
          -1.3564692735671997,
          -0.04732032865285875,
          -1.4831101894378662,
          -1.382517158985138,
          -0.9442244172096252,
          -1.389236330986023,
          -1.3705164194107056,
          -0.0008412636816501583,
          -1.2549678087234497,
          -1.4874122142791748,
          -0.01021822914481163,
          -1.4502134919166565,
          -1.4902347326278687,
          -1.49246746301651,
          -1.1138149499893188,
          -1.3392068147659302,
          -1.245606780052185,
          -0.042585797607898726,
          -1.1168586015701294,
          1.2366125583648682,
          1.232754111289978,
          -0.23673763126134872,
          1.0025845766067505,
          -0.06451679905876517,
          -1.4994325041770935,
          -1.2277562022209167,
          -1.497061312198639,
          1.368165910243988,
          -1.413516879081726,
          -1.4955782294273376,
          -1.2855457067489624,
          -1.386469542980194,
          -1.435813069343567,
          -0.1414221823215485,
          -0.434554386883974,
          -1.4423192739486694,
          -1.4935338497161865,
          0.05560144782066345,
          -0.07459027692675592,
          0.09628693014383316,
          -1.4937759637832642,
          -1.4635162949562073,
          -1.1488687992095947,
          1.325694501399994,
          -0.018372856080532077,
          -1.3294180631637573,
          -1.4405885338783264,
          -1.4988272786140442,
          -1.4692213535308838,
          -1.1757996678352356,
          -1.2439340949058533,
          -1.4666168093681335,
          0.3088863492012024,
          -1.353023886680603,
          -1.4708333611488342,
          -1.4822140336036682,
          -1.2071483135223389,
          -1.4601668119430542,
          -1.4901069402694702,
          -1.3115956783294678,
          -0.30931245163083076,
          -1.3934794664382935,
          -1.4717780947685242,
          -1.4672401547431946,
          -1.3336432576179504,
          -1.495834231376648,
          -1.4214408993721008,
          -1.4872260689735413,
          -1.1600334644317627,
          -1.2040889859199524,
          -1.331419289112091,
          -0.05605441331863403,
          -1.4907165169715881,
          -1.4856913685798645,
          -0.4026195788756013,
          -1.0094648003578186,
          -1.4897488951683044,
          -1.4891778230667114,
          -1.4989307522773743,
          -0.9935397803783417,
          -0.015702236676588658,
          -1.0469048619270325,
          -1.4650974869728088,
          -1.4844489693641663,
          -1.3058145642280579,
          -1.065637469291687,
          -0.015296204015612602,
          -1.4980791807174683,
          -1.495346486568451,
          -1.4976140260696411,
          -0.9752251207828522,
          -1.490285575389862,
          -1.4733055233955383,
          -1.2837618589401245,
          -1.4795071482658386,
          -0.013365201652050022,
          0.13697616755962375,
          0.9750491678714752,
          0.019620519131422043,
          -0.9953454732894897,
          -0.21442283689975739,
          -1.4804351329803467,
          -1.4496411085128784,
          -1.4800333380699158,
          -1.498285949230194,
          -1.498120367527008,
          -1.4975207448005676,
          -1.4897152781486511,
          -1.268121063709259,
          -1.4863579273223877,
          -1.496625304222107,
          -1.016398012638092,
          0.2374052815139293,
          -1.4988458156585693,
          -0.27206782437860966,
          -1.440325915813446,
          -1.4943377375602722,
          -1.1612778902053833,
          -1.4102745652198792
         ],
         "yaxis": "y2"
        }
       ],
       "layout": {
        "template": {
         "data": {
          "bar": [
           {
            "error_x": {
             "color": "#2a3f5f"
            },
            "error_y": {
             "color": "#2a3f5f"
            },
            "marker": {
             "line": {
              "color": "#E5ECF6",
              "width": 0.5
             }
            },
            "type": "bar"
           }
          ],
          "barpolar": [
           {
            "marker": {
             "line": {
              "color": "#E5ECF6",
              "width": 0.5
             }
            },
            "type": "barpolar"
           }
          ],
          "carpet": [
           {
            "aaxis": {
             "endlinecolor": "#2a3f5f",
             "gridcolor": "white",
             "linecolor": "white",
             "minorgridcolor": "white",
             "startlinecolor": "#2a3f5f"
            },
            "baxis": {
             "endlinecolor": "#2a3f5f",
             "gridcolor": "white",
             "linecolor": "white",
             "minorgridcolor": "white",
             "startlinecolor": "#2a3f5f"
            },
            "type": "carpet"
           }
          ],
          "choropleth": [
           {
            "colorbar": {
             "outlinewidth": 0,
             "ticks": ""
            },
            "type": "choropleth"
           }
          ],
          "contour": [
           {
            "colorbar": {
             "outlinewidth": 0,
             "ticks": ""
            },
            "colorscale": [
             [
              0,
              "#0d0887"
             ],
             [
              0.1111111111111111,
              "#46039f"
             ],
             [
              0.2222222222222222,
              "#7201a8"
             ],
             [
              0.3333333333333333,
              "#9c179e"
             ],
             [
              0.4444444444444444,
              "#bd3786"
             ],
             [
              0.5555555555555556,
              "#d8576b"
             ],
             [
              0.6666666666666666,
              "#ed7953"
             ],
             [
              0.7777777777777778,
              "#fb9f3a"
             ],
             [
              0.8888888888888888,
              "#fdca26"
             ],
             [
              1,
              "#f0f921"
             ]
            ],
            "type": "contour"
           }
          ],
          "contourcarpet": [
           {
            "colorbar": {
             "outlinewidth": 0,
             "ticks": ""
            },
            "type": "contourcarpet"
           }
          ],
          "heatmap": [
           {
            "colorbar": {
             "outlinewidth": 0,
             "ticks": ""
            },
            "colorscale": [
             [
              0,
              "#0d0887"
             ],
             [
              0.1111111111111111,
              "#46039f"
             ],
             [
              0.2222222222222222,
              "#7201a8"
             ],
             [
              0.3333333333333333,
              "#9c179e"
             ],
             [
              0.4444444444444444,
              "#bd3786"
             ],
             [
              0.5555555555555556,
              "#d8576b"
             ],
             [
              0.6666666666666666,
              "#ed7953"
             ],
             [
              0.7777777777777778,
              "#fb9f3a"
             ],
             [
              0.8888888888888888,
              "#fdca26"
             ],
             [
              1,
              "#f0f921"
             ]
            ],
            "type": "heatmap"
           }
          ],
          "heatmapgl": [
           {
            "colorbar": {
             "outlinewidth": 0,
             "ticks": ""
            },
            "colorscale": [
             [
              0,
              "#0d0887"
             ],
             [
              0.1111111111111111,
              "#46039f"
             ],
             [
              0.2222222222222222,
              "#7201a8"
             ],
             [
              0.3333333333333333,
              "#9c179e"
             ],
             [
              0.4444444444444444,
              "#bd3786"
             ],
             [
              0.5555555555555556,
              "#d8576b"
             ],
             [
              0.6666666666666666,
              "#ed7953"
             ],
             [
              0.7777777777777778,
              "#fb9f3a"
             ],
             [
              0.8888888888888888,
              "#fdca26"
             ],
             [
              1,
              "#f0f921"
             ]
            ],
            "type": "heatmapgl"
           }
          ],
          "histogram": [
           {
            "marker": {
             "colorbar": {
              "outlinewidth": 0,
              "ticks": ""
             }
            },
            "type": "histogram"
           }
          ],
          "histogram2d": [
           {
            "colorbar": {
             "outlinewidth": 0,
             "ticks": ""
            },
            "colorscale": [
             [
              0,
              "#0d0887"
             ],
             [
              0.1111111111111111,
              "#46039f"
             ],
             [
              0.2222222222222222,
              "#7201a8"
             ],
             [
              0.3333333333333333,
              "#9c179e"
             ],
             [
              0.4444444444444444,
              "#bd3786"
             ],
             [
              0.5555555555555556,
              "#d8576b"
             ],
             [
              0.6666666666666666,
              "#ed7953"
             ],
             [
              0.7777777777777778,
              "#fb9f3a"
             ],
             [
              0.8888888888888888,
              "#fdca26"
             ],
             [
              1,
              "#f0f921"
             ]
            ],
            "type": "histogram2d"
           }
          ],
          "histogram2dcontour": [
           {
            "colorbar": {
             "outlinewidth": 0,
             "ticks": ""
            },
            "colorscale": [
             [
              0,
              "#0d0887"
             ],
             [
              0.1111111111111111,
              "#46039f"
             ],
             [
              0.2222222222222222,
              "#7201a8"
             ],
             [
              0.3333333333333333,
              "#9c179e"
             ],
             [
              0.4444444444444444,
              "#bd3786"
             ],
             [
              0.5555555555555556,
              "#d8576b"
             ],
             [
              0.6666666666666666,
              "#ed7953"
             ],
             [
              0.7777777777777778,
              "#fb9f3a"
             ],
             [
              0.8888888888888888,
              "#fdca26"
             ],
             [
              1,
              "#f0f921"
             ]
            ],
            "type": "histogram2dcontour"
           }
          ],
          "mesh3d": [
           {
            "colorbar": {
             "outlinewidth": 0,
             "ticks": ""
            },
            "type": "mesh3d"
           }
          ],
          "parcoords": [
           {
            "line": {
             "colorbar": {
              "outlinewidth": 0,
              "ticks": ""
             }
            },
            "type": "parcoords"
           }
          ],
          "pie": [
           {
            "automargin": true,
            "type": "pie"
           }
          ],
          "scatter": [
           {
            "marker": {
             "colorbar": {
              "outlinewidth": 0,
              "ticks": ""
             }
            },
            "type": "scatter"
           }
          ],
          "scatter3d": [
           {
            "line": {
             "colorbar": {
              "outlinewidth": 0,
              "ticks": ""
             }
            },
            "marker": {
             "colorbar": {
              "outlinewidth": 0,
              "ticks": ""
             }
            },
            "type": "scatter3d"
           }
          ],
          "scattercarpet": [
           {
            "marker": {
             "colorbar": {
              "outlinewidth": 0,
              "ticks": ""
             }
            },
            "type": "scattercarpet"
           }
          ],
          "scattergeo": [
           {
            "marker": {
             "colorbar": {
              "outlinewidth": 0,
              "ticks": ""
             }
            },
            "type": "scattergeo"
           }
          ],
          "scattergl": [
           {
            "marker": {
             "colorbar": {
              "outlinewidth": 0,
              "ticks": ""
             }
            },
            "type": "scattergl"
           }
          ],
          "scattermapbox": [
           {
            "marker": {
             "colorbar": {
              "outlinewidth": 0,
              "ticks": ""
             }
            },
            "type": "scattermapbox"
           }
          ],
          "scatterpolar": [
           {
            "marker": {
             "colorbar": {
              "outlinewidth": 0,
              "ticks": ""
             }
            },
            "type": "scatterpolar"
           }
          ],
          "scatterpolargl": [
           {
            "marker": {
             "colorbar": {
              "outlinewidth": 0,
              "ticks": ""
             }
            },
            "type": "scatterpolargl"
           }
          ],
          "scatterternary": [
           {
            "marker": {
             "colorbar": {
              "outlinewidth": 0,
              "ticks": ""
             }
            },
            "type": "scatterternary"
           }
          ],
          "surface": [
           {
            "colorbar": {
             "outlinewidth": 0,
             "ticks": ""
            },
            "colorscale": [
             [
              0,
              "#0d0887"
             ],
             [
              0.1111111111111111,
              "#46039f"
             ],
             [
              0.2222222222222222,
              "#7201a8"
             ],
             [
              0.3333333333333333,
              "#9c179e"
             ],
             [
              0.4444444444444444,
              "#bd3786"
             ],
             [
              0.5555555555555556,
              "#d8576b"
             ],
             [
              0.6666666666666666,
              "#ed7953"
             ],
             [
              0.7777777777777778,
              "#fb9f3a"
             ],
             [
              0.8888888888888888,
              "#fdca26"
             ],
             [
              1,
              "#f0f921"
             ]
            ],
            "type": "surface"
           }
          ],
          "table": [
           {
            "cells": {
             "fill": {
              "color": "#EBF0F8"
             },
             "line": {
              "color": "white"
             }
            },
            "header": {
             "fill": {
              "color": "#C8D4E3"
             },
             "line": {
              "color": "white"
             }
            },
            "type": "table"
           }
          ]
         },
         "layout": {
          "annotationdefaults": {
           "arrowcolor": "#2a3f5f",
           "arrowhead": 0,
           "arrowwidth": 1
          },
          "coloraxis": {
           "colorbar": {
            "outlinewidth": 0,
            "ticks": ""
           }
          },
          "colorscale": {
           "diverging": [
            [
             0,
             "#8e0152"
            ],
            [
             0.1,
             "#c51b7d"
            ],
            [
             0.2,
             "#de77ae"
            ],
            [
             0.3,
             "#f1b6da"
            ],
            [
             0.4,
             "#fde0ef"
            ],
            [
             0.5,
             "#f7f7f7"
            ],
            [
             0.6,
             "#e6f5d0"
            ],
            [
             0.7,
             "#b8e186"
            ],
            [
             0.8,
             "#7fbc41"
            ],
            [
             0.9,
             "#4d9221"
            ],
            [
             1,
             "#276419"
            ]
           ],
           "sequential": [
            [
             0,
             "#0d0887"
            ],
            [
             0.1111111111111111,
             "#46039f"
            ],
            [
             0.2222222222222222,
             "#7201a8"
            ],
            [
             0.3333333333333333,
             "#9c179e"
            ],
            [
             0.4444444444444444,
             "#bd3786"
            ],
            [
             0.5555555555555556,
             "#d8576b"
            ],
            [
             0.6666666666666666,
             "#ed7953"
            ],
            [
             0.7777777777777778,
             "#fb9f3a"
            ],
            [
             0.8888888888888888,
             "#fdca26"
            ],
            [
             1,
             "#f0f921"
            ]
           ],
           "sequentialminus": [
            [
             0,
             "#0d0887"
            ],
            [
             0.1111111111111111,
             "#46039f"
            ],
            [
             0.2222222222222222,
             "#7201a8"
            ],
            [
             0.3333333333333333,
             "#9c179e"
            ],
            [
             0.4444444444444444,
             "#bd3786"
            ],
            [
             0.5555555555555556,
             "#d8576b"
            ],
            [
             0.6666666666666666,
             "#ed7953"
            ],
            [
             0.7777777777777778,
             "#fb9f3a"
            ],
            [
             0.8888888888888888,
             "#fdca26"
            ],
            [
             1,
             "#f0f921"
            ]
           ]
          },
          "colorway": [
           "#636efa",
           "#EF553B",
           "#00cc96",
           "#ab63fa",
           "#FFA15A",
           "#19d3f3",
           "#FF6692",
           "#B6E880",
           "#FF97FF",
           "#FECB52"
          ],
          "font": {
           "color": "#2a3f5f"
          },
          "geo": {
           "bgcolor": "white",
           "lakecolor": "white",
           "landcolor": "#E5ECF6",
           "showlakes": true,
           "showland": true,
           "subunitcolor": "white"
          },
          "hoverlabel": {
           "align": "left"
          },
          "hovermode": "closest",
          "mapbox": {
           "style": "light"
          },
          "paper_bgcolor": "white",
          "plot_bgcolor": "#E5ECF6",
          "polar": {
           "angularaxis": {
            "gridcolor": "white",
            "linecolor": "white",
            "ticks": ""
           },
           "bgcolor": "#E5ECF6",
           "radialaxis": {
            "gridcolor": "white",
            "linecolor": "white",
            "ticks": ""
           }
          },
          "scene": {
           "xaxis": {
            "backgroundcolor": "#E5ECF6",
            "gridcolor": "white",
            "gridwidth": 2,
            "linecolor": "white",
            "showbackground": true,
            "ticks": "",
            "zerolinecolor": "white"
           },
           "yaxis": {
            "backgroundcolor": "#E5ECF6",
            "gridcolor": "white",
            "gridwidth": 2,
            "linecolor": "white",
            "showbackground": true,
            "ticks": "",
            "zerolinecolor": "white"
           },
           "zaxis": {
            "backgroundcolor": "#E5ECF6",
            "gridcolor": "white",
            "gridwidth": 2,
            "linecolor": "white",
            "showbackground": true,
            "ticks": "",
            "zerolinecolor": "white"
           }
          },
          "shapedefaults": {
           "line": {
            "color": "#2a3f5f"
           }
          },
          "ternary": {
           "aaxis": {
            "gridcolor": "white",
            "linecolor": "white",
            "ticks": ""
           },
           "baxis": {
            "gridcolor": "white",
            "linecolor": "white",
            "ticks": ""
           },
           "bgcolor": "#E5ECF6",
           "caxis": {
            "gridcolor": "white",
            "linecolor": "white",
            "ticks": ""
           }
          },
          "title": {
           "x": 0.05
          },
          "xaxis": {
           "automargin": true,
           "gridcolor": "white",
           "linecolor": "white",
           "ticks": "",
           "title": {
            "standoff": 15
           },
           "zerolinecolor": "white",
           "zerolinewidth": 2
          },
          "yaxis": {
           "automargin": true,
           "gridcolor": "white",
           "linecolor": "white",
           "ticks": "",
           "title": {
            "standoff": 15
           },
           "zerolinecolor": "white",
           "zerolinewidth": 2
          }
         }
        },
        "title": {
         "text": "Canadian News Sentiment - Mortgage Rate (test)"
        },
        "xaxis": {
         "anchor": "y",
         "domain": [
          0,
          0.94
         ],
         "range": [
          "2019-01-01T00:00:00",
          "1970-01-01T00:00:00.000000096"
         ],
         "rangeslider": {
          "visible": true
         },
         "title": {
          "text": "Date"
         }
        },
        "yaxis": {
         "anchor": "x",
         "autorange": false,
         "domain": [
          0,
          1
         ],
         "range": [
          3.02,
          3.94
         ],
         "title": {
          "text": "Interest Rate  <br> (total, funds advanced, <br> residential mortgages, insured)"
         }
        },
        "yaxis2": {
         "anchor": "x",
         "overlaying": "y",
         "range": [
          -2.4994325041770935,
          2.4242247939109802
         ],
         "side": "right",
         "title": {
          "text": "Sentiment Score"
         }
        }
       }
      },
      "text/html": [
       "<div>\n",
       "        \n",
       "        \n",
       "            <div id=\"77464dbc-8c9d-45d8-8bbe-e4a17248ccf6\" class=\"plotly-graph-div\" style=\"height:525px; width:100%;\"></div>\n",
       "            <script type=\"text/javascript\">\n",
       "                require([\"plotly\"], function(Plotly) {\n",
       "                    window.PLOTLYENV=window.PLOTLYENV || {};\n",
       "                    \n",
       "                if (document.getElementById(\"77464dbc-8c9d-45d8-8bbe-e4a17248ccf6\")) {\n",
       "                    Plotly.newPlot(\n",
       "                        '77464dbc-8c9d-45d8-8bbe-e4a17248ccf6',\n",
       "                        [{\"line\": {\"color\": \"blue\"}, \"mode\": \"lines\", \"name\": \"Interest Rate  <br> (total, funds advanced, <br> residential mortgages, insured)\", \"type\": \"scatter\", \"x\": [\"2019-01-01T00:00:00\", \"2019-02-01T00:00:00\", \"2019-03-01T00:00:00\", \"2019-04-01T00:00:00\", \"2019-05-01T00:00:00\", \"2019-06-01T00:00:00\", \"2019-07-01T00:00:00\", \"2019-08-01T00:00:00\", \"2019-09-01T00:00:00\", \"2019-10-01T00:00:00\", \"2019-11-01T00:00:00\", \"2019-12-01T00:00:00\", \"2020-01-01T00:00:00\", \"2020-02-01T00:00:00\"], \"xaxis\": \"x\", \"y\": [3.84, 3.82, 3.76, 3.59, 3.45, 3.33, 3.22, 3.16, 3.12, 3.12, 3.13, 3.23, 3.24, 3.19], \"yaxis\": \"y\"}, {\"marker\": {\"color\": \"green\"}, \"mode\": \"markers\", \"name\": \"Sentiment Score\", \"opacity\": 0.5, \"type\": \"scatter\", \"x\": [\"1970-01-01T00:00:00\", \"1970-01-01T00:00:00\", \"1970-01-01T00:00:00\", \"1970-01-01T00:00:00\", \"1970-01-01T00:00:00\", \"1970-01-01T00:00:00\", \"1970-01-01T00:00:00\", \"1970-01-01T00:00:00\", \"1970-01-01T00:00:00\", \"1970-01-01T00:00:00\", \"1970-01-01T00:00:00\", \"1970-01-01T00:00:00\", \"1970-01-01T00:00:00\", \"1970-01-01T00:00:00\", \"1970-01-01T00:00:00\", \"1970-01-01T00:00:00\", \"1970-01-01T00:00:00\", \"1970-01-01T00:00:00\", \"1970-01-01T00:00:00\", \"1970-01-01T00:00:00\", \"1970-01-01T00:00:00\", \"1970-01-01T00:00:00\", \"1970-01-01T00:00:00\", \"1970-01-01T00:00:00\", \"1970-01-01T00:00:00\", \"1970-01-01T00:00:00\", \"1970-01-01T00:00:00\", \"1970-01-01T00:00:00\", \"1970-01-01T00:00:00\", \"1970-01-01T00:00:00\", \"1970-01-01T00:00:00\", \"1970-01-01T00:00:00\", \"1970-01-01T00:00:00\", \"1970-01-01T00:00:00\", \"1970-01-01T00:00:00\", \"1970-01-01T00:00:00\", \"1970-01-01T00:00:00\", \"1970-01-01T00:00:00\", \"1970-01-01T00:00:00\", \"1970-01-01T00:00:00\", \"1970-01-01T00:00:00\", \"1970-01-01T00:00:00\", \"1970-01-01T00:00:00\", \"1970-01-01T00:00:00\", \"1970-01-01T00:00:00\", \"1970-01-01T00:00:00\", \"1970-01-01T00:00:00\", \"1970-01-01T00:00:00\", \"1970-01-01T00:00:00\", \"1970-01-01T00:00:00\", \"1970-01-01T00:00:00\", \"1970-01-01T00:00:00\", \"1970-01-01T00:00:00\", \"1970-01-01T00:00:00\", \"1970-01-01T00:00:00\", \"1970-01-01T00:00:00\", \"1970-01-01T00:00:00\", \"1970-01-01T00:00:00\", \"1970-01-01T00:00:00\", \"1970-01-01T00:00:00\", \"1970-01-01T00:00:00\", \"1970-01-01T00:00:00\", \"1970-01-01T00:00:00\", \"1970-01-01T00:00:00\", \"1970-01-01T00:00:00\", \"1970-01-01T00:00:00\", \"1970-01-01T00:00:00\", \"1970-01-01T00:00:00\", \"1970-01-01T00:00:00\", \"1970-01-01T00:00:00\", \"1970-01-01T00:00:00\", \"1970-01-01T00:00:00\", \"1970-01-01T00:00:00\", \"1970-01-01T00:00:00\", \"1970-01-01T00:00:00\", \"1970-01-01T00:00:00\", \"1970-01-01T00:00:00\", \"1970-01-01T00:00:00\", \"1970-01-01T00:00:00\", \"1970-01-01T00:00:00\", \"1970-01-01T00:00:00\", \"1970-01-01T00:00:00\", \"1970-01-01T00:00:00\", \"1970-01-01T00:00:00\", \"1970-01-01T00:00:00\", \"1970-01-01T00:00:00\", \"1970-01-01T00:00:00\", \"1970-01-01T00:00:00\", \"1970-01-01T00:00:00\", \"1970-01-01T00:00:00\", \"1970-01-01T00:00:00\", \"1970-01-01T00:00:00\", \"1970-01-01T00:00:00\", \"1970-01-01T00:00:00\", \"1970-01-01T00:00:00\", \"1970-01-01T00:00:00\", \"1970-01-01T00:00:00\", \"1970-01-01T00:00:00\", \"1970-01-01T00:00:00\", \"1970-01-01T00:00:00\", \"1970-01-01T00:00:00\", \"1970-01-01T00:00:00\", \"1970-01-01T00:00:00\", \"1970-01-01T00:00:00\", \"1970-01-01T00:00:00\", \"1970-01-01T00:00:00\", \"1970-01-01T00:00:00\", \"1970-01-01T00:00:00\", \"1970-01-01T00:00:00\", \"1970-01-01T00:00:00\", \"1970-01-01T00:00:00\", \"1970-01-01T00:00:00\", \"1970-01-01T00:00:00\", \"1970-01-01T00:00:00\", \"1970-01-01T00:00:00\", \"1970-01-01T00:00:00\", \"1970-01-01T00:00:00\", \"1970-01-01T00:00:00\", \"1970-01-01T00:00:00\", \"1970-01-01T00:00:00\", \"1970-01-01T00:00:00\", \"1970-01-01T00:00:00\", \"1970-01-01T00:00:00\", \"1970-01-01T00:00:00\", \"1970-01-01T00:00:00\", \"1970-01-01T00:00:00\", \"1970-01-01T00:00:00\", \"1970-01-01T00:00:00\", \"1970-01-01T00:00:00\", \"1970-01-01T00:00:00\", \"1970-01-01T00:00:00\", \"1970-01-01T00:00:00\", \"1970-01-01T00:00:00\", \"1970-01-01T00:00:00\", \"1970-01-01T00:00:00\", \"1970-01-01T00:00:00\", \"1970-01-01T00:00:00\", \"1970-01-01T00:00:00\", \"1970-01-01T00:00:00\", \"1970-01-01T00:00:00\", \"1970-01-01T00:00:00\"], \"xaxis\": \"x\", \"y\": [-1.3584988117218018, -1.3638954758644104, 1.3461576700210571, 1.3461576700210571, 0.03557952493429184, -1.4987849593162537, -1.4239038228988647, 0.27120379358530045, 1.4242247939109802, -0.052255853079259396, -1.1155351400375366, -1.4947170615196228, -1.4967417120933533, -1.4861286878585815, -1.1699542999267578, -1.4887521862983704, 1.3845785856246948, -1.0514061450958252, 1.0466192364692688, -1.4330191016197205, -1.4724942445755005, -1.4990059733390808, -1.3564692735671997, -0.04732032865285875, -1.4831101894378662, -1.382517158985138, -0.9442244172096252, -1.389236330986023, -1.3705164194107056, -0.0008412636816501583, -1.2549678087234497, -1.4874122142791748, -0.01021822914481163, -1.4502134919166565, -1.4902347326278687, -1.49246746301651, -1.1138149499893188, -1.3392068147659302, -1.245606780052185, -0.042585797607898726, -1.1168586015701294, 1.2366125583648682, 1.232754111289978, -0.23673763126134872, 1.0025845766067505, -0.06451679905876517, -1.4994325041770935, -1.2277562022209167, -1.497061312198639, 1.368165910243988, -1.413516879081726, -1.4955782294273376, -1.2855457067489624, -1.386469542980194, -1.435813069343567, -0.1414221823215485, -0.434554386883974, -1.4423192739486694, -1.4935338497161865, 0.05560144782066345, -0.07459027692675592, 0.09628693014383316, -1.4937759637832642, -1.4635162949562073, -1.1488687992095947, 1.325694501399994, -0.018372856080532077, -1.3294180631637573, -1.4405885338783264, -1.4988272786140442, -1.4692213535308838, -1.1757996678352356, -1.2439340949058533, -1.4666168093681335, 0.3088863492012024, -1.353023886680603, -1.4708333611488342, -1.4822140336036682, -1.2071483135223389, -1.4601668119430542, -1.4901069402694702, -1.3115956783294678, -0.30931245163083076, -1.3934794664382935, -1.4717780947685242, -1.4672401547431946, -1.3336432576179504, -1.495834231376648, -1.4214408993721008, -1.4872260689735413, -1.1600334644317627, -1.2040889859199524, -1.331419289112091, -0.05605441331863403, -1.4907165169715881, -1.4856913685798645, -0.4026195788756013, -1.0094648003578186, -1.4897488951683044, -1.4891778230667114, -1.4989307522773743, -0.9935397803783417, -0.015702236676588658, -1.0469048619270325, -1.4650974869728088, -1.4844489693641663, -1.3058145642280579, -1.065637469291687, -0.015296204015612602, -1.4980791807174683, -1.495346486568451, -1.4976140260696411, -0.9752251207828522, -1.490285575389862, -1.4733055233955383, -1.2837618589401245, -1.4795071482658386, -0.013365201652050022, 0.13697616755962375, 0.9750491678714752, 0.019620519131422043, -0.9953454732894897, -0.21442283689975739, -1.4804351329803467, -1.4496411085128784, -1.4800333380699158, -1.498285949230194, -1.498120367527008, -1.4975207448005676, -1.4897152781486511, -1.268121063709259, -1.4863579273223877, -1.496625304222107, -1.016398012638092, 0.2374052815139293, -1.4988458156585693, -0.27206782437860966, -1.440325915813446, -1.4943377375602722, -1.1612778902053833, -1.4102745652198792], \"yaxis\": \"y2\"}],\n",
       "                        {\"template\": {\"data\": {\"bar\": [{\"error_x\": {\"color\": \"#2a3f5f\"}, \"error_y\": {\"color\": \"#2a3f5f\"}, \"marker\": {\"line\": {\"color\": \"#E5ECF6\", \"width\": 0.5}}, \"type\": \"bar\"}], \"barpolar\": [{\"marker\": {\"line\": {\"color\": \"#E5ECF6\", \"width\": 0.5}}, \"type\": \"barpolar\"}], \"carpet\": [{\"aaxis\": {\"endlinecolor\": \"#2a3f5f\", \"gridcolor\": \"white\", \"linecolor\": \"white\", \"minorgridcolor\": \"white\", \"startlinecolor\": \"#2a3f5f\"}, \"baxis\": {\"endlinecolor\": \"#2a3f5f\", \"gridcolor\": \"white\", \"linecolor\": \"white\", \"minorgridcolor\": \"white\", \"startlinecolor\": \"#2a3f5f\"}, \"type\": \"carpet\"}], \"choropleth\": [{\"colorbar\": {\"outlinewidth\": 0, \"ticks\": \"\"}, \"type\": \"choropleth\"}], \"contour\": [{\"colorbar\": {\"outlinewidth\": 0, \"ticks\": \"\"}, \"colorscale\": [[0.0, \"#0d0887\"], [0.1111111111111111, \"#46039f\"], [0.2222222222222222, \"#7201a8\"], [0.3333333333333333, \"#9c179e\"], [0.4444444444444444, \"#bd3786\"], [0.5555555555555556, \"#d8576b\"], [0.6666666666666666, \"#ed7953\"], [0.7777777777777778, \"#fb9f3a\"], [0.8888888888888888, \"#fdca26\"], [1.0, \"#f0f921\"]], \"type\": \"contour\"}], \"contourcarpet\": [{\"colorbar\": {\"outlinewidth\": 0, \"ticks\": \"\"}, \"type\": \"contourcarpet\"}], \"heatmap\": [{\"colorbar\": {\"outlinewidth\": 0, \"ticks\": \"\"}, \"colorscale\": [[0.0, \"#0d0887\"], [0.1111111111111111, \"#46039f\"], [0.2222222222222222, \"#7201a8\"], [0.3333333333333333, \"#9c179e\"], [0.4444444444444444, \"#bd3786\"], [0.5555555555555556, \"#d8576b\"], [0.6666666666666666, \"#ed7953\"], [0.7777777777777778, \"#fb9f3a\"], [0.8888888888888888, \"#fdca26\"], [1.0, \"#f0f921\"]], \"type\": \"heatmap\"}], \"heatmapgl\": [{\"colorbar\": {\"outlinewidth\": 0, \"ticks\": \"\"}, \"colorscale\": [[0.0, \"#0d0887\"], [0.1111111111111111, \"#46039f\"], [0.2222222222222222, \"#7201a8\"], [0.3333333333333333, \"#9c179e\"], [0.4444444444444444, \"#bd3786\"], [0.5555555555555556, \"#d8576b\"], [0.6666666666666666, \"#ed7953\"], [0.7777777777777778, \"#fb9f3a\"], [0.8888888888888888, \"#fdca26\"], [1.0, \"#f0f921\"]], \"type\": \"heatmapgl\"}], \"histogram\": [{\"marker\": {\"colorbar\": {\"outlinewidth\": 0, \"ticks\": \"\"}}, \"type\": \"histogram\"}], \"histogram2d\": [{\"colorbar\": {\"outlinewidth\": 0, \"ticks\": \"\"}, \"colorscale\": [[0.0, \"#0d0887\"], [0.1111111111111111, \"#46039f\"], [0.2222222222222222, \"#7201a8\"], [0.3333333333333333, \"#9c179e\"], [0.4444444444444444, \"#bd3786\"], [0.5555555555555556, \"#d8576b\"], [0.6666666666666666, \"#ed7953\"], [0.7777777777777778, \"#fb9f3a\"], [0.8888888888888888, \"#fdca26\"], [1.0, \"#f0f921\"]], \"type\": \"histogram2d\"}], \"histogram2dcontour\": [{\"colorbar\": {\"outlinewidth\": 0, \"ticks\": \"\"}, \"colorscale\": [[0.0, \"#0d0887\"], [0.1111111111111111, \"#46039f\"], [0.2222222222222222, \"#7201a8\"], [0.3333333333333333, \"#9c179e\"], [0.4444444444444444, \"#bd3786\"], [0.5555555555555556, \"#d8576b\"], [0.6666666666666666, \"#ed7953\"], [0.7777777777777778, \"#fb9f3a\"], [0.8888888888888888, \"#fdca26\"], [1.0, \"#f0f921\"]], \"type\": \"histogram2dcontour\"}], \"mesh3d\": [{\"colorbar\": {\"outlinewidth\": 0, \"ticks\": \"\"}, \"type\": \"mesh3d\"}], \"parcoords\": [{\"line\": {\"colorbar\": {\"outlinewidth\": 0, \"ticks\": \"\"}}, \"type\": \"parcoords\"}], \"pie\": [{\"automargin\": true, \"type\": \"pie\"}], \"scatter\": [{\"marker\": {\"colorbar\": {\"outlinewidth\": 0, \"ticks\": \"\"}}, \"type\": \"scatter\"}], \"scatter3d\": [{\"line\": {\"colorbar\": {\"outlinewidth\": 0, \"ticks\": \"\"}}, \"marker\": {\"colorbar\": {\"outlinewidth\": 0, \"ticks\": \"\"}}, \"type\": \"scatter3d\"}], \"scattercarpet\": [{\"marker\": {\"colorbar\": {\"outlinewidth\": 0, \"ticks\": \"\"}}, \"type\": \"scattercarpet\"}], \"scattergeo\": [{\"marker\": {\"colorbar\": {\"outlinewidth\": 0, \"ticks\": \"\"}}, \"type\": \"scattergeo\"}], \"scattergl\": [{\"marker\": {\"colorbar\": {\"outlinewidth\": 0, \"ticks\": \"\"}}, \"type\": \"scattergl\"}], \"scattermapbox\": [{\"marker\": {\"colorbar\": {\"outlinewidth\": 0, \"ticks\": \"\"}}, \"type\": \"scattermapbox\"}], \"scatterpolar\": [{\"marker\": {\"colorbar\": {\"outlinewidth\": 0, \"ticks\": \"\"}}, \"type\": \"scatterpolar\"}], \"scatterpolargl\": [{\"marker\": {\"colorbar\": {\"outlinewidth\": 0, \"ticks\": \"\"}}, \"type\": \"scatterpolargl\"}], \"scatterternary\": [{\"marker\": {\"colorbar\": {\"outlinewidth\": 0, \"ticks\": \"\"}}, \"type\": \"scatterternary\"}], \"surface\": [{\"colorbar\": {\"outlinewidth\": 0, \"ticks\": \"\"}, \"colorscale\": [[0.0, \"#0d0887\"], [0.1111111111111111, \"#46039f\"], [0.2222222222222222, \"#7201a8\"], [0.3333333333333333, \"#9c179e\"], [0.4444444444444444, \"#bd3786\"], [0.5555555555555556, \"#d8576b\"], [0.6666666666666666, \"#ed7953\"], [0.7777777777777778, \"#fb9f3a\"], [0.8888888888888888, \"#fdca26\"], [1.0, \"#f0f921\"]], \"type\": \"surface\"}], \"table\": [{\"cells\": {\"fill\": {\"color\": \"#EBF0F8\"}, \"line\": {\"color\": \"white\"}}, \"header\": {\"fill\": {\"color\": \"#C8D4E3\"}, \"line\": {\"color\": \"white\"}}, \"type\": \"table\"}]}, \"layout\": {\"annotationdefaults\": {\"arrowcolor\": \"#2a3f5f\", \"arrowhead\": 0, \"arrowwidth\": 1}, \"coloraxis\": {\"colorbar\": {\"outlinewidth\": 0, \"ticks\": \"\"}}, \"colorscale\": {\"diverging\": [[0, \"#8e0152\"], [0.1, \"#c51b7d\"], [0.2, \"#de77ae\"], [0.3, \"#f1b6da\"], [0.4, \"#fde0ef\"], [0.5, \"#f7f7f7\"], [0.6, \"#e6f5d0\"], [0.7, \"#b8e186\"], [0.8, \"#7fbc41\"], [0.9, \"#4d9221\"], [1, \"#276419\"]], \"sequential\": [[0.0, \"#0d0887\"], [0.1111111111111111, \"#46039f\"], [0.2222222222222222, \"#7201a8\"], [0.3333333333333333, \"#9c179e\"], [0.4444444444444444, \"#bd3786\"], [0.5555555555555556, \"#d8576b\"], [0.6666666666666666, \"#ed7953\"], [0.7777777777777778, \"#fb9f3a\"], [0.8888888888888888, \"#fdca26\"], [1.0, \"#f0f921\"]], \"sequentialminus\": [[0.0, \"#0d0887\"], [0.1111111111111111, \"#46039f\"], [0.2222222222222222, \"#7201a8\"], [0.3333333333333333, \"#9c179e\"], [0.4444444444444444, \"#bd3786\"], [0.5555555555555556, \"#d8576b\"], [0.6666666666666666, \"#ed7953\"], [0.7777777777777778, \"#fb9f3a\"], [0.8888888888888888, \"#fdca26\"], [1.0, \"#f0f921\"]]}, \"colorway\": [\"#636efa\", \"#EF553B\", \"#00cc96\", \"#ab63fa\", \"#FFA15A\", \"#19d3f3\", \"#FF6692\", \"#B6E880\", \"#FF97FF\", \"#FECB52\"], \"font\": {\"color\": \"#2a3f5f\"}, \"geo\": {\"bgcolor\": \"white\", \"lakecolor\": \"white\", \"landcolor\": \"#E5ECF6\", \"showlakes\": true, \"showland\": true, \"subunitcolor\": \"white\"}, \"hoverlabel\": {\"align\": \"left\"}, \"hovermode\": \"closest\", \"mapbox\": {\"style\": \"light\"}, \"paper_bgcolor\": \"white\", \"plot_bgcolor\": \"#E5ECF6\", \"polar\": {\"angularaxis\": {\"gridcolor\": \"white\", \"linecolor\": \"white\", \"ticks\": \"\"}, \"bgcolor\": \"#E5ECF6\", \"radialaxis\": {\"gridcolor\": \"white\", \"linecolor\": \"white\", \"ticks\": \"\"}}, \"scene\": {\"xaxis\": {\"backgroundcolor\": \"#E5ECF6\", \"gridcolor\": \"white\", \"gridwidth\": 2, \"linecolor\": \"white\", \"showbackground\": true, \"ticks\": \"\", \"zerolinecolor\": \"white\"}, \"yaxis\": {\"backgroundcolor\": \"#E5ECF6\", \"gridcolor\": \"white\", \"gridwidth\": 2, \"linecolor\": \"white\", \"showbackground\": true, \"ticks\": \"\", \"zerolinecolor\": \"white\"}, \"zaxis\": {\"backgroundcolor\": \"#E5ECF6\", \"gridcolor\": \"white\", \"gridwidth\": 2, \"linecolor\": \"white\", \"showbackground\": true, \"ticks\": \"\", \"zerolinecolor\": \"white\"}}, \"shapedefaults\": {\"line\": {\"color\": \"#2a3f5f\"}}, \"ternary\": {\"aaxis\": {\"gridcolor\": \"white\", \"linecolor\": \"white\", \"ticks\": \"\"}, \"baxis\": {\"gridcolor\": \"white\", \"linecolor\": \"white\", \"ticks\": \"\"}, \"bgcolor\": \"#E5ECF6\", \"caxis\": {\"gridcolor\": \"white\", \"linecolor\": \"white\", \"ticks\": \"\"}}, \"title\": {\"x\": 0.05}, \"xaxis\": {\"automargin\": true, \"gridcolor\": \"white\", \"linecolor\": \"white\", \"ticks\": \"\", \"title\": {\"standoff\": 15}, \"zerolinecolor\": \"white\", \"zerolinewidth\": 2}, \"yaxis\": {\"automargin\": true, \"gridcolor\": \"white\", \"linecolor\": \"white\", \"ticks\": \"\", \"title\": {\"standoff\": 15}, \"zerolinecolor\": \"white\", \"zerolinewidth\": 2}}}, \"title\": {\"text\": \"Canadian News Sentiment - Mortgage Rate (test)\"}, \"xaxis\": {\"anchor\": \"y\", \"domain\": [0.0, 0.94], \"range\": [\"2019-01-01T00:00:00\", \"1970-01-01T00:00:00.000000096\"], \"rangeslider\": {\"visible\": true}, \"title\": {\"text\": \"Date\"}}, \"yaxis\": {\"anchor\": \"x\", \"autorange\": false, \"domain\": [0.0, 1.0], \"range\": [3.02, 3.94], \"title\": {\"text\": \"Interest Rate  <br> (total, funds advanced, <br> residential mortgages, insured)\"}}, \"yaxis2\": {\"anchor\": \"x\", \"overlaying\": \"y\", \"range\": [-2.4994325041770935, 2.4242247939109802], \"side\": \"right\", \"title\": {\"text\": \"Sentiment Score\"}}},\n",
       "                        {\"responsive\": true}\n",
       "                    ).then(function(){\n",
       "                            \n",
       "var gd = document.getElementById('77464dbc-8c9d-45d8-8bbe-e4a17248ccf6');\n",
       "var x = new MutationObserver(function (mutations, observer) {{\n",
       "        var display = window.getComputedStyle(gd).display;\n",
       "        if (!display || display === 'none') {{\n",
       "            console.log([gd, 'removed!']);\n",
       "            Plotly.purge(gd);\n",
       "            observer.disconnect();\n",
       "        }}\n",
       "}});\n",
       "\n",
       "// Listen for the removal of the full notebook cells\n",
       "var notebookContainer = gd.closest('#notebook-container');\n",
       "if (notebookContainer) {{\n",
       "    x.observe(notebookContainer, {childList: true});\n",
       "}}\n",
       "\n",
       "// Listen for the clearing of the current output cell\n",
       "var outputEl = gd.closest('.output');\n",
       "if (outputEl) {{\n",
       "    x.observe(outputEl, {childList: true});\n",
       "}}\n",
       "\n",
       "                        })\n",
       "                };\n",
       "                });\n",
       "            </script>\n",
       "        </div>"
      ]
     },
     "metadata": {},
     "output_type": "display_data"
    }
   ],
   "source": [
    "# #test function  \n",
    "# test_indicator_name = \"Interest Rate  <br> (total, funds advanced, <br> residential mortgages, insured)\"\n",
    "# test_title = \"Canadian News Sentiment - Mortgage Rate (test)\"\n",
    "\n",
    "# ###  show all mixed-source\n",
    "\n",
    "# test_fig = plot_combined_graph_scatter(test_mrg_df, mixedsource_senti_df, test_indicator_name, test_title)\n",
    "# test_fig.show()"
   ]
  },
  {
   "cell_type": "code",
   "execution_count": 137,
   "metadata": {},
   "outputs": [
    {
     "data": {
      "application/vnd.plotly.v1+json": {
       "config": {
        "plotlyServerURL": "https://plot.ly"
       },
       "data": [
        {
         "fill": "tonexty",
         "line": {
          "color": "blue"
         },
         "mode": "lines",
         "name": "Interest Rate  <br> (total, funds advanced, <br> residential mortgages, insured)",
         "type": "scatter",
         "x": [
          "2019-01-01",
          "2019-02-01",
          "2019-03-01",
          "2019-04-01",
          "2019-05-01",
          "2019-06-01",
          "2019-07-01",
          "2019-08-01",
          "2019-09-01",
          "2019-10-01",
          "2019-11-01",
          "2019-12-01",
          "2020-01-01",
          "2020-02-01"
         ],
         "xaxis": "x",
         "y": [
          3.84,
          3.82,
          3.76,
          3.59,
          3.45,
          3.33,
          3.22,
          3.16,
          3.12,
          3.12,
          3.13,
          3.23,
          3.24,
          3.19
         ],
         "yaxis": "y"
        },
        {
         "line": {
          "color": "orange"
         },
         "name": "test sentiment",
         "type": "scatter",
         "x": [
          "2019-01-01",
          "2019-02-01",
          "2019-03-01",
          "2019-04-01",
          "2019-05-01",
          "2019-06-01",
          "2019-07-01",
          "2019-08-01",
          "2019-09-01",
          "2019-10-01",
          "2019-11-01",
          "2019-12-01",
          "2020-01-01",
          "2020-02-01"
         ],
         "xaxis": "x",
         "y": [
          -1.4239038228988647,
          -0.052255853079259396,
          -1.4947170615196228,
          -1.4861286878585815,
          -1.4887521862983704,
          -1.0514061450958252,
          1.0466192364692688,
          -1.4724942445755005,
          -1.3564692735671997,
          -0.04732032865285875,
          -1.4831101894378662,
          -1.389236330986023,
          -1.3705164194107056,
          -0.01021822914481163,
          -1.4502134919166565,
          -1.4902347326278687,
          -1.49246746301651,
          -1.1138149499893188,
          -1.245606780052185,
          -0.042585797607898726,
          -1.1168586015701294,
          -0.23673763126134872,
          1.0025845766067505,
          -0.06451679905876517,
          -1.2277562022209167,
          -1.497061312198639,
          1.368165910243988,
          -1.413516879081726,
          -1.2855457067489624,
          -1.386469542980194,
          -1.435813069343567,
          -0.434554386883974,
          -1.4423192739486694,
          0.05560144782066345,
          -0.07459027692675592,
          0.09628693014383316,
          -1.4937759637832642,
          -1.4635162949562073,
          -0.018372856080532077,
          -1.4692213535308838,
          -1.1757996678352356,
          -1.2439340949058533,
          -1.4666168093681335,
          0.3088863492012024,
          -1.353023886680603,
          -1.4708333611488342,
          -1.4822140336036682,
          -1.2071483135223389,
          -1.4601668119430542,
          -1.3115956783294678,
          -0.30931245163083076,
          -1.4717780947685242,
          -1.4672401547431946,
          -1.495834231376648,
          -1.4872260689735413,
          -1.1600334644317627,
          -1.2040889859199524,
          -0.05605441331863403,
          -1.4856913685798645,
          -0.4026195788756013,
          -1.0094648003578186,
          -1.4897488951683044,
          -0.9935397803783417,
          -0.015702236676588658,
          -1.0469048619270325,
          -1.4844489693641663,
          -1.3058145642280579,
          -1.065637469291687,
          -0.015296204015612602,
          -1.4980791807174683,
          -1.495346486568451,
          -1.4976140260696411,
          -0.9752251207828522,
          -1.2837618589401245,
          -1.4795071482658386,
          -0.013365201652050022,
          0.13697616755962375,
          0.9750491678714752,
          0.019620519131422043,
          -0.9953454732894897,
          -0.21442283689975739,
          -1.4804351329803467,
          -1.4496411085128784,
          -1.4800333380699158,
          -1.498120367527008,
          -1.4897152781486511,
          -1.268121063709259,
          -1.4863579273223877,
          -1.496625304222107,
          -1.016398012638092,
          0.2374052815139293,
          -1.4988458156585693,
          -0.27206782437860966,
          -1.440325915813446,
          -1.4943377375602722,
          -1.1612778902053833,
          -1.4102745652198792
         ],
         "yaxis": "y2"
        }
       ],
       "layout": {
        "template": {
         "data": {
          "bar": [
           {
            "error_x": {
             "color": "#2a3f5f"
            },
            "error_y": {
             "color": "#2a3f5f"
            },
            "marker": {
             "line": {
              "color": "#E5ECF6",
              "width": 0.5
             }
            },
            "type": "bar"
           }
          ],
          "barpolar": [
           {
            "marker": {
             "line": {
              "color": "#E5ECF6",
              "width": 0.5
             }
            },
            "type": "barpolar"
           }
          ],
          "carpet": [
           {
            "aaxis": {
             "endlinecolor": "#2a3f5f",
             "gridcolor": "white",
             "linecolor": "white",
             "minorgridcolor": "white",
             "startlinecolor": "#2a3f5f"
            },
            "baxis": {
             "endlinecolor": "#2a3f5f",
             "gridcolor": "white",
             "linecolor": "white",
             "minorgridcolor": "white",
             "startlinecolor": "#2a3f5f"
            },
            "type": "carpet"
           }
          ],
          "choropleth": [
           {
            "colorbar": {
             "outlinewidth": 0,
             "ticks": ""
            },
            "type": "choropleth"
           }
          ],
          "contour": [
           {
            "colorbar": {
             "outlinewidth": 0,
             "ticks": ""
            },
            "colorscale": [
             [
              0,
              "#0d0887"
             ],
             [
              0.1111111111111111,
              "#46039f"
             ],
             [
              0.2222222222222222,
              "#7201a8"
             ],
             [
              0.3333333333333333,
              "#9c179e"
             ],
             [
              0.4444444444444444,
              "#bd3786"
             ],
             [
              0.5555555555555556,
              "#d8576b"
             ],
             [
              0.6666666666666666,
              "#ed7953"
             ],
             [
              0.7777777777777778,
              "#fb9f3a"
             ],
             [
              0.8888888888888888,
              "#fdca26"
             ],
             [
              1,
              "#f0f921"
             ]
            ],
            "type": "contour"
           }
          ],
          "contourcarpet": [
           {
            "colorbar": {
             "outlinewidth": 0,
             "ticks": ""
            },
            "type": "contourcarpet"
           }
          ],
          "heatmap": [
           {
            "colorbar": {
             "outlinewidth": 0,
             "ticks": ""
            },
            "colorscale": [
             [
              0,
              "#0d0887"
             ],
             [
              0.1111111111111111,
              "#46039f"
             ],
             [
              0.2222222222222222,
              "#7201a8"
             ],
             [
              0.3333333333333333,
              "#9c179e"
             ],
             [
              0.4444444444444444,
              "#bd3786"
             ],
             [
              0.5555555555555556,
              "#d8576b"
             ],
             [
              0.6666666666666666,
              "#ed7953"
             ],
             [
              0.7777777777777778,
              "#fb9f3a"
             ],
             [
              0.8888888888888888,
              "#fdca26"
             ],
             [
              1,
              "#f0f921"
             ]
            ],
            "type": "heatmap"
           }
          ],
          "heatmapgl": [
           {
            "colorbar": {
             "outlinewidth": 0,
             "ticks": ""
            },
            "colorscale": [
             [
              0,
              "#0d0887"
             ],
             [
              0.1111111111111111,
              "#46039f"
             ],
             [
              0.2222222222222222,
              "#7201a8"
             ],
             [
              0.3333333333333333,
              "#9c179e"
             ],
             [
              0.4444444444444444,
              "#bd3786"
             ],
             [
              0.5555555555555556,
              "#d8576b"
             ],
             [
              0.6666666666666666,
              "#ed7953"
             ],
             [
              0.7777777777777778,
              "#fb9f3a"
             ],
             [
              0.8888888888888888,
              "#fdca26"
             ],
             [
              1,
              "#f0f921"
             ]
            ],
            "type": "heatmapgl"
           }
          ],
          "histogram": [
           {
            "marker": {
             "colorbar": {
              "outlinewidth": 0,
              "ticks": ""
             }
            },
            "type": "histogram"
           }
          ],
          "histogram2d": [
           {
            "colorbar": {
             "outlinewidth": 0,
             "ticks": ""
            },
            "colorscale": [
             [
              0,
              "#0d0887"
             ],
             [
              0.1111111111111111,
              "#46039f"
             ],
             [
              0.2222222222222222,
              "#7201a8"
             ],
             [
              0.3333333333333333,
              "#9c179e"
             ],
             [
              0.4444444444444444,
              "#bd3786"
             ],
             [
              0.5555555555555556,
              "#d8576b"
             ],
             [
              0.6666666666666666,
              "#ed7953"
             ],
             [
              0.7777777777777778,
              "#fb9f3a"
             ],
             [
              0.8888888888888888,
              "#fdca26"
             ],
             [
              1,
              "#f0f921"
             ]
            ],
            "type": "histogram2d"
           }
          ],
          "histogram2dcontour": [
           {
            "colorbar": {
             "outlinewidth": 0,
             "ticks": ""
            },
            "colorscale": [
             [
              0,
              "#0d0887"
             ],
             [
              0.1111111111111111,
              "#46039f"
             ],
             [
              0.2222222222222222,
              "#7201a8"
             ],
             [
              0.3333333333333333,
              "#9c179e"
             ],
             [
              0.4444444444444444,
              "#bd3786"
             ],
             [
              0.5555555555555556,
              "#d8576b"
             ],
             [
              0.6666666666666666,
              "#ed7953"
             ],
             [
              0.7777777777777778,
              "#fb9f3a"
             ],
             [
              0.8888888888888888,
              "#fdca26"
             ],
             [
              1,
              "#f0f921"
             ]
            ],
            "type": "histogram2dcontour"
           }
          ],
          "mesh3d": [
           {
            "colorbar": {
             "outlinewidth": 0,
             "ticks": ""
            },
            "type": "mesh3d"
           }
          ],
          "parcoords": [
           {
            "line": {
             "colorbar": {
              "outlinewidth": 0,
              "ticks": ""
             }
            },
            "type": "parcoords"
           }
          ],
          "pie": [
           {
            "automargin": true,
            "type": "pie"
           }
          ],
          "scatter": [
           {
            "marker": {
             "colorbar": {
              "outlinewidth": 0,
              "ticks": ""
             }
            },
            "type": "scatter"
           }
          ],
          "scatter3d": [
           {
            "line": {
             "colorbar": {
              "outlinewidth": 0,
              "ticks": ""
             }
            },
            "marker": {
             "colorbar": {
              "outlinewidth": 0,
              "ticks": ""
             }
            },
            "type": "scatter3d"
           }
          ],
          "scattercarpet": [
           {
            "marker": {
             "colorbar": {
              "outlinewidth": 0,
              "ticks": ""
             }
            },
            "type": "scattercarpet"
           }
          ],
          "scattergeo": [
           {
            "marker": {
             "colorbar": {
              "outlinewidth": 0,
              "ticks": ""
             }
            },
            "type": "scattergeo"
           }
          ],
          "scattergl": [
           {
            "marker": {
             "colorbar": {
              "outlinewidth": 0,
              "ticks": ""
             }
            },
            "type": "scattergl"
           }
          ],
          "scattermapbox": [
           {
            "marker": {
             "colorbar": {
              "outlinewidth": 0,
              "ticks": ""
             }
            },
            "type": "scattermapbox"
           }
          ],
          "scatterpolar": [
           {
            "marker": {
             "colorbar": {
              "outlinewidth": 0,
              "ticks": ""
             }
            },
            "type": "scatterpolar"
           }
          ],
          "scatterpolargl": [
           {
            "marker": {
             "colorbar": {
              "outlinewidth": 0,
              "ticks": ""
             }
            },
            "type": "scatterpolargl"
           }
          ],
          "scatterternary": [
           {
            "marker": {
             "colorbar": {
              "outlinewidth": 0,
              "ticks": ""
             }
            },
            "type": "scatterternary"
           }
          ],
          "surface": [
           {
            "colorbar": {
             "outlinewidth": 0,
             "ticks": ""
            },
            "colorscale": [
             [
              0,
              "#0d0887"
             ],
             [
              0.1111111111111111,
              "#46039f"
             ],
             [
              0.2222222222222222,
              "#7201a8"
             ],
             [
              0.3333333333333333,
              "#9c179e"
             ],
             [
              0.4444444444444444,
              "#bd3786"
             ],
             [
              0.5555555555555556,
              "#d8576b"
             ],
             [
              0.6666666666666666,
              "#ed7953"
             ],
             [
              0.7777777777777778,
              "#fb9f3a"
             ],
             [
              0.8888888888888888,
              "#fdca26"
             ],
             [
              1,
              "#f0f921"
             ]
            ],
            "type": "surface"
           }
          ],
          "table": [
           {
            "cells": {
             "fill": {
              "color": "#EBF0F8"
             },
             "line": {
              "color": "white"
             }
            },
            "header": {
             "fill": {
              "color": "#C8D4E3"
             },
             "line": {
              "color": "white"
             }
            },
            "type": "table"
           }
          ]
         },
         "layout": {
          "annotationdefaults": {
           "arrowcolor": "#2a3f5f",
           "arrowhead": 0,
           "arrowwidth": 1
          },
          "coloraxis": {
           "colorbar": {
            "outlinewidth": 0,
            "ticks": ""
           }
          },
          "colorscale": {
           "diverging": [
            [
             0,
             "#8e0152"
            ],
            [
             0.1,
             "#c51b7d"
            ],
            [
             0.2,
             "#de77ae"
            ],
            [
             0.3,
             "#f1b6da"
            ],
            [
             0.4,
             "#fde0ef"
            ],
            [
             0.5,
             "#f7f7f7"
            ],
            [
             0.6,
             "#e6f5d0"
            ],
            [
             0.7,
             "#b8e186"
            ],
            [
             0.8,
             "#7fbc41"
            ],
            [
             0.9,
             "#4d9221"
            ],
            [
             1,
             "#276419"
            ]
           ],
           "sequential": [
            [
             0,
             "#0d0887"
            ],
            [
             0.1111111111111111,
             "#46039f"
            ],
            [
             0.2222222222222222,
             "#7201a8"
            ],
            [
             0.3333333333333333,
             "#9c179e"
            ],
            [
             0.4444444444444444,
             "#bd3786"
            ],
            [
             0.5555555555555556,
             "#d8576b"
            ],
            [
             0.6666666666666666,
             "#ed7953"
            ],
            [
             0.7777777777777778,
             "#fb9f3a"
            ],
            [
             0.8888888888888888,
             "#fdca26"
            ],
            [
             1,
             "#f0f921"
            ]
           ],
           "sequentialminus": [
            [
             0,
             "#0d0887"
            ],
            [
             0.1111111111111111,
             "#46039f"
            ],
            [
             0.2222222222222222,
             "#7201a8"
            ],
            [
             0.3333333333333333,
             "#9c179e"
            ],
            [
             0.4444444444444444,
             "#bd3786"
            ],
            [
             0.5555555555555556,
             "#d8576b"
            ],
            [
             0.6666666666666666,
             "#ed7953"
            ],
            [
             0.7777777777777778,
             "#fb9f3a"
            ],
            [
             0.8888888888888888,
             "#fdca26"
            ],
            [
             1,
             "#f0f921"
            ]
           ]
          },
          "colorway": [
           "#636efa",
           "#EF553B",
           "#00cc96",
           "#ab63fa",
           "#FFA15A",
           "#19d3f3",
           "#FF6692",
           "#B6E880",
           "#FF97FF",
           "#FECB52"
          ],
          "font": {
           "color": "#2a3f5f"
          },
          "geo": {
           "bgcolor": "white",
           "lakecolor": "white",
           "landcolor": "#E5ECF6",
           "showlakes": true,
           "showland": true,
           "subunitcolor": "white"
          },
          "hoverlabel": {
           "align": "left"
          },
          "hovermode": "closest",
          "mapbox": {
           "style": "light"
          },
          "paper_bgcolor": "white",
          "plot_bgcolor": "#E5ECF6",
          "polar": {
           "angularaxis": {
            "gridcolor": "white",
            "linecolor": "white",
            "ticks": ""
           },
           "bgcolor": "#E5ECF6",
           "radialaxis": {
            "gridcolor": "white",
            "linecolor": "white",
            "ticks": ""
           }
          },
          "scene": {
           "xaxis": {
            "backgroundcolor": "#E5ECF6",
            "gridcolor": "white",
            "gridwidth": 2,
            "linecolor": "white",
            "showbackground": true,
            "ticks": "",
            "zerolinecolor": "white"
           },
           "yaxis": {
            "backgroundcolor": "#E5ECF6",
            "gridcolor": "white",
            "gridwidth": 2,
            "linecolor": "white",
            "showbackground": true,
            "ticks": "",
            "zerolinecolor": "white"
           },
           "zaxis": {
            "backgroundcolor": "#E5ECF6",
            "gridcolor": "white",
            "gridwidth": 2,
            "linecolor": "white",
            "showbackground": true,
            "ticks": "",
            "zerolinecolor": "white"
           }
          },
          "shapedefaults": {
           "line": {
            "color": "#2a3f5f"
           }
          },
          "ternary": {
           "aaxis": {
            "gridcolor": "white",
            "linecolor": "white",
            "ticks": ""
           },
           "baxis": {
            "gridcolor": "white",
            "linecolor": "white",
            "ticks": ""
           },
           "bgcolor": "#E5ECF6",
           "caxis": {
            "gridcolor": "white",
            "linecolor": "white",
            "ticks": ""
           }
          },
          "title": {
           "x": 0.05
          },
          "xaxis": {
           "automargin": true,
           "gridcolor": "white",
           "linecolor": "white",
           "ticks": "",
           "title": {
            "standoff": 15
           },
           "zerolinecolor": "white",
           "zerolinewidth": 2
          },
          "yaxis": {
           "automargin": true,
           "gridcolor": "white",
           "linecolor": "white",
           "ticks": "",
           "title": {
            "standoff": 15
           },
           "zerolinecolor": "white",
           "zerolinewidth": 2
          }
         }
        },
        "title": {
         "text": "Canadian News Sentiment - Mortgage Rate (test)"
        },
        "xaxis": {
         "anchor": "y",
         "domain": [
          0,
          0.94
         ],
         "rangeslider": {
          "visible": true
         },
         "title": {
          "text": "Date"
         }
        },
        "yaxis": {
         "anchor": "x",
         "autorange": false,
         "domain": [
          0,
          1
         ],
         "range": [
          3.02,
          3.94
         ],
         "title": {
          "text": "Interest Rate  <br> (total, funds advanced, <br> residential mortgages, insured)"
         }
        },
        "yaxis2": {
         "anchor": "x",
         "overlaying": "y",
         "range": [
          -2.4988458156585693,
          2.368165910243988
         ],
         "side": "right",
         "title": {
          "text": "Sentiment Score"
         }
        }
       }
      },
      "text/html": [
       "<div>\n",
       "        \n",
       "        \n",
       "            <div id=\"4cf77689-42a5-4f5a-8d5a-b27b40b502d3\" class=\"plotly-graph-div\" style=\"height:525px; width:100%;\"></div>\n",
       "            <script type=\"text/javascript\">\n",
       "                require([\"plotly\"], function(Plotly) {\n",
       "                    window.PLOTLYENV=window.PLOTLYENV || {};\n",
       "                    \n",
       "                if (document.getElementById(\"4cf77689-42a5-4f5a-8d5a-b27b40b502d3\")) {\n",
       "                    Plotly.newPlot(\n",
       "                        '4cf77689-42a5-4f5a-8d5a-b27b40b502d3',\n",
       "                        [{\"fill\": \"tonexty\", \"line\": {\"color\": \"blue\"}, \"mode\": \"lines\", \"name\": \"Interest Rate  <br> (total, funds advanced, <br> residential mortgages, insured)\", \"type\": \"scatter\", \"x\": [\"2019-01-01\", \"2019-02-01\", \"2019-03-01\", \"2019-04-01\", \"2019-05-01\", \"2019-06-01\", \"2019-07-01\", \"2019-08-01\", \"2019-09-01\", \"2019-10-01\", \"2019-11-01\", \"2019-12-01\", \"2020-01-01\", \"2020-02-01\"], \"xaxis\": \"x\", \"y\": [3.84, 3.82, 3.76, 3.59, 3.45, 3.33, 3.22, 3.16, 3.12, 3.12, 3.13, 3.23, 3.24, 3.19], \"yaxis\": \"y\"}, {\"line\": {\"color\": \"orange\"}, \"name\": \"test sentiment\", \"type\": \"scatter\", \"x\": [\"2019-01-01\", \"2019-02-01\", \"2019-03-01\", \"2019-04-01\", \"2019-05-01\", \"2019-06-01\", \"2019-07-01\", \"2019-08-01\", \"2019-09-01\", \"2019-10-01\", \"2019-11-01\", \"2019-12-01\", \"2020-01-01\", \"2020-02-01\"], \"xaxis\": \"x\", \"y\": [-1.4239038228988647, -0.052255853079259396, -1.4947170615196228, -1.4861286878585815, -1.4887521862983704, -1.0514061450958252, 1.0466192364692688, -1.4724942445755005, -1.3564692735671997, -0.04732032865285875, -1.4831101894378662, -1.389236330986023, -1.3705164194107056, -0.01021822914481163, -1.4502134919166565, -1.4902347326278687, -1.49246746301651, -1.1138149499893188, -1.245606780052185, -0.042585797607898726, -1.1168586015701294, -0.23673763126134872, 1.0025845766067505, -0.06451679905876517, -1.2277562022209167, -1.497061312198639, 1.368165910243988, -1.413516879081726, -1.2855457067489624, -1.386469542980194, -1.435813069343567, -0.434554386883974, -1.4423192739486694, 0.05560144782066345, -0.07459027692675592, 0.09628693014383316, -1.4937759637832642, -1.4635162949562073, -0.018372856080532077, -1.4692213535308838, -1.1757996678352356, -1.2439340949058533, -1.4666168093681335, 0.3088863492012024, -1.353023886680603, -1.4708333611488342, -1.4822140336036682, -1.2071483135223389, -1.4601668119430542, -1.3115956783294678, -0.30931245163083076, -1.4717780947685242, -1.4672401547431946, -1.495834231376648, -1.4872260689735413, -1.1600334644317627, -1.2040889859199524, -0.05605441331863403, -1.4856913685798645, -0.4026195788756013, -1.0094648003578186, -1.4897488951683044, -0.9935397803783417, -0.015702236676588658, -1.0469048619270325, -1.4844489693641663, -1.3058145642280579, -1.065637469291687, -0.015296204015612602, -1.4980791807174683, -1.495346486568451, -1.4976140260696411, -0.9752251207828522, -1.2837618589401245, -1.4795071482658386, -0.013365201652050022, 0.13697616755962375, 0.9750491678714752, 0.019620519131422043, -0.9953454732894897, -0.21442283689975739, -1.4804351329803467, -1.4496411085128784, -1.4800333380699158, -1.498120367527008, -1.4897152781486511, -1.268121063709259, -1.4863579273223877, -1.496625304222107, -1.016398012638092, 0.2374052815139293, -1.4988458156585693, -0.27206782437860966, -1.440325915813446, -1.4943377375602722, -1.1612778902053833, -1.4102745652198792], \"yaxis\": \"y2\"}],\n",
       "                        {\"template\": {\"data\": {\"bar\": [{\"error_x\": {\"color\": \"#2a3f5f\"}, \"error_y\": {\"color\": \"#2a3f5f\"}, \"marker\": {\"line\": {\"color\": \"#E5ECF6\", \"width\": 0.5}}, \"type\": \"bar\"}], \"barpolar\": [{\"marker\": {\"line\": {\"color\": \"#E5ECF6\", \"width\": 0.5}}, \"type\": \"barpolar\"}], \"carpet\": [{\"aaxis\": {\"endlinecolor\": \"#2a3f5f\", \"gridcolor\": \"white\", \"linecolor\": \"white\", \"minorgridcolor\": \"white\", \"startlinecolor\": \"#2a3f5f\"}, \"baxis\": {\"endlinecolor\": \"#2a3f5f\", \"gridcolor\": \"white\", \"linecolor\": \"white\", \"minorgridcolor\": \"white\", \"startlinecolor\": \"#2a3f5f\"}, \"type\": \"carpet\"}], \"choropleth\": [{\"colorbar\": {\"outlinewidth\": 0, \"ticks\": \"\"}, \"type\": \"choropleth\"}], \"contour\": [{\"colorbar\": {\"outlinewidth\": 0, \"ticks\": \"\"}, \"colorscale\": [[0.0, \"#0d0887\"], [0.1111111111111111, \"#46039f\"], [0.2222222222222222, \"#7201a8\"], [0.3333333333333333, \"#9c179e\"], [0.4444444444444444, \"#bd3786\"], [0.5555555555555556, \"#d8576b\"], [0.6666666666666666, \"#ed7953\"], [0.7777777777777778, \"#fb9f3a\"], [0.8888888888888888, \"#fdca26\"], [1.0, \"#f0f921\"]], \"type\": \"contour\"}], \"contourcarpet\": [{\"colorbar\": {\"outlinewidth\": 0, \"ticks\": \"\"}, \"type\": \"contourcarpet\"}], \"heatmap\": [{\"colorbar\": {\"outlinewidth\": 0, \"ticks\": \"\"}, \"colorscale\": [[0.0, \"#0d0887\"], [0.1111111111111111, \"#46039f\"], [0.2222222222222222, \"#7201a8\"], [0.3333333333333333, \"#9c179e\"], [0.4444444444444444, \"#bd3786\"], [0.5555555555555556, \"#d8576b\"], [0.6666666666666666, \"#ed7953\"], [0.7777777777777778, \"#fb9f3a\"], [0.8888888888888888, \"#fdca26\"], [1.0, \"#f0f921\"]], \"type\": \"heatmap\"}], \"heatmapgl\": [{\"colorbar\": {\"outlinewidth\": 0, \"ticks\": \"\"}, \"colorscale\": [[0.0, \"#0d0887\"], [0.1111111111111111, \"#46039f\"], [0.2222222222222222, \"#7201a8\"], [0.3333333333333333, \"#9c179e\"], [0.4444444444444444, \"#bd3786\"], [0.5555555555555556, \"#d8576b\"], [0.6666666666666666, \"#ed7953\"], [0.7777777777777778, \"#fb9f3a\"], [0.8888888888888888, \"#fdca26\"], [1.0, \"#f0f921\"]], \"type\": \"heatmapgl\"}], \"histogram\": [{\"marker\": {\"colorbar\": {\"outlinewidth\": 0, \"ticks\": \"\"}}, \"type\": \"histogram\"}], \"histogram2d\": [{\"colorbar\": {\"outlinewidth\": 0, \"ticks\": \"\"}, \"colorscale\": [[0.0, \"#0d0887\"], [0.1111111111111111, \"#46039f\"], [0.2222222222222222, \"#7201a8\"], [0.3333333333333333, \"#9c179e\"], [0.4444444444444444, \"#bd3786\"], [0.5555555555555556, \"#d8576b\"], [0.6666666666666666, \"#ed7953\"], [0.7777777777777778, \"#fb9f3a\"], [0.8888888888888888, \"#fdca26\"], [1.0, \"#f0f921\"]], \"type\": \"histogram2d\"}], \"histogram2dcontour\": [{\"colorbar\": {\"outlinewidth\": 0, \"ticks\": \"\"}, \"colorscale\": [[0.0, \"#0d0887\"], [0.1111111111111111, \"#46039f\"], [0.2222222222222222, \"#7201a8\"], [0.3333333333333333, \"#9c179e\"], [0.4444444444444444, \"#bd3786\"], [0.5555555555555556, \"#d8576b\"], [0.6666666666666666, \"#ed7953\"], [0.7777777777777778, \"#fb9f3a\"], [0.8888888888888888, \"#fdca26\"], [1.0, \"#f0f921\"]], \"type\": \"histogram2dcontour\"}], \"mesh3d\": [{\"colorbar\": {\"outlinewidth\": 0, \"ticks\": \"\"}, \"type\": \"mesh3d\"}], \"parcoords\": [{\"line\": {\"colorbar\": {\"outlinewidth\": 0, \"ticks\": \"\"}}, \"type\": \"parcoords\"}], \"pie\": [{\"automargin\": true, \"type\": \"pie\"}], \"scatter\": [{\"marker\": {\"colorbar\": {\"outlinewidth\": 0, \"ticks\": \"\"}}, \"type\": \"scatter\"}], \"scatter3d\": [{\"line\": {\"colorbar\": {\"outlinewidth\": 0, \"ticks\": \"\"}}, \"marker\": {\"colorbar\": {\"outlinewidth\": 0, \"ticks\": \"\"}}, \"type\": \"scatter3d\"}], \"scattercarpet\": [{\"marker\": {\"colorbar\": {\"outlinewidth\": 0, \"ticks\": \"\"}}, \"type\": \"scattercarpet\"}], \"scattergeo\": [{\"marker\": {\"colorbar\": {\"outlinewidth\": 0, \"ticks\": \"\"}}, \"type\": \"scattergeo\"}], \"scattergl\": [{\"marker\": {\"colorbar\": {\"outlinewidth\": 0, \"ticks\": \"\"}}, \"type\": \"scattergl\"}], \"scattermapbox\": [{\"marker\": {\"colorbar\": {\"outlinewidth\": 0, \"ticks\": \"\"}}, \"type\": \"scattermapbox\"}], \"scatterpolar\": [{\"marker\": {\"colorbar\": {\"outlinewidth\": 0, \"ticks\": \"\"}}, \"type\": \"scatterpolar\"}], \"scatterpolargl\": [{\"marker\": {\"colorbar\": {\"outlinewidth\": 0, \"ticks\": \"\"}}, \"type\": \"scatterpolargl\"}], \"scatterternary\": [{\"marker\": {\"colorbar\": {\"outlinewidth\": 0, \"ticks\": \"\"}}, \"type\": \"scatterternary\"}], \"surface\": [{\"colorbar\": {\"outlinewidth\": 0, \"ticks\": \"\"}, \"colorscale\": [[0.0, \"#0d0887\"], [0.1111111111111111, \"#46039f\"], [0.2222222222222222, \"#7201a8\"], [0.3333333333333333, \"#9c179e\"], [0.4444444444444444, \"#bd3786\"], [0.5555555555555556, \"#d8576b\"], [0.6666666666666666, \"#ed7953\"], [0.7777777777777778, \"#fb9f3a\"], [0.8888888888888888, \"#fdca26\"], [1.0, \"#f0f921\"]], \"type\": \"surface\"}], \"table\": [{\"cells\": {\"fill\": {\"color\": \"#EBF0F8\"}, \"line\": {\"color\": \"white\"}}, \"header\": {\"fill\": {\"color\": \"#C8D4E3\"}, \"line\": {\"color\": \"white\"}}, \"type\": \"table\"}]}, \"layout\": {\"annotationdefaults\": {\"arrowcolor\": \"#2a3f5f\", \"arrowhead\": 0, \"arrowwidth\": 1}, \"coloraxis\": {\"colorbar\": {\"outlinewidth\": 0, \"ticks\": \"\"}}, \"colorscale\": {\"diverging\": [[0, \"#8e0152\"], [0.1, \"#c51b7d\"], [0.2, \"#de77ae\"], [0.3, \"#f1b6da\"], [0.4, \"#fde0ef\"], [0.5, \"#f7f7f7\"], [0.6, \"#e6f5d0\"], [0.7, \"#b8e186\"], [0.8, \"#7fbc41\"], [0.9, \"#4d9221\"], [1, \"#276419\"]], \"sequential\": [[0.0, \"#0d0887\"], [0.1111111111111111, \"#46039f\"], [0.2222222222222222, \"#7201a8\"], [0.3333333333333333, \"#9c179e\"], [0.4444444444444444, \"#bd3786\"], [0.5555555555555556, \"#d8576b\"], [0.6666666666666666, \"#ed7953\"], [0.7777777777777778, \"#fb9f3a\"], [0.8888888888888888, \"#fdca26\"], [1.0, \"#f0f921\"]], \"sequentialminus\": [[0.0, \"#0d0887\"], [0.1111111111111111, \"#46039f\"], [0.2222222222222222, \"#7201a8\"], [0.3333333333333333, \"#9c179e\"], [0.4444444444444444, \"#bd3786\"], [0.5555555555555556, \"#d8576b\"], [0.6666666666666666, \"#ed7953\"], [0.7777777777777778, \"#fb9f3a\"], [0.8888888888888888, \"#fdca26\"], [1.0, \"#f0f921\"]]}, \"colorway\": [\"#636efa\", \"#EF553B\", \"#00cc96\", \"#ab63fa\", \"#FFA15A\", \"#19d3f3\", \"#FF6692\", \"#B6E880\", \"#FF97FF\", \"#FECB52\"], \"font\": {\"color\": \"#2a3f5f\"}, \"geo\": {\"bgcolor\": \"white\", \"lakecolor\": \"white\", \"landcolor\": \"#E5ECF6\", \"showlakes\": true, \"showland\": true, \"subunitcolor\": \"white\"}, \"hoverlabel\": {\"align\": \"left\"}, \"hovermode\": \"closest\", \"mapbox\": {\"style\": \"light\"}, \"paper_bgcolor\": \"white\", \"plot_bgcolor\": \"#E5ECF6\", \"polar\": {\"angularaxis\": {\"gridcolor\": \"white\", \"linecolor\": \"white\", \"ticks\": \"\"}, \"bgcolor\": \"#E5ECF6\", \"radialaxis\": {\"gridcolor\": \"white\", \"linecolor\": \"white\", \"ticks\": \"\"}}, \"scene\": {\"xaxis\": {\"backgroundcolor\": \"#E5ECF6\", \"gridcolor\": \"white\", \"gridwidth\": 2, \"linecolor\": \"white\", \"showbackground\": true, \"ticks\": \"\", \"zerolinecolor\": \"white\"}, \"yaxis\": {\"backgroundcolor\": \"#E5ECF6\", \"gridcolor\": \"white\", \"gridwidth\": 2, \"linecolor\": \"white\", \"showbackground\": true, \"ticks\": \"\", \"zerolinecolor\": \"white\"}, \"zaxis\": {\"backgroundcolor\": \"#E5ECF6\", \"gridcolor\": \"white\", \"gridwidth\": 2, \"linecolor\": \"white\", \"showbackground\": true, \"ticks\": \"\", \"zerolinecolor\": \"white\"}}, \"shapedefaults\": {\"line\": {\"color\": \"#2a3f5f\"}}, \"ternary\": {\"aaxis\": {\"gridcolor\": \"white\", \"linecolor\": \"white\", \"ticks\": \"\"}, \"baxis\": {\"gridcolor\": \"white\", \"linecolor\": \"white\", \"ticks\": \"\"}, \"bgcolor\": \"#E5ECF6\", \"caxis\": {\"gridcolor\": \"white\", \"linecolor\": \"white\", \"ticks\": \"\"}}, \"title\": {\"x\": 0.05}, \"xaxis\": {\"automargin\": true, \"gridcolor\": \"white\", \"linecolor\": \"white\", \"ticks\": \"\", \"title\": {\"standoff\": 15}, \"zerolinecolor\": \"white\", \"zerolinewidth\": 2}, \"yaxis\": {\"automargin\": true, \"gridcolor\": \"white\", \"linecolor\": \"white\", \"ticks\": \"\", \"title\": {\"standoff\": 15}, \"zerolinecolor\": \"white\", \"zerolinewidth\": 2}}}, \"title\": {\"text\": \"Canadian News Sentiment - Mortgage Rate (test)\"}, \"xaxis\": {\"anchor\": \"y\", \"domain\": [0.0, 0.94], \"rangeslider\": {\"visible\": true}, \"title\": {\"text\": \"Date\"}}, \"yaxis\": {\"anchor\": \"x\", \"autorange\": false, \"domain\": [0.0, 1.0], \"range\": [3.02, 3.94], \"title\": {\"text\": \"Interest Rate  <br> (total, funds advanced, <br> residential mortgages, insured)\"}}, \"yaxis2\": {\"anchor\": \"x\", \"overlaying\": \"y\", \"range\": [-2.4988458156585693, 2.368165910243988], \"side\": \"right\", \"title\": {\"text\": \"Sentiment Score\"}}},\n",
       "                        {\"responsive\": true}\n",
       "                    ).then(function(){\n",
       "                            \n",
       "var gd = document.getElementById('4cf77689-42a5-4f5a-8d5a-b27b40b502d3');\n",
       "var x = new MutationObserver(function (mutations, observer) {{\n",
       "        var display = window.getComputedStyle(gd).display;\n",
       "        if (!display || display === 'none') {{\n",
       "            console.log([gd, 'removed!']);\n",
       "            Plotly.purge(gd);\n",
       "            observer.disconnect();\n",
       "        }}\n",
       "}});\n",
       "\n",
       "// Listen for the removal of the full notebook cells\n",
       "var notebookContainer = gd.closest('#notebook-container');\n",
       "if (notebookContainer) {{\n",
       "    x.observe(notebookContainer, {childList: true});\n",
       "}}\n",
       "\n",
       "// Listen for the clearing of the current output cell\n",
       "var outputEl = gd.closest('.output');\n",
       "if (outputEl) {{\n",
       "    x.observe(outputEl, {childList: true});\n",
       "}}\n",
       "\n",
       "                        })\n",
       "                };\n",
       "                });\n",
       "            </script>\n",
       "        </div>"
      ]
     },
     "metadata": {},
     "output_type": "display_data"
    }
   ],
   "source": [
    "source_name = \"CBC\"\n",
    "\n",
    "test_fig = plot_combined_graph(test_mrg_df, mixedsource_senti_df.query('source==@source_name '), test_indicator_name, test_title)\n",
    "test_fig.show()"
   ]
  },
  {
   "cell_type": "code",
   "execution_count": 9,
   "metadata": {},
   "outputs": [
    {
     "data": {
      "application/vnd.plotly.v1+json": {
       "config": {
        "plotlyServerURL": "https://plot.ly"
       },
       "data": [
        {
         "fill": "tonexty",
         "line": {
          "color": "blue"
         },
         "mode": "lines",
         "name": "Interest Rate  <br> (total, funds advanced, <br> residential mortgages, insured)",
         "type": "scatter",
         "x": [
          "2019-01-01",
          "2019-02-01",
          "2019-03-01",
          "2019-04-01",
          "2019-05-01",
          "2019-06-01",
          "2019-07-01",
          "2019-08-01",
          "2019-09-01",
          "2019-10-01",
          "2019-11-01",
          "2019-12-01",
          "2020-01-01",
          "2020-02-01"
         ],
         "xaxis": "x",
         "y": [
          3.84,
          3.82,
          3.76,
          3.59,
          3.45,
          3.33,
          3.22,
          3.16,
          3.12,
          3.12,
          3.13,
          3.23,
          3.24,
          3.19
         ],
         "yaxis": "y"
        },
        {
         "line": {
          "color": "orange"
         },
         "name": "test sentiment",
         "type": "scatter",
         "x": [
          "2019-01-01",
          "2019-02-01",
          "2019-03-01",
          "2019-04-01",
          "2019-05-01",
          "2019-06-01",
          "2019-07-01",
          "2019-08-01",
          "2019-09-01",
          "2019-10-01",
          "2019-11-01",
          "2019-12-01",
          "2020-01-01",
          "2020-02-01"
         ],
         "xaxis": "x",
         "y": [
          -1.3584988117218018,
          -1.3638954758644104,
          1.3461576700210571,
          1.3461576700210571,
          0.03557952493429184,
          -1.4987849593162537,
          0.27120379358530045,
          1.4242247939109802,
          -1.1155351400375366,
          -1.4967417120933533,
          -1.1699542999267578,
          1.3845785856246948,
          -1.4330191016197205,
          -1.4990059733390808,
          -1.382517158985138,
          -0.9442244172096252,
          -0.0008412636816501583,
          -1.2549678087234497,
          -1.4874122142791748,
          -1.3392068147659302,
          1.2366125583648682,
          1.232754111289978,
          -1.4994325041770935,
          -1.4955782294273376,
          -0.1414221823215485,
          -1.4935338497161865,
          -1.1488687992095947,
          1.325694501399994,
          -1.3294180631637573,
          -1.4405885338783264,
          -1.4988272786140442,
          -1.4901069402694702,
          -1.3934794664382935,
          -1.3336432576179504,
          -1.4214408993721008,
          -1.331419289112091,
          -1.4907165169715881,
          -1.4891778230667114,
          -1.4989307522773743,
          -1.4650974869728088,
          -1.490285575389862,
          -1.4733055233955383,
          -1.498285949230194,
          -1.4975207448005676
         ],
         "yaxis": "y2"
        }
       ],
       "layout": {
        "template": {
         "data": {
          "bar": [
           {
            "error_x": {
             "color": "#2a3f5f"
            },
            "error_y": {
             "color": "#2a3f5f"
            },
            "marker": {
             "line": {
              "color": "#E5ECF6",
              "width": 0.5
             }
            },
            "type": "bar"
           }
          ],
          "barpolar": [
           {
            "marker": {
             "line": {
              "color": "#E5ECF6",
              "width": 0.5
             }
            },
            "type": "barpolar"
           }
          ],
          "carpet": [
           {
            "aaxis": {
             "endlinecolor": "#2a3f5f",
             "gridcolor": "white",
             "linecolor": "white",
             "minorgridcolor": "white",
             "startlinecolor": "#2a3f5f"
            },
            "baxis": {
             "endlinecolor": "#2a3f5f",
             "gridcolor": "white",
             "linecolor": "white",
             "minorgridcolor": "white",
             "startlinecolor": "#2a3f5f"
            },
            "type": "carpet"
           }
          ],
          "choropleth": [
           {
            "colorbar": {
             "outlinewidth": 0,
             "ticks": ""
            },
            "type": "choropleth"
           }
          ],
          "contour": [
           {
            "colorbar": {
             "outlinewidth": 0,
             "ticks": ""
            },
            "colorscale": [
             [
              0,
              "#0d0887"
             ],
             [
              0.1111111111111111,
              "#46039f"
             ],
             [
              0.2222222222222222,
              "#7201a8"
             ],
             [
              0.3333333333333333,
              "#9c179e"
             ],
             [
              0.4444444444444444,
              "#bd3786"
             ],
             [
              0.5555555555555556,
              "#d8576b"
             ],
             [
              0.6666666666666666,
              "#ed7953"
             ],
             [
              0.7777777777777778,
              "#fb9f3a"
             ],
             [
              0.8888888888888888,
              "#fdca26"
             ],
             [
              1,
              "#f0f921"
             ]
            ],
            "type": "contour"
           }
          ],
          "contourcarpet": [
           {
            "colorbar": {
             "outlinewidth": 0,
             "ticks": ""
            },
            "type": "contourcarpet"
           }
          ],
          "heatmap": [
           {
            "colorbar": {
             "outlinewidth": 0,
             "ticks": ""
            },
            "colorscale": [
             [
              0,
              "#0d0887"
             ],
             [
              0.1111111111111111,
              "#46039f"
             ],
             [
              0.2222222222222222,
              "#7201a8"
             ],
             [
              0.3333333333333333,
              "#9c179e"
             ],
             [
              0.4444444444444444,
              "#bd3786"
             ],
             [
              0.5555555555555556,
              "#d8576b"
             ],
             [
              0.6666666666666666,
              "#ed7953"
             ],
             [
              0.7777777777777778,
              "#fb9f3a"
             ],
             [
              0.8888888888888888,
              "#fdca26"
             ],
             [
              1,
              "#f0f921"
             ]
            ],
            "type": "heatmap"
           }
          ],
          "heatmapgl": [
           {
            "colorbar": {
             "outlinewidth": 0,
             "ticks": ""
            },
            "colorscale": [
             [
              0,
              "#0d0887"
             ],
             [
              0.1111111111111111,
              "#46039f"
             ],
             [
              0.2222222222222222,
              "#7201a8"
             ],
             [
              0.3333333333333333,
              "#9c179e"
             ],
             [
              0.4444444444444444,
              "#bd3786"
             ],
             [
              0.5555555555555556,
              "#d8576b"
             ],
             [
              0.6666666666666666,
              "#ed7953"
             ],
             [
              0.7777777777777778,
              "#fb9f3a"
             ],
             [
              0.8888888888888888,
              "#fdca26"
             ],
             [
              1,
              "#f0f921"
             ]
            ],
            "type": "heatmapgl"
           }
          ],
          "histogram": [
           {
            "marker": {
             "colorbar": {
              "outlinewidth": 0,
              "ticks": ""
             }
            },
            "type": "histogram"
           }
          ],
          "histogram2d": [
           {
            "colorbar": {
             "outlinewidth": 0,
             "ticks": ""
            },
            "colorscale": [
             [
              0,
              "#0d0887"
             ],
             [
              0.1111111111111111,
              "#46039f"
             ],
             [
              0.2222222222222222,
              "#7201a8"
             ],
             [
              0.3333333333333333,
              "#9c179e"
             ],
             [
              0.4444444444444444,
              "#bd3786"
             ],
             [
              0.5555555555555556,
              "#d8576b"
             ],
             [
              0.6666666666666666,
              "#ed7953"
             ],
             [
              0.7777777777777778,
              "#fb9f3a"
             ],
             [
              0.8888888888888888,
              "#fdca26"
             ],
             [
              1,
              "#f0f921"
             ]
            ],
            "type": "histogram2d"
           }
          ],
          "histogram2dcontour": [
           {
            "colorbar": {
             "outlinewidth": 0,
             "ticks": ""
            },
            "colorscale": [
             [
              0,
              "#0d0887"
             ],
             [
              0.1111111111111111,
              "#46039f"
             ],
             [
              0.2222222222222222,
              "#7201a8"
             ],
             [
              0.3333333333333333,
              "#9c179e"
             ],
             [
              0.4444444444444444,
              "#bd3786"
             ],
             [
              0.5555555555555556,
              "#d8576b"
             ],
             [
              0.6666666666666666,
              "#ed7953"
             ],
             [
              0.7777777777777778,
              "#fb9f3a"
             ],
             [
              0.8888888888888888,
              "#fdca26"
             ],
             [
              1,
              "#f0f921"
             ]
            ],
            "type": "histogram2dcontour"
           }
          ],
          "mesh3d": [
           {
            "colorbar": {
             "outlinewidth": 0,
             "ticks": ""
            },
            "type": "mesh3d"
           }
          ],
          "parcoords": [
           {
            "line": {
             "colorbar": {
              "outlinewidth": 0,
              "ticks": ""
             }
            },
            "type": "parcoords"
           }
          ],
          "pie": [
           {
            "automargin": true,
            "type": "pie"
           }
          ],
          "scatter": [
           {
            "marker": {
             "colorbar": {
              "outlinewidth": 0,
              "ticks": ""
             }
            },
            "type": "scatter"
           }
          ],
          "scatter3d": [
           {
            "line": {
             "colorbar": {
              "outlinewidth": 0,
              "ticks": ""
             }
            },
            "marker": {
             "colorbar": {
              "outlinewidth": 0,
              "ticks": ""
             }
            },
            "type": "scatter3d"
           }
          ],
          "scattercarpet": [
           {
            "marker": {
             "colorbar": {
              "outlinewidth": 0,
              "ticks": ""
             }
            },
            "type": "scattercarpet"
           }
          ],
          "scattergeo": [
           {
            "marker": {
             "colorbar": {
              "outlinewidth": 0,
              "ticks": ""
             }
            },
            "type": "scattergeo"
           }
          ],
          "scattergl": [
           {
            "marker": {
             "colorbar": {
              "outlinewidth": 0,
              "ticks": ""
             }
            },
            "type": "scattergl"
           }
          ],
          "scattermapbox": [
           {
            "marker": {
             "colorbar": {
              "outlinewidth": 0,
              "ticks": ""
             }
            },
            "type": "scattermapbox"
           }
          ],
          "scatterpolar": [
           {
            "marker": {
             "colorbar": {
              "outlinewidth": 0,
              "ticks": ""
             }
            },
            "type": "scatterpolar"
           }
          ],
          "scatterpolargl": [
           {
            "marker": {
             "colorbar": {
              "outlinewidth": 0,
              "ticks": ""
             }
            },
            "type": "scatterpolargl"
           }
          ],
          "scatterternary": [
           {
            "marker": {
             "colorbar": {
              "outlinewidth": 0,
              "ticks": ""
             }
            },
            "type": "scatterternary"
           }
          ],
          "surface": [
           {
            "colorbar": {
             "outlinewidth": 0,
             "ticks": ""
            },
            "colorscale": [
             [
              0,
              "#0d0887"
             ],
             [
              0.1111111111111111,
              "#46039f"
             ],
             [
              0.2222222222222222,
              "#7201a8"
             ],
             [
              0.3333333333333333,
              "#9c179e"
             ],
             [
              0.4444444444444444,
              "#bd3786"
             ],
             [
              0.5555555555555556,
              "#d8576b"
             ],
             [
              0.6666666666666666,
              "#ed7953"
             ],
             [
              0.7777777777777778,
              "#fb9f3a"
             ],
             [
              0.8888888888888888,
              "#fdca26"
             ],
             [
              1,
              "#f0f921"
             ]
            ],
            "type": "surface"
           }
          ],
          "table": [
           {
            "cells": {
             "fill": {
              "color": "#EBF0F8"
             },
             "line": {
              "color": "white"
             }
            },
            "header": {
             "fill": {
              "color": "#C8D4E3"
             },
             "line": {
              "color": "white"
             }
            },
            "type": "table"
           }
          ]
         },
         "layout": {
          "annotationdefaults": {
           "arrowcolor": "#2a3f5f",
           "arrowhead": 0,
           "arrowwidth": 1
          },
          "coloraxis": {
           "colorbar": {
            "outlinewidth": 0,
            "ticks": ""
           }
          },
          "colorscale": {
           "diverging": [
            [
             0,
             "#8e0152"
            ],
            [
             0.1,
             "#c51b7d"
            ],
            [
             0.2,
             "#de77ae"
            ],
            [
             0.3,
             "#f1b6da"
            ],
            [
             0.4,
             "#fde0ef"
            ],
            [
             0.5,
             "#f7f7f7"
            ],
            [
             0.6,
             "#e6f5d0"
            ],
            [
             0.7,
             "#b8e186"
            ],
            [
             0.8,
             "#7fbc41"
            ],
            [
             0.9,
             "#4d9221"
            ],
            [
             1,
             "#276419"
            ]
           ],
           "sequential": [
            [
             0,
             "#0d0887"
            ],
            [
             0.1111111111111111,
             "#46039f"
            ],
            [
             0.2222222222222222,
             "#7201a8"
            ],
            [
             0.3333333333333333,
             "#9c179e"
            ],
            [
             0.4444444444444444,
             "#bd3786"
            ],
            [
             0.5555555555555556,
             "#d8576b"
            ],
            [
             0.6666666666666666,
             "#ed7953"
            ],
            [
             0.7777777777777778,
             "#fb9f3a"
            ],
            [
             0.8888888888888888,
             "#fdca26"
            ],
            [
             1,
             "#f0f921"
            ]
           ],
           "sequentialminus": [
            [
             0,
             "#0d0887"
            ],
            [
             0.1111111111111111,
             "#46039f"
            ],
            [
             0.2222222222222222,
             "#7201a8"
            ],
            [
             0.3333333333333333,
             "#9c179e"
            ],
            [
             0.4444444444444444,
             "#bd3786"
            ],
            [
             0.5555555555555556,
             "#d8576b"
            ],
            [
             0.6666666666666666,
             "#ed7953"
            ],
            [
             0.7777777777777778,
             "#fb9f3a"
            ],
            [
             0.8888888888888888,
             "#fdca26"
            ],
            [
             1,
             "#f0f921"
            ]
           ]
          },
          "colorway": [
           "#636efa",
           "#EF553B",
           "#00cc96",
           "#ab63fa",
           "#FFA15A",
           "#19d3f3",
           "#FF6692",
           "#B6E880",
           "#FF97FF",
           "#FECB52"
          ],
          "font": {
           "color": "#2a3f5f"
          },
          "geo": {
           "bgcolor": "white",
           "lakecolor": "white",
           "landcolor": "#E5ECF6",
           "showlakes": true,
           "showland": true,
           "subunitcolor": "white"
          },
          "hoverlabel": {
           "align": "left"
          },
          "hovermode": "closest",
          "mapbox": {
           "style": "light"
          },
          "paper_bgcolor": "white",
          "plot_bgcolor": "#E5ECF6",
          "polar": {
           "angularaxis": {
            "gridcolor": "white",
            "linecolor": "white",
            "ticks": ""
           },
           "bgcolor": "#E5ECF6",
           "radialaxis": {
            "gridcolor": "white",
            "linecolor": "white",
            "ticks": ""
           }
          },
          "scene": {
           "xaxis": {
            "backgroundcolor": "#E5ECF6",
            "gridcolor": "white",
            "gridwidth": 2,
            "linecolor": "white",
            "showbackground": true,
            "ticks": "",
            "zerolinecolor": "white"
           },
           "yaxis": {
            "backgroundcolor": "#E5ECF6",
            "gridcolor": "white",
            "gridwidth": 2,
            "linecolor": "white",
            "showbackground": true,
            "ticks": "",
            "zerolinecolor": "white"
           },
           "zaxis": {
            "backgroundcolor": "#E5ECF6",
            "gridcolor": "white",
            "gridwidth": 2,
            "linecolor": "white",
            "showbackground": true,
            "ticks": "",
            "zerolinecolor": "white"
           }
          },
          "shapedefaults": {
           "line": {
            "color": "#2a3f5f"
           }
          },
          "ternary": {
           "aaxis": {
            "gridcolor": "white",
            "linecolor": "white",
            "ticks": ""
           },
           "baxis": {
            "gridcolor": "white",
            "linecolor": "white",
            "ticks": ""
           },
           "bgcolor": "#E5ECF6",
           "caxis": {
            "gridcolor": "white",
            "linecolor": "white",
            "ticks": ""
           }
          },
          "title": {
           "x": 0.05
          },
          "xaxis": {
           "automargin": true,
           "gridcolor": "white",
           "linecolor": "white",
           "ticks": "",
           "title": {
            "standoff": 15
           },
           "zerolinecolor": "white",
           "zerolinewidth": 2
          },
          "yaxis": {
           "automargin": true,
           "gridcolor": "white",
           "linecolor": "white",
           "ticks": "",
           "title": {
            "standoff": 15
           },
           "zerolinecolor": "white",
           "zerolinewidth": 2
          }
         }
        },
        "title": {
         "text": "Canadian News Sentiment - Mortgage Rate (test)"
        },
        "xaxis": {
         "anchor": "y",
         "domain": [
          0,
          0.94
         ],
         "rangeslider": {
          "visible": true
         },
         "title": {
          "text": "Date"
         }
        },
        "yaxis": {
         "anchor": "x",
         "autorange": false,
         "domain": [
          0,
          1
         ],
         "range": [
          3.02,
          3.94
         ],
         "title": {
          "text": "Interest Rate  <br> (total, funds advanced, <br> residential mortgages, insured)"
         }
        },
        "yaxis2": {
         "anchor": "x",
         "overlaying": "y",
         "range": [
          -2.4994325041770935,
          2.4242247939109802
         ],
         "side": "right",
         "title": {
          "text": "Sentiment Score"
         }
        }
       }
      },
      "text/html": [
       "<div>\n",
       "        \n",
       "        \n",
       "            <div id=\"ec73c2a0-e5c5-4c30-8caf-1a050175d316\" class=\"plotly-graph-div\" style=\"height:525px; width:100%;\"></div>\n",
       "            <script type=\"text/javascript\">\n",
       "                require([\"plotly\"], function(Plotly) {\n",
       "                    window.PLOTLYENV=window.PLOTLYENV || {};\n",
       "                    \n",
       "                if (document.getElementById(\"ec73c2a0-e5c5-4c30-8caf-1a050175d316\")) {\n",
       "                    Plotly.newPlot(\n",
       "                        'ec73c2a0-e5c5-4c30-8caf-1a050175d316',\n",
       "                        [{\"fill\": \"tonexty\", \"line\": {\"color\": \"blue\"}, \"mode\": \"lines\", \"name\": \"Interest Rate  <br> (total, funds advanced, <br> residential mortgages, insured)\", \"type\": \"scatter\", \"x\": [\"2019-01-01\", \"2019-02-01\", \"2019-03-01\", \"2019-04-01\", \"2019-05-01\", \"2019-06-01\", \"2019-07-01\", \"2019-08-01\", \"2019-09-01\", \"2019-10-01\", \"2019-11-01\", \"2019-12-01\", \"2020-01-01\", \"2020-02-01\"], \"xaxis\": \"x\", \"y\": [3.84, 3.82, 3.76, 3.59, 3.45, 3.33, 3.22, 3.16, 3.12, 3.12, 3.13, 3.23, 3.24, 3.19], \"yaxis\": \"y\"}, {\"line\": {\"color\": \"orange\"}, \"name\": \"test sentiment\", \"type\": \"scatter\", \"x\": [\"2019-01-01\", \"2019-02-01\", \"2019-03-01\", \"2019-04-01\", \"2019-05-01\", \"2019-06-01\", \"2019-07-01\", \"2019-08-01\", \"2019-09-01\", \"2019-10-01\", \"2019-11-01\", \"2019-12-01\", \"2020-01-01\", \"2020-02-01\"], \"xaxis\": \"x\", \"y\": [-1.3584988117218018, -1.3638954758644104, 1.3461576700210571, 1.3461576700210571, 0.03557952493429184, -1.4987849593162537, 0.27120379358530045, 1.4242247939109802, -1.1155351400375366, -1.4967417120933533, -1.1699542999267578, 1.3845785856246948, -1.4330191016197205, -1.4990059733390808, -1.382517158985138, -0.9442244172096252, -0.0008412636816501583, -1.2549678087234497, -1.4874122142791748, -1.3392068147659302, 1.2366125583648682, 1.232754111289978, -1.4994325041770935, -1.4955782294273376, -0.1414221823215485, -1.4935338497161865, -1.1488687992095947, 1.325694501399994, -1.3294180631637573, -1.4405885338783264, -1.4988272786140442, -1.4901069402694702, -1.3934794664382935, -1.3336432576179504, -1.4214408993721008, -1.331419289112091, -1.4907165169715881, -1.4891778230667114, -1.4989307522773743, -1.4650974869728088, -1.490285575389862, -1.4733055233955383, -1.498285949230194, -1.4975207448005676], \"yaxis\": \"y2\"}],\n",
       "                        {\"template\": {\"data\": {\"bar\": [{\"error_x\": {\"color\": \"#2a3f5f\"}, \"error_y\": {\"color\": \"#2a3f5f\"}, \"marker\": {\"line\": {\"color\": \"#E5ECF6\", \"width\": 0.5}}, \"type\": \"bar\"}], \"barpolar\": [{\"marker\": {\"line\": {\"color\": \"#E5ECF6\", \"width\": 0.5}}, \"type\": \"barpolar\"}], \"carpet\": [{\"aaxis\": {\"endlinecolor\": \"#2a3f5f\", \"gridcolor\": \"white\", \"linecolor\": \"white\", \"minorgridcolor\": \"white\", \"startlinecolor\": \"#2a3f5f\"}, \"baxis\": {\"endlinecolor\": \"#2a3f5f\", \"gridcolor\": \"white\", \"linecolor\": \"white\", \"minorgridcolor\": \"white\", \"startlinecolor\": \"#2a3f5f\"}, \"type\": \"carpet\"}], \"choropleth\": [{\"colorbar\": {\"outlinewidth\": 0, \"ticks\": \"\"}, \"type\": \"choropleth\"}], \"contour\": [{\"colorbar\": {\"outlinewidth\": 0, \"ticks\": \"\"}, \"colorscale\": [[0.0, \"#0d0887\"], [0.1111111111111111, \"#46039f\"], [0.2222222222222222, \"#7201a8\"], [0.3333333333333333, \"#9c179e\"], [0.4444444444444444, \"#bd3786\"], [0.5555555555555556, \"#d8576b\"], [0.6666666666666666, \"#ed7953\"], [0.7777777777777778, \"#fb9f3a\"], [0.8888888888888888, \"#fdca26\"], [1.0, \"#f0f921\"]], \"type\": \"contour\"}], \"contourcarpet\": [{\"colorbar\": {\"outlinewidth\": 0, \"ticks\": \"\"}, \"type\": \"contourcarpet\"}], \"heatmap\": [{\"colorbar\": {\"outlinewidth\": 0, \"ticks\": \"\"}, \"colorscale\": [[0.0, \"#0d0887\"], [0.1111111111111111, \"#46039f\"], [0.2222222222222222, \"#7201a8\"], [0.3333333333333333, \"#9c179e\"], [0.4444444444444444, \"#bd3786\"], [0.5555555555555556, \"#d8576b\"], [0.6666666666666666, \"#ed7953\"], [0.7777777777777778, \"#fb9f3a\"], [0.8888888888888888, \"#fdca26\"], [1.0, \"#f0f921\"]], \"type\": \"heatmap\"}], \"heatmapgl\": [{\"colorbar\": {\"outlinewidth\": 0, \"ticks\": \"\"}, \"colorscale\": [[0.0, \"#0d0887\"], [0.1111111111111111, \"#46039f\"], [0.2222222222222222, \"#7201a8\"], [0.3333333333333333, \"#9c179e\"], [0.4444444444444444, \"#bd3786\"], [0.5555555555555556, \"#d8576b\"], [0.6666666666666666, \"#ed7953\"], [0.7777777777777778, \"#fb9f3a\"], [0.8888888888888888, \"#fdca26\"], [1.0, \"#f0f921\"]], \"type\": \"heatmapgl\"}], \"histogram\": [{\"marker\": {\"colorbar\": {\"outlinewidth\": 0, \"ticks\": \"\"}}, \"type\": \"histogram\"}], \"histogram2d\": [{\"colorbar\": {\"outlinewidth\": 0, \"ticks\": \"\"}, \"colorscale\": [[0.0, \"#0d0887\"], [0.1111111111111111, \"#46039f\"], [0.2222222222222222, \"#7201a8\"], [0.3333333333333333, \"#9c179e\"], [0.4444444444444444, \"#bd3786\"], [0.5555555555555556, \"#d8576b\"], [0.6666666666666666, \"#ed7953\"], [0.7777777777777778, \"#fb9f3a\"], [0.8888888888888888, \"#fdca26\"], [1.0, \"#f0f921\"]], \"type\": \"histogram2d\"}], \"histogram2dcontour\": [{\"colorbar\": {\"outlinewidth\": 0, \"ticks\": \"\"}, \"colorscale\": [[0.0, \"#0d0887\"], [0.1111111111111111, \"#46039f\"], [0.2222222222222222, \"#7201a8\"], [0.3333333333333333, \"#9c179e\"], [0.4444444444444444, \"#bd3786\"], [0.5555555555555556, \"#d8576b\"], [0.6666666666666666, \"#ed7953\"], [0.7777777777777778, \"#fb9f3a\"], [0.8888888888888888, \"#fdca26\"], [1.0, \"#f0f921\"]], \"type\": \"histogram2dcontour\"}], \"mesh3d\": [{\"colorbar\": {\"outlinewidth\": 0, \"ticks\": \"\"}, \"type\": \"mesh3d\"}], \"parcoords\": [{\"line\": {\"colorbar\": {\"outlinewidth\": 0, \"ticks\": \"\"}}, \"type\": \"parcoords\"}], \"pie\": [{\"automargin\": true, \"type\": \"pie\"}], \"scatter\": [{\"marker\": {\"colorbar\": {\"outlinewidth\": 0, \"ticks\": \"\"}}, \"type\": \"scatter\"}], \"scatter3d\": [{\"line\": {\"colorbar\": {\"outlinewidth\": 0, \"ticks\": \"\"}}, \"marker\": {\"colorbar\": {\"outlinewidth\": 0, \"ticks\": \"\"}}, \"type\": \"scatter3d\"}], \"scattercarpet\": [{\"marker\": {\"colorbar\": {\"outlinewidth\": 0, \"ticks\": \"\"}}, \"type\": \"scattercarpet\"}], \"scattergeo\": [{\"marker\": {\"colorbar\": {\"outlinewidth\": 0, \"ticks\": \"\"}}, \"type\": \"scattergeo\"}], \"scattergl\": [{\"marker\": {\"colorbar\": {\"outlinewidth\": 0, \"ticks\": \"\"}}, \"type\": \"scattergl\"}], \"scattermapbox\": [{\"marker\": {\"colorbar\": {\"outlinewidth\": 0, \"ticks\": \"\"}}, \"type\": \"scattermapbox\"}], \"scatterpolar\": [{\"marker\": {\"colorbar\": {\"outlinewidth\": 0, \"ticks\": \"\"}}, \"type\": \"scatterpolar\"}], \"scatterpolargl\": [{\"marker\": {\"colorbar\": {\"outlinewidth\": 0, \"ticks\": \"\"}}, \"type\": \"scatterpolargl\"}], \"scatterternary\": [{\"marker\": {\"colorbar\": {\"outlinewidth\": 0, \"ticks\": \"\"}}, \"type\": \"scatterternary\"}], \"surface\": [{\"colorbar\": {\"outlinewidth\": 0, \"ticks\": \"\"}, \"colorscale\": [[0.0, \"#0d0887\"], [0.1111111111111111, \"#46039f\"], [0.2222222222222222, \"#7201a8\"], [0.3333333333333333, \"#9c179e\"], [0.4444444444444444, \"#bd3786\"], [0.5555555555555556, \"#d8576b\"], [0.6666666666666666, \"#ed7953\"], [0.7777777777777778, \"#fb9f3a\"], [0.8888888888888888, \"#fdca26\"], [1.0, \"#f0f921\"]], \"type\": \"surface\"}], \"table\": [{\"cells\": {\"fill\": {\"color\": \"#EBF0F8\"}, \"line\": {\"color\": \"white\"}}, \"header\": {\"fill\": {\"color\": \"#C8D4E3\"}, \"line\": {\"color\": \"white\"}}, \"type\": \"table\"}]}, \"layout\": {\"annotationdefaults\": {\"arrowcolor\": \"#2a3f5f\", \"arrowhead\": 0, \"arrowwidth\": 1}, \"coloraxis\": {\"colorbar\": {\"outlinewidth\": 0, \"ticks\": \"\"}}, \"colorscale\": {\"diverging\": [[0, \"#8e0152\"], [0.1, \"#c51b7d\"], [0.2, \"#de77ae\"], [0.3, \"#f1b6da\"], [0.4, \"#fde0ef\"], [0.5, \"#f7f7f7\"], [0.6, \"#e6f5d0\"], [0.7, \"#b8e186\"], [0.8, \"#7fbc41\"], [0.9, \"#4d9221\"], [1, \"#276419\"]], \"sequential\": [[0.0, \"#0d0887\"], [0.1111111111111111, \"#46039f\"], [0.2222222222222222, \"#7201a8\"], [0.3333333333333333, \"#9c179e\"], [0.4444444444444444, \"#bd3786\"], [0.5555555555555556, \"#d8576b\"], [0.6666666666666666, \"#ed7953\"], [0.7777777777777778, \"#fb9f3a\"], [0.8888888888888888, \"#fdca26\"], [1.0, \"#f0f921\"]], \"sequentialminus\": [[0.0, \"#0d0887\"], [0.1111111111111111, \"#46039f\"], [0.2222222222222222, \"#7201a8\"], [0.3333333333333333, \"#9c179e\"], [0.4444444444444444, \"#bd3786\"], [0.5555555555555556, \"#d8576b\"], [0.6666666666666666, \"#ed7953\"], [0.7777777777777778, \"#fb9f3a\"], [0.8888888888888888, \"#fdca26\"], [1.0, \"#f0f921\"]]}, \"colorway\": [\"#636efa\", \"#EF553B\", \"#00cc96\", \"#ab63fa\", \"#FFA15A\", \"#19d3f3\", \"#FF6692\", \"#B6E880\", \"#FF97FF\", \"#FECB52\"], \"font\": {\"color\": \"#2a3f5f\"}, \"geo\": {\"bgcolor\": \"white\", \"lakecolor\": \"white\", \"landcolor\": \"#E5ECF6\", \"showlakes\": true, \"showland\": true, \"subunitcolor\": \"white\"}, \"hoverlabel\": {\"align\": \"left\"}, \"hovermode\": \"closest\", \"mapbox\": {\"style\": \"light\"}, \"paper_bgcolor\": \"white\", \"plot_bgcolor\": \"#E5ECF6\", \"polar\": {\"angularaxis\": {\"gridcolor\": \"white\", \"linecolor\": \"white\", \"ticks\": \"\"}, \"bgcolor\": \"#E5ECF6\", \"radialaxis\": {\"gridcolor\": \"white\", \"linecolor\": \"white\", \"ticks\": \"\"}}, \"scene\": {\"xaxis\": {\"backgroundcolor\": \"#E5ECF6\", \"gridcolor\": \"white\", \"gridwidth\": 2, \"linecolor\": \"white\", \"showbackground\": true, \"ticks\": \"\", \"zerolinecolor\": \"white\"}, \"yaxis\": {\"backgroundcolor\": \"#E5ECF6\", \"gridcolor\": \"white\", \"gridwidth\": 2, \"linecolor\": \"white\", \"showbackground\": true, \"ticks\": \"\", \"zerolinecolor\": \"white\"}, \"zaxis\": {\"backgroundcolor\": \"#E5ECF6\", \"gridcolor\": \"white\", \"gridwidth\": 2, \"linecolor\": \"white\", \"showbackground\": true, \"ticks\": \"\", \"zerolinecolor\": \"white\"}}, \"shapedefaults\": {\"line\": {\"color\": \"#2a3f5f\"}}, \"ternary\": {\"aaxis\": {\"gridcolor\": \"white\", \"linecolor\": \"white\", \"ticks\": \"\"}, \"baxis\": {\"gridcolor\": \"white\", \"linecolor\": \"white\", \"ticks\": \"\"}, \"bgcolor\": \"#E5ECF6\", \"caxis\": {\"gridcolor\": \"white\", \"linecolor\": \"white\", \"ticks\": \"\"}}, \"title\": {\"x\": 0.05}, \"xaxis\": {\"automargin\": true, \"gridcolor\": \"white\", \"linecolor\": \"white\", \"ticks\": \"\", \"title\": {\"standoff\": 15}, \"zerolinecolor\": \"white\", \"zerolinewidth\": 2}, \"yaxis\": {\"automargin\": true, \"gridcolor\": \"white\", \"linecolor\": \"white\", \"ticks\": \"\", \"title\": {\"standoff\": 15}, \"zerolinecolor\": \"white\", \"zerolinewidth\": 2}}}, \"title\": {\"text\": \"Canadian News Sentiment - Mortgage Rate (test)\"}, \"xaxis\": {\"anchor\": \"y\", \"domain\": [0.0, 0.94], \"rangeslider\": {\"visible\": true}, \"title\": {\"text\": \"Date\"}}, \"yaxis\": {\"anchor\": \"x\", \"autorange\": false, \"domain\": [0.0, 1.0], \"range\": [3.02, 3.94], \"title\": {\"text\": \"Interest Rate  <br> (total, funds advanced, <br> residential mortgages, insured)\"}}, \"yaxis2\": {\"anchor\": \"x\", \"overlaying\": \"y\", \"range\": [-2.4994325041770935, 2.4242247939109802], \"side\": \"right\", \"title\": {\"text\": \"Sentiment Score\"}}},\n",
       "                        {\"responsive\": true}\n",
       "                    ).then(function(){\n",
       "                            \n",
       "var gd = document.getElementById('ec73c2a0-e5c5-4c30-8caf-1a050175d316');\n",
       "var x = new MutationObserver(function (mutations, observer) {{\n",
       "        var display = window.getComputedStyle(gd).display;\n",
       "        if (!display || display === 'none') {{\n",
       "            console.log([gd, 'removed!']);\n",
       "            Plotly.purge(gd);\n",
       "            observer.disconnect();\n",
       "        }}\n",
       "}});\n",
       "\n",
       "// Listen for the removal of the full notebook cells\n",
       "var notebookContainer = gd.closest('#notebook-container');\n",
       "if (notebookContainer) {{\n",
       "    x.observe(notebookContainer, {childList: true});\n",
       "}}\n",
       "\n",
       "// Listen for the clearing of the current output cell\n",
       "var outputEl = gd.closest('.output');\n",
       "if (outputEl) {{\n",
       "    x.observe(outputEl, {childList: true});\n",
       "}}\n",
       "\n",
       "                        })\n",
       "                };\n",
       "                });\n",
       "            </script>\n",
       "        </div>"
      ]
     },
     "metadata": {},
     "output_type": "display_data"
    }
   ],
   "source": [
    "source_name = \"Bloomberg\"\n",
    "\n",
    "test_fig = plot_combined_graph(test_mrg_df, mixedsource_senti_df.query('source==@source_name '), test_indicator_name, test_title)\n",
    "test_fig.show()"
   ]
  },
  {
   "cell_type": "code",
   "execution_count": 10,
   "metadata": {},
   "outputs": [
    {
     "name": "stdout",
     "output_type": "stream",
     "text": [
      "Running on http://127.0.0.1:8050/\n",
      "Debugger PIN: 676-100-173\n",
      " * Serving Flask app \"__main__\" (lazy loading)\n",
      " * Environment: production\n",
      "   WARNING: This is a development server. Do not use it in a production deployment.\n",
      "   Use a production WSGI server instead.\n",
      " * Debug mode: on\n"
     ]
    }
   ],
   "source": [
    "# test drawing test_fig in Dash app\n",
    "\n",
    "import dash\n",
    "import dash_core_components as dcc\n",
    "import dash_html_components as html\n",
    "\n",
    "app = dash.Dash()\n",
    "app.layout = html.Div([\n",
    "    \n",
    "    html.H1(\"Hello World\"),\n",
    "    \n",
    "    dcc.Markdown('''\n",
    "    Trying out paragraph writing\n",
    "    '''),\n",
    "    \n",
    "    dcc.Graph(figure=test_fig)\n",
    "])\n",
    "\n",
    "app.run_server(debug=True, use_reloader=False)  "
   ]
  },
  {
   "cell_type": "code",
   "execution_count": 157,
   "metadata": {},
   "outputs": [
    {
     "data": {
      "text/plain": [
       "{'value_GDP': 'Chained (2012) Dollars (seasonally adjusted)',\n",
       " 'value_TSX': 'S&P/TSX Composite Index - Close (Unadjusted - CAD)',\n",
       " 'value_mortgage_rates': 'Interest Rate - Total, funds advanced, residential mortgages, insured',\n",
       " 'value_housing_prices': 'Composite Home Price Index (Unadjusted for seasonality)',\n",
       " 'value_employment': 'Employment Rate - Both sexes, 15 years and over',\n",
       " 'value_interest_rates': 'Interest Rate - Overnight Target Rate (Bank of Canada)'}"
      ]
     },
     "execution_count": 157,
     "metadata": {},
     "output_type": "execute_result"
    }
   ],
   "source": [
    "# dictionary of y-axis labels from Jon\n",
    "\n",
    "\n",
    "indic_to_value = {}\n",
    "indic_to_value[\"value_GDP\"] = \"Chained (2012) Dollars (seasonally adjusted)\"\n",
    "indic_to_value[\"value_TSX\"] = \"S&P/TSX Composite Index - Close (Unadjusted - CAD)\"\n",
    "indic_to_value[\"value_mortgage_rates\"]= \"Interest Rate - Total, funds advanced, residential mortgages, insured\"\n",
    "indic_to_value[\"value_housing_prices\"] = \"Composite Home Price Index (Unadjusted for seasonality)\"\n",
    "indic_to_value[\"value_employment\"] = \"Employment Rate - Both sexes, 15 years and over\"\n",
    "indic_to_value[\"value_interest_rates\"] = \"Interest Rate - Overnight Target Rate (Bank of Canada)\"\n",
    "\n",
    "#If using overnight money market rate, uncomment the following\n",
    "#indic_to_value[\"interest_rate\"] = \"Interest Rate - Overnight market financing\"\n",
    "indic_to_value\n",
    "\n"
   ]
  },
  {
   "cell_type": "code",
   "execution_count": 16,
   "metadata": {},
   "outputs": [
    {
     "data": {
      "text/html": [
       "<div>\n",
       "<style scoped>\n",
       "    .dataframe tbody tr th:only-of-type {\n",
       "        vertical-align: middle;\n",
       "    }\n",
       "\n",
       "    .dataframe tbody tr th {\n",
       "        vertical-align: top;\n",
       "    }\n",
       "\n",
       "    .dataframe thead th {\n",
       "        text-align: right;\n",
       "    }\n",
       "</style>\n",
       "<table border=\"1\" class=\"dataframe\">\n",
       "  <thead>\n",
       "    <tr style=\"text-align: right;\">\n",
       "      <th></th>\n",
       "      <th>date</th>\n",
       "      <th>value_GDP</th>\n",
       "      <th>value_TSX</th>\n",
       "      <th>value_mortgage_rates</th>\n",
       "      <th>value_employment</th>\n",
       "      <th>value_housing_prices</th>\n",
       "      <th>value_interest_rates</th>\n",
       "    </tr>\n",
       "  </thead>\n",
       "  <tbody>\n",
       "    <tr>\n",
       "      <th>0</th>\n",
       "      <td>2019-01-01</td>\n",
       "      <td>1.952558e+12</td>\n",
       "      <td>15540.599609</td>\n",
       "      <td>3.84</td>\n",
       "      <td>60.8</td>\n",
       "      <td>227.4</td>\n",
       "      <td>NaN</td>\n",
       "    </tr>\n",
       "    <tr>\n",
       "      <th>1</th>\n",
       "      <td>2019-02-01</td>\n",
       "      <td>1.948783e+12</td>\n",
       "      <td>15999.000000</td>\n",
       "      <td>3.82</td>\n",
       "      <td>61.1</td>\n",
       "      <td>228.2</td>\n",
       "      <td>NaN</td>\n",
       "    </tr>\n",
       "    <tr>\n",
       "      <th>2</th>\n",
       "      <td>2019-03-01</td>\n",
       "      <td>1.961298e+12</td>\n",
       "      <td>16102.099609</td>\n",
       "      <td>3.76</td>\n",
       "      <td>61.0</td>\n",
       "      <td>229.8</td>\n",
       "      <td>NaN</td>\n",
       "    </tr>\n",
       "    <tr>\n",
       "      <th>3</th>\n",
       "      <td>2019-04-01</td>\n",
       "      <td>1.966131e+12</td>\n",
       "      <td>16580.699219</td>\n",
       "      <td>3.59</td>\n",
       "      <td>61.6</td>\n",
       "      <td>231.3</td>\n",
       "      <td>NaN</td>\n",
       "    </tr>\n",
       "    <tr>\n",
       "      <th>4</th>\n",
       "      <td>2019-05-01</td>\n",
       "      <td>1.971712e+12</td>\n",
       "      <td>16037.500000</td>\n",
       "      <td>3.45</td>\n",
       "      <td>62.7</td>\n",
       "      <td>232.0</td>\n",
       "      <td>NaN</td>\n",
       "    </tr>\n",
       "    <tr>\n",
       "      <th>...</th>\n",
       "      <td>...</td>\n",
       "      <td>...</td>\n",
       "      <td>...</td>\n",
       "      <td>...</td>\n",
       "      <td>...</td>\n",
       "      <td>...</td>\n",
       "      <td>...</td>\n",
       "    </tr>\n",
       "    <tr>\n",
       "      <th>267</th>\n",
       "      <td>2020-05-26</td>\n",
       "      <td>NaN</td>\n",
       "      <td>NaN</td>\n",
       "      <td>NaN</td>\n",
       "      <td>NaN</td>\n",
       "      <td>NaN</td>\n",
       "      <td>0.25</td>\n",
       "    </tr>\n",
       "    <tr>\n",
       "      <th>268</th>\n",
       "      <td>2020-05-27</td>\n",
       "      <td>NaN</td>\n",
       "      <td>NaN</td>\n",
       "      <td>NaN</td>\n",
       "      <td>NaN</td>\n",
       "      <td>NaN</td>\n",
       "      <td>0.25</td>\n",
       "    </tr>\n",
       "    <tr>\n",
       "      <th>269</th>\n",
       "      <td>2020-05-28</td>\n",
       "      <td>NaN</td>\n",
       "      <td>NaN</td>\n",
       "      <td>NaN</td>\n",
       "      <td>NaN</td>\n",
       "      <td>NaN</td>\n",
       "      <td>0.25</td>\n",
       "    </tr>\n",
       "    <tr>\n",
       "      <th>270</th>\n",
       "      <td>2020-05-29</td>\n",
       "      <td>NaN</td>\n",
       "      <td>NaN</td>\n",
       "      <td>NaN</td>\n",
       "      <td>NaN</td>\n",
       "      <td>NaN</td>\n",
       "      <td>0.25</td>\n",
       "    </tr>\n",
       "    <tr>\n",
       "      <th>271</th>\n",
       "      <td>2020-06-01</td>\n",
       "      <td>NaN</td>\n",
       "      <td>NaN</td>\n",
       "      <td>NaN</td>\n",
       "      <td>NaN</td>\n",
       "      <td>NaN</td>\n",
       "      <td>0.25</td>\n",
       "    </tr>\n",
       "  </tbody>\n",
       "</table>\n",
       "<p>272 rows × 7 columns</p>\n",
       "</div>"
      ],
      "text/plain": [
       "           date     value_GDP     value_TSX  value_mortgage_rates  \\\n",
       "0    2019-01-01  1.952558e+12  15540.599609                  3.84   \n",
       "1    2019-02-01  1.948783e+12  15999.000000                  3.82   \n",
       "2    2019-03-01  1.961298e+12  16102.099609                  3.76   \n",
       "3    2019-04-01  1.966131e+12  16580.699219                  3.59   \n",
       "4    2019-05-01  1.971712e+12  16037.500000                  3.45   \n",
       "..          ...           ...           ...                   ...   \n",
       "267  2020-05-26           NaN           NaN                   NaN   \n",
       "268  2020-05-27           NaN           NaN                   NaN   \n",
       "269  2020-05-28           NaN           NaN                   NaN   \n",
       "270  2020-05-29           NaN           NaN                   NaN   \n",
       "271  2020-06-01           NaN           NaN                   NaN   \n",
       "\n",
       "     value_employment  value_housing_prices  value_interest_rates  \n",
       "0                60.8                 227.4                   NaN  \n",
       "1                61.1                 228.2                   NaN  \n",
       "2                61.0                 229.8                   NaN  \n",
       "3                61.6                 231.3                   NaN  \n",
       "4                62.7                 232.0                   NaN  \n",
       "..                ...                   ...                   ...  \n",
       "267               NaN                   NaN                  0.25  \n",
       "268               NaN                   NaN                  0.25  \n",
       "269               NaN                   NaN                  0.25  \n",
       "270               NaN                   NaN                  0.25  \n",
       "271               NaN                   NaN                  0.25  \n",
       "\n",
       "[272 rows x 7 columns]"
      ]
     },
     "execution_count": 16,
     "metadata": {},
     "output_type": "execute_result"
    }
   ],
   "source": [
    "#giant indicators df imported\n",
    "indicators_df = pd.read_csv('combined_indicator_data.csv')#,index_col='date')\n",
    "indicators_df"
   ]
  },
  {
   "cell_type": "code",
   "execution_count": 125,
   "metadata": {},
   "outputs": [
    {
     "data": {
      "text/html": [
       "<div>\n",
       "<style scoped>\n",
       "    .dataframe tbody tr th:only-of-type {\n",
       "        vertical-align: middle;\n",
       "    }\n",
       "\n",
       "    .dataframe tbody tr th {\n",
       "        vertical-align: top;\n",
       "    }\n",
       "\n",
       "    .dataframe thead th {\n",
       "        text-align: right;\n",
       "    }\n",
       "</style>\n",
       "<table border=\"1\" class=\"dataframe\">\n",
       "  <thead>\n",
       "    <tr style=\"text-align: right;\">\n",
       "      <th></th>\n",
       "      <th>date</th>\n",
       "      <th>value_TSX</th>\n",
       "    </tr>\n",
       "  </thead>\n",
       "  <tbody>\n",
       "    <tr>\n",
       "      <th>0</th>\n",
       "      <td>2019-01-01</td>\n",
       "      <td>15540.599609</td>\n",
       "    </tr>\n",
       "    <tr>\n",
       "      <th>1</th>\n",
       "      <td>2019-02-01</td>\n",
       "      <td>15999.000000</td>\n",
       "    </tr>\n",
       "    <tr>\n",
       "      <th>2</th>\n",
       "      <td>2019-03-01</td>\n",
       "      <td>16102.099609</td>\n",
       "    </tr>\n",
       "    <tr>\n",
       "      <th>3</th>\n",
       "      <td>2019-04-01</td>\n",
       "      <td>16580.699219</td>\n",
       "    </tr>\n",
       "    <tr>\n",
       "      <th>4</th>\n",
       "      <td>2019-05-01</td>\n",
       "      <td>16037.500000</td>\n",
       "    </tr>\n",
       "    <tr>\n",
       "      <th>6</th>\n",
       "      <td>2019-06-01</td>\n",
       "      <td>16382.200195</td>\n",
       "    </tr>\n",
       "    <tr>\n",
       "      <th>27</th>\n",
       "      <td>2019-07-01</td>\n",
       "      <td>16406.599609</td>\n",
       "    </tr>\n",
       "    <tr>\n",
       "      <th>50</th>\n",
       "      <td>2019-08-01</td>\n",
       "      <td>16442.099609</td>\n",
       "    </tr>\n",
       "    <tr>\n",
       "      <th>72</th>\n",
       "      <td>2019-09-01</td>\n",
       "      <td>16658.599609</td>\n",
       "    </tr>\n",
       "    <tr>\n",
       "      <th>94</th>\n",
       "      <td>2019-10-01</td>\n",
       "      <td>16483.199219</td>\n",
       "    </tr>\n",
       "    <tr>\n",
       "      <th>117</th>\n",
       "      <td>2019-11-01</td>\n",
       "      <td>17040.199219</td>\n",
       "    </tr>\n",
       "    <tr>\n",
       "      <th>138</th>\n",
       "      <td>2019-12-01</td>\n",
       "      <td>17063.400391</td>\n",
       "    </tr>\n",
       "    <tr>\n",
       "      <th>161</th>\n",
       "      <td>2020-01-01</td>\n",
       "      <td>17318.500000</td>\n",
       "    </tr>\n",
       "    <tr>\n",
       "      <th>184</th>\n",
       "      <td>2020-02-01</td>\n",
       "      <td>16263.099609</td>\n",
       "    </tr>\n",
       "    <tr>\n",
       "      <th>205</th>\n",
       "      <td>2020-03-01</td>\n",
       "      <td>13378.799805</td>\n",
       "    </tr>\n",
       "    <tr>\n",
       "      <th>228</th>\n",
       "      <td>2020-04-01</td>\n",
       "      <td>14780.700195</td>\n",
       "    </tr>\n",
       "    <tr>\n",
       "      <th>250</th>\n",
       "      <td>2020-05-01</td>\n",
       "      <td>15192.799805</td>\n",
       "    </tr>\n",
       "  </tbody>\n",
       "</table>\n",
       "</div>"
      ],
      "text/plain": [
       "           date     value_TSX\n",
       "0    2019-01-01  15540.599609\n",
       "1    2019-02-01  15999.000000\n",
       "2    2019-03-01  16102.099609\n",
       "3    2019-04-01  16580.699219\n",
       "4    2019-05-01  16037.500000\n",
       "6    2019-06-01  16382.200195\n",
       "27   2019-07-01  16406.599609\n",
       "50   2019-08-01  16442.099609\n",
       "72   2019-09-01  16658.599609\n",
       "94   2019-10-01  16483.199219\n",
       "117  2019-11-01  17040.199219\n",
       "138  2019-12-01  17063.400391\n",
       "161  2020-01-01  17318.500000\n",
       "184  2020-02-01  16263.099609\n",
       "205  2020-03-01  13378.799805\n",
       "228  2020-04-01  14780.700195\n",
       "250  2020-05-01  15192.799805"
      ]
     },
     "execution_count": 125,
     "metadata": {},
     "output_type": "execute_result"
    }
   ],
   "source": [
    "indicators_df[['date','value_TSX']].dropna()"
   ]
  },
  {
   "cell_type": "code",
   "execution_count": 147,
   "metadata": {},
   "outputs": [],
   "source": [
    "#indicators_df[['date','value_interest_rates']].dropna().rename(columns={'value_GDP':\"values\",\"date\":\"dates\"}).set_index('publishedAt')"
   ]
  },
  {
   "cell_type": "code",
   "execution_count": 146,
   "metadata": {},
   "outputs": [
    {
     "data": {
      "text/html": [
       "<div>\n",
       "<style scoped>\n",
       "    .dataframe tbody tr th:only-of-type {\n",
       "        vertical-align: middle;\n",
       "    }\n",
       "\n",
       "    .dataframe tbody tr th {\n",
       "        vertical-align: top;\n",
       "    }\n",
       "\n",
       "    .dataframe thead th {\n",
       "        text-align: right;\n",
       "    }\n",
       "</style>\n",
       "<table border=\"1\" class=\"dataframe\">\n",
       "  <thead>\n",
       "    <tr style=\"text-align: right;\">\n",
       "      <th></th>\n",
       "      <th>Unnamed: 0</th>\n",
       "      <th>source</th>\n",
       "      <th>title_desc</th>\n",
       "      <th>publishedAt</th>\n",
       "      <th>raw_sentiment_score</th>\n",
       "      <th>indicator</th>\n",
       "      <th>annotation_type</th>\n",
       "    </tr>\n",
       "  </thead>\n",
       "  <tbody>\n",
       "    <tr>\n",
       "      <th>0</th>\n",
       "      <td>0</td>\n",
       "      <td>CBC</td>\n",
       "      <td>Hamilton economy in 'extraordinary pain' but w...</td>\n",
       "      <td>2020-05-13</td>\n",
       "      <td>-1.500000</td>\n",
       "      <td>gdp</td>\n",
       "      <td>annotated</td>\n",
       "    </tr>\n",
       "    <tr>\n",
       "      <th>1</th>\n",
       "      <td>1</td>\n",
       "      <td>CBC</td>\n",
       "      <td>Federal deficit likely to be higher than $252 ...</td>\n",
       "      <td>2020-05-13</td>\n",
       "      <td>-1.500000</td>\n",
       "      <td>gdp</td>\n",
       "      <td>annotated</td>\n",
       "    </tr>\n",
       "    <tr>\n",
       "      <th>2</th>\n",
       "      <td>2</td>\n",
       "      <td>CBC</td>\n",
       "      <td>Post-secondary schools face rough autumn if pa...</td>\n",
       "      <td>2020-05-07</td>\n",
       "      <td>0.000000</td>\n",
       "      <td>gdp</td>\n",
       "      <td>annotated</td>\n",
       "    </tr>\n",
       "    <tr>\n",
       "      <th>3</th>\n",
       "      <td>3</td>\n",
       "      <td>CBC</td>\n",
       "      <td>May and Blanchet declare the oilpatch 'dead,' ...</td>\n",
       "      <td>2020-05-06</td>\n",
       "      <td>-1.500000</td>\n",
       "      <td>gdp</td>\n",
       "      <td>annotated</td>\n",
       "    </tr>\n",
       "    <tr>\n",
       "      <th>4</th>\n",
       "      <td>4</td>\n",
       "      <td>Bloomberg</td>\n",
       "      <td>Setback to Montreal retail reopening shows roc...</td>\n",
       "      <td>2020-05-04</td>\n",
       "      <td>-1.500000</td>\n",
       "      <td>gdp</td>\n",
       "      <td>annotated</td>\n",
       "    </tr>\n",
       "    <tr>\n",
       "      <th>...</th>\n",
       "      <td>...</td>\n",
       "      <td>...</td>\n",
       "      <td>...</td>\n",
       "      <td>...</td>\n",
       "      <td>...</td>\n",
       "      <td>...</td>\n",
       "      <td>...</td>\n",
       "    </tr>\n",
       "    <tr>\n",
       "      <th>862</th>\n",
       "      <td>53</td>\n",
       "      <td>CBC</td>\n",
       "      <td>Business sentiment improves after downturn ear...</td>\n",
       "      <td>2019-06-28</td>\n",
       "      <td>-1.488752</td>\n",
       "      <td>gdp</td>\n",
       "      <td>predicted</td>\n",
       "    </tr>\n",
       "    <tr>\n",
       "      <th>863</th>\n",
       "      <td>45</td>\n",
       "      <td>CBC</td>\n",
       "      <td>Trade war darkens economic forecasts for Canad...</td>\n",
       "      <td>2019-06-04</td>\n",
       "      <td>-1.486129</td>\n",
       "      <td>gdp</td>\n",
       "      <td>predicted</td>\n",
       "    </tr>\n",
       "    <tr>\n",
       "      <th>864</th>\n",
       "      <td>84</td>\n",
       "      <td>CBC</td>\n",
       "      <td>Alberta could slip back into recession this ye...</td>\n",
       "      <td>2019-05-28</td>\n",
       "      <td>-1.494717</td>\n",
       "      <td>gdp</td>\n",
       "      <td>predicted</td>\n",
       "    </tr>\n",
       "    <tr>\n",
       "      <th>865</th>\n",
       "      <td>91</td>\n",
       "      <td>CBC</td>\n",
       "      <td>Why overlooked green energy sector is an econo...</td>\n",
       "      <td>2019-05-23</td>\n",
       "      <td>-0.052256</td>\n",
       "      <td>gdp</td>\n",
       "      <td>predicted</td>\n",
       "    </tr>\n",
       "    <tr>\n",
       "      <th>866</th>\n",
       "      <td>82</td>\n",
       "      <td>CBC</td>\n",
       "      <td>Some provinces skeptical after money launderin...</td>\n",
       "      <td>2019-05-20</td>\n",
       "      <td>-1.423904</td>\n",
       "      <td>gdp</td>\n",
       "      <td>predicted</td>\n",
       "    </tr>\n",
       "  </tbody>\n",
       "</table>\n",
       "<p>271 rows × 7 columns</p>\n",
       "</div>"
      ],
      "text/plain": [
       "     Unnamed: 0     source                                         title_desc  \\\n",
       "0             0        CBC  Hamilton economy in 'extraordinary pain' but w...   \n",
       "1             1        CBC  Federal deficit likely to be higher than $252 ...   \n",
       "2             2        CBC  Post-secondary schools face rough autumn if pa...   \n",
       "3             3        CBC  May and Blanchet declare the oilpatch 'dead,' ...   \n",
       "4             4  Bloomberg  Setback to Montreal retail reopening shows roc...   \n",
       "..          ...        ...                                                ...   \n",
       "862          53        CBC  Business sentiment improves after downturn ear...   \n",
       "863          45        CBC  Trade war darkens economic forecasts for Canad...   \n",
       "864          84        CBC  Alberta could slip back into recession this ye...   \n",
       "865          91        CBC  Why overlooked green energy sector is an econo...   \n",
       "866          82        CBC  Some provinces skeptical after money launderin...   \n",
       "\n",
       "    publishedAt  raw_sentiment_score indicator annotation_type  \n",
       "0    2020-05-13            -1.500000       gdp       annotated  \n",
       "1    2020-05-13            -1.500000       gdp       annotated  \n",
       "2    2020-05-07             0.000000       gdp       annotated  \n",
       "3    2020-05-06            -1.500000       gdp       annotated  \n",
       "4    2020-05-04            -1.500000       gdp       annotated  \n",
       "..          ...                  ...       ...             ...  \n",
       "862  2019-06-28            -1.488752       gdp       predicted  \n",
       "863  2019-06-04            -1.486129       gdp       predicted  \n",
       "864  2019-05-28            -1.494717       gdp       predicted  \n",
       "865  2019-05-23            -0.052256       gdp       predicted  \n",
       "866  2019-05-20            -1.423904       gdp       predicted  \n",
       "\n",
       "[271 rows x 7 columns]"
      ]
     },
     "execution_count": 146,
     "metadata": {},
     "output_type": "execute_result"
    }
   ],
   "source": [
    "senti_df = combined_senti_df.query(' indicator == \"gdp\" ')\n",
    "senti_df"
   ]
  },
  {
   "cell_type": "code",
   "execution_count": 149,
   "metadata": {},
   "outputs": [
    {
     "data": {
      "text/html": [
       "<div>\n",
       "<style scoped>\n",
       "    .dataframe tbody tr th:only-of-type {\n",
       "        vertical-align: middle;\n",
       "    }\n",
       "\n",
       "    .dataframe tbody tr th {\n",
       "        vertical-align: top;\n",
       "    }\n",
       "\n",
       "    .dataframe thead th {\n",
       "        text-align: right;\n",
       "    }\n",
       "</style>\n",
       "<table border=\"1\" class=\"dataframe\">\n",
       "  <thead>\n",
       "    <tr style=\"text-align: right;\">\n",
       "      <th></th>\n",
       "      <th>monthly_avg_sent_score</th>\n",
       "    </tr>\n",
       "    <tr>\n",
       "      <th>publishedAt</th>\n",
       "      <th></th>\n",
       "    </tr>\n",
       "  </thead>\n",
       "  <tbody>\n",
       "    <tr>\n",
       "      <th>2018-03-31</th>\n",
       "      <td>-1.500000</td>\n",
       "    </tr>\n",
       "    <tr>\n",
       "      <th>2018-04-30</th>\n",
       "      <td>-1.500000</td>\n",
       "    </tr>\n",
       "    <tr>\n",
       "      <th>2018-05-31</th>\n",
       "      <td>1.500000</td>\n",
       "    </tr>\n",
       "    <tr>\n",
       "      <th>2018-06-30</th>\n",
       "      <td>0.000000</td>\n",
       "    </tr>\n",
       "    <tr>\n",
       "      <th>2018-07-31</th>\n",
       "      <td>1.500000</td>\n",
       "    </tr>\n",
       "    <tr>\n",
       "      <th>2018-08-31</th>\n",
       "      <td>0.500000</td>\n",
       "    </tr>\n",
       "    <tr>\n",
       "      <th>2018-09-30</th>\n",
       "      <td>1.000000</td>\n",
       "    </tr>\n",
       "    <tr>\n",
       "      <th>2018-10-31</th>\n",
       "      <td>-0.500000</td>\n",
       "    </tr>\n",
       "    <tr>\n",
       "      <th>2018-11-30</th>\n",
       "      <td>0.000000</td>\n",
       "    </tr>\n",
       "    <tr>\n",
       "      <th>2018-12-31</th>\n",
       "      <td>0.500000</td>\n",
       "    </tr>\n",
       "    <tr>\n",
       "      <th>2019-01-31</th>\n",
       "      <td>-1.000000</td>\n",
       "    </tr>\n",
       "    <tr>\n",
       "      <th>2019-02-28</th>\n",
       "      <td>-0.500000</td>\n",
       "    </tr>\n",
       "    <tr>\n",
       "      <th>2019-03-31</th>\n",
       "      <td>-1.500000</td>\n",
       "    </tr>\n",
       "    <tr>\n",
       "      <th>2019-04-30</th>\n",
       "      <td>-0.561661</td>\n",
       "    </tr>\n",
       "    <tr>\n",
       "      <th>2019-05-31</th>\n",
       "      <td>-0.353430</td>\n",
       "    </tr>\n",
       "    <tr>\n",
       "      <th>2019-06-30</th>\n",
       "      <td>-0.105021</td>\n",
       "    </tr>\n",
       "    <tr>\n",
       "      <th>2019-07-31</th>\n",
       "      <td>-0.223793</td>\n",
       "    </tr>\n",
       "    <tr>\n",
       "      <th>2019-08-31</th>\n",
       "      <td>-0.676671</td>\n",
       "    </tr>\n",
       "    <tr>\n",
       "      <th>2019-09-30</th>\n",
       "      <td>-0.426600</td>\n",
       "    </tr>\n",
       "    <tr>\n",
       "      <th>2019-10-31</th>\n",
       "      <td>-0.207944</td>\n",
       "    </tr>\n",
       "    <tr>\n",
       "      <th>2019-11-30</th>\n",
       "      <td>-0.907977</td>\n",
       "    </tr>\n",
       "    <tr>\n",
       "      <th>2019-12-31</th>\n",
       "      <td>-0.080211</td>\n",
       "    </tr>\n",
       "    <tr>\n",
       "      <th>2020-01-31</th>\n",
       "      <td>-0.327418</td>\n",
       "    </tr>\n",
       "    <tr>\n",
       "      <th>2020-02-29</th>\n",
       "      <td>-0.943168</td>\n",
       "    </tr>\n",
       "    <tr>\n",
       "      <th>2020-03-31</th>\n",
       "      <td>-1.201720</td>\n",
       "    </tr>\n",
       "    <tr>\n",
       "      <th>2020-04-30</th>\n",
       "      <td>-1.036362</td>\n",
       "    </tr>\n",
       "    <tr>\n",
       "      <th>2020-05-31</th>\n",
       "      <td>-1.135940</td>\n",
       "    </tr>\n",
       "  </tbody>\n",
       "</table>\n",
       "</div>"
      ],
      "text/plain": [
       "             monthly_avg_sent_score\n",
       "publishedAt                        \n",
       "2018-03-31                -1.500000\n",
       "2018-04-30                -1.500000\n",
       "2018-05-31                 1.500000\n",
       "2018-06-30                 0.000000\n",
       "2018-07-31                 1.500000\n",
       "2018-08-31                 0.500000\n",
       "2018-09-30                 1.000000\n",
       "2018-10-31                -0.500000\n",
       "2018-11-30                 0.000000\n",
       "2018-12-31                 0.500000\n",
       "2019-01-31                -1.000000\n",
       "2019-02-28                -0.500000\n",
       "2019-03-31                -1.500000\n",
       "2019-04-30                -0.561661\n",
       "2019-05-31                -0.353430\n",
       "2019-06-30                -0.105021\n",
       "2019-07-31                -0.223793\n",
       "2019-08-31                -0.676671\n",
       "2019-09-30                -0.426600\n",
       "2019-10-31                -0.207944\n",
       "2019-11-30                -0.907977\n",
       "2019-12-31                -0.080211\n",
       "2020-01-31                -0.327418\n",
       "2020-02-29                -0.943168\n",
       "2020-03-31                -1.201720\n",
       "2020-04-30                -1.036362\n",
       "2020-05-31                -1.135940"
      ]
     },
     "execution_count": 149,
     "metadata": {},
     "output_type": "execute_result"
    }
   ],
   "source": [
    "monthly_senti_df_gdp =get_monthly_avg_score(combined_senti_df.query('indicator==\"gdp\" '))\n",
    "monthly_senti_df_gdp"
   ]
  },
  {
   "cell_type": "code",
   "execution_count": 151,
   "metadata": {},
   "outputs": [
    {
     "data": {
      "text/html": [
       "<div>\n",
       "<style scoped>\n",
       "    .dataframe tbody tr th:only-of-type {\n",
       "        vertical-align: middle;\n",
       "    }\n",
       "\n",
       "    .dataframe tbody tr th {\n",
       "        vertical-align: top;\n",
       "    }\n",
       "\n",
       "    .dataframe thead th {\n",
       "        text-align: right;\n",
       "    }\n",
       "</style>\n",
       "<table border=\"1\" class=\"dataframe\">\n",
       "  <thead>\n",
       "    <tr style=\"text-align: right;\">\n",
       "      <th></th>\n",
       "      <th>monthly_avg_sent_score</th>\n",
       "    </tr>\n",
       "    <tr>\n",
       "      <th>publishedAt</th>\n",
       "      <th></th>\n",
       "    </tr>\n",
       "  </thead>\n",
       "  <tbody>\n",
       "    <tr>\n",
       "      <th>2018-03-31</th>\n",
       "      <td>-1.500000</td>\n",
       "    </tr>\n",
       "    <tr>\n",
       "      <th>2018-04-30</th>\n",
       "      <td>-1.500000</td>\n",
       "    </tr>\n",
       "    <tr>\n",
       "      <th>2018-05-31</th>\n",
       "      <td>1.500000</td>\n",
       "    </tr>\n",
       "    <tr>\n",
       "      <th>2018-06-30</th>\n",
       "      <td>0.000000</td>\n",
       "    </tr>\n",
       "    <tr>\n",
       "      <th>2018-07-31</th>\n",
       "      <td>1.500000</td>\n",
       "    </tr>\n",
       "    <tr>\n",
       "      <th>2018-08-31</th>\n",
       "      <td>0.500000</td>\n",
       "    </tr>\n",
       "    <tr>\n",
       "      <th>2018-09-30</th>\n",
       "      <td>1.000000</td>\n",
       "    </tr>\n",
       "    <tr>\n",
       "      <th>2018-10-31</th>\n",
       "      <td>-0.500000</td>\n",
       "    </tr>\n",
       "    <tr>\n",
       "      <th>2018-11-30</th>\n",
       "      <td>0.000000</td>\n",
       "    </tr>\n",
       "    <tr>\n",
       "      <th>2018-12-31</th>\n",
       "      <td>0.500000</td>\n",
       "    </tr>\n",
       "    <tr>\n",
       "      <th>2019-01-31</th>\n",
       "      <td>-1.000000</td>\n",
       "    </tr>\n",
       "    <tr>\n",
       "      <th>2019-02-28</th>\n",
       "      <td>-0.500000</td>\n",
       "    </tr>\n",
       "    <tr>\n",
       "      <th>2019-03-31</th>\n",
       "      <td>-1.500000</td>\n",
       "    </tr>\n",
       "    <tr>\n",
       "      <th>2019-04-30</th>\n",
       "      <td>-0.561661</td>\n",
       "    </tr>\n",
       "    <tr>\n",
       "      <th>2019-05-31</th>\n",
       "      <td>-0.353430</td>\n",
       "    </tr>\n",
       "    <tr>\n",
       "      <th>2019-06-30</th>\n",
       "      <td>-0.105021</td>\n",
       "    </tr>\n",
       "    <tr>\n",
       "      <th>2019-07-31</th>\n",
       "      <td>-0.223793</td>\n",
       "    </tr>\n",
       "    <tr>\n",
       "      <th>2019-08-31</th>\n",
       "      <td>-0.676671</td>\n",
       "    </tr>\n",
       "    <tr>\n",
       "      <th>2019-09-30</th>\n",
       "      <td>-0.426600</td>\n",
       "    </tr>\n",
       "    <tr>\n",
       "      <th>2019-10-31</th>\n",
       "      <td>-0.207944</td>\n",
       "    </tr>\n",
       "    <tr>\n",
       "      <th>2019-11-30</th>\n",
       "      <td>-0.907977</td>\n",
       "    </tr>\n",
       "    <tr>\n",
       "      <th>2019-12-31</th>\n",
       "      <td>-0.080211</td>\n",
       "    </tr>\n",
       "    <tr>\n",
       "      <th>2020-01-31</th>\n",
       "      <td>-0.327418</td>\n",
       "    </tr>\n",
       "    <tr>\n",
       "      <th>2020-02-29</th>\n",
       "      <td>-0.943168</td>\n",
       "    </tr>\n",
       "    <tr>\n",
       "      <th>2020-03-31</th>\n",
       "      <td>-1.201720</td>\n",
       "    </tr>\n",
       "    <tr>\n",
       "      <th>2020-04-30</th>\n",
       "      <td>-1.036362</td>\n",
       "    </tr>\n",
       "    <tr>\n",
       "      <th>2020-05-31</th>\n",
       "      <td>-1.135940</td>\n",
       "    </tr>\n",
       "  </tbody>\n",
       "</table>\n",
       "</div>"
      ],
      "text/plain": [
       "             monthly_avg_sent_score\n",
       "publishedAt                        \n",
       "2018-03-31                -1.500000\n",
       "2018-04-30                -1.500000\n",
       "2018-05-31                 1.500000\n",
       "2018-06-30                 0.000000\n",
       "2018-07-31                 1.500000\n",
       "2018-08-31                 0.500000\n",
       "2018-09-30                 1.000000\n",
       "2018-10-31                -0.500000\n",
       "2018-11-30                 0.000000\n",
       "2018-12-31                 0.500000\n",
       "2019-01-31                -1.000000\n",
       "2019-02-28                -0.500000\n",
       "2019-03-31                -1.500000\n",
       "2019-04-30                -0.561661\n",
       "2019-05-31                -0.353430\n",
       "2019-06-30                -0.105021\n",
       "2019-07-31                -0.223793\n",
       "2019-08-31                -0.676671\n",
       "2019-09-30                -0.426600\n",
       "2019-10-31                -0.207944\n",
       "2019-11-30                -0.907977\n",
       "2019-12-31                -0.080211\n",
       "2020-01-31                -0.327418\n",
       "2020-02-29                -0.943168\n",
       "2020-03-31                -1.201720\n",
       "2020-04-30                -1.036362\n",
       "2020-05-31                -1.135940"
      ]
     },
     "execution_count": 151,
     "metadata": {},
     "output_type": "execute_result"
    }
   ],
   "source": [
    "get_monthly_avg_score(combined_senti_df.query('indicator==\"gdp\" ')).rename(columns={'raw_sentiment_score':'final_sentiment'} )"
   ]
  },
  {
   "cell_type": "code",
   "execution_count": 188,
   "metadata": {
    "scrolled": true
   },
   "outputs": [
    {
     "data": {
      "application/vnd.plotly.v1+json": {
       "config": {
        "plotlyServerURL": "https://plot.ly"
       },
       "data": [
        {
         "fill": "tonexty",
         "line": {
          "color": "blue"
         },
         "mode": "lines",
         "name": "Chained (2012) Dollars (seasonally adjusted)",
         "type": "scatter",
         "x": [
          "2019-01-01T00:00:00",
          "2019-02-01T00:00:00",
          "2019-03-01T00:00:00",
          "2019-04-01T00:00:00",
          "2019-05-01T00:00:00",
          "2019-06-01T00:00:00",
          "2019-07-01T00:00:00",
          "2019-08-01T00:00:00",
          "2019-09-01T00:00:00",
          "2019-10-01T00:00:00",
          "2019-11-01T00:00:00",
          "2019-12-01T00:00:00",
          "2020-01-01T00:00:00",
          "2020-02-01T00:00:00",
          "2020-03-01T00:00:00"
         ],
         "xaxis": "x",
         "y": [
          1952558000000,
          1948783000000,
          1961298000000,
          1966131000000,
          1971712000000,
          1976472000000,
          1977236000000,
          1980198000000,
          1981077000000,
          1980711000000,
          1981970000000,
          1987713000000,
          1988839000000,
          1990433000000,
          1846869000000
         ],
         "yaxis": "y"
        },
        {
         "line": {
          "color": "orange"
         },
         "name": "test sentiment",
         "type": "scatter",
         "x": [
          "2018-03-31T00:00:00",
          "2018-04-30T00:00:00",
          "2018-05-31T00:00:00",
          "2018-06-30T00:00:00",
          "2018-07-31T00:00:00",
          "2018-08-31T00:00:00",
          "2018-09-30T00:00:00",
          "2018-10-31T00:00:00",
          "2018-11-30T00:00:00",
          "2018-12-31T00:00:00",
          "2019-01-31T00:00:00",
          "2019-02-28T00:00:00",
          "2019-03-31T00:00:00",
          "2019-04-30T00:00:00",
          "2019-05-31T00:00:00",
          "2019-06-30T00:00:00",
          "2019-07-31T00:00:00",
          "2019-08-31T00:00:00",
          "2019-09-30T00:00:00",
          "2019-10-31T00:00:00",
          "2019-11-30T00:00:00",
          "2019-12-31T00:00:00",
          "2020-01-31T00:00:00",
          "2020-02-29T00:00:00",
          "2020-03-31T00:00:00",
          "2020-04-30T00:00:00",
          "2020-05-31T00:00:00"
         ],
         "xaxis": "x",
         "y": [
          -1.5,
          -1.5,
          1.5,
          0,
          1.5,
          0.5,
          1,
          -0.5,
          0,
          0.5,
          -1,
          -0.5,
          -1.5,
          -0.5616605477407575,
          -0.353429545648396,
          -0.10502138237158458,
          -0.22379278678160447,
          -0.6766710084463868,
          -0.4265999612600907,
          -0.20794446495710872,
          -0.9079772007962068,
          -0.08021123036742209,
          -0.3274175450205803,
          -0.9431677386164665,
          -1.2017196685135845,
          -1.0363618203476574,
          -1.135940380766988
         ],
         "yaxis": "y2"
        }
       ],
       "layout": {
        "template": {
         "data": {
          "bar": [
           {
            "error_x": {
             "color": "#2a3f5f"
            },
            "error_y": {
             "color": "#2a3f5f"
            },
            "marker": {
             "line": {
              "color": "#E5ECF6",
              "width": 0.5
             }
            },
            "type": "bar"
           }
          ],
          "barpolar": [
           {
            "marker": {
             "line": {
              "color": "#E5ECF6",
              "width": 0.5
             }
            },
            "type": "barpolar"
           }
          ],
          "carpet": [
           {
            "aaxis": {
             "endlinecolor": "#2a3f5f",
             "gridcolor": "white",
             "linecolor": "white",
             "minorgridcolor": "white",
             "startlinecolor": "#2a3f5f"
            },
            "baxis": {
             "endlinecolor": "#2a3f5f",
             "gridcolor": "white",
             "linecolor": "white",
             "minorgridcolor": "white",
             "startlinecolor": "#2a3f5f"
            },
            "type": "carpet"
           }
          ],
          "choropleth": [
           {
            "colorbar": {
             "outlinewidth": 0,
             "ticks": ""
            },
            "type": "choropleth"
           }
          ],
          "contour": [
           {
            "colorbar": {
             "outlinewidth": 0,
             "ticks": ""
            },
            "colorscale": [
             [
              0,
              "#0d0887"
             ],
             [
              0.1111111111111111,
              "#46039f"
             ],
             [
              0.2222222222222222,
              "#7201a8"
             ],
             [
              0.3333333333333333,
              "#9c179e"
             ],
             [
              0.4444444444444444,
              "#bd3786"
             ],
             [
              0.5555555555555556,
              "#d8576b"
             ],
             [
              0.6666666666666666,
              "#ed7953"
             ],
             [
              0.7777777777777778,
              "#fb9f3a"
             ],
             [
              0.8888888888888888,
              "#fdca26"
             ],
             [
              1,
              "#f0f921"
             ]
            ],
            "type": "contour"
           }
          ],
          "contourcarpet": [
           {
            "colorbar": {
             "outlinewidth": 0,
             "ticks": ""
            },
            "type": "contourcarpet"
           }
          ],
          "heatmap": [
           {
            "colorbar": {
             "outlinewidth": 0,
             "ticks": ""
            },
            "colorscale": [
             [
              0,
              "#0d0887"
             ],
             [
              0.1111111111111111,
              "#46039f"
             ],
             [
              0.2222222222222222,
              "#7201a8"
             ],
             [
              0.3333333333333333,
              "#9c179e"
             ],
             [
              0.4444444444444444,
              "#bd3786"
             ],
             [
              0.5555555555555556,
              "#d8576b"
             ],
             [
              0.6666666666666666,
              "#ed7953"
             ],
             [
              0.7777777777777778,
              "#fb9f3a"
             ],
             [
              0.8888888888888888,
              "#fdca26"
             ],
             [
              1,
              "#f0f921"
             ]
            ],
            "type": "heatmap"
           }
          ],
          "heatmapgl": [
           {
            "colorbar": {
             "outlinewidth": 0,
             "ticks": ""
            },
            "colorscale": [
             [
              0,
              "#0d0887"
             ],
             [
              0.1111111111111111,
              "#46039f"
             ],
             [
              0.2222222222222222,
              "#7201a8"
             ],
             [
              0.3333333333333333,
              "#9c179e"
             ],
             [
              0.4444444444444444,
              "#bd3786"
             ],
             [
              0.5555555555555556,
              "#d8576b"
             ],
             [
              0.6666666666666666,
              "#ed7953"
             ],
             [
              0.7777777777777778,
              "#fb9f3a"
             ],
             [
              0.8888888888888888,
              "#fdca26"
             ],
             [
              1,
              "#f0f921"
             ]
            ],
            "type": "heatmapgl"
           }
          ],
          "histogram": [
           {
            "marker": {
             "colorbar": {
              "outlinewidth": 0,
              "ticks": ""
             }
            },
            "type": "histogram"
           }
          ],
          "histogram2d": [
           {
            "colorbar": {
             "outlinewidth": 0,
             "ticks": ""
            },
            "colorscale": [
             [
              0,
              "#0d0887"
             ],
             [
              0.1111111111111111,
              "#46039f"
             ],
             [
              0.2222222222222222,
              "#7201a8"
             ],
             [
              0.3333333333333333,
              "#9c179e"
             ],
             [
              0.4444444444444444,
              "#bd3786"
             ],
             [
              0.5555555555555556,
              "#d8576b"
             ],
             [
              0.6666666666666666,
              "#ed7953"
             ],
             [
              0.7777777777777778,
              "#fb9f3a"
             ],
             [
              0.8888888888888888,
              "#fdca26"
             ],
             [
              1,
              "#f0f921"
             ]
            ],
            "type": "histogram2d"
           }
          ],
          "histogram2dcontour": [
           {
            "colorbar": {
             "outlinewidth": 0,
             "ticks": ""
            },
            "colorscale": [
             [
              0,
              "#0d0887"
             ],
             [
              0.1111111111111111,
              "#46039f"
             ],
             [
              0.2222222222222222,
              "#7201a8"
             ],
             [
              0.3333333333333333,
              "#9c179e"
             ],
             [
              0.4444444444444444,
              "#bd3786"
             ],
             [
              0.5555555555555556,
              "#d8576b"
             ],
             [
              0.6666666666666666,
              "#ed7953"
             ],
             [
              0.7777777777777778,
              "#fb9f3a"
             ],
             [
              0.8888888888888888,
              "#fdca26"
             ],
             [
              1,
              "#f0f921"
             ]
            ],
            "type": "histogram2dcontour"
           }
          ],
          "mesh3d": [
           {
            "colorbar": {
             "outlinewidth": 0,
             "ticks": ""
            },
            "type": "mesh3d"
           }
          ],
          "parcoords": [
           {
            "line": {
             "colorbar": {
              "outlinewidth": 0,
              "ticks": ""
             }
            },
            "type": "parcoords"
           }
          ],
          "pie": [
           {
            "automargin": true,
            "type": "pie"
           }
          ],
          "scatter": [
           {
            "marker": {
             "colorbar": {
              "outlinewidth": 0,
              "ticks": ""
             }
            },
            "type": "scatter"
           }
          ],
          "scatter3d": [
           {
            "line": {
             "colorbar": {
              "outlinewidth": 0,
              "ticks": ""
             }
            },
            "marker": {
             "colorbar": {
              "outlinewidth": 0,
              "ticks": ""
             }
            },
            "type": "scatter3d"
           }
          ],
          "scattercarpet": [
           {
            "marker": {
             "colorbar": {
              "outlinewidth": 0,
              "ticks": ""
             }
            },
            "type": "scattercarpet"
           }
          ],
          "scattergeo": [
           {
            "marker": {
             "colorbar": {
              "outlinewidth": 0,
              "ticks": ""
             }
            },
            "type": "scattergeo"
           }
          ],
          "scattergl": [
           {
            "marker": {
             "colorbar": {
              "outlinewidth": 0,
              "ticks": ""
             }
            },
            "type": "scattergl"
           }
          ],
          "scattermapbox": [
           {
            "marker": {
             "colorbar": {
              "outlinewidth": 0,
              "ticks": ""
             }
            },
            "type": "scattermapbox"
           }
          ],
          "scatterpolar": [
           {
            "marker": {
             "colorbar": {
              "outlinewidth": 0,
              "ticks": ""
             }
            },
            "type": "scatterpolar"
           }
          ],
          "scatterpolargl": [
           {
            "marker": {
             "colorbar": {
              "outlinewidth": 0,
              "ticks": ""
             }
            },
            "type": "scatterpolargl"
           }
          ],
          "scatterternary": [
           {
            "marker": {
             "colorbar": {
              "outlinewidth": 0,
              "ticks": ""
             }
            },
            "type": "scatterternary"
           }
          ],
          "surface": [
           {
            "colorbar": {
             "outlinewidth": 0,
             "ticks": ""
            },
            "colorscale": [
             [
              0,
              "#0d0887"
             ],
             [
              0.1111111111111111,
              "#46039f"
             ],
             [
              0.2222222222222222,
              "#7201a8"
             ],
             [
              0.3333333333333333,
              "#9c179e"
             ],
             [
              0.4444444444444444,
              "#bd3786"
             ],
             [
              0.5555555555555556,
              "#d8576b"
             ],
             [
              0.6666666666666666,
              "#ed7953"
             ],
             [
              0.7777777777777778,
              "#fb9f3a"
             ],
             [
              0.8888888888888888,
              "#fdca26"
             ],
             [
              1,
              "#f0f921"
             ]
            ],
            "type": "surface"
           }
          ],
          "table": [
           {
            "cells": {
             "fill": {
              "color": "#EBF0F8"
             },
             "line": {
              "color": "white"
             }
            },
            "header": {
             "fill": {
              "color": "#C8D4E3"
             },
             "line": {
              "color": "white"
             }
            },
            "type": "table"
           }
          ]
         },
         "layout": {
          "annotationdefaults": {
           "arrowcolor": "#2a3f5f",
           "arrowhead": 0,
           "arrowwidth": 1
          },
          "coloraxis": {
           "colorbar": {
            "outlinewidth": 0,
            "ticks": ""
           }
          },
          "colorscale": {
           "diverging": [
            [
             0,
             "#8e0152"
            ],
            [
             0.1,
             "#c51b7d"
            ],
            [
             0.2,
             "#de77ae"
            ],
            [
             0.3,
             "#f1b6da"
            ],
            [
             0.4,
             "#fde0ef"
            ],
            [
             0.5,
             "#f7f7f7"
            ],
            [
             0.6,
             "#e6f5d0"
            ],
            [
             0.7,
             "#b8e186"
            ],
            [
             0.8,
             "#7fbc41"
            ],
            [
             0.9,
             "#4d9221"
            ],
            [
             1,
             "#276419"
            ]
           ],
           "sequential": [
            [
             0,
             "#0d0887"
            ],
            [
             0.1111111111111111,
             "#46039f"
            ],
            [
             0.2222222222222222,
             "#7201a8"
            ],
            [
             0.3333333333333333,
             "#9c179e"
            ],
            [
             0.4444444444444444,
             "#bd3786"
            ],
            [
             0.5555555555555556,
             "#d8576b"
            ],
            [
             0.6666666666666666,
             "#ed7953"
            ],
            [
             0.7777777777777778,
             "#fb9f3a"
            ],
            [
             0.8888888888888888,
             "#fdca26"
            ],
            [
             1,
             "#f0f921"
            ]
           ],
           "sequentialminus": [
            [
             0,
             "#0d0887"
            ],
            [
             0.1111111111111111,
             "#46039f"
            ],
            [
             0.2222222222222222,
             "#7201a8"
            ],
            [
             0.3333333333333333,
             "#9c179e"
            ],
            [
             0.4444444444444444,
             "#bd3786"
            ],
            [
             0.5555555555555556,
             "#d8576b"
            ],
            [
             0.6666666666666666,
             "#ed7953"
            ],
            [
             0.7777777777777778,
             "#fb9f3a"
            ],
            [
             0.8888888888888888,
             "#fdca26"
            ],
            [
             1,
             "#f0f921"
            ]
           ]
          },
          "colorway": [
           "#636efa",
           "#EF553B",
           "#00cc96",
           "#ab63fa",
           "#FFA15A",
           "#19d3f3",
           "#FF6692",
           "#B6E880",
           "#FF97FF",
           "#FECB52"
          ],
          "font": {
           "color": "#2a3f5f"
          },
          "geo": {
           "bgcolor": "white",
           "lakecolor": "white",
           "landcolor": "#E5ECF6",
           "showlakes": true,
           "showland": true,
           "subunitcolor": "white"
          },
          "hoverlabel": {
           "align": "left"
          },
          "hovermode": "closest",
          "mapbox": {
           "style": "light"
          },
          "paper_bgcolor": "white",
          "plot_bgcolor": "#E5ECF6",
          "polar": {
           "angularaxis": {
            "gridcolor": "white",
            "linecolor": "white",
            "ticks": ""
           },
           "bgcolor": "#E5ECF6",
           "radialaxis": {
            "gridcolor": "white",
            "linecolor": "white",
            "ticks": ""
           }
          },
          "scene": {
           "xaxis": {
            "backgroundcolor": "#E5ECF6",
            "gridcolor": "white",
            "gridwidth": 2,
            "linecolor": "white",
            "showbackground": true,
            "ticks": "",
            "zerolinecolor": "white"
           },
           "yaxis": {
            "backgroundcolor": "#E5ECF6",
            "gridcolor": "white",
            "gridwidth": 2,
            "linecolor": "white",
            "showbackground": true,
            "ticks": "",
            "zerolinecolor": "white"
           },
           "zaxis": {
            "backgroundcolor": "#E5ECF6",
            "gridcolor": "white",
            "gridwidth": 2,
            "linecolor": "white",
            "showbackground": true,
            "ticks": "",
            "zerolinecolor": "white"
           }
          },
          "shapedefaults": {
           "line": {
            "color": "#2a3f5f"
           }
          },
          "ternary": {
           "aaxis": {
            "gridcolor": "white",
            "linecolor": "white",
            "ticks": ""
           },
           "baxis": {
            "gridcolor": "white",
            "linecolor": "white",
            "ticks": ""
           },
           "bgcolor": "#E5ECF6",
           "caxis": {
            "gridcolor": "white",
            "linecolor": "white",
            "ticks": ""
           }
          },
          "title": {
           "x": 0.05
          },
          "xaxis": {
           "automargin": true,
           "gridcolor": "white",
           "linecolor": "white",
           "ticks": "",
           "title": {
            "standoff": 15
           },
           "zerolinecolor": "white",
           "zerolinewidth": 2
          },
          "yaxis": {
           "automargin": true,
           "gridcolor": "white",
           "linecolor": "white",
           "ticks": "",
           "title": {
            "standoff": 15
           },
           "zerolinecolor": "white",
           "zerolinewidth": 2
          }
         }
        },
        "title": {
         "text": "GDP VS news sentiment "
        },
        "xaxis": {
         "anchor": "y",
         "domain": [
          0,
          0.94
         ],
         "range": [
          "2019-01-01T00:00:00",
          "2020-03-01T00:00:00"
         ],
         "rangeslider": {
          "visible": true
         },
         "title": {
          "text": "Date"
         }
        },
        "yaxis": {
         "anchor": "x",
         "autorange": false,
         "domain": [
          0,
          1
         ],
         "range": [
          1846868999999.9,
          1990433000000.1
         ],
         "title": {
          "text": "Chained (2012) Dollars (seasonally adjusted)"
         }
        },
        "yaxis2": {
         "anchor": "x",
         "overlaying": "y",
         "range": [
          -2.5,
          2.5
         ],
         "side": "right",
         "title": {
          "text": "Sentiment Score"
         }
        }
       }
      },
      "text/html": [
       "<div>\n",
       "        \n",
       "        \n",
       "            <div id=\"09039271-db57-4ce4-a1b9-0eec00f5c511\" class=\"plotly-graph-div\" style=\"height:525px; width:100%;\"></div>\n",
       "            <script type=\"text/javascript\">\n",
       "                require([\"plotly\"], function(Plotly) {\n",
       "                    window.PLOTLYENV=window.PLOTLYENV || {};\n",
       "                    \n",
       "                if (document.getElementById(\"09039271-db57-4ce4-a1b9-0eec00f5c511\")) {\n",
       "                    Plotly.newPlot(\n",
       "                        '09039271-db57-4ce4-a1b9-0eec00f5c511',\n",
       "                        [{\"fill\": \"tonexty\", \"line\": {\"color\": \"blue\"}, \"mode\": \"lines\", \"name\": \"Chained (2012) Dollars (seasonally adjusted)\", \"type\": \"scatter\", \"x\": [\"2019-01-01T00:00:00\", \"2019-02-01T00:00:00\", \"2019-03-01T00:00:00\", \"2019-04-01T00:00:00\", \"2019-05-01T00:00:00\", \"2019-06-01T00:00:00\", \"2019-07-01T00:00:00\", \"2019-08-01T00:00:00\", \"2019-09-01T00:00:00\", \"2019-10-01T00:00:00\", \"2019-11-01T00:00:00\", \"2019-12-01T00:00:00\", \"2020-01-01T00:00:00\", \"2020-02-01T00:00:00\", \"2020-03-01T00:00:00\"], \"xaxis\": \"x\", \"y\": [1952558000000.0, 1948783000000.0, 1961298000000.0, 1966131000000.0, 1971712000000.0, 1976472000000.0, 1977236000000.0, 1980198000000.0, 1981077000000.0, 1980711000000.0, 1981970000000.0, 1987713000000.0, 1988839000000.0, 1990433000000.0, 1846869000000.0], \"yaxis\": \"y\"}, {\"line\": {\"color\": \"orange\"}, \"name\": \"test sentiment\", \"type\": \"scatter\", \"x\": [\"2018-03-31T00:00:00\", \"2018-04-30T00:00:00\", \"2018-05-31T00:00:00\", \"2018-06-30T00:00:00\", \"2018-07-31T00:00:00\", \"2018-08-31T00:00:00\", \"2018-09-30T00:00:00\", \"2018-10-31T00:00:00\", \"2018-11-30T00:00:00\", \"2018-12-31T00:00:00\", \"2019-01-31T00:00:00\", \"2019-02-28T00:00:00\", \"2019-03-31T00:00:00\", \"2019-04-30T00:00:00\", \"2019-05-31T00:00:00\", \"2019-06-30T00:00:00\", \"2019-07-31T00:00:00\", \"2019-08-31T00:00:00\", \"2019-09-30T00:00:00\", \"2019-10-31T00:00:00\", \"2019-11-30T00:00:00\", \"2019-12-31T00:00:00\", \"2020-01-31T00:00:00\", \"2020-02-29T00:00:00\", \"2020-03-31T00:00:00\", \"2020-04-30T00:00:00\", \"2020-05-31T00:00:00\"], \"xaxis\": \"x\", \"y\": [-1.5, -1.5, 1.5, 0.0, 1.5, 0.5, 1.0, -0.5, 0.0, 0.5, -1.0, -0.5, -1.5, -0.5616605477407575, -0.353429545648396, -0.10502138237158458, -0.22379278678160447, -0.6766710084463868, -0.4265999612600907, -0.20794446495710872, -0.9079772007962068, -0.08021123036742209, -0.3274175450205803, -0.9431677386164665, -1.2017196685135845, -1.0363618203476574, -1.135940380766988], \"yaxis\": \"y2\"}],\n",
       "                        {\"template\": {\"data\": {\"bar\": [{\"error_x\": {\"color\": \"#2a3f5f\"}, \"error_y\": {\"color\": \"#2a3f5f\"}, \"marker\": {\"line\": {\"color\": \"#E5ECF6\", \"width\": 0.5}}, \"type\": \"bar\"}], \"barpolar\": [{\"marker\": {\"line\": {\"color\": \"#E5ECF6\", \"width\": 0.5}}, \"type\": \"barpolar\"}], \"carpet\": [{\"aaxis\": {\"endlinecolor\": \"#2a3f5f\", \"gridcolor\": \"white\", \"linecolor\": \"white\", \"minorgridcolor\": \"white\", \"startlinecolor\": \"#2a3f5f\"}, \"baxis\": {\"endlinecolor\": \"#2a3f5f\", \"gridcolor\": \"white\", \"linecolor\": \"white\", \"minorgridcolor\": \"white\", \"startlinecolor\": \"#2a3f5f\"}, \"type\": \"carpet\"}], \"choropleth\": [{\"colorbar\": {\"outlinewidth\": 0, \"ticks\": \"\"}, \"type\": \"choropleth\"}], \"contour\": [{\"colorbar\": {\"outlinewidth\": 0, \"ticks\": \"\"}, \"colorscale\": [[0.0, \"#0d0887\"], [0.1111111111111111, \"#46039f\"], [0.2222222222222222, \"#7201a8\"], [0.3333333333333333, \"#9c179e\"], [0.4444444444444444, \"#bd3786\"], [0.5555555555555556, \"#d8576b\"], [0.6666666666666666, \"#ed7953\"], [0.7777777777777778, \"#fb9f3a\"], [0.8888888888888888, \"#fdca26\"], [1.0, \"#f0f921\"]], \"type\": \"contour\"}], \"contourcarpet\": [{\"colorbar\": {\"outlinewidth\": 0, \"ticks\": \"\"}, \"type\": \"contourcarpet\"}], \"heatmap\": [{\"colorbar\": {\"outlinewidth\": 0, \"ticks\": \"\"}, \"colorscale\": [[0.0, \"#0d0887\"], [0.1111111111111111, \"#46039f\"], [0.2222222222222222, \"#7201a8\"], [0.3333333333333333, \"#9c179e\"], [0.4444444444444444, \"#bd3786\"], [0.5555555555555556, \"#d8576b\"], [0.6666666666666666, \"#ed7953\"], [0.7777777777777778, \"#fb9f3a\"], [0.8888888888888888, \"#fdca26\"], [1.0, \"#f0f921\"]], \"type\": \"heatmap\"}], \"heatmapgl\": [{\"colorbar\": {\"outlinewidth\": 0, \"ticks\": \"\"}, \"colorscale\": [[0.0, \"#0d0887\"], [0.1111111111111111, \"#46039f\"], [0.2222222222222222, \"#7201a8\"], [0.3333333333333333, \"#9c179e\"], [0.4444444444444444, \"#bd3786\"], [0.5555555555555556, \"#d8576b\"], [0.6666666666666666, \"#ed7953\"], [0.7777777777777778, \"#fb9f3a\"], [0.8888888888888888, \"#fdca26\"], [1.0, \"#f0f921\"]], \"type\": \"heatmapgl\"}], \"histogram\": [{\"marker\": {\"colorbar\": {\"outlinewidth\": 0, \"ticks\": \"\"}}, \"type\": \"histogram\"}], \"histogram2d\": [{\"colorbar\": {\"outlinewidth\": 0, \"ticks\": \"\"}, \"colorscale\": [[0.0, \"#0d0887\"], [0.1111111111111111, \"#46039f\"], [0.2222222222222222, \"#7201a8\"], [0.3333333333333333, \"#9c179e\"], [0.4444444444444444, \"#bd3786\"], [0.5555555555555556, \"#d8576b\"], [0.6666666666666666, \"#ed7953\"], [0.7777777777777778, \"#fb9f3a\"], [0.8888888888888888, \"#fdca26\"], [1.0, \"#f0f921\"]], \"type\": \"histogram2d\"}], \"histogram2dcontour\": [{\"colorbar\": {\"outlinewidth\": 0, \"ticks\": \"\"}, \"colorscale\": [[0.0, \"#0d0887\"], [0.1111111111111111, \"#46039f\"], [0.2222222222222222, \"#7201a8\"], [0.3333333333333333, \"#9c179e\"], [0.4444444444444444, \"#bd3786\"], [0.5555555555555556, \"#d8576b\"], [0.6666666666666666, \"#ed7953\"], [0.7777777777777778, \"#fb9f3a\"], [0.8888888888888888, \"#fdca26\"], [1.0, \"#f0f921\"]], \"type\": \"histogram2dcontour\"}], \"mesh3d\": [{\"colorbar\": {\"outlinewidth\": 0, \"ticks\": \"\"}, \"type\": \"mesh3d\"}], \"parcoords\": [{\"line\": {\"colorbar\": {\"outlinewidth\": 0, \"ticks\": \"\"}}, \"type\": \"parcoords\"}], \"pie\": [{\"automargin\": true, \"type\": \"pie\"}], \"scatter\": [{\"marker\": {\"colorbar\": {\"outlinewidth\": 0, \"ticks\": \"\"}}, \"type\": \"scatter\"}], \"scatter3d\": [{\"line\": {\"colorbar\": {\"outlinewidth\": 0, \"ticks\": \"\"}}, \"marker\": {\"colorbar\": {\"outlinewidth\": 0, \"ticks\": \"\"}}, \"type\": \"scatter3d\"}], \"scattercarpet\": [{\"marker\": {\"colorbar\": {\"outlinewidth\": 0, \"ticks\": \"\"}}, \"type\": \"scattercarpet\"}], \"scattergeo\": [{\"marker\": {\"colorbar\": {\"outlinewidth\": 0, \"ticks\": \"\"}}, \"type\": \"scattergeo\"}], \"scattergl\": [{\"marker\": {\"colorbar\": {\"outlinewidth\": 0, \"ticks\": \"\"}}, \"type\": \"scattergl\"}], \"scattermapbox\": [{\"marker\": {\"colorbar\": {\"outlinewidth\": 0, \"ticks\": \"\"}}, \"type\": \"scattermapbox\"}], \"scatterpolar\": [{\"marker\": {\"colorbar\": {\"outlinewidth\": 0, \"ticks\": \"\"}}, \"type\": \"scatterpolar\"}], \"scatterpolargl\": [{\"marker\": {\"colorbar\": {\"outlinewidth\": 0, \"ticks\": \"\"}}, \"type\": \"scatterpolargl\"}], \"scatterternary\": [{\"marker\": {\"colorbar\": {\"outlinewidth\": 0, \"ticks\": \"\"}}, \"type\": \"scatterternary\"}], \"surface\": [{\"colorbar\": {\"outlinewidth\": 0, \"ticks\": \"\"}, \"colorscale\": [[0.0, \"#0d0887\"], [0.1111111111111111, \"#46039f\"], [0.2222222222222222, \"#7201a8\"], [0.3333333333333333, \"#9c179e\"], [0.4444444444444444, \"#bd3786\"], [0.5555555555555556, \"#d8576b\"], [0.6666666666666666, \"#ed7953\"], [0.7777777777777778, \"#fb9f3a\"], [0.8888888888888888, \"#fdca26\"], [1.0, \"#f0f921\"]], \"type\": \"surface\"}], \"table\": [{\"cells\": {\"fill\": {\"color\": \"#EBF0F8\"}, \"line\": {\"color\": \"white\"}}, \"header\": {\"fill\": {\"color\": \"#C8D4E3\"}, \"line\": {\"color\": \"white\"}}, \"type\": \"table\"}]}, \"layout\": {\"annotationdefaults\": {\"arrowcolor\": \"#2a3f5f\", \"arrowhead\": 0, \"arrowwidth\": 1}, \"coloraxis\": {\"colorbar\": {\"outlinewidth\": 0, \"ticks\": \"\"}}, \"colorscale\": {\"diverging\": [[0, \"#8e0152\"], [0.1, \"#c51b7d\"], [0.2, \"#de77ae\"], [0.3, \"#f1b6da\"], [0.4, \"#fde0ef\"], [0.5, \"#f7f7f7\"], [0.6, \"#e6f5d0\"], [0.7, \"#b8e186\"], [0.8, \"#7fbc41\"], [0.9, \"#4d9221\"], [1, \"#276419\"]], \"sequential\": [[0.0, \"#0d0887\"], [0.1111111111111111, \"#46039f\"], [0.2222222222222222, \"#7201a8\"], [0.3333333333333333, \"#9c179e\"], [0.4444444444444444, \"#bd3786\"], [0.5555555555555556, \"#d8576b\"], [0.6666666666666666, \"#ed7953\"], [0.7777777777777778, \"#fb9f3a\"], [0.8888888888888888, \"#fdca26\"], [1.0, \"#f0f921\"]], \"sequentialminus\": [[0.0, \"#0d0887\"], [0.1111111111111111, \"#46039f\"], [0.2222222222222222, \"#7201a8\"], [0.3333333333333333, \"#9c179e\"], [0.4444444444444444, \"#bd3786\"], [0.5555555555555556, \"#d8576b\"], [0.6666666666666666, \"#ed7953\"], [0.7777777777777778, \"#fb9f3a\"], [0.8888888888888888, \"#fdca26\"], [1.0, \"#f0f921\"]]}, \"colorway\": [\"#636efa\", \"#EF553B\", \"#00cc96\", \"#ab63fa\", \"#FFA15A\", \"#19d3f3\", \"#FF6692\", \"#B6E880\", \"#FF97FF\", \"#FECB52\"], \"font\": {\"color\": \"#2a3f5f\"}, \"geo\": {\"bgcolor\": \"white\", \"lakecolor\": \"white\", \"landcolor\": \"#E5ECF6\", \"showlakes\": true, \"showland\": true, \"subunitcolor\": \"white\"}, \"hoverlabel\": {\"align\": \"left\"}, \"hovermode\": \"closest\", \"mapbox\": {\"style\": \"light\"}, \"paper_bgcolor\": \"white\", \"plot_bgcolor\": \"#E5ECF6\", \"polar\": {\"angularaxis\": {\"gridcolor\": \"white\", \"linecolor\": \"white\", \"ticks\": \"\"}, \"bgcolor\": \"#E5ECF6\", \"radialaxis\": {\"gridcolor\": \"white\", \"linecolor\": \"white\", \"ticks\": \"\"}}, \"scene\": {\"xaxis\": {\"backgroundcolor\": \"#E5ECF6\", \"gridcolor\": \"white\", \"gridwidth\": 2, \"linecolor\": \"white\", \"showbackground\": true, \"ticks\": \"\", \"zerolinecolor\": \"white\"}, \"yaxis\": {\"backgroundcolor\": \"#E5ECF6\", \"gridcolor\": \"white\", \"gridwidth\": 2, \"linecolor\": \"white\", \"showbackground\": true, \"ticks\": \"\", \"zerolinecolor\": \"white\"}, \"zaxis\": {\"backgroundcolor\": \"#E5ECF6\", \"gridcolor\": \"white\", \"gridwidth\": 2, \"linecolor\": \"white\", \"showbackground\": true, \"ticks\": \"\", \"zerolinecolor\": \"white\"}}, \"shapedefaults\": {\"line\": {\"color\": \"#2a3f5f\"}}, \"ternary\": {\"aaxis\": {\"gridcolor\": \"white\", \"linecolor\": \"white\", \"ticks\": \"\"}, \"baxis\": {\"gridcolor\": \"white\", \"linecolor\": \"white\", \"ticks\": \"\"}, \"bgcolor\": \"#E5ECF6\", \"caxis\": {\"gridcolor\": \"white\", \"linecolor\": \"white\", \"ticks\": \"\"}}, \"title\": {\"x\": 0.05}, \"xaxis\": {\"automargin\": true, \"gridcolor\": \"white\", \"linecolor\": \"white\", \"ticks\": \"\", \"title\": {\"standoff\": 15}, \"zerolinecolor\": \"white\", \"zerolinewidth\": 2}, \"yaxis\": {\"automargin\": true, \"gridcolor\": \"white\", \"linecolor\": \"white\", \"ticks\": \"\", \"title\": {\"standoff\": 15}, \"zerolinecolor\": \"white\", \"zerolinewidth\": 2}}}, \"title\": {\"text\": \"GDP VS news sentiment \"}, \"xaxis\": {\"anchor\": \"y\", \"domain\": [0.0, 0.94], \"range\": [\"2019-01-01T00:00:00\", \"2020-03-01T00:00:00\"], \"rangeslider\": {\"visible\": true}, \"title\": {\"text\": \"Date\"}}, \"yaxis\": {\"anchor\": \"x\", \"autorange\": false, \"domain\": [0.0, 1.0], \"range\": [1846868999999.9, 1990433000000.1], \"title\": {\"text\": \"Chained (2012) Dollars (seasonally adjusted)\"}}, \"yaxis2\": {\"anchor\": \"x\", \"overlaying\": \"y\", \"range\": [-2.5, 2.5], \"side\": \"right\", \"title\": {\"text\": \"Sentiment Score\"}}},\n",
       "                        {\"responsive\": true}\n",
       "                    ).then(function(){\n",
       "                            \n",
       "var gd = document.getElementById('09039271-db57-4ce4-a1b9-0eec00f5c511');\n",
       "var x = new MutationObserver(function (mutations, observer) {{\n",
       "        var display = window.getComputedStyle(gd).display;\n",
       "        if (!display || display === 'none') {{\n",
       "            console.log([gd, 'removed!']);\n",
       "            Plotly.purge(gd);\n",
       "            observer.disconnect();\n",
       "        }}\n",
       "}});\n",
       "\n",
       "// Listen for the removal of the full notebook cells\n",
       "var notebookContainer = gd.closest('#notebook-container');\n",
       "if (notebookContainer) {{\n",
       "    x.observe(notebookContainer, {childList: true});\n",
       "}}\n",
       "\n",
       "// Listen for the clearing of the current output cell\n",
       "var outputEl = gd.closest('.output');\n",
       "if (outputEl) {{\n",
       "    x.observe(outputEl, {childList: true});\n",
       "}}\n",
       "\n",
       "                        })\n",
       "                };\n",
       "                });\n",
       "            </script>\n",
       "        </div>"
      ]
     },
     "metadata": {},
     "output_type": "display_data"
    },
    {
     "data": {
      "application/vnd.plotly.v1+json": {
       "config": {
        "plotlyServerURL": "https://plot.ly"
       },
       "data": [
        {
         "line": {
          "color": "blue"
         },
         "mode": "lines",
         "name": "Chained (2012) Dollars (seasonally adjusted)",
         "type": "scatter",
         "x": [
          "2019-01-01T00:00:00",
          "2019-02-01T00:00:00",
          "2019-03-01T00:00:00",
          "2019-04-01T00:00:00",
          "2019-05-01T00:00:00",
          "2019-06-01T00:00:00",
          "2019-07-01T00:00:00",
          "2019-08-01T00:00:00",
          "2019-09-01T00:00:00",
          "2019-10-01T00:00:00",
          "2019-11-01T00:00:00",
          "2019-12-01T00:00:00",
          "2020-01-01T00:00:00",
          "2020-02-01T00:00:00",
          "2020-03-01T00:00:00"
         ],
         "xaxis": "x",
         "y": [
          1952558000000,
          1948783000000,
          1961298000000,
          1966131000000,
          1971712000000,
          1976472000000,
          1977236000000,
          1980198000000,
          1981077000000,
          1980711000000,
          1981970000000,
          1987713000000,
          1988839000000,
          1990433000000,
          1846869000000
         ],
         "yaxis": "y"
        },
        {
         "marker": {
          "color": "green"
         },
         "mode": "markers",
         "name": "Sentiment Score",
         "opacity": 0.5,
         "type": "scatter",
         "x": [
          "2020-05-13T00:00:00",
          "2020-05-13T00:00:00",
          "2020-05-07T00:00:00",
          "2020-05-06T00:00:00",
          "2020-05-04T00:00:00",
          "2020-04-30T00:00:00",
          "2020-04-30T00:00:00",
          "2020-04-29T00:00:00",
          "2020-04-23T00:00:00",
          "2020-04-23T00:00:00",
          "2020-04-21T00:00:00",
          "2020-04-14T00:00:00",
          "2020-04-06T00:00:00",
          "2020-03-31T00:00:00",
          "2020-03-24T00:00:00",
          "2020-03-23T00:00:00",
          "2020-03-23T00:00:00",
          "2020-03-23T00:00:00",
          "2020-03-16T00:00:00",
          "2020-03-11T00:00:00",
          "2020-03-11T00:00:00",
          "2020-02-28T00:00:00",
          "2020-02-28T00:00:00",
          "2020-02-27T00:00:00",
          "2020-02-27T00:00:00",
          "2020-02-25T00:00:00",
          "2020-02-21T00:00:00",
          "2020-02-19T00:00:00",
          "2020-02-09T00:00:00",
          "2020-01-30T00:00:00",
          "2020-01-26T00:00:00",
          "2020-01-20T00:00:00",
          "2020-01-17T00:00:00",
          "2020-01-16T00:00:00",
          "2020-01-16T00:00:00",
          "2020-01-03T00:00:00",
          "2020-01-02T00:00:00",
          "2019-12-27T00:00:00",
          "2019-12-23T00:00:00",
          "2019-12-23T00:00:00",
          "2019-12-20T00:00:00",
          "2019-12-18T00:00:00",
          "2019-12-16T00:00:00",
          "2019-12-12T00:00:00",
          "2019-12-04T00:00:00",
          "2019-11-29T00:00:00",
          "2019-11-29T00:00:00",
          "2019-11-28T00:00:00",
          "2019-11-28T00:00:00",
          "2019-11-28T00:00:00",
          "2019-11-27T00:00:00",
          "2019-11-14T00:00:00",
          "2019-11-11T00:00:00",
          "2019-10-31T00:00:00",
          "2019-10-31T00:00:00",
          "2019-10-28T00:00:00",
          "2019-10-28T00:00:00",
          "2019-10-25T00:00:00",
          "2019-10-08T00:00:00",
          "2019-10-05T00:00:00",
          "2019-10-01T00:00:00",
          "2019-09-30T00:00:00",
          "2019-09-28T00:00:00",
          "2019-09-27T00:00:00",
          "2019-09-24T00:00:00",
          "2019-09-23T00:00:00",
          "2019-09-17T00:00:00",
          "2019-09-04T00:00:00",
          "2019-09-03T00:00:00",
          "2019-08-30T00:00:00",
          "2019-08-28T00:00:00",
          "2019-08-27T00:00:00",
          "2019-08-23T00:00:00",
          "2019-08-20T00:00:00",
          "2019-08-20T00:00:00",
          "2019-08-09T00:00:00",
          "2019-07-31T00:00:00",
          "2019-07-26T00:00:00",
          "2019-07-24T00:00:00",
          "2019-07-17T00:00:00",
          "2019-07-17T00:00:00",
          "2019-07-14T00:00:00",
          "2019-07-12T00:00:00",
          "2019-07-12T00:00:00",
          "2019-06-28T00:00:00",
          "2019-06-26T00:00:00",
          "2019-06-24T00:00:00",
          "2019-06-18T00:00:00",
          "2019-06-17T00:00:00",
          "2019-06-14T00:00:00",
          "2019-06-08T00:00:00",
          "2019-06-04T00:00:00",
          "2019-05-31T00:00:00",
          "2019-05-31T00:00:00",
          "2019-05-23T00:00:00",
          "2019-05-22T00:00:00",
          "2019-04-01T00:00:00",
          "2019-04-01T00:00:00",
          "2019-03-28T00:00:00",
          "2019-03-11T00:00:00",
          "2019-03-01T00:00:00",
          "2019-02-28T00:00:00",
          "2019-02-27T00:00:00",
          "2019-02-12T00:00:00",
          "2019-01-31T00:00:00",
          "2019-01-17T00:00:00",
          "2019-01-03T00:00:00",
          "2018-12-21T00:00:00",
          "2018-12-21T00:00:00",
          "2018-12-03T00:00:00",
          "2018-11-30T00:00:00",
          "2018-11-29T00:00:00",
          "2018-11-28T00:00:00",
          "2018-10-31T00:00:00",
          "2018-10-18T00:00:00",
          "2018-10-18T00:00:00",
          "2018-09-27T00:00:00",
          "2018-09-25T00:00:00",
          "2018-09-19T00:00:00",
          "2018-08-30T00:00:00",
          "2018-08-29T00:00:00",
          "2018-08-24T00:00:00",
          "2018-07-31T00:00:00",
          "2018-07-27T00:00:00",
          "2018-07-27T00:00:00",
          "2018-06-29T00:00:00",
          "2018-06-28T00:00:00",
          "2018-05-01T00:00:00",
          "2018-03-02T00:00:00",
          "2018-03-02T00:00:00",
          "2020-04-30T00:00:00",
          "2020-04-29T00:00:00",
          "2020-04-16T00:00:00",
          "2020-04-16T00:00:00",
          "2020-04-07T00:00:00",
          "2020-03-31T00:00:00",
          "2020-03-31T00:00:00",
          "2020-03-25T00:00:00",
          "2020-03-23T00:00:00",
          "2020-03-18T00:00:00",
          "2020-03-11T00:00:00",
          "2020-03-11T00:00:00",
          "2020-03-09T00:00:00",
          "2020-01-31T00:00:00",
          "2020-01-14T00:00:00",
          "2020-01-09T00:00:00",
          "2019-12-20T00:00:00",
          "2019-12-20T00:00:00",
          "2019-11-28T00:00:00",
          "2019-11-19T00:00:00",
          "2019-10-31T00:00:00",
          "2019-10-01T00:00:00",
          "2019-09-30T00:00:00",
          "2019-09-30T00:00:00",
          "2019-09-16T00:00:00",
          "2019-09-04T00:00:00",
          "2019-09-03T00:00:00",
          "2019-09-03T00:00:00",
          "2019-08-26T00:00:00",
          "2019-08-26T00:00:00",
          "2019-07-26T00:00:00",
          "2019-07-14T00:00:00",
          "2019-06-28T00:00:00",
          "2019-06-10T00:00:00",
          "2019-05-31T00:00:00",
          "2019-05-23T00:00:00",
          "2019-05-23T00:00:00",
          "2019-05-22T00:00:00",
          "2019-04-30T00:00:00",
          "2019-04-29T00:00:00",
          "2019-04-15T00:00:00",
          "2019-04-15T00:00:00",
          "2019-04-02T00:00:00",
          "2019-04-01T00:00:00",
          "2020-05-16T00:00:00",
          "2020-05-14T00:00:00",
          "2020-05-13T00:00:00",
          "2020-05-13T00:00:00",
          "2020-05-09T00:00:00",
          "2020-05-09T00:00:00",
          "2020-05-08T00:00:00",
          "2020-05-04T00:00:00",
          "2020-05-01T00:00:00",
          "2020-05-01T00:00:00",
          "2020-04-30T00:00:00",
          "2020-04-30T00:00:00",
          "2020-04-30T00:00:00",
          "2020-04-29T00:00:00",
          "2020-04-28T00:00:00",
          "2020-04-26T00:00:00",
          "2020-04-25T00:00:00",
          "2020-04-24T00:00:00",
          "2020-04-24T00:00:00",
          "2020-04-23T00:00:00",
          "2020-04-22T00:00:00",
          "2020-04-21T00:00:00",
          "2020-04-20T00:00:00",
          "2020-04-17T00:00:00",
          "2020-04-16T00:00:00",
          "2020-04-16T00:00:00",
          "2020-04-16T00:00:00",
          "2020-04-15T00:00:00",
          "2020-04-15T00:00:00",
          "2020-04-12T00:00:00",
          "2020-04-10T00:00:00",
          "2020-04-09T00:00:00",
          "2020-04-06T00:00:00",
          "2020-04-06T00:00:00",
          "2020-03-31T00:00:00",
          "2020-03-27T00:00:00",
          "2020-03-27T00:00:00",
          "2020-03-25T00:00:00",
          "2020-03-25T00:00:00",
          "2020-03-25T00:00:00",
          "2020-03-20T00:00:00",
          "2020-03-19T00:00:00",
          "2020-03-19T00:00:00",
          "2020-03-13T00:00:00",
          "2020-03-11T00:00:00",
          "2020-03-11T00:00:00",
          "2020-03-10T00:00:00",
          "2020-03-10T00:00:00",
          "2020-03-06T00:00:00",
          "2020-02-27T00:00:00",
          "2020-02-26T00:00:00",
          "2020-02-25T00:00:00",
          "2020-02-20T00:00:00",
          "2020-02-19T00:00:00",
          "2020-02-18T00:00:00",
          "2020-02-16T00:00:00",
          "2020-02-13T00:00:00",
          "2020-01-31T00:00:00",
          "2020-01-02T00:00:00",
          "2019-12-16T00:00:00",
          "2019-12-12T00:00:00",
          "2019-12-11T00:00:00",
          "2019-12-03T00:00:00",
          "2019-12-02T00:00:00",
          "2019-11-27T00:00:00",
          "2019-11-24T00:00:00",
          "2019-11-15T00:00:00",
          "2019-11-08T00:00:00",
          "2019-11-05T00:00:00",
          "2019-10-30T00:00:00",
          "2019-10-25T00:00:00",
          "2019-10-03T00:00:00",
          "2019-10-02T00:00:00",
          "2019-10-01T00:00:00",
          "2019-10-01T00:00:00",
          "2019-09-30T00:00:00",
          "2019-09-29T00:00:00",
          "2019-09-26T00:00:00",
          "2019-09-20T00:00:00",
          "2019-09-15T00:00:00",
          "2019-09-10T00:00:00",
          "2019-09-08T00:00:00",
          "2019-09-06T00:00:00",
          "2019-09-04T00:00:00",
          "2019-08-30T00:00:00",
          "2019-08-27T00:00:00",
          "2019-08-22T00:00:00",
          "2019-08-13T00:00:00",
          "2019-08-01T00:00:00",
          "2019-07-16T00:00:00",
          "2019-07-04T00:00:00",
          "2019-07-02T00:00:00",
          "2019-06-28T00:00:00",
          "2019-06-04T00:00:00",
          "2019-05-28T00:00:00",
          "2019-05-23T00:00:00",
          "2019-05-20T00:00:00"
         ],
         "xaxis": "x",
         "y": [
          -1.5,
          -1.5,
          0,
          -1.5,
          -1.5,
          -1.5,
          -1.5,
          -1.5,
          0,
          -1.5,
          -1.5,
          -1.5,
          0,
          -1.5,
          -1.5,
          -1.5,
          -1.5,
          -1.5,
          -1.5,
          0,
          0,
          -1.5,
          -1.5,
          0,
          -1.5,
          -1.5,
          0,
          0,
          0,
          0,
          -1.5,
          0,
          -1.5,
          1.5,
          1.5,
          0,
          1.5,
          0,
          -1.5,
          -1.5,
          1.5,
          1.5,
          1.5,
          0,
          0,
          -1.5,
          -1.5,
          -1.5,
          0,
          -1.5,
          1.5,
          -1.5,
          0,
          -1.5,
          1.5,
          1.5,
          0,
          1.5,
          0,
          0,
          -1.5,
          1.5,
          0,
          0,
          0,
          0,
          0,
          -1.5,
          0,
          0,
          0,
          -1.5,
          1.5,
          -1.5,
          0,
          0,
          1.5,
          -1.5,
          -1.5,
          1.5,
          1.5,
          -1.5,
          1.5,
          0,
          1.5,
          0,
          0,
          0,
          0,
          0,
          0,
          0,
          0,
          -1.5,
          1.5,
          0,
          -1.5,
          -1.5,
          -1.5,
          -1.5,
          -1.5,
          1.5,
          -1.5,
          -1.5,
          -1.5,
          -1.5,
          0,
          1.5,
          1.5,
          -1.5,
          -1.5,
          0,
          1.5,
          1.5,
          -1.5,
          -1.5,
          1.5,
          0,
          1.5,
          1.5,
          1.5,
          -1.5,
          1.5,
          1.5,
          1.5,
          1.5,
          -1.5,
          1.5,
          -1.5,
          -1.5,
          -1.4975207448005676,
          -1.498285949230194,
          -1.4902855753898618,
          -1.4733055233955383,
          -1.4650974869728088,
          -1.4989307522773745,
          -1.4891778230667114,
          -1.490716516971588,
          -1.3314192891120908,
          -1.4214408993721008,
          -1.3934794664382937,
          -1.3336432576179504,
          -1.4901069402694702,
          -1.4988272786140442,
          -1.4405885338783264,
          -1.329418063163757,
          -1.1488687992095947,
          1.3256945013999941,
          -1.4935338497161863,
          -0.1414221823215485,
          -1.4955782294273376,
          -1.4994325041770935,
          1.2366125583648682,
          1.232754111289978,
          -1.3392068147659302,
          -1.4874122142791748,
          -0.0008412636816501582,
          -1.2549678087234497,
          -1.382517158985138,
          -0.9442244172096252,
          -1.4990059733390808,
          -1.4330191016197205,
          1.3845785856246948,
          -1.1699542999267578,
          -1.4967417120933533,
          1.4242247939109802,
          -1.1155351400375366,
          0.27120379358530045,
          -1.4987849593162537,
          0.03557952493429184,
          1.3461576700210571,
          1.3461576700210571,
          -1.3638954758644104,
          -1.3584988117218018,
          -1.4102745652198792,
          -1.1612778902053833,
          -1.4943377375602722,
          -1.440325915813446,
          -0.2720678243786097,
          -1.4988458156585691,
          0.2374052815139293,
          -1.016398012638092,
          -1.496625304222107,
          -1.4863579273223877,
          -1.498120367527008,
          -1.268121063709259,
          -1.4897152781486511,
          -1.4800333380699158,
          -1.4496411085128784,
          -1.480435132980347,
          -0.21442283689975736,
          0.019620519131422043,
          -0.9953454732894896,
          0.9750491678714752,
          0.13697616755962375,
          -0.013365201652050022,
          -1.4795071482658386,
          -1.2837618589401243,
          -0.9752251207828522,
          -1.495346486568451,
          -1.4976140260696411,
          -0.015296204015612604,
          -1.4980791807174685,
          -1.065637469291687,
          -1.305814564228058,
          -1.4844489693641665,
          -1.0469048619270325,
          -0.015702236676588658,
          -0.9935397803783416,
          -1.4897488951683044,
          -1.0094648003578186,
          -1.4856913685798645,
          -0.4026195788756013,
          -0.05605441331863403,
          -1.2040889859199524,
          -1.1600334644317627,
          -1.4872260689735413,
          -1.4958342313766482,
          -1.4672401547431946,
          -1.4717780947685242,
          -1.3115956783294678,
          -0.3093124516308308,
          -1.4601668119430542,
          -1.2071483135223389,
          -1.4822140336036682,
          -1.4708333611488342,
          -1.353023886680603,
          0.3088863492012024,
          -1.4666168093681335,
          -1.2439340949058533,
          -1.1757996678352356,
          -1.4692213535308838,
          -0.01837285608053208,
          -1.4635162949562073,
          -1.4937759637832642,
          0.09628693014383316,
          -0.07459027692675592,
          0.05560144782066345,
          -1.4423192739486694,
          -0.434554386883974,
          -1.435813069343567,
          -1.386469542980194,
          -1.2855457067489624,
          -1.4135168790817259,
          1.368165910243988,
          -1.4970613121986391,
          -1.2277562022209167,
          -0.06451679905876517,
          1.0025845766067505,
          -0.2367376312613487,
          -1.1168586015701294,
          -0.042585797607898726,
          -1.245606780052185,
          -1.1138149499893188,
          -1.49246746301651,
          -1.4902347326278689,
          -1.4502134919166565,
          -0.01021822914481163,
          -1.3705164194107056,
          -1.389236330986023,
          -1.4831101894378662,
          -0.04732032865285875,
          -1.3564692735671997,
          -1.4724942445755005,
          1.0466192364692688,
          -1.0514061450958252,
          -1.4887521862983704,
          -1.4861286878585815,
          -1.4947170615196228,
          -0.0522558530792594,
          -1.4239038228988647
         ],
         "yaxis": "y2"
        }
       ],
       "layout": {
        "template": {
         "data": {
          "bar": [
           {
            "error_x": {
             "color": "#2a3f5f"
            },
            "error_y": {
             "color": "#2a3f5f"
            },
            "marker": {
             "line": {
              "color": "#E5ECF6",
              "width": 0.5
             }
            },
            "type": "bar"
           }
          ],
          "barpolar": [
           {
            "marker": {
             "line": {
              "color": "#E5ECF6",
              "width": 0.5
             }
            },
            "type": "barpolar"
           }
          ],
          "carpet": [
           {
            "aaxis": {
             "endlinecolor": "#2a3f5f",
             "gridcolor": "white",
             "linecolor": "white",
             "minorgridcolor": "white",
             "startlinecolor": "#2a3f5f"
            },
            "baxis": {
             "endlinecolor": "#2a3f5f",
             "gridcolor": "white",
             "linecolor": "white",
             "minorgridcolor": "white",
             "startlinecolor": "#2a3f5f"
            },
            "type": "carpet"
           }
          ],
          "choropleth": [
           {
            "colorbar": {
             "outlinewidth": 0,
             "ticks": ""
            },
            "type": "choropleth"
           }
          ],
          "contour": [
           {
            "colorbar": {
             "outlinewidth": 0,
             "ticks": ""
            },
            "colorscale": [
             [
              0,
              "#0d0887"
             ],
             [
              0.1111111111111111,
              "#46039f"
             ],
             [
              0.2222222222222222,
              "#7201a8"
             ],
             [
              0.3333333333333333,
              "#9c179e"
             ],
             [
              0.4444444444444444,
              "#bd3786"
             ],
             [
              0.5555555555555556,
              "#d8576b"
             ],
             [
              0.6666666666666666,
              "#ed7953"
             ],
             [
              0.7777777777777778,
              "#fb9f3a"
             ],
             [
              0.8888888888888888,
              "#fdca26"
             ],
             [
              1,
              "#f0f921"
             ]
            ],
            "type": "contour"
           }
          ],
          "contourcarpet": [
           {
            "colorbar": {
             "outlinewidth": 0,
             "ticks": ""
            },
            "type": "contourcarpet"
           }
          ],
          "heatmap": [
           {
            "colorbar": {
             "outlinewidth": 0,
             "ticks": ""
            },
            "colorscale": [
             [
              0,
              "#0d0887"
             ],
             [
              0.1111111111111111,
              "#46039f"
             ],
             [
              0.2222222222222222,
              "#7201a8"
             ],
             [
              0.3333333333333333,
              "#9c179e"
             ],
             [
              0.4444444444444444,
              "#bd3786"
             ],
             [
              0.5555555555555556,
              "#d8576b"
             ],
             [
              0.6666666666666666,
              "#ed7953"
             ],
             [
              0.7777777777777778,
              "#fb9f3a"
             ],
             [
              0.8888888888888888,
              "#fdca26"
             ],
             [
              1,
              "#f0f921"
             ]
            ],
            "type": "heatmap"
           }
          ],
          "heatmapgl": [
           {
            "colorbar": {
             "outlinewidth": 0,
             "ticks": ""
            },
            "colorscale": [
             [
              0,
              "#0d0887"
             ],
             [
              0.1111111111111111,
              "#46039f"
             ],
             [
              0.2222222222222222,
              "#7201a8"
             ],
             [
              0.3333333333333333,
              "#9c179e"
             ],
             [
              0.4444444444444444,
              "#bd3786"
             ],
             [
              0.5555555555555556,
              "#d8576b"
             ],
             [
              0.6666666666666666,
              "#ed7953"
             ],
             [
              0.7777777777777778,
              "#fb9f3a"
             ],
             [
              0.8888888888888888,
              "#fdca26"
             ],
             [
              1,
              "#f0f921"
             ]
            ],
            "type": "heatmapgl"
           }
          ],
          "histogram": [
           {
            "marker": {
             "colorbar": {
              "outlinewidth": 0,
              "ticks": ""
             }
            },
            "type": "histogram"
           }
          ],
          "histogram2d": [
           {
            "colorbar": {
             "outlinewidth": 0,
             "ticks": ""
            },
            "colorscale": [
             [
              0,
              "#0d0887"
             ],
             [
              0.1111111111111111,
              "#46039f"
             ],
             [
              0.2222222222222222,
              "#7201a8"
             ],
             [
              0.3333333333333333,
              "#9c179e"
             ],
             [
              0.4444444444444444,
              "#bd3786"
             ],
             [
              0.5555555555555556,
              "#d8576b"
             ],
             [
              0.6666666666666666,
              "#ed7953"
             ],
             [
              0.7777777777777778,
              "#fb9f3a"
             ],
             [
              0.8888888888888888,
              "#fdca26"
             ],
             [
              1,
              "#f0f921"
             ]
            ],
            "type": "histogram2d"
           }
          ],
          "histogram2dcontour": [
           {
            "colorbar": {
             "outlinewidth": 0,
             "ticks": ""
            },
            "colorscale": [
             [
              0,
              "#0d0887"
             ],
             [
              0.1111111111111111,
              "#46039f"
             ],
             [
              0.2222222222222222,
              "#7201a8"
             ],
             [
              0.3333333333333333,
              "#9c179e"
             ],
             [
              0.4444444444444444,
              "#bd3786"
             ],
             [
              0.5555555555555556,
              "#d8576b"
             ],
             [
              0.6666666666666666,
              "#ed7953"
             ],
             [
              0.7777777777777778,
              "#fb9f3a"
             ],
             [
              0.8888888888888888,
              "#fdca26"
             ],
             [
              1,
              "#f0f921"
             ]
            ],
            "type": "histogram2dcontour"
           }
          ],
          "mesh3d": [
           {
            "colorbar": {
             "outlinewidth": 0,
             "ticks": ""
            },
            "type": "mesh3d"
           }
          ],
          "parcoords": [
           {
            "line": {
             "colorbar": {
              "outlinewidth": 0,
              "ticks": ""
             }
            },
            "type": "parcoords"
           }
          ],
          "pie": [
           {
            "automargin": true,
            "type": "pie"
           }
          ],
          "scatter": [
           {
            "marker": {
             "colorbar": {
              "outlinewidth": 0,
              "ticks": ""
             }
            },
            "type": "scatter"
           }
          ],
          "scatter3d": [
           {
            "line": {
             "colorbar": {
              "outlinewidth": 0,
              "ticks": ""
             }
            },
            "marker": {
             "colorbar": {
              "outlinewidth": 0,
              "ticks": ""
             }
            },
            "type": "scatter3d"
           }
          ],
          "scattercarpet": [
           {
            "marker": {
             "colorbar": {
              "outlinewidth": 0,
              "ticks": ""
             }
            },
            "type": "scattercarpet"
           }
          ],
          "scattergeo": [
           {
            "marker": {
             "colorbar": {
              "outlinewidth": 0,
              "ticks": ""
             }
            },
            "type": "scattergeo"
           }
          ],
          "scattergl": [
           {
            "marker": {
             "colorbar": {
              "outlinewidth": 0,
              "ticks": ""
             }
            },
            "type": "scattergl"
           }
          ],
          "scattermapbox": [
           {
            "marker": {
             "colorbar": {
              "outlinewidth": 0,
              "ticks": ""
             }
            },
            "type": "scattermapbox"
           }
          ],
          "scatterpolar": [
           {
            "marker": {
             "colorbar": {
              "outlinewidth": 0,
              "ticks": ""
             }
            },
            "type": "scatterpolar"
           }
          ],
          "scatterpolargl": [
           {
            "marker": {
             "colorbar": {
              "outlinewidth": 0,
              "ticks": ""
             }
            },
            "type": "scatterpolargl"
           }
          ],
          "scatterternary": [
           {
            "marker": {
             "colorbar": {
              "outlinewidth": 0,
              "ticks": ""
             }
            },
            "type": "scatterternary"
           }
          ],
          "surface": [
           {
            "colorbar": {
             "outlinewidth": 0,
             "ticks": ""
            },
            "colorscale": [
             [
              0,
              "#0d0887"
             ],
             [
              0.1111111111111111,
              "#46039f"
             ],
             [
              0.2222222222222222,
              "#7201a8"
             ],
             [
              0.3333333333333333,
              "#9c179e"
             ],
             [
              0.4444444444444444,
              "#bd3786"
             ],
             [
              0.5555555555555556,
              "#d8576b"
             ],
             [
              0.6666666666666666,
              "#ed7953"
             ],
             [
              0.7777777777777778,
              "#fb9f3a"
             ],
             [
              0.8888888888888888,
              "#fdca26"
             ],
             [
              1,
              "#f0f921"
             ]
            ],
            "type": "surface"
           }
          ],
          "table": [
           {
            "cells": {
             "fill": {
              "color": "#EBF0F8"
             },
             "line": {
              "color": "white"
             }
            },
            "header": {
             "fill": {
              "color": "#C8D4E3"
             },
             "line": {
              "color": "white"
             }
            },
            "type": "table"
           }
          ]
         },
         "layout": {
          "annotationdefaults": {
           "arrowcolor": "#2a3f5f",
           "arrowhead": 0,
           "arrowwidth": 1
          },
          "coloraxis": {
           "colorbar": {
            "outlinewidth": 0,
            "ticks": ""
           }
          },
          "colorscale": {
           "diverging": [
            [
             0,
             "#8e0152"
            ],
            [
             0.1,
             "#c51b7d"
            ],
            [
             0.2,
             "#de77ae"
            ],
            [
             0.3,
             "#f1b6da"
            ],
            [
             0.4,
             "#fde0ef"
            ],
            [
             0.5,
             "#f7f7f7"
            ],
            [
             0.6,
             "#e6f5d0"
            ],
            [
             0.7,
             "#b8e186"
            ],
            [
             0.8,
             "#7fbc41"
            ],
            [
             0.9,
             "#4d9221"
            ],
            [
             1,
             "#276419"
            ]
           ],
           "sequential": [
            [
             0,
             "#0d0887"
            ],
            [
             0.1111111111111111,
             "#46039f"
            ],
            [
             0.2222222222222222,
             "#7201a8"
            ],
            [
             0.3333333333333333,
             "#9c179e"
            ],
            [
             0.4444444444444444,
             "#bd3786"
            ],
            [
             0.5555555555555556,
             "#d8576b"
            ],
            [
             0.6666666666666666,
             "#ed7953"
            ],
            [
             0.7777777777777778,
             "#fb9f3a"
            ],
            [
             0.8888888888888888,
             "#fdca26"
            ],
            [
             1,
             "#f0f921"
            ]
           ],
           "sequentialminus": [
            [
             0,
             "#0d0887"
            ],
            [
             0.1111111111111111,
             "#46039f"
            ],
            [
             0.2222222222222222,
             "#7201a8"
            ],
            [
             0.3333333333333333,
             "#9c179e"
            ],
            [
             0.4444444444444444,
             "#bd3786"
            ],
            [
             0.5555555555555556,
             "#d8576b"
            ],
            [
             0.6666666666666666,
             "#ed7953"
            ],
            [
             0.7777777777777778,
             "#fb9f3a"
            ],
            [
             0.8888888888888888,
             "#fdca26"
            ],
            [
             1,
             "#f0f921"
            ]
           ]
          },
          "colorway": [
           "#636efa",
           "#EF553B",
           "#00cc96",
           "#ab63fa",
           "#FFA15A",
           "#19d3f3",
           "#FF6692",
           "#B6E880",
           "#FF97FF",
           "#FECB52"
          ],
          "font": {
           "color": "#2a3f5f"
          },
          "geo": {
           "bgcolor": "white",
           "lakecolor": "white",
           "landcolor": "#E5ECF6",
           "showlakes": true,
           "showland": true,
           "subunitcolor": "white"
          },
          "hoverlabel": {
           "align": "left"
          },
          "hovermode": "closest",
          "mapbox": {
           "style": "light"
          },
          "paper_bgcolor": "white",
          "plot_bgcolor": "#E5ECF6",
          "polar": {
           "angularaxis": {
            "gridcolor": "white",
            "linecolor": "white",
            "ticks": ""
           },
           "bgcolor": "#E5ECF6",
           "radialaxis": {
            "gridcolor": "white",
            "linecolor": "white",
            "ticks": ""
           }
          },
          "scene": {
           "xaxis": {
            "backgroundcolor": "#E5ECF6",
            "gridcolor": "white",
            "gridwidth": 2,
            "linecolor": "white",
            "showbackground": true,
            "ticks": "",
            "zerolinecolor": "white"
           },
           "yaxis": {
            "backgroundcolor": "#E5ECF6",
            "gridcolor": "white",
            "gridwidth": 2,
            "linecolor": "white",
            "showbackground": true,
            "ticks": "",
            "zerolinecolor": "white"
           },
           "zaxis": {
            "backgroundcolor": "#E5ECF6",
            "gridcolor": "white",
            "gridwidth": 2,
            "linecolor": "white",
            "showbackground": true,
            "ticks": "",
            "zerolinecolor": "white"
           }
          },
          "shapedefaults": {
           "line": {
            "color": "#2a3f5f"
           }
          },
          "ternary": {
           "aaxis": {
            "gridcolor": "white",
            "linecolor": "white",
            "ticks": ""
           },
           "baxis": {
            "gridcolor": "white",
            "linecolor": "white",
            "ticks": ""
           },
           "bgcolor": "#E5ECF6",
           "caxis": {
            "gridcolor": "white",
            "linecolor": "white",
            "ticks": ""
           }
          },
          "title": {
           "x": 0.05
          },
          "xaxis": {
           "automargin": true,
           "gridcolor": "white",
           "linecolor": "white",
           "ticks": "",
           "title": {
            "standoff": 15
           },
           "zerolinecolor": "white",
           "zerolinewidth": 2
          },
          "yaxis": {
           "automargin": true,
           "gridcolor": "white",
           "linecolor": "white",
           "ticks": "",
           "title": {
            "standoff": 15
           },
           "zerolinecolor": "white",
           "zerolinewidth": 2
          }
         }
        },
        "title": {
         "text": "GDP VS news sentiment "
        },
        "xaxis": {
         "anchor": "y",
         "domain": [
          0,
          0.94
         ],
         "range": [
          "2019-01-01T00:00:00",
          "2020-03-01T00:00:00"
         ],
         "rangeslider": {
          "visible": true
         },
         "title": {
          "text": "Date"
         }
        },
        "yaxis": {
         "anchor": "x",
         "autorange": false,
         "domain": [
          0,
          1
         ],
         "range": [
          1846868999999.9,
          1990433000000.1
         ],
         "title": {
          "text": "Chained (2012) Dollars (seasonally adjusted)"
         }
        },
        "yaxis2": {
         "anchor": "x",
         "overlaying": "y",
         "range": [
          -2.5,
          2.5
         ],
         "side": "right",
         "title": {
          "text": "Sentiment Score"
         }
        }
       }
      },
      "text/html": [
       "<div>\n",
       "        \n",
       "        \n",
       "            <div id=\"ad2dd61c-1ce5-4db8-b1e7-dba1a21b815a\" class=\"plotly-graph-div\" style=\"height:525px; width:100%;\"></div>\n",
       "            <script type=\"text/javascript\">\n",
       "                require([\"plotly\"], function(Plotly) {\n",
       "                    window.PLOTLYENV=window.PLOTLYENV || {};\n",
       "                    \n",
       "                if (document.getElementById(\"ad2dd61c-1ce5-4db8-b1e7-dba1a21b815a\")) {\n",
       "                    Plotly.newPlot(\n",
       "                        'ad2dd61c-1ce5-4db8-b1e7-dba1a21b815a',\n",
       "                        [{\"line\": {\"color\": \"blue\"}, \"mode\": \"lines\", \"name\": \"Chained (2012) Dollars (seasonally adjusted)\", \"type\": \"scatter\", \"x\": [\"2019-01-01T00:00:00\", \"2019-02-01T00:00:00\", \"2019-03-01T00:00:00\", \"2019-04-01T00:00:00\", \"2019-05-01T00:00:00\", \"2019-06-01T00:00:00\", \"2019-07-01T00:00:00\", \"2019-08-01T00:00:00\", \"2019-09-01T00:00:00\", \"2019-10-01T00:00:00\", \"2019-11-01T00:00:00\", \"2019-12-01T00:00:00\", \"2020-01-01T00:00:00\", \"2020-02-01T00:00:00\", \"2020-03-01T00:00:00\"], \"xaxis\": \"x\", \"y\": [1952558000000.0, 1948783000000.0, 1961298000000.0, 1966131000000.0, 1971712000000.0, 1976472000000.0, 1977236000000.0, 1980198000000.0, 1981077000000.0, 1980711000000.0, 1981970000000.0, 1987713000000.0, 1988839000000.0, 1990433000000.0, 1846869000000.0], \"yaxis\": \"y\"}, {\"marker\": {\"color\": \"green\"}, \"mode\": \"markers\", \"name\": \"Sentiment Score\", \"opacity\": 0.5, \"type\": \"scatter\", \"x\": [\"2020-05-13T00:00:00\", \"2020-05-13T00:00:00\", \"2020-05-07T00:00:00\", \"2020-05-06T00:00:00\", \"2020-05-04T00:00:00\", \"2020-04-30T00:00:00\", \"2020-04-30T00:00:00\", \"2020-04-29T00:00:00\", \"2020-04-23T00:00:00\", \"2020-04-23T00:00:00\", \"2020-04-21T00:00:00\", \"2020-04-14T00:00:00\", \"2020-04-06T00:00:00\", \"2020-03-31T00:00:00\", \"2020-03-24T00:00:00\", \"2020-03-23T00:00:00\", \"2020-03-23T00:00:00\", \"2020-03-23T00:00:00\", \"2020-03-16T00:00:00\", \"2020-03-11T00:00:00\", \"2020-03-11T00:00:00\", \"2020-02-28T00:00:00\", \"2020-02-28T00:00:00\", \"2020-02-27T00:00:00\", \"2020-02-27T00:00:00\", \"2020-02-25T00:00:00\", \"2020-02-21T00:00:00\", \"2020-02-19T00:00:00\", \"2020-02-09T00:00:00\", \"2020-01-30T00:00:00\", \"2020-01-26T00:00:00\", \"2020-01-20T00:00:00\", \"2020-01-17T00:00:00\", \"2020-01-16T00:00:00\", \"2020-01-16T00:00:00\", \"2020-01-03T00:00:00\", \"2020-01-02T00:00:00\", \"2019-12-27T00:00:00\", \"2019-12-23T00:00:00\", \"2019-12-23T00:00:00\", \"2019-12-20T00:00:00\", \"2019-12-18T00:00:00\", \"2019-12-16T00:00:00\", \"2019-12-12T00:00:00\", \"2019-12-04T00:00:00\", \"2019-11-29T00:00:00\", \"2019-11-29T00:00:00\", \"2019-11-28T00:00:00\", \"2019-11-28T00:00:00\", \"2019-11-28T00:00:00\", \"2019-11-27T00:00:00\", \"2019-11-14T00:00:00\", \"2019-11-11T00:00:00\", \"2019-10-31T00:00:00\", \"2019-10-31T00:00:00\", \"2019-10-28T00:00:00\", \"2019-10-28T00:00:00\", \"2019-10-25T00:00:00\", \"2019-10-08T00:00:00\", \"2019-10-05T00:00:00\", \"2019-10-01T00:00:00\", \"2019-09-30T00:00:00\", \"2019-09-28T00:00:00\", \"2019-09-27T00:00:00\", \"2019-09-24T00:00:00\", \"2019-09-23T00:00:00\", \"2019-09-17T00:00:00\", \"2019-09-04T00:00:00\", \"2019-09-03T00:00:00\", \"2019-08-30T00:00:00\", \"2019-08-28T00:00:00\", \"2019-08-27T00:00:00\", \"2019-08-23T00:00:00\", \"2019-08-20T00:00:00\", \"2019-08-20T00:00:00\", \"2019-08-09T00:00:00\", \"2019-07-31T00:00:00\", \"2019-07-26T00:00:00\", \"2019-07-24T00:00:00\", \"2019-07-17T00:00:00\", \"2019-07-17T00:00:00\", \"2019-07-14T00:00:00\", \"2019-07-12T00:00:00\", \"2019-07-12T00:00:00\", \"2019-06-28T00:00:00\", \"2019-06-26T00:00:00\", \"2019-06-24T00:00:00\", \"2019-06-18T00:00:00\", \"2019-06-17T00:00:00\", \"2019-06-14T00:00:00\", \"2019-06-08T00:00:00\", \"2019-06-04T00:00:00\", \"2019-05-31T00:00:00\", \"2019-05-31T00:00:00\", \"2019-05-23T00:00:00\", \"2019-05-22T00:00:00\", \"2019-04-01T00:00:00\", \"2019-04-01T00:00:00\", \"2019-03-28T00:00:00\", \"2019-03-11T00:00:00\", \"2019-03-01T00:00:00\", \"2019-02-28T00:00:00\", \"2019-02-27T00:00:00\", \"2019-02-12T00:00:00\", \"2019-01-31T00:00:00\", \"2019-01-17T00:00:00\", \"2019-01-03T00:00:00\", \"2018-12-21T00:00:00\", \"2018-12-21T00:00:00\", \"2018-12-03T00:00:00\", \"2018-11-30T00:00:00\", \"2018-11-29T00:00:00\", \"2018-11-28T00:00:00\", \"2018-10-31T00:00:00\", \"2018-10-18T00:00:00\", \"2018-10-18T00:00:00\", \"2018-09-27T00:00:00\", \"2018-09-25T00:00:00\", \"2018-09-19T00:00:00\", \"2018-08-30T00:00:00\", \"2018-08-29T00:00:00\", \"2018-08-24T00:00:00\", \"2018-07-31T00:00:00\", \"2018-07-27T00:00:00\", \"2018-07-27T00:00:00\", \"2018-06-29T00:00:00\", \"2018-06-28T00:00:00\", \"2018-05-01T00:00:00\", \"2018-03-02T00:00:00\", \"2018-03-02T00:00:00\", \"2020-04-30T00:00:00\", \"2020-04-29T00:00:00\", \"2020-04-16T00:00:00\", \"2020-04-16T00:00:00\", \"2020-04-07T00:00:00\", \"2020-03-31T00:00:00\", \"2020-03-31T00:00:00\", \"2020-03-25T00:00:00\", \"2020-03-23T00:00:00\", \"2020-03-18T00:00:00\", \"2020-03-11T00:00:00\", \"2020-03-11T00:00:00\", \"2020-03-09T00:00:00\", \"2020-01-31T00:00:00\", \"2020-01-14T00:00:00\", \"2020-01-09T00:00:00\", \"2019-12-20T00:00:00\", \"2019-12-20T00:00:00\", \"2019-11-28T00:00:00\", \"2019-11-19T00:00:00\", \"2019-10-31T00:00:00\", \"2019-10-01T00:00:00\", \"2019-09-30T00:00:00\", \"2019-09-30T00:00:00\", \"2019-09-16T00:00:00\", \"2019-09-04T00:00:00\", \"2019-09-03T00:00:00\", \"2019-09-03T00:00:00\", \"2019-08-26T00:00:00\", \"2019-08-26T00:00:00\", \"2019-07-26T00:00:00\", \"2019-07-14T00:00:00\", \"2019-06-28T00:00:00\", \"2019-06-10T00:00:00\", \"2019-05-31T00:00:00\", \"2019-05-23T00:00:00\", \"2019-05-23T00:00:00\", \"2019-05-22T00:00:00\", \"2019-04-30T00:00:00\", \"2019-04-29T00:00:00\", \"2019-04-15T00:00:00\", \"2019-04-15T00:00:00\", \"2019-04-02T00:00:00\", \"2019-04-01T00:00:00\", \"2020-05-16T00:00:00\", \"2020-05-14T00:00:00\", \"2020-05-13T00:00:00\", \"2020-05-13T00:00:00\", \"2020-05-09T00:00:00\", \"2020-05-09T00:00:00\", \"2020-05-08T00:00:00\", \"2020-05-04T00:00:00\", \"2020-05-01T00:00:00\", \"2020-05-01T00:00:00\", \"2020-04-30T00:00:00\", \"2020-04-30T00:00:00\", \"2020-04-30T00:00:00\", \"2020-04-29T00:00:00\", \"2020-04-28T00:00:00\", \"2020-04-26T00:00:00\", \"2020-04-25T00:00:00\", \"2020-04-24T00:00:00\", \"2020-04-24T00:00:00\", \"2020-04-23T00:00:00\", \"2020-04-22T00:00:00\", \"2020-04-21T00:00:00\", \"2020-04-20T00:00:00\", \"2020-04-17T00:00:00\", \"2020-04-16T00:00:00\", \"2020-04-16T00:00:00\", \"2020-04-16T00:00:00\", \"2020-04-15T00:00:00\", \"2020-04-15T00:00:00\", \"2020-04-12T00:00:00\", \"2020-04-10T00:00:00\", \"2020-04-09T00:00:00\", \"2020-04-06T00:00:00\", \"2020-04-06T00:00:00\", \"2020-03-31T00:00:00\", \"2020-03-27T00:00:00\", \"2020-03-27T00:00:00\", \"2020-03-25T00:00:00\", \"2020-03-25T00:00:00\", \"2020-03-25T00:00:00\", \"2020-03-20T00:00:00\", \"2020-03-19T00:00:00\", \"2020-03-19T00:00:00\", \"2020-03-13T00:00:00\", \"2020-03-11T00:00:00\", \"2020-03-11T00:00:00\", \"2020-03-10T00:00:00\", \"2020-03-10T00:00:00\", \"2020-03-06T00:00:00\", \"2020-02-27T00:00:00\", \"2020-02-26T00:00:00\", \"2020-02-25T00:00:00\", \"2020-02-20T00:00:00\", \"2020-02-19T00:00:00\", \"2020-02-18T00:00:00\", \"2020-02-16T00:00:00\", \"2020-02-13T00:00:00\", \"2020-01-31T00:00:00\", \"2020-01-02T00:00:00\", \"2019-12-16T00:00:00\", \"2019-12-12T00:00:00\", \"2019-12-11T00:00:00\", \"2019-12-03T00:00:00\", \"2019-12-02T00:00:00\", \"2019-11-27T00:00:00\", \"2019-11-24T00:00:00\", \"2019-11-15T00:00:00\", \"2019-11-08T00:00:00\", \"2019-11-05T00:00:00\", \"2019-10-30T00:00:00\", \"2019-10-25T00:00:00\", \"2019-10-03T00:00:00\", \"2019-10-02T00:00:00\", \"2019-10-01T00:00:00\", \"2019-10-01T00:00:00\", \"2019-09-30T00:00:00\", \"2019-09-29T00:00:00\", \"2019-09-26T00:00:00\", \"2019-09-20T00:00:00\", \"2019-09-15T00:00:00\", \"2019-09-10T00:00:00\", \"2019-09-08T00:00:00\", \"2019-09-06T00:00:00\", \"2019-09-04T00:00:00\", \"2019-08-30T00:00:00\", \"2019-08-27T00:00:00\", \"2019-08-22T00:00:00\", \"2019-08-13T00:00:00\", \"2019-08-01T00:00:00\", \"2019-07-16T00:00:00\", \"2019-07-04T00:00:00\", \"2019-07-02T00:00:00\", \"2019-06-28T00:00:00\", \"2019-06-04T00:00:00\", \"2019-05-28T00:00:00\", \"2019-05-23T00:00:00\", \"2019-05-20T00:00:00\"], \"xaxis\": \"x\", \"y\": [-1.5, -1.5, 0.0, -1.5, -1.5, -1.5, -1.5, -1.5, 0.0, -1.5, -1.5, -1.5, 0.0, -1.5, -1.5, -1.5, -1.5, -1.5, -1.5, 0.0, 0.0, -1.5, -1.5, 0.0, -1.5, -1.5, 0.0, 0.0, 0.0, 0.0, -1.5, 0.0, -1.5, 1.5, 1.5, 0.0, 1.5, 0.0, -1.5, -1.5, 1.5, 1.5, 1.5, 0.0, 0.0, -1.5, -1.5, -1.5, 0.0, -1.5, 1.5, -1.5, 0.0, -1.5, 1.5, 1.5, 0.0, 1.5, 0.0, 0.0, -1.5, 1.5, 0.0, 0.0, 0.0, 0.0, 0.0, -1.5, 0.0, 0.0, 0.0, -1.5, 1.5, -1.5, 0.0, 0.0, 1.5, -1.5, -1.5, 1.5, 1.5, -1.5, 1.5, 0.0, 1.5, 0.0, 0.0, 0.0, 0.0, 0.0, 0.0, 0.0, 0.0, -1.5, 1.5, 0.0, -1.5, -1.5, -1.5, -1.5, -1.5, 1.5, -1.5, -1.5, -1.5, -1.5, 0.0, 1.5, 1.5, -1.5, -1.5, 0.0, 1.5, 1.5, -1.5, -1.5, 1.5, 0.0, 1.5, 1.5, 1.5, -1.5, 1.5, 1.5, 1.5, 1.5, -1.5, 1.5, -1.5, -1.5, -1.4975207448005676, -1.498285949230194, -1.4902855753898618, -1.4733055233955383, -1.4650974869728088, -1.4989307522773745, -1.4891778230667114, -1.490716516971588, -1.3314192891120908, -1.4214408993721008, -1.3934794664382937, -1.3336432576179504, -1.4901069402694702, -1.4988272786140442, -1.4405885338783264, -1.329418063163757, -1.1488687992095947, 1.3256945013999941, -1.4935338497161863, -0.1414221823215485, -1.4955782294273376, -1.4994325041770935, 1.2366125583648682, 1.232754111289978, -1.3392068147659302, -1.4874122142791748, -0.0008412636816501582, -1.2549678087234497, -1.382517158985138, -0.9442244172096252, -1.4990059733390808, -1.4330191016197205, 1.3845785856246948, -1.1699542999267578, -1.4967417120933533, 1.4242247939109802, -1.1155351400375366, 0.27120379358530045, -1.4987849593162537, 0.03557952493429184, 1.3461576700210571, 1.3461576700210571, -1.3638954758644104, -1.3584988117218018, -1.4102745652198792, -1.1612778902053833, -1.4943377375602722, -1.440325915813446, -0.2720678243786097, -1.4988458156585691, 0.2374052815139293, -1.016398012638092, -1.496625304222107, -1.4863579273223877, -1.498120367527008, -1.268121063709259, -1.4897152781486511, -1.4800333380699158, -1.4496411085128784, -1.480435132980347, -0.21442283689975736, 0.019620519131422043, -0.9953454732894896, 0.9750491678714752, 0.13697616755962375, -0.013365201652050022, -1.4795071482658386, -1.2837618589401243, -0.9752251207828522, -1.495346486568451, -1.4976140260696411, -0.015296204015612604, -1.4980791807174685, -1.065637469291687, -1.305814564228058, -1.4844489693641665, -1.0469048619270325, -0.015702236676588658, -0.9935397803783416, -1.4897488951683044, -1.0094648003578186, -1.4856913685798645, -0.4026195788756013, -0.05605441331863403, -1.2040889859199524, -1.1600334644317627, -1.4872260689735413, -1.4958342313766482, -1.4672401547431946, -1.4717780947685242, -1.3115956783294678, -0.3093124516308308, -1.4601668119430542, -1.2071483135223389, -1.4822140336036682, -1.4708333611488342, -1.353023886680603, 0.3088863492012024, -1.4666168093681335, -1.2439340949058533, -1.1757996678352356, -1.4692213535308838, -0.01837285608053208, -1.4635162949562073, -1.4937759637832642, 0.09628693014383316, -0.07459027692675592, 0.05560144782066345, -1.4423192739486694, -0.434554386883974, -1.435813069343567, -1.386469542980194, -1.2855457067489624, -1.4135168790817259, 1.368165910243988, -1.4970613121986391, -1.2277562022209167, -0.06451679905876517, 1.0025845766067505, -0.2367376312613487, -1.1168586015701294, -0.042585797607898726, -1.245606780052185, -1.1138149499893188, -1.49246746301651, -1.4902347326278689, -1.4502134919166565, -0.01021822914481163, -1.3705164194107056, -1.389236330986023, -1.4831101894378662, -0.04732032865285875, -1.3564692735671997, -1.4724942445755005, 1.0466192364692688, -1.0514061450958252, -1.4887521862983704, -1.4861286878585815, -1.4947170615196228, -0.0522558530792594, -1.4239038228988647], \"yaxis\": \"y2\"}],\n",
       "                        {\"template\": {\"data\": {\"bar\": [{\"error_x\": {\"color\": \"#2a3f5f\"}, \"error_y\": {\"color\": \"#2a3f5f\"}, \"marker\": {\"line\": {\"color\": \"#E5ECF6\", \"width\": 0.5}}, \"type\": \"bar\"}], \"barpolar\": [{\"marker\": {\"line\": {\"color\": \"#E5ECF6\", \"width\": 0.5}}, \"type\": \"barpolar\"}], \"carpet\": [{\"aaxis\": {\"endlinecolor\": \"#2a3f5f\", \"gridcolor\": \"white\", \"linecolor\": \"white\", \"minorgridcolor\": \"white\", \"startlinecolor\": \"#2a3f5f\"}, \"baxis\": {\"endlinecolor\": \"#2a3f5f\", \"gridcolor\": \"white\", \"linecolor\": \"white\", \"minorgridcolor\": \"white\", \"startlinecolor\": \"#2a3f5f\"}, \"type\": \"carpet\"}], \"choropleth\": [{\"colorbar\": {\"outlinewidth\": 0, \"ticks\": \"\"}, \"type\": \"choropleth\"}], \"contour\": [{\"colorbar\": {\"outlinewidth\": 0, \"ticks\": \"\"}, \"colorscale\": [[0.0, \"#0d0887\"], [0.1111111111111111, \"#46039f\"], [0.2222222222222222, \"#7201a8\"], [0.3333333333333333, \"#9c179e\"], [0.4444444444444444, \"#bd3786\"], [0.5555555555555556, \"#d8576b\"], [0.6666666666666666, \"#ed7953\"], [0.7777777777777778, \"#fb9f3a\"], [0.8888888888888888, \"#fdca26\"], [1.0, \"#f0f921\"]], \"type\": \"contour\"}], \"contourcarpet\": [{\"colorbar\": {\"outlinewidth\": 0, \"ticks\": \"\"}, \"type\": \"contourcarpet\"}], \"heatmap\": [{\"colorbar\": {\"outlinewidth\": 0, \"ticks\": \"\"}, \"colorscale\": [[0.0, \"#0d0887\"], [0.1111111111111111, \"#46039f\"], [0.2222222222222222, \"#7201a8\"], [0.3333333333333333, \"#9c179e\"], [0.4444444444444444, \"#bd3786\"], [0.5555555555555556, \"#d8576b\"], [0.6666666666666666, \"#ed7953\"], [0.7777777777777778, \"#fb9f3a\"], [0.8888888888888888, \"#fdca26\"], [1.0, \"#f0f921\"]], \"type\": \"heatmap\"}], \"heatmapgl\": [{\"colorbar\": {\"outlinewidth\": 0, \"ticks\": \"\"}, \"colorscale\": [[0.0, \"#0d0887\"], [0.1111111111111111, \"#46039f\"], [0.2222222222222222, \"#7201a8\"], [0.3333333333333333, \"#9c179e\"], [0.4444444444444444, \"#bd3786\"], [0.5555555555555556, \"#d8576b\"], [0.6666666666666666, \"#ed7953\"], [0.7777777777777778, \"#fb9f3a\"], [0.8888888888888888, \"#fdca26\"], [1.0, \"#f0f921\"]], \"type\": \"heatmapgl\"}], \"histogram\": [{\"marker\": {\"colorbar\": {\"outlinewidth\": 0, \"ticks\": \"\"}}, \"type\": \"histogram\"}], \"histogram2d\": [{\"colorbar\": {\"outlinewidth\": 0, \"ticks\": \"\"}, \"colorscale\": [[0.0, \"#0d0887\"], [0.1111111111111111, \"#46039f\"], [0.2222222222222222, \"#7201a8\"], [0.3333333333333333, \"#9c179e\"], [0.4444444444444444, \"#bd3786\"], [0.5555555555555556, \"#d8576b\"], [0.6666666666666666, \"#ed7953\"], [0.7777777777777778, \"#fb9f3a\"], [0.8888888888888888, \"#fdca26\"], [1.0, \"#f0f921\"]], \"type\": \"histogram2d\"}], \"histogram2dcontour\": [{\"colorbar\": {\"outlinewidth\": 0, \"ticks\": \"\"}, \"colorscale\": [[0.0, \"#0d0887\"], [0.1111111111111111, \"#46039f\"], [0.2222222222222222, \"#7201a8\"], [0.3333333333333333, \"#9c179e\"], [0.4444444444444444, \"#bd3786\"], [0.5555555555555556, \"#d8576b\"], [0.6666666666666666, \"#ed7953\"], [0.7777777777777778, \"#fb9f3a\"], [0.8888888888888888, \"#fdca26\"], [1.0, \"#f0f921\"]], \"type\": \"histogram2dcontour\"}], \"mesh3d\": [{\"colorbar\": {\"outlinewidth\": 0, \"ticks\": \"\"}, \"type\": \"mesh3d\"}], \"parcoords\": [{\"line\": {\"colorbar\": {\"outlinewidth\": 0, \"ticks\": \"\"}}, \"type\": \"parcoords\"}], \"pie\": [{\"automargin\": true, \"type\": \"pie\"}], \"scatter\": [{\"marker\": {\"colorbar\": {\"outlinewidth\": 0, \"ticks\": \"\"}}, \"type\": \"scatter\"}], \"scatter3d\": [{\"line\": {\"colorbar\": {\"outlinewidth\": 0, \"ticks\": \"\"}}, \"marker\": {\"colorbar\": {\"outlinewidth\": 0, \"ticks\": \"\"}}, \"type\": \"scatter3d\"}], \"scattercarpet\": [{\"marker\": {\"colorbar\": {\"outlinewidth\": 0, \"ticks\": \"\"}}, \"type\": \"scattercarpet\"}], \"scattergeo\": [{\"marker\": {\"colorbar\": {\"outlinewidth\": 0, \"ticks\": \"\"}}, \"type\": \"scattergeo\"}], \"scattergl\": [{\"marker\": {\"colorbar\": {\"outlinewidth\": 0, \"ticks\": \"\"}}, \"type\": \"scattergl\"}], \"scattermapbox\": [{\"marker\": {\"colorbar\": {\"outlinewidth\": 0, \"ticks\": \"\"}}, \"type\": \"scattermapbox\"}], \"scatterpolar\": [{\"marker\": {\"colorbar\": {\"outlinewidth\": 0, \"ticks\": \"\"}}, \"type\": \"scatterpolar\"}], \"scatterpolargl\": [{\"marker\": {\"colorbar\": {\"outlinewidth\": 0, \"ticks\": \"\"}}, \"type\": \"scatterpolargl\"}], \"scatterternary\": [{\"marker\": {\"colorbar\": {\"outlinewidth\": 0, \"ticks\": \"\"}}, \"type\": \"scatterternary\"}], \"surface\": [{\"colorbar\": {\"outlinewidth\": 0, \"ticks\": \"\"}, \"colorscale\": [[0.0, \"#0d0887\"], [0.1111111111111111, \"#46039f\"], [0.2222222222222222, \"#7201a8\"], [0.3333333333333333, \"#9c179e\"], [0.4444444444444444, \"#bd3786\"], [0.5555555555555556, \"#d8576b\"], [0.6666666666666666, \"#ed7953\"], [0.7777777777777778, \"#fb9f3a\"], [0.8888888888888888, \"#fdca26\"], [1.0, \"#f0f921\"]], \"type\": \"surface\"}], \"table\": [{\"cells\": {\"fill\": {\"color\": \"#EBF0F8\"}, \"line\": {\"color\": \"white\"}}, \"header\": {\"fill\": {\"color\": \"#C8D4E3\"}, \"line\": {\"color\": \"white\"}}, \"type\": \"table\"}]}, \"layout\": {\"annotationdefaults\": {\"arrowcolor\": \"#2a3f5f\", \"arrowhead\": 0, \"arrowwidth\": 1}, \"coloraxis\": {\"colorbar\": {\"outlinewidth\": 0, \"ticks\": \"\"}}, \"colorscale\": {\"diverging\": [[0, \"#8e0152\"], [0.1, \"#c51b7d\"], [0.2, \"#de77ae\"], [0.3, \"#f1b6da\"], [0.4, \"#fde0ef\"], [0.5, \"#f7f7f7\"], [0.6, \"#e6f5d0\"], [0.7, \"#b8e186\"], [0.8, \"#7fbc41\"], [0.9, \"#4d9221\"], [1, \"#276419\"]], \"sequential\": [[0.0, \"#0d0887\"], [0.1111111111111111, \"#46039f\"], [0.2222222222222222, \"#7201a8\"], [0.3333333333333333, \"#9c179e\"], [0.4444444444444444, \"#bd3786\"], [0.5555555555555556, \"#d8576b\"], [0.6666666666666666, \"#ed7953\"], [0.7777777777777778, \"#fb9f3a\"], [0.8888888888888888, \"#fdca26\"], [1.0, \"#f0f921\"]], \"sequentialminus\": [[0.0, \"#0d0887\"], [0.1111111111111111, \"#46039f\"], [0.2222222222222222, \"#7201a8\"], [0.3333333333333333, \"#9c179e\"], [0.4444444444444444, \"#bd3786\"], [0.5555555555555556, \"#d8576b\"], [0.6666666666666666, \"#ed7953\"], [0.7777777777777778, \"#fb9f3a\"], [0.8888888888888888, \"#fdca26\"], [1.0, \"#f0f921\"]]}, \"colorway\": [\"#636efa\", \"#EF553B\", \"#00cc96\", \"#ab63fa\", \"#FFA15A\", \"#19d3f3\", \"#FF6692\", \"#B6E880\", \"#FF97FF\", \"#FECB52\"], \"font\": {\"color\": \"#2a3f5f\"}, \"geo\": {\"bgcolor\": \"white\", \"lakecolor\": \"white\", \"landcolor\": \"#E5ECF6\", \"showlakes\": true, \"showland\": true, \"subunitcolor\": \"white\"}, \"hoverlabel\": {\"align\": \"left\"}, \"hovermode\": \"closest\", \"mapbox\": {\"style\": \"light\"}, \"paper_bgcolor\": \"white\", \"plot_bgcolor\": \"#E5ECF6\", \"polar\": {\"angularaxis\": {\"gridcolor\": \"white\", \"linecolor\": \"white\", \"ticks\": \"\"}, \"bgcolor\": \"#E5ECF6\", \"radialaxis\": {\"gridcolor\": \"white\", \"linecolor\": \"white\", \"ticks\": \"\"}}, \"scene\": {\"xaxis\": {\"backgroundcolor\": \"#E5ECF6\", \"gridcolor\": \"white\", \"gridwidth\": 2, \"linecolor\": \"white\", \"showbackground\": true, \"ticks\": \"\", \"zerolinecolor\": \"white\"}, \"yaxis\": {\"backgroundcolor\": \"#E5ECF6\", \"gridcolor\": \"white\", \"gridwidth\": 2, \"linecolor\": \"white\", \"showbackground\": true, \"ticks\": \"\", \"zerolinecolor\": \"white\"}, \"zaxis\": {\"backgroundcolor\": \"#E5ECF6\", \"gridcolor\": \"white\", \"gridwidth\": 2, \"linecolor\": \"white\", \"showbackground\": true, \"ticks\": \"\", \"zerolinecolor\": \"white\"}}, \"shapedefaults\": {\"line\": {\"color\": \"#2a3f5f\"}}, \"ternary\": {\"aaxis\": {\"gridcolor\": \"white\", \"linecolor\": \"white\", \"ticks\": \"\"}, \"baxis\": {\"gridcolor\": \"white\", \"linecolor\": \"white\", \"ticks\": \"\"}, \"bgcolor\": \"#E5ECF6\", \"caxis\": {\"gridcolor\": \"white\", \"linecolor\": \"white\", \"ticks\": \"\"}}, \"title\": {\"x\": 0.05}, \"xaxis\": {\"automargin\": true, \"gridcolor\": \"white\", \"linecolor\": \"white\", \"ticks\": \"\", \"title\": {\"standoff\": 15}, \"zerolinecolor\": \"white\", \"zerolinewidth\": 2}, \"yaxis\": {\"automargin\": true, \"gridcolor\": \"white\", \"linecolor\": \"white\", \"ticks\": \"\", \"title\": {\"standoff\": 15}, \"zerolinecolor\": \"white\", \"zerolinewidth\": 2}}}, \"title\": {\"text\": \"GDP VS news sentiment \"}, \"xaxis\": {\"anchor\": \"y\", \"domain\": [0.0, 0.94], \"range\": [\"2019-01-01T00:00:00\", \"2020-03-01T00:00:00\"], \"rangeslider\": {\"visible\": true}, \"title\": {\"text\": \"Date\"}}, \"yaxis\": {\"anchor\": \"x\", \"autorange\": false, \"domain\": [0.0, 1.0], \"range\": [1846868999999.9, 1990433000000.1], \"title\": {\"text\": \"Chained (2012) Dollars (seasonally adjusted)\"}}, \"yaxis2\": {\"anchor\": \"x\", \"overlaying\": \"y\", \"range\": [-2.5, 2.5], \"side\": \"right\", \"title\": {\"text\": \"Sentiment Score\"}}},\n",
       "                        {\"responsive\": true}\n",
       "                    ).then(function(){\n",
       "                            \n",
       "var gd = document.getElementById('ad2dd61c-1ce5-4db8-b1e7-dba1a21b815a');\n",
       "var x = new MutationObserver(function (mutations, observer) {{\n",
       "        var display = window.getComputedStyle(gd).display;\n",
       "        if (!display || display === 'none') {{\n",
       "            console.log([gd, 'removed!']);\n",
       "            Plotly.purge(gd);\n",
       "            observer.disconnect();\n",
       "        }}\n",
       "}});\n",
       "\n",
       "// Listen for the removal of the full notebook cells\n",
       "var notebookContainer = gd.closest('#notebook-container');\n",
       "if (notebookContainer) {{\n",
       "    x.observe(notebookContainer, {childList: true});\n",
       "}}\n",
       "\n",
       "// Listen for the clearing of the current output cell\n",
       "var outputEl = gd.closest('.output');\n",
       "if (outputEl) {{\n",
       "    x.observe(outputEl, {childList: true});\n",
       "}}\n",
       "\n",
       "                        })\n",
       "                };\n",
       "                });\n",
       "            </script>\n",
       "        </div>"
      ]
     },
     "metadata": {},
     "output_type": "display_data"
    }
   ],
   "source": [
    "daily_senti_df = combined_senti_df.query('indicator==\"gdp\" ').rename(columns={'raw_sentiment_score':'final_sentiment'} )\n",
    "monthly_senti_df =get_monthly_avg_score(combined_senti_df.query('indicator==\"gdp\" '))\n",
    "senti_df = monthly_senti_df.rename(columns={'monthly_avg_sent_score':'final_sentiment'} )\n",
    "\n",
    "indicator_name = \"GDP\"\n",
    "indicator_colname = 'value_'+\"_\".join(indicator_name.split())# value_mortgage_rates\t\n",
    "#indicator_df = indicators_df[[indicator_colname]].dropna()\n",
    "indicator_df = indicators_df[['date', indicator_colname]].dropna().rename(columns={indicator_colname:\"values\",\"date\":\"dates\"})\n",
    "indicator_label = indic_to_value[indicator_colname]\n",
    "test_title = indicator_name + ' VS news sentiment ' # (2019 Jan - 2020 May) -- this is not the same for each indicator data\n",
    "\n",
    "test_fig = plot_combined_graph_new(indicator_df, senti_df, indicator_label, test_title) \n",
    "test_fig.show()\n",
    "\n",
    "test_fig2 = plot_combined_graph_scatter(indicator_df, daily_senti_df, indicator_label, test_title) \n",
    "test_fig2.show()"
   ]
  },
  {
   "cell_type": "code",
   "execution_count": 195,
   "metadata": {},
   "outputs": [
    {
     "data": {
      "text/plain": [
       "array(['annotated', 'predicted'], dtype=object)"
      ]
     },
     "execution_count": 195,
     "metadata": {},
     "output_type": "execute_result"
    }
   ],
   "source": [
    "combined_senti_df.annotation_type.unique()"
   ]
  },
  {
   "cell_type": "code",
   "execution_count": 216,
   "metadata": {},
   "outputs": [
    {
     "data": {
      "application/vnd.plotly.v1+json": {
       "config": {
        "plotlyServerURL": "https://plot.ly"
       },
       "data": [
        {
         "line": {
          "color": "blue"
         },
         "mode": "lines",
         "name": "Interest Rate - Overnight Target Rate (Bank of Canada)",
         "type": "scatter",
         "x": [
          "2019-05-31T00:00:00",
          "2019-06-03T00:00:00",
          "2019-06-04T00:00:00",
          "2019-06-05T00:00:00",
          "2019-06-06T00:00:00",
          "2019-06-07T00:00:00",
          "2019-06-10T00:00:00",
          "2019-06-11T00:00:00",
          "2019-06-12T00:00:00",
          "2019-06-13T00:00:00",
          "2019-06-14T00:00:00",
          "2019-06-17T00:00:00",
          "2019-06-18T00:00:00",
          "2019-06-19T00:00:00",
          "2019-06-20T00:00:00",
          "2019-06-21T00:00:00",
          "2019-06-24T00:00:00",
          "2019-06-25T00:00:00",
          "2019-06-26T00:00:00",
          "2019-06-27T00:00:00",
          "2019-06-28T00:00:00",
          "2019-07-01T00:00:00",
          "2019-07-02T00:00:00",
          "2019-07-03T00:00:00",
          "2019-07-04T00:00:00",
          "2019-07-05T00:00:00",
          "2019-07-08T00:00:00",
          "2019-07-09T00:00:00",
          "2019-07-10T00:00:00",
          "2019-07-11T00:00:00",
          "2019-07-12T00:00:00",
          "2019-07-15T00:00:00",
          "2019-07-16T00:00:00",
          "2019-07-17T00:00:00",
          "2019-07-18T00:00:00",
          "2019-07-19T00:00:00",
          "2019-07-22T00:00:00",
          "2019-07-23T00:00:00",
          "2019-07-24T00:00:00",
          "2019-07-25T00:00:00",
          "2019-07-26T00:00:00",
          "2019-07-29T00:00:00",
          "2019-07-30T00:00:00",
          "2019-07-31T00:00:00",
          "2019-08-01T00:00:00",
          "2019-08-02T00:00:00",
          "2019-08-05T00:00:00",
          "2019-08-06T00:00:00",
          "2019-08-07T00:00:00",
          "2019-08-08T00:00:00",
          "2019-08-09T00:00:00",
          "2019-08-12T00:00:00",
          "2019-08-13T00:00:00",
          "2019-08-14T00:00:00",
          "2019-08-15T00:00:00",
          "2019-08-16T00:00:00",
          "2019-08-19T00:00:00",
          "2019-08-20T00:00:00",
          "2019-08-21T00:00:00",
          "2019-08-22T00:00:00",
          "2019-08-23T00:00:00",
          "2019-08-26T00:00:00",
          "2019-08-27T00:00:00",
          "2019-08-28T00:00:00",
          "2019-08-29T00:00:00",
          "2019-08-30T00:00:00",
          "2019-09-02T00:00:00",
          "2019-09-03T00:00:00",
          "2019-09-04T00:00:00",
          "2019-09-05T00:00:00",
          "2019-09-06T00:00:00",
          "2019-09-09T00:00:00",
          "2019-09-10T00:00:00",
          "2019-09-11T00:00:00",
          "2019-09-12T00:00:00",
          "2019-09-13T00:00:00",
          "2019-09-16T00:00:00",
          "2019-09-17T00:00:00",
          "2019-09-18T00:00:00",
          "2019-09-19T00:00:00",
          "2019-09-20T00:00:00",
          "2019-09-23T00:00:00",
          "2019-09-24T00:00:00",
          "2019-09-25T00:00:00",
          "2019-09-26T00:00:00",
          "2019-09-27T00:00:00",
          "2019-09-30T00:00:00",
          "2019-10-01T00:00:00",
          "2019-10-02T00:00:00",
          "2019-10-03T00:00:00",
          "2019-10-04T00:00:00",
          "2019-10-07T00:00:00",
          "2019-10-08T00:00:00",
          "2019-10-09T00:00:00",
          "2019-10-10T00:00:00",
          "2019-10-11T00:00:00",
          "2019-10-14T00:00:00",
          "2019-10-15T00:00:00",
          "2019-10-16T00:00:00",
          "2019-10-17T00:00:00",
          "2019-10-18T00:00:00",
          "2019-10-21T00:00:00",
          "2019-10-22T00:00:00",
          "2019-10-23T00:00:00",
          "2019-10-24T00:00:00",
          "2019-10-25T00:00:00",
          "2019-10-28T00:00:00",
          "2019-10-29T00:00:00",
          "2019-10-30T00:00:00",
          "2019-10-31T00:00:00",
          "2019-11-01T00:00:00",
          "2019-11-04T00:00:00",
          "2019-11-05T00:00:00",
          "2019-11-06T00:00:00",
          "2019-11-07T00:00:00",
          "2019-11-08T00:00:00",
          "2019-11-11T00:00:00",
          "2019-11-12T00:00:00",
          "2019-11-13T00:00:00",
          "2019-11-14T00:00:00",
          "2019-11-15T00:00:00",
          "2019-11-18T00:00:00",
          "2019-11-19T00:00:00",
          "2019-11-20T00:00:00",
          "2019-11-21T00:00:00",
          "2019-11-22T00:00:00",
          "2019-11-25T00:00:00",
          "2019-11-26T00:00:00",
          "2019-11-27T00:00:00",
          "2019-11-28T00:00:00",
          "2019-11-29T00:00:00",
          "2019-12-02T00:00:00",
          "2019-12-03T00:00:00",
          "2019-12-04T00:00:00",
          "2019-12-05T00:00:00",
          "2019-12-06T00:00:00",
          "2019-12-09T00:00:00",
          "2019-12-10T00:00:00",
          "2019-12-11T00:00:00",
          "2019-12-12T00:00:00",
          "2019-12-13T00:00:00",
          "2019-12-16T00:00:00",
          "2019-12-17T00:00:00",
          "2019-12-18T00:00:00",
          "2019-12-19T00:00:00",
          "2019-12-20T00:00:00",
          "2019-12-23T00:00:00",
          "2019-12-24T00:00:00",
          "2019-12-25T00:00:00",
          "2019-12-26T00:00:00",
          "2019-12-27T00:00:00",
          "2019-12-30T00:00:00",
          "2019-12-31T00:00:00",
          "2020-01-01T00:00:00",
          "2020-01-02T00:00:00",
          "2020-01-03T00:00:00",
          "2020-01-06T00:00:00",
          "2020-01-07T00:00:00",
          "2020-01-08T00:00:00",
          "2020-01-09T00:00:00",
          "2020-01-10T00:00:00",
          "2020-01-13T00:00:00",
          "2020-01-14T00:00:00",
          "2020-01-15T00:00:00",
          "2020-01-16T00:00:00",
          "2020-01-17T00:00:00",
          "2020-01-20T00:00:00",
          "2020-01-21T00:00:00",
          "2020-01-22T00:00:00",
          "2020-01-23T00:00:00",
          "2020-01-24T00:00:00",
          "2020-01-27T00:00:00",
          "2020-01-28T00:00:00",
          "2020-01-29T00:00:00",
          "2020-01-30T00:00:00",
          "2020-01-31T00:00:00",
          "2020-02-03T00:00:00",
          "2020-02-04T00:00:00",
          "2020-02-05T00:00:00",
          "2020-02-06T00:00:00",
          "2020-02-07T00:00:00",
          "2020-02-10T00:00:00",
          "2020-02-11T00:00:00",
          "2020-02-12T00:00:00",
          "2020-02-13T00:00:00",
          "2020-02-14T00:00:00",
          "2020-02-17T00:00:00",
          "2020-02-18T00:00:00",
          "2020-02-19T00:00:00",
          "2020-02-20T00:00:00",
          "2020-02-21T00:00:00",
          "2020-02-24T00:00:00",
          "2020-02-25T00:00:00",
          "2020-02-26T00:00:00",
          "2020-02-27T00:00:00",
          "2020-02-28T00:00:00",
          "2020-03-02T00:00:00",
          "2020-03-03T00:00:00",
          "2020-03-04T00:00:00",
          "2020-03-05T00:00:00",
          "2020-03-06T00:00:00",
          "2020-03-09T00:00:00",
          "2020-03-10T00:00:00",
          "2020-03-11T00:00:00",
          "2020-03-12T00:00:00",
          "2020-03-13T00:00:00",
          "2020-03-16T00:00:00",
          "2020-03-17T00:00:00",
          "2020-03-18T00:00:00",
          "2020-03-19T00:00:00",
          "2020-03-20T00:00:00",
          "2020-03-23T00:00:00",
          "2020-03-24T00:00:00",
          "2020-03-25T00:00:00",
          "2020-03-26T00:00:00",
          "2020-03-27T00:00:00",
          "2020-03-30T00:00:00",
          "2020-03-31T00:00:00",
          "2020-04-01T00:00:00",
          "2020-04-02T00:00:00",
          "2020-04-03T00:00:00",
          "2020-04-06T00:00:00",
          "2020-04-07T00:00:00",
          "2020-04-08T00:00:00",
          "2020-04-09T00:00:00",
          "2020-04-10T00:00:00",
          "2020-04-13T00:00:00",
          "2020-04-14T00:00:00",
          "2020-04-15T00:00:00",
          "2020-04-16T00:00:00",
          "2020-04-17T00:00:00",
          "2020-04-20T00:00:00",
          "2020-04-21T00:00:00",
          "2020-04-22T00:00:00",
          "2020-04-23T00:00:00",
          "2020-04-24T00:00:00",
          "2020-04-27T00:00:00",
          "2020-04-28T00:00:00",
          "2020-04-29T00:00:00",
          "2020-04-30T00:00:00",
          "2020-05-01T00:00:00",
          "2020-05-04T00:00:00",
          "2020-05-05T00:00:00",
          "2020-05-06T00:00:00",
          "2020-05-07T00:00:00",
          "2020-05-08T00:00:00",
          "2020-05-11T00:00:00",
          "2020-05-12T00:00:00",
          "2020-05-13T00:00:00",
          "2020-05-14T00:00:00",
          "2020-05-15T00:00:00",
          "2020-05-18T00:00:00",
          "2020-05-19T00:00:00",
          "2020-05-20T00:00:00",
          "2020-05-21T00:00:00",
          "2020-05-22T00:00:00",
          "2020-05-25T00:00:00",
          "2020-05-26T00:00:00",
          "2020-05-27T00:00:00",
          "2020-05-28T00:00:00",
          "2020-05-29T00:00:00",
          "2020-06-01T00:00:00"
         ],
         "xaxis": "x",
         "y": [
          1.75,
          1.75,
          1.75,
          1.75,
          1.75,
          1.75,
          1.75,
          1.75,
          1.75,
          1.75,
          1.75,
          1.75,
          1.75,
          1.75,
          1.75,
          1.75,
          1.75,
          1.75,
          1.75,
          1.75,
          1.75,
          1.75,
          1.75,
          1.75,
          1.75,
          1.75,
          1.75,
          1.75,
          1.75,
          1.75,
          1.75,
          1.75,
          1.75,
          1.75,
          1.75,
          1.75,
          1.75,
          1.75,
          1.75,
          1.75,
          1.75,
          1.75,
          1.75,
          1.75,
          1.75,
          1.75,
          1.75,
          1.75,
          1.75,
          1.75,
          1.75,
          1.75,
          1.75,
          1.75,
          1.75,
          1.75,
          1.75,
          1.75,
          1.75,
          1.75,
          1.75,
          1.75,
          1.75,
          1.75,
          1.75,
          1.75,
          1.75,
          1.75,
          1.75,
          1.75,
          1.75,
          1.75,
          1.75,
          1.75,
          1.75,
          1.75,
          1.75,
          1.75,
          1.75,
          1.75,
          1.75,
          1.75,
          1.75,
          1.75,
          1.75,
          1.75,
          1.75,
          1.75,
          1.75,
          1.75,
          1.75,
          1.75,
          1.75,
          1.75,
          1.75,
          1.75,
          1.75,
          1.75,
          1.75,
          1.75,
          1.75,
          1.75,
          1.75,
          1.75,
          1.75,
          1.75,
          1.75,
          1.75,
          1.75,
          1.75,
          1.75,
          1.75,
          1.75,
          1.75,
          1.75,
          1.75,
          1.75,
          1.75,
          1.75,
          1.75,
          1.75,
          1.75,
          1.75,
          1.75,
          1.75,
          1.75,
          1.75,
          1.75,
          1.75,
          1.75,
          1.75,
          1.75,
          1.75,
          1.75,
          1.75,
          1.75,
          1.75,
          1.75,
          1.75,
          1.75,
          1.75,
          1.75,
          1.75,
          1.75,
          1.75,
          1.75,
          1.75,
          1.75,
          1.75,
          1.75,
          1.75,
          1.75,
          1.75,
          1.75,
          1.75,
          1.75,
          1.75,
          1.75,
          1.75,
          1.75,
          1.75,
          1.75,
          1.75,
          1.75,
          1.75,
          1.75,
          1.75,
          1.75,
          1.75,
          1.75,
          1.75,
          1.75,
          1.75,
          1.75,
          1.75,
          1.75,
          1.75,
          1.75,
          1.75,
          1.75,
          1.75,
          1.75,
          1.75,
          1.75,
          1.75,
          1.75,
          1.75,
          1.75,
          1.75,
          1.75,
          1.75,
          1.75,
          1.75,
          1.75,
          1.75,
          1.75,
          1.75,
          1.75,
          1.25,
          1.25,
          1.25,
          1.25,
          1.25,
          1.25,
          1.25,
          1.25,
          0.75,
          0.75,
          0.75,
          0.75,
          0.75,
          0.75,
          0.75,
          0.75,
          0.75,
          0.25,
          0.25,
          0.25,
          0.25,
          0.25,
          0.25,
          0.25,
          0.25,
          0.25,
          0.25,
          0.25,
          0.25,
          0.25,
          0.25,
          0.25,
          0.25,
          0.25,
          0.25,
          0.25,
          0.25,
          0.25,
          0.25,
          0.25,
          0.25,
          0.25,
          0.25,
          0.25,
          0.25,
          0.25,
          0.25,
          0.25,
          0.25,
          0.25,
          0.25,
          0.25,
          0.25,
          0.25,
          0.25,
          0.25,
          0.25,
          0.25,
          0.25,
          0.25,
          0.25,
          0.25,
          0.25,
          0.25
         ],
         "yaxis": "y"
        },
        {
         "marker": {
          "color": "green"
         },
         "mode": "markers",
         "name": "Predicted Sentiment",
         "opacity": 0.5,
         "type": "scatter",
         "x": [
          "2020-04-30T00:00:00",
          "2020-04-29T00:00:00",
          "2020-04-16T00:00:00",
          "2020-04-16T00:00:00",
          "2020-04-07T00:00:00",
          "2020-03-31T00:00:00",
          "2020-03-31T00:00:00",
          "2020-03-25T00:00:00",
          "2020-03-23T00:00:00",
          "2020-03-18T00:00:00",
          "2020-03-11T00:00:00",
          "2020-03-11T00:00:00",
          "2020-03-09T00:00:00",
          "2020-01-31T00:00:00",
          "2020-01-14T00:00:00",
          "2020-01-09T00:00:00",
          "2019-12-20T00:00:00",
          "2019-12-20T00:00:00",
          "2019-11-28T00:00:00",
          "2019-11-19T00:00:00",
          "2019-10-31T00:00:00",
          "2019-10-01T00:00:00",
          "2019-09-30T00:00:00",
          "2019-09-30T00:00:00",
          "2019-09-16T00:00:00",
          "2019-09-04T00:00:00",
          "2019-09-03T00:00:00",
          "2019-09-03T00:00:00",
          "2019-08-26T00:00:00",
          "2019-08-26T00:00:00",
          "2019-07-26T00:00:00",
          "2019-07-14T00:00:00",
          "2019-06-28T00:00:00",
          "2019-06-10T00:00:00",
          "2019-05-31T00:00:00",
          "2019-05-23T00:00:00",
          "2019-05-23T00:00:00",
          "2019-05-22T00:00:00",
          "2019-04-30T00:00:00",
          "2019-04-29T00:00:00",
          "2019-04-15T00:00:00",
          "2019-04-15T00:00:00",
          "2019-04-02T00:00:00",
          "2019-04-01T00:00:00",
          "2020-05-16T00:00:00",
          "2020-05-14T00:00:00",
          "2020-05-13T00:00:00",
          "2020-05-13T00:00:00",
          "2020-05-09T00:00:00",
          "2020-05-09T00:00:00",
          "2020-05-08T00:00:00",
          "2020-05-04T00:00:00",
          "2020-05-01T00:00:00",
          "2020-05-01T00:00:00",
          "2020-04-30T00:00:00",
          "2020-04-30T00:00:00",
          "2020-04-30T00:00:00",
          "2020-04-29T00:00:00",
          "2020-04-28T00:00:00",
          "2020-04-26T00:00:00",
          "2020-04-25T00:00:00",
          "2020-04-24T00:00:00",
          "2020-04-24T00:00:00",
          "2020-04-23T00:00:00",
          "2020-04-22T00:00:00",
          "2020-04-21T00:00:00",
          "2020-04-20T00:00:00",
          "2020-04-17T00:00:00",
          "2020-04-16T00:00:00",
          "2020-04-16T00:00:00",
          "2020-04-16T00:00:00",
          "2020-04-15T00:00:00",
          "2020-04-15T00:00:00",
          "2020-04-12T00:00:00",
          "2020-04-10T00:00:00",
          "2020-04-09T00:00:00",
          "2020-04-06T00:00:00",
          "2020-04-06T00:00:00",
          "2020-03-31T00:00:00",
          "2020-03-27T00:00:00",
          "2020-03-27T00:00:00",
          "2020-03-25T00:00:00",
          "2020-03-25T00:00:00",
          "2020-03-25T00:00:00",
          "2020-03-20T00:00:00",
          "2020-03-19T00:00:00",
          "2020-03-19T00:00:00",
          "2020-03-13T00:00:00",
          "2020-03-11T00:00:00",
          "2020-03-11T00:00:00",
          "2020-03-10T00:00:00",
          "2020-03-10T00:00:00",
          "2020-03-06T00:00:00",
          "2020-02-27T00:00:00",
          "2020-02-26T00:00:00",
          "2020-02-25T00:00:00",
          "2020-02-20T00:00:00",
          "2020-02-19T00:00:00",
          "2020-02-18T00:00:00",
          "2020-02-16T00:00:00",
          "2020-02-13T00:00:00",
          "2020-01-31T00:00:00",
          "2020-01-02T00:00:00",
          "2019-12-16T00:00:00",
          "2019-12-12T00:00:00",
          "2019-12-11T00:00:00",
          "2019-12-03T00:00:00",
          "2019-12-02T00:00:00",
          "2019-11-27T00:00:00",
          "2019-11-24T00:00:00",
          "2019-11-15T00:00:00",
          "2019-11-08T00:00:00",
          "2019-11-05T00:00:00",
          "2019-10-30T00:00:00",
          "2019-10-25T00:00:00",
          "2019-10-03T00:00:00",
          "2019-10-02T00:00:00",
          "2019-10-01T00:00:00",
          "2019-10-01T00:00:00",
          "2019-09-30T00:00:00",
          "2019-09-29T00:00:00",
          "2019-09-26T00:00:00",
          "2019-09-20T00:00:00",
          "2019-09-15T00:00:00",
          "2019-09-10T00:00:00",
          "2019-09-08T00:00:00",
          "2019-09-06T00:00:00",
          "2019-09-04T00:00:00",
          "2019-08-30T00:00:00",
          "2019-08-27T00:00:00",
          "2019-08-22T00:00:00",
          "2019-08-13T00:00:00",
          "2019-08-01T00:00:00",
          "2019-07-16T00:00:00",
          "2019-07-04T00:00:00",
          "2019-07-02T00:00:00",
          "2019-06-28T00:00:00",
          "2019-06-04T00:00:00",
          "2019-05-28T00:00:00",
          "2019-05-23T00:00:00",
          "2019-05-20T00:00:00"
         ],
         "xaxis": "x",
         "y": [
          -1.4975207448005676,
          -1.498285949230194,
          -1.4902855753898618,
          -1.4733055233955383,
          -1.4650974869728088,
          -1.4989307522773745,
          -1.4891778230667114,
          -1.490716516971588,
          -1.3314192891120908,
          -1.4214408993721008,
          -1.3934794664382937,
          -1.3336432576179504,
          -1.4901069402694702,
          -1.4988272786140442,
          -1.4405885338783264,
          -1.329418063163757,
          -1.1488687992095947,
          1.3256945013999941,
          -1.4935338497161863,
          -0.1414221823215485,
          -1.4955782294273376,
          -1.4994325041770935,
          1.2366125583648682,
          1.232754111289978,
          -1.3392068147659302,
          -1.4874122142791748,
          -0.0008412636816501582,
          -1.2549678087234497,
          -1.382517158985138,
          -0.9442244172096252,
          -1.4990059733390808,
          -1.4330191016197205,
          1.3845785856246948,
          -1.1699542999267578,
          -1.4967417120933533,
          1.4242247939109802,
          -1.1155351400375366,
          0.27120379358530045,
          -1.4987849593162537,
          0.03557952493429184,
          1.3461576700210571,
          1.3461576700210571,
          -1.3638954758644104,
          -1.3584988117218018,
          -1.4102745652198792,
          -1.1612778902053833,
          -1.4943377375602722,
          -1.440325915813446,
          -0.2720678243786097,
          -1.4988458156585691,
          0.2374052815139293,
          -1.016398012638092,
          -1.496625304222107,
          -1.4863579273223877,
          -1.498120367527008,
          -1.268121063709259,
          -1.4897152781486511,
          -1.4800333380699158,
          -1.4496411085128784,
          -1.480435132980347,
          -0.21442283689975736,
          0.019620519131422043,
          -0.9953454732894896,
          0.9750491678714752,
          0.13697616755962375,
          -0.013365201652050022,
          -1.4795071482658386,
          -1.2837618589401243,
          -0.9752251207828522,
          -1.495346486568451,
          -1.4976140260696411,
          -0.015296204015612604,
          -1.4980791807174685,
          -1.065637469291687,
          -1.305814564228058,
          -1.4844489693641665,
          -1.0469048619270325,
          -0.015702236676588658,
          -0.9935397803783416,
          -1.4897488951683044,
          -1.0094648003578186,
          -1.4856913685798645,
          -0.4026195788756013,
          -0.05605441331863403,
          -1.2040889859199524,
          -1.1600334644317627,
          -1.4872260689735413,
          -1.4958342313766482,
          -1.4672401547431946,
          -1.4717780947685242,
          -1.3115956783294678,
          -0.3093124516308308,
          -1.4601668119430542,
          -1.2071483135223389,
          -1.4822140336036682,
          -1.4708333611488342,
          -1.353023886680603,
          0.3088863492012024,
          -1.4666168093681335,
          -1.2439340949058533,
          -1.1757996678352356,
          -1.4692213535308838,
          -0.01837285608053208,
          -1.4635162949562073,
          -1.4937759637832642,
          0.09628693014383316,
          -0.07459027692675592,
          0.05560144782066345,
          -1.4423192739486694,
          -0.434554386883974,
          -1.435813069343567,
          -1.386469542980194,
          -1.2855457067489624,
          -1.4135168790817259,
          1.368165910243988,
          -1.4970613121986391,
          -1.2277562022209167,
          -0.06451679905876517,
          1.0025845766067505,
          -0.2367376312613487,
          -1.1168586015701294,
          -0.042585797607898726,
          -1.245606780052185,
          -1.1138149499893188,
          -1.49246746301651,
          -1.4902347326278689,
          -1.4502134919166565,
          -0.01021822914481163,
          -1.3705164194107056,
          -1.389236330986023,
          -1.4831101894378662,
          -0.04732032865285875,
          -1.3564692735671997,
          -1.4724942445755005,
          1.0466192364692688,
          -1.0514061450958252,
          -1.4887521862983704,
          -1.4861286878585815,
          -1.4947170615196228,
          -0.0522558530792594,
          -1.4239038228988647
         ],
         "yaxis": "y2"
        },
        {
         "marker": {
          "color": "orange"
         },
         "mode": "markers",
         "name": "Golden Sentiment",
         "opacity": 0.5,
         "type": "scatter",
         "x": [
          "2020-04-30T00:00:00",
          "2020-04-29T00:00:00",
          "2020-04-16T00:00:00",
          "2020-04-16T00:00:00",
          "2020-04-07T00:00:00",
          "2020-03-31T00:00:00",
          "2020-03-31T00:00:00",
          "2020-03-25T00:00:00",
          "2020-03-23T00:00:00",
          "2020-03-18T00:00:00",
          "2020-03-11T00:00:00",
          "2020-03-11T00:00:00",
          "2020-03-09T00:00:00",
          "2020-01-31T00:00:00",
          "2020-01-14T00:00:00",
          "2020-01-09T00:00:00",
          "2019-12-20T00:00:00",
          "2019-12-20T00:00:00",
          "2019-11-28T00:00:00",
          "2019-11-19T00:00:00",
          "2019-10-31T00:00:00",
          "2019-10-01T00:00:00",
          "2019-09-30T00:00:00",
          "2019-09-30T00:00:00",
          "2019-09-16T00:00:00",
          "2019-09-04T00:00:00",
          "2019-09-03T00:00:00",
          "2019-09-03T00:00:00",
          "2019-08-26T00:00:00",
          "2019-08-26T00:00:00",
          "2019-07-26T00:00:00",
          "2019-07-14T00:00:00",
          "2019-06-28T00:00:00",
          "2019-06-10T00:00:00",
          "2019-05-31T00:00:00",
          "2019-05-23T00:00:00",
          "2019-05-23T00:00:00",
          "2019-05-22T00:00:00",
          "2019-04-30T00:00:00",
          "2019-04-29T00:00:00",
          "2019-04-15T00:00:00",
          "2019-04-15T00:00:00",
          "2019-04-02T00:00:00",
          "2019-04-01T00:00:00",
          "2020-05-16T00:00:00",
          "2020-05-14T00:00:00",
          "2020-05-13T00:00:00",
          "2020-05-13T00:00:00",
          "2020-05-09T00:00:00",
          "2020-05-09T00:00:00",
          "2020-05-08T00:00:00",
          "2020-05-04T00:00:00",
          "2020-05-01T00:00:00",
          "2020-05-01T00:00:00",
          "2020-04-30T00:00:00",
          "2020-04-30T00:00:00",
          "2020-04-30T00:00:00",
          "2020-04-29T00:00:00",
          "2020-04-28T00:00:00",
          "2020-04-26T00:00:00",
          "2020-04-25T00:00:00",
          "2020-04-24T00:00:00",
          "2020-04-24T00:00:00",
          "2020-04-23T00:00:00",
          "2020-04-22T00:00:00",
          "2020-04-21T00:00:00",
          "2020-04-20T00:00:00",
          "2020-04-17T00:00:00",
          "2020-04-16T00:00:00",
          "2020-04-16T00:00:00",
          "2020-04-16T00:00:00",
          "2020-04-15T00:00:00",
          "2020-04-15T00:00:00",
          "2020-04-12T00:00:00",
          "2020-04-10T00:00:00",
          "2020-04-09T00:00:00",
          "2020-04-06T00:00:00",
          "2020-04-06T00:00:00",
          "2020-03-31T00:00:00",
          "2020-03-27T00:00:00",
          "2020-03-27T00:00:00",
          "2020-03-25T00:00:00",
          "2020-03-25T00:00:00",
          "2020-03-25T00:00:00",
          "2020-03-20T00:00:00",
          "2020-03-19T00:00:00",
          "2020-03-19T00:00:00",
          "2020-03-13T00:00:00",
          "2020-03-11T00:00:00",
          "2020-03-11T00:00:00",
          "2020-03-10T00:00:00",
          "2020-03-10T00:00:00",
          "2020-03-06T00:00:00",
          "2020-02-27T00:00:00",
          "2020-02-26T00:00:00",
          "2020-02-25T00:00:00",
          "2020-02-20T00:00:00",
          "2020-02-19T00:00:00",
          "2020-02-18T00:00:00",
          "2020-02-16T00:00:00",
          "2020-02-13T00:00:00",
          "2020-01-31T00:00:00",
          "2020-01-02T00:00:00",
          "2019-12-16T00:00:00",
          "2019-12-12T00:00:00",
          "2019-12-11T00:00:00",
          "2019-12-03T00:00:00",
          "2019-12-02T00:00:00",
          "2019-11-27T00:00:00",
          "2019-11-24T00:00:00",
          "2019-11-15T00:00:00",
          "2019-11-08T00:00:00",
          "2019-11-05T00:00:00",
          "2019-10-30T00:00:00",
          "2019-10-25T00:00:00",
          "2019-10-03T00:00:00",
          "2019-10-02T00:00:00",
          "2019-10-01T00:00:00",
          "2019-10-01T00:00:00",
          "2019-09-30T00:00:00",
          "2019-09-29T00:00:00",
          "2019-09-26T00:00:00",
          "2019-09-20T00:00:00",
          "2019-09-15T00:00:00",
          "2019-09-10T00:00:00",
          "2019-09-08T00:00:00",
          "2019-09-06T00:00:00",
          "2019-09-04T00:00:00",
          "2019-08-30T00:00:00",
          "2019-08-27T00:00:00",
          "2019-08-22T00:00:00",
          "2019-08-13T00:00:00",
          "2019-08-01T00:00:00",
          "2019-07-16T00:00:00",
          "2019-07-04T00:00:00",
          "2019-07-02T00:00:00",
          "2019-06-28T00:00:00",
          "2019-06-04T00:00:00",
          "2019-05-28T00:00:00",
          "2019-05-23T00:00:00",
          "2019-05-20T00:00:00"
         ],
         "xaxis": "x",
         "y": [
          -1.5,
          -1.5,
          0,
          -1.5,
          -1.5,
          -1.5,
          -1.5,
          -1.5,
          0,
          -1.5,
          -1.5,
          -1.5,
          0,
          -1.5,
          -1.5,
          -1.5,
          -1.5,
          -1.5,
          -1.5,
          0,
          0,
          -1.5,
          -1.5,
          0,
          -1.5,
          -1.5,
          0,
          0,
          0,
          0,
          -1.5,
          0,
          -1.5,
          1.5,
          1.5,
          0,
          1.5,
          0,
          -1.5,
          -1.5,
          1.5,
          1.5,
          1.5,
          0,
          0,
          -1.5,
          -1.5,
          -1.5,
          0,
          -1.5,
          1.5,
          -1.5,
          0,
          -1.5,
          1.5,
          1.5,
          0,
          1.5,
          0,
          0,
          -1.5,
          1.5,
          0,
          0,
          0,
          0,
          0,
          -1.5,
          0,
          0,
          0,
          -1.5,
          1.5,
          -1.5,
          0,
          0,
          1.5,
          -1.5,
          -1.5,
          1.5,
          1.5,
          -1.5,
          1.5,
          0,
          1.5,
          0,
          0,
          0,
          0,
          0,
          0,
          0,
          0,
          -1.5,
          1.5,
          0,
          -1.5,
          -1.5,
          -1.5,
          -1.5,
          -1.5,
          1.5,
          -1.5,
          -1.5,
          -1.5,
          -1.5,
          0,
          1.5,
          1.5,
          -1.5,
          -1.5,
          0,
          1.5,
          1.5,
          -1.5,
          -1.5,
          1.5,
          0,
          1.5,
          1.5,
          1.5,
          -1.5,
          1.5,
          1.5,
          1.5,
          1.5,
          -1.5,
          1.5,
          -1.5,
          -1.5
         ],
         "yaxis": "y2"
        }
       ],
       "layout": {
        "template": {
         "data": {
          "bar": [
           {
            "error_x": {
             "color": "#2a3f5f"
            },
            "error_y": {
             "color": "#2a3f5f"
            },
            "marker": {
             "line": {
              "color": "#E5ECF6",
              "width": 0.5
             }
            },
            "type": "bar"
           }
          ],
          "barpolar": [
           {
            "marker": {
             "line": {
              "color": "#E5ECF6",
              "width": 0.5
             }
            },
            "type": "barpolar"
           }
          ],
          "carpet": [
           {
            "aaxis": {
             "endlinecolor": "#2a3f5f",
             "gridcolor": "white",
             "linecolor": "white",
             "minorgridcolor": "white",
             "startlinecolor": "#2a3f5f"
            },
            "baxis": {
             "endlinecolor": "#2a3f5f",
             "gridcolor": "white",
             "linecolor": "white",
             "minorgridcolor": "white",
             "startlinecolor": "#2a3f5f"
            },
            "type": "carpet"
           }
          ],
          "choropleth": [
           {
            "colorbar": {
             "outlinewidth": 0,
             "ticks": ""
            },
            "type": "choropleth"
           }
          ],
          "contour": [
           {
            "colorbar": {
             "outlinewidth": 0,
             "ticks": ""
            },
            "colorscale": [
             [
              0,
              "#0d0887"
             ],
             [
              0.1111111111111111,
              "#46039f"
             ],
             [
              0.2222222222222222,
              "#7201a8"
             ],
             [
              0.3333333333333333,
              "#9c179e"
             ],
             [
              0.4444444444444444,
              "#bd3786"
             ],
             [
              0.5555555555555556,
              "#d8576b"
             ],
             [
              0.6666666666666666,
              "#ed7953"
             ],
             [
              0.7777777777777778,
              "#fb9f3a"
             ],
             [
              0.8888888888888888,
              "#fdca26"
             ],
             [
              1,
              "#f0f921"
             ]
            ],
            "type": "contour"
           }
          ],
          "contourcarpet": [
           {
            "colorbar": {
             "outlinewidth": 0,
             "ticks": ""
            },
            "type": "contourcarpet"
           }
          ],
          "heatmap": [
           {
            "colorbar": {
             "outlinewidth": 0,
             "ticks": ""
            },
            "colorscale": [
             [
              0,
              "#0d0887"
             ],
             [
              0.1111111111111111,
              "#46039f"
             ],
             [
              0.2222222222222222,
              "#7201a8"
             ],
             [
              0.3333333333333333,
              "#9c179e"
             ],
             [
              0.4444444444444444,
              "#bd3786"
             ],
             [
              0.5555555555555556,
              "#d8576b"
             ],
             [
              0.6666666666666666,
              "#ed7953"
             ],
             [
              0.7777777777777778,
              "#fb9f3a"
             ],
             [
              0.8888888888888888,
              "#fdca26"
             ],
             [
              1,
              "#f0f921"
             ]
            ],
            "type": "heatmap"
           }
          ],
          "heatmapgl": [
           {
            "colorbar": {
             "outlinewidth": 0,
             "ticks": ""
            },
            "colorscale": [
             [
              0,
              "#0d0887"
             ],
             [
              0.1111111111111111,
              "#46039f"
             ],
             [
              0.2222222222222222,
              "#7201a8"
             ],
             [
              0.3333333333333333,
              "#9c179e"
             ],
             [
              0.4444444444444444,
              "#bd3786"
             ],
             [
              0.5555555555555556,
              "#d8576b"
             ],
             [
              0.6666666666666666,
              "#ed7953"
             ],
             [
              0.7777777777777778,
              "#fb9f3a"
             ],
             [
              0.8888888888888888,
              "#fdca26"
             ],
             [
              1,
              "#f0f921"
             ]
            ],
            "type": "heatmapgl"
           }
          ],
          "histogram": [
           {
            "marker": {
             "colorbar": {
              "outlinewidth": 0,
              "ticks": ""
             }
            },
            "type": "histogram"
           }
          ],
          "histogram2d": [
           {
            "colorbar": {
             "outlinewidth": 0,
             "ticks": ""
            },
            "colorscale": [
             [
              0,
              "#0d0887"
             ],
             [
              0.1111111111111111,
              "#46039f"
             ],
             [
              0.2222222222222222,
              "#7201a8"
             ],
             [
              0.3333333333333333,
              "#9c179e"
             ],
             [
              0.4444444444444444,
              "#bd3786"
             ],
             [
              0.5555555555555556,
              "#d8576b"
             ],
             [
              0.6666666666666666,
              "#ed7953"
             ],
             [
              0.7777777777777778,
              "#fb9f3a"
             ],
             [
              0.8888888888888888,
              "#fdca26"
             ],
             [
              1,
              "#f0f921"
             ]
            ],
            "type": "histogram2d"
           }
          ],
          "histogram2dcontour": [
           {
            "colorbar": {
             "outlinewidth": 0,
             "ticks": ""
            },
            "colorscale": [
             [
              0,
              "#0d0887"
             ],
             [
              0.1111111111111111,
              "#46039f"
             ],
             [
              0.2222222222222222,
              "#7201a8"
             ],
             [
              0.3333333333333333,
              "#9c179e"
             ],
             [
              0.4444444444444444,
              "#bd3786"
             ],
             [
              0.5555555555555556,
              "#d8576b"
             ],
             [
              0.6666666666666666,
              "#ed7953"
             ],
             [
              0.7777777777777778,
              "#fb9f3a"
             ],
             [
              0.8888888888888888,
              "#fdca26"
             ],
             [
              1,
              "#f0f921"
             ]
            ],
            "type": "histogram2dcontour"
           }
          ],
          "mesh3d": [
           {
            "colorbar": {
             "outlinewidth": 0,
             "ticks": ""
            },
            "type": "mesh3d"
           }
          ],
          "parcoords": [
           {
            "line": {
             "colorbar": {
              "outlinewidth": 0,
              "ticks": ""
             }
            },
            "type": "parcoords"
           }
          ],
          "pie": [
           {
            "automargin": true,
            "type": "pie"
           }
          ],
          "scatter": [
           {
            "marker": {
             "colorbar": {
              "outlinewidth": 0,
              "ticks": ""
             }
            },
            "type": "scatter"
           }
          ],
          "scatter3d": [
           {
            "line": {
             "colorbar": {
              "outlinewidth": 0,
              "ticks": ""
             }
            },
            "marker": {
             "colorbar": {
              "outlinewidth": 0,
              "ticks": ""
             }
            },
            "type": "scatter3d"
           }
          ],
          "scattercarpet": [
           {
            "marker": {
             "colorbar": {
              "outlinewidth": 0,
              "ticks": ""
             }
            },
            "type": "scattercarpet"
           }
          ],
          "scattergeo": [
           {
            "marker": {
             "colorbar": {
              "outlinewidth": 0,
              "ticks": ""
             }
            },
            "type": "scattergeo"
           }
          ],
          "scattergl": [
           {
            "marker": {
             "colorbar": {
              "outlinewidth": 0,
              "ticks": ""
             }
            },
            "type": "scattergl"
           }
          ],
          "scattermapbox": [
           {
            "marker": {
             "colorbar": {
              "outlinewidth": 0,
              "ticks": ""
             }
            },
            "type": "scattermapbox"
           }
          ],
          "scatterpolar": [
           {
            "marker": {
             "colorbar": {
              "outlinewidth": 0,
              "ticks": ""
             }
            },
            "type": "scatterpolar"
           }
          ],
          "scatterpolargl": [
           {
            "marker": {
             "colorbar": {
              "outlinewidth": 0,
              "ticks": ""
             }
            },
            "type": "scatterpolargl"
           }
          ],
          "scatterternary": [
           {
            "marker": {
             "colorbar": {
              "outlinewidth": 0,
              "ticks": ""
             }
            },
            "type": "scatterternary"
           }
          ],
          "surface": [
           {
            "colorbar": {
             "outlinewidth": 0,
             "ticks": ""
            },
            "colorscale": [
             [
              0,
              "#0d0887"
             ],
             [
              0.1111111111111111,
              "#46039f"
             ],
             [
              0.2222222222222222,
              "#7201a8"
             ],
             [
              0.3333333333333333,
              "#9c179e"
             ],
             [
              0.4444444444444444,
              "#bd3786"
             ],
             [
              0.5555555555555556,
              "#d8576b"
             ],
             [
              0.6666666666666666,
              "#ed7953"
             ],
             [
              0.7777777777777778,
              "#fb9f3a"
             ],
             [
              0.8888888888888888,
              "#fdca26"
             ],
             [
              1,
              "#f0f921"
             ]
            ],
            "type": "surface"
           }
          ],
          "table": [
           {
            "cells": {
             "fill": {
              "color": "#EBF0F8"
             },
             "line": {
              "color": "white"
             }
            },
            "header": {
             "fill": {
              "color": "#C8D4E3"
             },
             "line": {
              "color": "white"
             }
            },
            "type": "table"
           }
          ]
         },
         "layout": {
          "annotationdefaults": {
           "arrowcolor": "#2a3f5f",
           "arrowhead": 0,
           "arrowwidth": 1
          },
          "coloraxis": {
           "colorbar": {
            "outlinewidth": 0,
            "ticks": ""
           }
          },
          "colorscale": {
           "diverging": [
            [
             0,
             "#8e0152"
            ],
            [
             0.1,
             "#c51b7d"
            ],
            [
             0.2,
             "#de77ae"
            ],
            [
             0.3,
             "#f1b6da"
            ],
            [
             0.4,
             "#fde0ef"
            ],
            [
             0.5,
             "#f7f7f7"
            ],
            [
             0.6,
             "#e6f5d0"
            ],
            [
             0.7,
             "#b8e186"
            ],
            [
             0.8,
             "#7fbc41"
            ],
            [
             0.9,
             "#4d9221"
            ],
            [
             1,
             "#276419"
            ]
           ],
           "sequential": [
            [
             0,
             "#0d0887"
            ],
            [
             0.1111111111111111,
             "#46039f"
            ],
            [
             0.2222222222222222,
             "#7201a8"
            ],
            [
             0.3333333333333333,
             "#9c179e"
            ],
            [
             0.4444444444444444,
             "#bd3786"
            ],
            [
             0.5555555555555556,
             "#d8576b"
            ],
            [
             0.6666666666666666,
             "#ed7953"
            ],
            [
             0.7777777777777778,
             "#fb9f3a"
            ],
            [
             0.8888888888888888,
             "#fdca26"
            ],
            [
             1,
             "#f0f921"
            ]
           ],
           "sequentialminus": [
            [
             0,
             "#0d0887"
            ],
            [
             0.1111111111111111,
             "#46039f"
            ],
            [
             0.2222222222222222,
             "#7201a8"
            ],
            [
             0.3333333333333333,
             "#9c179e"
            ],
            [
             0.4444444444444444,
             "#bd3786"
            ],
            [
             0.5555555555555556,
             "#d8576b"
            ],
            [
             0.6666666666666666,
             "#ed7953"
            ],
            [
             0.7777777777777778,
             "#fb9f3a"
            ],
            [
             0.8888888888888888,
             "#fdca26"
            ],
            [
             1,
             "#f0f921"
            ]
           ]
          },
          "colorway": [
           "#636efa",
           "#EF553B",
           "#00cc96",
           "#ab63fa",
           "#FFA15A",
           "#19d3f3",
           "#FF6692",
           "#B6E880",
           "#FF97FF",
           "#FECB52"
          ],
          "font": {
           "color": "#2a3f5f"
          },
          "geo": {
           "bgcolor": "white",
           "lakecolor": "white",
           "landcolor": "#E5ECF6",
           "showlakes": true,
           "showland": true,
           "subunitcolor": "white"
          },
          "hoverlabel": {
           "align": "left"
          },
          "hovermode": "closest",
          "mapbox": {
           "style": "light"
          },
          "paper_bgcolor": "white",
          "plot_bgcolor": "#E5ECF6",
          "polar": {
           "angularaxis": {
            "gridcolor": "white",
            "linecolor": "white",
            "ticks": ""
           },
           "bgcolor": "#E5ECF6",
           "radialaxis": {
            "gridcolor": "white",
            "linecolor": "white",
            "ticks": ""
           }
          },
          "scene": {
           "xaxis": {
            "backgroundcolor": "#E5ECF6",
            "gridcolor": "white",
            "gridwidth": 2,
            "linecolor": "white",
            "showbackground": true,
            "ticks": "",
            "zerolinecolor": "white"
           },
           "yaxis": {
            "backgroundcolor": "#E5ECF6",
            "gridcolor": "white",
            "gridwidth": 2,
            "linecolor": "white",
            "showbackground": true,
            "ticks": "",
            "zerolinecolor": "white"
           },
           "zaxis": {
            "backgroundcolor": "#E5ECF6",
            "gridcolor": "white",
            "gridwidth": 2,
            "linecolor": "white",
            "showbackground": true,
            "ticks": "",
            "zerolinecolor": "white"
           }
          },
          "shapedefaults": {
           "line": {
            "color": "#2a3f5f"
           }
          },
          "ternary": {
           "aaxis": {
            "gridcolor": "white",
            "linecolor": "white",
            "ticks": ""
           },
           "baxis": {
            "gridcolor": "white",
            "linecolor": "white",
            "ticks": ""
           },
           "bgcolor": "#E5ECF6",
           "caxis": {
            "gridcolor": "white",
            "linecolor": "white",
            "ticks": ""
           }
          },
          "title": {
           "x": 0.05
          },
          "xaxis": {
           "automargin": true,
           "gridcolor": "white",
           "linecolor": "white",
           "ticks": "",
           "title": {
            "standoff": 15
           },
           "zerolinecolor": "white",
           "zerolinewidth": 2
          },
          "yaxis": {
           "automargin": true,
           "gridcolor": "white",
           "linecolor": "white",
           "ticks": "",
           "title": {
            "standoff": 15
           },
           "zerolinecolor": "white",
           "zerolinewidth": 2
          }
         }
        },
        "title": {
         "text": "interest rates VS news sentiment (2019 Jan - 2020 May) "
        },
        "xaxis": {
         "anchor": "y",
         "domain": [
          0,
          0.94
         ],
         "range": [
          "2019-05-31T00:00:00",
          "2020-05-16T00:00:00"
         ],
         "rangeslider": {
          "visible": true
         },
         "title": {
          "text": "Date"
         }
        },
        "yaxis": {
         "anchor": "x",
         "autorange": false,
         "domain": [
          0,
          1
         ],
         "range": [
          0.15,
          1.85
         ],
         "title": {
          "text": "Interest Rate - Overnight Target Rate (Bank of Canada)"
         }
        },
        "yaxis2": {
         "anchor": "x",
         "overlaying": "y",
         "range": [
          -2.4994325041770935,
          2.4242247939109802
         ],
         "side": "right",
         "title": {
          "text": "Sentiment Score"
         }
        }
       }
      },
      "text/html": [
       "<div>\n",
       "        \n",
       "        \n",
       "            <div id=\"3fd46698-01e2-477c-b3a2-f3744f2059e6\" class=\"plotly-graph-div\" style=\"height:525px; width:100%;\"></div>\n",
       "            <script type=\"text/javascript\">\n",
       "                require([\"plotly\"], function(Plotly) {\n",
       "                    window.PLOTLYENV=window.PLOTLYENV || {};\n",
       "                    \n",
       "                if (document.getElementById(\"3fd46698-01e2-477c-b3a2-f3744f2059e6\")) {\n",
       "                    Plotly.newPlot(\n",
       "                        '3fd46698-01e2-477c-b3a2-f3744f2059e6',\n",
       "                        [{\"line\": {\"color\": \"blue\"}, \"mode\": \"lines\", \"name\": \"Interest Rate - Overnight Target Rate (Bank of Canada)\", \"type\": \"scatter\", \"x\": [\"2019-05-31T00:00:00\", \"2019-06-03T00:00:00\", \"2019-06-04T00:00:00\", \"2019-06-05T00:00:00\", \"2019-06-06T00:00:00\", \"2019-06-07T00:00:00\", \"2019-06-10T00:00:00\", \"2019-06-11T00:00:00\", \"2019-06-12T00:00:00\", \"2019-06-13T00:00:00\", \"2019-06-14T00:00:00\", \"2019-06-17T00:00:00\", \"2019-06-18T00:00:00\", \"2019-06-19T00:00:00\", \"2019-06-20T00:00:00\", \"2019-06-21T00:00:00\", \"2019-06-24T00:00:00\", \"2019-06-25T00:00:00\", \"2019-06-26T00:00:00\", \"2019-06-27T00:00:00\", \"2019-06-28T00:00:00\", \"2019-07-01T00:00:00\", \"2019-07-02T00:00:00\", \"2019-07-03T00:00:00\", \"2019-07-04T00:00:00\", \"2019-07-05T00:00:00\", \"2019-07-08T00:00:00\", \"2019-07-09T00:00:00\", \"2019-07-10T00:00:00\", \"2019-07-11T00:00:00\", \"2019-07-12T00:00:00\", \"2019-07-15T00:00:00\", \"2019-07-16T00:00:00\", \"2019-07-17T00:00:00\", \"2019-07-18T00:00:00\", \"2019-07-19T00:00:00\", \"2019-07-22T00:00:00\", \"2019-07-23T00:00:00\", \"2019-07-24T00:00:00\", \"2019-07-25T00:00:00\", \"2019-07-26T00:00:00\", \"2019-07-29T00:00:00\", \"2019-07-30T00:00:00\", \"2019-07-31T00:00:00\", \"2019-08-01T00:00:00\", \"2019-08-02T00:00:00\", \"2019-08-05T00:00:00\", \"2019-08-06T00:00:00\", \"2019-08-07T00:00:00\", \"2019-08-08T00:00:00\", \"2019-08-09T00:00:00\", \"2019-08-12T00:00:00\", \"2019-08-13T00:00:00\", \"2019-08-14T00:00:00\", \"2019-08-15T00:00:00\", \"2019-08-16T00:00:00\", \"2019-08-19T00:00:00\", \"2019-08-20T00:00:00\", \"2019-08-21T00:00:00\", \"2019-08-22T00:00:00\", \"2019-08-23T00:00:00\", \"2019-08-26T00:00:00\", \"2019-08-27T00:00:00\", \"2019-08-28T00:00:00\", \"2019-08-29T00:00:00\", \"2019-08-30T00:00:00\", \"2019-09-02T00:00:00\", \"2019-09-03T00:00:00\", \"2019-09-04T00:00:00\", \"2019-09-05T00:00:00\", \"2019-09-06T00:00:00\", \"2019-09-09T00:00:00\", \"2019-09-10T00:00:00\", \"2019-09-11T00:00:00\", \"2019-09-12T00:00:00\", \"2019-09-13T00:00:00\", \"2019-09-16T00:00:00\", \"2019-09-17T00:00:00\", \"2019-09-18T00:00:00\", \"2019-09-19T00:00:00\", \"2019-09-20T00:00:00\", \"2019-09-23T00:00:00\", \"2019-09-24T00:00:00\", \"2019-09-25T00:00:00\", \"2019-09-26T00:00:00\", \"2019-09-27T00:00:00\", \"2019-09-30T00:00:00\", \"2019-10-01T00:00:00\", \"2019-10-02T00:00:00\", \"2019-10-03T00:00:00\", \"2019-10-04T00:00:00\", \"2019-10-07T00:00:00\", \"2019-10-08T00:00:00\", \"2019-10-09T00:00:00\", \"2019-10-10T00:00:00\", \"2019-10-11T00:00:00\", \"2019-10-14T00:00:00\", \"2019-10-15T00:00:00\", \"2019-10-16T00:00:00\", \"2019-10-17T00:00:00\", \"2019-10-18T00:00:00\", \"2019-10-21T00:00:00\", \"2019-10-22T00:00:00\", \"2019-10-23T00:00:00\", \"2019-10-24T00:00:00\", \"2019-10-25T00:00:00\", \"2019-10-28T00:00:00\", \"2019-10-29T00:00:00\", \"2019-10-30T00:00:00\", \"2019-10-31T00:00:00\", \"2019-11-01T00:00:00\", \"2019-11-04T00:00:00\", \"2019-11-05T00:00:00\", \"2019-11-06T00:00:00\", \"2019-11-07T00:00:00\", \"2019-11-08T00:00:00\", \"2019-11-11T00:00:00\", \"2019-11-12T00:00:00\", \"2019-11-13T00:00:00\", \"2019-11-14T00:00:00\", \"2019-11-15T00:00:00\", \"2019-11-18T00:00:00\", \"2019-11-19T00:00:00\", \"2019-11-20T00:00:00\", \"2019-11-21T00:00:00\", \"2019-11-22T00:00:00\", \"2019-11-25T00:00:00\", \"2019-11-26T00:00:00\", \"2019-11-27T00:00:00\", \"2019-11-28T00:00:00\", \"2019-11-29T00:00:00\", \"2019-12-02T00:00:00\", \"2019-12-03T00:00:00\", \"2019-12-04T00:00:00\", \"2019-12-05T00:00:00\", \"2019-12-06T00:00:00\", \"2019-12-09T00:00:00\", \"2019-12-10T00:00:00\", \"2019-12-11T00:00:00\", \"2019-12-12T00:00:00\", \"2019-12-13T00:00:00\", \"2019-12-16T00:00:00\", \"2019-12-17T00:00:00\", \"2019-12-18T00:00:00\", \"2019-12-19T00:00:00\", \"2019-12-20T00:00:00\", \"2019-12-23T00:00:00\", \"2019-12-24T00:00:00\", \"2019-12-25T00:00:00\", \"2019-12-26T00:00:00\", \"2019-12-27T00:00:00\", \"2019-12-30T00:00:00\", \"2019-12-31T00:00:00\", \"2020-01-01T00:00:00\", \"2020-01-02T00:00:00\", \"2020-01-03T00:00:00\", \"2020-01-06T00:00:00\", \"2020-01-07T00:00:00\", \"2020-01-08T00:00:00\", \"2020-01-09T00:00:00\", \"2020-01-10T00:00:00\", \"2020-01-13T00:00:00\", \"2020-01-14T00:00:00\", \"2020-01-15T00:00:00\", \"2020-01-16T00:00:00\", \"2020-01-17T00:00:00\", \"2020-01-20T00:00:00\", \"2020-01-21T00:00:00\", \"2020-01-22T00:00:00\", \"2020-01-23T00:00:00\", \"2020-01-24T00:00:00\", \"2020-01-27T00:00:00\", \"2020-01-28T00:00:00\", \"2020-01-29T00:00:00\", \"2020-01-30T00:00:00\", \"2020-01-31T00:00:00\", \"2020-02-03T00:00:00\", \"2020-02-04T00:00:00\", \"2020-02-05T00:00:00\", \"2020-02-06T00:00:00\", \"2020-02-07T00:00:00\", \"2020-02-10T00:00:00\", \"2020-02-11T00:00:00\", \"2020-02-12T00:00:00\", \"2020-02-13T00:00:00\", \"2020-02-14T00:00:00\", \"2020-02-17T00:00:00\", \"2020-02-18T00:00:00\", \"2020-02-19T00:00:00\", \"2020-02-20T00:00:00\", \"2020-02-21T00:00:00\", \"2020-02-24T00:00:00\", \"2020-02-25T00:00:00\", \"2020-02-26T00:00:00\", \"2020-02-27T00:00:00\", \"2020-02-28T00:00:00\", \"2020-03-02T00:00:00\", \"2020-03-03T00:00:00\", \"2020-03-04T00:00:00\", \"2020-03-05T00:00:00\", \"2020-03-06T00:00:00\", \"2020-03-09T00:00:00\", \"2020-03-10T00:00:00\", \"2020-03-11T00:00:00\", \"2020-03-12T00:00:00\", \"2020-03-13T00:00:00\", \"2020-03-16T00:00:00\", \"2020-03-17T00:00:00\", \"2020-03-18T00:00:00\", \"2020-03-19T00:00:00\", \"2020-03-20T00:00:00\", \"2020-03-23T00:00:00\", \"2020-03-24T00:00:00\", \"2020-03-25T00:00:00\", \"2020-03-26T00:00:00\", \"2020-03-27T00:00:00\", \"2020-03-30T00:00:00\", \"2020-03-31T00:00:00\", \"2020-04-01T00:00:00\", \"2020-04-02T00:00:00\", \"2020-04-03T00:00:00\", \"2020-04-06T00:00:00\", \"2020-04-07T00:00:00\", \"2020-04-08T00:00:00\", \"2020-04-09T00:00:00\", \"2020-04-10T00:00:00\", \"2020-04-13T00:00:00\", \"2020-04-14T00:00:00\", \"2020-04-15T00:00:00\", \"2020-04-16T00:00:00\", \"2020-04-17T00:00:00\", \"2020-04-20T00:00:00\", \"2020-04-21T00:00:00\", \"2020-04-22T00:00:00\", \"2020-04-23T00:00:00\", \"2020-04-24T00:00:00\", \"2020-04-27T00:00:00\", \"2020-04-28T00:00:00\", \"2020-04-29T00:00:00\", \"2020-04-30T00:00:00\", \"2020-05-01T00:00:00\", \"2020-05-04T00:00:00\", \"2020-05-05T00:00:00\", \"2020-05-06T00:00:00\", \"2020-05-07T00:00:00\", \"2020-05-08T00:00:00\", \"2020-05-11T00:00:00\", \"2020-05-12T00:00:00\", \"2020-05-13T00:00:00\", \"2020-05-14T00:00:00\", \"2020-05-15T00:00:00\", \"2020-05-18T00:00:00\", \"2020-05-19T00:00:00\", \"2020-05-20T00:00:00\", \"2020-05-21T00:00:00\", \"2020-05-22T00:00:00\", \"2020-05-25T00:00:00\", \"2020-05-26T00:00:00\", \"2020-05-27T00:00:00\", \"2020-05-28T00:00:00\", \"2020-05-29T00:00:00\", \"2020-06-01T00:00:00\"], \"xaxis\": \"x\", \"y\": [1.75, 1.75, 1.75, 1.75, 1.75, 1.75, 1.75, 1.75, 1.75, 1.75, 1.75, 1.75, 1.75, 1.75, 1.75, 1.75, 1.75, 1.75, 1.75, 1.75, 1.75, 1.75, 1.75, 1.75, 1.75, 1.75, 1.75, 1.75, 1.75, 1.75, 1.75, 1.75, 1.75, 1.75, 1.75, 1.75, 1.75, 1.75, 1.75, 1.75, 1.75, 1.75, 1.75, 1.75, 1.75, 1.75, 1.75, 1.75, 1.75, 1.75, 1.75, 1.75, 1.75, 1.75, 1.75, 1.75, 1.75, 1.75, 1.75, 1.75, 1.75, 1.75, 1.75, 1.75, 1.75, 1.75, 1.75, 1.75, 1.75, 1.75, 1.75, 1.75, 1.75, 1.75, 1.75, 1.75, 1.75, 1.75, 1.75, 1.75, 1.75, 1.75, 1.75, 1.75, 1.75, 1.75, 1.75, 1.75, 1.75, 1.75, 1.75, 1.75, 1.75, 1.75, 1.75, 1.75, 1.75, 1.75, 1.75, 1.75, 1.75, 1.75, 1.75, 1.75, 1.75, 1.75, 1.75, 1.75, 1.75, 1.75, 1.75, 1.75, 1.75, 1.75, 1.75, 1.75, 1.75, 1.75, 1.75, 1.75, 1.75, 1.75, 1.75, 1.75, 1.75, 1.75, 1.75, 1.75, 1.75, 1.75, 1.75, 1.75, 1.75, 1.75, 1.75, 1.75, 1.75, 1.75, 1.75, 1.75, 1.75, 1.75, 1.75, 1.75, 1.75, 1.75, 1.75, 1.75, 1.75, 1.75, 1.75, 1.75, 1.75, 1.75, 1.75, 1.75, 1.75, 1.75, 1.75, 1.75, 1.75, 1.75, 1.75, 1.75, 1.75, 1.75, 1.75, 1.75, 1.75, 1.75, 1.75, 1.75, 1.75, 1.75, 1.75, 1.75, 1.75, 1.75, 1.75, 1.75, 1.75, 1.75, 1.75, 1.75, 1.75, 1.75, 1.75, 1.75, 1.75, 1.75, 1.75, 1.75, 1.75, 1.75, 1.75, 1.75, 1.75, 1.75, 1.25, 1.25, 1.25, 1.25, 1.25, 1.25, 1.25, 1.25, 0.75, 0.75, 0.75, 0.75, 0.75, 0.75, 0.75, 0.75, 0.75, 0.25, 0.25, 0.25, 0.25, 0.25, 0.25, 0.25, 0.25, 0.25, 0.25, 0.25, 0.25, 0.25, 0.25, 0.25, 0.25, 0.25, 0.25, 0.25, 0.25, 0.25, 0.25, 0.25, 0.25, 0.25, 0.25, 0.25, 0.25, 0.25, 0.25, 0.25, 0.25, 0.25, 0.25, 0.25, 0.25, 0.25, 0.25, 0.25, 0.25, 0.25, 0.25, 0.25, 0.25, 0.25, 0.25, 0.25], \"yaxis\": \"y\"}, {\"marker\": {\"color\": \"green\"}, \"mode\": \"markers\", \"name\": \"Predicted Sentiment\", \"opacity\": 0.5, \"type\": \"scatter\", \"x\": [\"2020-04-30T00:00:00\", \"2020-04-29T00:00:00\", \"2020-04-16T00:00:00\", \"2020-04-16T00:00:00\", \"2020-04-07T00:00:00\", \"2020-03-31T00:00:00\", \"2020-03-31T00:00:00\", \"2020-03-25T00:00:00\", \"2020-03-23T00:00:00\", \"2020-03-18T00:00:00\", \"2020-03-11T00:00:00\", \"2020-03-11T00:00:00\", \"2020-03-09T00:00:00\", \"2020-01-31T00:00:00\", \"2020-01-14T00:00:00\", \"2020-01-09T00:00:00\", \"2019-12-20T00:00:00\", \"2019-12-20T00:00:00\", \"2019-11-28T00:00:00\", \"2019-11-19T00:00:00\", \"2019-10-31T00:00:00\", \"2019-10-01T00:00:00\", \"2019-09-30T00:00:00\", \"2019-09-30T00:00:00\", \"2019-09-16T00:00:00\", \"2019-09-04T00:00:00\", \"2019-09-03T00:00:00\", \"2019-09-03T00:00:00\", \"2019-08-26T00:00:00\", \"2019-08-26T00:00:00\", \"2019-07-26T00:00:00\", \"2019-07-14T00:00:00\", \"2019-06-28T00:00:00\", \"2019-06-10T00:00:00\", \"2019-05-31T00:00:00\", \"2019-05-23T00:00:00\", \"2019-05-23T00:00:00\", \"2019-05-22T00:00:00\", \"2019-04-30T00:00:00\", \"2019-04-29T00:00:00\", \"2019-04-15T00:00:00\", \"2019-04-15T00:00:00\", \"2019-04-02T00:00:00\", \"2019-04-01T00:00:00\", \"2020-05-16T00:00:00\", \"2020-05-14T00:00:00\", \"2020-05-13T00:00:00\", \"2020-05-13T00:00:00\", \"2020-05-09T00:00:00\", \"2020-05-09T00:00:00\", \"2020-05-08T00:00:00\", \"2020-05-04T00:00:00\", \"2020-05-01T00:00:00\", \"2020-05-01T00:00:00\", \"2020-04-30T00:00:00\", \"2020-04-30T00:00:00\", \"2020-04-30T00:00:00\", \"2020-04-29T00:00:00\", \"2020-04-28T00:00:00\", \"2020-04-26T00:00:00\", \"2020-04-25T00:00:00\", \"2020-04-24T00:00:00\", \"2020-04-24T00:00:00\", \"2020-04-23T00:00:00\", \"2020-04-22T00:00:00\", \"2020-04-21T00:00:00\", \"2020-04-20T00:00:00\", \"2020-04-17T00:00:00\", \"2020-04-16T00:00:00\", \"2020-04-16T00:00:00\", \"2020-04-16T00:00:00\", \"2020-04-15T00:00:00\", \"2020-04-15T00:00:00\", \"2020-04-12T00:00:00\", \"2020-04-10T00:00:00\", \"2020-04-09T00:00:00\", \"2020-04-06T00:00:00\", \"2020-04-06T00:00:00\", \"2020-03-31T00:00:00\", \"2020-03-27T00:00:00\", \"2020-03-27T00:00:00\", \"2020-03-25T00:00:00\", \"2020-03-25T00:00:00\", \"2020-03-25T00:00:00\", \"2020-03-20T00:00:00\", \"2020-03-19T00:00:00\", \"2020-03-19T00:00:00\", \"2020-03-13T00:00:00\", \"2020-03-11T00:00:00\", \"2020-03-11T00:00:00\", \"2020-03-10T00:00:00\", \"2020-03-10T00:00:00\", \"2020-03-06T00:00:00\", \"2020-02-27T00:00:00\", \"2020-02-26T00:00:00\", \"2020-02-25T00:00:00\", \"2020-02-20T00:00:00\", \"2020-02-19T00:00:00\", \"2020-02-18T00:00:00\", \"2020-02-16T00:00:00\", \"2020-02-13T00:00:00\", \"2020-01-31T00:00:00\", \"2020-01-02T00:00:00\", \"2019-12-16T00:00:00\", \"2019-12-12T00:00:00\", \"2019-12-11T00:00:00\", \"2019-12-03T00:00:00\", \"2019-12-02T00:00:00\", \"2019-11-27T00:00:00\", \"2019-11-24T00:00:00\", \"2019-11-15T00:00:00\", \"2019-11-08T00:00:00\", \"2019-11-05T00:00:00\", \"2019-10-30T00:00:00\", \"2019-10-25T00:00:00\", \"2019-10-03T00:00:00\", \"2019-10-02T00:00:00\", \"2019-10-01T00:00:00\", \"2019-10-01T00:00:00\", \"2019-09-30T00:00:00\", \"2019-09-29T00:00:00\", \"2019-09-26T00:00:00\", \"2019-09-20T00:00:00\", \"2019-09-15T00:00:00\", \"2019-09-10T00:00:00\", \"2019-09-08T00:00:00\", \"2019-09-06T00:00:00\", \"2019-09-04T00:00:00\", \"2019-08-30T00:00:00\", \"2019-08-27T00:00:00\", \"2019-08-22T00:00:00\", \"2019-08-13T00:00:00\", \"2019-08-01T00:00:00\", \"2019-07-16T00:00:00\", \"2019-07-04T00:00:00\", \"2019-07-02T00:00:00\", \"2019-06-28T00:00:00\", \"2019-06-04T00:00:00\", \"2019-05-28T00:00:00\", \"2019-05-23T00:00:00\", \"2019-05-20T00:00:00\"], \"xaxis\": \"x\", \"y\": [-1.4975207448005676, -1.498285949230194, -1.4902855753898618, -1.4733055233955383, -1.4650974869728088, -1.4989307522773745, -1.4891778230667114, -1.490716516971588, -1.3314192891120908, -1.4214408993721008, -1.3934794664382937, -1.3336432576179504, -1.4901069402694702, -1.4988272786140442, -1.4405885338783264, -1.329418063163757, -1.1488687992095947, 1.3256945013999941, -1.4935338497161863, -0.1414221823215485, -1.4955782294273376, -1.4994325041770935, 1.2366125583648682, 1.232754111289978, -1.3392068147659302, -1.4874122142791748, -0.0008412636816501582, -1.2549678087234497, -1.382517158985138, -0.9442244172096252, -1.4990059733390808, -1.4330191016197205, 1.3845785856246948, -1.1699542999267578, -1.4967417120933533, 1.4242247939109802, -1.1155351400375366, 0.27120379358530045, -1.4987849593162537, 0.03557952493429184, 1.3461576700210571, 1.3461576700210571, -1.3638954758644104, -1.3584988117218018, -1.4102745652198792, -1.1612778902053833, -1.4943377375602722, -1.440325915813446, -0.2720678243786097, -1.4988458156585691, 0.2374052815139293, -1.016398012638092, -1.496625304222107, -1.4863579273223877, -1.498120367527008, -1.268121063709259, -1.4897152781486511, -1.4800333380699158, -1.4496411085128784, -1.480435132980347, -0.21442283689975736, 0.019620519131422043, -0.9953454732894896, 0.9750491678714752, 0.13697616755962375, -0.013365201652050022, -1.4795071482658386, -1.2837618589401243, -0.9752251207828522, -1.495346486568451, -1.4976140260696411, -0.015296204015612604, -1.4980791807174685, -1.065637469291687, -1.305814564228058, -1.4844489693641665, -1.0469048619270325, -0.015702236676588658, -0.9935397803783416, -1.4897488951683044, -1.0094648003578186, -1.4856913685798645, -0.4026195788756013, -0.05605441331863403, -1.2040889859199524, -1.1600334644317627, -1.4872260689735413, -1.4958342313766482, -1.4672401547431946, -1.4717780947685242, -1.3115956783294678, -0.3093124516308308, -1.4601668119430542, -1.2071483135223389, -1.4822140336036682, -1.4708333611488342, -1.353023886680603, 0.3088863492012024, -1.4666168093681335, -1.2439340949058533, -1.1757996678352356, -1.4692213535308838, -0.01837285608053208, -1.4635162949562073, -1.4937759637832642, 0.09628693014383316, -0.07459027692675592, 0.05560144782066345, -1.4423192739486694, -0.434554386883974, -1.435813069343567, -1.386469542980194, -1.2855457067489624, -1.4135168790817259, 1.368165910243988, -1.4970613121986391, -1.2277562022209167, -0.06451679905876517, 1.0025845766067505, -0.2367376312613487, -1.1168586015701294, -0.042585797607898726, -1.245606780052185, -1.1138149499893188, -1.49246746301651, -1.4902347326278689, -1.4502134919166565, -0.01021822914481163, -1.3705164194107056, -1.389236330986023, -1.4831101894378662, -0.04732032865285875, -1.3564692735671997, -1.4724942445755005, 1.0466192364692688, -1.0514061450958252, -1.4887521862983704, -1.4861286878585815, -1.4947170615196228, -0.0522558530792594, -1.4239038228988647], \"yaxis\": \"y2\"}, {\"marker\": {\"color\": \"orange\"}, \"mode\": \"markers\", \"name\": \"Golden Sentiment\", \"opacity\": 0.5, \"type\": \"scatter\", \"x\": [\"2020-04-30T00:00:00\", \"2020-04-29T00:00:00\", \"2020-04-16T00:00:00\", \"2020-04-16T00:00:00\", \"2020-04-07T00:00:00\", \"2020-03-31T00:00:00\", \"2020-03-31T00:00:00\", \"2020-03-25T00:00:00\", \"2020-03-23T00:00:00\", \"2020-03-18T00:00:00\", \"2020-03-11T00:00:00\", \"2020-03-11T00:00:00\", \"2020-03-09T00:00:00\", \"2020-01-31T00:00:00\", \"2020-01-14T00:00:00\", \"2020-01-09T00:00:00\", \"2019-12-20T00:00:00\", \"2019-12-20T00:00:00\", \"2019-11-28T00:00:00\", \"2019-11-19T00:00:00\", \"2019-10-31T00:00:00\", \"2019-10-01T00:00:00\", \"2019-09-30T00:00:00\", \"2019-09-30T00:00:00\", \"2019-09-16T00:00:00\", \"2019-09-04T00:00:00\", \"2019-09-03T00:00:00\", \"2019-09-03T00:00:00\", \"2019-08-26T00:00:00\", \"2019-08-26T00:00:00\", \"2019-07-26T00:00:00\", \"2019-07-14T00:00:00\", \"2019-06-28T00:00:00\", \"2019-06-10T00:00:00\", \"2019-05-31T00:00:00\", \"2019-05-23T00:00:00\", \"2019-05-23T00:00:00\", \"2019-05-22T00:00:00\", \"2019-04-30T00:00:00\", \"2019-04-29T00:00:00\", \"2019-04-15T00:00:00\", \"2019-04-15T00:00:00\", \"2019-04-02T00:00:00\", \"2019-04-01T00:00:00\", \"2020-05-16T00:00:00\", \"2020-05-14T00:00:00\", \"2020-05-13T00:00:00\", \"2020-05-13T00:00:00\", \"2020-05-09T00:00:00\", \"2020-05-09T00:00:00\", \"2020-05-08T00:00:00\", \"2020-05-04T00:00:00\", \"2020-05-01T00:00:00\", \"2020-05-01T00:00:00\", \"2020-04-30T00:00:00\", \"2020-04-30T00:00:00\", \"2020-04-30T00:00:00\", \"2020-04-29T00:00:00\", \"2020-04-28T00:00:00\", \"2020-04-26T00:00:00\", \"2020-04-25T00:00:00\", \"2020-04-24T00:00:00\", \"2020-04-24T00:00:00\", \"2020-04-23T00:00:00\", \"2020-04-22T00:00:00\", \"2020-04-21T00:00:00\", \"2020-04-20T00:00:00\", \"2020-04-17T00:00:00\", \"2020-04-16T00:00:00\", \"2020-04-16T00:00:00\", \"2020-04-16T00:00:00\", \"2020-04-15T00:00:00\", \"2020-04-15T00:00:00\", \"2020-04-12T00:00:00\", \"2020-04-10T00:00:00\", \"2020-04-09T00:00:00\", \"2020-04-06T00:00:00\", \"2020-04-06T00:00:00\", \"2020-03-31T00:00:00\", \"2020-03-27T00:00:00\", \"2020-03-27T00:00:00\", \"2020-03-25T00:00:00\", \"2020-03-25T00:00:00\", \"2020-03-25T00:00:00\", \"2020-03-20T00:00:00\", \"2020-03-19T00:00:00\", \"2020-03-19T00:00:00\", \"2020-03-13T00:00:00\", \"2020-03-11T00:00:00\", \"2020-03-11T00:00:00\", \"2020-03-10T00:00:00\", \"2020-03-10T00:00:00\", \"2020-03-06T00:00:00\", \"2020-02-27T00:00:00\", \"2020-02-26T00:00:00\", \"2020-02-25T00:00:00\", \"2020-02-20T00:00:00\", \"2020-02-19T00:00:00\", \"2020-02-18T00:00:00\", \"2020-02-16T00:00:00\", \"2020-02-13T00:00:00\", \"2020-01-31T00:00:00\", \"2020-01-02T00:00:00\", \"2019-12-16T00:00:00\", \"2019-12-12T00:00:00\", \"2019-12-11T00:00:00\", \"2019-12-03T00:00:00\", \"2019-12-02T00:00:00\", \"2019-11-27T00:00:00\", \"2019-11-24T00:00:00\", \"2019-11-15T00:00:00\", \"2019-11-08T00:00:00\", \"2019-11-05T00:00:00\", \"2019-10-30T00:00:00\", \"2019-10-25T00:00:00\", \"2019-10-03T00:00:00\", \"2019-10-02T00:00:00\", \"2019-10-01T00:00:00\", \"2019-10-01T00:00:00\", \"2019-09-30T00:00:00\", \"2019-09-29T00:00:00\", \"2019-09-26T00:00:00\", \"2019-09-20T00:00:00\", \"2019-09-15T00:00:00\", \"2019-09-10T00:00:00\", \"2019-09-08T00:00:00\", \"2019-09-06T00:00:00\", \"2019-09-04T00:00:00\", \"2019-08-30T00:00:00\", \"2019-08-27T00:00:00\", \"2019-08-22T00:00:00\", \"2019-08-13T00:00:00\", \"2019-08-01T00:00:00\", \"2019-07-16T00:00:00\", \"2019-07-04T00:00:00\", \"2019-07-02T00:00:00\", \"2019-06-28T00:00:00\", \"2019-06-04T00:00:00\", \"2019-05-28T00:00:00\", \"2019-05-23T00:00:00\", \"2019-05-20T00:00:00\"], \"xaxis\": \"x\", \"y\": [-1.5, -1.5, 0.0, -1.5, -1.5, -1.5, -1.5, -1.5, 0.0, -1.5, -1.5, -1.5, 0.0, -1.5, -1.5, -1.5, -1.5, -1.5, -1.5, 0.0, 0.0, -1.5, -1.5, 0.0, -1.5, -1.5, 0.0, 0.0, 0.0, 0.0, -1.5, 0.0, -1.5, 1.5, 1.5, 0.0, 1.5, 0.0, -1.5, -1.5, 1.5, 1.5, 1.5, 0.0, 0.0, -1.5, -1.5, -1.5, 0.0, -1.5, 1.5, -1.5, 0.0, -1.5, 1.5, 1.5, 0.0, 1.5, 0.0, 0.0, -1.5, 1.5, 0.0, 0.0, 0.0, 0.0, 0.0, -1.5, 0.0, 0.0, 0.0, -1.5, 1.5, -1.5, 0.0, 0.0, 1.5, -1.5, -1.5, 1.5, 1.5, -1.5, 1.5, 0.0, 1.5, 0.0, 0.0, 0.0, 0.0, 0.0, 0.0, 0.0, 0.0, -1.5, 1.5, 0.0, -1.5, -1.5, -1.5, -1.5, -1.5, 1.5, -1.5, -1.5, -1.5, -1.5, 0.0, 1.5, 1.5, -1.5, -1.5, 0.0, 1.5, 1.5, -1.5, -1.5, 1.5, 0.0, 1.5, 1.5, 1.5, -1.5, 1.5, 1.5, 1.5, 1.5, -1.5, 1.5, -1.5, -1.5], \"yaxis\": \"y2\"}],\n",
       "                        {\"template\": {\"data\": {\"bar\": [{\"error_x\": {\"color\": \"#2a3f5f\"}, \"error_y\": {\"color\": \"#2a3f5f\"}, \"marker\": {\"line\": {\"color\": \"#E5ECF6\", \"width\": 0.5}}, \"type\": \"bar\"}], \"barpolar\": [{\"marker\": {\"line\": {\"color\": \"#E5ECF6\", \"width\": 0.5}}, \"type\": \"barpolar\"}], \"carpet\": [{\"aaxis\": {\"endlinecolor\": \"#2a3f5f\", \"gridcolor\": \"white\", \"linecolor\": \"white\", \"minorgridcolor\": \"white\", \"startlinecolor\": \"#2a3f5f\"}, \"baxis\": {\"endlinecolor\": \"#2a3f5f\", \"gridcolor\": \"white\", \"linecolor\": \"white\", \"minorgridcolor\": \"white\", \"startlinecolor\": \"#2a3f5f\"}, \"type\": \"carpet\"}], \"choropleth\": [{\"colorbar\": {\"outlinewidth\": 0, \"ticks\": \"\"}, \"type\": \"choropleth\"}], \"contour\": [{\"colorbar\": {\"outlinewidth\": 0, \"ticks\": \"\"}, \"colorscale\": [[0.0, \"#0d0887\"], [0.1111111111111111, \"#46039f\"], [0.2222222222222222, \"#7201a8\"], [0.3333333333333333, \"#9c179e\"], [0.4444444444444444, \"#bd3786\"], [0.5555555555555556, \"#d8576b\"], [0.6666666666666666, \"#ed7953\"], [0.7777777777777778, \"#fb9f3a\"], [0.8888888888888888, \"#fdca26\"], [1.0, \"#f0f921\"]], \"type\": \"contour\"}], \"contourcarpet\": [{\"colorbar\": {\"outlinewidth\": 0, \"ticks\": \"\"}, \"type\": \"contourcarpet\"}], \"heatmap\": [{\"colorbar\": {\"outlinewidth\": 0, \"ticks\": \"\"}, \"colorscale\": [[0.0, \"#0d0887\"], [0.1111111111111111, \"#46039f\"], [0.2222222222222222, \"#7201a8\"], [0.3333333333333333, \"#9c179e\"], [0.4444444444444444, \"#bd3786\"], [0.5555555555555556, \"#d8576b\"], [0.6666666666666666, \"#ed7953\"], [0.7777777777777778, \"#fb9f3a\"], [0.8888888888888888, \"#fdca26\"], [1.0, \"#f0f921\"]], \"type\": \"heatmap\"}], \"heatmapgl\": [{\"colorbar\": {\"outlinewidth\": 0, \"ticks\": \"\"}, \"colorscale\": [[0.0, \"#0d0887\"], [0.1111111111111111, \"#46039f\"], [0.2222222222222222, \"#7201a8\"], [0.3333333333333333, \"#9c179e\"], [0.4444444444444444, \"#bd3786\"], [0.5555555555555556, \"#d8576b\"], [0.6666666666666666, \"#ed7953\"], [0.7777777777777778, \"#fb9f3a\"], [0.8888888888888888, \"#fdca26\"], [1.0, \"#f0f921\"]], \"type\": \"heatmapgl\"}], \"histogram\": [{\"marker\": {\"colorbar\": {\"outlinewidth\": 0, \"ticks\": \"\"}}, \"type\": \"histogram\"}], \"histogram2d\": [{\"colorbar\": {\"outlinewidth\": 0, \"ticks\": \"\"}, \"colorscale\": [[0.0, \"#0d0887\"], [0.1111111111111111, \"#46039f\"], [0.2222222222222222, \"#7201a8\"], [0.3333333333333333, \"#9c179e\"], [0.4444444444444444, \"#bd3786\"], [0.5555555555555556, \"#d8576b\"], [0.6666666666666666, \"#ed7953\"], [0.7777777777777778, \"#fb9f3a\"], [0.8888888888888888, \"#fdca26\"], [1.0, \"#f0f921\"]], \"type\": \"histogram2d\"}], \"histogram2dcontour\": [{\"colorbar\": {\"outlinewidth\": 0, \"ticks\": \"\"}, \"colorscale\": [[0.0, \"#0d0887\"], [0.1111111111111111, \"#46039f\"], [0.2222222222222222, \"#7201a8\"], [0.3333333333333333, \"#9c179e\"], [0.4444444444444444, \"#bd3786\"], [0.5555555555555556, \"#d8576b\"], [0.6666666666666666, \"#ed7953\"], [0.7777777777777778, \"#fb9f3a\"], [0.8888888888888888, \"#fdca26\"], [1.0, \"#f0f921\"]], \"type\": \"histogram2dcontour\"}], \"mesh3d\": [{\"colorbar\": {\"outlinewidth\": 0, \"ticks\": \"\"}, \"type\": \"mesh3d\"}], \"parcoords\": [{\"line\": {\"colorbar\": {\"outlinewidth\": 0, \"ticks\": \"\"}}, \"type\": \"parcoords\"}], \"pie\": [{\"automargin\": true, \"type\": \"pie\"}], \"scatter\": [{\"marker\": {\"colorbar\": {\"outlinewidth\": 0, \"ticks\": \"\"}}, \"type\": \"scatter\"}], \"scatter3d\": [{\"line\": {\"colorbar\": {\"outlinewidth\": 0, \"ticks\": \"\"}}, \"marker\": {\"colorbar\": {\"outlinewidth\": 0, \"ticks\": \"\"}}, \"type\": \"scatter3d\"}], \"scattercarpet\": [{\"marker\": {\"colorbar\": {\"outlinewidth\": 0, \"ticks\": \"\"}}, \"type\": \"scattercarpet\"}], \"scattergeo\": [{\"marker\": {\"colorbar\": {\"outlinewidth\": 0, \"ticks\": \"\"}}, \"type\": \"scattergeo\"}], \"scattergl\": [{\"marker\": {\"colorbar\": {\"outlinewidth\": 0, \"ticks\": \"\"}}, \"type\": \"scattergl\"}], \"scattermapbox\": [{\"marker\": {\"colorbar\": {\"outlinewidth\": 0, \"ticks\": \"\"}}, \"type\": \"scattermapbox\"}], \"scatterpolar\": [{\"marker\": {\"colorbar\": {\"outlinewidth\": 0, \"ticks\": \"\"}}, \"type\": \"scatterpolar\"}], \"scatterpolargl\": [{\"marker\": {\"colorbar\": {\"outlinewidth\": 0, \"ticks\": \"\"}}, \"type\": \"scatterpolargl\"}], \"scatterternary\": [{\"marker\": {\"colorbar\": {\"outlinewidth\": 0, \"ticks\": \"\"}}, \"type\": \"scatterternary\"}], \"surface\": [{\"colorbar\": {\"outlinewidth\": 0, \"ticks\": \"\"}, \"colorscale\": [[0.0, \"#0d0887\"], [0.1111111111111111, \"#46039f\"], [0.2222222222222222, \"#7201a8\"], [0.3333333333333333, \"#9c179e\"], [0.4444444444444444, \"#bd3786\"], [0.5555555555555556, \"#d8576b\"], [0.6666666666666666, \"#ed7953\"], [0.7777777777777778, \"#fb9f3a\"], [0.8888888888888888, \"#fdca26\"], [1.0, \"#f0f921\"]], \"type\": \"surface\"}], \"table\": [{\"cells\": {\"fill\": {\"color\": \"#EBF0F8\"}, \"line\": {\"color\": \"white\"}}, \"header\": {\"fill\": {\"color\": \"#C8D4E3\"}, \"line\": {\"color\": \"white\"}}, \"type\": \"table\"}]}, \"layout\": {\"annotationdefaults\": {\"arrowcolor\": \"#2a3f5f\", \"arrowhead\": 0, \"arrowwidth\": 1}, \"coloraxis\": {\"colorbar\": {\"outlinewidth\": 0, \"ticks\": \"\"}}, \"colorscale\": {\"diverging\": [[0, \"#8e0152\"], [0.1, \"#c51b7d\"], [0.2, \"#de77ae\"], [0.3, \"#f1b6da\"], [0.4, \"#fde0ef\"], [0.5, \"#f7f7f7\"], [0.6, \"#e6f5d0\"], [0.7, \"#b8e186\"], [0.8, \"#7fbc41\"], [0.9, \"#4d9221\"], [1, \"#276419\"]], \"sequential\": [[0.0, \"#0d0887\"], [0.1111111111111111, \"#46039f\"], [0.2222222222222222, \"#7201a8\"], [0.3333333333333333, \"#9c179e\"], [0.4444444444444444, \"#bd3786\"], [0.5555555555555556, \"#d8576b\"], [0.6666666666666666, \"#ed7953\"], [0.7777777777777778, \"#fb9f3a\"], [0.8888888888888888, \"#fdca26\"], [1.0, \"#f0f921\"]], \"sequentialminus\": [[0.0, \"#0d0887\"], [0.1111111111111111, \"#46039f\"], [0.2222222222222222, \"#7201a8\"], [0.3333333333333333, \"#9c179e\"], [0.4444444444444444, \"#bd3786\"], [0.5555555555555556, \"#d8576b\"], [0.6666666666666666, \"#ed7953\"], [0.7777777777777778, \"#fb9f3a\"], [0.8888888888888888, \"#fdca26\"], [1.0, \"#f0f921\"]]}, \"colorway\": [\"#636efa\", \"#EF553B\", \"#00cc96\", \"#ab63fa\", \"#FFA15A\", \"#19d3f3\", \"#FF6692\", \"#B6E880\", \"#FF97FF\", \"#FECB52\"], \"font\": {\"color\": \"#2a3f5f\"}, \"geo\": {\"bgcolor\": \"white\", \"lakecolor\": \"white\", \"landcolor\": \"#E5ECF6\", \"showlakes\": true, \"showland\": true, \"subunitcolor\": \"white\"}, \"hoverlabel\": {\"align\": \"left\"}, \"hovermode\": \"closest\", \"mapbox\": {\"style\": \"light\"}, \"paper_bgcolor\": \"white\", \"plot_bgcolor\": \"#E5ECF6\", \"polar\": {\"angularaxis\": {\"gridcolor\": \"white\", \"linecolor\": \"white\", \"ticks\": \"\"}, \"bgcolor\": \"#E5ECF6\", \"radialaxis\": {\"gridcolor\": \"white\", \"linecolor\": \"white\", \"ticks\": \"\"}}, \"scene\": {\"xaxis\": {\"backgroundcolor\": \"#E5ECF6\", \"gridcolor\": \"white\", \"gridwidth\": 2, \"linecolor\": \"white\", \"showbackground\": true, \"ticks\": \"\", \"zerolinecolor\": \"white\"}, \"yaxis\": {\"backgroundcolor\": \"#E5ECF6\", \"gridcolor\": \"white\", \"gridwidth\": 2, \"linecolor\": \"white\", \"showbackground\": true, \"ticks\": \"\", \"zerolinecolor\": \"white\"}, \"zaxis\": {\"backgroundcolor\": \"#E5ECF6\", \"gridcolor\": \"white\", \"gridwidth\": 2, \"linecolor\": \"white\", \"showbackground\": true, \"ticks\": \"\", \"zerolinecolor\": \"white\"}}, \"shapedefaults\": {\"line\": {\"color\": \"#2a3f5f\"}}, \"ternary\": {\"aaxis\": {\"gridcolor\": \"white\", \"linecolor\": \"white\", \"ticks\": \"\"}, \"baxis\": {\"gridcolor\": \"white\", \"linecolor\": \"white\", \"ticks\": \"\"}, \"bgcolor\": \"#E5ECF6\", \"caxis\": {\"gridcolor\": \"white\", \"linecolor\": \"white\", \"ticks\": \"\"}}, \"title\": {\"x\": 0.05}, \"xaxis\": {\"automargin\": true, \"gridcolor\": \"white\", \"linecolor\": \"white\", \"ticks\": \"\", \"title\": {\"standoff\": 15}, \"zerolinecolor\": \"white\", \"zerolinewidth\": 2}, \"yaxis\": {\"automargin\": true, \"gridcolor\": \"white\", \"linecolor\": \"white\", \"ticks\": \"\", \"title\": {\"standoff\": 15}, \"zerolinecolor\": \"white\", \"zerolinewidth\": 2}}}, \"title\": {\"text\": \"interest rates VS news sentiment (2019 Jan - 2020 May) \"}, \"xaxis\": {\"anchor\": \"y\", \"domain\": [0.0, 0.94], \"range\": [\"2019-05-31T00:00:00\", \"2020-05-16T00:00:00\"], \"rangeslider\": {\"visible\": true}, \"title\": {\"text\": \"Date\"}}, \"yaxis\": {\"anchor\": \"x\", \"autorange\": false, \"domain\": [0.0, 1.0], \"range\": [0.15, 1.85], \"title\": {\"text\": \"Interest Rate - Overnight Target Rate (Bank of Canada)\"}}, \"yaxis2\": {\"anchor\": \"x\", \"overlaying\": \"y\", \"range\": [-2.4994325041770935, 2.4242247939109802], \"side\": \"right\", \"title\": {\"text\": \"Sentiment Score\"}}},\n",
       "                        {\"responsive\": true}\n",
       "                    ).then(function(){\n",
       "                            \n",
       "var gd = document.getElementById('3fd46698-01e2-477c-b3a2-f3744f2059e6');\n",
       "var x = new MutationObserver(function (mutations, observer) {{\n",
       "        var display = window.getComputedStyle(gd).display;\n",
       "        if (!display || display === 'none') {{\n",
       "            console.log([gd, 'removed!']);\n",
       "            Plotly.purge(gd);\n",
       "            observer.disconnect();\n",
       "        }}\n",
       "}});\n",
       "\n",
       "// Listen for the removal of the full notebook cells\n",
       "var notebookContainer = gd.closest('#notebook-container');\n",
       "if (notebookContainer) {{\n",
       "    x.observe(notebookContainer, {childList: true});\n",
       "}}\n",
       "\n",
       "// Listen for the clearing of the current output cell\n",
       "var outputEl = gd.closest('.output');\n",
       "if (outputEl) {{\n",
       "    x.observe(outputEl, {childList: true});\n",
       "}}\n",
       "\n",
       "                        })\n",
       "                };\n",
       "                });\n",
       "            </script>\n",
       "        </div>"
      ]
     },
     "metadata": {},
     "output_type": "display_data"
    }
   ],
   "source": [
    "# test annotated trace\n",
    "#combined_senti_df\n",
    "\n",
    "combined_senti_df.query('indicator==\"gdp\"& annotation_type==\"annotated\" ')\n",
    "\n",
    "daily_senti_df = combined_senti_df.query('indicator==\"gdp\"& annotation_type==\"predicted\" ').rename(columns={'raw_sentiment_score':'final_sentiment'} )\n",
    "daily_senti_df_anno = combined_senti_df.query('indicator==\"gdp\"& annotation_type==\"annotated\" ').rename(columns={'raw_sentiment_score':'final_sentiment'} )\n",
    "\n",
    "test_fig3 = plot_combined_graph_scatter_anno(indicator_df, daily_senti_df, daily_senti_df_anno, indicator_label, test_title) \n",
    "test_fig3.show()"
   ]
  },
  {
   "cell_type": "code",
   "execution_count": 181,
   "metadata": {},
   "outputs": [
    {
     "data": {
      "text/plain": [
       "array(['gdp', 'employment', 'housing', 'interest', 'mortgage', 'stock'],\n",
       "      dtype=object)"
      ]
     },
     "execution_count": 181,
     "metadata": {},
     "output_type": "execute_result"
    }
   ],
   "source": [
    "combined_senti_df.indicator.unique()"
   ]
  },
  {
   "cell_type": "code",
   "execution_count": 180,
   "metadata": {},
   "outputs": [
    {
     "data": {
      "text/html": [
       "<div>\n",
       "<style scoped>\n",
       "    .dataframe tbody tr th:only-of-type {\n",
       "        vertical-align: middle;\n",
       "    }\n",
       "\n",
       "    .dataframe tbody tr th {\n",
       "        vertical-align: top;\n",
       "    }\n",
       "\n",
       "    .dataframe thead th {\n",
       "        text-align: right;\n",
       "    }\n",
       "</style>\n",
       "<table border=\"1\" class=\"dataframe\">\n",
       "  <thead>\n",
       "    <tr style=\"text-align: right;\">\n",
       "      <th></th>\n",
       "      <th>date</th>\n",
       "      <th>value_GDP</th>\n",
       "      <th>value_TSX</th>\n",
       "      <th>value_mortgage_rates</th>\n",
       "      <th>value_employment</th>\n",
       "      <th>value_housing_prices</th>\n",
       "      <th>value_interest_rates</th>\n",
       "    </tr>\n",
       "  </thead>\n",
       "  <tbody>\n",
       "    <tr>\n",
       "      <th>0</th>\n",
       "      <td>2019-01-01</td>\n",
       "      <td>1.952558e+12</td>\n",
       "      <td>15540.599609</td>\n",
       "      <td>3.84</td>\n",
       "      <td>60.8</td>\n",
       "      <td>227.4</td>\n",
       "      <td>NaN</td>\n",
       "    </tr>\n",
       "    <tr>\n",
       "      <th>1</th>\n",
       "      <td>2019-02-01</td>\n",
       "      <td>1.948783e+12</td>\n",
       "      <td>15999.000000</td>\n",
       "      <td>3.82</td>\n",
       "      <td>61.1</td>\n",
       "      <td>228.2</td>\n",
       "      <td>NaN</td>\n",
       "    </tr>\n",
       "    <tr>\n",
       "      <th>2</th>\n",
       "      <td>2019-03-01</td>\n",
       "      <td>1.961298e+12</td>\n",
       "      <td>16102.099609</td>\n",
       "      <td>3.76</td>\n",
       "      <td>61.0</td>\n",
       "      <td>229.8</td>\n",
       "      <td>NaN</td>\n",
       "    </tr>\n",
       "    <tr>\n",
       "      <th>3</th>\n",
       "      <td>2019-04-01</td>\n",
       "      <td>1.966131e+12</td>\n",
       "      <td>16580.699219</td>\n",
       "      <td>3.59</td>\n",
       "      <td>61.6</td>\n",
       "      <td>231.3</td>\n",
       "      <td>NaN</td>\n",
       "    </tr>\n",
       "    <tr>\n",
       "      <th>4</th>\n",
       "      <td>2019-05-01</td>\n",
       "      <td>1.971712e+12</td>\n",
       "      <td>16037.500000</td>\n",
       "      <td>3.45</td>\n",
       "      <td>62.7</td>\n",
       "      <td>232.0</td>\n",
       "      <td>NaN</td>\n",
       "    </tr>\n",
       "    <tr>\n",
       "      <th>...</th>\n",
       "      <td>...</td>\n",
       "      <td>...</td>\n",
       "      <td>...</td>\n",
       "      <td>...</td>\n",
       "      <td>...</td>\n",
       "      <td>...</td>\n",
       "      <td>...</td>\n",
       "    </tr>\n",
       "    <tr>\n",
       "      <th>267</th>\n",
       "      <td>2020-05-26</td>\n",
       "      <td>NaN</td>\n",
       "      <td>NaN</td>\n",
       "      <td>NaN</td>\n",
       "      <td>NaN</td>\n",
       "      <td>NaN</td>\n",
       "      <td>0.25</td>\n",
       "    </tr>\n",
       "    <tr>\n",
       "      <th>268</th>\n",
       "      <td>2020-05-27</td>\n",
       "      <td>NaN</td>\n",
       "      <td>NaN</td>\n",
       "      <td>NaN</td>\n",
       "      <td>NaN</td>\n",
       "      <td>NaN</td>\n",
       "      <td>0.25</td>\n",
       "    </tr>\n",
       "    <tr>\n",
       "      <th>269</th>\n",
       "      <td>2020-05-28</td>\n",
       "      <td>NaN</td>\n",
       "      <td>NaN</td>\n",
       "      <td>NaN</td>\n",
       "      <td>NaN</td>\n",
       "      <td>NaN</td>\n",
       "      <td>0.25</td>\n",
       "    </tr>\n",
       "    <tr>\n",
       "      <th>270</th>\n",
       "      <td>2020-05-29</td>\n",
       "      <td>NaN</td>\n",
       "      <td>NaN</td>\n",
       "      <td>NaN</td>\n",
       "      <td>NaN</td>\n",
       "      <td>NaN</td>\n",
       "      <td>0.25</td>\n",
       "    </tr>\n",
       "    <tr>\n",
       "      <th>271</th>\n",
       "      <td>2020-06-01</td>\n",
       "      <td>NaN</td>\n",
       "      <td>NaN</td>\n",
       "      <td>NaN</td>\n",
       "      <td>NaN</td>\n",
       "      <td>NaN</td>\n",
       "      <td>0.25</td>\n",
       "    </tr>\n",
       "  </tbody>\n",
       "</table>\n",
       "<p>272 rows × 7 columns</p>\n",
       "</div>"
      ],
      "text/plain": [
       "           date     value_GDP     value_TSX  value_mortgage_rates  \\\n",
       "0    2019-01-01  1.952558e+12  15540.599609                  3.84   \n",
       "1    2019-02-01  1.948783e+12  15999.000000                  3.82   \n",
       "2    2019-03-01  1.961298e+12  16102.099609                  3.76   \n",
       "3    2019-04-01  1.966131e+12  16580.699219                  3.59   \n",
       "4    2019-05-01  1.971712e+12  16037.500000                  3.45   \n",
       "..          ...           ...           ...                   ...   \n",
       "267  2020-05-26           NaN           NaN                   NaN   \n",
       "268  2020-05-27           NaN           NaN                   NaN   \n",
       "269  2020-05-28           NaN           NaN                   NaN   \n",
       "270  2020-05-29           NaN           NaN                   NaN   \n",
       "271  2020-06-01           NaN           NaN                   NaN   \n",
       "\n",
       "     value_employment  value_housing_prices  value_interest_rates  \n",
       "0                60.8                 227.4                   NaN  \n",
       "1                61.1                 228.2                   NaN  \n",
       "2                61.0                 229.8                   NaN  \n",
       "3                61.6                 231.3                   NaN  \n",
       "4                62.7                 232.0                   NaN  \n",
       "..                ...                   ...                   ...  \n",
       "267               NaN                   NaN                  0.25  \n",
       "268               NaN                   NaN                  0.25  \n",
       "269               NaN                   NaN                  0.25  \n",
       "270               NaN                   NaN                  0.25  \n",
       "271               NaN                   NaN                  0.25  \n",
       "\n",
       "[272 rows x 7 columns]"
      ]
     },
     "execution_count": 180,
     "metadata": {},
     "output_type": "execute_result"
    }
   ],
   "source": [
    "indicators_df"
   ]
  },
  {
   "cell_type": "code",
   "execution_count": 217,
   "metadata": {},
   "outputs": [
    {
     "data": {
      "application/vnd.plotly.v1+json": {
       "config": {
        "plotlyServerURL": "https://plot.ly"
       },
       "data": [
        {
         "fill": "tonexty",
         "line": {
          "color": "blue"
         },
         "mode": "lines",
         "name": "Interest Rate - Overnight Target Rate (Bank of Canada)",
         "type": "scatter",
         "x": [
          "2019-05-31T00:00:00",
          "2019-06-03T00:00:00",
          "2019-06-04T00:00:00",
          "2019-06-05T00:00:00",
          "2019-06-06T00:00:00",
          "2019-06-07T00:00:00",
          "2019-06-10T00:00:00",
          "2019-06-11T00:00:00",
          "2019-06-12T00:00:00",
          "2019-06-13T00:00:00",
          "2019-06-14T00:00:00",
          "2019-06-17T00:00:00",
          "2019-06-18T00:00:00",
          "2019-06-19T00:00:00",
          "2019-06-20T00:00:00",
          "2019-06-21T00:00:00",
          "2019-06-24T00:00:00",
          "2019-06-25T00:00:00",
          "2019-06-26T00:00:00",
          "2019-06-27T00:00:00",
          "2019-06-28T00:00:00",
          "2019-07-01T00:00:00",
          "2019-07-02T00:00:00",
          "2019-07-03T00:00:00",
          "2019-07-04T00:00:00",
          "2019-07-05T00:00:00",
          "2019-07-08T00:00:00",
          "2019-07-09T00:00:00",
          "2019-07-10T00:00:00",
          "2019-07-11T00:00:00",
          "2019-07-12T00:00:00",
          "2019-07-15T00:00:00",
          "2019-07-16T00:00:00",
          "2019-07-17T00:00:00",
          "2019-07-18T00:00:00",
          "2019-07-19T00:00:00",
          "2019-07-22T00:00:00",
          "2019-07-23T00:00:00",
          "2019-07-24T00:00:00",
          "2019-07-25T00:00:00",
          "2019-07-26T00:00:00",
          "2019-07-29T00:00:00",
          "2019-07-30T00:00:00",
          "2019-07-31T00:00:00",
          "2019-08-01T00:00:00",
          "2019-08-02T00:00:00",
          "2019-08-05T00:00:00",
          "2019-08-06T00:00:00",
          "2019-08-07T00:00:00",
          "2019-08-08T00:00:00",
          "2019-08-09T00:00:00",
          "2019-08-12T00:00:00",
          "2019-08-13T00:00:00",
          "2019-08-14T00:00:00",
          "2019-08-15T00:00:00",
          "2019-08-16T00:00:00",
          "2019-08-19T00:00:00",
          "2019-08-20T00:00:00",
          "2019-08-21T00:00:00",
          "2019-08-22T00:00:00",
          "2019-08-23T00:00:00",
          "2019-08-26T00:00:00",
          "2019-08-27T00:00:00",
          "2019-08-28T00:00:00",
          "2019-08-29T00:00:00",
          "2019-08-30T00:00:00",
          "2019-09-02T00:00:00",
          "2019-09-03T00:00:00",
          "2019-09-04T00:00:00",
          "2019-09-05T00:00:00",
          "2019-09-06T00:00:00",
          "2019-09-09T00:00:00",
          "2019-09-10T00:00:00",
          "2019-09-11T00:00:00",
          "2019-09-12T00:00:00",
          "2019-09-13T00:00:00",
          "2019-09-16T00:00:00",
          "2019-09-17T00:00:00",
          "2019-09-18T00:00:00",
          "2019-09-19T00:00:00",
          "2019-09-20T00:00:00",
          "2019-09-23T00:00:00",
          "2019-09-24T00:00:00",
          "2019-09-25T00:00:00",
          "2019-09-26T00:00:00",
          "2019-09-27T00:00:00",
          "2019-09-30T00:00:00",
          "2019-10-01T00:00:00",
          "2019-10-02T00:00:00",
          "2019-10-03T00:00:00",
          "2019-10-04T00:00:00",
          "2019-10-07T00:00:00",
          "2019-10-08T00:00:00",
          "2019-10-09T00:00:00",
          "2019-10-10T00:00:00",
          "2019-10-11T00:00:00",
          "2019-10-14T00:00:00",
          "2019-10-15T00:00:00",
          "2019-10-16T00:00:00",
          "2019-10-17T00:00:00",
          "2019-10-18T00:00:00",
          "2019-10-21T00:00:00",
          "2019-10-22T00:00:00",
          "2019-10-23T00:00:00",
          "2019-10-24T00:00:00",
          "2019-10-25T00:00:00",
          "2019-10-28T00:00:00",
          "2019-10-29T00:00:00",
          "2019-10-30T00:00:00",
          "2019-10-31T00:00:00",
          "2019-11-01T00:00:00",
          "2019-11-04T00:00:00",
          "2019-11-05T00:00:00",
          "2019-11-06T00:00:00",
          "2019-11-07T00:00:00",
          "2019-11-08T00:00:00",
          "2019-11-11T00:00:00",
          "2019-11-12T00:00:00",
          "2019-11-13T00:00:00",
          "2019-11-14T00:00:00",
          "2019-11-15T00:00:00",
          "2019-11-18T00:00:00",
          "2019-11-19T00:00:00",
          "2019-11-20T00:00:00",
          "2019-11-21T00:00:00",
          "2019-11-22T00:00:00",
          "2019-11-25T00:00:00",
          "2019-11-26T00:00:00",
          "2019-11-27T00:00:00",
          "2019-11-28T00:00:00",
          "2019-11-29T00:00:00",
          "2019-12-02T00:00:00",
          "2019-12-03T00:00:00",
          "2019-12-04T00:00:00",
          "2019-12-05T00:00:00",
          "2019-12-06T00:00:00",
          "2019-12-09T00:00:00",
          "2019-12-10T00:00:00",
          "2019-12-11T00:00:00",
          "2019-12-12T00:00:00",
          "2019-12-13T00:00:00",
          "2019-12-16T00:00:00",
          "2019-12-17T00:00:00",
          "2019-12-18T00:00:00",
          "2019-12-19T00:00:00",
          "2019-12-20T00:00:00",
          "2019-12-23T00:00:00",
          "2019-12-24T00:00:00",
          "2019-12-25T00:00:00",
          "2019-12-26T00:00:00",
          "2019-12-27T00:00:00",
          "2019-12-30T00:00:00",
          "2019-12-31T00:00:00",
          "2020-01-01T00:00:00",
          "2020-01-02T00:00:00",
          "2020-01-03T00:00:00",
          "2020-01-06T00:00:00",
          "2020-01-07T00:00:00",
          "2020-01-08T00:00:00",
          "2020-01-09T00:00:00",
          "2020-01-10T00:00:00",
          "2020-01-13T00:00:00",
          "2020-01-14T00:00:00",
          "2020-01-15T00:00:00",
          "2020-01-16T00:00:00",
          "2020-01-17T00:00:00",
          "2020-01-20T00:00:00",
          "2020-01-21T00:00:00",
          "2020-01-22T00:00:00",
          "2020-01-23T00:00:00",
          "2020-01-24T00:00:00",
          "2020-01-27T00:00:00",
          "2020-01-28T00:00:00",
          "2020-01-29T00:00:00",
          "2020-01-30T00:00:00",
          "2020-01-31T00:00:00",
          "2020-02-03T00:00:00",
          "2020-02-04T00:00:00",
          "2020-02-05T00:00:00",
          "2020-02-06T00:00:00",
          "2020-02-07T00:00:00",
          "2020-02-10T00:00:00",
          "2020-02-11T00:00:00",
          "2020-02-12T00:00:00",
          "2020-02-13T00:00:00",
          "2020-02-14T00:00:00",
          "2020-02-17T00:00:00",
          "2020-02-18T00:00:00",
          "2020-02-19T00:00:00",
          "2020-02-20T00:00:00",
          "2020-02-21T00:00:00",
          "2020-02-24T00:00:00",
          "2020-02-25T00:00:00",
          "2020-02-26T00:00:00",
          "2020-02-27T00:00:00",
          "2020-02-28T00:00:00",
          "2020-03-02T00:00:00",
          "2020-03-03T00:00:00",
          "2020-03-04T00:00:00",
          "2020-03-05T00:00:00",
          "2020-03-06T00:00:00",
          "2020-03-09T00:00:00",
          "2020-03-10T00:00:00",
          "2020-03-11T00:00:00",
          "2020-03-12T00:00:00",
          "2020-03-13T00:00:00",
          "2020-03-16T00:00:00",
          "2020-03-17T00:00:00",
          "2020-03-18T00:00:00",
          "2020-03-19T00:00:00",
          "2020-03-20T00:00:00",
          "2020-03-23T00:00:00",
          "2020-03-24T00:00:00",
          "2020-03-25T00:00:00",
          "2020-03-26T00:00:00",
          "2020-03-27T00:00:00",
          "2020-03-30T00:00:00",
          "2020-03-31T00:00:00",
          "2020-04-01T00:00:00",
          "2020-04-02T00:00:00",
          "2020-04-03T00:00:00",
          "2020-04-06T00:00:00",
          "2020-04-07T00:00:00",
          "2020-04-08T00:00:00",
          "2020-04-09T00:00:00",
          "2020-04-10T00:00:00",
          "2020-04-13T00:00:00",
          "2020-04-14T00:00:00",
          "2020-04-15T00:00:00",
          "2020-04-16T00:00:00",
          "2020-04-17T00:00:00",
          "2020-04-20T00:00:00",
          "2020-04-21T00:00:00",
          "2020-04-22T00:00:00",
          "2020-04-23T00:00:00",
          "2020-04-24T00:00:00",
          "2020-04-27T00:00:00",
          "2020-04-28T00:00:00",
          "2020-04-29T00:00:00",
          "2020-04-30T00:00:00",
          "2020-05-01T00:00:00",
          "2020-05-04T00:00:00",
          "2020-05-05T00:00:00",
          "2020-05-06T00:00:00",
          "2020-05-07T00:00:00",
          "2020-05-08T00:00:00",
          "2020-05-11T00:00:00",
          "2020-05-12T00:00:00",
          "2020-05-13T00:00:00",
          "2020-05-14T00:00:00",
          "2020-05-15T00:00:00",
          "2020-05-18T00:00:00",
          "2020-05-19T00:00:00",
          "2020-05-20T00:00:00",
          "2020-05-21T00:00:00",
          "2020-05-22T00:00:00",
          "2020-05-25T00:00:00",
          "2020-05-26T00:00:00",
          "2020-05-27T00:00:00",
          "2020-05-28T00:00:00",
          "2020-05-29T00:00:00",
          "2020-06-01T00:00:00"
         ],
         "xaxis": "x",
         "y": [
          1.75,
          1.75,
          1.75,
          1.75,
          1.75,
          1.75,
          1.75,
          1.75,
          1.75,
          1.75,
          1.75,
          1.75,
          1.75,
          1.75,
          1.75,
          1.75,
          1.75,
          1.75,
          1.75,
          1.75,
          1.75,
          1.75,
          1.75,
          1.75,
          1.75,
          1.75,
          1.75,
          1.75,
          1.75,
          1.75,
          1.75,
          1.75,
          1.75,
          1.75,
          1.75,
          1.75,
          1.75,
          1.75,
          1.75,
          1.75,
          1.75,
          1.75,
          1.75,
          1.75,
          1.75,
          1.75,
          1.75,
          1.75,
          1.75,
          1.75,
          1.75,
          1.75,
          1.75,
          1.75,
          1.75,
          1.75,
          1.75,
          1.75,
          1.75,
          1.75,
          1.75,
          1.75,
          1.75,
          1.75,
          1.75,
          1.75,
          1.75,
          1.75,
          1.75,
          1.75,
          1.75,
          1.75,
          1.75,
          1.75,
          1.75,
          1.75,
          1.75,
          1.75,
          1.75,
          1.75,
          1.75,
          1.75,
          1.75,
          1.75,
          1.75,
          1.75,
          1.75,
          1.75,
          1.75,
          1.75,
          1.75,
          1.75,
          1.75,
          1.75,
          1.75,
          1.75,
          1.75,
          1.75,
          1.75,
          1.75,
          1.75,
          1.75,
          1.75,
          1.75,
          1.75,
          1.75,
          1.75,
          1.75,
          1.75,
          1.75,
          1.75,
          1.75,
          1.75,
          1.75,
          1.75,
          1.75,
          1.75,
          1.75,
          1.75,
          1.75,
          1.75,
          1.75,
          1.75,
          1.75,
          1.75,
          1.75,
          1.75,
          1.75,
          1.75,
          1.75,
          1.75,
          1.75,
          1.75,
          1.75,
          1.75,
          1.75,
          1.75,
          1.75,
          1.75,
          1.75,
          1.75,
          1.75,
          1.75,
          1.75,
          1.75,
          1.75,
          1.75,
          1.75,
          1.75,
          1.75,
          1.75,
          1.75,
          1.75,
          1.75,
          1.75,
          1.75,
          1.75,
          1.75,
          1.75,
          1.75,
          1.75,
          1.75,
          1.75,
          1.75,
          1.75,
          1.75,
          1.75,
          1.75,
          1.75,
          1.75,
          1.75,
          1.75,
          1.75,
          1.75,
          1.75,
          1.75,
          1.75,
          1.75,
          1.75,
          1.75,
          1.75,
          1.75,
          1.75,
          1.75,
          1.75,
          1.75,
          1.75,
          1.75,
          1.75,
          1.75,
          1.75,
          1.75,
          1.75,
          1.75,
          1.75,
          1.75,
          1.75,
          1.75,
          1.25,
          1.25,
          1.25,
          1.25,
          1.25,
          1.25,
          1.25,
          1.25,
          0.75,
          0.75,
          0.75,
          0.75,
          0.75,
          0.75,
          0.75,
          0.75,
          0.75,
          0.25,
          0.25,
          0.25,
          0.25,
          0.25,
          0.25,
          0.25,
          0.25,
          0.25,
          0.25,
          0.25,
          0.25,
          0.25,
          0.25,
          0.25,
          0.25,
          0.25,
          0.25,
          0.25,
          0.25,
          0.25,
          0.25,
          0.25,
          0.25,
          0.25,
          0.25,
          0.25,
          0.25,
          0.25,
          0.25,
          0.25,
          0.25,
          0.25,
          0.25,
          0.25,
          0.25,
          0.25,
          0.25,
          0.25,
          0.25,
          0.25,
          0.25,
          0.25,
          0.25,
          0.25,
          0.25,
          0.25
         ],
         "yaxis": "y"
        },
        {
         "line": {
          "color": "orange"
         },
         "name": "test sentiment",
         "type": "scatter",
         "x": [
          "2018-11-30T00:00:00",
          "2018-12-31T00:00:00",
          "2019-01-31T00:00:00",
          "2019-02-28T00:00:00",
          "2019-03-31T00:00:00",
          "2019-04-30T00:00:00",
          "2019-05-31T00:00:00",
          "2019-06-30T00:00:00",
          "2019-07-31T00:00:00",
          "2019-08-31T00:00:00",
          "2019-09-30T00:00:00",
          "2019-10-31T00:00:00",
          "2019-11-30T00:00:00",
          "2019-12-31T00:00:00",
          "2020-01-31T00:00:00",
          "2020-02-29T00:00:00",
          "2020-03-31T00:00:00",
          "2020-04-30T00:00:00",
          "2020-05-31T00:00:00"
         ],
         "xaxis": "x",
         "y": [
          -0.4737148880958557,
          -1.0791226890352037,
          -0.7663015764620569,
          -0.8749000653624535,
          -0.783627450466156,
          -0.9601471207358621,
          -0.1768586523830891,
          -0.6802022141714891,
          -0.7486968580633402,
          -0.7981072355639832,
          -0.9897536645613371,
          -0.9742317843534376,
          -0.8312913763735975,
          -0.7966727488156822,
          -1.0274852455040673,
          -0.7133640339050222,
          -1.049740469402136,
          -1.0938774144107646,
          -0.9079360948367552
         ],
         "yaxis": "y2"
        }
       ],
       "layout": {
        "template": {
         "data": {
          "bar": [
           {
            "error_x": {
             "color": "#2a3f5f"
            },
            "error_y": {
             "color": "#2a3f5f"
            },
            "marker": {
             "line": {
              "color": "#E5ECF6",
              "width": 0.5
             }
            },
            "type": "bar"
           }
          ],
          "barpolar": [
           {
            "marker": {
             "line": {
              "color": "#E5ECF6",
              "width": 0.5
             }
            },
            "type": "barpolar"
           }
          ],
          "carpet": [
           {
            "aaxis": {
             "endlinecolor": "#2a3f5f",
             "gridcolor": "white",
             "linecolor": "white",
             "minorgridcolor": "white",
             "startlinecolor": "#2a3f5f"
            },
            "baxis": {
             "endlinecolor": "#2a3f5f",
             "gridcolor": "white",
             "linecolor": "white",
             "minorgridcolor": "white",
             "startlinecolor": "#2a3f5f"
            },
            "type": "carpet"
           }
          ],
          "choropleth": [
           {
            "colorbar": {
             "outlinewidth": 0,
             "ticks": ""
            },
            "type": "choropleth"
           }
          ],
          "contour": [
           {
            "colorbar": {
             "outlinewidth": 0,
             "ticks": ""
            },
            "colorscale": [
             [
              0,
              "#0d0887"
             ],
             [
              0.1111111111111111,
              "#46039f"
             ],
             [
              0.2222222222222222,
              "#7201a8"
             ],
             [
              0.3333333333333333,
              "#9c179e"
             ],
             [
              0.4444444444444444,
              "#bd3786"
             ],
             [
              0.5555555555555556,
              "#d8576b"
             ],
             [
              0.6666666666666666,
              "#ed7953"
             ],
             [
              0.7777777777777778,
              "#fb9f3a"
             ],
             [
              0.8888888888888888,
              "#fdca26"
             ],
             [
              1,
              "#f0f921"
             ]
            ],
            "type": "contour"
           }
          ],
          "contourcarpet": [
           {
            "colorbar": {
             "outlinewidth": 0,
             "ticks": ""
            },
            "type": "contourcarpet"
           }
          ],
          "heatmap": [
           {
            "colorbar": {
             "outlinewidth": 0,
             "ticks": ""
            },
            "colorscale": [
             [
              0,
              "#0d0887"
             ],
             [
              0.1111111111111111,
              "#46039f"
             ],
             [
              0.2222222222222222,
              "#7201a8"
             ],
             [
              0.3333333333333333,
              "#9c179e"
             ],
             [
              0.4444444444444444,
              "#bd3786"
             ],
             [
              0.5555555555555556,
              "#d8576b"
             ],
             [
              0.6666666666666666,
              "#ed7953"
             ],
             [
              0.7777777777777778,
              "#fb9f3a"
             ],
             [
              0.8888888888888888,
              "#fdca26"
             ],
             [
              1,
              "#f0f921"
             ]
            ],
            "type": "heatmap"
           }
          ],
          "heatmapgl": [
           {
            "colorbar": {
             "outlinewidth": 0,
             "ticks": ""
            },
            "colorscale": [
             [
              0,
              "#0d0887"
             ],
             [
              0.1111111111111111,
              "#46039f"
             ],
             [
              0.2222222222222222,
              "#7201a8"
             ],
             [
              0.3333333333333333,
              "#9c179e"
             ],
             [
              0.4444444444444444,
              "#bd3786"
             ],
             [
              0.5555555555555556,
              "#d8576b"
             ],
             [
              0.6666666666666666,
              "#ed7953"
             ],
             [
              0.7777777777777778,
              "#fb9f3a"
             ],
             [
              0.8888888888888888,
              "#fdca26"
             ],
             [
              1,
              "#f0f921"
             ]
            ],
            "type": "heatmapgl"
           }
          ],
          "histogram": [
           {
            "marker": {
             "colorbar": {
              "outlinewidth": 0,
              "ticks": ""
             }
            },
            "type": "histogram"
           }
          ],
          "histogram2d": [
           {
            "colorbar": {
             "outlinewidth": 0,
             "ticks": ""
            },
            "colorscale": [
             [
              0,
              "#0d0887"
             ],
             [
              0.1111111111111111,
              "#46039f"
             ],
             [
              0.2222222222222222,
              "#7201a8"
             ],
             [
              0.3333333333333333,
              "#9c179e"
             ],
             [
              0.4444444444444444,
              "#bd3786"
             ],
             [
              0.5555555555555556,
              "#d8576b"
             ],
             [
              0.6666666666666666,
              "#ed7953"
             ],
             [
              0.7777777777777778,
              "#fb9f3a"
             ],
             [
              0.8888888888888888,
              "#fdca26"
             ],
             [
              1,
              "#f0f921"
             ]
            ],
            "type": "histogram2d"
           }
          ],
          "histogram2dcontour": [
           {
            "colorbar": {
             "outlinewidth": 0,
             "ticks": ""
            },
            "colorscale": [
             [
              0,
              "#0d0887"
             ],
             [
              0.1111111111111111,
              "#46039f"
             ],
             [
              0.2222222222222222,
              "#7201a8"
             ],
             [
              0.3333333333333333,
              "#9c179e"
             ],
             [
              0.4444444444444444,
              "#bd3786"
             ],
             [
              0.5555555555555556,
              "#d8576b"
             ],
             [
              0.6666666666666666,
              "#ed7953"
             ],
             [
              0.7777777777777778,
              "#fb9f3a"
             ],
             [
              0.8888888888888888,
              "#fdca26"
             ],
             [
              1,
              "#f0f921"
             ]
            ],
            "type": "histogram2dcontour"
           }
          ],
          "mesh3d": [
           {
            "colorbar": {
             "outlinewidth": 0,
             "ticks": ""
            },
            "type": "mesh3d"
           }
          ],
          "parcoords": [
           {
            "line": {
             "colorbar": {
              "outlinewidth": 0,
              "ticks": ""
             }
            },
            "type": "parcoords"
           }
          ],
          "pie": [
           {
            "automargin": true,
            "type": "pie"
           }
          ],
          "scatter": [
           {
            "marker": {
             "colorbar": {
              "outlinewidth": 0,
              "ticks": ""
             }
            },
            "type": "scatter"
           }
          ],
          "scatter3d": [
           {
            "line": {
             "colorbar": {
              "outlinewidth": 0,
              "ticks": ""
             }
            },
            "marker": {
             "colorbar": {
              "outlinewidth": 0,
              "ticks": ""
             }
            },
            "type": "scatter3d"
           }
          ],
          "scattercarpet": [
           {
            "marker": {
             "colorbar": {
              "outlinewidth": 0,
              "ticks": ""
             }
            },
            "type": "scattercarpet"
           }
          ],
          "scattergeo": [
           {
            "marker": {
             "colorbar": {
              "outlinewidth": 0,
              "ticks": ""
             }
            },
            "type": "scattergeo"
           }
          ],
          "scattergl": [
           {
            "marker": {
             "colorbar": {
              "outlinewidth": 0,
              "ticks": ""
             }
            },
            "type": "scattergl"
           }
          ],
          "scattermapbox": [
           {
            "marker": {
             "colorbar": {
              "outlinewidth": 0,
              "ticks": ""
             }
            },
            "type": "scattermapbox"
           }
          ],
          "scatterpolar": [
           {
            "marker": {
             "colorbar": {
              "outlinewidth": 0,
              "ticks": ""
             }
            },
            "type": "scatterpolar"
           }
          ],
          "scatterpolargl": [
           {
            "marker": {
             "colorbar": {
              "outlinewidth": 0,
              "ticks": ""
             }
            },
            "type": "scatterpolargl"
           }
          ],
          "scatterternary": [
           {
            "marker": {
             "colorbar": {
              "outlinewidth": 0,
              "ticks": ""
             }
            },
            "type": "scatterternary"
           }
          ],
          "surface": [
           {
            "colorbar": {
             "outlinewidth": 0,
             "ticks": ""
            },
            "colorscale": [
             [
              0,
              "#0d0887"
             ],
             [
              0.1111111111111111,
              "#46039f"
             ],
             [
              0.2222222222222222,
              "#7201a8"
             ],
             [
              0.3333333333333333,
              "#9c179e"
             ],
             [
              0.4444444444444444,
              "#bd3786"
             ],
             [
              0.5555555555555556,
              "#d8576b"
             ],
             [
              0.6666666666666666,
              "#ed7953"
             ],
             [
              0.7777777777777778,
              "#fb9f3a"
             ],
             [
              0.8888888888888888,
              "#fdca26"
             ],
             [
              1,
              "#f0f921"
             ]
            ],
            "type": "surface"
           }
          ],
          "table": [
           {
            "cells": {
             "fill": {
              "color": "#EBF0F8"
             },
             "line": {
              "color": "white"
             }
            },
            "header": {
             "fill": {
              "color": "#C8D4E3"
             },
             "line": {
              "color": "white"
             }
            },
            "type": "table"
           }
          ]
         },
         "layout": {
          "annotationdefaults": {
           "arrowcolor": "#2a3f5f",
           "arrowhead": 0,
           "arrowwidth": 1
          },
          "coloraxis": {
           "colorbar": {
            "outlinewidth": 0,
            "ticks": ""
           }
          },
          "colorscale": {
           "diverging": [
            [
             0,
             "#8e0152"
            ],
            [
             0.1,
             "#c51b7d"
            ],
            [
             0.2,
             "#de77ae"
            ],
            [
             0.3,
             "#f1b6da"
            ],
            [
             0.4,
             "#fde0ef"
            ],
            [
             0.5,
             "#f7f7f7"
            ],
            [
             0.6,
             "#e6f5d0"
            ],
            [
             0.7,
             "#b8e186"
            ],
            [
             0.8,
             "#7fbc41"
            ],
            [
             0.9,
             "#4d9221"
            ],
            [
             1,
             "#276419"
            ]
           ],
           "sequential": [
            [
             0,
             "#0d0887"
            ],
            [
             0.1111111111111111,
             "#46039f"
            ],
            [
             0.2222222222222222,
             "#7201a8"
            ],
            [
             0.3333333333333333,
             "#9c179e"
            ],
            [
             0.4444444444444444,
             "#bd3786"
            ],
            [
             0.5555555555555556,
             "#d8576b"
            ],
            [
             0.6666666666666666,
             "#ed7953"
            ],
            [
             0.7777777777777778,
             "#fb9f3a"
            ],
            [
             0.8888888888888888,
             "#fdca26"
            ],
            [
             1,
             "#f0f921"
            ]
           ],
           "sequentialminus": [
            [
             0,
             "#0d0887"
            ],
            [
             0.1111111111111111,
             "#46039f"
            ],
            [
             0.2222222222222222,
             "#7201a8"
            ],
            [
             0.3333333333333333,
             "#9c179e"
            ],
            [
             0.4444444444444444,
             "#bd3786"
            ],
            [
             0.5555555555555556,
             "#d8576b"
            ],
            [
             0.6666666666666666,
             "#ed7953"
            ],
            [
             0.7777777777777778,
             "#fb9f3a"
            ],
            [
             0.8888888888888888,
             "#fdca26"
            ],
            [
             1,
             "#f0f921"
            ]
           ]
          },
          "colorway": [
           "#636efa",
           "#EF553B",
           "#00cc96",
           "#ab63fa",
           "#FFA15A",
           "#19d3f3",
           "#FF6692",
           "#B6E880",
           "#FF97FF",
           "#FECB52"
          ],
          "font": {
           "color": "#2a3f5f"
          },
          "geo": {
           "bgcolor": "white",
           "lakecolor": "white",
           "landcolor": "#E5ECF6",
           "showlakes": true,
           "showland": true,
           "subunitcolor": "white"
          },
          "hoverlabel": {
           "align": "left"
          },
          "hovermode": "closest",
          "mapbox": {
           "style": "light"
          },
          "paper_bgcolor": "white",
          "plot_bgcolor": "#E5ECF6",
          "polar": {
           "angularaxis": {
            "gridcolor": "white",
            "linecolor": "white",
            "ticks": ""
           },
           "bgcolor": "#E5ECF6",
           "radialaxis": {
            "gridcolor": "white",
            "linecolor": "white",
            "ticks": ""
           }
          },
          "scene": {
           "xaxis": {
            "backgroundcolor": "#E5ECF6",
            "gridcolor": "white",
            "gridwidth": 2,
            "linecolor": "white",
            "showbackground": true,
            "ticks": "",
            "zerolinecolor": "white"
           },
           "yaxis": {
            "backgroundcolor": "#E5ECF6",
            "gridcolor": "white",
            "gridwidth": 2,
            "linecolor": "white",
            "showbackground": true,
            "ticks": "",
            "zerolinecolor": "white"
           },
           "zaxis": {
            "backgroundcolor": "#E5ECF6",
            "gridcolor": "white",
            "gridwidth": 2,
            "linecolor": "white",
            "showbackground": true,
            "ticks": "",
            "zerolinecolor": "white"
           }
          },
          "shapedefaults": {
           "line": {
            "color": "#2a3f5f"
           }
          },
          "ternary": {
           "aaxis": {
            "gridcolor": "white",
            "linecolor": "white",
            "ticks": ""
           },
           "baxis": {
            "gridcolor": "white",
            "linecolor": "white",
            "ticks": ""
           },
           "bgcolor": "#E5ECF6",
           "caxis": {
            "gridcolor": "white",
            "linecolor": "white",
            "ticks": ""
           }
          },
          "title": {
           "x": 0.05
          },
          "xaxis": {
           "automargin": true,
           "gridcolor": "white",
           "linecolor": "white",
           "ticks": "",
           "title": {
            "standoff": 15
           },
           "zerolinecolor": "white",
           "zerolinewidth": 2
          },
          "yaxis": {
           "automargin": true,
           "gridcolor": "white",
           "linecolor": "white",
           "ticks": "",
           "title": {
            "standoff": 15
           },
           "zerolinecolor": "white",
           "zerolinewidth": 2
          }
         }
        },
        "title": {
         "text": "interest rates VS news sentiment (2019 Jan - 2020 May) "
        },
        "xaxis": {
         "anchor": "y",
         "domain": [
          0,
          0.94
         ],
         "range": [
          "2019-05-31T00:00:00",
          "2020-05-31T00:00:00"
         ],
         "rangeslider": {
          "visible": true
         },
         "title": {
          "text": "Date"
         }
        },
        "yaxis": {
         "anchor": "x",
         "autorange": false,
         "domain": [
          0,
          1
         ],
         "range": [
          0.15,
          1.85
         ],
         "title": {
          "text": "Interest Rate - Overnight Target Rate (Bank of Canada)"
         }
        },
        "yaxis2": {
         "anchor": "x",
         "overlaying": "y",
         "range": [
          -2.0938774144107644,
          0.8231413476169109
         ],
         "side": "right",
         "title": {
          "text": "Sentiment Score"
         }
        }
       }
      },
      "text/html": [
       "<div>\n",
       "        \n",
       "        \n",
       "            <div id=\"ff8aca15-0bf4-43a9-9fed-00b3d1ae5c9c\" class=\"plotly-graph-div\" style=\"height:525px; width:100%;\"></div>\n",
       "            <script type=\"text/javascript\">\n",
       "                require([\"plotly\"], function(Plotly) {\n",
       "                    window.PLOTLYENV=window.PLOTLYENV || {};\n",
       "                    \n",
       "                if (document.getElementById(\"ff8aca15-0bf4-43a9-9fed-00b3d1ae5c9c\")) {\n",
       "                    Plotly.newPlot(\n",
       "                        'ff8aca15-0bf4-43a9-9fed-00b3d1ae5c9c',\n",
       "                        [{\"fill\": \"tonexty\", \"line\": {\"color\": \"blue\"}, \"mode\": \"lines\", \"name\": \"Interest Rate - Overnight Target Rate (Bank of Canada)\", \"type\": \"scatter\", \"x\": [\"2019-05-31T00:00:00\", \"2019-06-03T00:00:00\", \"2019-06-04T00:00:00\", \"2019-06-05T00:00:00\", \"2019-06-06T00:00:00\", \"2019-06-07T00:00:00\", \"2019-06-10T00:00:00\", \"2019-06-11T00:00:00\", \"2019-06-12T00:00:00\", \"2019-06-13T00:00:00\", \"2019-06-14T00:00:00\", \"2019-06-17T00:00:00\", \"2019-06-18T00:00:00\", \"2019-06-19T00:00:00\", \"2019-06-20T00:00:00\", \"2019-06-21T00:00:00\", \"2019-06-24T00:00:00\", \"2019-06-25T00:00:00\", \"2019-06-26T00:00:00\", \"2019-06-27T00:00:00\", \"2019-06-28T00:00:00\", \"2019-07-01T00:00:00\", \"2019-07-02T00:00:00\", \"2019-07-03T00:00:00\", \"2019-07-04T00:00:00\", \"2019-07-05T00:00:00\", \"2019-07-08T00:00:00\", \"2019-07-09T00:00:00\", \"2019-07-10T00:00:00\", \"2019-07-11T00:00:00\", \"2019-07-12T00:00:00\", \"2019-07-15T00:00:00\", \"2019-07-16T00:00:00\", \"2019-07-17T00:00:00\", \"2019-07-18T00:00:00\", \"2019-07-19T00:00:00\", \"2019-07-22T00:00:00\", \"2019-07-23T00:00:00\", \"2019-07-24T00:00:00\", \"2019-07-25T00:00:00\", \"2019-07-26T00:00:00\", \"2019-07-29T00:00:00\", \"2019-07-30T00:00:00\", \"2019-07-31T00:00:00\", \"2019-08-01T00:00:00\", \"2019-08-02T00:00:00\", \"2019-08-05T00:00:00\", \"2019-08-06T00:00:00\", \"2019-08-07T00:00:00\", \"2019-08-08T00:00:00\", \"2019-08-09T00:00:00\", \"2019-08-12T00:00:00\", \"2019-08-13T00:00:00\", \"2019-08-14T00:00:00\", \"2019-08-15T00:00:00\", \"2019-08-16T00:00:00\", \"2019-08-19T00:00:00\", \"2019-08-20T00:00:00\", \"2019-08-21T00:00:00\", \"2019-08-22T00:00:00\", \"2019-08-23T00:00:00\", \"2019-08-26T00:00:00\", \"2019-08-27T00:00:00\", \"2019-08-28T00:00:00\", \"2019-08-29T00:00:00\", \"2019-08-30T00:00:00\", \"2019-09-02T00:00:00\", \"2019-09-03T00:00:00\", \"2019-09-04T00:00:00\", \"2019-09-05T00:00:00\", \"2019-09-06T00:00:00\", \"2019-09-09T00:00:00\", \"2019-09-10T00:00:00\", \"2019-09-11T00:00:00\", \"2019-09-12T00:00:00\", \"2019-09-13T00:00:00\", \"2019-09-16T00:00:00\", \"2019-09-17T00:00:00\", \"2019-09-18T00:00:00\", \"2019-09-19T00:00:00\", \"2019-09-20T00:00:00\", \"2019-09-23T00:00:00\", \"2019-09-24T00:00:00\", \"2019-09-25T00:00:00\", \"2019-09-26T00:00:00\", \"2019-09-27T00:00:00\", \"2019-09-30T00:00:00\", \"2019-10-01T00:00:00\", \"2019-10-02T00:00:00\", \"2019-10-03T00:00:00\", \"2019-10-04T00:00:00\", \"2019-10-07T00:00:00\", \"2019-10-08T00:00:00\", \"2019-10-09T00:00:00\", \"2019-10-10T00:00:00\", \"2019-10-11T00:00:00\", \"2019-10-14T00:00:00\", \"2019-10-15T00:00:00\", \"2019-10-16T00:00:00\", \"2019-10-17T00:00:00\", \"2019-10-18T00:00:00\", \"2019-10-21T00:00:00\", \"2019-10-22T00:00:00\", \"2019-10-23T00:00:00\", \"2019-10-24T00:00:00\", \"2019-10-25T00:00:00\", \"2019-10-28T00:00:00\", \"2019-10-29T00:00:00\", \"2019-10-30T00:00:00\", \"2019-10-31T00:00:00\", \"2019-11-01T00:00:00\", \"2019-11-04T00:00:00\", \"2019-11-05T00:00:00\", \"2019-11-06T00:00:00\", \"2019-11-07T00:00:00\", \"2019-11-08T00:00:00\", \"2019-11-11T00:00:00\", \"2019-11-12T00:00:00\", \"2019-11-13T00:00:00\", \"2019-11-14T00:00:00\", \"2019-11-15T00:00:00\", \"2019-11-18T00:00:00\", \"2019-11-19T00:00:00\", \"2019-11-20T00:00:00\", \"2019-11-21T00:00:00\", \"2019-11-22T00:00:00\", \"2019-11-25T00:00:00\", \"2019-11-26T00:00:00\", \"2019-11-27T00:00:00\", \"2019-11-28T00:00:00\", \"2019-11-29T00:00:00\", \"2019-12-02T00:00:00\", \"2019-12-03T00:00:00\", \"2019-12-04T00:00:00\", \"2019-12-05T00:00:00\", \"2019-12-06T00:00:00\", \"2019-12-09T00:00:00\", \"2019-12-10T00:00:00\", \"2019-12-11T00:00:00\", \"2019-12-12T00:00:00\", \"2019-12-13T00:00:00\", \"2019-12-16T00:00:00\", \"2019-12-17T00:00:00\", \"2019-12-18T00:00:00\", \"2019-12-19T00:00:00\", \"2019-12-20T00:00:00\", \"2019-12-23T00:00:00\", \"2019-12-24T00:00:00\", \"2019-12-25T00:00:00\", \"2019-12-26T00:00:00\", \"2019-12-27T00:00:00\", \"2019-12-30T00:00:00\", \"2019-12-31T00:00:00\", \"2020-01-01T00:00:00\", \"2020-01-02T00:00:00\", \"2020-01-03T00:00:00\", \"2020-01-06T00:00:00\", \"2020-01-07T00:00:00\", \"2020-01-08T00:00:00\", \"2020-01-09T00:00:00\", \"2020-01-10T00:00:00\", \"2020-01-13T00:00:00\", \"2020-01-14T00:00:00\", \"2020-01-15T00:00:00\", \"2020-01-16T00:00:00\", \"2020-01-17T00:00:00\", \"2020-01-20T00:00:00\", \"2020-01-21T00:00:00\", \"2020-01-22T00:00:00\", \"2020-01-23T00:00:00\", \"2020-01-24T00:00:00\", \"2020-01-27T00:00:00\", \"2020-01-28T00:00:00\", \"2020-01-29T00:00:00\", \"2020-01-30T00:00:00\", \"2020-01-31T00:00:00\", \"2020-02-03T00:00:00\", \"2020-02-04T00:00:00\", \"2020-02-05T00:00:00\", \"2020-02-06T00:00:00\", \"2020-02-07T00:00:00\", \"2020-02-10T00:00:00\", \"2020-02-11T00:00:00\", \"2020-02-12T00:00:00\", \"2020-02-13T00:00:00\", \"2020-02-14T00:00:00\", \"2020-02-17T00:00:00\", \"2020-02-18T00:00:00\", \"2020-02-19T00:00:00\", \"2020-02-20T00:00:00\", \"2020-02-21T00:00:00\", \"2020-02-24T00:00:00\", \"2020-02-25T00:00:00\", \"2020-02-26T00:00:00\", \"2020-02-27T00:00:00\", \"2020-02-28T00:00:00\", \"2020-03-02T00:00:00\", \"2020-03-03T00:00:00\", \"2020-03-04T00:00:00\", \"2020-03-05T00:00:00\", \"2020-03-06T00:00:00\", \"2020-03-09T00:00:00\", \"2020-03-10T00:00:00\", \"2020-03-11T00:00:00\", \"2020-03-12T00:00:00\", \"2020-03-13T00:00:00\", \"2020-03-16T00:00:00\", \"2020-03-17T00:00:00\", \"2020-03-18T00:00:00\", \"2020-03-19T00:00:00\", \"2020-03-20T00:00:00\", \"2020-03-23T00:00:00\", \"2020-03-24T00:00:00\", \"2020-03-25T00:00:00\", \"2020-03-26T00:00:00\", \"2020-03-27T00:00:00\", \"2020-03-30T00:00:00\", \"2020-03-31T00:00:00\", \"2020-04-01T00:00:00\", \"2020-04-02T00:00:00\", \"2020-04-03T00:00:00\", \"2020-04-06T00:00:00\", \"2020-04-07T00:00:00\", \"2020-04-08T00:00:00\", \"2020-04-09T00:00:00\", \"2020-04-10T00:00:00\", \"2020-04-13T00:00:00\", \"2020-04-14T00:00:00\", \"2020-04-15T00:00:00\", \"2020-04-16T00:00:00\", \"2020-04-17T00:00:00\", \"2020-04-20T00:00:00\", \"2020-04-21T00:00:00\", \"2020-04-22T00:00:00\", \"2020-04-23T00:00:00\", \"2020-04-24T00:00:00\", \"2020-04-27T00:00:00\", \"2020-04-28T00:00:00\", \"2020-04-29T00:00:00\", \"2020-04-30T00:00:00\", \"2020-05-01T00:00:00\", \"2020-05-04T00:00:00\", \"2020-05-05T00:00:00\", \"2020-05-06T00:00:00\", \"2020-05-07T00:00:00\", \"2020-05-08T00:00:00\", \"2020-05-11T00:00:00\", \"2020-05-12T00:00:00\", \"2020-05-13T00:00:00\", \"2020-05-14T00:00:00\", \"2020-05-15T00:00:00\", \"2020-05-18T00:00:00\", \"2020-05-19T00:00:00\", \"2020-05-20T00:00:00\", \"2020-05-21T00:00:00\", \"2020-05-22T00:00:00\", \"2020-05-25T00:00:00\", \"2020-05-26T00:00:00\", \"2020-05-27T00:00:00\", \"2020-05-28T00:00:00\", \"2020-05-29T00:00:00\", \"2020-06-01T00:00:00\"], \"xaxis\": \"x\", \"y\": [1.75, 1.75, 1.75, 1.75, 1.75, 1.75, 1.75, 1.75, 1.75, 1.75, 1.75, 1.75, 1.75, 1.75, 1.75, 1.75, 1.75, 1.75, 1.75, 1.75, 1.75, 1.75, 1.75, 1.75, 1.75, 1.75, 1.75, 1.75, 1.75, 1.75, 1.75, 1.75, 1.75, 1.75, 1.75, 1.75, 1.75, 1.75, 1.75, 1.75, 1.75, 1.75, 1.75, 1.75, 1.75, 1.75, 1.75, 1.75, 1.75, 1.75, 1.75, 1.75, 1.75, 1.75, 1.75, 1.75, 1.75, 1.75, 1.75, 1.75, 1.75, 1.75, 1.75, 1.75, 1.75, 1.75, 1.75, 1.75, 1.75, 1.75, 1.75, 1.75, 1.75, 1.75, 1.75, 1.75, 1.75, 1.75, 1.75, 1.75, 1.75, 1.75, 1.75, 1.75, 1.75, 1.75, 1.75, 1.75, 1.75, 1.75, 1.75, 1.75, 1.75, 1.75, 1.75, 1.75, 1.75, 1.75, 1.75, 1.75, 1.75, 1.75, 1.75, 1.75, 1.75, 1.75, 1.75, 1.75, 1.75, 1.75, 1.75, 1.75, 1.75, 1.75, 1.75, 1.75, 1.75, 1.75, 1.75, 1.75, 1.75, 1.75, 1.75, 1.75, 1.75, 1.75, 1.75, 1.75, 1.75, 1.75, 1.75, 1.75, 1.75, 1.75, 1.75, 1.75, 1.75, 1.75, 1.75, 1.75, 1.75, 1.75, 1.75, 1.75, 1.75, 1.75, 1.75, 1.75, 1.75, 1.75, 1.75, 1.75, 1.75, 1.75, 1.75, 1.75, 1.75, 1.75, 1.75, 1.75, 1.75, 1.75, 1.75, 1.75, 1.75, 1.75, 1.75, 1.75, 1.75, 1.75, 1.75, 1.75, 1.75, 1.75, 1.75, 1.75, 1.75, 1.75, 1.75, 1.75, 1.75, 1.75, 1.75, 1.75, 1.75, 1.75, 1.75, 1.75, 1.75, 1.75, 1.75, 1.75, 1.75, 1.75, 1.75, 1.75, 1.75, 1.75, 1.25, 1.25, 1.25, 1.25, 1.25, 1.25, 1.25, 1.25, 0.75, 0.75, 0.75, 0.75, 0.75, 0.75, 0.75, 0.75, 0.75, 0.25, 0.25, 0.25, 0.25, 0.25, 0.25, 0.25, 0.25, 0.25, 0.25, 0.25, 0.25, 0.25, 0.25, 0.25, 0.25, 0.25, 0.25, 0.25, 0.25, 0.25, 0.25, 0.25, 0.25, 0.25, 0.25, 0.25, 0.25, 0.25, 0.25, 0.25, 0.25, 0.25, 0.25, 0.25, 0.25, 0.25, 0.25, 0.25, 0.25, 0.25, 0.25, 0.25, 0.25, 0.25, 0.25, 0.25], \"yaxis\": \"y\"}, {\"line\": {\"color\": \"orange\"}, \"name\": \"test sentiment\", \"type\": \"scatter\", \"x\": [\"2018-11-30T00:00:00\", \"2018-12-31T00:00:00\", \"2019-01-31T00:00:00\", \"2019-02-28T00:00:00\", \"2019-03-31T00:00:00\", \"2019-04-30T00:00:00\", \"2019-05-31T00:00:00\", \"2019-06-30T00:00:00\", \"2019-07-31T00:00:00\", \"2019-08-31T00:00:00\", \"2019-09-30T00:00:00\", \"2019-10-31T00:00:00\", \"2019-11-30T00:00:00\", \"2019-12-31T00:00:00\", \"2020-01-31T00:00:00\", \"2020-02-29T00:00:00\", \"2020-03-31T00:00:00\", \"2020-04-30T00:00:00\", \"2020-05-31T00:00:00\"], \"xaxis\": \"x\", \"y\": [-0.4737148880958557, -1.0791226890352037, -0.7663015764620569, -0.8749000653624535, -0.783627450466156, -0.9601471207358621, -0.1768586523830891, -0.6802022141714891, -0.7486968580633402, -0.7981072355639832, -0.9897536645613371, -0.9742317843534376, -0.8312913763735975, -0.7966727488156822, -1.0274852455040673, -0.7133640339050222, -1.049740469402136, -1.0938774144107646, -0.9079360948367552], \"yaxis\": \"y2\"}],\n",
       "                        {\"template\": {\"data\": {\"bar\": [{\"error_x\": {\"color\": \"#2a3f5f\"}, \"error_y\": {\"color\": \"#2a3f5f\"}, \"marker\": {\"line\": {\"color\": \"#E5ECF6\", \"width\": 0.5}}, \"type\": \"bar\"}], \"barpolar\": [{\"marker\": {\"line\": {\"color\": \"#E5ECF6\", \"width\": 0.5}}, \"type\": \"barpolar\"}], \"carpet\": [{\"aaxis\": {\"endlinecolor\": \"#2a3f5f\", \"gridcolor\": \"white\", \"linecolor\": \"white\", \"minorgridcolor\": \"white\", \"startlinecolor\": \"#2a3f5f\"}, \"baxis\": {\"endlinecolor\": \"#2a3f5f\", \"gridcolor\": \"white\", \"linecolor\": \"white\", \"minorgridcolor\": \"white\", \"startlinecolor\": \"#2a3f5f\"}, \"type\": \"carpet\"}], \"choropleth\": [{\"colorbar\": {\"outlinewidth\": 0, \"ticks\": \"\"}, \"type\": \"choropleth\"}], \"contour\": [{\"colorbar\": {\"outlinewidth\": 0, \"ticks\": \"\"}, \"colorscale\": [[0.0, \"#0d0887\"], [0.1111111111111111, \"#46039f\"], [0.2222222222222222, \"#7201a8\"], [0.3333333333333333, \"#9c179e\"], [0.4444444444444444, \"#bd3786\"], [0.5555555555555556, \"#d8576b\"], [0.6666666666666666, \"#ed7953\"], [0.7777777777777778, \"#fb9f3a\"], [0.8888888888888888, \"#fdca26\"], [1.0, \"#f0f921\"]], \"type\": \"contour\"}], \"contourcarpet\": [{\"colorbar\": {\"outlinewidth\": 0, \"ticks\": \"\"}, \"type\": \"contourcarpet\"}], \"heatmap\": [{\"colorbar\": {\"outlinewidth\": 0, \"ticks\": \"\"}, \"colorscale\": [[0.0, \"#0d0887\"], [0.1111111111111111, \"#46039f\"], [0.2222222222222222, \"#7201a8\"], [0.3333333333333333, \"#9c179e\"], [0.4444444444444444, \"#bd3786\"], [0.5555555555555556, \"#d8576b\"], [0.6666666666666666, \"#ed7953\"], [0.7777777777777778, \"#fb9f3a\"], [0.8888888888888888, \"#fdca26\"], [1.0, \"#f0f921\"]], \"type\": \"heatmap\"}], \"heatmapgl\": [{\"colorbar\": {\"outlinewidth\": 0, \"ticks\": \"\"}, \"colorscale\": [[0.0, \"#0d0887\"], [0.1111111111111111, \"#46039f\"], [0.2222222222222222, \"#7201a8\"], [0.3333333333333333, \"#9c179e\"], [0.4444444444444444, \"#bd3786\"], [0.5555555555555556, \"#d8576b\"], [0.6666666666666666, \"#ed7953\"], [0.7777777777777778, \"#fb9f3a\"], [0.8888888888888888, \"#fdca26\"], [1.0, \"#f0f921\"]], \"type\": \"heatmapgl\"}], \"histogram\": [{\"marker\": {\"colorbar\": {\"outlinewidth\": 0, \"ticks\": \"\"}}, \"type\": \"histogram\"}], \"histogram2d\": [{\"colorbar\": {\"outlinewidth\": 0, \"ticks\": \"\"}, \"colorscale\": [[0.0, \"#0d0887\"], [0.1111111111111111, \"#46039f\"], [0.2222222222222222, \"#7201a8\"], [0.3333333333333333, \"#9c179e\"], [0.4444444444444444, \"#bd3786\"], [0.5555555555555556, \"#d8576b\"], [0.6666666666666666, \"#ed7953\"], [0.7777777777777778, \"#fb9f3a\"], [0.8888888888888888, \"#fdca26\"], [1.0, \"#f0f921\"]], \"type\": \"histogram2d\"}], \"histogram2dcontour\": [{\"colorbar\": {\"outlinewidth\": 0, \"ticks\": \"\"}, \"colorscale\": [[0.0, \"#0d0887\"], [0.1111111111111111, \"#46039f\"], [0.2222222222222222, \"#7201a8\"], [0.3333333333333333, \"#9c179e\"], [0.4444444444444444, \"#bd3786\"], [0.5555555555555556, \"#d8576b\"], [0.6666666666666666, \"#ed7953\"], [0.7777777777777778, \"#fb9f3a\"], [0.8888888888888888, \"#fdca26\"], [1.0, \"#f0f921\"]], \"type\": \"histogram2dcontour\"}], \"mesh3d\": [{\"colorbar\": {\"outlinewidth\": 0, \"ticks\": \"\"}, \"type\": \"mesh3d\"}], \"parcoords\": [{\"line\": {\"colorbar\": {\"outlinewidth\": 0, \"ticks\": \"\"}}, \"type\": \"parcoords\"}], \"pie\": [{\"automargin\": true, \"type\": \"pie\"}], \"scatter\": [{\"marker\": {\"colorbar\": {\"outlinewidth\": 0, \"ticks\": \"\"}}, \"type\": \"scatter\"}], \"scatter3d\": [{\"line\": {\"colorbar\": {\"outlinewidth\": 0, \"ticks\": \"\"}}, \"marker\": {\"colorbar\": {\"outlinewidth\": 0, \"ticks\": \"\"}}, \"type\": \"scatter3d\"}], \"scattercarpet\": [{\"marker\": {\"colorbar\": {\"outlinewidth\": 0, \"ticks\": \"\"}}, \"type\": \"scattercarpet\"}], \"scattergeo\": [{\"marker\": {\"colorbar\": {\"outlinewidth\": 0, \"ticks\": \"\"}}, \"type\": \"scattergeo\"}], \"scattergl\": [{\"marker\": {\"colorbar\": {\"outlinewidth\": 0, \"ticks\": \"\"}}, \"type\": \"scattergl\"}], \"scattermapbox\": [{\"marker\": {\"colorbar\": {\"outlinewidth\": 0, \"ticks\": \"\"}}, \"type\": \"scattermapbox\"}], \"scatterpolar\": [{\"marker\": {\"colorbar\": {\"outlinewidth\": 0, \"ticks\": \"\"}}, \"type\": \"scatterpolar\"}], \"scatterpolargl\": [{\"marker\": {\"colorbar\": {\"outlinewidth\": 0, \"ticks\": \"\"}}, \"type\": \"scatterpolargl\"}], \"scatterternary\": [{\"marker\": {\"colorbar\": {\"outlinewidth\": 0, \"ticks\": \"\"}}, \"type\": \"scatterternary\"}], \"surface\": [{\"colorbar\": {\"outlinewidth\": 0, \"ticks\": \"\"}, \"colorscale\": [[0.0, \"#0d0887\"], [0.1111111111111111, \"#46039f\"], [0.2222222222222222, \"#7201a8\"], [0.3333333333333333, \"#9c179e\"], [0.4444444444444444, \"#bd3786\"], [0.5555555555555556, \"#d8576b\"], [0.6666666666666666, \"#ed7953\"], [0.7777777777777778, \"#fb9f3a\"], [0.8888888888888888, \"#fdca26\"], [1.0, \"#f0f921\"]], \"type\": \"surface\"}], \"table\": [{\"cells\": {\"fill\": {\"color\": \"#EBF0F8\"}, \"line\": {\"color\": \"white\"}}, \"header\": {\"fill\": {\"color\": \"#C8D4E3\"}, \"line\": {\"color\": \"white\"}}, \"type\": \"table\"}]}, \"layout\": {\"annotationdefaults\": {\"arrowcolor\": \"#2a3f5f\", \"arrowhead\": 0, \"arrowwidth\": 1}, \"coloraxis\": {\"colorbar\": {\"outlinewidth\": 0, \"ticks\": \"\"}}, \"colorscale\": {\"diverging\": [[0, \"#8e0152\"], [0.1, \"#c51b7d\"], [0.2, \"#de77ae\"], [0.3, \"#f1b6da\"], [0.4, \"#fde0ef\"], [0.5, \"#f7f7f7\"], [0.6, \"#e6f5d0\"], [0.7, \"#b8e186\"], [0.8, \"#7fbc41\"], [0.9, \"#4d9221\"], [1, \"#276419\"]], \"sequential\": [[0.0, \"#0d0887\"], [0.1111111111111111, \"#46039f\"], [0.2222222222222222, \"#7201a8\"], [0.3333333333333333, \"#9c179e\"], [0.4444444444444444, \"#bd3786\"], [0.5555555555555556, \"#d8576b\"], [0.6666666666666666, \"#ed7953\"], [0.7777777777777778, \"#fb9f3a\"], [0.8888888888888888, \"#fdca26\"], [1.0, \"#f0f921\"]], \"sequentialminus\": [[0.0, \"#0d0887\"], [0.1111111111111111, \"#46039f\"], [0.2222222222222222, \"#7201a8\"], [0.3333333333333333, \"#9c179e\"], [0.4444444444444444, \"#bd3786\"], [0.5555555555555556, \"#d8576b\"], [0.6666666666666666, \"#ed7953\"], [0.7777777777777778, \"#fb9f3a\"], [0.8888888888888888, \"#fdca26\"], [1.0, \"#f0f921\"]]}, \"colorway\": [\"#636efa\", \"#EF553B\", \"#00cc96\", \"#ab63fa\", \"#FFA15A\", \"#19d3f3\", \"#FF6692\", \"#B6E880\", \"#FF97FF\", \"#FECB52\"], \"font\": {\"color\": \"#2a3f5f\"}, \"geo\": {\"bgcolor\": \"white\", \"lakecolor\": \"white\", \"landcolor\": \"#E5ECF6\", \"showlakes\": true, \"showland\": true, \"subunitcolor\": \"white\"}, \"hoverlabel\": {\"align\": \"left\"}, \"hovermode\": \"closest\", \"mapbox\": {\"style\": \"light\"}, \"paper_bgcolor\": \"white\", \"plot_bgcolor\": \"#E5ECF6\", \"polar\": {\"angularaxis\": {\"gridcolor\": \"white\", \"linecolor\": \"white\", \"ticks\": \"\"}, \"bgcolor\": \"#E5ECF6\", \"radialaxis\": {\"gridcolor\": \"white\", \"linecolor\": \"white\", \"ticks\": \"\"}}, \"scene\": {\"xaxis\": {\"backgroundcolor\": \"#E5ECF6\", \"gridcolor\": \"white\", \"gridwidth\": 2, \"linecolor\": \"white\", \"showbackground\": true, \"ticks\": \"\", \"zerolinecolor\": \"white\"}, \"yaxis\": {\"backgroundcolor\": \"#E5ECF6\", \"gridcolor\": \"white\", \"gridwidth\": 2, \"linecolor\": \"white\", \"showbackground\": true, \"ticks\": \"\", \"zerolinecolor\": \"white\"}, \"zaxis\": {\"backgroundcolor\": \"#E5ECF6\", \"gridcolor\": \"white\", \"gridwidth\": 2, \"linecolor\": \"white\", \"showbackground\": true, \"ticks\": \"\", \"zerolinecolor\": \"white\"}}, \"shapedefaults\": {\"line\": {\"color\": \"#2a3f5f\"}}, \"ternary\": {\"aaxis\": {\"gridcolor\": \"white\", \"linecolor\": \"white\", \"ticks\": \"\"}, \"baxis\": {\"gridcolor\": \"white\", \"linecolor\": \"white\", \"ticks\": \"\"}, \"bgcolor\": \"#E5ECF6\", \"caxis\": {\"gridcolor\": \"white\", \"linecolor\": \"white\", \"ticks\": \"\"}}, \"title\": {\"x\": 0.05}, \"xaxis\": {\"automargin\": true, \"gridcolor\": \"white\", \"linecolor\": \"white\", \"ticks\": \"\", \"title\": {\"standoff\": 15}, \"zerolinecolor\": \"white\", \"zerolinewidth\": 2}, \"yaxis\": {\"automargin\": true, \"gridcolor\": \"white\", \"linecolor\": \"white\", \"ticks\": \"\", \"title\": {\"standoff\": 15}, \"zerolinecolor\": \"white\", \"zerolinewidth\": 2}}}, \"title\": {\"text\": \"interest rates VS news sentiment (2019 Jan - 2020 May) \"}, \"xaxis\": {\"anchor\": \"y\", \"domain\": [0.0, 0.94], \"range\": [\"2019-05-31T00:00:00\", \"2020-05-31T00:00:00\"], \"rangeslider\": {\"visible\": true}, \"title\": {\"text\": \"Date\"}}, \"yaxis\": {\"anchor\": \"x\", \"autorange\": false, \"domain\": [0.0, 1.0], \"range\": [0.15, 1.85], \"title\": {\"text\": \"Interest Rate - Overnight Target Rate (Bank of Canada)\"}}, \"yaxis2\": {\"anchor\": \"x\", \"overlaying\": \"y\", \"range\": [-2.0938774144107644, 0.8231413476169109], \"side\": \"right\", \"title\": {\"text\": \"Sentiment Score\"}}},\n",
       "                        {\"responsive\": true}\n",
       "                    ).then(function(){\n",
       "                            \n",
       "var gd = document.getElementById('ff8aca15-0bf4-43a9-9fed-00b3d1ae5c9c');\n",
       "var x = new MutationObserver(function (mutations, observer) {{\n",
       "        var display = window.getComputedStyle(gd).display;\n",
       "        if (!display || display === 'none') {{\n",
       "            console.log([gd, 'removed!']);\n",
       "            Plotly.purge(gd);\n",
       "            observer.disconnect();\n",
       "        }}\n",
       "}});\n",
       "\n",
       "// Listen for the removal of the full notebook cells\n",
       "var notebookContainer = gd.closest('#notebook-container');\n",
       "if (notebookContainer) {{\n",
       "    x.observe(notebookContainer, {childList: true});\n",
       "}}\n",
       "\n",
       "// Listen for the clearing of the current output cell\n",
       "var outputEl = gd.closest('.output');\n",
       "if (outputEl) {{\n",
       "    x.observe(outputEl, {childList: true});\n",
       "}}\n",
       "\n",
       "                        })\n",
       "                };\n",
       "                });\n",
       "            </script>\n",
       "        </div>"
      ]
     },
     "metadata": {},
     "output_type": "display_data"
    },
    {
     "data": {
      "application/vnd.plotly.v1+json": {
       "config": {
        "plotlyServerURL": "https://plot.ly"
       },
       "data": [
        {
         "line": {
          "color": "blue"
         },
         "mode": "lines",
         "name": "Interest Rate - Overnight Target Rate (Bank of Canada)",
         "type": "scatter",
         "x": [
          "2019-05-31T00:00:00",
          "2019-06-03T00:00:00",
          "2019-06-04T00:00:00",
          "2019-06-05T00:00:00",
          "2019-06-06T00:00:00",
          "2019-06-07T00:00:00",
          "2019-06-10T00:00:00",
          "2019-06-11T00:00:00",
          "2019-06-12T00:00:00",
          "2019-06-13T00:00:00",
          "2019-06-14T00:00:00",
          "2019-06-17T00:00:00",
          "2019-06-18T00:00:00",
          "2019-06-19T00:00:00",
          "2019-06-20T00:00:00",
          "2019-06-21T00:00:00",
          "2019-06-24T00:00:00",
          "2019-06-25T00:00:00",
          "2019-06-26T00:00:00",
          "2019-06-27T00:00:00",
          "2019-06-28T00:00:00",
          "2019-07-01T00:00:00",
          "2019-07-02T00:00:00",
          "2019-07-03T00:00:00",
          "2019-07-04T00:00:00",
          "2019-07-05T00:00:00",
          "2019-07-08T00:00:00",
          "2019-07-09T00:00:00",
          "2019-07-10T00:00:00",
          "2019-07-11T00:00:00",
          "2019-07-12T00:00:00",
          "2019-07-15T00:00:00",
          "2019-07-16T00:00:00",
          "2019-07-17T00:00:00",
          "2019-07-18T00:00:00",
          "2019-07-19T00:00:00",
          "2019-07-22T00:00:00",
          "2019-07-23T00:00:00",
          "2019-07-24T00:00:00",
          "2019-07-25T00:00:00",
          "2019-07-26T00:00:00",
          "2019-07-29T00:00:00",
          "2019-07-30T00:00:00",
          "2019-07-31T00:00:00",
          "2019-08-01T00:00:00",
          "2019-08-02T00:00:00",
          "2019-08-05T00:00:00",
          "2019-08-06T00:00:00",
          "2019-08-07T00:00:00",
          "2019-08-08T00:00:00",
          "2019-08-09T00:00:00",
          "2019-08-12T00:00:00",
          "2019-08-13T00:00:00",
          "2019-08-14T00:00:00",
          "2019-08-15T00:00:00",
          "2019-08-16T00:00:00",
          "2019-08-19T00:00:00",
          "2019-08-20T00:00:00",
          "2019-08-21T00:00:00",
          "2019-08-22T00:00:00",
          "2019-08-23T00:00:00",
          "2019-08-26T00:00:00",
          "2019-08-27T00:00:00",
          "2019-08-28T00:00:00",
          "2019-08-29T00:00:00",
          "2019-08-30T00:00:00",
          "2019-09-02T00:00:00",
          "2019-09-03T00:00:00",
          "2019-09-04T00:00:00",
          "2019-09-05T00:00:00",
          "2019-09-06T00:00:00",
          "2019-09-09T00:00:00",
          "2019-09-10T00:00:00",
          "2019-09-11T00:00:00",
          "2019-09-12T00:00:00",
          "2019-09-13T00:00:00",
          "2019-09-16T00:00:00",
          "2019-09-17T00:00:00",
          "2019-09-18T00:00:00",
          "2019-09-19T00:00:00",
          "2019-09-20T00:00:00",
          "2019-09-23T00:00:00",
          "2019-09-24T00:00:00",
          "2019-09-25T00:00:00",
          "2019-09-26T00:00:00",
          "2019-09-27T00:00:00",
          "2019-09-30T00:00:00",
          "2019-10-01T00:00:00",
          "2019-10-02T00:00:00",
          "2019-10-03T00:00:00",
          "2019-10-04T00:00:00",
          "2019-10-07T00:00:00",
          "2019-10-08T00:00:00",
          "2019-10-09T00:00:00",
          "2019-10-10T00:00:00",
          "2019-10-11T00:00:00",
          "2019-10-14T00:00:00",
          "2019-10-15T00:00:00",
          "2019-10-16T00:00:00",
          "2019-10-17T00:00:00",
          "2019-10-18T00:00:00",
          "2019-10-21T00:00:00",
          "2019-10-22T00:00:00",
          "2019-10-23T00:00:00",
          "2019-10-24T00:00:00",
          "2019-10-25T00:00:00",
          "2019-10-28T00:00:00",
          "2019-10-29T00:00:00",
          "2019-10-30T00:00:00",
          "2019-10-31T00:00:00",
          "2019-11-01T00:00:00",
          "2019-11-04T00:00:00",
          "2019-11-05T00:00:00",
          "2019-11-06T00:00:00",
          "2019-11-07T00:00:00",
          "2019-11-08T00:00:00",
          "2019-11-11T00:00:00",
          "2019-11-12T00:00:00",
          "2019-11-13T00:00:00",
          "2019-11-14T00:00:00",
          "2019-11-15T00:00:00",
          "2019-11-18T00:00:00",
          "2019-11-19T00:00:00",
          "2019-11-20T00:00:00",
          "2019-11-21T00:00:00",
          "2019-11-22T00:00:00",
          "2019-11-25T00:00:00",
          "2019-11-26T00:00:00",
          "2019-11-27T00:00:00",
          "2019-11-28T00:00:00",
          "2019-11-29T00:00:00",
          "2019-12-02T00:00:00",
          "2019-12-03T00:00:00",
          "2019-12-04T00:00:00",
          "2019-12-05T00:00:00",
          "2019-12-06T00:00:00",
          "2019-12-09T00:00:00",
          "2019-12-10T00:00:00",
          "2019-12-11T00:00:00",
          "2019-12-12T00:00:00",
          "2019-12-13T00:00:00",
          "2019-12-16T00:00:00",
          "2019-12-17T00:00:00",
          "2019-12-18T00:00:00",
          "2019-12-19T00:00:00",
          "2019-12-20T00:00:00",
          "2019-12-23T00:00:00",
          "2019-12-24T00:00:00",
          "2019-12-25T00:00:00",
          "2019-12-26T00:00:00",
          "2019-12-27T00:00:00",
          "2019-12-30T00:00:00",
          "2019-12-31T00:00:00",
          "2020-01-01T00:00:00",
          "2020-01-02T00:00:00",
          "2020-01-03T00:00:00",
          "2020-01-06T00:00:00",
          "2020-01-07T00:00:00",
          "2020-01-08T00:00:00",
          "2020-01-09T00:00:00",
          "2020-01-10T00:00:00",
          "2020-01-13T00:00:00",
          "2020-01-14T00:00:00",
          "2020-01-15T00:00:00",
          "2020-01-16T00:00:00",
          "2020-01-17T00:00:00",
          "2020-01-20T00:00:00",
          "2020-01-21T00:00:00",
          "2020-01-22T00:00:00",
          "2020-01-23T00:00:00",
          "2020-01-24T00:00:00",
          "2020-01-27T00:00:00",
          "2020-01-28T00:00:00",
          "2020-01-29T00:00:00",
          "2020-01-30T00:00:00",
          "2020-01-31T00:00:00",
          "2020-02-03T00:00:00",
          "2020-02-04T00:00:00",
          "2020-02-05T00:00:00",
          "2020-02-06T00:00:00",
          "2020-02-07T00:00:00",
          "2020-02-10T00:00:00",
          "2020-02-11T00:00:00",
          "2020-02-12T00:00:00",
          "2020-02-13T00:00:00",
          "2020-02-14T00:00:00",
          "2020-02-17T00:00:00",
          "2020-02-18T00:00:00",
          "2020-02-19T00:00:00",
          "2020-02-20T00:00:00",
          "2020-02-21T00:00:00",
          "2020-02-24T00:00:00",
          "2020-02-25T00:00:00",
          "2020-02-26T00:00:00",
          "2020-02-27T00:00:00",
          "2020-02-28T00:00:00",
          "2020-03-02T00:00:00",
          "2020-03-03T00:00:00",
          "2020-03-04T00:00:00",
          "2020-03-05T00:00:00",
          "2020-03-06T00:00:00",
          "2020-03-09T00:00:00",
          "2020-03-10T00:00:00",
          "2020-03-11T00:00:00",
          "2020-03-12T00:00:00",
          "2020-03-13T00:00:00",
          "2020-03-16T00:00:00",
          "2020-03-17T00:00:00",
          "2020-03-18T00:00:00",
          "2020-03-19T00:00:00",
          "2020-03-20T00:00:00",
          "2020-03-23T00:00:00",
          "2020-03-24T00:00:00",
          "2020-03-25T00:00:00",
          "2020-03-26T00:00:00",
          "2020-03-27T00:00:00",
          "2020-03-30T00:00:00",
          "2020-03-31T00:00:00",
          "2020-04-01T00:00:00",
          "2020-04-02T00:00:00",
          "2020-04-03T00:00:00",
          "2020-04-06T00:00:00",
          "2020-04-07T00:00:00",
          "2020-04-08T00:00:00",
          "2020-04-09T00:00:00",
          "2020-04-10T00:00:00",
          "2020-04-13T00:00:00",
          "2020-04-14T00:00:00",
          "2020-04-15T00:00:00",
          "2020-04-16T00:00:00",
          "2020-04-17T00:00:00",
          "2020-04-20T00:00:00",
          "2020-04-21T00:00:00",
          "2020-04-22T00:00:00",
          "2020-04-23T00:00:00",
          "2020-04-24T00:00:00",
          "2020-04-27T00:00:00",
          "2020-04-28T00:00:00",
          "2020-04-29T00:00:00",
          "2020-04-30T00:00:00",
          "2020-05-01T00:00:00",
          "2020-05-04T00:00:00",
          "2020-05-05T00:00:00",
          "2020-05-06T00:00:00",
          "2020-05-07T00:00:00",
          "2020-05-08T00:00:00",
          "2020-05-11T00:00:00",
          "2020-05-12T00:00:00",
          "2020-05-13T00:00:00",
          "2020-05-14T00:00:00",
          "2020-05-15T00:00:00",
          "2020-05-18T00:00:00",
          "2020-05-19T00:00:00",
          "2020-05-20T00:00:00",
          "2020-05-21T00:00:00",
          "2020-05-22T00:00:00",
          "2020-05-25T00:00:00",
          "2020-05-26T00:00:00",
          "2020-05-27T00:00:00",
          "2020-05-28T00:00:00",
          "2020-05-29T00:00:00",
          "2020-06-01T00:00:00"
         ],
         "xaxis": "x",
         "y": [
          1.75,
          1.75,
          1.75,
          1.75,
          1.75,
          1.75,
          1.75,
          1.75,
          1.75,
          1.75,
          1.75,
          1.75,
          1.75,
          1.75,
          1.75,
          1.75,
          1.75,
          1.75,
          1.75,
          1.75,
          1.75,
          1.75,
          1.75,
          1.75,
          1.75,
          1.75,
          1.75,
          1.75,
          1.75,
          1.75,
          1.75,
          1.75,
          1.75,
          1.75,
          1.75,
          1.75,
          1.75,
          1.75,
          1.75,
          1.75,
          1.75,
          1.75,
          1.75,
          1.75,
          1.75,
          1.75,
          1.75,
          1.75,
          1.75,
          1.75,
          1.75,
          1.75,
          1.75,
          1.75,
          1.75,
          1.75,
          1.75,
          1.75,
          1.75,
          1.75,
          1.75,
          1.75,
          1.75,
          1.75,
          1.75,
          1.75,
          1.75,
          1.75,
          1.75,
          1.75,
          1.75,
          1.75,
          1.75,
          1.75,
          1.75,
          1.75,
          1.75,
          1.75,
          1.75,
          1.75,
          1.75,
          1.75,
          1.75,
          1.75,
          1.75,
          1.75,
          1.75,
          1.75,
          1.75,
          1.75,
          1.75,
          1.75,
          1.75,
          1.75,
          1.75,
          1.75,
          1.75,
          1.75,
          1.75,
          1.75,
          1.75,
          1.75,
          1.75,
          1.75,
          1.75,
          1.75,
          1.75,
          1.75,
          1.75,
          1.75,
          1.75,
          1.75,
          1.75,
          1.75,
          1.75,
          1.75,
          1.75,
          1.75,
          1.75,
          1.75,
          1.75,
          1.75,
          1.75,
          1.75,
          1.75,
          1.75,
          1.75,
          1.75,
          1.75,
          1.75,
          1.75,
          1.75,
          1.75,
          1.75,
          1.75,
          1.75,
          1.75,
          1.75,
          1.75,
          1.75,
          1.75,
          1.75,
          1.75,
          1.75,
          1.75,
          1.75,
          1.75,
          1.75,
          1.75,
          1.75,
          1.75,
          1.75,
          1.75,
          1.75,
          1.75,
          1.75,
          1.75,
          1.75,
          1.75,
          1.75,
          1.75,
          1.75,
          1.75,
          1.75,
          1.75,
          1.75,
          1.75,
          1.75,
          1.75,
          1.75,
          1.75,
          1.75,
          1.75,
          1.75,
          1.75,
          1.75,
          1.75,
          1.75,
          1.75,
          1.75,
          1.75,
          1.75,
          1.75,
          1.75,
          1.75,
          1.75,
          1.75,
          1.75,
          1.75,
          1.75,
          1.75,
          1.75,
          1.75,
          1.75,
          1.75,
          1.75,
          1.75,
          1.75,
          1.25,
          1.25,
          1.25,
          1.25,
          1.25,
          1.25,
          1.25,
          1.25,
          0.75,
          0.75,
          0.75,
          0.75,
          0.75,
          0.75,
          0.75,
          0.75,
          0.75,
          0.25,
          0.25,
          0.25,
          0.25,
          0.25,
          0.25,
          0.25,
          0.25,
          0.25,
          0.25,
          0.25,
          0.25,
          0.25,
          0.25,
          0.25,
          0.25,
          0.25,
          0.25,
          0.25,
          0.25,
          0.25,
          0.25,
          0.25,
          0.25,
          0.25,
          0.25,
          0.25,
          0.25,
          0.25,
          0.25,
          0.25,
          0.25,
          0.25,
          0.25,
          0.25,
          0.25,
          0.25,
          0.25,
          0.25,
          0.25,
          0.25,
          0.25,
          0.25,
          0.25,
          0.25,
          0.25,
          0.25
         ],
         "yaxis": "y"
        },
        {
         "marker": {
          "color": "green"
         },
         "mode": "markers",
         "name": "Sentiment Score",
         "opacity": 0.5,
         "type": "scatter",
         "x": [
          "2020-05-16T00:00:00",
          "2020-05-14T00:00:00",
          "2020-05-13T00:00:00",
          "2020-05-06T00:00:00",
          "2020-05-05T00:00:00",
          "2020-05-04T00:00:00",
          "2020-04-29T00:00:00",
          "2020-04-17T00:00:00",
          "2020-04-14T00:00:00",
          "2020-04-10T00:00:00",
          "2020-04-07T00:00:00",
          "2020-04-06T00:00:00",
          "2020-04-04T00:00:00",
          "2020-04-01T00:00:00",
          "2020-03-20T00:00:00",
          "2020-03-19T00:00:00",
          "2020-03-16T00:00:00",
          "2020-03-16T00:00:00",
          "2020-03-11T00:00:00",
          "2020-03-10T00:00:00",
          "2020-03-05T00:00:00",
          "2020-03-02T00:00:00",
          "2020-02-27T00:00:00",
          "2020-02-19T00:00:00",
          "2020-02-17T00:00:00",
          "2020-02-12T00:00:00",
          "2020-02-06T00:00:00",
          "2020-02-05T00:00:00",
          "2020-02-04T00:00:00",
          "2020-02-02T00:00:00",
          "2020-01-22T00:00:00",
          "2020-01-22T00:00:00",
          "2020-01-22T00:00:00",
          "2020-01-21T00:00:00",
          "2020-01-20T00:00:00",
          "2020-01-20T00:00:00",
          "2020-01-13T00:00:00",
          "2020-01-07T00:00:00",
          "2019-12-23T00:00:00",
          "2019-12-20T00:00:00",
          "2019-12-12T00:00:00",
          "2019-12-12T00:00:00",
          "2019-12-12T00:00:00",
          "2019-12-11T00:00:00",
          "2019-12-09T00:00:00",
          "2019-12-09T00:00:00",
          "2019-11-29T00:00:00",
          "2019-11-29T00:00:00",
          "2019-11-28T00:00:00",
          "2019-11-27T00:00:00",
          "2019-11-20T00:00:00",
          "2019-11-19T00:00:00",
          "2019-11-15T00:00:00",
          "2019-11-12T00:00:00",
          "2019-10-25T00:00:00",
          "2019-10-25T00:00:00",
          "2019-10-25T00:00:00",
          "2019-10-15T00:00:00",
          "2019-10-13T00:00:00",
          "2019-10-10T00:00:00",
          "2019-10-07T00:00:00",
          "2019-10-02T00:00:00",
          "2019-09-20T00:00:00",
          "2019-09-18T00:00:00",
          "2019-09-17T00:00:00",
          "2019-09-16T00:00:00",
          "2019-09-12T00:00:00",
          "2019-09-12T00:00:00",
          "2019-09-09T00:00:00",
          "2019-09-04T00:00:00",
          "2019-08-21T00:00:00",
          "2019-08-15T00:00:00",
          "2019-08-09T00:00:00",
          "2019-08-09T00:00:00",
          "2019-08-06T00:00:00",
          "2019-08-05T00:00:00",
          "2019-08-04T00:00:00",
          "2019-08-01T00:00:00",
          "2019-07-31T00:00:00",
          "2019-07-19T00:00:00",
          "2019-07-14T00:00:00",
          "2019-07-11T00:00:00",
          "2019-07-10T00:00:00",
          "2019-07-08T00:00:00",
          "2019-07-05T00:00:00",
          "2019-07-02T00:00:00",
          "2019-06-30T00:00:00",
          "2019-06-28T00:00:00",
          "2019-06-28T00:00:00",
          "2019-06-24T00:00:00",
          "2019-06-24T00:00:00",
          "2019-06-19T00:00:00",
          "2019-06-05T00:00:00",
          "2019-06-03T00:00:00",
          "2019-05-28T00:00:00",
          "2019-05-27T00:00:00",
          "2019-05-23T00:00:00",
          "2019-05-22T00:00:00",
          "2019-05-21T00:00:00",
          "2019-04-15T00:00:00",
          "2019-04-09T00:00:00",
          "2019-04-01T00:00:00",
          "2019-03-29T00:00:00",
          "2019-03-18T00:00:00",
          "2019-03-01T00:00:00",
          "2019-02-14T00:00:00",
          "2019-02-11T00:00:00",
          "2019-02-01T00:00:00",
          "2019-01-29T00:00:00",
          "2019-01-16T00:00:00",
          "2019-01-09T00:00:00",
          "2018-12-18T00:00:00",
          "2018-12-17T00:00:00",
          "2018-12-04T00:00:00",
          "2018-11-20T00:00:00",
          "2018-11-19T00:00:00",
          "2018-11-15T00:00:00",
          "2020-04-29T00:00:00",
          "2020-04-29T00:00:00",
          "2020-04-15T00:00:00",
          "2020-04-14T00:00:00",
          "2020-04-02T00:00:00",
          "2020-03-30T00:00:00",
          "2020-03-30T00:00:00",
          "2020-03-28T00:00:00",
          "2020-03-27T00:00:00",
          "2020-03-27T00:00:00",
          "2020-03-26T00:00:00",
          "2020-03-26T00:00:00",
          "2020-03-18T00:00:00",
          "2020-03-18T00:00:00",
          "2020-03-18T00:00:00",
          "2020-03-18T00:00:00",
          "2020-03-17T00:00:00",
          "2020-03-16T00:00:00",
          "2020-03-15T00:00:00",
          "2020-03-15T00:00:00",
          "2020-03-13T00:00:00",
          "2020-03-11T00:00:00",
          "2020-03-09T00:00:00",
          "2020-03-09T00:00:00",
          "2020-03-06T00:00:00",
          "2020-03-05T00:00:00",
          "2020-03-05T00:00:00",
          "2020-03-05T00:00:00",
          "2020-03-05T00:00:00",
          "2020-03-04T00:00:00",
          "2020-03-04T00:00:00",
          "2020-03-04T00:00:00",
          "2020-03-04T00:00:00",
          "2020-03-04T00:00:00",
          "2020-03-04T00:00:00",
          "2020-03-04T00:00:00",
          "2020-03-04T00:00:00",
          "2020-03-04T00:00:00",
          "2020-03-04T00:00:00",
          "2020-03-03T00:00:00",
          "2020-03-03T00:00:00",
          "2020-03-03T00:00:00",
          "2020-03-03T00:00:00",
          "2020-03-03T00:00:00",
          "2020-03-03T00:00:00",
          "2020-03-03T00:00:00",
          "2020-03-03T00:00:00",
          "2020-03-02T00:00:00",
          "2020-03-02T00:00:00",
          "2020-03-02T00:00:00",
          "2020-03-02T00:00:00",
          "2020-03-02T00:00:00",
          "2020-02-26T00:00:00",
          "2020-01-30T00:00:00",
          "2020-01-29T00:00:00",
          "2020-01-29T00:00:00",
          "2020-01-24T00:00:00",
          "2020-01-23T00:00:00",
          "2020-01-23T00:00:00",
          "2020-01-23T00:00:00",
          "2020-01-22T00:00:00",
          "2020-01-21T00:00:00",
          "2020-01-20T00:00:00",
          "2020-01-18T00:00:00",
          "2020-01-17T00:00:00",
          "2020-01-15T00:00:00",
          "2020-01-14T00:00:00",
          "2020-01-10T00:00:00",
          "2020-01-09T00:00:00",
          "2020-01-07T00:00:00",
          "2020-01-06T00:00:00",
          "2020-01-06T00:00:00",
          "2019-12-31T00:00:00",
          "2019-12-20T00:00:00",
          "2019-12-19T00:00:00",
          "2019-12-18T00:00:00",
          "2019-12-18T00:00:00",
          "2019-12-16T00:00:00",
          "2019-12-13T00:00:00",
          "2019-12-13T00:00:00",
          "2019-12-13T00:00:00",
          "2019-12-12T00:00:00",
          "2019-12-11T00:00:00",
          "2019-12-11T00:00:00",
          "2019-12-11T00:00:00",
          "2019-12-11T00:00:00",
          "2019-12-10T00:00:00",
          "2019-12-06T00:00:00",
          "2019-12-06T00:00:00",
          "2019-12-03T00:00:00",
          "2019-11-28T00:00:00",
          "2019-11-25T00:00:00",
          "2019-11-21T00:00:00",
          "2019-11-20T00:00:00",
          "2019-11-20T00:00:00",
          "2019-11-20T00:00:00",
          "2019-11-18T00:00:00",
          "2019-11-14T00:00:00",
          "2019-11-14T00:00:00",
          "2019-11-11T00:00:00",
          "2019-11-11T00:00:00",
          "2019-11-06T00:00:00",
          "2019-11-05T00:00:00",
          "2019-11-05T00:00:00",
          "2019-11-04T00:00:00",
          "2019-10-31T00:00:00",
          "2019-10-30T00:00:00",
          "2019-10-30T00:00:00",
          "2019-10-30T00:00:00",
          "2019-10-30T00:00:00",
          "2019-10-28T00:00:00",
          "2019-10-24T00:00:00",
          "2019-10-22T00:00:00",
          "2019-10-21T00:00:00",
          "2019-10-18T00:00:00",
          "2019-10-17T00:00:00",
          "2019-10-16T00:00:00",
          "2019-10-16T00:00:00",
          "2019-10-15T00:00:00",
          "2019-10-11T00:00:00",
          "2019-10-10T00:00:00",
          "2019-10-09T00:00:00",
          "2019-10-08T00:00:00",
          "2019-10-08T00:00:00",
          "2019-10-07T00:00:00",
          "2019-10-07T00:00:00",
          "2019-10-04T00:00:00",
          "2019-10-03T00:00:00",
          "2019-10-02T00:00:00",
          "2019-10-02T00:00:00",
          "2019-10-01T00:00:00",
          "2019-10-01T00:00:00",
          "2019-10-01T00:00:00",
          "2019-09-30T00:00:00",
          "2019-09-30T00:00:00",
          "2019-09-30T00:00:00",
          "2019-09-26T00:00:00",
          "2019-09-19T00:00:00",
          "2019-09-19T00:00:00",
          "2019-09-18T00:00:00",
          "2019-09-16T00:00:00",
          "2019-09-12T00:00:00",
          "2019-09-10T00:00:00",
          "2019-09-09T00:00:00",
          "2019-09-04T00:00:00",
          "2019-09-04T00:00:00",
          "2019-08-27T00:00:00",
          "2019-08-26T00:00:00",
          "2019-08-26T00:00:00",
          "2019-08-26T00:00:00",
          "2019-08-23T00:00:00",
          "2019-08-23T00:00:00",
          "2019-08-21T00:00:00",
          "2019-08-14T00:00:00",
          "2019-08-09T00:00:00",
          "2019-08-09T00:00:00",
          "2019-08-08T00:00:00",
          "2019-08-07T00:00:00",
          "2019-08-07T00:00:00",
          "2019-07-31T00:00:00",
          "2019-07-29T00:00:00",
          "2019-07-26T00:00:00",
          "2019-07-11T00:00:00",
          "2019-07-08T00:00:00",
          "2019-07-05T00:00:00",
          "2019-07-04T00:00:00",
          "2019-07-03T00:00:00",
          "2019-07-03T00:00:00",
          "2019-07-02T00:00:00",
          "2019-06-26T00:00:00",
          "2019-06-26T00:00:00",
          "2019-06-25T00:00:00",
          "2019-06-25T00:00:00",
          "2019-06-20T00:00:00",
          "2019-06-20T00:00:00",
          "2019-06-19T00:00:00",
          "2019-06-19T00:00:00",
          "2019-06-18T00:00:00",
          "2019-06-18T00:00:00",
          "2019-06-14T00:00:00",
          "2019-06-11T00:00:00",
          "2019-06-06T00:00:00",
          "2019-06-04T00:00:00",
          "2019-06-04T00:00:00",
          "2019-06-04T00:00:00",
          "2019-05-31T00:00:00",
          "2019-05-17T00:00:00",
          "2019-05-10T00:00:00",
          "2019-04-26T00:00:00",
          "2019-04-24T00:00:00",
          "2019-04-15T00:00:00",
          "2019-04-15T00:00:00",
          "2019-04-15T00:00:00",
          "2019-04-09T00:00:00",
          "2019-04-01T00:00:00",
          "2019-04-01T00:00:00",
          "2019-03-22T00:00:00",
          "2019-03-21T00:00:00",
          "2019-03-20T00:00:00",
          "2019-03-08T00:00:00",
          "2019-03-06T00:00:00",
          "2019-03-06T00:00:00",
          "2019-03-01T00:00:00",
          "2019-02-25T00:00:00",
          "2019-02-20T00:00:00",
          "2019-02-20T00:00:00",
          "2019-02-19T00:00:00",
          "2019-02-04T00:00:00",
          "2019-01-31T00:00:00",
          "2019-01-30T00:00:00",
          "2019-01-23T00:00:00",
          "2019-01-22T00:00:00",
          "2019-01-21T00:00:00",
          "2019-01-18T00:00:00",
          "2019-01-17T00:00:00",
          "2019-01-16T00:00:00",
          "2019-01-15T00:00:00",
          "2019-01-15T00:00:00",
          "2019-01-15T00:00:00",
          "2019-01-09T00:00:00",
          "2019-01-08T00:00:00",
          "2019-01-04T00:00:00",
          "2019-01-02T00:00:00",
          "2018-12-28T00:00:00",
          "2018-12-21T00:00:00",
          "2018-12-21T00:00:00",
          "2018-12-20T00:00:00",
          "2018-12-19T00:00:00",
          "2018-12-13T00:00:00",
          "2018-11-30T00:00:00",
          "2018-11-16T00:00:00",
          "2020-05-18T00:00:00",
          "2020-05-14T00:00:00",
          "2020-05-13T00:00:00",
          "2020-05-08T00:00:00",
          "2020-05-06T00:00:00",
          "2020-04-29T00:00:00",
          "2020-04-16T00:00:00",
          "2020-04-15T00:00:00",
          "2020-04-06T00:00:00",
          "2020-04-04T00:00:00",
          "2020-04-04T00:00:00",
          "2020-04-03T00:00:00",
          "2020-04-03T00:00:00",
          "2020-04-02T00:00:00",
          "2020-03-27T00:00:00",
          "2020-03-26T00:00:00",
          "2020-03-25T00:00:00",
          "2020-03-21T00:00:00",
          "2020-03-15T00:00:00",
          "2020-03-15T00:00:00",
          "2020-03-12T00:00:00",
          "2020-03-11T00:00:00",
          "2020-03-11T00:00:00",
          "2020-03-09T00:00:00",
          "2020-03-05T00:00:00",
          "2020-03-05T00:00:00",
          "2020-03-04T00:00:00",
          "2020-03-03T00:00:00",
          "2020-03-03T00:00:00",
          "2020-03-03T00:00:00",
          "2020-03-03T00:00:00",
          "2020-03-01T00:00:00",
          "2020-02-25T00:00:00",
          "2020-02-22T00:00:00",
          "2020-02-16T00:00:00",
          "2020-02-13T00:00:00",
          "2020-02-12T00:00:00",
          "2020-02-11T00:00:00",
          "2020-02-09T00:00:00",
          "2020-02-06T00:00:00",
          "2020-01-29T00:00:00",
          "2020-01-22T00:00:00",
          "2020-01-17T00:00:00",
          "2020-01-06T00:00:00",
          "2020-01-03T00:00:00",
          "2019-12-19T00:00:00",
          "2019-12-12T00:00:00",
          "2019-12-11T00:00:00",
          "2019-12-10T00:00:00",
          "2019-12-08T00:00:00",
          "2019-12-06T00:00:00",
          "2019-12-05T00:00:00",
          "2019-12-04T00:00:00",
          "2019-12-03T00:00:00",
          "2019-12-02T00:00:00",
          "2019-11-29T00:00:00",
          "2019-11-26T00:00:00",
          "2019-11-26T00:00:00",
          "2019-11-20T00:00:00",
          "2019-11-18T00:00:00",
          "2019-11-15T00:00:00",
          "2019-11-14T00:00:00",
          "2019-11-14T00:00:00",
          "2019-11-13T00:00:00",
          "2019-11-08T00:00:00",
          "2019-11-02T00:00:00",
          "2019-11-01T00:00:00",
          "2019-10-30T00:00:00",
          "2019-10-30T00:00:00",
          "2019-10-28T00:00:00",
          "2019-10-21T00:00:00",
          "2019-10-18T00:00:00",
          "2019-10-16T00:00:00",
          "2019-10-16T00:00:00",
          "2019-10-11T00:00:00",
          "2019-10-07T00:00:00",
          "2019-10-03T00:00:00",
          "2019-09-22T00:00:00",
          "2019-09-19T00:00:00",
          "2019-09-18T00:00:00",
          "2019-09-17T00:00:00",
          "2019-09-16T00:00:00",
          "2019-09-16T00:00:00",
          "2019-09-13T00:00:00",
          "2019-09-10T00:00:00",
          "2019-09-06T00:00:00",
          "2019-09-04T00:00:00",
          "2019-08-27T00:00:00",
          "2019-08-20T00:00:00",
          "2019-08-20T00:00:00",
          "2019-08-20T00:00:00",
          "2019-08-17T00:00:00",
          "2019-08-17T00:00:00",
          "2019-08-08T00:00:00",
          "2019-08-02T00:00:00",
          "2019-07-31T00:00:00",
          "2019-07-31T00:00:00",
          "2019-07-30T00:00:00",
          "2019-07-25T00:00:00",
          "2019-07-17T00:00:00",
          "2019-07-16T00:00:00",
          "2019-07-11T00:00:00",
          "2019-07-10T00:00:00",
          "2019-07-08T00:00:00",
          "2019-07-05T00:00:00",
          "2019-07-05T00:00:00",
          "2019-07-05T00:00:00",
          "2019-06-27T00:00:00",
          "2019-06-22T00:00:00",
          "2019-06-20T00:00:00",
          "2019-06-07T00:00:00",
          "2019-06-04T00:00:00",
          "2019-06-03T00:00:00",
          "2019-05-29T00:00:00",
          "2019-05-29T00:00:00"
         ],
         "xaxis": "x",
         "y": [
          -1.5,
          -1.5,
          0,
          0,
          -1.5,
          0,
          -1.5,
          1.5,
          -1.5,
          0,
          -1.5,
          0,
          0,
          -1.5,
          0,
          -1.5,
          -1.5,
          -1.5,
          0,
          -1.5,
          -1.5,
          -1.5,
          -1.5,
          0,
          0,
          0,
          0,
          0,
          -1.5,
          -1.5,
          0,
          -1.5,
          0,
          -1.5,
          0,
          0,
          0,
          0,
          0,
          0,
          -1.5,
          0,
          -1.5,
          0,
          0,
          0,
          0,
          0,
          -1.5,
          1.5,
          1.5,
          -1.5,
          0,
          0,
          1.5,
          0,
          -1.5,
          -1.5,
          0,
          0,
          0,
          1.5,
          -1.5,
          0,
          0,
          -1.5,
          0,
          -1.5,
          0,
          0,
          0,
          0,
          0,
          0,
          -1.5,
          -1.5,
          1.5,
          0,
          0,
          -1.5,
          0,
          0,
          0,
          1.5,
          0,
          0,
          -1.5,
          0,
          1.5,
          0,
          0,
          1.5,
          0,
          0,
          0,
          0,
          -1.5,
          0,
          0,
          -1.5,
          -1.5,
          -1.5,
          1.5,
          -1.5,
          0,
          1.5,
          -1.5,
          0,
          0,
          0,
          0,
          0,
          0,
          -1.5,
          0,
          0,
          0,
          -1.4683151245117188,
          -1.4818131923675537,
          -1.4687644839286804,
          -1.4634064435958862,
          -1.4108120203018188,
          -1.496006429195404,
          -1.4960870742797852,
          -1.4824767112731934,
          -1.48220694065094,
          -1.4904828071594238,
          -1.4512472152709959,
          -1.4593190550804138,
          -1.4866226315498352,
          1.0233885049819946,
          -1.489054799079895,
          1.3823636174201963,
          -1.1628398895263672,
          1.0349509716033936,
          -1.4108346700668335,
          1.0096962451934814,
          -1.4967854022979736,
          -1.239102840423584,
          -1.346242904663086,
          -1.3385263085365295,
          -1.459164798259735,
          -1.3078707456588743,
          -1.3320425152778623,
          -1.4954906105995178,
          -1.4918662905693054,
          -1.488759994506836,
          -1.24726140499115,
          -1.445267140865326,
          -1.486204743385315,
          -1.4868621826171875,
          1.0024464130401611,
          -1.4599080681800842,
          -1.426760733127594,
          -1.4044412970542908,
          -1.191991090774536,
          -1.4962354302406309,
          -0.022702443413436413,
          -1.3789582848548891,
          -1.4817968606948853,
          -1.4750465154647827,
          -1.497636795043945,
          -1.497539520263672,
          -1.4951971173286438,
          -1.4835996627807615,
          -0.30269890278577805,
          -1.4912227392196655,
          -1.0711686611175537,
          -1.455136775970459,
          -1.4472461342811584,
          -1.4643130898475647,
          -1.3466267585754397,
          -1.4885045886039734,
          -1.4915114045143127,
          0.9574093222618104,
          -1.4628388285636902,
          -1.492689073085785,
          -1.4557995200157166,
          -1.4167442917823792,
          -1.487895131111145,
          -1.4488927721977234,
          -1.4918295741081238,
          -1.0258077383041382,
          -1.4944663643836975,
          -1.4831725358963013,
          -1.4405280351638794,
          -1.4693830013275146,
          -1.4832180738449097,
          -1.3772408962249756,
          -1.4655722975730896,
          -1.0497724413871763,
          -1.4816680550575256,
          -1.4919506311416626,
          -1.460590124130249,
          -1.0005382895469666,
          -1.4723873734474182,
          -1.4604279398918152,
          -1.4555872082710266,
          -1.4897063970565796,
          -1.4898185133934019,
          -1.4284493923187256,
          -1.4977528452873232,
          -1.162378966808319,
          -1.477896809577942,
          -1.4622162580490112,
          0.21586258709430692,
          -1.3590514063835144,
          -1.4968488812446594,
          1.3585763573646543,
          -1.4746431112289429,
          -1.4803590774536133,
          -1.447998046875,
          -1.3936944007873535,
          1.3671354055404663,
          -1.4348193407058716,
          0.06392174959182742,
          -1.4809664487838743,
          -1.3558822274208069,
          -1.4966316819190981,
          -1.4968268275260923,
          -1.1739662885665894,
          -1.4107518196105957,
          -1.4388367533683777,
          -1.4791496396064758,
          -1.3969825506210327,
          -1.4406973123550415,
          -1.4882531762123108,
          -1.4333474040031433,
          -1.49026757478714,
          -0.041326582431793164,
          -1.4986814856529236,
          -1.008846640586853,
          -1.4058809280395508,
          -1.4954476952552795,
          -0.9833950102329254,
          -1.4807608127593994,
          -1.397202551364899,
          -1.471190094947815,
          -1.4813864827156067,
          -1.4884935021400452,
          -1.4541098475456238,
          -0.1431766897439956,
          -1.4898536801338196,
          -1.4972641468048096,
          -1.4639339447021484,
          -1.4889812469482422,
          -1.4541807174682615,
          -1.4315539598464966,
          -1.4912952184677124,
          -1.3156275153160095,
          -1.3472251892089844,
          -1.2728689312934875,
          -1.3073822855949402,
          -1.1247559785842896,
          -1.4882408380508425,
          -1.4959635734558103,
          -1.490458607673645,
          1.14924955368042,
          -1.3842570781707764,
          -1.4732147455215454,
          -1.1862097382545471,
          -1.4646298289299011,
          -1.4671412706375122,
          -1.4553110003471377,
          -1.2835177183151243,
          -1.4636775851249697,
          -1.4928763508796692,
          -1.4611924290657043,
          -1.4536277055740356,
          -1.4739893674850464,
          -1.487616002559662,
          -1.263207197189331,
          -1.4828815460205078,
          1.3641000986099243,
          -1.4942260384559631,
          -1.445416510105133,
          -1.2612217664718628,
          1.1570201516151428,
          -0.9340306818485259,
          -1.4875062704086304,
          -1.413043200969696,
          -1.4553691148757937,
          -1.475605010986328,
          -1.2172589302062988,
          -0.04206804186105725,
          -1.467419445514679,
          -1.4751519560813904,
          -1.1260287165641785,
          -1.1062710881233215,
          -1.3111994862556458,
          -1.4081818461418152,
          0.3415573686361313,
          -1.383362591266632,
          -1.268319308757782,
          -0.20077674090862274,
          -1.4958236217498782,
          -1.3981194496154783,
          0.2781561017036438,
          0.003996714949607849,
          -1.0773119926452637,
          -1.2473877668380735,
          -1.3713741898536682,
          -1.4592758417129517,
          1.39719420671463,
          -1.4945874214172363,
          -1.1642679572105408,
          -1.4626274704933169,
          -1.4246641993522644,
          -1.302919626235962,
          -1.4940273761749268,
          -1.3254411816596985,
          1.0081776976585388,
          1.1041517853736875,
          -1.4775766730308533,
          0.9343876838684082,
          -1.4777686595916748,
          -1.492027461528778,
          -1.4611859321594238,
          -1.421220064163208,
          -1.4408833980560305,
          -1.4554929733276367,
          -1.449923574924469,
          -1.4078974127769468,
          -1.2930588126182556,
          -1.3928277492523191,
          -1.2300317883491516,
          -1.3994871377944946,
          -1.4567667841911316,
          -1.211540460586548,
          -1.4763799905776978,
          -1.3271567821502686,
          -1.4763026237487793,
          -1.1389800906181335,
          -1.4481654167175293,
          -1.2673115134239197,
          -0.12899740040302282,
          1.1206945776939392,
          -1.3488296270370483,
          -1.3532964587211609,
          1.3491231203079224,
          -1.4905622601509094,
          -1.481797456741333,
          -1.272308886051178,
          -1.4707533717155457,
          -1.029288113117218,
          -1.4673941135406494,
          -1.3470120429992676,
          -1.021562397480011,
          -1.1859960556030271,
          -1.1891990303993225,
          -1.4738775491714478,
          -0.20558993518352509,
          -1.4326344728469849,
          -1.4537996649742126,
          -1.4830925464630127,
          -1.0794246792793274,
          -1.4979329109191897,
          -1.4964648485183716,
          -1.414334237575531,
          -0.9325861632823944,
          -1.4797326326370241,
          -1.4348241686820984,
          -1.4957606196403503,
          0.019974973052740097,
          1.0741904377937317,
          0.20769794285297394,
          -1.4861948490142822,
          0.986150085926056,
          0.04073728621006012,
          -1.4909834861755369,
          -1.4948387742042542,
          -1.281525194644928,
          -1.3450673818588257,
          -1.467278003692627,
          -1.491866409778595,
          -1.1885100603103638,
          -1.466667354106903,
          -1.0708894729614258,
          -1.495846688747406,
          -1.4365554451942444,
          0.1923990398645401,
          -0.3781587183475494,
          -1.4733077883720398,
          -1.4938480257987976,
          -1.4984188079833984,
          -0.08431307412683962,
          -1.2233072519302368,
          -0.2209878154098988,
          -1.3357903361320496,
          -1.1210172772407532,
          -1.3788607120513916,
          -1.1872628331184387,
          0.0074556577019393435,
          -1.2152209877967834,
          1.0441216230392456,
          1.0120437741279602,
          1.1263619661331177,
          -1.3023983836174011,
          -0.07119139097630979,
          -1.4242563843727112,
          0.008404538035392733,
          -1.4216344356536863,
          0.05345308594405651,
          -1.4300835728645325,
          -1.4046415090560913,
          -1.4938645958900452,
          -1.1658294200897217,
          -1.4727674126625059,
          -1.371609628200531,
          -1.3601900935173037,
          0.024392109364271167,
          -1.4033464789390564,
          -1.3768009543418884,
          -1.2848215699195862,
          -1.001880407333374,
          -1.4377068281173706,
          -1.428741633892059,
          -1.3117189407348633,
          1.1118239164352417,
          0.8706878423690796,
          0.01899129524827004,
          -1.1677052974700928,
          -1.3724874258041382,
          -1.4703630208969116,
          -1.477318823337555,
          -1.4358419179916382,
          -1.4670463800430298,
          -1.48216313123703,
          -1.0780017971992493,
          -1.4560559391975405,
          -1.1912057399749756,
          -1.2952191233634949,
          0.07753784768283366,
          -0.1359410136938095,
          -1.3653278946876526,
          -1.4556376934051514,
          -0.021921386942267414,
          0.07632870972156525,
          -1.4880865812301636,
          -1.4537758231163025,
          -1.2924529314041138,
          -0.0023841196671128273,
          -0.11374065279960635,
          -1.4486374855041504,
          -1.379200100898743,
          -1.1217445731163025,
          -1.4776366949081419,
          -1.2001571655273438,
          -1.4222680330276491,
          -0.33764428272843355,
          -1.3028564453125,
          -1.4822188019752502,
          1.1392205953598022,
          -1.4532155990600586,
          -1.378044843673706,
          -0.9510474205017091,
          -1.3571943044662476,
          -1.4669429063796997,
          -1.4470824003219604,
          -1.4232293963432312,
          -0.014971427619457243,
          1.2265042662620544,
          0.06157826632261276
         ],
         "yaxis": "y2"
        }
       ],
       "layout": {
        "template": {
         "data": {
          "bar": [
           {
            "error_x": {
             "color": "#2a3f5f"
            },
            "error_y": {
             "color": "#2a3f5f"
            },
            "marker": {
             "line": {
              "color": "#E5ECF6",
              "width": 0.5
             }
            },
            "type": "bar"
           }
          ],
          "barpolar": [
           {
            "marker": {
             "line": {
              "color": "#E5ECF6",
              "width": 0.5
             }
            },
            "type": "barpolar"
           }
          ],
          "carpet": [
           {
            "aaxis": {
             "endlinecolor": "#2a3f5f",
             "gridcolor": "white",
             "linecolor": "white",
             "minorgridcolor": "white",
             "startlinecolor": "#2a3f5f"
            },
            "baxis": {
             "endlinecolor": "#2a3f5f",
             "gridcolor": "white",
             "linecolor": "white",
             "minorgridcolor": "white",
             "startlinecolor": "#2a3f5f"
            },
            "type": "carpet"
           }
          ],
          "choropleth": [
           {
            "colorbar": {
             "outlinewidth": 0,
             "ticks": ""
            },
            "type": "choropleth"
           }
          ],
          "contour": [
           {
            "colorbar": {
             "outlinewidth": 0,
             "ticks": ""
            },
            "colorscale": [
             [
              0,
              "#0d0887"
             ],
             [
              0.1111111111111111,
              "#46039f"
             ],
             [
              0.2222222222222222,
              "#7201a8"
             ],
             [
              0.3333333333333333,
              "#9c179e"
             ],
             [
              0.4444444444444444,
              "#bd3786"
             ],
             [
              0.5555555555555556,
              "#d8576b"
             ],
             [
              0.6666666666666666,
              "#ed7953"
             ],
             [
              0.7777777777777778,
              "#fb9f3a"
             ],
             [
              0.8888888888888888,
              "#fdca26"
             ],
             [
              1,
              "#f0f921"
             ]
            ],
            "type": "contour"
           }
          ],
          "contourcarpet": [
           {
            "colorbar": {
             "outlinewidth": 0,
             "ticks": ""
            },
            "type": "contourcarpet"
           }
          ],
          "heatmap": [
           {
            "colorbar": {
             "outlinewidth": 0,
             "ticks": ""
            },
            "colorscale": [
             [
              0,
              "#0d0887"
             ],
             [
              0.1111111111111111,
              "#46039f"
             ],
             [
              0.2222222222222222,
              "#7201a8"
             ],
             [
              0.3333333333333333,
              "#9c179e"
             ],
             [
              0.4444444444444444,
              "#bd3786"
             ],
             [
              0.5555555555555556,
              "#d8576b"
             ],
             [
              0.6666666666666666,
              "#ed7953"
             ],
             [
              0.7777777777777778,
              "#fb9f3a"
             ],
             [
              0.8888888888888888,
              "#fdca26"
             ],
             [
              1,
              "#f0f921"
             ]
            ],
            "type": "heatmap"
           }
          ],
          "heatmapgl": [
           {
            "colorbar": {
             "outlinewidth": 0,
             "ticks": ""
            },
            "colorscale": [
             [
              0,
              "#0d0887"
             ],
             [
              0.1111111111111111,
              "#46039f"
             ],
             [
              0.2222222222222222,
              "#7201a8"
             ],
             [
              0.3333333333333333,
              "#9c179e"
             ],
             [
              0.4444444444444444,
              "#bd3786"
             ],
             [
              0.5555555555555556,
              "#d8576b"
             ],
             [
              0.6666666666666666,
              "#ed7953"
             ],
             [
              0.7777777777777778,
              "#fb9f3a"
             ],
             [
              0.8888888888888888,
              "#fdca26"
             ],
             [
              1,
              "#f0f921"
             ]
            ],
            "type": "heatmapgl"
           }
          ],
          "histogram": [
           {
            "marker": {
             "colorbar": {
              "outlinewidth": 0,
              "ticks": ""
             }
            },
            "type": "histogram"
           }
          ],
          "histogram2d": [
           {
            "colorbar": {
             "outlinewidth": 0,
             "ticks": ""
            },
            "colorscale": [
             [
              0,
              "#0d0887"
             ],
             [
              0.1111111111111111,
              "#46039f"
             ],
             [
              0.2222222222222222,
              "#7201a8"
             ],
             [
              0.3333333333333333,
              "#9c179e"
             ],
             [
              0.4444444444444444,
              "#bd3786"
             ],
             [
              0.5555555555555556,
              "#d8576b"
             ],
             [
              0.6666666666666666,
              "#ed7953"
             ],
             [
              0.7777777777777778,
              "#fb9f3a"
             ],
             [
              0.8888888888888888,
              "#fdca26"
             ],
             [
              1,
              "#f0f921"
             ]
            ],
            "type": "histogram2d"
           }
          ],
          "histogram2dcontour": [
           {
            "colorbar": {
             "outlinewidth": 0,
             "ticks": ""
            },
            "colorscale": [
             [
              0,
              "#0d0887"
             ],
             [
              0.1111111111111111,
              "#46039f"
             ],
             [
              0.2222222222222222,
              "#7201a8"
             ],
             [
              0.3333333333333333,
              "#9c179e"
             ],
             [
              0.4444444444444444,
              "#bd3786"
             ],
             [
              0.5555555555555556,
              "#d8576b"
             ],
             [
              0.6666666666666666,
              "#ed7953"
             ],
             [
              0.7777777777777778,
              "#fb9f3a"
             ],
             [
              0.8888888888888888,
              "#fdca26"
             ],
             [
              1,
              "#f0f921"
             ]
            ],
            "type": "histogram2dcontour"
           }
          ],
          "mesh3d": [
           {
            "colorbar": {
             "outlinewidth": 0,
             "ticks": ""
            },
            "type": "mesh3d"
           }
          ],
          "parcoords": [
           {
            "line": {
             "colorbar": {
              "outlinewidth": 0,
              "ticks": ""
             }
            },
            "type": "parcoords"
           }
          ],
          "pie": [
           {
            "automargin": true,
            "type": "pie"
           }
          ],
          "scatter": [
           {
            "marker": {
             "colorbar": {
              "outlinewidth": 0,
              "ticks": ""
             }
            },
            "type": "scatter"
           }
          ],
          "scatter3d": [
           {
            "line": {
             "colorbar": {
              "outlinewidth": 0,
              "ticks": ""
             }
            },
            "marker": {
             "colorbar": {
              "outlinewidth": 0,
              "ticks": ""
             }
            },
            "type": "scatter3d"
           }
          ],
          "scattercarpet": [
           {
            "marker": {
             "colorbar": {
              "outlinewidth": 0,
              "ticks": ""
             }
            },
            "type": "scattercarpet"
           }
          ],
          "scattergeo": [
           {
            "marker": {
             "colorbar": {
              "outlinewidth": 0,
              "ticks": ""
             }
            },
            "type": "scattergeo"
           }
          ],
          "scattergl": [
           {
            "marker": {
             "colorbar": {
              "outlinewidth": 0,
              "ticks": ""
             }
            },
            "type": "scattergl"
           }
          ],
          "scattermapbox": [
           {
            "marker": {
             "colorbar": {
              "outlinewidth": 0,
              "ticks": ""
             }
            },
            "type": "scattermapbox"
           }
          ],
          "scatterpolar": [
           {
            "marker": {
             "colorbar": {
              "outlinewidth": 0,
              "ticks": ""
             }
            },
            "type": "scatterpolar"
           }
          ],
          "scatterpolargl": [
           {
            "marker": {
             "colorbar": {
              "outlinewidth": 0,
              "ticks": ""
             }
            },
            "type": "scatterpolargl"
           }
          ],
          "scatterternary": [
           {
            "marker": {
             "colorbar": {
              "outlinewidth": 0,
              "ticks": ""
             }
            },
            "type": "scatterternary"
           }
          ],
          "surface": [
           {
            "colorbar": {
             "outlinewidth": 0,
             "ticks": ""
            },
            "colorscale": [
             [
              0,
              "#0d0887"
             ],
             [
              0.1111111111111111,
              "#46039f"
             ],
             [
              0.2222222222222222,
              "#7201a8"
             ],
             [
              0.3333333333333333,
              "#9c179e"
             ],
             [
              0.4444444444444444,
              "#bd3786"
             ],
             [
              0.5555555555555556,
              "#d8576b"
             ],
             [
              0.6666666666666666,
              "#ed7953"
             ],
             [
              0.7777777777777778,
              "#fb9f3a"
             ],
             [
              0.8888888888888888,
              "#fdca26"
             ],
             [
              1,
              "#f0f921"
             ]
            ],
            "type": "surface"
           }
          ],
          "table": [
           {
            "cells": {
             "fill": {
              "color": "#EBF0F8"
             },
             "line": {
              "color": "white"
             }
            },
            "header": {
             "fill": {
              "color": "#C8D4E3"
             },
             "line": {
              "color": "white"
             }
            },
            "type": "table"
           }
          ]
         },
         "layout": {
          "annotationdefaults": {
           "arrowcolor": "#2a3f5f",
           "arrowhead": 0,
           "arrowwidth": 1
          },
          "coloraxis": {
           "colorbar": {
            "outlinewidth": 0,
            "ticks": ""
           }
          },
          "colorscale": {
           "diverging": [
            [
             0,
             "#8e0152"
            ],
            [
             0.1,
             "#c51b7d"
            ],
            [
             0.2,
             "#de77ae"
            ],
            [
             0.3,
             "#f1b6da"
            ],
            [
             0.4,
             "#fde0ef"
            ],
            [
             0.5,
             "#f7f7f7"
            ],
            [
             0.6,
             "#e6f5d0"
            ],
            [
             0.7,
             "#b8e186"
            ],
            [
             0.8,
             "#7fbc41"
            ],
            [
             0.9,
             "#4d9221"
            ],
            [
             1,
             "#276419"
            ]
           ],
           "sequential": [
            [
             0,
             "#0d0887"
            ],
            [
             0.1111111111111111,
             "#46039f"
            ],
            [
             0.2222222222222222,
             "#7201a8"
            ],
            [
             0.3333333333333333,
             "#9c179e"
            ],
            [
             0.4444444444444444,
             "#bd3786"
            ],
            [
             0.5555555555555556,
             "#d8576b"
            ],
            [
             0.6666666666666666,
             "#ed7953"
            ],
            [
             0.7777777777777778,
             "#fb9f3a"
            ],
            [
             0.8888888888888888,
             "#fdca26"
            ],
            [
             1,
             "#f0f921"
            ]
           ],
           "sequentialminus": [
            [
             0,
             "#0d0887"
            ],
            [
             0.1111111111111111,
             "#46039f"
            ],
            [
             0.2222222222222222,
             "#7201a8"
            ],
            [
             0.3333333333333333,
             "#9c179e"
            ],
            [
             0.4444444444444444,
             "#bd3786"
            ],
            [
             0.5555555555555556,
             "#d8576b"
            ],
            [
             0.6666666666666666,
             "#ed7953"
            ],
            [
             0.7777777777777778,
             "#fb9f3a"
            ],
            [
             0.8888888888888888,
             "#fdca26"
            ],
            [
             1,
             "#f0f921"
            ]
           ]
          },
          "colorway": [
           "#636efa",
           "#EF553B",
           "#00cc96",
           "#ab63fa",
           "#FFA15A",
           "#19d3f3",
           "#FF6692",
           "#B6E880",
           "#FF97FF",
           "#FECB52"
          ],
          "font": {
           "color": "#2a3f5f"
          },
          "geo": {
           "bgcolor": "white",
           "lakecolor": "white",
           "landcolor": "#E5ECF6",
           "showlakes": true,
           "showland": true,
           "subunitcolor": "white"
          },
          "hoverlabel": {
           "align": "left"
          },
          "hovermode": "closest",
          "mapbox": {
           "style": "light"
          },
          "paper_bgcolor": "white",
          "plot_bgcolor": "#E5ECF6",
          "polar": {
           "angularaxis": {
            "gridcolor": "white",
            "linecolor": "white",
            "ticks": ""
           },
           "bgcolor": "#E5ECF6",
           "radialaxis": {
            "gridcolor": "white",
            "linecolor": "white",
            "ticks": ""
           }
          },
          "scene": {
           "xaxis": {
            "backgroundcolor": "#E5ECF6",
            "gridcolor": "white",
            "gridwidth": 2,
            "linecolor": "white",
            "showbackground": true,
            "ticks": "",
            "zerolinecolor": "white"
           },
           "yaxis": {
            "backgroundcolor": "#E5ECF6",
            "gridcolor": "white",
            "gridwidth": 2,
            "linecolor": "white",
            "showbackground": true,
            "ticks": "",
            "zerolinecolor": "white"
           },
           "zaxis": {
            "backgroundcolor": "#E5ECF6",
            "gridcolor": "white",
            "gridwidth": 2,
            "linecolor": "white",
            "showbackground": true,
            "ticks": "",
            "zerolinecolor": "white"
           }
          },
          "shapedefaults": {
           "line": {
            "color": "#2a3f5f"
           }
          },
          "ternary": {
           "aaxis": {
            "gridcolor": "white",
            "linecolor": "white",
            "ticks": ""
           },
           "baxis": {
            "gridcolor": "white",
            "linecolor": "white",
            "ticks": ""
           },
           "bgcolor": "#E5ECF6",
           "caxis": {
            "gridcolor": "white",
            "linecolor": "white",
            "ticks": ""
           }
          },
          "title": {
           "x": 0.05
          },
          "xaxis": {
           "automargin": true,
           "gridcolor": "white",
           "linecolor": "white",
           "ticks": "",
           "title": {
            "standoff": 15
           },
           "zerolinecolor": "white",
           "zerolinewidth": 2
          },
          "yaxis": {
           "automargin": true,
           "gridcolor": "white",
           "linecolor": "white",
           "ticks": "",
           "title": {
            "standoff": 15
           },
           "zerolinecolor": "white",
           "zerolinewidth": 2
          }
         }
        },
        "title": {
         "text": "interest rates VS news sentiment (2019 Jan - 2020 May) "
        },
        "xaxis": {
         "anchor": "y",
         "domain": [
          0,
          0.94
         ],
         "range": [
          "2019-05-31T00:00:00",
          "2020-05-18T00:00:00"
         ],
         "rangeslider": {
          "visible": true
         },
         "title": {
          "text": "Date"
         }
        },
        "yaxis": {
         "anchor": "x",
         "autorange": false,
         "domain": [
          0,
          1
         ],
         "range": [
          0.15,
          1.85
         ],
         "title": {
          "text": "Interest Rate - Overnight Target Rate (Bank of Canada)"
         }
        },
        "yaxis2": {
         "anchor": "x",
         "overlaying": "y",
         "range": [
          -2.5,
          2.5
         ],
         "side": "right",
         "title": {
          "text": "Sentiment Score"
         }
        }
       }
      },
      "text/html": [
       "<div>\n",
       "        \n",
       "        \n",
       "            <div id=\"ce17409d-6a74-4ba2-9e10-9b39e18007bc\" class=\"plotly-graph-div\" style=\"height:525px; width:100%;\"></div>\n",
       "            <script type=\"text/javascript\">\n",
       "                require([\"plotly\"], function(Plotly) {\n",
       "                    window.PLOTLYENV=window.PLOTLYENV || {};\n",
       "                    \n",
       "                if (document.getElementById(\"ce17409d-6a74-4ba2-9e10-9b39e18007bc\")) {\n",
       "                    Plotly.newPlot(\n",
       "                        'ce17409d-6a74-4ba2-9e10-9b39e18007bc',\n",
       "                        [{\"line\": {\"color\": \"blue\"}, \"mode\": \"lines\", \"name\": \"Interest Rate - Overnight Target Rate (Bank of Canada)\", \"type\": \"scatter\", \"x\": [\"2019-05-31T00:00:00\", \"2019-06-03T00:00:00\", \"2019-06-04T00:00:00\", \"2019-06-05T00:00:00\", \"2019-06-06T00:00:00\", \"2019-06-07T00:00:00\", \"2019-06-10T00:00:00\", \"2019-06-11T00:00:00\", \"2019-06-12T00:00:00\", \"2019-06-13T00:00:00\", \"2019-06-14T00:00:00\", \"2019-06-17T00:00:00\", \"2019-06-18T00:00:00\", \"2019-06-19T00:00:00\", \"2019-06-20T00:00:00\", \"2019-06-21T00:00:00\", \"2019-06-24T00:00:00\", \"2019-06-25T00:00:00\", \"2019-06-26T00:00:00\", \"2019-06-27T00:00:00\", \"2019-06-28T00:00:00\", \"2019-07-01T00:00:00\", \"2019-07-02T00:00:00\", \"2019-07-03T00:00:00\", \"2019-07-04T00:00:00\", \"2019-07-05T00:00:00\", \"2019-07-08T00:00:00\", \"2019-07-09T00:00:00\", \"2019-07-10T00:00:00\", \"2019-07-11T00:00:00\", \"2019-07-12T00:00:00\", \"2019-07-15T00:00:00\", \"2019-07-16T00:00:00\", \"2019-07-17T00:00:00\", \"2019-07-18T00:00:00\", \"2019-07-19T00:00:00\", \"2019-07-22T00:00:00\", \"2019-07-23T00:00:00\", \"2019-07-24T00:00:00\", \"2019-07-25T00:00:00\", \"2019-07-26T00:00:00\", \"2019-07-29T00:00:00\", \"2019-07-30T00:00:00\", \"2019-07-31T00:00:00\", \"2019-08-01T00:00:00\", \"2019-08-02T00:00:00\", \"2019-08-05T00:00:00\", \"2019-08-06T00:00:00\", \"2019-08-07T00:00:00\", \"2019-08-08T00:00:00\", \"2019-08-09T00:00:00\", \"2019-08-12T00:00:00\", \"2019-08-13T00:00:00\", \"2019-08-14T00:00:00\", \"2019-08-15T00:00:00\", \"2019-08-16T00:00:00\", \"2019-08-19T00:00:00\", \"2019-08-20T00:00:00\", \"2019-08-21T00:00:00\", \"2019-08-22T00:00:00\", \"2019-08-23T00:00:00\", \"2019-08-26T00:00:00\", \"2019-08-27T00:00:00\", \"2019-08-28T00:00:00\", \"2019-08-29T00:00:00\", \"2019-08-30T00:00:00\", \"2019-09-02T00:00:00\", \"2019-09-03T00:00:00\", \"2019-09-04T00:00:00\", \"2019-09-05T00:00:00\", \"2019-09-06T00:00:00\", \"2019-09-09T00:00:00\", \"2019-09-10T00:00:00\", \"2019-09-11T00:00:00\", \"2019-09-12T00:00:00\", \"2019-09-13T00:00:00\", \"2019-09-16T00:00:00\", \"2019-09-17T00:00:00\", \"2019-09-18T00:00:00\", \"2019-09-19T00:00:00\", \"2019-09-20T00:00:00\", \"2019-09-23T00:00:00\", \"2019-09-24T00:00:00\", \"2019-09-25T00:00:00\", \"2019-09-26T00:00:00\", \"2019-09-27T00:00:00\", \"2019-09-30T00:00:00\", \"2019-10-01T00:00:00\", \"2019-10-02T00:00:00\", \"2019-10-03T00:00:00\", \"2019-10-04T00:00:00\", \"2019-10-07T00:00:00\", \"2019-10-08T00:00:00\", \"2019-10-09T00:00:00\", \"2019-10-10T00:00:00\", \"2019-10-11T00:00:00\", \"2019-10-14T00:00:00\", \"2019-10-15T00:00:00\", \"2019-10-16T00:00:00\", \"2019-10-17T00:00:00\", \"2019-10-18T00:00:00\", \"2019-10-21T00:00:00\", \"2019-10-22T00:00:00\", \"2019-10-23T00:00:00\", \"2019-10-24T00:00:00\", \"2019-10-25T00:00:00\", \"2019-10-28T00:00:00\", \"2019-10-29T00:00:00\", \"2019-10-30T00:00:00\", \"2019-10-31T00:00:00\", \"2019-11-01T00:00:00\", \"2019-11-04T00:00:00\", \"2019-11-05T00:00:00\", \"2019-11-06T00:00:00\", \"2019-11-07T00:00:00\", \"2019-11-08T00:00:00\", \"2019-11-11T00:00:00\", \"2019-11-12T00:00:00\", \"2019-11-13T00:00:00\", \"2019-11-14T00:00:00\", \"2019-11-15T00:00:00\", \"2019-11-18T00:00:00\", \"2019-11-19T00:00:00\", \"2019-11-20T00:00:00\", \"2019-11-21T00:00:00\", \"2019-11-22T00:00:00\", \"2019-11-25T00:00:00\", \"2019-11-26T00:00:00\", \"2019-11-27T00:00:00\", \"2019-11-28T00:00:00\", \"2019-11-29T00:00:00\", \"2019-12-02T00:00:00\", \"2019-12-03T00:00:00\", \"2019-12-04T00:00:00\", \"2019-12-05T00:00:00\", \"2019-12-06T00:00:00\", \"2019-12-09T00:00:00\", \"2019-12-10T00:00:00\", \"2019-12-11T00:00:00\", \"2019-12-12T00:00:00\", \"2019-12-13T00:00:00\", \"2019-12-16T00:00:00\", \"2019-12-17T00:00:00\", \"2019-12-18T00:00:00\", \"2019-12-19T00:00:00\", \"2019-12-20T00:00:00\", \"2019-12-23T00:00:00\", \"2019-12-24T00:00:00\", \"2019-12-25T00:00:00\", \"2019-12-26T00:00:00\", \"2019-12-27T00:00:00\", \"2019-12-30T00:00:00\", \"2019-12-31T00:00:00\", \"2020-01-01T00:00:00\", \"2020-01-02T00:00:00\", \"2020-01-03T00:00:00\", \"2020-01-06T00:00:00\", \"2020-01-07T00:00:00\", \"2020-01-08T00:00:00\", \"2020-01-09T00:00:00\", \"2020-01-10T00:00:00\", \"2020-01-13T00:00:00\", \"2020-01-14T00:00:00\", \"2020-01-15T00:00:00\", \"2020-01-16T00:00:00\", \"2020-01-17T00:00:00\", \"2020-01-20T00:00:00\", \"2020-01-21T00:00:00\", \"2020-01-22T00:00:00\", \"2020-01-23T00:00:00\", \"2020-01-24T00:00:00\", \"2020-01-27T00:00:00\", \"2020-01-28T00:00:00\", \"2020-01-29T00:00:00\", \"2020-01-30T00:00:00\", \"2020-01-31T00:00:00\", \"2020-02-03T00:00:00\", \"2020-02-04T00:00:00\", \"2020-02-05T00:00:00\", \"2020-02-06T00:00:00\", \"2020-02-07T00:00:00\", \"2020-02-10T00:00:00\", \"2020-02-11T00:00:00\", \"2020-02-12T00:00:00\", \"2020-02-13T00:00:00\", \"2020-02-14T00:00:00\", \"2020-02-17T00:00:00\", \"2020-02-18T00:00:00\", \"2020-02-19T00:00:00\", \"2020-02-20T00:00:00\", \"2020-02-21T00:00:00\", \"2020-02-24T00:00:00\", \"2020-02-25T00:00:00\", \"2020-02-26T00:00:00\", \"2020-02-27T00:00:00\", \"2020-02-28T00:00:00\", \"2020-03-02T00:00:00\", \"2020-03-03T00:00:00\", \"2020-03-04T00:00:00\", \"2020-03-05T00:00:00\", \"2020-03-06T00:00:00\", \"2020-03-09T00:00:00\", \"2020-03-10T00:00:00\", \"2020-03-11T00:00:00\", \"2020-03-12T00:00:00\", \"2020-03-13T00:00:00\", \"2020-03-16T00:00:00\", \"2020-03-17T00:00:00\", \"2020-03-18T00:00:00\", \"2020-03-19T00:00:00\", \"2020-03-20T00:00:00\", \"2020-03-23T00:00:00\", \"2020-03-24T00:00:00\", \"2020-03-25T00:00:00\", \"2020-03-26T00:00:00\", \"2020-03-27T00:00:00\", \"2020-03-30T00:00:00\", \"2020-03-31T00:00:00\", \"2020-04-01T00:00:00\", \"2020-04-02T00:00:00\", \"2020-04-03T00:00:00\", \"2020-04-06T00:00:00\", \"2020-04-07T00:00:00\", \"2020-04-08T00:00:00\", \"2020-04-09T00:00:00\", \"2020-04-10T00:00:00\", \"2020-04-13T00:00:00\", \"2020-04-14T00:00:00\", \"2020-04-15T00:00:00\", \"2020-04-16T00:00:00\", \"2020-04-17T00:00:00\", \"2020-04-20T00:00:00\", \"2020-04-21T00:00:00\", \"2020-04-22T00:00:00\", \"2020-04-23T00:00:00\", \"2020-04-24T00:00:00\", \"2020-04-27T00:00:00\", \"2020-04-28T00:00:00\", \"2020-04-29T00:00:00\", \"2020-04-30T00:00:00\", \"2020-05-01T00:00:00\", \"2020-05-04T00:00:00\", \"2020-05-05T00:00:00\", \"2020-05-06T00:00:00\", \"2020-05-07T00:00:00\", \"2020-05-08T00:00:00\", \"2020-05-11T00:00:00\", \"2020-05-12T00:00:00\", \"2020-05-13T00:00:00\", \"2020-05-14T00:00:00\", \"2020-05-15T00:00:00\", \"2020-05-18T00:00:00\", \"2020-05-19T00:00:00\", \"2020-05-20T00:00:00\", \"2020-05-21T00:00:00\", \"2020-05-22T00:00:00\", \"2020-05-25T00:00:00\", \"2020-05-26T00:00:00\", \"2020-05-27T00:00:00\", \"2020-05-28T00:00:00\", \"2020-05-29T00:00:00\", \"2020-06-01T00:00:00\"], \"xaxis\": \"x\", \"y\": [1.75, 1.75, 1.75, 1.75, 1.75, 1.75, 1.75, 1.75, 1.75, 1.75, 1.75, 1.75, 1.75, 1.75, 1.75, 1.75, 1.75, 1.75, 1.75, 1.75, 1.75, 1.75, 1.75, 1.75, 1.75, 1.75, 1.75, 1.75, 1.75, 1.75, 1.75, 1.75, 1.75, 1.75, 1.75, 1.75, 1.75, 1.75, 1.75, 1.75, 1.75, 1.75, 1.75, 1.75, 1.75, 1.75, 1.75, 1.75, 1.75, 1.75, 1.75, 1.75, 1.75, 1.75, 1.75, 1.75, 1.75, 1.75, 1.75, 1.75, 1.75, 1.75, 1.75, 1.75, 1.75, 1.75, 1.75, 1.75, 1.75, 1.75, 1.75, 1.75, 1.75, 1.75, 1.75, 1.75, 1.75, 1.75, 1.75, 1.75, 1.75, 1.75, 1.75, 1.75, 1.75, 1.75, 1.75, 1.75, 1.75, 1.75, 1.75, 1.75, 1.75, 1.75, 1.75, 1.75, 1.75, 1.75, 1.75, 1.75, 1.75, 1.75, 1.75, 1.75, 1.75, 1.75, 1.75, 1.75, 1.75, 1.75, 1.75, 1.75, 1.75, 1.75, 1.75, 1.75, 1.75, 1.75, 1.75, 1.75, 1.75, 1.75, 1.75, 1.75, 1.75, 1.75, 1.75, 1.75, 1.75, 1.75, 1.75, 1.75, 1.75, 1.75, 1.75, 1.75, 1.75, 1.75, 1.75, 1.75, 1.75, 1.75, 1.75, 1.75, 1.75, 1.75, 1.75, 1.75, 1.75, 1.75, 1.75, 1.75, 1.75, 1.75, 1.75, 1.75, 1.75, 1.75, 1.75, 1.75, 1.75, 1.75, 1.75, 1.75, 1.75, 1.75, 1.75, 1.75, 1.75, 1.75, 1.75, 1.75, 1.75, 1.75, 1.75, 1.75, 1.75, 1.75, 1.75, 1.75, 1.75, 1.75, 1.75, 1.75, 1.75, 1.75, 1.75, 1.75, 1.75, 1.75, 1.75, 1.75, 1.75, 1.75, 1.75, 1.75, 1.75, 1.75, 1.25, 1.25, 1.25, 1.25, 1.25, 1.25, 1.25, 1.25, 0.75, 0.75, 0.75, 0.75, 0.75, 0.75, 0.75, 0.75, 0.75, 0.25, 0.25, 0.25, 0.25, 0.25, 0.25, 0.25, 0.25, 0.25, 0.25, 0.25, 0.25, 0.25, 0.25, 0.25, 0.25, 0.25, 0.25, 0.25, 0.25, 0.25, 0.25, 0.25, 0.25, 0.25, 0.25, 0.25, 0.25, 0.25, 0.25, 0.25, 0.25, 0.25, 0.25, 0.25, 0.25, 0.25, 0.25, 0.25, 0.25, 0.25, 0.25, 0.25, 0.25, 0.25, 0.25, 0.25], \"yaxis\": \"y\"}, {\"marker\": {\"color\": \"green\"}, \"mode\": \"markers\", \"name\": \"Sentiment Score\", \"opacity\": 0.5, \"type\": \"scatter\", \"x\": [\"2020-05-16T00:00:00\", \"2020-05-14T00:00:00\", \"2020-05-13T00:00:00\", \"2020-05-06T00:00:00\", \"2020-05-05T00:00:00\", \"2020-05-04T00:00:00\", \"2020-04-29T00:00:00\", \"2020-04-17T00:00:00\", \"2020-04-14T00:00:00\", \"2020-04-10T00:00:00\", \"2020-04-07T00:00:00\", \"2020-04-06T00:00:00\", \"2020-04-04T00:00:00\", \"2020-04-01T00:00:00\", \"2020-03-20T00:00:00\", \"2020-03-19T00:00:00\", \"2020-03-16T00:00:00\", \"2020-03-16T00:00:00\", \"2020-03-11T00:00:00\", \"2020-03-10T00:00:00\", \"2020-03-05T00:00:00\", \"2020-03-02T00:00:00\", \"2020-02-27T00:00:00\", \"2020-02-19T00:00:00\", \"2020-02-17T00:00:00\", \"2020-02-12T00:00:00\", \"2020-02-06T00:00:00\", \"2020-02-05T00:00:00\", \"2020-02-04T00:00:00\", \"2020-02-02T00:00:00\", \"2020-01-22T00:00:00\", \"2020-01-22T00:00:00\", \"2020-01-22T00:00:00\", \"2020-01-21T00:00:00\", \"2020-01-20T00:00:00\", \"2020-01-20T00:00:00\", \"2020-01-13T00:00:00\", \"2020-01-07T00:00:00\", \"2019-12-23T00:00:00\", \"2019-12-20T00:00:00\", \"2019-12-12T00:00:00\", \"2019-12-12T00:00:00\", \"2019-12-12T00:00:00\", \"2019-12-11T00:00:00\", \"2019-12-09T00:00:00\", \"2019-12-09T00:00:00\", \"2019-11-29T00:00:00\", \"2019-11-29T00:00:00\", \"2019-11-28T00:00:00\", \"2019-11-27T00:00:00\", \"2019-11-20T00:00:00\", \"2019-11-19T00:00:00\", \"2019-11-15T00:00:00\", \"2019-11-12T00:00:00\", \"2019-10-25T00:00:00\", \"2019-10-25T00:00:00\", \"2019-10-25T00:00:00\", \"2019-10-15T00:00:00\", \"2019-10-13T00:00:00\", \"2019-10-10T00:00:00\", \"2019-10-07T00:00:00\", \"2019-10-02T00:00:00\", \"2019-09-20T00:00:00\", \"2019-09-18T00:00:00\", \"2019-09-17T00:00:00\", \"2019-09-16T00:00:00\", \"2019-09-12T00:00:00\", \"2019-09-12T00:00:00\", \"2019-09-09T00:00:00\", \"2019-09-04T00:00:00\", \"2019-08-21T00:00:00\", \"2019-08-15T00:00:00\", \"2019-08-09T00:00:00\", \"2019-08-09T00:00:00\", \"2019-08-06T00:00:00\", \"2019-08-05T00:00:00\", \"2019-08-04T00:00:00\", \"2019-08-01T00:00:00\", \"2019-07-31T00:00:00\", \"2019-07-19T00:00:00\", \"2019-07-14T00:00:00\", \"2019-07-11T00:00:00\", \"2019-07-10T00:00:00\", \"2019-07-08T00:00:00\", \"2019-07-05T00:00:00\", \"2019-07-02T00:00:00\", \"2019-06-30T00:00:00\", \"2019-06-28T00:00:00\", \"2019-06-28T00:00:00\", \"2019-06-24T00:00:00\", \"2019-06-24T00:00:00\", \"2019-06-19T00:00:00\", \"2019-06-05T00:00:00\", \"2019-06-03T00:00:00\", \"2019-05-28T00:00:00\", \"2019-05-27T00:00:00\", \"2019-05-23T00:00:00\", \"2019-05-22T00:00:00\", \"2019-05-21T00:00:00\", \"2019-04-15T00:00:00\", \"2019-04-09T00:00:00\", \"2019-04-01T00:00:00\", \"2019-03-29T00:00:00\", \"2019-03-18T00:00:00\", \"2019-03-01T00:00:00\", \"2019-02-14T00:00:00\", \"2019-02-11T00:00:00\", \"2019-02-01T00:00:00\", \"2019-01-29T00:00:00\", \"2019-01-16T00:00:00\", \"2019-01-09T00:00:00\", \"2018-12-18T00:00:00\", \"2018-12-17T00:00:00\", \"2018-12-04T00:00:00\", \"2018-11-20T00:00:00\", \"2018-11-19T00:00:00\", \"2018-11-15T00:00:00\", \"2020-04-29T00:00:00\", \"2020-04-29T00:00:00\", \"2020-04-15T00:00:00\", \"2020-04-14T00:00:00\", \"2020-04-02T00:00:00\", \"2020-03-30T00:00:00\", \"2020-03-30T00:00:00\", \"2020-03-28T00:00:00\", \"2020-03-27T00:00:00\", \"2020-03-27T00:00:00\", \"2020-03-26T00:00:00\", \"2020-03-26T00:00:00\", \"2020-03-18T00:00:00\", \"2020-03-18T00:00:00\", \"2020-03-18T00:00:00\", \"2020-03-18T00:00:00\", \"2020-03-17T00:00:00\", \"2020-03-16T00:00:00\", \"2020-03-15T00:00:00\", \"2020-03-15T00:00:00\", \"2020-03-13T00:00:00\", \"2020-03-11T00:00:00\", \"2020-03-09T00:00:00\", \"2020-03-09T00:00:00\", \"2020-03-06T00:00:00\", \"2020-03-05T00:00:00\", \"2020-03-05T00:00:00\", \"2020-03-05T00:00:00\", \"2020-03-05T00:00:00\", \"2020-03-04T00:00:00\", \"2020-03-04T00:00:00\", \"2020-03-04T00:00:00\", \"2020-03-04T00:00:00\", \"2020-03-04T00:00:00\", \"2020-03-04T00:00:00\", \"2020-03-04T00:00:00\", \"2020-03-04T00:00:00\", \"2020-03-04T00:00:00\", \"2020-03-04T00:00:00\", \"2020-03-03T00:00:00\", \"2020-03-03T00:00:00\", \"2020-03-03T00:00:00\", \"2020-03-03T00:00:00\", \"2020-03-03T00:00:00\", \"2020-03-03T00:00:00\", \"2020-03-03T00:00:00\", \"2020-03-03T00:00:00\", \"2020-03-02T00:00:00\", \"2020-03-02T00:00:00\", \"2020-03-02T00:00:00\", \"2020-03-02T00:00:00\", \"2020-03-02T00:00:00\", \"2020-02-26T00:00:00\", \"2020-01-30T00:00:00\", \"2020-01-29T00:00:00\", \"2020-01-29T00:00:00\", \"2020-01-24T00:00:00\", \"2020-01-23T00:00:00\", \"2020-01-23T00:00:00\", \"2020-01-23T00:00:00\", \"2020-01-22T00:00:00\", \"2020-01-21T00:00:00\", \"2020-01-20T00:00:00\", \"2020-01-18T00:00:00\", \"2020-01-17T00:00:00\", \"2020-01-15T00:00:00\", \"2020-01-14T00:00:00\", \"2020-01-10T00:00:00\", \"2020-01-09T00:00:00\", \"2020-01-07T00:00:00\", \"2020-01-06T00:00:00\", \"2020-01-06T00:00:00\", \"2019-12-31T00:00:00\", \"2019-12-20T00:00:00\", \"2019-12-19T00:00:00\", \"2019-12-18T00:00:00\", \"2019-12-18T00:00:00\", \"2019-12-16T00:00:00\", \"2019-12-13T00:00:00\", \"2019-12-13T00:00:00\", \"2019-12-13T00:00:00\", \"2019-12-12T00:00:00\", \"2019-12-11T00:00:00\", \"2019-12-11T00:00:00\", \"2019-12-11T00:00:00\", \"2019-12-11T00:00:00\", \"2019-12-10T00:00:00\", \"2019-12-06T00:00:00\", \"2019-12-06T00:00:00\", \"2019-12-03T00:00:00\", \"2019-11-28T00:00:00\", \"2019-11-25T00:00:00\", \"2019-11-21T00:00:00\", \"2019-11-20T00:00:00\", \"2019-11-20T00:00:00\", \"2019-11-20T00:00:00\", \"2019-11-18T00:00:00\", \"2019-11-14T00:00:00\", \"2019-11-14T00:00:00\", \"2019-11-11T00:00:00\", \"2019-11-11T00:00:00\", \"2019-11-06T00:00:00\", \"2019-11-05T00:00:00\", \"2019-11-05T00:00:00\", \"2019-11-04T00:00:00\", \"2019-10-31T00:00:00\", \"2019-10-30T00:00:00\", \"2019-10-30T00:00:00\", \"2019-10-30T00:00:00\", \"2019-10-30T00:00:00\", \"2019-10-28T00:00:00\", \"2019-10-24T00:00:00\", \"2019-10-22T00:00:00\", \"2019-10-21T00:00:00\", \"2019-10-18T00:00:00\", \"2019-10-17T00:00:00\", \"2019-10-16T00:00:00\", \"2019-10-16T00:00:00\", \"2019-10-15T00:00:00\", \"2019-10-11T00:00:00\", \"2019-10-10T00:00:00\", \"2019-10-09T00:00:00\", \"2019-10-08T00:00:00\", \"2019-10-08T00:00:00\", \"2019-10-07T00:00:00\", \"2019-10-07T00:00:00\", \"2019-10-04T00:00:00\", \"2019-10-03T00:00:00\", \"2019-10-02T00:00:00\", \"2019-10-02T00:00:00\", \"2019-10-01T00:00:00\", \"2019-10-01T00:00:00\", \"2019-10-01T00:00:00\", \"2019-09-30T00:00:00\", \"2019-09-30T00:00:00\", \"2019-09-30T00:00:00\", \"2019-09-26T00:00:00\", \"2019-09-19T00:00:00\", \"2019-09-19T00:00:00\", \"2019-09-18T00:00:00\", \"2019-09-16T00:00:00\", \"2019-09-12T00:00:00\", \"2019-09-10T00:00:00\", \"2019-09-09T00:00:00\", \"2019-09-04T00:00:00\", \"2019-09-04T00:00:00\", \"2019-08-27T00:00:00\", \"2019-08-26T00:00:00\", \"2019-08-26T00:00:00\", \"2019-08-26T00:00:00\", \"2019-08-23T00:00:00\", \"2019-08-23T00:00:00\", \"2019-08-21T00:00:00\", \"2019-08-14T00:00:00\", \"2019-08-09T00:00:00\", \"2019-08-09T00:00:00\", \"2019-08-08T00:00:00\", \"2019-08-07T00:00:00\", \"2019-08-07T00:00:00\", \"2019-07-31T00:00:00\", \"2019-07-29T00:00:00\", \"2019-07-26T00:00:00\", \"2019-07-11T00:00:00\", \"2019-07-08T00:00:00\", \"2019-07-05T00:00:00\", \"2019-07-04T00:00:00\", \"2019-07-03T00:00:00\", \"2019-07-03T00:00:00\", \"2019-07-02T00:00:00\", \"2019-06-26T00:00:00\", \"2019-06-26T00:00:00\", \"2019-06-25T00:00:00\", \"2019-06-25T00:00:00\", \"2019-06-20T00:00:00\", \"2019-06-20T00:00:00\", \"2019-06-19T00:00:00\", \"2019-06-19T00:00:00\", \"2019-06-18T00:00:00\", \"2019-06-18T00:00:00\", \"2019-06-14T00:00:00\", \"2019-06-11T00:00:00\", \"2019-06-06T00:00:00\", \"2019-06-04T00:00:00\", \"2019-06-04T00:00:00\", \"2019-06-04T00:00:00\", \"2019-05-31T00:00:00\", \"2019-05-17T00:00:00\", \"2019-05-10T00:00:00\", \"2019-04-26T00:00:00\", \"2019-04-24T00:00:00\", \"2019-04-15T00:00:00\", \"2019-04-15T00:00:00\", \"2019-04-15T00:00:00\", \"2019-04-09T00:00:00\", \"2019-04-01T00:00:00\", \"2019-04-01T00:00:00\", \"2019-03-22T00:00:00\", \"2019-03-21T00:00:00\", \"2019-03-20T00:00:00\", \"2019-03-08T00:00:00\", \"2019-03-06T00:00:00\", \"2019-03-06T00:00:00\", \"2019-03-01T00:00:00\", \"2019-02-25T00:00:00\", \"2019-02-20T00:00:00\", \"2019-02-20T00:00:00\", \"2019-02-19T00:00:00\", \"2019-02-04T00:00:00\", \"2019-01-31T00:00:00\", \"2019-01-30T00:00:00\", \"2019-01-23T00:00:00\", \"2019-01-22T00:00:00\", \"2019-01-21T00:00:00\", \"2019-01-18T00:00:00\", \"2019-01-17T00:00:00\", \"2019-01-16T00:00:00\", \"2019-01-15T00:00:00\", \"2019-01-15T00:00:00\", \"2019-01-15T00:00:00\", \"2019-01-09T00:00:00\", \"2019-01-08T00:00:00\", \"2019-01-04T00:00:00\", \"2019-01-02T00:00:00\", \"2018-12-28T00:00:00\", \"2018-12-21T00:00:00\", \"2018-12-21T00:00:00\", \"2018-12-20T00:00:00\", \"2018-12-19T00:00:00\", \"2018-12-13T00:00:00\", \"2018-11-30T00:00:00\", \"2018-11-16T00:00:00\", \"2020-05-18T00:00:00\", \"2020-05-14T00:00:00\", \"2020-05-13T00:00:00\", \"2020-05-08T00:00:00\", \"2020-05-06T00:00:00\", \"2020-04-29T00:00:00\", \"2020-04-16T00:00:00\", \"2020-04-15T00:00:00\", \"2020-04-06T00:00:00\", \"2020-04-04T00:00:00\", \"2020-04-04T00:00:00\", \"2020-04-03T00:00:00\", \"2020-04-03T00:00:00\", \"2020-04-02T00:00:00\", \"2020-03-27T00:00:00\", \"2020-03-26T00:00:00\", \"2020-03-25T00:00:00\", \"2020-03-21T00:00:00\", \"2020-03-15T00:00:00\", \"2020-03-15T00:00:00\", \"2020-03-12T00:00:00\", \"2020-03-11T00:00:00\", \"2020-03-11T00:00:00\", \"2020-03-09T00:00:00\", \"2020-03-05T00:00:00\", \"2020-03-05T00:00:00\", \"2020-03-04T00:00:00\", \"2020-03-03T00:00:00\", \"2020-03-03T00:00:00\", \"2020-03-03T00:00:00\", \"2020-03-03T00:00:00\", \"2020-03-01T00:00:00\", \"2020-02-25T00:00:00\", \"2020-02-22T00:00:00\", \"2020-02-16T00:00:00\", \"2020-02-13T00:00:00\", \"2020-02-12T00:00:00\", \"2020-02-11T00:00:00\", \"2020-02-09T00:00:00\", \"2020-02-06T00:00:00\", \"2020-01-29T00:00:00\", \"2020-01-22T00:00:00\", \"2020-01-17T00:00:00\", \"2020-01-06T00:00:00\", \"2020-01-03T00:00:00\", \"2019-12-19T00:00:00\", \"2019-12-12T00:00:00\", \"2019-12-11T00:00:00\", \"2019-12-10T00:00:00\", \"2019-12-08T00:00:00\", \"2019-12-06T00:00:00\", \"2019-12-05T00:00:00\", \"2019-12-04T00:00:00\", \"2019-12-03T00:00:00\", \"2019-12-02T00:00:00\", \"2019-11-29T00:00:00\", \"2019-11-26T00:00:00\", \"2019-11-26T00:00:00\", \"2019-11-20T00:00:00\", \"2019-11-18T00:00:00\", \"2019-11-15T00:00:00\", \"2019-11-14T00:00:00\", \"2019-11-14T00:00:00\", \"2019-11-13T00:00:00\", \"2019-11-08T00:00:00\", \"2019-11-02T00:00:00\", \"2019-11-01T00:00:00\", \"2019-10-30T00:00:00\", \"2019-10-30T00:00:00\", \"2019-10-28T00:00:00\", \"2019-10-21T00:00:00\", \"2019-10-18T00:00:00\", \"2019-10-16T00:00:00\", \"2019-10-16T00:00:00\", \"2019-10-11T00:00:00\", \"2019-10-07T00:00:00\", \"2019-10-03T00:00:00\", \"2019-09-22T00:00:00\", \"2019-09-19T00:00:00\", \"2019-09-18T00:00:00\", \"2019-09-17T00:00:00\", \"2019-09-16T00:00:00\", \"2019-09-16T00:00:00\", \"2019-09-13T00:00:00\", \"2019-09-10T00:00:00\", \"2019-09-06T00:00:00\", \"2019-09-04T00:00:00\", \"2019-08-27T00:00:00\", \"2019-08-20T00:00:00\", \"2019-08-20T00:00:00\", \"2019-08-20T00:00:00\", \"2019-08-17T00:00:00\", \"2019-08-17T00:00:00\", \"2019-08-08T00:00:00\", \"2019-08-02T00:00:00\", \"2019-07-31T00:00:00\", \"2019-07-31T00:00:00\", \"2019-07-30T00:00:00\", \"2019-07-25T00:00:00\", \"2019-07-17T00:00:00\", \"2019-07-16T00:00:00\", \"2019-07-11T00:00:00\", \"2019-07-10T00:00:00\", \"2019-07-08T00:00:00\", \"2019-07-05T00:00:00\", \"2019-07-05T00:00:00\", \"2019-07-05T00:00:00\", \"2019-06-27T00:00:00\", \"2019-06-22T00:00:00\", \"2019-06-20T00:00:00\", \"2019-06-07T00:00:00\", \"2019-06-04T00:00:00\", \"2019-06-03T00:00:00\", \"2019-05-29T00:00:00\", \"2019-05-29T00:00:00\"], \"xaxis\": \"x\", \"y\": [-1.5, -1.5, 0.0, 0.0, -1.5, 0.0, -1.5, 1.5, -1.5, 0.0, -1.5, 0.0, 0.0, -1.5, 0.0, -1.5, -1.5, -1.5, 0.0, -1.5, -1.5, -1.5, -1.5, 0.0, 0.0, 0.0, 0.0, 0.0, -1.5, -1.5, 0.0, -1.5, 0.0, -1.5, 0.0, 0.0, 0.0, 0.0, 0.0, 0.0, -1.5, 0.0, -1.5, 0.0, 0.0, 0.0, 0.0, 0.0, -1.5, 1.5, 1.5, -1.5, 0.0, 0.0, 1.5, 0.0, -1.5, -1.5, 0.0, 0.0, 0.0, 1.5, -1.5, 0.0, 0.0, -1.5, 0.0, -1.5, 0.0, 0.0, 0.0, 0.0, 0.0, 0.0, -1.5, -1.5, 1.5, 0.0, 0.0, -1.5, 0.0, 0.0, 0.0, 1.5, 0.0, 0.0, -1.5, 0.0, 1.5, 0.0, 0.0, 1.5, 0.0, 0.0, 0.0, 0.0, -1.5, 0.0, 0.0, -1.5, -1.5, -1.5, 1.5, -1.5, 0.0, 1.5, -1.5, 0.0, 0.0, 0.0, 0.0, 0.0, 0.0, -1.5, 0.0, 0.0, 0.0, -1.4683151245117188, -1.4818131923675537, -1.4687644839286804, -1.4634064435958862, -1.4108120203018188, -1.496006429195404, -1.4960870742797852, -1.4824767112731934, -1.48220694065094, -1.4904828071594238, -1.4512472152709959, -1.4593190550804138, -1.4866226315498352, 1.0233885049819946, -1.489054799079895, 1.3823636174201963, -1.1628398895263672, 1.0349509716033936, -1.4108346700668335, 1.0096962451934814, -1.4967854022979736, -1.239102840423584, -1.346242904663086, -1.3385263085365295, -1.459164798259735, -1.3078707456588743, -1.3320425152778623, -1.4954906105995178, -1.4918662905693054, -1.488759994506836, -1.24726140499115, -1.445267140865326, -1.486204743385315, -1.4868621826171875, 1.0024464130401611, -1.4599080681800842, -1.426760733127594, -1.4044412970542908, -1.191991090774536, -1.4962354302406309, -0.022702443413436413, -1.3789582848548891, -1.4817968606948853, -1.4750465154647827, -1.497636795043945, -1.497539520263672, -1.4951971173286438, -1.4835996627807615, -0.30269890278577805, -1.4912227392196655, -1.0711686611175537, -1.455136775970459, -1.4472461342811584, -1.4643130898475647, -1.3466267585754397, -1.4885045886039734, -1.4915114045143127, 0.9574093222618104, -1.4628388285636902, -1.492689073085785, -1.4557995200157166, -1.4167442917823792, -1.487895131111145, -1.4488927721977234, -1.4918295741081238, -1.0258077383041382, -1.4944663643836975, -1.4831725358963013, -1.4405280351638794, -1.4693830013275146, -1.4832180738449097, -1.3772408962249756, -1.4655722975730896, -1.0497724413871763, -1.4816680550575256, -1.4919506311416626, -1.460590124130249, -1.0005382895469666, -1.4723873734474182, -1.4604279398918152, -1.4555872082710266, -1.4897063970565796, -1.4898185133934019, -1.4284493923187256, -1.4977528452873232, -1.162378966808319, -1.477896809577942, -1.4622162580490112, 0.21586258709430692, -1.3590514063835144, -1.4968488812446594, 1.3585763573646543, -1.4746431112289429, -1.4803590774536133, -1.447998046875, -1.3936944007873535, 1.3671354055404663, -1.4348193407058716, 0.06392174959182742, -1.4809664487838743, -1.3558822274208069, -1.4966316819190981, -1.4968268275260923, -1.1739662885665894, -1.4107518196105957, -1.4388367533683777, -1.4791496396064758, -1.3969825506210327, -1.4406973123550415, -1.4882531762123108, -1.4333474040031433, -1.49026757478714, -0.041326582431793164, -1.4986814856529236, -1.008846640586853, -1.4058809280395508, -1.4954476952552795, -0.9833950102329254, -1.4807608127593994, -1.397202551364899, -1.471190094947815, -1.4813864827156067, -1.4884935021400452, -1.4541098475456238, -0.1431766897439956, -1.4898536801338196, -1.4972641468048096, -1.4639339447021484, -1.4889812469482422, -1.4541807174682615, -1.4315539598464966, -1.4912952184677124, -1.3156275153160095, -1.3472251892089844, -1.2728689312934875, -1.3073822855949402, -1.1247559785842896, -1.4882408380508425, -1.4959635734558103, -1.490458607673645, 1.14924955368042, -1.3842570781707764, -1.4732147455215454, -1.1862097382545471, -1.4646298289299011, -1.4671412706375122, -1.4553110003471377, -1.2835177183151243, -1.4636775851249697, -1.4928763508796692, -1.4611924290657043, -1.4536277055740356, -1.4739893674850464, -1.487616002559662, -1.263207197189331, -1.4828815460205078, 1.3641000986099243, -1.4942260384559631, -1.445416510105133, -1.2612217664718628, 1.1570201516151428, -0.9340306818485259, -1.4875062704086304, -1.413043200969696, -1.4553691148757937, -1.475605010986328, -1.2172589302062988, -0.04206804186105725, -1.467419445514679, -1.4751519560813904, -1.1260287165641785, -1.1062710881233215, -1.3111994862556458, -1.4081818461418152, 0.3415573686361313, -1.383362591266632, -1.268319308757782, -0.20077674090862274, -1.4958236217498782, -1.3981194496154783, 0.2781561017036438, 0.003996714949607849, -1.0773119926452637, -1.2473877668380735, -1.3713741898536682, -1.4592758417129517, 1.39719420671463, -1.4945874214172363, -1.1642679572105408, -1.4626274704933169, -1.4246641993522644, -1.302919626235962, -1.4940273761749268, -1.3254411816596985, 1.0081776976585388, 1.1041517853736875, -1.4775766730308533, 0.9343876838684082, -1.4777686595916748, -1.492027461528778, -1.4611859321594238, -1.421220064163208, -1.4408833980560305, -1.4554929733276367, -1.449923574924469, -1.4078974127769468, -1.2930588126182556, -1.3928277492523191, -1.2300317883491516, -1.3994871377944946, -1.4567667841911316, -1.211540460586548, -1.4763799905776978, -1.3271567821502686, -1.4763026237487793, -1.1389800906181335, -1.4481654167175293, -1.2673115134239197, -0.12899740040302282, 1.1206945776939392, -1.3488296270370483, -1.3532964587211609, 1.3491231203079224, -1.4905622601509094, -1.481797456741333, -1.272308886051178, -1.4707533717155457, -1.029288113117218, -1.4673941135406494, -1.3470120429992676, -1.021562397480011, -1.1859960556030271, -1.1891990303993225, -1.4738775491714478, -0.20558993518352509, -1.4326344728469849, -1.4537996649742126, -1.4830925464630127, -1.0794246792793274, -1.4979329109191897, -1.4964648485183716, -1.414334237575531, -0.9325861632823944, -1.4797326326370241, -1.4348241686820984, -1.4957606196403503, 0.019974973052740097, 1.0741904377937317, 0.20769794285297394, -1.4861948490142822, 0.986150085926056, 0.04073728621006012, -1.4909834861755369, -1.4948387742042542, -1.281525194644928, -1.3450673818588257, -1.467278003692627, -1.491866409778595, -1.1885100603103638, -1.466667354106903, -1.0708894729614258, -1.495846688747406, -1.4365554451942444, 0.1923990398645401, -0.3781587183475494, -1.4733077883720398, -1.4938480257987976, -1.4984188079833984, -0.08431307412683962, -1.2233072519302368, -0.2209878154098988, -1.3357903361320496, -1.1210172772407532, -1.3788607120513916, -1.1872628331184387, 0.0074556577019393435, -1.2152209877967834, 1.0441216230392456, 1.0120437741279602, 1.1263619661331177, -1.3023983836174011, -0.07119139097630979, -1.4242563843727112, 0.008404538035392733, -1.4216344356536863, 0.05345308594405651, -1.4300835728645325, -1.4046415090560913, -1.4938645958900452, -1.1658294200897217, -1.4727674126625059, -1.371609628200531, -1.3601900935173037, 0.024392109364271167, -1.4033464789390564, -1.3768009543418884, -1.2848215699195862, -1.001880407333374, -1.4377068281173706, -1.428741633892059, -1.3117189407348633, 1.1118239164352417, 0.8706878423690796, 0.01899129524827004, -1.1677052974700928, -1.3724874258041382, -1.4703630208969116, -1.477318823337555, -1.4358419179916382, -1.4670463800430298, -1.48216313123703, -1.0780017971992493, -1.4560559391975405, -1.1912057399749756, -1.2952191233634949, 0.07753784768283366, -0.1359410136938095, -1.3653278946876526, -1.4556376934051514, -0.021921386942267414, 0.07632870972156525, -1.4880865812301636, -1.4537758231163025, -1.2924529314041138, -0.0023841196671128273, -0.11374065279960635, -1.4486374855041504, -1.379200100898743, -1.1217445731163025, -1.4776366949081419, -1.2001571655273438, -1.4222680330276491, -0.33764428272843355, -1.3028564453125, -1.4822188019752502, 1.1392205953598022, -1.4532155990600586, -1.378044843673706, -0.9510474205017091, -1.3571943044662476, -1.4669429063796997, -1.4470824003219604, -1.4232293963432312, -0.014971427619457243, 1.2265042662620544, 0.06157826632261276], \"yaxis\": \"y2\"}],\n",
       "                        {\"template\": {\"data\": {\"bar\": [{\"error_x\": {\"color\": \"#2a3f5f\"}, \"error_y\": {\"color\": \"#2a3f5f\"}, \"marker\": {\"line\": {\"color\": \"#E5ECF6\", \"width\": 0.5}}, \"type\": \"bar\"}], \"barpolar\": [{\"marker\": {\"line\": {\"color\": \"#E5ECF6\", \"width\": 0.5}}, \"type\": \"barpolar\"}], \"carpet\": [{\"aaxis\": {\"endlinecolor\": \"#2a3f5f\", \"gridcolor\": \"white\", \"linecolor\": \"white\", \"minorgridcolor\": \"white\", \"startlinecolor\": \"#2a3f5f\"}, \"baxis\": {\"endlinecolor\": \"#2a3f5f\", \"gridcolor\": \"white\", \"linecolor\": \"white\", \"minorgridcolor\": \"white\", \"startlinecolor\": \"#2a3f5f\"}, \"type\": \"carpet\"}], \"choropleth\": [{\"colorbar\": {\"outlinewidth\": 0, \"ticks\": \"\"}, \"type\": \"choropleth\"}], \"contour\": [{\"colorbar\": {\"outlinewidth\": 0, \"ticks\": \"\"}, \"colorscale\": [[0.0, \"#0d0887\"], [0.1111111111111111, \"#46039f\"], [0.2222222222222222, \"#7201a8\"], [0.3333333333333333, \"#9c179e\"], [0.4444444444444444, \"#bd3786\"], [0.5555555555555556, \"#d8576b\"], [0.6666666666666666, \"#ed7953\"], [0.7777777777777778, \"#fb9f3a\"], [0.8888888888888888, \"#fdca26\"], [1.0, \"#f0f921\"]], \"type\": \"contour\"}], \"contourcarpet\": [{\"colorbar\": {\"outlinewidth\": 0, \"ticks\": \"\"}, \"type\": \"contourcarpet\"}], \"heatmap\": [{\"colorbar\": {\"outlinewidth\": 0, \"ticks\": \"\"}, \"colorscale\": [[0.0, \"#0d0887\"], [0.1111111111111111, \"#46039f\"], [0.2222222222222222, \"#7201a8\"], [0.3333333333333333, \"#9c179e\"], [0.4444444444444444, \"#bd3786\"], [0.5555555555555556, \"#d8576b\"], [0.6666666666666666, \"#ed7953\"], [0.7777777777777778, \"#fb9f3a\"], [0.8888888888888888, \"#fdca26\"], [1.0, \"#f0f921\"]], \"type\": \"heatmap\"}], \"heatmapgl\": [{\"colorbar\": {\"outlinewidth\": 0, \"ticks\": \"\"}, \"colorscale\": [[0.0, \"#0d0887\"], [0.1111111111111111, \"#46039f\"], [0.2222222222222222, \"#7201a8\"], [0.3333333333333333, \"#9c179e\"], [0.4444444444444444, \"#bd3786\"], [0.5555555555555556, \"#d8576b\"], [0.6666666666666666, \"#ed7953\"], [0.7777777777777778, \"#fb9f3a\"], [0.8888888888888888, \"#fdca26\"], [1.0, \"#f0f921\"]], \"type\": \"heatmapgl\"}], \"histogram\": [{\"marker\": {\"colorbar\": {\"outlinewidth\": 0, \"ticks\": \"\"}}, \"type\": \"histogram\"}], \"histogram2d\": [{\"colorbar\": {\"outlinewidth\": 0, \"ticks\": \"\"}, \"colorscale\": [[0.0, \"#0d0887\"], [0.1111111111111111, \"#46039f\"], [0.2222222222222222, \"#7201a8\"], [0.3333333333333333, \"#9c179e\"], [0.4444444444444444, \"#bd3786\"], [0.5555555555555556, \"#d8576b\"], [0.6666666666666666, \"#ed7953\"], [0.7777777777777778, \"#fb9f3a\"], [0.8888888888888888, \"#fdca26\"], [1.0, \"#f0f921\"]], \"type\": \"histogram2d\"}], \"histogram2dcontour\": [{\"colorbar\": {\"outlinewidth\": 0, \"ticks\": \"\"}, \"colorscale\": [[0.0, \"#0d0887\"], [0.1111111111111111, \"#46039f\"], [0.2222222222222222, \"#7201a8\"], [0.3333333333333333, \"#9c179e\"], [0.4444444444444444, \"#bd3786\"], [0.5555555555555556, \"#d8576b\"], [0.6666666666666666, \"#ed7953\"], [0.7777777777777778, \"#fb9f3a\"], [0.8888888888888888, \"#fdca26\"], [1.0, \"#f0f921\"]], \"type\": \"histogram2dcontour\"}], \"mesh3d\": [{\"colorbar\": {\"outlinewidth\": 0, \"ticks\": \"\"}, \"type\": \"mesh3d\"}], \"parcoords\": [{\"line\": {\"colorbar\": {\"outlinewidth\": 0, \"ticks\": \"\"}}, \"type\": \"parcoords\"}], \"pie\": [{\"automargin\": true, \"type\": \"pie\"}], \"scatter\": [{\"marker\": {\"colorbar\": {\"outlinewidth\": 0, \"ticks\": \"\"}}, \"type\": \"scatter\"}], \"scatter3d\": [{\"line\": {\"colorbar\": {\"outlinewidth\": 0, \"ticks\": \"\"}}, \"marker\": {\"colorbar\": {\"outlinewidth\": 0, \"ticks\": \"\"}}, \"type\": \"scatter3d\"}], \"scattercarpet\": [{\"marker\": {\"colorbar\": {\"outlinewidth\": 0, \"ticks\": \"\"}}, \"type\": \"scattercarpet\"}], \"scattergeo\": [{\"marker\": {\"colorbar\": {\"outlinewidth\": 0, \"ticks\": \"\"}}, \"type\": \"scattergeo\"}], \"scattergl\": [{\"marker\": {\"colorbar\": {\"outlinewidth\": 0, \"ticks\": \"\"}}, \"type\": \"scattergl\"}], \"scattermapbox\": [{\"marker\": {\"colorbar\": {\"outlinewidth\": 0, \"ticks\": \"\"}}, \"type\": \"scattermapbox\"}], \"scatterpolar\": [{\"marker\": {\"colorbar\": {\"outlinewidth\": 0, \"ticks\": \"\"}}, \"type\": \"scatterpolar\"}], \"scatterpolargl\": [{\"marker\": {\"colorbar\": {\"outlinewidth\": 0, \"ticks\": \"\"}}, \"type\": \"scatterpolargl\"}], \"scatterternary\": [{\"marker\": {\"colorbar\": {\"outlinewidth\": 0, \"ticks\": \"\"}}, \"type\": \"scatterternary\"}], \"surface\": [{\"colorbar\": {\"outlinewidth\": 0, \"ticks\": \"\"}, \"colorscale\": [[0.0, \"#0d0887\"], [0.1111111111111111, \"#46039f\"], [0.2222222222222222, \"#7201a8\"], [0.3333333333333333, \"#9c179e\"], [0.4444444444444444, \"#bd3786\"], [0.5555555555555556, \"#d8576b\"], [0.6666666666666666, \"#ed7953\"], [0.7777777777777778, \"#fb9f3a\"], [0.8888888888888888, \"#fdca26\"], [1.0, \"#f0f921\"]], \"type\": \"surface\"}], \"table\": [{\"cells\": {\"fill\": {\"color\": \"#EBF0F8\"}, \"line\": {\"color\": \"white\"}}, \"header\": {\"fill\": {\"color\": \"#C8D4E3\"}, \"line\": {\"color\": \"white\"}}, \"type\": \"table\"}]}, \"layout\": {\"annotationdefaults\": {\"arrowcolor\": \"#2a3f5f\", \"arrowhead\": 0, \"arrowwidth\": 1}, \"coloraxis\": {\"colorbar\": {\"outlinewidth\": 0, \"ticks\": \"\"}}, \"colorscale\": {\"diverging\": [[0, \"#8e0152\"], [0.1, \"#c51b7d\"], [0.2, \"#de77ae\"], [0.3, \"#f1b6da\"], [0.4, \"#fde0ef\"], [0.5, \"#f7f7f7\"], [0.6, \"#e6f5d0\"], [0.7, \"#b8e186\"], [0.8, \"#7fbc41\"], [0.9, \"#4d9221\"], [1, \"#276419\"]], \"sequential\": [[0.0, \"#0d0887\"], [0.1111111111111111, \"#46039f\"], [0.2222222222222222, \"#7201a8\"], [0.3333333333333333, \"#9c179e\"], [0.4444444444444444, \"#bd3786\"], [0.5555555555555556, \"#d8576b\"], [0.6666666666666666, \"#ed7953\"], [0.7777777777777778, \"#fb9f3a\"], [0.8888888888888888, \"#fdca26\"], [1.0, \"#f0f921\"]], \"sequentialminus\": [[0.0, \"#0d0887\"], [0.1111111111111111, \"#46039f\"], [0.2222222222222222, \"#7201a8\"], [0.3333333333333333, \"#9c179e\"], [0.4444444444444444, \"#bd3786\"], [0.5555555555555556, \"#d8576b\"], [0.6666666666666666, \"#ed7953\"], [0.7777777777777778, \"#fb9f3a\"], [0.8888888888888888, \"#fdca26\"], [1.0, \"#f0f921\"]]}, \"colorway\": [\"#636efa\", \"#EF553B\", \"#00cc96\", \"#ab63fa\", \"#FFA15A\", \"#19d3f3\", \"#FF6692\", \"#B6E880\", \"#FF97FF\", \"#FECB52\"], \"font\": {\"color\": \"#2a3f5f\"}, \"geo\": {\"bgcolor\": \"white\", \"lakecolor\": \"white\", \"landcolor\": \"#E5ECF6\", \"showlakes\": true, \"showland\": true, \"subunitcolor\": \"white\"}, \"hoverlabel\": {\"align\": \"left\"}, \"hovermode\": \"closest\", \"mapbox\": {\"style\": \"light\"}, \"paper_bgcolor\": \"white\", \"plot_bgcolor\": \"#E5ECF6\", \"polar\": {\"angularaxis\": {\"gridcolor\": \"white\", \"linecolor\": \"white\", \"ticks\": \"\"}, \"bgcolor\": \"#E5ECF6\", \"radialaxis\": {\"gridcolor\": \"white\", \"linecolor\": \"white\", \"ticks\": \"\"}}, \"scene\": {\"xaxis\": {\"backgroundcolor\": \"#E5ECF6\", \"gridcolor\": \"white\", \"gridwidth\": 2, \"linecolor\": \"white\", \"showbackground\": true, \"ticks\": \"\", \"zerolinecolor\": \"white\"}, \"yaxis\": {\"backgroundcolor\": \"#E5ECF6\", \"gridcolor\": \"white\", \"gridwidth\": 2, \"linecolor\": \"white\", \"showbackground\": true, \"ticks\": \"\", \"zerolinecolor\": \"white\"}, \"zaxis\": {\"backgroundcolor\": \"#E5ECF6\", \"gridcolor\": \"white\", \"gridwidth\": 2, \"linecolor\": \"white\", \"showbackground\": true, \"ticks\": \"\", \"zerolinecolor\": \"white\"}}, \"shapedefaults\": {\"line\": {\"color\": \"#2a3f5f\"}}, \"ternary\": {\"aaxis\": {\"gridcolor\": \"white\", \"linecolor\": \"white\", \"ticks\": \"\"}, \"baxis\": {\"gridcolor\": \"white\", \"linecolor\": \"white\", \"ticks\": \"\"}, \"bgcolor\": \"#E5ECF6\", \"caxis\": {\"gridcolor\": \"white\", \"linecolor\": \"white\", \"ticks\": \"\"}}, \"title\": {\"x\": 0.05}, \"xaxis\": {\"automargin\": true, \"gridcolor\": \"white\", \"linecolor\": \"white\", \"ticks\": \"\", \"title\": {\"standoff\": 15}, \"zerolinecolor\": \"white\", \"zerolinewidth\": 2}, \"yaxis\": {\"automargin\": true, \"gridcolor\": \"white\", \"linecolor\": \"white\", \"ticks\": \"\", \"title\": {\"standoff\": 15}, \"zerolinecolor\": \"white\", \"zerolinewidth\": 2}}}, \"title\": {\"text\": \"interest rates VS news sentiment (2019 Jan - 2020 May) \"}, \"xaxis\": {\"anchor\": \"y\", \"domain\": [0.0, 0.94], \"range\": [\"2019-05-31T00:00:00\", \"2020-05-18T00:00:00\"], \"rangeslider\": {\"visible\": true}, \"title\": {\"text\": \"Date\"}}, \"yaxis\": {\"anchor\": \"x\", \"autorange\": false, \"domain\": [0.0, 1.0], \"range\": [0.15, 1.85], \"title\": {\"text\": \"Interest Rate - Overnight Target Rate (Bank of Canada)\"}}, \"yaxis2\": {\"anchor\": \"x\", \"overlaying\": \"y\", \"range\": [-2.5, 2.5], \"side\": \"right\", \"title\": {\"text\": \"Sentiment Score\"}}},\n",
       "                        {\"responsive\": true}\n",
       "                    ).then(function(){\n",
       "                            \n",
       "var gd = document.getElementById('ce17409d-6a74-4ba2-9e10-9b39e18007bc');\n",
       "var x = new MutationObserver(function (mutations, observer) {{\n",
       "        var display = window.getComputedStyle(gd).display;\n",
       "        if (!display || display === 'none') {{\n",
       "            console.log([gd, 'removed!']);\n",
       "            Plotly.purge(gd);\n",
       "            observer.disconnect();\n",
       "        }}\n",
       "}});\n",
       "\n",
       "// Listen for the removal of the full notebook cells\n",
       "var notebookContainer = gd.closest('#notebook-container');\n",
       "if (notebookContainer) {{\n",
       "    x.observe(notebookContainer, {childList: true});\n",
       "}}\n",
       "\n",
       "// Listen for the clearing of the current output cell\n",
       "var outputEl = gd.closest('.output');\n",
       "if (outputEl) {{\n",
       "    x.observe(outputEl, {childList: true});\n",
       "}}\n",
       "\n",
       "                        })\n",
       "                };\n",
       "                });\n",
       "            </script>\n",
       "        </div>"
      ]
     },
     "metadata": {},
     "output_type": "display_data"
    },
    {
     "data": {
      "application/vnd.plotly.v1+json": {
       "config": {
        "plotlyServerURL": "https://plot.ly"
       },
       "data": [
        {
         "line": {
          "color": "blue"
         },
         "mode": "lines",
         "name": "Interest Rate - Overnight Target Rate (Bank of Canada)",
         "type": "scatter",
         "x": [
          "2019-05-31T00:00:00",
          "2019-06-03T00:00:00",
          "2019-06-04T00:00:00",
          "2019-06-05T00:00:00",
          "2019-06-06T00:00:00",
          "2019-06-07T00:00:00",
          "2019-06-10T00:00:00",
          "2019-06-11T00:00:00",
          "2019-06-12T00:00:00",
          "2019-06-13T00:00:00",
          "2019-06-14T00:00:00",
          "2019-06-17T00:00:00",
          "2019-06-18T00:00:00",
          "2019-06-19T00:00:00",
          "2019-06-20T00:00:00",
          "2019-06-21T00:00:00",
          "2019-06-24T00:00:00",
          "2019-06-25T00:00:00",
          "2019-06-26T00:00:00",
          "2019-06-27T00:00:00",
          "2019-06-28T00:00:00",
          "2019-07-01T00:00:00",
          "2019-07-02T00:00:00",
          "2019-07-03T00:00:00",
          "2019-07-04T00:00:00",
          "2019-07-05T00:00:00",
          "2019-07-08T00:00:00",
          "2019-07-09T00:00:00",
          "2019-07-10T00:00:00",
          "2019-07-11T00:00:00",
          "2019-07-12T00:00:00",
          "2019-07-15T00:00:00",
          "2019-07-16T00:00:00",
          "2019-07-17T00:00:00",
          "2019-07-18T00:00:00",
          "2019-07-19T00:00:00",
          "2019-07-22T00:00:00",
          "2019-07-23T00:00:00",
          "2019-07-24T00:00:00",
          "2019-07-25T00:00:00",
          "2019-07-26T00:00:00",
          "2019-07-29T00:00:00",
          "2019-07-30T00:00:00",
          "2019-07-31T00:00:00",
          "2019-08-01T00:00:00",
          "2019-08-02T00:00:00",
          "2019-08-05T00:00:00",
          "2019-08-06T00:00:00",
          "2019-08-07T00:00:00",
          "2019-08-08T00:00:00",
          "2019-08-09T00:00:00",
          "2019-08-12T00:00:00",
          "2019-08-13T00:00:00",
          "2019-08-14T00:00:00",
          "2019-08-15T00:00:00",
          "2019-08-16T00:00:00",
          "2019-08-19T00:00:00",
          "2019-08-20T00:00:00",
          "2019-08-21T00:00:00",
          "2019-08-22T00:00:00",
          "2019-08-23T00:00:00",
          "2019-08-26T00:00:00",
          "2019-08-27T00:00:00",
          "2019-08-28T00:00:00",
          "2019-08-29T00:00:00",
          "2019-08-30T00:00:00",
          "2019-09-02T00:00:00",
          "2019-09-03T00:00:00",
          "2019-09-04T00:00:00",
          "2019-09-05T00:00:00",
          "2019-09-06T00:00:00",
          "2019-09-09T00:00:00",
          "2019-09-10T00:00:00",
          "2019-09-11T00:00:00",
          "2019-09-12T00:00:00",
          "2019-09-13T00:00:00",
          "2019-09-16T00:00:00",
          "2019-09-17T00:00:00",
          "2019-09-18T00:00:00",
          "2019-09-19T00:00:00",
          "2019-09-20T00:00:00",
          "2019-09-23T00:00:00",
          "2019-09-24T00:00:00",
          "2019-09-25T00:00:00",
          "2019-09-26T00:00:00",
          "2019-09-27T00:00:00",
          "2019-09-30T00:00:00",
          "2019-10-01T00:00:00",
          "2019-10-02T00:00:00",
          "2019-10-03T00:00:00",
          "2019-10-04T00:00:00",
          "2019-10-07T00:00:00",
          "2019-10-08T00:00:00",
          "2019-10-09T00:00:00",
          "2019-10-10T00:00:00",
          "2019-10-11T00:00:00",
          "2019-10-14T00:00:00",
          "2019-10-15T00:00:00",
          "2019-10-16T00:00:00",
          "2019-10-17T00:00:00",
          "2019-10-18T00:00:00",
          "2019-10-21T00:00:00",
          "2019-10-22T00:00:00",
          "2019-10-23T00:00:00",
          "2019-10-24T00:00:00",
          "2019-10-25T00:00:00",
          "2019-10-28T00:00:00",
          "2019-10-29T00:00:00",
          "2019-10-30T00:00:00",
          "2019-10-31T00:00:00",
          "2019-11-01T00:00:00",
          "2019-11-04T00:00:00",
          "2019-11-05T00:00:00",
          "2019-11-06T00:00:00",
          "2019-11-07T00:00:00",
          "2019-11-08T00:00:00",
          "2019-11-11T00:00:00",
          "2019-11-12T00:00:00",
          "2019-11-13T00:00:00",
          "2019-11-14T00:00:00",
          "2019-11-15T00:00:00",
          "2019-11-18T00:00:00",
          "2019-11-19T00:00:00",
          "2019-11-20T00:00:00",
          "2019-11-21T00:00:00",
          "2019-11-22T00:00:00",
          "2019-11-25T00:00:00",
          "2019-11-26T00:00:00",
          "2019-11-27T00:00:00",
          "2019-11-28T00:00:00",
          "2019-11-29T00:00:00",
          "2019-12-02T00:00:00",
          "2019-12-03T00:00:00",
          "2019-12-04T00:00:00",
          "2019-12-05T00:00:00",
          "2019-12-06T00:00:00",
          "2019-12-09T00:00:00",
          "2019-12-10T00:00:00",
          "2019-12-11T00:00:00",
          "2019-12-12T00:00:00",
          "2019-12-13T00:00:00",
          "2019-12-16T00:00:00",
          "2019-12-17T00:00:00",
          "2019-12-18T00:00:00",
          "2019-12-19T00:00:00",
          "2019-12-20T00:00:00",
          "2019-12-23T00:00:00",
          "2019-12-24T00:00:00",
          "2019-12-25T00:00:00",
          "2019-12-26T00:00:00",
          "2019-12-27T00:00:00",
          "2019-12-30T00:00:00",
          "2019-12-31T00:00:00",
          "2020-01-01T00:00:00",
          "2020-01-02T00:00:00",
          "2020-01-03T00:00:00",
          "2020-01-06T00:00:00",
          "2020-01-07T00:00:00",
          "2020-01-08T00:00:00",
          "2020-01-09T00:00:00",
          "2020-01-10T00:00:00",
          "2020-01-13T00:00:00",
          "2020-01-14T00:00:00",
          "2020-01-15T00:00:00",
          "2020-01-16T00:00:00",
          "2020-01-17T00:00:00",
          "2020-01-20T00:00:00",
          "2020-01-21T00:00:00",
          "2020-01-22T00:00:00",
          "2020-01-23T00:00:00",
          "2020-01-24T00:00:00",
          "2020-01-27T00:00:00",
          "2020-01-28T00:00:00",
          "2020-01-29T00:00:00",
          "2020-01-30T00:00:00",
          "2020-01-31T00:00:00",
          "2020-02-03T00:00:00",
          "2020-02-04T00:00:00",
          "2020-02-05T00:00:00",
          "2020-02-06T00:00:00",
          "2020-02-07T00:00:00",
          "2020-02-10T00:00:00",
          "2020-02-11T00:00:00",
          "2020-02-12T00:00:00",
          "2020-02-13T00:00:00",
          "2020-02-14T00:00:00",
          "2020-02-17T00:00:00",
          "2020-02-18T00:00:00",
          "2020-02-19T00:00:00",
          "2020-02-20T00:00:00",
          "2020-02-21T00:00:00",
          "2020-02-24T00:00:00",
          "2020-02-25T00:00:00",
          "2020-02-26T00:00:00",
          "2020-02-27T00:00:00",
          "2020-02-28T00:00:00",
          "2020-03-02T00:00:00",
          "2020-03-03T00:00:00",
          "2020-03-04T00:00:00",
          "2020-03-05T00:00:00",
          "2020-03-06T00:00:00",
          "2020-03-09T00:00:00",
          "2020-03-10T00:00:00",
          "2020-03-11T00:00:00",
          "2020-03-12T00:00:00",
          "2020-03-13T00:00:00",
          "2020-03-16T00:00:00",
          "2020-03-17T00:00:00",
          "2020-03-18T00:00:00",
          "2020-03-19T00:00:00",
          "2020-03-20T00:00:00",
          "2020-03-23T00:00:00",
          "2020-03-24T00:00:00",
          "2020-03-25T00:00:00",
          "2020-03-26T00:00:00",
          "2020-03-27T00:00:00",
          "2020-03-30T00:00:00",
          "2020-03-31T00:00:00",
          "2020-04-01T00:00:00",
          "2020-04-02T00:00:00",
          "2020-04-03T00:00:00",
          "2020-04-06T00:00:00",
          "2020-04-07T00:00:00",
          "2020-04-08T00:00:00",
          "2020-04-09T00:00:00",
          "2020-04-10T00:00:00",
          "2020-04-13T00:00:00",
          "2020-04-14T00:00:00",
          "2020-04-15T00:00:00",
          "2020-04-16T00:00:00",
          "2020-04-17T00:00:00",
          "2020-04-20T00:00:00",
          "2020-04-21T00:00:00",
          "2020-04-22T00:00:00",
          "2020-04-23T00:00:00",
          "2020-04-24T00:00:00",
          "2020-04-27T00:00:00",
          "2020-04-28T00:00:00",
          "2020-04-29T00:00:00",
          "2020-04-30T00:00:00",
          "2020-05-01T00:00:00",
          "2020-05-04T00:00:00",
          "2020-05-05T00:00:00",
          "2020-05-06T00:00:00",
          "2020-05-07T00:00:00",
          "2020-05-08T00:00:00",
          "2020-05-11T00:00:00",
          "2020-05-12T00:00:00",
          "2020-05-13T00:00:00",
          "2020-05-14T00:00:00",
          "2020-05-15T00:00:00",
          "2020-05-18T00:00:00",
          "2020-05-19T00:00:00",
          "2020-05-20T00:00:00",
          "2020-05-21T00:00:00",
          "2020-05-22T00:00:00",
          "2020-05-25T00:00:00",
          "2020-05-26T00:00:00",
          "2020-05-27T00:00:00",
          "2020-05-28T00:00:00",
          "2020-05-29T00:00:00",
          "2020-06-01T00:00:00"
         ],
         "xaxis": "x",
         "y": [
          1.75,
          1.75,
          1.75,
          1.75,
          1.75,
          1.75,
          1.75,
          1.75,
          1.75,
          1.75,
          1.75,
          1.75,
          1.75,
          1.75,
          1.75,
          1.75,
          1.75,
          1.75,
          1.75,
          1.75,
          1.75,
          1.75,
          1.75,
          1.75,
          1.75,
          1.75,
          1.75,
          1.75,
          1.75,
          1.75,
          1.75,
          1.75,
          1.75,
          1.75,
          1.75,
          1.75,
          1.75,
          1.75,
          1.75,
          1.75,
          1.75,
          1.75,
          1.75,
          1.75,
          1.75,
          1.75,
          1.75,
          1.75,
          1.75,
          1.75,
          1.75,
          1.75,
          1.75,
          1.75,
          1.75,
          1.75,
          1.75,
          1.75,
          1.75,
          1.75,
          1.75,
          1.75,
          1.75,
          1.75,
          1.75,
          1.75,
          1.75,
          1.75,
          1.75,
          1.75,
          1.75,
          1.75,
          1.75,
          1.75,
          1.75,
          1.75,
          1.75,
          1.75,
          1.75,
          1.75,
          1.75,
          1.75,
          1.75,
          1.75,
          1.75,
          1.75,
          1.75,
          1.75,
          1.75,
          1.75,
          1.75,
          1.75,
          1.75,
          1.75,
          1.75,
          1.75,
          1.75,
          1.75,
          1.75,
          1.75,
          1.75,
          1.75,
          1.75,
          1.75,
          1.75,
          1.75,
          1.75,
          1.75,
          1.75,
          1.75,
          1.75,
          1.75,
          1.75,
          1.75,
          1.75,
          1.75,
          1.75,
          1.75,
          1.75,
          1.75,
          1.75,
          1.75,
          1.75,
          1.75,
          1.75,
          1.75,
          1.75,
          1.75,
          1.75,
          1.75,
          1.75,
          1.75,
          1.75,
          1.75,
          1.75,
          1.75,
          1.75,
          1.75,
          1.75,
          1.75,
          1.75,
          1.75,
          1.75,
          1.75,
          1.75,
          1.75,
          1.75,
          1.75,
          1.75,
          1.75,
          1.75,
          1.75,
          1.75,
          1.75,
          1.75,
          1.75,
          1.75,
          1.75,
          1.75,
          1.75,
          1.75,
          1.75,
          1.75,
          1.75,
          1.75,
          1.75,
          1.75,
          1.75,
          1.75,
          1.75,
          1.75,
          1.75,
          1.75,
          1.75,
          1.75,
          1.75,
          1.75,
          1.75,
          1.75,
          1.75,
          1.75,
          1.75,
          1.75,
          1.75,
          1.75,
          1.75,
          1.75,
          1.75,
          1.75,
          1.75,
          1.75,
          1.75,
          1.75,
          1.75,
          1.75,
          1.75,
          1.75,
          1.75,
          1.25,
          1.25,
          1.25,
          1.25,
          1.25,
          1.25,
          1.25,
          1.25,
          0.75,
          0.75,
          0.75,
          0.75,
          0.75,
          0.75,
          0.75,
          0.75,
          0.75,
          0.25,
          0.25,
          0.25,
          0.25,
          0.25,
          0.25,
          0.25,
          0.25,
          0.25,
          0.25,
          0.25,
          0.25,
          0.25,
          0.25,
          0.25,
          0.25,
          0.25,
          0.25,
          0.25,
          0.25,
          0.25,
          0.25,
          0.25,
          0.25,
          0.25,
          0.25,
          0.25,
          0.25,
          0.25,
          0.25,
          0.25,
          0.25,
          0.25,
          0.25,
          0.25,
          0.25,
          0.25,
          0.25,
          0.25,
          0.25,
          0.25,
          0.25,
          0.25,
          0.25,
          0.25,
          0.25,
          0.25
         ],
         "yaxis": "y"
        },
        {
         "marker": {
          "color": "green"
         },
         "mode": "markers",
         "name": "Predicted Sentiment",
         "opacity": 0.5,
         "type": "scatter",
         "x": [
          "2020-04-29T00:00:00",
          "2020-04-29T00:00:00",
          "2020-04-15T00:00:00",
          "2020-04-14T00:00:00",
          "2020-04-02T00:00:00",
          "2020-03-30T00:00:00",
          "2020-03-30T00:00:00",
          "2020-03-28T00:00:00",
          "2020-03-27T00:00:00",
          "2020-03-27T00:00:00",
          "2020-03-26T00:00:00",
          "2020-03-26T00:00:00",
          "2020-03-18T00:00:00",
          "2020-03-18T00:00:00",
          "2020-03-18T00:00:00",
          "2020-03-18T00:00:00",
          "2020-03-17T00:00:00",
          "2020-03-16T00:00:00",
          "2020-03-15T00:00:00",
          "2020-03-15T00:00:00",
          "2020-03-13T00:00:00",
          "2020-03-11T00:00:00",
          "2020-03-09T00:00:00",
          "2020-03-09T00:00:00",
          "2020-03-06T00:00:00",
          "2020-03-05T00:00:00",
          "2020-03-05T00:00:00",
          "2020-03-05T00:00:00",
          "2020-03-05T00:00:00",
          "2020-03-04T00:00:00",
          "2020-03-04T00:00:00",
          "2020-03-04T00:00:00",
          "2020-03-04T00:00:00",
          "2020-03-04T00:00:00",
          "2020-03-04T00:00:00",
          "2020-03-04T00:00:00",
          "2020-03-04T00:00:00",
          "2020-03-04T00:00:00",
          "2020-03-04T00:00:00",
          "2020-03-03T00:00:00",
          "2020-03-03T00:00:00",
          "2020-03-03T00:00:00",
          "2020-03-03T00:00:00",
          "2020-03-03T00:00:00",
          "2020-03-03T00:00:00",
          "2020-03-03T00:00:00",
          "2020-03-03T00:00:00",
          "2020-03-02T00:00:00",
          "2020-03-02T00:00:00",
          "2020-03-02T00:00:00",
          "2020-03-02T00:00:00",
          "2020-03-02T00:00:00",
          "2020-02-26T00:00:00",
          "2020-01-30T00:00:00",
          "2020-01-29T00:00:00",
          "2020-01-29T00:00:00",
          "2020-01-24T00:00:00",
          "2020-01-23T00:00:00",
          "2020-01-23T00:00:00",
          "2020-01-23T00:00:00",
          "2020-01-22T00:00:00",
          "2020-01-21T00:00:00",
          "2020-01-20T00:00:00",
          "2020-01-18T00:00:00",
          "2020-01-17T00:00:00",
          "2020-01-15T00:00:00",
          "2020-01-14T00:00:00",
          "2020-01-10T00:00:00",
          "2020-01-09T00:00:00",
          "2020-01-07T00:00:00",
          "2020-01-06T00:00:00",
          "2020-01-06T00:00:00",
          "2019-12-31T00:00:00",
          "2019-12-20T00:00:00",
          "2019-12-19T00:00:00",
          "2019-12-18T00:00:00",
          "2019-12-18T00:00:00",
          "2019-12-16T00:00:00",
          "2019-12-13T00:00:00",
          "2019-12-13T00:00:00",
          "2019-12-13T00:00:00",
          "2019-12-12T00:00:00",
          "2019-12-11T00:00:00",
          "2019-12-11T00:00:00",
          "2019-12-11T00:00:00",
          "2019-12-11T00:00:00",
          "2019-12-10T00:00:00",
          "2019-12-06T00:00:00",
          "2019-12-06T00:00:00",
          "2019-12-03T00:00:00",
          "2019-11-28T00:00:00",
          "2019-11-25T00:00:00",
          "2019-11-21T00:00:00",
          "2019-11-20T00:00:00",
          "2019-11-20T00:00:00",
          "2019-11-20T00:00:00",
          "2019-11-18T00:00:00",
          "2019-11-14T00:00:00",
          "2019-11-14T00:00:00",
          "2019-11-11T00:00:00",
          "2019-11-11T00:00:00",
          "2019-11-06T00:00:00",
          "2019-11-05T00:00:00",
          "2019-11-05T00:00:00",
          "2019-11-04T00:00:00",
          "2019-10-31T00:00:00",
          "2019-10-30T00:00:00",
          "2019-10-30T00:00:00",
          "2019-10-30T00:00:00",
          "2019-10-30T00:00:00",
          "2019-10-28T00:00:00",
          "2019-10-24T00:00:00",
          "2019-10-22T00:00:00",
          "2019-10-21T00:00:00",
          "2019-10-18T00:00:00",
          "2019-10-17T00:00:00",
          "2019-10-16T00:00:00",
          "2019-10-16T00:00:00",
          "2019-10-15T00:00:00",
          "2019-10-11T00:00:00",
          "2019-10-10T00:00:00",
          "2019-10-09T00:00:00",
          "2019-10-08T00:00:00",
          "2019-10-08T00:00:00",
          "2019-10-07T00:00:00",
          "2019-10-07T00:00:00",
          "2019-10-04T00:00:00",
          "2019-10-03T00:00:00",
          "2019-10-02T00:00:00",
          "2019-10-02T00:00:00",
          "2019-10-01T00:00:00",
          "2019-10-01T00:00:00",
          "2019-10-01T00:00:00",
          "2019-09-30T00:00:00",
          "2019-09-30T00:00:00",
          "2019-09-30T00:00:00",
          "2019-09-26T00:00:00",
          "2019-09-19T00:00:00",
          "2019-09-19T00:00:00",
          "2019-09-18T00:00:00",
          "2019-09-16T00:00:00",
          "2019-09-12T00:00:00",
          "2019-09-10T00:00:00",
          "2019-09-09T00:00:00",
          "2019-09-04T00:00:00",
          "2019-09-04T00:00:00",
          "2019-08-27T00:00:00",
          "2019-08-26T00:00:00",
          "2019-08-26T00:00:00",
          "2019-08-26T00:00:00",
          "2019-08-23T00:00:00",
          "2019-08-23T00:00:00",
          "2019-08-21T00:00:00",
          "2019-08-14T00:00:00",
          "2019-08-09T00:00:00",
          "2019-08-09T00:00:00",
          "2019-08-08T00:00:00",
          "2019-08-07T00:00:00",
          "2019-08-07T00:00:00",
          "2019-07-31T00:00:00",
          "2019-07-29T00:00:00",
          "2019-07-26T00:00:00",
          "2019-07-11T00:00:00",
          "2019-07-08T00:00:00",
          "2019-07-05T00:00:00",
          "2019-07-04T00:00:00",
          "2019-07-03T00:00:00",
          "2019-07-03T00:00:00",
          "2019-07-02T00:00:00",
          "2019-06-26T00:00:00",
          "2019-06-26T00:00:00",
          "2019-06-25T00:00:00",
          "2019-06-25T00:00:00",
          "2019-06-20T00:00:00",
          "2019-06-20T00:00:00",
          "2019-06-19T00:00:00",
          "2019-06-19T00:00:00",
          "2019-06-18T00:00:00",
          "2019-06-18T00:00:00",
          "2019-06-14T00:00:00",
          "2019-06-11T00:00:00",
          "2019-06-06T00:00:00",
          "2019-06-04T00:00:00",
          "2019-06-04T00:00:00",
          "2019-06-04T00:00:00",
          "2019-05-31T00:00:00",
          "2019-05-17T00:00:00",
          "2019-05-10T00:00:00",
          "2019-04-26T00:00:00",
          "2019-04-24T00:00:00",
          "2019-04-15T00:00:00",
          "2019-04-15T00:00:00",
          "2019-04-15T00:00:00",
          "2019-04-09T00:00:00",
          "2019-04-01T00:00:00",
          "2019-04-01T00:00:00",
          "2019-03-22T00:00:00",
          "2019-03-21T00:00:00",
          "2019-03-20T00:00:00",
          "2019-03-08T00:00:00",
          "2019-03-06T00:00:00",
          "2019-03-06T00:00:00",
          "2019-03-01T00:00:00",
          "2019-02-25T00:00:00",
          "2019-02-20T00:00:00",
          "2019-02-20T00:00:00",
          "2019-02-19T00:00:00",
          "2019-02-04T00:00:00",
          "2019-01-31T00:00:00",
          "2019-01-30T00:00:00",
          "2019-01-23T00:00:00",
          "2019-01-22T00:00:00",
          "2019-01-21T00:00:00",
          "2019-01-18T00:00:00",
          "2019-01-17T00:00:00",
          "2019-01-16T00:00:00",
          "2019-01-15T00:00:00",
          "2019-01-15T00:00:00",
          "2019-01-15T00:00:00",
          "2019-01-09T00:00:00",
          "2019-01-08T00:00:00",
          "2019-01-04T00:00:00",
          "2019-01-02T00:00:00",
          "2018-12-28T00:00:00",
          "2018-12-21T00:00:00",
          "2018-12-21T00:00:00",
          "2018-12-20T00:00:00",
          "2018-12-19T00:00:00",
          "2018-12-13T00:00:00",
          "2018-11-30T00:00:00",
          "2018-11-16T00:00:00",
          "2020-05-18T00:00:00",
          "2020-05-14T00:00:00",
          "2020-05-13T00:00:00",
          "2020-05-08T00:00:00",
          "2020-05-06T00:00:00",
          "2020-04-29T00:00:00",
          "2020-04-16T00:00:00",
          "2020-04-15T00:00:00",
          "2020-04-06T00:00:00",
          "2020-04-04T00:00:00",
          "2020-04-04T00:00:00",
          "2020-04-03T00:00:00",
          "2020-04-03T00:00:00",
          "2020-04-02T00:00:00",
          "2020-03-27T00:00:00",
          "2020-03-26T00:00:00",
          "2020-03-25T00:00:00",
          "2020-03-21T00:00:00",
          "2020-03-15T00:00:00",
          "2020-03-15T00:00:00",
          "2020-03-12T00:00:00",
          "2020-03-11T00:00:00",
          "2020-03-11T00:00:00",
          "2020-03-09T00:00:00",
          "2020-03-05T00:00:00",
          "2020-03-05T00:00:00",
          "2020-03-04T00:00:00",
          "2020-03-03T00:00:00",
          "2020-03-03T00:00:00",
          "2020-03-03T00:00:00",
          "2020-03-03T00:00:00",
          "2020-03-01T00:00:00",
          "2020-02-25T00:00:00",
          "2020-02-22T00:00:00",
          "2020-02-16T00:00:00",
          "2020-02-13T00:00:00",
          "2020-02-12T00:00:00",
          "2020-02-11T00:00:00",
          "2020-02-09T00:00:00",
          "2020-02-06T00:00:00",
          "2020-01-29T00:00:00",
          "2020-01-22T00:00:00",
          "2020-01-17T00:00:00",
          "2020-01-06T00:00:00",
          "2020-01-03T00:00:00",
          "2019-12-19T00:00:00",
          "2019-12-12T00:00:00",
          "2019-12-11T00:00:00",
          "2019-12-10T00:00:00",
          "2019-12-08T00:00:00",
          "2019-12-06T00:00:00",
          "2019-12-05T00:00:00",
          "2019-12-04T00:00:00",
          "2019-12-03T00:00:00",
          "2019-12-02T00:00:00",
          "2019-11-29T00:00:00",
          "2019-11-26T00:00:00",
          "2019-11-26T00:00:00",
          "2019-11-20T00:00:00",
          "2019-11-18T00:00:00",
          "2019-11-15T00:00:00",
          "2019-11-14T00:00:00",
          "2019-11-14T00:00:00",
          "2019-11-13T00:00:00",
          "2019-11-08T00:00:00",
          "2019-11-02T00:00:00",
          "2019-11-01T00:00:00",
          "2019-10-30T00:00:00",
          "2019-10-30T00:00:00",
          "2019-10-28T00:00:00",
          "2019-10-21T00:00:00",
          "2019-10-18T00:00:00",
          "2019-10-16T00:00:00",
          "2019-10-16T00:00:00",
          "2019-10-11T00:00:00",
          "2019-10-07T00:00:00",
          "2019-10-03T00:00:00",
          "2019-09-22T00:00:00",
          "2019-09-19T00:00:00",
          "2019-09-18T00:00:00",
          "2019-09-17T00:00:00",
          "2019-09-16T00:00:00",
          "2019-09-16T00:00:00",
          "2019-09-13T00:00:00",
          "2019-09-10T00:00:00",
          "2019-09-06T00:00:00",
          "2019-09-04T00:00:00",
          "2019-08-27T00:00:00",
          "2019-08-20T00:00:00",
          "2019-08-20T00:00:00",
          "2019-08-20T00:00:00",
          "2019-08-17T00:00:00",
          "2019-08-17T00:00:00",
          "2019-08-08T00:00:00",
          "2019-08-02T00:00:00",
          "2019-07-31T00:00:00",
          "2019-07-31T00:00:00",
          "2019-07-30T00:00:00",
          "2019-07-25T00:00:00",
          "2019-07-17T00:00:00",
          "2019-07-16T00:00:00",
          "2019-07-11T00:00:00",
          "2019-07-10T00:00:00",
          "2019-07-08T00:00:00",
          "2019-07-05T00:00:00",
          "2019-07-05T00:00:00",
          "2019-07-05T00:00:00",
          "2019-06-27T00:00:00",
          "2019-06-22T00:00:00",
          "2019-06-20T00:00:00",
          "2019-06-07T00:00:00",
          "2019-06-04T00:00:00",
          "2019-06-03T00:00:00",
          "2019-05-29T00:00:00",
          "2019-05-29T00:00:00"
         ],
         "xaxis": "x",
         "y": [
          -1.4683151245117188,
          -1.4818131923675537,
          -1.4687644839286804,
          -1.4634064435958862,
          -1.4108120203018188,
          -1.496006429195404,
          -1.4960870742797852,
          -1.4824767112731934,
          -1.48220694065094,
          -1.4904828071594238,
          -1.4512472152709959,
          -1.4593190550804138,
          -1.4866226315498352,
          1.0233885049819946,
          -1.489054799079895,
          1.3823636174201963,
          -1.1628398895263672,
          1.0349509716033936,
          -1.4108346700668335,
          1.0096962451934814,
          -1.4967854022979736,
          -1.239102840423584,
          -1.346242904663086,
          -1.3385263085365295,
          -1.459164798259735,
          -1.3078707456588743,
          -1.3320425152778623,
          -1.4954906105995178,
          -1.4918662905693054,
          -1.488759994506836,
          -1.24726140499115,
          -1.445267140865326,
          -1.486204743385315,
          -1.4868621826171875,
          1.0024464130401611,
          -1.4599080681800842,
          -1.426760733127594,
          -1.4044412970542908,
          -1.191991090774536,
          -1.4962354302406309,
          -0.022702443413436413,
          -1.3789582848548891,
          -1.4817968606948853,
          -1.4750465154647827,
          -1.497636795043945,
          -1.497539520263672,
          -1.4951971173286438,
          -1.4835996627807615,
          -0.30269890278577805,
          -1.4912227392196655,
          -1.0711686611175537,
          -1.455136775970459,
          -1.4472461342811584,
          -1.4643130898475647,
          -1.3466267585754397,
          -1.4885045886039734,
          -1.4915114045143127,
          0.9574093222618104,
          -1.4628388285636902,
          -1.492689073085785,
          -1.4557995200157166,
          -1.4167442917823792,
          -1.487895131111145,
          -1.4488927721977234,
          -1.4918295741081238,
          -1.0258077383041382,
          -1.4944663643836975,
          -1.4831725358963013,
          -1.4405280351638794,
          -1.4693830013275146,
          -1.4832180738449097,
          -1.3772408962249756,
          -1.4655722975730896,
          -1.0497724413871763,
          -1.4816680550575256,
          -1.4919506311416626,
          -1.460590124130249,
          -1.0005382895469666,
          -1.4723873734474182,
          -1.4604279398918152,
          -1.4555872082710266,
          -1.4897063970565796,
          -1.4898185133934019,
          -1.4284493923187256,
          -1.4977528452873232,
          -1.162378966808319,
          -1.477896809577942,
          -1.4622162580490112,
          0.21586258709430692,
          -1.3590514063835144,
          -1.4968488812446594,
          1.3585763573646543,
          -1.4746431112289429,
          -1.4803590774536133,
          -1.447998046875,
          -1.3936944007873535,
          1.3671354055404663,
          -1.4348193407058716,
          0.06392174959182742,
          -1.4809664487838743,
          -1.3558822274208069,
          -1.4966316819190981,
          -1.4968268275260923,
          -1.1739662885665894,
          -1.4107518196105957,
          -1.4388367533683777,
          -1.4791496396064758,
          -1.3969825506210327,
          -1.4406973123550415,
          -1.4882531762123108,
          -1.4333474040031433,
          -1.49026757478714,
          -0.041326582431793164,
          -1.4986814856529236,
          -1.008846640586853,
          -1.4058809280395508,
          -1.4954476952552795,
          -0.9833950102329254,
          -1.4807608127593994,
          -1.397202551364899,
          -1.471190094947815,
          -1.4813864827156067,
          -1.4884935021400452,
          -1.4541098475456238,
          -0.1431766897439956,
          -1.4898536801338196,
          -1.4972641468048096,
          -1.4639339447021484,
          -1.4889812469482422,
          -1.4541807174682615,
          -1.4315539598464966,
          -1.4912952184677124,
          -1.3156275153160095,
          -1.3472251892089844,
          -1.2728689312934875,
          -1.3073822855949402,
          -1.1247559785842896,
          -1.4882408380508425,
          -1.4959635734558103,
          -1.490458607673645,
          1.14924955368042,
          -1.3842570781707764,
          -1.4732147455215454,
          -1.1862097382545471,
          -1.4646298289299011,
          -1.4671412706375122,
          -1.4553110003471377,
          -1.2835177183151243,
          -1.4636775851249697,
          -1.4928763508796692,
          -1.4611924290657043,
          -1.4536277055740356,
          -1.4739893674850464,
          -1.487616002559662,
          -1.263207197189331,
          -1.4828815460205078,
          1.3641000986099243,
          -1.4942260384559631,
          -1.445416510105133,
          -1.2612217664718628,
          1.1570201516151428,
          -0.9340306818485259,
          -1.4875062704086304,
          -1.413043200969696,
          -1.4553691148757937,
          -1.475605010986328,
          -1.2172589302062988,
          -0.04206804186105725,
          -1.467419445514679,
          -1.4751519560813904,
          -1.1260287165641785,
          -1.1062710881233215,
          -1.3111994862556458,
          -1.4081818461418152,
          0.3415573686361313,
          -1.383362591266632,
          -1.268319308757782,
          -0.20077674090862274,
          -1.4958236217498782,
          -1.3981194496154783,
          0.2781561017036438,
          0.003996714949607849,
          -1.0773119926452637,
          -1.2473877668380735,
          -1.3713741898536682,
          -1.4592758417129517,
          1.39719420671463,
          -1.4945874214172363,
          -1.1642679572105408,
          -1.4626274704933169,
          -1.4246641993522644,
          -1.302919626235962,
          -1.4940273761749268,
          -1.3254411816596985,
          1.0081776976585388,
          1.1041517853736875,
          -1.4775766730308533,
          0.9343876838684082,
          -1.4777686595916748,
          -1.492027461528778,
          -1.4611859321594238,
          -1.421220064163208,
          -1.4408833980560305,
          -1.4554929733276367,
          -1.449923574924469,
          -1.4078974127769468,
          -1.2930588126182556,
          -1.3928277492523191,
          -1.2300317883491516,
          -1.3994871377944946,
          -1.4567667841911316,
          -1.211540460586548,
          -1.4763799905776978,
          -1.3271567821502686,
          -1.4763026237487793,
          -1.1389800906181335,
          -1.4481654167175293,
          -1.2673115134239197,
          -0.12899740040302282,
          1.1206945776939392,
          -1.3488296270370483,
          -1.3532964587211609,
          1.3491231203079224,
          -1.4905622601509094,
          -1.481797456741333,
          -1.272308886051178,
          -1.4707533717155457,
          -1.029288113117218,
          -1.4673941135406494,
          -1.3470120429992676,
          -1.021562397480011,
          -1.1859960556030271,
          -1.1891990303993225,
          -1.4738775491714478,
          -0.20558993518352509,
          -1.4326344728469849,
          -1.4537996649742126,
          -1.4830925464630127,
          -1.0794246792793274,
          -1.4979329109191897,
          -1.4964648485183716,
          -1.414334237575531,
          -0.9325861632823944,
          -1.4797326326370241,
          -1.4348241686820984,
          -1.4957606196403503,
          0.019974973052740097,
          1.0741904377937317,
          0.20769794285297394,
          -1.4861948490142822,
          0.986150085926056,
          0.04073728621006012,
          -1.4909834861755369,
          -1.4948387742042542,
          -1.281525194644928,
          -1.3450673818588257,
          -1.467278003692627,
          -1.491866409778595,
          -1.1885100603103638,
          -1.466667354106903,
          -1.0708894729614258,
          -1.495846688747406,
          -1.4365554451942444,
          0.1923990398645401,
          -0.3781587183475494,
          -1.4733077883720398,
          -1.4938480257987976,
          -1.4984188079833984,
          -0.08431307412683962,
          -1.2233072519302368,
          -0.2209878154098988,
          -1.3357903361320496,
          -1.1210172772407532,
          -1.3788607120513916,
          -1.1872628331184387,
          0.0074556577019393435,
          -1.2152209877967834,
          1.0441216230392456,
          1.0120437741279602,
          1.1263619661331177,
          -1.3023983836174011,
          -0.07119139097630979,
          -1.4242563843727112,
          0.008404538035392733,
          -1.4216344356536863,
          0.05345308594405651,
          -1.4300835728645325,
          -1.4046415090560913,
          -1.4938645958900452,
          -1.1658294200897217,
          -1.4727674126625059,
          -1.371609628200531,
          -1.3601900935173037,
          0.024392109364271167,
          -1.4033464789390564,
          -1.3768009543418884,
          -1.2848215699195862,
          -1.001880407333374,
          -1.4377068281173706,
          -1.428741633892059,
          -1.3117189407348633,
          1.1118239164352417,
          0.8706878423690796,
          0.01899129524827004,
          -1.1677052974700928,
          -1.3724874258041382,
          -1.4703630208969116,
          -1.477318823337555,
          -1.4358419179916382,
          -1.4670463800430298,
          -1.48216313123703,
          -1.0780017971992493,
          -1.4560559391975405,
          -1.1912057399749756,
          -1.2952191233634949,
          0.07753784768283366,
          -0.1359410136938095,
          -1.3653278946876526,
          -1.4556376934051514,
          -0.021921386942267414,
          0.07632870972156525,
          -1.4880865812301636,
          -1.4537758231163025,
          -1.2924529314041138,
          -0.0023841196671128273,
          -0.11374065279960635,
          -1.4486374855041504,
          -1.379200100898743,
          -1.1217445731163025,
          -1.4776366949081419,
          -1.2001571655273438,
          -1.4222680330276491,
          -0.33764428272843355,
          -1.3028564453125,
          -1.4822188019752502,
          1.1392205953598022,
          -1.4532155990600586,
          -1.378044843673706,
          -0.9510474205017091,
          -1.3571943044662476,
          -1.4669429063796997,
          -1.4470824003219604,
          -1.4232293963432312,
          -0.014971427619457243,
          1.2265042662620544,
          0.06157826632261276
         ],
         "yaxis": "y2"
        },
        {
         "marker": {
          "color": "orange"
         },
         "mode": "markers",
         "name": "Golden Sentiment",
         "opacity": 0.5,
         "type": "scatter",
         "x": [
          "2020-04-29T00:00:00",
          "2020-04-29T00:00:00",
          "2020-04-15T00:00:00",
          "2020-04-14T00:00:00",
          "2020-04-02T00:00:00",
          "2020-03-30T00:00:00",
          "2020-03-30T00:00:00",
          "2020-03-28T00:00:00",
          "2020-03-27T00:00:00",
          "2020-03-27T00:00:00",
          "2020-03-26T00:00:00",
          "2020-03-26T00:00:00",
          "2020-03-18T00:00:00",
          "2020-03-18T00:00:00",
          "2020-03-18T00:00:00",
          "2020-03-18T00:00:00",
          "2020-03-17T00:00:00",
          "2020-03-16T00:00:00",
          "2020-03-15T00:00:00",
          "2020-03-15T00:00:00",
          "2020-03-13T00:00:00",
          "2020-03-11T00:00:00",
          "2020-03-09T00:00:00",
          "2020-03-09T00:00:00",
          "2020-03-06T00:00:00",
          "2020-03-05T00:00:00",
          "2020-03-05T00:00:00",
          "2020-03-05T00:00:00",
          "2020-03-05T00:00:00",
          "2020-03-04T00:00:00",
          "2020-03-04T00:00:00",
          "2020-03-04T00:00:00",
          "2020-03-04T00:00:00",
          "2020-03-04T00:00:00",
          "2020-03-04T00:00:00",
          "2020-03-04T00:00:00",
          "2020-03-04T00:00:00",
          "2020-03-04T00:00:00",
          "2020-03-04T00:00:00",
          "2020-03-03T00:00:00",
          "2020-03-03T00:00:00",
          "2020-03-03T00:00:00",
          "2020-03-03T00:00:00",
          "2020-03-03T00:00:00",
          "2020-03-03T00:00:00",
          "2020-03-03T00:00:00",
          "2020-03-03T00:00:00",
          "2020-03-02T00:00:00",
          "2020-03-02T00:00:00",
          "2020-03-02T00:00:00",
          "2020-03-02T00:00:00",
          "2020-03-02T00:00:00",
          "2020-02-26T00:00:00",
          "2020-01-30T00:00:00",
          "2020-01-29T00:00:00",
          "2020-01-29T00:00:00",
          "2020-01-24T00:00:00",
          "2020-01-23T00:00:00",
          "2020-01-23T00:00:00",
          "2020-01-23T00:00:00",
          "2020-01-22T00:00:00",
          "2020-01-21T00:00:00",
          "2020-01-20T00:00:00",
          "2020-01-18T00:00:00",
          "2020-01-17T00:00:00",
          "2020-01-15T00:00:00",
          "2020-01-14T00:00:00",
          "2020-01-10T00:00:00",
          "2020-01-09T00:00:00",
          "2020-01-07T00:00:00",
          "2020-01-06T00:00:00",
          "2020-01-06T00:00:00",
          "2019-12-31T00:00:00",
          "2019-12-20T00:00:00",
          "2019-12-19T00:00:00",
          "2019-12-18T00:00:00",
          "2019-12-18T00:00:00",
          "2019-12-16T00:00:00",
          "2019-12-13T00:00:00",
          "2019-12-13T00:00:00",
          "2019-12-13T00:00:00",
          "2019-12-12T00:00:00",
          "2019-12-11T00:00:00",
          "2019-12-11T00:00:00",
          "2019-12-11T00:00:00",
          "2019-12-11T00:00:00",
          "2019-12-10T00:00:00",
          "2019-12-06T00:00:00",
          "2019-12-06T00:00:00",
          "2019-12-03T00:00:00",
          "2019-11-28T00:00:00",
          "2019-11-25T00:00:00",
          "2019-11-21T00:00:00",
          "2019-11-20T00:00:00",
          "2019-11-20T00:00:00",
          "2019-11-20T00:00:00",
          "2019-11-18T00:00:00",
          "2019-11-14T00:00:00",
          "2019-11-14T00:00:00",
          "2019-11-11T00:00:00",
          "2019-11-11T00:00:00",
          "2019-11-06T00:00:00",
          "2019-11-05T00:00:00",
          "2019-11-05T00:00:00",
          "2019-11-04T00:00:00",
          "2019-10-31T00:00:00",
          "2019-10-30T00:00:00",
          "2019-10-30T00:00:00",
          "2019-10-30T00:00:00",
          "2019-10-30T00:00:00",
          "2019-10-28T00:00:00",
          "2019-10-24T00:00:00",
          "2019-10-22T00:00:00",
          "2019-10-21T00:00:00",
          "2019-10-18T00:00:00",
          "2019-10-17T00:00:00",
          "2019-10-16T00:00:00",
          "2019-10-16T00:00:00",
          "2019-10-15T00:00:00",
          "2019-10-11T00:00:00",
          "2019-10-10T00:00:00",
          "2019-10-09T00:00:00",
          "2019-10-08T00:00:00",
          "2019-10-08T00:00:00",
          "2019-10-07T00:00:00",
          "2019-10-07T00:00:00",
          "2019-10-04T00:00:00",
          "2019-10-03T00:00:00",
          "2019-10-02T00:00:00",
          "2019-10-02T00:00:00",
          "2019-10-01T00:00:00",
          "2019-10-01T00:00:00",
          "2019-10-01T00:00:00",
          "2019-09-30T00:00:00",
          "2019-09-30T00:00:00",
          "2019-09-30T00:00:00",
          "2019-09-26T00:00:00",
          "2019-09-19T00:00:00",
          "2019-09-19T00:00:00",
          "2019-09-18T00:00:00",
          "2019-09-16T00:00:00",
          "2019-09-12T00:00:00",
          "2019-09-10T00:00:00",
          "2019-09-09T00:00:00",
          "2019-09-04T00:00:00",
          "2019-09-04T00:00:00",
          "2019-08-27T00:00:00",
          "2019-08-26T00:00:00",
          "2019-08-26T00:00:00",
          "2019-08-26T00:00:00",
          "2019-08-23T00:00:00",
          "2019-08-23T00:00:00",
          "2019-08-21T00:00:00",
          "2019-08-14T00:00:00",
          "2019-08-09T00:00:00",
          "2019-08-09T00:00:00",
          "2019-08-08T00:00:00",
          "2019-08-07T00:00:00",
          "2019-08-07T00:00:00",
          "2019-07-31T00:00:00",
          "2019-07-29T00:00:00",
          "2019-07-26T00:00:00",
          "2019-07-11T00:00:00",
          "2019-07-08T00:00:00",
          "2019-07-05T00:00:00",
          "2019-07-04T00:00:00",
          "2019-07-03T00:00:00",
          "2019-07-03T00:00:00",
          "2019-07-02T00:00:00",
          "2019-06-26T00:00:00",
          "2019-06-26T00:00:00",
          "2019-06-25T00:00:00",
          "2019-06-25T00:00:00",
          "2019-06-20T00:00:00",
          "2019-06-20T00:00:00",
          "2019-06-19T00:00:00",
          "2019-06-19T00:00:00",
          "2019-06-18T00:00:00",
          "2019-06-18T00:00:00",
          "2019-06-14T00:00:00",
          "2019-06-11T00:00:00",
          "2019-06-06T00:00:00",
          "2019-06-04T00:00:00",
          "2019-06-04T00:00:00",
          "2019-06-04T00:00:00",
          "2019-05-31T00:00:00",
          "2019-05-17T00:00:00",
          "2019-05-10T00:00:00",
          "2019-04-26T00:00:00",
          "2019-04-24T00:00:00",
          "2019-04-15T00:00:00",
          "2019-04-15T00:00:00",
          "2019-04-15T00:00:00",
          "2019-04-09T00:00:00",
          "2019-04-01T00:00:00",
          "2019-04-01T00:00:00",
          "2019-03-22T00:00:00",
          "2019-03-21T00:00:00",
          "2019-03-20T00:00:00",
          "2019-03-08T00:00:00",
          "2019-03-06T00:00:00",
          "2019-03-06T00:00:00",
          "2019-03-01T00:00:00",
          "2019-02-25T00:00:00",
          "2019-02-20T00:00:00",
          "2019-02-20T00:00:00",
          "2019-02-19T00:00:00",
          "2019-02-04T00:00:00",
          "2019-01-31T00:00:00",
          "2019-01-30T00:00:00",
          "2019-01-23T00:00:00",
          "2019-01-22T00:00:00",
          "2019-01-21T00:00:00",
          "2019-01-18T00:00:00",
          "2019-01-17T00:00:00",
          "2019-01-16T00:00:00",
          "2019-01-15T00:00:00",
          "2019-01-15T00:00:00",
          "2019-01-15T00:00:00",
          "2019-01-09T00:00:00",
          "2019-01-08T00:00:00",
          "2019-01-04T00:00:00",
          "2019-01-02T00:00:00",
          "2018-12-28T00:00:00",
          "2018-12-21T00:00:00",
          "2018-12-21T00:00:00",
          "2018-12-20T00:00:00",
          "2018-12-19T00:00:00",
          "2018-12-13T00:00:00",
          "2018-11-30T00:00:00",
          "2018-11-16T00:00:00",
          "2020-05-18T00:00:00",
          "2020-05-14T00:00:00",
          "2020-05-13T00:00:00",
          "2020-05-08T00:00:00",
          "2020-05-06T00:00:00",
          "2020-04-29T00:00:00",
          "2020-04-16T00:00:00",
          "2020-04-15T00:00:00",
          "2020-04-06T00:00:00",
          "2020-04-04T00:00:00",
          "2020-04-04T00:00:00",
          "2020-04-03T00:00:00",
          "2020-04-03T00:00:00",
          "2020-04-02T00:00:00",
          "2020-03-27T00:00:00",
          "2020-03-26T00:00:00",
          "2020-03-25T00:00:00",
          "2020-03-21T00:00:00",
          "2020-03-15T00:00:00",
          "2020-03-15T00:00:00",
          "2020-03-12T00:00:00",
          "2020-03-11T00:00:00",
          "2020-03-11T00:00:00",
          "2020-03-09T00:00:00",
          "2020-03-05T00:00:00",
          "2020-03-05T00:00:00",
          "2020-03-04T00:00:00",
          "2020-03-03T00:00:00",
          "2020-03-03T00:00:00",
          "2020-03-03T00:00:00",
          "2020-03-03T00:00:00",
          "2020-03-01T00:00:00",
          "2020-02-25T00:00:00",
          "2020-02-22T00:00:00",
          "2020-02-16T00:00:00",
          "2020-02-13T00:00:00",
          "2020-02-12T00:00:00",
          "2020-02-11T00:00:00",
          "2020-02-09T00:00:00",
          "2020-02-06T00:00:00",
          "2020-01-29T00:00:00",
          "2020-01-22T00:00:00",
          "2020-01-17T00:00:00",
          "2020-01-06T00:00:00",
          "2020-01-03T00:00:00",
          "2019-12-19T00:00:00",
          "2019-12-12T00:00:00",
          "2019-12-11T00:00:00",
          "2019-12-10T00:00:00",
          "2019-12-08T00:00:00",
          "2019-12-06T00:00:00",
          "2019-12-05T00:00:00",
          "2019-12-04T00:00:00",
          "2019-12-03T00:00:00",
          "2019-12-02T00:00:00",
          "2019-11-29T00:00:00",
          "2019-11-26T00:00:00",
          "2019-11-26T00:00:00",
          "2019-11-20T00:00:00",
          "2019-11-18T00:00:00",
          "2019-11-15T00:00:00",
          "2019-11-14T00:00:00",
          "2019-11-14T00:00:00",
          "2019-11-13T00:00:00",
          "2019-11-08T00:00:00",
          "2019-11-02T00:00:00",
          "2019-11-01T00:00:00",
          "2019-10-30T00:00:00",
          "2019-10-30T00:00:00",
          "2019-10-28T00:00:00",
          "2019-10-21T00:00:00",
          "2019-10-18T00:00:00",
          "2019-10-16T00:00:00",
          "2019-10-16T00:00:00",
          "2019-10-11T00:00:00",
          "2019-10-07T00:00:00",
          "2019-10-03T00:00:00",
          "2019-09-22T00:00:00",
          "2019-09-19T00:00:00",
          "2019-09-18T00:00:00",
          "2019-09-17T00:00:00",
          "2019-09-16T00:00:00",
          "2019-09-16T00:00:00",
          "2019-09-13T00:00:00",
          "2019-09-10T00:00:00",
          "2019-09-06T00:00:00",
          "2019-09-04T00:00:00",
          "2019-08-27T00:00:00",
          "2019-08-20T00:00:00",
          "2019-08-20T00:00:00",
          "2019-08-20T00:00:00",
          "2019-08-17T00:00:00",
          "2019-08-17T00:00:00",
          "2019-08-08T00:00:00",
          "2019-08-02T00:00:00",
          "2019-07-31T00:00:00",
          "2019-07-31T00:00:00",
          "2019-07-30T00:00:00",
          "2019-07-25T00:00:00",
          "2019-07-17T00:00:00",
          "2019-07-16T00:00:00",
          "2019-07-11T00:00:00",
          "2019-07-10T00:00:00",
          "2019-07-08T00:00:00",
          "2019-07-05T00:00:00",
          "2019-07-05T00:00:00",
          "2019-07-05T00:00:00",
          "2019-06-27T00:00:00",
          "2019-06-22T00:00:00",
          "2019-06-20T00:00:00",
          "2019-06-07T00:00:00",
          "2019-06-04T00:00:00",
          "2019-06-03T00:00:00",
          "2019-05-29T00:00:00",
          "2019-05-29T00:00:00"
         ],
         "xaxis": "x",
         "y": [
          -1.5,
          -1.5,
          0,
          0,
          -1.5,
          0,
          -1.5,
          1.5,
          -1.5,
          0,
          -1.5,
          0,
          0,
          -1.5,
          0,
          -1.5,
          -1.5,
          -1.5,
          0,
          -1.5,
          -1.5,
          -1.5,
          -1.5,
          0,
          0,
          0,
          0,
          0,
          -1.5,
          -1.5,
          0,
          -1.5,
          0,
          -1.5,
          0,
          0,
          0,
          0,
          0,
          0,
          -1.5,
          0,
          -1.5,
          0,
          0,
          0,
          0,
          0,
          -1.5,
          1.5,
          1.5,
          -1.5,
          0,
          0,
          1.5,
          0,
          -1.5,
          -1.5,
          0,
          0,
          0,
          1.5,
          -1.5,
          0,
          0,
          -1.5,
          0,
          -1.5,
          0,
          0,
          0,
          0,
          0,
          0,
          -1.5,
          -1.5,
          1.5,
          0,
          0,
          -1.5,
          0,
          0,
          0,
          1.5,
          0,
          0,
          -1.5,
          0,
          1.5,
          0,
          0,
          1.5,
          0,
          0,
          0,
          0,
          -1.5,
          0,
          0,
          -1.5,
          -1.5,
          -1.5,
          1.5,
          -1.5,
          0,
          1.5,
          -1.5,
          0,
          0,
          0,
          0,
          0,
          0,
          -1.5,
          0,
          0,
          0
         ],
         "yaxis": "y2"
        }
       ],
       "layout": {
        "template": {
         "data": {
          "bar": [
           {
            "error_x": {
             "color": "#2a3f5f"
            },
            "error_y": {
             "color": "#2a3f5f"
            },
            "marker": {
             "line": {
              "color": "#E5ECF6",
              "width": 0.5
             }
            },
            "type": "bar"
           }
          ],
          "barpolar": [
           {
            "marker": {
             "line": {
              "color": "#E5ECF6",
              "width": 0.5
             }
            },
            "type": "barpolar"
           }
          ],
          "carpet": [
           {
            "aaxis": {
             "endlinecolor": "#2a3f5f",
             "gridcolor": "white",
             "linecolor": "white",
             "minorgridcolor": "white",
             "startlinecolor": "#2a3f5f"
            },
            "baxis": {
             "endlinecolor": "#2a3f5f",
             "gridcolor": "white",
             "linecolor": "white",
             "minorgridcolor": "white",
             "startlinecolor": "#2a3f5f"
            },
            "type": "carpet"
           }
          ],
          "choropleth": [
           {
            "colorbar": {
             "outlinewidth": 0,
             "ticks": ""
            },
            "type": "choropleth"
           }
          ],
          "contour": [
           {
            "colorbar": {
             "outlinewidth": 0,
             "ticks": ""
            },
            "colorscale": [
             [
              0,
              "#0d0887"
             ],
             [
              0.1111111111111111,
              "#46039f"
             ],
             [
              0.2222222222222222,
              "#7201a8"
             ],
             [
              0.3333333333333333,
              "#9c179e"
             ],
             [
              0.4444444444444444,
              "#bd3786"
             ],
             [
              0.5555555555555556,
              "#d8576b"
             ],
             [
              0.6666666666666666,
              "#ed7953"
             ],
             [
              0.7777777777777778,
              "#fb9f3a"
             ],
             [
              0.8888888888888888,
              "#fdca26"
             ],
             [
              1,
              "#f0f921"
             ]
            ],
            "type": "contour"
           }
          ],
          "contourcarpet": [
           {
            "colorbar": {
             "outlinewidth": 0,
             "ticks": ""
            },
            "type": "contourcarpet"
           }
          ],
          "heatmap": [
           {
            "colorbar": {
             "outlinewidth": 0,
             "ticks": ""
            },
            "colorscale": [
             [
              0,
              "#0d0887"
             ],
             [
              0.1111111111111111,
              "#46039f"
             ],
             [
              0.2222222222222222,
              "#7201a8"
             ],
             [
              0.3333333333333333,
              "#9c179e"
             ],
             [
              0.4444444444444444,
              "#bd3786"
             ],
             [
              0.5555555555555556,
              "#d8576b"
             ],
             [
              0.6666666666666666,
              "#ed7953"
             ],
             [
              0.7777777777777778,
              "#fb9f3a"
             ],
             [
              0.8888888888888888,
              "#fdca26"
             ],
             [
              1,
              "#f0f921"
             ]
            ],
            "type": "heatmap"
           }
          ],
          "heatmapgl": [
           {
            "colorbar": {
             "outlinewidth": 0,
             "ticks": ""
            },
            "colorscale": [
             [
              0,
              "#0d0887"
             ],
             [
              0.1111111111111111,
              "#46039f"
             ],
             [
              0.2222222222222222,
              "#7201a8"
             ],
             [
              0.3333333333333333,
              "#9c179e"
             ],
             [
              0.4444444444444444,
              "#bd3786"
             ],
             [
              0.5555555555555556,
              "#d8576b"
             ],
             [
              0.6666666666666666,
              "#ed7953"
             ],
             [
              0.7777777777777778,
              "#fb9f3a"
             ],
             [
              0.8888888888888888,
              "#fdca26"
             ],
             [
              1,
              "#f0f921"
             ]
            ],
            "type": "heatmapgl"
           }
          ],
          "histogram": [
           {
            "marker": {
             "colorbar": {
              "outlinewidth": 0,
              "ticks": ""
             }
            },
            "type": "histogram"
           }
          ],
          "histogram2d": [
           {
            "colorbar": {
             "outlinewidth": 0,
             "ticks": ""
            },
            "colorscale": [
             [
              0,
              "#0d0887"
             ],
             [
              0.1111111111111111,
              "#46039f"
             ],
             [
              0.2222222222222222,
              "#7201a8"
             ],
             [
              0.3333333333333333,
              "#9c179e"
             ],
             [
              0.4444444444444444,
              "#bd3786"
             ],
             [
              0.5555555555555556,
              "#d8576b"
             ],
             [
              0.6666666666666666,
              "#ed7953"
             ],
             [
              0.7777777777777778,
              "#fb9f3a"
             ],
             [
              0.8888888888888888,
              "#fdca26"
             ],
             [
              1,
              "#f0f921"
             ]
            ],
            "type": "histogram2d"
           }
          ],
          "histogram2dcontour": [
           {
            "colorbar": {
             "outlinewidth": 0,
             "ticks": ""
            },
            "colorscale": [
             [
              0,
              "#0d0887"
             ],
             [
              0.1111111111111111,
              "#46039f"
             ],
             [
              0.2222222222222222,
              "#7201a8"
             ],
             [
              0.3333333333333333,
              "#9c179e"
             ],
             [
              0.4444444444444444,
              "#bd3786"
             ],
             [
              0.5555555555555556,
              "#d8576b"
             ],
             [
              0.6666666666666666,
              "#ed7953"
             ],
             [
              0.7777777777777778,
              "#fb9f3a"
             ],
             [
              0.8888888888888888,
              "#fdca26"
             ],
             [
              1,
              "#f0f921"
             ]
            ],
            "type": "histogram2dcontour"
           }
          ],
          "mesh3d": [
           {
            "colorbar": {
             "outlinewidth": 0,
             "ticks": ""
            },
            "type": "mesh3d"
           }
          ],
          "parcoords": [
           {
            "line": {
             "colorbar": {
              "outlinewidth": 0,
              "ticks": ""
             }
            },
            "type": "parcoords"
           }
          ],
          "pie": [
           {
            "automargin": true,
            "type": "pie"
           }
          ],
          "scatter": [
           {
            "marker": {
             "colorbar": {
              "outlinewidth": 0,
              "ticks": ""
             }
            },
            "type": "scatter"
           }
          ],
          "scatter3d": [
           {
            "line": {
             "colorbar": {
              "outlinewidth": 0,
              "ticks": ""
             }
            },
            "marker": {
             "colorbar": {
              "outlinewidth": 0,
              "ticks": ""
             }
            },
            "type": "scatter3d"
           }
          ],
          "scattercarpet": [
           {
            "marker": {
             "colorbar": {
              "outlinewidth": 0,
              "ticks": ""
             }
            },
            "type": "scattercarpet"
           }
          ],
          "scattergeo": [
           {
            "marker": {
             "colorbar": {
              "outlinewidth": 0,
              "ticks": ""
             }
            },
            "type": "scattergeo"
           }
          ],
          "scattergl": [
           {
            "marker": {
             "colorbar": {
              "outlinewidth": 0,
              "ticks": ""
             }
            },
            "type": "scattergl"
           }
          ],
          "scattermapbox": [
           {
            "marker": {
             "colorbar": {
              "outlinewidth": 0,
              "ticks": ""
             }
            },
            "type": "scattermapbox"
           }
          ],
          "scatterpolar": [
           {
            "marker": {
             "colorbar": {
              "outlinewidth": 0,
              "ticks": ""
             }
            },
            "type": "scatterpolar"
           }
          ],
          "scatterpolargl": [
           {
            "marker": {
             "colorbar": {
              "outlinewidth": 0,
              "ticks": ""
             }
            },
            "type": "scatterpolargl"
           }
          ],
          "scatterternary": [
           {
            "marker": {
             "colorbar": {
              "outlinewidth": 0,
              "ticks": ""
             }
            },
            "type": "scatterternary"
           }
          ],
          "surface": [
           {
            "colorbar": {
             "outlinewidth": 0,
             "ticks": ""
            },
            "colorscale": [
             [
              0,
              "#0d0887"
             ],
             [
              0.1111111111111111,
              "#46039f"
             ],
             [
              0.2222222222222222,
              "#7201a8"
             ],
             [
              0.3333333333333333,
              "#9c179e"
             ],
             [
              0.4444444444444444,
              "#bd3786"
             ],
             [
              0.5555555555555556,
              "#d8576b"
             ],
             [
              0.6666666666666666,
              "#ed7953"
             ],
             [
              0.7777777777777778,
              "#fb9f3a"
             ],
             [
              0.8888888888888888,
              "#fdca26"
             ],
             [
              1,
              "#f0f921"
             ]
            ],
            "type": "surface"
           }
          ],
          "table": [
           {
            "cells": {
             "fill": {
              "color": "#EBF0F8"
             },
             "line": {
              "color": "white"
             }
            },
            "header": {
             "fill": {
              "color": "#C8D4E3"
             },
             "line": {
              "color": "white"
             }
            },
            "type": "table"
           }
          ]
         },
         "layout": {
          "annotationdefaults": {
           "arrowcolor": "#2a3f5f",
           "arrowhead": 0,
           "arrowwidth": 1
          },
          "coloraxis": {
           "colorbar": {
            "outlinewidth": 0,
            "ticks": ""
           }
          },
          "colorscale": {
           "diverging": [
            [
             0,
             "#8e0152"
            ],
            [
             0.1,
             "#c51b7d"
            ],
            [
             0.2,
             "#de77ae"
            ],
            [
             0.3,
             "#f1b6da"
            ],
            [
             0.4,
             "#fde0ef"
            ],
            [
             0.5,
             "#f7f7f7"
            ],
            [
             0.6,
             "#e6f5d0"
            ],
            [
             0.7,
             "#b8e186"
            ],
            [
             0.8,
             "#7fbc41"
            ],
            [
             0.9,
             "#4d9221"
            ],
            [
             1,
             "#276419"
            ]
           ],
           "sequential": [
            [
             0,
             "#0d0887"
            ],
            [
             0.1111111111111111,
             "#46039f"
            ],
            [
             0.2222222222222222,
             "#7201a8"
            ],
            [
             0.3333333333333333,
             "#9c179e"
            ],
            [
             0.4444444444444444,
             "#bd3786"
            ],
            [
             0.5555555555555556,
             "#d8576b"
            ],
            [
             0.6666666666666666,
             "#ed7953"
            ],
            [
             0.7777777777777778,
             "#fb9f3a"
            ],
            [
             0.8888888888888888,
             "#fdca26"
            ],
            [
             1,
             "#f0f921"
            ]
           ],
           "sequentialminus": [
            [
             0,
             "#0d0887"
            ],
            [
             0.1111111111111111,
             "#46039f"
            ],
            [
             0.2222222222222222,
             "#7201a8"
            ],
            [
             0.3333333333333333,
             "#9c179e"
            ],
            [
             0.4444444444444444,
             "#bd3786"
            ],
            [
             0.5555555555555556,
             "#d8576b"
            ],
            [
             0.6666666666666666,
             "#ed7953"
            ],
            [
             0.7777777777777778,
             "#fb9f3a"
            ],
            [
             0.8888888888888888,
             "#fdca26"
            ],
            [
             1,
             "#f0f921"
            ]
           ]
          },
          "colorway": [
           "#636efa",
           "#EF553B",
           "#00cc96",
           "#ab63fa",
           "#FFA15A",
           "#19d3f3",
           "#FF6692",
           "#B6E880",
           "#FF97FF",
           "#FECB52"
          ],
          "font": {
           "color": "#2a3f5f"
          },
          "geo": {
           "bgcolor": "white",
           "lakecolor": "white",
           "landcolor": "#E5ECF6",
           "showlakes": true,
           "showland": true,
           "subunitcolor": "white"
          },
          "hoverlabel": {
           "align": "left"
          },
          "hovermode": "closest",
          "mapbox": {
           "style": "light"
          },
          "paper_bgcolor": "white",
          "plot_bgcolor": "#E5ECF6",
          "polar": {
           "angularaxis": {
            "gridcolor": "white",
            "linecolor": "white",
            "ticks": ""
           },
           "bgcolor": "#E5ECF6",
           "radialaxis": {
            "gridcolor": "white",
            "linecolor": "white",
            "ticks": ""
           }
          },
          "scene": {
           "xaxis": {
            "backgroundcolor": "#E5ECF6",
            "gridcolor": "white",
            "gridwidth": 2,
            "linecolor": "white",
            "showbackground": true,
            "ticks": "",
            "zerolinecolor": "white"
           },
           "yaxis": {
            "backgroundcolor": "#E5ECF6",
            "gridcolor": "white",
            "gridwidth": 2,
            "linecolor": "white",
            "showbackground": true,
            "ticks": "",
            "zerolinecolor": "white"
           },
           "zaxis": {
            "backgroundcolor": "#E5ECF6",
            "gridcolor": "white",
            "gridwidth": 2,
            "linecolor": "white",
            "showbackground": true,
            "ticks": "",
            "zerolinecolor": "white"
           }
          },
          "shapedefaults": {
           "line": {
            "color": "#2a3f5f"
           }
          },
          "ternary": {
           "aaxis": {
            "gridcolor": "white",
            "linecolor": "white",
            "ticks": ""
           },
           "baxis": {
            "gridcolor": "white",
            "linecolor": "white",
            "ticks": ""
           },
           "bgcolor": "#E5ECF6",
           "caxis": {
            "gridcolor": "white",
            "linecolor": "white",
            "ticks": ""
           }
          },
          "title": {
           "x": 0.05
          },
          "xaxis": {
           "automargin": true,
           "gridcolor": "white",
           "linecolor": "white",
           "ticks": "",
           "title": {
            "standoff": 15
           },
           "zerolinecolor": "white",
           "zerolinewidth": 2
          },
          "yaxis": {
           "automargin": true,
           "gridcolor": "white",
           "linecolor": "white",
           "ticks": "",
           "title": {
            "standoff": 15
           },
           "zerolinecolor": "white",
           "zerolinewidth": 2
          }
         }
        },
        "title": {
         "text": "interest rates VS news sentiment (2019 Jan - 2020 May) "
        },
        "xaxis": {
         "anchor": "y",
         "domain": [
          0,
          0.94
         ],
         "range": [
          "2019-05-31T00:00:00",
          "2020-05-18T00:00:00"
         ],
         "rangeslider": {
          "visible": true
         },
         "title": {
          "text": "Date"
         }
        },
        "yaxis": {
         "anchor": "x",
         "autorange": false,
         "domain": [
          0,
          1
         ],
         "range": [
          0.15,
          1.85
         ],
         "title": {
          "text": "Interest Rate - Overnight Target Rate (Bank of Canada)"
         }
        },
        "yaxis2": {
         "anchor": "x",
         "overlaying": "y",
         "range": [
          -2.4986814856529236,
          2.39719420671463
         ],
         "side": "right",
         "title": {
          "text": "Sentiment Score"
         }
        }
       }
      },
      "text/html": [
       "<div>\n",
       "        \n",
       "        \n",
       "            <div id=\"58ab4648-d88b-47fe-bf06-4a25501f4a38\" class=\"plotly-graph-div\" style=\"height:525px; width:100%;\"></div>\n",
       "            <script type=\"text/javascript\">\n",
       "                require([\"plotly\"], function(Plotly) {\n",
       "                    window.PLOTLYENV=window.PLOTLYENV || {};\n",
       "                    \n",
       "                if (document.getElementById(\"58ab4648-d88b-47fe-bf06-4a25501f4a38\")) {\n",
       "                    Plotly.newPlot(\n",
       "                        '58ab4648-d88b-47fe-bf06-4a25501f4a38',\n",
       "                        [{\"line\": {\"color\": \"blue\"}, \"mode\": \"lines\", \"name\": \"Interest Rate - Overnight Target Rate (Bank of Canada)\", \"type\": \"scatter\", \"x\": [\"2019-05-31T00:00:00\", \"2019-06-03T00:00:00\", \"2019-06-04T00:00:00\", \"2019-06-05T00:00:00\", \"2019-06-06T00:00:00\", \"2019-06-07T00:00:00\", \"2019-06-10T00:00:00\", \"2019-06-11T00:00:00\", \"2019-06-12T00:00:00\", \"2019-06-13T00:00:00\", \"2019-06-14T00:00:00\", \"2019-06-17T00:00:00\", \"2019-06-18T00:00:00\", \"2019-06-19T00:00:00\", \"2019-06-20T00:00:00\", \"2019-06-21T00:00:00\", \"2019-06-24T00:00:00\", \"2019-06-25T00:00:00\", \"2019-06-26T00:00:00\", \"2019-06-27T00:00:00\", \"2019-06-28T00:00:00\", \"2019-07-01T00:00:00\", \"2019-07-02T00:00:00\", \"2019-07-03T00:00:00\", \"2019-07-04T00:00:00\", \"2019-07-05T00:00:00\", \"2019-07-08T00:00:00\", \"2019-07-09T00:00:00\", \"2019-07-10T00:00:00\", \"2019-07-11T00:00:00\", \"2019-07-12T00:00:00\", \"2019-07-15T00:00:00\", \"2019-07-16T00:00:00\", \"2019-07-17T00:00:00\", \"2019-07-18T00:00:00\", \"2019-07-19T00:00:00\", \"2019-07-22T00:00:00\", \"2019-07-23T00:00:00\", \"2019-07-24T00:00:00\", \"2019-07-25T00:00:00\", \"2019-07-26T00:00:00\", \"2019-07-29T00:00:00\", \"2019-07-30T00:00:00\", \"2019-07-31T00:00:00\", \"2019-08-01T00:00:00\", \"2019-08-02T00:00:00\", \"2019-08-05T00:00:00\", \"2019-08-06T00:00:00\", \"2019-08-07T00:00:00\", \"2019-08-08T00:00:00\", \"2019-08-09T00:00:00\", \"2019-08-12T00:00:00\", \"2019-08-13T00:00:00\", \"2019-08-14T00:00:00\", \"2019-08-15T00:00:00\", \"2019-08-16T00:00:00\", \"2019-08-19T00:00:00\", \"2019-08-20T00:00:00\", \"2019-08-21T00:00:00\", \"2019-08-22T00:00:00\", \"2019-08-23T00:00:00\", \"2019-08-26T00:00:00\", \"2019-08-27T00:00:00\", \"2019-08-28T00:00:00\", \"2019-08-29T00:00:00\", \"2019-08-30T00:00:00\", \"2019-09-02T00:00:00\", \"2019-09-03T00:00:00\", \"2019-09-04T00:00:00\", \"2019-09-05T00:00:00\", \"2019-09-06T00:00:00\", \"2019-09-09T00:00:00\", \"2019-09-10T00:00:00\", \"2019-09-11T00:00:00\", \"2019-09-12T00:00:00\", \"2019-09-13T00:00:00\", \"2019-09-16T00:00:00\", \"2019-09-17T00:00:00\", \"2019-09-18T00:00:00\", \"2019-09-19T00:00:00\", \"2019-09-20T00:00:00\", \"2019-09-23T00:00:00\", \"2019-09-24T00:00:00\", \"2019-09-25T00:00:00\", \"2019-09-26T00:00:00\", \"2019-09-27T00:00:00\", \"2019-09-30T00:00:00\", \"2019-10-01T00:00:00\", \"2019-10-02T00:00:00\", \"2019-10-03T00:00:00\", \"2019-10-04T00:00:00\", \"2019-10-07T00:00:00\", \"2019-10-08T00:00:00\", \"2019-10-09T00:00:00\", \"2019-10-10T00:00:00\", \"2019-10-11T00:00:00\", \"2019-10-14T00:00:00\", \"2019-10-15T00:00:00\", \"2019-10-16T00:00:00\", \"2019-10-17T00:00:00\", \"2019-10-18T00:00:00\", \"2019-10-21T00:00:00\", \"2019-10-22T00:00:00\", \"2019-10-23T00:00:00\", \"2019-10-24T00:00:00\", \"2019-10-25T00:00:00\", \"2019-10-28T00:00:00\", \"2019-10-29T00:00:00\", \"2019-10-30T00:00:00\", \"2019-10-31T00:00:00\", \"2019-11-01T00:00:00\", \"2019-11-04T00:00:00\", \"2019-11-05T00:00:00\", \"2019-11-06T00:00:00\", \"2019-11-07T00:00:00\", \"2019-11-08T00:00:00\", \"2019-11-11T00:00:00\", \"2019-11-12T00:00:00\", \"2019-11-13T00:00:00\", \"2019-11-14T00:00:00\", \"2019-11-15T00:00:00\", \"2019-11-18T00:00:00\", \"2019-11-19T00:00:00\", \"2019-11-20T00:00:00\", \"2019-11-21T00:00:00\", \"2019-11-22T00:00:00\", \"2019-11-25T00:00:00\", \"2019-11-26T00:00:00\", \"2019-11-27T00:00:00\", \"2019-11-28T00:00:00\", \"2019-11-29T00:00:00\", \"2019-12-02T00:00:00\", \"2019-12-03T00:00:00\", \"2019-12-04T00:00:00\", \"2019-12-05T00:00:00\", \"2019-12-06T00:00:00\", \"2019-12-09T00:00:00\", \"2019-12-10T00:00:00\", \"2019-12-11T00:00:00\", \"2019-12-12T00:00:00\", \"2019-12-13T00:00:00\", \"2019-12-16T00:00:00\", \"2019-12-17T00:00:00\", \"2019-12-18T00:00:00\", \"2019-12-19T00:00:00\", \"2019-12-20T00:00:00\", \"2019-12-23T00:00:00\", \"2019-12-24T00:00:00\", \"2019-12-25T00:00:00\", \"2019-12-26T00:00:00\", \"2019-12-27T00:00:00\", \"2019-12-30T00:00:00\", \"2019-12-31T00:00:00\", \"2020-01-01T00:00:00\", \"2020-01-02T00:00:00\", \"2020-01-03T00:00:00\", \"2020-01-06T00:00:00\", \"2020-01-07T00:00:00\", \"2020-01-08T00:00:00\", \"2020-01-09T00:00:00\", \"2020-01-10T00:00:00\", \"2020-01-13T00:00:00\", \"2020-01-14T00:00:00\", \"2020-01-15T00:00:00\", \"2020-01-16T00:00:00\", \"2020-01-17T00:00:00\", \"2020-01-20T00:00:00\", \"2020-01-21T00:00:00\", \"2020-01-22T00:00:00\", \"2020-01-23T00:00:00\", \"2020-01-24T00:00:00\", \"2020-01-27T00:00:00\", \"2020-01-28T00:00:00\", \"2020-01-29T00:00:00\", \"2020-01-30T00:00:00\", \"2020-01-31T00:00:00\", \"2020-02-03T00:00:00\", \"2020-02-04T00:00:00\", \"2020-02-05T00:00:00\", \"2020-02-06T00:00:00\", \"2020-02-07T00:00:00\", \"2020-02-10T00:00:00\", \"2020-02-11T00:00:00\", \"2020-02-12T00:00:00\", \"2020-02-13T00:00:00\", \"2020-02-14T00:00:00\", \"2020-02-17T00:00:00\", \"2020-02-18T00:00:00\", \"2020-02-19T00:00:00\", \"2020-02-20T00:00:00\", \"2020-02-21T00:00:00\", \"2020-02-24T00:00:00\", \"2020-02-25T00:00:00\", \"2020-02-26T00:00:00\", \"2020-02-27T00:00:00\", \"2020-02-28T00:00:00\", \"2020-03-02T00:00:00\", \"2020-03-03T00:00:00\", \"2020-03-04T00:00:00\", \"2020-03-05T00:00:00\", \"2020-03-06T00:00:00\", \"2020-03-09T00:00:00\", \"2020-03-10T00:00:00\", \"2020-03-11T00:00:00\", \"2020-03-12T00:00:00\", \"2020-03-13T00:00:00\", \"2020-03-16T00:00:00\", \"2020-03-17T00:00:00\", \"2020-03-18T00:00:00\", \"2020-03-19T00:00:00\", \"2020-03-20T00:00:00\", \"2020-03-23T00:00:00\", \"2020-03-24T00:00:00\", \"2020-03-25T00:00:00\", \"2020-03-26T00:00:00\", \"2020-03-27T00:00:00\", \"2020-03-30T00:00:00\", \"2020-03-31T00:00:00\", \"2020-04-01T00:00:00\", \"2020-04-02T00:00:00\", \"2020-04-03T00:00:00\", \"2020-04-06T00:00:00\", \"2020-04-07T00:00:00\", \"2020-04-08T00:00:00\", \"2020-04-09T00:00:00\", \"2020-04-10T00:00:00\", \"2020-04-13T00:00:00\", \"2020-04-14T00:00:00\", \"2020-04-15T00:00:00\", \"2020-04-16T00:00:00\", \"2020-04-17T00:00:00\", \"2020-04-20T00:00:00\", \"2020-04-21T00:00:00\", \"2020-04-22T00:00:00\", \"2020-04-23T00:00:00\", \"2020-04-24T00:00:00\", \"2020-04-27T00:00:00\", \"2020-04-28T00:00:00\", \"2020-04-29T00:00:00\", \"2020-04-30T00:00:00\", \"2020-05-01T00:00:00\", \"2020-05-04T00:00:00\", \"2020-05-05T00:00:00\", \"2020-05-06T00:00:00\", \"2020-05-07T00:00:00\", \"2020-05-08T00:00:00\", \"2020-05-11T00:00:00\", \"2020-05-12T00:00:00\", \"2020-05-13T00:00:00\", \"2020-05-14T00:00:00\", \"2020-05-15T00:00:00\", \"2020-05-18T00:00:00\", \"2020-05-19T00:00:00\", \"2020-05-20T00:00:00\", \"2020-05-21T00:00:00\", \"2020-05-22T00:00:00\", \"2020-05-25T00:00:00\", \"2020-05-26T00:00:00\", \"2020-05-27T00:00:00\", \"2020-05-28T00:00:00\", \"2020-05-29T00:00:00\", \"2020-06-01T00:00:00\"], \"xaxis\": \"x\", \"y\": [1.75, 1.75, 1.75, 1.75, 1.75, 1.75, 1.75, 1.75, 1.75, 1.75, 1.75, 1.75, 1.75, 1.75, 1.75, 1.75, 1.75, 1.75, 1.75, 1.75, 1.75, 1.75, 1.75, 1.75, 1.75, 1.75, 1.75, 1.75, 1.75, 1.75, 1.75, 1.75, 1.75, 1.75, 1.75, 1.75, 1.75, 1.75, 1.75, 1.75, 1.75, 1.75, 1.75, 1.75, 1.75, 1.75, 1.75, 1.75, 1.75, 1.75, 1.75, 1.75, 1.75, 1.75, 1.75, 1.75, 1.75, 1.75, 1.75, 1.75, 1.75, 1.75, 1.75, 1.75, 1.75, 1.75, 1.75, 1.75, 1.75, 1.75, 1.75, 1.75, 1.75, 1.75, 1.75, 1.75, 1.75, 1.75, 1.75, 1.75, 1.75, 1.75, 1.75, 1.75, 1.75, 1.75, 1.75, 1.75, 1.75, 1.75, 1.75, 1.75, 1.75, 1.75, 1.75, 1.75, 1.75, 1.75, 1.75, 1.75, 1.75, 1.75, 1.75, 1.75, 1.75, 1.75, 1.75, 1.75, 1.75, 1.75, 1.75, 1.75, 1.75, 1.75, 1.75, 1.75, 1.75, 1.75, 1.75, 1.75, 1.75, 1.75, 1.75, 1.75, 1.75, 1.75, 1.75, 1.75, 1.75, 1.75, 1.75, 1.75, 1.75, 1.75, 1.75, 1.75, 1.75, 1.75, 1.75, 1.75, 1.75, 1.75, 1.75, 1.75, 1.75, 1.75, 1.75, 1.75, 1.75, 1.75, 1.75, 1.75, 1.75, 1.75, 1.75, 1.75, 1.75, 1.75, 1.75, 1.75, 1.75, 1.75, 1.75, 1.75, 1.75, 1.75, 1.75, 1.75, 1.75, 1.75, 1.75, 1.75, 1.75, 1.75, 1.75, 1.75, 1.75, 1.75, 1.75, 1.75, 1.75, 1.75, 1.75, 1.75, 1.75, 1.75, 1.75, 1.75, 1.75, 1.75, 1.75, 1.75, 1.75, 1.75, 1.75, 1.75, 1.75, 1.75, 1.25, 1.25, 1.25, 1.25, 1.25, 1.25, 1.25, 1.25, 0.75, 0.75, 0.75, 0.75, 0.75, 0.75, 0.75, 0.75, 0.75, 0.25, 0.25, 0.25, 0.25, 0.25, 0.25, 0.25, 0.25, 0.25, 0.25, 0.25, 0.25, 0.25, 0.25, 0.25, 0.25, 0.25, 0.25, 0.25, 0.25, 0.25, 0.25, 0.25, 0.25, 0.25, 0.25, 0.25, 0.25, 0.25, 0.25, 0.25, 0.25, 0.25, 0.25, 0.25, 0.25, 0.25, 0.25, 0.25, 0.25, 0.25, 0.25, 0.25, 0.25, 0.25, 0.25, 0.25], \"yaxis\": \"y\"}, {\"marker\": {\"color\": \"green\"}, \"mode\": \"markers\", \"name\": \"Predicted Sentiment\", \"opacity\": 0.5, \"type\": \"scatter\", \"x\": [\"2020-04-29T00:00:00\", \"2020-04-29T00:00:00\", \"2020-04-15T00:00:00\", \"2020-04-14T00:00:00\", \"2020-04-02T00:00:00\", \"2020-03-30T00:00:00\", \"2020-03-30T00:00:00\", \"2020-03-28T00:00:00\", \"2020-03-27T00:00:00\", \"2020-03-27T00:00:00\", \"2020-03-26T00:00:00\", \"2020-03-26T00:00:00\", \"2020-03-18T00:00:00\", \"2020-03-18T00:00:00\", \"2020-03-18T00:00:00\", \"2020-03-18T00:00:00\", \"2020-03-17T00:00:00\", \"2020-03-16T00:00:00\", \"2020-03-15T00:00:00\", \"2020-03-15T00:00:00\", \"2020-03-13T00:00:00\", \"2020-03-11T00:00:00\", \"2020-03-09T00:00:00\", \"2020-03-09T00:00:00\", \"2020-03-06T00:00:00\", \"2020-03-05T00:00:00\", \"2020-03-05T00:00:00\", \"2020-03-05T00:00:00\", \"2020-03-05T00:00:00\", \"2020-03-04T00:00:00\", \"2020-03-04T00:00:00\", \"2020-03-04T00:00:00\", \"2020-03-04T00:00:00\", \"2020-03-04T00:00:00\", \"2020-03-04T00:00:00\", \"2020-03-04T00:00:00\", \"2020-03-04T00:00:00\", \"2020-03-04T00:00:00\", \"2020-03-04T00:00:00\", \"2020-03-03T00:00:00\", \"2020-03-03T00:00:00\", \"2020-03-03T00:00:00\", \"2020-03-03T00:00:00\", \"2020-03-03T00:00:00\", \"2020-03-03T00:00:00\", \"2020-03-03T00:00:00\", \"2020-03-03T00:00:00\", \"2020-03-02T00:00:00\", \"2020-03-02T00:00:00\", \"2020-03-02T00:00:00\", \"2020-03-02T00:00:00\", \"2020-03-02T00:00:00\", \"2020-02-26T00:00:00\", \"2020-01-30T00:00:00\", \"2020-01-29T00:00:00\", \"2020-01-29T00:00:00\", \"2020-01-24T00:00:00\", \"2020-01-23T00:00:00\", \"2020-01-23T00:00:00\", \"2020-01-23T00:00:00\", \"2020-01-22T00:00:00\", \"2020-01-21T00:00:00\", \"2020-01-20T00:00:00\", \"2020-01-18T00:00:00\", \"2020-01-17T00:00:00\", \"2020-01-15T00:00:00\", \"2020-01-14T00:00:00\", \"2020-01-10T00:00:00\", \"2020-01-09T00:00:00\", \"2020-01-07T00:00:00\", \"2020-01-06T00:00:00\", \"2020-01-06T00:00:00\", \"2019-12-31T00:00:00\", \"2019-12-20T00:00:00\", \"2019-12-19T00:00:00\", \"2019-12-18T00:00:00\", \"2019-12-18T00:00:00\", \"2019-12-16T00:00:00\", \"2019-12-13T00:00:00\", \"2019-12-13T00:00:00\", \"2019-12-13T00:00:00\", \"2019-12-12T00:00:00\", \"2019-12-11T00:00:00\", \"2019-12-11T00:00:00\", \"2019-12-11T00:00:00\", \"2019-12-11T00:00:00\", \"2019-12-10T00:00:00\", \"2019-12-06T00:00:00\", \"2019-12-06T00:00:00\", \"2019-12-03T00:00:00\", \"2019-11-28T00:00:00\", \"2019-11-25T00:00:00\", \"2019-11-21T00:00:00\", \"2019-11-20T00:00:00\", \"2019-11-20T00:00:00\", \"2019-11-20T00:00:00\", \"2019-11-18T00:00:00\", \"2019-11-14T00:00:00\", \"2019-11-14T00:00:00\", \"2019-11-11T00:00:00\", \"2019-11-11T00:00:00\", \"2019-11-06T00:00:00\", \"2019-11-05T00:00:00\", \"2019-11-05T00:00:00\", \"2019-11-04T00:00:00\", \"2019-10-31T00:00:00\", \"2019-10-30T00:00:00\", \"2019-10-30T00:00:00\", \"2019-10-30T00:00:00\", \"2019-10-30T00:00:00\", \"2019-10-28T00:00:00\", \"2019-10-24T00:00:00\", \"2019-10-22T00:00:00\", \"2019-10-21T00:00:00\", \"2019-10-18T00:00:00\", \"2019-10-17T00:00:00\", \"2019-10-16T00:00:00\", \"2019-10-16T00:00:00\", \"2019-10-15T00:00:00\", \"2019-10-11T00:00:00\", \"2019-10-10T00:00:00\", \"2019-10-09T00:00:00\", \"2019-10-08T00:00:00\", \"2019-10-08T00:00:00\", \"2019-10-07T00:00:00\", \"2019-10-07T00:00:00\", \"2019-10-04T00:00:00\", \"2019-10-03T00:00:00\", \"2019-10-02T00:00:00\", \"2019-10-02T00:00:00\", \"2019-10-01T00:00:00\", \"2019-10-01T00:00:00\", \"2019-10-01T00:00:00\", \"2019-09-30T00:00:00\", \"2019-09-30T00:00:00\", \"2019-09-30T00:00:00\", \"2019-09-26T00:00:00\", \"2019-09-19T00:00:00\", \"2019-09-19T00:00:00\", \"2019-09-18T00:00:00\", \"2019-09-16T00:00:00\", \"2019-09-12T00:00:00\", \"2019-09-10T00:00:00\", \"2019-09-09T00:00:00\", \"2019-09-04T00:00:00\", \"2019-09-04T00:00:00\", \"2019-08-27T00:00:00\", \"2019-08-26T00:00:00\", \"2019-08-26T00:00:00\", \"2019-08-26T00:00:00\", \"2019-08-23T00:00:00\", \"2019-08-23T00:00:00\", \"2019-08-21T00:00:00\", \"2019-08-14T00:00:00\", \"2019-08-09T00:00:00\", \"2019-08-09T00:00:00\", \"2019-08-08T00:00:00\", \"2019-08-07T00:00:00\", \"2019-08-07T00:00:00\", \"2019-07-31T00:00:00\", \"2019-07-29T00:00:00\", \"2019-07-26T00:00:00\", \"2019-07-11T00:00:00\", \"2019-07-08T00:00:00\", \"2019-07-05T00:00:00\", \"2019-07-04T00:00:00\", \"2019-07-03T00:00:00\", \"2019-07-03T00:00:00\", \"2019-07-02T00:00:00\", \"2019-06-26T00:00:00\", \"2019-06-26T00:00:00\", \"2019-06-25T00:00:00\", \"2019-06-25T00:00:00\", \"2019-06-20T00:00:00\", \"2019-06-20T00:00:00\", \"2019-06-19T00:00:00\", \"2019-06-19T00:00:00\", \"2019-06-18T00:00:00\", \"2019-06-18T00:00:00\", \"2019-06-14T00:00:00\", \"2019-06-11T00:00:00\", \"2019-06-06T00:00:00\", \"2019-06-04T00:00:00\", \"2019-06-04T00:00:00\", \"2019-06-04T00:00:00\", \"2019-05-31T00:00:00\", \"2019-05-17T00:00:00\", \"2019-05-10T00:00:00\", \"2019-04-26T00:00:00\", \"2019-04-24T00:00:00\", \"2019-04-15T00:00:00\", \"2019-04-15T00:00:00\", \"2019-04-15T00:00:00\", \"2019-04-09T00:00:00\", \"2019-04-01T00:00:00\", \"2019-04-01T00:00:00\", \"2019-03-22T00:00:00\", \"2019-03-21T00:00:00\", \"2019-03-20T00:00:00\", \"2019-03-08T00:00:00\", \"2019-03-06T00:00:00\", \"2019-03-06T00:00:00\", \"2019-03-01T00:00:00\", \"2019-02-25T00:00:00\", \"2019-02-20T00:00:00\", \"2019-02-20T00:00:00\", \"2019-02-19T00:00:00\", \"2019-02-04T00:00:00\", \"2019-01-31T00:00:00\", \"2019-01-30T00:00:00\", \"2019-01-23T00:00:00\", \"2019-01-22T00:00:00\", \"2019-01-21T00:00:00\", \"2019-01-18T00:00:00\", \"2019-01-17T00:00:00\", \"2019-01-16T00:00:00\", \"2019-01-15T00:00:00\", \"2019-01-15T00:00:00\", \"2019-01-15T00:00:00\", \"2019-01-09T00:00:00\", \"2019-01-08T00:00:00\", \"2019-01-04T00:00:00\", \"2019-01-02T00:00:00\", \"2018-12-28T00:00:00\", \"2018-12-21T00:00:00\", \"2018-12-21T00:00:00\", \"2018-12-20T00:00:00\", \"2018-12-19T00:00:00\", \"2018-12-13T00:00:00\", \"2018-11-30T00:00:00\", \"2018-11-16T00:00:00\", \"2020-05-18T00:00:00\", \"2020-05-14T00:00:00\", \"2020-05-13T00:00:00\", \"2020-05-08T00:00:00\", \"2020-05-06T00:00:00\", \"2020-04-29T00:00:00\", \"2020-04-16T00:00:00\", \"2020-04-15T00:00:00\", \"2020-04-06T00:00:00\", \"2020-04-04T00:00:00\", \"2020-04-04T00:00:00\", \"2020-04-03T00:00:00\", \"2020-04-03T00:00:00\", \"2020-04-02T00:00:00\", \"2020-03-27T00:00:00\", \"2020-03-26T00:00:00\", \"2020-03-25T00:00:00\", \"2020-03-21T00:00:00\", \"2020-03-15T00:00:00\", \"2020-03-15T00:00:00\", \"2020-03-12T00:00:00\", \"2020-03-11T00:00:00\", \"2020-03-11T00:00:00\", \"2020-03-09T00:00:00\", \"2020-03-05T00:00:00\", \"2020-03-05T00:00:00\", \"2020-03-04T00:00:00\", \"2020-03-03T00:00:00\", \"2020-03-03T00:00:00\", \"2020-03-03T00:00:00\", \"2020-03-03T00:00:00\", \"2020-03-01T00:00:00\", \"2020-02-25T00:00:00\", \"2020-02-22T00:00:00\", \"2020-02-16T00:00:00\", \"2020-02-13T00:00:00\", \"2020-02-12T00:00:00\", \"2020-02-11T00:00:00\", \"2020-02-09T00:00:00\", \"2020-02-06T00:00:00\", \"2020-01-29T00:00:00\", \"2020-01-22T00:00:00\", \"2020-01-17T00:00:00\", \"2020-01-06T00:00:00\", \"2020-01-03T00:00:00\", \"2019-12-19T00:00:00\", \"2019-12-12T00:00:00\", \"2019-12-11T00:00:00\", \"2019-12-10T00:00:00\", \"2019-12-08T00:00:00\", \"2019-12-06T00:00:00\", \"2019-12-05T00:00:00\", \"2019-12-04T00:00:00\", \"2019-12-03T00:00:00\", \"2019-12-02T00:00:00\", \"2019-11-29T00:00:00\", \"2019-11-26T00:00:00\", \"2019-11-26T00:00:00\", \"2019-11-20T00:00:00\", \"2019-11-18T00:00:00\", \"2019-11-15T00:00:00\", \"2019-11-14T00:00:00\", \"2019-11-14T00:00:00\", \"2019-11-13T00:00:00\", \"2019-11-08T00:00:00\", \"2019-11-02T00:00:00\", \"2019-11-01T00:00:00\", \"2019-10-30T00:00:00\", \"2019-10-30T00:00:00\", \"2019-10-28T00:00:00\", \"2019-10-21T00:00:00\", \"2019-10-18T00:00:00\", \"2019-10-16T00:00:00\", \"2019-10-16T00:00:00\", \"2019-10-11T00:00:00\", \"2019-10-07T00:00:00\", \"2019-10-03T00:00:00\", \"2019-09-22T00:00:00\", \"2019-09-19T00:00:00\", \"2019-09-18T00:00:00\", \"2019-09-17T00:00:00\", \"2019-09-16T00:00:00\", \"2019-09-16T00:00:00\", \"2019-09-13T00:00:00\", \"2019-09-10T00:00:00\", \"2019-09-06T00:00:00\", \"2019-09-04T00:00:00\", \"2019-08-27T00:00:00\", \"2019-08-20T00:00:00\", \"2019-08-20T00:00:00\", \"2019-08-20T00:00:00\", \"2019-08-17T00:00:00\", \"2019-08-17T00:00:00\", \"2019-08-08T00:00:00\", \"2019-08-02T00:00:00\", \"2019-07-31T00:00:00\", \"2019-07-31T00:00:00\", \"2019-07-30T00:00:00\", \"2019-07-25T00:00:00\", \"2019-07-17T00:00:00\", \"2019-07-16T00:00:00\", \"2019-07-11T00:00:00\", \"2019-07-10T00:00:00\", \"2019-07-08T00:00:00\", \"2019-07-05T00:00:00\", \"2019-07-05T00:00:00\", \"2019-07-05T00:00:00\", \"2019-06-27T00:00:00\", \"2019-06-22T00:00:00\", \"2019-06-20T00:00:00\", \"2019-06-07T00:00:00\", \"2019-06-04T00:00:00\", \"2019-06-03T00:00:00\", \"2019-05-29T00:00:00\", \"2019-05-29T00:00:00\"], \"xaxis\": \"x\", \"y\": [-1.4683151245117188, -1.4818131923675537, -1.4687644839286804, -1.4634064435958862, -1.4108120203018188, -1.496006429195404, -1.4960870742797852, -1.4824767112731934, -1.48220694065094, -1.4904828071594238, -1.4512472152709959, -1.4593190550804138, -1.4866226315498352, 1.0233885049819946, -1.489054799079895, 1.3823636174201963, -1.1628398895263672, 1.0349509716033936, -1.4108346700668335, 1.0096962451934814, -1.4967854022979736, -1.239102840423584, -1.346242904663086, -1.3385263085365295, -1.459164798259735, -1.3078707456588743, -1.3320425152778623, -1.4954906105995178, -1.4918662905693054, -1.488759994506836, -1.24726140499115, -1.445267140865326, -1.486204743385315, -1.4868621826171875, 1.0024464130401611, -1.4599080681800842, -1.426760733127594, -1.4044412970542908, -1.191991090774536, -1.4962354302406309, -0.022702443413436413, -1.3789582848548891, -1.4817968606948853, -1.4750465154647827, -1.497636795043945, -1.497539520263672, -1.4951971173286438, -1.4835996627807615, -0.30269890278577805, -1.4912227392196655, -1.0711686611175537, -1.455136775970459, -1.4472461342811584, -1.4643130898475647, -1.3466267585754397, -1.4885045886039734, -1.4915114045143127, 0.9574093222618104, -1.4628388285636902, -1.492689073085785, -1.4557995200157166, -1.4167442917823792, -1.487895131111145, -1.4488927721977234, -1.4918295741081238, -1.0258077383041382, -1.4944663643836975, -1.4831725358963013, -1.4405280351638794, -1.4693830013275146, -1.4832180738449097, -1.3772408962249756, -1.4655722975730896, -1.0497724413871763, -1.4816680550575256, -1.4919506311416626, -1.460590124130249, -1.0005382895469666, -1.4723873734474182, -1.4604279398918152, -1.4555872082710266, -1.4897063970565796, -1.4898185133934019, -1.4284493923187256, -1.4977528452873232, -1.162378966808319, -1.477896809577942, -1.4622162580490112, 0.21586258709430692, -1.3590514063835144, -1.4968488812446594, 1.3585763573646543, -1.4746431112289429, -1.4803590774536133, -1.447998046875, -1.3936944007873535, 1.3671354055404663, -1.4348193407058716, 0.06392174959182742, -1.4809664487838743, -1.3558822274208069, -1.4966316819190981, -1.4968268275260923, -1.1739662885665894, -1.4107518196105957, -1.4388367533683777, -1.4791496396064758, -1.3969825506210327, -1.4406973123550415, -1.4882531762123108, -1.4333474040031433, -1.49026757478714, -0.041326582431793164, -1.4986814856529236, -1.008846640586853, -1.4058809280395508, -1.4954476952552795, -0.9833950102329254, -1.4807608127593994, -1.397202551364899, -1.471190094947815, -1.4813864827156067, -1.4884935021400452, -1.4541098475456238, -0.1431766897439956, -1.4898536801338196, -1.4972641468048096, -1.4639339447021484, -1.4889812469482422, -1.4541807174682615, -1.4315539598464966, -1.4912952184677124, -1.3156275153160095, -1.3472251892089844, -1.2728689312934875, -1.3073822855949402, -1.1247559785842896, -1.4882408380508425, -1.4959635734558103, -1.490458607673645, 1.14924955368042, -1.3842570781707764, -1.4732147455215454, -1.1862097382545471, -1.4646298289299011, -1.4671412706375122, -1.4553110003471377, -1.2835177183151243, -1.4636775851249697, -1.4928763508796692, -1.4611924290657043, -1.4536277055740356, -1.4739893674850464, -1.487616002559662, -1.263207197189331, -1.4828815460205078, 1.3641000986099243, -1.4942260384559631, -1.445416510105133, -1.2612217664718628, 1.1570201516151428, -0.9340306818485259, -1.4875062704086304, -1.413043200969696, -1.4553691148757937, -1.475605010986328, -1.2172589302062988, -0.04206804186105725, -1.467419445514679, -1.4751519560813904, -1.1260287165641785, -1.1062710881233215, -1.3111994862556458, -1.4081818461418152, 0.3415573686361313, -1.383362591266632, -1.268319308757782, -0.20077674090862274, -1.4958236217498782, -1.3981194496154783, 0.2781561017036438, 0.003996714949607849, -1.0773119926452637, -1.2473877668380735, -1.3713741898536682, -1.4592758417129517, 1.39719420671463, -1.4945874214172363, -1.1642679572105408, -1.4626274704933169, -1.4246641993522644, -1.302919626235962, -1.4940273761749268, -1.3254411816596985, 1.0081776976585388, 1.1041517853736875, -1.4775766730308533, 0.9343876838684082, -1.4777686595916748, -1.492027461528778, -1.4611859321594238, -1.421220064163208, -1.4408833980560305, -1.4554929733276367, -1.449923574924469, -1.4078974127769468, -1.2930588126182556, -1.3928277492523191, -1.2300317883491516, -1.3994871377944946, -1.4567667841911316, -1.211540460586548, -1.4763799905776978, -1.3271567821502686, -1.4763026237487793, -1.1389800906181335, -1.4481654167175293, -1.2673115134239197, -0.12899740040302282, 1.1206945776939392, -1.3488296270370483, -1.3532964587211609, 1.3491231203079224, -1.4905622601509094, -1.481797456741333, -1.272308886051178, -1.4707533717155457, -1.029288113117218, -1.4673941135406494, -1.3470120429992676, -1.021562397480011, -1.1859960556030271, -1.1891990303993225, -1.4738775491714478, -0.20558993518352509, -1.4326344728469849, -1.4537996649742126, -1.4830925464630127, -1.0794246792793274, -1.4979329109191897, -1.4964648485183716, -1.414334237575531, -0.9325861632823944, -1.4797326326370241, -1.4348241686820984, -1.4957606196403503, 0.019974973052740097, 1.0741904377937317, 0.20769794285297394, -1.4861948490142822, 0.986150085926056, 0.04073728621006012, -1.4909834861755369, -1.4948387742042542, -1.281525194644928, -1.3450673818588257, -1.467278003692627, -1.491866409778595, -1.1885100603103638, -1.466667354106903, -1.0708894729614258, -1.495846688747406, -1.4365554451942444, 0.1923990398645401, -0.3781587183475494, -1.4733077883720398, -1.4938480257987976, -1.4984188079833984, -0.08431307412683962, -1.2233072519302368, -0.2209878154098988, -1.3357903361320496, -1.1210172772407532, -1.3788607120513916, -1.1872628331184387, 0.0074556577019393435, -1.2152209877967834, 1.0441216230392456, 1.0120437741279602, 1.1263619661331177, -1.3023983836174011, -0.07119139097630979, -1.4242563843727112, 0.008404538035392733, -1.4216344356536863, 0.05345308594405651, -1.4300835728645325, -1.4046415090560913, -1.4938645958900452, -1.1658294200897217, -1.4727674126625059, -1.371609628200531, -1.3601900935173037, 0.024392109364271167, -1.4033464789390564, -1.3768009543418884, -1.2848215699195862, -1.001880407333374, -1.4377068281173706, -1.428741633892059, -1.3117189407348633, 1.1118239164352417, 0.8706878423690796, 0.01899129524827004, -1.1677052974700928, -1.3724874258041382, -1.4703630208969116, -1.477318823337555, -1.4358419179916382, -1.4670463800430298, -1.48216313123703, -1.0780017971992493, -1.4560559391975405, -1.1912057399749756, -1.2952191233634949, 0.07753784768283366, -0.1359410136938095, -1.3653278946876526, -1.4556376934051514, -0.021921386942267414, 0.07632870972156525, -1.4880865812301636, -1.4537758231163025, -1.2924529314041138, -0.0023841196671128273, -0.11374065279960635, -1.4486374855041504, -1.379200100898743, -1.1217445731163025, -1.4776366949081419, -1.2001571655273438, -1.4222680330276491, -0.33764428272843355, -1.3028564453125, -1.4822188019752502, 1.1392205953598022, -1.4532155990600586, -1.378044843673706, -0.9510474205017091, -1.3571943044662476, -1.4669429063796997, -1.4470824003219604, -1.4232293963432312, -0.014971427619457243, 1.2265042662620544, 0.06157826632261276], \"yaxis\": \"y2\"}, {\"marker\": {\"color\": \"orange\"}, \"mode\": \"markers\", \"name\": \"Golden Sentiment\", \"opacity\": 0.5, \"type\": \"scatter\", \"x\": [\"2020-04-29T00:00:00\", \"2020-04-29T00:00:00\", \"2020-04-15T00:00:00\", \"2020-04-14T00:00:00\", \"2020-04-02T00:00:00\", \"2020-03-30T00:00:00\", \"2020-03-30T00:00:00\", \"2020-03-28T00:00:00\", \"2020-03-27T00:00:00\", \"2020-03-27T00:00:00\", \"2020-03-26T00:00:00\", \"2020-03-26T00:00:00\", \"2020-03-18T00:00:00\", \"2020-03-18T00:00:00\", \"2020-03-18T00:00:00\", \"2020-03-18T00:00:00\", \"2020-03-17T00:00:00\", \"2020-03-16T00:00:00\", \"2020-03-15T00:00:00\", \"2020-03-15T00:00:00\", \"2020-03-13T00:00:00\", \"2020-03-11T00:00:00\", \"2020-03-09T00:00:00\", \"2020-03-09T00:00:00\", \"2020-03-06T00:00:00\", \"2020-03-05T00:00:00\", \"2020-03-05T00:00:00\", \"2020-03-05T00:00:00\", \"2020-03-05T00:00:00\", \"2020-03-04T00:00:00\", \"2020-03-04T00:00:00\", \"2020-03-04T00:00:00\", \"2020-03-04T00:00:00\", \"2020-03-04T00:00:00\", \"2020-03-04T00:00:00\", \"2020-03-04T00:00:00\", \"2020-03-04T00:00:00\", \"2020-03-04T00:00:00\", \"2020-03-04T00:00:00\", \"2020-03-03T00:00:00\", \"2020-03-03T00:00:00\", \"2020-03-03T00:00:00\", \"2020-03-03T00:00:00\", \"2020-03-03T00:00:00\", \"2020-03-03T00:00:00\", \"2020-03-03T00:00:00\", \"2020-03-03T00:00:00\", \"2020-03-02T00:00:00\", \"2020-03-02T00:00:00\", \"2020-03-02T00:00:00\", \"2020-03-02T00:00:00\", \"2020-03-02T00:00:00\", \"2020-02-26T00:00:00\", \"2020-01-30T00:00:00\", \"2020-01-29T00:00:00\", \"2020-01-29T00:00:00\", \"2020-01-24T00:00:00\", \"2020-01-23T00:00:00\", \"2020-01-23T00:00:00\", \"2020-01-23T00:00:00\", \"2020-01-22T00:00:00\", \"2020-01-21T00:00:00\", \"2020-01-20T00:00:00\", \"2020-01-18T00:00:00\", \"2020-01-17T00:00:00\", \"2020-01-15T00:00:00\", \"2020-01-14T00:00:00\", \"2020-01-10T00:00:00\", \"2020-01-09T00:00:00\", \"2020-01-07T00:00:00\", \"2020-01-06T00:00:00\", \"2020-01-06T00:00:00\", \"2019-12-31T00:00:00\", \"2019-12-20T00:00:00\", \"2019-12-19T00:00:00\", \"2019-12-18T00:00:00\", \"2019-12-18T00:00:00\", \"2019-12-16T00:00:00\", \"2019-12-13T00:00:00\", \"2019-12-13T00:00:00\", \"2019-12-13T00:00:00\", \"2019-12-12T00:00:00\", \"2019-12-11T00:00:00\", \"2019-12-11T00:00:00\", \"2019-12-11T00:00:00\", \"2019-12-11T00:00:00\", \"2019-12-10T00:00:00\", \"2019-12-06T00:00:00\", \"2019-12-06T00:00:00\", \"2019-12-03T00:00:00\", \"2019-11-28T00:00:00\", \"2019-11-25T00:00:00\", \"2019-11-21T00:00:00\", \"2019-11-20T00:00:00\", \"2019-11-20T00:00:00\", \"2019-11-20T00:00:00\", \"2019-11-18T00:00:00\", \"2019-11-14T00:00:00\", \"2019-11-14T00:00:00\", \"2019-11-11T00:00:00\", \"2019-11-11T00:00:00\", \"2019-11-06T00:00:00\", \"2019-11-05T00:00:00\", \"2019-11-05T00:00:00\", \"2019-11-04T00:00:00\", \"2019-10-31T00:00:00\", \"2019-10-30T00:00:00\", \"2019-10-30T00:00:00\", \"2019-10-30T00:00:00\", \"2019-10-30T00:00:00\", \"2019-10-28T00:00:00\", \"2019-10-24T00:00:00\", \"2019-10-22T00:00:00\", \"2019-10-21T00:00:00\", \"2019-10-18T00:00:00\", \"2019-10-17T00:00:00\", \"2019-10-16T00:00:00\", \"2019-10-16T00:00:00\", \"2019-10-15T00:00:00\", \"2019-10-11T00:00:00\", \"2019-10-10T00:00:00\", \"2019-10-09T00:00:00\", \"2019-10-08T00:00:00\", \"2019-10-08T00:00:00\", \"2019-10-07T00:00:00\", \"2019-10-07T00:00:00\", \"2019-10-04T00:00:00\", \"2019-10-03T00:00:00\", \"2019-10-02T00:00:00\", \"2019-10-02T00:00:00\", \"2019-10-01T00:00:00\", \"2019-10-01T00:00:00\", \"2019-10-01T00:00:00\", \"2019-09-30T00:00:00\", \"2019-09-30T00:00:00\", \"2019-09-30T00:00:00\", \"2019-09-26T00:00:00\", \"2019-09-19T00:00:00\", \"2019-09-19T00:00:00\", \"2019-09-18T00:00:00\", \"2019-09-16T00:00:00\", \"2019-09-12T00:00:00\", \"2019-09-10T00:00:00\", \"2019-09-09T00:00:00\", \"2019-09-04T00:00:00\", \"2019-09-04T00:00:00\", \"2019-08-27T00:00:00\", \"2019-08-26T00:00:00\", \"2019-08-26T00:00:00\", \"2019-08-26T00:00:00\", \"2019-08-23T00:00:00\", \"2019-08-23T00:00:00\", \"2019-08-21T00:00:00\", \"2019-08-14T00:00:00\", \"2019-08-09T00:00:00\", \"2019-08-09T00:00:00\", \"2019-08-08T00:00:00\", \"2019-08-07T00:00:00\", \"2019-08-07T00:00:00\", \"2019-07-31T00:00:00\", \"2019-07-29T00:00:00\", \"2019-07-26T00:00:00\", \"2019-07-11T00:00:00\", \"2019-07-08T00:00:00\", \"2019-07-05T00:00:00\", \"2019-07-04T00:00:00\", \"2019-07-03T00:00:00\", \"2019-07-03T00:00:00\", \"2019-07-02T00:00:00\", \"2019-06-26T00:00:00\", \"2019-06-26T00:00:00\", \"2019-06-25T00:00:00\", \"2019-06-25T00:00:00\", \"2019-06-20T00:00:00\", \"2019-06-20T00:00:00\", \"2019-06-19T00:00:00\", \"2019-06-19T00:00:00\", \"2019-06-18T00:00:00\", \"2019-06-18T00:00:00\", \"2019-06-14T00:00:00\", \"2019-06-11T00:00:00\", \"2019-06-06T00:00:00\", \"2019-06-04T00:00:00\", \"2019-06-04T00:00:00\", \"2019-06-04T00:00:00\", \"2019-05-31T00:00:00\", \"2019-05-17T00:00:00\", \"2019-05-10T00:00:00\", \"2019-04-26T00:00:00\", \"2019-04-24T00:00:00\", \"2019-04-15T00:00:00\", \"2019-04-15T00:00:00\", \"2019-04-15T00:00:00\", \"2019-04-09T00:00:00\", \"2019-04-01T00:00:00\", \"2019-04-01T00:00:00\", \"2019-03-22T00:00:00\", \"2019-03-21T00:00:00\", \"2019-03-20T00:00:00\", \"2019-03-08T00:00:00\", \"2019-03-06T00:00:00\", \"2019-03-06T00:00:00\", \"2019-03-01T00:00:00\", \"2019-02-25T00:00:00\", \"2019-02-20T00:00:00\", \"2019-02-20T00:00:00\", \"2019-02-19T00:00:00\", \"2019-02-04T00:00:00\", \"2019-01-31T00:00:00\", \"2019-01-30T00:00:00\", \"2019-01-23T00:00:00\", \"2019-01-22T00:00:00\", \"2019-01-21T00:00:00\", \"2019-01-18T00:00:00\", \"2019-01-17T00:00:00\", \"2019-01-16T00:00:00\", \"2019-01-15T00:00:00\", \"2019-01-15T00:00:00\", \"2019-01-15T00:00:00\", \"2019-01-09T00:00:00\", \"2019-01-08T00:00:00\", \"2019-01-04T00:00:00\", \"2019-01-02T00:00:00\", \"2018-12-28T00:00:00\", \"2018-12-21T00:00:00\", \"2018-12-21T00:00:00\", \"2018-12-20T00:00:00\", \"2018-12-19T00:00:00\", \"2018-12-13T00:00:00\", \"2018-11-30T00:00:00\", \"2018-11-16T00:00:00\", \"2020-05-18T00:00:00\", \"2020-05-14T00:00:00\", \"2020-05-13T00:00:00\", \"2020-05-08T00:00:00\", \"2020-05-06T00:00:00\", \"2020-04-29T00:00:00\", \"2020-04-16T00:00:00\", \"2020-04-15T00:00:00\", \"2020-04-06T00:00:00\", \"2020-04-04T00:00:00\", \"2020-04-04T00:00:00\", \"2020-04-03T00:00:00\", \"2020-04-03T00:00:00\", \"2020-04-02T00:00:00\", \"2020-03-27T00:00:00\", \"2020-03-26T00:00:00\", \"2020-03-25T00:00:00\", \"2020-03-21T00:00:00\", \"2020-03-15T00:00:00\", \"2020-03-15T00:00:00\", \"2020-03-12T00:00:00\", \"2020-03-11T00:00:00\", \"2020-03-11T00:00:00\", \"2020-03-09T00:00:00\", \"2020-03-05T00:00:00\", \"2020-03-05T00:00:00\", \"2020-03-04T00:00:00\", \"2020-03-03T00:00:00\", \"2020-03-03T00:00:00\", \"2020-03-03T00:00:00\", \"2020-03-03T00:00:00\", \"2020-03-01T00:00:00\", \"2020-02-25T00:00:00\", \"2020-02-22T00:00:00\", \"2020-02-16T00:00:00\", \"2020-02-13T00:00:00\", \"2020-02-12T00:00:00\", \"2020-02-11T00:00:00\", \"2020-02-09T00:00:00\", \"2020-02-06T00:00:00\", \"2020-01-29T00:00:00\", \"2020-01-22T00:00:00\", \"2020-01-17T00:00:00\", \"2020-01-06T00:00:00\", \"2020-01-03T00:00:00\", \"2019-12-19T00:00:00\", \"2019-12-12T00:00:00\", \"2019-12-11T00:00:00\", \"2019-12-10T00:00:00\", \"2019-12-08T00:00:00\", \"2019-12-06T00:00:00\", \"2019-12-05T00:00:00\", \"2019-12-04T00:00:00\", \"2019-12-03T00:00:00\", \"2019-12-02T00:00:00\", \"2019-11-29T00:00:00\", \"2019-11-26T00:00:00\", \"2019-11-26T00:00:00\", \"2019-11-20T00:00:00\", \"2019-11-18T00:00:00\", \"2019-11-15T00:00:00\", \"2019-11-14T00:00:00\", \"2019-11-14T00:00:00\", \"2019-11-13T00:00:00\", \"2019-11-08T00:00:00\", \"2019-11-02T00:00:00\", \"2019-11-01T00:00:00\", \"2019-10-30T00:00:00\", \"2019-10-30T00:00:00\", \"2019-10-28T00:00:00\", \"2019-10-21T00:00:00\", \"2019-10-18T00:00:00\", \"2019-10-16T00:00:00\", \"2019-10-16T00:00:00\", \"2019-10-11T00:00:00\", \"2019-10-07T00:00:00\", \"2019-10-03T00:00:00\", \"2019-09-22T00:00:00\", \"2019-09-19T00:00:00\", \"2019-09-18T00:00:00\", \"2019-09-17T00:00:00\", \"2019-09-16T00:00:00\", \"2019-09-16T00:00:00\", \"2019-09-13T00:00:00\", \"2019-09-10T00:00:00\", \"2019-09-06T00:00:00\", \"2019-09-04T00:00:00\", \"2019-08-27T00:00:00\", \"2019-08-20T00:00:00\", \"2019-08-20T00:00:00\", \"2019-08-20T00:00:00\", \"2019-08-17T00:00:00\", \"2019-08-17T00:00:00\", \"2019-08-08T00:00:00\", \"2019-08-02T00:00:00\", \"2019-07-31T00:00:00\", \"2019-07-31T00:00:00\", \"2019-07-30T00:00:00\", \"2019-07-25T00:00:00\", \"2019-07-17T00:00:00\", \"2019-07-16T00:00:00\", \"2019-07-11T00:00:00\", \"2019-07-10T00:00:00\", \"2019-07-08T00:00:00\", \"2019-07-05T00:00:00\", \"2019-07-05T00:00:00\", \"2019-07-05T00:00:00\", \"2019-06-27T00:00:00\", \"2019-06-22T00:00:00\", \"2019-06-20T00:00:00\", \"2019-06-07T00:00:00\", \"2019-06-04T00:00:00\", \"2019-06-03T00:00:00\", \"2019-05-29T00:00:00\", \"2019-05-29T00:00:00\"], \"xaxis\": \"x\", \"y\": [-1.5, -1.5, 0.0, 0.0, -1.5, 0.0, -1.5, 1.5, -1.5, 0.0, -1.5, 0.0, 0.0, -1.5, 0.0, -1.5, -1.5, -1.5, 0.0, -1.5, -1.5, -1.5, -1.5, 0.0, 0.0, 0.0, 0.0, 0.0, -1.5, -1.5, 0.0, -1.5, 0.0, -1.5, 0.0, 0.0, 0.0, 0.0, 0.0, 0.0, -1.5, 0.0, -1.5, 0.0, 0.0, 0.0, 0.0, 0.0, -1.5, 1.5, 1.5, -1.5, 0.0, 0.0, 1.5, 0.0, -1.5, -1.5, 0.0, 0.0, 0.0, 1.5, -1.5, 0.0, 0.0, -1.5, 0.0, -1.5, 0.0, 0.0, 0.0, 0.0, 0.0, 0.0, -1.5, -1.5, 1.5, 0.0, 0.0, -1.5, 0.0, 0.0, 0.0, 1.5, 0.0, 0.0, -1.5, 0.0, 1.5, 0.0, 0.0, 1.5, 0.0, 0.0, 0.0, 0.0, -1.5, 0.0, 0.0, -1.5, -1.5, -1.5, 1.5, -1.5, 0.0, 1.5, -1.5, 0.0, 0.0, 0.0, 0.0, 0.0, 0.0, -1.5, 0.0, 0.0, 0.0], \"yaxis\": \"y2\"}],\n",
       "                        {\"template\": {\"data\": {\"bar\": [{\"error_x\": {\"color\": \"#2a3f5f\"}, \"error_y\": {\"color\": \"#2a3f5f\"}, \"marker\": {\"line\": {\"color\": \"#E5ECF6\", \"width\": 0.5}}, \"type\": \"bar\"}], \"barpolar\": [{\"marker\": {\"line\": {\"color\": \"#E5ECF6\", \"width\": 0.5}}, \"type\": \"barpolar\"}], \"carpet\": [{\"aaxis\": {\"endlinecolor\": \"#2a3f5f\", \"gridcolor\": \"white\", \"linecolor\": \"white\", \"minorgridcolor\": \"white\", \"startlinecolor\": \"#2a3f5f\"}, \"baxis\": {\"endlinecolor\": \"#2a3f5f\", \"gridcolor\": \"white\", \"linecolor\": \"white\", \"minorgridcolor\": \"white\", \"startlinecolor\": \"#2a3f5f\"}, \"type\": \"carpet\"}], \"choropleth\": [{\"colorbar\": {\"outlinewidth\": 0, \"ticks\": \"\"}, \"type\": \"choropleth\"}], \"contour\": [{\"colorbar\": {\"outlinewidth\": 0, \"ticks\": \"\"}, \"colorscale\": [[0.0, \"#0d0887\"], [0.1111111111111111, \"#46039f\"], [0.2222222222222222, \"#7201a8\"], [0.3333333333333333, \"#9c179e\"], [0.4444444444444444, \"#bd3786\"], [0.5555555555555556, \"#d8576b\"], [0.6666666666666666, \"#ed7953\"], [0.7777777777777778, \"#fb9f3a\"], [0.8888888888888888, \"#fdca26\"], [1.0, \"#f0f921\"]], \"type\": \"contour\"}], \"contourcarpet\": [{\"colorbar\": {\"outlinewidth\": 0, \"ticks\": \"\"}, \"type\": \"contourcarpet\"}], \"heatmap\": [{\"colorbar\": {\"outlinewidth\": 0, \"ticks\": \"\"}, \"colorscale\": [[0.0, \"#0d0887\"], [0.1111111111111111, \"#46039f\"], [0.2222222222222222, \"#7201a8\"], [0.3333333333333333, \"#9c179e\"], [0.4444444444444444, \"#bd3786\"], [0.5555555555555556, \"#d8576b\"], [0.6666666666666666, \"#ed7953\"], [0.7777777777777778, \"#fb9f3a\"], [0.8888888888888888, \"#fdca26\"], [1.0, \"#f0f921\"]], \"type\": \"heatmap\"}], \"heatmapgl\": [{\"colorbar\": {\"outlinewidth\": 0, \"ticks\": \"\"}, \"colorscale\": [[0.0, \"#0d0887\"], [0.1111111111111111, \"#46039f\"], [0.2222222222222222, \"#7201a8\"], [0.3333333333333333, \"#9c179e\"], [0.4444444444444444, \"#bd3786\"], [0.5555555555555556, \"#d8576b\"], [0.6666666666666666, \"#ed7953\"], [0.7777777777777778, \"#fb9f3a\"], [0.8888888888888888, \"#fdca26\"], [1.0, \"#f0f921\"]], \"type\": \"heatmapgl\"}], \"histogram\": [{\"marker\": {\"colorbar\": {\"outlinewidth\": 0, \"ticks\": \"\"}}, \"type\": \"histogram\"}], \"histogram2d\": [{\"colorbar\": {\"outlinewidth\": 0, \"ticks\": \"\"}, \"colorscale\": [[0.0, \"#0d0887\"], [0.1111111111111111, \"#46039f\"], [0.2222222222222222, \"#7201a8\"], [0.3333333333333333, \"#9c179e\"], [0.4444444444444444, \"#bd3786\"], [0.5555555555555556, \"#d8576b\"], [0.6666666666666666, \"#ed7953\"], [0.7777777777777778, \"#fb9f3a\"], [0.8888888888888888, \"#fdca26\"], [1.0, \"#f0f921\"]], \"type\": \"histogram2d\"}], \"histogram2dcontour\": [{\"colorbar\": {\"outlinewidth\": 0, \"ticks\": \"\"}, \"colorscale\": [[0.0, \"#0d0887\"], [0.1111111111111111, \"#46039f\"], [0.2222222222222222, \"#7201a8\"], [0.3333333333333333, \"#9c179e\"], [0.4444444444444444, \"#bd3786\"], [0.5555555555555556, \"#d8576b\"], [0.6666666666666666, \"#ed7953\"], [0.7777777777777778, \"#fb9f3a\"], [0.8888888888888888, \"#fdca26\"], [1.0, \"#f0f921\"]], \"type\": \"histogram2dcontour\"}], \"mesh3d\": [{\"colorbar\": {\"outlinewidth\": 0, \"ticks\": \"\"}, \"type\": \"mesh3d\"}], \"parcoords\": [{\"line\": {\"colorbar\": {\"outlinewidth\": 0, \"ticks\": \"\"}}, \"type\": \"parcoords\"}], \"pie\": [{\"automargin\": true, \"type\": \"pie\"}], \"scatter\": [{\"marker\": {\"colorbar\": {\"outlinewidth\": 0, \"ticks\": \"\"}}, \"type\": \"scatter\"}], \"scatter3d\": [{\"line\": {\"colorbar\": {\"outlinewidth\": 0, \"ticks\": \"\"}}, \"marker\": {\"colorbar\": {\"outlinewidth\": 0, \"ticks\": \"\"}}, \"type\": \"scatter3d\"}], \"scattercarpet\": [{\"marker\": {\"colorbar\": {\"outlinewidth\": 0, \"ticks\": \"\"}}, \"type\": \"scattercarpet\"}], \"scattergeo\": [{\"marker\": {\"colorbar\": {\"outlinewidth\": 0, \"ticks\": \"\"}}, \"type\": \"scattergeo\"}], \"scattergl\": [{\"marker\": {\"colorbar\": {\"outlinewidth\": 0, \"ticks\": \"\"}}, \"type\": \"scattergl\"}], \"scattermapbox\": [{\"marker\": {\"colorbar\": {\"outlinewidth\": 0, \"ticks\": \"\"}}, \"type\": \"scattermapbox\"}], \"scatterpolar\": [{\"marker\": {\"colorbar\": {\"outlinewidth\": 0, \"ticks\": \"\"}}, \"type\": \"scatterpolar\"}], \"scatterpolargl\": [{\"marker\": {\"colorbar\": {\"outlinewidth\": 0, \"ticks\": \"\"}}, \"type\": \"scatterpolargl\"}], \"scatterternary\": [{\"marker\": {\"colorbar\": {\"outlinewidth\": 0, \"ticks\": \"\"}}, \"type\": \"scatterternary\"}], \"surface\": [{\"colorbar\": {\"outlinewidth\": 0, \"ticks\": \"\"}, \"colorscale\": [[0.0, \"#0d0887\"], [0.1111111111111111, \"#46039f\"], [0.2222222222222222, \"#7201a8\"], [0.3333333333333333, \"#9c179e\"], [0.4444444444444444, \"#bd3786\"], [0.5555555555555556, \"#d8576b\"], [0.6666666666666666, \"#ed7953\"], [0.7777777777777778, \"#fb9f3a\"], [0.8888888888888888, \"#fdca26\"], [1.0, \"#f0f921\"]], \"type\": \"surface\"}], \"table\": [{\"cells\": {\"fill\": {\"color\": \"#EBF0F8\"}, \"line\": {\"color\": \"white\"}}, \"header\": {\"fill\": {\"color\": \"#C8D4E3\"}, \"line\": {\"color\": \"white\"}}, \"type\": \"table\"}]}, \"layout\": {\"annotationdefaults\": {\"arrowcolor\": \"#2a3f5f\", \"arrowhead\": 0, \"arrowwidth\": 1}, \"coloraxis\": {\"colorbar\": {\"outlinewidth\": 0, \"ticks\": \"\"}}, \"colorscale\": {\"diverging\": [[0, \"#8e0152\"], [0.1, \"#c51b7d\"], [0.2, \"#de77ae\"], [0.3, \"#f1b6da\"], [0.4, \"#fde0ef\"], [0.5, \"#f7f7f7\"], [0.6, \"#e6f5d0\"], [0.7, \"#b8e186\"], [0.8, \"#7fbc41\"], [0.9, \"#4d9221\"], [1, \"#276419\"]], \"sequential\": [[0.0, \"#0d0887\"], [0.1111111111111111, \"#46039f\"], [0.2222222222222222, \"#7201a8\"], [0.3333333333333333, \"#9c179e\"], [0.4444444444444444, \"#bd3786\"], [0.5555555555555556, \"#d8576b\"], [0.6666666666666666, \"#ed7953\"], [0.7777777777777778, \"#fb9f3a\"], [0.8888888888888888, \"#fdca26\"], [1.0, \"#f0f921\"]], \"sequentialminus\": [[0.0, \"#0d0887\"], [0.1111111111111111, \"#46039f\"], [0.2222222222222222, \"#7201a8\"], [0.3333333333333333, \"#9c179e\"], [0.4444444444444444, \"#bd3786\"], [0.5555555555555556, \"#d8576b\"], [0.6666666666666666, \"#ed7953\"], [0.7777777777777778, \"#fb9f3a\"], [0.8888888888888888, \"#fdca26\"], [1.0, \"#f0f921\"]]}, \"colorway\": [\"#636efa\", \"#EF553B\", \"#00cc96\", \"#ab63fa\", \"#FFA15A\", \"#19d3f3\", \"#FF6692\", \"#B6E880\", \"#FF97FF\", \"#FECB52\"], \"font\": {\"color\": \"#2a3f5f\"}, \"geo\": {\"bgcolor\": \"white\", \"lakecolor\": \"white\", \"landcolor\": \"#E5ECF6\", \"showlakes\": true, \"showland\": true, \"subunitcolor\": \"white\"}, \"hoverlabel\": {\"align\": \"left\"}, \"hovermode\": \"closest\", \"mapbox\": {\"style\": \"light\"}, \"paper_bgcolor\": \"white\", \"plot_bgcolor\": \"#E5ECF6\", \"polar\": {\"angularaxis\": {\"gridcolor\": \"white\", \"linecolor\": \"white\", \"ticks\": \"\"}, \"bgcolor\": \"#E5ECF6\", \"radialaxis\": {\"gridcolor\": \"white\", \"linecolor\": \"white\", \"ticks\": \"\"}}, \"scene\": {\"xaxis\": {\"backgroundcolor\": \"#E5ECF6\", \"gridcolor\": \"white\", \"gridwidth\": 2, \"linecolor\": \"white\", \"showbackground\": true, \"ticks\": \"\", \"zerolinecolor\": \"white\"}, \"yaxis\": {\"backgroundcolor\": \"#E5ECF6\", \"gridcolor\": \"white\", \"gridwidth\": 2, \"linecolor\": \"white\", \"showbackground\": true, \"ticks\": \"\", \"zerolinecolor\": \"white\"}, \"zaxis\": {\"backgroundcolor\": \"#E5ECF6\", \"gridcolor\": \"white\", \"gridwidth\": 2, \"linecolor\": \"white\", \"showbackground\": true, \"ticks\": \"\", \"zerolinecolor\": \"white\"}}, \"shapedefaults\": {\"line\": {\"color\": \"#2a3f5f\"}}, \"ternary\": {\"aaxis\": {\"gridcolor\": \"white\", \"linecolor\": \"white\", \"ticks\": \"\"}, \"baxis\": {\"gridcolor\": \"white\", \"linecolor\": \"white\", \"ticks\": \"\"}, \"bgcolor\": \"#E5ECF6\", \"caxis\": {\"gridcolor\": \"white\", \"linecolor\": \"white\", \"ticks\": \"\"}}, \"title\": {\"x\": 0.05}, \"xaxis\": {\"automargin\": true, \"gridcolor\": \"white\", \"linecolor\": \"white\", \"ticks\": \"\", \"title\": {\"standoff\": 15}, \"zerolinecolor\": \"white\", \"zerolinewidth\": 2}, \"yaxis\": {\"automargin\": true, \"gridcolor\": \"white\", \"linecolor\": \"white\", \"ticks\": \"\", \"title\": {\"standoff\": 15}, \"zerolinecolor\": \"white\", \"zerolinewidth\": 2}}}, \"title\": {\"text\": \"interest rates VS news sentiment (2019 Jan - 2020 May) \"}, \"xaxis\": {\"anchor\": \"y\", \"domain\": [0.0, 0.94], \"range\": [\"2019-05-31T00:00:00\", \"2020-05-18T00:00:00\"], \"rangeslider\": {\"visible\": true}, \"title\": {\"text\": \"Date\"}}, \"yaxis\": {\"anchor\": \"x\", \"autorange\": false, \"domain\": [0.0, 1.0], \"range\": [0.15, 1.85], \"title\": {\"text\": \"Interest Rate - Overnight Target Rate (Bank of Canada)\"}}, \"yaxis2\": {\"anchor\": \"x\", \"overlaying\": \"y\", \"range\": [-2.4986814856529236, 2.39719420671463], \"side\": \"right\", \"title\": {\"text\": \"Sentiment Score\"}}},\n",
       "                        {\"responsive\": true}\n",
       "                    ).then(function(){\n",
       "                            \n",
       "var gd = document.getElementById('58ab4648-d88b-47fe-bf06-4a25501f4a38');\n",
       "var x = new MutationObserver(function (mutations, observer) {{\n",
       "        var display = window.getComputedStyle(gd).display;\n",
       "        if (!display || display === 'none') {{\n",
       "            console.log([gd, 'removed!']);\n",
       "            Plotly.purge(gd);\n",
       "            observer.disconnect();\n",
       "        }}\n",
       "}});\n",
       "\n",
       "// Listen for the removal of the full notebook cells\n",
       "var notebookContainer = gd.closest('#notebook-container');\n",
       "if (notebookContainer) {{\n",
       "    x.observe(notebookContainer, {childList: true});\n",
       "}}\n",
       "\n",
       "// Listen for the clearing of the current output cell\n",
       "var outputEl = gd.closest('.output');\n",
       "if (outputEl) {{\n",
       "    x.observe(outputEl, {childList: true});\n",
       "}}\n",
       "\n",
       "                        })\n",
       "                };\n",
       "                });\n",
       "            </script>\n",
       "        </div>"
      ]
     },
     "metadata": {},
     "output_type": "display_data"
    }
   ],
   "source": [
    "#replace real_indicator_name with variable name\n",
    "indicator_name = \"interest rates\"\n",
    "indicator_colname = 'value_'+\"_\".join(indicator_name.split())# value_mortgage_rates\t\n",
    "#indicator_df = indicators_df[[indicator_colname]].dropna() \n",
    "\n",
    "# ref : indicators = ['GDP','mortgage rates','interest rates','employment','housing prices','TSX']\n",
    "senti_colname_dict = {'GDP':'gdp', 'employment':'employment', 'housing prices':'housing','interest rates': 'interest', 'mortgage rates':'mortgage','TSX': 'stock'}\n",
    "senti_colname = senti_colname_dict[indicator_name]\n",
    "\n",
    "daily_senti_df = combined_senti_df.query('indicator==@senti_colname ').rename(columns={'raw_sentiment_score':'final_sentiment'} )\n",
    "monthly_senti_df =get_monthly_avg_score(combined_senti_df.query('indicator==@senti_colname '))\n",
    "senti_df = monthly_senti_df.rename(columns={'monthly_avg_sent_score':'final_sentiment'} )\n",
    "\n",
    "indicator_df = indicators_df[['date', indicator_colname]].dropna().rename(columns={indicator_colname:\"values\",\"date\":\"dates\"})\n",
    "indicator_label = indic_to_value[indicator_colname]\n",
    "test_title = indicator_name + ' VS news sentiment (2019 Jan - 2020 May) '\n",
    "\n",
    "test_fig = plot_combined_graph_new(indicator_df, senti_df, indicator_label, test_title) \n",
    "test_fig.show()\n",
    "\n",
    "test_fig2 = plot_combined_graph_scatter(indicator_df, daily_senti_df, indicator_label, test_title) \n",
    "test_fig2.show()\n",
    "\n",
    "##adding here\n",
    "\n",
    "daily_senti_df = combined_senti_df.query('indicator==@senti_colname & annotation_type==\"predicted\" ').rename(columns={'raw_sentiment_score':'final_sentiment'} )\n",
    "daily_senti_df_anno = combined_senti_df.query('indicator==@senti_colname & annotation_type==\"annotated\" ').rename(columns={'raw_sentiment_score':'final_sentiment'} )\n",
    "\n",
    "test_fig3 = plot_combined_graph_scatter_anno(indicator_df, daily_senti_df, daily_senti_df_anno, indicator_label, test_title) \n",
    "test_fig3.show()"
   ]
  },
  {
   "cell_type": "code",
   "execution_count": null,
   "metadata": {},
   "outputs": [],
   "source": [
    "## 7:02pm try  the version with a third trace for annotations\n",
    "\n"
   ]
  },
  {
   "cell_type": "code",
   "execution_count": 214,
   "metadata": {},
   "outputs": [
    {
     "name": "stdout",
     "output_type": "stream",
     "text": [
      "Running on http://127.0.0.1:8050/\n",
      "Running on http://127.0.0.1:8050/\n",
      "Running on http://127.0.0.1:8050/\n",
      "Running on http://127.0.0.1:8050/\n",
      "Running on http://127.0.0.1:8050/\n",
      "Running on http://127.0.0.1:8050/\n",
      "Running on http://127.0.0.1:8050/\n",
      "Running on http://127.0.0.1:8050/\n",
      "Running on http://127.0.0.1:8050/\n",
      "Running on http://127.0.0.1:8050/\n",
      "Running on http://127.0.0.1:8050/\n",
      "Running on http://127.0.0.1:8050/\n",
      "Running on http://127.0.0.1:8050/\n",
      "Running on http://127.0.0.1:8050/\n",
      "Running on http://127.0.0.1:8050/\n",
      "Running on http://127.0.0.1:8050/\n",
      "Running on http://127.0.0.1:8050/\n",
      "Running on http://127.0.0.1:8050/\n",
      "Debugger PIN: 438-978-068\n",
      "Debugger PIN: 438-978-068\n",
      "Debugger PIN: 438-978-068\n",
      "Debugger PIN: 438-978-068\n",
      "Debugger PIN: 438-978-068\n",
      "Debugger PIN: 438-978-068\n",
      "Debugger PIN: 438-978-068\n",
      "Debugger PIN: 438-978-068\n",
      "Debugger PIN: 438-978-068\n",
      "Debugger PIN: 438-978-068\n",
      "Debugger PIN: 438-978-068\n",
      "Debugger PIN: 438-978-068\n",
      "Debugger PIN: 438-978-068\n",
      "Debugger PIN: 438-978-068\n",
      "Debugger PIN: 438-978-068\n",
      "Debugger PIN: 438-978-068\n",
      "Debugger PIN: 438-978-068\n",
      "Debugger PIN: 438-978-068\n",
      " * Serving Flask app \"__main__\" (lazy loading)\n",
      " * Environment: production\n",
      "   WARNING: This is a development server. Do not use it in a production deployment.\n",
      "   Use a production WSGI server instead.\n",
      " * Debug mode: on\n"
     ]
    }
   ],
   "source": [
    "## checkpoint: works as at Jun1 8:20pm (2 indicators)\n",
    "##checkpint: added vis of 6 indicators successfully Jun2 5:32pm\n",
    "\n",
    "import dash\n",
    "import dash_core_components as dcc\n",
    "import dash_html_components as html\n",
    "from dash.dependencies import Input, Output\n",
    "\n",
    "indicators = ['GDP','mortgage rates','interest rates','employment','housing prices','TSX']\n",
    "# indicators = ['Gross Domestic Product','Mortgage rates','Interest rates','Employment','Housing prices','Toronto Stock Exchange(TSX) Index']\n",
    "sources = ['All','Bloomberg','CBC']\n",
    "default_indicator = 'GDP'\n",
    "default_source = 'All'\n",
    "\n",
    "senti_colname_dict = {'GDP':'gdp', 'employment':'employment', 'housing prices':'housing','interest rates': 'interest', 'mortgage rates':'mortgage','TSX': 'stock'}\n",
    "\n",
    "\n",
    "app = dash.Dash()\n",
    "app.layout = html.Div([\n",
    "    \n",
    "    html.H1(\"Hello World\"),\n",
    "    \n",
    "    dcc.Markdown('''\n",
    "    Trying out paragraph writing\n",
    "    '''),\n",
    "    \n",
    "    dcc.Dropdown(\n",
    "                id='indicator-name',\n",
    "                options=[{'label': i[0].capitalize()+i[1:], 'value': i} for i in indicators],\n",
    "                value=default_indicator # set a default value\n",
    "            ),\n",
    "    \n",
    "    dcc.Dropdown(\n",
    "                id='source-name',\n",
    "                options=[{'label': i, 'value': i} for i in sources],\n",
    "                value=default_source # set a default value\n",
    "            ),\n",
    "    \n",
    "    html.P(\"Pick a chart type: \"),\n",
    "    \n",
    "    dcc.RadioItems(\n",
    "        id = 'chart-type',\n",
    "        options=[\n",
    "            {'label': 'Monthly average', 'value': 'line'},\n",
    "            {'label': 'Daily datapoints', 'value': 'scatter'}\n",
    "        ],\n",
    "        value='line'\n",
    "    ),\n",
    "    \n",
    "    dcc.Graph(id = 'indicator-senti-graph') #figure=test_fig\n",
    "])\n",
    "\n",
    "@app.callback(\n",
    "Output(\"indicator-senti-graph\",\"figure\"),# must be a single Output item when returns only one value\n",
    "[Input(\"indicator-name\",\"value\"),\n",
    "Input(\"source-name\",\"value\"),\n",
    "Input(\"chart-type\",\"value\")])\n",
    "def update_graph(indicator_name, source_name,chart_type):\n",
    "    \n",
    "    indicator_colname = 'value_'+\"_\".join(indicator_name.split())# value_mortgage_rates\t\n",
    "    #indicator_df = indicators_df[[indicator_colname]].dropna()\n",
    "    indicator_df = indicators_df[['date', indicator_colname]].dropna().rename(columns={indicator_colname:\"values\",\"date\":\"dates\"})\n",
    "    indicator_label = indic_to_value[indicator_colname]\n",
    "    test_title = indicator_name + ' VS news sentiment (2019 Jan - 2020 May) '\n",
    "    \n",
    "    \n",
    "    senti_colname = senti_colname_dict[indicator_name]\n",
    "    \n",
    "    if source_name == \"All\":\n",
    "        senti_df = combined_senti_df.query('indicator == @senti_colname')\n",
    "    else:\n",
    "        senti_df = combined_senti_df.query('source ==@source_name & indicator == @senti_colname ')\n",
    "    \n",
    "    \n",
    "    daily_senti_df = senti_df.rename(columns={'raw_sentiment_score':'final_sentiment'} )\n",
    "    monthly_senti_df =get_monthly_avg_score(senti_df)\n",
    "    month_senti_df = monthly_senti_df.rename(columns={'monthly_avg_sent_score':'final_sentiment'} )\n",
    "    \n",
    "\n",
    "    if chart_type == 'line':\n",
    "        return plot_combined_graph_new(indicator_df, month_senti_df, indicator_label, test_title) \n",
    "\n",
    "    else:\n",
    "        return plot_combined_graph_scatter(indicator_df, daily_senti_df, indicator_label, test_title) \n",
    "\n",
    "\n",
    "app.run_server(debug=True, use_reloader=False) "
   ]
  },
  {
   "cell_type": "code",
   "execution_count": null,
   "metadata": {},
   "outputs": [],
   "source": [
    "#below is a backup\n",
    "\n",
    "## checkpoint: works as at Jun1 8:20pm (2 indicators)\n",
    "##checkpint: added vis of 6 indicators successfully Jun2 5:32pm\n",
    "\n",
    "import dash\n",
    "import dash_core_components as dcc\n",
    "import dash_html_components as html\n",
    "from dash.dependencies import Input, Output\n",
    "\n",
    "indicators = ['GDP','mortgage rates','interest rates','employment','housing prices','TSX']\n",
    "# indicators = ['Gross Domestic Product','Mortgage rates','Interest rates','Employment','Housing prices','Toronto Stock Exchange(TSX) Index']\n",
    "sources = ['All','Bloomberg','CBC']\n",
    "default_indicator = 'GDP'\n",
    "default_source = 'All'\n",
    "\n",
    "df = indicators_df\n",
    "senti_df = combined_senti_df\n",
    "\n",
    "app = dash.Dash()\n",
    "app.layout = html.Div([\n",
    "    \n",
    "    html.H1(\"Hello World\"),\n",
    "    \n",
    "    dcc.Markdown('''\n",
    "    Trying out paragraph writing\n",
    "    '''),\n",
    "    \n",
    "    dcc.Dropdown(\n",
    "                id='indicator-name',\n",
    "                options=[{'label': i[0].capitalize()+i[1:], 'value': i} for i in indicators],\n",
    "                value=default_indicator # set a default value\n",
    "            ),\n",
    "    \n",
    "    dcc.Dropdown(\n",
    "                id='source-name',\n",
    "                options=[{'label': i, 'value': i} for i in sources],\n",
    "                value=default_source # set a default value\n",
    "            ),\n",
    "    \n",
    "    dcc.Graph(id = 'indicator-senti-graph') #figure=test_fig\n",
    "])\n",
    "\n",
    "@app.callback(\n",
    "Output(\"indicator-senti-graph\",\"figure\"),# must be a single Output item when returns only one value\n",
    "[Input(\"indicator-name\",\"value\"),\n",
    "Input(\"source-name\",\"value\")])\n",
    "def update_graph(indicator_name, source_name):\n",
    "    \n",
    "    indicator_colname = 'value_'+\"_\".join(indicator_name.split())# value_mortgage_rates\t\n",
    "    #indicator_df = indicators_df[[indicator_colname]].dropna()\n",
    "    indicator_df = indicators_df[['date', indicator_colname]].dropna().rename(columns={indicator_colname:\"values\",\"date\":\"dates\"})\n",
    "    indicator_label = indic_to_value[indicator_colname]\n",
    "    test_title = indicator_name + ' VS news sentiment (2019 Jan - 2020 May) '\n",
    "    \n",
    "#     if source_name == \"All\":\n",
    "#         senti_df = senti_df\n",
    "    if source_name != \"All\":\n",
    "        senti_df = senti_df.query('source ==@source_name')\n",
    "    \n",
    "    \n",
    "    test_fig = plot_combined_graph(indicator_df, senti_df, indicator_label, test_title)\n",
    "    test_fig = plot_combined_graph_scatter(indicator_df, senti_df, indicator_label, test_title) \n",
    "\n",
    "    \n",
    "    return test_fig\n",
    "\n",
    "\n",
    "app.run_server(debug=True, use_reloader=False) "
   ]
  },
  {
   "cell_type": "code",
   "execution_count": null,
   "metadata": {},
   "outputs": [],
   "source": []
  },
  {
   "cell_type": "code",
   "execution_count": null,
   "metadata": {},
   "outputs": [],
   "source": []
  }
 ],
 "metadata": {
  "kernelspec": {
   "display_name": "Python 3",
   "language": "python",
   "name": "python3"
  },
  "language_info": {
   "codemirror_mode": {
    "name": "ipython",
    "version": 3
   },
   "file_extension": ".py",
   "mimetype": "text/x-python",
   "name": "python",
   "nbconvert_exporter": "python",
   "pygments_lexer": "ipython3",
   "version": "3.7.3"
  }
 },
 "nbformat": 4,
 "nbformat_minor": 4
}
