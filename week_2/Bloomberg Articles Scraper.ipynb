{
 "cells": [
  {
   "cell_type": "markdown",
   "metadata": {},
   "source": [
    "### Using Ajax Api to scrape Bloomberg Articles"
   ]
  },
  {
   "cell_type": "code",
   "execution_count": 29,
   "metadata": {},
   "outputs": [],
   "source": [
    "import requests\n",
    "from bs4 import BeautifulSoup\n",
    "import time\n",
    "import os\n",
    "import json\n",
    "from datetime import datetime"
   ]
  },
  {
   "cell_type": "code",
   "execution_count": 30,
   "metadata": {},
   "outputs": [],
   "source": [
    "def bnn_article_scraper(query):\n",
    "    '''\n",
    "    Srape the article news from BNN Bloomberg website with a search query\n",
    "    Return a json file containing the returned articles\n",
    "    \n",
    "    input:\n",
    "    query: (str) search keyword\n",
    "    '''\n",
    "    output_list = []\n",
    "    search_query = 'q=' + '&q='.join(query.split())\n",
    "    url_prefix = 'https://www.bnnbloomberg.ca'\n",
    "    url = f'https://www.bnnbloomberg.ca/search/bnn-search-tab-view-7.360399/articles-7.360400?ot=example.AjaxPageLayout.ot&{search_query}&parentPaginationAllowed=false'\n",
    "\n",
    "    response = requests.get(url)\n",
    "    api_soup = BeautifulSoup(response.text, 'lxml')\n",
    "    \n",
    "    for article in api_soup.find_all('div', {'class': 'article-content'}):\n",
    "        title = article.a.text.strip()\n",
    "        #print(\"article_title:\", title)\n",
    "\n",
    "        article_url = url_prefix + article.a.get('href').strip()\n",
    "        #print(\"article_url:\", article_url)\n",
    "\n",
    "\n",
    "\n",
    "        article_response = requests.get(article_url)\n",
    "        article_soup = BeautifulSoup(article_response.text, 'lxml')\n",
    "        # get date\n",
    "        date_tag = article_soup.find('div', class_ = \"date\")\n",
    "        if date_tag:\n",
    "            date = date_tag.get_text().strip()\n",
    "        else:\n",
    "            date = None\n",
    "        #print('date:', date)\n",
    "\n",
    "        # get author\n",
    "        author_tag = article_soup.find('span', class_ = \"author\")\n",
    "        if author_tag:\n",
    "            author = author_tag.get_text().strip()\n",
    "        else:\n",
    "            author = None \n",
    "        #print('author:', author)\n",
    "\n",
    "        # get source\n",
    "        source_tag = article_soup.find('span', {'class':'source'})\n",
    "        if source_tag:\n",
    "            source = source_tag.get_text().strip()\n",
    "        else:\n",
    "            source = None\n",
    "        #print('source:', source)\n",
    "\n",
    "        # get content\n",
    "        article_text_tag = article_soup.find('div', {'class':'article-text'})\n",
    "        if article_text_tag:\n",
    "            article_text = article_text_tag.get_text(' ')\n",
    "            desc = article_text_tag.p.get_text()\n",
    "        else:\n",
    "            article_text_tag = article_soup.find('div', {'class':'article-text-chart'})\n",
    "            if article_text_tag:\n",
    "                article_text = article_text_tag.get_text(' ')\n",
    "                desc = article_text_tag.p.get_text()\n",
    "            else:\n",
    "                article_text = None\n",
    "                desc = None\n",
    "        #print('content:', article_text)\n",
    "\n",
    "        # get image url\n",
    "        article_image_tag = article_soup.find('p', {'class':'image-center'})\n",
    "        if article_image_tag:\n",
    "            image_url = url_prefix + article_image_tag.img['src']\n",
    "        else:\n",
    "            image_url = None\n",
    "        #print('image_url:', image_url)\n",
    "        #print('\\n')\n",
    "        \n",
    "        article_dict = {}\n",
    "        \n",
    "        article_dict['source'] = source\n",
    "        article_dict['author'] = author\n",
    "        article_dict['title'] = title\n",
    "        article_dict['description'] = desc\n",
    "        article_dict['url'] = article_url\n",
    "        article_dict['urlToImage'] = image_url\n",
    "        article_dict['publishedAt'] = date\n",
    "        article_dict['content'] = article_text\n",
    "        \n",
    "        output_list.append(article_dict)\n",
    "        \n",
    "    with open('_'.join(query.split()) + '_' + str(len(output_list)) + '_' +'Bloomberg_article' + '.json', 'w') as json_file:\n",
    "        json.dump(output_list, json_file)\n",
    "        \n",
    "    return output_list\n"
   ]
  },
  {
   "cell_type": "markdown",
   "metadata": {},
   "source": [
    "### Mortgage Rates"
   ]
  },
  {
   "cell_type": "code",
   "execution_count": 31,
   "metadata": {},
   "outputs": [],
   "source": [
    "bloomberg_mr_article = bnn_article_scraper('mortgage rates')"
   ]
  },
  {
   "cell_type": "code",
   "execution_count": 32,
   "metadata": {},
   "outputs": [
    {
     "data": {
      "text/plain": [
       "100"
      ]
     },
     "execution_count": 32,
     "metadata": {},
     "output_type": "execute_result"
    }
   ],
   "source": [
    "len(bloomberg_mr_article)"
   ]
  },
  {
   "cell_type": "code",
   "execution_count": 33,
   "metadata": {},
   "outputs": [
    {
     "data": {
      "text/plain": [
       "{'source': 'Reuters',\n",
       " 'author': 'Matt Scuffham',\n",
       " 'title': \"Canada's financial watchdog warns lenders against bundled mortgage loans\",\n",
       " 'description': \"Canada's financial watchdog has warned regulated mortgage providers against teaming up with unregulated rivals to sidestep rules designed to clamp down on risky lending, a top regulator told Reuters.\",\n",
       " 'url': 'https://www.bnnbloomberg.ca/canada-s-financial-watchdog-warns-lenders-against-bundled-mortgage-loans-1.679621',\n",
       " 'urlToImage': None,\n",
       " 'publishedAt': 'Feb 23, 2017',\n",
       " 'content': 'Canada\\'s financial watchdog has warned regulated mortgage providers against teaming up with unregulated rivals to sidestep rules designed to clamp down on risky lending, a top regulator told Reuters. \\n Carolyn Rogers, assistant superintendent at the Office of the Superintendent of Financial Institutions, said in an interview that the regulator was taking action to stamp out so-called \"bundled\" loans, which pair a primary mortgage with a second loan from unregulated groups called Mortgage Investment Corporations (MICs). \\n Reuters reported last month that the practice can circumvent rules limiting how much mortgage providers can lend against a property, and the arrangements have proliferated as Canadian regulators have tightened lending standards to shield borrowers in case a decade-long housing boom goes bust. \\n \"They are rules. They are not guidelines, and they are not principles. We absolutely expect regulated entities to be adhering to them,\" Rogers said late on Wednesday. \\n \"Anytime a regulated entity is or appears to be designing a product or an approach that is, by its design, circumventing the rules we would take issue with that,\" she added. \\n Home Capital Group (HCG.TO) and Equitable Group (EQB.TO) are two listed mortgage providers that have told Reuters they participate in bundled lending. Home Capital declined to comment and Equitable could not be reached for comment. \\n'}"
      ]
     },
     "execution_count": 33,
     "metadata": {},
     "output_type": "execute_result"
    }
   ],
   "source": [
    "bloomberg_mr_article[-1]"
   ]
  },
  {
   "cell_type": "markdown",
   "metadata": {},
   "source": [
    "### Interest Rates"
   ]
  },
  {
   "cell_type": "code",
   "execution_count": 96,
   "metadata": {},
   "outputs": [],
   "source": [
    "bloomberg_ir_article = bnn_article_scraper('interest rates')"
   ]
  },
  {
   "cell_type": "code",
   "execution_count": 97,
   "metadata": {},
   "outputs": [
    {
     "data": {
      "text/plain": [
       "100"
      ]
     },
     "execution_count": 97,
     "metadata": {},
     "output_type": "execute_result"
    }
   ],
   "source": [
    "len(bloomberg_ir_article)"
   ]
  },
  {
   "cell_type": "markdown",
   "metadata": {},
   "source": [
    "### Housing price"
   ]
  },
  {
   "cell_type": "code",
   "execution_count": 98,
   "metadata": {},
   "outputs": [],
   "source": [
    "bloomberg_hp_article = bnn_article_scraper('housing price')"
   ]
  },
  {
   "cell_type": "code",
   "execution_count": 99,
   "metadata": {},
   "outputs": [
    {
     "data": {
      "text/plain": [
       "100"
      ]
     },
     "execution_count": 99,
     "metadata": {},
     "output_type": "execute_result"
    }
   ],
   "source": [
    "len(bloomberg_hp_article)"
   ]
  },
  {
   "cell_type": "markdown",
   "metadata": {},
   "source": [
    "### Employment"
   ]
  },
  {
   "cell_type": "code",
   "execution_count": 100,
   "metadata": {},
   "outputs": [],
   "source": [
    "bloomberg_e_article = bnn_article_scraper('employment')"
   ]
  },
  {
   "cell_type": "code",
   "execution_count": 101,
   "metadata": {},
   "outputs": [
    {
     "data": {
      "text/plain": [
       "94"
      ]
     },
     "execution_count": 101,
     "metadata": {},
     "output_type": "execute_result"
    }
   ],
   "source": [
    "len(bloomberg_e_article)"
   ]
  },
  {
   "cell_type": "markdown",
   "metadata": {},
   "source": [
    "### GDP"
   ]
  },
  {
   "cell_type": "code",
   "execution_count": 102,
   "metadata": {},
   "outputs": [],
   "source": [
    "bloomberg_gdp_article = bnn_article_scraper('GDP')"
   ]
  },
  {
   "cell_type": "code",
   "execution_count": 103,
   "metadata": {},
   "outputs": [
    {
     "data": {
      "text/plain": [
       "100"
      ]
     },
     "execution_count": 103,
     "metadata": {},
     "output_type": "execute_result"
    }
   ],
   "source": [
    "len(bloomberg_gdp_article)"
   ]
  },
  {
   "cell_type": "markdown",
   "metadata": {},
   "source": [
    "### Stock Market"
   ]
  },
  {
   "cell_type": "code",
   "execution_count": 104,
   "metadata": {},
   "outputs": [],
   "source": [
    "bloomberg_tsx_article = bnn_article_scraper('stock market')"
   ]
  },
  {
   "cell_type": "code",
   "execution_count": 105,
   "metadata": {},
   "outputs": [
    {
     "data": {
      "text/plain": [
       "100"
      ]
     },
     "execution_count": 105,
     "metadata": {},
     "output_type": "execute_result"
    }
   ],
   "source": [
    "len(bloomberg_tsx_article)"
   ]
  },
  {
   "cell_type": "code",
   "execution_count": 73,
   "metadata": {},
   "outputs": [],
   "source": [
    "# response = requests.get(url)\n",
    "# api_soup = BeautifulSoup(response.text, 'lxml')"
   ]
  },
  {
   "cell_type": "code",
   "execution_count": 28,
   "metadata": {
    "scrolled": false
   },
   "outputs": [],
   "source": [
    "# output_list = []\n",
    "# query = 'mortgage rates'\n",
    "# search_query = 'q=' + '&q='.join(query.split())\n",
    "# url_prefix = 'https://www.bnnbloomberg.ca'\n",
    "# url = f'https://www.bnnbloomberg.ca/search/bnn-search-tab-view-7.360399/articles-7.360400?ot=example.AjaxPageLayout.ot&{search_query}&parentPaginationAllowed=false'\n",
    "\n",
    "# response = requests.get(url)\n",
    "# api_soup = BeautifulSoup(response.text, 'lxml')\n",
    "\n",
    "# for article in api_soup.find_all('div', {'class': 'article-content'}):\n",
    "#     title = article.a.text.strip()\n",
    "#     print(\"article_title:\", title)\n",
    "\n",
    "#     article_url = url_prefix + article.a.get('href').strip()\n",
    "#     print(\"article_url:\", article_url)\n",
    "\n",
    "\n",
    "\n",
    "#     article_response = requests.get(article_url)\n",
    "#     article_soup = BeautifulSoup(article_response.text, 'lxml')\n",
    "#     # get date\n",
    "#     date_tag = article_soup.find('div', class_ = \"date\")\n",
    "#     if date_tag:\n",
    "#         date = date_tag.get_text().strip()\n",
    "#     else:\n",
    "#         date = None\n",
    "#     print('date:', date)\n",
    "\n",
    "#     # get author\n",
    "#     author_tag = article_soup.find('span', class_ = \"author\")\n",
    "#     if author_tag:\n",
    "#         author = author_tag.get_text().strip()\n",
    "#     else:\n",
    "#         author = None \n",
    "#     print('author:', author)\n",
    "\n",
    "#     # get source\n",
    "#     source_tag = article_soup.find('span', {'class':'source'})\n",
    "#     if source_tag:\n",
    "#         source = source_tag.get_text().strip()\n",
    "#     else:\n",
    "#         source = None\n",
    "#     print('source:', source)\n",
    "\n",
    "#     # get content\n",
    "#     article_text_tag = article_soup.find('div', {'class':'article-text'})\n",
    "#     if article_text_tag:\n",
    "#         article_text = article_text_tag.get_text(' ')\n",
    "#         desc = article_text_tag.p.get_text()\n",
    "#     else:\n",
    "#         article_text_tag = article_soup.find('div', {'class':'article-text-chart'})\n",
    "#         if article_text_tag:\n",
    "#             article_text = article_text_tag.get_text(' ')\n",
    "#             desc = article_text_tag.p.get_text()\n",
    "#         else:\n",
    "#             article_text = None\n",
    "#             desc = None\n",
    "#     print('content:', article_text)\n",
    "#     print('desc:', desc)\n",
    "\n",
    "#     # get image url\n",
    "#     article_image_tag = article_soup.find('p', {'class':'image-center'})\n",
    "#     if article_image_tag:\n",
    "#         image_url = url_prefix + article_image_tag.img['src']\n",
    "#     else:\n",
    "#         image_url = None\n",
    "#     print('image_url:', image_url)\n",
    "#     print('\\n')\n",
    "\n",
    "#     article_dict = {}\n",
    "\n",
    "#     article_dict['source'] = source\n",
    "#     article_dict['author'] = author\n",
    "#     article_dict['title'] = title\n",
    "#     article_dict['description'] = None\n",
    "#     article_dict['url'] = article_url\n",
    "#     article_dict['urlToImage'] = image_url\n",
    "#     article_dict['PublishedAt'] = datetime.strptime(date, '%b %d, %Y').date()\n",
    "#     article_dict['content'] = article_text\n",
    "\n",
    "#     output_list.append(article_dict)\n",
    "    \n",
    "#     break\n",
    "\n",
    "# # with open('_'.join(query.split()) + '_' + str(len(output_list)) + '_' +'Bloomberg_article' + '.json', 'w') as json_file:\n",
    "# #     json.dump(output_list, json_file)\n",
    "\n"
   ]
  },
  {
   "cell_type": "code",
   "execution_count": 20,
   "metadata": {},
   "outputs": [],
   "source": [
    "date = 'May 8, 2020'\n",
    "date_object = datetime.strptime(date, '%b %d, %Y').date()"
   ]
  },
  {
   "cell_type": "code",
   "execution_count": 21,
   "metadata": {},
   "outputs": [
    {
     "name": "stdout",
     "output_type": "stream",
     "text": [
      "2020-05-08\n"
     ]
    }
   ],
   "source": [
    "print(date_object)"
   ]
  },
  {
   "cell_type": "code",
   "execution_count": 77,
   "metadata": {
    "scrolled": false
   },
   "outputs": [],
   "source": [
    "# first = api_soup.find('div', {'class': 'article-content'})\n",
    "# title = first.a.text.strip()\n",
    "# print('title:', title)\n",
    "# url = url_prefix + first.a.get('href')\n",
    "# #print('url:', url)\n",
    "\n",
    "# article_response = requests.get(url)\n",
    "# article_soup = BeautifulSoup(article_response.text, 'lxml')\n",
    "# date = article_soup.find('div', class_ = \"date\").get_text().strip()\n",
    "# print('date:', date)\n",
    "\n",
    "# author = article_soup.find('span', class_ = \"author\").get_text().strip()\n",
    "# print('author:', author)\n",
    "\n",
    "# source = article_soup.find('span', {'class':'source'}).get_text().strip()\n",
    "# print('source:', source)\n",
    "\n",
    "# article_text = article_soup.find('div', {'class':'article-text'}).get_text(' ')\n",
    "# print('content:', article_text)\n",
    "\n",
    "# article_image = article_soup.find('div', {'class':'article-image'})\n",
    "# # image_url = url_prefix + article_image['src']\n",
    "# print(article_image)\n",
    "\n"
   ]
  },
  {
   "cell_type": "code",
   "execution_count": null,
   "metadata": {},
   "outputs": [],
   "source": []
  }
 ],
 "metadata": {
  "kernelspec": {
   "display_name": "Python 3",
   "language": "python",
   "name": "python3"
  },
  "language_info": {
   "codemirror_mode": {
    "name": "ipython",
    "version": 3
   },
   "file_extension": ".py",
   "mimetype": "text/x-python",
   "name": "python",
   "nbconvert_exporter": "python",
   "pygments_lexer": "ipython3",
   "version": "3.7.4"
  }
 },
 "nbformat": 4,
 "nbformat_minor": 2
}
