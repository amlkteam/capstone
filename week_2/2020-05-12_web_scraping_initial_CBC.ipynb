{
 "cells": [
  {
   "cell_type": "code",
   "execution_count": 264,
   "metadata": {},
   "outputs": [],
   "source": [
    "### CBC SCRAPING CODE\n",
    "### Authors: JONATHAN CHAN and PANDRAMISHI NAGA SIRISHA\n",
    "\n",
    "###MOST RECENT UPDATE:  \n",
    "##2020 MAY 13, 11:52AM\n",
    "#wrote separate functions for each JSON element to be collected\n",
    "#extract_json_items() will run for all articles, and will return null if not in proper format\n",
    "\n",
    "#TO DO:\n",
    "#write code for collecting JSON items from all articles returned in CBC API (code cell 4)\n",
    "#write code to iterate through multiple pages of API call \n",
    "#done\n",
    "#write code to store JSON in a JSON or text document\n",
    "#Final run: collect 50-100 articles for each of 6 indicators"
   ]
  },
  {
   "cell_type": "code",
   "execution_count": 265,
   "metadata": {},
   "outputs": [],
   "source": [
    "import urllib.request\n",
    "import json \n",
    "from bs4 import BeautifulSoup\n",
    "#from datetime import date\n",
    "import requests\n",
    "import json\n",
    "from urllib.request import Request, urlopen\n",
    "from urllib.error import URLError, HTTPError\n",
    "from datetime import datetime, timedelta\n",
    "import datetime\n",
    "import pytz\n",
    "import dateutil.parser\n"
   ]
  },
  {
   "cell_type": "code",
   "execution_count": 266,
   "metadata": {},
   "outputs": [
    {
     "name": "stdout",
     "output_type": "stream",
     "text": [
      "FIRST URL API CALL:  https://www.cbc.ca/search_api/v1/search?q=interest%20rate%20index&sortOrder=relevance&page=1&fields=feed\n"
     ]
    },
    {
     "data": {
      "text/plain": [
       "'https://www.cbc.ca/search_api/v1/search?q=interest%20rate%20index&sortOrder=relevance&page=1&fields=feed'"
      ]
     },
     "execution_count": 266,
     "metadata": {},
     "output_type": "execute_result"
    }
   ],
   "source": [
    "#https://www.cbc.ca/search_api/v1/search?q=mortgage%20rate&sortOrder=relevance&page=100&fields=feed\n",
    "def get_initial_url(search_term):\n",
    "    \"\"\"returns the URL of the first page API call given a search string\"\"\"\n",
    "    \n",
    "    words = search_term.split()\n",
    "    url_prefix = \"https://www.cbc.ca/search_api/v1/search?\"\n",
    "    query = \"q=\" + \"%20\".join(words)\n",
    "    url_suffix = \"&sortOrder=relevance&page=1&fields=feed\"\n",
    "    first_url = url_prefix + query + url_suffix\n",
    "    print(\"FIRST URL API CALL: \", first_url)\n",
    "    return first_url\n",
    "    \n",
    "get_initial_url(\"interest rate index\")"
   ]
  },
  {
   "cell_type": "code",
   "execution_count": 267,
   "metadata": {},
   "outputs": [
    {
     "name": "stdout",
     "output_type": "stream",
     "text": [
      "2019-05-16 03:40:24.680927+00:00\n"
     ]
    }
   ],
   "source": [
    "\n",
    "my_date = datetime.datetime.now(datetime.timezone.utc)\n",
    "past = my_date - timedelta(days=365)\n",
    "print(past)"
   ]
  },
  {
   "cell_type": "code",
   "execution_count": 268,
   "metadata": {},
   "outputs": [
    {
     "name": "stdout",
     "output_type": "stream",
     "text": [
      "2020-05-13 14:48:05+00:00\n"
     ]
    },
    {
     "data": {
      "text/plain": [
       "True"
      ]
     },
     "execution_count": 268,
     "metadata": {},
     "output_type": "execute_result"
    }
   ],
   "source": [
    "yourdate = dateutil.parser.parse('2020-05-13T14:48:05.000Z')\n",
    "print(yourdate)\n",
    "yourdate > past"
   ]
  },
  {
   "cell_type": "code",
   "execution_count": null,
   "metadata": {},
   "outputs": [],
   "source": [
    "def scrape_urls(url):\n",
    "    \"\"\"This function takes in the first query url and scrapes all other articles from past 1 year and returns \n",
    "    the urls of such articles\"\"\"\n",
    "    count = 0\n",
    "    url_list = []\n",
    "    current_date = datetime.datetime.now(datetime.timezone.utc)\n",
    "    last_year_date = current_date - timedelta(days=365)\n",
    "    main_url = url\n",
    "    r = requests.get(url)\n",
    "    info = r.json()\n",
    "    last_retrieved_items_count= len(info)\n",
    "    \n",
    "    for i in info:\n",
    "        count += 1\n",
    "        if dateutil.parser.parse(i['publishtime']) > last_year_date:\n",
    "            url_list.append(i['url'])\n",
    "#             print(i['publishtime'])\n",
    "        \n",
    "    page_number = 2\n",
    "    \n",
    "#     while last_retrieved_items_count > 0 :\n",
    "    while page_number < 25 :\n",
    "\n",
    "        split_url = main_url.split('page')\n",
    "        new_url = split_url[0] + \"page=\" + str(page_number) + \"&fields=feed\" \n",
    "        r = requests.get(new_url)\n",
    "        info = r.json()\n",
    "        last_retrieved_items_count= len(info)\n",
    "#         print(\"last_retrieved_items_count\", last_retrieved_items_count)\n",
    "\n",
    "        for i in info:\n",
    "            count += 1\n",
    "            if dateutil.parser.parse(i['publishtime']) > last_year_date:\n",
    "                url_list.append(i['url'])\n",
    "#                 print(i['publishtime'])\n",
    "            \n",
    "        page_number += 1    \n",
    "#         print(count)\n",
    "    return url_list\n",
    "\n",
    "# first_url = get_initial_url(\"supernova\")\n",
    "# all_urls = scrape_urls(first_url)"
   ]
  },
  {
   "cell_type": "code",
   "execution_count": 293,
   "metadata": {},
   "outputs": [],
   "source": [
    "def get_author(soup):\n",
    "    \"\"\"returns the author of a BeautifulSoup article if it exists, None if cannot be found\n",
    "    \n",
    "    Assume author info is contained within span tag (class: authorText)\n",
    "    \"\"\"\n",
    "    author_span = soup.find(\"span\", {\"class\": \"authorText\"})\n",
    "    \n",
    "    if author_span:\n",
    "        return author_span.text\n",
    "    else:\n",
    "        #print(\"No author found in article!\")\n",
    "        return None"
   ]
  },
  {
   "cell_type": "code",
   "execution_count": 294,
   "metadata": {},
   "outputs": [],
   "source": [
    "def get_title(soup):\n",
    "    \"\"\"returns the title of a BeautifulSoup article if it exists, None if cannot be found\n",
    "    \n",
    "    Assume title info is contained within h1 tag (class: detailHeadline)\n",
    "    \"\"\"\n",
    "    title_tag = soup.find(\"h1\", {\"class\": \"detailHeadline\"})\n",
    "    \n",
    "    if title_tag:\n",
    "        title_text = title_tag.text\n",
    "        return title_text\n",
    "    else:\n",
    "        #print(\"no title found in article!\")\n",
    "        return None"
   ]
  },
  {
   "cell_type": "code",
   "execution_count": 295,
   "metadata": {},
   "outputs": [],
   "source": [
    "def get_desc(soup):\n",
    "    \"\"\"returns the description of a BeautifulSoup article if it exists, None if not\n",
    "    \n",
    "    Assume description is contained within h2 tag (class: deck)\n",
    "    \"\"\"\n",
    "    desc_tag = soup.find(\"h2\", {\"class\": \"deck\"})\n",
    "    \n",
    "    if desc_tag:\n",
    "        desc_text = desc_tag.text\n",
    "        return desc_text\n",
    "    else:\n",
    "        #print(\"No description found in article!\")\n",
    "        return None\n",
    "    "
   ]
  },
  {
   "cell_type": "code",
   "execution_count": 296,
   "metadata": {},
   "outputs": [],
   "source": [
    "def get_url_to_image(soup):\n",
    "    \"\"\"returns the url to the header image of a CBC article (BeautifulSoup) if it exists, None if not\n",
    "    \n",
    "    Assume image url is contained within src attribute of img tag \n",
    "    \"\"\"\n",
    "    main_image_tag = soup.find(\"figure\", {\"class\": \"imageMedia leadmedia-story full\"})\n",
    "    \n",
    "    if main_image_tag:\n",
    "        main_image_url = main_image_tag.find(\"img\").attrs[\"src\"]\n",
    "        return main_image_url\n",
    "    else:\n",
    "        #print(\"No main header image found in article!\")\n",
    "        return None\n",
    "        "
   ]
  },
  {
   "cell_type": "code",
   "execution_count": 297,
   "metadata": {},
   "outputs": [],
   "source": [
    "def get_publish_time(soup):\n",
    "    \"\"\"returns a tuple of publish time string and datetime string if found in article, None if not\n",
    "    \n",
    "    Assume time is contained within time tag (class: timestamp)\n",
    "    \"\"\"\n",
    "    time_tag = soup.find(\"time\", {\"class\": \"timeStamp\"})\n",
    "    if time_tag:\n",
    "        datetime_str = time_tag.attrs[\"datetime\"]\n",
    "        \n",
    "        #NOTE: if we want to return a datetime object, error when writing to JSON\n",
    "        #datetime_obj = parser.isoparse(datetime_str)\n",
    "        #SOLUTION: return as string for now, convert to datetime object later in pipeline\n",
    "        \n",
    "        #format of time_tag.text: \n",
    "        timetext_str = time_tag.text.split(\"|\")[0].replace(\"Posted: \", \"\").strip()\n",
    "        return (timetext_str, datetime_str)\n",
    "    else:\n",
    "        #print(\"No time information found in article!\")\n",
    "        return None\n"
   ]
  },
  {
   "cell_type": "code",
   "execution_count": 298,
   "metadata": {},
   "outputs": [],
   "source": [
    "def get_source(soup, specify_source_type=True):\n",
    "    \"\"\"Returns the source of the article if it exists\n",
    "    if specify_source_type, subdivision of CBC will be returned\n",
    "    if not, \"CBC\" will be returned as the source\n",
    "    \n",
    "    \n",
    "    Assume that source always starts with \"CBC\" (Ex: \"CBC news\", \"CBC radio\")\n",
    "    Assume that source comes before span tag (class: bullet)\n",
    "    \"\"\"\n",
    "    \n",
    "    #source appears before <span class=\"bullet\"> · </span>\n",
    "    #if author is attached, there are two bullet tags\n",
    "    #if no author attached, there is one bullet tag\n",
    "    source = None\n",
    "    \n",
    "    if specify_source_type:\n",
    "        bullet_spans = soup.find_all(\"span\", {\"class\": \"bullet\"})\n",
    "        for bullet_span in bullet_spans:\n",
    "            previous_str = str(bullet_span.previous_sibling)\n",
    "            if previous_str.startswith(\"CBC\"):\n",
    "                source = previous_str\n",
    "    else:\n",
    "        \n",
    "        source = \"CBC\"\n",
    "    \n",
    "    if source:\n",
    "        return source\n",
    "    else:\n",
    "        #print(\"no source found in article!\")\n",
    "        return None\n",
    "    "
   ]
  },
  {
   "cell_type": "code",
   "execution_count": 299,
   "metadata": {},
   "outputs": [],
   "source": [
    "\n",
    "def get_content(soup, as_string=True):\n",
    "    \"\"\"Returns the text content from a CBC article (as BeautifulSoup object)\n",
    "    if as_string is True, return content as one string,\n",
    "    if as_string is False, return content as list of paragraph strings\n",
    "    \n",
    "    Input: BeautifulSoup object, boolean\n",
    "    \n",
    "    \"\"\"\n",
    "    \n",
    "    story_tag = soup.find(\"div\", {\"class\": \"story\"}) \n",
    "    content_list = []\n",
    "    \n",
    "    if story_tag:\n",
    "        for p_tag in story_tag.find_all(\"p\"):\n",
    "            p_text = p_tag.text + \"\\n\"\n",
    "            content_list.append(p_text)\n",
    "\n",
    "        if as_string:\n",
    "            final_content = \"\".join(content_list)\n",
    "        else:\n",
    "            final_content = content_list #return content as list of paragraph strings\n",
    "\n",
    "        return final_content\n",
    "    else:\n",
    "        #print(\"no content found in article!\")\n",
    "        return None\n",
    "    \n",
    "# get_content(soup)"
   ]
  },
  {
   "cell_type": "code",
   "execution_count": 300,
   "metadata": {},
   "outputs": [],
   "source": [
    "#NEW - USING NEW FUNCTIONS: \n",
    "def extract_json_items(url, specify_source_type=True):\n",
    "    \"\"\"Returns a json containing the following items from a CBC article:\n",
    "        url: the url of the article\n",
    "        urlToImage: the url of the header image\n",
    "        title: the title of the article \n",
    "        description: subheader of the article\n",
    "        author: author (note that some articles do not specify author)\n",
    "        source: CBC if specify_source_type == False, subdivision of CBC if True (ex: \"CBC radio\")\n",
    "        publishedAt: tuple of (date_string, datetime object)\n",
    "        \n",
    "        input: url returned from CBC API in \"url\" field (missing \"http:\" as part of URL)\n",
    "    \"\"\"\n",
    "    json_dict = {}\n",
    "#     output_list = [] \n",
    "    article_url = \"http:\" + url\n",
    "    \n",
    "    #get HTML from article URL into BeautifulSoup\n",
    "    try:\n",
    "        html_bytes = urllib.request.urlopen(article_url)\n",
    "  \n",
    "    except HTTPError as e:\n",
    "        print('Error code: ', e.code)\n",
    "        return None\n",
    "    except URLError as e:\n",
    "        print('Reason: ', e.reason)\n",
    "        return None\n",
    "\n",
    "    else:    \n",
    "        mybytes = html_bytes.read()\n",
    "        html = mybytes.decode(\"utf8\")\n",
    "        html_bytes.close()\n",
    "        soup = BeautifulSoup(html, 'html.parser')\n",
    "        author_name = get_author(soup)\n",
    "        title_text = get_title(soup)\n",
    "        desc_text = get_desc(soup)\n",
    "        image_url = get_url_to_image(soup)\n",
    "        publish_time = get_publish_time(soup)\n",
    "        news_source = get_source(soup)\n",
    "        content = get_content(soup, True)\n",
    "        \n",
    "        json_dict[\"author\"] = author_name\n",
    "        json_dict[\"title\"] = title_text \n",
    "        json_dict[\"description\"] = desc_text\n",
    "        json_dict[\"url\"] = article_url\n",
    "        json_dict[\"urlToImage\"] = image_url\n",
    "        json_dict[\"publishedAt\"] = publish_time\n",
    "        json_dict[\"source\"] = news_source\n",
    "        json_dict[\"content\"] = content\n",
    "#         print(\"JSON KEYS AND VALUES: \")\n",
    "#         for key, item in json_dict.items():\n",
    "#             print(key + \": \" + str(item))\n",
    "#         print(\"-----\")\n",
    "        \n",
    "        final_json = json.dumps(json_dict)\n",
    "        return json_dict\n"
   ]
  },
  {
   "cell_type": "code",
   "execution_count": 301,
   "metadata": {},
   "outputs": [
    {
     "data": {
      "text/plain": [
       "{'author': 'Pete Evans',\n",
       " 'title': 'U.S. Fed chair rules out negative interest rates even as Trump trumpets them',\n",
       " 'description': 'U.S. president goes negative on Jerome Powell for rejection of below-zero interest rates',\n",
       " 'url': 'http://www.cbc.ca/news/business/powel-trump-negative-rates-1.5567512',\n",
       " 'urlToImage': 'https://i.cbc.ca/1.5258204.1566589338!/fileImage/httpImage/image.jpg_gen/derivatives/16x9_780/869482910.jpg',\n",
       " 'publishedAt': ('May 13, 2020 10:48 AM ET', '2020-05-13T15:17:41.088Z'),\n",
       " 'source': 'CBC News',\n",
       " 'content': 'The head of the Federal Reserve said Wednesday the U.S. central bank is not considering using negative interest rates, despite President Donald Trump seemingly pushing for them.\\nIn a tweet Tuesday night, the president said other countries are enjoying the advantages of negative interest rates, and he urged his own central bank to accept the \"gift\" they would bestow on the U.S. economy.\\nTypically central banks tinker with lending rates in an attempt to control inflation, raising rates when they want to cool down an overheated economy, and cutting them when they want to encourage borrowing and investment. But in recent years, central banks in Europe and Asia have gone as far as making their interest rates go below zero in an attempt to counter unprecedented economic situations.\\n\"As long as other countries are receiving the benefits of Negative Rates, the USA should also accept the \\'GIFT\\',\" Trump tweeted.\\nAs long as other countries are receiving the benefits of Negative Rates, the USA should also accept the “GIFT”. Big numbers!\\nThe president has long criticized his central bank chief for keeping interest rates higher than Trump would like them to be. That\\'s largely because cheap lending rates tend to be good news for the stock market, which Trump is understood to view as a proxy for his own popularity and economic aptitude.\\nCurrently, the U.S. Fed\\'s benchmark interest rate is set at 0.25 per cent.\\nSpeaking at a think-tank in Washington, D.C., on Wednesday morning, Powell addressed the economic impact of the coronavirus. He was asked by reporters afterward whether or not the bank was considering negative interest rates.\\n\"I know there are fans of the policy, but for now it\\'s not something that we\\'re considering,\" Powell said. \"The committee\\'s view on negative rates really has not changed …. This is not something that we\\'re looking at.\"\\nPowell\\'s reluctance to go negative may be wise. While other countries have tried it, Karl Schamotta, chief market strategist of Cambridge Global Payments, says there is some\\xa0academic research to suggest that negative rates could harm the U.S. economy\\xa0by raising precautionary savings rates and reducing incentives to lend.\\n\"As the euro area, Japan, Sweden\\xa0and Switzerland have shown, there\\'s no conclusive evidence to suggest that negative rates lift lending, growth\\xa0or inflation,\" Schamotta said.\\nWhile pouring cold water on the idea of negative rates, Powell didn\\'t suggest the Fed planned to stay on the sidelines while the U.S. economy goes through what he described as an experience \"significantly worse\" than any recession seen since the Second World War.\\nPowell cautioned that widespread bankruptcies among small businesses and extended unemployment for many people remain a serious risk.\\n\"We ought to do what we can to avoid these outcomes,\" Powell said.\\nBank of Montreal economist Michael Gregory said there\\'s a lot that the Fed can still do besides negative savings rates.\\n\"The Fed has more policy cards up its sleeve, and is more than willing to play them to promote economic recovery,\" he said. \"And it won\\'t be taking these cards off the table for a while.\"\\n'}"
      ]
     },
     "execution_count": 301,
     "metadata": {},
     "output_type": "execute_result"
    }
   ],
   "source": [
    "extract_json_items('//www.cbc.ca/news/business/powel-trump-negative-rates-1.5567512')"
   ]
  },
  {
   "cell_type": "code",
   "execution_count": 302,
   "metadata": {},
   "outputs": [],
   "source": [
    "def main(query):\n",
    "    first_url = get_initial_url(query)\n",
    "    all_urls = scrape_urls(first_url)\n",
    "    json_list = []\n",
    "    \n",
    "    for each_url in all_urls:\n",
    "        retrieved_json  = extract_json_items(each_url)\n",
    "        if retrieved_json is not None:\n",
    "            print(each_url)\n",
    "            json_list.append(retrieved_json)\n",
    "    \n",
    "    full_query = query.split(\" \")\n",
    "    file_name_prefix = \"_\".join(full_query)\n",
    "    print(file_name_prefix)\n",
    "    \n",
    "    with open( file_name_prefix + '_' +'CBC_article' + '.json', 'w') as json_file:\n",
    "        json.dump(json_list, json_file)\n",
    "    \n",
    "    return json_list\n",
    "\n"
   ]
  },
  {
   "cell_type": "markdown",
   "metadata": {},
   "source": [
    "## Mortgage Rates"
   ]
  },
  {
   "cell_type": "code",
   "execution_count": null,
   "metadata": {},
   "outputs": [
    {
     "name": "stdout",
     "output_type": "stream",
     "text": [
      "FIRST URL API CALL:  https://www.cbc.ca/search_api/v1/search?q=mortgage%20rates&sortOrder=relevance&page=1&fields=feed\n",
      "//www.cbc.ca/news/business/bank-of-canada-thursday-1.5569391\n",
      "//www.cbc.ca/news/business/interest-rates-coronavirus-evans-1.5515884\n",
      "//www.cbc.ca/news/business/coronavirus-mortgage-rates-canada-1.5443071\n",
      "//www.cbc.ca/news/business/powel-trump-negative-rates-1.5567512\n",
      "//www.cbc.ca/news/canada/calgary/alberta-mortgages-arrears-august-report-from-february-2019-data-1.5246010\n",
      "//www.cbc.ca/news/business/canadian-mortgage-rates-analysis-1.5164774\n",
      "//www.cbc.ca/news/canada/hamilton/hamilton-economy-coronavirus-1.5566804\n",
      "//www.cbc.ca/news/business/housing-starts-april-1.5561214\n",
      "//www.cbc.ca/news/politics/federal-deficit-higher-than-252-billion-1.5566768\n",
      "//www.cbc.ca/news/canada/british-columbia/covid-19-may-real-estate-1.5562836\n",
      "//www.cbc.ca/news/canada/newfoundland-labrador/vianne-timmons-pov-women-1.5559214\n",
      "//www.cbc.ca/news/business/canada-jobs-april-1.5561001\n",
      "//www.cbc.ca/news/canada/toronto/ontario-covid19-april-jobs-1.5562034\n",
      "//www.cbc.ca/news/canada/calgary/alberta-april-labour-force-survey-covid-19-economic-shutdown-1.5561446\n",
      "//www.cbc.ca/news/business/united-states-coronavirus-jobs-unemployment-april-1.5561026\n",
      "//www.cbc.ca/news/business/fed-renew-pledge-1.5548953\n",
      "//www.cbc.ca/news/business/cmhc-mortgage-program-1.5510802\n",
      "//www.cbc.ca/news/canada/toronto/will-more-listings-fewer-renters-mean-drop-in-rent-for-condos-1.5551464\n",
      "//www.cbc.ca/player/play/1722983491858\n",
      "//www.cbc.ca/news/politics/covid-pandemic-coronavirus-deficit-debt-1.5561513\n",
      "//www.cbc.ca/news/politics/bank-of-canada-tiff-macklem-1.5551828\n",
      "//www.cbc.ca/news/big-six-banks-credit-card-interest-rates-relief-covid-19-1.5522343\n",
      "//www.cbc.ca/news/business/big-six-banks-credit-card-interest-rates-relief-covid-19-1.5522343\n",
      "//www.cbc.ca/news/canada/montreal/programs/daybreak/bank-of-canada-s-interest-rate-cut-1.5488331\n",
      "//www.cbc.ca/news/canada/montreal/quebec-job-numbers-unemployment-covid-19-1.5527589\n",
      "//www.cbc.ca/archives/why-high-interest-rates-were-a-problem-for-80s-renters-too-1.5501499\n",
      "//www.cbc.ca/news/canada/prince-edward-island/pei-mortgage-changes-trainor-1.5472793\n",
      "//www.cbc.ca/player/play/1707557955587\n",
      "//www.cbc.ca/player/play/1706560067565\n",
      "//www.cbc.ca/news/canada/ottawa/programs/allinaday/money-column-interest-rate-cut-1.5486004\n",
      "//www.cbc.ca/news/business/bank-of-canada-rate-decision-1.5532829\n",
      "//www.cbc.ca/news/business/bank-of-canada-1.5497098\n",
      "//www.cbc.ca/news/canada/british-columbia/b-c-home-sales-to-fall-by-40-per-cent-but-comeback-is-likely-says-report-1.5538848\n",
      "//www.cbc.ca/news/canada/british-columbia/b-c-home-sales-to-fall-by-40-per-cent-but-comeback-is-likely-report-says-1.5538848\n",
      "//www.cbc.ca/news/business/mortgage-rates-feature-1.5464563\n",
      "//www.cbc.ca/news/business/mortgage-stress-test-1.5467330\n",
      "//www.cbc.ca/life/work-money/financially-impacted-by-covid-19-a-personal-finance-expert-answers-your-most-pressing-questions-1.5516818\n",
      "//www.cbc.ca/news/canada/british-columbia/tenants-homeless-campbell-river-fire-hotel-1.5551245\n",
      "//www.cbc.ca/news/canada/edmonton/fort-mcmurray-foreclosure-homes-1.5405220\n",
      "//www.cbc.ca/news/politics/coronavirus-pandemic-covid-banks-loans-1.5521084\n",
      "//www.cbc.ca/news/business/pittis-risk-covid19-new-era-1.5544090\n",
      "//www.cbc.ca/news/business/credit-card-rates-coronavirus-1.5517766\n",
      "//www.cbc.ca/news/canada/montreal/programs/daybreak/housing-vacancy-at-a-15-year-low-1.5430731\n",
      "//www.cbc.ca/archives/when-halifax-was-running-out-of-rental-apartments-in-the-mid-1980s-1.5434472\n",
      "//www.cbc.ca/player/play/1676333635816\n",
      "//www.cbc.ca/news/canada/new-brunswick/saint-john-vacancy-rate-apartments-1.5434424\n",
      "//www.cbc.ca/news/business/u-s-federal-reserve-slashes-rate-eases-lending-rules-coronavirus-1.5498669\n",
      "//www.cbc.ca/news/world/italians-allowed-visits-with-relatives-1.5554000\n",
      "//www.cbc.ca/news/canada/calgary/creb-forecast-2020-calgary-real-estate-1.5426304\n",
      "//www.cbc.ca/news/canada/saskatchewan/rents-regina-saskatoon-vacancy-rates-2020-1.5434307\n",
      "//www.cbc.ca/news/canada/british-columbia/covid-19-spring-real-estate-1.5497726\n",
      "//www.cbc.ca/radio/costofliving/the-cost-of-life-and-how-small-businesses-are-faring-under-covid-19-1.5531458/recession-or-depression-canada-s-economy-is-in-for-a-rough-spring-1.5531519\n",
      "//www.cbc.ca/news/canada/saskatchewan/sask-finance-update-deficit-1.5535199\n",
      "//www.cbc.ca/news/business/markets-monday-1.5498872\n",
      "//www.cbc.ca/archives/interest-rates-made-home-buyers-look-beyond-their-comfort-zone-in-1979-1.5333736\n",
      "//www.cbc.ca/news/canada/prince-edward-island/pei-vacancy-rate-improves-january-2020-1.5427715\n",
      "//www.cbc.ca/player/play/1710991939934\n",
      "//www.cbc.ca/news/business/coronavirus-rate-cuts-1.5478258\n",
      "//www.cbc.ca/news/business/bank-of-canada-interest-rate-1.5512098\n",
      "//www.cbc.ca/news/business/poloz-speech-coronavirus-1.5487216\n",
      "//www.cbc.ca/news/canada/ottawa/rental-market-vacancy-canadian-mortgage-housing-corporation-1.5429258\n",
      "//www.cbc.ca/news/business/how-covid-might-affect-our-food-supply-wedding-delays-might-have-hidden-costs-cbc-s-marketplace-cheat-sheet-1.5535864\n",
      "//www.cbc.ca/news/canada/calgary/brad-van-de-walle-josh-tagg-realtor-landlord-mortgages-1.5514064\n",
      "//www.cbc.ca/news/canada/prince-edward-island/pei-vacancy-rate-tough-rebound-jan-2020-1.5430815\n"
     ]
    }
   ],
   "source": [
    "cbc_mr_article = main(\"mortgage rates\")\n",
    "print(len(cbc_mr_article))\n",
    "print(cbc_mr_article[0])"
   ]
  },
  {
   "cell_type": "code",
   "execution_count": 263,
   "metadata": {},
   "outputs": [
    {
     "ename": "NameError",
     "evalue": "name 'cbc_mr_article' is not defined",
     "output_type": "error",
     "traceback": [
      "\u001b[0;31m---------------------------------------------------------------------------\u001b[0m",
      "\u001b[0;31mNameError\u001b[0m                                 Traceback (most recent call last)",
      "\u001b[0;32m<ipython-input-263-3c066ac2e063>\u001b[0m in \u001b[0;36m<module>\u001b[0;34m\u001b[0m\n\u001b[0;32m----> 1\u001b[0;31m \u001b[0mprint\u001b[0m\u001b[0;34m(\u001b[0m\u001b[0mlen\u001b[0m\u001b[0;34m(\u001b[0m\u001b[0mcbc_mr_article\u001b[0m\u001b[0;34m)\u001b[0m\u001b[0;34m)\u001b[0m\u001b[0;34m\u001b[0m\u001b[0;34m\u001b[0m\u001b[0m\n\u001b[0m",
      "\u001b[0;31mNameError\u001b[0m: name 'cbc_mr_article' is not defined"
     ]
    }
   ],
   "source": [
    "print(len(cbc_mr_article))"
   ]
  },
  {
   "cell_type": "markdown",
   "metadata": {},
   "source": [
    "## Interest rates"
   ]
  },
  {
   "cell_type": "code",
   "execution_count": null,
   "metadata": {},
   "outputs": [],
   "source": [
    "cbc_hp_article =  main(\"housing price\")\n",
    "print(len(cbc_hp_article))\n",
    "print(cbc_hp_article[0])"
   ]
  },
  {
   "cell_type": "markdown",
   "metadata": {},
   "source": [
    "## Employment"
   ]
  },
  {
   "cell_type": "code",
   "execution_count": null,
   "metadata": {},
   "outputs": [],
   "source": [
    "cbc_e_article = main('employment')\n",
    "print(len(cbc_e_article))\n",
    "print(cbc_e_article[0])"
   ]
  },
  {
   "cell_type": "markdown",
   "metadata": {},
   "source": [
    "## GDP"
   ]
  },
  {
   "cell_type": "code",
   "execution_count": null,
   "metadata": {},
   "outputs": [],
   "source": [
    "cbc_gdp_article = main('GDP')\n",
    "print(len(cbc_gdp_article))\n",
    "print(cbc_gdp_article[0])"
   ]
  },
  {
   "cell_type": "markdown",
   "metadata": {},
   "source": [
    "## Stock Market"
   ]
  },
  {
   "cell_type": "code",
   "execution_count": null,
   "metadata": {},
   "outputs": [],
   "source": [
    "cbc_tsx_article = bnn_article_scraper('stock market')\n",
    "print(len(cbc_tsx_article))\n",
    "print(cbc_tsx_article[0])"
   ]
  },
  {
   "cell_type": "code",
   "execution_count": 151,
   "metadata": {},
   "outputs": [
    {
     "data": {
      "text/plain": [
       "'{\"author\": \"John Paul Tasker\", \"title\": \"Federal deficit likely to be higher than $252 billion, parliamentary budget\\\\u00a0officer says\", \"description\": \"PBO says it\\'s possible federal debt will hit $1 trillion because of pandemic relief spending\", \"url\": \"http://www.cbc.ca/news/politics/federal-deficit-higher-than-252-billion-1.5566768\", \"urlToImage\": \"https://i.cbc.ca/1.5138746.1558027091!/fileImage/httpImage/image.jpg_gen/derivatives/16x9_780/phoenix-pay-system.jpg\", \"publishedAt\": [\"May 12, 2020 5:34 PM ET\", \"2020-05-13T17:44:54.995Z\"], \"source\": \"CBC News\"}'"
      ]
     },
     "execution_count": 151,
     "metadata": {},
     "output_type": "execute_result"
    }
   ],
   "source": [
    "#TEST ON DIFFERENT CBC LINKS RETURNED BY CBC API\n",
    "\n",
    "standard_url = \"//www.cbc.ca/news/politics/federal-deficit-higher-than-252-billion-1.5566768\"\n",
    "radio_url = \"//www.cbc.ca/radio/costofliving/slashed-interest-rates-getting-a-piece-of-the-electric-car-pie-and-a-happy-jobs-friday-to-all-1.5486253\"\n",
    "media_url = \"//www.cbc.ca/player/play/1707317315674\"\n",
    "noauthor_url = \"//www.cbc.ca/news/canada/coronavirus-covid19-world-canada-may12-1.5564261\"\n",
    "\n",
    "\n",
    "\n",
    "extract_json_items(standard_url)\n",
    "\n",
    "#note: doesn't work for 'player' URLS (\"//www.cbc.ca/player/play/1707317315674\")\n",
    "#will run, but will return null for most values - player articles have different setup\n"
   ]
  }
 ],
 "metadata": {
  "kernelspec": {
   "display_name": "Python 3",
   "language": "python",
   "name": "python3"
  },
  "language_info": {
   "codemirror_mode": {
    "name": "ipython",
    "version": 3
   },
   "file_extension": ".py",
   "mimetype": "text/x-python",
   "name": "python",
   "nbconvert_exporter": "python",
   "pygments_lexer": "ipython3",
   "version": "3.7.3"
  }
 },
 "nbformat": 4,
 "nbformat_minor": 2
}
