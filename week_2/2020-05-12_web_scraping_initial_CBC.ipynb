{
 "cells": [
  {
   "cell_type": "code",
   "execution_count": null,
   "metadata": {},
   "outputs": [],
   "source": [
    "### CBC SCRAPING CODE\n",
    "### JONATHAN CHAN\n",
    "\n",
    "###MOST RECENT UPDATE:  \n",
    "##2020 MAY 13, 11:52AM\n",
    "#wrote separate functions for each JSON element to be collected\n",
    "#extract_json_items() will run for all articles, and will return null if not in proper format\n",
    "\n",
    "#TO DO:\n",
    "#write code for collecting JSON items from all articles returned in CBC API (code cell 4)\n",
    "#write code to iterate through multiple pages of API call\n",
    "#write code to store JSON in a JSON or text document\n",
    "#Final run: collect 50-100 articles for each of 6 indicators"
   ]
  },
  {
   "cell_type": "code",
   "execution_count": 57,
   "metadata": {},
   "outputs": [],
   "source": [
    "import urllib.request\n",
    "import json \n",
    "from bs4 import BeautifulSoup\n",
    "#from datetime import date\n",
    "\n",
    "#import parser if we want to export datetime objects to JSON - currently causing an error\n",
    "#from dateutil import parser\n"
   ]
  },
  {
   "cell_type": "code",
   "execution_count": 58,
   "metadata": {},
   "outputs": [
    {
     "name": "stdout",
     "output_type": "stream",
     "text": [
      "FIRST URL API CALL:  https://www.cbc.ca/search_api/v1/search?q=interest%20rate%20index&sortOrder=relevance&page=1&fields=feed\n"
     ]
    },
    {
     "data": {
      "text/plain": [
       "'https://www.cbc.ca/search_api/v1/search?q=interest%20rate%20index&sortOrder=relevance&page=1&fields=feed'"
      ]
     },
     "execution_count": 58,
     "metadata": {},
     "output_type": "execute_result"
    }
   ],
   "source": [
    "#https://www.cbc.ca/search_api/v1/search?q=mortgage%20rate&sortOrder=relevance&page=100&fields=feed\n",
    "\n",
    "\n",
    "def get_initial_url(search_term):\n",
    "    \"\"\"returns the URL of the first page API call given a search string\"\"\"\n",
    "    \n",
    "    words = search_term.split()\n",
    "    url_prefix = \"https://www.cbc.ca/search_api/v1/search?\"\n",
    "    query = \"q=\" + \"%20\".join(words)\n",
    "    url_suffix = \"&sortOrder=relevance&page=1&fields=feed\"\n",
    "    \n",
    "    first_url = url_prefix + query + url_suffix\n",
    "    \n",
    "    print(\"FIRST URL API CALL: \", first_url)\n",
    "    \n",
    "    return first_url\n",
    "    \n",
    "    \n",
    "get_initial_url(\"interest rate index\")"
   ]
  },
  {
   "cell_type": "code",
   "execution_count": 59,
   "metadata": {},
   "outputs": [
    {
     "name": "stdout",
     "output_type": "stream",
     "text": [
      "FIRST URL API CALL:  https://www.cbc.ca/search_api/v1/search?q=interest%20rate&sortOrder=relevance&page=1&fields=feed\n",
      "//www.cbc.ca/news/business/powel-trump-negative-rates-1.5567512\n",
      "----\n",
      "//www.cbc.ca/news/canada/coronavirus-covid19-canada-world-may13-1.5567371\n",
      "----\n",
      "//www.cbc.ca/player/play/1707273795558\n",
      "----\n",
      "//www.cbc.ca/player/play/1706560067565\n",
      "----\n",
      "//www.cbc.ca/news/canada/british-columbia/programs/onthecoast/march-5-2020-interest-rates-1.5487903\n",
      "----\n",
      "//www.cbc.ca/player/play/1707557955587\n",
      "----\n",
      "//www.cbc.ca/news/canada/ottawa/programs/allinaday/money-column-interest-rate-cut-1.5486004\n",
      "----\n",
      "//www.cbc.ca/player/play/1706421827523\n",
      "----\n",
      "//www.cbc.ca/news/business/interest-rates-coronavirus-evans-1.5515884\n",
      "----\n",
      "//www.cbc.ca/news2/interactives/interest-rates/\n",
      "----\n"
     ]
    }
   ],
   "source": [
    "first_url = get_initial_url(\"interest rate\")\n",
    "with urllib.request.urlopen(first_url) as url:\n",
    "    data = json.loads(url.read().decode())\n",
    "    for article_dict in data:\n",
    "        print(article_dict[\"url\"])\n",
    "        article_url = url\n",
    "        print(\"----\")\n",
    "        #break"
   ]
  },
  {
   "cell_type": "code",
   "execution_count": 60,
   "metadata": {},
   "outputs": [],
   "source": [
    "# #OBSOLETE - CANNOT DEAL WITH CASES WHERE JSON DICT ITEMS CANNOT BE FOUND\n",
    "# def extract_json_items(url, specify_source_type=True):\n",
    "#     \"\"\"Returns a json containing the following items from a CBC article:\n",
    "#         url: the url of the article\n",
    "#         urlToImage: the url of the header image\n",
    "#         title: the title of the article \n",
    "#         description: subheader of the article\n",
    "#         author: author (note that some articles do not specify author)\n",
    "#         source: CBC if specify_source_type == False, subdivision of CBC if True (ex: \"CBC radio\")\n",
    "#         publishedAt: tuple of (date_string, datetime object)\n",
    "        \n",
    "#         input: url returned from CBC API in \"url\" field (missing \"http:\" as part of URL)\n",
    "#     \"\"\"\n",
    "#     json_dict = {}\n",
    "#     article_url = \"http:\" + url\n",
    "    \n",
    "#     #get HTML from article URL into BeautifulSoup\n",
    "#     html_bytes = urllib.request.urlopen(article_url)\n",
    "#     mybytes = html_bytes.read()\n",
    "#     html = mybytes.decode(\"utf8\")\n",
    "#     html_bytes.close()\n",
    "#     soup = BeautifulSoup(html, 'html.parser')\n",
    "\n",
    "#     #TITLE in detailHeadline (h1 tag)\n",
    "#     title_h1 = soup.find(\"h1\", {\"class\": \"detailHeadline\"})\n",
    "#     #print(\"TITLE: \", title_h1.text)\n",
    "#     json_dict[\"title\"] = title_h1.text\n",
    "\n",
    "#     #DESCRIPTION IN deck (h2 tag)\n",
    "#     desc_h2 = soup.find(\"h2\", {\"class\": \"deck\"})\n",
    "#     #print(\"DESCRIPTION: \", desc_h2.text)\n",
    "#     json_dict[\"description\"] = desc_h2.text\n",
    "\n",
    "\n",
    "#     #AUTHOR in authorText span\n",
    "#     author_span = soup.find(\"span\", {\"class\": \"authorText\"})\n",
    "#     print(author_span)\n",
    "#     if author_span:\n",
    "#         json_dict[\"author\"] = author_span.text\n",
    "#     else:\n",
    "#         json_dict[\"author\"] = None\n",
    "\n",
    "\n",
    "#     #source appears before <span class=\"bullet\"> · </span>\n",
    "#     #if author is attached, there are two bullet tags\n",
    "#     #if no author attached, there is one bullet tag\n",
    "#     if specify_source_type:\n",
    "#         bullet_spans = soup.find_all(\"span\", {\"class\": \"bullet\"})\n",
    "#         for bullet_span in bullet_spans:\n",
    "#             previous_str = str(bullet_span.previous_sibling)\n",
    "#             if previous_str.startswith(\"CBC\"):\n",
    "#                 source = previous_str\n",
    "#     else:\n",
    "#         source = \"CBC\"\n",
    "#     json_dict[\"source\"] = source\n",
    "\n",
    "#     time_tag = soup.find(\"time\", {\"class\": \"timeStamp\"})\n",
    "#     datetime_str = time_tag.attrs[\"datetime\"]\n",
    "#     datetime_obj = parser.isoparse(datetime_str)\n",
    "    \n",
    "#     time_str = time_tag.text.split(\"|\")[0].replace(\"Posted: \", \"\").strip()\n",
    "    \n",
    "#     #ERROR: if we want to return a datetime object, error when writing to JSON\n",
    "#     #json_dict[\"publishedAt\"] = (time_str, datetime_obj)\n",
    "#     #write as string for now\n",
    "#     json_dict[\"publishedAt\"] = (time_str, datetime_str)\n",
    "\n",
    "\n",
    "#     main_image_tag = soup.find(\"figure\", {\"class\": \"imageMedia leadmedia-story full\"})\n",
    "#     main_image_url = main_image_tag.find(\"img\").attrs[\"src\"]\n",
    "#     json_dict[\"urlToImage\"] = main_image_url\n",
    "    \n",
    "#     json_dict[\"url\"] = article_url\n",
    "\n",
    "#     #print(\"ARTICLE URL: \", article_url)\n",
    "# #     for key, item in json_dict.items():\n",
    "# #         print(key + \":\")\n",
    "# #         print(item)\n",
    "# #         print(\"-----\")\n",
    "    \n",
    "#     final_json = json.dumps(json_dict)\n",
    "#     return final_json\n",
    "\n",
    "       "
   ]
  },
  {
   "cell_type": "code",
   "execution_count": 61,
   "metadata": {},
   "outputs": [],
   "source": [
    "# #test for separate functions \n",
    "# test_url = \"//www.cbc.ca/news/politics/federal-deficit-higher-than-252-billion-1.5566768\"\n",
    "# #test_url = \"//www.cbc.ca/news/canada/coronavirus-covid19-world-canada-may12-1.5564261\"\n",
    "# article_url = \"http:\" + test_url\n",
    "\n",
    "# #get HTML from article URL into BeautifulSoup\n",
    "# html_bytes = urllib.request.urlopen(article_url)\n",
    "# mybytes = html_bytes.read()\n",
    "# html = mybytes.decode(\"utf8\")\n",
    "# html_bytes.close()\n",
    "# soup = BeautifulSoup(html, 'html.parser')"
   ]
  },
  {
   "cell_type": "code",
   "execution_count": 62,
   "metadata": {},
   "outputs": [
    {
     "data": {
      "text/plain": [
       "'John Paul Tasker'"
      ]
     },
     "execution_count": 62,
     "metadata": {},
     "output_type": "execute_result"
    }
   ],
   "source": [
    "\n",
    "\n",
    "def get_author(soup):\n",
    "    \"\"\"returns the author of a BeautifulSoup article if it exists, None if cannot be found\n",
    "    \n",
    "    Assume author info is contained within span tag (class: authorText)\n",
    "    \"\"\"\n",
    "    author_span = soup.find(\"span\", {\"class\": \"authorText\"})\n",
    "    \n",
    "    if author_span:\n",
    "        return author_span.text\n",
    "    else:\n",
    "        #print(\"No author found in article!\")\n",
    "        return None\n",
    "\n",
    "get_author(soup)"
   ]
  },
  {
   "cell_type": "code",
   "execution_count": 63,
   "metadata": {},
   "outputs": [],
   "source": [
    "def get_title(soup):\n",
    "    \"\"\"returns the title of a BeautifulSoup article if it exists, None if cannot be found\n",
    "    \n",
    "    Assume title info is contained within h1 tag (class: detailHeadline)\n",
    "    \"\"\"\n",
    "    title_tag = soup.find(\"h1\", {\"class\": \"detailHeadline\"})\n",
    "    \n",
    "    if title_tag:\n",
    "        title_text = title_tag.text\n",
    "        return title_text\n",
    "    else:\n",
    "        #print(\"no title found in article!\")\n",
    "        return None\n",
    "\n",
    "    "
   ]
  },
  {
   "cell_type": "code",
   "execution_count": 64,
   "metadata": {},
   "outputs": [
    {
     "data": {
      "text/plain": [
       "\"PBO says it's possible federal debt will hit $1 trillion because of pandemic relief spending\""
      ]
     },
     "execution_count": 64,
     "metadata": {},
     "output_type": "execute_result"
    }
   ],
   "source": [
    "def get_desc(soup):\n",
    "    \"\"\"returns the description of a BeautifulSoup article if it exists, None if not\n",
    "    \n",
    "    Assume description is contained within h2 tag (class: deck)\n",
    "    \"\"\"\n",
    "    desc_tag = soup.find(\"h2\", {\"class\": \"deck\"})\n",
    "    \n",
    "    if desc_tag:\n",
    "        desc_text = desc_tag.text\n",
    "        return desc_text\n",
    "    else:\n",
    "        #print(\"No description found in article!\")\n",
    "        return None\n",
    "\n",
    "get_desc(soup)\n",
    "    "
   ]
  },
  {
   "cell_type": "code",
   "execution_count": 65,
   "metadata": {},
   "outputs": [
    {
     "data": {
      "text/plain": [
       "'https://i.cbc.ca/1.5138746.1558027091!/fileImage/httpImage/image.jpg_gen/derivatives/16x9_780/phoenix-pay-system.jpg'"
      ]
     },
     "execution_count": 65,
     "metadata": {},
     "output_type": "execute_result"
    }
   ],
   "source": [
    "def get_url_to_image(soup):\n",
    "    \"\"\"returns the url to the header image of a CBC article (BeautifulSoup) if it exists, None if not\n",
    "    \n",
    "    Assume image url is contained within src attribute of img tag \n",
    "    \"\"\"\n",
    "    main_image_tag = soup.find(\"figure\", {\"class\": \"imageMedia leadmedia-story full\"})\n",
    "    \n",
    "    if main_image_tag:\n",
    "        main_image_url = main_image_tag.find(\"img\").attrs[\"src\"]\n",
    "        return main_image_url\n",
    "    else:\n",
    "        #print(\"No main header image found in article!\")\n",
    "        return None\n",
    "    \n",
    "get_url_to_image(soup)\n",
    "    "
   ]
  },
  {
   "cell_type": "code",
   "execution_count": 66,
   "metadata": {},
   "outputs": [
    {
     "data": {
      "text/plain": [
       "('May 12, 2020 5:34 PM ET', '2020-05-13T17:44:54.995Z')"
      ]
     },
     "execution_count": 66,
     "metadata": {},
     "output_type": "execute_result"
    }
   ],
   "source": [
    "def get_publish_time(soup):\n",
    "    \"\"\"returns a tuple of publish time string and datetime string if found in article, None if not\n",
    "    \n",
    "    Assume time is contained within time tag (class: timestamp)\n",
    "    \"\"\"\n",
    "    time_tag = soup.find(\"time\", {\"class\": \"timeStamp\"})\n",
    "    if time_tag:\n",
    "        datetime_str = time_tag.attrs[\"datetime\"]\n",
    "        \n",
    "        #NOTE: if we want to return a datetime object, error when writing to JSON\n",
    "        #datetime_obj = parser.isoparse(datetime_str)\n",
    "        #SOLUTION: return as string for now, convert to datetime object later in pipeline\n",
    "        \n",
    "        #format of time_tag.text: \n",
    "        timetext_str = time_tag.text.split(\"|\")[0].replace(\"Posted: \", \"\").strip()\n",
    "        return (timetext_str, datetime_str)\n",
    "    else:\n",
    "        #print(\"No time information found in article!\")\n",
    "        return None\n",
    "get_publish_time(soup)"
   ]
  },
  {
   "cell_type": "code",
   "execution_count": 67,
   "metadata": {},
   "outputs": [
    {
     "data": {
      "text/plain": [
       "'CBC News'"
      ]
     },
     "execution_count": 67,
     "metadata": {},
     "output_type": "execute_result"
    }
   ],
   "source": [
    "def get_source(soup, specify_source_type=True):\n",
    "    \"\"\"Returns the source of the article if it exists\n",
    "    if specify_source_type, subdivision of CBC will be returned\n",
    "    if not, \"CBC\" will be returned as the source\n",
    "    \n",
    "    \n",
    "    Assume that source always starts with \"CBC\" (Ex: \"CBC news\", \"CBC radio\")\n",
    "    Assume that source comes before span tag (class: bullet)\n",
    "    \"\"\"\n",
    "    \n",
    "    #source appears before <span class=\"bullet\"> · </span>\n",
    "    #if author is attached, there are two bullet tags\n",
    "    #if no author attached, there is one bullet tag\n",
    "    source = None\n",
    "    \n",
    "    if specify_source_type:\n",
    "        bullet_spans = soup.find_all(\"span\", {\"class\": \"bullet\"})\n",
    "        for bullet_span in bullet_spans:\n",
    "            previous_str = str(bullet_span.previous_sibling)\n",
    "            if previous_str.startswith(\"CBC\"):\n",
    "                source = previous_str\n",
    "    else:\n",
    "        \n",
    "        source = \"CBC\"\n",
    "    \n",
    "    if source:\n",
    "        return source\n",
    "    else:\n",
    "        #print(\"no source found in article!\")\n",
    "        return None\n",
    "    \n",
    "\n",
    "get_source(soup)   "
   ]
  },
  {
   "cell_type": "code",
   "execution_count": 76,
   "metadata": {},
   "outputs": [],
   "source": [
    "#NEW - USING NEW FUNCTIONS: \n",
    "def extract_json_items(url, specify_source_type=True):\n",
    "    \"\"\"Returns a json containing the following items from a CBC article:\n",
    "        url: the url of the article\n",
    "        urlToImage: the url of the header image\n",
    "        title: the title of the article \n",
    "        description: subheader of the article\n",
    "        author: author (note that some articles do not specify author)\n",
    "        source: CBC if specify_source_type == False, subdivision of CBC if True (ex: \"CBC radio\")\n",
    "        publishedAt: tuple of (date_string, datetime object)\n",
    "        \n",
    "        input: url returned from CBC API in \"url\" field (missing \"http:\" as part of URL)\n",
    "    \"\"\"\n",
    "    json_dict = {}\n",
    "    article_url = \"http:\" + url\n",
    "    \n",
    "    #get HTML from article URL into BeautifulSoup\n",
    "    html_bytes = urllib.request.urlopen(article_url)\n",
    "    mybytes = html_bytes.read()\n",
    "    html = mybytes.decode(\"utf8\")\n",
    "    html_bytes.close()\n",
    "    soup = BeautifulSoup(html, 'html.parser')\n",
    "    \n",
    "    author_name = get_author(soup)\n",
    "    title_text = get_title(soup)\n",
    "    desc_text = get_desc(soup)\n",
    "    image_url = get_url_to_image(soup)\n",
    "    publish_time = get_publish_time(soup)\n",
    "    news_source = get_source(soup)\n",
    "\n",
    "    json_dict[\"author\"] = author_name\n",
    "    json_dict[\"title\"] = title_text \n",
    "    json_dict[\"description\"] = desc_text\n",
    "    json_dict[\"url\"] = article_url\n",
    "    json_dict[\"urlToImage\"] = image_url\n",
    "    json_dict[\"publishedAt\"] = publish_time\n",
    "    json_dict[\"source\"] = news_source\n",
    "    \n",
    "    print(\"JSON KEYS AND VALUES: \")\n",
    "    for key, item in json_dict.items():\n",
    "        print(key + \": \" + str(item))\n",
    "    print(\"-----\")\n",
    "    \n",
    "    final_json = json.dumps(json_dict)\n",
    "    return final_json\n"
   ]
  },
  {
   "cell_type": "code",
   "execution_count": 78,
   "metadata": {},
   "outputs": [
    {
     "name": "stdout",
     "output_type": "stream",
     "text": [
      "JSON KEYS AND VALUES: \n",
      "author: John Paul Tasker\n",
      "title: Federal deficit likely to be higher than $252 billion, parliamentary budget officer says\n",
      "description: PBO says it's possible federal debt will hit $1 trillion because of pandemic relief spending\n",
      "url: http://www.cbc.ca/news/politics/federal-deficit-higher-than-252-billion-1.5566768\n",
      "urlToImage: https://i.cbc.ca/1.5138746.1558027091!/fileImage/httpImage/image.jpg_gen/derivatives/16x9_780/phoenix-pay-system.jpg\n",
      "publishedAt: ('May 12, 2020 5:34 PM ET', '2020-05-13T17:44:54.995Z')\n",
      "source: CBC News\n",
      "-----\n"
     ]
    },
    {
     "data": {
      "text/plain": [
       "'{\"author\": \"John Paul Tasker\", \"title\": \"Federal deficit likely to be higher than $252 billion, parliamentary budget\\\\u00a0officer says\", \"description\": \"PBO says it\\'s possible federal debt will hit $1 trillion because of pandemic relief spending\", \"url\": \"http://www.cbc.ca/news/politics/federal-deficit-higher-than-252-billion-1.5566768\", \"urlToImage\": \"https://i.cbc.ca/1.5138746.1558027091!/fileImage/httpImage/image.jpg_gen/derivatives/16x9_780/phoenix-pay-system.jpg\", \"publishedAt\": [\"May 12, 2020 5:34 PM ET\", \"2020-05-13T17:44:54.995Z\"], \"source\": \"CBC News\"}'"
      ]
     },
     "execution_count": 78,
     "metadata": {},
     "output_type": "execute_result"
    }
   ],
   "source": [
    "#TEST ON DIFFERENT CBC LINKS RETURNED BY CBC API\n",
    "\n",
    "standard_url = \"//www.cbc.ca/news/politics/federal-deficit-higher-than-252-billion-1.5566768\"\n",
    "radio_url = \"//www.cbc.ca/radio/costofliving/slashed-interest-rates-getting-a-piece-of-the-electric-car-pie-and-a-happy-jobs-friday-to-all-1.5486253\"\n",
    "media_url = \"//www.cbc.ca/player/play/1707317315674\"\n",
    "noauthor_url = \"//www.cbc.ca/news/canada/coronavirus-covid19-world-canada-may12-1.5564261\"\n",
    "\n",
    "\n",
    "\n",
    "extract_json_items(standard_url)\n",
    "\n",
    "#note: doesn't work for 'player' URLS (\"//www.cbc.ca/player/play/1707317315674\")\n",
    "#will run, but will return null for most values - player articles have different setup\n"
   ]
  }
 ],
 "metadata": {
  "kernelspec": {
   "display_name": "Python 3",
   "language": "python",
   "name": "python3"
  },
  "language_info": {
   "codemirror_mode": {
    "name": "ipython",
    "version": 3
   },
   "file_extension": ".py",
   "mimetype": "text/x-python",
   "name": "python",
   "nbconvert_exporter": "python",
   "pygments_lexer": "ipython3",
   "version": "3.7.3"
  }
 },
 "nbformat": 4,
 "nbformat_minor": 2
}
