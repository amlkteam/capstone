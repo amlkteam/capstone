{
 "cells": [
  {
   "cell_type": "code",
   "execution_count": 120,
   "metadata": {},
   "outputs": [
    {
     "ename": "ModuleNotFoundError",
     "evalue": "No module named 'bson'",
     "output_type": "error",
     "traceback": [
      "\u001b[0;31m---------------------------------------------------------------------------\u001b[0m",
      "\u001b[0;31mModuleNotFoundError\u001b[0m                       Traceback (most recent call last)",
      "\u001b[0;32m<ipython-input-120-582ac62ccafd>\u001b[0m in \u001b[0;36m<module>\u001b[0;34m\u001b[0m\n\u001b[1;32m      1\u001b[0m \u001b[0;32mimport\u001b[0m \u001b[0murllib\u001b[0m\u001b[0;34m.\u001b[0m\u001b[0mrequest\u001b[0m\u001b[0;34m\u001b[0m\u001b[0;34m\u001b[0m\u001b[0m\n\u001b[0;32m----> 2\u001b[0;31m \u001b[0;32mfrom\u001b[0m \u001b[0mbson\u001b[0m \u001b[0;32mimport\u001b[0m \u001b[0mjson_util\u001b[0m\u001b[0;34m\u001b[0m\u001b[0;34m\u001b[0m\u001b[0m\n\u001b[0m\u001b[1;32m      3\u001b[0m \u001b[0;32mimport\u001b[0m \u001b[0mjson\u001b[0m\u001b[0;34m\u001b[0m\u001b[0;34m\u001b[0m\u001b[0m\n\u001b[1;32m      4\u001b[0m \u001b[0;32mfrom\u001b[0m \u001b[0mbs4\u001b[0m \u001b[0;32mimport\u001b[0m \u001b[0mBeautifulSoup\u001b[0m\u001b[0;34m\u001b[0m\u001b[0;34m\u001b[0m\u001b[0m\n\u001b[1;32m      5\u001b[0m \u001b[0;31m#from datetime import date\u001b[0m\u001b[0;34m\u001b[0m\u001b[0;34m\u001b[0m\u001b[0;34m\u001b[0m\u001b[0m\n",
      "\u001b[0;31mModuleNotFoundError\u001b[0m: No module named 'bson'"
     ]
    }
   ],
   "source": [
    "import urllib.request\n",
    "import json \n",
    "from bs4 import BeautifulSoup\n",
    "#from datetime import date\n",
    "from dateutil import parser\n"
   ]
  },
  {
   "cell_type": "code",
   "execution_count": 83,
   "metadata": {},
   "outputs": [
    {
     "name": "stdout",
     "output_type": "stream",
     "text": [
      "FIRST URL API CALL:  https://www.cbc.ca/search_api/v1/search?q=interest%20rate%20index&sortOrder=relevance&page=1&fields=feed\n"
     ]
    },
    {
     "data": {
      "text/plain": [
       "'https://www.cbc.ca/search_api/v1/search?q=interest%20rate%20index&sortOrder=relevance&page=1&fields=feed'"
      ]
     },
     "execution_count": 83,
     "metadata": {},
     "output_type": "execute_result"
    }
   ],
   "source": [
    "#https://www.cbc.ca/search_api/v1/search?q=mortgage%20rate&sortOrder=relevance&page=100&fields=feed\n",
    "\n",
    "\n",
    "def get_initial_url(search_term):\n",
    "    \"\"\"returns the URL of the first page API call given a search string\"\"\"\n",
    "    \n",
    "    words = search_term.split()\n",
    "    url_prefix = \"https://www.cbc.ca/search_api/v1/search?\"\n",
    "    query = \"q=\" + \"%20\".join(words)\n",
    "    url_suffix = \"&sortOrder=relevance&page=1&fields=feed\"\n",
    "    \n",
    "    first_url = url_prefix + query + url_suffix\n",
    "    \n",
    "    print(\"FIRST URL API CALL: \", first_url)\n",
    "    \n",
    "    return first_url\n",
    "    \n",
    "    \n",
    "get_initial_url(\"interest rate index\")"
   ]
  },
  {
   "cell_type": "code",
   "execution_count": 84,
   "metadata": {},
   "outputs": [
    {
     "name": "stdout",
     "output_type": "stream",
     "text": [
      "FIRST URL API CALL:  https://www.cbc.ca/search_api/v1/search?q=interest%20rate&sortOrder=relevance&page=1&fields=feed\n",
      "//www.cbc.ca/news/politics/federal-deficit-higher-than-252-billion-1.5566768\n",
      "----\n",
      "//www.cbc.ca/player/play/1707273795558\n",
      "----\n",
      "//www.cbc.ca/player/play/1706560067565\n",
      "----\n",
      "//www.cbc.ca/news/canada/british-columbia/programs/onthecoast/march-5-2020-interest-rates-1.5487903\n",
      "----\n",
      "//www.cbc.ca/player/play/1707557955587\n",
      "----\n",
      "//www.cbc.ca/news/canada/ottawa/programs/allinaday/money-column-interest-rate-cut-1.5486004\n",
      "----\n",
      "//www.cbc.ca/player/play/1706421827523\n",
      "----\n",
      "//www.cbc.ca/news/business/interest-rates-coronavirus-evans-1.5515884\n",
      "----\n",
      "//www.cbc.ca/news2/interactives/interest-rates/\n",
      "----\n",
      "//www.cbc.ca/player/play/1706366019839\n",
      "----\n"
     ]
    }
   ],
   "source": [
    "first_url = get_initial_url(\"interest rate\")\n",
    "with urllib.request.urlopen(first_url) as url:\n",
    "    data = json.loads(url.read().decode())\n",
    "    for article_dict in data:\n",
    "        print(article_dict[\"url\"])\n",
    "        article_url = url\n",
    "        print(\"----\")\n",
    "        #break"
   ]
  },
  {
   "cell_type": "code",
   "execution_count": 131,
   "metadata": {},
   "outputs": [],
   "source": [
    "\n",
    "def extract_json_items(url, specify_source_type=True):\n",
    "    \"\"\"Returns a json containing the following items from a CBC article:\n",
    "        url: the url of the article\n",
    "        urlToImage: the url of the header image\n",
    "        title: the title of the article \n",
    "        description: subheader of the article\n",
    "        author: author (note that some articles do not specify author)\n",
    "        source: CBC if specify_source_type == False, subdivision of CBC if True (ex: \"CBC radio\")\n",
    "        publishedAt: tuple of (date_string, datetime object)\n",
    "        \n",
    "        input: url returned from CBC API in \"url\" field (missing \"http:\" as part of URL)\n",
    "    \"\"\"\n",
    "    json_dict = {}\n",
    "    article_url = \"http:\" + url\n",
    "    \n",
    "    #get HTML from article URL into BeautifulSoup\n",
    "    html_bytes = urllib.request.urlopen(article_url)\n",
    "    mybytes = html_bytes.read()\n",
    "    html = mybytes.decode(\"utf8\")\n",
    "    html_bytes.close()\n",
    "    soup = BeautifulSoup(html, 'html.parser')\n",
    "\n",
    "    #TITLE in detailHeadline (h1 tag)\n",
    "    title_h1 = soup.find(\"h1\", {\"class\": \"detailHeadline\"})\n",
    "    #print(\"TITLE: \", title_h1.text)\n",
    "    json_dict[\"title\"] = title_h1.text\n",
    "\n",
    "    #DESCRIPTION IN deck (h2 tag)\n",
    "    desc_h2 = soup.find(\"h2\", {\"class\": \"deck\"})\n",
    "    #print(\"DESCRIPTION: \", desc_h2.text)\n",
    "    json_dict[\"description\"] = desc_h2.text\n",
    "\n",
    "\n",
    "    #AUTHOR in authorText span\n",
    "    author_span = soup.find(\"span\", {\"class\": \"authorText\"})\n",
    "    print(author_span)\n",
    "    if author_span:\n",
    "        json_dict[\"author\"] = author_span.text\n",
    "    else:\n",
    "        json_dict[\"author\"] = None\n",
    "\n",
    "\n",
    "    #source appears before <span class=\"bullet\"> · </span>\n",
    "    #if author is attached, there are two bullet tags\n",
    "    #if no author attached, there is one bullet tag\n",
    "    if specify_source_type:\n",
    "        bullet_spans = soup.find_all(\"span\", {\"class\": \"bullet\"})\n",
    "        for bullet_span in bullet_spans:\n",
    "            previous_str = str(bullet_span.previous_sibling)\n",
    "            if previous_str.startswith(\"CBC\"):\n",
    "                source = previous_str\n",
    "    else:\n",
    "        source = \"CBC\"\n",
    "    json_dict[\"source\"] = source\n",
    "\n",
    "    time_tag = soup.find(\"time\", {\"class\": \"timeStamp\"})\n",
    "    datetime_str = time_tag.attrs[\"datetime\"]\n",
    "    datetime_obj = parser.isoparse(datetime_str)\n",
    "\n",
    "    time_str = time_tag.text.split(\"|\")[0].replace(\"Posted: \", \"\").strip()\n",
    "    \n",
    "    #ERROR: if we want to return a datetime object, error when writing to JSON\n",
    "    #json_dict[\"publishedAt\"] = (time_str, datetime_obj)\n",
    "    #write as string for now\n",
    "    json_dict[\"publishedAt\"] = (time_str, datetime_str)\n",
    "\n",
    "\n",
    "    main_image_tag = soup.find(\"figure\", {\"class\": \"imageMedia leadmedia-story full\"})\n",
    "    main_image_url = main_image_tag.find(\"img\").attrs[\"src\"]\n",
    "    json_dict[\"urlToImage\"] = main_image_url\n",
    "    \n",
    "    json_dict[\"url\"] = article_url\n",
    "\n",
    "    #print(\"ARTICLE URL: \", article_url)\n",
    "#     for key, item in json_dict.items():\n",
    "#         print(key + \":\")\n",
    "#         print(item)\n",
    "#         print(\"-----\")\n",
    "    \n",
    "    final_json = json.dumps(json_dict)\n",
    "    return final_json\n",
    "\n",
    "\n",
    "    \n",
    "    "
   ]
  },
  {
   "cell_type": "code",
   "execution_count": 136,
   "metadata": {},
   "outputs": [
    {
     "name": "stdout",
     "output_type": "stream",
     "text": [
      "<span class=\"authorText\"><a class=\"\" href=\"/news/politics/john-paul-tasker-1.3389288\">John Paul Tasker</a></span>\n"
     ]
    },
    {
     "data": {
      "text/plain": [
       "'{\"title\": \"Federal deficit likely to be higher than $252 billion, parliamentary budget\\\\u00a0officer says\", \"description\": \"PBO says it\\'s possible federal debt will hit $1 trillion because of pandemic relief spending\", \"author\": \"John Paul Tasker\", \"source\": \"CBC News\", \"publishedAt\": [\"May 12, 2020 5:34 PM ET\", \"2020-05-12T22:23:31.746Z\"], \"urlToImage\": \"https://i.cbc.ca/1.5138746.1558027091!/fileImage/httpImage/image.jpg_gen/derivatives/16x9_780/phoenix-pay-system.jpg\", \"url\": \"http://www.cbc.ca/news/politics/federal-deficit-higher-than-252-billion-1.5566768\"}'"
      ]
     },
     "execution_count": 136,
     "metadata": {},
     "output_type": "execute_result"
    }
   ],
   "source": [
    "test_url = \"//www.cbc.ca/news/politics/federal-deficit-higher-than-252-billion-1.5566768\"\n",
    "radio_url = \"//www.cbc.ca/radio/costofliving/slashed-interest-rates-getting-a-piece-of-the-electric-car-pie-and-a-happy-jobs-friday-to-all-1.5486253\"\n",
    "media_url = \"//www.cbc.ca/player/play/1707317315674\"\n",
    "noauthor_url = \"//www.cbc.ca/news/canada/coronavirus-covid19-world-canada-may12-1.5564261\"\n",
    "\n",
    "extract_json_items(test_url)"
   ]
  },
  {
   "cell_type": "code",
   "execution_count": null,
   "metadata": {},
   "outputs": [],
   "source": []
  }
 ],
 "metadata": {
  "kernelspec": {
   "display_name": "Python 3",
   "language": "python",
   "name": "python3"
  },
  "language_info": {
   "codemirror_mode": {
    "name": "ipython",
    "version": 3
   },
   "file_extension": ".py",
   "mimetype": "text/x-python",
   "name": "python",
   "nbconvert_exporter": "python",
   "pygments_lexer": "ipython3",
   "version": "3.7.3"
  }
 },
 "nbformat": 4,
 "nbformat_minor": 2
}
