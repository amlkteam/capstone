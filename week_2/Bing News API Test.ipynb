{
 "cells": [
  {
   "cell_type": "markdown",
   "metadata": {},
   "source": [
    "## Bing News API Test"
   ]
  },
  {
   "cell_type": "markdown",
   "metadata": {},
   "source": [
    "### News in Category"
   ]
  },
  {
   "cell_type": "code",
   "execution_count": 1,
   "metadata": {},
   "outputs": [
    {
     "name": "stdout",
     "output_type": "stream",
     "text": [
      "{\"message\":\"You are not subscribed to this API.\"}\n"
     ]
    }
   ],
   "source": [
    "\n",
    "import requests\n",
    "\n",
    "url = \"https://microsoft-azure-bing-news-search-v1.p.rapidapi.com/\"\n",
    "\n",
    "querystring = {\"Category\":\"canada housing\"}\n",
    "\n",
    "headers = {\n",
    "    'x-rapidapi-host': \"microsoft-azure-bing-news-search-v1.p.rapidapi.com\",\n",
    "    'x-rapidapi-key': \"66e94bd5e5msh843512ba5baff29p118b4ejsn27b7a51916cc\"\n",
    "    }\n",
    "\n",
    "response = requests.request(\"GET\", url, headers=headers, params=querystring)\n",
    "\n",
    "print(response.text)"
   ]
  },
  {
   "cell_type": "markdown",
   "metadata": {},
   "source": [
    "### News Search"
   ]
  },
  {
   "cell_type": "code",
   "execution_count": 36,
   "metadata": {},
   "outputs": [
    {
     "name": "stdout",
     "output_type": "stream",
     "text": [
      "{\"_type\": \"News\", \"readLink\": \"https:\\/\\/api.cognitive.microsoft.com\\/api\\/v7\\/news\\/search?q=interest+rates\", \"queryContext\": {\"originalQuery\": \"interest rates\", \"adultIntent\": false}, \"totalEstimatedMatches\": 23, \"sort\": [{\"name\": \"Best match\", \"id\": \"relevance\", \"isSelected\": true, \"url\": \"https:\\/\\/api.cognitive.microsoft.com\\/api\\/v7\\/news\\/search?q=interest+rates\"}, {\"name\": \"Most recent\", \"id\": \"date\", \"isSelected\": false, \"url\": \"https:\\/\\/api.cognitive.microsoft.com\\/api\\/v7\\/news\\/search?q=interest+rates&sortby=date\"}], \"value\": [{\"name\": \"Negative interest rates are coming to the US, a CIO overseeing $270 billion says\", \"url\": \"https:\\/\\/www.businessinsider.com\\/negative-interest-rates-coming-us-guggenheim-cio-says-treasury-fed-2020-5\", \"image\": {\"thumbnail\": {\"contentUrl\": \"https:\\/\\/www.bing.com\\/th?id=ON.29FECDB384F832DED8B43A92F016009F&pid=News\", \"width\": 700, \"height\": 350}}, \"description\": \"CIO Scott Minerd says recent action from the Fed means companies that would normally be shut out of credit markets in times of stress can raise cash.\", \"provider\": [{\"_type\": \"Organization\", \"name\": \"Business Insider\", \"image\": {\"thumbnail\": {\"contentUrl\": \"https:\\/\\/www.bing.com\\/th?id=AMMS_b3ffab7279c7b6b448383d03bb5daec1&pid=news\"}}}], \"datePublished\": \"2020-05-11T17:02:00.0000000Z\", \"category\": \"Business\"}, {\"name\": \"Egypt central bank seen holding interest rates steady on Thursday: Reuters poll\", \"url\": \"https:\\/\\/www.reuters.com\\/article\\/us-egypt-cenbank-poll-idUSKBN22N2FY\", \"image\": {\"thumbnail\": {\"contentUrl\": \"https:\\/\\/www.bing.com\\/th?id=ON.38B930CD65CCA8A2A20694027A1F752F&pid=News\", \"width\": 700, \"height\": 448}}, \"description\": \"The Central Bank of Egypt (CBE) is expected to leave its main interest rates unchanged this week, balancing a steep decline in growth caused by the coronavirus crisis with an unexpected uptick in inflation,\", \"provider\": [{\"_type\": \"Organization\", \"name\": \"Reuters\", \"image\": {\"thumbnail\": {\"contentUrl\": \"https:\\/\\/www.bing.com\\/th?id=AR_62e71bb461e92ae25d37bed673fc53b9&pid=news\"}}}], \"datePublished\": \"2020-05-11T17:30:00.0000000Z\", \"category\": \"Business\"}, {\"name\": \"St. Louis Fed's Bullard: Negative Interest rates would be 'problematic' in U.S.\", \"url\": \"https:\\/\\/finance.yahoo.com\\/video\\/st-louis-feds-bullard-negative-140017266.html\", \"image\": {\"thumbnail\": {\"contentUrl\": \"https:\\/\\/www.bing.com\\/th?id=ON.326E26AD3B7AE4963797589F85F30A9A&pid=News\", \"width\": 700, \"height\": 393}}, \"description\": \"St. Louis Fed President James Bullard joins Yahoo Finance’s Alexis Christofourous, Brian Sozzi and Brian Cheung to discuss why he believes negative interest rates are not a clear remedy for the coronavirus-induced economic crisis in the United States,\", \"provider\": [{\"_type\": \"Organization\", \"name\": \"YAHOO!\", \"image\": {\"thumbnail\": {\"contentUrl\": \"https:\\/\\/www.bing.com\\/th?id=AR_e1eef5681737e5676d7a09990b13411a&pid=news\"}}}], \"datePublished\": \"2020-05-11T20:26:00.0000000Z\"}, {\"name\": \"Fed's Bostic: 'Not a big fan' of negative interest rates\", \"url\": \"https:\\/\\/www.reuters.com\\/article\\/us-health-coronavirus-fed-bostic\\/feds-bostic-not-a-big-fan-of-negative-interest-rates-idUSKBN22N2FH\", \"image\": {\"thumbnail\": {\"contentUrl\": \"https:\\/\\/www.bing.com\\/th?id=ON.32EBF2BB7ECADFE2F30923EFFD58FD7D&pid=News\", \"width\": 700, \"height\": 466}}, \"description\": \"Atlanta Federal Reserve bank president Raphael Bostic said he is “not a big fan” of negative interest rates. Negative rates are “among the weaker tools in the toolkit,” Bostic said in webcast remarks,\", \"provider\": [{\"_type\": \"Organization\", \"name\": \"Reuters\", \"image\": {\"thumbnail\": {\"contentUrl\": \"https:\\/\\/www.bing.com\\/th?id=AR_62e71bb461e92ae25d37bed673fc53b9&pid=news\"}}}], \"datePublished\": \"2020-05-11T17:59:00.0000000Z\"}, {\"name\": \"Federal student loan interest rates could drop to lowest levels ever: Here’s why\", \"url\": \"https:\\/\\/www.foxbusiness.com\\/personal-finance\\/student-loan-interest-rates-treasury-auction\", \"description\": \"A bright spot for future college students amid the coronavirus crisis is that rates on student loans may fall to a record low for the coming year, which could save borrowers a lot of money throughout their lifetimes.\", \"provider\": [{\"_type\": \"Organization\", \"name\": \"Fox Business\", \"image\": {\"thumbnail\": {\"contentUrl\": \"https:\\/\\/www.bing.com\\/th?id=AR_7d74b3125abf621beaacbf0f43f7cee6&pid=news\"}}}], \"datePublished\": \"2020-05-11T21:35:00.0000000Z\", \"category\": \"Business\"}, {\"name\": \"Are Negative Interest Rates in Our Future?\", \"url\": \"https:\\/\\/schiffgold.com\\/commentaries\\/are-negative-interest-rates-in-our-future\\/\", \"image\": {\"thumbnail\": {\"contentUrl\": \"https:\\/\\/www.bing.com\\/th?id=ON.752B010F4E1B47C4C82883490CB436BD&pid=News\", \"width\": 700, \"height\": 395}}, \"description\": \"Are negative interest rates in our future? The markets are starting to think so. On Thursday, Fed fund futures contracts began pricing in negative interest rates. They were initially priced in for December but then shifted to early 2021. This doesn’t guarantee negative rates, but it does indicate markets are beginning to expect them.\", \"provider\": [{\"_type\": \"Organization\", \"name\": \"SchiffGold\"}], \"datePublished\": \"2020-05-11T14:06:00.0000000Z\", \"category\": \"Business\"}, {\"name\": \"Steven Mnuchin: Treasury can spend more during crisis because of low interest rates\", \"url\": \"https:\\/\\/www.cnbc.com\\/video\\/2020\\/05\\/11\\/mnuchin-treasury-treasury-spending-coronavirus-interest-rates.html\", \"image\": {\"thumbnail\": {\"contentUrl\": \"https:\\/\\/www.bing.com\\/th?id=ON.4E6D9CAB7FE8CEA80EB316B5E3369ABC&pid=News\", \"width\": 700, \"height\": 393}}, \"description\": \"Treasury Secretary Steven Mnuchin says he's comfortable spending $3 trillion to spur the economy during the Covid-19 crisis because Treasury can lock in very low interest rates.\", \"provider\": [{\"_type\": \"Organization\", \"name\": \"CNBC\", \"image\": {\"thumbnail\": {\"contentUrl\": \"https:\\/\\/www.bing.com\\/th?id=AR_4efc5b36002beed4d9e08a53512d7e9e&pid=news\"}}}], \"datePublished\": \"2020-05-11T14:10:00.0000000Z\", \"category\": \"Business\"}, {\"name\": \"Mortgage catch-22: Interest rates are lower than ever, but millions of borrowers can’t get a loan\", \"url\": \"https:\\/\\/www.housingwire.com\\/articles\\/mortgage-catch-22-interest-rates-are-lower-than-ever-but-millions-of-borrowers-cant-get-a-loan\\/\", \"description\": \"Millions of potential borrowers are facing a situation where it’s never been a better time to buy a home and never been harder to get a mortgage.\", \"provider\": [{\"_type\": \"Organization\", \"name\": \"HousingWire\", \"image\": {\"thumbnail\": {\"contentUrl\": \"https:\\/\\/www.bing.com\\/th?id=AR_f2527c7af3752cf217516c9f6c5a5f97&pid=news\"}}}], \"datePublished\": \"2020-05-11T21:33:00.0000000Z\"}, {\"name\": \"Retirement Minute: interest rates and refinancing\", \"url\": \"https:\\/\\/www.weareiowa.com\\/article\\/entertainment\\/television\\/programs\\/iowa-live\\/retirement-minute-interest-rates-and-refinancing\\/524-3921013d-5889-46d4-8098-4323f93264e2\", \"image\": {\"thumbnail\": {\"contentUrl\": \"https:\\/\\/www.bing.com\\/th?id=ON.B0117CC97F7FC635DE6DAE436444364E&pid=News\", \"width\": 700, \"height\": 393}}, \"description\": \"The Federal Reserve has lowered interest rates due to economic conditions and have pledged to keep them at zero until the economy recovers\", \"provider\": [{\"_type\": \"Organization\", \"name\": \"We Are Iowa\", \"image\": {\"thumbnail\": {\"contentUrl\": \"https:\\/\\/www.bing.com\\/th?id=AR_8556f9b5f307668f882905fe6c71324a&pid=news\"}}}], \"datePublished\": \"2020-05-11T15:38:00.0000000Z\"}, {\"name\": \"POLL-Egypt central bank seen holding interest rates steady on Thursday\", \"url\": \"https:\\/\\/www.nasdaq.com\\/articles\\/poll-egypt-central-bank-seen-holding-interest-rates-steady-on-thursday-2020-05-11\", \"image\": {\"thumbnail\": {\"contentUrl\": \"https:\\/\\/www.bing.com\\/th?id=ON.1B2ABFF037C0E768BD81D1001284F8E2&pid=News\", \"width\": 450, \"height\": 304}}, \"description\": \"The Central Bank of Egypt (CBE) is expected to leave its main interest rates unchanged this week, balancing a steep decline in growth caused by the coronavirus crisis with an unexpected uptick in inflation,\", \"provider\": [{\"_type\": \"Organization\", \"name\": \"Nasdaq\", \"image\": {\"thumbnail\": {\"contentUrl\": \"https:\\/\\/www.bing.com\\/th?id=AR_fefdf3a25667a335662ca70fc37bce11&pid=news\"}}}], \"datePublished\": \"2020-05-11T17:37:00.0000000Z\", \"category\": \"Business\"}]}\n"
     ]
    }
   ],
   "source": [
    "import requests\n",
    "\n",
    "url = \"https://microsoft-azure-bing-news-search-v1.p.rapidapi.com/search\"\n",
    "\n",
    "querystring = {\"count\":\"10\",\"mkt\":\"en-CA\",\"q\":\"interest rates\"}\n",
    "\n",
    "headers = {\n",
    "    'x-rapidapi-host': \"microsoft-azure-bing-news-search-v1.p.rapidapi.com\",\n",
    "    'x-rapidapi-key': \"66e94bd5e5msh843512ba5baff29p118b4ejsn27b7a51916cc\"\n",
    "    }\n",
    "\n",
    "response = requests.request(\"GET\", url, headers=headers, params=querystring)\n",
    "\n",
    "print(response.text)"
   ]
  },
  {
   "cell_type": "code",
   "execution_count": 43,
   "metadata": {},
   "outputs": [
    {
     "data": {
      "text/plain": [
       "<Response [200]>"
      ]
     },
     "execution_count": 43,
     "metadata": {},
     "output_type": "execute_result"
    }
   ],
   "source": [
    "response"
   ]
  },
  {
   "cell_type": "code",
   "execution_count": 39,
   "metadata": {},
   "outputs": [],
   "source": [
    "import json"
   ]
  },
  {
   "cell_type": "code",
   "execution_count": 45,
   "metadata": {},
   "outputs": [],
   "source": [
    "articles = response.json()"
   ]
  },
  {
   "cell_type": "code",
   "execution_count": 54,
   "metadata": {},
   "outputs": [
    {
     "data": {
      "text/plain": [
       "dict_keys(['_type', 'readLink', 'queryContext', 'totalEstimatedMatches', 'sort', 'value'])"
      ]
     },
     "execution_count": 54,
     "metadata": {},
     "output_type": "execute_result"
    }
   ],
   "source": [
    "articles.keys()"
   ]
  },
  {
   "cell_type": "code",
   "execution_count": 72,
   "metadata": {
    "scrolled": false
   },
   "outputs": [
    {
     "data": {
      "text/plain": [
       "[{'name': 'Negative interest rates are coming to the US, a CIO overseeing $270 billion says',\n",
       "  'url': 'https://www.businessinsider.com/negative-interest-rates-coming-us-guggenheim-cio-says-treasury-fed-2020-5',\n",
       "  'image': {'thumbnail': {'contentUrl': 'https://www.bing.com/th?id=ON.29FECDB384F832DED8B43A92F016009F&pid=News',\n",
       "    'width': 700,\n",
       "    'height': 350}},\n",
       "  'description': 'CIO Scott Minerd says recent action from the Fed means companies that would normally be shut out of credit markets in times of stress can raise cash.',\n",
       "  'provider': [{'_type': 'Organization',\n",
       "    'name': 'Business Insider',\n",
       "    'image': {'thumbnail': {'contentUrl': 'https://www.bing.com/th?id=AMMS_b3ffab7279c7b6b448383d03bb5daec1&pid=news'}}}],\n",
       "  'datePublished': '2020-05-11T17:02:00.0000000Z',\n",
       "  'category': 'Business'},\n",
       " {'name': 'Egypt central bank seen holding interest rates steady on Thursday: Reuters poll',\n",
       "  'url': 'https://www.reuters.com/article/us-egypt-cenbank-poll-idUSKBN22N2FY',\n",
       "  'image': {'thumbnail': {'contentUrl': 'https://www.bing.com/th?id=ON.38B930CD65CCA8A2A20694027A1F752F&pid=News',\n",
       "    'width': 700,\n",
       "    'height': 448}},\n",
       "  'description': 'The Central Bank of Egypt (CBE) is expected to leave its main interest rates unchanged this week, balancing a steep decline in growth caused by the coronavirus crisis with an unexpected uptick in inflation,',\n",
       "  'provider': [{'_type': 'Organization',\n",
       "    'name': 'Reuters',\n",
       "    'image': {'thumbnail': {'contentUrl': 'https://www.bing.com/th?id=AR_62e71bb461e92ae25d37bed673fc53b9&pid=news'}}}],\n",
       "  'datePublished': '2020-05-11T17:30:00.0000000Z',\n",
       "  'category': 'Business'},\n",
       " {'name': \"St. Louis Fed's Bullard: Negative Interest rates would be 'problematic' in U.S.\",\n",
       "  'url': 'https://finance.yahoo.com/video/st-louis-feds-bullard-negative-140017266.html',\n",
       "  'image': {'thumbnail': {'contentUrl': 'https://www.bing.com/th?id=ON.326E26AD3B7AE4963797589F85F30A9A&pid=News',\n",
       "    'width': 700,\n",
       "    'height': 393}},\n",
       "  'description': 'St. Louis Fed President James Bullard joins Yahoo Finance’s Alexis Christofourous, Brian Sozzi and Brian Cheung to discuss why he believes negative interest rates are not a clear remedy for the coronavirus-induced economic crisis in the United States,',\n",
       "  'provider': [{'_type': 'Organization',\n",
       "    'name': 'YAHOO!',\n",
       "    'image': {'thumbnail': {'contentUrl': 'https://www.bing.com/th?id=AR_e1eef5681737e5676d7a09990b13411a&pid=news'}}}],\n",
       "  'datePublished': '2020-05-11T20:26:00.0000000Z'},\n",
       " {'name': \"Fed's Bostic: 'Not a big fan' of negative interest rates\",\n",
       "  'url': 'https://www.reuters.com/article/us-health-coronavirus-fed-bostic/feds-bostic-not-a-big-fan-of-negative-interest-rates-idUSKBN22N2FH',\n",
       "  'image': {'thumbnail': {'contentUrl': 'https://www.bing.com/th?id=ON.32EBF2BB7ECADFE2F30923EFFD58FD7D&pid=News',\n",
       "    'width': 700,\n",
       "    'height': 466}},\n",
       "  'description': 'Atlanta Federal Reserve bank president Raphael Bostic said he is “not a big fan” of negative interest rates. Negative rates are “among the weaker tools in the toolkit,” Bostic said in webcast remarks,',\n",
       "  'provider': [{'_type': 'Organization',\n",
       "    'name': 'Reuters',\n",
       "    'image': {'thumbnail': {'contentUrl': 'https://www.bing.com/th?id=AR_62e71bb461e92ae25d37bed673fc53b9&pid=news'}}}],\n",
       "  'datePublished': '2020-05-11T17:59:00.0000000Z'},\n",
       " {'name': 'Federal student loan interest rates could drop to lowest levels ever: Here’s why',\n",
       "  'url': 'https://www.foxbusiness.com/personal-finance/student-loan-interest-rates-treasury-auction',\n",
       "  'description': 'A bright spot for future college students amid the coronavirus crisis is that rates on student loans may fall to a record low for the coming year, which could save borrowers a lot of money throughout their lifetimes.',\n",
       "  'provider': [{'_type': 'Organization',\n",
       "    'name': 'Fox Business',\n",
       "    'image': {'thumbnail': {'contentUrl': 'https://www.bing.com/th?id=AR_7d74b3125abf621beaacbf0f43f7cee6&pid=news'}}}],\n",
       "  'datePublished': '2020-05-11T21:35:00.0000000Z',\n",
       "  'category': 'Business'},\n",
       " {'name': 'Are Negative Interest Rates in Our Future?',\n",
       "  'url': 'https://schiffgold.com/commentaries/are-negative-interest-rates-in-our-future/',\n",
       "  'image': {'thumbnail': {'contentUrl': 'https://www.bing.com/th?id=ON.752B010F4E1B47C4C82883490CB436BD&pid=News',\n",
       "    'width': 700,\n",
       "    'height': 395}},\n",
       "  'description': 'Are negative interest rates in our future? The markets are starting to think so. On Thursday, Fed fund futures contracts began pricing in negative interest rates. They were initially priced in for December but then shifted to early 2021. This doesn’t guarantee negative rates, but it does indicate markets are beginning to expect them.',\n",
       "  'provider': [{'_type': 'Organization', 'name': 'SchiffGold'}],\n",
       "  'datePublished': '2020-05-11T14:06:00.0000000Z',\n",
       "  'category': 'Business'},\n",
       " {'name': 'Steven Mnuchin: Treasury can spend more during crisis because of low interest rates',\n",
       "  'url': 'https://www.cnbc.com/video/2020/05/11/mnuchin-treasury-treasury-spending-coronavirus-interest-rates.html',\n",
       "  'image': {'thumbnail': {'contentUrl': 'https://www.bing.com/th?id=ON.4E6D9CAB7FE8CEA80EB316B5E3369ABC&pid=News',\n",
       "    'width': 700,\n",
       "    'height': 393}},\n",
       "  'description': \"Treasury Secretary Steven Mnuchin says he's comfortable spending $3 trillion to spur the economy during the Covid-19 crisis because Treasury can lock in very low interest rates.\",\n",
       "  'provider': [{'_type': 'Organization',\n",
       "    'name': 'CNBC',\n",
       "    'image': {'thumbnail': {'contentUrl': 'https://www.bing.com/th?id=AR_4efc5b36002beed4d9e08a53512d7e9e&pid=news'}}}],\n",
       "  'datePublished': '2020-05-11T14:10:00.0000000Z',\n",
       "  'category': 'Business'},\n",
       " {'name': 'Mortgage catch-22: Interest rates are lower than ever, but millions of borrowers can’t get a loan',\n",
       "  'url': 'https://www.housingwire.com/articles/mortgage-catch-22-interest-rates-are-lower-than-ever-but-millions-of-borrowers-cant-get-a-loan/',\n",
       "  'description': 'Millions of potential borrowers are facing a situation where it’s never been a better time to buy a home and never been harder to get a mortgage.',\n",
       "  'provider': [{'_type': 'Organization',\n",
       "    'name': 'HousingWire',\n",
       "    'image': {'thumbnail': {'contentUrl': 'https://www.bing.com/th?id=AR_f2527c7af3752cf217516c9f6c5a5f97&pid=news'}}}],\n",
       "  'datePublished': '2020-05-11T21:33:00.0000000Z'},\n",
       " {'name': 'Retirement Minute: interest rates and refinancing',\n",
       "  'url': 'https://www.weareiowa.com/article/entertainment/television/programs/iowa-live/retirement-minute-interest-rates-and-refinancing/524-3921013d-5889-46d4-8098-4323f93264e2',\n",
       "  'image': {'thumbnail': {'contentUrl': 'https://www.bing.com/th?id=ON.B0117CC97F7FC635DE6DAE436444364E&pid=News',\n",
       "    'width': 700,\n",
       "    'height': 393}},\n",
       "  'description': 'The Federal Reserve has lowered interest rates due to economic conditions and have pledged to keep them at zero until the economy recovers',\n",
       "  'provider': [{'_type': 'Organization',\n",
       "    'name': 'We Are Iowa',\n",
       "    'image': {'thumbnail': {'contentUrl': 'https://www.bing.com/th?id=AR_8556f9b5f307668f882905fe6c71324a&pid=news'}}}],\n",
       "  'datePublished': '2020-05-11T15:38:00.0000000Z'},\n",
       " {'name': 'POLL-Egypt central bank seen holding interest rates steady on Thursday',\n",
       "  'url': 'https://www.nasdaq.com/articles/poll-egypt-central-bank-seen-holding-interest-rates-steady-on-thursday-2020-05-11',\n",
       "  'image': {'thumbnail': {'contentUrl': 'https://www.bing.com/th?id=ON.1B2ABFF037C0E768BD81D1001284F8E2&pid=News',\n",
       "    'width': 450,\n",
       "    'height': 304}},\n",
       "  'description': 'The Central Bank of Egypt (CBE) is expected to leave its main interest rates unchanged this week, balancing a steep decline in growth caused by the coronavirus crisis with an unexpected uptick in inflation,',\n",
       "  'provider': [{'_type': 'Organization',\n",
       "    'name': 'Nasdaq',\n",
       "    'image': {'thumbnail': {'contentUrl': 'https://www.bing.com/th?id=AR_fefdf3a25667a335662ca70fc37bce11&pid=news'}}}],\n",
       "  'datePublished': '2020-05-11T17:37:00.0000000Z',\n",
       "  'category': 'Business'}]"
      ]
     },
     "execution_count": 72,
     "metadata": {},
     "output_type": "execute_result"
    }
   ],
   "source": [
    "articles['value']"
   ]
  },
  {
   "cell_type": "code",
   "execution_count": 69,
   "metadata": {},
   "outputs": [],
   "source": [
    "with open('interest_rates_articles_20200511.json', 'w') as json_file:\n",
    "    json.dump(articles, json_file)"
   ]
  },
  {
   "cell_type": "markdown",
   "metadata": {},
   "source": [
    "## Microsoft Azure Bing Search API (doesn't run)"
   ]
  },
  {
   "cell_type": "code",
   "execution_count": 66,
   "metadata": {},
   "outputs": [],
   "source": [
    "from azure.cognitiveservices.search.newssearch import NewsSearchClient\n",
    "from msrest.authentication import CognitiveServicesCredentials\n",
    "subscription_key = \"74ee33658a25473f91e3251d795c372d\"\n",
    "endpoint = \"https://api.cognitive.microsoft.com/bing/v7.0/news\"\n",
    "search_term = \"interest rates\""
   ]
  },
  {
   "cell_type": "code",
   "execution_count": 67,
   "metadata": {},
   "outputs": [],
   "source": [
    "client = NewsSearchClient(endpoint=endpoint, credentials=CognitiveServicesCredentials(subscription_key))"
   ]
  },
  {
   "cell_type": "code",
   "execution_count": 68,
   "metadata": {},
   "outputs": [
    {
     "ename": "ErrorResponseException",
     "evalue": "Operation returned an invalid status code 'Resource Not Found'",
     "output_type": "error",
     "traceback": [
      "\u001b[0;31m---------------------------------------------------------------------------\u001b[0m",
      "\u001b[0;31mErrorResponseException\u001b[0m                    Traceback (most recent call last)",
      "\u001b[0;32m<ipython-input-68-b5bfab2f93a1>\u001b[0m in \u001b[0;36m<module>\u001b[0;34m\u001b[0m\n\u001b[0;32m----> 1\u001b[0;31m \u001b[0mnews_result\u001b[0m \u001b[0;34m=\u001b[0m \u001b[0mclient\u001b[0m\u001b[0;34m.\u001b[0m\u001b[0mnews\u001b[0m\u001b[0;34m.\u001b[0m\u001b[0msearch\u001b[0m\u001b[0;34m(\u001b[0m\u001b[0mquery\u001b[0m\u001b[0;34m=\u001b[0m\u001b[0msearch_term\u001b[0m\u001b[0;34m,\u001b[0m \u001b[0mmarket\u001b[0m\u001b[0;34m=\u001b[0m\u001b[0;34m\"en-ca\"\u001b[0m\u001b[0;34m,\u001b[0m \u001b[0mcount\u001b[0m\u001b[0;34m=\u001b[0m\u001b[0;36m10\u001b[0m\u001b[0;34m)\u001b[0m\u001b[0;34m\u001b[0m\u001b[0;34m\u001b[0m\u001b[0m\n\u001b[0m",
      "\u001b[0;32m~/opt/anaconda3/lib/python3.7/site-packages/azure/cognitiveservices/search/newssearch/operations/_news_operations.py\u001b[0m in \u001b[0;36msearch\u001b[0;34m(self, query, accept_language, user_agent, client_id, client_ip, location, country_code, count, freshness, market, offset, original_image, safe_search, set_lang, sort_by, text_decorations, text_format, custom_headers, raw, **operation_config)\u001b[0m\n\u001b[1;32m    377\u001b[0m \u001b[0;34m\u001b[0m\u001b[0m\n\u001b[1;32m    378\u001b[0m         \u001b[0;32mif\u001b[0m \u001b[0mresponse\u001b[0m\u001b[0;34m.\u001b[0m\u001b[0mstatus_code\u001b[0m \u001b[0;32mnot\u001b[0m \u001b[0;32min\u001b[0m \u001b[0;34m[\u001b[0m\u001b[0;36m200\u001b[0m\u001b[0;34m]\u001b[0m\u001b[0;34m:\u001b[0m\u001b[0;34m\u001b[0m\u001b[0;34m\u001b[0m\u001b[0m\n\u001b[0;32m--> 379\u001b[0;31m             \u001b[0;32mraise\u001b[0m \u001b[0mmodels\u001b[0m\u001b[0;34m.\u001b[0m\u001b[0mErrorResponseException\u001b[0m\u001b[0;34m(\u001b[0m\u001b[0mself\u001b[0m\u001b[0;34m.\u001b[0m\u001b[0m_deserialize\u001b[0m\u001b[0;34m,\u001b[0m \u001b[0mresponse\u001b[0m\u001b[0;34m)\u001b[0m\u001b[0;34m\u001b[0m\u001b[0;34m\u001b[0m\u001b[0m\n\u001b[0m\u001b[1;32m    380\u001b[0m \u001b[0;34m\u001b[0m\u001b[0m\n\u001b[1;32m    381\u001b[0m         \u001b[0mdeserialized\u001b[0m \u001b[0;34m=\u001b[0m \u001b[0;32mNone\u001b[0m\u001b[0;34m\u001b[0m\u001b[0;34m\u001b[0m\u001b[0m\n",
      "\u001b[0;31mErrorResponseException\u001b[0m: Operation returned an invalid status code 'Resource Not Found'"
     ]
    }
   ],
   "source": [
    "news_result = client.news.search(query=search_term, market=\"en-ca\", count=10)"
   ]
  },
  {
   "cell_type": "code",
   "execution_count": null,
   "metadata": {},
   "outputs": [],
   "source": []
  }
 ],
 "metadata": {
  "kernelspec": {
   "display_name": "Python 3",
   "language": "python",
   "name": "python3"
  },
  "language_info": {
   "codemirror_mode": {
    "name": "ipython",
    "version": 3
   },
   "file_extension": ".py",
   "mimetype": "text/x-python",
   "name": "python",
   "nbconvert_exporter": "python",
   "pygments_lexer": "ipython3",
   "version": "3.7.4"
  }
 },
 "nbformat": 4,
 "nbformat_minor": 2
}
