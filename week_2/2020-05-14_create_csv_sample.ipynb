{
 "cells": [
  {
   "cell_type": "code",
   "execution_count": 1,
   "metadata": {},
   "outputs": [],
   "source": [
    "import json\n",
    "import csv\n",
    "\n",
    "def json_to_csv(filename):\n",
    "    \"\"\"creates a csv containing title and description of articles in a given JSON\"\"\"\n",
    "    ind = 0\n",
    "    title_list = []\n",
    "    desc_list = []\n",
    "    with open(filename) as f:\n",
    "        data = json.load(f)\n",
    "        for json_dict in data:\n",
    "\n",
    "            #check if valid title exists\n",
    "            if json_dict[\"title\"]:\n",
    "                title_list.append(json_dict[\"title\"])\n",
    "                desc_list.append(json_dict[\"description\"])\n",
    "                ind += 1\n",
    "\n",
    "    prefix = filename.split(\".\")[0]\n",
    "    out_filename = prefix + \"_\" + str(ind) + \"_to_annotate.csv\"\n",
    "    with open(out_filename, 'w') as myfile:\n",
    "        writer = csv.writer(myfile)\n",
    "        #wr.writerow(mylist)\n",
    "        writer.writerow([\"title\", \"description\"])\n",
    "        for i in range(len(title_list)):\n",
    "            writer.writerow([title_list[i], desc_list[i]])\n",
    "                \n",
    "                \n",
    "json_to_csv(\"employment_CBC_article.json\")"
   ]
  },
  {
   "cell_type": "code",
   "execution_count": 15,
   "metadata": {},
   "outputs": [
    {
     "name": "stdout",
     "output_type": "stream",
     "text": [
      "Mortgage arrears rate could spike to double what it was in 2009, Bank of Canada says\n",
      "Central bank says number of people falling behind on mortgages could almost quadruple\n",
      "Interest rates are plunging — so why aren't mortgage rates?\n",
      "Bond yields and central bank rates have never been lower, but not all the savings are filtering down\n",
      "Why worries about the coronavirus are pushing mortgage rates down\n",
      "Fear has pushed investors to buy up bonds, which is causing cheaper borrowing for home buyers\n",
      "U.S. Fed chair rules out negative interest rates even as Trump trumpets them\n",
      "U.S. president goes negative on Jerome Powell for rejection of below-zero interest rates\n",
      "Mortgages in arrears in Alberta hit highest rate since 2013\n",
      "Rate seen as a 'lagging indicator' of the economy, driven largely by unemployment\n",
      "'Pretty cheap money': Canadian mortgage rates falling to their lowest level in 2 years\n",
      "Fixed and variable loans have gotten cheaper because costs for lenders are down too\n",
      "Hamilton economy in 'extraordinary pain' but will see strong comeback next year: report\n",
      "Hamilton has lost roughly 8,500 jobs during the pandemic but all of them will likely return in 2021\n",
      "Housing starts up in some parts of Canada despite COVID-19\n",
      "Multi-unit housing projects remained strong in some provinces in April, CMHC says\n",
      "Federal deficit likely to be higher than $252 billion, parliamentary budget officer says\n",
      "PBO says it's possible federal debt will hit $1 trillion because of pandemic relief spending\n",
      "Time to buy? What the pandemic means for Vancouver's real estate market\n",
      "Mark Ting, On the Coast's finance columnist, on what lies ahead for buyers and sellers amid COVID-19\n",
      "Put yourself in their shoes: Let's thank the women on the front line of the pandemic\n",
      "Women are often in harm's way in this pandemic, says MUN president \n",
      "Canada lost nearly 2 million jobs in April amid COVID-19 crisis: Statistics Canada\n",
      "Statistics Canada says unemployment rate soared to 13% as full force of pandemic hit\n",
      "Ontario has now lost more than 1 million jobs during the COVID-19 pandemic\n",
      "Unemployment rate climbs to 11.3%, with a warning that many workers have simply left the job market\n",
      "Another quarter-million Albertans lost work in April as COVID-19 shutdown grips province\n",
      "Employment rate for young women cut nearly in half as pandemic hits service sector especially hard\n",
      "U.S. economy lost 20.5 million jobs in April\n",
      "Unemployment rate surged to 14.7 per cent last month\n",
      "U.S. Federal Reserve leaves rates near zero as COVID-19 savages U.S. economy\n",
      "Economists forecast sharpest downturn in U.S. history this quarter\n",
      "CMHC to take more mortgages off banks' books to free up cash for loans amid COVID-19 crisis\n",
      "Government had similar program in place during 2009 financial crisis\n",
      "Condo vacancies rise, rents fall as pandemic crushes GTA's short-term rental market\n",
      "A surge in listings, fewer renters means more competition for landlords\n",
      "Deficit reduction will have to wait for the economic recovery, federal officials say\n",
      "Federal aid programs could continue well into the recovery phase, says government official\n",
      "Tiff Macklem to lead the Bank of Canada\n",
      "Stephen Poloz’s term as governor ends in June\n",
      "Canada's big banks cut credit card interest rates to ease coronavirus impact\n",
      "Big Six will temporarily reduce credit card interest rates amid COVID-19 pandemic\n",
      "Canada's big banks cut credit card interest rates to ease coronavirus impact\n",
      "Big Six will temporarily reduce credit card interest rates amid COVID-19 pandemic\n",
      "Why high interest rates were a problem for '80s renters, too\n",
      "They didn't have mortgages, but their landlords did\n",
      "Quebec lost 264,000 jobs to COVID-19 crisis last month\n",
      "Quebec's unemployment rate rose to 8.1 per cent last month\n",
      "Changes to mortgage stress test rules good news for young home buyers, says P.E.I. broker\n",
      "Broker says wiggle room will make a difference for people carrying extra debt\n",
      "Bank of Canada holds rate steady at 0.25% and hints it has no plans to go any lower\n",
      "Bank expects economic activity to slow by as much as 30% from end of 2019\n"
     ]
    }
   ],
   "source": [
    "\n",
    "\n",
    "# with open(\"mortgage_rate.csv\", 'w') as myfile:\n",
    "#     writer = csv.writer(myfile)\n",
    "#     #wr.writerow(mylist)\n",
    "#     writer.writerow([\"title\", \"description\"])\n",
    "#     for i in range(len(title_list)):\n",
    "#         print(title_list[i])\n",
    "#         print(desc_list[i])\n",
    "        \n",
    "#         writer.writerow([title_list[i], desc_list[i]])"
   ]
  },
  {
   "cell_type": "code",
   "execution_count": null,
   "metadata": {},
   "outputs": [],
   "source": []
  }
 ],
 "metadata": {
  "kernelspec": {
   "display_name": "Python 3",
   "language": "python",
   "name": "python3"
  },
  "language_info": {
   "codemirror_mode": {
    "name": "ipython",
    "version": 3
   },
   "file_extension": ".py",
   "mimetype": "text/x-python",
   "name": "python",
   "nbconvert_exporter": "python",
   "pygments_lexer": "ipython3",
   "version": "3.7.3"
  }
 },
 "nbformat": 4,
 "nbformat_minor": 2
}
