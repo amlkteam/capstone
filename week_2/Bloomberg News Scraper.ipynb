{
 "cells": [
  {
   "cell_type": "code",
   "execution_count": 62,
   "metadata": {},
   "outputs": [],
   "source": [
    "from bs4 import BeautifulSoup\n",
    "from urllib.request import urlopen\n",
    "import requests\n",
    "import time"
   ]
  },
  {
   "cell_type": "markdown",
   "metadata": {},
   "source": [
    "### Mortgage Rates"
   ]
  },
  {
   "cell_type": "code",
   "execution_count": 65,
   "metadata": {},
   "outputs": [],
   "source": [
    "bloomberg_mortgage_rates = []\n",
    "for i in range(1,6):\n",
    "    url = f'https://capi.9c9media.com/destinations/bnn_web/platforms/desktop/contents?$inlinecount=true&$include=[Images,Desc,ShortDesc,BroadcastDate,Type,BroadcastTime,ContentPackages,Media,Keywords,Genres,Tags]&$page={i}&$top=10&$sort=BroadcastDate&$order=Desc&$search=mortgage%20rates'\n",
    "    response = requests.get(url)\n",
    "    json_data = response.json()\n",
    "    bloomberg_mortgage_rates.extend(json_data['Items'])\n",
    "    time.sleep(1)"
   ]
  },
  {
   "cell_type": "code",
   "execution_count": 66,
   "metadata": {},
   "outputs": [
    {
     "data": {
      "text/plain": [
       "50"
      ]
     },
     "execution_count": 66,
     "metadata": {},
     "output_type": "execute_result"
    }
   ],
   "source": [
    "len(bloomberg_mortgage_rates)"
   ]
  },
  {
   "cell_type": "code",
   "execution_count": 67,
   "metadata": {},
   "outputs": [
    {
     "data": {
      "text/plain": [
       "{'Id': 1932071,\n",
       " 'Name': 'Mortgage rates rise despite the Bank of Canada rate cuts: Mortgage Broker  ',\n",
       " 'Desc': \"Despite the Bank of Canada's push to lower overnight lending rates to near zero, Canada's big banks have actually been raising their mortgage rates to pad their profits.  Mortgage broker Joe Sammut weighs in. \",\n",
       " 'ShortDesc': \"Despite the Bank of Canada's push to lower overnight lending rates to near zero, Canada's big banks have actually been raising their...\",\n",
       " 'Type': 'segment',\n",
       " 'Media': {'Id': 43034,\n",
       "  'Name': 'The Open',\n",
       "  'Type': 'series',\n",
       "  'InfoUrl': None,\n",
       "  'Images': [{'Type': 'poster',\n",
       "    'Url': 'https://images2.9c9media.com/image_asset/2018_5_2_880b7661-1715-4298-b1d0-a91e1e855724_jpg_586x890.jpg',\n",
       "    'Width': 586,\n",
       "    'Height': 890},\n",
       "   {'Type': 'thumbnail',\n",
       "    'Url': 'https://images2.9c9media.com/image_asset/2018_4_29_f2081e3d-8c06-4888-b0e1-5868a0f7ef94_jpg_2000x1125.jpg',\n",
       "    'Width': 2000,\n",
       "    'Height': 1125}]},\n",
       " 'BroadcastDate': '2020-04-01',\n",
       " 'BroadcastTime': '10:20:00',\n",
       " 'Genres': [{'Id': 40, 'Name': 'Investing'},\n",
       "  {'Id': 118, 'Name': 'Personal Finance'}],\n",
       " 'Keywords': [{'Id': 63781, 'Name': 'mortgage', 'Count': 0}],\n",
       " 'Tags': [],\n",
       " 'Images': [{'Type': 'thumbnail',\n",
       "   'Url': 'https://images2.9c9media.com/image_asset/2020_4_1_664c11c6-157f-4511-a19d-ddb43a69a260_jpg_980x551.jpg',\n",
       "   'Width': 980,\n",
       "   'Height': 551},\n",
       "  {'Type': 'poster',\n",
       "   'Url': 'https://images2.9c9media.com/image_asset/2018_5_2_880b7661-1715-4298-b1d0-a91e1e855724_jpg_586x890.jpg',\n",
       "   'Width': 586,\n",
       "   'Height': 890}],\n",
       " 'ContentPackages': [{'Id': 3448470,\n",
       "   'Duration': 318.585,\n",
       "   'ScheduleStartDateTime': '2020-04-01T14:30:26Z',\n",
       "   'ScheduleEndDateTime': None}]}"
      ]
     },
     "execution_count": 67,
     "metadata": {},
     "output_type": "execute_result"
    }
   ],
   "source": [
    "bloomberg_mortgage_rates[0]"
   ]
  },
  {
   "cell_type": "code",
   "execution_count": 60,
   "metadata": {},
   "outputs": [
    {
     "data": {
      "text/plain": [
       "dict_keys(['Count', 'Items', 'ItemsType'])"
      ]
     },
     "execution_count": 60,
     "metadata": {},
     "output_type": "execute_result"
    }
   ],
   "source": [
    "json_data.keys()"
   ]
  },
  {
   "cell_type": "code",
   "execution_count": 61,
   "metadata": {},
   "outputs": [
    {
     "data": {
      "text/plain": [
       "[{'Id': 1932071,\n",
       "  'Name': 'Mortgage rates rise despite the Bank of Canada rate cuts: Mortgage Broker  ',\n",
       "  'Desc': \"Despite the Bank of Canada's push to lower overnight lending rates to near zero, Canada's big banks have actually been raising their mortgage rates to pad their profits.  Mortgage broker Joe Sammut weighs in. \",\n",
       "  'ShortDesc': \"Despite the Bank of Canada's push to lower overnight lending rates to near zero, Canada's big banks have actually been raising their...\",\n",
       "  'Type': 'segment',\n",
       "  'Media': {'Id': 43034,\n",
       "   'Name': 'The Open',\n",
       "   'Type': 'series',\n",
       "   'InfoUrl': None,\n",
       "   'Images': [{'Type': 'poster',\n",
       "     'Url': 'https://images2.9c9media.com/image_asset/2018_5_2_880b7661-1715-4298-b1d0-a91e1e855724_jpg_586x890.jpg',\n",
       "     'Width': 586,\n",
       "     'Height': 890},\n",
       "    {'Type': 'thumbnail',\n",
       "     'Url': 'https://images2.9c9media.com/image_asset/2018_4_29_f2081e3d-8c06-4888-b0e1-5868a0f7ef94_jpg_2000x1125.jpg',\n",
       "     'Width': 2000,\n",
       "     'Height': 1125}]},\n",
       "  'BroadcastDate': '2020-04-01',\n",
       "  'BroadcastTime': '10:20:00',\n",
       "  'Genres': [{'Id': 40, 'Name': 'Investing'},\n",
       "   {'Id': 118, 'Name': 'Personal Finance'}],\n",
       "  'Keywords': [{'Id': 63781, 'Name': 'mortgage', 'Count': 0}],\n",
       "  'Tags': [],\n",
       "  'Images': [{'Type': 'thumbnail',\n",
       "    'Url': 'https://images2.9c9media.com/image_asset/2020_4_1_664c11c6-157f-4511-a19d-ddb43a69a260_jpg_980x551.jpg',\n",
       "    'Width': 980,\n",
       "    'Height': 551},\n",
       "   {'Type': 'poster',\n",
       "    'Url': 'https://images2.9c9media.com/image_asset/2018_5_2_880b7661-1715-4298-b1d0-a91e1e855724_jpg_586x890.jpg',\n",
       "    'Width': 586,\n",
       "    'Height': 890}],\n",
       "  'ContentPackages': [{'Id': 3448470,\n",
       "    'Duration': 318.585,\n",
       "    'ScheduleStartDateTime': '2020-04-01T14:30:26Z',\n",
       "    'ScheduleEndDateTime': None}]},\n",
       " {'Id': 1931635,\n",
       "  'Name': \"'There's a lot of fear' about defaults, raising mortgage rates even as BoC cuts: RateSpy's McLister\",\n",
       "  'Desc': \"Mortgage rates have not been responding in lockstep with the Bank of Canada's rate cuts as the big banks become more wary of the risks of lending in the current economic environment. For more on this, BNN Bloomberg spoke with Rob McLister, founder of RateSpy.com \",\n",
       "  'ShortDesc': \"Mortgage rates have not been responding in lockstep with the Bank of Canada's rate cuts as the big banks become more wary of the risks of...\",\n",
       "  'Type': 'segment',\n",
       "  'Media': {'Id': 43033,\n",
       "   'Name': 'Bloomberg Markets',\n",
       "   'Type': 'series',\n",
       "   'InfoUrl': None,\n",
       "   'Images': [{'Type': 'thumbnail',\n",
       "     'Url': 'https://images2.9c9media.com/image_asset/2018_4_29_d382c3e3-29ef-4454-a771-09073fbce946_jpg_2000x1125.jpg',\n",
       "     'Width': 2000,\n",
       "     'Height': 1125},\n",
       "    {'Type': 'poster',\n",
       "     'Url': 'https://images2.9c9media.com/image_asset/2018_4_29_98750ea5-867c-40a2-8855-ac64d817b3cd_jpg_586x809.jpg',\n",
       "     'Width': 586,\n",
       "     'Height': 809}]},\n",
       "  'BroadcastDate': '2020-03-31',\n",
       "  'BroadcastTime': '13:40:00',\n",
       "  'Genres': [{'Id': 41, 'Name': 'Real Estate'},\n",
       "   {'Id': 118, 'Name': 'Personal Finance'}],\n",
       "  'Keywords': [{'Id': 92104, 'Name': 'Rob McLister', 'Count': 0},\n",
       "   {'Id': 106731, 'Name': 'RateSpy.com', 'Count': 0},\n",
       "   {'Id': 63603, 'Name': 'mortgages', 'Count': 0},\n",
       "   {'Id': 62408, 'Name': 'mortgage rates', 'Count': 0}],\n",
       "  'Tags': [],\n",
       "  'Images': [{'Type': 'thumbnail',\n",
       "    'Url': 'https://images2.9c9media.com/image_asset/2020_3_31_2d8b0a1c-0de1-4a1e-94b2-2e26e7fc94f4_jpg_980x551.jpg',\n",
       "    'Width': 980,\n",
       "    'Height': 551},\n",
       "   {'Type': 'poster',\n",
       "    'Url': 'https://images2.9c9media.com/image_asset/2018_4_29_98750ea5-867c-40a2-8855-ac64d817b3cd_jpg_586x809.jpg',\n",
       "    'Width': 586,\n",
       "    'Height': 809}],\n",
       "  'ContentPackages': [{'Id': 3446802,\n",
       "    'Duration': 262.129,\n",
       "    'ScheduleStartDateTime': '2020-03-31T18:10:51Z',\n",
       "    'ScheduleEndDateTime': None}]},\n",
       " {'Id': 1909407,\n",
       "  'Name': 'Five-year mortgage rates could fall 10 basis point in two to three weeks: Rates.ca',\n",
       "  'Desc': 'Global bond yields are plunging to historic lows, raising the prospects for lower mortgage rates for house-hungry Canadians. For perspective on this and why he thinks five-year rates could fall another 10 basis points in a number of weeks, BNN Bloomberg spoke with Rob McLister, mortgage editor at Rates.ca.\\n',\n",
       "  'ShortDesc': 'Global bond yields are plunging to historic lows, raising the prospects for lower mortgage rates for house-hungry Canadians. For...',\n",
       "  'Type': 'segment',\n",
       "  'Media': {'Id': 43035,\n",
       "   'Name': 'The Real Economy',\n",
       "   'Type': 'series',\n",
       "   'InfoUrl': None,\n",
       "   'Images': [{'Type': 'poster',\n",
       "     'Url': 'https://images2.9c9media.com/image_asset/2018_5_2_64da4117-7aea-47f2-a13d-31d94f36ac04_jpg_586x890.jpg',\n",
       "     'Width': 586,\n",
       "     'Height': 890},\n",
       "    {'Type': 'thumbnail',\n",
       "     'Url': 'https://images2.9c9media.com/image_asset/2018_4_29_ba2a6eda-d4f2-4da9-a410-84c353451e11_jpg_2000x1125.jpg',\n",
       "     'Width': 2000,\n",
       "     'Height': 1125}]},\n",
       "  'BroadcastDate': '2020-02-26',\n",
       "  'BroadcastTime': '14:00:00',\n",
       "  'Genres': [{'Id': 41, 'Name': 'Real Estate'}],\n",
       "  'Keywords': [{'Id': 92104, 'Name': 'Rob McLister', 'Count': 0},\n",
       "   {'Id': 106731, 'Name': 'RateSpy.com', 'Count': 0},\n",
       "   {'Id': 62408, 'Name': 'mortgage rates', 'Count': 0},\n",
       "   {'Id': 61587, 'Name': 'Real Estate', 'Count': 0},\n",
       "   {'Id': 61981, 'Name': 'housing', 'Count': 0}],\n",
       "  'Tags': [],\n",
       "  'Images': [{'Type': 'thumbnail',\n",
       "    'Url': 'https://images2.9c9media.com/image_asset/2020_2_26_415db4ff-791c-494b-9c1d-7f8c38fda482_jpg_940x529.jpg',\n",
       "    'Width': 940,\n",
       "    'Height': 529},\n",
       "   {'Type': 'poster',\n",
       "    'Url': 'https://images2.9c9media.com/image_asset/2018_5_2_64da4117-7aea-47f2-a13d-31d94f36ac04_jpg_586x890.jpg',\n",
       "    'Width': 586,\n",
       "    'Height': 890}],\n",
       "  'ContentPackages': [{'Id': 3388145,\n",
       "    'Duration': 342.976,\n",
       "    'ScheduleStartDateTime': '2020-02-26T19:17:47Z',\n",
       "    'ScheduleEndDateTime': None}]},\n",
       " {'Id': 1888246,\n",
       "  'Name': 'How worries about the new coronavirus are pushing Canadian mortgage rates lower',\n",
       "  'Desc': \"BNN Bloomberg's Greg Bonnell speaks with James Laird, co-founder of Ratehub.ca and president of CanWise Financial, about how fears surrounding the coronavirus are impacting mortgages rates here in Canada. \",\n",
       "  'ShortDesc': \"BNN Bloomberg's Greg Bonnell speaks with James Laird, co-founder of Ratehub.ca and president of CanWise Financial, about how fears...\",\n",
       "  'Type': 'segment',\n",
       "  'Media': {'Id': 43034,\n",
       "   'Name': 'The Open',\n",
       "   'Type': 'series',\n",
       "   'InfoUrl': None,\n",
       "   'Images': [{'Type': 'poster',\n",
       "     'Url': 'https://images2.9c9media.com/image_asset/2018_5_2_880b7661-1715-4298-b1d0-a91e1e855724_jpg_586x890.jpg',\n",
       "     'Width': 586,\n",
       "     'Height': 890},\n",
       "    {'Type': 'thumbnail',\n",
       "     'Url': 'https://images2.9c9media.com/image_asset/2018_4_29_f2081e3d-8c06-4888-b0e1-5868a0f7ef94_jpg_2000x1125.jpg',\n",
       "     'Width': 2000,\n",
       "     'Height': 1125}]},\n",
       "  'BroadcastDate': '2020-01-30',\n",
       "  'BroadcastTime': '10:20:00',\n",
       "  'Genres': [{'Id': 41, 'Name': 'Real Estate'}, {'Id': 34, 'Name': 'Canada'}],\n",
       "  'Keywords': [{'Id': 115572, 'Name': 'James Laird', 'Count': 0},\n",
       "   {'Id': 105921, 'Name': 'RateHub.ca', 'Count': 0},\n",
       "   {'Id': 115573, 'Name': 'CanWise Financial', 'Count': 0}],\n",
       "  'Tags': [],\n",
       "  'Images': [{'Type': 'thumbnail',\n",
       "    'Url': 'https://images2.9c9media.com/image_asset/2020_1_30_4b33171b-a530-4f77-9856-b16a3eb89cad_png_767x428.jpg',\n",
       "    'Width': 767,\n",
       "    'Height': 428},\n",
       "   {'Type': 'poster',\n",
       "    'Url': 'https://images2.9c9media.com/image_asset/2018_5_2_880b7661-1715-4298-b1d0-a91e1e855724_jpg_586x890.jpg',\n",
       "    'Width': 586,\n",
       "    'Height': 890}],\n",
       "  'ContentPackages': [{'Id': 3337033,\n",
       "    'Duration': 435.902,\n",
       "    'ScheduleStartDateTime': '2020-01-30T15:37:49Z',\n",
       "    'ScheduleEndDateTime': None}]},\n",
       " {'Id': 1844985,\n",
       "  'Name': 'Higher rates fail to materialize, keeping mortgage rates low',\n",
       "  'Desc': 'The higher rates many feared to start 2019 failed to materialize, keeping mortgage rates low. For more on this, BNN Bloomberg spoke with Rob McLister, founder of RateSpy.com.',\n",
       "  'ShortDesc': 'The higher rates many feared to start 2019 failed to materialize, keeping mortgage rates low. For more on this, BNN Bloomberg spoke with...',\n",
       "  'Type': 'segment',\n",
       "  'Media': {'Id': 43035,\n",
       "   'Name': 'The Real Economy',\n",
       "   'Type': 'series',\n",
       "   'InfoUrl': None,\n",
       "   'Images': [{'Type': 'poster',\n",
       "     'Url': 'https://images2.9c9media.com/image_asset/2018_5_2_64da4117-7aea-47f2-a13d-31d94f36ac04_jpg_586x890.jpg',\n",
       "     'Width': 586,\n",
       "     'Height': 890},\n",
       "    {'Type': 'thumbnail',\n",
       "     'Url': 'https://images2.9c9media.com/image_asset/2018_4_29_ba2a6eda-d4f2-4da9-a410-84c353451e11_jpg_2000x1125.jpg',\n",
       "     'Width': 2000,\n",
       "     'Height': 1125}]},\n",
       "  'BroadcastDate': '2019-12-02',\n",
       "  'BroadcastTime': '14:20:00',\n",
       "  'Genres': [{'Id': 41, 'Name': 'Real Estate'},\n",
       "   {'Id': 35, 'Name': 'Economics'}],\n",
       "  'Keywords': [{'Id': 92104, 'Name': 'Rob McLister', 'Count': 0},\n",
       "   {'Id': 106731, 'Name': 'RateSpy.com', 'Count': 0},\n",
       "   {'Id': 63603, 'Name': 'mortgages', 'Count': 0}],\n",
       "  'Tags': [],\n",
       "  'Images': [{'Type': 'thumbnail',\n",
       "    'Url': 'https://images2.9c9media.com/image_asset/2019_12_2_01974ce0-52b6-4334-a5d7-f9551f476e4c_jpg_980x551.jpg',\n",
       "    'Width': 980,\n",
       "    'Height': 551},\n",
       "   {'Type': 'poster',\n",
       "    'Url': 'https://images2.9c9media.com/image_asset/2018_5_2_64da4117-7aea-47f2-a13d-31d94f36ac04_jpg_586x890.jpg',\n",
       "    'Width': 586,\n",
       "    'Height': 890}],\n",
       "  'ContentPackages': [{'Id': 3217358,\n",
       "    'Duration': 308.108,\n",
       "    'ScheduleStartDateTime': '2019-12-02T19:27:15Z',\n",
       "    'ScheduleEndDateTime': None}]},\n",
       " {'Id': 1806872,\n",
       "  'Name': \"'Very questionable' politicians can make it easier to get credit: McLister\",\n",
       "  'Desc': 'The benchmark Canadian five-year yield has been surging, and the banks could be quick to respond by raising their mortgage rates. For more on this and why mortgage rates could rise as much as half a per cent, BNN Bloomberg spoke with Rob McLister, founder of RateSpy.com.',\n",
       "  'ShortDesc': 'The benchmark Canadian five-year yield has been surging, and the banks could be quick to respond by raising their mortgage rates. For...',\n",
       "  'Type': 'segment',\n",
       "  'Media': {'Id': 43035,\n",
       "   'Name': 'The Real Economy',\n",
       "   'Type': 'series',\n",
       "   'InfoUrl': None,\n",
       "   'Images': [{'Type': 'poster',\n",
       "     'Url': 'https://images2.9c9media.com/image_asset/2018_5_2_64da4117-7aea-47f2-a13d-31d94f36ac04_jpg_586x890.jpg',\n",
       "     'Width': 586,\n",
       "     'Height': 890},\n",
       "    {'Type': 'thumbnail',\n",
       "     'Url': 'https://images2.9c9media.com/image_asset/2018_4_29_ba2a6eda-d4f2-4da9-a410-84c353451e11_jpg_2000x1125.jpg',\n",
       "     'Width': 2000,\n",
       "     'Height': 1125}]},\n",
       "  'BroadcastDate': '2019-10-17',\n",
       "  'BroadcastTime': '14:20:00',\n",
       "  'Genres': [{'Id': 41, 'Name': 'Real Estate'}],\n",
       "  'Keywords': [{'Id': 92104, 'Name': 'Rob McLister', 'Count': 0},\n",
       "   {'Id': 106731, 'Name': 'RateSpy.com', 'Count': 0},\n",
       "   {'Id': 62408, 'Name': 'mortgage rates', 'Count': 0},\n",
       "   {'Id': 61587, 'Name': 'Real Estate', 'Count': 0}],\n",
       "  'Tags': [],\n",
       "  'Images': [{'Type': 'thumbnail',\n",
       "    'Url': 'https://images2.9c9media.com/image_asset/2019_10_17_ee3947d0-0ffd-4b79-9c3c-02115be0b811_jpg_940x529.jpg',\n",
       "    'Width': 940,\n",
       "    'Height': 529},\n",
       "   {'Type': 'poster',\n",
       "    'Url': 'https://images2.9c9media.com/image_asset/2018_5_2_64da4117-7aea-47f2-a13d-31d94f36ac04_jpg_586x890.jpg',\n",
       "    'Width': 586,\n",
       "    'Height': 890}],\n",
       "  'ContentPackages': [{'Id': 3103223,\n",
       "    'Duration': 389.289,\n",
       "    'ScheduleStartDateTime': '2019-10-17T18:39:19Z',\n",
       "    'ScheduleEndDateTime': None}]},\n",
       " {'Id': 1803804,\n",
       "  'Name': 'Australian Banks Face Competition Inquiry Into Mortgage Rates',\n",
       "  'Desc': 'Oct.13 -- Australia’s major lenders are facing a new investigation, this time into why they haven’t passed on the RBA’s rate cuts in full. Bloomberg’s Peter Vercoe reports on “Bloomberg Daybreak: Asia.”',\n",
       "  'ShortDesc': 'Oct.13 -- Australia’s major lenders are facing a new investigation, this time into why they haven’t passed on the RBA’s rate cuts in full...',\n",
       "  'Type': 'story',\n",
       "  'Media': {'Id': 42858,\n",
       "   'Name': 'Bloomberg Asia',\n",
       "   'Type': 'news',\n",
       "   'InfoUrl': None,\n",
       "   'Images': [{'Type': 'poster',\n",
       "     'Url': 'https://images2.9c9media.com/image_asset/2018_4_30_2b734529-931c-4b1a-8ef0-df30ceba05ae_jpg_586x809.jpg',\n",
       "     'Width': 586,\n",
       "     'Height': 809},\n",
       "    {'Type': 'thumbnail',\n",
       "     'Url': 'https://images2.9c9media.com/image_asset/2018_4_30_7cebb8f2-b36a-455a-a0b1-be01c48bb816_jpg_2000x1125.jpg',\n",
       "     'Width': 2000,\n",
       "     'Height': 1125}]},\n",
       "  'BroadcastDate': '2019-10-13',\n",
       "  'BroadcastTime': '21:14:29',\n",
       "  'Genres': [{'Id': 40, 'Name': 'Investing'}],\n",
       "  'Keywords': [{'Id': 130958, 'Name': 'Bloomberg Vid', 'Count': 0},\n",
       "   {'Id': 131154, 'Name': 'Asia TV Source', 'Count': 0},\n",
       "   {'Id': 66656, 'Name': 'business news', 'Count': 0},\n",
       "   {'Id': 130960, 'Name': 'Bloomberg.com Web Submit', 'Count': 0},\n",
       "   {'Id': 130961, 'Name': 'Audio/Video', 'Count': 0},\n",
       "   {'Id': 131155, 'Name': 'Syndication Top Asia Feed', 'Count': 0},\n",
       "   {'Id': 71174, 'Name': 'economic news', 'Count': 0},\n",
       "   {'Id': 61773, 'Name': 'banking', 'Count': 0},\n",
       "   {'Id': 61275, 'Name': 'markets', 'Count': 0},\n",
       "   {'Id': 62853, 'Name': 'monetary policy', 'Count': 0},\n",
       "   {'Id': 93157, 'Name': 'Central Bank Interest Rates', 'Count': 0},\n",
       "   {'Id': 62532, 'Name': 'Australia', 'Count': 0},\n",
       "   {'Id': 133110, 'Name': 'Loans & Financing', 'Count': 0},\n",
       "   {'Id': 70777, 'Name': 'reserve bank of australia', 'Count': 0},\n",
       "   {'Id': 130967, 'Name': 'Digi Video', 'Count': 0},\n",
       "   {'Id': 130969, 'Name': 'Multi Biz Vert', 'Count': 0},\n",
       "   {'Id': 86992, 'Name': 'industries', 'Count': 0},\n",
       "   {'Id': 131090, 'Name': 'B.com', 'Count': 0},\n",
       "   {'Id': 130970, 'Name': 'BIntent Inform', 'Count': 0},\n",
       "   {'Id': 131161, 'Name': 'Daybreak Asia', 'Count': 0},\n",
       "   {'Id': 130983, 'Name': 'Bloomberg News Staff', 'Count': 0},\n",
       "   {'Id': 61980, 'Name': 'banks', 'Count': 0},\n",
       "   {'Id': 69331, 'Name': 'loans', 'Count': 0},\n",
       "   {'Id': 63603, 'Name': 'mortgages', 'Count': 0},\n",
       "   {'Id': 62196, 'Name': 'interest rates', 'Count': 0},\n",
       "   {'Id': 68272, 'Name': 'rate cut', 'Count': 0},\n",
       "   {'Id': 146560, 'Name': 'Peter Vercoe', 'Count': 0},\n",
       "   {'Id': 140877, 'Name': 'Haidi Stroud-Watts', 'Count': 0},\n",
       "   {'Id': 133363, 'Name': 'inquiry', 'Count': 0},\n",
       "   {'Id': 131052, 'Name': 'Shery Ahn', 'Count': 0}],\n",
       "  'Tags': [],\n",
       "  'Images': [{'Type': 'thumbnail',\n",
       "    'Url': 'https://images2.9c9media.com/image_asset/2019_10_13_60b9f771-8a98-4d24-9a87-b4fe7ea51142_jpg_640x360.jpg',\n",
       "    'Width': 640,\n",
       "    'Height': 360},\n",
       "   {'Type': 'poster',\n",
       "    'Url': 'https://images2.9c9media.com/image_asset/2018_4_30_2b734529-931c-4b1a-8ef0-df30ceba05ae_jpg_586x809.jpg',\n",
       "    'Width': 586,\n",
       "    'Height': 809}],\n",
       "  'ContentPackages': [{'Id': 3090095,\n",
       "    'Duration': 106.139,\n",
       "    'ScheduleStartDateTime': '2019-10-14T01:14:29Z',\n",
       "    'ScheduleEndDateTime': None}]},\n",
       " {'Id': 1757551,\n",
       "  'Name': 'Denmark mortgage rates go negative, unlikely Canada would ever follow: RateSpy',\n",
       "  'Desc': \"Prospective homeowners in Denmark can now secure a negative rate mortgage, as central banks go deeper into negative territory. For perspective on this and why he doesn't think Canada will ever follow, BNN Bloomberg spoke with Robert McLister, founder of RateSpy.com.\",\n",
       "  'ShortDesc': 'Prospective homeowners in Denmark can now secure a negative rate mortgage, as central banks go deeper into negative territory. For...',\n",
       "  'Type': 'segment',\n",
       "  'Media': {'Id': 43035,\n",
       "   'Name': 'The Real Economy',\n",
       "   'Type': 'series',\n",
       "   'InfoUrl': None,\n",
       "   'Images': [{'Type': 'poster',\n",
       "     'Url': 'https://images2.9c9media.com/image_asset/2018_5_2_64da4117-7aea-47f2-a13d-31d94f36ac04_jpg_586x890.jpg',\n",
       "     'Width': 586,\n",
       "     'Height': 890},\n",
       "    {'Type': 'thumbnail',\n",
       "     'Url': 'https://images2.9c9media.com/image_asset/2018_4_29_ba2a6eda-d4f2-4da9-a410-84c353451e11_jpg_2000x1125.jpg',\n",
       "     'Width': 2000,\n",
       "     'Height': 1125}]},\n",
       "  'BroadcastDate': '2019-08-19',\n",
       "  'BroadcastTime': '14:20:00',\n",
       "  'Genres': [{'Id': 41, 'Name': 'Real Estate'}],\n",
       "  'Keywords': [{'Id': 157127, 'Name': ' Robert McLister', 'Count': 0},\n",
       "   {'Id': 106731, 'Name': 'RateSpy.com', 'Count': 0},\n",
       "   {'Id': 61587, 'Name': 'Real Estate', 'Count': 0},\n",
       "   {'Id': 63603, 'Name': 'mortgages', 'Count': 0},\n",
       "   {'Id': 63235, 'Name': 'Denmark', 'Count': 0}],\n",
       "  'Tags': [],\n",
       "  'Images': [{'Type': 'thumbnail',\n",
       "    'Url': 'https://images2.9c9media.com/image_asset/2019_8_19_77a13eec-aa82-4765-95a1-2961d321bed6_JPG_840x469.jpg',\n",
       "    'Width': 840,\n",
       "    'Height': 469},\n",
       "   {'Type': 'poster',\n",
       "    'Url': 'https://images2.9c9media.com/image_asset/2018_5_2_64da4117-7aea-47f2-a13d-31d94f36ac04_jpg_586x890.jpg',\n",
       "    'Width': 586,\n",
       "    'Height': 890}],\n",
       "  'ContentPackages': [{'Id': 2981643,\n",
       "    'Duration': 441.241,\n",
       "    'ScheduleStartDateTime': '2019-08-19T19:28:17Z',\n",
       "    'ScheduleEndDateTime': None}]},\n",
       " {'Id': 1755172,\n",
       "  'Name': 'Mortgage market flips as 5-year fixed falls below variable',\n",
       "  'Desc': 'Gyrations in the bond market are turning the mortgage market upside down, with five-year fixed rates falling below the variable. For more on this, BNN Bloomberg speaks with James Laird, co-founder of Ratehub.ca',\n",
       "  'ShortDesc': 'Gyrations in the bond market are turning the mortgage market upside down, with five-year fixed rates falling below the variable. For more...',\n",
       "  'Type': 'segment',\n",
       "  'Media': {'Id': 43035,\n",
       "   'Name': 'The Real Economy',\n",
       "   'Type': 'series',\n",
       "   'InfoUrl': None,\n",
       "   'Images': [{'Type': 'poster',\n",
       "     'Url': 'https://images2.9c9media.com/image_asset/2018_5_2_64da4117-7aea-47f2-a13d-31d94f36ac04_jpg_586x890.jpg',\n",
       "     'Width': 586,\n",
       "     'Height': 890},\n",
       "    {'Type': 'thumbnail',\n",
       "     'Url': 'https://images2.9c9media.com/image_asset/2018_4_29_ba2a6eda-d4f2-4da9-a410-84c353451e11_jpg_2000x1125.jpg',\n",
       "     'Width': 2000,\n",
       "     'Height': 1125}]},\n",
       "  'BroadcastDate': '2019-08-15',\n",
       "  'BroadcastTime': '14:20:00',\n",
       "  'Genres': [{'Id': 41, 'Name': 'Real Estate'},\n",
       "   {'Id': 118, 'Name': 'Personal Finance'}],\n",
       "  'Keywords': [{'Id': 115572, 'Name': 'James Laird', 'Count': 0},\n",
       "   {'Id': 105922, 'Name': 'RateHub', 'Count': 0},\n",
       "   {'Id': 62408, 'Name': 'mortgage rates', 'Count': 0},\n",
       "   {'Id': 63603, 'Name': 'mortgages', 'Count': 0},\n",
       "   {'Id': 61981, 'Name': 'housing', 'Count': 0}],\n",
       "  'Tags': [],\n",
       "  'Images': [{'Type': 'thumbnail',\n",
       "    'Url': 'https://images2.9c9media.com/image_asset/2019_8_15_486942b2-8246-4353-97b5-f17011301272_jpg_620x349.jpg',\n",
       "    'Width': 620,\n",
       "    'Height': 349},\n",
       "   {'Type': 'poster',\n",
       "    'Url': 'https://images2.9c9media.com/image_asset/2018_5_2_64da4117-7aea-47f2-a13d-31d94f36ac04_jpg_586x890.jpg',\n",
       "    'Width': 586,\n",
       "    'Height': 890}],\n",
       "  'ContentPackages': [{'Id': 2974131,\n",
       "    'Duration': 345.512,\n",
       "    'ScheduleStartDateTime': '2019-08-15T19:19:40Z',\n",
       "    'ScheduleEndDateTime': None}]},\n",
       " {'Id': 1709394,\n",
       "  'Name': 'No Bank of Canada rate cut until mid-2020: Economist',\n",
       "  'Desc': 'David Doyle, North American economist and Canadian market strategist at Macquarie Group, says economic conditions will allow the Bank of Canada to defy conventional wisdom in moving on interest rates and not be quick to follow the Federal Reserve. Doyle expects two cuts from the Fed this year, but says the  Bank of Canada will likely not cut until the middle of 2020.',\n",
       "  'ShortDesc': 'David Doyle, North American economist and Canadian market strategist at Macquarie Group, says economic conditions will allow the Bank of...',\n",
       "  'Type': 'segment',\n",
       "  'Media': {'Id': 43034,\n",
       "   'Name': 'The Open',\n",
       "   'Type': 'series',\n",
       "   'InfoUrl': None,\n",
       "   'Images': [{'Type': 'poster',\n",
       "     'Url': 'https://images2.9c9media.com/image_asset/2018_5_2_880b7661-1715-4298-b1d0-a91e1e855724_jpg_586x890.jpg',\n",
       "     'Width': 586,\n",
       "     'Height': 890},\n",
       "    {'Type': 'thumbnail',\n",
       "     'Url': 'https://images2.9c9media.com/image_asset/2018_4_29_f2081e3d-8c06-4888-b0e1-5868a0f7ef94_jpg_2000x1125.jpg',\n",
       "     'Width': 2000,\n",
       "     'Height': 1125}]},\n",
       "  'BroadcastDate': '2019-06-17',\n",
       "  'BroadcastTime': '10:20:00',\n",
       "  'Genres': [{'Id': 35, 'Name': 'Economics'}],\n",
       "  'Keywords': [{'Id': 63849, 'Name': 'david doyle', 'Count': 0},\n",
       "   {'Id': 62196, 'Name': 'interest rates', 'Count': 0},\n",
       "   {'Id': 62408, 'Name': 'mortgage rates', 'Count': 0},\n",
       "   {'Id': 61757, 'Name': 'Bank of Canada', 'Count': 0},\n",
       "   {'Id': 61402, 'Name': 'federal reserve', 'Count': 0},\n",
       "   {'Id': 61981, 'Name': 'housing', 'Count': 0}],\n",
       "  'Tags': [],\n",
       "  'Images': [{'Type': 'thumbnail',\n",
       "    'Url': 'https://images2.9c9media.com/image_asset/2019_6_17_c2e23097-97f9-4b5f-9d94-da479632372e_jpg_940x529.jpg',\n",
       "    'Width': 940,\n",
       "    'Height': 529},\n",
       "   {'Type': 'poster',\n",
       "    'Url': 'https://images2.9c9media.com/image_asset/2018_5_2_880b7661-1715-4298-b1d0-a91e1e855724_jpg_586x890.jpg',\n",
       "    'Width': 586,\n",
       "    'Height': 890}],\n",
       "  'ContentPackages': [{'Id': 2794097,\n",
       "    'Duration': 414.247,\n",
       "    'ScheduleStartDateTime': '2019-06-17T14:37:30Z',\n",
       "    'ScheduleEndDateTime': None}]}]"
      ]
     },
     "execution_count": 61,
     "metadata": {},
     "output_type": "execute_result"
    }
   ],
   "source": [
    "json_data['Items']"
   ]
  },
  {
   "cell_type": "markdown",
   "metadata": {},
   "source": [
    "### Interest Rates"
   ]
  },
  {
   "cell_type": "code",
   "execution_count": 68,
   "metadata": {},
   "outputs": [],
   "source": [
    "bloomberg_interest_rates = []\n",
    "for i in range(1,6):\n",
    "    url = f'https://capi.9c9media.com/destinations/bnn_web/platforms/desktop/contents?$inlinecount=true&$include=[Images,Desc,ShortDesc,BroadcastDate,Type,BroadcastTime,ContentPackages,Media,Keywords,Genres,Tags]&$page={i}&$top=10&$sort=BroadcastDate&$order=Desc&$search=interest%20rates'\n",
    "    response = requests.get(url)\n",
    "    json_data = response.json()\n",
    "    bloomberg_interest_rates.extend(json_data['Items'])\n",
    "    time.sleep(1)\n"
   ]
  },
  {
   "cell_type": "code",
   "execution_count": 71,
   "metadata": {},
   "outputs": [
    {
     "data": {
      "text/plain": [
       "{'Id': 1909896,\n",
       " 'Name': 'Market expecting further U.S. Fed rate cuts',\n",
       " 'Desc': 'The latest reading of U.S. economic growth shows some softness in consumer spending.  Fears are also growing over the economic impact of the coronavirus. Jay Bryson, managing director & acting chief economist, Wells Fargo Securities, says the bond market is currently pricing in Fed rates of 50 basis points.\\n',\n",
       " 'ShortDesc': 'The latest reading of U.S. economic growth shows some softness in consumer spending.  Fears are also growing over the economic impact of...',\n",
       " 'Type': 'segment',\n",
       " 'Media': {'Id': 43034,\n",
       "  'Name': 'The Open',\n",
       "  'Type': 'series',\n",
       "  'InfoUrl': None,\n",
       "  'Images': [{'Type': 'thumbnail',\n",
       "    'Url': 'https://images2.9c9media.com/image_asset/2018_4_29_f2081e3d-8c06-4888-b0e1-5868a0f7ef94_jpg_2000x1125.jpg',\n",
       "    'Width': 2000,\n",
       "    'Height': 1125},\n",
       "   {'Type': 'poster',\n",
       "    'Url': 'https://images2.9c9media.com/image_asset/2018_5_2_880b7661-1715-4298-b1d0-a91e1e855724_jpg_586x890.jpg',\n",
       "    'Width': 586,\n",
       "    'Height': 890}]},\n",
       " 'BroadcastDate': '2020-02-27',\n",
       " 'BroadcastTime': '08:48:11',\n",
       " 'Genres': [{'Id': 35, 'Name': 'Economics'},\n",
       "  {'Id': 39, 'Name': 'International'}],\n",
       " 'Keywords': [{'Id': 83638, 'Name': 'Jay Bryson', 'Count': 0},\n",
       "  {'Id': 61402, 'Name': 'federal reserve', 'Count': 0},\n",
       "  {'Id': 62196, 'Name': 'interest rates', 'Count': 0},\n",
       "  {'Id': 61420, 'Name': 'u.s. economy', 'Count': 0},\n",
       "  {'Id': 61496, 'Name': 'china', 'Count': 0},\n",
       "  {'Id': 172400, 'Name': 'coronavirus', 'Count': 0}],\n",
       " 'Tags': [{'Id': 47665, 'Name': 'Jay Bryson'},\n",
       "  {'Id': 1598, 'Name': 'Federal Reserve'},\n",
       "  {'Id': 4664, 'Name': 'interest rates'},\n",
       "  {'Id': 4649, 'Name': 'U.S. economy'},\n",
       "  {'Id': 3580, 'Name': 'China'},\n",
       "  {'Id': 46730, 'Name': 'coronavirus'}],\n",
       " 'Images': [{'Type': 'thumbnail',\n",
       "   'Url': 'https://images2.9c9media.com/image_asset/2020_2_27_130b0c84-2e10-4f0b-991c-3d4eee033c66_png_963x545.jpg',\n",
       "   'Width': 963,\n",
       "   'Height': 545},\n",
       "  {'Type': 'poster',\n",
       "   'Url': 'https://images2.9c9media.com/image_asset/2018_5_2_880b7661-1715-4298-b1d0-a91e1e855724_jpg_586x890.jpg',\n",
       "   'Width': 586,\n",
       "   'Height': 890}],\n",
       " 'ContentPackages': [{'Id': 3389593,\n",
       "   'Duration': 508.675,\n",
       "   'ScheduleStartDateTime': '2020-02-27T13:48:11Z',\n",
       "   'ScheduleEndDateTime': None}]}"
      ]
     },
     "execution_count": 71,
     "metadata": {},
     "output_type": "execute_result"
    }
   ],
   "source": [
    "bloomberg_interest_rates[-1]"
   ]
  },
  {
   "cell_type": "markdown",
   "metadata": {},
   "source": [
    "### Housing Price"
   ]
  },
  {
   "cell_type": "code",
   "execution_count": 74,
   "metadata": {},
   "outputs": [],
   "source": [
    "bloomberg_housing_price = []\n",
    "for i in range(1,11):\n",
    "    url = f'https://capi.9c9media.com/destinations/bnn_web/platforms/desktop/contents?$inlinecount=true&$include=[Images,Desc,ShortDesc,BroadcastDate,Type,BroadcastTime,ContentPackages,Media,Keywords,Genres,Tags]&$page={i}&$top=10&$sort=BroadcastDate&$order=Desc&$search=housing%20price'\n",
    "    response = requests.get(url)\n",
    "    json_data = response.json()\n",
    "    bloomberg_housing_price.extend(json_data['Items'])\n",
    "    time.sleep(1)"
   ]
  },
  {
   "cell_type": "code",
   "execution_count": 78,
   "metadata": {},
   "outputs": [
    {
     "data": {
      "text/plain": [
       "{'Id': 399540,\n",
       " 'Name': \"Average housing prices rise in Canada's major cities\",\n",
       " 'Desc': 'BNN speaks with Gregory Klump, Chief Economist, Canadian Real Estate Association.',\n",
       " 'ShortDesc': 'BNN speaks with Gregory Klump, Chief Economist, Canadian Real Estate Association.',\n",
       " 'Type': 'segment',\n",
       " 'Media': {'Id': 29865,\n",
       "  'Name': 'Business Day PM',\n",
       "  'Type': 'series',\n",
       "  'InfoUrl': None,\n",
       "  'Images': [{'Type': 'thumbnail',\n",
       "    'Url': 'https://images2.9c9media.com/image_asset/2014_4_23_a7346820-ad4a-0131-d90a-34b52f6f1279_png_2000x1125.jpg',\n",
       "    'Width': 2000,\n",
       "    'Height': 1125},\n",
       "   {'Type': 'poster',\n",
       "    'Url': 'https://images2.9c9media.com/image_asset/2018_4_30_2b734529-931c-4b1a-8ef0-df30ceba05ae_jpg_586x809.jpg',\n",
       "    'Width': 586,\n",
       "    'Height': 809}]},\n",
       " 'BroadcastDate': '2014-07-15',\n",
       " 'BroadcastTime': '14:25:16',\n",
       " 'Genres': [{'Id': 35, 'Name': 'Economics'},\n",
       "  {'Id': 41, 'Name': 'Real Estate'},\n",
       "  {'Id': 34, 'Name': 'Canada'}],\n",
       " 'Keywords': [{'Id': 61981, 'Name': 'housing', 'Count': 0},\n",
       "  {'Id': 63054, 'Name': 'prices', 'Count': 0},\n",
       "  {'Id': 65016, 'Name': 'Calgary', 'Count': 0},\n",
       "  {'Id': 81159, 'Name': 'Greater Toronto', 'Count': 0},\n",
       "  {'Id': 81160, 'Name': 'Greater Vancouver', 'Count': 0},\n",
       "  {'Id': 63616, 'Name': 'Condo', 'Count': 0}],\n",
       " 'Tags': [],\n",
       " 'Images': [{'Type': 'thumbnail',\n",
       "   'Url': 'https://images2.9c9media.com/image_asset/2014_7_15_a7be6a80-ee7e-0131-6a2c-10604ba4c9b1_jpg_940x528.jpg',\n",
       "   'Width': 940,\n",
       "   'Height': 528},\n",
       "  {'Type': 'poster',\n",
       "   'Url': 'https://images2.9c9media.com/image_asset/2018_4_30_2b734529-931c-4b1a-8ef0-df30ceba05ae_jpg_586x809.jpg',\n",
       "   'Width': 586,\n",
       "   'Height': 809}],\n",
       " 'ContentPackages': [{'Id': 371122,\n",
       "   'Duration': 307.874,\n",
       "   'ScheduleStartDateTime': '2014-07-15T18:46:25Z',\n",
       "   'ScheduleEndDateTime': '2113-06-21T18:46:25Z'}]}"
      ]
     },
     "execution_count": 78,
     "metadata": {},
     "output_type": "execute_result"
    }
   ],
   "source": [
    "bloomberg_housing_price[-1]"
   ]
  },
  {
   "cell_type": "markdown",
   "metadata": {},
   "source": [
    "### Employment"
   ]
  },
  {
   "cell_type": "code",
   "execution_count": 81,
   "metadata": {},
   "outputs": [],
   "source": [
    "bloomberg_employment = []\n",
    "for i in range(1,6):\n",
    "    url = f'https://capi.9c9media.com/destinations/bnn_web/platforms/desktop/contents?$inlinecount=true&$include=[Images,Desc,ShortDesc,BroadcastDate,Type,BroadcastTime,ContentPackages,Media,Keywords,Genres,Tags]&$page={i}&$top=10&$sort=BroadcastDate&$order=Desc&$search=employment'\n",
    "    response = requests.get(url)\n",
    "    json_data = response.json()\n",
    "    bloomberg_employment.extend(json_data['Items'])\n",
    "    time.sleep(1)"
   ]
  },
  {
   "cell_type": "code",
   "execution_count": 82,
   "metadata": {},
   "outputs": [
    {
     "data": {
      "text/plain": [
       "50"
      ]
     },
     "execution_count": 82,
     "metadata": {},
     "output_type": "execute_result"
    }
   ],
   "source": [
    "len(bloomberg_employment)"
   ]
  },
  {
   "cell_type": "markdown",
   "metadata": {},
   "source": [
    "### GDP"
   ]
  },
  {
   "cell_type": "code",
   "execution_count": 85,
   "metadata": {},
   "outputs": [],
   "source": [
    "bloomberg_gdp = []\n",
    "for i in range(1,6):\n",
    "    url = f'https://capi.9c9media.com/destinations/bnn_web/platforms/desktop/contents?$inlinecount=true&$include=[Images,Desc,ShortDesc,BroadcastDate,Type,BroadcastTime,ContentPackages,Media,Keywords,Genres,Tags]&$page={i}&$top=10&$sort=BroadcastDate&$order=Desc&$search=GDP'\n",
    "    response = requests.get(url)\n",
    "    json_data = response.json()\n",
    "    bloomberg_gdp.extend(json_data['Items'])\n",
    "    time.sleep(1)"
   ]
  },
  {
   "cell_type": "code",
   "execution_count": 86,
   "metadata": {},
   "outputs": [
    {
     "data": {
      "text/plain": [
       "50"
      ]
     },
     "execution_count": 86,
     "metadata": {},
     "output_type": "execute_result"
    }
   ],
   "source": [
    "len(bloomberg_employment)"
   ]
  },
  {
   "cell_type": "markdown",
   "metadata": {},
   "source": [
    "### Stock Market"
   ]
  },
  {
   "cell_type": "code",
   "execution_count": 87,
   "metadata": {},
   "outputs": [],
   "source": [
    "bloomberg_stock_market = []\n",
    "for i in range(1,6):\n",
    "    url = f'https://capi.9c9media.com/destinations/bnn_web/platforms/desktop/contents?$inlinecount=true&$include=[Images,Desc,ShortDesc,BroadcastDate,Type,BroadcastTime,ContentPackages,Media,Keywords,Genres,Tags]&$page={i}&$top=10&$sort=BroadcastDate&$order=Desc&$search=stock%20market'\n",
    "    response = requests.get(url)\n",
    "    json_data = response.json()\n",
    "    bloomberg_stock_market.extend(json_data['Items'])\n",
    "    time.sleep(1)"
   ]
  },
  {
   "cell_type": "code",
   "execution_count": 88,
   "metadata": {},
   "outputs": [
    {
     "data": {
      "text/plain": [
       "50"
      ]
     },
     "execution_count": 88,
     "metadata": {},
     "output_type": "execute_result"
    }
   ],
   "source": [
    "len(bloomberg_stock_market)"
   ]
  }
 ],
 "metadata": {
  "kernelspec": {
   "display_name": "Python 3",
   "language": "python",
   "name": "python3"
  },
  "language_info": {
   "codemirror_mode": {
    "name": "ipython",
    "version": 3
   },
   "file_extension": ".py",
   "mimetype": "text/x-python",
   "name": "python",
   "nbconvert_exporter": "python",
   "pygments_lexer": "ipython3",
   "version": "3.7.4"
  }
 },
 "nbformat": 4,
 "nbformat_minor": 2
}
