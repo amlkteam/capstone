{
 "cells": [
  {
   "cell_type": "markdown",
   "metadata": {},
   "source": [
    "Bloomberg video news scraping code.\n",
    "Aaron Tian\n",
    "\n",
    "Most recent update: May 13, 3:15 PM\n",
    "Wrote a function to conduct web scraping, user only need to input the searching keyword and the number of articles required. \n",
    "\n",
    "Drawbacks: As discussed on May 12, we use the video tab to search old news from Bloomberg, so the content is a video clip and there is no real content in the final output file(no \"author\" as well). The other issue is that there is no \"url\" field available. However, the most important text information on the webpage is already included in the \"title\" and \"description\" fields. If we only need these two fields to conduct sentiment analysis, then we already have enough information to use.  \n",
    "\n",
    "To Do:\n",
    "Amy discovered an API called Ajax that could be used to scrape news in articles from Bloomberg. I will look into that. "
   ]
  },
  {
   "cell_type": "code",
   "execution_count": 24,
   "metadata": {},
   "outputs": [],
   "source": [
    "from bs4 import BeautifulSoup\n",
    "from urllib.request import urlopen\n",
    "import requests\n",
    "import time\n",
    "import json"
   ]
  },
  {
   "cell_type": "markdown",
   "metadata": {},
   "source": [
    "### Bloomberg Video News Scraper"
   ]
  },
  {
   "cell_type": "code",
   "execution_count": 37,
   "metadata": {},
   "outputs": [],
   "source": [
    "def bnn_videonews_scraper(query, total_num):\n",
    "    '''\n",
    "    Srape the video news from BNN Bloomberg website with a search query, and required number of articles.\n",
    "    Return a json file containing the returned articles\n",
    "    \n",
    "    input:\n",
    "    \n",
    "    query: (str) search keyword\n",
    "    total_num: (int) number of articles requested by the user\n",
    "    '''\n",
    "    output_list = []\n",
    "    query = query.split()\n",
    "    search_query = '%20'.join(query)\n",
    "        \n",
    "    if total_num %10 != 0:\n",
    "        print(\"Please enter a number that is the multiple of 10.\")\n",
    "        return\n",
    "    search_page = total_num // 10\n",
    "    \n",
    "    \n",
    "    news_list = []\n",
    "    for i in range(1,search_page+1):\n",
    "        url = f'https://capi.9c9media.com/destinations/bnn_web/platforms/desktop/contents?$inlinecount=true&$include=[Images,Desc,ShortDesc,BroadcastDate,Type,BroadcastTime,ContentPackages,Media,Keywords,Genres,Tags]&$page={i}&$top=10&$sort=BroadcastDate&$order=Desc&$search={search_query}'\n",
    "        response = requests.get(url)\n",
    "        json_data = response.json()\n",
    "        news_list.extend(json_data['Items'])\n",
    "        time.sleep(1)\n",
    "    \n",
    "    for article in news_list:\n",
    "        article_dict = {}\n",
    "        \n",
    "        article_dict['source'] = 'Bloomberg'\n",
    "        article_dict['author'] = None\n",
    "        article_dict['title'] = article.get('Name', None)\n",
    "        article_dict['description'] = article.get('Desc', None)\n",
    "        article_dict['url'] = None\n",
    "        article_dict['urlToImage'] = article['Images'][0].get('Url', None)\n",
    "        article_dict['PublishedAt'] = article.get('BroadcastDate', None)\n",
    "        article_dict['content'] = None\n",
    "        \n",
    "        output_list.append(article_dict)\n",
    "        \n",
    "    if len(output_list) < total_num:\n",
    "        print(f\"The number of articles that related to searching searching query is less than {total_num}, please try another query.\")\n",
    "        \n",
    "    with open('_'.join(query) + '_' + str(len(output_list)) + '_' +'Bloomberg_video' + '.json', 'w') as json_file:\n",
    "        json.dump(output_list, json_file)\n",
    "        \n",
    "    \n",
    "    \n",
    "    return output_list"
   ]
  },
  {
   "cell_type": "markdown",
   "metadata": {},
   "source": [
    "### Mortgage Rates"
   ]
  },
  {
   "cell_type": "code",
   "execution_count": 28,
   "metadata": {},
   "outputs": [],
   "source": [
    "# bloomberg_mortgage_rates = []\n",
    "# for i in range(1,6):\n",
    "#     url = f'https://capi.9c9media.com/destinations/bnn_web/platforms/desktop/contents?$inlinecount=true&$include=[Images,Desc,ShortDesc,BroadcastDate,Type,BroadcastTime,ContentPackages,Media,Keywords,Genres,Tags]&$page={i}&$top=10&$sort=BroadcastDate&$order=Desc&$search=mortgage%20rates'\n",
    "#     response = requests.get(url)\n",
    "#     json_data = response.json()\n",
    "#     bloomberg_mortgage_rates.extend(json_data['Items'])\n",
    "#     time.sleep(1)"
   ]
  },
  {
   "cell_type": "code",
   "execution_count": 29,
   "metadata": {},
   "outputs": [],
   "source": [
    "bloomberg_mortgage_rates = bnn_videonews_scraper('mortgage rates', 50)"
   ]
  },
  {
   "cell_type": "code",
   "execution_count": 30,
   "metadata": {},
   "outputs": [],
   "source": [
    "assert(len(bloomberg_mortgage_rates) == 50)"
   ]
  },
  {
   "cell_type": "markdown",
   "metadata": {},
   "source": [
    "### Interest Rates"
   ]
  },
  {
   "cell_type": "code",
   "execution_count": 68,
   "metadata": {},
   "outputs": [],
   "source": [
    "# bloomberg_interest_rates = []\n",
    "# for i in range(1,6):\n",
    "#     url = f'https://capi.9c9media.com/destinations/bnn_web/platforms/desktop/contents?$inlinecount=true&$include=[Images,Desc,ShortDesc,BroadcastDate,Type,BroadcastTime,ContentPackages,Media,Keywords,Genres,Tags]&$page={i}&$top=10&$sort=BroadcastDate&$order=Desc&$search=interest%20rates'\n",
    "#     response = requests.get(url)\n",
    "#     json_data = response.json()\n",
    "#     bloomberg_interest_rates.extend(json_data['Items'])\n",
    "#     time.sleep(1)"
   ]
  },
  {
   "cell_type": "code",
   "execution_count": 31,
   "metadata": {},
   "outputs": [],
   "source": [
    "bloomberg_interest_rates = bnn_videonews_scraper('interest rates', 50)"
   ]
  },
  {
   "cell_type": "code",
   "execution_count": 32,
   "metadata": {},
   "outputs": [],
   "source": [
    "assert(len(bloomberg_interest_rates) == 50)"
   ]
  },
  {
   "cell_type": "markdown",
   "metadata": {},
   "source": [
    "### Housing Price"
   ]
  },
  {
   "cell_type": "code",
   "execution_count": 74,
   "metadata": {},
   "outputs": [],
   "source": [
    "# bloomberg_housing_price = []\n",
    "# for i in range(1,11):\n",
    "#     url = f'https://capi.9c9media.com/destinations/bnn_web/platforms/desktop/contents?$inlinecount=true&$include=[Images,Desc,ShortDesc,BroadcastDate,Type,BroadcastTime,ContentPackages,Media,Keywords,Genres,Tags]&$page={i}&$top=10&$sort=BroadcastDate&$order=Desc&$search=housing%20price'\n",
    "#     response = requests.get(url)\n",
    "#     json_data = response.json()\n",
    "#     bloomberg_housing_price.extend(json_data['Items'])\n",
    "#     time.sleep(1)"
   ]
  },
  {
   "cell_type": "code",
   "execution_count": 38,
   "metadata": {},
   "outputs": [
    {
     "name": "stdout",
     "output_type": "stream",
     "text": [
      "The number of articles that related to searching searching query is less than 50, please try another query.\n"
     ]
    }
   ],
   "source": [
    "bloomberg_housing_price = bnn_videonews_scraper('housing price', 50)"
   ]
  },
  {
   "cell_type": "code",
   "execution_count": 41,
   "metadata": {},
   "outputs": [],
   "source": [
    "bloomberg_housing = bnn_videonews_scraper('housing', 50)"
   ]
  },
  {
   "cell_type": "code",
   "execution_count": 42,
   "metadata": {},
   "outputs": [],
   "source": [
    "assert(len(bloomberg_housing) == 50)"
   ]
  },
  {
   "cell_type": "markdown",
   "metadata": {},
   "source": [
    "### Employment"
   ]
  },
  {
   "cell_type": "code",
   "execution_count": 81,
   "metadata": {},
   "outputs": [],
   "source": [
    "# bloomberg_employment = []\n",
    "# for i in range(1,6):\n",
    "#     url = f'https://capi.9c9media.com/destinations/bnn_web/platforms/desktop/contents?$inlinecount=true&$include=[Images,Desc,ShortDesc,BroadcastDate,Type,BroadcastTime,ContentPackages,Media,Keywords,Genres,Tags]&$page={i}&$top=10&$sort=BroadcastDate&$order=Desc&$search=employment'\n",
    "#     response = requests.get(url)\n",
    "#     json_data = response.json()\n",
    "#     bloomberg_employment.extend(json_data['Items'])\n",
    "#     time.sleep(1)"
   ]
  },
  {
   "cell_type": "code",
   "execution_count": 48,
   "metadata": {},
   "outputs": [],
   "source": [
    "bloomberg_employment = bnn_videonews_scraper('employment', 50)"
   ]
  },
  {
   "cell_type": "code",
   "execution_count": 49,
   "metadata": {},
   "outputs": [],
   "source": [
    "assert(len(bloomberg_employment) == 50)"
   ]
  },
  {
   "cell_type": "markdown",
   "metadata": {},
   "source": [
    "### GDP"
   ]
  },
  {
   "cell_type": "code",
   "execution_count": 85,
   "metadata": {},
   "outputs": [],
   "source": [
    "# bloomberg_gdp = []\n",
    "# for i in range(1,6):\n",
    "#     url = f'https://capi.9c9media.com/destinations/bnn_web/platforms/desktop/contents?$inlinecount=true&$include=[Images,Desc,ShortDesc,BroadcastDate,Type,BroadcastTime,ContentPackages,Media,Keywords,Genres,Tags]&$page={i}&$top=10&$sort=BroadcastDate&$order=Desc&$search=GDP'\n",
    "#     response = requests.get(url)\n",
    "#     json_data = response.json()\n",
    "#     bloomberg_gdp.extend(json_data['Items'])\n",
    "    time.sleep(1)"
   ]
  },
  {
   "cell_type": "code",
   "execution_count": 46,
   "metadata": {},
   "outputs": [],
   "source": [
    "bloomberg_gdp = bnn_videonews_scraper('GDP', 50)"
   ]
  },
  {
   "cell_type": "code",
   "execution_count": 47,
   "metadata": {},
   "outputs": [],
   "source": [
    "assert(len(bloomberg_gdp) == 50)"
   ]
  },
  {
   "cell_type": "markdown",
   "metadata": {},
   "source": [
    "### Stock Market"
   ]
  },
  {
   "cell_type": "code",
   "execution_count": 87,
   "metadata": {},
   "outputs": [],
   "source": [
    "# bloomberg_stock_market = []\n",
    "# for i in range(1,6):\n",
    "#     url = f'https://capi.9c9media.com/destinations/bnn_web/platforms/desktop/contents?$inlinecount=true&$include=[Images,Desc,ShortDesc,BroadcastDate,Type,BroadcastTime,ContentPackages,Media,Keywords,Genres,Tags]&$page={i}&$top=10&$sort=BroadcastDate&$order=Desc&$search=stock%20market'\n",
    "#     response = requests.get(url)\n",
    "#     json_data = response.json()\n",
    "#     bloomberg_stock_market.extend(json_data['Items'])\n",
    "#     time.sleep(1)"
   ]
  },
  {
   "cell_type": "code",
   "execution_count": 50,
   "metadata": {},
   "outputs": [],
   "source": [
    "bloomberg_stock_market = bnn_videonews_scraper('stock market', 50)"
   ]
  },
  {
   "cell_type": "code",
   "execution_count": 51,
   "metadata": {},
   "outputs": [],
   "source": [
    "assert(len(bloomberg_stock_market) == 50)"
   ]
  }
 ],
 "metadata": {
  "kernelspec": {
   "display_name": "Python 3",
   "language": "python",
   "name": "python3"
  },
  "language_info": {
   "codemirror_mode": {
    "name": "ipython",
    "version": 3
   },
   "file_extension": ".py",
   "mimetype": "text/x-python",
   "name": "python",
   "nbconvert_exporter": "python",
   "pygments_lexer": "ipython3",
   "version": "3.7.4"
  }
 },
 "nbformat": 4,
 "nbformat_minor": 2
}
